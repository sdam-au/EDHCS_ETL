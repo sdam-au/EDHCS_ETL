{
 "cells": [
  {
   "cell_type": "code",
   "execution_count": null,
   "outputs": [],
   "source": [
    "import geopandas as gpd"
   ],
   "metadata": {
    "collapsed": false
   }
  },
  {
   "cell_type": "code",
   "execution_count": null,
   "outputs": [],
   "source": [
    "LIST = gpd.read_parquet(\"../data/large_data/LIST_v0-4.parquet\")"
   ],
   "metadata": {
    "collapsed": false
   }
  },
  {
   "cell_type": "code",
   "execution_count": null,
   "outputs": [],
   "source": [
    "(LIST[\"not_before\"] <= LIST[\"not_after\"]).sum()"
   ],
   "metadata": {
    "collapsed": false
   }
  },
  {
   "cell_type": "code",
   "execution_count": null,
   "outputs": [],
   "source": [
    "not_before = 300\n",
    "not_after = 400\n",
    "(not_after>=-50) & (not_before<=350)"
   ],
   "metadata": {
    "collapsed": false
   }
  },
  {
   "cell_type": "code",
   "execution_count": null,
   "outputs": [],
   "source": [
    "#LIRE = gpd.read_parquet(\"../data/large_data/LIRE_v2-2.parquet\")"
   ],
   "metadata": {
    "collapsed": false
   }
  },
  {
   "cell_type": "code",
   "execution_count": null,
   "outputs": [],
   "source": [
    "LIRE = LIST[\n",
    "    (LIST[\"geotemporal?\"])\n",
    "    & (LIST[\"withinRE?\"])\n",
    "    & ((LIST[\"not_after\"]>=-50)\n",
    "       & (LIST[\"not_before\"]<=350))]"
   ],
   "metadata": {
    "collapsed": false
   }
  },
  {
   "cell_type": "code",
   "execution_count": null,
   "outputs": [],
   "source": [
    "LIRE.drop(columns=[\"withinRE?\"], inplace=True)"
   ],
   "metadata": {
    "collapsed": false
   }
  },
  {
   "cell_type": "markdown",
   "source": [
    "# Make an overview"
   ],
   "metadata": {
    "collapsed": false
   }
  },
  {
   "cell_type": "code",
   "execution_count": 21,
   "outputs": [],
   "source": [
    "def int_to_str(number): #fucntion authored by chatGPT...\n",
    "    number_str = str(number)\n",
    "    comma_position = len(str(number)) % 3\n",
    "    result = number_str[:comma_position]\n",
    "    while comma_position < len(number_str):\n",
    "        if result:\n",
    "            result += \",\"\n",
    "        result += number_str[comma_position:comma_position + 3]\n",
    "        comma_position += 3\n",
    "    return result"
   ],
   "metadata": {
    "collapsed": false,
    "ExecuteTime": {
     "end_time": "2023-05-24T13:34:01.456670Z",
     "start_time": "2023-05-24T13:34:01.438045Z"
    }
   }
  },
  {
   "cell_type": "code",
   "execution_count": 22,
   "outputs": [
    {
     "data": {
      "text/plain": "'182,852'"
     },
     "execution_count": 22,
     "metadata": {},
     "output_type": "execute_result"
    }
   ],
   "source": [
    "lire_len = int_to_str(len(LIRE))\n",
    "lire_len"
   ],
   "metadata": {
    "collapsed": false,
    "ExecuteTime": {
     "end_time": "2023-05-24T13:34:04.918589Z",
     "start_time": "2023-05-24T13:34:04.908187Z"
    }
   }
  },
  {
   "cell_type": "code",
   "execution_count": 23,
   "outputs": [
    {
     "data": {
      "text/plain": "'65'"
     },
     "execution_count": 23,
     "metadata": {},
     "output_type": "execute_result"
    }
   ],
   "source": [
    "attr_N = str(LIRE.shape[1])\n",
    "attr_N"
   ],
   "metadata": {
    "collapsed": false,
    "ExecuteTime": {
     "end_time": "2023-05-24T13:34:10.558622Z",
     "start_time": "2023-05-24T13:34:10.538598Z"
    }
   }
  },
  {
   "cell_type": "code",
   "execution_count": 24,
   "outputs": [
    {
     "data": {
      "text/plain": "'59,374'"
     },
     "execution_count": 24,
     "metadata": {},
     "output_type": "execute_result"
    }
   ],
   "source": [
    "both_len = int_to_str(((LIRE[\"EDCS-ID\"].notnull()) & (LIRE[\"EDH-ID\"].notnull())).sum())\n",
    "both_len"
   ],
   "metadata": {
    "collapsed": false,
    "ExecuteTime": {
     "end_time": "2023-05-24T13:34:14.402540Z",
     "start_time": "2023-05-24T13:34:14.372140Z"
    }
   }
  },
  {
   "cell_type": "code",
   "execution_count": 25,
   "outputs": [
    {
     "data": {
      "text/plain": "'121,234'"
     },
     "execution_count": 25,
     "metadata": {},
     "output_type": "execute_result"
    }
   ],
   "source": [
    "edcs_solely_len = int_to_str(LIRE[\"EDH-ID\"].isnull().sum())\n",
    "edcs_solely_len"
   ],
   "metadata": {
    "collapsed": false,
    "ExecuteTime": {
     "end_time": "2023-05-24T13:34:18.480240Z",
     "start_time": "2023-05-24T13:34:18.468685Z"
    }
   }
  },
  {
   "cell_type": "code",
   "execution_count": 26,
   "outputs": [
    {
     "data": {
      "text/plain": "'2,244'"
     },
     "execution_count": 26,
     "metadata": {},
     "output_type": "execute_result"
    }
   ],
   "source": [
    "edh_solely_len = int_to_str(((LIRE[\"EDCS-ID\"].isnull()) & (LIRE[\"EDH-ID\"].notnull())).sum())\n",
    "edh_solely_len"
   ],
   "metadata": {
    "collapsed": false,
    "ExecuteTime": {
     "end_time": "2023-05-24T13:34:21.623574Z",
     "start_time": "2023-05-24T13:34:21.601759Z"
    }
   }
  },
  {
   "cell_type": "code",
   "execution_count": 29,
   "outputs": [
    {
     "data": {
      "text/plain": "'In this version, the dataset consists of 182,852 records and 65 attributes. There are 59,374 inscriptions shared by EDH and EDCS, inheriting attributes from both parent collections. Further, there are 2,244 inscriptions recorded exclusively in EDH and 121,234 inscriptions originating solely from EDCS. In cases in which an inscription is available only in one dataset, it contains attributes only from that one dataset.'"
     },
     "execution_count": 29,
     "metadata": {},
     "output_type": "execute_result"
    }
   ],
   "source": [
    "\"In this version, the dataset consists of {0} records and {1} attributes. There are {2} inscriptions shared by EDH and EDCS, inheriting attributes from both parent collections. Further, there are {3} inscriptions recorded exclusively in EDH and {4} inscriptions originating solely from EDCS. In cases in which an inscription is available only in one dataset, it contains attributes only from that one dataset.\".format(lire_len, attr_N, both_len, edh_solely_len, edcs_solely_len)"
   ],
   "metadata": {
    "collapsed": false,
    "ExecuteTime": {
     "end_time": "2023-05-24T13:35:29.232195Z",
     "start_time": "2023-05-24T13:35:29.214976Z"
    }
   }
  },
  {
   "cell_type": "markdown",
   "source": [
    "# Save the data"
   ],
   "metadata": {
    "collapsed": false
   }
  },
  {
   "cell_type": "code",
   "execution_count": null,
   "outputs": [],
   "source": [
    "LIRE.to_parquet(\"../data/large_data/LIRE_v2-2.parquet\")"
   ],
   "metadata": {
    "collapsed": false
   }
  },
  {
   "cell_type": "code",
   "execution_count": null,
   "outputs": [],
   "source": [
    "LIRE.to_file(\"../data/large_data/LIRE_v2-2.geojson\", driver=\"GeoJSON\")"
   ],
   "metadata": {
    "collapsed": false
   }
  }
 ],
 "metadata": {
  "kernelspec": {
   "name": "conda_base",
   "language": "python",
   "display_name": "conda_base"
  },
  "language_info": {
   "codemirror_mode": {
    "name": "ipython",
    "version": 2
   },
   "file_extension": ".py",
   "mimetype": "text/x-python",
   "name": "python",
   "nbconvert_exporter": "python",
   "pygments_lexer": "ipython2",
   "version": "2.7.6"
  }
 },
 "nbformat": 4,
 "nbformat_minor": 0
}
