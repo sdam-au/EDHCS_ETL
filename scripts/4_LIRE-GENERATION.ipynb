{
 "cells": [
  {
   "cell_type": "code",
   "execution_count": 1,
   "metadata": {
    "collapsed": true,
    "ExecuteTime": {
     "start_time": "2023-04-27T10:40:21.494029Z",
     "end_time": "2023-04-27T10:40:22.735840Z"
    }
   },
   "outputs": [],
   "source": [
    "import geopandas as gpd\n",
    "import tempun\n",
    "import matplotlib.pyplot as plt\n",
    "import pickle"
   ]
  },
  {
   "cell_type": "code",
   "execution_count": 2,
   "outputs": [],
   "source": [
    "LIST = gpd.read_parquet(\"../data/large_data/LIST_v0-4.parquet\")"
   ],
   "metadata": {
    "collapsed": false,
    "ExecuteTime": {
     "start_time": "2023-04-27T10:40:22.719498Z",
     "end_time": "2023-04-27T10:40:30.879685Z"
    }
   }
  },
  {
   "cell_type": "code",
   "execution_count": 3,
   "outputs": [
    {
     "data": {
      "text/plain": "206421"
     },
     "execution_count": 3,
     "metadata": {},
     "output_type": "execute_result"
    }
   ],
   "source": [
    "(LIST[\"not_before\"] <= LIST[\"not_after\"]).sum()"
   ],
   "metadata": {
    "collapsed": false,
    "ExecuteTime": {
     "start_time": "2023-04-27T10:40:30.880363Z",
     "end_time": "2023-04-27T10:40:30.885669Z"
    }
   }
  },
  {
   "cell_type": "code",
   "execution_count": 4,
   "outputs": [],
   "source": [
    "LIRE = LIST[\n",
    "    (LIST[\"geotemporal?\"])\n",
    "    & (LIST[\"withinRE?\"])\n",
    "    & ((LIST[\"not_after\"]<=350)\n",
    "    | (LIST[\"not_before\"]>=-50))]"
   ],
   "metadata": {
    "collapsed": false,
    "ExecuteTime": {
     "start_time": "2023-04-27T10:40:30.886959Z",
     "end_time": "2023-04-27T10:40:30.995494Z"
    }
   }
  },
  {
   "cell_type": "code",
   "execution_count": 5,
   "outputs": [
    {
     "data": {
      "text/plain": "203466"
     },
     "execution_count": 5,
     "metadata": {},
     "output_type": "execute_result"
    }
   ],
   "source": [
    "len(LIRE)"
   ],
   "metadata": {
    "collapsed": false,
    "ExecuteTime": {
     "start_time": "2023-04-27T10:40:30.996758Z",
     "end_time": "2023-04-27T10:40:30.999186Z"
    }
   }
  },
  {
   "cell_type": "code",
   "execution_count": 9,
   "outputs": [
    {
     "name": "stdout",
     "output_type": "stream",
     "text": [
      "62365\n"
     ]
    }
   ],
   "source": [
    "print(((LIRE[\"EDCS-ID\"].notnull()) & (LIRE[\"EDH-ID\"].notnull())).sum())"
   ],
   "metadata": {
    "collapsed": false,
    "ExecuteTime": {
     "start_time": "2023-04-27T10:42:46.488457Z",
     "end_time": "2023-04-27T10:42:46.506573Z"
    }
   }
  },
  {
   "cell_type": "code",
   "execution_count": 6,
   "outputs": [
    {
     "name": "stdout",
     "output_type": "stream",
     "text": [
      "138597\n",
      "64869\n"
     ]
    }
   ],
   "source": [
    "print(LIRE[\"EDH-ID\"].isnull().sum())\n",
    "print(LIRE[\"EDH-ID\"].notnull().sum())\n"
   ],
   "metadata": {
    "collapsed": false,
    "ExecuteTime": {
     "start_time": "2023-04-27T10:40:31.004404Z",
     "end_time": "2023-04-27T10:40:31.009798Z"
    }
   }
  },
  {
   "cell_type": "code",
   "execution_count": 8,
   "outputs": [
    {
     "name": "stdout",
     "output_type": "stream",
     "text": [
      "2504\n"
     ]
    }
   ],
   "source": [
    "print(((LIRE[\"EDCS-ID\"].isnull()) & (LIRE[\"EDH-ID\"].notnull())).sum())\n"
   ],
   "metadata": {
    "collapsed": false,
    "ExecuteTime": {
     "start_time": "2023-04-27T10:41:24.907231Z",
     "end_time": "2023-04-27T10:41:24.934991Z"
    }
   }
  },
  {
   "cell_type": "code",
   "execution_count": 9,
   "outputs": [
    {
     "name": "stderr",
     "output_type": "stream",
     "text": [
      "/var/folders/zg/zvg9y3rs7j527jxfq9sc2xqc0000gn/T/ipykernel_30377/2295483491.py:1: SettingWithCopyWarning: \n",
      "A value is trying to be set on a copy of a slice from a DataFrame\n",
      "\n",
      "See the caveats in the documentation: https://pandas.pydata.org/pandas-docs/stable/user_guide/indexing.html#returning-a-view-versus-a-copy\n",
      "  LIRE.drop(columns=[\"withinRE?\"], inplace=True)\n"
     ]
    }
   ],
   "source": [
    "LIRE.drop(columns=[\"withinRE?\"], inplace=True)"
   ],
   "metadata": {
    "collapsed": false,
    "ExecuteTime": {
     "start_time": "2023-04-27T09:30:26.223968Z",
     "end_time": "2023-04-27T09:30:26.266500Z"
    }
   }
  },
  {
   "cell_type": "code",
   "execution_count": 11,
   "outputs": [],
   "source": [
    "LIRE.to_parquet(\"../data/large_data/LIRE_v2-1.parquet\")"
   ],
   "metadata": {
    "collapsed": false,
    "ExecuteTime": {
     "start_time": "2023-04-27T09:41:30.221052Z",
     "end_time": "2023-04-27T09:41:34.684233Z"
    }
   }
  },
  {
   "cell_type": "code",
   "execution_count": 10,
   "outputs": [],
   "source": [
    "LIRE.to_file(\"../data/large_data/LIRE_v2-1.geojson\", driver=\"GeoJSON\")"
   ],
   "metadata": {
    "collapsed": false,
    "ExecuteTime": {
     "start_time": "2023-04-27T09:30:44.705023Z",
     "end_time": "2023-04-27T09:31:43.522060Z"
    }
   }
  },
  {
   "cell_type": "code",
   "execution_count": null,
   "outputs": [],
   "source": [],
   "metadata": {
    "collapsed": false
   }
  }
 ],
 "metadata": {
  "kernelspec": {
   "name": "lire_venv",
   "language": "python",
   "display_name": "lire_venv"
  },
  "language_info": {
   "codemirror_mode": {
    "name": "ipython",
    "version": 2
   },
   "file_extension": ".py",
   "mimetype": "text/x-python",
   "name": "python",
   "nbconvert_exporter": "python",
   "pygments_lexer": "ipython2",
   "version": "2.7.6"
  }
 },
 "nbformat": 4,
 "nbformat_minor": 0
}
