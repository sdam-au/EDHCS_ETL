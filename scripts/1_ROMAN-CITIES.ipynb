{
 "cells": [
  {
   "cell_type": "code",
   "execution_count": 50,
   "metadata": {
    "colab": {
     "base_uri": "https://localhost:8080/",
     "height": 85
    },
    "colab_type": "code",
    "executionInfo": {
     "elapsed": 5127,
     "status": "ok",
     "timestamp": 1581677348158,
     "user": {
      "displayName": "Vojtěch Kaše",
      "photoUrl": "https://lh3.googleusercontent.com/a-/AAuE7mAxTlnyE78QMWq7qNrhY8cMOVti0SJqAGwQEptYkQ=s64",
      "userId": "01399835024022498543"
     },
     "user_tz": -60
    },
    "id": "W39MCAZjTr24",
    "outputId": "629464e2-d4d8-466d-f65f-1bc917efde2c"
   },
   "outputs": [],
   "source": [
    "### GENERAL REQUIREMENTS - will install the libraries\n",
    "\n",
    "import pandas as pd\n",
    "import numpy as np\n",
    "import math\n",
    "import nltk\n",
    "import requests\n",
    "import re\n",
    "import json\n",
    "import io\n",
    "import time # to avoid errors, we sometime use time.sleep(N) before retrying a request\n",
    "import datetime as dt\n",
    "import warnings\n",
    "warnings.filterwarnings('ignore')\n",
    "\n",
    "import matplotlib as mpl\n",
    "import matplotlib.pyplot as plt\n",
    "import matplotlib.colors as mcolors\n",
    "import matplotlib.lines as mlines\n",
    "from matplotlib.patches import Patch\n",
    "\n",
    "import seaborn as sns\n",
    "\n",
    "from sklearn.feature_extraction.text import CountVectorizer\n",
    "from gensim import corpora\n",
    "\n",
    "import gspread\n",
    "from gspread_dataframe import get_as_dataframe, set_with_dataframe\n",
    "from google.oauth2 import service_account # based on google-auth library\n",
    "\n",
    "import sddk"
   ]
  },
  {
   "cell_type": "code",
   "execution_count": 2,
   "metadata": {
    "colab": {
     "base_uri": "https://localhost:8080/",
     "height": 85
    },
    "colab_type": "code",
    "executionInfo": {
     "elapsed": 51231,
     "status": "ok",
     "timestamp": 1581677418403,
     "user": {
      "displayName": "Vojtěch Kaše",
      "photoUrl": "https://lh3.googleusercontent.com/a-/AAuE7mAxTlnyE78QMWq7qNrhY8cMOVti0SJqAGwQEptYkQ=s64",
      "userId": "01399835024022498543"
     },
     "user_tz": -60
    },
    "id": "fiMTi0naT8no",
    "outputId": "7c2650f4-5b60-4851-e2b9-4e2ff40931d1"
   },
   "outputs": [
    {
     "name": "stdout",
     "output_type": "stream",
     "text": [
      "sciencedata.dk username (format '123456@au.dk'): 648597@au.dk\n",
      "sciencedata.dk password: ········\n",
      "connection with shared folder established with you as its owner\n",
      "endpoint variable has been configured to: https://sciencedata.dk/files/SDAM_root/\n"
     ]
    }
   ],
   "source": [
    "### configure session and groupurl\n",
    "### in the case of \"SDAM_root\", the folder owner is Vojtech with username 648597@au.dk\n",
    "conf = sddk.configure_session_and_url(\"SDAM_root\", \"648597@au.dk\")"
   ]
  },
  {
   "cell_type": "markdown",
   "metadata": {
    "colab_type": "text",
    "id": "p2ALT5bRkYpW"
   },
   "source": [
    "# Roman Cities - Hanson (from online CSV) - merging\n",
    "Feel free to skip to next section\n",
    "\n"
   ]
  },
  {
   "cell_type": "code",
   "execution_count": 3,
   "metadata": {
    "colab": {
     "base_uri": "https://localhost:8080/",
     "height": 193
    },
    "colab_type": "code",
    "executionInfo": {
     "elapsed": 2215,
     "status": "ok",
     "timestamp": 1581686057158,
     "user": {
      "displayName": "Vojtěch Kaše",
      "photoUrl": "https://lh3.googleusercontent.com/a-/AAuE7mAxTlnyE78QMWq7qNrhY8cMOVti0SJqAGwQEptYkQ=s64",
      "userId": "01399835024022498543"
     },
     "user_tz": -60
    },
    "id": "hoHIXM6abG9c",
    "outputId": "6773b4ee-a4c4-46d0-99a0-3be3ced0eeb0"
   },
   "outputs": [
    {
     "data": {
      "text/html": [
       "<div>\n",
       "<style scoped>\n",
       "    .dataframe tbody tr th:only-of-type {\n",
       "        vertical-align: middle;\n",
       "    }\n",
       "\n",
       "    .dataframe tbody tr th {\n",
       "        vertical-align: top;\n",
       "    }\n",
       "\n",
       "    .dataframe thead th {\n",
       "        text-align: right;\n",
       "    }\n",
       "</style>\n",
       "<table border=\"1\" class=\"dataframe\">\n",
       "  <thead>\n",
       "    <tr style=\"text-align: right;\">\n",
       "      <th></th>\n",
       "      <th>Primary Key</th>\n",
       "      <th>Ancient Toponym</th>\n",
       "      <th>Modern Toponym</th>\n",
       "      <th>Province</th>\n",
       "      <th>Country</th>\n",
       "      <th>Barrington Atlas Rank</th>\n",
       "      <th>Barrington Atlas Reference</th>\n",
       "      <th>Start Date</th>\n",
       "      <th>End Date</th>\n",
       "      <th>Longitude (X)</th>\n",
       "      <th>Latitude (Y)</th>\n",
       "      <th>Select Bibliography</th>\n",
       "    </tr>\n",
       "  </thead>\n",
       "  <tbody>\n",
       "    <tr>\n",
       "      <th>0</th>\n",
       "      <td>Hanson2016_1</td>\n",
       "      <td>Abae</td>\n",
       "      <td>Kalapodi</td>\n",
       "      <td>Achaea</td>\n",
       "      <td>Greece</td>\n",
       "      <td>4 or 5</td>\n",
       "      <td>55 D3</td>\n",
       "      <td>-600</td>\n",
       "      <td>NaN</td>\n",
       "      <td>22.933333</td>\n",
       "      <td>38.583333</td>\n",
       "      <td>BNP; Hansen 2006; Hansen and Nielsen 2004; PEC...</td>\n",
       "    </tr>\n",
       "    <tr>\n",
       "      <th>1</th>\n",
       "      <td>Hanson2016_2</td>\n",
       "      <td>Acharnae</td>\n",
       "      <td>Acharnes</td>\n",
       "      <td>Achaea</td>\n",
       "      <td>Greece</td>\n",
       "      <td>3</td>\n",
       "      <td>59 B2</td>\n",
       "      <td>-600</td>\n",
       "      <td>NaN</td>\n",
       "      <td>23.734088</td>\n",
       "      <td>38.083473</td>\n",
       "      <td>BNP; DGRG; PECS; Sear 2006.</td>\n",
       "    </tr>\n",
       "    <tr>\n",
       "      <th>2</th>\n",
       "      <td>Hanson2016_3</td>\n",
       "      <td>Acraephia</td>\n",
       "      <td>Akraifnio</td>\n",
       "      <td>Achaea</td>\n",
       "      <td>Greece</td>\n",
       "      <td>3</td>\n",
       "      <td>55 E4</td>\n",
       "      <td>-600</td>\n",
       "      <td>NaN</td>\n",
       "      <td>23.219702</td>\n",
       "      <td>38.452606</td>\n",
       "      <td>BNP; DGRG; Hansen and Nielsen 2004; PECS; Sear...</td>\n",
       "    </tr>\n",
       "  </tbody>\n",
       "</table>\n",
       "</div>"
      ],
      "text/plain": [
       "    Primary Key Ancient Toponym Modern Toponym Province Country  \\\n",
       "0  Hanson2016_1            Abae       Kalapodi   Achaea  Greece   \n",
       "1  Hanson2016_2        Acharnae       Acharnes   Achaea  Greece   \n",
       "2  Hanson2016_3       Acraephia      Akraifnio   Achaea  Greece   \n",
       "\n",
       "  Barrington Atlas Rank Barrington Atlas Reference  Start Date  End Date  \\\n",
       "0                4 or 5                      55 D3        -600       NaN   \n",
       "1                     3                      59 B2        -600       NaN   \n",
       "2                     3                      55 E4        -600       NaN   \n",
       "\n",
       "   Longitude (X)  Latitude (Y)  \\\n",
       "0      22.933333     38.583333   \n",
       "1      23.734088     38.083473   \n",
       "2      23.219702     38.452606   \n",
       "\n",
       "                                 Select Bibliography  \n",
       "0  BNP; Hansen 2006; Hansen and Nielsen 2004; PEC...  \n",
       "1                        BNP; DGRG; PECS; Sear 2006.  \n",
       "2  BNP; DGRG; Hansen and Nielsen 2004; PECS; Sear...  "
      ]
     },
     "execution_count": 3,
     "metadata": {},
     "output_type": "execute_result"
    }
   ],
   "source": [
    "### ROMAN CITIES AS A DATAFRAME\n",
    "url = \"http://oxrep.classics.ox.ac.uk/oxrep/docs/Hanson2016/Hanson2016_Cities_OxREP.csv\"\n",
    "response = requests.get(url).text\n",
    "file_object = io.StringIO(response)\n",
    "cities_raw = pd.read_csv(file_object)\n",
    "cities_raw.head(3) "
   ]
  },
  {
   "cell_type": "code",
   "execution_count": 4,
   "metadata": {
    "colab": {
     "base_uri": "https://localhost:8080/",
     "height": 142
    },
    "colab_type": "code",
    "executionInfo": {
     "elapsed": 17911,
     "status": "ok",
     "timestamp": 1581497929374,
     "user": {
      "displayName": "Vojtěch Kaše",
      "photoUrl": "https://lh3.googleusercontent.com/a-/AAuE7mAxTlnyE78QMWq7qNrhY8cMOVti0SJqAGwQEptYkQ=s64",
      "userId": "01399835024022498543"
     },
     "user_tz": -60
    },
    "id": "7c-MY61ojL9g",
    "outputId": "99ac758a-0e58-4389-e7be-26dcf4052040"
   },
   "outputs": [
    {
     "data": {
      "text/html": [
       "<div>\n",
       "<style scoped>\n",
       "    .dataframe tbody tr th:only-of-type {\n",
       "        vertical-align: middle;\n",
       "    }\n",
       "\n",
       "    .dataframe tbody tr th {\n",
       "        vertical-align: top;\n",
       "    }\n",
       "\n",
       "    .dataframe thead th {\n",
       "        text-align: right;\n",
       "    }\n",
       "</style>\n",
       "<table border=\"1\" class=\"dataframe\">\n",
       "  <thead>\n",
       "    <tr style=\"text-align: right;\">\n",
       "      <th></th>\n",
       "      <th>Primary Key</th>\n",
       "      <th>Area</th>\n",
       "      <th>Estimate Basis</th>\n",
       "    </tr>\n",
       "  </thead>\n",
       "  <tbody>\n",
       "    <tr>\n",
       "      <th>0</th>\n",
       "      <td>Hanson2016_1</td>\n",
       "      <td>16</td>\n",
       "      <td>Walls</td>\n",
       "    </tr>\n",
       "    <tr>\n",
       "      <th>1</th>\n",
       "      <td>Hanson2016_4</td>\n",
       "      <td>52</td>\n",
       "      <td>Inhabited area</td>\n",
       "    </tr>\n",
       "    <tr>\n",
       "      <th>2</th>\n",
       "      <td>Hanson2016_7</td>\n",
       "      <td>130</td>\n",
       "      <td>Walls</td>\n",
       "    </tr>\n",
       "  </tbody>\n",
       "</table>\n",
       "</div>"
      ],
      "text/plain": [
       "    Primary Key  Area  Estimate Basis\n",
       "0  Hanson2016_1    16           Walls\n",
       "1  Hanson2016_4    52  Inhabited area\n",
       "2  Hanson2016_7   130           Walls"
      ]
     },
     "execution_count": 4,
     "metadata": {},
     "output_type": "execute_result"
    }
   ],
   "source": [
    "cities_area = pd.read_csv(io.StringIO(requests.get(\"http://oxrep.classics.ox.ac.uk/oxrep/docs/Hanson2016/Hanson2016_Areas_OxREP.csv\").text))\n",
    "cities_area.head(3)"
   ]
  },
  {
   "cell_type": "code",
   "execution_count": 5,
   "metadata": {
    "colab": {
     "base_uri": "https://localhost:8080/",
     "height": 34
    },
    "colab_type": "code",
    "executionInfo": {
     "elapsed": 16106,
     "status": "ok",
     "timestamp": 1581497929376,
     "user": {
      "displayName": "Vojtěch Kaše",
      "photoUrl": "https://lh3.googleusercontent.com/a-/AAuE7mAxTlnyE78QMWq7qNrhY8cMOVti0SJqAGwQEptYkQ=s64",
      "userId": "01399835024022498543"
     },
     "user_tz": -60
    },
    "id": "lAmUaYECm7eh",
    "outputId": "a206e2e5-bdd8-445f-f622-7e6c77ef6512"
   },
   "outputs": [
    {
     "data": {
      "text/plain": [
       "885"
      ]
     },
     "execution_count": 5,
     "metadata": {},
     "output_type": "execute_result"
    }
   ],
   "source": [
    "len(cities_area)"
   ]
  },
  {
   "cell_type": "code",
   "execution_count": 6,
   "metadata": {
    "colab": {
     "base_uri": "https://localhost:8080/",
     "height": 142
    },
    "colab_type": "code",
    "executionInfo": {
     "elapsed": 1869,
     "status": "ok",
     "timestamp": 1581498066252,
     "user": {
      "displayName": "Vojtěch Kaše",
      "photoUrl": "https://lh3.googleusercontent.com/a-/AAuE7mAxTlnyE78QMWq7qNrhY8cMOVti0SJqAGwQEptYkQ=s64",
      "userId": "01399835024022498543"
     },
     "user_tz": -60
    },
    "id": "35gjoD0jjkI_",
    "outputId": "b1eea256-1a4f-4e64-b666-06eca57b3b78"
   },
   "outputs": [
    {
     "data": {
      "text/html": [
       "<div>\n",
       "<style scoped>\n",
       "    .dataframe tbody tr th:only-of-type {\n",
       "        vertical-align: middle;\n",
       "    }\n",
       "\n",
       "    .dataframe tbody tr th {\n",
       "        vertical-align: top;\n",
       "    }\n",
       "\n",
       "    .dataframe thead th {\n",
       "        text-align: right;\n",
       "    }\n",
       "</style>\n",
       "<table border=\"1\" class=\"dataframe\">\n",
       "  <thead>\n",
       "    <tr style=\"text-align: right;\">\n",
       "      <th></th>\n",
       "      <th>Primary Key</th>\n",
       "      <th>Civic Status</th>\n",
       "      <th>Notes</th>\n",
       "    </tr>\n",
       "  </thead>\n",
       "  <tbody>\n",
       "    <tr>\n",
       "      <th>0</th>\n",
       "      <td>Hanson2016_1</td>\n",
       "      <td>Rights and privileges</td>\n",
       "      <td>libera</td>\n",
       "    </tr>\n",
       "    <tr>\n",
       "      <th>1</th>\n",
       "      <td>Hanson2016_4</td>\n",
       "      <td>Rights and privileges</td>\n",
       "      <td>libera</td>\n",
       "    </tr>\n",
       "    <tr>\n",
       "      <th>2</th>\n",
       "      <td>Hanson2016_8</td>\n",
       "      <td>Rights and privileges</td>\n",
       "      <td>libera et immunis</td>\n",
       "    </tr>\n",
       "  </tbody>\n",
       "</table>\n",
       "</div>"
      ],
      "text/plain": [
       "    Primary Key           Civic Status              Notes\n",
       "0  Hanson2016_1  Rights and privileges             libera\n",
       "1  Hanson2016_4  Rights and privileges             libera\n",
       "2  Hanson2016_8  Rights and privileges  libera et immunis"
      ]
     },
     "execution_count": 6,
     "metadata": {},
     "output_type": "execute_result"
    }
   ],
   "source": [
    "cities_status_raw = pd.read_csv(io.StringIO(requests.get(\"http://oxrep.classics.ox.ac.uk/oxrep/docs/Hanson2016/Hanson2016_Civic%20Status_OxREP.csv\").text))\n",
    "cities_status_raw.head(3)"
   ]
  },
  {
   "cell_type": "code",
   "execution_count": 7,
   "metadata": {
    "colab": {
     "base_uri": "https://localhost:8080/",
     "height": 235
    },
    "colab_type": "code",
    "executionInfo": {
     "elapsed": 855,
     "status": "ok",
     "timestamp": 1581498140218,
     "user": {
      "displayName": "Vojtěch Kaše",
      "photoUrl": "https://lh3.googleusercontent.com/a-/AAuE7mAxTlnyE78QMWq7qNrhY8cMOVti0SJqAGwQEptYkQ=s64",
      "userId": "01399835024022498543"
     },
     "user_tz": -60
    },
    "id": "0BsTlKoaUB9X",
    "outputId": "0b9f9288-c85f-4b14-ef7c-9c5510bee6a7"
   },
   "outputs": [
    {
     "data": {
      "text/html": [
       "<div>\n",
       "<style scoped>\n",
       "    .dataframe tbody tr th:only-of-type {\n",
       "        vertical-align: middle;\n",
       "    }\n",
       "\n",
       "    .dataframe tbody tr th {\n",
       "        vertical-align: top;\n",
       "    }\n",
       "\n",
       "    .dataframe thead th {\n",
       "        text-align: right;\n",
       "    }\n",
       "</style>\n",
       "<table border=\"1\" class=\"dataframe\">\n",
       "  <thead>\n",
       "    <tr style=\"text-align: right;\">\n",
       "      <th></th>\n",
       "      <th>Civic Status</th>\n",
       "    </tr>\n",
       "    <tr>\n",
       "      <th>Primary Key</th>\n",
       "      <th></th>\n",
       "    </tr>\n",
       "  </thead>\n",
       "  <tbody>\n",
       "    <tr>\n",
       "      <th>Hanson2016_1</th>\n",
       "      <td>[Rights and privileges]</td>\n",
       "    </tr>\n",
       "    <tr>\n",
       "      <th>Hanson2016_1000</th>\n",
       "      <td>[Municipium]</td>\n",
       "    </tr>\n",
       "    <tr>\n",
       "      <th>Hanson2016_1001</th>\n",
       "      <td>[Municipium]</td>\n",
       "    </tr>\n",
       "    <tr>\n",
       "      <th>Hanson2016_1002</th>\n",
       "      <td>[Colonia, Municipium]</td>\n",
       "    </tr>\n",
       "    <tr>\n",
       "      <th>Hanson2016_1003</th>\n",
       "      <td>[Municipium]</td>\n",
       "    </tr>\n",
       "  </tbody>\n",
       "</table>\n",
       "</div>"
      ],
      "text/plain": [
       "                            Civic Status\n",
       "Primary Key                             \n",
       "Hanson2016_1     [Rights and privileges]\n",
       "Hanson2016_1000             [Municipium]\n",
       "Hanson2016_1001             [Municipium]\n",
       "Hanson2016_1002    [Colonia, Municipium]\n",
       "Hanson2016_1003             [Municipium]"
      ]
     },
     "execution_count": 7,
     "metadata": {},
     "output_type": "execute_result"
    }
   ],
   "source": [
    "cities_status = pd.DataFrame(cities_status_raw.groupby(\"Primary Key\")[\"Civic Status\"].apply(list))\n",
    "cities_status.head(5)"
   ]
  },
  {
   "cell_type": "code",
   "execution_count": 8,
   "metadata": {
    "colab": {
     "base_uri": "https://localhost:8080/",
     "height": 142
    },
    "colab_type": "code",
    "executionInfo": {
     "elapsed": 2352,
     "status": "ok",
     "timestamp": 1581498148552,
     "user": {
      "displayName": "Vojtěch Kaše",
      "photoUrl": "https://lh3.googleusercontent.com/a-/AAuE7mAxTlnyE78QMWq7qNrhY8cMOVti0SJqAGwQEptYkQ=s64",
      "userId": "01399835024022498543"
     },
     "user_tz": -60
    },
    "id": "z4h9J83Pj8ID",
    "outputId": "5aa2f1c7-3d82-44b1-b346-617e90c346ec"
   },
   "outputs": [
    {
     "data": {
      "text/html": [
       "<div>\n",
       "<style scoped>\n",
       "    .dataframe tbody tr th:only-of-type {\n",
       "        vertical-align: middle;\n",
       "    }\n",
       "\n",
       "    .dataframe tbody tr th {\n",
       "        vertical-align: top;\n",
       "    }\n",
       "\n",
       "    .dataframe thead th {\n",
       "        text-align: right;\n",
       "    }\n",
       "</style>\n",
       "<table border=\"1\" class=\"dataframe\">\n",
       "  <thead>\n",
       "    <tr style=\"text-align: right;\">\n",
       "      <th></th>\n",
       "      <th>Primary Key</th>\n",
       "      <th>Structure</th>\n",
       "    </tr>\n",
       "  </thead>\n",
       "  <tbody>\n",
       "    <tr>\n",
       "      <th>0</th>\n",
       "      <td>Hanson2016_1</td>\n",
       "      <td>Acropolis</td>\n",
       "    </tr>\n",
       "    <tr>\n",
       "      <th>1</th>\n",
       "      <td>Hanson2016_1</td>\n",
       "      <td>Agora</td>\n",
       "    </tr>\n",
       "    <tr>\n",
       "      <th>2</th>\n",
       "      <td>Hanson2016_1</td>\n",
       "      <td>Temple of Apollo</td>\n",
       "    </tr>\n",
       "  </tbody>\n",
       "</table>\n",
       "</div>"
      ],
      "text/plain": [
       "    Primary Key         Structure\n",
       "0  Hanson2016_1         Acropolis\n",
       "1  Hanson2016_1             Agora\n",
       "2  Hanson2016_1  Temple of Apollo"
      ]
     },
     "execution_count": 8,
     "metadata": {},
     "output_type": "execute_result"
    }
   ],
   "source": [
    "cities_monuments_raw = pd.read_csv(io.StringIO(requests.get(\"http://oxrep.classics.ox.ac.uk/oxrep/docs/Hanson2016/Hanson2016_Monuments_OxREP.csv\").text))\n",
    "cities_monuments_raw.head(3)"
   ]
  },
  {
   "cell_type": "code",
   "execution_count": 9,
   "metadata": {
    "colab": {
     "base_uri": "https://localhost:8080/",
     "height": 51
    },
    "colab_type": "code",
    "executionInfo": {
     "elapsed": 896,
     "status": "ok",
     "timestamp": 1581498150269,
     "user": {
      "displayName": "Vojtěch Kaše",
      "photoUrl": "https://lh3.googleusercontent.com/a-/AAuE7mAxTlnyE78QMWq7qNrhY8cMOVti0SJqAGwQEptYkQ=s64",
      "userId": "01399835024022498543"
     },
     "user_tz": -60
    },
    "id": "j8ZJypw8mxnW",
    "outputId": "04eb0044-de4f-4dd2-f445-fc88427ad2b1"
   },
   "outputs": [
    {
     "name": "stdout",
     "output_type": "stream",
     "text": [
      "9472\n",
      "1208\n"
     ]
    }
   ],
   "source": [
    "print(len(cities_monuments_raw))\n",
    "cities_monuments = pd.DataFrame(cities_monuments_raw.groupby(\"Primary Key\")[\"Structure\"].apply(list))\n",
    "print(len(cities_monuments))"
   ]
  },
  {
   "cell_type": "code",
   "execution_count": 10,
   "metadata": {
    "colab": {
     "base_uri": "https://localhost:8080/",
     "height": 450
    },
    "colab_type": "code",
    "executionInfo": {
     "elapsed": 783,
     "status": "ok",
     "timestamp": 1581498156872,
     "user": {
      "displayName": "Vojtěch Kaše",
      "photoUrl": "https://lh3.googleusercontent.com/a-/AAuE7mAxTlnyE78QMWq7qNrhY8cMOVti0SJqAGwQEptYkQ=s64",
      "userId": "01399835024022498543"
     },
     "user_tz": -60
    },
    "id": "2NytBTqtObwT",
    "outputId": "8edaaf4f-400b-4e8d-be32-9d2f2a683c18"
   },
   "outputs": [
    {
     "data": {
      "text/html": [
       "<div>\n",
       "<style scoped>\n",
       "    .dataframe tbody tr th:only-of-type {\n",
       "        vertical-align: middle;\n",
       "    }\n",
       "\n",
       "    .dataframe tbody tr th {\n",
       "        vertical-align: top;\n",
       "    }\n",
       "\n",
       "    .dataframe thead th {\n",
       "        text-align: right;\n",
       "    }\n",
       "</style>\n",
       "<table border=\"1\" class=\"dataframe\">\n",
       "  <thead>\n",
       "    <tr style=\"text-align: right;\">\n",
       "      <th></th>\n",
       "      <th>Structure</th>\n",
       "    </tr>\n",
       "    <tr>\n",
       "      <th>Primary Key</th>\n",
       "      <th></th>\n",
       "    </tr>\n",
       "  </thead>\n",
       "  <tbody>\n",
       "    <tr>\n",
       "      <th>Hanson2016_</th>\n",
       "      <td>[Agora?]</td>\n",
       "    </tr>\n",
       "    <tr>\n",
       "      <th>Hanson2016_1</th>\n",
       "      <td>[Acropolis, Agora, Temple of Apollo, Theatre, ...</td>\n",
       "    </tr>\n",
       "    <tr>\n",
       "      <th>Hanson2016_10</th>\n",
       "      <td>[Acropolis, Gymnasium, Sanctuary of Poseidon, ...</td>\n",
       "    </tr>\n",
       "    <tr>\n",
       "      <th>Hanson2016_100</th>\n",
       "      <td>[Acropolis, Fountain, Gymnasium, Gymnasium, Hi...</td>\n",
       "    </tr>\n",
       "    <tr>\n",
       "      <th>Hanson2016_1000</th>\n",
       "      <td>[Temple]</td>\n",
       "    </tr>\n",
       "    <tr>\n",
       "      <th>...</th>\n",
       "      <td>...</td>\n",
       "    </tr>\n",
       "    <tr>\n",
       "      <th>Hanson2016_993</th>\n",
       "      <td>[Amphitheatre, Basilica, Baths?, Forum, Temple...</td>\n",
       "    </tr>\n",
       "    <tr>\n",
       "      <th>Hanson2016_995</th>\n",
       "      <td>[Aqueduct, Baths, Forum, Unidentified public b...</td>\n",
       "    </tr>\n",
       "    <tr>\n",
       "      <th>Hanson2016_996</th>\n",
       "      <td>[Temple, Walls]</td>\n",
       "    </tr>\n",
       "    <tr>\n",
       "      <th>Hanson2016_998</th>\n",
       "      <td>[Amphitheatre, Baths, Forum, Mithraeum, Walls]</td>\n",
       "    </tr>\n",
       "    <tr>\n",
       "      <th>Hanson2016_999</th>\n",
       "      <td>[Temple, Walls]</td>\n",
       "    </tr>\n",
       "  </tbody>\n",
       "</table>\n",
       "<p>1208 rows × 1 columns</p>\n",
       "</div>"
      ],
      "text/plain": [
       "                                                         Structure\n",
       "Primary Key                                                       \n",
       "Hanson2016_                                               [Agora?]\n",
       "Hanson2016_1     [Acropolis, Agora, Temple of Apollo, Theatre, ...\n",
       "Hanson2016_10    [Acropolis, Gymnasium, Sanctuary of Poseidon, ...\n",
       "Hanson2016_100   [Acropolis, Fountain, Gymnasium, Gymnasium, Hi...\n",
       "Hanson2016_1000                                           [Temple]\n",
       "...                                                            ...\n",
       "Hanson2016_993   [Amphitheatre, Basilica, Baths?, Forum, Temple...\n",
       "Hanson2016_995   [Aqueduct, Baths, Forum, Unidentified public b...\n",
       "Hanson2016_996                                     [Temple, Walls]\n",
       "Hanson2016_998      [Amphitheatre, Baths, Forum, Mithraeum, Walls]\n",
       "Hanson2016_999                                     [Temple, Walls]\n",
       "\n",
       "[1208 rows x 1 columns]"
      ]
     },
     "execution_count": 10,
     "metadata": {},
     "output_type": "execute_result"
    }
   ],
   "source": [
    "cities_monuments"
   ]
  },
  {
   "cell_type": "code",
   "execution_count": 11,
   "metadata": {
    "colab": {
     "base_uri": "https://localhost:8080/",
     "height": 34
    },
    "colab_type": "code",
    "executionInfo": {
     "elapsed": 860,
     "status": "ok",
     "timestamp": 1581498170451,
     "user": {
      "displayName": "Vojtěch Kaše",
      "photoUrl": "https://lh3.googleusercontent.com/a-/AAuE7mAxTlnyE78QMWq7qNrhY8cMOVti0SJqAGwQEptYkQ=s64",
      "userId": "01399835024022498543"
     },
     "user_tz": -60
    },
    "id": "U0MGAtIVlYeJ",
    "outputId": "5d920280-1fa3-45f9-d420-a8c0dd0f2962"
   },
   "outputs": [
    {
     "data": {
      "text/plain": [
       "1388"
      ]
     },
     "execution_count": 11,
     "metadata": {},
     "output_type": "execute_result"
    }
   ],
   "source": [
    "cities = pd.merge(cities_raw, cities_area, on=\"Primary Key\", how=\"left\") \n",
    "cities = pd.merge(cities, cities_status, on=\"Primary Key\", how=\"left\")\n",
    "cities = pd.merge(cities, cities_monuments, on=\"Primary Key\", how=\"left\")\n",
    "len(cities)"
   ]
  },
  {
   "cell_type": "code",
   "execution_count": 12,
   "metadata": {
    "colab": {},
    "colab_type": "code",
    "id": "1m8qJZfKM0NO"
   },
   "outputs": [],
   "source": [
    "def get_number_of_structures(row):\n",
    "  try: num = len(row[\"Structure\"])\n",
    "  except: num = 0\n",
    "  return num\n",
    "cities[\"num_of_structures\"] = cities.apply(lambda row: get_number_of_structures(row), axis=1)"
   ]
  },
  {
   "cell_type": "code",
   "execution_count": 13,
   "metadata": {
    "colab": {
     "base_uri": "https://localhost:8080/",
     "height": 68
    },
    "colab_type": "code",
    "executionInfo": {
     "elapsed": 11080,
     "status": "ok",
     "timestamp": 1581498441764,
     "user": {
      "displayName": "Vojtěch Kaše",
      "photoUrl": "https://lh3.googleusercontent.com/a-/AAuE7mAxTlnyE78QMWq7qNrhY8cMOVti0SJqAGwQEptYkQ=s64",
      "userId": "01399835024022498543"
     },
     "user_tz": -60
    },
    "id": "Zuzi9uEXoyPv",
    "outputId": "a3a406b2-4b1a-448e-9dbb-ee9e1efb6bb7"
   },
   "outputs": [
    {
     "name": "stdout",
     "output_type": "stream",
     "text": [
      "A file with the same name (\"hanson_2016_mergred.json\") already exists in this location.\n",
      "Press Enter to overwrite it or choose different path and filename: \n",
      "Your <class 'pandas.core.frame.DataFrame'> object has been succefully written as \"https://sciencedata.dk/files/SDAM_root/SDAM_data/urban/hanson_2016_mergred.json\"\n"
     ]
    }
   ],
   "source": [
    "sddk.write_file(\"SDAM_data/urban/hanson_2016_mergred.json\", cities, conf)"
   ]
  },
  {
   "cell_type": "markdown",
   "metadata": {
    "colab_type": "text",
    "id": "VCJnl9mLpJ60"
   },
   "source": [
    "# To start with merged data"
   ]
  },
  {
   "cell_type": "code",
   "execution_count": 0,
   "metadata": {
    "colab": {},
    "colab_type": "code",
    "id": "hcw3bT42pFlQ"
   },
   "outputs": [],
   "source": [
    "cities = sddk.read_file(\"SDAM_data/hanson_2016_mergred.json\", \"df\", conf)"
   ]
  },
  {
   "cell_type": "code",
   "execution_count": 195,
   "metadata": {
    "colab": {
     "base_uri": "https://localhost:8080/",
     "height": 598
    },
    "colab_type": "code",
    "executionInfo": {
     "elapsed": 1207,
     "status": "ok",
     "timestamp": 1581695508156,
     "user": {
      "displayName": "Vojtěch Kaše",
      "photoUrl": "https://lh3.googleusercontent.com/a-/AAuE7mAxTlnyE78QMWq7qNrhY8cMOVti0SJqAGwQEptYkQ=s64",
      "userId": "01399835024022498543"
     },
     "user_tz": -60
    },
    "id": "OthhyTcgdDXR",
    "outputId": "35fc7023-0f8e-4ece-f0a2-a6439772f037"
   },
   "outputs": [
    {
     "data": {
      "text/html": [
       "<div>\n",
       "<style scoped>\n",
       "    .dataframe tbody tr th:only-of-type {\n",
       "        vertical-align: middle;\n",
       "    }\n",
       "\n",
       "    .dataframe tbody tr th {\n",
       "        vertical-align: top;\n",
       "    }\n",
       "\n",
       "    .dataframe thead th {\n",
       "        text-align: right;\n",
       "    }\n",
       "</style>\n",
       "<table border=\"1\" class=\"dataframe\">\n",
       "  <thead>\n",
       "    <tr style=\"text-align: right;\">\n",
       "      <th></th>\n",
       "      <th>Primary Key</th>\n",
       "      <th>Ancient Toponym</th>\n",
       "      <th>Modern Toponym</th>\n",
       "      <th>Province</th>\n",
       "      <th>Country</th>\n",
       "      <th>Barrington Atlas Rank</th>\n",
       "      <th>Barrington Atlas Reference</th>\n",
       "      <th>Start Date</th>\n",
       "      <th>End Date</th>\n",
       "      <th>Select Bibliography</th>\n",
       "      <th>Area</th>\n",
       "      <th>Estimate Basis</th>\n",
       "      <th>Civic Status</th>\n",
       "      <th>Structure</th>\n",
       "      <th>num_of_structures</th>\n",
       "      <th>geometry</th>\n",
       "    </tr>\n",
       "  </thead>\n",
       "  <tbody>\n",
       "    <tr>\n",
       "      <th>0</th>\n",
       "      <td>Hanson2016_1</td>\n",
       "      <td>Abae</td>\n",
       "      <td>Kalapodi</td>\n",
       "      <td>Achaea</td>\n",
       "      <td>Greece</td>\n",
       "      <td>4 or 5</td>\n",
       "      <td>55 D3</td>\n",
       "      <td>-600</td>\n",
       "      <td>NaN</td>\n",
       "      <td>BNP; Hansen 2006; Hansen and Nielsen 2004; PEC...</td>\n",
       "      <td>16.0</td>\n",
       "      <td>Walls</td>\n",
       "      <td>[Rights and privileges]</td>\n",
       "      <td>[Acropolis, Agora, Temple of Apollo, Theatre, ...</td>\n",
       "      <td>5</td>\n",
       "      <td>POINT (22.93333 38.58333)</td>\n",
       "    </tr>\n",
       "    <tr>\n",
       "      <th>1</th>\n",
       "      <td>Hanson2016_2</td>\n",
       "      <td>Acharnae</td>\n",
       "      <td>Acharnes</td>\n",
       "      <td>Achaea</td>\n",
       "      <td>Greece</td>\n",
       "      <td>3</td>\n",
       "      <td>59 B2</td>\n",
       "      <td>-600</td>\n",
       "      <td>NaN</td>\n",
       "      <td>BNP; DGRG; PECS; Sear 2006.</td>\n",
       "      <td>NaN</td>\n",
       "      <td>None</td>\n",
       "      <td>None</td>\n",
       "      <td>[Sanctuary of Apollo Argyieus, Sanctuary of He...</td>\n",
       "      <td>3</td>\n",
       "      <td>POINT (23.73409 38.08347)</td>\n",
       "    </tr>\n",
       "    <tr>\n",
       "      <th>2</th>\n",
       "      <td>Hanson2016_3</td>\n",
       "      <td>Acraephia</td>\n",
       "      <td>Akraifnio</td>\n",
       "      <td>Achaea</td>\n",
       "      <td>Greece</td>\n",
       "      <td>3</td>\n",
       "      <td>55 E4</td>\n",
       "      <td>-600</td>\n",
       "      <td>NaN</td>\n",
       "      <td>BNP; DGRG; Hansen and Nielsen 2004; PECS; Sear...</td>\n",
       "      <td>NaN</td>\n",
       "      <td>None</td>\n",
       "      <td>None</td>\n",
       "      <td>[Acropolis, Agora, Fountain, Temple of Apollo ...</td>\n",
       "      <td>7</td>\n",
       "      <td>POINT (23.21970 38.45261)</td>\n",
       "    </tr>\n",
       "    <tr>\n",
       "      <th>3</th>\n",
       "      <td>Hanson2016_4</td>\n",
       "      <td>Aegina</td>\n",
       "      <td>Aigina</td>\n",
       "      <td>Achaea</td>\n",
       "      <td>Greece</td>\n",
       "      <td>2</td>\n",
       "      <td>59 A3</td>\n",
       "      <td>-600</td>\n",
       "      <td>NaN</td>\n",
       "      <td>BNP; DGRG; Hansen 2006; Hansen and Nielsen 200...</td>\n",
       "      <td>52.0</td>\n",
       "      <td>Inhabited area</td>\n",
       "      <td>[Rights and privileges]</td>\n",
       "      <td>[Shrine of Aeacus, Stadium, Temple of Aphrodit...</td>\n",
       "      <td>8</td>\n",
       "      <td>POINT (23.42850 37.75007)</td>\n",
       "    </tr>\n",
       "    <tr>\n",
       "      <th>4</th>\n",
       "      <td>Hanson2016_5</td>\n",
       "      <td>Aegira</td>\n",
       "      <td>Aigeira</td>\n",
       "      <td>Achaea</td>\n",
       "      <td>Greece</td>\n",
       "      <td>3</td>\n",
       "      <td>58 C1</td>\n",
       "      <td>-600</td>\n",
       "      <td>NaN</td>\n",
       "      <td>DGRG; Hansen and Nielsen 2004.</td>\n",
       "      <td>NaN</td>\n",
       "      <td>None</td>\n",
       "      <td>None</td>\n",
       "      <td>[Acropolis, Agora, Gymnasium, Temple of Aphrod...</td>\n",
       "      <td>8</td>\n",
       "      <td>POINT (22.35572 38.14795)</td>\n",
       "    </tr>\n",
       "  </tbody>\n",
       "</table>\n",
       "</div>"
      ],
      "text/plain": [
       "    Primary Key Ancient Toponym  ... num_of_structures                   geometry\n",
       "0  Hanson2016_1            Abae  ...                 5  POINT (22.93333 38.58333)\n",
       "1  Hanson2016_2        Acharnae  ...                 3  POINT (23.73409 38.08347)\n",
       "2  Hanson2016_3       Acraephia  ...                 7  POINT (23.21970 38.45261)\n",
       "3  Hanson2016_4          Aegina  ...                 8  POINT (23.42850 37.75007)\n",
       "4  Hanson2016_5          Aegira  ...                 8  POINT (22.35572 38.14795)\n",
       "\n",
       "[5 rows x 16 columns]"
      ]
     },
     "execution_count": 195,
     "metadata": {
      "tags": []
     },
     "output_type": "execute_result"
    }
   ],
   "source": [
    "### ROMAN CITIES AS A GEODATAFRAME\n",
    "cities = geopandas.GeoDataFrame(cities, geometry=geopandas.points_from_xy(cities[\"Longitude (X)\"], cities[\"Latitude (Y)\"]))\n",
    "cities.drop(columns=[\"Longitude (X)\", \"Latitude (Y)\"], inplace=True)\n",
    "cities.head(5)"
   ]
  },
  {
   "cell_type": "code",
   "execution_count": 28,
   "metadata": {
    "colab": {
     "base_uri": "https://localhost:8080/",
     "height": 34
    },
    "colab_type": "code",
    "executionInfo": {
     "elapsed": 607,
     "status": "ok",
     "timestamp": 1581677730201,
     "user": {
      "displayName": "Vojtěch Kaše",
      "photoUrl": "https://lh3.googleusercontent.com/a-/AAuE7mAxTlnyE78QMWq7qNrhY8cMOVti0SJqAGwQEptYkQ=s64",
      "userId": "01399835024022498543"
     },
     "user_tz": -60
    },
    "id": "2YoaK6eLp5N7",
    "outputId": "eacb2acb-5a25-463b-ad97-7d449d840457"
   },
   "outputs": [
    {
     "data": {
      "text/plain": [
       "1388"
      ]
     },
     "execution_count": 28,
     "metadata": {},
     "output_type": "execute_result"
    }
   ],
   "source": [
    "### the overall length of the dataset\n",
    "len(cities)"
   ]
  },
  {
   "cell_type": "code",
   "execution_count": 29,
   "metadata": {
    "colab": {
     "base_uri": "https://localhost:8080/",
     "height": 34
    },
    "colab_type": "code",
    "executionInfo": {
     "elapsed": 472,
     "status": "ok",
     "timestamp": 1581500364783,
     "user": {
      "displayName": "Vojtěch Kaše",
      "photoUrl": "https://lh3.googleusercontent.com/a-/AAuE7mAxTlnyE78QMWq7qNrhY8cMOVti0SJqAGwQEptYkQ=s64",
      "userId": "01399835024022498543"
     },
     "user_tz": -60
    },
    "id": "cPtMp_WRcdfp",
    "outputId": "ec5f8164-0da0-4c69-8042-215c8ed29269"
   },
   "outputs": [
    {
     "data": {
      "text/plain": [
       "885"
      ]
     },
     "execution_count": 29,
     "metadata": {},
     "output_type": "execute_result"
    }
   ],
   "source": [
    "### number of cities with specified area\n",
    "len(cities[cities[\"Area\"].notnull()])"
   ]
  },
  {
   "cell_type": "code",
   "execution_count": 30,
   "metadata": {
    "colab": {
     "base_uri": "https://localhost:8080/",
     "height": 34
    },
    "colab_type": "code",
    "executionInfo": {
     "elapsed": 794,
     "status": "ok",
     "timestamp": 1581500367089,
     "user": {
      "displayName": "Vojtěch Kaše",
      "photoUrl": "https://lh3.googleusercontent.com/a-/AAuE7mAxTlnyE78QMWq7qNrhY8cMOVti0SJqAGwQEptYkQ=s64",
      "userId": "01399835024022498543"
     },
     "user_tz": -60
    },
    "id": "Yr3EDD8pqKiw",
    "outputId": "61fa465f-0465-4fc9-f2bf-9426c7d0652d"
   },
   "outputs": [
    {
     "data": {
      "text/plain": [
       "1207"
      ]
     },
     "execution_count": 30,
     "metadata": {},
     "output_type": "execute_result"
    }
   ],
   "source": [
    "### number of cities with at least one monument\n",
    "len(cities[cities[\"num_of_structures\"]> 0])"
   ]
  },
  {
   "cell_type": "code",
   "execution_count": 31,
   "metadata": {
    "colab": {
     "base_uri": "https://localhost:8080/",
     "height": 34
    },
    "colab_type": "code",
    "executionInfo": {
     "elapsed": 542,
     "status": "ok",
     "timestamp": 1581500368189,
     "user": {
      "displayName": "Vojtěch Kaše",
      "photoUrl": "https://lh3.googleusercontent.com/a-/AAuE7mAxTlnyE78QMWq7qNrhY8cMOVti0SJqAGwQEptYkQ=s64",
      "userId": "01399835024022498543"
     },
     "user_tz": -60
    },
    "id": "bdyX39nRqKsU",
    "outputId": "bc2e95fd-7c5e-489f-e32a-6a9bdb17cddc"
   },
   "outputs": [
    {
     "data": {
      "text/plain": [
       "851"
      ]
     },
     "execution_count": 31,
     "metadata": {},
     "output_type": "execute_result"
    }
   ],
   "source": [
    "### number of cities with at least one monument & with specified area \n",
    "len(cities[(cities[\"num_of_structures\"]> 0) & (cities[\"Area\"].notnull())])"
   ]
  },
  {
   "cell_type": "code",
   "execution_count": 48,
   "metadata": {
    "colab": {},
    "colab_type": "code",
    "id": "zcZgN5CxcsCZ"
   },
   "outputs": [],
   "source": [
    "cities[\"Area\"] = cities[\"Area\"].astype(float)"
   ]
  },
  {
   "cell_type": "code",
   "execution_count": 49,
   "metadata": {
    "colab": {
     "base_uri": "https://localhost:8080/",
     "height": 400
    },
    "colab_type": "code",
    "executionInfo": {
     "elapsed": 703,
     "status": "ok",
     "timestamp": 1581695516830,
     "user": {
      "displayName": "Vojtěch Kaše",
      "photoUrl": "https://lh3.googleusercontent.com/a-/AAuE7mAxTlnyE78QMWq7qNrhY8cMOVti0SJqAGwQEptYkQ=s64",
      "userId": "01399835024022498543"
     },
     "user_tz": -60
    },
    "id": "WoeVuJ3Ihedx",
    "outputId": "70fd09c5-c993-4b28-e617-fea0b56c39c9"
   },
   "outputs": [
    {
     "data": {
      "text/html": [
       "<div>\n",
       "<style scoped>\n",
       "    .dataframe tbody tr th:only-of-type {\n",
       "        vertical-align: middle;\n",
       "    }\n",
       "\n",
       "    .dataframe tbody tr th {\n",
       "        vertical-align: top;\n",
       "    }\n",
       "\n",
       "    .dataframe thead th {\n",
       "        text-align: right;\n",
       "    }\n",
       "</style>\n",
       "<table border=\"1\" class=\"dataframe\">\n",
       "  <thead>\n",
       "    <tr style=\"text-align: right;\">\n",
       "      <th></th>\n",
       "      <th>Primary Key</th>\n",
       "      <th>Ancient Toponym</th>\n",
       "      <th>Modern Toponym</th>\n",
       "      <th>Province</th>\n",
       "      <th>Country</th>\n",
       "      <th>Barrington Atlas Rank</th>\n",
       "      <th>Barrington Atlas Reference</th>\n",
       "      <th>Start Date</th>\n",
       "      <th>End Date</th>\n",
       "      <th>Longitude (X)</th>\n",
       "      <th>Latitude (Y)</th>\n",
       "      <th>Select Bibliography</th>\n",
       "      <th>Area</th>\n",
       "      <th>Estimate Basis</th>\n",
       "      <th>Civic Status</th>\n",
       "      <th>Structure</th>\n",
       "      <th>num_of_structures</th>\n",
       "      <th>ID</th>\n",
       "    </tr>\n",
       "  </thead>\n",
       "  <tbody>\n",
       "    <tr>\n",
       "      <th>0</th>\n",
       "      <td>Hanson2016_1</td>\n",
       "      <td>Abae</td>\n",
       "      <td>Kalapodi</td>\n",
       "      <td>Achaea</td>\n",
       "      <td>Greece</td>\n",
       "      <td>4 or 5</td>\n",
       "      <td>55 D3</td>\n",
       "      <td>-600</td>\n",
       "      <td>NaN</td>\n",
       "      <td>22.933333</td>\n",
       "      <td>38.583333</td>\n",
       "      <td>BNP; Hansen 2006; Hansen and Nielsen 2004; PEC...</td>\n",
       "      <td>16.0</td>\n",
       "      <td>Walls</td>\n",
       "      <td>[Rights and privileges]</td>\n",
       "      <td>[Acropolis, Agora, Temple of Apollo, Theatre, ...</td>\n",
       "      <td>5</td>\n",
       "      <td>1</td>\n",
       "    </tr>\n",
       "    <tr>\n",
       "      <th>1</th>\n",
       "      <td>Hanson2016_2</td>\n",
       "      <td>Acharnae</td>\n",
       "      <td>Acharnes</td>\n",
       "      <td>Achaea</td>\n",
       "      <td>Greece</td>\n",
       "      <td>3</td>\n",
       "      <td>59 B2</td>\n",
       "      <td>-600</td>\n",
       "      <td>NaN</td>\n",
       "      <td>23.734088</td>\n",
       "      <td>38.083473</td>\n",
       "      <td>BNP; DGRG; PECS; Sear 2006.</td>\n",
       "      <td>NaN</td>\n",
       "      <td>NaN</td>\n",
       "      <td>NaN</td>\n",
       "      <td>[Sanctuary of Apollo Argyieus, Sanctuary of He...</td>\n",
       "      <td>3</td>\n",
       "      <td>2</td>\n",
       "    </tr>\n",
       "    <tr>\n",
       "      <th>2</th>\n",
       "      <td>Hanson2016_3</td>\n",
       "      <td>Acraephia</td>\n",
       "      <td>Akraifnio</td>\n",
       "      <td>Achaea</td>\n",
       "      <td>Greece</td>\n",
       "      <td>3</td>\n",
       "      <td>55 E4</td>\n",
       "      <td>-600</td>\n",
       "      <td>NaN</td>\n",
       "      <td>23.219702</td>\n",
       "      <td>38.452606</td>\n",
       "      <td>BNP; DGRG; Hansen and Nielsen 2004; PECS; Sear...</td>\n",
       "      <td>NaN</td>\n",
       "      <td>NaN</td>\n",
       "      <td>NaN</td>\n",
       "      <td>[Acropolis, Agora, Fountain, Temple of Apollo ...</td>\n",
       "      <td>7</td>\n",
       "      <td>3</td>\n",
       "    </tr>\n",
       "  </tbody>\n",
       "</table>\n",
       "</div>"
      ],
      "text/plain": [
       "    Primary Key Ancient Toponym Modern Toponym Province Country  \\\n",
       "0  Hanson2016_1            Abae       Kalapodi   Achaea  Greece   \n",
       "1  Hanson2016_2        Acharnae       Acharnes   Achaea  Greece   \n",
       "2  Hanson2016_3       Acraephia      Akraifnio   Achaea  Greece   \n",
       "\n",
       "  Barrington Atlas Rank Barrington Atlas Reference  Start Date  End Date  \\\n",
       "0                4 or 5                      55 D3        -600       NaN   \n",
       "1                     3                      59 B2        -600       NaN   \n",
       "2                     3                      55 E4        -600       NaN   \n",
       "\n",
       "   Longitude (X)  Latitude (Y)  \\\n",
       "0      22.933333     38.583333   \n",
       "1      23.734088     38.083473   \n",
       "2      23.219702     38.452606   \n",
       "\n",
       "                                 Select Bibliography  Area Estimate Basis  \\\n",
       "0  BNP; Hansen 2006; Hansen and Nielsen 2004; PEC...  16.0          Walls   \n",
       "1                        BNP; DGRG; PECS; Sear 2006.   NaN            NaN   \n",
       "2  BNP; DGRG; Hansen and Nielsen 2004; PECS; Sear...   NaN            NaN   \n",
       "\n",
       "              Civic Status                                          Structure  \\\n",
       "0  [Rights and privileges]  [Acropolis, Agora, Temple of Apollo, Theatre, ...   \n",
       "1                      NaN  [Sanctuary of Apollo Argyieus, Sanctuary of He...   \n",
       "2                      NaN  [Acropolis, Agora, Fountain, Temple of Apollo ...   \n",
       "\n",
       "   num_of_structures ID  \n",
       "0                  5  1  \n",
       "1                  3  2  \n",
       "2                  7  3  "
      ]
     },
     "execution_count": 49,
     "metadata": {},
     "output_type": "execute_result"
    }
   ],
   "source": [
    "### generate an ID (to be used for future merge)\n",
    "cities[\"ID\"] = cities.apply(lambda row: row[\"Primary Key\"].partition(\"_\")[2], axis=1)\n",
    "cities.head(3)"
   ]
  },
  {
   "cell_type": "markdown",
   "metadata": {
    "colab_type": "text",
    "id": "LdyF0oIbxoNG"
   },
   "source": [
    "# Population sizes from Hanson 2019"
   ]
  },
  {
   "cell_type": "code",
   "execution_count": 55,
   "metadata": {},
   "outputs": [],
   "source": [
    "hanson2019 = sddk.read_file(\"SDAM_data/urban/HansonOrtmanetal2019_dataset.csv\", \"df\", conf)"
   ]
  },
  {
   "cell_type": "code",
   "execution_count": 56,
   "metadata": {},
   "outputs": [
    {
     "data": {
      "text/html": [
       "<div>\n",
       "<style scoped>\n",
       "    .dataframe tbody tr th:only-of-type {\n",
       "        vertical-align: middle;\n",
       "    }\n",
       "\n",
       "    .dataframe tbody tr th {\n",
       "        vertical-align: top;\n",
       "    }\n",
       "\n",
       "    .dataframe thead th {\n",
       "        text-align: right;\n",
       "    }\n",
       "</style>\n",
       "<table border=\"1\" class=\"dataframe\">\n",
       "  <thead>\n",
       "    <tr style=\"text-align: right;\">\n",
       "      <th></th>\n",
       "      <th>ID</th>\n",
       "      <th>Name</th>\n",
       "      <th>Area (ha)</th>\n",
       "      <th>Population</th>\n",
       "      <th>Forum/agoraarea(m2)</th>\n",
       "      <th>Streetarea(m2)</th>\n",
       "      <th>Streetlength(m)</th>\n",
       "      <th>Streetwidth(m)</th>\n",
       "      <th>Blockarea(m2)</th>\n",
       "    </tr>\n",
       "  </thead>\n",
       "  <tbody>\n",
       "    <tr>\n",
       "      <th>0</th>\n",
       "      <td>14</td>\n",
       "      <td>Athenae</td>\n",
       "      <td>225</td>\n",
       "      <td>58114</td>\n",
       "      <td>25967.0</td>\n",
       "      <td>NaN</td>\n",
       "      <td>NaN</td>\n",
       "      <td>NaN</td>\n",
       "      <td>NaN</td>\n",
       "    </tr>\n",
       "    <tr>\n",
       "      <th>1</th>\n",
       "      <td>19</td>\n",
       "      <td>Cassope</td>\n",
       "      <td>18</td>\n",
       "      <td>1989</td>\n",
       "      <td>NaN</td>\n",
       "      <td>27335.0</td>\n",
       "      <td>4522.0</td>\n",
       "      <td>7.0</td>\n",
       "      <td>9996.0</td>\n",
       "    </tr>\n",
       "    <tr>\n",
       "      <th>2</th>\n",
       "      <td>26</td>\n",
       "      <td>Corinthia</td>\n",
       "      <td>241</td>\n",
       "      <td>63700</td>\n",
       "      <td>15905.0</td>\n",
       "      <td>NaN</td>\n",
       "      <td>NaN</td>\n",
       "      <td>NaN</td>\n",
       "      <td>NaN</td>\n",
       "    </tr>\n",
       "    <tr>\n",
       "      <th>3</th>\n",
       "      <td>110</td>\n",
       "      <td>Alexandria</td>\n",
       "      <td>972</td>\n",
       "      <td>410535</td>\n",
       "      <td>75000.0</td>\n",
       "      <td>1072216.0</td>\n",
       "      <td>58399.0</td>\n",
       "      <td>21.0</td>\n",
       "      <td>140509.0</td>\n",
       "    </tr>\n",
       "    <tr>\n",
       "      <th>4</th>\n",
       "      <td>172</td>\n",
       "      <td>Carthago</td>\n",
       "      <td>343</td>\n",
       "      <td>102170</td>\n",
       "      <td>15000.0</td>\n",
       "      <td>NaN</td>\n",
       "      <td>NaN</td>\n",
       "      <td>NaN</td>\n",
       "      <td>NaN</td>\n",
       "    </tr>\n",
       "  </tbody>\n",
       "</table>\n",
       "</div>"
      ],
      "text/plain": [
       "    ID        Name  Area (ha)  Population  Forum/agoraarea(m2)  \\\n",
       "0   14     Athenae        225       58114              25967.0   \n",
       "1   19     Cassope         18        1989                  NaN   \n",
       "2   26   Corinthia        241       63700              15905.0   \n",
       "3  110  Alexandria        972      410535              75000.0   \n",
       "4  172    Carthago        343      102170              15000.0   \n",
       "\n",
       "   Streetarea(m2)  Streetlength(m)  Streetwidth(m)  Blockarea(m2)  \n",
       "0             NaN              NaN             NaN            NaN  \n",
       "1         27335.0           4522.0             7.0         9996.0  \n",
       "2             NaN              NaN             NaN            NaN  \n",
       "3       1072216.0          58399.0            21.0       140509.0  \n",
       "4             NaN              NaN             NaN            NaN  "
      ]
     },
     "execution_count": 56,
     "metadata": {},
     "output_type": "execute_result"
    }
   ],
   "source": [
    "hanson2019.reset_index(inplace=True)\n",
    "hanson2019.head(5)"
   ]
  },
  {
   "cell_type": "code",
   "execution_count": 57,
   "metadata": {
    "colab": {
     "base_uri": "https://localhost:8080/",
     "height": 34
    },
    "colab_type": "code",
    "executionInfo": {
     "elapsed": 582,
     "status": "ok",
     "timestamp": 1581695526190,
     "user": {
      "displayName": "Vojtěch Kaše",
      "photoUrl": "https://lh3.googleusercontent.com/a-/AAuE7mAxTlnyE78QMWq7qNrhY8cMOVti0SJqAGwQEptYkQ=s64",
      "userId": "01399835024022498543"
     },
     "user_tz": -60
    },
    "id": "Ip3KLr7cxj6b",
    "outputId": "3b0ebddf-3711-4f34-f329-632644da437b"
   },
   "outputs": [
    {
     "data": {
      "text/plain": [
       "125"
      ]
     },
     "execution_count": 57,
     "metadata": {},
     "output_type": "execute_result"
    }
   ],
   "source": [
    "len(hanson2019)"
   ]
  },
  {
   "cell_type": "code",
   "execution_count": 58,
   "metadata": {
    "colab": {
     "base_uri": "https://localhost:8080/",
     "height": 34
    },
    "colab_type": "code",
    "executionInfo": {
     "elapsed": 615,
     "status": "ok",
     "timestamp": 1581695526959,
     "user": {
      "displayName": "Vojtěch Kaše",
      "photoUrl": "https://lh3.googleusercontent.com/a-/AAuE7mAxTlnyE78QMWq7qNrhY8cMOVti0SJqAGwQEptYkQ=s64",
      "userId": "01399835024022498543"
     },
     "user_tz": -60
    },
    "id": "1FMW8dzkv29z",
    "outputId": "87b18c23-c5f4-4967-cf8d-0e5ad48e2125"
   },
   "outputs": [
    {
     "data": {
      "text/plain": [
       "3039375"
      ]
     },
     "execution_count": 58,
     "metadata": {},
     "output_type": "execute_result"
    }
   ],
   "source": [
    "### total urban population\n",
    "hanson2019[\"Population\"].sum()"
   ]
  },
  {
   "cell_type": "code",
   "execution_count": 59,
   "metadata": {
    "colab": {},
    "colab_type": "code",
    "id": "69MXwdbbwQbH"
   },
   "outputs": [],
   "source": [
    "### clean the \"IDs\"\n",
    "hanson2019[\"ID\"] = hanson2019[\"ID\"].astype(str).str.replace(\" \", \"\")"
   ]
  },
  {
   "cell_type": "code",
   "execution_count": 60,
   "metadata": {
    "colab": {},
    "colab_type": "code",
    "id": "X1mzOIUgvnUh"
   },
   "outputs": [],
   "source": [
    "cities_pop = pd.merge(cities, hanson2019, on=\"ID\", how=\"left\")"
   ]
  },
  {
   "cell_type": "markdown",
   "metadata": {
    "colab_type": "text",
    "id": "kS96EvKIV-hb"
   },
   "source": [
    "# Fitting the model for estimating population sizes."
   ]
  },
  {
   "cell_type": "markdown",
   "metadata": {
    "colab_type": "text",
    "id": "WNFVfdHSWFVu"
   },
   "source": [
    "There is an equation to calculate population sizes of ancient cities. It is as \n",
    "follows:\n",
    "\n",
    "(1) <i> N = dA<sup>p</sup>  </i>,\n",
    "\n",
    "where *N* is size of the estimated population, *d* is base coefficient for inhabitants per area, *A* is size of the area in hectares, and exponent *p* makes the hard work of modifying the density per area.\n",
    "\n",
    "Thus, once we have area size for 885 Roman cities, to estimate their population sizes we just have to have right values for the coefficient *d* and the exponent *p*. And this is exactly what has been produced by Hanson & Ortman in their 2017 article by fitting a model against a diverse sample of Greco-Roman cities for which we have more robust population estimates based on other methods.\n",
    "\n",
    "\n",
    "\n"
   ]
  },
  {
   "cell_type": "markdown",
   "metadata": {
    "colab_type": "text",
    "id": "1ruPgl5jaV2R"
   },
   "source": [
    "In their article, Hanson and Ortman offer the following values for *p* and *d*. \n",
    "\n",
    "*p* = 1.34\n",
    "\n",
    "*d* = 41.84\n",
    "\n",
    "Using these values, we are able to obtain approximately the same values for population sizes as the ones they publish in the supplementary data to their 2019 article."
   ]
  },
  {
   "cell_type": "code",
   "execution_count": 61,
   "metadata": {
    "colab": {
     "base_uri": "https://localhost:8080/",
     "height": 54
    },
    "colab_type": "code",
    "executionInfo": {
     "elapsed": 598,
     "status": "ok",
     "timestamp": 1581695536831,
     "user": {
      "displayName": "Vojtěch Kaše",
      "photoUrl": "https://lh3.googleusercontent.com/a-/AAuE7mAxTlnyE78QMWq7qNrhY8cMOVti0SJqAGwQEptYkQ=s64",
      "userId": "01399835024022498543"
     },
     "user_tz": -60
    },
    "id": "tNYw-Cb9bXCB",
    "outputId": "f0ecfeb3-7c0a-41be-ead4-34b892e46225"
   },
   "outputs": [
    {
     "name": "stdout",
     "output_type": "stream",
     "text": [
      "[58114.0, 1989.0, 63700.0, 410535.0, 102170.0, 4837.0, 7037.0, 3085.0, 3085.0, 6034.0, 8633.0, 5975.0, 2655.0, 11979.0, 15580.0, 71587.0, 13870.0, 4653.0, 3085.0, 18882.0, 6567.0, 56053.0, 47672.0, 1030.0, 19404.0, 907.0, 7582.0, 23429.0, 6767.0, 7376.0, 17849.0, 9718.0, 8209.0, 5210.0, 6034.0, 36851.0, 6969.0, 9498.0, 1989.0, 17084.0, 15086.0, 33807.0, 4291.0, 3104.0, 4837.0, 16187.0, 7582.0, 4327.0, 38476.0, 28211.0, 46171.0, 40666.0, 9938.0, 6767.0, 3590.0, 7628.0, 4291.0, 41539.0, 17338.0, 6767.0, 13426.0, 14596.0, 6368.0, 5022.0, 6171.0, 2290.0, 1157.0, 7172.0, 9498.0, 9327.0, 2922.0, 1030.0, 12211.0, 7401.0, 15086.0, 35017.0, 9938.0, 6567.0, 2601.0, 3469.0, 2138.0, 6567.0, 4471.0, 26781.0, 4471.0, 5589.0, 3085.0, 7376.0, 2760.0, 923406.0, 5782.0, 9280.0, 7790.0, 907.0, 4916.0, 1718.0, 2290.0, 19667.0, 7790.0, 1062.0, 8209.0, 6567.0, 14841.0, 2828.0, 458.0, 5399.0, 10608.0, 2601.0, 5399.0, 3085.0, 29368.0, 7999.0, 70860.0, 1157.0, 3420.0, 4291.0, 7188.0, 9938.0, 7790.0, 53334.0, 3937.0, 11517.0, 56395.0, 25091.0, 13694.0]\n"
     ]
    }
   ],
   "source": [
    "### hanson&ortman2019 sample population data:\n",
    "yd = cities_pop[cities_pop[\"Population\"]>0][\"Population\"].values\n",
    "print(list(yd))"
   ]
  },
  {
   "cell_type": "code",
   "execution_count": 62,
   "metadata": {
    "colab": {
     "base_uri": "https://localhost:8080/",
     "height": 54
    },
    "colab_type": "code",
    "executionInfo": {
     "elapsed": 454,
     "status": "ok",
     "timestamp": 1581695537921,
     "user": {
      "displayName": "Vojtěch Kaše",
      "photoUrl": "https://lh3.googleusercontent.com/a-/AAuE7mAxTlnyE78QMWq7qNrhY8cMOVti0SJqAGwQEptYkQ=s64",
      "userId": "01399835024022498543"
     },
     "user_tz": -60
    },
    "id": "YwpkYfXbDNiR",
    "outputId": "f24cc651-b740-4c62-ce1a-de218f3685e1"
   },
   "outputs": [
    {
     "name": "stdout",
     "output_type": "stream",
     "text": [
      "[59370.96000000001, 2008.3200000000002, 65103.04000000001, 421747.2, 104432.64000000001, 4895.280000000001, 7070.960000000001, 3138.0000000000005, 3138.0000000000005, 42383.920000000006, 8786.400000000001, 6066.8, 2635.92, 12175.44, 15857.36, 73178.16, 14100.080000000002, 4727.92, 3138.0000000000005, 19204.56, 6652.56, 57613.68000000001, 48659.920000000006, 1046.0, 19748.480000000003, 669.44, 7698.56, 23848.800000000003, 6861.76, 7489.360000000001, 18158.56, 9874.240000000002, 8326.16, 5271.84, 6066.8, 37614.16, 7070.960000000001, 9665.04, 2008.3200000000002, 17405.440000000002, 15355.28, 34476.16, 4351.360000000001, 3138.0000000000005, 4895.280000000001, 16359.44, 7698.56, 7489.360000000001, 39162.240000000005, 28744.08, 46986.32000000001, 41421.600000000006, 10083.44, 6861.76, 3640.0800000000004, 7698.56, 4351.360000000001, 42383.920000000006, 17656.480000000003, 15606.320000000002, 13639.840000000002, 14853.2, 6443.360000000001, 5104.4800000000005, 6276.000000000001, 460.24, 1171.52, 7280.160000000001, 9665.04, 12426.480000000001, 2970.6400000000003, 1046.0, 12426.480000000001, 2301.2000000000003, 15355.28, 35731.36, 10083.44, 6652.56, 2635.92, 3472.7200000000003, 2175.6800000000003, 6652.56, 4518.72, 27279.680000000004, 4518.72, 5690.240000000001, 3138.0000000000005, 7489.360000000001, 2803.28, 950897.68, 5690.240000000001, 9414.0, 6443.360000000001, 920.48, 4895.280000000001, 1715.44, 2301.2000000000003, 14853.2, 4895.280000000001, 1046.0, 8326.16, 6652.56, 15104.240000000002, 2803.28, 460.24, 5481.040000000001, 10794.720000000001, 2301.2000000000003, 5481.040000000001, 3138.0000000000005, 20041.36, 8116.960000000001, 37907.04, 794.96, 3472.7200000000003, 4351.360000000001, 7280.160000000001, 10083.44, 7907.76, 54475.68000000001, 3974.8, 11715.2, 57613.68000000001, 25564.24, 13849.04]\n"
     ]
    }
   ],
   "source": [
    "### FIRST COARSE MODEL \n",
    "\n",
    "### estimates based on p=1.34 and d=41.84:\n",
    "exp = 1.34 ### to avoid confusion with p values\n",
    "dens = 41.84 ### to fit data including Rome, alternatively, try: 41.84 (best fitting density coeffecient for a smaple without Rome)\n",
    "### area data: \n",
    "xd = cities_pop[cities_pop[\"Population\"]>0][\"Area\"].values.round(4)\n",
    "### estimate \n",
    "working_model = list(dens*(xd**exp).round())\n",
    "print(working_model)"
   ]
  },
  {
   "cell_type": "code",
   "execution_count": 63,
   "metadata": {
    "colab": {
     "base_uri": "https://localhost:8080/",
     "height": 34
    },
    "colab_type": "code",
    "executionInfo": {
     "elapsed": 564,
     "status": "ok",
     "timestamp": 1581695540908,
     "user": {
      "displayName": "Vojtěch Kaše",
      "photoUrl": "https://lh3.googleusercontent.com/a-/AAuE7mAxTlnyE78QMWq7qNrhY8cMOVti0SJqAGwQEptYkQ=s64",
      "userId": "01399835024022498543"
     },
     "user_tz": -60
    },
    "id": "txK7xx9z2mkA",
    "outputId": "7e3d815b-d5b2-442a-85cf-c9caf0303d30"
   },
   "outputs": [
    {
     "data": {
      "text/plain": [
       "(0.9986874516926364, 1.3078781126507134e-160)"
      ]
     },
     "execution_count": 63,
     "metadata": {},
     "output_type": "execute_result"
    }
   ],
   "source": [
    "from scipy.stats import pearsonr as corr\n",
    "corr(working_model, yd)\n"
   ]
  },
  {
   "cell_type": "markdown",
   "metadata": {
    "colab_type": "text",
    "id": "CPlmZNlgcR1L"
   },
   "source": [
    "Ok, it is quite good.  But it also somehow overestimates some values. Let's try find a better fitting model, perhaps just by including more decimal numbers.\n",
    "\n",
    "Let's turn to least-squares.\n"
   ]
  },
  {
   "cell_type": "code",
   "execution_count": 64,
   "metadata": {
    "colab": {
     "base_uri": "https://localhost:8080/",
     "height": 34
    },
    "colab_type": "code",
    "executionInfo": {
     "elapsed": 830,
     "status": "ok",
     "timestamp": 1581695543551,
     "user": {
      "displayName": "Vojtěch Kaše",
      "photoUrl": "https://lh3.googleusercontent.com/a-/AAuE7mAxTlnyE78QMWq7qNrhY8cMOVti0SJqAGwQEptYkQ=s64",
      "userId": "01399835024022498543"
     },
     "user_tz": -60
    },
    "id": "zD1VcQ50cPQz",
    "outputId": "ad935aa2-4777-4d20-a6c8-484cf9b45180"
   },
   "outputs": [
    {
     "data": {
      "text/plain": [
       "1.336068"
      ]
     },
     "execution_count": 64,
     "metadata": {},
     "output_type": "execute_result"
    }
   ],
   "source": [
    "RSS_list = []\n",
    "exp_values = np.linspace(1.33,1.35, 10001)\n",
    "for exp in exp_values: ### for each from 1001 values of exp (or: p) between 1.33 and 1.35:\n",
    "  y_model = dens*(xd**exp) ## tune the model\n",
    "  RSS = sum(np.square(y_model - yd)) # calculate RSS\n",
    "  RSS_list.append(RSS) # add it to the list of all RSS\n",
    "RSS_array = np.array(RSS_list)\n",
    "\n",
    "### now we have a more precise exponent\n",
    "exp = exp_values[np.where(RSS_array==min(RSS_array))][0]\n",
    "exp"
   ]
  },
  {
   "cell_type": "code",
   "execution_count": 65,
   "metadata": {
    "colab": {
     "base_uri": "https://localhost:8080/",
     "height": 34
    },
    "colab_type": "code",
    "executionInfo": {
     "elapsed": 800,
     "status": "ok",
     "timestamp": 1581695545513,
     "user": {
      "displayName": "Vojtěch Kaše",
      "photoUrl": "https://lh3.googleusercontent.com/a-/AAuE7mAxTlnyE78QMWq7qNrhY8cMOVti0SJqAGwQEptYkQ=s64",
      "userId": "01399835024022498543"
     },
     "user_tz": -60
    },
    "id": "atdJKEfymXI9",
    "outputId": "72e1b23b-70f7-48ba-8102-8dde86b7fd22"
   },
   "outputs": [
    {
     "data": {
      "text/plain": [
       "41.8398"
      ]
     },
     "execution_count": 65,
     "metadata": {},
     "output_type": "execute_result"
    }
   ],
   "source": [
    "### let's make the same for the density coefficient:\n",
    "\n",
    "RSS_list = []\n",
    "dens_values = np.linspace(41,42, 10001)\n",
    "for dens in dens_values: ### for each from 1001 values of exp (or: p) between 1.33 and 1.35:\n",
    "  y_model = dens*(xd**exp) ## tune the model\n",
    "  RSS = sum(np.square(y_model - yd)) # calculate RSS\n",
    "  RSS_list.append(RSS) # add it to the list of all RSS\n",
    "RSS_array = np.array(RSS_list)\n",
    "\n",
    "### now we have a more precise exponent\n",
    "dens = dens_values[np.where(RSS_array==min(RSS_array))][0]\n",
    "dens"
   ]
  },
  {
   "cell_type": "code",
   "execution_count": 66,
   "metadata": {
    "colab": {
     "base_uri": "https://localhost:8080/",
     "height": 54
    },
    "colab_type": "code",
    "executionInfo": {
     "elapsed": 565,
     "status": "ok",
     "timestamp": 1581695546911,
     "user": {
      "displayName": "Vojtěch Kaše",
      "photoUrl": "https://lh3.googleusercontent.com/a-/AAuE7mAxTlnyE78QMWq7qNrhY8cMOVti0SJqAGwQEptYkQ=s64",
      "userId": "01399835024022498543"
     },
     "user_tz": -60
    },
    "id": "IAqUV_oto_hf",
    "outputId": "0b98e171-f41d-429a-8bfa-803fc04f3599"
   },
   "outputs": [
    {
     "name": "stdout",
     "output_type": "stream",
     "text": [
      "[58112.0, 1989.0, 63698.0, 410502.0, 102074.0, 4837.0, 6969.0, 3086.0, 3086.0, 41538.0, 8633.0, 5976.0, 2601.0, 11979.0, 15580.0, 71584.0, 13870.0, 4653.0, 3086.0, 18882.0, 6567.0, 56393.0, 47670.0, 1030.0, 19404.0, 673.0, 7582.0, 23429.0, 6767.0, 7376.0, 17849.0, 9718.0, 8209.0, 5210.0, 5976.0, 36851.0, 6969.0, 9498.0, 1989.0, 17084.0, 15086.0, 33806.0, 4291.0, 3086.0, 4837.0, 16077.0, 7582.0, 7376.0, 38397.0, 28210.0, 46036.0, 40589.0, 9938.0, 6767.0, 3590.0, 7582.0, 4291.0, 41538.0, 17338.0, 15332.0, 13391.0, 14596.0, 6368.0, 5022.0, 6171.0, 458.0, 1157.0, 7172.0, 9498.0, 12211.0, 2922.0, 1030.0, 12211.0, 2290.0, 15086.0, 35016.0, 9938.0, 6567.0, 2601.0, 3420.0, 2138.0, 6567.0, 4471.0, 26781.0, 4471.0, 5589.0, 3086.0, 7376.0, 2760.0, 923313.0, 5589.0, 9280.0, 6368.0, 907.0, 4837.0, 1700.0, 2290.0, 14596.0, 4837.0, 1030.0, 8209.0, 6567.0, 14841.0, 2760.0, 458.0, 5399.0, 10608.0, 2290.0, 5399.0, 3086.0, 19666.0, 7999.0, 37159.0, 788.0, 3420.0, 4291.0, 7172.0, 9938.0, 7790.0, 53332.0, 3937.0, 11517.0, 56393.0, 25091.0, 13630.0]\n"
     ]
    }
   ],
   "source": [
    "y_model_fitted = dens*(xd**exp)\n",
    "y_model_fitted = y_model_fitted.round()\n",
    "print(list(y_model_fitted))"
   ]
  },
  {
   "cell_type": "code",
   "execution_count": 67,
   "metadata": {
    "colab": {
     "base_uri": "https://localhost:8080/",
     "height": 741
    },
    "colab_type": "code",
    "executionInfo": {
     "elapsed": 1194,
     "status": "ok",
     "timestamp": 1581695549756,
     "user": {
      "displayName": "Vojtěch Kaše",
      "photoUrl": "https://lh3.googleusercontent.com/a-/AAuE7mAxTlnyE78QMWq7qNrhY8cMOVti0SJqAGwQEptYkQ=s64",
      "userId": "01399835024022498543"
     },
     "user_tz": -60
    },
    "id": "WkiFnXBjqYJN",
    "outputId": "6802d29b-0ba9-455d-aa6c-a7d9e825e5dc"
   },
   "outputs": [
    {
     "data": {
      "text/plain": [
       "(0.0, 100000.0)"
      ]
     },
     "execution_count": 67,
     "metadata": {},
     "output_type": "execute_result"
    },
    {
     "data": {
      "image/png": "[encoded data removed]",
      "text/plain": [
       "<Figure size 432x288 with 1 Axes>"
      ]
     },
     "metadata": {
      "needs_background": "light"
     },
     "output_type": "display_data"
    }
   ],
   "source": [
    "plt.scatter(y_model_fitted, yd)\n",
    "plt.xlim(0, 100000)\n",
    "plt.ylim(0, 100000)"
   ]
  },
  {
   "cell_type": "markdown",
   "metadata": {
    "colab_type": "text",
    "id": "VwjBGqva30P8"
   },
   "source": [
    "Ok, the correlation is almost the same as above, but now we do not overestimate so much. Let's apply it to the dataset as a whole."
   ]
  },
  {
   "cell_type": "markdown",
   "metadata": {
    "colab_type": "text",
    "id": "1ZOMZzEv4L2E"
   },
   "source": [
    "# Applying population estimates to the whole dataset\n",
    "\n",
    "Let's repeat the formula for estimating population sizes\n",
    "\n",
    "(1) <i> N = dA<sup>p</sup>  </i>,\n",
    "\n",
    "where *N* is size of the estimated population, *d* is base coefficient for inhabitants per area, *A* is size of the area in hectares, and exponent *p* makes the hard work of modifying the density per area. To avoid confussion, here we use `dens` instead of *d* and `exp` instead of `p`"
   ]
  },
  {
   "cell_type": "code",
   "execution_count": 68,
   "metadata": {
    "colab": {},
    "colab_type": "code",
    "id": "iYnfwNVx5JDF"
   },
   "outputs": [],
   "source": [
    "exp = 1.336068 ### see above\n",
    "dens = 41.8398 ### see above\n",
    "def get_pop_est(row):\n",
    "    area = row[\"Area\"]\n",
    "    try: \n",
    "        pop_est = round(dens * (area**exp), 0)\n",
    "        if math.isnan(area):\n",
    "            pop_est = 1000\n",
    "    except: \n",
    "        pop_est = 1000\n",
    "    return pop_est\n",
    "cities_pop[\"pop_est\"] = cities_pop.apply(lambda row: get_pop_est(row), axis=1)"
   ]
  },
  {
   "cell_type": "code",
   "execution_count": 69,
   "metadata": {
    "colab": {
     "base_uri": "https://localhost:8080/",
     "height": 153
    },
    "colab_type": "code",
    "executionInfo": {
     "elapsed": 644,
     "status": "ok",
     "timestamp": 1581695557515,
     "user": {
      "displayName": "Vojtěch Kaše",
      "photoUrl": "https://lh3.googleusercontent.com/a-/AAuE7mAxTlnyE78QMWq7qNrhY8cMOVti0SJqAGwQEptYkQ=s64",
      "userId": "01399835024022498543"
     },
     "user_tz": -60
    },
    "id": "iYkTUB6q6m1s",
    "outputId": "ff008a7a-970c-466b-b427-5cd20a220483"
   },
   "outputs": [
    {
     "data": {
      "text/plain": [
       "Index(['Primary Key', 'Ancient Toponym', 'Modern Toponym', 'Province',\n",
       "       'Country', 'Barrington Atlas Rank', 'Barrington Atlas Reference',\n",
       "       'Start Date', 'End Date', 'Longitude (X)', 'Latitude (Y)',\n",
       "       'Select Bibliography', 'Area', 'Estimate Basis', 'Civic Status',\n",
       "       'Structure', 'num_of_structures', 'ID', 'Name', 'Area (ha)',\n",
       "       'Population', 'Forum/agoraarea(m2)', 'Streetarea(m2)',\n",
       "       'Streetlength(m)', 'Streetwidth(m)', 'Blockarea(m2)', 'pop_est'],\n",
       "      dtype='object')"
      ]
     },
     "execution_count": 69,
     "metadata": {},
     "output_type": "execute_result"
    }
   ],
   "source": [
    "cities_pop.columns"
   ]
  },
  {
   "cell_type": "code",
   "execution_count": 70,
   "metadata": {
    "colab": {},
    "colab_type": "code",
    "id": "KPbEYbUw7p-V"
   },
   "outputs": [],
   "source": [
    "cities_pop.drop(['Name', 'Area (ha)',\n",
    "       'Forum/agoraarea(m2)', 'Streetarea(m2)', 'Streetlength(m)',\n",
    "      'Streetwidth(m)', 'Blockarea(m2)',], axis=1, inplace=True)"
   ]
  },
  {
   "cell_type": "code",
   "execution_count": 71,
   "metadata": {
    "colab": {},
    "colab_type": "code",
    "id": "mh3l_1Ne5FZN"
   },
   "outputs": [],
   "source": [
    "cities_pop.rename({\"Population\":\"pop_sample\"}, axis=1, inplace=True)"
   ]
  },
  {
   "cell_type": "code",
   "execution_count": 72,
   "metadata": {
    "colab": {
     "base_uri": "https://localhost:8080/",
     "height": 1000
    },
    "colab_type": "code",
    "executionInfo": {
     "elapsed": 455,
     "status": "ok",
     "timestamp": 1581695563109,
     "user": {
      "displayName": "Vojtěch Kaše",
      "photoUrl": "https://lh3.googleusercontent.com/a-/AAuE7mAxTlnyE78QMWq7qNrhY8cMOVti0SJqAGwQEptYkQ=s64",
      "userId": "01399835024022498543"
     },
     "user_tz": -60
    },
    "id": "_gXVxlqXxxBe",
    "outputId": "96ec81a2-e2a5-4e47-f0c0-c2d5e24269ca"
   },
   "outputs": [
    {
     "data": {
      "text/html": [
       "<div>\n",
       "<style scoped>\n",
       "    .dataframe tbody tr th:only-of-type {\n",
       "        vertical-align: middle;\n",
       "    }\n",
       "\n",
       "    .dataframe tbody tr th {\n",
       "        vertical-align: top;\n",
       "    }\n",
       "\n",
       "    .dataframe thead th {\n",
       "        text-align: right;\n",
       "    }\n",
       "</style>\n",
       "<table border=\"1\" class=\"dataframe\">\n",
       "  <thead>\n",
       "    <tr style=\"text-align: right;\">\n",
       "      <th></th>\n",
       "      <th>Primary Key</th>\n",
       "      <th>Ancient Toponym</th>\n",
       "      <th>Modern Toponym</th>\n",
       "      <th>Province</th>\n",
       "      <th>Country</th>\n",
       "      <th>Barrington Atlas Rank</th>\n",
       "      <th>Barrington Atlas Reference</th>\n",
       "      <th>Start Date</th>\n",
       "      <th>End Date</th>\n",
       "      <th>Longitude (X)</th>\n",
       "      <th>...</th>\n",
       "      <th>Select Bibliography</th>\n",
       "      <th>Area</th>\n",
       "      <th>Estimate Basis</th>\n",
       "      <th>Civic Status</th>\n",
       "      <th>Structure</th>\n",
       "      <th>num_of_structures</th>\n",
       "      <th>ID</th>\n",
       "      <th>pop_sample</th>\n",
       "      <th>pop_est</th>\n",
       "      <th>pop_diff</th>\n",
       "    </tr>\n",
       "  </thead>\n",
       "  <tbody>\n",
       "    <tr>\n",
       "      <th>673</th>\n",
       "      <td>Hanson2016_674</td>\n",
       "      <td>Noviodunum (Germania Superior)</td>\n",
       "      <td>Nyon</td>\n",
       "      <td>Germania Superior</td>\n",
       "      <td>Switzerland</td>\n",
       "      <td>4 or 5</td>\n",
       "      <td>18 D3</td>\n",
       "      <td>-49</td>\n",
       "      <td>NaN</td>\n",
       "      <td>6.238391</td>\n",
       "      <td>...</td>\n",
       "      <td>Bedon 2001; Bedon et al 1988; BNP; Cornell and...</td>\n",
       "      <td>6.0</td>\n",
       "      <td>Urban grid</td>\n",
       "      <td>[Colonia, Rights and privileges]</td>\n",
       "      <td>[Basilica, Baths, Forum, Forum, Macellum, Mith...</td>\n",
       "      <td>8</td>\n",
       "      <td>674</td>\n",
       "      <td>2290.0</td>\n",
       "      <td>458.0</td>\n",
       "      <td>5.000000</td>\n",
       "    </tr>\n",
       "    <tr>\n",
       "      <th>775</th>\n",
       "      <td>Hanson2016_776</td>\n",
       "      <td>Herculaneum</td>\n",
       "      <td>Ercolano</td>\n",
       "      <td>Italia (I Latium and Campania)</td>\n",
       "      <td>Italy</td>\n",
       "      <td>3</td>\n",
       "      <td>44 F4</td>\n",
       "      <td>-600</td>\n",
       "      <td>79.0</td>\n",
       "      <td>14.347143</td>\n",
       "      <td>...</td>\n",
       "      <td>Beloch 1880; Bispham 2007; de Ligt 2012; DGRG;...</td>\n",
       "      <td>20.0</td>\n",
       "      <td>Unspecified</td>\n",
       "      <td>[Municipium]</td>\n",
       "      <td>[Arch, Arch, Basilica, Baths, Baths, Baths (Ce...</td>\n",
       "      <td>14</td>\n",
       "      <td>776</td>\n",
       "      <td>7401.0</td>\n",
       "      <td>2290.0</td>\n",
       "      <td>3.231878</td>\n",
       "    </tr>\n",
       "    <tr>\n",
       "      <th>1161</th>\n",
       "      <td>Hanson2016_1162</td>\n",
       "      <td>Thessalonica</td>\n",
       "      <td>Thessaloniki</td>\n",
       "      <td>Macedonia</td>\n",
       "      <td>Greece</td>\n",
       "      <td>1</td>\n",
       "      <td>50 C3</td>\n",
       "      <td>-316</td>\n",
       "      <td>NaN</td>\n",
       "      <td>22.945540</td>\n",
       "      <td>...</td>\n",
       "      <td>Cohen 1995; McEvedy 2011; Nelis-Clément and Ro...</td>\n",
       "      <td>161.0</td>\n",
       "      <td>Urban grid and walls (Late Roman)</td>\n",
       "      <td>[Colonia, Metropolis capital, Provincial capit...</td>\n",
       "      <td>[Acropolis, Agora, Arch, Arch of Galerius, Bas...</td>\n",
       "      <td>17</td>\n",
       "      <td>1162</td>\n",
       "      <td>70860.0</td>\n",
       "      <td>37159.0</td>\n",
       "      <td>1.906940</td>\n",
       "    </tr>\n",
       "    <tr>\n",
       "      <th>1047</th>\n",
       "      <td>Hanson2016_1048</td>\n",
       "      <td>Brixia</td>\n",
       "      <td>Brescia</td>\n",
       "      <td>Italia (X Venetia et Histria)</td>\n",
       "      <td>Italy</td>\n",
       "      <td>2</td>\n",
       "      <td>39 G2</td>\n",
       "      <td>-89</td>\n",
       "      <td>NaN</td>\n",
       "      <td>10.219836</td>\n",
       "      <td>...</td>\n",
       "      <td>Beloch 1880; Cornell and Mathews 1982; de Ligt...</td>\n",
       "      <td>35.0</td>\n",
       "      <td>Urban grid</td>\n",
       "      <td>[Colonia, Municipium]</td>\n",
       "      <td>[Basilica, Forum, Sanctuary, Temple, Temple ('...</td>\n",
       "      <td>8</td>\n",
       "      <td>1048</td>\n",
       "      <td>7790.0</td>\n",
       "      <td>4837.0</td>\n",
       "      <td>1.610502</td>\n",
       "    </tr>\n",
       "    <tr>\n",
       "      <th>1157</th>\n",
       "      <td>Hanson2016_1158</td>\n",
       "      <td>Pella (Macedonia)</td>\n",
       "      <td>Pella</td>\n",
       "      <td>Macedonia</td>\n",
       "      <td>Greece</td>\n",
       "      <td>2</td>\n",
       "      <td>50 C3</td>\n",
       "      <td>-413</td>\n",
       "      <td>NaN</td>\n",
       "      <td>22.525641</td>\n",
       "      <td>...</td>\n",
       "      <td>BNP; Brunt 1971; Cornell and Mathews 1982; DGR...</td>\n",
       "      <td>100.0</td>\n",
       "      <td>Urban grid, 1,000 by 1,000</td>\n",
       "      <td>[Colonia, Colonia, Rights and privileges, Righ...</td>\n",
       "      <td>[Acropolis, Agora, Sanctuary of Aphrodite and ...</td>\n",
       "      <td>8</td>\n",
       "      <td>1158</td>\n",
       "      <td>29368.0</td>\n",
       "      <td>19666.0</td>\n",
       "      <td>1.493339</td>\n",
       "    </tr>\n",
       "    <tr>\n",
       "      <th>1170</th>\n",
       "      <td>Hanson2016_1171</td>\n",
       "      <td>Cuicul</td>\n",
       "      <td>Djemila</td>\n",
       "      <td>Mauretania Caesariensis</td>\n",
       "      <td>Algeria</td>\n",
       "      <td>3</td>\n",
       "      <td>31 D4</td>\n",
       "      <td>96</td>\n",
       "      <td>NaN</td>\n",
       "      <td>5.735732</td>\n",
       "      <td>...</td>\n",
       "      <td>BNP; DGRG; Lepelley 1979-1981; PECS; Quinn and...</td>\n",
       "      <td>9.0</td>\n",
       "      <td>Inhabited area</td>\n",
       "      <td>[Colonia, Colonia]</td>\n",
       "      <td>[Aqueduct, Arch, Arch of Caracalla, Basilica, ...</td>\n",
       "      <td>19</td>\n",
       "      <td>1171</td>\n",
       "      <td>1157.0</td>\n",
       "      <td>788.0</td>\n",
       "      <td>1.468274</td>\n",
       "    </tr>\n",
       "    <tr>\n",
       "      <th>342</th>\n",
       "      <td>Hanson2016_343</td>\n",
       "      <td>Iluro</td>\n",
       "      <td>Mataró</td>\n",
       "      <td>Baetica</td>\n",
       "      <td>Spain</td>\n",
       "      <td>3</td>\n",
       "      <td>26 F5</td>\n",
       "      <td>-100</td>\n",
       "      <td>NaN</td>\n",
       "      <td>-4.706673</td>\n",
       "      <td>...</td>\n",
       "      <td>Brunt 1971; Carreras Monfort 1995-1996; Cornel...</td>\n",
       "      <td>8.0</td>\n",
       "      <td>Urban grid</td>\n",
       "      <td>[Municipium, Rights and privileges]</td>\n",
       "      <td>[Baths, Forum, Fountain, Urban grid]</td>\n",
       "      <td>4</td>\n",
       "      <td>343</td>\n",
       "      <td>907.0</td>\n",
       "      <td>673.0</td>\n",
       "      <td>1.347697</td>\n",
       "    </tr>\n",
       "    <tr>\n",
       "      <th>1044</th>\n",
       "      <td>Hanson2016_1045</td>\n",
       "      <td>Aquileia</td>\n",
       "      <td>Aquileia</td>\n",
       "      <td>Italia (X Venetia et Histria)</td>\n",
       "      <td>Italy</td>\n",
       "      <td>2</td>\n",
       "      <td>19 F4</td>\n",
       "      <td>-181</td>\n",
       "      <td>NaN</td>\n",
       "      <td>13.367051</td>\n",
       "      <td>...</td>\n",
       "      <td>Beloch 1880; Beloch 1886; Bispham 2007; Cornel...</td>\n",
       "      <td>80.0</td>\n",
       "      <td>Walls of Julian the Apostate</td>\n",
       "      <td>[Colonia, Colonia, Colonia?, Municipium, Right...</td>\n",
       "      <td>[Amphitheatre, Basilica, Baths, Baths (Large),...</td>\n",
       "      <td>18</td>\n",
       "      <td>1045</td>\n",
       "      <td>19667.0</td>\n",
       "      <td>14596.0</td>\n",
       "      <td>1.347424</td>\n",
       "    </tr>\n",
       "    <tr>\n",
       "      <th>1020</th>\n",
       "      <td>Hanson2016_1021</td>\n",
       "      <td>Placentia</td>\n",
       "      <td>Piacenza</td>\n",
       "      <td>Italia (VIII Aemilia)</td>\n",
       "      <td>Italy</td>\n",
       "      <td>2</td>\n",
       "      <td>39 F3</td>\n",
       "      <td>-218</td>\n",
       "      <td>NaN</td>\n",
       "      <td>9.693115</td>\n",
       "      <td>...</td>\n",
       "      <td>Beloch 1880; Bispham 2007; Cornell and Mathews...</td>\n",
       "      <td>43.0</td>\n",
       "      <td>Urban grid</td>\n",
       "      <td>[Colonia, Colonia, Colonia, Municipium, Rights...</td>\n",
       "      <td>[Amphitheatre, Capitolium, Forum?, Macellum, U...</td>\n",
       "      <td>7</td>\n",
       "      <td>1021</td>\n",
       "      <td>7790.0</td>\n",
       "      <td>6368.0</td>\n",
       "      <td>1.223304</td>\n",
       "    </tr>\n",
       "    <tr>\n",
       "      <th>1132</th>\n",
       "      <td>Hanson2016_1133</td>\n",
       "      <td>Sagalassus</td>\n",
       "      <td>Aglasun</td>\n",
       "      <td>Lycia et Pamphylia</td>\n",
       "      <td>Turkey</td>\n",
       "      <td>2</td>\n",
       "      <td>65 E2</td>\n",
       "      <td>-323</td>\n",
       "      <td>NaN</td>\n",
       "      <td>30.519188</td>\n",
       "      <td>...</td>\n",
       "      <td>BNP; DGRG; Hanson 2011; Jones 1937; PECS; Sear...</td>\n",
       "      <td>20.0</td>\n",
       "      <td>Inhabited area</td>\n",
       "      <td>[Rights and privileges]</td>\n",
       "      <td>[Acropolis, Agora, Agora, Baths, Bouleuterion,...</td>\n",
       "      <td>18</td>\n",
       "      <td>1133</td>\n",
       "      <td>2601.0</td>\n",
       "      <td>2290.0</td>\n",
       "      <td>1.135808</td>\n",
       "    </tr>\n",
       "  </tbody>\n",
       "</table>\n",
       "<p>10 rows × 21 columns</p>\n",
       "</div>"
      ],
      "text/plain": [
       "          Primary Key                 Ancient Toponym Modern Toponym  \\\n",
       "673    Hanson2016_674  Noviodunum (Germania Superior)           Nyon   \n",
       "775    Hanson2016_776                     Herculaneum       Ercolano   \n",
       "1161  Hanson2016_1162                    Thessalonica   Thessaloniki   \n",
       "1047  Hanson2016_1048                          Brixia        Brescia   \n",
       "1157  Hanson2016_1158               Pella (Macedonia)          Pella   \n",
       "1170  Hanson2016_1171                          Cuicul        Djemila   \n",
       "342    Hanson2016_343                           Iluro         Mataró   \n",
       "1044  Hanson2016_1045                        Aquileia       Aquileia   \n",
       "1020  Hanson2016_1021                       Placentia       Piacenza   \n",
       "1132  Hanson2016_1133                      Sagalassus        Aglasun   \n",
       "\n",
       "                            Province      Country Barrington Atlas Rank  \\\n",
       "673                Germania Superior  Switzerland                4 or 5   \n",
       "775   Italia (I Latium and Campania)        Italy                     3   \n",
       "1161                       Macedonia       Greece                     1   \n",
       "1047   Italia (X Venetia et Histria)        Italy                     2   \n",
       "1157                       Macedonia       Greece                     2   \n",
       "1170         Mauretania Caesariensis      Algeria                     3   \n",
       "342                          Baetica        Spain                     3   \n",
       "1044   Italia (X Venetia et Histria)        Italy                     2   \n",
       "1020           Italia (VIII Aemilia)        Italy                     2   \n",
       "1132              Lycia et Pamphylia       Turkey                     2   \n",
       "\n",
       "     Barrington Atlas Reference  Start Date  End Date  Longitude (X)  ...  \\\n",
       "673                       18 D3         -49       NaN       6.238391  ...   \n",
       "775                       44 F4        -600      79.0      14.347143  ...   \n",
       "1161                      50 C3        -316       NaN      22.945540  ...   \n",
       "1047                      39 G2         -89       NaN      10.219836  ...   \n",
       "1157                      50 C3        -413       NaN      22.525641  ...   \n",
       "1170                      31 D4          96       NaN       5.735732  ...   \n",
       "342                       26 F5        -100       NaN      -4.706673  ...   \n",
       "1044                      19 F4        -181       NaN      13.367051  ...   \n",
       "1020                      39 F3        -218       NaN       9.693115  ...   \n",
       "1132                      65 E2        -323       NaN      30.519188  ...   \n",
       "\n",
       "                                    Select Bibliography   Area  \\\n",
       "673   Bedon 2001; Bedon et al 1988; BNP; Cornell and...    6.0   \n",
       "775   Beloch 1880; Bispham 2007; de Ligt 2012; DGRG;...   20.0   \n",
       "1161  Cohen 1995; McEvedy 2011; Nelis-Clément and Ro...  161.0   \n",
       "1047  Beloch 1880; Cornell and Mathews 1982; de Ligt...   35.0   \n",
       "1157  BNP; Brunt 1971; Cornell and Mathews 1982; DGR...  100.0   \n",
       "1170  BNP; DGRG; Lepelley 1979-1981; PECS; Quinn and...    9.0   \n",
       "342   Brunt 1971; Carreras Monfort 1995-1996; Cornel...    8.0   \n",
       "1044  Beloch 1880; Beloch 1886; Bispham 2007; Cornel...   80.0   \n",
       "1020  Beloch 1880; Bispham 2007; Cornell and Mathews...   43.0   \n",
       "1132  BNP; DGRG; Hanson 2011; Jones 1937; PECS; Sear...   20.0   \n",
       "\n",
       "                         Estimate Basis  \\\n",
       "673                          Urban grid   \n",
       "775                         Unspecified   \n",
       "1161  Urban grid and walls (Late Roman)   \n",
       "1047                         Urban grid   \n",
       "1157         Urban grid, 1,000 by 1,000   \n",
       "1170                     Inhabited area   \n",
       "342                          Urban grid   \n",
       "1044       Walls of Julian the Apostate   \n",
       "1020                         Urban grid   \n",
       "1132                     Inhabited area   \n",
       "\n",
       "                                           Civic Status  \\\n",
       "673                    [Colonia, Rights and privileges]   \n",
       "775                                        [Municipium]   \n",
       "1161  [Colonia, Metropolis capital, Provincial capit...   \n",
       "1047                              [Colonia, Municipium]   \n",
       "1157  [Colonia, Colonia, Rights and privileges, Righ...   \n",
       "1170                                 [Colonia, Colonia]   \n",
       "342                 [Municipium, Rights and privileges]   \n",
       "1044  [Colonia, Colonia, Colonia?, Municipium, Right...   \n",
       "1020  [Colonia, Colonia, Colonia, Municipium, Rights...   \n",
       "1132                            [Rights and privileges]   \n",
       "\n",
       "                                              Structure num_of_structures  \\\n",
       "673   [Basilica, Baths, Forum, Forum, Macellum, Mith...                 8   \n",
       "775   [Arch, Arch, Basilica, Baths, Baths, Baths (Ce...                14   \n",
       "1161  [Acropolis, Agora, Arch, Arch of Galerius, Bas...                17   \n",
       "1047  [Basilica, Forum, Sanctuary, Temple, Temple ('...                 8   \n",
       "1157  [Acropolis, Agora, Sanctuary of Aphrodite and ...                 8   \n",
       "1170  [Aqueduct, Arch, Arch of Caracalla, Basilica, ...                19   \n",
       "342                [Baths, Forum, Fountain, Urban grid]                 4   \n",
       "1044  [Amphitheatre, Basilica, Baths, Baths (Large),...                18   \n",
       "1020  [Amphitheatre, Capitolium, Forum?, Macellum, U...                 7   \n",
       "1132  [Acropolis, Agora, Agora, Baths, Bouleuterion,...                18   \n",
       "\n",
       "        ID pop_sample  pop_est  pop_diff  \n",
       "673    674     2290.0    458.0  5.000000  \n",
       "775    776     7401.0   2290.0  3.231878  \n",
       "1161  1162    70860.0  37159.0  1.906940  \n",
       "1047  1048     7790.0   4837.0  1.610502  \n",
       "1157  1158    29368.0  19666.0  1.493339  \n",
       "1170  1171     1157.0    788.0  1.468274  \n",
       "342    343      907.0    673.0  1.347697  \n",
       "1044  1045    19667.0  14596.0  1.347424  \n",
       "1020  1021     7790.0   6368.0  1.223304  \n",
       "1132  1133     2601.0   2290.0  1.135808  \n",
       "\n",
       "[10 rows x 21 columns]"
      ]
     },
     "execution_count": 72,
     "metadata": {},
     "output_type": "execute_result"
    }
   ],
   "source": [
    "def get_pop_diff(row):\n",
    "  try: return abs(row[\"pop_sample\"] / row[\"pop_est\"])\n",
    "  except: return 0\n",
    "cities_pop[\"pop_diff\"] = cities_pop.apply(lambda row: get_pop_diff(row), axis=1)\n",
    "cities_pop.sort_values(\"pop_diff\", ascending=False).head(10)"
   ]
  },
  {
   "cell_type": "code",
   "execution_count": 73,
   "metadata": {},
   "outputs": [
    {
     "data": {
      "text/html": [
       "<div>\n",
       "<style scoped>\n",
       "    .dataframe tbody tr th:only-of-type {\n",
       "        vertical-align: middle;\n",
       "    }\n",
       "\n",
       "    .dataframe tbody tr th {\n",
       "        vertical-align: top;\n",
       "    }\n",
       "\n",
       "    .dataframe thead th {\n",
       "        text-align: right;\n",
       "    }\n",
       "</style>\n",
       "<table border=\"1\" class=\"dataframe\">\n",
       "  <thead>\n",
       "    <tr style=\"text-align: right;\">\n",
       "      <th></th>\n",
       "      <th>Primary Key</th>\n",
       "      <th>Ancient Toponym</th>\n",
       "      <th>Modern Toponym</th>\n",
       "      <th>Province</th>\n",
       "      <th>Country</th>\n",
       "      <th>Barrington Atlas Rank</th>\n",
       "      <th>Barrington Atlas Reference</th>\n",
       "      <th>Start Date</th>\n",
       "      <th>End Date</th>\n",
       "      <th>Longitude (X)</th>\n",
       "      <th>...</th>\n",
       "      <th>Select Bibliography</th>\n",
       "      <th>Area</th>\n",
       "      <th>Estimate Basis</th>\n",
       "      <th>Civic Status</th>\n",
       "      <th>Structure</th>\n",
       "      <th>num_of_structures</th>\n",
       "      <th>ID</th>\n",
       "      <th>pop_sample</th>\n",
       "      <th>pop_est</th>\n",
       "      <th>pop_diff</th>\n",
       "    </tr>\n",
       "  </thead>\n",
       "  <tbody>\n",
       "    <tr>\n",
       "      <th>0</th>\n",
       "      <td>Hanson2016_1</td>\n",
       "      <td>Abae</td>\n",
       "      <td>Kalapodi</td>\n",
       "      <td>Achaea</td>\n",
       "      <td>Greece</td>\n",
       "      <td>4 or 5</td>\n",
       "      <td>55 D3</td>\n",
       "      <td>-600</td>\n",
       "      <td>NaN</td>\n",
       "      <td>22.933333</td>\n",
       "      <td>...</td>\n",
       "      <td>BNP; Hansen 2006; Hansen and Nielsen 2004; PEC...</td>\n",
       "      <td>16.0</td>\n",
       "      <td>Walls</td>\n",
       "      <td>[Rights and privileges]</td>\n",
       "      <td>[Acropolis, Agora, Temple of Apollo, Theatre, ...</td>\n",
       "      <td>5</td>\n",
       "      <td>1</td>\n",
       "      <td>NaN</td>\n",
       "      <td>1700.0</td>\n",
       "      <td>NaN</td>\n",
       "    </tr>\n",
       "    <tr>\n",
       "      <th>1</th>\n",
       "      <td>Hanson2016_2</td>\n",
       "      <td>Acharnae</td>\n",
       "      <td>Acharnes</td>\n",
       "      <td>Achaea</td>\n",
       "      <td>Greece</td>\n",
       "      <td>3</td>\n",
       "      <td>59 B2</td>\n",
       "      <td>-600</td>\n",
       "      <td>NaN</td>\n",
       "      <td>23.734088</td>\n",
       "      <td>...</td>\n",
       "      <td>BNP; DGRG; PECS; Sear 2006.</td>\n",
       "      <td>NaN</td>\n",
       "      <td>NaN</td>\n",
       "      <td>NaN</td>\n",
       "      <td>[Sanctuary of Apollo Argyieus, Sanctuary of He...</td>\n",
       "      <td>3</td>\n",
       "      <td>2</td>\n",
       "      <td>NaN</td>\n",
       "      <td>1000.0</td>\n",
       "      <td>NaN</td>\n",
       "    </tr>\n",
       "    <tr>\n",
       "      <th>2</th>\n",
       "      <td>Hanson2016_3</td>\n",
       "      <td>Acraephia</td>\n",
       "      <td>Akraifnio</td>\n",
       "      <td>Achaea</td>\n",
       "      <td>Greece</td>\n",
       "      <td>3</td>\n",
       "      <td>55 E4</td>\n",
       "      <td>-600</td>\n",
       "      <td>NaN</td>\n",
       "      <td>23.219702</td>\n",
       "      <td>...</td>\n",
       "      <td>BNP; DGRG; Hansen and Nielsen 2004; PECS; Sear...</td>\n",
       "      <td>NaN</td>\n",
       "      <td>NaN</td>\n",
       "      <td>NaN</td>\n",
       "      <td>[Acropolis, Agora, Fountain, Temple of Apollo ...</td>\n",
       "      <td>7</td>\n",
       "      <td>3</td>\n",
       "      <td>NaN</td>\n",
       "      <td>1000.0</td>\n",
       "      <td>NaN</td>\n",
       "    </tr>\n",
       "    <tr>\n",
       "      <th>3</th>\n",
       "      <td>Hanson2016_4</td>\n",
       "      <td>Aegina</td>\n",
       "      <td>Aigina</td>\n",
       "      <td>Achaea</td>\n",
       "      <td>Greece</td>\n",
       "      <td>2</td>\n",
       "      <td>59 A3</td>\n",
       "      <td>-600</td>\n",
       "      <td>NaN</td>\n",
       "      <td>23.428500</td>\n",
       "      <td>...</td>\n",
       "      <td>BNP; DGRG; Hansen 2006; Hansen and Nielsen 200...</td>\n",
       "      <td>52.0</td>\n",
       "      <td>Inhabited area</td>\n",
       "      <td>[Rights and privileges]</td>\n",
       "      <td>[Shrine of Aeacus, Stadium, Temple of Aphrodit...</td>\n",
       "      <td>8</td>\n",
       "      <td>4</td>\n",
       "      <td>NaN</td>\n",
       "      <td>8209.0</td>\n",
       "      <td>NaN</td>\n",
       "    </tr>\n",
       "    <tr>\n",
       "      <th>4</th>\n",
       "      <td>Hanson2016_5</td>\n",
       "      <td>Aegira</td>\n",
       "      <td>Aigeira</td>\n",
       "      <td>Achaea</td>\n",
       "      <td>Greece</td>\n",
       "      <td>3</td>\n",
       "      <td>58 C1</td>\n",
       "      <td>-600</td>\n",
       "      <td>NaN</td>\n",
       "      <td>22.355720</td>\n",
       "      <td>...</td>\n",
       "      <td>DGRG; Hansen and Nielsen 2004.</td>\n",
       "      <td>NaN</td>\n",
       "      <td>NaN</td>\n",
       "      <td>NaN</td>\n",
       "      <td>[Acropolis, Agora, Gymnasium, Temple of Aphrod...</td>\n",
       "      <td>8</td>\n",
       "      <td>5</td>\n",
       "      <td>NaN</td>\n",
       "      <td>1000.0</td>\n",
       "      <td>NaN</td>\n",
       "    </tr>\n",
       "    <tr>\n",
       "      <th>...</th>\n",
       "      <td>...</td>\n",
       "      <td>...</td>\n",
       "      <td>...</td>\n",
       "      <td>...</td>\n",
       "      <td>...</td>\n",
       "      <td>...</td>\n",
       "      <td>...</td>\n",
       "      <td>...</td>\n",
       "      <td>...</td>\n",
       "      <td>...</td>\n",
       "      <td>...</td>\n",
       "      <td>...</td>\n",
       "      <td>...</td>\n",
       "      <td>...</td>\n",
       "      <td>...</td>\n",
       "      <td>...</td>\n",
       "      <td>...</td>\n",
       "      <td>...</td>\n",
       "      <td>...</td>\n",
       "      <td>...</td>\n",
       "      <td>...</td>\n",
       "    </tr>\n",
       "    <tr>\n",
       "      <th>1383</th>\n",
       "      <td>Hanson2016_1384</td>\n",
       "      <td>Pautalia</td>\n",
       "      <td>Kyustendi</td>\n",
       "      <td>Thracia</td>\n",
       "      <td>Bulgaria</td>\n",
       "      <td>3</td>\n",
       "      <td>49 E1</td>\n",
       "      <td>98</td>\n",
       "      <td>NaN</td>\n",
       "      <td>22.680752</td>\n",
       "      <td>...</td>\n",
       "      <td>BNP; DGRG; Jones 1937; PECS; Wilkes 2003b.</td>\n",
       "      <td>NaN</td>\n",
       "      <td>NaN</td>\n",
       "      <td>[Rights and privileges]</td>\n",
       "      <td>[Acropolis, Baths, Forum, Gymnasium, Temple of...</td>\n",
       "      <td>11</td>\n",
       "      <td>1384</td>\n",
       "      <td>NaN</td>\n",
       "      <td>1000.0</td>\n",
       "      <td>NaN</td>\n",
       "    </tr>\n",
       "    <tr>\n",
       "      <th>1384</th>\n",
       "      <td>Hanson2016_1385</td>\n",
       "      <td>Philippopolis (Thracia)</td>\n",
       "      <td>Plovdiv</td>\n",
       "      <td>Thracia</td>\n",
       "      <td>Bulgaria</td>\n",
       "      <td>2</td>\n",
       "      <td>22 B6</td>\n",
       "      <td>-342</td>\n",
       "      <td>NaN</td>\n",
       "      <td>24.750913</td>\n",
       "      <td>...</td>\n",
       "      <td>BNP; Cohen 1995; DGRG; Hansen and Nielsen 2004...</td>\n",
       "      <td>78.0</td>\n",
       "      <td>Walls</td>\n",
       "      <td>[Colonia, Metropolis capital, Provincial capital]</td>\n",
       "      <td>[Acropolis, Agora, Aqueduct, Baths, Hippodrome...</td>\n",
       "      <td>12</td>\n",
       "      <td>1385</td>\n",
       "      <td>NaN</td>\n",
       "      <td>14111.0</td>\n",
       "      <td>NaN</td>\n",
       "    </tr>\n",
       "    <tr>\n",
       "      <th>1385</th>\n",
       "      <td>Hanson2016_1386</td>\n",
       "      <td>Samothrace</td>\n",
       "      <td>Samothrace</td>\n",
       "      <td>Thracia</td>\n",
       "      <td>Greece</td>\n",
       "      <td>3</td>\n",
       "      <td>51 F3</td>\n",
       "      <td>-700</td>\n",
       "      <td>NaN</td>\n",
       "      <td>25.529249</td>\n",
       "      <td>...</td>\n",
       "      <td>BNP; Hansen 2006; Hansen and Nielsen 2004; PEC...</td>\n",
       "      <td>26.0</td>\n",
       "      <td>Walls</td>\n",
       "      <td>[Rights and privileges]</td>\n",
       "      <td>[Acropolis, Sanctuary of the Great Gods, Stoa,...</td>\n",
       "      <td>6</td>\n",
       "      <td>1386</td>\n",
       "      <td>NaN</td>\n",
       "      <td>3252.0</td>\n",
       "      <td>NaN</td>\n",
       "    </tr>\n",
       "    <tr>\n",
       "      <th>1386</th>\n",
       "      <td>Hanson2016_1387</td>\n",
       "      <td>Serdica</td>\n",
       "      <td>Sophia</td>\n",
       "      <td>Thracia</td>\n",
       "      <td>Bulgaria</td>\n",
       "      <td>2</td>\n",
       "      <td>21 F7</td>\n",
       "      <td>45</td>\n",
       "      <td>NaN</td>\n",
       "      <td>23.342891</td>\n",
       "      <td>...</td>\n",
       "      <td>BNP; DGRG; Jones 1937; PECS; Sear 2006; Wilkes...</td>\n",
       "      <td>84.0</td>\n",
       "      <td>Inhabited area</td>\n",
       "      <td>[Colonia, Rights and privileges]</td>\n",
       "      <td>[Amphitheatre, Basilica, Baths, Bouleuterion, ...</td>\n",
       "      <td>9</td>\n",
       "      <td>1387</td>\n",
       "      <td>NaN</td>\n",
       "      <td>15580.0</td>\n",
       "      <td>NaN</td>\n",
       "    </tr>\n",
       "    <tr>\n",
       "      <th>1387</th>\n",
       "      <td>Hanson2016_1388</td>\n",
       "      <td>Seuthopolis</td>\n",
       "      <td>Kazanlak</td>\n",
       "      <td>Thracia</td>\n",
       "      <td>Bulgaria</td>\n",
       "      <td>4 or 5</td>\n",
       "      <td>22 C6</td>\n",
       "      <td>-400</td>\n",
       "      <td>NaN</td>\n",
       "      <td>25.274047</td>\n",
       "      <td>...</td>\n",
       "      <td>BNP; Cohen 1995; Hansen and Nielsen 2004; PECS...</td>\n",
       "      <td>5.0</td>\n",
       "      <td>Walls</td>\n",
       "      <td>NaN</td>\n",
       "      <td>[Agora, Temple of Dionysus, Urban grid, Walls]</td>\n",
       "      <td>4</td>\n",
       "      <td>1388</td>\n",
       "      <td>NaN</td>\n",
       "      <td>359.0</td>\n",
       "      <td>NaN</td>\n",
       "    </tr>\n",
       "  </tbody>\n",
       "</table>\n",
       "<p>1388 rows × 21 columns</p>\n",
       "</div>"
      ],
      "text/plain": [
       "          Primary Key          Ancient Toponym Modern Toponym Province  \\\n",
       "0        Hanson2016_1                     Abae       Kalapodi   Achaea   \n",
       "1        Hanson2016_2                 Acharnae       Acharnes   Achaea   \n",
       "2        Hanson2016_3                Acraephia      Akraifnio   Achaea   \n",
       "3        Hanson2016_4                   Aegina         Aigina   Achaea   \n",
       "4        Hanson2016_5                   Aegira        Aigeira   Achaea   \n",
       "...               ...                      ...            ...      ...   \n",
       "1383  Hanson2016_1384                 Pautalia      Kyustendi  Thracia   \n",
       "1384  Hanson2016_1385  Philippopolis (Thracia)        Plovdiv  Thracia   \n",
       "1385  Hanson2016_1386               Samothrace     Samothrace  Thracia   \n",
       "1386  Hanson2016_1387                  Serdica         Sophia  Thracia   \n",
       "1387  Hanson2016_1388              Seuthopolis       Kazanlak  Thracia   \n",
       "\n",
       "       Country Barrington Atlas Rank Barrington Atlas Reference  Start Date  \\\n",
       "0       Greece                4 or 5                      55 D3        -600   \n",
       "1       Greece                     3                      59 B2        -600   \n",
       "2       Greece                     3                      55 E4        -600   \n",
       "3       Greece                     2                      59 A3        -600   \n",
       "4       Greece                     3                      58 C1        -600   \n",
       "...        ...                   ...                        ...         ...   \n",
       "1383  Bulgaria                     3                      49 E1          98   \n",
       "1384  Bulgaria                     2                      22 B6        -342   \n",
       "1385    Greece                     3                      51 F3        -700   \n",
       "1386  Bulgaria                     2                      21 F7          45   \n",
       "1387  Bulgaria                4 or 5                      22 C6        -400   \n",
       "\n",
       "      End Date  Longitude (X)  ...  \\\n",
       "0          NaN      22.933333  ...   \n",
       "1          NaN      23.734088  ...   \n",
       "2          NaN      23.219702  ...   \n",
       "3          NaN      23.428500  ...   \n",
       "4          NaN      22.355720  ...   \n",
       "...        ...            ...  ...   \n",
       "1383       NaN      22.680752  ...   \n",
       "1384       NaN      24.750913  ...   \n",
       "1385       NaN      25.529249  ...   \n",
       "1386       NaN      23.342891  ...   \n",
       "1387       NaN      25.274047  ...   \n",
       "\n",
       "                                    Select Bibliography  Area  Estimate Basis  \\\n",
       "0     BNP; Hansen 2006; Hansen and Nielsen 2004; PEC...  16.0           Walls   \n",
       "1                           BNP; DGRG; PECS; Sear 2006.   NaN             NaN   \n",
       "2     BNP; DGRG; Hansen and Nielsen 2004; PECS; Sear...   NaN             NaN   \n",
       "3     BNP; DGRG; Hansen 2006; Hansen and Nielsen 200...  52.0  Inhabited area   \n",
       "4                        DGRG; Hansen and Nielsen 2004.   NaN             NaN   \n",
       "...                                                 ...   ...             ...   \n",
       "1383         BNP; DGRG; Jones 1937; PECS; Wilkes 2003b.   NaN             NaN   \n",
       "1384  BNP; Cohen 1995; DGRG; Hansen and Nielsen 2004...  78.0           Walls   \n",
       "1385  BNP; Hansen 2006; Hansen and Nielsen 2004; PEC...  26.0           Walls   \n",
       "1386  BNP; DGRG; Jones 1937; PECS; Sear 2006; Wilkes...  84.0  Inhabited area   \n",
       "1387  BNP; Cohen 1995; Hansen and Nielsen 2004; PECS...   5.0           Walls   \n",
       "\n",
       "                                           Civic Status  \\\n",
       "0                               [Rights and privileges]   \n",
       "1                                                   NaN   \n",
       "2                                                   NaN   \n",
       "3                               [Rights and privileges]   \n",
       "4                                                   NaN   \n",
       "...                                                 ...   \n",
       "1383                            [Rights and privileges]   \n",
       "1384  [Colonia, Metropolis capital, Provincial capital]   \n",
       "1385                            [Rights and privileges]   \n",
       "1386                   [Colonia, Rights and privileges]   \n",
       "1387                                                NaN   \n",
       "\n",
       "                                              Structure num_of_structures  \\\n",
       "0     [Acropolis, Agora, Temple of Apollo, Theatre, ...                 5   \n",
       "1     [Sanctuary of Apollo Argyieus, Sanctuary of He...                 3   \n",
       "2     [Acropolis, Agora, Fountain, Temple of Apollo ...                 7   \n",
       "3     [Shrine of Aeacus, Stadium, Temple of Aphrodit...                 8   \n",
       "4     [Acropolis, Agora, Gymnasium, Temple of Aphrod...                 8   \n",
       "...                                                 ...               ...   \n",
       "1383  [Acropolis, Baths, Forum, Gymnasium, Temple of...                11   \n",
       "1384  [Acropolis, Agora, Aqueduct, Baths, Hippodrome...                12   \n",
       "1385  [Acropolis, Sanctuary of the Great Gods, Stoa,...                 6   \n",
       "1386  [Amphitheatre, Basilica, Baths, Bouleuterion, ...                 9   \n",
       "1387     [Agora, Temple of Dionysus, Urban grid, Walls]                 4   \n",
       "\n",
       "        ID pop_sample  pop_est  pop_diff  \n",
       "0        1        NaN   1700.0       NaN  \n",
       "1        2        NaN   1000.0       NaN  \n",
       "2        3        NaN   1000.0       NaN  \n",
       "3        4        NaN   8209.0       NaN  \n",
       "4        5        NaN   1000.0       NaN  \n",
       "...    ...        ...      ...       ...  \n",
       "1383  1384        NaN   1000.0       NaN  \n",
       "1384  1385        NaN  14111.0       NaN  \n",
       "1385  1386        NaN   3252.0       NaN  \n",
       "1386  1387        NaN  15580.0       NaN  \n",
       "1387  1388        NaN    359.0       NaN  \n",
       "\n",
       "[1388 rows x 21 columns]"
      ]
     },
     "execution_count": 73,
     "metadata": {},
     "output_type": "execute_result"
    }
   ],
   "source": [
    "cities_pop"
   ]
  },
  {
   "cell_type": "code",
   "execution_count": 74,
   "metadata": {
    "colab": {
     "base_uri": "https://localhost:8080/",
     "height": 34
    },
    "colab_type": "code",
    "executionInfo": {
     "elapsed": 616,
     "status": "ok",
     "timestamp": 1581695565628,
     "user": {
      "displayName": "Vojtěch Kaše",
      "photoUrl": "https://lh3.googleusercontent.com/a-/AAuE7mAxTlnyE78QMWq7qNrhY8cMOVti0SJqAGwQEptYkQ=s64",
      "userId": "01399835024022498543"
     },
     "user_tz": -60
    },
    "id": "mzj_yfZaRA05",
    "outputId": "e6bd421e-0d98-4f20-de7b-ed6c9ce6c830"
   },
   "outputs": [
    {
     "data": {
      "text/plain": [
       "10159670.0"
      ]
     },
     "execution_count": 74,
     "metadata": {},
     "output_type": "execute_result"
    }
   ],
   "source": [
    "### how many city inhabitants we have\n",
    "cities_pop[\"pop_est\"].sum()"
   ]
  },
  {
   "cell_type": "code",
   "execution_count": 75,
   "metadata": {
    "colab": {
     "base_uri": "https://localhost:8080/",
     "height": 54
    },
    "colab_type": "code",
    "executionInfo": {
     "elapsed": 3627,
     "status": "ok",
     "timestamp": 1581695610258,
     "user": {
      "displayName": "Vojtěch Kaše",
      "photoUrl": "https://lh3.googleusercontent.com/a-/AAuE7mAxTlnyE78QMWq7qNrhY8cMOVti0SJqAGwQEptYkQ=s64",
      "userId": "01399835024022498543"
     },
     "user_tz": -60
    },
    "id": "Y-fvnms0Te7a",
    "outputId": "0dbf8df6-2c66-4d63-bba2-e683844a68fe"
   },
   "outputs": [
    {
     "name": "stdout",
     "output_type": "stream",
     "text": [
      "A file with the same name (\"roman_cities.json\") already exists in this location.\n",
      "Press Enter to overwrite it or choose different path and filename: \n",
      "Your <class 'pandas.core.frame.DataFrame'> object has been succefully written as \"https://sciencedata.dk/files/SDAM_root/SDAM_data/urban/roman_cities.json\"\n"
     ]
    }
   ],
   "source": [
    "sddk.write_file(\"SDAM_data/urban/roman_cities.json\", cities_pop, conf)"
   ]
  }
 ],
 "metadata": {
  "colab": {
   "authorship_tag": "ABX9TyMV6UosDq1oPHYpCFXe790A",
   "collapsed_sections": [],
   "name": "2_py_URBAN-NETWORK.ipynb",
   "provenance": []
  },
  "kernelspec": {
   "display_name": "Python 3",
   "language": "python",
   "name": "python3"
  },
  "language_info": {
   "codemirror_mode": {
    "name": "ipython",
    "version": 3
   },
   "file_extension": ".py",
   "mimetype": "text/x-python",
   "name": "python",
   "nbconvert_exporter": "python",
   "pygments_lexer": "ipython3",
   "version": "3.6.9"
  }
 },
 "nbformat": 4,
 "nbformat_minor": 1
}
