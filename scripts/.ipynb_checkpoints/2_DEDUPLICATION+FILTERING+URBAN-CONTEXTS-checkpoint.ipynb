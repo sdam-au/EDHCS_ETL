{
 "cells": [
  {
   "cell_type": "code",
   "execution_count": 4,
   "metadata": {},
   "outputs": [],
   "source": [
    "### GENERAL REQUIREMENTS - will install the libraries\n",
    "\n",
    "import pandas as pd\n",
    "import numpy as np\n",
    "import math\n",
    "import nltk\n",
    "import requests\n",
    "import re\n",
    "import json\n",
    "import io\n",
    "import time # to avoid errors, we sometime use time.sleep(N) before retrying a request\n",
    "import datetime as dt\n",
    "import warnings\n",
    "warnings.filterwarnings('ignore')\n",
    "\n",
    "import geopandas\n",
    "from shapely.geometry import Point\n",
    "from functools import partial\n",
    "from shapely.ops import transform\n",
    "import pyproj\n",
    "\n",
    "import matplotlib as mpl\n",
    "import matplotlib.pyplot as plt\n",
    "import matplotlib.colors as mcolors\n",
    "import matplotlib.lines as mlines\n",
    "from matplotlib.patches import Patch\n",
    "import seaborn as sns\n",
    "import geoplot\n",
    "\n",
    "from sklearn.feature_extraction.text import CountVectorizer\n",
    "from gensim import corpora\n",
    "\n",
    "import gspread\n",
    "from gspread_dataframe import get_as_dataframe, set_with_dataframe\n",
    "from google.oauth2 import service_account # based on google-auth library\n",
    "\n",
    "import sddk"
   ]
  },
  {
   "cell_type": "code",
   "execution_count": 5,
   "metadata": {},
   "outputs": [
    {
     "name": "stdout",
     "output_type": "stream",
     "text": [
      "sciencedata.dk username (format '123456@au.dk'): 648597@au.dk\n",
      "sciencedata.dk password: ········\n",
      "endpoint variable has been configured to: https://sciencedata.dk/files/\n"
     ]
    }
   ],
   "source": [
    "# to access gsheet, you need Google Service Account key json file\n",
    "# I have mine located in my personal space on sciencedata.dk, so I read it from there:\n",
    "conf = sddk.configure()\n",
    "\n",
    "# (1) read the file and parse its content\n",
    "file_data = conf[0].get(conf[1] + \"ServiceAccountsKey.json\").json()\n",
    "# (2) transform the content into crendentials object\n",
    "credentials = service_account.Credentials.from_service_account_info(file_data)\n",
    "# (3) specify your usage of the credentials\n",
    "scoped_credentials = credentials.with_scopes(['https://spreadsheets.google.com/feeds', 'https://www.googleapis.com/auth/drive'])\n",
    "# (4) use the constrained credentials for authentication of gspread package\n",
    "gc = gspread.Client(auth=scoped_credentials)\n",
    "# (5) establish connection with spreadsheets specified by their url\n",
    "occupations = gc.open_by_url(\"https://docs.google.com/spreadsheets/d/1nONTEwp42CVnq3iCiONrFbJedIcYtBV-l4Bil5mU7Eo/edit?usp=sharing\")"
   ]
  },
  {
   "cell_type": "code",
   "execution_count": 6,
   "metadata": {},
   "outputs": [
    {
     "name": "stdout",
     "output_type": "stream",
     "text": [
      "sciencedata.dk username (format '123456@au.dk'): 648597@au.dk\n",
      "sciencedata.dk password: ········\n",
      "connection with shared folder established with you as its owner\n",
      "endpoint variable has been configured to: https://sciencedata.dk/files/SDAM_root/\n"
     ]
    }
   ],
   "source": [
    "conf = sddk.configure(\"SDAM_root\", \"648597@au.dk\")"
   ]
  },
  {
   "cell_type": "markdown",
   "metadata": {},
   "source": [
    "# Requirements"
   ]
  },
  {
   "cell_type": "code",
   "execution_count": 147,
   "metadata": {},
   "outputs": [],
   "source": [
    "import sddk\n",
    "import pandas as pd\n",
    "pd.options.display.max_columns = 1000 # to see all columns\n",
    "import json\n",
    "import geopandas as gpd\n",
    "import warnings\n",
    "from shapely.geometry import Point\n",
    "from functools import partial\n",
    "from shapely.ops import transform\n",
    "import pyproj\n",
    "warnings.filterwarnings('ignore')\n",
    "import numpy as np\n",
    "from scipy.spatial import cKDTree\n",
    "from shapely.geometry import Point"
   ]
  },
  {
   "cell_type": "markdown",
   "metadata": {},
   "source": [
    "# Import datasets"
   ]
  },
  {
   "cell_type": "code",
   "execution_count": 3,
   "metadata": {},
   "outputs": [
    {
     "name": "stdout",
     "output_type": "stream",
     "text": [
      "reading file located in a public folder\n"
     ]
    },
    {
     "data": {
      "text/html": [
       "<div>\n",
       "<style scoped>\n",
       "    .dataframe tbody tr th:only-of-type {\n",
       "        vertical-align: middle;\n",
       "    }\n",
       "\n",
       "    .dataframe tbody tr th {\n",
       "        vertical-align: top;\n",
       "    }\n",
       "\n",
       "    .dataframe thead th {\n",
       "        text-align: right;\n",
       "    }\n",
       "</style>\n",
       "<table border=\"1\" class=\"dataframe\">\n",
       "  <thead>\n",
       "    <tr style=\"text-align: right;\">\n",
       "      <th></th>\n",
       "      <th>responsible_individual</th>\n",
       "      <th>type_of_inscription</th>\n",
       "      <th>letter_size</th>\n",
       "      <th>not_after</th>\n",
       "      <th>literature</th>\n",
       "      <th>work_status</th>\n",
       "      <th>height</th>\n",
       "      <th>diplomatic_text</th>\n",
       "      <th>people</th>\n",
       "      <th>depth</th>\n",
       "      <th>material</th>\n",
       "      <th>type_of_monument</th>\n",
       "      <th>province_label</th>\n",
       "      <th>width</th>\n",
       "      <th>transcription</th>\n",
       "      <th>country</th>\n",
       "      <th>uri</th>\n",
       "      <th>findspot_ancient</th>\n",
       "      <th>last_update</th>\n",
       "      <th>modern_region</th>\n",
       "      <th>findspot_modern</th>\n",
       "      <th>language</th>\n",
       "      <th>id</th>\n",
       "      <th>edh_geography_uri</th>\n",
       "      <th>commentary</th>\n",
       "      <th>trismegistos_uri</th>\n",
       "      <th>not_before</th>\n",
       "      <th>external_image_uris</th>\n",
       "      <th>fotos</th>\n",
       "      <th>coordinates</th>\n",
       "      <th>idno_tm</th>\n",
       "      <th>placenames_refs</th>\n",
       "      <th>text_edition</th>\n",
       "      <th>origdate_text</th>\n",
       "      <th>layout_execution</th>\n",
       "      <th>layout_execution_text</th>\n",
       "      <th>support_objecttype</th>\n",
       "      <th>support_objecttype_text</th>\n",
       "      <th>support_material</th>\n",
       "      <th>support_material_text</th>\n",
       "      <th>support_decoration</th>\n",
       "      <th>keywords_term</th>\n",
       "      <th>keywords_term_text</th>\n",
       "      <th>type_of_inscription_clean</th>\n",
       "      <th>type_of_inscription_certainty</th>\n",
       "      <th>height_cm</th>\n",
       "      <th>width_cm</th>\n",
       "      <th>depth_cm</th>\n",
       "      <th>material_clean</th>\n",
       "      <th>type_of_monument_clean</th>\n",
       "      <th>type_of_monument_certainty</th>\n",
       "      <th>province_label_clean</th>\n",
       "      <th>province_label_certainty</th>\n",
       "      <th>country_clean</th>\n",
       "      <th>country_certainty</th>\n",
       "      <th>findspot_ancient_clean</th>\n",
       "      <th>findspot_ancient_certainty</th>\n",
       "      <th>modern_region_clean</th>\n",
       "      <th>modern_region_certainty</th>\n",
       "      <th>findspot_modern_clean</th>\n",
       "      <th>findspot_modern_certainty</th>\n",
       "      <th>findspot_clean</th>\n",
       "      <th>findspot_certainty</th>\n",
       "      <th>origdate_text_clean</th>\n",
       "      <th>clean_text_conservative</th>\n",
       "      <th>clean_text_interpretive_word</th>\n",
       "      <th>clean_text_interpretive_sentence</th>\n",
       "      <th>findspot</th>\n",
       "      <th>year_of_find</th>\n",
       "      <th>present_location</th>\n",
       "      <th>religion</th>\n",
       "      <th>geography</th>\n",
       "      <th>social_economic_legal_history</th>\n",
       "      <th>military</th>\n",
       "    </tr>\n",
       "  </thead>\n",
       "  <tbody>\n",
       "    <tr>\n",
       "      <th>0</th>\n",
       "      <td>Feraudi</td>\n",
       "      <td>epitaph</td>\n",
       "      <td>3.2-2 cm</td>\n",
       "      <td>0130</td>\n",
       "      <td>AE 1983, 0192.; M. Annecchino, Puteoli 4/5, 19...</td>\n",
       "      <td>provisional</td>\n",
       "      <td>33 cm</td>\n",
       "      <td>D M / NONIAE P F OPTATAE / ET C IVLIO ARTEMONI...</td>\n",
       "      <td>[{'name': 'Noniae P.f. Optatae', 'cognomen': '...</td>\n",
       "      <td>2.7 cm</td>\n",
       "      <td>Marmor, geädert / farbig</td>\n",
       "      <td>tabula</td>\n",
       "      <td>Latium et Campania (Regio I)</td>\n",
       "      <td>34 cm</td>\n",
       "      <td>D(is) M(anibus) / Noniae P(ubli) f(iliae) Opta...</td>\n",
       "      <td>Italy</td>\n",
       "      <td>https://edh-www.adw.uni-heidelberg.de/edh/insc...</td>\n",
       "      <td>Cumae, bei</td>\n",
       "      <td>2014-04-07</td>\n",
       "      <td>Campania</td>\n",
       "      <td>Cuma, bei</td>\n",
       "      <td>Latin</td>\n",
       "      <td>HD000001</td>\n",
       "      <td>https://edh-www.adw.uni-heidelberg.de/edh/geog...</td>\n",
       "      <td>(C): 2. Hälfte 1. - Anfang 2. Jh. - AE; Ende ...</td>\n",
       "      <td>https://www.trismegistos.org/text/251193</td>\n",
       "      <td>0071</td>\n",
       "      <td>{}</td>\n",
       "      <td>{}</td>\n",
       "      <td>[14.0551, 40.8472]</td>\n",
       "      <td>251193</td>\n",
       "      <td>[http://www.trismegistos.org/place/033152, htt...</td>\n",
       "      <td>Dis Manibus Noniae Publi filiae Optatae et Cai...</td>\n",
       "      <td>71 AD – 130 AD</td>\n",
       "      <td>21</td>\n",
       "      <td>unbestimmt</td>\n",
       "      <td>257</td>\n",
       "      <td>Tafel</td>\n",
       "      <td></td>\n",
       "      <td>Marmor, geädert / farbig</td>\n",
       "      <td>1000</td>\n",
       "      <td>92</td>\n",
       "      <td>Grabinschrift</td>\n",
       "      <td>epitaph</td>\n",
       "      <td>Certain</td>\n",
       "      <td>33.0</td>\n",
       "      <td>34.0</td>\n",
       "      <td>2.7</td>\n",
       "      <td>Marble</td>\n",
       "      <td>tabula</td>\n",
       "      <td>Certain</td>\n",
       "      <td>Latium et Campania (Regio I)</td>\n",
       "      <td>Certain</td>\n",
       "      <td>Italy</td>\n",
       "      <td>Certain</td>\n",
       "      <td>Cumae</td>\n",
       "      <td>Estimated</td>\n",
       "      <td>Campania</td>\n",
       "      <td>Certain</td>\n",
       "      <td>Cuma, bei</td>\n",
       "      <td>Certain</td>\n",
       "      <td>NULL</td>\n",
       "      <td>NULL</td>\n",
       "      <td>71 AD – 130 AD</td>\n",
       "      <td>D M Noniae P f Optatae et C Iulio Artemoni par...</td>\n",
       "      <td>Dis Manibus Noniae Publi filiae Optatae et Cai...</td>\n",
       "      <td>Dis Manibus Noniae Publi filiae Optatae et Cai...</td>\n",
       "      <td>NaN</td>\n",
       "      <td>NaN</td>\n",
       "      <td>NaN</td>\n",
       "      <td>NaN</td>\n",
       "      <td>NaN</td>\n",
       "      <td>NaN</td>\n",
       "      <td>NaN</td>\n",
       "    </tr>\n",
       "    <tr>\n",
       "      <th>1</th>\n",
       "      <td>Feraudi</td>\n",
       "      <td>epitaph</td>\n",
       "      <td>4 cm</td>\n",
       "      <td>0200</td>\n",
       "      <td>AE 1983, 0080. (A); A. Ferrua, RAL 36, 1981, 1...</td>\n",
       "      <td>no image</td>\n",
       "      <td>28 cm</td>\n",
       "      <td>C SEXTIVS PARIS / QVI VIXIT / ANNIS LXX</td>\n",
       "      <td>[{'nomen': 'Sextius', 'praenomen': 'C.', 'pers...</td>\n",
       "      <td>NaN</td>\n",
       "      <td>marble: rocks - metamorphic rocks</td>\n",
       "      <td>tabula</td>\n",
       "      <td>Roma</td>\n",
       "      <td>85 cm</td>\n",
       "      <td>C(aius) Sextius Paris / qui vixit / annis LXX</td>\n",
       "      <td>Italy</td>\n",
       "      <td>https://edh-www.adw.uni-heidelberg.de/edh/insc...</td>\n",
       "      <td>Roma</td>\n",
       "      <td>2014-04-07</td>\n",
       "      <td>Lazio</td>\n",
       "      <td>Roma</td>\n",
       "      <td>Latin</td>\n",
       "      <td>HD000002</td>\n",
       "      <td>https://edh-www.adw.uni-heidelberg.de/edh/geog...</td>\n",
       "      <td>AE 1983: Breite: 35 cm.</td>\n",
       "      <td>https://www.trismegistos.org/text/265631</td>\n",
       "      <td>0051</td>\n",
       "      <td>{}</td>\n",
       "      <td>{}</td>\n",
       "      <td>[12.4823, 41.8955]</td>\n",
       "      <td>265631</td>\n",
       "      <td>[http://www.trismegistos.org/place/000172, htt...</td>\n",
       "      <td>Caius Sextius Paris qui vixit annis LXX       ...</td>\n",
       "      <td>51 AD – 200 AD</td>\n",
       "      <td>21</td>\n",
       "      <td>unbestimmt</td>\n",
       "      <td>257</td>\n",
       "      <td>Tafel</td>\n",
       "      <td>48</td>\n",
       "      <td>Marmor</td>\n",
       "      <td>1000</td>\n",
       "      <td>92</td>\n",
       "      <td>Grabinschrift</td>\n",
       "      <td>epitaph</td>\n",
       "      <td>Certain</td>\n",
       "      <td>28.0</td>\n",
       "      <td>85.0</td>\n",
       "      <td>NaN</td>\n",
       "      <td>Marble</td>\n",
       "      <td>tabula</td>\n",
       "      <td>Certain</td>\n",
       "      <td>Roma</td>\n",
       "      <td>Certain</td>\n",
       "      <td>Italy</td>\n",
       "      <td>Certain</td>\n",
       "      <td>Roma</td>\n",
       "      <td>Certain</td>\n",
       "      <td>Lazio</td>\n",
       "      <td>Certain</td>\n",
       "      <td>Roma</td>\n",
       "      <td>Certain</td>\n",
       "      <td>Via Nomentana, S. Alessandro, Kirche</td>\n",
       "      <td>Certain</td>\n",
       "      <td>51 AD – 200 AD</td>\n",
       "      <td>C Sextius Paris qui vixit annis LXX</td>\n",
       "      <td>Caius Sextius Paris qui vixit annis LXX</td>\n",
       "      <td>Caius Sextius Paris qui vixit annis LXX</td>\n",
       "      <td>Via Nomentana, S. Alessandro, Kirche</td>\n",
       "      <td>1937</td>\n",
       "      <td>NaN</td>\n",
       "      <td>NaN</td>\n",
       "      <td>NaN</td>\n",
       "      <td>NaN</td>\n",
       "      <td>NaN</td>\n",
       "    </tr>\n",
       "    <tr>\n",
       "      <th>2</th>\n",
       "      <td>Feraudi</td>\n",
       "      <td>honorific inscription</td>\n",
       "      <td>4.5-3 cm</td>\n",
       "      <td>0170</td>\n",
       "      <td>AE 1983, 0518. (B); J. González, ZPE 52, 1983,...</td>\n",
       "      <td>provisional</td>\n",
       "      <td>(37) cm</td>\n",
       "      <td>[ ]VMMIO [ ] / [ ]ISENNA[ ] / [ ] XV[ ] / [ ] / [</td>\n",
       "      <td>[{'nomen': 'Mummius+', 'gender': 'male', 'prae...</td>\n",
       "      <td>(12) cm</td>\n",
       "      <td>marble: rocks - metamorphic rocks</td>\n",
       "      <td>statue base</td>\n",
       "      <td>Baetica</td>\n",
       "      <td>(34) cm</td>\n",
       "      <td>[P(ublio) M]ummio [P(ubli) f(ilio)] / [Gal(eri...</td>\n",
       "      <td>Spain</td>\n",
       "      <td>https://edh-www.adw.uni-heidelberg.de/edh/insc...</td>\n",
       "      <td>NaN</td>\n",
       "      <td>2006-08-31</td>\n",
       "      <td>Sevilla</td>\n",
       "      <td>Tomares</td>\n",
       "      <td>Latin</td>\n",
       "      <td>HD000003</td>\n",
       "      <td>https://edh-www.adw.uni-heidelberg.de/edh/geog...</td>\n",
       "      <td>(B): [S]isenna ist falscher Kasus; folgende E...</td>\n",
       "      <td>https://www.trismegistos.org/text/220675</td>\n",
       "      <td>0131</td>\n",
       "      <td>{}</td>\n",
       "      <td>{}</td>\n",
       "      <td>[-6.0459, 37.3728]</td>\n",
       "      <td>220675</td>\n",
       "      <td>[http://www.trismegistos.org/place/025443, htt...</td>\n",
       "      <td>Publio Mummio Publi filio Galeria Sisennae Rut...</td>\n",
       "      <td>131 AD – 170 AD</td>\n",
       "      <td>21</td>\n",
       "      <td>unbestimmt</td>\n",
       "      <td>57</td>\n",
       "      <td>Statuenbasis</td>\n",
       "      <td>48</td>\n",
       "      <td>Marmor</td>\n",
       "      <td>1000</td>\n",
       "      <td>69</td>\n",
       "      <td>Ehreninschrift</td>\n",
       "      <td>honorific inscription</td>\n",
       "      <td>Certain</td>\n",
       "      <td>37.0</td>\n",
       "      <td>34.0</td>\n",
       "      <td>12.0</td>\n",
       "      <td>Marble</td>\n",
       "      <td>statue base</td>\n",
       "      <td>Certain</td>\n",
       "      <td>Baetica</td>\n",
       "      <td>Certain</td>\n",
       "      <td>Spain</td>\n",
       "      <td>Certain</td>\n",
       "      <td>NULL</td>\n",
       "      <td>NULL</td>\n",
       "      <td>Sevilla</td>\n",
       "      <td>Certain</td>\n",
       "      <td>Tomares</td>\n",
       "      <td>Certain</td>\n",
       "      <td>NULL</td>\n",
       "      <td>NULL</td>\n",
       "      <td>131 AD – 170 AD</td>\n",
       "      <td>ummio isenna Xv</td>\n",
       "      <td>Publio Mummio Publi filio Galeria Sisennae Rut...</td>\n",
       "      <td>Publio Mummio Publi filio Galeria Sisennae Rut...</td>\n",
       "      <td>NaN</td>\n",
       "      <td>before 1975</td>\n",
       "      <td>Sevilla, Privatbesitz</td>\n",
       "      <td>NaN</td>\n",
       "      <td>NaN</td>\n",
       "      <td>NaN</td>\n",
       "      <td>NaN</td>\n",
       "    </tr>\n",
       "    <tr>\n",
       "      <th>3</th>\n",
       "      <td>Gräf</td>\n",
       "      <td>votive inscription</td>\n",
       "      <td>2.5 cm</td>\n",
       "      <td>0200</td>\n",
       "      <td>AE 1983, 0533. (B); A.U. Stylow, Gerión 1, 198...</td>\n",
       "      <td>checked with photo</td>\n",
       "      <td>(39) cm</td>\n",
       "      <td>[ ]AVS[ ]LLA / M PORCI NIGRI SER / DOMINAE VEN...</td>\n",
       "      <td>[{'name': '[---?]AV(?)S(?)[---]L(?)L(?)A M. Po...</td>\n",
       "      <td>18 cm</td>\n",
       "      <td>limestone: rocks - clastic sediments</td>\n",
       "      <td>altar</td>\n",
       "      <td>Baetica</td>\n",
       "      <td>27 cm</td>\n",
       "      <td>[---?]AV(?)S(?)[---]L(?)L(?)A / M(arci) Porci ...</td>\n",
       "      <td>Spain</td>\n",
       "      <td>https://edh-www.adw.uni-heidelberg.de/edh/insc...</td>\n",
       "      <td>Ipolcobulcula</td>\n",
       "      <td>2015-03-27</td>\n",
       "      <td>Córdoba</td>\n",
       "      <td>Carcabuey</td>\n",
       "      <td>Latin</td>\n",
       "      <td>HD000004</td>\n",
       "      <td>https://edh-www.adw.uni-heidelberg.de/edh/geog...</td>\n",
       "      <td>Material: lokaler grauer Kalkstein. (B): Styl...</td>\n",
       "      <td>https://www.trismegistos.org/text/222102</td>\n",
       "      <td>0151</td>\n",
       "      <td>http://cil-old.bbaw.de/test06/bilder/datenbank...</td>\n",
       "      <td>{}</td>\n",
       "      <td>[-4.2747, 37.4442]</td>\n",
       "      <td>222102</td>\n",
       "      <td>[http://www.trismegistos.org/place/025443, htt...</td>\n",
       "      <td>AVSLLA Marci Porci Nigri serva dominae Veneri ...</td>\n",
       "      <td>151 AD – 200 AD</td>\n",
       "      <td>21</td>\n",
       "      <td>unbestimmt</td>\n",
       "      <td>29</td>\n",
       "      <td>Altar</td>\n",
       "      <td>60</td>\n",
       "      <td>Kalkstein</td>\n",
       "      <td>1000</td>\n",
       "      <td>80</td>\n",
       "      <td>Weihinschrift</td>\n",
       "      <td>votive inscription</td>\n",
       "      <td>Certain</td>\n",
       "      <td>39.0</td>\n",
       "      <td>27.0</td>\n",
       "      <td>18.0</td>\n",
       "      <td>Limestone</td>\n",
       "      <td>altar</td>\n",
       "      <td>Certain</td>\n",
       "      <td>Baetica</td>\n",
       "      <td>Certain</td>\n",
       "      <td>Spain</td>\n",
       "      <td>Certain</td>\n",
       "      <td>Ipolcobulcula</td>\n",
       "      <td>Certain</td>\n",
       "      <td>Córdoba</td>\n",
       "      <td>Certain</td>\n",
       "      <td>Carcabuey</td>\n",
       "      <td>Certain</td>\n",
       "      <td>NULL</td>\n",
       "      <td>NULL</td>\n",
       "      <td>151 AD – 200 AD</td>\n",
       "      <td>AVSLLA M Porci Nigri ser dominae Veneri aram p...</td>\n",
       "      <td>AVS LLA Marci Porci Nigri serva dominae Veneri...</td>\n",
       "      <td>AVS LLA Marci Porci Nigri serva dominae Veneri...</td>\n",
       "      <td>NaN</td>\n",
       "      <td>before 1979</td>\n",
       "      <td>Carcabuey, Grupo Escolar</td>\n",
       "      <td>names of pagan deities</td>\n",
       "      <td>NaN</td>\n",
       "      <td>NaN</td>\n",
       "      <td>NaN</td>\n",
       "    </tr>\n",
       "    <tr>\n",
       "      <th>4</th>\n",
       "      <td>Feraudi</td>\n",
       "      <td>epitaph</td>\n",
       "      <td>NaN</td>\n",
       "      <td>0200</td>\n",
       "      <td>AE 1983, 0078. (B); A. Ferrua, RAL 36, 1981, 1...</td>\n",
       "      <td>no image</td>\n",
       "      <td>NaN</td>\n",
       "      <td>[ ] L SVCCESSVS / [ ] L L IRENAEVS / [ ] C L T...</td>\n",
       "      <td>[{'person_id': '1', 'name': '[---]l. Successus...</td>\n",
       "      <td>NaN</td>\n",
       "      <td>NaN</td>\n",
       "      <td>stele</td>\n",
       "      <td>Roma</td>\n",
       "      <td>NaN</td>\n",
       "      <td>[---] l(ibertus) Successus / [---] L(uci) l(ib...</td>\n",
       "      <td>Italy</td>\n",
       "      <td>https://edh-www.adw.uni-heidelberg.de/edh/insc...</td>\n",
       "      <td>Roma</td>\n",
       "      <td>2010-01-04</td>\n",
       "      <td>Lazio</td>\n",
       "      <td>Roma</td>\n",
       "      <td>Latin</td>\n",
       "      <td>HD000005</td>\n",
       "      <td>https://edh-www.adw.uni-heidelberg.de/edh/geog...</td>\n",
       "      <td>(B): Z. 3: C(ai) l(ibertae) Tyches.</td>\n",
       "      <td>https://www.trismegistos.org/text/265629</td>\n",
       "      <td>0001</td>\n",
       "      <td>{}</td>\n",
       "      <td>{}</td>\n",
       "      <td>[12.4823, 41.8955]</td>\n",
       "      <td>265629</td>\n",
       "      <td>[http://www.trismegistos.org/place/000172, htt...</td>\n",
       "      <td>libertus Successus  Luci libertus Irenaeus  C...</td>\n",
       "      <td>1 AD – 200 AD</td>\n",
       "      <td>21</td>\n",
       "      <td>unbestimmt</td>\n",
       "      <td>250</td>\n",
       "      <td>Stele</td>\n",
       "      <td>138</td>\n",
       "      <td>unbestimmt</td>\n",
       "      <td>1000</td>\n",
       "      <td>92</td>\n",
       "      <td>Grabinschrift</td>\n",
       "      <td>epitaph</td>\n",
       "      <td>Certain</td>\n",
       "      <td>NaN</td>\n",
       "      <td>NaN</td>\n",
       "      <td>NaN</td>\n",
       "      <td>NULL</td>\n",
       "      <td>stele</td>\n",
       "      <td>Certain</td>\n",
       "      <td>Roma</td>\n",
       "      <td>Certain</td>\n",
       "      <td>Italy</td>\n",
       "      <td>Certain</td>\n",
       "      <td>Roma</td>\n",
       "      <td>Certain</td>\n",
       "      <td>Lazio</td>\n",
       "      <td>Certain</td>\n",
       "      <td>Roma</td>\n",
       "      <td>Certain</td>\n",
       "      <td>Via Cupa (ehem. Vigna Nardi)</td>\n",
       "      <td>Certain</td>\n",
       "      <td>1 AD – 200 AD</td>\n",
       "      <td>l Successus L l Irenaeus C l Tyches unt renti f</td>\n",
       "      <td>libertus Successus Luci libertus Irenaeus Cai ...</td>\n",
       "      <td>libertus Successus Luci libertus Irenaeus Cai ...</td>\n",
       "      <td>Via Cupa (ehem. Vigna Nardi)</td>\n",
       "      <td>NaN</td>\n",
       "      <td>NaN</td>\n",
       "      <td>NaN</td>\n",
       "      <td>NaN</td>\n",
       "      <td>NaN</td>\n",
       "      <td>NaN</td>\n",
       "    </tr>\n",
       "  </tbody>\n",
       "</table>\n",
       "</div>"
      ],
      "text/plain": [
       "  responsible_individual    type_of_inscription letter_size not_after  \\\n",
       "0                Feraudi                epitaph    3.2-2 cm      0130   \n",
       "1                Feraudi                epitaph        4 cm      0200   \n",
       "2                Feraudi  honorific inscription    4.5-3 cm      0170   \n",
       "3                   Gräf     votive inscription      2.5 cm      0200   \n",
       "4                Feraudi                epitaph         NaN      0200   \n",
       "\n",
       "                                          literature         work_status  \\\n",
       "0  AE 1983, 0192.; M. Annecchino, Puteoli 4/5, 19...         provisional   \n",
       "1  AE 1983, 0080. (A); A. Ferrua, RAL 36, 1981, 1...            no image   \n",
       "2  AE 1983, 0518. (B); J. González, ZPE 52, 1983,...         provisional   \n",
       "3  AE 1983, 0533. (B); A.U. Stylow, Gerión 1, 198...  checked with photo   \n",
       "4  AE 1983, 0078. (B); A. Ferrua, RAL 36, 1981, 1...            no image   \n",
       "\n",
       "    height                                    diplomatic_text  \\\n",
       "0    33 cm  D M / NONIAE P F OPTATAE / ET C IVLIO ARTEMONI...   \n",
       "1    28 cm            C SEXTIVS PARIS / QVI VIXIT / ANNIS LXX   \n",
       "2  (37) cm  [ ]VMMIO [ ] / [ ]ISENNA[ ] / [ ] XV[ ] / [ ] / [   \n",
       "3  (39) cm  [ ]AVS[ ]LLA / M PORCI NIGRI SER / DOMINAE VEN...   \n",
       "4      NaN  [ ] L SVCCESSVS / [ ] L L IRENAEVS / [ ] C L T...   \n",
       "\n",
       "                                              people    depth  \\\n",
       "0  [{'name': 'Noniae P.f. Optatae', 'cognomen': '...   2.7 cm   \n",
       "1  [{'nomen': 'Sextius', 'praenomen': 'C.', 'pers...      NaN   \n",
       "2  [{'nomen': 'Mummius+', 'gender': 'male', 'prae...  (12) cm   \n",
       "3  [{'name': '[---?]AV(?)S(?)[---]L(?)L(?)A M. Po...    18 cm   \n",
       "4  [{'person_id': '1', 'name': '[---]l. Successus...      NaN   \n",
       "\n",
       "                               material type_of_monument  \\\n",
       "0              Marmor, geädert / farbig           tabula   \n",
       "1     marble: rocks - metamorphic rocks           tabula   \n",
       "2     marble: rocks - metamorphic rocks      statue base   \n",
       "3  limestone: rocks - clastic sediments            altar   \n",
       "4                                   NaN            stele   \n",
       "\n",
       "                 province_label    width  \\\n",
       "0  Latium et Campania (Regio I)    34 cm   \n",
       "1                          Roma    85 cm   \n",
       "2                       Baetica  (34) cm   \n",
       "3                       Baetica    27 cm   \n",
       "4                          Roma      NaN   \n",
       "\n",
       "                                       transcription country  \\\n",
       "0  D(is) M(anibus) / Noniae P(ubli) f(iliae) Opta...   Italy   \n",
       "1      C(aius) Sextius Paris / qui vixit / annis LXX   Italy   \n",
       "2  [P(ublio) M]ummio [P(ubli) f(ilio)] / [Gal(eri...   Spain   \n",
       "3  [---?]AV(?)S(?)[---]L(?)L(?)A / M(arci) Porci ...   Spain   \n",
       "4  [---] l(ibertus) Successus / [---] L(uci) l(ib...   Italy   \n",
       "\n",
       "                                                 uri findspot_ancient  \\\n",
       "0  https://edh-www.adw.uni-heidelberg.de/edh/insc...       Cumae, bei   \n",
       "1  https://edh-www.adw.uni-heidelberg.de/edh/insc...             Roma   \n",
       "2  https://edh-www.adw.uni-heidelberg.de/edh/insc...              NaN   \n",
       "3  https://edh-www.adw.uni-heidelberg.de/edh/insc...    Ipolcobulcula   \n",
       "4  https://edh-www.adw.uni-heidelberg.de/edh/insc...             Roma   \n",
       "\n",
       "  last_update modern_region findspot_modern language        id  \\\n",
       "0  2014-04-07      Campania       Cuma, bei    Latin  HD000001   \n",
       "1  2014-04-07         Lazio            Roma    Latin  HD000002   \n",
       "2  2006-08-31       Sevilla         Tomares    Latin  HD000003   \n",
       "3  2015-03-27       Córdoba       Carcabuey    Latin  HD000004   \n",
       "4  2010-01-04         Lazio            Roma    Latin  HD000005   \n",
       "\n",
       "                                   edh_geography_uri  \\\n",
       "0  https://edh-www.adw.uni-heidelberg.de/edh/geog...   \n",
       "1  https://edh-www.adw.uni-heidelberg.de/edh/geog...   \n",
       "2  https://edh-www.adw.uni-heidelberg.de/edh/geog...   \n",
       "3  https://edh-www.adw.uni-heidelberg.de/edh/geog...   \n",
       "4  https://edh-www.adw.uni-heidelberg.de/edh/geog...   \n",
       "\n",
       "                                          commentary  \\\n",
       "0   (C): 2. Hälfte 1. - Anfang 2. Jh. - AE; Ende ...   \n",
       "1                            AE 1983: Breite: 35 cm.   \n",
       "2   (B): [S]isenna ist falscher Kasus; folgende E...   \n",
       "3   Material: lokaler grauer Kalkstein. (B): Styl...   \n",
       "4                (B): Z. 3: C(ai) l(ibertae) Tyches.   \n",
       "\n",
       "                           trismegistos_uri not_before  \\\n",
       "0  https://www.trismegistos.org/text/251193       0071   \n",
       "1  https://www.trismegistos.org/text/265631       0051   \n",
       "2  https://www.trismegistos.org/text/220675       0131   \n",
       "3  https://www.trismegistos.org/text/222102       0151   \n",
       "4  https://www.trismegistos.org/text/265629       0001   \n",
       "\n",
       "                                 external_image_uris fotos  \\\n",
       "0                                                 {}    {}   \n",
       "1                                                 {}    {}   \n",
       "2                                                 {}    {}   \n",
       "3  http://cil-old.bbaw.de/test06/bilder/datenbank...    {}   \n",
       "4                                                 {}    {}   \n",
       "\n",
       "          coordinates idno_tm  \\\n",
       "0  [14.0551, 40.8472]  251193   \n",
       "1  [12.4823, 41.8955]  265631   \n",
       "2  [-6.0459, 37.3728]  220675   \n",
       "3  [-4.2747, 37.4442]  222102   \n",
       "4  [12.4823, 41.8955]  265629   \n",
       "\n",
       "                                     placenames_refs  \\\n",
       "0  [http://www.trismegistos.org/place/033152, htt...   \n",
       "1  [http://www.trismegistos.org/place/000172, htt...   \n",
       "2  [http://www.trismegistos.org/place/025443, htt...   \n",
       "3  [http://www.trismegistos.org/place/025443, htt...   \n",
       "4  [http://www.trismegistos.org/place/000172, htt...   \n",
       "\n",
       "                                        text_edition  \\\n",
       "0  Dis Manibus Noniae Publi filiae Optatae et Cai...   \n",
       "1  Caius Sextius Paris qui vixit annis LXX       ...   \n",
       "2  Publio Mummio Publi filio Galeria Sisennae Rut...   \n",
       "3  AVSLLA Marci Porci Nigri serva dominae Veneri ...   \n",
       "4   libertus Successus  Luci libertus Irenaeus  C...   \n",
       "\n",
       "                                 origdate_text layout_execution  \\\n",
       "0   71 AD – 130 AD                                           21   \n",
       "1   51 AD – 200 AD                                           21   \n",
       "2  131 AD – 170 AD                                           21   \n",
       "3  151 AD – 200 AD                                           21   \n",
       "4    1 AD – 200 AD                                           21   \n",
       "\n",
       "  layout_execution_text support_objecttype support_objecttype_text  \\\n",
       "0            unbestimmt                257                   Tafel   \n",
       "1            unbestimmt                257                   Tafel   \n",
       "2            unbestimmt                 57            Statuenbasis   \n",
       "3            unbestimmt                 29                   Altar   \n",
       "4            unbestimmt                250                   Stele   \n",
       "\n",
       "  support_material     support_material_text support_decoration keywords_term  \\\n",
       "0                   Marmor, geädert / farbig               1000            92   \n",
       "1               48                    Marmor               1000            92   \n",
       "2               48                    Marmor               1000            69   \n",
       "3               60                 Kalkstein               1000            80   \n",
       "4              138                unbestimmt               1000            92   \n",
       "\n",
       "  keywords_term_text type_of_inscription_clean type_of_inscription_certainty  \\\n",
       "0      Grabinschrift                   epitaph                       Certain   \n",
       "1      Grabinschrift                   epitaph                       Certain   \n",
       "2     Ehreninschrift     honorific inscription                       Certain   \n",
       "3      Weihinschrift        votive inscription                       Certain   \n",
       "4      Grabinschrift                   epitaph                       Certain   \n",
       "\n",
       "   height_cm  width_cm  depth_cm material_clean type_of_monument_clean  \\\n",
       "0       33.0      34.0       2.7         Marble                 tabula   \n",
       "1       28.0      85.0       NaN         Marble                 tabula   \n",
       "2       37.0      34.0      12.0         Marble            statue base   \n",
       "3       39.0      27.0      18.0      Limestone                  altar   \n",
       "4        NaN       NaN       NaN           NULL                  stele   \n",
       "\n",
       "  type_of_monument_certainty          province_label_clean  \\\n",
       "0                    Certain  Latium et Campania (Regio I)   \n",
       "1                    Certain                          Roma   \n",
       "2                    Certain                       Baetica   \n",
       "3                    Certain                       Baetica   \n",
       "4                    Certain                          Roma   \n",
       "\n",
       "  province_label_certainty country_clean country_certainty  \\\n",
       "0                  Certain         Italy           Certain   \n",
       "1                  Certain         Italy           Certain   \n",
       "2                  Certain         Spain           Certain   \n",
       "3                  Certain         Spain           Certain   \n",
       "4                  Certain         Italy           Certain   \n",
       "\n",
       "  findspot_ancient_clean findspot_ancient_certainty modern_region_clean  \\\n",
       "0                  Cumae                  Estimated            Campania   \n",
       "1                   Roma                    Certain               Lazio   \n",
       "2                   NULL                       NULL             Sevilla   \n",
       "3          Ipolcobulcula                    Certain             Córdoba   \n",
       "4                   Roma                    Certain               Lazio   \n",
       "\n",
       "  modern_region_certainty findspot_modern_clean findspot_modern_certainty  \\\n",
       "0                 Certain             Cuma, bei                   Certain   \n",
       "1                 Certain                  Roma                   Certain   \n",
       "2                 Certain               Tomares                   Certain   \n",
       "3                 Certain             Carcabuey                   Certain   \n",
       "4                 Certain                  Roma                   Certain   \n",
       "\n",
       "                         findspot_clean findspot_certainty  \\\n",
       "0                                  NULL               NULL   \n",
       "1  Via Nomentana, S. Alessandro, Kirche            Certain   \n",
       "2                                  NULL               NULL   \n",
       "3                                  NULL               NULL   \n",
       "4          Via Cupa (ehem. Vigna Nardi)            Certain   \n",
       "\n",
       "  origdate_text_clean                            clean_text_conservative  \\\n",
       "0      71 AD – 130 AD  D M Noniae P f Optatae et C Iulio Artemoni par...   \n",
       "1      51 AD – 200 AD                C Sextius Paris qui vixit annis LXX   \n",
       "2     131 AD – 170 AD                                    ummio isenna Xv   \n",
       "3     151 AD – 200 AD  AVSLLA M Porci Nigri ser dominae Veneri aram p...   \n",
       "4       1 AD – 200 AD    l Successus L l Irenaeus C l Tyches unt renti f   \n",
       "\n",
       "                        clean_text_interpretive_word  \\\n",
       "0  Dis Manibus Noniae Publi filiae Optatae et Cai...   \n",
       "1            Caius Sextius Paris qui vixit annis LXX   \n",
       "2  Publio Mummio Publi filio Galeria Sisennae Rut...   \n",
       "3  AVS LLA Marci Porci Nigri serva dominae Veneri...   \n",
       "4  libertus Successus Luci libertus Irenaeus Cai ...   \n",
       "\n",
       "                    clean_text_interpretive_sentence  \\\n",
       "0  Dis Manibus Noniae Publi filiae Optatae et Cai...   \n",
       "1            Caius Sextius Paris qui vixit annis LXX   \n",
       "2  Publio Mummio Publi filio Galeria Sisennae Rut...   \n",
       "3  AVS LLA Marci Porci Nigri serva dominae Veneri...   \n",
       "4  libertus Successus Luci libertus Irenaeus Cai ...   \n",
       "\n",
       "                               findspot year_of_find  \\\n",
       "0                                   NaN          NaN   \n",
       "1  Via Nomentana, S. Alessandro, Kirche         1937   \n",
       "2                                   NaN  before 1975   \n",
       "3                                   NaN  before 1979   \n",
       "4          Via Cupa (ehem. Vigna Nardi)          NaN   \n",
       "\n",
       "           present_location                religion geography  \\\n",
       "0                       NaN                     NaN       NaN   \n",
       "1                       NaN                     NaN       NaN   \n",
       "2     Sevilla, Privatbesitz                     NaN       NaN   \n",
       "3  Carcabuey, Grupo Escolar  names of pagan deities       NaN   \n",
       "4                       NaN                     NaN       NaN   \n",
       "\n",
       "  social_economic_legal_history military  \n",
       "0                           NaN      NaN  \n",
       "1                           NaN      NaN  \n",
       "2                           NaN      NaN  \n",
       "3                           NaN      NaN  \n",
       "4                           NaN      NaN  "
      ]
     },
     "execution_count": 3,
     "metadata": {},
     "output_type": "execute_result"
    }
   ],
   "source": [
    "# read edh dataset\n",
    "publicfolder = \"b6b6afdb969d378b70929e86e58ad975\"\n",
    "EDH = sddk.read_file(\"EDH_text_cleaned_2021-01-21.json\", \"df\", publicfolder)\n",
    "EDH.head(5)"
   ]
  },
  {
   "cell_type": "code",
   "execution_count": 4,
   "metadata": {},
   "outputs": [
    {
     "name": "stdout",
     "output_type": "stream",
     "text": [
      "reading file located in a public folder\n"
     ]
    },
    {
     "data": {
      "text/html": [
       "<div>\n",
       "<style scoped>\n",
       "    .dataframe tbody tr th:only-of-type {\n",
       "        vertical-align: middle;\n",
       "    }\n",
       "\n",
       "    .dataframe tbody tr th {\n",
       "        vertical-align: top;\n",
       "    }\n",
       "\n",
       "    .dataframe thead th {\n",
       "        text-align: right;\n",
       "    }\n",
       "</style>\n",
       "<table border=\"1\" class=\"dataframe\">\n",
       "  <thead>\n",
       "    <tr style=\"text-align: right;\">\n",
       "      <th></th>\n",
       "      <th>EDCS-ID</th>\n",
       "      <th>publication</th>\n",
       "      <th>province</th>\n",
       "      <th>province_list</th>\n",
       "      <th>place</th>\n",
       "      <th>place_list</th>\n",
       "      <th>end_yr_list</th>\n",
       "      <th>notes_dating</th>\n",
       "      <th>status_list</th>\n",
       "      <th>inscr_type</th>\n",
       "      <th>status_notation</th>\n",
       "      <th>inscr_process</th>\n",
       "      <th>notes_references</th>\n",
       "      <th>notes_comments</th>\n",
       "      <th>inscription</th>\n",
       "      <th>inscription_stripped_final</th>\n",
       "      <th>clean_text_interpretive_word</th>\n",
       "      <th>Links</th>\n",
       "      <th>language</th>\n",
       "      <th>dating from</th>\n",
       "      <th>dating to</th>\n",
       "      <th>start_yr</th>\n",
       "      <th>end_yr_1</th>\n",
       "      <th>status</th>\n",
       "      <th>Latitude</th>\n",
       "      <th>Longitude</th>\n",
       "      <th>photo</th>\n",
       "      <th>Material</th>\n",
       "      <th>Comment</th>\n",
       "    </tr>\n",
       "  </thead>\n",
       "  <tbody>\n",
       "    <tr>\n",
       "      <th>0</th>\n",
       "      <td>EDCS-31400030</td>\n",
       "      <td>CIL 03, 12297</td>\n",
       "      <td>Achaia</td>\n",
       "      <td>Achaia</td>\n",
       "      <td>?</td>\n",
       "      <td>?</td>\n",
       "      <td>{}</td>\n",
       "      <td></td>\n",
       "      <td>{}</td>\n",
       "      <td>{}</td>\n",
       "      <td>{}</td>\n",
       "      <td>{}</td>\n",
       "      <td></td>\n",
       "      <td></td>\n",
       "      <td>Leius</td>\n",
       "      <td>Leius</td>\n",
       "      <td>Leius</td>\n",
       "      <td>NaN</td>\n",
       "      <td>NaN</td>\n",
       "      <td>NaN</td>\n",
       "      <td>NaN</td>\n",
       "      <td>NaN</td>\n",
       "      <td>NaN</td>\n",
       "      <td>NaN</td>\n",
       "      <td>NaN</td>\n",
       "      <td>NaN</td>\n",
       "      <td>NaN</td>\n",
       "      <td>NaN</td>\n",
       "      <td>NaN</td>\n",
       "    </tr>\n",
       "    <tr>\n",
       "      <th>1</th>\n",
       "      <td>EDCS-24700151</td>\n",
       "      <td>CIL 01, 02650 (p 1097) = IG-05-01, 00741 = ILL...</td>\n",
       "      <td>Achaia</td>\n",
       "      <td>Achaia</td>\n",
       "      <td>Afesou</td>\n",
       "      <td>Afesou</td>\n",
       "      <td>{}</td>\n",
       "      <td></td>\n",
       "      <td>{}</td>\n",
       "      <td>{}</td>\n",
       "      <td>{}</td>\n",
       "      <td>{}</td>\n",
       "      <td></td>\n",
       "      <td></td>\n",
       "      <td>// D(ecimi) Leivei D(ecimi) Leivei salve</td>\n",
       "      <td>// D(ecimi) Leivei D(ecimi) Leivei salve</td>\n",
       "      <td>Decimi Leivei Decimi Leivei salve</td>\n",
       "      <td>http://db.edcs.eu/epigr/partner.php?s_language...</td>\n",
       "      <td>GR</td>\n",
       "      <td>NaN</td>\n",
       "      <td>NaN</td>\n",
       "      <td>NaN</td>\n",
       "      <td>NaN</td>\n",
       "      <td>NaN</td>\n",
       "      <td>NaN</td>\n",
       "      <td>NaN</td>\n",
       "      <td>NaN</td>\n",
       "      <td>NaN</td>\n",
       "      <td>NaN</td>\n",
       "    </tr>\n",
       "    <tr>\n",
       "      <th>2</th>\n",
       "      <td>EDCS-24900077</td>\n",
       "      <td>CIL 01, 00746 (p 944) = D 00867 = ILLRP 00374 ...</td>\n",
       "      <td>Achaia</td>\n",
       "      <td>Achaia</td>\n",
       "      <td>Agia Triada / Merbaka / Midea</td>\n",
       "      <td>[Agia Triada, Merbaka, Midea]</td>\n",
       "      <td>-68</td>\n",
       "      <td></td>\n",
       "      <td>[officium/professio, ordo senatorius, tituli h...</td>\n",
       "      <td>tituli honorarii</td>\n",
       "      <td>[officium/professio, ordo senatorius, tria nom...</td>\n",
       "      <td>{}</td>\n",
       "      <td></td>\n",
       "      <td></td>\n",
       "      <td>Q(uinto) Caecilio C(ai) f(ilio) Metel(l)o / im...</td>\n",
       "      <td>Q(uinto) Caecilio C(ai) f(ilio) Metel(l)o / im...</td>\n",
       "      <td>Quinto Caecilio Cai filio Metello imperatori I...</td>\n",
       "      <td>http://db.edcs.eu/epigr/partner.php?s_language...</td>\n",
       "      <td>NaN</td>\n",
       "      <td>-68</td>\n",
       "      <td>-68</td>\n",
       "      <td>-68.0</td>\n",
       "      <td>-68.0</td>\n",
       "      <td>officium/professio; ordo senatorius; tituli ho...</td>\n",
       "      <td>37.6381128</td>\n",
       "      <td>22.8052991</td>\n",
       "      <td>http://db.edcs.eu/epigr/bilder.php?bilder.php?...</td>\n",
       "      <td>NaN</td>\n",
       "      <td>NaN</td>\n",
       "    </tr>\n",
       "    <tr>\n",
       "      <th>3</th>\n",
       "      <td>EDCS-03700724</td>\n",
       "      <td>ZPE-108-159 = Thesprotia 00001 = AE 1993, 0140...</td>\n",
       "      <td>Achaia</td>\n",
       "      <td>Achaia</td>\n",
       "      <td>Agios Athanasios / Photike</td>\n",
       "      <td>[Agios Athanasios, Photike]</td>\n",
       "      <td>313</td>\n",
       "      <td></td>\n",
       "      <td>[Augusti/Augustae, litterae erasae, ordo eques...</td>\n",
       "      <td>tituli honorarii</td>\n",
       "      <td>[Augusti/Augustae, ordo equester, tria nomina]</td>\n",
       "      <td>litterae erasae</td>\n",
       "      <td></td>\n",
       "      <td></td>\n",
       "      <td>Fortissimo et Piis/simo Caesari d(omino) n(ost...</td>\n",
       "      <td>Fortissimo et Piis/simo Caesari d(omino) n(ost...</td>\n",
       "      <td>Fortissimo et Piissimo Caesari domino nostro G...</td>\n",
       "      <td>http://db.edcs.eu/epigr/partner.php?s_language...</td>\n",
       "      <td>NaN</td>\n",
       "      <td>309</td>\n",
       "      <td>313</td>\n",
       "      <td>309.0</td>\n",
       "      <td>313.0</td>\n",
       "      <td>Augusti/Augustae; litterae erasae; ordo equest...</td>\n",
       "      <td>39.4512182</td>\n",
       "      <td>20.7667673</td>\n",
       "      <td>http://db.edcs.eu/epigr/bilder.php?bilder.php?...</td>\n",
       "      <td>NaN</td>\n",
       "      <td>NaN</td>\n",
       "    </tr>\n",
       "    <tr>\n",
       "      <th>4</th>\n",
       "      <td>EDCS-55701593</td>\n",
       "      <td>AE 2009, 01286a</td>\n",
       "      <td>Achaia</td>\n",
       "      <td>Achaia</td>\n",
       "      <td>Agios Donatos / Photike</td>\n",
       "      <td>[Agios Donatos, Photike]</td>\n",
       "      <td>{}</td>\n",
       "      <td></td>\n",
       "      <td>[sigilla impressa, tituli fabricationis]</td>\n",
       "      <td>tituli fabricationis</td>\n",
       "      <td>{}</td>\n",
       "      <td>sigilla impressa</td>\n",
       "      <td></td>\n",
       "      <td></td>\n",
       "      <td>Cn(aeus) Atei(us)</td>\n",
       "      <td>Cn(aeus) Atei(us)</td>\n",
       "      <td>Cnaeus Ateius</td>\n",
       "      <td>NaN</td>\n",
       "      <td>NaN</td>\n",
       "      <td>NaN</td>\n",
       "      <td>NaN</td>\n",
       "      <td>NaN</td>\n",
       "      <td>NaN</td>\n",
       "      <td>sigilla impressa; tituli fabricationis</td>\n",
       "      <td>39.4759759</td>\n",
       "      <td>20.5069076</td>\n",
       "      <td>NaN</td>\n",
       "      <td>opus figlinae</td>\n",
       "      <td>NaN</td>\n",
       "    </tr>\n",
       "  </tbody>\n",
       "</table>\n",
       "</div>"
      ],
      "text/plain": [
       "         EDCS-ID                                        publication province  \\\n",
       "0  EDCS-31400030                                      CIL 03, 12297   Achaia   \n",
       "1  EDCS-24700151  CIL 01, 02650 (p 1097) = IG-05-01, 00741 = ILL...   Achaia   \n",
       "2  EDCS-24900077  CIL 01, 00746 (p 944) = D 00867 = ILLRP 00374 ...   Achaia   \n",
       "3  EDCS-03700724  ZPE-108-159 = Thesprotia 00001 = AE 1993, 0140...   Achaia   \n",
       "4  EDCS-55701593                                    AE 2009, 01286a   Achaia   \n",
       "\n",
       "  province_list                          place                     place_list  \\\n",
       "0        Achaia                              ?                              ?   \n",
       "1        Achaia                         Afesou                         Afesou   \n",
       "2        Achaia  Agia Triada / Merbaka / Midea  [Agia Triada, Merbaka, Midea]   \n",
       "3        Achaia     Agios Athanasios / Photike    [Agios Athanasios, Photike]   \n",
       "4        Achaia        Agios Donatos / Photike       [Agios Donatos, Photike]   \n",
       "\n",
       "  end_yr_list notes_dating                                        status_list  \\\n",
       "0          {}                                                              {}   \n",
       "1          {}                                                              {}   \n",
       "2         -68               [officium/professio, ordo senatorius, tituli h...   \n",
       "3         313               [Augusti/Augustae, litterae erasae, ordo eques...   \n",
       "4          {}                        [sigilla impressa, tituli fabricationis]   \n",
       "\n",
       "             inscr_type                                    status_notation  \\\n",
       "0                    {}                                                 {}   \n",
       "1                    {}                                                 {}   \n",
       "2      tituli honorarii  [officium/professio, ordo senatorius, tria nom...   \n",
       "3      tituli honorarii     [Augusti/Augustae, ordo equester, tria nomina]   \n",
       "4  tituli fabricationis                                                 {}   \n",
       "\n",
       "      inscr_process notes_references notes_comments  \\\n",
       "0                {}                                   \n",
       "1                {}                                   \n",
       "2                {}                                   \n",
       "3   litterae erasae                                   \n",
       "4  sigilla impressa                                   \n",
       "\n",
       "                                         inscription  \\\n",
       "0                                              Leius   \n",
       "1           // D(ecimi) Leivei D(ecimi) Leivei salve   \n",
       "2  Q(uinto) Caecilio C(ai) f(ilio) Metel(l)o / im...   \n",
       "3  Fortissimo et Piis/simo Caesari d(omino) n(ost...   \n",
       "4                                  Cn(aeus) Atei(us)   \n",
       "\n",
       "                          inscription_stripped_final  \\\n",
       "0                                              Leius   \n",
       "1           // D(ecimi) Leivei D(ecimi) Leivei salve   \n",
       "2  Q(uinto) Caecilio C(ai) f(ilio) Metel(l)o / im...   \n",
       "3  Fortissimo et Piis/simo Caesari d(omino) n(ost...   \n",
       "4                                  Cn(aeus) Atei(us)   \n",
       "\n",
       "                        clean_text_interpretive_word  \\\n",
       "0                                              Leius   \n",
       "1                  Decimi Leivei Decimi Leivei salve   \n",
       "2  Quinto Caecilio Cai filio Metello imperatori I...   \n",
       "3  Fortissimo et Piissimo Caesari domino nostro G...   \n",
       "4                                      Cnaeus Ateius   \n",
       "\n",
       "                                               Links language dating from  \\\n",
       "0                                                NaN      NaN         NaN   \n",
       "1  http://db.edcs.eu/epigr/partner.php?s_language...       GR         NaN   \n",
       "2  http://db.edcs.eu/epigr/partner.php?s_language...      NaN         -68   \n",
       "3  http://db.edcs.eu/epigr/partner.php?s_language...      NaN         309   \n",
       "4                                                NaN      NaN         NaN   \n",
       "\n",
       "  dating to  start_yr  end_yr_1  \\\n",
       "0       NaN       NaN       NaN   \n",
       "1       NaN       NaN       NaN   \n",
       "2       -68     -68.0     -68.0   \n",
       "3       313     309.0     313.0   \n",
       "4       NaN       NaN       NaN   \n",
       "\n",
       "                                              status    Latitude   Longitude  \\\n",
       "0                                                NaN         NaN         NaN   \n",
       "1                                                NaN         NaN         NaN   \n",
       "2  officium/professio; ordo senatorius; tituli ho...  37.6381128  22.8052991   \n",
       "3  Augusti/Augustae; litterae erasae; ordo equest...  39.4512182  20.7667673   \n",
       "4             sigilla impressa; tituli fabricationis  39.4759759  20.5069076   \n",
       "\n",
       "                                               photo       Material Comment  \n",
       "0                                                NaN            NaN     NaN  \n",
       "1                                                NaN            NaN     NaN  \n",
       "2  http://db.edcs.eu/epigr/bilder.php?bilder.php?...            NaN     NaN  \n",
       "3  http://db.edcs.eu/epigr/bilder.php?bilder.php?...            NaN     NaN  \n",
       "4                                                NaN  opus figlinae     NaN  "
      ]
     },
     "execution_count": 4,
     "metadata": {},
     "output_type": "execute_result"
    }
   ],
   "source": [
    "# read edcs dataset\n",
    "publicfolder = \"1f5f56d09903fe259c0906add8b3a55e\"\n",
    "EDCS = sddk.read_file(\"EDCS_text_cleaned_2021-03-01.json\", \"df\", publicfolder)\n",
    "EDCS.head(5)"
   ]
  },
  {
   "cell_type": "code",
   "execution_count": 5,
   "metadata": {},
   "outputs": [
    {
     "name": "stdout",
     "output_type": "stream",
     "text": [
      "81476\n",
      "500618\n"
     ]
    }
   ],
   "source": [
    "# length of the original dataset\n",
    "print(len(EDH))\n",
    "print(len(EDCS))"
   ]
  },
  {
   "cell_type": "markdown",
   "metadata": {},
   "source": [
    "# Filter by language"
   ]
  },
  {
   "cell_type": "code",
   "execution_count": 6,
   "metadata": {},
   "outputs": [
    {
     "name": "stdout",
     "output_type": "stream",
     "text": [
      "80177\n",
      "477549\n"
     ]
    }
   ],
   "source": [
    "# focus on latin inscriptions only\n",
    "EDH = EDH[EDH[\"language\"].notnull()]\n",
    "EDH = EDH[EDH[\"language\"].str.contains(\"Latin\")]\n",
    "print(len(EDH))\n",
    "\n",
    "# focus on latin inscriptions only\n",
    "EDCS = EDCS[EDCS[\"language\"].isnull()]\n",
    "print(len(EDCS))"
   ]
  },
  {
   "cell_type": "markdown",
   "metadata": {},
   "source": [
    "# Deduplicate EDCS/EDH by EDCS \"Links\" column"
   ]
  },
  {
   "cell_type": "code",
   "execution_count": 7,
   "metadata": {},
   "outputs": [],
   "source": [
    "# identify overlapping inscriptions\n",
    "# EDCS contains \"Links\" column, containing reference to EDH\n",
    "links_with_edh = EDCS[EDCS[\"Links\"].str.contains(\"edh\", na=False)][\"Links\"].tolist()\n",
    "edh_ids = [link.rpartition(\"edh/inschrift/\")[2].split()[0] for link in links_with_edh]"
   ]
  },
  {
   "cell_type": "code",
   "execution_count": 8,
   "metadata": {
    "scrolled": true
   },
   "outputs": [
    {
     "data": {
      "text/plain": [
       "72177"
      ]
     },
     "execution_count": 8,
     "metadata": {},
     "output_type": "execute_result"
    }
   ],
   "source": [
    "len(edh_ids)"
   ]
  },
  {
   "cell_type": "code",
   "execution_count": 9,
   "metadata": {},
   "outputs": [
    {
     "data": {
      "text/plain": [
       "90.02207615650374"
      ]
     },
     "execution_count": 9,
     "metadata": {},
     "output_type": "execute_result"
    }
   ],
   "source": [
    "# percents covered: \n",
    "len(edh_ids) / len(EDH) * 100"
   ]
  },
  {
   "cell_type": "code",
   "execution_count": 10,
   "metadata": {},
   "outputs": [
    {
     "data": {
      "text/plain": [
       "405372"
      ]
     },
     "execution_count": 10,
     "metadata": {},
     "output_type": "execute_result"
    }
   ],
   "source": [
    "# remove them from the dataset\n",
    "EDCS = EDCS[~EDCS[\"Links\"].str.contains(\"edh\", na=False)]\n",
    "len(EDCS)"
   ]
  },
  {
   "cell_type": "code",
   "execution_count": 11,
   "metadata": {},
   "outputs": [
    {
     "data": {
      "text/plain": [
       "72177"
      ]
     },
     "execution_count": 11,
     "metadata": {},
     "output_type": "execute_result"
    }
   ],
   "source": [
    "# EDH inscriptions explictly in EDH\n",
    "len(edh_ids)"
   ]
  },
  {
   "cell_type": "code",
   "execution_count": 12,
   "metadata": {},
   "outputs": [
    {
     "data": {
      "text/plain": [
       "9250"
      ]
     },
     "execution_count": 12,
     "metadata": {},
     "output_type": "execute_result"
    }
   ],
   "source": [
    "# inscriptions which are not explicitly refered to in EDCS\n",
    "EDH_unique = EDH[~EDH[\"id\"].isin(edh_ids)]\n",
    "len(EDH_unique)"
   ]
  },
  {
   "cell_type": "markdown",
   "metadata": {},
   "source": [
    "what about these?\n",
    "\n",
    "# Deduplicate using trismegistos API\n",
    "\n",
    "EDH standardly includes references to trismegistos. The trismegistos URI api enables queries for EDCS-ID. We will use this extract EDCS-IDs of additional inscriptions in EDCS which are in EDH  "
   ]
  },
  {
   "cell_type": "code",
   "execution_count": 59,
   "metadata": {},
   "outputs": [],
   "source": [
    "def get_edcs(trismegistos_uri):\n",
    "    try:\n",
    "        url = \"https://www.trismegistos.org/dataservices/texrelations/{}\".format(trismegistos_uri.rpartition(\"/\")[2])\n",
    "        resp = requests.get(url)\n",
    "        edcs_ids = resp.json()[3][\"EDCS\"]\n",
    "        return edcs_ids\n",
    "    except: \n",
    "        return None"
   ]
  },
  {
   "cell_type": "code",
   "execution_count": null,
   "metadata": {
    "scrolled": true
   },
   "outputs": [],
   "source": [
    "%%time\n",
    "# takes time, so use it carefully, or use data from the previous run below\n",
    "EDH_unique[\"edcs_ids\"] = EDH_unique[\"trismegistos_uri\"].apply(get_edcs)"
   ]
  },
  {
   "cell_type": "code",
   "execution_count": null,
   "metadata": {},
   "outputs": [],
   "source": [
    "edcs_to_edh_dict = {}\n",
    "for edh_id, edcs_ids in zip(EDH_unique[\"id\"], EDH_unique[\"edcs_ids\"]):\n",
    "    try:\n",
    "        for edcs_id in edcs_ids:\n",
    "            edcs_to_edh_dict[\"EDCS-\" + edcs_id] = edh_id\n",
    "    except:\n",
    "        pass"
   ]
  },
  {
   "cell_type": "code",
   "execution_count": 33,
   "metadata": {},
   "outputs": [],
   "source": [
    "# save for future usage\n",
    "with open(\"../data/edcs_to_edh_dict.json\", \"w\") as f:\n",
    "    json.dump(edcs_to_edh_dict, f)"
   ]
  },
  {
   "cell_type": "code",
   "execution_count": 13,
   "metadata": {},
   "outputs": [],
   "source": [
    "# upload the previously identified pairs\n",
    "with open(\"../data/edcs_to_edh_dict.json\", \"r\") as f:\n",
    "    edcs_to_edh_dict = json.load(f)"
   ]
  },
  {
   "cell_type": "code",
   "execution_count": 14,
   "metadata": {},
   "outputs": [
    {
     "data": {
      "text/plain": [
       "405372"
      ]
     },
     "execution_count": 14,
     "metadata": {},
     "output_type": "execute_result"
    }
   ],
   "source": [
    "# actual length of EDCS\n",
    "len(EDCS)"
   ]
  },
  {
   "cell_type": "code",
   "execution_count": 15,
   "metadata": {},
   "outputs": [],
   "source": [
    "edcs_edh_keys = list(edcs_to_edh_dict.keys())"
   ]
  },
  {
   "cell_type": "code",
   "execution_count": 16,
   "metadata": {},
   "outputs": [
    {
     "data": {
      "text/plain": [
       "5483"
      ]
     },
     "execution_count": 16,
     "metadata": {},
     "output_type": "execute_result"
    }
   ],
   "source": [
    "# EDCS-IDs of additional duplicate inscriptions (captured by trismegistos api)\n",
    "len(edcs_edh_keys)"
   ]
  },
  {
   "cell_type": "code",
   "execution_count": 17,
   "metadata": {},
   "outputs": [
    {
     "data": {
      "text/plain": [
       "401366"
      ]
     },
     "execution_count": 17,
     "metadata": {},
     "output_type": "execute_result"
    }
   ],
   "source": [
    "# use these keys to remove the remaining duplicates from EDCS\n",
    "EDCS = EDCS[~EDCS[\"EDCS-ID\"].isin(edcs_edh_keys)]\n",
    "len(EDCS)"
   ]
  },
  {
   "cell_type": "markdown",
   "metadata": {},
   "source": [
    "# Filter by dating"
   ]
  },
  {
   "cell_type": "code",
   "execution_count": 18,
   "metadata": {},
   "outputs": [],
   "source": [
    "EDCS.rename(columns={\"start_yr\" : \"not_before\", \"end_yr_1\" : \"not_after\"}, inplace=True)"
   ]
  },
  {
   "cell_type": "code",
   "execution_count": 28,
   "metadata": {},
   "outputs": [
    {
     "name": "stdout",
     "output_type": "stream",
     "text": [
      "not_before: 98045\n",
      "not_after: 98687\n",
      "not_before or not_after: 98751\n"
     ]
    }
   ],
   "source": [
    "print(\"not_before: {0}\".format(len(EDCS[(EDCS[\"not_before\"].notnull())])))\n",
    "print(\"not_after: {0}\".format(len(EDCS[EDCS[\"not_after\"].notnull()])))\n",
    "print(\"not_before or not_after: {0}\".format(len(EDCS[(EDCS[\"not_before\"].notnull()) | (EDCS[\"not_after\"].notnull())])))"
   ]
  },
  {
   "cell_type": "code",
   "execution_count": 29,
   "metadata": {},
   "outputs": [
    {
     "data": {
      "text/plain": [
       "98751"
      ]
     },
     "execution_count": 29,
     "metadata": {},
     "output_type": "execute_result"
    }
   ],
   "source": [
    "# having at least some form of date\n",
    "EDCS = EDCS[(EDCS[\"not_before\"].notnull()) | (EDCS[\"not_after\"].notnull())]\n",
    "len(EDCS)\n",
    "# originally we had 98972"
   ]
  },
  {
   "cell_type": "code",
   "execution_count": 30,
   "metadata": {},
   "outputs": [],
   "source": [
    "# this date being numeric\n",
    "def to_int(date_str):\n",
    "    try: return int(date_str)\n",
    "    except: return None\n",
    "    \n",
    "EDCS[\"not_before\"] = EDCS[\"not_before\"].apply(to_int)\n",
    "EDCS[\"not_after\"] = EDCS[\"not_after\"].apply(to_int)"
   ]
  },
  {
   "cell_type": "code",
   "execution_count": 31,
   "metadata": {},
   "outputs": [
    {
     "data": {
      "text/plain": [
       "88088"
      ]
     },
     "execution_count": 31,
     "metadata": {},
     "output_type": "execute_result"
    }
   ],
   "source": [
    "# these dates within the desired range\n",
    "EDCS = (EDCS[(EDCS[\"not_before\"].between(-50, 350) | (EDCS[\"not_after\"].between(-50, 350)))])\n",
    "len(EDCS)"
   ]
  },
  {
   "cell_type": "code",
   "execution_count": 32,
   "metadata": {},
   "outputs": [
    {
     "data": {
      "text/plain": [
       "80177"
      ]
     },
     "execution_count": 32,
     "metadata": {},
     "output_type": "execute_result"
    }
   ],
   "source": [
    "len(EDH)"
   ]
  },
  {
   "cell_type": "code",
   "execution_count": 33,
   "metadata": {},
   "outputs": [
    {
     "data": {
      "text/plain": [
       "56466"
      ]
     },
     "execution_count": 33,
     "metadata": {},
     "output_type": "execute_result"
    }
   ],
   "source": [
    "# this date within the desired range\n",
    "EDH[\"not_before\"] = EDH[\"not_before\"].apply(to_int)\n",
    "EDH[\"not_after\"] = EDH[\"not_after\"].apply(to_int)\n",
    "EDH = EDH[(EDH[\"not_before\"].between(-50, 350) | (EDH[\"not_after\"].between(-50, 350)))]\n",
    "len(EDH)"
   ]
  },
  {
   "cell_type": "markdown",
   "metadata": {},
   "source": [
    "# Create geodataframes"
   ]
  },
  {
   "cell_type": "code",
   "execution_count": 46,
   "metadata": {},
   "outputs": [
    {
     "data": {
      "text/plain": [
       "55557"
      ]
     },
     "execution_count": 46,
     "metadata": {},
     "output_type": "execute_result"
    }
   ],
   "source": [
    "# EDH as geodataframe\n",
    "EDHg= EDH[EDH[\"coordinates\"].apply(lambda x: isinstance(x, list))]\n",
    "EDHg = gpd.GeoDataFrame(EDHg, geometry=gpd.points_from_xy(EDHg[\"coordinates\"].apply(lambda x: x[0]), EDHg[\"coordinates\"].apply(lambda x: x[1])), crs={\"init\": \"epsg:3857\"})\n",
    "len(EDHg)"
   ]
  },
  {
   "cell_type": "code",
   "execution_count": 47,
   "metadata": {},
   "outputs": [
    {
     "data": {
      "text/plain": [
       "86831"
      ]
     },
     "execution_count": 47,
     "metadata": {},
     "output_type": "execute_result"
    }
   ],
   "source": [
    "# EDCS as geodataframe\n",
    "EDCSg = EDCS[EDCS[\"Latitude\"].notnull()]\n",
    "EDCSg = gpd.GeoDataFrame(EDCSg, geometry=gpd.points_from_xy(EDCSg[\"Longitude\"], EDCSg[\"Latitude\"]))\n",
    "len(EDCSg)"
   ]
  },
  {
   "cell_type": "markdown",
   "metadata": {},
   "source": [
    "# Inscriptions within the provinces"
   ]
  },
  {
   "cell_type": "code",
   "execution_count": 52,
   "metadata": {},
   "outputs": [],
   "source": [
    "pleiades_regions = gpd.read_file('../data/pleiades_regions.geojson', driver='GeoJSON')"
   ]
  },
  {
   "cell_type": "code",
   "execution_count": 54,
   "metadata": {},
   "outputs": [],
   "source": [
    "# merge the regions into one multipolygon\n",
    "RE_merged = pleiades_regions.unary_union"
   ]
  },
  {
   "cell_type": "code",
   "execution_count": 55,
   "metadata": {},
   "outputs": [],
   "source": [
    "def re_by_id(id, dataset=None):\n",
    "    if dataset == \"EDH\":\n",
    "        try: return EDH_within_RE_dict[id]\n",
    "        except: return False\n",
    "    elif dataset == \"EDCS\":\n",
    "        try: return EDCS_within_RE_dict[id]\n",
    "        except: return False\n",
    "    else:\n",
    "        return False"
   ]
  },
  {
   "cell_type": "code",
   "execution_count": 57,
   "metadata": {},
   "outputs": [
    {
     "name": "stdout",
     "output_type": "stream",
     "text": [
      "sciencedata.dk username (format '123456@au.dk'): 648597@au.dk\n",
      "sciencedata.dk password: ········\n",
      "connection with shared folder established with you as its owner\n",
      "endpoint variable has been configured to: https://sciencedata.dk/files/SDAM_root/\n"
     ]
    }
   ],
   "source": [
    "conf = sddk.configure(\"SDAM_root\", \"648597@au.dk\")"
   ]
  },
  {
   "cell_type": "code",
   "execution_count": 62,
   "metadata": {},
   "outputs": [],
   "source": [
    "# previously computed inscriptions within RE\n",
    "with open(\"../data/EDH_within_RE_dict.json\", \"r\") as f:\n",
    "    EDH_within_RE_dict = json.load(f)\n",
    "\n",
    "EDHg[\"within_RE\"]= EDHg[\"id\"].apply(re_by_id, dataset=\"EDH\")\n",
    "# to recompute, uncomment the following (takes approx five minutes):\n",
    "#EDHg[\"within_RE\"] = EDHg.within(RE_merged)\n",
    "#EDH_within_RE_dict = dict(zip(EDHg[\"id\"].tolist(), EDHg[\"within_RE\"]))\n",
    "#with open(\"../data/EDH_within_RE_dict.json\", \"w\") as f:\n",
    "#    json.dump(EDH_within_RE_dict, f)"
   ]
  },
  {
   "cell_type": "code",
   "execution_count": 67,
   "metadata": {},
   "outputs": [],
   "source": [
    "with open(\"../data/EDCS_within_RE_dict.json\", \"r\") as f:\n",
    "    EDCS_within_RE_dict = json.load(f)\n",
    "\n",
    "EDCSg[\"within_RE\"]= EDCSg[\"EDCS-ID\"].apply(re_by_id, dataset=\"EDCS\")\n",
    "# to recompute, uncomment the following (takes approx 30 minutes):\n",
    "#EDCSg[\"within_RE\"] = EDCSg.within(RE_merged)\n",
    "#EDCS_within_RE_dict = dict(zip(EDCSg[\"EDCS-ID\"].tolist(), EDCSg[\"within_RE\"]))\n",
    "#with open(\"../data/EDCS_within_RE_dict.json\", \"w\") as f:\n",
    "#  json.dump(EDCS_within_RE_dict, f)"
   ]
  },
  {
   "cell_type": "code",
   "execution_count": 68,
   "metadata": {},
   "outputs": [],
   "source": [
    "EDHg = EDHg[EDHg[\"within_RE\"]==True]\n",
    "EDCSg = EDCSg[EDCSg[\"within_RE\"]==True]"
   ]
  },
  {
   "cell_type": "code",
   "execution_count": 71,
   "metadata": {},
   "outputs": [
    {
     "name": "stdout",
     "output_type": "stream",
     "text": [
      "52708\n",
      "83482\n",
      "total: 136190\n"
     ]
    }
   ],
   "source": [
    "print(len(EDHg))\n",
    "print(len(EDCSg))\n",
    "print(\"total: {0}\".format(len(EDHg) + len(EDCSg)))"
   ]
  },
  {
   "cell_type": "code",
   "execution_count": null,
   "metadata": {},
   "outputs": [],
   "source": [
    "plt.rcParams['figure.dpi'] = 300"
   ]
  },
  {
   "cell_type": "code",
   "execution_count": 77,
   "metadata": {},
   "outputs": [],
   "source": [
    "import matplotlib.pyplot as plt\n",
    "import geoplot as gplt"
   ]
  },
  {
   "cell_type": "code",
   "execution_count": 121,
   "metadata": {},
   "outputs": [
    {
     "data": {
      "text/plain": [
       "Text(0.5, 1.0, 'EDCS (N=83482)')"
      ]
     },
     "execution_count": 121,
     "metadata": {},
     "output_type": "execute_result"
    },
    {
     "data": {
      "image/png": "[encoded data removed]",
      "text/plain": [
       "<Figure size 374.4x504 with 2 Axes>"
      ]
     },
     "metadata": {
      "needs_background": "light"
     },
     "output_type": "display_data"
    }
   ],
   "source": [
    "fig, [ax1, ax2] = plt.subplots(2, 1, figsize=[5.2, 7], tight_layout=True)\n",
    "\n",
    "plt.rcParams['axes.titley'] = 1.0 \n",
    "plt.rcParams['axes.titlepad'] = -14\n",
    "\n",
    "pleiades_regions.plot(ax=ax1, color=\"lightgray\")\n",
    "gplt.kdeplot(EDHg, cmap='Reds', shade=True, ax=ax1) # , clip=EDHg.geometry,\n",
    "EDHg.plot(ax=ax1, color=\"darkred\", markersize=0.3)\n",
    "ax1.set_axis_off()\n",
    "ax1.set_xlim(-10, 41)\n",
    "ax1.set_ylim(23, 55.5)\n",
    "ax1.set_title(\"EDH (N={0})\".format(len(EDHg)))\n",
    "\n",
    "pleiades_regions.plot(ax=ax2, color=\"lightgray\")\n",
    "gplt.kdeplot(EDCSg, cmap='Greens', shade=True, ax=ax2) # , clip=EDHg.geometry,\n",
    "EDCSg.plot(ax=ax2, alpha=0.4, color=\"darkgreen\", markersize=0.3)\n",
    "ax2.set_axis_off()\n",
    "ax2.set_xlim(-10, 41)\n",
    "ax2.set_ylim(23, 55.5)\n",
    "ax2.set_title(\"EDCS (N={0})\".format(len(EDCSg)))"
   ]
  },
  {
   "cell_type": "code",
   "execution_count": 122,
   "metadata": {},
   "outputs": [
    {
     "name": "stderr",
     "output_type": "stream",
     "text": [
      "The PostScript backend does not support transparency; partially transparent artists will be rendered opaque.\n",
      "The PostScript backend does not support transparency; partially transparent artists will be rendered opaque.\n",
      "The PostScript backend does not support transparency; partially transparent artists will be rendered opaque.\n"
     ]
    }
   ],
   "source": [
    "fig.savefig(\"../figures/EDH-EDCS_spatial_distributions.eps\", format=\"eps\", dpi=300)"
   ]
  },
  {
   "cell_type": "markdown",
   "metadata": {},
   "source": [
    "# Urban contexts"
   ]
  },
  {
   "cell_type": "code",
   "execution_count": 125,
   "metadata": {},
   "outputs": [
    {
     "data": {
      "text/html": [
       "<div>\n",
       "<style scoped>\n",
       "    .dataframe tbody tr th:only-of-type {\n",
       "        vertical-align: middle;\n",
       "    }\n",
       "\n",
       "    .dataframe tbody tr th {\n",
       "        vertical-align: top;\n",
       "    }\n",
       "\n",
       "    .dataframe thead th {\n",
       "        text-align: right;\n",
       "    }\n",
       "</style>\n",
       "<table border=\"1\" class=\"dataframe\">\n",
       "  <thead>\n",
       "    <tr style=\"text-align: right;\">\n",
       "      <th></th>\n",
       "      <th>Primary Key</th>\n",
       "      <th>Ancient Toponym</th>\n",
       "      <th>Modern Toponym</th>\n",
       "      <th>Province</th>\n",
       "      <th>Country</th>\n",
       "      <th>Barrington Atlas Rank</th>\n",
       "      <th>Barrington Atlas Reference</th>\n",
       "      <th>Start Date</th>\n",
       "      <th>End Date</th>\n",
       "      <th>Select Bibliography</th>\n",
       "      <th>Area</th>\n",
       "      <th>Estimate Basis</th>\n",
       "      <th>num_of_structures</th>\n",
       "      <th>ID</th>\n",
       "      <th>level_0</th>\n",
       "      <th>Unnamed: 0_y</th>\n",
       "      <th>index</th>\n",
       "      <th>pop_sample</th>\n",
       "      <th>pop_est</th>\n",
       "      <th>pop_diff</th>\n",
       "      <th>geometry</th>\n",
       "    </tr>\n",
       "  </thead>\n",
       "  <tbody>\n",
       "    <tr>\n",
       "      <th>0</th>\n",
       "      <td>Hanson2016_1</td>\n",
       "      <td>Abae</td>\n",
       "      <td>Kalapodi</td>\n",
       "      <td>Achaea</td>\n",
       "      <td>Greece</td>\n",
       "      <td>4 or 5</td>\n",
       "      <td>55 D3</td>\n",
       "      <td>-600</td>\n",
       "      <td>NaN</td>\n",
       "      <td>BNP; Hansen 2006; Hansen and Nielsen 2004; PEC...</td>\n",
       "      <td>16.0</td>\n",
       "      <td>Walls</td>\n",
       "      <td>5</td>\n",
       "      <td>1</td>\n",
       "      <td>NaN</td>\n",
       "      <td>NaN</td>\n",
       "      <td>NaN</td>\n",
       "      <td>NaN</td>\n",
       "      <td>1700.0</td>\n",
       "      <td>NaN</td>\n",
       "      <td>POINT (22.93333 38.58333)</td>\n",
       "    </tr>\n",
       "    <tr>\n",
       "      <th>1</th>\n",
       "      <td>Hanson2016_2</td>\n",
       "      <td>Acharnae</td>\n",
       "      <td>Acharnes</td>\n",
       "      <td>Achaea</td>\n",
       "      <td>Greece</td>\n",
       "      <td>3</td>\n",
       "      <td>59 B2</td>\n",
       "      <td>-600</td>\n",
       "      <td>NaN</td>\n",
       "      <td>BNP; DGRG; PECS; Sear 2006.</td>\n",
       "      <td>NaN</td>\n",
       "      <td>None</td>\n",
       "      <td>3</td>\n",
       "      <td>2</td>\n",
       "      <td>NaN</td>\n",
       "      <td>NaN</td>\n",
       "      <td>NaN</td>\n",
       "      <td>NaN</td>\n",
       "      <td>1000.0</td>\n",
       "      <td>NaN</td>\n",
       "      <td>POINT (23.73409 38.08347)</td>\n",
       "    </tr>\n",
       "    <tr>\n",
       "      <th>2</th>\n",
       "      <td>Hanson2016_3</td>\n",
       "      <td>Acraephia</td>\n",
       "      <td>Akraifnio</td>\n",
       "      <td>Achaea</td>\n",
       "      <td>Greece</td>\n",
       "      <td>3</td>\n",
       "      <td>55 E4</td>\n",
       "      <td>-600</td>\n",
       "      <td>NaN</td>\n",
       "      <td>BNP; DGRG; Hansen and Nielsen 2004; PECS; Sear...</td>\n",
       "      <td>NaN</td>\n",
       "      <td>None</td>\n",
       "      <td>7</td>\n",
       "      <td>3</td>\n",
       "      <td>NaN</td>\n",
       "      <td>NaN</td>\n",
       "      <td>NaN</td>\n",
       "      <td>NaN</td>\n",
       "      <td>1000.0</td>\n",
       "      <td>NaN</td>\n",
       "      <td>POINT (23.21970 38.45261)</td>\n",
       "    </tr>\n",
       "    <tr>\n",
       "      <th>3</th>\n",
       "      <td>Hanson2016_4</td>\n",
       "      <td>Aegina</td>\n",
       "      <td>Aigina</td>\n",
       "      <td>Achaea</td>\n",
       "      <td>Greece</td>\n",
       "      <td>2</td>\n",
       "      <td>59 A3</td>\n",
       "      <td>-600</td>\n",
       "      <td>NaN</td>\n",
       "      <td>BNP; DGRG; Hansen 2006; Hansen and Nielsen 200...</td>\n",
       "      <td>52.0</td>\n",
       "      <td>Inhabited area</td>\n",
       "      <td>8</td>\n",
       "      <td>4</td>\n",
       "      <td>NaN</td>\n",
       "      <td>NaN</td>\n",
       "      <td>NaN</td>\n",
       "      <td>NaN</td>\n",
       "      <td>8209.0</td>\n",
       "      <td>NaN</td>\n",
       "      <td>POINT (23.42850 37.75007)</td>\n",
       "    </tr>\n",
       "    <tr>\n",
       "      <th>4</th>\n",
       "      <td>Hanson2016_5</td>\n",
       "      <td>Aegira</td>\n",
       "      <td>Aigeira</td>\n",
       "      <td>Achaea</td>\n",
       "      <td>Greece</td>\n",
       "      <td>3</td>\n",
       "      <td>58 C1</td>\n",
       "      <td>-600</td>\n",
       "      <td>NaN</td>\n",
       "      <td>DGRG; Hansen and Nielsen 2004.</td>\n",
       "      <td>NaN</td>\n",
       "      <td>None</td>\n",
       "      <td>8</td>\n",
       "      <td>5</td>\n",
       "      <td>NaN</td>\n",
       "      <td>NaN</td>\n",
       "      <td>NaN</td>\n",
       "      <td>NaN</td>\n",
       "      <td>1000.0</td>\n",
       "      <td>NaN</td>\n",
       "      <td>POINT (22.35572 38.14795)</td>\n",
       "    </tr>\n",
       "  </tbody>\n",
       "</table>\n",
       "</div>"
      ],
      "text/plain": [
       "    Primary Key Ancient Toponym Modern Toponym Province Country  \\\n",
       "0  Hanson2016_1            Abae       Kalapodi   Achaea  Greece   \n",
       "1  Hanson2016_2        Acharnae       Acharnes   Achaea  Greece   \n",
       "2  Hanson2016_3       Acraephia      Akraifnio   Achaea  Greece   \n",
       "3  Hanson2016_4          Aegina         Aigina   Achaea  Greece   \n",
       "4  Hanson2016_5          Aegira        Aigeira   Achaea  Greece   \n",
       "\n",
       "  Barrington Atlas Rank Barrington Atlas Reference  Start Date  End Date  \\\n",
       "0                4 or 5                      55 D3        -600       NaN   \n",
       "1                     3                      59 B2        -600       NaN   \n",
       "2                     3                      55 E4        -600       NaN   \n",
       "3                     2                      59 A3        -600       NaN   \n",
       "4                     3                      58 C1        -600       NaN   \n",
       "\n",
       "                                 Select Bibliography  Area  Estimate Basis  \\\n",
       "0  BNP; Hansen 2006; Hansen and Nielsen 2004; PEC...  16.0           Walls   \n",
       "1                        BNP; DGRG; PECS; Sear 2006.   NaN            None   \n",
       "2  BNP; DGRG; Hansen and Nielsen 2004; PECS; Sear...   NaN            None   \n",
       "3  BNP; DGRG; Hansen 2006; Hansen and Nielsen 200...  52.0  Inhabited area   \n",
       "4                     DGRG; Hansen and Nielsen 2004.   NaN            None   \n",
       "\n",
       "   num_of_structures ID  level_0  Unnamed: 0_y  index  pop_sample  pop_est  \\\n",
       "0                  5  1      NaN           NaN    NaN         NaN   1700.0   \n",
       "1                  3  2      NaN           NaN    NaN         NaN   1000.0   \n",
       "2                  7  3      NaN           NaN    NaN         NaN   1000.0   \n",
       "3                  8  4      NaN           NaN    NaN         NaN   8209.0   \n",
       "4                  8  5      NaN           NaN    NaN         NaN   1000.0   \n",
       "\n",
       "   pop_diff                   geometry  \n",
       "0       NaN  POINT (22.93333 38.58333)  \n",
       "1       NaN  POINT (23.73409 38.08347)  \n",
       "2       NaN  POINT (23.21970 38.45261)  \n",
       "3       NaN  POINT (23.42850 37.75007)  \n",
       "4       NaN  POINT (22.35572 38.14795)  "
      ]
     },
     "execution_count": 125,
     "metadata": {},
     "output_type": "execute_result"
    }
   ],
   "source": [
    "cities_pop = gpd.read_file(\"../data/roman_cities_pop.geojson\")"
   ]
  },
  {
   "cell_type": "code",
   "execution_count": 128,
   "metadata": {},
   "outputs": [
    {
     "data": {
      "text/html": [
       "<div>\n",
       "<style scoped>\n",
       "    .dataframe tbody tr th:only-of-type {\n",
       "        vertical-align: middle;\n",
       "    }\n",
       "\n",
       "    .dataframe tbody tr th {\n",
       "        vertical-align: top;\n",
       "    }\n",
       "\n",
       "    .dataframe thead th {\n",
       "        text-align: right;\n",
       "    }\n",
       "</style>\n",
       "<table border=\"1\" class=\"dataframe\">\n",
       "  <thead>\n",
       "    <tr style=\"text-align: right;\">\n",
       "      <th></th>\n",
       "      <th>Primary Key</th>\n",
       "      <th>Ancient Toponym</th>\n",
       "      <th>Modern Toponym</th>\n",
       "      <th>Province</th>\n",
       "      <th>Country</th>\n",
       "      <th>Barrington Atlas Rank</th>\n",
       "      <th>Barrington Atlas Reference</th>\n",
       "      <th>Start Date</th>\n",
       "      <th>End Date</th>\n",
       "      <th>Select Bibliography</th>\n",
       "      <th>Area</th>\n",
       "      <th>Estimate Basis</th>\n",
       "      <th>num_of_structures</th>\n",
       "      <th>ID</th>\n",
       "      <th>level_0</th>\n",
       "      <th>Unnamed: 0_y</th>\n",
       "      <th>index</th>\n",
       "      <th>pop_sample</th>\n",
       "      <th>pop_est</th>\n",
       "      <th>pop_diff</th>\n",
       "      <th>geometry</th>\n",
       "    </tr>\n",
       "  </thead>\n",
       "  <tbody>\n",
       "    <tr>\n",
       "      <th>991</th>\n",
       "      <td>Hanson2016_992</td>\n",
       "      <td>Roma</td>\n",
       "      <td>Rome</td>\n",
       "      <td>Italia (VII Etruria)</td>\n",
       "      <td>Italy</td>\n",
       "      <td>1</td>\n",
       "      <td>43 B2</td>\n",
       "      <td>-700</td>\n",
       "      <td>NaN</td>\n",
       "      <td>Beloch 1886; Benario 1981; de Ligt 2012; Golvi...</td>\n",
       "      <td>1783.0</td>\n",
       "      <td>Fourteen Augustan regions</td>\n",
       "      <td>236</td>\n",
       "      <td>992</td>\n",
       "      <td>89.0</td>\n",
       "      <td>89.0</td>\n",
       "      <td>89.0</td>\n",
       "      <td>923406.0</td>\n",
       "      <td>923313.0</td>\n",
       "      <td>1.000101</td>\n",
       "      <td>POINT (12.48510 41.89278)</td>\n",
       "    </tr>\n",
       "    <tr>\n",
       "      <th>109</th>\n",
       "      <td>Hanson2016_110</td>\n",
       "      <td>Alexandria (Aegyptus)</td>\n",
       "      <td>Alexandria</td>\n",
       "      <td>Aegyptus</td>\n",
       "      <td>Egypt</td>\n",
       "      <td>1</td>\n",
       "      <td>74 B2</td>\n",
       "      <td>-322</td>\n",
       "      <td>NaN</td>\n",
       "      <td>Beloch 1886; Bowman 2011; Cohen 2006; Humphrey...</td>\n",
       "      <td>972.0</td>\n",
       "      <td>Urban grid</td>\n",
       "      <td>30</td>\n",
       "      <td>110</td>\n",
       "      <td>3.0</td>\n",
       "      <td>3.0</td>\n",
       "      <td>3.0</td>\n",
       "      <td>410535.0</td>\n",
       "      <td>410502.0</td>\n",
       "      <td>1.000080</td>\n",
       "      <td>POINT (29.90373 31.19502)</td>\n",
       "    </tr>\n",
       "    <tr>\n",
       "      <th>179</th>\n",
       "      <td>Hanson2016_180</td>\n",
       "      <td>Lepcis Magna</td>\n",
       "      <td>Lebda</td>\n",
       "      <td>Africa Proconsularis</td>\n",
       "      <td>Libya</td>\n",
       "      <td>1</td>\n",
       "      <td>35 G2</td>\n",
       "      <td>-30</td>\n",
       "      <td>NaN</td>\n",
       "      <td>Bomgardner 2000; Golvin 1988; Humphrey 1986; L...</td>\n",
       "      <td>466.0</td>\n",
       "      <td>Ramparts</td>\n",
       "      <td>46</td>\n",
       "      <td>180</td>\n",
       "      <td>NaN</td>\n",
       "      <td>NaN</td>\n",
       "      <td>NaN</td>\n",
       "      <td>NaN</td>\n",
       "      <td>153722.0</td>\n",
       "      <td>NaN</td>\n",
       "      <td>POINT (14.29306 32.63833)</td>\n",
       "    </tr>\n",
       "    <tr>\n",
       "      <th>308</th>\n",
       "      <td>Hanson2016_309</td>\n",
       "      <td>Rhodus</td>\n",
       "      <td>Rhodes</td>\n",
       "      <td>Asia</td>\n",
       "      <td>Greece</td>\n",
       "      <td>3</td>\n",
       "      <td>60 G3</td>\n",
       "      <td>-408</td>\n",
       "      <td>NaN</td>\n",
       "      <td>Beloch 1886; Hansen 2006; Hansen and Nielsen 2...</td>\n",
       "      <td>412.0</td>\n",
       "      <td>Urban grid</td>\n",
       "      <td>17</td>\n",
       "      <td>309</td>\n",
       "      <td>NaN</td>\n",
       "      <td>NaN</td>\n",
       "      <td>NaN</td>\n",
       "      <td>NaN</td>\n",
       "      <td>130398.0</td>\n",
       "      <td>NaN</td>\n",
       "      <td>POINT (28.22701 36.44324)</td>\n",
       "    </tr>\n",
       "    <tr>\n",
       "      <th>1323</th>\n",
       "      <td>Hanson2016_1324</td>\n",
       "      <td>Antiochia (Syria)</td>\n",
       "      <td>Antakya</td>\n",
       "      <td>Syria</td>\n",
       "      <td>Turkey</td>\n",
       "      <td>1</td>\n",
       "      <td>67 C4</td>\n",
       "      <td>-300</td>\n",
       "      <td>NaN</td>\n",
       "      <td>Boatwright 2000; Jones 1937; McEvedy 2011; Nel...</td>\n",
       "      <td>399.0</td>\n",
       "      <td>Walls of Theodosius II, Justinian, and topography</td>\n",
       "      <td>33</td>\n",
       "      <td>1324</td>\n",
       "      <td>NaN</td>\n",
       "      <td>NaN</td>\n",
       "      <td>NaN</td>\n",
       "      <td>NaN</td>\n",
       "      <td>124930.0</td>\n",
       "      <td>NaN</td>\n",
       "      <td>POINT (36.16963 36.21017)</td>\n",
       "    </tr>\n",
       "  </tbody>\n",
       "</table>\n",
       "</div>"
      ],
      "text/plain": [
       "          Primary Key        Ancient Toponym Modern Toponym  \\\n",
       "991    Hanson2016_992                   Roma           Rome   \n",
       "109    Hanson2016_110  Alexandria (Aegyptus)     Alexandria   \n",
       "179    Hanson2016_180           Lepcis Magna          Lebda   \n",
       "308    Hanson2016_309                 Rhodus         Rhodes   \n",
       "1323  Hanson2016_1324      Antiochia (Syria)        Antakya   \n",
       "\n",
       "                  Province Country Barrington Atlas Rank  \\\n",
       "991   Italia (VII Etruria)   Italy                     1   \n",
       "109               Aegyptus   Egypt                     1   \n",
       "179   Africa Proconsularis   Libya                     1   \n",
       "308                   Asia  Greece                     3   \n",
       "1323                 Syria  Turkey                     1   \n",
       "\n",
       "     Barrington Atlas Reference  Start Date  End Date  \\\n",
       "991                       43 B2        -700       NaN   \n",
       "109                       74 B2        -322       NaN   \n",
       "179                       35 G2         -30       NaN   \n",
       "308                       60 G3        -408       NaN   \n",
       "1323                      67 C4        -300       NaN   \n",
       "\n",
       "                                    Select Bibliography    Area  \\\n",
       "991   Beloch 1886; Benario 1981; de Ligt 2012; Golvi...  1783.0   \n",
       "109   Beloch 1886; Bowman 2011; Cohen 2006; Humphrey...   972.0   \n",
       "179   Bomgardner 2000; Golvin 1988; Humphrey 1986; L...   466.0   \n",
       "308   Beloch 1886; Hansen 2006; Hansen and Nielsen 2...   412.0   \n",
       "1323  Boatwright 2000; Jones 1937; McEvedy 2011; Nel...   399.0   \n",
       "\n",
       "                                         Estimate Basis  num_of_structures  \\\n",
       "991                           Fourteen Augustan regions                236   \n",
       "109                                          Urban grid                 30   \n",
       "179                                            Ramparts                 46   \n",
       "308                                          Urban grid                 17   \n",
       "1323  Walls of Theodosius II, Justinian, and topography                 33   \n",
       "\n",
       "        ID  level_0  Unnamed: 0_y  index  pop_sample   pop_est  pop_diff  \\\n",
       "991    992     89.0          89.0   89.0    923406.0  923313.0  1.000101   \n",
       "109    110      3.0           3.0    3.0    410535.0  410502.0  1.000080   \n",
       "179    180      NaN           NaN    NaN         NaN  153722.0       NaN   \n",
       "308    309      NaN           NaN    NaN         NaN  130398.0       NaN   \n",
       "1323  1324      NaN           NaN    NaN         NaN  124930.0       NaN   \n",
       "\n",
       "                       geometry  \n",
       "991   POINT (12.48510 41.89278)  \n",
       "109   POINT (29.90373 31.19502)  \n",
       "179   POINT (14.29306 32.63833)  \n",
       "308   POINT (28.22701 36.44324)  \n",
       "1323  POINT (36.16963 36.21017)  "
      ]
     },
     "execution_count": 128,
     "metadata": {},
     "output_type": "execute_result"
    }
   ],
   "source": [
    "cities_pop.sort_values(\"pop_est\", ascending=False, inplace=True)\n",
    "cities_pop.head(5)"
   ]
  },
  {
   "cell_type": "code",
   "execution_count": 129,
   "metadata": {},
   "outputs": [
    {
     "data": {
      "text/plain": [
       "1388"
      ]
     },
     "execution_count": 129,
     "metadata": {},
     "output_type": "execute_result"
    }
   ],
   "source": [
    "len(cities_pop)"
   ]
  },
  {
   "cell_type": "code",
   "execution_count": 130,
   "metadata": {},
   "outputs": [
    {
     "data": {
      "text/plain": [
       "10159670.0"
      ]
     },
     "execution_count": 130,
     "metadata": {},
     "output_type": "execute_result"
    }
   ],
   "source": [
    "# total urban population\n",
    "cities_pop[\"pop_est\"].sum()"
   ]
  },
  {
   "cell_type": "code",
   "execution_count": 131,
   "metadata": {},
   "outputs": [
    {
     "data": {
      "text/plain": [
       "Index(['Primary Key', 'Ancient Toponym', 'Modern Toponym', 'Province',\n",
       "       'Country', 'Barrington Atlas Rank', 'Barrington Atlas Reference',\n",
       "       'Start Date', 'End Date', 'Select Bibliography', 'Area',\n",
       "       'Estimate Basis', 'num_of_structures', 'ID', 'level_0', 'Unnamed: 0_y',\n",
       "       'index', 'pop_sample', 'pop_est', 'pop_diff', 'geometry'],\n",
       "      dtype='object')"
      ]
     },
     "execution_count": 131,
     "metadata": {},
     "output_type": "execute_result"
    }
   ],
   "source": [
    "cities_pop.columns"
   ]
  },
  {
   "cell_type": "code",
   "execution_count": 252,
   "metadata": {},
   "outputs": [],
   "source": [
    "def get_city_type(pop_est):\n",
    "    if pop_est >= 30000:\n",
    "        return \"big\"\n",
    "    else:\n",
    "        if pop_est > 1000:\n",
    "            return \"middle\"\n",
    "        else: \n",
    "            return \"minor\"\n",
    "cities_pop[\"city_type\"] = cities_pop[\"pop_est\"].apply(get_city_type)"
   ]
  },
  {
   "cell_type": "code",
   "execution_count": 254,
   "metadata": {},
   "outputs": [
    {
     "name": "stdout",
     "output_type": "stream",
     "text": [
      "big cities (n=68) - pop 4641352.0, middle cities (n=690) 4942985.0\n"
     ]
    }
   ],
   "source": [
    "# create two groups of cities\n",
    "cities_big = cities_pop[cities_pop[\"city_type\"] == \"big\"]\n",
    "cities_middle = cities_pop[cities_pop[\"city_type\"] ==\"middle\"]\n",
    "print(\"big cities (n={2}) - pop {0}, middle cities (n={3}) {1}\".format(cities_big[\"pop_est\"].sum(), cities_middle[\"pop_est\"].sum(), len(cities_big), len(cities_rest)))"
   ]
  },
  {
   "cell_type": "code",
   "execution_count": 255,
   "metadata": {},
   "outputs": [
    {
     "name": "stdout",
     "output_type": "stream",
     "text": [
      "630 575333.0\n"
     ]
    }
   ],
   "source": [
    "cities_minor = cities_pop[cities_pop[\"city_type\"] == \"minor\"]\n",
    "print(len(cities_minor), cities_minor[\"pop_est\"].sum())"
   ]
  },
  {
   "cell_type": "code",
   "execution_count": 256,
   "metadata": {},
   "outputs": [],
   "source": [
    "# by default, buffer is calculated in degrees\n",
    "# we need to reproject it to calculate buffer in meters\n",
    "\n",
    "def buffer_in_meters(pt_latlng, city_type): #(lng, lat, area_ha, coef):\n",
    "    proj_meters = pyproj.Proj(init='epsg:3035')\n",
    "    proj_latlng = pyproj.Proj(init='epsg:4326')\n",
    "    project_to_meters = partial(pyproj.transform, proj_latlng, proj_meters)\n",
    "    project_to_latlng = partial(pyproj.transform, proj_meters, proj_latlng)\n",
    "    \n",
    "    pt_meters = transform(project_to_meters, pt_latlng)\n",
    "    if city_type == \"minor\":\n",
    "        buffer_latlng == pt_latlng\n",
    "    else:\n",
    "        if city_type == \"big\":\n",
    "            radius = 37000\n",
    "        else:\n",
    "            radius = 18500 \n",
    "        buffer_meters = pt_meters.buffer(radius)\n",
    "        buffer_latlng = transform(project_to_latlng, buffer_meters)\n",
    "    return buffer_latlng"
   ]
  },
  {
   "cell_type": "code",
   "execution_count": 258,
   "metadata": {},
   "outputs": [
    {
     "name": "stdout",
     "output_type": "stream",
     "text": [
      "CPU times: user 27.1 s, sys: 464 ms, total: 27.6 s\n",
      "Wall time: 27.6 s\n"
     ]
    }
   ],
   "source": [
    "%%time\n",
    "cities_big[\"geometry\"] = cities_big.apply(lambda row: buffer_in_meters(row[\"geometry\"], row[\"city_type\"]), axis=1)"
   ]
  },
  {
   "cell_type": "code",
   "execution_count": 261,
   "metadata": {},
   "outputs": [
    {
     "name": "stdout",
     "output_type": "stream",
     "text": [
      "CPU times: user 4min 33s, sys: 4.78 s, total: 4min 38s\n",
      "Wall time: 4min 38s\n"
     ]
    }
   ],
   "source": [
    "%%time\n",
    "cities_middle[\"geometry\"] = cities_middle.apply(lambda row: buffer_in_meters(row[\"geometry\"], row[\"city_type\"]), axis=1)"
   ]
  },
  {
   "cell_type": "code",
   "execution_count": 265,
   "metadata": {},
   "outputs": [
    {
     "data": {
      "text/plain": [
       "(23.0, 55.5)"
      ]
     },
     "execution_count": 265,
     "metadata": {},
     "output_type": "execute_result"
    },
    {
     "data": {
      "image/png": "[encoded data removed]",
      "text/plain": [
       "<Figure size 374.4x360 with 1 Axes>"
      ]
     },
     "metadata": {
      "needs_background": "light"
     },
     "output_type": "display_data"
    }
   ],
   "source": [
    "fig, ax = plt.subplots(figsize=[5.2, 5])\n",
    "pleiades_regions.plot(ax=ax, color=\"lightgray\")\n",
    "cities_minor.plot(ax=ax, color=\"darkgrey\", markersize=0.5)\n",
    "cities_middle.plot(ax=ax, color=\"darkgreen\")\n",
    "cities_big.plot(ax=ax, color=\"darkred\")\n",
    "ax.set_axis_off()\n",
    "ax.set_xlim(-10, 41)\n",
    "ax.set_ylim(23, 55.5)"
   ]
  },
  {
   "cell_type": "code",
   "execution_count": 82,
   "metadata": {},
   "outputs": [],
   "source": [
    "### some inspiration from here\n",
    "# https://gis.stackexchange.com/questions/349637/given-list-of-points-lat-long-how-to-find-all-points-within-radius-of-a-give"
   ]
  },
  {
   "cell_type": "code",
   "execution_count": 157,
   "metadata": {},
   "outputs": [],
   "source": [
    "cities_big_multipolygon = cities_big[\"geometry\"].unary_union\n",
    "cities_middle_multipolygon = cities_middle[\"geometry\"].unary_union"
   ]
  },
  {
   "cell_type": "code",
   "execution_count": 159,
   "metadata": {},
   "outputs": [
    {
     "name": "stdout",
     "output_type": "stream",
     "text": [
      "CPU times: user 3min 15s, sys: 0 ns, total: 3min 15s\n",
      "Wall time: 3min 15s\n"
     ]
    },
    {
     "data": {
      "text/html": [
       "<div>\n",
       "<style scoped>\n",
       "    .dataframe tbody tr th:only-of-type {\n",
       "        vertical-align: middle;\n",
       "    }\n",
       "\n",
       "    .dataframe tbody tr th {\n",
       "        vertical-align: top;\n",
       "    }\n",
       "\n",
       "    .dataframe thead th {\n",
       "        text-align: right;\n",
       "    }\n",
       "</style>\n",
       "<table border=\"1\" class=\"dataframe\">\n",
       "  <thead>\n",
       "    <tr style=\"text-align: right;\">\n",
       "      <th></th>\n",
       "      <th>in_big</th>\n",
       "      <th>in_middle</th>\n",
       "    </tr>\n",
       "  </thead>\n",
       "  <tbody>\n",
       "    <tr>\n",
       "      <th>1</th>\n",
       "      <td>True</td>\n",
       "      <td>True</td>\n",
       "    </tr>\n",
       "    <tr>\n",
       "      <th>2</th>\n",
       "      <td>False</td>\n",
       "      <td>True</td>\n",
       "    </tr>\n",
       "    <tr>\n",
       "      <th>3</th>\n",
       "      <td>False</td>\n",
       "      <td>False</td>\n",
       "    </tr>\n",
       "    <tr>\n",
       "      <th>4</th>\n",
       "      <td>True</td>\n",
       "      <td>True</td>\n",
       "    </tr>\n",
       "    <tr>\n",
       "      <th>5</th>\n",
       "      <td>False</td>\n",
       "      <td>False</td>\n",
       "    </tr>\n",
       "  </tbody>\n",
       "</table>\n",
       "</div>"
      ],
      "text/plain": [
       "   in_big  in_middle\n",
       "1    True       True\n",
       "2   False       True\n",
       "3   False      False\n",
       "4    True       True\n",
       "5   False      False"
      ]
     },
     "execution_count": 159,
     "metadata": {},
     "output_type": "execute_result"
    }
   ],
   "source": [
    "%%time\n",
    "# for each inscription, decide whether it is in the multipolygon or not \n",
    "edh_big_cities_series = EDHg.within(cities_big_multipolygon)\n",
    "edh_middle_cities_series = EDHg.within(cities_middle_multipolygon)\n",
    "\n",
    "# working df with the same length as EDH\n",
    "in_cities_df = pd.DataFrame([edh_big_cities_series, edh_middle_cities_series]).T\n",
    "in_cities_df.columns = [\"in_big\", \"in_middle\"]\n",
    "in_cities_df.head()"
   ]
  },
  {
   "cell_type": "code",
   "execution_count": 160,
   "metadata": {},
   "outputs": [
    {
     "name": "stdout",
     "output_type": "stream",
     "text": [
      "CPU times: user 5min 14s, sys: 7.13 ms, total: 5min 14s\n",
      "Wall time: 5min 14s\n"
     ]
    },
    {
     "data": {
      "text/html": [
       "<div>\n",
       "<style scoped>\n",
       "    .dataframe tbody tr th:only-of-type {\n",
       "        vertical-align: middle;\n",
       "    }\n",
       "\n",
       "    .dataframe tbody tr th {\n",
       "        vertical-align: top;\n",
       "    }\n",
       "\n",
       "    .dataframe thead th {\n",
       "        text-align: right;\n",
       "    }\n",
       "</style>\n",
       "<table border=\"1\" class=\"dataframe\">\n",
       "  <thead>\n",
       "    <tr style=\"text-align: right;\">\n",
       "      <th></th>\n",
       "      <th>in_big</th>\n",
       "      <th>in_middle</th>\n",
       "    </tr>\n",
       "  </thead>\n",
       "  <tbody>\n",
       "    <tr>\n",
       "      <th>1590</th>\n",
       "      <td>True</td>\n",
       "      <td>False</td>\n",
       "    </tr>\n",
       "    <tr>\n",
       "      <th>2061</th>\n",
       "      <td>False</td>\n",
       "      <td>False</td>\n",
       "    </tr>\n",
       "    <tr>\n",
       "      <th>2063</th>\n",
       "      <td>False</td>\n",
       "      <td>False</td>\n",
       "    </tr>\n",
       "    <tr>\n",
       "      <th>2066</th>\n",
       "      <td>False</td>\n",
       "      <td>False</td>\n",
       "    </tr>\n",
       "    <tr>\n",
       "      <th>2070</th>\n",
       "      <td>False</td>\n",
       "      <td>False</td>\n",
       "    </tr>\n",
       "  </tbody>\n",
       "</table>\n",
       "</div>"
      ],
      "text/plain": [
       "      in_big  in_middle\n",
       "1590    True      False\n",
       "2061   False      False\n",
       "2063   False      False\n",
       "2066   False      False\n",
       "2070   False      False"
      ]
     },
     "execution_count": 160,
     "metadata": {},
     "output_type": "execute_result"
    }
   ],
   "source": [
    "%%time\n",
    "# for each inscription, decide whether it is in the multipolygon or not \n",
    "edcs_big_cities_series = EDCSg.within(cities_big_multipolygon)\n",
    "edcs_middle_cities_series = EDCSg.within(cities_middle_multipolygon)\n",
    "\n",
    "# working df with the same length as EDCS\n",
    "in_cities_df_edcs = pd.DataFrame([edcs_big_cities_series, edcs_middle_cities_series]).T\n",
    "in_cities_df_edcs.columns = [\"in_big\", \"in_middle\"]\n",
    "in_cities_df_edcs.head()"
   ]
  },
  {
   "cell_type": "code",
   "execution_count": 161,
   "metadata": {},
   "outputs": [],
   "source": [
    "# working df \n",
    "def get_big_middle_rest(row):\n",
    "    value = \"rest\"\n",
    "    if row[\"in_middle\"]:\n",
    "        value = \"middle\"\n",
    "    if row[\"in_big\"]:\n",
    "        value = \"big\"\n",
    "    return value\n",
    "\n",
    "EDHg[\"urban_context\"] = in_cities_df.apply(lambda row: get_big_middle_rest(row), axis=1)\n",
    "EDCSg[\"urban_context\"] = in_cities_df_edcs.apply(lambda row: get_big_middle_rest(row), axis=1)"
   ]
  },
  {
   "cell_type": "code",
   "execution_count": 162,
   "metadata": {},
   "outputs": [],
   "source": [
    "# for future usage elsewhere, let's add this to the original dataset and upload it to the sciencedata\n",
    "#urban_contexts_edh_dict = dict(zip(EDHg[\"id\"].tolist(), EDHg[\"urban_context\"].tolist()))\n",
    "#sddk.write_file(\"SDAM_data/social_diversity/urban_contexts_edh_dict.json\", urban_contexts_edh_dict, conf)\n",
    "\n",
    "#urban_contexts_edcs_dict = dict(zip(EDCSg[\"EDCS-ID\"].tolist(), EDCSg[\"urban_context\"].tolist()))\n",
    "#sddk.write_file(\"SDAM_data/social_diversity/urban_contexts_edcs_dict.json\", urban_contexts_edcs_dict, conf)\n",
    "#def get_urban_context(id, dataset_name):\n",
    "#    if dataset_name == \"EDH\":\n",
    "#        try: return urban_contexts_edh_dict[id]\n",
    "#        except: return \"unknown\"\n",
    "#    if dataset_name == \"EDCS\":\n",
    "#        try: return urban_contexts_edcs_dict[id]\n",
    "#        except: return \"unknown\"\n",
    "#EDHg[\"urban_context\"] = EDHg[\"id\"].apply(lambda x: get_urban_context(x, \"EDH\"))\n",
    "#EDCSg[\"urban_context\"] = EDCSg[\"EDCS-ID\"].apply(lambda x: get_urban_context(x, \"EDCS\"))"
   ]
  },
  {
   "cell_type": "code",
   "execution_count": 163,
   "metadata": {},
   "outputs": [
    {
     "name": "stdout",
     "output_type": "stream",
     "text": [
      "EDH inscriptions in big cities:  3850\n",
      "EDH inscriptionslen in middle cities:  23733\n",
      "EDH inscriptions - rest:  25125\n"
     ]
    }
   ],
   "source": [
    "print(\"EDH inscriptions in big cities: \", len(EDHg[EDHg[\"urban_context\"]==\"big\"]))\n",
    "print(\"EDH inscriptionslen in middle cities: \", len(EDHg[EDHg[\"urban_context\"]==\"middle\"]))\n",
    "print(\"EDH inscriptions - rest: \", len(EDHg[EDHg[\"urban_context\"]==\"rest\"]))"
   ]
  },
  {
   "cell_type": "code",
   "execution_count": 164,
   "metadata": {},
   "outputs": [
    {
     "name": "stdout",
     "output_type": "stream",
     "text": [
      "EDCS inscriptions in big cities:  41792\n",
      "EDCS inscriptionslen in middle cities:  31939\n",
      "EDCS inscriptions - rest:  9751\n"
     ]
    }
   ],
   "source": [
    "print(\"EDCS inscriptions in big cities: \", len(EDCSg[EDCSg[\"urban_context\"]==\"big\"]))\n",
    "print(\"EDCS inscriptionslen in middle cities: \", len(EDCSg[EDCSg[\"urban_context\"]==\"middle\"]))\n",
    "print(\"EDCS inscriptions - rest: \", len(EDCSg[EDCSg[\"urban_context\"]==\"rest\"]))"
   ]
  },
  {
   "cell_type": "code",
   "execution_count": 446,
   "metadata": {},
   "outputs": [
    {
     "name": "stdout",
     "output_type": "stream",
     "text": [
      "Your <class 'pandas.core.frame.DataFrame'> object has been succefully written as \"https://sciencedata.dk/files/SDAM_root/SDAM_data/social_diversity/EDH_filtered.json\"\n"
     ]
    }
   ],
   "source": [
    "sddk.write_file(\"SDAM_data/social_diversity/EDH_filtered.json\", pd.DataFrame(EDHg.drop(\"geometry\", axis=1)), conf)\n",
    "sddk.write_file(\"SDAM_data/social_diversity/EDCS_filtered.json\", pd.DataFrame(EDCSg.drop(\"geometry\", axis=1)), conf)"
   ]
  },
  {
   "cell_type": "code",
   "execution_count": 173,
   "metadata": {},
   "outputs": [],
   "source": [
    "rome_polygon = cities_big.loc[cities_big[\"Modern Toponym\"]==\"Rome\"][\"geometry\"].tolist()[0]"
   ]
  },
  {
   "cell_type": "code",
   "execution_count": 183,
   "metadata": {},
   "outputs": [
    {
     "name": "stdout",
     "output_type": "stream",
     "text": [
      "2628\n",
      "38924\n",
      "CPU times: user 744 ms, sys: 0 ns, total: 744 ms\n",
      "Wall time: 742 ms\n"
     ]
    }
   ],
   "source": [
    "%%time\n",
    "EDHg[\"within_rome\"] = EDHg.within(rome_polygon)\n",
    "EDCSg[\"within_rome\"] = EDCSg.within(rome_polygon)\n",
    "\n",
    "print(len(EDHg[EDHg[\"within_rome\"]==True]))\n",
    "print(len(EDCSg[EDCSg[\"within_rome\"]==True]))"
   ]
  },
  {
   "cell_type": "code",
   "execution_count": 266,
   "metadata": {},
   "outputs": [
    {
     "data": {
      "text/plain": [
       "['Etruria / Regio VII',\n",
       " 'Latium et Campania / Regio I',\n",
       " 'Roma',\n",
       " 'Samnium / Regio IV']"
      ]
     },
     "execution_count": 266,
     "metadata": {},
     "output_type": "execute_result"
    }
   ],
   "source": [
    "EDCSg_rome = EDCSg[EDCSg[\"within_rome\"]==True]\n",
    "EDCSg_rome[\"province\"].unique().tolist()"
   ]
  },
  {
   "cell_type": "code",
   "execution_count": 267,
   "metadata": {},
   "outputs": [
    {
     "data": {
      "text/plain": [
       "35427"
      ]
     },
     "execution_count": 267,
     "metadata": {},
     "output_type": "execute_result"
    }
   ],
   "source": [
    "len(EDCSg_rome[EDCSg_rome[\"province\"]==\"Roma\"])"
   ]
  },
  {
   "cell_type": "code",
   "execution_count": 213,
   "metadata": {},
   "outputs": [
    {
     "data": {
      "text/plain": [
       "<AxesSubplot:>"
      ]
     },
     "execution_count": 213,
     "metadata": {},
     "output_type": "execute_result"
    },
    {
     "data": {
      "image/png": "[encoded data removed]",
      "text/plain": [
       "<Figure size 374.4x374.4 with 1 Axes>"
      ]
     },
     "metadata": {
      "needs_background": "light"
     },
     "output_type": "display_data"
    }
   ],
   "source": [
    "fig, ax = plt.subplots(figsize=[5.2, 5.2], tight_layout=True)\n",
    "\n",
    "#pleiades_regions.plot(ax=ax1, color=\"lightgray\")\n",
    "#gplt.kdeplot(EDHg, cmap='Reds', shade=True, ax=ax1) # , clip=EDHg.geometry,\n",
    "#EDHg.plot(ax=ax1, color=\"darkred\", markersize=0.3)\n",
    "#ax1.set_axis_off()\n",
    "#ax1.set_xlim(-10, 41)\n",
    "#ax1.set_ylim(23, 55.5)\n",
    "#ax1.set_title(\"EDH (N={0})\".format(len(EDHg)))\n",
    "\n",
    "\n",
    "ax.set_axis_off()\n",
    "cities_big[cities_big.intersects(rome_polygon)].plot(ax=ax, color=\"lightblue\", edgecolor=\"black\", alpha=0.5)\n",
    "cities_middle[cities_middle.intersects(rome_polygon)].plot(ax=ax, color=\"lightgray\", edgecolor=\"black\", alpha=0.5)\n",
    "\n",
    "cities_big.loc[cities_big[\"Modern Toponym\"]==\"Rome\"].plot(ax=ax, color=\"lightblue\", edgecolor=\"black\", alpha=0.5)\n",
    "# for anotations: \n",
    "# cities_rome = cities_pop[(cities_pop[\"Ancient Toponym\"].isin(nearest_cities[\"city\"].unique().tolist())) & (cities_pop[\"pop_est\"] > 1000)]\n",
    "#for x, y, label in zip(cities_rome.geometry.x, cities_rome.geometry.y, cities_rome[\"Ancient Toponym\"]):\n",
    "#    ax.annotate(label, xy=(x, y), xytext=(3, 3), textcoords=\"offset points\")\n",
    "#gplt.kdeplot(EDCSg_rome, Shade=True, ax=ax)\n",
    "\n",
    "gplt.kdeplot(EDCSg_rome, Shade=True, ax=ax)\n",
    "EDCSg_rome.plot(color=\"black\", markersize=0.5, ax=ax)"
   ]
  },
  {
   "cell_type": "markdown",
   "metadata": {},
   "source": [
    "# Nearest cities"
   ]
  },
  {
   "cell_type": "code",
   "execution_count": 283,
   "metadata": {},
   "outputs": [],
   "source": [
    "def ckdnearest(inscriptions, cities):\n",
    "    cities = cities[['Ancient Toponym', \"ID\", \"pop_est\", 'geometry', \"city_type\"]]\n",
    "    cities.rename(columns={\"Ancient Toponym\" : \"nearest_city\", \"city_type\": \"nearest_city_type\", \"pop_est\" : \"city_pop_est\", \"ID\" : \"city_id_hanson\"}, inplace=True)\n",
    "    nA = np.array(list(inscriptions.geometry.apply(lambda x: (x.x, x.y))))\n",
    "    nB = np.array(list(cities.geometry.apply(lambda x: (x.x, x.y))))\n",
    "    btree = cKDTree(nB)\n",
    "    dist, idx = btree.query(nA, k=1)\n",
    "    gdB_nearest = cities.iloc[idx].rename(columns={\"geometry\": \"city_geometry\"}).reset_index(drop=True)\n",
    "    gdf = pd.concat(\n",
    "        [\n",
    "            inscriptions.reset_index(drop=True),\n",
    "            gdB_nearest,\n",
    "            pd.Series(dist, name='nearest_city_dist')\n",
    "        ], \n",
    "        axis=1)\n",
    "    return gdf\n",
    "\n",
    "#ckdnearest(gpd1, gpd2)"
   ]
  },
  {
   "cell_type": "code",
   "execution_count": 268,
   "metadata": {},
   "outputs": [
    {
     "data": {
      "text/plain": [
       "city\n",
       "Aricia             332\n",
       "Baccanae             5\n",
       "Bovillae            25\n",
       "Capena               1\n",
       "Castrimoenium      122\n",
       "Fidenae            110\n",
       "Fregenae            23\n",
       "Gabii               44\n",
       "Labicum             10\n",
       "Lanuvium            75\n",
       "Lavinium            78\n",
       "Nomentum           125\n",
       "Ostia             1632\n",
       "Portus             538\n",
       "Roma             35427\n",
       "Tibur              220\n",
       "Tusculum           109\n",
       "Veii                46\n",
       "Vitellia             2\n",
       "dtype: int64"
      ]
     },
     "execution_count": 268,
     "metadata": {},
     "output_type": "execute_result"
    }
   ],
   "source": [
    "# nearest cities in the Rome neighborhood\n",
    "nearest_cities = ckdnearest(EDCSg_rome, cities_pop)\n",
    "nearest_cities.groupby(\"city\").size()"
   ]
  },
  {
   "cell_type": "code",
   "execution_count": 248,
   "metadata": {},
   "outputs": [
    {
     "data": {
      "text/plain": [
       "city\n",
       "Aricia             332\n",
       "Baccanae             5\n",
       "Bovillae            25\n",
       "Capena               1\n",
       "Castrimoenium      122\n",
       "Fidenae            110\n",
       "Fregenae            23\n",
       "Gabii               44\n",
       "Labicum             10\n",
       "Lanuvium            75\n",
       "Lavinium            78\n",
       "Nomentum           125\n",
       "Ostia             1632\n",
       "Portus             538\n",
       "Roma             35427\n",
       "Tibur              220\n",
       "Tusculum           109\n",
       "Veii                46\n",
       "Vitellia             2\n",
       "dtype: int64"
      ]
     },
     "execution_count": 248,
     "metadata": {},
     "output_type": "execute_result"
    }
   ],
   "source": [
    "# nearest cities in the Rome neighborhood\n",
    "nearest_cities = ckdnearest(EDCSg_rome, cities_pop)\n",
    "nearest_cities.groupby(\"city\").size()"
   ]
  },
  {
   "cell_type": "code",
   "execution_count": 294,
   "metadata": {},
   "outputs": [
    {
     "name": "stdout",
     "output_type": "stream",
     "text": [
      "CPU times: user 1.37 s, sys: 3.95 ms, total: 1.37 s\n",
      "Wall time: 1.37 s\n"
     ]
    }
   ],
   "source": [
    "%%time\n",
    "EDCSg = ckdnearest(EDCSg, cities_pop)"
   ]
  },
  {
   "cell_type": "code",
   "execution_count": 297,
   "metadata": {},
   "outputs": [
    {
     "name": "stdout",
     "output_type": "stream",
     "text": [
      "38311\n",
      "37099\n",
      "8072\n"
     ]
    }
   ],
   "source": [
    "print(len(EDCSg[EDCSg[\"nearest_city_type\"]==\"big\"]))\n",
    "print(len(EDCSg[EDCSg[\"nearest_city_type\"]==\"middle\"]))\n",
    "print(len(EDCSg[EDCSg[\"nearest_city_type\"]==\"minor\"]))"
   ]
  },
  {
   "cell_type": "code",
   "execution_count": 298,
   "metadata": {},
   "outputs": [
    {
     "name": "stdout",
     "output_type": "stream",
     "text": [
      "CPU times: user 1.09 s, sys: 7.95 ms, total: 1.1 s\n",
      "Wall time: 1.1 s\n"
     ]
    }
   ],
   "source": [
    "%%time\n",
    "EDHg = ckdnearest(EDHg, cities_pop)"
   ]
  },
  {
   "cell_type": "code",
   "execution_count": 299,
   "metadata": {},
   "outputs": [
    {
     "name": "stdout",
     "output_type": "stream",
     "text": [
      "3659\n",
      "35388\n",
      "13661\n"
     ]
    }
   ],
   "source": [
    "print(len(EDHg[EDHg[\"nearest_city_type\"]==\"big\"]))\n",
    "print(len(EDHg[EDHg[\"nearest_city_type\"]==\"middle\"]))\n",
    "print(len(EDHg[EDHg[\"nearest_city_type\"]==\"minor\"]))"
   ]
  },
  {
   "cell_type": "code",
   "execution_count": null,
   "metadata": {},
   "outputs": [],
   "source": []
  }
 ],
 "metadata": {
  "kernelspec": {
   "display_name": "socdiv_venv",
   "language": "python",
   "name": "socdiv_venv"
  },
  "language_info": {
   "codemirror_mode": {
    "name": "ipython",
    "version": 3
   },
   "file_extension": ".py",
   "mimetype": "text/x-python",
   "name": "python",
   "nbconvert_exporter": "python",
   "pygments_lexer": "ipython3",
   "version": "3.6.9"
  }
 },
 "nbformat": 4,
 "nbformat_minor": 4
}
