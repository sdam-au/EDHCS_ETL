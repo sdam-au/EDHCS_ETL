{
 "cells": [
  {
   "cell_type": "code",
   "execution_count": 1,
   "metadata": {},
   "outputs": [],
   "source": [
    "import pandas as pd\n",
    "import numpy as np\n",
    "import nltk\n",
    "import requests\n",
    "import re\n",
    "import json\n",
    "\n",
    "import matplotlib as mpl\n",
    "import matplotlib.pyplot as plt\n",
    "import matplotlib.colors as mcolors\n",
    "tab_colors_list = list(mcolors.TABLEAU_COLORS.keys())\n",
    "import matplotlib.lines as mlines\n",
    "import seaborn as sns\n",
    "\n",
    "import gspread\n",
    "from gspread_dataframe import get_as_dataframe, set_with_dataframe\n",
    "from google.oauth2 import service_account # based on google-auth library\n",
    "\n",
    "import sddk"
   ]
  },
  {
   "cell_type": "code",
   "execution_count": 2,
   "metadata": {},
   "outputs": [
    {
     "name": "stdout",
     "output_type": "stream",
     "text": [
      "sciencedata.dk username (format '123456@au.dk'): 648597@au.dk\n",
      "sciencedata.dk password: ········\n",
      "endpoint variable has been configured to: https://sciencedata.dk/files/\n"
     ]
    }
   ],
   "source": [
    "# to access gsheet, you need Google Service Account key json file\n",
    "# I have mine located in my personal space on sciencedata.dk, so I read it from there:\n",
    "conf = sddk.configure()\n",
    "\n",
    "# (1) read the file and parse its content\n",
    "file_data = conf[0].get(conf[1] + \"ServiceAccountsKey.json\").json()\n",
    "# (2) transform the content into crendentials object\n",
    "credentials = service_account.Credentials.from_service_account_info(file_data)\n",
    "# (3) specify your usage of the credentials\n",
    "scoped_credentials = credentials.with_scopes(['https://spreadsheets.google.com/feeds', 'https://www.googleapis.com/auth/drive'])\n",
    "# (4) use the constrained credentials for authentication of gspread package\n",
    "gc = gspread.Client(auth=scoped_credentials)\n",
    "# (5) establish connection with spreadsheets specified by their url\n",
    "occupations = gc.open_by_url(\"https://docs.google.com/spreadsheets/d/1nONTEwp42CVnq3iCiONrFbJedIcYtBV-l4Bil5mU7Eo/edit?usp=sharing\")"
   ]
  },
  {
   "cell_type": "markdown",
   "metadata": {},
   "source": [
    "# Requirements"
   ]
  },
  {
   "cell_type": "code",
   "execution_count": 15,
   "metadata": {},
   "outputs": [],
   "source": [
    "import json\n",
    "import re\n",
    "import pandas as pd\n",
    "pd.options.display.max_columns = 1000 # to see all columns\n",
    "import warnings\n",
    "warnings.filterwarnings('ignore')"
   ]
  },
  {
   "cell_type": "markdown",
   "metadata": {},
   "source": [
    "# Loading datasets"
   ]
  },
  {
   "cell_type": "code",
   "execution_count": 5,
   "metadata": {},
   "outputs": [
    {
     "data": {
      "text/html": [
       "<div>\n",
       "<style scoped>\n",
       "    .dataframe tbody tr th:only-of-type {\n",
       "        vertical-align: middle;\n",
       "    }\n",
       "\n",
       "    .dataframe tbody tr th {\n",
       "        vertical-align: top;\n",
       "    }\n",
       "\n",
       "    .dataframe thead th {\n",
       "        text-align: right;\n",
       "    }\n",
       "</style>\n",
       "<table border=\"1\" class=\"dataframe\">\n",
       "  <thead>\n",
       "    <tr style=\"text-align: right;\">\n",
       "      <th></th>\n",
       "      <th>responsible_individual</th>\n",
       "      <th>type_of_inscription</th>\n",
       "      <th>letter_size</th>\n",
       "      <th>not_after</th>\n",
       "      <th>literature</th>\n",
       "      <th>work_status</th>\n",
       "      <th>height</th>\n",
       "      <th>diplomatic_text</th>\n",
       "      <th>people</th>\n",
       "      <th>depth</th>\n",
       "      <th>material</th>\n",
       "      <th>type_of_monument</th>\n",
       "      <th>province_label</th>\n",
       "      <th>width</th>\n",
       "      <th>transcription</th>\n",
       "      <th>country</th>\n",
       "      <th>uri</th>\n",
       "      <th>findspot_ancient</th>\n",
       "      <th>last_update</th>\n",
       "      <th>modern_region</th>\n",
       "      <th>findspot_modern</th>\n",
       "      <th>language</th>\n",
       "      <th>id</th>\n",
       "      <th>edh_geography_uri</th>\n",
       "      <th>commentary</th>\n",
       "      <th>trismegistos_uri</th>\n",
       "      <th>not_before</th>\n",
       "      <th>external_image_uris</th>\n",
       "      <th>fotos</th>\n",
       "      <th>coordinates</th>\n",
       "      <th>idno_tm</th>\n",
       "      <th>placenames_refs</th>\n",
       "      <th>text_edition</th>\n",
       "      <th>origdate_text</th>\n",
       "      <th>layout_execution</th>\n",
       "      <th>layout_execution_text</th>\n",
       "      <th>support_objecttype</th>\n",
       "      <th>support_objecttype_text</th>\n",
       "      <th>support_material</th>\n",
       "      <th>support_material_text</th>\n",
       "      <th>support_decoration</th>\n",
       "      <th>keywords_term</th>\n",
       "      <th>keywords_term_text</th>\n",
       "      <th>type_of_inscription_clean</th>\n",
       "      <th>type_of_inscription_certainty</th>\n",
       "      <th>height_cm</th>\n",
       "      <th>width_cm</th>\n",
       "      <th>depth_cm</th>\n",
       "      <th>material_clean</th>\n",
       "      <th>type_of_monument_clean</th>\n",
       "      <th>type_of_monument_certainty</th>\n",
       "      <th>province_label_clean</th>\n",
       "      <th>province_label_certainty</th>\n",
       "      <th>country_clean</th>\n",
       "      <th>country_certainty</th>\n",
       "      <th>findspot_ancient_clean</th>\n",
       "      <th>findspot_ancient_certainty</th>\n",
       "      <th>modern_region_clean</th>\n",
       "      <th>modern_region_certainty</th>\n",
       "      <th>findspot_modern_clean</th>\n",
       "      <th>findspot_modern_certainty</th>\n",
       "      <th>findspot_clean</th>\n",
       "      <th>findspot_certainty</th>\n",
       "      <th>origdate_text_clean</th>\n",
       "      <th>clean_text_conservative</th>\n",
       "      <th>clean_text_interpretive_word</th>\n",
       "      <th>clean_text_interpretive_sentence</th>\n",
       "      <th>findspot</th>\n",
       "      <th>year_of_find</th>\n",
       "      <th>present_location</th>\n",
       "      <th>religion</th>\n",
       "      <th>geography</th>\n",
       "      <th>social_economic_legal_history</th>\n",
       "      <th>military</th>\n",
       "      <th>geometry</th>\n",
       "      <th>within_RE</th>\n",
       "      <th>urban_context</th>\n",
       "      <th>within_rome</th>\n",
       "      <th>nearest_city</th>\n",
       "      <th>city_id_hanson</th>\n",
       "      <th>city_pop_est</th>\n",
       "      <th>city_geometry</th>\n",
       "      <th>nearest_city_type</th>\n",
       "      <th>nearest_city_dist</th>\n",
       "      <th>EDCS-ID</th>\n",
       "      <th>publication</th>\n",
       "      <th>province</th>\n",
       "      <th>province_list</th>\n",
       "      <th>place</th>\n",
       "      <th>place_list</th>\n",
       "      <th>end_yr_list</th>\n",
       "      <th>notes_dating</th>\n",
       "      <th>status_list</th>\n",
       "      <th>inscr_type</th>\n",
       "      <th>status_notation</th>\n",
       "      <th>inscr_process</th>\n",
       "      <th>notes_references</th>\n",
       "      <th>notes_comments</th>\n",
       "      <th>inscription</th>\n",
       "      <th>inscription_stripped_final</th>\n",
       "      <th>Links</th>\n",
       "      <th>dating from</th>\n",
       "      <th>dating to</th>\n",
       "      <th>status</th>\n",
       "      <th>Latitude</th>\n",
       "      <th>Longitude</th>\n",
       "      <th>photo</th>\n",
       "      <th>Material</th>\n",
       "      <th>Comment</th>\n",
       "    </tr>\n",
       "  </thead>\n",
       "  <tbody>\n",
       "    <tr>\n",
       "      <th>0</th>\n",
       "      <td>Feraudi</td>\n",
       "      <td>epitaph</td>\n",
       "      <td>4 cm</td>\n",
       "      <td>200.0</td>\n",
       "      <td>AE 1983, 0080. (A); A. Ferrua, RAL 36, 1981, 1...</td>\n",
       "      <td>no image</td>\n",
       "      <td>28 cm</td>\n",
       "      <td>C SEXTIVS PARIS / QVI VIXIT / ANNIS LXX</td>\n",
       "      <td>[{'nomen': 'Sextius', 'praenomen': 'C.', 'pers...</td>\n",
       "      <td>NaN</td>\n",
       "      <td>marble: rocks - metamorphic rocks</td>\n",
       "      <td>tabula</td>\n",
       "      <td>Roma</td>\n",
       "      <td>85 cm</td>\n",
       "      <td>C(aius) Sextius Paris / qui vixit / annis LXX</td>\n",
       "      <td>Italy</td>\n",
       "      <td>https://edh-www.adw.uni-heidelberg.de/edh/insc...</td>\n",
       "      <td>Roma</td>\n",
       "      <td>2014-04-07</td>\n",
       "      <td>Lazio</td>\n",
       "      <td>Roma</td>\n",
       "      <td>Latin</td>\n",
       "      <td>HD000002</td>\n",
       "      <td>https://edh-www.adw.uni-heidelberg.de/edh/geog...</td>\n",
       "      <td>AE 1983: Breite: 35 cm.</td>\n",
       "      <td>https://www.trismegistos.org/text/265631</td>\n",
       "      <td>51.0</td>\n",
       "      <td>{}</td>\n",
       "      <td>{}</td>\n",
       "      <td>[12.4823, 41.8955]</td>\n",
       "      <td>265631.0</td>\n",
       "      <td>['http://www.trismegistos.org/place/000172', '...</td>\n",
       "      <td>Caius Sextius Paris qui vixit annis LXX       ...</td>\n",
       "      <td>51 AD – 200 AD</td>\n",
       "      <td>21.0</td>\n",
       "      <td>unbestimmt</td>\n",
       "      <td>257.0</td>\n",
       "      <td>Tafel</td>\n",
       "      <td>48.0</td>\n",
       "      <td>Marmor</td>\n",
       "      <td>1000.0</td>\n",
       "      <td>92.0</td>\n",
       "      <td>Grabinschrift</td>\n",
       "      <td>epitaph</td>\n",
       "      <td>Certain</td>\n",
       "      <td>28.0</td>\n",
       "      <td>85.0</td>\n",
       "      <td>NaN</td>\n",
       "      <td>Marble</td>\n",
       "      <td>tabula</td>\n",
       "      <td>Certain</td>\n",
       "      <td>Roma</td>\n",
       "      <td>Certain</td>\n",
       "      <td>Italy</td>\n",
       "      <td>Certain</td>\n",
       "      <td>Roma</td>\n",
       "      <td>Certain</td>\n",
       "      <td>Lazio</td>\n",
       "      <td>Certain</td>\n",
       "      <td>Roma</td>\n",
       "      <td>Certain</td>\n",
       "      <td>Via Nomentana, S. Alessandro, Kirche</td>\n",
       "      <td>Certain</td>\n",
       "      <td>51 AD – 200 AD</td>\n",
       "      <td>C Sextius Paris qui vixit annis LXX</td>\n",
       "      <td>Caius Sextius Paris qui vixit annis LXX</td>\n",
       "      <td>Caius Sextius Paris qui vixit annis LXX</td>\n",
       "      <td>Via Nomentana, S. Alessandro, Kirche</td>\n",
       "      <td>1937</td>\n",
       "      <td>NaN</td>\n",
       "      <td>NaN</td>\n",
       "      <td>NaN</td>\n",
       "      <td>NaN</td>\n",
       "      <td>NaN</td>\n",
       "      <td>[12.4823, 41.8955]</td>\n",
       "      <td>True</td>\n",
       "      <td>big</td>\n",
       "      <td>True</td>\n",
       "      <td>Roma</td>\n",
       "      <td>992</td>\n",
       "      <td>923313.0</td>\n",
       "      <td>[12.485098, 41.892777]</td>\n",
       "      <td>big</td>\n",
       "      <td>0.003904</td>\n",
       "      <td>NaN</td>\n",
       "      <td>NaN</td>\n",
       "      <td>NaN</td>\n",
       "      <td>NaN</td>\n",
       "      <td>NaN</td>\n",
       "      <td>NaN</td>\n",
       "      <td>NaN</td>\n",
       "      <td>NaN</td>\n",
       "      <td>NaN</td>\n",
       "      <td>NaN</td>\n",
       "      <td>NaN</td>\n",
       "      <td>NaN</td>\n",
       "      <td>NaN</td>\n",
       "      <td>NaN</td>\n",
       "      <td>NaN</td>\n",
       "      <td>NaN</td>\n",
       "      <td>NaN</td>\n",
       "      <td>NaN</td>\n",
       "      <td>NaN</td>\n",
       "      <td>NaN</td>\n",
       "      <td>NaN</td>\n",
       "      <td>NaN</td>\n",
       "      <td>NaN</td>\n",
       "      <td>NaN</td>\n",
       "      <td>NaN</td>\n",
       "    </tr>\n",
       "    <tr>\n",
       "      <th>1</th>\n",
       "      <td>Feraudi</td>\n",
       "      <td>honorific inscription</td>\n",
       "      <td>4.5-3 cm</td>\n",
       "      <td>170.0</td>\n",
       "      <td>AE 1983, 0518. (B); J. González, ZPE 52, 1983,...</td>\n",
       "      <td>provisional</td>\n",
       "      <td>(37) cm</td>\n",
       "      <td>[ ]VMMIO [ ] / [ ]ISENNA[ ] / [ ] XV[ ] / [ ] / [</td>\n",
       "      <td>[{'nomen': 'Mummius+', 'gender': 'male', 'prae...</td>\n",
       "      <td>(12) cm</td>\n",
       "      <td>marble: rocks - metamorphic rocks</td>\n",
       "      <td>statue base</td>\n",
       "      <td>Baetica</td>\n",
       "      <td>(34) cm</td>\n",
       "      <td>[P(ublio) M]ummio [P(ubli) f(ilio)] / [Gal(eri...</td>\n",
       "      <td>Spain</td>\n",
       "      <td>https://edh-www.adw.uni-heidelberg.de/edh/insc...</td>\n",
       "      <td>NaN</td>\n",
       "      <td>2006-08-31</td>\n",
       "      <td>Sevilla</td>\n",
       "      <td>Tomares</td>\n",
       "      <td>Latin</td>\n",
       "      <td>HD000003</td>\n",
       "      <td>https://edh-www.adw.uni-heidelberg.de/edh/geog...</td>\n",
       "      <td>(B): [S]isenna ist falscher Kasus; folgende E...</td>\n",
       "      <td>https://www.trismegistos.org/text/220675</td>\n",
       "      <td>131.0</td>\n",
       "      <td>{}</td>\n",
       "      <td>{}</td>\n",
       "      <td>[-6.0459, 37.3728]</td>\n",
       "      <td>220675.0</td>\n",
       "      <td>['http://www.trismegistos.org/place/025443', '...</td>\n",
       "      <td>Publio Mummio Publi filio Galeria Sisennae Rut...</td>\n",
       "      <td>131 AD – 170 AD</td>\n",
       "      <td>21.0</td>\n",
       "      <td>unbestimmt</td>\n",
       "      <td>57.0</td>\n",
       "      <td>Statuenbasis</td>\n",
       "      <td>48.0</td>\n",
       "      <td>Marmor</td>\n",
       "      <td>1000.0</td>\n",
       "      <td>69.0</td>\n",
       "      <td>Ehreninschrift</td>\n",
       "      <td>honorific inscription</td>\n",
       "      <td>Certain</td>\n",
       "      <td>37.0</td>\n",
       "      <td>34.0</td>\n",
       "      <td>12.0</td>\n",
       "      <td>Marble</td>\n",
       "      <td>statue base</td>\n",
       "      <td>Certain</td>\n",
       "      <td>Baetica</td>\n",
       "      <td>Certain</td>\n",
       "      <td>Spain</td>\n",
       "      <td>Certain</td>\n",
       "      <td>NaN</td>\n",
       "      <td>NaN</td>\n",
       "      <td>Sevilla</td>\n",
       "      <td>Certain</td>\n",
       "      <td>Tomares</td>\n",
       "      <td>Certain</td>\n",
       "      <td>NaN</td>\n",
       "      <td>NaN</td>\n",
       "      <td>131 AD – 170 AD</td>\n",
       "      <td>ummio isenna Xv</td>\n",
       "      <td>Publio Mummio Publi filio Galeria Sisennae Rut...</td>\n",
       "      <td>Publio Mummio Publi filio Galeria Sisennae Rut...</td>\n",
       "      <td>NaN</td>\n",
       "      <td>before 1975</td>\n",
       "      <td>Sevilla, Privatbesitz</td>\n",
       "      <td>NaN</td>\n",
       "      <td>NaN</td>\n",
       "      <td>NaN</td>\n",
       "      <td>NaN</td>\n",
       "      <td>[-6.0459, 37.3728]</td>\n",
       "      <td>True</td>\n",
       "      <td>middle</td>\n",
       "      <td>False</td>\n",
       "      <td>Osset</td>\n",
       "      <td>357</td>\n",
       "      <td>1000.0</td>\n",
       "      <td>[-6.035436, 37.358375]</td>\n",
       "      <td>minor</td>\n",
       "      <td>0.017821</td>\n",
       "      <td>NaN</td>\n",
       "      <td>NaN</td>\n",
       "      <td>NaN</td>\n",
       "      <td>NaN</td>\n",
       "      <td>NaN</td>\n",
       "      <td>NaN</td>\n",
       "      <td>NaN</td>\n",
       "      <td>NaN</td>\n",
       "      <td>NaN</td>\n",
       "      <td>NaN</td>\n",
       "      <td>NaN</td>\n",
       "      <td>NaN</td>\n",
       "      <td>NaN</td>\n",
       "      <td>NaN</td>\n",
       "      <td>NaN</td>\n",
       "      <td>NaN</td>\n",
       "      <td>NaN</td>\n",
       "      <td>NaN</td>\n",
       "      <td>NaN</td>\n",
       "      <td>NaN</td>\n",
       "      <td>NaN</td>\n",
       "      <td>NaN</td>\n",
       "      <td>NaN</td>\n",
       "      <td>NaN</td>\n",
       "      <td>NaN</td>\n",
       "    </tr>\n",
       "    <tr>\n",
       "      <th>2</th>\n",
       "      <td>Gräf</td>\n",
       "      <td>votive inscription</td>\n",
       "      <td>2.5 cm</td>\n",
       "      <td>200.0</td>\n",
       "      <td>AE 1983, 0533. (B); A.U. Stylow, Gerión 1, 198...</td>\n",
       "      <td>checked with photo</td>\n",
       "      <td>(39) cm</td>\n",
       "      <td>[ ]AVS[ ]LLA / M PORCI NIGRI SER / DOMINAE VEN...</td>\n",
       "      <td>[{'name': '[---?]AV(?)S(?)[---]L(?)L(?)A M. Po...</td>\n",
       "      <td>18 cm</td>\n",
       "      <td>limestone: rocks - clastic sediments</td>\n",
       "      <td>altar</td>\n",
       "      <td>Baetica</td>\n",
       "      <td>27 cm</td>\n",
       "      <td>[---?]AV(?)S(?)[---]L(?)L(?)A / M(arci) Porci ...</td>\n",
       "      <td>Spain</td>\n",
       "      <td>https://edh-www.adw.uni-heidelberg.de/edh/insc...</td>\n",
       "      <td>Ipolcobulcula</td>\n",
       "      <td>2015-03-27</td>\n",
       "      <td>Córdoba</td>\n",
       "      <td>Carcabuey</td>\n",
       "      <td>Latin</td>\n",
       "      <td>HD000004</td>\n",
       "      <td>https://edh-www.adw.uni-heidelberg.de/edh/geog...</td>\n",
       "      <td>Material: lokaler grauer Kalkstein. (B): Styl...</td>\n",
       "      <td>https://www.trismegistos.org/text/222102</td>\n",
       "      <td>151.0</td>\n",
       "      <td>http://cil-old.bbaw.de/test06/bilder/datenbank...</td>\n",
       "      <td>{}</td>\n",
       "      <td>[-4.2747, 37.4442]</td>\n",
       "      <td>222102.0</td>\n",
       "      <td>['http://www.trismegistos.org/place/025443', '...</td>\n",
       "      <td>AVSLLA Marci Porci Nigri serva dominae Veneri ...</td>\n",
       "      <td>151 AD – 200 AD</td>\n",
       "      <td>21.0</td>\n",
       "      <td>unbestimmt</td>\n",
       "      <td>29.0</td>\n",
       "      <td>Altar</td>\n",
       "      <td>60.0</td>\n",
       "      <td>Kalkstein</td>\n",
       "      <td>1000.0</td>\n",
       "      <td>80.0</td>\n",
       "      <td>Weihinschrift</td>\n",
       "      <td>votive inscription</td>\n",
       "      <td>Certain</td>\n",
       "      <td>39.0</td>\n",
       "      <td>27.0</td>\n",
       "      <td>18.0</td>\n",
       "      <td>Limestone</td>\n",
       "      <td>altar</td>\n",
       "      <td>Certain</td>\n",
       "      <td>Baetica</td>\n",
       "      <td>Certain</td>\n",
       "      <td>Spain</td>\n",
       "      <td>Certain</td>\n",
       "      <td>Ipolcobulcula</td>\n",
       "      <td>Certain</td>\n",
       "      <td>Córdoba</td>\n",
       "      <td>Certain</td>\n",
       "      <td>Carcabuey</td>\n",
       "      <td>Certain</td>\n",
       "      <td>NaN</td>\n",
       "      <td>NaN</td>\n",
       "      <td>151 AD – 200 AD</td>\n",
       "      <td>AVSLLA M Porci Nigri ser dominae Veneri aram p...</td>\n",
       "      <td>AVS LLA Marci Porci Nigri serva dominae Veneri...</td>\n",
       "      <td>AVS LLA Marci Porci Nigri serva dominae Veneri...</td>\n",
       "      <td>NaN</td>\n",
       "      <td>before 1979</td>\n",
       "      <td>Carcabuey, Grupo Escolar</td>\n",
       "      <td>names of pagan deities</td>\n",
       "      <td>NaN</td>\n",
       "      <td>NaN</td>\n",
       "      <td>NaN</td>\n",
       "      <td>[-4.2747, 37.4442]</td>\n",
       "      <td>True</td>\n",
       "      <td>rest</td>\n",
       "      <td>False</td>\n",
       "      <td>Iptuci</td>\n",
       "      <td>344</td>\n",
       "      <td>1000.0</td>\n",
       "      <td>[-4.377602, 37.755932]</td>\n",
       "      <td>minor</td>\n",
       "      <td>0.328277</td>\n",
       "      <td>NaN</td>\n",
       "      <td>NaN</td>\n",
       "      <td>NaN</td>\n",
       "      <td>NaN</td>\n",
       "      <td>NaN</td>\n",
       "      <td>NaN</td>\n",
       "      <td>NaN</td>\n",
       "      <td>NaN</td>\n",
       "      <td>NaN</td>\n",
       "      <td>NaN</td>\n",
       "      <td>NaN</td>\n",
       "      <td>NaN</td>\n",
       "      <td>NaN</td>\n",
       "      <td>NaN</td>\n",
       "      <td>NaN</td>\n",
       "      <td>NaN</td>\n",
       "      <td>NaN</td>\n",
       "      <td>NaN</td>\n",
       "      <td>NaN</td>\n",
       "      <td>NaN</td>\n",
       "      <td>NaN</td>\n",
       "      <td>NaN</td>\n",
       "      <td>NaN</td>\n",
       "      <td>NaN</td>\n",
       "      <td>NaN</td>\n",
       "    </tr>\n",
       "    <tr>\n",
       "      <th>3</th>\n",
       "      <td>Feraudi</td>\n",
       "      <td>epitaph</td>\n",
       "      <td>NaN</td>\n",
       "      <td>200.0</td>\n",
       "      <td>AE 1983, 0078. (B); A. Ferrua, RAL 36, 1981, 1...</td>\n",
       "      <td>no image</td>\n",
       "      <td>NaN</td>\n",
       "      <td>[ ] L SVCCESSVS / [ ] L L IRENAEVS / [ ] C L T...</td>\n",
       "      <td>[{'person_id': '1', 'name': '[---]l. Successus...</td>\n",
       "      <td>NaN</td>\n",
       "      <td>NaN</td>\n",
       "      <td>stele</td>\n",
       "      <td>Roma</td>\n",
       "      <td>NaN</td>\n",
       "      <td>[---] l(ibertus) Successus / [---] L(uci) l(ib...</td>\n",
       "      <td>Italy</td>\n",
       "      <td>https://edh-www.adw.uni-heidelberg.de/edh/insc...</td>\n",
       "      <td>Roma</td>\n",
       "      <td>2010-01-04</td>\n",
       "      <td>Lazio</td>\n",
       "      <td>Roma</td>\n",
       "      <td>Latin</td>\n",
       "      <td>HD000005</td>\n",
       "      <td>https://edh-www.adw.uni-heidelberg.de/edh/geog...</td>\n",
       "      <td>(B): Z. 3: C(ai) l(ibertae) Tyches.</td>\n",
       "      <td>https://www.trismegistos.org/text/265629</td>\n",
       "      <td>1.0</td>\n",
       "      <td>{}</td>\n",
       "      <td>{}</td>\n",
       "      <td>[12.4823, 41.8955]</td>\n",
       "      <td>265629.0</td>\n",
       "      <td>['http://www.trismegistos.org/place/000172', '...</td>\n",
       "      <td>libertus Successus  Luci libertus Irenaeus  C...</td>\n",
       "      <td>1 AD – 200 AD</td>\n",
       "      <td>21.0</td>\n",
       "      <td>unbestimmt</td>\n",
       "      <td>250.0</td>\n",
       "      <td>Stele</td>\n",
       "      <td>138.0</td>\n",
       "      <td>unbestimmt</td>\n",
       "      <td>1000.0</td>\n",
       "      <td>92.0</td>\n",
       "      <td>Grabinschrift</td>\n",
       "      <td>epitaph</td>\n",
       "      <td>Certain</td>\n",
       "      <td>NaN</td>\n",
       "      <td>NaN</td>\n",
       "      <td>NaN</td>\n",
       "      <td>NaN</td>\n",
       "      <td>stele</td>\n",
       "      <td>Certain</td>\n",
       "      <td>Roma</td>\n",
       "      <td>Certain</td>\n",
       "      <td>Italy</td>\n",
       "      <td>Certain</td>\n",
       "      <td>Roma</td>\n",
       "      <td>Certain</td>\n",
       "      <td>Lazio</td>\n",
       "      <td>Certain</td>\n",
       "      <td>Roma</td>\n",
       "      <td>Certain</td>\n",
       "      <td>Via Cupa (ehem. Vigna Nardi)</td>\n",
       "      <td>Certain</td>\n",
       "      <td>1 AD – 200 AD</td>\n",
       "      <td>l Successus L l Irenaeus C l Tyches unt renti f</td>\n",
       "      <td>libertus Successus Luci libertus Irenaeus Cai ...</td>\n",
       "      <td>libertus Successus Luci libertus Irenaeus Cai ...</td>\n",
       "      <td>Via Cupa (ehem. Vigna Nardi)</td>\n",
       "      <td>NaN</td>\n",
       "      <td>NaN</td>\n",
       "      <td>NaN</td>\n",
       "      <td>NaN</td>\n",
       "      <td>NaN</td>\n",
       "      <td>NaN</td>\n",
       "      <td>[12.4823, 41.8955]</td>\n",
       "      <td>True</td>\n",
       "      <td>big</td>\n",
       "      <td>True</td>\n",
       "      <td>Roma</td>\n",
       "      <td>992</td>\n",
       "      <td>923313.0</td>\n",
       "      <td>[12.485098, 41.892777]</td>\n",
       "      <td>big</td>\n",
       "      <td>0.003904</td>\n",
       "      <td>NaN</td>\n",
       "      <td>NaN</td>\n",
       "      <td>NaN</td>\n",
       "      <td>NaN</td>\n",
       "      <td>NaN</td>\n",
       "      <td>NaN</td>\n",
       "      <td>NaN</td>\n",
       "      <td>NaN</td>\n",
       "      <td>NaN</td>\n",
       "      <td>NaN</td>\n",
       "      <td>NaN</td>\n",
       "      <td>NaN</td>\n",
       "      <td>NaN</td>\n",
       "      <td>NaN</td>\n",
       "      <td>NaN</td>\n",
       "      <td>NaN</td>\n",
       "      <td>NaN</td>\n",
       "      <td>NaN</td>\n",
       "      <td>NaN</td>\n",
       "      <td>NaN</td>\n",
       "      <td>NaN</td>\n",
       "      <td>NaN</td>\n",
       "      <td>NaN</td>\n",
       "      <td>NaN</td>\n",
       "      <td>NaN</td>\n",
       "    </tr>\n",
       "    <tr>\n",
       "      <th>4</th>\n",
       "      <td>Gräf</td>\n",
       "      <td>epitaph</td>\n",
       "      <td>7-4 cm</td>\n",
       "      <td>150.0</td>\n",
       "      <td>AE 1983, 0524. (B); P. Rodríguez Oliva - R. At...</td>\n",
       "      <td>checked with photo</td>\n",
       "      <td>145 cm</td>\n",
       "      <td>D M S / / MEMMIA AVCTIN[ ] / AN LXX PIA IN SVI...</td>\n",
       "      <td>[{'name': 'Memmia Auctin[a]', 'nomen': 'Memmia...</td>\n",
       "      <td>15 cm</td>\n",
       "      <td>limestone: rocks - clastic sediments</td>\n",
       "      <td>stele</td>\n",
       "      <td>Baetica</td>\n",
       "      <td>60 cm</td>\n",
       "      <td>D(is) M(anibus) s(acrum) // Memmia Auctin[a] /...</td>\n",
       "      <td>Spain</td>\n",
       "      <td>https://edh-www.adw.uni-heidelberg.de/edh/insc...</td>\n",
       "      <td>Sabora, bei</td>\n",
       "      <td>2011-06-10</td>\n",
       "      <td>Málaga</td>\n",
       "      <td>Cañete la Real</td>\n",
       "      <td>Latin</td>\n",
       "      <td>HD000006</td>\n",
       "      <td>https://edh-www.adw.uni-heidelberg.de/edh/geog...</td>\n",
       "      <td>Der Stein ist aus 2 aneinanderpassenden Fragm...</td>\n",
       "      <td>https://www.trismegistos.org/text/222924</td>\n",
       "      <td>71.0</td>\n",
       "      <td>{}</td>\n",
       "      <td>{}</td>\n",
       "      <td>[-5.0244, 36.9515]</td>\n",
       "      <td>222924.0</td>\n",
       "      <td>['http://www.trismegistos.org/place/025443', '...</td>\n",
       "      <td>Dis Manibus sacrum  Memmia Auctina annorum LXX...</td>\n",
       "      <td>71 AD – 150 AD</td>\n",
       "      <td>21.0</td>\n",
       "      <td>unbestimmt</td>\n",
       "      <td>250.0</td>\n",
       "      <td>Stele</td>\n",
       "      <td>60.0</td>\n",
       "      <td>Kalkstein</td>\n",
       "      <td>1000.0</td>\n",
       "      <td>92.0</td>\n",
       "      <td>Grabinschrift</td>\n",
       "      <td>epitaph</td>\n",
       "      <td>Certain</td>\n",
       "      <td>145.0</td>\n",
       "      <td>60.0</td>\n",
       "      <td>15.0</td>\n",
       "      <td>Limestone</td>\n",
       "      <td>stele</td>\n",
       "      <td>Certain</td>\n",
       "      <td>Baetica</td>\n",
       "      <td>Certain</td>\n",
       "      <td>Spain</td>\n",
       "      <td>Certain</td>\n",
       "      <td>Sabora</td>\n",
       "      <td>Estimated</td>\n",
       "      <td>Málaga</td>\n",
       "      <td>Certain</td>\n",
       "      <td>Cañete la Real</td>\n",
       "      <td>Certain</td>\n",
       "      <td>Huerta Nueva</td>\n",
       "      <td>Certain</td>\n",
       "      <td>71 AD – 150 AD</td>\n",
       "      <td>D M s Memmia Auctin an LXX pia in suis h s e s...</td>\n",
       "      <td>Dis Manibus sacrum Memmia Auctina annorum LXX ...</td>\n",
       "      <td>Dis Manibus sacrum Memmia Auctina annorum LXX ...</td>\n",
       "      <td>Huerta Nueva</td>\n",
       "      <td>1974</td>\n",
       "      <td>Cañete la Real</td>\n",
       "      <td>NaN</td>\n",
       "      <td>NaN</td>\n",
       "      <td>NaN</td>\n",
       "      <td>NaN</td>\n",
       "      <td>[-5.0244, 36.9515]</td>\n",
       "      <td>True</td>\n",
       "      <td>rest</td>\n",
       "      <td>False</td>\n",
       "      <td>Irni</td>\n",
       "      <td>345</td>\n",
       "      <td>1000.0</td>\n",
       "      <td>[-5.108907, 37.050024]</td>\n",
       "      <td>minor</td>\n",
       "      <td>0.129801</td>\n",
       "      <td>NaN</td>\n",
       "      <td>NaN</td>\n",
       "      <td>NaN</td>\n",
       "      <td>NaN</td>\n",
       "      <td>NaN</td>\n",
       "      <td>NaN</td>\n",
       "      <td>NaN</td>\n",
       "      <td>NaN</td>\n",
       "      <td>NaN</td>\n",
       "      <td>NaN</td>\n",
       "      <td>NaN</td>\n",
       "      <td>NaN</td>\n",
       "      <td>NaN</td>\n",
       "      <td>NaN</td>\n",
       "      <td>NaN</td>\n",
       "      <td>NaN</td>\n",
       "      <td>NaN</td>\n",
       "      <td>NaN</td>\n",
       "      <td>NaN</td>\n",
       "      <td>NaN</td>\n",
       "      <td>NaN</td>\n",
       "      <td>NaN</td>\n",
       "      <td>NaN</td>\n",
       "      <td>NaN</td>\n",
       "      <td>NaN</td>\n",
       "    </tr>\n",
       "  </tbody>\n",
       "</table>\n",
       "</div>"
      ],
      "text/plain": [
       "  responsible_individual    type_of_inscription letter_size  not_after  \\\n",
       "0                Feraudi                epitaph        4 cm      200.0   \n",
       "1                Feraudi  honorific inscription    4.5-3 cm      170.0   \n",
       "2                   Gräf     votive inscription      2.5 cm      200.0   \n",
       "3                Feraudi                epitaph         NaN      200.0   \n",
       "4                   Gräf                epitaph      7-4 cm      150.0   \n",
       "\n",
       "                                          literature         work_status  \\\n",
       "0  AE 1983, 0080. (A); A. Ferrua, RAL 36, 1981, 1...            no image   \n",
       "1  AE 1983, 0518. (B); J. González, ZPE 52, 1983,...         provisional   \n",
       "2  AE 1983, 0533. (B); A.U. Stylow, Gerión 1, 198...  checked with photo   \n",
       "3  AE 1983, 0078. (B); A. Ferrua, RAL 36, 1981, 1...            no image   \n",
       "4  AE 1983, 0524. (B); P. Rodríguez Oliva - R. At...  checked with photo   \n",
       "\n",
       "    height                                    diplomatic_text  \\\n",
       "0    28 cm            C SEXTIVS PARIS / QVI VIXIT / ANNIS LXX   \n",
       "1  (37) cm  [ ]VMMIO [ ] / [ ]ISENNA[ ] / [ ] XV[ ] / [ ] / [   \n",
       "2  (39) cm  [ ]AVS[ ]LLA / M PORCI NIGRI SER / DOMINAE VEN...   \n",
       "3      NaN  [ ] L SVCCESSVS / [ ] L L IRENAEVS / [ ] C L T...   \n",
       "4   145 cm  D M S / / MEMMIA AVCTIN[ ] / AN LXX PIA IN SVI...   \n",
       "\n",
       "                                              people    depth  \\\n",
       "0  [{'nomen': 'Sextius', 'praenomen': 'C.', 'pers...      NaN   \n",
       "1  [{'nomen': 'Mummius+', 'gender': 'male', 'prae...  (12) cm   \n",
       "2  [{'name': '[---?]AV(?)S(?)[---]L(?)L(?)A M. Po...    18 cm   \n",
       "3  [{'person_id': '1', 'name': '[---]l. Successus...      NaN   \n",
       "4  [{'name': 'Memmia Auctin[a]', 'nomen': 'Memmia...    15 cm   \n",
       "\n",
       "                               material type_of_monument province_label  \\\n",
       "0     marble: rocks - metamorphic rocks           tabula           Roma   \n",
       "1     marble: rocks - metamorphic rocks      statue base        Baetica   \n",
       "2  limestone: rocks - clastic sediments            altar        Baetica   \n",
       "3                                   NaN            stele           Roma   \n",
       "4  limestone: rocks - clastic sediments            stele        Baetica   \n",
       "\n",
       "     width                                      transcription country  \\\n",
       "0    85 cm      C(aius) Sextius Paris / qui vixit / annis LXX   Italy   \n",
       "1  (34) cm  [P(ublio) M]ummio [P(ubli) f(ilio)] / [Gal(eri...   Spain   \n",
       "2    27 cm  [---?]AV(?)S(?)[---]L(?)L(?)A / M(arci) Porci ...   Spain   \n",
       "3      NaN  [---] l(ibertus) Successus / [---] L(uci) l(ib...   Italy   \n",
       "4    60 cm  D(is) M(anibus) s(acrum) // Memmia Auctin[a] /...   Spain   \n",
       "\n",
       "                                                 uri findspot_ancient  \\\n",
       "0  https://edh-www.adw.uni-heidelberg.de/edh/insc...             Roma   \n",
       "1  https://edh-www.adw.uni-heidelberg.de/edh/insc...              NaN   \n",
       "2  https://edh-www.adw.uni-heidelberg.de/edh/insc...    Ipolcobulcula   \n",
       "3  https://edh-www.adw.uni-heidelberg.de/edh/insc...             Roma   \n",
       "4  https://edh-www.adw.uni-heidelberg.de/edh/insc...      Sabora, bei   \n",
       "\n",
       "  last_update modern_region findspot_modern language        id  \\\n",
       "0  2014-04-07         Lazio            Roma    Latin  HD000002   \n",
       "1  2006-08-31       Sevilla         Tomares    Latin  HD000003   \n",
       "2  2015-03-27       Córdoba       Carcabuey    Latin  HD000004   \n",
       "3  2010-01-04         Lazio            Roma    Latin  HD000005   \n",
       "4  2011-06-10        Málaga  Cañete la Real    Latin  HD000006   \n",
       "\n",
       "                                   edh_geography_uri  \\\n",
       "0  https://edh-www.adw.uni-heidelberg.de/edh/geog...   \n",
       "1  https://edh-www.adw.uni-heidelberg.de/edh/geog...   \n",
       "2  https://edh-www.adw.uni-heidelberg.de/edh/geog...   \n",
       "3  https://edh-www.adw.uni-heidelberg.de/edh/geog...   \n",
       "4  https://edh-www.adw.uni-heidelberg.de/edh/geog...   \n",
       "\n",
       "                                          commentary  \\\n",
       "0                            AE 1983: Breite: 35 cm.   \n",
       "1   (B): [S]isenna ist falscher Kasus; folgende E...   \n",
       "2   Material: lokaler grauer Kalkstein. (B): Styl...   \n",
       "3                (B): Z. 3: C(ai) l(ibertae) Tyches.   \n",
       "4   Der Stein ist aus 2 aneinanderpassenden Fragm...   \n",
       "\n",
       "                           trismegistos_uri  not_before  \\\n",
       "0  https://www.trismegistos.org/text/265631        51.0   \n",
       "1  https://www.trismegistos.org/text/220675       131.0   \n",
       "2  https://www.trismegistos.org/text/222102       151.0   \n",
       "3  https://www.trismegistos.org/text/265629         1.0   \n",
       "4  https://www.trismegistos.org/text/222924        71.0   \n",
       "\n",
       "                                 external_image_uris fotos  \\\n",
       "0                                                 {}    {}   \n",
       "1                                                 {}    {}   \n",
       "2  http://cil-old.bbaw.de/test06/bilder/datenbank...    {}   \n",
       "3                                                 {}    {}   \n",
       "4                                                 {}    {}   \n",
       "\n",
       "          coordinates   idno_tm  \\\n",
       "0  [12.4823, 41.8955]  265631.0   \n",
       "1  [-6.0459, 37.3728]  220675.0   \n",
       "2  [-4.2747, 37.4442]  222102.0   \n",
       "3  [12.4823, 41.8955]  265629.0   \n",
       "4  [-5.0244, 36.9515]  222924.0   \n",
       "\n",
       "                                     placenames_refs  \\\n",
       "0  ['http://www.trismegistos.org/place/000172', '...   \n",
       "1  ['http://www.trismegistos.org/place/025443', '...   \n",
       "2  ['http://www.trismegistos.org/place/025443', '...   \n",
       "3  ['http://www.trismegistos.org/place/000172', '...   \n",
       "4  ['http://www.trismegistos.org/place/025443', '...   \n",
       "\n",
       "                                        text_edition  \\\n",
       "0  Caius Sextius Paris qui vixit annis LXX       ...   \n",
       "1  Publio Mummio Publi filio Galeria Sisennae Rut...   \n",
       "2  AVSLLA Marci Porci Nigri serva dominae Veneri ...   \n",
       "3   libertus Successus  Luci libertus Irenaeus  C...   \n",
       "4  Dis Manibus sacrum  Memmia Auctina annorum LXX...   \n",
       "\n",
       "                                 origdate_text  layout_execution  \\\n",
       "0   51 AD – 200 AD                                          21.0   \n",
       "1  131 AD – 170 AD                                          21.0   \n",
       "2  151 AD – 200 AD                                          21.0   \n",
       "3    1 AD – 200 AD                                          21.0   \n",
       "4   71 AD – 150 AD                                          21.0   \n",
       "\n",
       "  layout_execution_text  support_objecttype support_objecttype_text  \\\n",
       "0            unbestimmt               257.0                   Tafel   \n",
       "1            unbestimmt                57.0            Statuenbasis   \n",
       "2            unbestimmt                29.0                   Altar   \n",
       "3            unbestimmt               250.0                   Stele   \n",
       "4            unbestimmt               250.0                   Stele   \n",
       "\n",
       "   support_material support_material_text  support_decoration  keywords_term  \\\n",
       "0              48.0                Marmor              1000.0           92.0   \n",
       "1              48.0                Marmor              1000.0           69.0   \n",
       "2              60.0             Kalkstein              1000.0           80.0   \n",
       "3             138.0            unbestimmt              1000.0           92.0   \n",
       "4              60.0             Kalkstein              1000.0           92.0   \n",
       "\n",
       "  keywords_term_text type_of_inscription_clean type_of_inscription_certainty  \\\n",
       "0      Grabinschrift                   epitaph                       Certain   \n",
       "1     Ehreninschrift     honorific inscription                       Certain   \n",
       "2      Weihinschrift        votive inscription                       Certain   \n",
       "3      Grabinschrift                   epitaph                       Certain   \n",
       "4      Grabinschrift                   epitaph                       Certain   \n",
       "\n",
       "   height_cm  width_cm  depth_cm material_clean type_of_monument_clean  \\\n",
       "0       28.0      85.0       NaN         Marble                 tabula   \n",
       "1       37.0      34.0      12.0         Marble            statue base   \n",
       "2       39.0      27.0      18.0      Limestone                  altar   \n",
       "3        NaN       NaN       NaN            NaN                  stele   \n",
       "4      145.0      60.0      15.0      Limestone                  stele   \n",
       "\n",
       "  type_of_monument_certainty province_label_clean province_label_certainty  \\\n",
       "0                    Certain                 Roma                  Certain   \n",
       "1                    Certain              Baetica                  Certain   \n",
       "2                    Certain              Baetica                  Certain   \n",
       "3                    Certain                 Roma                  Certain   \n",
       "4                    Certain              Baetica                  Certain   \n",
       "\n",
       "  country_clean country_certainty findspot_ancient_clean  \\\n",
       "0         Italy           Certain                   Roma   \n",
       "1         Spain           Certain                    NaN   \n",
       "2         Spain           Certain          Ipolcobulcula   \n",
       "3         Italy           Certain                   Roma   \n",
       "4         Spain           Certain                 Sabora   \n",
       "\n",
       "  findspot_ancient_certainty modern_region_clean modern_region_certainty  \\\n",
       "0                    Certain               Lazio                 Certain   \n",
       "1                        NaN             Sevilla                 Certain   \n",
       "2                    Certain             Córdoba                 Certain   \n",
       "3                    Certain               Lazio                 Certain   \n",
       "4                  Estimated              Málaga                 Certain   \n",
       "\n",
       "  findspot_modern_clean findspot_modern_certainty  \\\n",
       "0                  Roma                   Certain   \n",
       "1               Tomares                   Certain   \n",
       "2             Carcabuey                   Certain   \n",
       "3                  Roma                   Certain   \n",
       "4        Cañete la Real                   Certain   \n",
       "\n",
       "                         findspot_clean findspot_certainty  \\\n",
       "0  Via Nomentana, S. Alessandro, Kirche            Certain   \n",
       "1                                   NaN                NaN   \n",
       "2                                   NaN                NaN   \n",
       "3          Via Cupa (ehem. Vigna Nardi)            Certain   \n",
       "4                          Huerta Nueva            Certain   \n",
       "\n",
       "  origdate_text_clean                            clean_text_conservative  \\\n",
       "0      51 AD – 200 AD                C Sextius Paris qui vixit annis LXX   \n",
       "1     131 AD – 170 AD                                    ummio isenna Xv   \n",
       "2     151 AD – 200 AD  AVSLLA M Porci Nigri ser dominae Veneri aram p...   \n",
       "3       1 AD – 200 AD    l Successus L l Irenaeus C l Tyches unt renti f   \n",
       "4      71 AD – 150 AD  D M s Memmia Auctin an LXX pia in suis h s e s...   \n",
       "\n",
       "                        clean_text_interpretive_word  \\\n",
       "0            Caius Sextius Paris qui vixit annis LXX   \n",
       "1  Publio Mummio Publi filio Galeria Sisennae Rut...   \n",
       "2  AVS LLA Marci Porci Nigri serva dominae Veneri...   \n",
       "3  libertus Successus Luci libertus Irenaeus Cai ...   \n",
       "4  Dis Manibus sacrum Memmia Auctina annorum LXX ...   \n",
       "\n",
       "                    clean_text_interpretive_sentence  \\\n",
       "0            Caius Sextius Paris qui vixit annis LXX   \n",
       "1  Publio Mummio Publi filio Galeria Sisennae Rut...   \n",
       "2  AVS LLA Marci Porci Nigri serva dominae Veneri...   \n",
       "3  libertus Successus Luci libertus Irenaeus Cai ...   \n",
       "4  Dis Manibus sacrum Memmia Auctina annorum LXX ...   \n",
       "\n",
       "                               findspot year_of_find  \\\n",
       "0  Via Nomentana, S. Alessandro, Kirche         1937   \n",
       "1                                   NaN  before 1975   \n",
       "2                                   NaN  before 1979   \n",
       "3          Via Cupa (ehem. Vigna Nardi)          NaN   \n",
       "4                          Huerta Nueva         1974   \n",
       "\n",
       "           present_location                religion geography  \\\n",
       "0                       NaN                     NaN       NaN   \n",
       "1     Sevilla, Privatbesitz                     NaN       NaN   \n",
       "2  Carcabuey, Grupo Escolar  names of pagan deities       NaN   \n",
       "3                       NaN                     NaN       NaN   \n",
       "4            Cañete la Real                     NaN       NaN   \n",
       "\n",
       "  social_economic_legal_history military            geometry  within_RE  \\\n",
       "0                           NaN      NaN  [12.4823, 41.8955]       True   \n",
       "1                           NaN      NaN  [-6.0459, 37.3728]       True   \n",
       "2                           NaN      NaN  [-4.2747, 37.4442]       True   \n",
       "3                           NaN      NaN  [12.4823, 41.8955]       True   \n",
       "4                           NaN      NaN  [-5.0244, 36.9515]       True   \n",
       "\n",
       "  urban_context  within_rome nearest_city  city_id_hanson  city_pop_est  \\\n",
       "0           big         True         Roma             992      923313.0   \n",
       "1        middle        False        Osset             357        1000.0   \n",
       "2          rest        False       Iptuci             344        1000.0   \n",
       "3           big         True         Roma             992      923313.0   \n",
       "4          rest        False         Irni             345        1000.0   \n",
       "\n",
       "            city_geometry nearest_city_type  nearest_city_dist EDCS-ID  \\\n",
       "0  [12.485098, 41.892777]               big           0.003904     NaN   \n",
       "1  [-6.035436, 37.358375]             minor           0.017821     NaN   \n",
       "2  [-4.377602, 37.755932]             minor           0.328277     NaN   \n",
       "3  [12.485098, 41.892777]               big           0.003904     NaN   \n",
       "4  [-5.108907, 37.050024]             minor           0.129801     NaN   \n",
       "\n",
       "  publication province province_list place place_list end_yr_list  \\\n",
       "0         NaN      NaN           NaN   NaN        NaN         NaN   \n",
       "1         NaN      NaN           NaN   NaN        NaN         NaN   \n",
       "2         NaN      NaN           NaN   NaN        NaN         NaN   \n",
       "3         NaN      NaN           NaN   NaN        NaN         NaN   \n",
       "4         NaN      NaN           NaN   NaN        NaN         NaN   \n",
       "\n",
       "  notes_dating status_list inscr_type status_notation inscr_process  \\\n",
       "0          NaN         NaN        NaN             NaN           NaN   \n",
       "1          NaN         NaN        NaN             NaN           NaN   \n",
       "2          NaN         NaN        NaN             NaN           NaN   \n",
       "3          NaN         NaN        NaN             NaN           NaN   \n",
       "4          NaN         NaN        NaN             NaN           NaN   \n",
       "\n",
       "  notes_references notes_comments inscription inscription_stripped_final  \\\n",
       "0              NaN            NaN         NaN                        NaN   \n",
       "1              NaN            NaN         NaN                        NaN   \n",
       "2              NaN            NaN         NaN                        NaN   \n",
       "3              NaN            NaN         NaN                        NaN   \n",
       "4              NaN            NaN         NaN                        NaN   \n",
       "\n",
       "  Links  dating from dating to status  Latitude  Longitude photo Material  \\\n",
       "0   NaN          NaN       NaN    NaN       NaN        NaN   NaN      NaN   \n",
       "1   NaN          NaN       NaN    NaN       NaN        NaN   NaN      NaN   \n",
       "2   NaN          NaN       NaN    NaN       NaN        NaN   NaN      NaN   \n",
       "3   NaN          NaN       NaN    NaN       NaN        NaN   NaN      NaN   \n",
       "4   NaN          NaN       NaN    NaN       NaN        NaN   NaN      NaN   \n",
       "\n",
       "  Comment  \n",
       "0     NaN  \n",
       "1     NaN  \n",
       "2     NaN  \n",
       "3     NaN  \n",
       "4     NaN  "
      ]
     },
     "execution_count": 5,
     "metadata": {},
     "output_type": "execute_result"
    }
   ],
   "source": [
    "EDHCS = pd.read_csv(\"../data/large_data/EDHCSg.csv\", low_memory=False, index_col=None)\n",
    "EDHCS.head(5)"
   ]
  },
  {
   "cell_type": "code",
   "execution_count": 6,
   "metadata": {},
   "outputs": [
    {
     "name": "stdout",
     "output_type": "stream",
     "text": [
      "Index(['responsible_individual', 'type_of_inscription', 'letter_size',\n",
      "       'not_after', 'literature', 'work_status', 'height', 'diplomatic_text',\n",
      "       'people', 'depth',\n",
      "       ...\n",
      "       'inscription_stripped_final', 'Links', 'dating from', 'dating to',\n",
      "       'status', 'Latitude', 'Longitude', 'photo', 'Material', 'Comment'],\n",
      "      dtype='object', length=109)\n"
     ]
    }
   ],
   "source": [
    "print(EDHCS.columns)"
   ]
  },
  {
   "cell_type": "markdown",
   "metadata": {},
   "source": [
    "# Function to extract occupations"
   ]
  },
  {
   "cell_type": "code",
   "execution_count": 7,
   "metadata": {},
   "outputs": [],
   "source": [
    "def extract_occup(inscription_text):\n",
    "    occups_found = []\n",
    "    if not isinstance(inscription_text, str): # if not valid string\n",
    "        inscription_text = \"\"\n",
    "    for occup in occups_declined_dict.keys():\n",
    "        for occup_morph in occups_declined_dict[occup]:\n",
    "            try:\n",
    "                if occup_morph in inscription_text: # first check it this way, otherwise skip\n",
    "                    occup_morph_N = len(re.findall(\"(\\W|^)\" + occup_morph + \"(\\W|$)\", inscription_text))\n",
    "                    occups_found.extend([occup] * occup_morph_N)\n",
    "                    inscription_text = inscription_text.replace(occup_morph, \"\")\n",
    "            except: pass\n",
    "    return occups_found"
   ]
  },
  {
   "cell_type": "markdown",
   "metadata": {},
   "source": [
    "# Occupations - extraction"
   ]
  },
  {
   "cell_type": "code",
   "execution_count": 8,
   "metadata": {},
   "outputs": [],
   "source": [
    "# read declined occupations\n",
    "with open(\"../data/occups_declined_dict.json\", \"r\") as fp:\n",
    "    occups_declined_dict = json.load(fp)"
   ]
  },
  {
   "cell_type": "code",
   "execution_count": 9,
   "metadata": {},
   "outputs": [
    {
     "data": {
      "text/plain": [
       "['exactor auri argenti et aeris',\n",
       " 'inclusor auri et gemmarum',\n",
       " 'tesserarius lignarius',\n",
       " 'refector pectinarius',\n",
       " 'instructor parietum',\n",
       " 'tribor argentarius',\n",
       " 'carrocarpentarius',\n",
       " 'dactilidiogliphus',\n",
       " 'manceps salinarum',\n",
       " 'manceps thermarum',\n",
       " 'aequator monetae',\n",
       " 'conchyliolegulus',\n",
       " 'orchestopolarius',\n",
       " 'rhypararographus',\n",
       " 'calciamentarius',\n",
       " 'chorographarius',\n",
       " 'diffusor oleari',\n",
       " 'domnicomontanus',\n",
       " 'faber tignuarii',\n",
       " 'medicamentarius']"
      ]
     },
     "execution_count": 9,
     "metadata": {},
     "output_type": "execute_result"
    }
   ],
   "source": [
    "# check that our occupations are properly arranged (from the longest...)\n",
    "list(occups_declined_dict.keys())[:20]"
   ]
  },
  {
   "cell_type": "markdown",
   "metadata": {},
   "source": [
    "## Occupations - test on a sample"
   ]
  },
  {
   "cell_type": "code",
   "execution_count": 16,
   "metadata": {},
   "outputs": [
    {
     "data": {
      "text/plain": [
       "5000"
      ]
     },
     "execution_count": 16,
     "metadata": {},
     "output_type": "execute_result"
    }
   ],
   "source": [
    "# sample for testing\n",
    "EDHCS_sample = EDHCS[60000:65000]\n",
    "len(EDHCS_sample)"
   ]
  },
  {
   "cell_type": "code",
   "execution_count": 17,
   "metadata": {},
   "outputs": [
    {
     "name": "stdout",
     "output_type": "stream",
     "text": [
      "CPU times: user 2.61 s, sys: 221 µs, total: 2.61 s\n",
      "Wall time: 2.61 s\n"
     ]
    },
    {
     "data": {
      "text/plain": [
       "103"
      ]
     },
     "execution_count": 17,
     "metadata": {},
     "output_type": "execute_result"
    }
   ],
   "source": [
    "%%time\n",
    "EDHCS_sample[\"occups\"] = EDHCS_sample[\"clean_text_interpretive_word\"].apply(extract_occup)\n",
    "EDHCS_occups_list = [el for sublist in EDHCS_sample[\"occups\"].tolist() for el in sublist]\n",
    "len(EDHCS_occups_list) \n",
    "# v1: 3.03s, 946 found\n",
    "# once we remove after first match, then only 636\n",
    "# but once we are sensitive to repeated occurences, we get 742\n",
    "# when looking for within a lower case inscription, the number increases to 902"
   ]
  },
  {
   "cell_type": "code",
   "execution_count": 19,
   "metadata": {},
   "outputs": [],
   "source": [
    "EDHCS_sample[\"occups_N\"] = EDHCS_sample[\"occups\"].apply(len)"
   ]
  },
  {
   "cell_type": "code",
   "execution_count": 21,
   "metadata": {},
   "outputs": [
    {
     "data": {
      "text/plain": [
       "77"
      ]
     },
     "execution_count": 21,
     "metadata": {},
     "output_type": "execute_result"
    }
   ],
   "source": [
    "len(EDHCS_sample[EDHCS_sample[\"occups_N\"] > 0])"
   ]
  },
  {
   "cell_type": "markdown",
   "metadata": {},
   "source": [
    "## Occupations - application on the whole dataset"
   ]
  },
  {
   "cell_type": "code",
   "execution_count": 21,
   "metadata": {},
   "outputs": [
    {
     "name": "stdout",
     "output_type": "stream",
     "text": [
      "CPU times: user 44.7 s, sys: 508 µs, total: 44.7 s\n",
      "Wall time: 44.7 s\n"
     ]
    }
   ],
   "source": [
    "%%time\n",
    "EDH[\"occups\"] = EDH[\"clean_text_interpretive_word\"].apply(extract_occup)"
   ]
  },
  {
   "cell_type": "code",
   "execution_count": 22,
   "metadata": {},
   "outputs": [
    {
     "name": "stdout",
     "output_type": "stream",
     "text": [
      "2268\n",
      "[('faber', 400), ('curator', 244), ('sagittarius', 162), ('medicus', 129), ('scriba', 107), ('aerarius', 103), ('vexillarius', 65), ('negotiator', 52), ('mensor', 34), ('dendrophorus', 30), ('gladiator', 30), ('cornicen', 27), ('argentarius', 26), ('arcarius', 26), ('scaenicus', 26), ('architectus', 23), ('conditor', 21), ('nauta', 20), ('negotians', 20), ('tignarius', 17), ('ornatrix', 17), ('lapidarius', 17), ('structor', 15), ('vestiarius', 14), ('navalis', 11), ('armamentarius', 11), ('possessor', 11), ('salarius', 11), ('sutor', 11), ('venator', 11)]\n"
     ]
    }
   ],
   "source": [
    "EDH_occups_list = [el for sublist in EDH[\"occups\"].tolist() for el in sublist]\n",
    "print(len(EDH_occups_list))\n",
    "print(nltk.FreqDist(EDH_occups_list).most_common(30))"
   ]
  },
  {
   "cell_type": "markdown",
   "metadata": {},
   "source": [
    "results ignoring both lower and uppercase words (for comparison):\n",
    "\n",
    "```\n",
    "2745\n",
    "[('faber', 407), ('curator', 321), ('medicus', 243), ('scriba', 110), ('aerarius', 107), ('agricola', 89), ('pollio', 81), ('negotiator', 79), ('centonarius', 67), ('vexillarius', 59), ('mercator', 45), ('argentarius', 42), ('mensor', 39), ('cerdo', 36), ('cornicen', 28), ('arcarius', 26), ('conditor', 26), ('architectus', 23), ('nauta', 22), ('dendrophorus', 19), ('tignarius', 18), ('structor', 16), ('ornatrix', 16), ('lapidarius', 16), ('vestiarius', 15), ('sutor', 15), ('venator', 15), ('forensis', 14), ('scutarius', 14), ('coactor', 13)]```"
   ]
  },
  {
   "cell_type": "code",
   "execution_count": 23,
   "metadata": {},
   "outputs": [],
   "source": [
    "EDH[\"occups_N\"] = EDH[\"occups\"].apply(len)"
   ]
  },
  {
   "cell_type": "code",
   "execution_count": 24,
   "metadata": {},
   "outputs": [
    {
     "name": "stdout",
     "output_type": "stream",
     "text": [
      "CPU times: user 3min 19s, sys: 15 ms, total: 3min 19s\n",
      "Wall time: 3min 19s\n"
     ]
    }
   ],
   "source": [
    "%%time\n",
    "EDCS[\"occups\"] = EDCS[\"clean_text_interpretive_word\"].apply(extract_occup)"
   ]
  },
  {
   "cell_type": "code",
   "execution_count": 25,
   "metadata": {},
   "outputs": [
    {
     "name": "stdout",
     "output_type": "stream",
     "text": [
      "7685\n",
      "[('faber', 1116), ('curator', 735), ('aerarius', 458), ('medicus', 435), ('scriba', 389), ('sagittarius', 339), ('argentarius', 139), ('mensor', 128), ('dendrophorus', 119), ('vexillarius', 108), ('figulus', 97), ('negotiator', 97), ('gladiator', 92), ('vestiarius', 90), ('scaenicus', 83), ('architectus', 80), ('arcarius', 76), ('conditor', 75), ('ornatrix', 61), ('negotians', 60), ('structor', 55), ('nauta', 51), ('pistor', 50), ('vinarius', 49), ('fullo', 48), ('marmorarius', 47), ('cocus', 44), ('nummularius', 43), ('lecticarius', 42), ('navalis', 41)]\n"
     ]
    }
   ],
   "source": [
    "EDCS_occups_list = [el for sublist in EDCS[\"occups\"].tolist() for el in sublist]\n",
    "print(len(EDCS_occups_list))\n",
    "print(nltk.FreqDist(EDCS_occups_list).most_common(30))"
   ]
  },
  {
   "cell_type": "markdown",
   "metadata": {},
   "source": [
    "previous version\n",
    "```\n",
    "10085\n",
    "[('faber', 1152), ('curator', 915), ('medicus', 668), ('aerarius', 513), ('scriba', 392), ('cocus', 289), ('vexillarius', 260), ('cerdo', 254), ('pollio', 245), ('agricola', 225), ('mercator', 217), ('centonarius', 217), ('argentarius', 170), ('negotiator', 159), ('figulus', 138), ('mensor', 136), ('vestiarius', 104), ('dendrophorus', 91), ('lanius', 89), ('conditor', 89), ('copo', 86), ('architectus', 81), ('arcarius', 79), ('nauta', 68), ('vinarius', 59), ('structor', 58), ('ornatrix', 56), ('fullo', 52), ('pistor', 52), ('sutor', 48)]\n",
    "```"
   ]
  },
  {
   "cell_type": "code",
   "execution_count": 26,
   "metadata": {},
   "outputs": [],
   "source": [
    "EDCS[\"occups_N\"] = EDCS[\"occups\"].apply(len)"
   ]
  },
  {
   "cell_type": "markdown",
   "metadata": {},
   "source": [
    "## Occupations - overview"
   ]
  },
  {
   "cell_type": "code",
   "execution_count": 27,
   "metadata": {},
   "outputs": [
    {
     "name": "stdout",
     "output_type": "stream",
     "text": [
      "EDH - number of occupation occurances: 2268\n",
      "EDH - number of inscriptions with at least one occupation mentioned: 1913\n",
      "EDH - number of dated inscriptions with at least one occupation mentioned: 1224\n",
      "EDH - number of occupation occurances in dated inscriptions: 1450\n"
     ]
    }
   ],
   "source": [
    "print(\"EDH - number of occupation occurances: \" + str(EDH[\"occups_N\"].sum()))\n",
    "print(\"EDH - number of inscriptions with at least one occupation mentioned: \" + str(len(EDH[EDH[\"occups_N\"] > 0])))\n",
    "print(\"EDH - number of dated inscriptions with at least one occupation mentioned: \"+ str(len(EDH[(EDH[\"not_before\"].notnull()) & (EDH[\"occups_N\"] > 0)])))\n",
    "print(\"EDH - number of occupation occurances in dated inscriptions: \" + str(EDH[EDH[\"not_before\"].notnull()][\"occups_N\"].sum()))"
   ]
  },
  {
   "cell_type": "code",
   "execution_count": 28,
   "metadata": {},
   "outputs": [
    {
     "name": "stdout",
     "output_type": "stream",
     "text": [
      "EDCS - number of occupation occurances: 7685\n",
      "EDCS - number of inscriptions with at least one occupation mentioned: 6371\n",
      "EDCS - number of dated inscriptions with at least one occupation mentioned: 4008\n",
      "EDCS - number of occupation occurances in dated inscriptions: 4879\n"
     ]
    }
   ],
   "source": [
    "print(\"EDCS - number of occupation occurances: \" + str(EDCS[\"occups_N\"].sum()))\n",
    "print(\"EDCS - number of inscriptions with at least one occupation mentioned: \" + str(len(EDCS[EDCS[\"occups_N\"] > 0])))\n",
    "print(\"EDCS - number of dated inscriptions with at least one occupation mentioned: \"+ str(len(EDCS[(EDCS[\"dating to\"].notnull()) & (EDCS[\"occups_N\"] > 0)])))\n",
    "print(\"EDCS - number of occupation occurances in dated inscriptions: \" + str(EDCS[EDCS[\"dating to\"].notnull()][\"occups_N\"].sum()))"
   ]
  },
  {
   "cell_type": "markdown",
   "metadata": {},
   "source": [
    "# Organizations - extraction"
   ]
  },
  {
   "cell_type": "code",
   "execution_count": 30,
   "metadata": {},
   "outputs": [],
   "source": [
    "# read declined occupations\n",
    "with open(\"../data/organizations_declined_dict.json\", \"r\") as fp:\n",
    "    occups_declined_dict = json.load(fp)"
   ]
  },
  {
   "cell_type": "code",
   "execution_count": 31,
   "metadata": {},
   "outputs": [
    {
     "data": {
      "text/plain": [
       "['collegatarius',\n",
       " 'collegiarius',\n",
       " 'collegiatus',\n",
       " 'corporatus',\n",
       " 'sodalicium',\n",
       " 'collegium',\n",
       " 'collegius',\n",
       " 'concilium',\n",
       " 'conlegium',\n",
       " 'sodalitas',\n",
       " 'colegium',\n",
       " 'sociatio',\n",
       " 'societas',\n",
       " 'collega',\n",
       " 'corpus']"
      ]
     },
     "execution_count": 31,
     "metadata": {},
     "output_type": "execute_result"
    }
   ],
   "source": [
    "# check that our occupations are properly arranged (from the longest...)\n",
    "list(occups_declined_dict.keys())[:15]"
   ]
  },
  {
   "cell_type": "markdown",
   "metadata": {},
   "source": [
    "## Organizations - test on a sample data"
   ]
  },
  {
   "cell_type": "code",
   "execution_count": 32,
   "metadata": {},
   "outputs": [
    {
     "data": {
      "text/plain": [
       "1000"
      ]
     },
     "execution_count": 32,
     "metadata": {},
     "output_type": "execute_result"
    }
   ],
   "source": [
    "# sample for testing\n",
    "EDH_sample = EDH[:1000]\n",
    "len(EDH_sample)"
   ]
  },
  {
   "cell_type": "code",
   "execution_count": 33,
   "metadata": {},
   "outputs": [
    {
     "name": "stdout",
     "output_type": "stream",
     "text": [
      "CPU times: user 28.8 ms, sys: 12 µs, total: 28.8 ms\n",
      "Wall time: 28 ms\n"
     ]
    },
    {
     "name": "stderr",
     "output_type": "stream",
     "text": [
      "/home/kasev/.local/lib/python3.6/site-packages/ipykernel_launcher.py:1: SettingWithCopyWarning:\n",
      "\n",
      "\n",
      "A value is trying to be set on a copy of a slice from a DataFrame.\n",
      "Try using .loc[row_indexer,col_indexer] = value instead\n",
      "\n",
      "See the caveats in the documentation: https://pandas.pydata.org/pandas-docs/stable/user_guide/indexing.html#returning-a-view-versus-a-copy\n",
      "\n"
     ]
    },
    {
     "data": {
      "text/plain": [
       "49"
      ]
     },
     "execution_count": 33,
     "metadata": {},
     "output_type": "execute_result"
    }
   ],
   "source": [
    "%%time\n",
    "EDH_sample[\"organizations\"] = EDH_sample[\"clean_text_interpretive_word\"].apply(extract_occup)\n",
    "EDH_organizations_list = [el for sublist in EDH_sample[\"organizations\"].tolist() for el in sublist]\n",
    "len(EDH_organizations_list) \n",
    "# v1: 3.03s, 946 found\n",
    "# once we remove after first match, then only 636\n",
    "# but once we are sensitive to repeated occurences, we get 742\n",
    "# when looking for within a lower case inscription, the number increases to 902"
   ]
  },
  {
   "cell_type": "code",
   "execution_count": 34,
   "metadata": {},
   "outputs": [
    {
     "name": "stderr",
     "output_type": "stream",
     "text": [
      "/home/kasev/.local/lib/python3.6/site-packages/ipykernel_launcher.py:1: SettingWithCopyWarning:\n",
      "\n",
      "\n",
      "A value is trying to be set on a copy of a slice from a DataFrame.\n",
      "Try using .loc[row_indexer,col_indexer] = value instead\n",
      "\n",
      "See the caveats in the documentation: https://pandas.pydata.org/pandas-docs/stable/user_guide/indexing.html#returning-a-view-versus-a-copy\n",
      "\n"
     ]
    }
   ],
   "source": [
    "EDH_sample[\"organizations_N\"] = EDH_sample[\"organizations\"].apply(len)"
   ]
  },
  {
   "cell_type": "code",
   "execution_count": 35,
   "metadata": {},
   "outputs": [
    {
     "data": {
      "text/plain": [
       "18"
      ]
     },
     "execution_count": 35,
     "metadata": {},
     "output_type": "execute_result"
    }
   ],
   "source": [
    "len(EDH_sample[EDH_sample[\"organizations_N\"] > 0])"
   ]
  },
  {
   "cell_type": "code",
   "execution_count": 37,
   "metadata": {},
   "outputs": [],
   "source": [
    "# create sample and export it to gsheet\n",
    "EDH_occups_sample = EDH_sample[EDH_sample[\"organizations_N\"] > 0][[\"id\", \"clean_text_interpretive_word\", \"organizations\", \"type_of_inscription_clean\"]]\n",
    "set_with_dataframe(occupations.add_worksheet(\"EDH_orgs_sample\", 1, 1), EDH_occups_sample)"
   ]
  },
  {
   "cell_type": "markdown",
   "metadata": {},
   "source": [
    "## Organizations - application to full datasets"
   ]
  },
  {
   "cell_type": "code",
   "execution_count": 38,
   "metadata": {},
   "outputs": [
    {
     "name": "stdout",
     "output_type": "stream",
     "text": [
      "CPU times: user 1.19 s, sys: 34 µs, total: 1.19 s\n",
      "Wall time: 1.18 s\n"
     ]
    }
   ],
   "source": [
    "%%time\n",
    "EDH[\"organizations\"] = EDH[\"clean_text_interpretive_word\"].apply(extract_occup)"
   ]
  },
  {
   "cell_type": "code",
   "execution_count": 39,
   "metadata": {},
   "outputs": [
    {
     "name": "stdout",
     "output_type": "stream",
     "text": [
      "868\n",
      "[('collegium', 452), ('corpus', 288), ('collega', 60), ('conlegium', 13), ('concilium', 12), ('corporatus', 11), ('collegiatus', 11), ('collegius', 10), ('societas', 5), ('sodalicium', 4), ('collegiarius', 1), ('colegium', 1)]\n"
     ]
    }
   ],
   "source": [
    "EDH_organizations_list = [el for sublist in EDH[\"organizations\"].tolist() for el in sublist]\n",
    "print(len(EDH_organizations_list))\n",
    "print(nltk.FreqDist(EDH_organizations_list).most_common(30))"
   ]
  },
  {
   "cell_type": "code",
   "execution_count": 40,
   "metadata": {},
   "outputs": [],
   "source": [
    "EDH[\"organizations_N\"] = EDH[\"organizations\"].apply(len)"
   ]
  },
  {
   "cell_type": "code",
   "execution_count": 41,
   "metadata": {},
   "outputs": [
    {
     "name": "stdout",
     "output_type": "stream",
     "text": [
      "CPU times: user 4.26 s, sys: 16 ms, total: 4.28 s\n",
      "Wall time: 4.28 s\n"
     ]
    }
   ],
   "source": [
    "%%time\n",
    "EDCS[\"organizations\"] = EDCS[\"clean_text_interpretive_word\"].apply(extract_occup)"
   ]
  },
  {
   "cell_type": "code",
   "execution_count": 42,
   "metadata": {},
   "outputs": [
    {
     "name": "stdout",
     "output_type": "stream",
     "text": [
      "2974\n",
      "[('collegium', 1558), ('corpus', 954), ('collega', 178), ('colegium', 74), ('corporatus', 71), ('concilium', 40), ('collegius', 34), ('sodalicium', 24), ('collegiatus', 18), ('societas', 11), ('conlegium', 9), ('sodalitas', 2), ('collegiarius', 1)]\n"
     ]
    }
   ],
   "source": [
    "EDCS_organizations_list = [el for sublist in EDCS[\"organizations\"].tolist() for el in sublist]\n",
    "print(len(EDCS_organizations_list))\n",
    "print(nltk.FreqDist(EDCS_organizations_list).most_common(30))"
   ]
  },
  {
   "cell_type": "code",
   "execution_count": 43,
   "metadata": {},
   "outputs": [],
   "source": [
    "EDCS[\"organizations_N\"] = EDCS[\"organizations\"].apply(len)"
   ]
  },
  {
   "cell_type": "markdown",
   "metadata": {},
   "source": [
    "## Organizations - overview"
   ]
  },
  {
   "cell_type": "code",
   "execution_count": 44,
   "metadata": {},
   "outputs": [
    {
     "name": "stdout",
     "output_type": "stream",
     "text": [
      "EDH - number of organization occurances: 868\n",
      "EDH - number of inscriptions with at least one organization mentioned: 727\n",
      "EDH - number of dated inscriptions with at least one organization mentioned: 529\n",
      "EDH - number of organization occurances in dated inscriptions: 631\n"
     ]
    }
   ],
   "source": [
    "print(\"EDH - number of organization occurances: \" + str(EDH[\"organizations_N\"].sum()))\n",
    "print(\"EDH - number of inscriptions with at least one organization mentioned: \" + str(len(EDH[EDH[\"organizations_N\"] > 0])))\n",
    "print(\"EDH - number of dated inscriptions with at least one organization mentioned: \"+ str(len(EDH[(EDH[\"not_before\"].notnull()) & (EDH[\"organizations_N\"] > 0)])))\n",
    "print(\"EDH - number of organization occurances in dated inscriptions: \" + str(EDH[EDH[\"not_before\"].notnull()][\"organizations_N\"].sum()))"
   ]
  },
  {
   "cell_type": "code",
   "execution_count": 45,
   "metadata": {},
   "outputs": [
    {
     "name": "stdout",
     "output_type": "stream",
     "text": [
      "EDCS - number of organizations occurances: 2974\n",
      "EDCS - number of inscriptions with at least one organizations mentioned: 2223\n",
      "EDCS - number of dated inscriptions with at least one organizations mentioned: 1509\n",
      "EDCS - number of organizations occurances in dated inscriptions: 2143\n"
     ]
    }
   ],
   "source": [
    "print(\"EDCS - number of organizations occurances: \" + str(EDCS[\"organizations_N\"].sum()))\n",
    "print(\"EDCS - number of inscriptions with at least one organizations mentioned: \" + str(len(EDCS[EDCS[\"organizations_N\"] > 0])))\n",
    "print(\"EDCS - number of dated inscriptions with at least one organizations mentioned: \"+ str(len(EDCS[(EDCS[\"dating to\"].notnull()) & (EDCS[\"organizations_N\"] > 0)])))\n",
    "print(\"EDCS - number of organizations occurances in dated inscriptions: \" + str(EDCS[EDCS[\"dating to\"].notnull()][\"organizations_N\"].sum()))"
   ]
  },
  {
   "cell_type": "markdown",
   "metadata": {},
   "source": [
    "## Saving to Sciencedata"
   ]
  },
  {
   "cell_type": "code",
   "execution_count": 46,
   "metadata": {},
   "outputs": [
    {
     "name": "stdout",
     "output_type": "stream",
     "text": [
      "sciencedata.dk username (format '123456@au.dk'): 648597@au.dk\n",
      "sciencedata.dk password: ········\n",
      "connection with shared folder established with you as its owner\n",
      "endpoint variable has been configured to: https://sciencedata.dk/files/SDAM_root/\n"
     ]
    }
   ],
   "source": [
    "# login to our project folder, owned by my AU account 648597@au.dk\n",
    "conf = sddk.configure(\"SDAM_root\", \"648597@au.dk\")"
   ]
  },
  {
   "cell_type": "code",
   "execution_count": 47,
   "metadata": {},
   "outputs": [
    {
     "name": "stdout",
     "output_type": "stream",
     "text": [
      "Your <class 'pandas.core.frame.DataFrame'> object has been succefully written as \"https://sciencedata.dk/files/SDAM_root/SDAM_data/social_diversity/EDH_occupsorgs_2021-02-26.json\"\n",
      "Your <class 'pandas.core.frame.DataFrame'> object has been succefully written as \"https://sciencedata.dk/files/SDAM_root/SDAM_data/social_diversity/EDCS_occupsorgs_2021-02-26.json\"\n"
     ]
    }
   ],
   "source": [
    "sddk.write_file(\"SDAM_data/social_diversity/EDH_occupsorgs_2021-02-26.json\", EDH, conf)\n",
    "sddk.write_file(\"SDAM_data/social_diversity/EDCS_occupsorgs_2021-02-26.json\", EDCS, conf)"
   ]
  },
  {
   "cell_type": "code",
   "execution_count": null,
   "metadata": {},
   "outputs": [],
   "source": []
  }
 ],
 "metadata": {
  "colab": {
   "authorship_tag": "ABX9TyOKWnvxv3tTbNERCRAysPtc",
   "include_colab_link": true,
   "name": "WORKING_WITH_CLEANED_TEXTS.ipynb",
   "provenance": []
  },
  "hide_input": false,
  "kernelspec": {
   "display_name": "socdiv_venv",
   "language": "python",
   "name": "socdiv_venv"
  },
  "language_info": {
   "codemirror_mode": {
    "name": "ipython",
    "version": 3
   },
   "file_extension": ".py",
   "mimetype": "text/x-python",
   "name": "python",
   "nbconvert_exporter": "python",
   "pygments_lexer": "ipython3",
   "version": "3.6.9"
  },
  "toc": {
   "base_numbering": 1,
   "nav_menu": {},
   "number_sections": true,
   "sideBar": true,
   "skip_h1_title": false,
   "title_cell": "Table of Contents",
   "title_sidebar": "Contents",
   "toc_cell": false,
   "toc_position": {},
   "toc_section_display": true,
   "toc_window_display": false
  },
  "varInspector": {
   "cols": {
    "lenName": 16,
    "lenType": 16,
    "lenVar": 40
   },
   "kernels_config": {
    "python": {
     "delete_cmd_postfix": "",
     "delete_cmd_prefix": "del ",
     "library": "var_list.py",
     "varRefreshCmd": "print(var_dic_list())"
    },
    "r": {
     "delete_cmd_postfix": ") ",
     "delete_cmd_prefix": "rm(",
     "library": "var_list.r",
     "varRefreshCmd": "cat(var_dic_list()) "
    }
   },
   "types_to_exclude": [
    "module",
    "function",
    "builtin_function_or_method",
    "instance",
    "_Feature"
   ],
   "window_display": false
  }
 },
 "nbformat": 4,
 "nbformat_minor": 1
}
