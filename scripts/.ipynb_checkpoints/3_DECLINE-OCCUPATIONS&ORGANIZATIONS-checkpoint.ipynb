{
 "cells": [
  {
   "cell_type": "code",
   "execution_count": 1,
   "metadata": {},
   "outputs": [
    {
     "name": "stdout",
     "output_type": "stream",
     "text": [
      "kernel changed\n"
     ]
    }
   ],
   "source": [
    "from IPython.display import Javascript\n",
    "Javascript(\"Jupyter.notebook.session.restart({kernel_name: 'socdiv_venv'})\")\n",
    "print(\"kernel changed\")"
   ]
  },
  {
   "cell_type": "code",
   "execution_count": 1,
   "metadata": {},
   "outputs": [],
   "source": [
    "# REQUIREMNTS\n",
    "import pandas as pd\n",
    "import nltk\n",
    "import requests\n",
    "import re\n",
    "import json\n",
    "\n",
    "import gspread\n",
    "from gspread_dataframe import get_as_dataframe, set_with_dataframe\n",
    "from google.oauth2 import service_account # based on google-auth library\n",
    "\n",
    "import sddk"
   ]
  },
  {
   "cell_type": "code",
   "execution_count": 2,
   "metadata": {},
   "outputs": [
    {
     "name": "stdout",
     "output_type": "stream",
     "text": [
      "sciencedata.dk username (format '123456@au.dk'): 648597@au.dk\n",
      "sciencedata.dk password: ········\n",
      "endpoint variable has been configured to: https://sciencedata.dk/files/\n"
     ]
    }
   ],
   "source": [
    "# to access gsheet (from where we read our occupation data), you need Google Service Account key json file\n",
    "# I have mine located in my personal space on sciencedata.dk, so I read it from there:\n",
    "conf = sddk.configure()\n",
    "\n",
    "# (1) read the file and parse its content\n",
    "file_data = conf[0].get(conf[1] + \"ServiceAccountsKey.json\").json()\n",
    "# (2) transform the content into crendentials object\n",
    "credentials = service_account.Credentials.from_service_account_info(file_data)\n",
    "# (3) specify your usage of the credentials\n",
    "scoped_credentials = credentials.with_scopes(['https://spreadsheets.google.com/feeds', 'https://www.googleapis.com/auth/drive'])\n",
    "# (4) use the constrained credentials for authentication of gspread package\n",
    "gc = gspread.Client(auth=scoped_credentials)\n",
    "# (5) establish connection with spreadsheets specified by their url\n",
    "occupations = gc.open_by_url(\"https://docs.google.com/spreadsheets/d/1nONTEwp42CVnq3iCiONrFbJedIcYtBV-l4Bil5mU7Eo/edit?usp=sharing\")"
   ]
  },
  {
   "cell_type": "code",
   "execution_count": 3,
   "metadata": {},
   "outputs": [
    {
     "data": {
      "text/html": [
       "<div>\n",
       "<style scoped>\n",
       "    .dataframe tbody tr th:only-of-type {\n",
       "        vertical-align: middle;\n",
       "    }\n",
       "\n",
       "    .dataframe tbody tr th {\n",
       "        vertical-align: top;\n",
       "    }\n",
       "\n",
       "    .dataframe thead th {\n",
       "        text-align: right;\n",
       "    }\n",
       "</style>\n",
       "<table border=\"1\" class=\"dataframe\">\n",
       "  <thead>\n",
       "    <tr style=\"text-align: right;\">\n",
       "      <th></th>\n",
       "      <th>Term</th>\n",
       "      <th>gen_sg</th>\n",
       "      <th>Vocab_nom_sg</th>\n",
       "      <th>Source</th>\n",
       "      <th>Category</th>\n",
       "      <th>Translation_eng</th>\n",
       "    </tr>\n",
       "  </thead>\n",
       "  <tbody>\n",
       "    <tr>\n",
       "      <th>0</th>\n",
       "      <td>abetarius</td>\n",
       "      <td>i</td>\n",
       "      <td>NaN</td>\n",
       "      <td>Petrikovits 1981a</td>\n",
       "      <td>Building</td>\n",
       "      <td>a joiner, wood worker</td>\n",
       "    </tr>\n",
       "    <tr>\n",
       "      <th>1</th>\n",
       "      <td>abietarius</td>\n",
       "      <td>i</td>\n",
       "      <td>NaN</td>\n",
       "      <td>Petrikovits 1981a</td>\n",
       "      <td>Building</td>\n",
       "      <td>a joiner, wood worker</td>\n",
       "    </tr>\n",
       "    <tr>\n",
       "      <th>2</th>\n",
       "      <td>acceptor</td>\n",
       "      <td>oris</td>\n",
       "      <td>acceptor</td>\n",
       "      <td>Waltzing - Rome</td>\n",
       "      <td>Finance</td>\n",
       "      <td>collector, gold quality checker</td>\n",
       "    </tr>\n",
       "    <tr>\n",
       "      <th>3</th>\n",
       "      <td>accomodator</td>\n",
       "      <td>oris</td>\n",
       "      <td>NaN</td>\n",
       "      <td>Petrikovits 1981a</td>\n",
       "      <td>Unclear meaning</td>\n",
       "      <td>uncertain, craftsman</td>\n",
       "    </tr>\n",
       "    <tr>\n",
       "      <th>4</th>\n",
       "      <td>aceptor</td>\n",
       "      <td>oris</td>\n",
       "      <td>NaN</td>\n",
       "      <td>Petrikovits 1981a</td>\n",
       "      <td>Finance</td>\n",
       "      <td>collector, gold quality checker</td>\n",
       "    </tr>\n",
       "    <tr>\n",
       "      <th>...</th>\n",
       "      <td>...</td>\n",
       "      <td>...</td>\n",
       "      <td>...</td>\n",
       "      <td>...</td>\n",
       "      <td>...</td>\n",
       "      <td>...</td>\n",
       "    </tr>\n",
       "    <tr>\n",
       "      <th>809</th>\n",
       "      <td>vitor</td>\n",
       "      <td>oris</td>\n",
       "      <td>NaN</td>\n",
       "      <td>Petrikovits 1981a</td>\n",
       "      <td>Household Goods</td>\n",
       "      <td>basket weaver</td>\n",
       "    </tr>\n",
       "    <tr>\n",
       "      <th>810</th>\n",
       "      <td>vitrarius</td>\n",
       "      <td>i</td>\n",
       "      <td>NaN</td>\n",
       "      <td>Petrikovits 1981b</td>\n",
       "      <td>Glass-Working</td>\n",
       "      <td>glass manufacturer</td>\n",
       "    </tr>\n",
       "    <tr>\n",
       "      <th>811</th>\n",
       "      <td>vitrearius</td>\n",
       "      <td>i</td>\n",
       "      <td>NaN</td>\n",
       "      <td>Petrikovits 1981a</td>\n",
       "      <td>Glass-Working</td>\n",
       "      <td>glass manufacturer</td>\n",
       "    </tr>\n",
       "    <tr>\n",
       "      <th>812</th>\n",
       "      <td>vitriarius</td>\n",
       "      <td>i</td>\n",
       "      <td>NaN</td>\n",
       "      <td>Petrikovits 1981a</td>\n",
       "      <td>Glass-Working</td>\n",
       "      <td>glass manufacturer</td>\n",
       "    </tr>\n",
       "    <tr>\n",
       "      <th>813</th>\n",
       "      <td>zonarius</td>\n",
       "      <td>i</td>\n",
       "      <td>NaN</td>\n",
       "      <td>Petrikovits 1981a</td>\n",
       "      <td>Clothing</td>\n",
       "      <td>belt maker</td>\n",
       "    </tr>\n",
       "  </tbody>\n",
       "</table>\n",
       "<p>814 rows × 6 columns</p>\n",
       "</div>"
      ],
      "text/plain": [
       "            Term gen_sg Vocab_nom_sg             Source         Category  \\\n",
       "0      abetarius      i          NaN  Petrikovits 1981a         Building   \n",
       "1     abietarius      i          NaN  Petrikovits 1981a         Building   \n",
       "2       acceptor   oris     acceptor    Waltzing - Rome          Finance   \n",
       "3    accomodator   oris          NaN  Petrikovits 1981a  Unclear meaning   \n",
       "4        aceptor   oris          NaN  Petrikovits 1981a          Finance   \n",
       "..           ...    ...          ...                ...              ...   \n",
       "809        vitor   oris          NaN  Petrikovits 1981a  Household Goods   \n",
       "810    vitrarius      i          NaN  Petrikovits 1981b    Glass-Working   \n",
       "811   vitrearius      i          NaN  Petrikovits 1981a    Glass-Working   \n",
       "812   vitriarius      i          NaN  Petrikovits 1981a    Glass-Working   \n",
       "813     zonarius      i          NaN  Petrikovits 1981a         Clothing   \n",
       "\n",
       "                     Translation_eng  \n",
       "0              a joiner, wood worker  \n",
       "1              a joiner, wood worker  \n",
       "2    collector, gold quality checker  \n",
       "3               uncertain, craftsman  \n",
       "4    collector, gold quality checker  \n",
       "..                               ...  \n",
       "809                    basket weaver  \n",
       "810               glass manufacturer  \n",
       "811               glass manufacturer  \n",
       "812               glass manufacturer  \n",
       "813                       belt maker  \n",
       "\n",
       "[814 rows x 6 columns]"
      ]
     },
     "execution_count": 3,
     "metadata": {},
     "output_type": "execute_result"
    }
   ],
   "source": [
    "# read occupation data\n",
    "occupations_raw = get_as_dataframe(occupations.worksheet(\"Occupation\"))\n",
    "occupations_raw = occupations_raw[occupations_raw['Term'].notnull()]\n",
    "occupations_df = occupations_raw[occupations_raw.columns[:6]]\n",
    "occupations_df"
   ]
  },
  {
   "cell_type": "code",
   "execution_count": 4,
   "metadata": {},
   "outputs": [
    {
     "data": {
      "text/plain": [
       "[('abetarius', 'i', nan),\n",
       " ('abietarius', 'i', nan),\n",
       " ('acceptor', 'oris', 'acceptor'),\n",
       " ('accomodator', 'oris', nan),\n",
       " ('aceptor', 'oris', nan)]"
      ]
     },
     "execution_count": 4,
     "metadata": {},
     "output_type": "execute_result"
    }
   ],
   "source": [
    "occup_tups = [(occup_nom, occup_gen, word_to_dec) for occup_nom, occup_gen, word_to_dec in zip(occupations_df[\"Term\"].tolist(), occupations_df[\"gen_sg\"].tolist(), occupations_df[\"Vocab_nom_sg\"].tolist())]\n",
    "occup_tups[:5]"
   ]
  },
  {
   "cell_type": "code",
   "execution_count": 5,
   "metadata": {},
   "outputs": [
    {
     "data": {
      "text/plain": [
       "[('exactor auri argenti et aeris', 'oris', 'exactor'),\n",
       " ('inclusor auri et gemmarum', 'oris', 'inclusor'),\n",
       " ('tesserarius lignarius', 'i', 'tesserarius'),\n",
       " ('refector pectinarius', 'oris', 'refector'),\n",
       " ('instructor parietum', 'oris', 'instructor')]"
      ]
     },
     "execution_count": 5,
     "metadata": {},
     "output_type": "execute_result"
    }
   ],
   "source": [
    "# reorder from longest to shortest\n",
    "occup_tups = sorted(occup_tups, key = lambda x: len(x[0]), reverse=True)\n",
    "occup_tups[:5]"
   ]
  },
  {
   "cell_type": "code",
   "execution_count": 6,
   "metadata": {},
   "outputs": [],
   "source": [
    "# manually define declinations\n",
    "decs = {\n",
    "\"first_f\" : [\"a\", \"ae\", \"am\", \"e\", \"as\", \"arum\", \"is\"],\n",
    "\"first_gr_es\" : [\"es\",  \"ae\", \"en\", \"am\", \"e\", \"as\", \"arum\", \"is\", \"a\"],\n",
    "\n",
    "\"sec_m_us\" : [\"us\", \"i\", \"o\", \"um\", \"orum\", \"os\", \"is\"],\n",
    "\"sec_n\" : [\"um\", \"i\", \"o\", \"a\", \"orum\", \"is\"],\n",
    "\"sec_m_er\" : [\"er\", \"eri\", \"ero\", \"erum\" , \"eros\", \"erorum\", \"eris\"],\n",
    "\"sec_m_r\" : [\"er\", \"ri\", \"ro\", \"rum\" , \"ros\", \"rorum\", \"ris\"],\n",
    "\n",
    "\"sec_gr_os\" : [\"os\", \"i\", \"o\", \"on\" , \"e\", \"rorum\", \"ris\"],\n",
    "\"sec_gr_on\" : [\"on\", \"i\", \"o\", \"a\", \"orum\", \"is\"],\n",
    "\n",
    "\"third_m_1\" : [\"es\", \"itis\", \"iti\", \"ite\", \"ites\", \"itibus\", \"itum\"],\n",
    "\"third_m_2\" : [\"ix\", \"icis\", \"icem\", \"ici\", \"ice\", \"ices\", \"icibus\", \"icum\"],\n",
    "\"third_m_3\" : [\"ex\", \"icis\", \"icem\", \"ici\", \"ice\", \"ices\", \"icibus\", \"icum\"],\n",
    "\"third_m_4\" : [\"o\", \"onis\", \"onem\", \"oni\", \"one\", \"ones\", \"onibus\", \"onum\"],\n",
    "\"third_m_5a\" : [\"or\", \"oris\", \"orem\", \"ori\", \"ore\", \"ores\", \"oribus\", \"orum\"],\n",
    "\"third_m_5b\" : [\"ur\", \"uris\", \"urem\", \"uri\", \"ure\", \"ures\", \"uribus\", \"urum\"],\n",
    "\"third_m_6\" : [\"n\", \"nis\", \"nem\", \"ni\", \"ne\", \"nes\", \"nibus\", \"num\"],\n",
    "\"third_m_7a\" : [\"ensis\", \"ensis\", \"ensem\", \"ensi\", \"ense\", \"enses\", \"ensibus\", \"ensum\", \"ensium\"],\n",
    "\"third_m_7b\" : [\"esis\", \"esis\", \"esem\", \"esi\", \"ese\", \"eses\", \"esibus\", \"esum\", \"esium\"],\n",
    "\"third_m_8\" : [\"er\", \"eris\", \"erem\", \"eri\", \"ere\", \"eres\", \"eribus\", \"erum\", \"erium\"],\n",
    "\"third_m_9\" : [\"eps\", \"ipis\", \"ipem\", \"ipi\", \"ipe\", \"ipes\", \"ipibus\", \"ipum\"],\n",
    "\"third_m_10\" : [\"ans\", \"antis\", \"antem\", \"ante\", \"antes\", \"antium\", \"antum\", \"antibus\"],\n",
    "\"third_m_11\" : [\"er\", \"ineris\", \"ineri\", \"inere\", \"inera\", \"inerum\", \"ineribus\"],\n",
    "\"third_m_12\" : [\"ut\", \"itis\", \"iti\", \"ite\", \"ita\", \"itibus\", \"itum\"],\n",
    "\"third_m_13\" : [\"us\", \"oris\", \"ori\", \"ore\", \"ora\", \"orum\", \"oribus\"],\n",
    "    \n",
    "\"third_f_1\" : [\"as\", \"adis\", \"adi\", \"ade\", \"ades\", \"adum\", \"adium\", \"adibus\"],\n",
    "\"third_f_2\" : [\"as\", \"atis\", \"ati\", \"atem\", \"ate\", \"ates\", \"atum\", \"atibus\"],\n",
    "\n",
    "\"third_mix_1\" : [\"is\", \"is\", \"i\", \"em\", \"e\", \"es\", \"ium\", \"um\", \"ibus\"],\n",
    "\"third_mix_2\" : [\"ns\", \"ntis\", \"nti\", \"ntem\", \"nte\", \"ntes\", \"ntium\", \"ntum\", \"ntibus\"],\n",
    "    \n",
    "\"fourth_us\" : [\"us\", \"us\", \"ui\", \"um\", \"u\", \"uum\", \"ibus\"]\n",
    "}"
   ]
  },
  {
   "cell_type": "code",
   "execution_count": 7,
   "metadata": {},
   "outputs": [
    {
     "data": {
      "text/plain": [
       "[('exactor auri argenti et aeris', 'oris', 'exactor'),\n",
       " ('inclusor auri et gemmarum', 'oris', 'inclusor'),\n",
       " ('tesserarius lignarius', 'i', 'tesserarius'),\n",
       " ('refector pectinarius', 'oris', 'refector'),\n",
       " ('instructor parietum', 'oris', 'instructor')]"
      ]
     },
     "execution_count": 7,
     "metadata": {},
     "output_type": "execute_result"
    }
   ],
   "source": [
    "occup_tups = sorted(occup_tups, key = lambda x: len(x[0]), reverse=True)\n",
    "occup_tups[:5]"
   ]
  },
  {
   "cell_type": "code",
   "execution_count": 8,
   "metadata": {},
   "outputs": [],
   "source": [
    "def decline(nom_sg, ending):\n",
    "    possible_decs = []\n",
    "    for dec in decs.keys(): \n",
    "        if ending == decs[dec][1]:\n",
    "            possible_decs.append(dec)\n",
    "    for pos_dec in possible_decs:\n",
    "        nom_end = decs[pos_dec][0]\n",
    "        if re.match(\"\\w+\" + nom_end + \"$\", nom_sg):\n",
    "            root = re.split(nom_end + \"$\", nom_sg)[0]\n",
    "            all_morphs = list(set([str(root) + end for end in decs[pos_dec]])) # unique forms\n",
    "            break\n",
    "    try:\n",
    "        return all_morphs\n",
    "    except:\n",
    "        print(\"declining unsuccesful: \" + nom_sg, ending)\n",
    "        return [nom_sg] \n",
    "occups_declined = []\n",
    "for occup_tup in occup_tups:\n",
    "    if re.match(\"\\w+\\s\\w+\", occup_tup[0]):\n",
    "        all_morphs = [occup_tup[0].replace(str(occup_tup[2]), morph) for morph in decline(occup_tup[2], occup_tup[1])] \n",
    "    else:\n",
    "        all_morphs = decline(occup_tup[0], occup_tup[1])\n",
    "    occups_declined.append([str(occup_tup[0]), all_morphs])"
   ]
  },
  {
   "cell_type": "code",
   "execution_count": 9,
   "metadata": {},
   "outputs": [],
   "source": [
    "occups_declined_dict = dict(occups_declined)"
   ]
  },
  {
   "cell_type": "code",
   "execution_count": 10,
   "metadata": {},
   "outputs": [],
   "source": [
    "with open(\"../data/occups_declined_dict.json\", \"w\") as fp:\n",
    "    json.dump(occups_declined_dict, fp, indent=4)"
   ]
  },
  {
   "cell_type": "code",
   "execution_count": 31,
   "metadata": {},
   "outputs": [],
   "source": [
    "#uncomment for export to google sheets:\n",
    "occups_declined_df = pd.DataFrame(occups_declined)\n",
    "set_with_dataframe(occupations.add_worksheet(\"occupations_decl\", 1, 1), occups_declined_df)"
   ]
  }
 ],
 "metadata": {
  "colab": {
   "authorship_tag": "ABX9TyOKWnvxv3tTbNERCRAysPtc",
   "include_colab_link": true,
   "name": "WORKING_WITH_CLEANED_TEXTS.ipynb",
   "provenance": []
  },
  "hide_input": false,
  "kernelspec": {
   "display_name": "socdiv_venv",
   "language": "python",
   "name": "socdiv_venv"
  },
  "language_info": {
   "codemirror_mode": {
    "name": "ipython",
    "version": 3
   },
   "file_extension": ".py",
   "mimetype": "text/x-python",
   "name": "python",
   "nbconvert_exporter": "python",
   "pygments_lexer": "ipython3",
   "version": "3.6.9"
  },
  "toc": {
   "base_numbering": 1,
   "nav_menu": {},
   "number_sections": true,
   "sideBar": true,
   "skip_h1_title": false,
   "title_cell": "Table of Contents",
   "title_sidebar": "Contents",
   "toc_cell": false,
   "toc_position": {},
   "toc_section_display": true,
   "toc_window_display": false
  },
  "varInspector": {
   "cols": {
    "lenName": 16,
    "lenType": 16,
    "lenVar": 40
   },
   "kernels_config": {
    "python": {
     "delete_cmd_postfix": "",
     "delete_cmd_prefix": "del ",
     "library": "var_list.py",
     "varRefreshCmd": "print(var_dic_list())"
    },
    "r": {
     "delete_cmd_postfix": ") ",
     "delete_cmd_prefix": "rm(",
     "library": "var_list.r",
     "varRefreshCmd": "cat(var_dic_list()) "
    }
   },
   "types_to_exclude": [
    "module",
    "function",
    "builtin_function_or_method",
    "instance",
    "_Feature"
   ],
   "window_display": false
  }
 },
 "nbformat": 4,
 "nbformat_minor": 1
}
