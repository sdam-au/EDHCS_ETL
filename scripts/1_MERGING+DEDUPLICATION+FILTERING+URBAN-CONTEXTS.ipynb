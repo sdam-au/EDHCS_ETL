{
 "cells": [
  {
   "cell_type": "markdown",
   "metadata": {},
   "source": [
    "# Requirements"
   ]
  },
  {
   "cell_type": "code",
   "execution_count": null,
   "metadata": {
    "pycharm": {
     "is_executing": true
    }
   },
   "outputs": [],
   "source": [
    "import sddk\n",
    "import pandas as pd\n",
    "import requests\n",
    "pd.options.display.max_columns = 1000 # to see all columns\n",
    "import json\n",
    "import re\n",
    "import nltk\n",
    "import warnings\n",
    "import pickle\n",
    "from functools import partial\n",
    "warnings.filterwarnings('ignore')\n",
    "import numpy as np\n",
    "import matplotlib.pyplot as plt\n",
    "import math\n",
    "import sys\n",
    "sys.setrecursionlimit(1000000)\n",
    "from bs4 import BeautifulSoup"
   ]
  },
  {
   "cell_type": "code",
   "execution_count": 2,
   "outputs": [],
   "source": [
    "import pyproj\n",
    "from shapely.ops import transform\n",
    "from shapely.geometry import Point\n",
    "import geopandas as gpd\n",
    "from scipy.spatial import cKDTree\n",
    "#import geoplot as gplt\n",
    "from pyproj import Geod\n",
    "from shapely.geometry import LineString"
   ],
   "metadata": {
    "collapsed": false
   }
  },
  {
   "cell_type": "markdown",
   "metadata": {},
   "source": [
    "# Import datasets"
   ]
  },
  {
   "cell_type": "code",
   "execution_count": 3,
   "metadata": {},
   "outputs": [],
   "source": [
    "# read edh dataset\n",
    "try: #\n",
    "    EDH = pd.read_json(\"../../EDH_ETL_repo/data/large_data/EDH_text_cleaned_2022-11-03.json\") # or replace by your own local path to the latest version of EDH\n",
    "except:\n",
    "    publicfolder = \"b6b6afdb969d378b70929e86e58ad975\"\n",
    "    EDH = sddk.read_file(\"EDH_text_cleaned_2022-11-03.json\", \"df\", publicfolder)"
   ]
  },
  {
   "cell_type": "code",
   "execution_count": 4,
   "outputs": [
    {
     "data": {
      "text/plain": "(81883, 69)"
     },
     "execution_count": 4,
     "metadata": {},
     "output_type": "execute_result"
    }
   ],
   "source": [
    "EDH.shape # previously we had (81476, 74)"
   ],
   "metadata": {
    "collapsed": false
   }
  },
  {
   "cell_type": "code",
   "execution_count": 7,
   "metadata": {},
   "outputs": [],
   "source": [
    "# read edcs dataset\n",
    "try:\n",
    "    EDCS = pd.read_json(\"../data/large_data/EDCS_text_cleaned_2022-09-12.json\") # or replace by your own local path to the latest version of EDCS\n",
    "except:\n",
    "    publicfolder = \"1f5f56d09903fe259c0906add8b3a55e\"\n",
    "    EDCS = sddk.read_file(\"EDCS_text_cleaned_2022-09-12.json\", \"df\", publicfolder)\n",
    "    EDCS.to_json(\"../data/large_data/EDCS_text_cleaned_2022-09-12.json\")"
   ]
  },
  {
   "cell_type": "code",
   "execution_count": 8,
   "outputs": [
    {
     "data": {
      "text/plain": "(537262, 27)"
     },
     "execution_count": 8,
     "metadata": {},
     "output_type": "execute_result"
    }
   ],
   "source": [
    "EDCS.shape"
   ],
   "metadata": {
    "collapsed": false
   }
  },
  {
   "cell_type": "code",
   "execution_count": 9,
   "outputs": [
    {
     "data": {
      "text/plain": "         EDCS-ID                                        publication province  \\\n0  EDCS-31400030                                      CIL 03, 12297   Achaia   \n1  EDCS-24700151  CIL 01, 02650 (p 1097) = IG-05-01, 00741 = ILL...   Achaia   \n2  EDCS-24900077  CIL 01, 00746 (p 944) = D 00867 = ILLRP 00374 ...   Achaia   \n3  EDCS-03700724  ZPE-108-159 = Thesprotia 00001 = AE 1993, 0140...   Achaia   \n4  EDCS-55701593                                    AE 2009, 01286a   Achaia   \n\n                           place  \\\n0                              ?   \n1                         Afesou   \n2  Agia Triada / Merbaka / Midea   \n3     Agios Athanasios / Photike   \n4        Agios Donatos / Photike   \n\n                                         inscription  \\\n0                                              Leius   \n1  Δέκιος Λείβιος (Ζ)εῦξις // D(ecimi) Leivei D(e...   \n2  Q(uinto) Caecilio C(ai) f(ilio) Metel(l)o / im...   \n3  Fortissimo et Piis/simo Caesari d(omino) n(ost...   \n4                                  Cn(aeus) Atei(us)   \n\n                   inscription_conservative_cleaning  \\\n0                                              Leius   \n1       Δέκιος Λείβιος εῦξις D Leivei D Leivei salve   \n2  Q Caecilio C f Metelo imperatori Italici quei ...   \n3  Fortissimo et Piissimo Caesari d n Gal Val P F...   \n4                                            Cn Atei   \n\n                   inscription_interpretive_cleaning            inscr_type  \\\n0                                              Leius                    {}   \n1  Δέκιος Λείβιος Ζεῦξις Decimi Leivei Decimi Lei...    tituli sepulcrales   \n2  Quinto Caecilio Cai filio Metello imperatori I...      tituli honorarii   \n3  Fortissimo et Piissimo Caesari domino nostro G...      tituli honorarii   \n4                                      Cnaeus Ateius  tituli fabricationis   \n\n                                     status_notation     inscr_process  \\\n0                                                 {}                {}   \n1                         [praenomen et nomen, viri]                {}   \n2  [officium/professio, ordo senatorius, tria nom...                {}   \n3     [Augusti/Augustae, ordo equester, tria nomina]   litterae erasae   \n4                         [praenomen et nomen, viri]  sigilla impressa   \n\n                             clean_text_conservative  \\\n0                                              Leius   \n1       Δέκιος Λείβιος εῦξις D Leivei D Leivei salve   \n2  Q Caecilio C f Metelo imperatori Italici quei ...   \n3  Fortissimo et Piissimo Caesari d n Gal Val P F...   \n4                                            Cn Atei   \n\n                        clean_text_interpretive_word  \\\n0                                              Leius   \n1  Δέκιος Λείβιος Ζεῦξις Decimi Leivei Decimi Lei...   \n2  Quinto Caecilio Cai filio Metello imperatori I...   \n3  Fortissimo et Piissimo Caesari domino nostro G...   \n4                                      Cnaeus Ateius   \n\n                                              status       material  \\\n0                                               None           None   \n1     praenomen et nomen;  tituli sepulcrales;  viri          lapis   \n2  officium/professio;  ordo senatorius;  tituli ...           None   \n3  Augusti/Augustae;  litterae erasae;  ordo eque...           None   \n4  praenomen et nomen;  sigilla impressa;  tituli...  opus figlinae   \n\n                                        partner_link  dating_from  dating_to  \\\n0                                               None          NaN        NaN   \n1  http://db.edcs.eu/epigr/partner.php?s_language...          NaN        NaN   \n2  http://db.edcs.eu/epigr/partner.php?s_language...        -68.0      -68.0   \n3  http://db.edcs.eu/epigr/partner.php?s_language...        309.0      313.0   \n4                                               None          NaN        NaN   \n\n   date_not_before  date_not_after   latitude  longitude  \\\n0              NaN             NaN        NaN        NaN   \n1              NaN             NaN        NaN        NaN   \n2            -68.0           -68.0  37.638113  22.805299   \n3            309.0           313.0  39.451218  20.766767   \n4              NaN             NaN  39.475976  20.506908   \n\n                                               photo  raw_dating language  \\\n0                                               None        None     None   \n1                                               None        None     None   \n2  http://db.edcs.eu/epigr/bilder.php?bilder.php?...  -68 to -68     None   \n3  http://db.edcs.eu/epigr/bilder.php?bilder.php?...  309 to 313     None   \n4                                               None        None     None   \n\n  comment extra_text extra_html  \n0    None       None       None  \n1    None       None       None  \n2    None       None       None  \n3    None       None       None  \n4    None       None       None  ",
      "text/html": "<div>\n<style scoped>\n    .dataframe tbody tr th:only-of-type {\n        vertical-align: middle;\n    }\n\n    .dataframe tbody tr th {\n        vertical-align: top;\n    }\n\n    .dataframe thead th {\n        text-align: right;\n    }\n</style>\n<table border=\"1\" class=\"dataframe\">\n  <thead>\n    <tr style=\"text-align: right;\">\n      <th></th>\n      <th>EDCS-ID</th>\n      <th>publication</th>\n      <th>province</th>\n      <th>place</th>\n      <th>inscription</th>\n      <th>inscription_conservative_cleaning</th>\n      <th>inscription_interpretive_cleaning</th>\n      <th>inscr_type</th>\n      <th>status_notation</th>\n      <th>inscr_process</th>\n      <th>clean_text_conservative</th>\n      <th>clean_text_interpretive_word</th>\n      <th>status</th>\n      <th>material</th>\n      <th>partner_link</th>\n      <th>dating_from</th>\n      <th>dating_to</th>\n      <th>date_not_before</th>\n      <th>date_not_after</th>\n      <th>latitude</th>\n      <th>longitude</th>\n      <th>photo</th>\n      <th>raw_dating</th>\n      <th>language</th>\n      <th>comment</th>\n      <th>extra_text</th>\n      <th>extra_html</th>\n    </tr>\n  </thead>\n  <tbody>\n    <tr>\n      <th>0</th>\n      <td>EDCS-31400030</td>\n      <td>CIL 03, 12297</td>\n      <td>Achaia</td>\n      <td>?</td>\n      <td>Leius</td>\n      <td>Leius</td>\n      <td>Leius</td>\n      <td>{}</td>\n      <td>{}</td>\n      <td>{}</td>\n      <td>Leius</td>\n      <td>Leius</td>\n      <td>None</td>\n      <td>None</td>\n      <td>None</td>\n      <td>NaN</td>\n      <td>NaN</td>\n      <td>NaN</td>\n      <td>NaN</td>\n      <td>NaN</td>\n      <td>NaN</td>\n      <td>None</td>\n      <td>None</td>\n      <td>None</td>\n      <td>None</td>\n      <td>None</td>\n      <td>None</td>\n    </tr>\n    <tr>\n      <th>1</th>\n      <td>EDCS-24700151</td>\n      <td>CIL 01, 02650 (p 1097) = IG-05-01, 00741 = ILL...</td>\n      <td>Achaia</td>\n      <td>Afesou</td>\n      <td>Δέκιος Λείβιος (Ζ)εῦξις // D(ecimi) Leivei D(e...</td>\n      <td>Δέκιος Λείβιος εῦξις D Leivei D Leivei salve</td>\n      <td>Δέκιος Λείβιος Ζεῦξις Decimi Leivei Decimi Lei...</td>\n      <td>tituli sepulcrales</td>\n      <td>[praenomen et nomen, viri]</td>\n      <td>{}</td>\n      <td>Δέκιος Λείβιος εῦξις D Leivei D Leivei salve</td>\n      <td>Δέκιος Λείβιος Ζεῦξις Decimi Leivei Decimi Lei...</td>\n      <td>praenomen et nomen;  tituli sepulcrales;  viri</td>\n      <td>lapis</td>\n      <td>http://db.edcs.eu/epigr/partner.php?s_language...</td>\n      <td>NaN</td>\n      <td>NaN</td>\n      <td>NaN</td>\n      <td>NaN</td>\n      <td>NaN</td>\n      <td>NaN</td>\n      <td>None</td>\n      <td>None</td>\n      <td>None</td>\n      <td>None</td>\n      <td>None</td>\n      <td>None</td>\n    </tr>\n    <tr>\n      <th>2</th>\n      <td>EDCS-24900077</td>\n      <td>CIL 01, 00746 (p 944) = D 00867 = ILLRP 00374 ...</td>\n      <td>Achaia</td>\n      <td>Agia Triada / Merbaka / Midea</td>\n      <td>Q(uinto) Caecilio C(ai) f(ilio) Metel(l)o / im...</td>\n      <td>Q Caecilio C f Metelo imperatori Italici quei ...</td>\n      <td>Quinto Caecilio Cai filio Metello imperatori I...</td>\n      <td>tituli honorarii</td>\n      <td>[officium/professio, ordo senatorius, tria nom...</td>\n      <td>{}</td>\n      <td>Q Caecilio C f Metelo imperatori Italici quei ...</td>\n      <td>Quinto Caecilio Cai filio Metello imperatori I...</td>\n      <td>officium/professio;  ordo senatorius;  tituli ...</td>\n      <td>None</td>\n      <td>http://db.edcs.eu/epigr/partner.php?s_language...</td>\n      <td>-68.0</td>\n      <td>-68.0</td>\n      <td>-68.0</td>\n      <td>-68.0</td>\n      <td>37.638113</td>\n      <td>22.805299</td>\n      <td>http://db.edcs.eu/epigr/bilder.php?bilder.php?...</td>\n      <td>-68 to -68</td>\n      <td>None</td>\n      <td>None</td>\n      <td>None</td>\n      <td>None</td>\n    </tr>\n    <tr>\n      <th>3</th>\n      <td>EDCS-03700724</td>\n      <td>ZPE-108-159 = Thesprotia 00001 = AE 1993, 0140...</td>\n      <td>Achaia</td>\n      <td>Agios Athanasios / Photike</td>\n      <td>Fortissimo et Piis/simo Caesari d(omino) n(ost...</td>\n      <td>Fortissimo et Piissimo Caesari d n Gal Val P F...</td>\n      <td>Fortissimo et Piissimo Caesari domino nostro G...</td>\n      <td>tituli honorarii</td>\n      <td>[Augusti/Augustae, ordo equester, tria nomina]</td>\n      <td>litterae erasae</td>\n      <td>Fortissimo et Piissimo Caesari d n Gal Val P F...</td>\n      <td>Fortissimo et Piissimo Caesari domino nostro G...</td>\n      <td>Augusti/Augustae;  litterae erasae;  ordo eque...</td>\n      <td>None</td>\n      <td>http://db.edcs.eu/epigr/partner.php?s_language...</td>\n      <td>309.0</td>\n      <td>313.0</td>\n      <td>309.0</td>\n      <td>313.0</td>\n      <td>39.451218</td>\n      <td>20.766767</td>\n      <td>http://db.edcs.eu/epigr/bilder.php?bilder.php?...</td>\n      <td>309 to 313</td>\n      <td>None</td>\n      <td>None</td>\n      <td>None</td>\n      <td>None</td>\n    </tr>\n    <tr>\n      <th>4</th>\n      <td>EDCS-55701593</td>\n      <td>AE 2009, 01286a</td>\n      <td>Achaia</td>\n      <td>Agios Donatos / Photike</td>\n      <td>Cn(aeus) Atei(us)</td>\n      <td>Cn Atei</td>\n      <td>Cnaeus Ateius</td>\n      <td>tituli fabricationis</td>\n      <td>[praenomen et nomen, viri]</td>\n      <td>sigilla impressa</td>\n      <td>Cn Atei</td>\n      <td>Cnaeus Ateius</td>\n      <td>praenomen et nomen;  sigilla impressa;  tituli...</td>\n      <td>opus figlinae</td>\n      <td>None</td>\n      <td>NaN</td>\n      <td>NaN</td>\n      <td>NaN</td>\n      <td>NaN</td>\n      <td>39.475976</td>\n      <td>20.506908</td>\n      <td>None</td>\n      <td>None</td>\n      <td>None</td>\n      <td>None</td>\n      <td>None</td>\n      <td>None</td>\n    </tr>\n  </tbody>\n</table>\n</div>"
     },
     "execution_count": 9,
     "metadata": {},
     "output_type": "execute_result"
    }
   ],
   "source": [
    "EDCS.head()"
   ],
   "metadata": {
    "collapsed": false
   }
  },
  {
   "cell_type": "code",
   "execution_count": 10,
   "outputs": [],
   "source": [
    "# replace empty dicts and Nones by np.non\n",
    "def clean_empty(el):\n",
    "    if isinstance(el,dict):\n",
    "        if ~bool(el):\n",
    "            el = np.nan\n",
    "    elif el == None: #(el == np.nan) | (el == math.nan) | (str(el)==\"NaN\"):\n",
    "        el = np.nan\n",
    "    else:\n",
    "        el = el\n",
    "    return el\n",
    "for col in EDCS.columns:\n",
    "    clean_col = EDCS[col].apply(clean_empty)\n",
    "    EDCS[col] = clean_col\n",
    "\n",
    "for col in EDH.columns:\n",
    "    clean_col = EDH[col].apply(clean_empty)\n",
    "    EDH[col] = clean_col"
   ],
   "metadata": {
    "collapsed": false
   }
  },
  {
   "cell_type": "code",
   "execution_count": 11,
   "outputs": [
    {
     "data": {
      "text/plain": "         EDCS-ID                                        publication province  \\\n0  EDCS-31400030                                      CIL 03, 12297   Achaia   \n1  EDCS-24700151  CIL 01, 02650 (p 1097) = IG-05-01, 00741 = ILL...   Achaia   \n2  EDCS-24900077  CIL 01, 00746 (p 944) = D 00867 = ILLRP 00374 ...   Achaia   \n3  EDCS-03700724  ZPE-108-159 = Thesprotia 00001 = AE 1993, 0140...   Achaia   \n4  EDCS-55701593                                    AE 2009, 01286a   Achaia   \n\n                           place  \\\n0                              ?   \n1                         Afesou   \n2  Agia Triada / Merbaka / Midea   \n3     Agios Athanasios / Photike   \n4        Agios Donatos / Photike   \n\n                                         inscription  \\\n0                                              Leius   \n1  Δέκιος Λείβιος (Ζ)εῦξις // D(ecimi) Leivei D(e...   \n2  Q(uinto) Caecilio C(ai) f(ilio) Metel(l)o / im...   \n3  Fortissimo et Piis/simo Caesari d(omino) n(ost...   \n4                                  Cn(aeus) Atei(us)   \n\n                   inscription_conservative_cleaning  \\\n0                                              Leius   \n1       Δέκιος Λείβιος εῦξις D Leivei D Leivei salve   \n2  Q Caecilio C f Metelo imperatori Italici quei ...   \n3  Fortissimo et Piissimo Caesari d n Gal Val P F...   \n4                                            Cn Atei   \n\n                   inscription_interpretive_cleaning            inscr_type  \\\n0                                              Leius                   NaN   \n1  Δέκιος Λείβιος Ζεῦξις Decimi Leivei Decimi Lei...    tituli sepulcrales   \n2  Quinto Caecilio Cai filio Metello imperatori I...      tituli honorarii   \n3  Fortissimo et Piissimo Caesari domino nostro G...      tituli honorarii   \n4                                      Cnaeus Ateius  tituli fabricationis   \n\n                                     status_notation     inscr_process  \\\n0                                                NaN               NaN   \n1                         [praenomen et nomen, viri]               NaN   \n2  [officium/professio, ordo senatorius, tria nom...               NaN   \n3     [Augusti/Augustae, ordo equester, tria nomina]   litterae erasae   \n4                         [praenomen et nomen, viri]  sigilla impressa   \n\n                             clean_text_conservative  \\\n0                                              Leius   \n1       Δέκιος Λείβιος εῦξις D Leivei D Leivei salve   \n2  Q Caecilio C f Metelo imperatori Italici quei ...   \n3  Fortissimo et Piissimo Caesari d n Gal Val P F...   \n4                                            Cn Atei   \n\n                        clean_text_interpretive_word  \\\n0                                              Leius   \n1  Δέκιος Λείβιος Ζεῦξις Decimi Leivei Decimi Lei...   \n2  Quinto Caecilio Cai filio Metello imperatori I...   \n3  Fortissimo et Piissimo Caesari domino nostro G...   \n4                                      Cnaeus Ateius   \n\n                                              status       material  \\\n0                                                NaN            NaN   \n1     praenomen et nomen;  tituli sepulcrales;  viri          lapis   \n2  officium/professio;  ordo senatorius;  tituli ...            NaN   \n3  Augusti/Augustae;  litterae erasae;  ordo eque...            NaN   \n4  praenomen et nomen;  sigilla impressa;  tituli...  opus figlinae   \n\n                                        partner_link  dating_from  dating_to  \\\n0                                                NaN          NaN        NaN   \n1  http://db.edcs.eu/epigr/partner.php?s_language...          NaN        NaN   \n2  http://db.edcs.eu/epigr/partner.php?s_language...        -68.0      -68.0   \n3  http://db.edcs.eu/epigr/partner.php?s_language...        309.0      313.0   \n4                                                NaN          NaN        NaN   \n\n   date_not_before  date_not_after   latitude  longitude  \\\n0              NaN             NaN        NaN        NaN   \n1              NaN             NaN        NaN        NaN   \n2            -68.0           -68.0  37.638113  22.805299   \n3            309.0           313.0  39.451218  20.766767   \n4              NaN             NaN  39.475976  20.506908   \n\n                                               photo  raw_dating language  \\\n0                                                NaN         NaN      NaN   \n1                                                NaN         NaN      NaN   \n2  http://db.edcs.eu/epigr/bilder.php?bilder.php?...  -68 to -68      NaN   \n3  http://db.edcs.eu/epigr/bilder.php?bilder.php?...  309 to 313      NaN   \n4                                                NaN         NaN      NaN   \n\n  comment extra_text extra_html  \n0     NaN        NaN        NaN  \n1     NaN        NaN        NaN  \n2     NaN        NaN        NaN  \n3     NaN        NaN        NaN  \n4     NaN        NaN        NaN  ",
      "text/html": "<div>\n<style scoped>\n    .dataframe tbody tr th:only-of-type {\n        vertical-align: middle;\n    }\n\n    .dataframe tbody tr th {\n        vertical-align: top;\n    }\n\n    .dataframe thead th {\n        text-align: right;\n    }\n</style>\n<table border=\"1\" class=\"dataframe\">\n  <thead>\n    <tr style=\"text-align: right;\">\n      <th></th>\n      <th>EDCS-ID</th>\n      <th>publication</th>\n      <th>province</th>\n      <th>place</th>\n      <th>inscription</th>\n      <th>inscription_conservative_cleaning</th>\n      <th>inscription_interpretive_cleaning</th>\n      <th>inscr_type</th>\n      <th>status_notation</th>\n      <th>inscr_process</th>\n      <th>clean_text_conservative</th>\n      <th>clean_text_interpretive_word</th>\n      <th>status</th>\n      <th>material</th>\n      <th>partner_link</th>\n      <th>dating_from</th>\n      <th>dating_to</th>\n      <th>date_not_before</th>\n      <th>date_not_after</th>\n      <th>latitude</th>\n      <th>longitude</th>\n      <th>photo</th>\n      <th>raw_dating</th>\n      <th>language</th>\n      <th>comment</th>\n      <th>extra_text</th>\n      <th>extra_html</th>\n    </tr>\n  </thead>\n  <tbody>\n    <tr>\n      <th>0</th>\n      <td>EDCS-31400030</td>\n      <td>CIL 03, 12297</td>\n      <td>Achaia</td>\n      <td>?</td>\n      <td>Leius</td>\n      <td>Leius</td>\n      <td>Leius</td>\n      <td>NaN</td>\n      <td>NaN</td>\n      <td>NaN</td>\n      <td>Leius</td>\n      <td>Leius</td>\n      <td>NaN</td>\n      <td>NaN</td>\n      <td>NaN</td>\n      <td>NaN</td>\n      <td>NaN</td>\n      <td>NaN</td>\n      <td>NaN</td>\n      <td>NaN</td>\n      <td>NaN</td>\n      <td>NaN</td>\n      <td>NaN</td>\n      <td>NaN</td>\n      <td>NaN</td>\n      <td>NaN</td>\n      <td>NaN</td>\n    </tr>\n    <tr>\n      <th>1</th>\n      <td>EDCS-24700151</td>\n      <td>CIL 01, 02650 (p 1097) = IG-05-01, 00741 = ILL...</td>\n      <td>Achaia</td>\n      <td>Afesou</td>\n      <td>Δέκιος Λείβιος (Ζ)εῦξις // D(ecimi) Leivei D(e...</td>\n      <td>Δέκιος Λείβιος εῦξις D Leivei D Leivei salve</td>\n      <td>Δέκιος Λείβιος Ζεῦξις Decimi Leivei Decimi Lei...</td>\n      <td>tituli sepulcrales</td>\n      <td>[praenomen et nomen, viri]</td>\n      <td>NaN</td>\n      <td>Δέκιος Λείβιος εῦξις D Leivei D Leivei salve</td>\n      <td>Δέκιος Λείβιος Ζεῦξις Decimi Leivei Decimi Lei...</td>\n      <td>praenomen et nomen;  tituli sepulcrales;  viri</td>\n      <td>lapis</td>\n      <td>http://db.edcs.eu/epigr/partner.php?s_language...</td>\n      <td>NaN</td>\n      <td>NaN</td>\n      <td>NaN</td>\n      <td>NaN</td>\n      <td>NaN</td>\n      <td>NaN</td>\n      <td>NaN</td>\n      <td>NaN</td>\n      <td>NaN</td>\n      <td>NaN</td>\n      <td>NaN</td>\n      <td>NaN</td>\n    </tr>\n    <tr>\n      <th>2</th>\n      <td>EDCS-24900077</td>\n      <td>CIL 01, 00746 (p 944) = D 00867 = ILLRP 00374 ...</td>\n      <td>Achaia</td>\n      <td>Agia Triada / Merbaka / Midea</td>\n      <td>Q(uinto) Caecilio C(ai) f(ilio) Metel(l)o / im...</td>\n      <td>Q Caecilio C f Metelo imperatori Italici quei ...</td>\n      <td>Quinto Caecilio Cai filio Metello imperatori I...</td>\n      <td>tituli honorarii</td>\n      <td>[officium/professio, ordo senatorius, tria nom...</td>\n      <td>NaN</td>\n      <td>Q Caecilio C f Metelo imperatori Italici quei ...</td>\n      <td>Quinto Caecilio Cai filio Metello imperatori I...</td>\n      <td>officium/professio;  ordo senatorius;  tituli ...</td>\n      <td>NaN</td>\n      <td>http://db.edcs.eu/epigr/partner.php?s_language...</td>\n      <td>-68.0</td>\n      <td>-68.0</td>\n      <td>-68.0</td>\n      <td>-68.0</td>\n      <td>37.638113</td>\n      <td>22.805299</td>\n      <td>http://db.edcs.eu/epigr/bilder.php?bilder.php?...</td>\n      <td>-68 to -68</td>\n      <td>NaN</td>\n      <td>NaN</td>\n      <td>NaN</td>\n      <td>NaN</td>\n    </tr>\n    <tr>\n      <th>3</th>\n      <td>EDCS-03700724</td>\n      <td>ZPE-108-159 = Thesprotia 00001 = AE 1993, 0140...</td>\n      <td>Achaia</td>\n      <td>Agios Athanasios / Photike</td>\n      <td>Fortissimo et Piis/simo Caesari d(omino) n(ost...</td>\n      <td>Fortissimo et Piissimo Caesari d n Gal Val P F...</td>\n      <td>Fortissimo et Piissimo Caesari domino nostro G...</td>\n      <td>tituli honorarii</td>\n      <td>[Augusti/Augustae, ordo equester, tria nomina]</td>\n      <td>litterae erasae</td>\n      <td>Fortissimo et Piissimo Caesari d n Gal Val P F...</td>\n      <td>Fortissimo et Piissimo Caesari domino nostro G...</td>\n      <td>Augusti/Augustae;  litterae erasae;  ordo eque...</td>\n      <td>NaN</td>\n      <td>http://db.edcs.eu/epigr/partner.php?s_language...</td>\n      <td>309.0</td>\n      <td>313.0</td>\n      <td>309.0</td>\n      <td>313.0</td>\n      <td>39.451218</td>\n      <td>20.766767</td>\n      <td>http://db.edcs.eu/epigr/bilder.php?bilder.php?...</td>\n      <td>309 to 313</td>\n      <td>NaN</td>\n      <td>NaN</td>\n      <td>NaN</td>\n      <td>NaN</td>\n    </tr>\n    <tr>\n      <th>4</th>\n      <td>EDCS-55701593</td>\n      <td>AE 2009, 01286a</td>\n      <td>Achaia</td>\n      <td>Agios Donatos / Photike</td>\n      <td>Cn(aeus) Atei(us)</td>\n      <td>Cn Atei</td>\n      <td>Cnaeus Ateius</td>\n      <td>tituli fabricationis</td>\n      <td>[praenomen et nomen, viri]</td>\n      <td>sigilla impressa</td>\n      <td>Cn Atei</td>\n      <td>Cnaeus Ateius</td>\n      <td>praenomen et nomen;  sigilla impressa;  tituli...</td>\n      <td>opus figlinae</td>\n      <td>NaN</td>\n      <td>NaN</td>\n      <td>NaN</td>\n      <td>NaN</td>\n      <td>NaN</td>\n      <td>39.475976</td>\n      <td>20.506908</td>\n      <td>NaN</td>\n      <td>NaN</td>\n      <td>NaN</td>\n      <td>NaN</td>\n      <td>NaN</td>\n      <td>NaN</td>\n    </tr>\n  </tbody>\n</table>\n</div>"
     },
     "execution_count": 11,
     "metadata": {},
     "output_type": "execute_result"
    }
   ],
   "source": [
    "EDCS.head(5)"
   ],
   "metadata": {
    "collapsed": false
   }
  },
  {
   "cell_type": "code",
   "execution_count": 12,
   "metadata": {},
   "outputs": [
    {
     "name": "stdout",
     "output_type": "stream",
     "text": [
      "81883\n",
      "537262\n"
     ]
    }
   ],
   "source": [
    "# length of the original dataset\n",
    "print(len(EDH))\n",
    "print(len(EDCS))"
   ]
  },
  {
   "cell_type": "code",
   "execution_count": 13,
   "outputs": [],
   "source": [
    "EDCS.rename(columns={\"longitude\": \"Longitude\", \"latitude\": \"Latitude\"}, inplace=True)"
   ],
   "metadata": {
    "collapsed": false
   }
  },
  {
   "cell_type": "code",
   "execution_count": 14,
   "metadata": {},
   "outputs": [
    {
     "data": {
      "text/plain": "523136"
     },
     "execution_count": 14,
     "metadata": {},
     "output_type": "execute_result"
    }
   ],
   "source": [
    "len(EDCS[EDCS[\"Longitude\"].notnull()])"
   ]
  },
  {
   "cell_type": "code",
   "execution_count": 15,
   "outputs": [
    {
     "data": {
      "text/plain": "              EDCS-ID                     publication  \\\n63047   EDCS-56100644                   CAG-12, p 483   \n142693  EDCS-46600456             CIL 11, 06700,204rr   \n177003  EDCS-64202934            CIL 13, 10010,0276ee   \n509483  EDCS-78500085  AE 1933, 00223 = SEG-07, 00332   \n49295   EDCS-28801213                SupIt-20, 00030h   \n\n                             province  \\\n63047                    Aquitani(c)a   \n142693            Etruria / Regio VII   \n177003    Belgica | Germania inferior   \n509483                          Syria   \n49295   Apulia et Calabria / Regio II   \n\n                                                    place  \\\n63047                                   Rodez / Segodunum   \n142693                       Arezzo / Arretium / Adretium   \n177003            Tongeren / Tongres / Tongern / Atuatuca   \n509483  Qual'at as-Salhiyah / Qalat al-Salihiyah / Dur...   \n49295                                    Venosa / Venusia   \n\n                                              inscription  \\\n63047                                 Of(ficina) Mascl(i)   \n142693                                P(ubli) COr(n)e(l)i   \n177003                                              Bassi   \n509483  Ἰουλίαν Δόμναν / Αὐγοῦσταν τὴν μητέρα / συνκλή...   \n49295                                                 ]I[   \n\n                        inscription_conservative_cleaning  \\\n63047                                            Of Mascl   \n142693                                            P COrei   \n177003                                              Bassi   \n509483  Ἰουλίαν Δόμναν Αὐγοῦσταν τὴν μητέρα συνκλήτου ...   \n49295                                                   I   \n\n                        inscription_interpretive_cleaning  \\\n63047                                     Officina Mascli   \n142693                                      Publi COrneli   \n177003                                              Bassi   \n509483  Ἰουλίαν Δόμναν Αὐγοῦσταν τὴν μητέρα συνκλήτου ...   \n49295                                                   I   \n\n                  inscr_type                        status_notation  \\\n63047   tituli fabricationis                                    NaN   \n142693  tituli fabricationis                                    NaN   \n177003  tituli fabricationis                                    NaN   \n509483      tituli honorarii  [Augusti/Augustae, milites, mulieres]   \n49295                    NaN                                    NaN   \n\n           inscr_process                            clean_text_conservative  \\\n63047   sigilla impressa                                           Of Mascl   \n142693  sigilla impressa                                            P COrei   \n177003  sigilla impressa                                              Bassi   \n509483               NaN  Ἰουλίαν Δόμναν Αὐγοῦσταν τὴν μητέρα συνκλήτου ...   \n49295                NaN                                                  I   \n\n                             clean_text_interpretive_word  \\\n63047                                     Officina Mascli   \n142693                                      Publi COrneli   \n177003                                              Bassi   \n509483  Ἰουλίαν Δόμναν Αὐγοῦσταν τὴν μητέρα συνκλήτου ...   \n49295                                                   I   \n\n                                                   status       material  \\\n63047             sigilla impressa;  tituli fabricationis  opus figlinae   \n142693            sigilla impressa;  tituli fabricationis  opus figlinae   \n177003            sigilla impressa;  tituli fabricationis  opus figlinae   \n509483  Augusti/Augustae;  milites;  mulieres;  tituli...          lapis   \n49295                                                 NaN            NaN   \n\n                                             partner_link  dating_from  \\\n63047                                                 NaN          NaN   \n142693                                                NaN          NaN   \n177003                                                NaN          NaN   \n509483  http://db.edcs.eu/epigr/partner.php?s_language...        215.0   \n49295   http://db.edcs.eu/epigr/partner.php?s_language...        -80.0   \n\n        dating_to  date_not_before  date_not_after   Latitude  Longitude  \\\n63047         NaN              NaN             NaN  44.351306   2.572788   \n142693        NaN              NaN             NaN  43.462896  11.878167   \n177003        NaN              NaN             NaN  50.780627   5.463917   \n509483      217.0            215.0           217.0  34.747701  40.730462   \n49295        30.0            -80.0            30.0  40.961323  15.814863   \n\n                                                    photo  raw_dating  \\\n63047                                                 NaN         NaN   \n142693                                                NaN         NaN   \n177003                                                NaN         NaN   \n509483                                                NaN  215 to 217   \n49295   http://db.edcs.eu/epigr/bilder.php?bilder.php?...   -80 to 30   \n\n       language comment extra_text extra_html  \n63047       NaN     NaN        NaN        NaN  \n142693      NaN     NaN        NaN        NaN  \n177003      NaN     NaN        NaN        NaN  \n509483      NaN     NaN        NaN        NaN  \n49295       NaN     NaN        NaN        NaN  ",
      "text/html": "<div>\n<style scoped>\n    .dataframe tbody tr th:only-of-type {\n        vertical-align: middle;\n    }\n\n    .dataframe tbody tr th {\n        vertical-align: top;\n    }\n\n    .dataframe thead th {\n        text-align: right;\n    }\n</style>\n<table border=\"1\" class=\"dataframe\">\n  <thead>\n    <tr style=\"text-align: right;\">\n      <th></th>\n      <th>EDCS-ID</th>\n      <th>publication</th>\n      <th>province</th>\n      <th>place</th>\n      <th>inscription</th>\n      <th>inscription_conservative_cleaning</th>\n      <th>inscription_interpretive_cleaning</th>\n      <th>inscr_type</th>\n      <th>status_notation</th>\n      <th>inscr_process</th>\n      <th>clean_text_conservative</th>\n      <th>clean_text_interpretive_word</th>\n      <th>status</th>\n      <th>material</th>\n      <th>partner_link</th>\n      <th>dating_from</th>\n      <th>dating_to</th>\n      <th>date_not_before</th>\n      <th>date_not_after</th>\n      <th>Latitude</th>\n      <th>Longitude</th>\n      <th>photo</th>\n      <th>raw_dating</th>\n      <th>language</th>\n      <th>comment</th>\n      <th>extra_text</th>\n      <th>extra_html</th>\n    </tr>\n  </thead>\n  <tbody>\n    <tr>\n      <th>63047</th>\n      <td>EDCS-56100644</td>\n      <td>CAG-12, p 483</td>\n      <td>Aquitani(c)a</td>\n      <td>Rodez / Segodunum</td>\n      <td>Of(ficina) Mascl(i)</td>\n      <td>Of Mascl</td>\n      <td>Officina Mascli</td>\n      <td>tituli fabricationis</td>\n      <td>NaN</td>\n      <td>sigilla impressa</td>\n      <td>Of Mascl</td>\n      <td>Officina Mascli</td>\n      <td>sigilla impressa;  tituli fabricationis</td>\n      <td>opus figlinae</td>\n      <td>NaN</td>\n      <td>NaN</td>\n      <td>NaN</td>\n      <td>NaN</td>\n      <td>NaN</td>\n      <td>44.351306</td>\n      <td>2.572788</td>\n      <td>NaN</td>\n      <td>NaN</td>\n      <td>NaN</td>\n      <td>NaN</td>\n      <td>NaN</td>\n      <td>NaN</td>\n    </tr>\n    <tr>\n      <th>142693</th>\n      <td>EDCS-46600456</td>\n      <td>CIL 11, 06700,204rr</td>\n      <td>Etruria / Regio VII</td>\n      <td>Arezzo / Arretium / Adretium</td>\n      <td>P(ubli) COr(n)e(l)i</td>\n      <td>P COrei</td>\n      <td>Publi COrneli</td>\n      <td>tituli fabricationis</td>\n      <td>NaN</td>\n      <td>sigilla impressa</td>\n      <td>P COrei</td>\n      <td>Publi COrneli</td>\n      <td>sigilla impressa;  tituli fabricationis</td>\n      <td>opus figlinae</td>\n      <td>NaN</td>\n      <td>NaN</td>\n      <td>NaN</td>\n      <td>NaN</td>\n      <td>NaN</td>\n      <td>43.462896</td>\n      <td>11.878167</td>\n      <td>NaN</td>\n      <td>NaN</td>\n      <td>NaN</td>\n      <td>NaN</td>\n      <td>NaN</td>\n      <td>NaN</td>\n    </tr>\n    <tr>\n      <th>177003</th>\n      <td>EDCS-64202934</td>\n      <td>CIL 13, 10010,0276ee</td>\n      <td>Belgica | Germania inferior</td>\n      <td>Tongeren / Tongres / Tongern / Atuatuca</td>\n      <td>Bassi</td>\n      <td>Bassi</td>\n      <td>Bassi</td>\n      <td>tituli fabricationis</td>\n      <td>NaN</td>\n      <td>sigilla impressa</td>\n      <td>Bassi</td>\n      <td>Bassi</td>\n      <td>sigilla impressa;  tituli fabricationis</td>\n      <td>opus figlinae</td>\n      <td>NaN</td>\n      <td>NaN</td>\n      <td>NaN</td>\n      <td>NaN</td>\n      <td>NaN</td>\n      <td>50.780627</td>\n      <td>5.463917</td>\n      <td>NaN</td>\n      <td>NaN</td>\n      <td>NaN</td>\n      <td>NaN</td>\n      <td>NaN</td>\n      <td>NaN</td>\n    </tr>\n    <tr>\n      <th>509483</th>\n      <td>EDCS-78500085</td>\n      <td>AE 1933, 00223 = SEG-07, 00332</td>\n      <td>Syria</td>\n      <td>Qual'at as-Salhiyah / Qalat al-Salihiyah / Dur...</td>\n      <td>Ἰουλίαν Δόμναν / Αὐγοῦσταν τὴν μητέρα / συνκλή...</td>\n      <td>Ἰουλίαν Δόμναν Αὐγοῦσταν τὴν μητέρα συνκλήτου ...</td>\n      <td>Ἰουλίαν Δόμναν Αὐγοῦσταν τὴν μητέρα συνκλήτου ...</td>\n      <td>tituli honorarii</td>\n      <td>[Augusti/Augustae, milites, mulieres]</td>\n      <td>NaN</td>\n      <td>Ἰουλίαν Δόμναν Αὐγοῦσταν τὴν μητέρα συνκλήτου ...</td>\n      <td>Ἰουλίαν Δόμναν Αὐγοῦσταν τὴν μητέρα συνκλήτου ...</td>\n      <td>Augusti/Augustae;  milites;  mulieres;  tituli...</td>\n      <td>lapis</td>\n      <td>http://db.edcs.eu/epigr/partner.php?s_language...</td>\n      <td>215.0</td>\n      <td>217.0</td>\n      <td>215.0</td>\n      <td>217.0</td>\n      <td>34.747701</td>\n      <td>40.730462</td>\n      <td>NaN</td>\n      <td>215 to 217</td>\n      <td>NaN</td>\n      <td>NaN</td>\n      <td>NaN</td>\n      <td>NaN</td>\n    </tr>\n    <tr>\n      <th>49295</th>\n      <td>EDCS-28801213</td>\n      <td>SupIt-20, 00030h</td>\n      <td>Apulia et Calabria / Regio II</td>\n      <td>Venosa / Venusia</td>\n      <td>]I[</td>\n      <td>I</td>\n      <td>I</td>\n      <td>NaN</td>\n      <td>NaN</td>\n      <td>NaN</td>\n      <td>I</td>\n      <td>I</td>\n      <td>NaN</td>\n      <td>NaN</td>\n      <td>http://db.edcs.eu/epigr/partner.php?s_language...</td>\n      <td>-80.0</td>\n      <td>30.0</td>\n      <td>-80.0</td>\n      <td>30.0</td>\n      <td>40.961323</td>\n      <td>15.814863</td>\n      <td>http://db.edcs.eu/epigr/bilder.php?bilder.php?...</td>\n      <td>-80 to 30</td>\n      <td>NaN</td>\n      <td>NaN</td>\n      <td>NaN</td>\n      <td>NaN</td>\n    </tr>\n  </tbody>\n</table>\n</div>"
     },
     "execution_count": 15,
     "metadata": {},
     "output_type": "execute_result"
    }
   ],
   "source": [
    "EDCS_sample = EDCS.sample(1000)\n",
    "EDCS_sample.head(5)"
   ],
   "metadata": {
    "collapsed": false
   }
  },
  {
   "cell_type": "code",
   "execution_count": 36,
   "outputs": [],
   "source": [
    "#EDCS_sample.to_json(\"../data/EDCS_sample.json\", orient=\"columns\")"
   ],
   "metadata": {
    "collapsed": false
   }
  },
  {
   "cell_type": "markdown",
   "metadata": {},
   "source": [
    "# Get EDH-ID from EDCS \"Links\" column"
   ]
  },
  {
   "cell_type": "code",
   "execution_count": 16,
   "outputs": [
    {
     "data": {
      "text/plain": "76763"
     },
     "execution_count": 16,
     "metadata": {},
     "output_type": "execute_result"
    }
   ],
   "source": [
    "len([re.search(\"HD\\d+\", str(el))[0] for el in EDCS[\"partner_link\"].tolist() if re.search(\"HD\\d+\", str(el))])"
   ],
   "metadata": {
    "collapsed": false
   }
  },
  {
   "cell_type": "code",
   "execution_count": 17,
   "outputs": [],
   "source": [
    "def get_edh_id(partner_link):\n",
    "    try:\n",
    "        if re.search(\"HD\\d+\", str(partner_link)):\n",
    "            edh_id = re.search(\"HD\\d+\", str(partner_link))[0]\n",
    "        else:\n",
    "            edh_id = None\n",
    "    except:\n",
    "        edh_id = None\n",
    "    return edh_id\n",
    "EDCS[\"EDH-ID\"] = EDCS[\"partner_link\"].apply(get_edh_id)"
   ],
   "metadata": {
    "collapsed": false
   }
  },
  {
   "cell_type": "code",
   "execution_count": 18,
   "outputs": [
    {
     "data": {
      "text/plain": "76763"
     },
     "execution_count": 18,
     "metadata": {},
     "output_type": "execute_result"
    }
   ],
   "source": [
    "EDCS[\"EDH-ID\"].notnull().sum()"
   ],
   "metadata": {
    "collapsed": false
   }
  },
  {
   "cell_type": "code",
   "execution_count": 19,
   "outputs": [
    {
     "data": {
      "text/plain": "75557"
     },
     "execution_count": 19,
     "metadata": {},
     "output_type": "execute_result"
    }
   ],
   "source": [
    "# unique EDH\n",
    "len(set(EDCS[\"EDH-ID\"]))"
   ],
   "metadata": {
    "collapsed": false
   }
  },
  {
   "cell_type": "code",
   "execution_count": 20,
   "metadata": {},
   "outputs": [
    {
     "name": "stdout",
     "output_type": "stream",
     "text": [
      "['HD014206', 'HD054375', 'HD058418', 'HD055364', 'HD072957', 'HD077200', 'HD051937', 'HD046837', 'HD066834', 'HD048755']\n"
     ]
    }
   ],
   "source": [
    "edh_ids = list(set([el for el in EDCS[\"EDH-ID\"].tolist() if el != None]))\n",
    "print(edh_ids[:10])"
   ]
  },
  {
   "cell_type": "code",
   "execution_count": 21,
   "metadata": {},
   "outputs": [
    {
     "data": {
      "text/plain": "92.27312140493143"
     },
     "execution_count": 21,
     "metadata": {},
     "output_type": "execute_result"
    }
   ],
   "source": [
    "# percents covered: \n",
    "len(edh_ids) / len(EDH) * 100"
   ]
  },
  {
   "cell_type": "code",
   "execution_count": 22,
   "metadata": {},
   "outputs": [
    {
     "data": {
      "text/plain": "6834"
     },
     "execution_count": 22,
     "metadata": {},
     "output_type": "execute_result"
    }
   ],
   "source": [
    "# inscriptions which are not explicitly refered to in EDCS\n",
    "EDH.rename(columns={\"id\":\"EDH-ID\"}, inplace=True)\n",
    "EDH_unique = EDH[~EDH[\"EDH-ID\"].isin(edh_ids)]\n",
    "len(EDH_unique) # previously we had 8450"
   ]
  },
  {
   "cell_type": "markdown",
   "metadata": {},
   "source": [
    "what about these?\n",
    "\n",
    "# Get EDH-ID from trismegistos API\n",
    "\n",
    "EDH standardly includes references to trismegistos. The trismegistos URI api enables queries for EDCS-ID. We will use this extract EDCS-IDs of additional inscriptions in EDCS which are in EDH  "
   ]
  },
  {
   "cell_type": "code",
   "execution_count": 23,
   "metadata": {},
   "outputs": [],
   "source": [
    "def get_edcs(trismegistos_uri):\n",
    "    try:\n",
    "        url = \"https://www.trismegistos.org/dataservices/texrelations/{}\".format(trismegistos_uri.rpartition(\"/\")[2])\n",
    "        resp = requests.get(url)\n",
    "        edcs_ids = resp.json()[3][\"EDCS\"]\n",
    "        return edcs_ids\n",
    "    except: \n",
    "        return None"
   ]
  },
  {
   "cell_type": "code",
   "execution_count": null,
   "metadata": {
    "scrolled": true,
    "pycharm": {
     "is_executing": true
    }
   },
   "outputs": [],
   "source": [
    "%%time\n",
    "# takes time, so use it carefully, or use data from the previous run below\n",
    "EDH_unique[\"edcs_ids\"] = EDH_unique[\"trismegistos_uri\"].apply(get_edcs)"
   ]
  },
  {
   "cell_type": "code",
   "execution_count": null,
   "outputs": [],
   "source": [
    "EDH_unique"
   ],
   "metadata": {
    "collapsed": false,
    "pycharm": {
     "is_executing": true
    }
   }
  },
  {
   "cell_type": "code",
   "execution_count": null,
   "metadata": {
    "pycharm": {
     "is_executing": true
    }
   },
   "outputs": [],
   "source": [
    "edcs_to_edh_dict = {}\n",
    "for edh_id, edcs_ids in zip(EDH_unique[\"EDH-ID\"], EDH_unique[\"edcs_ids\"]):\n",
    "    try:\n",
    "        for edcs_id in edcs_ids:\n",
    "            edcs_to_edh_dict[\"EDCS-\" + edcs_id] = edh_id\n",
    "    except:\n",
    "        pass"
   ]
  },
  {
   "cell_type": "code",
   "execution_count": 34,
   "metadata": {},
   "outputs": [],
   "source": [
    "# save for future usage\n",
    "with open(\"../data/edcs_to_edh_dict.json\", \"w\") as f:\n",
    "    json.dump(edcs_to_edh_dict, f)"
   ]
  },
  {
   "cell_type": "code",
   "execution_count": 24,
   "metadata": {},
   "outputs": [],
   "source": [
    "# upload the previously identified pairs\n",
    "with open(\"../data/edcs_to_edh_dict.json\", \"r\") as f:\n",
    "    edcs_to_edh_dict = json.load(f)"
   ]
  },
  {
   "cell_type": "code",
   "execution_count": 25,
   "metadata": {},
   "outputs": [
    {
     "data": {
      "text/plain": "76763"
     },
     "execution_count": 25,
     "metadata": {},
     "output_type": "execute_result"
    }
   ],
   "source": [
    "len(EDCS[EDCS[\"EDH-ID\"].notnull()])"
   ]
  },
  {
   "cell_type": "code",
   "execution_count": 26,
   "metadata": {},
   "outputs": [],
   "source": [
    "def get_edh_id_trismegistos(row):\n",
    "    edh_id = row[\"EDH-ID\"]\n",
    "    if row[\"EDH-ID\"] == None:\n",
    "        if row[\"EDCS-ID\"] in edcs_to_edh_dict.keys():\n",
    "            edh_id = edcs_to_edh_dict[row[\"EDCS-ID\"]]  \n",
    "    return edh_id"
   ]
  },
  {
   "cell_type": "code",
   "execution_count": 27,
   "metadata": {},
   "outputs": [],
   "source": [
    "EDCS[\"EDH-ID\"] = EDCS.apply(lambda row: get_edh_id_trismegistos(row), axis=1)"
   ]
  },
  {
   "cell_type": "code",
   "execution_count": 28,
   "metadata": {},
   "outputs": [
    {
     "data": {
      "text/plain": "          EDCS-ID                                        publication province  \\\n1   EDCS-24700151  CIL 01, 02650 (p 1097) = IG-05-01, 00741 = ILL...   Achaia   \n2   EDCS-24900077  CIL 01, 00746 (p 944) = D 00867 = ILLRP 00374 ...   Achaia   \n3   EDCS-03700724  ZPE-108-159 = Thesprotia 00001 = AE 1993, 0140...   Achaia   \n9   EDCS-66200107                                     AE 2008, 01264   Achaia   \n10  EDCS-13800065  CIL 01, 02955 = ILLRP 00370 (p 327) = ILGR 000...   Achaia   \n11  EDCS-66200108                   SEG-49, 00495a = AE 2008, 01265a   Achaia   \n12  EDCS-66200109                   SEG-49, 00495b = AE 2008, 01265b   Achaia   \n17  EDCS-03300852                                     AE 1995, 01409   Achaia   \n18  EDCS-66200178                                     AE 2009, 01314   Achaia   \n19  EDCS-28500283  CIL 03, 07251 = D 00214 = NDIEC-07, p 81 = AE ...   Achaia   \n\n                             place  \\\n1                           Afesou   \n2    Agia Triada / Merbaka / Midea   \n3       Agios Athanasios / Photike   \n9   Aigio / Egio / Aiyion / Aegeum   \n10  Aigio / Egio / Aiyion / Aegeum   \n11  Aigio / Egio / Aiyion / Aegeum   \n12  Aigio / Egio / Aiyion / Aegeum   \n17                    Alea / Tegea   \n18                    Alea / Tegea   \n19                    Alea / Tegea   \n\n                                          inscription  \\\n1   Δέκιος Λείβιος (Ζ)εῦξις // D(ecimi) Leivei D(e...   \n2   Q(uinto) Caecilio C(ai) f(ilio) Metel(l)o / im...   \n3   Fortissimo et Piis/simo Caesari d(omino) n(ost...   \n9   [3]ν τὸν λαμ/[πρότατον ὑπατικ]όν Ἄππιος Κυ/[3 ...   \n10  Italicei / quei Aegei negotiantur / P(ublium) ...   \n11  ἐπὶ Τιβ(ερίου) / Κλαυδί/ου Φρον/τείνου / Νεικη...   \n12  ἐπὶ Τιβ(ερίου) / Κλαυδίου / Φροντείνου / Νεικη...   \n17  Imp(eratori) / Floriano / P(io) F(elici) Aug(u...   \n18  Τοῦ σεπτοῦ τούτου τεμένος ἐν ἱερεῦσιν / ἐννεακ...   \n19  T[(iberius)] Claudius Caesar Aug(ustus) / G[er...   \n\n                    inscription_conservative_cleaning  \\\n1        Δέκιος Λείβιος εῦξις D Leivei D Leivei salve   \n2   Q Caecilio C f Metelo imperatori Italici quei ...   \n3   Fortissimo et Piissimo Caesari d n Gal Val P F...   \n9                        ν τὸν λαμ όν Ἄππιος Κυ τρωνα   \n10  Italicei quei Aegei negotiantur P Rutilium P f...   \n11  ἐπὶ Τιβ Κλαυδίου Φροντείνου Νεικηράτου ταμίου ...   \n12  ἐπὶ Τιβ Κλαυδίου Φροντείνου Νεικηράτου ταμίου ...   \n17  Imp Floriano P F Aug p p m p III Imp Caes M Au...   \n18  Τοῦ σεπτοῦ τούτου τεμένος ἐν ἱερεῦσιν ἐννεακαι...   \n19  T Claudius Caesar Aug G anicus pontif max trib...   \n\n                    inscription_interpretive_cleaning  \\\n1   Δέκιος Λείβιος Ζεῦξις Decimi Leivei Decimi Lei...   \n2   Quinto Caecilio Cai filio Metello imperatori I...   \n3   Fortissimo et Piissimo Caesari domino nostro G...   \n9   ν τὸν λαμπρότατον ὑπατικόν Ἄππιος Κυ τὸν ἑαυτο...   \n10  Italicei quei Aegei negotiantur Publium Rutili...   \n11  ἐπὶ Τιβερίου Κλαυδίου Φροντείνου Νεικηράτου τα...   \n12  ἐπὶ Τιβερίου Κλαυδίου Φροντείνου Νεικηράτου τα...   \n17  Imperatori Floriano Pio Felici Augusto patri p...   \n18  Τοῦ σεπτοῦ τούτου τεμένος ἐν ἱερεῦσιν ἐννεακαι...   \n19  Tiberius Claudius Caesar Augustus Germanicus p...   \n\n                       inscr_type  \\\n1              tituli sepulcrales   \n2                tituli honorarii   \n3                tituli honorarii   \n9                             NaN   \n10               tituli honorarii   \n11                            NaN   \n12                            NaN   \n17                       miliaria   \n18  [tituli operum, tituli sacri]   \n19                          leges   \n\n                                      status_notation    inscr_process  \\\n1                          [praenomen et nomen, viri]              NaN   \n2   [officium/professio, ordo senatorius, tria nom...              NaN   \n3      [Augusti/Augustae, ordo equester, tria nomina]  litterae erasae   \n9                                                 NaN              NaN   \n10  [officium/professio, ordo senatorius, tria nom...              NaN   \n11                                                NaN              NaN   \n12                                                NaN              NaN   \n17                           [Augusti/Augustae, viri]              NaN   \n18                                               viri              NaN   \n19                           [Augusti/Augustae, viri]              NaN   \n\n                              clean_text_conservative  \\\n1        Δέκιος Λείβιος εῦξις D Leivei D Leivei salve   \n2   Q Caecilio C f Metelo imperatori Italici quei ...   \n3   Fortissimo et Piissimo Caesari d n Gal Val P F...   \n9                        ν τὸν λαμ όν Ἄππιος Κυ τρωνα   \n10  Italicei quei Aegei negotiantur P Rutilium P f...   \n11  ἐπὶ Τιβ Κλαυδίου Φροντείνου Νεικηράτου ταμίου ...   \n12  ἐπὶ Τιβ Κλαυδίου Φροντείνου Νεικηράτου ταμίου ...   \n17  Imp Floriano P F Aug p p m p III Imp Caes M Au...   \n18  Τοῦ σεπτοῦ τούτου τεμένος ἐν ἱερεῦσιν ἐννεακαι...   \n19  T Claudius Caesar Aug G anicus pontif max trib...   \n\n                         clean_text_interpretive_word  \\\n1   Δέκιος Λείβιος Ζεῦξις Decimi Leivei Decimi Lei...   \n2   Quinto Caecilio Cai filio Metello imperatori I...   \n3   Fortissimo et Piissimo Caesari domino nostro G...   \n9   ν τὸν λαμπρότατον ὑπατικόν Ἄππιος Κυ τὸν ἑαυτο...   \n10  Italicei quei Aegei negotiantur Publium Rutili...   \n11  ἐπὶ Τιβερίου Κλαυδίου Φροντείνου Νεικηράτου τα...   \n12  ἐπὶ Τιβερίου Κλαυδίου Φροντείνου Νεικηράτου τα...   \n17  Imperatori Floriano Pio Felici Augusto patri p...   \n18  Τοῦ σεπτοῦ τούτου τεμένος ἐν ἱερεῦσιν ἐννεακαι...   \n19  Tiberius Claudius Caesar Augustus Germanicus p...   \n\n                                               status material  \\\n1      praenomen et nomen;  tituli sepulcrales;  viri    lapis   \n2   officium/professio;  ordo senatorius;  tituli ...      NaN   \n3   Augusti/Augustae;  litterae erasae;  ordo eque...      NaN   \n9                                                 NaN    lapis   \n10  officium/professio;  ordo senatorius;  tituli ...    lapis   \n11                                                NaN      aes   \n12                                                NaN      aes   \n17                 Augusti/Augustae;  miliaria;  viri    lapis   \n18                tituli operum;  tituli sacri;  viri    lapis   \n19                    Augusti/Augustae;  leges;  viri    lapis   \n\n                                         partner_link  dating_from  dating_to  \\\n1   http://db.edcs.eu/epigr/partner.php?s_language...          NaN        NaN   \n2   http://db.edcs.eu/epigr/partner.php?s_language...        -68.0      -68.0   \n3   http://db.edcs.eu/epigr/partner.php?s_language...        309.0      313.0   \n9   http://db.edcs.eu/epigr/partner.php?s_language...        151.0      250.0   \n10  http://db.edcs.eu/epigr/partner.php?s_language...        -74.0      -74.0   \n11  http://db.edcs.eu/epigr/partner.php?s_language...          NaN        NaN   \n12  http://db.edcs.eu/epigr/partner.php?s_language...          NaN        NaN   \n17  http://db.edcs.eu/epigr/partner.php?s_language...        276.0      276.0   \n18  http://db.edcs.eu/epigr/partner.php?s_language...        527.0      565.0   \n19  http://db.edcs.eu/epigr/partner.php?s_language...         49.0       50.0   \n\n    date_not_before  date_not_after   Latitude  Longitude  \\\n1               NaN             NaN        NaN        NaN   \n2             -68.0           -68.0  37.638113  22.805299   \n3             309.0           313.0  39.451218  20.766767   \n9             151.0           250.0  38.250714  22.085822   \n10            -74.0           -74.0  38.250714  22.085822   \n11              NaN             NaN  38.250714  22.085822   \n12              NaN             NaN  38.250714  22.085822   \n17            276.0           282.0  37.454501  22.420877   \n18            527.0           565.0  37.454501  22.420877   \n19             49.0            50.0  37.454501  22.420877   \n\n                                                photo  \\\n1                                                 NaN   \n2   http://db.edcs.eu/epigr/bilder.php?bilder.php?...   \n3   http://db.edcs.eu/epigr/bilder.php?bilder.php?...   \n9                                                 NaN   \n10                                                NaN   \n11                                                NaN   \n12                                                NaN   \n17                                                NaN   \n18                                                NaN   \n19                                                NaN   \n\n                          raw_dating language comment extra_text extra_html  \\\n1                                NaN      NaN     NaN        NaN        NaN   \n2                         -68 to -68      NaN     NaN        NaN        NaN   \n3                         309 to 313      NaN     NaN        NaN        NaN   \n9                         151 to 250      NaN     NaN        NaN        NaN   \n10                        -74 to -74      NaN     NaN        NaN        NaN   \n11                               NaN      NaN     NaN        NaN        NaN   \n12                               NaN      NaN     NaN        NaN        NaN   \n17  a:  276 to 276;   b:  276 to 282      NaN     NaN        NaN        NaN   \n18                        527 to 565      NaN     NaN        NaN        NaN   \n19                          49 to 50      NaN     NaN        NaN        NaN   \n\n      EDH-ID  \n1   HD057726  \n2   HD056163  \n3   HD052964  \n9   HD067316  \n10  HD017714  \n11  HD068315  \n12  HD068319  \n17  HD051000  \n18  HD068216  \n19  HD021396  ",
      "text/html": "<div>\n<style scoped>\n    .dataframe tbody tr th:only-of-type {\n        vertical-align: middle;\n    }\n\n    .dataframe tbody tr th {\n        vertical-align: top;\n    }\n\n    .dataframe thead th {\n        text-align: right;\n    }\n</style>\n<table border=\"1\" class=\"dataframe\">\n  <thead>\n    <tr style=\"text-align: right;\">\n      <th></th>\n      <th>EDCS-ID</th>\n      <th>publication</th>\n      <th>province</th>\n      <th>place</th>\n      <th>inscription</th>\n      <th>inscription_conservative_cleaning</th>\n      <th>inscription_interpretive_cleaning</th>\n      <th>inscr_type</th>\n      <th>status_notation</th>\n      <th>inscr_process</th>\n      <th>clean_text_conservative</th>\n      <th>clean_text_interpretive_word</th>\n      <th>status</th>\n      <th>material</th>\n      <th>partner_link</th>\n      <th>dating_from</th>\n      <th>dating_to</th>\n      <th>date_not_before</th>\n      <th>date_not_after</th>\n      <th>Latitude</th>\n      <th>Longitude</th>\n      <th>photo</th>\n      <th>raw_dating</th>\n      <th>language</th>\n      <th>comment</th>\n      <th>extra_text</th>\n      <th>extra_html</th>\n      <th>EDH-ID</th>\n    </tr>\n  </thead>\n  <tbody>\n    <tr>\n      <th>1</th>\n      <td>EDCS-24700151</td>\n      <td>CIL 01, 02650 (p 1097) = IG-05-01, 00741 = ILL...</td>\n      <td>Achaia</td>\n      <td>Afesou</td>\n      <td>Δέκιος Λείβιος (Ζ)εῦξις // D(ecimi) Leivei D(e...</td>\n      <td>Δέκιος Λείβιος εῦξις D Leivei D Leivei salve</td>\n      <td>Δέκιος Λείβιος Ζεῦξις Decimi Leivei Decimi Lei...</td>\n      <td>tituli sepulcrales</td>\n      <td>[praenomen et nomen, viri]</td>\n      <td>NaN</td>\n      <td>Δέκιος Λείβιος εῦξις D Leivei D Leivei salve</td>\n      <td>Δέκιος Λείβιος Ζεῦξις Decimi Leivei Decimi Lei...</td>\n      <td>praenomen et nomen;  tituli sepulcrales;  viri</td>\n      <td>lapis</td>\n      <td>http://db.edcs.eu/epigr/partner.php?s_language...</td>\n      <td>NaN</td>\n      <td>NaN</td>\n      <td>NaN</td>\n      <td>NaN</td>\n      <td>NaN</td>\n      <td>NaN</td>\n      <td>NaN</td>\n      <td>NaN</td>\n      <td>NaN</td>\n      <td>NaN</td>\n      <td>NaN</td>\n      <td>NaN</td>\n      <td>HD057726</td>\n    </tr>\n    <tr>\n      <th>2</th>\n      <td>EDCS-24900077</td>\n      <td>CIL 01, 00746 (p 944) = D 00867 = ILLRP 00374 ...</td>\n      <td>Achaia</td>\n      <td>Agia Triada / Merbaka / Midea</td>\n      <td>Q(uinto) Caecilio C(ai) f(ilio) Metel(l)o / im...</td>\n      <td>Q Caecilio C f Metelo imperatori Italici quei ...</td>\n      <td>Quinto Caecilio Cai filio Metello imperatori I...</td>\n      <td>tituli honorarii</td>\n      <td>[officium/professio, ordo senatorius, tria nom...</td>\n      <td>NaN</td>\n      <td>Q Caecilio C f Metelo imperatori Italici quei ...</td>\n      <td>Quinto Caecilio Cai filio Metello imperatori I...</td>\n      <td>officium/professio;  ordo senatorius;  tituli ...</td>\n      <td>NaN</td>\n      <td>http://db.edcs.eu/epigr/partner.php?s_language...</td>\n      <td>-68.0</td>\n      <td>-68.0</td>\n      <td>-68.0</td>\n      <td>-68.0</td>\n      <td>37.638113</td>\n      <td>22.805299</td>\n      <td>http://db.edcs.eu/epigr/bilder.php?bilder.php?...</td>\n      <td>-68 to -68</td>\n      <td>NaN</td>\n      <td>NaN</td>\n      <td>NaN</td>\n      <td>NaN</td>\n      <td>HD056163</td>\n    </tr>\n    <tr>\n      <th>3</th>\n      <td>EDCS-03700724</td>\n      <td>ZPE-108-159 = Thesprotia 00001 = AE 1993, 0140...</td>\n      <td>Achaia</td>\n      <td>Agios Athanasios / Photike</td>\n      <td>Fortissimo et Piis/simo Caesari d(omino) n(ost...</td>\n      <td>Fortissimo et Piissimo Caesari d n Gal Val P F...</td>\n      <td>Fortissimo et Piissimo Caesari domino nostro G...</td>\n      <td>tituli honorarii</td>\n      <td>[Augusti/Augustae, ordo equester, tria nomina]</td>\n      <td>litterae erasae</td>\n      <td>Fortissimo et Piissimo Caesari d n Gal Val P F...</td>\n      <td>Fortissimo et Piissimo Caesari domino nostro G...</td>\n      <td>Augusti/Augustae;  litterae erasae;  ordo eque...</td>\n      <td>NaN</td>\n      <td>http://db.edcs.eu/epigr/partner.php?s_language...</td>\n      <td>309.0</td>\n      <td>313.0</td>\n      <td>309.0</td>\n      <td>313.0</td>\n      <td>39.451218</td>\n      <td>20.766767</td>\n      <td>http://db.edcs.eu/epigr/bilder.php?bilder.php?...</td>\n      <td>309 to 313</td>\n      <td>NaN</td>\n      <td>NaN</td>\n      <td>NaN</td>\n      <td>NaN</td>\n      <td>HD052964</td>\n    </tr>\n    <tr>\n      <th>9</th>\n      <td>EDCS-66200107</td>\n      <td>AE 2008, 01264</td>\n      <td>Achaia</td>\n      <td>Aigio / Egio / Aiyion / Aegeum</td>\n      <td>[3]ν τὸν λαμ/[πρότατον ὑπατικ]όν Ἄππιος Κυ/[3 ...</td>\n      <td>ν τὸν λαμ όν Ἄππιος Κυ τρωνα</td>\n      <td>ν τὸν λαμπρότατον ὑπατικόν Ἄππιος Κυ τὸν ἑαυτο...</td>\n      <td>NaN</td>\n      <td>NaN</td>\n      <td>NaN</td>\n      <td>ν τὸν λαμ όν Ἄππιος Κυ τρωνα</td>\n      <td>ν τὸν λαμπρότατον ὑπατικόν Ἄππιος Κυ τὸν ἑαυτο...</td>\n      <td>NaN</td>\n      <td>lapis</td>\n      <td>http://db.edcs.eu/epigr/partner.php?s_language...</td>\n      <td>151.0</td>\n      <td>250.0</td>\n      <td>151.0</td>\n      <td>250.0</td>\n      <td>38.250714</td>\n      <td>22.085822</td>\n      <td>NaN</td>\n      <td>151 to 250</td>\n      <td>NaN</td>\n      <td>NaN</td>\n      <td>NaN</td>\n      <td>NaN</td>\n      <td>HD067316</td>\n    </tr>\n    <tr>\n      <th>10</th>\n      <td>EDCS-13800065</td>\n      <td>CIL 01, 02955 = ILLRP 00370 (p 327) = ILGR 000...</td>\n      <td>Achaia</td>\n      <td>Aigio / Egio / Aiyion / Aegeum</td>\n      <td>Italicei / quei Aegei negotiantur / P(ublium) ...</td>\n      <td>Italicei quei Aegei negotiantur P Rutilium P f...</td>\n      <td>Italicei quei Aegei negotiantur Publium Rutili...</td>\n      <td>tituli honorarii</td>\n      <td>[officium/professio, ordo senatorius, tria nom...</td>\n      <td>NaN</td>\n      <td>Italicei quei Aegei negotiantur P Rutilium P f...</td>\n      <td>Italicei quei Aegei negotiantur Publium Rutili...</td>\n      <td>officium/professio;  ordo senatorius;  tituli ...</td>\n      <td>lapis</td>\n      <td>http://db.edcs.eu/epigr/partner.php?s_language...</td>\n      <td>-74.0</td>\n      <td>-74.0</td>\n      <td>-74.0</td>\n      <td>-74.0</td>\n      <td>38.250714</td>\n      <td>22.085822</td>\n      <td>NaN</td>\n      <td>-74 to -74</td>\n      <td>NaN</td>\n      <td>NaN</td>\n      <td>NaN</td>\n      <td>NaN</td>\n      <td>HD017714</td>\n    </tr>\n    <tr>\n      <th>11</th>\n      <td>EDCS-66200108</td>\n      <td>SEG-49, 00495a = AE 2008, 01265a</td>\n      <td>Achaia</td>\n      <td>Aigio / Egio / Aiyion / Aegeum</td>\n      <td>ἐπὶ Τιβ(ερίου) / Κλαυδί/ου Φρον/τείνου / Νεικη...</td>\n      <td>ἐπὶ Τιβ Κλαυδίου Φροντείνου Νεικηράτου ταμίου ...</td>\n      <td>ἐπὶ Τιβερίου Κλαυδίου Φροντείνου Νεικηράτου τα...</td>\n      <td>NaN</td>\n      <td>NaN</td>\n      <td>NaN</td>\n      <td>ἐπὶ Τιβ Κλαυδίου Φροντείνου Νεικηράτου ταμίου ...</td>\n      <td>ἐπὶ Τιβερίου Κλαυδίου Φροντείνου Νεικηράτου τα...</td>\n      <td>NaN</td>\n      <td>aes</td>\n      <td>http://db.edcs.eu/epigr/partner.php?s_language...</td>\n      <td>NaN</td>\n      <td>NaN</td>\n      <td>NaN</td>\n      <td>NaN</td>\n      <td>38.250714</td>\n      <td>22.085822</td>\n      <td>NaN</td>\n      <td>NaN</td>\n      <td>NaN</td>\n      <td>NaN</td>\n      <td>NaN</td>\n      <td>NaN</td>\n      <td>HD068315</td>\n    </tr>\n    <tr>\n      <th>12</th>\n      <td>EDCS-66200109</td>\n      <td>SEG-49, 00495b = AE 2008, 01265b</td>\n      <td>Achaia</td>\n      <td>Aigio / Egio / Aiyion / Aegeum</td>\n      <td>ἐπὶ Τιβ(ερίου) / Κλαυδίου / Φροντείνου / Νεικη...</td>\n      <td>ἐπὶ Τιβ Κλαυδίου Φροντείνου Νεικηράτου ταμίου ...</td>\n      <td>ἐπὶ Τιβερίου Κλαυδίου Φροντείνου Νεικηράτου τα...</td>\n      <td>NaN</td>\n      <td>NaN</td>\n      <td>NaN</td>\n      <td>ἐπὶ Τιβ Κλαυδίου Φροντείνου Νεικηράτου ταμίου ...</td>\n      <td>ἐπὶ Τιβερίου Κλαυδίου Φροντείνου Νεικηράτου τα...</td>\n      <td>NaN</td>\n      <td>aes</td>\n      <td>http://db.edcs.eu/epigr/partner.php?s_language...</td>\n      <td>NaN</td>\n      <td>NaN</td>\n      <td>NaN</td>\n      <td>NaN</td>\n      <td>38.250714</td>\n      <td>22.085822</td>\n      <td>NaN</td>\n      <td>NaN</td>\n      <td>NaN</td>\n      <td>NaN</td>\n      <td>NaN</td>\n      <td>NaN</td>\n      <td>HD068319</td>\n    </tr>\n    <tr>\n      <th>17</th>\n      <td>EDCS-03300852</td>\n      <td>AE 1995, 01409</td>\n      <td>Achaia</td>\n      <td>Alea / Tegea</td>\n      <td>Imp(eratori) / Floriano / P(io) F(elici) Aug(u...</td>\n      <td>Imp Floriano P F Aug p p m p III Imp Caes M Au...</td>\n      <td>Imperatori Floriano Pio Felici Augusto patri p...</td>\n      <td>miliaria</td>\n      <td>[Augusti/Augustae, viri]</td>\n      <td>NaN</td>\n      <td>Imp Floriano P F Aug p p m p III Imp Caes M Au...</td>\n      <td>Imperatori Floriano Pio Felici Augusto patri p...</td>\n      <td>Augusti/Augustae;  miliaria;  viri</td>\n      <td>lapis</td>\n      <td>http://db.edcs.eu/epigr/partner.php?s_language...</td>\n      <td>276.0</td>\n      <td>276.0</td>\n      <td>276.0</td>\n      <td>282.0</td>\n      <td>37.454501</td>\n      <td>22.420877</td>\n      <td>NaN</td>\n      <td>a:  276 to 276;   b:  276 to 282</td>\n      <td>NaN</td>\n      <td>NaN</td>\n      <td>NaN</td>\n      <td>NaN</td>\n      <td>HD051000</td>\n    </tr>\n    <tr>\n      <th>18</th>\n      <td>EDCS-66200178</td>\n      <td>AE 2009, 01314</td>\n      <td>Achaia</td>\n      <td>Alea / Tegea</td>\n      <td>Τοῦ σεπτοῦ τούτου τεμένος ἐν ἱερεῦσιν / ἐννεακ...</td>\n      <td>Τοῦ σεπτοῦ τούτου τεμένος ἐν ἱερεῦσιν ἐννεακαι...</td>\n      <td>Τοῦ σεπτοῦ τούτου τεμένος ἐν ἱερεῦσιν ἐννεακαι...</td>\n      <td>[tituli operum, tituli sacri]</td>\n      <td>viri</td>\n      <td>NaN</td>\n      <td>Τοῦ σεπτοῦ τούτου τεμένος ἐν ἱερεῦσιν ἐννεακαι...</td>\n      <td>Τοῦ σεπτοῦ τούτου τεμένος ἐν ἱερεῦσιν ἐννεακαι...</td>\n      <td>tituli operum;  tituli sacri;  viri</td>\n      <td>lapis</td>\n      <td>http://db.edcs.eu/epigr/partner.php?s_language...</td>\n      <td>527.0</td>\n      <td>565.0</td>\n      <td>527.0</td>\n      <td>565.0</td>\n      <td>37.454501</td>\n      <td>22.420877</td>\n      <td>NaN</td>\n      <td>527 to 565</td>\n      <td>NaN</td>\n      <td>NaN</td>\n      <td>NaN</td>\n      <td>NaN</td>\n      <td>HD068216</td>\n    </tr>\n    <tr>\n      <th>19</th>\n      <td>EDCS-28500283</td>\n      <td>CIL 03, 07251 = D 00214 = NDIEC-07, p 81 = AE ...</td>\n      <td>Achaia</td>\n      <td>Alea / Tegea</td>\n      <td>T[(iberius)] Claudius Caesar Aug(ustus) / G[er...</td>\n      <td>T Claudius Caesar Aug G anicus pontif max trib...</td>\n      <td>Tiberius Claudius Caesar Augustus Germanicus p...</td>\n      <td>leges</td>\n      <td>[Augusti/Augustae, viri]</td>\n      <td>NaN</td>\n      <td>T Claudius Caesar Aug G anicus pontif max trib...</td>\n      <td>Tiberius Claudius Caesar Augustus Germanicus p...</td>\n      <td>Augusti/Augustae;  leges;  viri</td>\n      <td>lapis</td>\n      <td>http://db.edcs.eu/epigr/partner.php?s_language...</td>\n      <td>49.0</td>\n      <td>50.0</td>\n      <td>49.0</td>\n      <td>50.0</td>\n      <td>37.454501</td>\n      <td>22.420877</td>\n      <td>NaN</td>\n      <td>49 to 50</td>\n      <td>NaN</td>\n      <td>NaN</td>\n      <td>NaN</td>\n      <td>NaN</td>\n      <td>HD021396</td>\n    </tr>\n  </tbody>\n</table>\n</div>"
     },
     "execution_count": 28,
     "metadata": {},
     "output_type": "execute_result"
    }
   ],
   "source": [
    "EDCS[EDCS[\"EDH-ID\"].notnull()].head(10)"
   ]
  },
  {
   "cell_type": "code",
   "execution_count": 29,
   "metadata": {},
   "outputs": [
    {
     "data": {
      "text/plain": "80452"
     },
     "execution_count": 29,
     "metadata": {},
     "output_type": "execute_result"
    }
   ],
   "source": [
    "len(EDCS[EDCS[\"EDH-ID\"].notnull()])"
   ]
  },
  {
   "cell_type": "code",
   "execution_count": 30,
   "metadata": {},
   "outputs": [
    {
     "data": {
      "text/plain": "537262"
     },
     "execution_count": 30,
     "metadata": {},
     "output_type": "execute_result"
    }
   ],
   "source": [
    "# actual length of EDCS\n",
    "len(EDCS)"
   ]
  },
  {
   "cell_type": "code",
   "execution_count": 31,
   "outputs": [
    {
     "data": {
      "text/plain": "                         commentary country depth  \\\n56898  (B): Δέκι<μ>ος statt Δέκιος.  Greece   NaN   \n\n                                         diplomatic_text findspot_ancient  \\\n56898  ΔΕΚΙΟΣ ΛΕΙΒΙΟΣ ΞΕΥΞΙΣ / / D LEIVEI D LEIVEI SALVE           Sparta   \n\n      findspot_modern height    EDH-ID language last_update letter_size  \\\n56898          Spárti  35 cm  HD057726       GL  2011-11-14        2 cm   \n\n                                              literature material  \\\n56898  IG 05, 01, 00741. (B) ; ILLRP 0962. ; CIL 01 (...      NaN   \n\n      modern_region  not_after  not_before responsible_individual  \\\n56898  Pelopónissos        NaN         NaN                  Cowey   \n\n                                           transcription  \\\n56898  Δέκιος Λείβιος &lt;Ζ=Ξ&gt;εῦξις // D(eci) Leiv...   \n\n                               trismegistos_uri type_of_inscription  \\\n56898  https://www.trismegistos.org/text/177460             epitaph   \n\n      type_of_monument  width work_status findspot  year_of_find  \\\n56898              NaN  16 cm    no image      NaN           NaN   \n\n      present_location religion  idno_tm  \\\n56898              NaN      NaN      NaN   \n\n                                         placenames_refs  \\\n56898  [{'type': 'province', 'text': 'Achaia'}, {'typ...   \n\n                                            text_edition origdate_text  \\\n56898  \\n \\xce\\x94\\xe1\\xbd\\xb3\\xce\\xba\\xce\\xb9\\xce\\xb...                 \n\n       layout_execution  layout_execution_text support_objecttype  \\\n56898               NaN                    NaN                NaN   \n\n      support_objecttype_text  support_material support_material_text  \\\n56898                     NaN               NaN                   NaN   \n\n       support_decoration  keywords_term keywords_term_text people  \\\n56898              1000.0           92.0            epitaph    NaN   \n\n      province_label pleiades_id  Longitude  Latitude  \\\n56898         Achaia      570685    22.4309   37.0737   \n\n      type_of_inscription_clean type_of_inscription_certainty  height_cm  \\\n56898                   epitaph                       Certain       35.0   \n\n       width_cm  depth_cm material_clean type_of_monument_clean  \\\n56898      16.0       NaN           NULL                   NULL   \n\n      type_of_monument_certainty province_label_clean  \\\n56898                       NULL               Achaia   \n\n      province_label_certainty country_clean country_certainty  \\\n56898                  Certain        Greece           Certain   \n\n      findspot_ancient_clean findspot_ancient_certainty modern_region_clean  \\\n56898                 Sparta                    Certain        Pelopónissos   \n\n      modern_region_certainty findspot_modern_clean findspot_modern_certainty  \\\n56898                 Certain                Spárti                   Certain   \n\n      findspot_clean findspot_certainty origdate_text_clean  \\\n56898           NULL               NULL                       \n\n                                 clean_text_conservative  \\\n56898  Δέκιος Λείβιος lt Ξ gt εῦξις D Leivei D Leivei...   \n\n                            clean_text_interpretive_word  \\\n56898  Δέκιος Λείβιος lt Ζ gt εῦξις Deci Leivei Deci ...   \n\n                        clean_text_interpretive_sentence  \n56898  Δέκιος Λείβιος lt;Ζ gt;εῦξις Deci Leivei Deci ...  ",
      "text/html": "<div>\n<style scoped>\n    .dataframe tbody tr th:only-of-type {\n        vertical-align: middle;\n    }\n\n    .dataframe tbody tr th {\n        vertical-align: top;\n    }\n\n    .dataframe thead th {\n        text-align: right;\n    }\n</style>\n<table border=\"1\" class=\"dataframe\">\n  <thead>\n    <tr style=\"text-align: right;\">\n      <th></th>\n      <th>commentary</th>\n      <th>country</th>\n      <th>depth</th>\n      <th>diplomatic_text</th>\n      <th>findspot_ancient</th>\n      <th>findspot_modern</th>\n      <th>height</th>\n      <th>EDH-ID</th>\n      <th>language</th>\n      <th>last_update</th>\n      <th>letter_size</th>\n      <th>literature</th>\n      <th>material</th>\n      <th>modern_region</th>\n      <th>not_after</th>\n      <th>not_before</th>\n      <th>responsible_individual</th>\n      <th>transcription</th>\n      <th>trismegistos_uri</th>\n      <th>type_of_inscription</th>\n      <th>type_of_monument</th>\n      <th>width</th>\n      <th>work_status</th>\n      <th>findspot</th>\n      <th>year_of_find</th>\n      <th>present_location</th>\n      <th>religion</th>\n      <th>idno_tm</th>\n      <th>placenames_refs</th>\n      <th>text_edition</th>\n      <th>origdate_text</th>\n      <th>layout_execution</th>\n      <th>layout_execution_text</th>\n      <th>support_objecttype</th>\n      <th>support_objecttype_text</th>\n      <th>support_material</th>\n      <th>support_material_text</th>\n      <th>support_decoration</th>\n      <th>keywords_term</th>\n      <th>keywords_term_text</th>\n      <th>people</th>\n      <th>province_label</th>\n      <th>pleiades_id</th>\n      <th>Longitude</th>\n      <th>Latitude</th>\n      <th>type_of_inscription_clean</th>\n      <th>type_of_inscription_certainty</th>\n      <th>height_cm</th>\n      <th>width_cm</th>\n      <th>depth_cm</th>\n      <th>material_clean</th>\n      <th>type_of_monument_clean</th>\n      <th>type_of_monument_certainty</th>\n      <th>province_label_clean</th>\n      <th>province_label_certainty</th>\n      <th>country_clean</th>\n      <th>country_certainty</th>\n      <th>findspot_ancient_clean</th>\n      <th>findspot_ancient_certainty</th>\n      <th>modern_region_clean</th>\n      <th>modern_region_certainty</th>\n      <th>findspot_modern_clean</th>\n      <th>findspot_modern_certainty</th>\n      <th>findspot_clean</th>\n      <th>findspot_certainty</th>\n      <th>origdate_text_clean</th>\n      <th>clean_text_conservative</th>\n      <th>clean_text_interpretive_word</th>\n      <th>clean_text_interpretive_sentence</th>\n    </tr>\n  </thead>\n  <tbody>\n    <tr>\n      <th>56898</th>\n      <td>(B): Δέκι&lt;μ&gt;ος statt Δέκιος.</td>\n      <td>Greece</td>\n      <td>NaN</td>\n      <td>ΔΕΚΙΟΣ ΛΕΙΒΙΟΣ ΞΕΥΞΙΣ / / D LEIVEI D LEIVEI SALVE</td>\n      <td>Sparta</td>\n      <td>Spárti</td>\n      <td>35 cm</td>\n      <td>HD057726</td>\n      <td>GL</td>\n      <td>2011-11-14</td>\n      <td>2 cm</td>\n      <td>IG 05, 01, 00741. (B) ; ILLRP 0962. ; CIL 01 (...</td>\n      <td>NaN</td>\n      <td>Pelopónissos</td>\n      <td>NaN</td>\n      <td>NaN</td>\n      <td>Cowey</td>\n      <td>Δέκιος Λείβιος &amp;lt;Ζ=Ξ&amp;gt;εῦξις // D(eci) Leiv...</td>\n      <td>https://www.trismegistos.org/text/177460</td>\n      <td>epitaph</td>\n      <td>NaN</td>\n      <td>16 cm</td>\n      <td>no image</td>\n      <td>NaN</td>\n      <td>NaN</td>\n      <td>NaN</td>\n      <td>NaN</td>\n      <td>NaN</td>\n      <td>[{'type': 'province', 'text': 'Achaia'}, {'typ...</td>\n      <td>\\n \\xce\\x94\\xe1\\xbd\\xb3\\xce\\xba\\xce\\xb9\\xce\\xb...</td>\n      <td></td>\n      <td>NaN</td>\n      <td>NaN</td>\n      <td>NaN</td>\n      <td>NaN</td>\n      <td>NaN</td>\n      <td>NaN</td>\n      <td>1000.0</td>\n      <td>92.0</td>\n      <td>epitaph</td>\n      <td>NaN</td>\n      <td>Achaia</td>\n      <td>570685</td>\n      <td>22.4309</td>\n      <td>37.0737</td>\n      <td>epitaph</td>\n      <td>Certain</td>\n      <td>35.0</td>\n      <td>16.0</td>\n      <td>NaN</td>\n      <td>NULL</td>\n      <td>NULL</td>\n      <td>NULL</td>\n      <td>Achaia</td>\n      <td>Certain</td>\n      <td>Greece</td>\n      <td>Certain</td>\n      <td>Sparta</td>\n      <td>Certain</td>\n      <td>Pelopónissos</td>\n      <td>Certain</td>\n      <td>Spárti</td>\n      <td>Certain</td>\n      <td>NULL</td>\n      <td>NULL</td>\n      <td></td>\n      <td>Δέκιος Λείβιος lt Ξ gt εῦξις D Leivei D Leivei...</td>\n      <td>Δέκιος Λείβιος lt Ζ gt εῦξις Deci Leivei Deci ...</td>\n      <td>Δέκιος Λείβιος lt;Ζ gt;εῦξις Deci Leivei Deci ...</td>\n    </tr>\n  </tbody>\n</table>\n</div>"
     },
     "execution_count": 31,
     "metadata": {},
     "output_type": "execute_result"
    }
   ],
   "source": [
    "EDH[EDH[\"EDH-ID\"]==\"HD057726\"]"
   ],
   "metadata": {
    "collapsed": false
   }
  },
  {
   "cell_type": "markdown",
   "metadata": {},
   "source": [
    "# Merge unfiltered versions of the two datasets"
   ]
  },
  {
   "cell_type": "code",
   "execution_count": 32,
   "metadata": {},
   "outputs": [],
   "source": [
    "# rename and create some columns to make the dataset more similar\n",
    "EDCS.rename(columns={\"date_not_before\" : \"not_before\", \"date_not_after\" : \"not_after\"}, inplace=True)\n",
    "#EDCS[\"coordinates\"] = EDCS.apply(lambda row: [row[\"Longitude\"], row[\"Latitude\"]], axis=1)"
   ]
  },
  {
   "cell_type": "code",
   "execution_count": 33,
   "outputs": [
    {
     "data": {
      "text/plain": "528935"
     },
     "execution_count": 33,
     "metadata": {},
     "output_type": "execute_result"
    }
   ],
   "source": [
    "EDCS.rename(columns={\"language\" : \"language_EDCS\"}, inplace=True)\n",
    "(EDCS[\"language_EDCS\"].isnull()).sum()"
   ],
   "metadata": {
    "collapsed": false
   }
  },
  {
   "cell_type": "code",
   "execution_count": 34,
   "outputs": [],
   "source": [
    "# save the raw edcs language\n",
    "def get_language(edcs_language): # produce new language column in edh compatible form\n",
    "    if str(edcs_language) == \"nan\":\n",
    "        return \"L\"\n",
    "    elif edcs_language == \"GR\":\n",
    "        return \"G\"\n",
    "    else:\n",
    "        return np.nan\n",
    "EDCS[\"language\"] = EDCS[\"language_EDCS\"].apply(get_language)"
   ],
   "metadata": {
    "collapsed": false
   }
  },
  {
   "cell_type": "code",
   "execution_count": 35,
   "outputs": [
    {
     "data": {
      "text/plain": "['L', 'L', 'L', 'L', 'L', 'L', 'L', 'L', 'L', 'L']"
     },
     "execution_count": 35,
     "metadata": {},
     "output_type": "execute_result"
    }
   ],
   "source": [
    "EDCS[\"language\"].tolist()[:10]"
   ],
   "metadata": {
    "collapsed": false
   }
  },
  {
   "cell_type": "code",
   "execution_count": 36,
   "outputs": [
    {
     "data": {
      "text/plain": "528935"
     },
     "execution_count": 36,
     "metadata": {},
     "output_type": "execute_result"
    }
   ],
   "source": [
    "(EDCS[\"language_EDCS\"].isnull()).sum()"
   ],
   "metadata": {
    "collapsed": false
   }
  },
  {
   "cell_type": "code",
   "execution_count": 37,
   "outputs": [
    {
     "data": {
      "text/plain": "528935"
     },
     "execution_count": 37,
     "metadata": {},
     "output_type": "execute_result"
    }
   ],
   "source": [
    "(EDCS[\"language\"]==\"L\").sum()"
   ],
   "metadata": {
    "collapsed": false
   }
  },
  {
   "cell_type": "code",
   "execution_count": 38,
   "metadata": {},
   "outputs": [],
   "source": [
    "EDCS[\"clean_text_interpretive_word_EDCS\"] = EDCS[\"clean_text_interpretive_word\"]"
   ]
  },
  {
   "cell_type": "markdown",
   "source": [
    "# Merge EDH & EDCS"
   ],
   "metadata": {
    "collapsed": false
   }
  },
  {
   "cell_type": "code",
   "execution_count": 71,
   "metadata": {},
   "outputs": [
    {
     "data": {
      "text/plain": "540607"
     },
     "execution_count": 71,
     "metadata": {},
     "output_type": "execute_result"
    }
   ],
   "source": [
    "LIST = pd.merge(EDCS, EDH, on=\"EDH-ID\", how=\"outer\")\n",
    "len(LIST) # previously we had 505652"
   ]
  },
  {
   "cell_type": "code",
   "execution_count": 72,
   "metadata": {},
   "outputs": [
    {
     "data": {
      "text/plain": "98"
     },
     "execution_count": 72,
     "metadata": {},
     "output_type": "execute_result"
    }
   ],
   "source": [
    "len(LIST.columns) # previously we had 107"
   ]
  },
  {
   "cell_type": "code",
   "execution_count": 41,
   "outputs": [],
   "source": [
    "with open(\"../data/missing_EDH.pickle\", \"rb\") as f:\n",
    "    missing = pickle.load(f)"
   ],
   "metadata": {
    "collapsed": false
   }
  },
  {
   "cell_type": "code",
   "execution_count": 43,
   "outputs": [
    {
     "data": {
      "text/plain": "        Latitude_x  Longitude_x  Latitude_y  Longitude_y\n456819   37.454501    22.420877         NaN          NaN\n456822   37.837612    24.937637         NaN          NaN\n456855   37.635311    22.725952     37.6308      22.7212\n456864   37.635311    22.725952     37.6308      22.7212\n456866   39.161555    20.985850         NaN          NaN\n456879   37.984149    23.727984         NaN          NaN\n456886   37.984149    23.727984         NaN          NaN\n456887   37.984149    23.727984         NaN          NaN\n456888   37.984149    23.727984         NaN          NaN\n456890   37.984149    23.727984     37.9832      23.7166\n456891   37.984149    23.727984         NaN          NaN\n456892   37.984149    23.727984         NaN          NaN\n456893   37.984149    23.727984     37.9832      23.7166\n456899   37.984149    23.727984         NaN          NaN\n456900   37.984149    23.727984         NaN          NaN\n456904   37.984149    23.727984         NaN          NaN\n456920   37.984149    23.727984         NaN          NaN\n456922   37.984149    23.727984         NaN          NaN\n456924   37.984149    23.727984         NaN          NaN\n456925   37.984149    23.727984         NaN          NaN\n456936   37.984149    23.727984         NaN          NaN\n456938   37.984149    23.727984         NaN          NaN\n456940   37.984149    23.727984         NaN          NaN\n456966   37.984149    23.727984         NaN          NaN\n456968   37.984149    23.727984         NaN          NaN\n456970   37.984149    23.727984         NaN          NaN\n456973   37.984149    23.727984         NaN          NaN\n456975   37.984149    23.727984         NaN          NaN\n456977   37.984149    23.727984     37.9832      23.7166\n456978   37.984149    23.727984         NaN          NaN\n456979   37.984149    23.727984         NaN          NaN\n456980   37.984149    23.727984         NaN          NaN\n456981   37.984149    23.727984         NaN          NaN\n456982   37.984149    23.727984         NaN          NaN\n456983   37.984149    23.727984         NaN          NaN\n456984   37.984149    23.727984     37.9832      23.7166\n456985   37.984149    23.727984         NaN          NaN\n456987   37.984149    23.727984         NaN          NaN\n457000   37.984149    23.727984         NaN          NaN\n457002   37.984149    23.727984         NaN          NaN\n457003   38.237934    20.560883         NaN          NaN\n457109   37.938694    22.928045         NaN          NaN\n457188   37.938694    22.928045         NaN          NaN\n457278   37.938694    22.928045         NaN          NaN\n457279   37.938694    22.928045         NaN          NaN\n457280   37.938694    22.928045         NaN          NaN\n457282   37.938694    22.928045         NaN          NaN\n457288   37.938694    22.928045         NaN          NaN\n457292   37.938694    22.928045         NaN          NaN\n457297   37.938694    22.928045         NaN          NaN",
      "text/html": "<div>\n<style scoped>\n    .dataframe tbody tr th:only-of-type {\n        vertical-align: middle;\n    }\n\n    .dataframe tbody tr th {\n        vertical-align: top;\n    }\n\n    .dataframe thead th {\n        text-align: right;\n    }\n</style>\n<table border=\"1\" class=\"dataframe\">\n  <thead>\n    <tr style=\"text-align: right;\">\n      <th></th>\n      <th>Latitude_x</th>\n      <th>Longitude_x</th>\n      <th>Latitude_y</th>\n      <th>Longitude_y</th>\n    </tr>\n  </thead>\n  <tbody>\n    <tr>\n      <th>456819</th>\n      <td>37.454501</td>\n      <td>22.420877</td>\n      <td>NaN</td>\n      <td>NaN</td>\n    </tr>\n    <tr>\n      <th>456822</th>\n      <td>37.837612</td>\n      <td>24.937637</td>\n      <td>NaN</td>\n      <td>NaN</td>\n    </tr>\n    <tr>\n      <th>456855</th>\n      <td>37.635311</td>\n      <td>22.725952</td>\n      <td>37.6308</td>\n      <td>22.7212</td>\n    </tr>\n    <tr>\n      <th>456864</th>\n      <td>37.635311</td>\n      <td>22.725952</td>\n      <td>37.6308</td>\n      <td>22.7212</td>\n    </tr>\n    <tr>\n      <th>456866</th>\n      <td>39.161555</td>\n      <td>20.985850</td>\n      <td>NaN</td>\n      <td>NaN</td>\n    </tr>\n    <tr>\n      <th>456879</th>\n      <td>37.984149</td>\n      <td>23.727984</td>\n      <td>NaN</td>\n      <td>NaN</td>\n    </tr>\n    <tr>\n      <th>456886</th>\n      <td>37.984149</td>\n      <td>23.727984</td>\n      <td>NaN</td>\n      <td>NaN</td>\n    </tr>\n    <tr>\n      <th>456887</th>\n      <td>37.984149</td>\n      <td>23.727984</td>\n      <td>NaN</td>\n      <td>NaN</td>\n    </tr>\n    <tr>\n      <th>456888</th>\n      <td>37.984149</td>\n      <td>23.727984</td>\n      <td>NaN</td>\n      <td>NaN</td>\n    </tr>\n    <tr>\n      <th>456890</th>\n      <td>37.984149</td>\n      <td>23.727984</td>\n      <td>37.9832</td>\n      <td>23.7166</td>\n    </tr>\n    <tr>\n      <th>456891</th>\n      <td>37.984149</td>\n      <td>23.727984</td>\n      <td>NaN</td>\n      <td>NaN</td>\n    </tr>\n    <tr>\n      <th>456892</th>\n      <td>37.984149</td>\n      <td>23.727984</td>\n      <td>NaN</td>\n      <td>NaN</td>\n    </tr>\n    <tr>\n      <th>456893</th>\n      <td>37.984149</td>\n      <td>23.727984</td>\n      <td>37.9832</td>\n      <td>23.7166</td>\n    </tr>\n    <tr>\n      <th>456899</th>\n      <td>37.984149</td>\n      <td>23.727984</td>\n      <td>NaN</td>\n      <td>NaN</td>\n    </tr>\n    <tr>\n      <th>456900</th>\n      <td>37.984149</td>\n      <td>23.727984</td>\n      <td>NaN</td>\n      <td>NaN</td>\n    </tr>\n    <tr>\n      <th>456904</th>\n      <td>37.984149</td>\n      <td>23.727984</td>\n      <td>NaN</td>\n      <td>NaN</td>\n    </tr>\n    <tr>\n      <th>456920</th>\n      <td>37.984149</td>\n      <td>23.727984</td>\n      <td>NaN</td>\n      <td>NaN</td>\n    </tr>\n    <tr>\n      <th>456922</th>\n      <td>37.984149</td>\n      <td>23.727984</td>\n      <td>NaN</td>\n      <td>NaN</td>\n    </tr>\n    <tr>\n      <th>456924</th>\n      <td>37.984149</td>\n      <td>23.727984</td>\n      <td>NaN</td>\n      <td>NaN</td>\n    </tr>\n    <tr>\n      <th>456925</th>\n      <td>37.984149</td>\n      <td>23.727984</td>\n      <td>NaN</td>\n      <td>NaN</td>\n    </tr>\n    <tr>\n      <th>456936</th>\n      <td>37.984149</td>\n      <td>23.727984</td>\n      <td>NaN</td>\n      <td>NaN</td>\n    </tr>\n    <tr>\n      <th>456938</th>\n      <td>37.984149</td>\n      <td>23.727984</td>\n      <td>NaN</td>\n      <td>NaN</td>\n    </tr>\n    <tr>\n      <th>456940</th>\n      <td>37.984149</td>\n      <td>23.727984</td>\n      <td>NaN</td>\n      <td>NaN</td>\n    </tr>\n    <tr>\n      <th>456966</th>\n      <td>37.984149</td>\n      <td>23.727984</td>\n      <td>NaN</td>\n      <td>NaN</td>\n    </tr>\n    <tr>\n      <th>456968</th>\n      <td>37.984149</td>\n      <td>23.727984</td>\n      <td>NaN</td>\n      <td>NaN</td>\n    </tr>\n    <tr>\n      <th>456970</th>\n      <td>37.984149</td>\n      <td>23.727984</td>\n      <td>NaN</td>\n      <td>NaN</td>\n    </tr>\n    <tr>\n      <th>456973</th>\n      <td>37.984149</td>\n      <td>23.727984</td>\n      <td>NaN</td>\n      <td>NaN</td>\n    </tr>\n    <tr>\n      <th>456975</th>\n      <td>37.984149</td>\n      <td>23.727984</td>\n      <td>NaN</td>\n      <td>NaN</td>\n    </tr>\n    <tr>\n      <th>456977</th>\n      <td>37.984149</td>\n      <td>23.727984</td>\n      <td>37.9832</td>\n      <td>23.7166</td>\n    </tr>\n    <tr>\n      <th>456978</th>\n      <td>37.984149</td>\n      <td>23.727984</td>\n      <td>NaN</td>\n      <td>NaN</td>\n    </tr>\n    <tr>\n      <th>456979</th>\n      <td>37.984149</td>\n      <td>23.727984</td>\n      <td>NaN</td>\n      <td>NaN</td>\n    </tr>\n    <tr>\n      <th>456980</th>\n      <td>37.984149</td>\n      <td>23.727984</td>\n      <td>NaN</td>\n      <td>NaN</td>\n    </tr>\n    <tr>\n      <th>456981</th>\n      <td>37.984149</td>\n      <td>23.727984</td>\n      <td>NaN</td>\n      <td>NaN</td>\n    </tr>\n    <tr>\n      <th>456982</th>\n      <td>37.984149</td>\n      <td>23.727984</td>\n      <td>NaN</td>\n      <td>NaN</td>\n    </tr>\n    <tr>\n      <th>456983</th>\n      <td>37.984149</td>\n      <td>23.727984</td>\n      <td>NaN</td>\n      <td>NaN</td>\n    </tr>\n    <tr>\n      <th>456984</th>\n      <td>37.984149</td>\n      <td>23.727984</td>\n      <td>37.9832</td>\n      <td>23.7166</td>\n    </tr>\n    <tr>\n      <th>456985</th>\n      <td>37.984149</td>\n      <td>23.727984</td>\n      <td>NaN</td>\n      <td>NaN</td>\n    </tr>\n    <tr>\n      <th>456987</th>\n      <td>37.984149</td>\n      <td>23.727984</td>\n      <td>NaN</td>\n      <td>NaN</td>\n    </tr>\n    <tr>\n      <th>457000</th>\n      <td>37.984149</td>\n      <td>23.727984</td>\n      <td>NaN</td>\n      <td>NaN</td>\n    </tr>\n    <tr>\n      <th>457002</th>\n      <td>37.984149</td>\n      <td>23.727984</td>\n      <td>NaN</td>\n      <td>NaN</td>\n    </tr>\n    <tr>\n      <th>457003</th>\n      <td>38.237934</td>\n      <td>20.560883</td>\n      <td>NaN</td>\n      <td>NaN</td>\n    </tr>\n    <tr>\n      <th>457109</th>\n      <td>37.938694</td>\n      <td>22.928045</td>\n      <td>NaN</td>\n      <td>NaN</td>\n    </tr>\n    <tr>\n      <th>457188</th>\n      <td>37.938694</td>\n      <td>22.928045</td>\n      <td>NaN</td>\n      <td>NaN</td>\n    </tr>\n    <tr>\n      <th>457278</th>\n      <td>37.938694</td>\n      <td>22.928045</td>\n      <td>NaN</td>\n      <td>NaN</td>\n    </tr>\n    <tr>\n      <th>457279</th>\n      <td>37.938694</td>\n      <td>22.928045</td>\n      <td>NaN</td>\n      <td>NaN</td>\n    </tr>\n    <tr>\n      <th>457280</th>\n      <td>37.938694</td>\n      <td>22.928045</td>\n      <td>NaN</td>\n      <td>NaN</td>\n    </tr>\n    <tr>\n      <th>457282</th>\n      <td>37.938694</td>\n      <td>22.928045</td>\n      <td>NaN</td>\n      <td>NaN</td>\n    </tr>\n    <tr>\n      <th>457288</th>\n      <td>37.938694</td>\n      <td>22.928045</td>\n      <td>NaN</td>\n      <td>NaN</td>\n    </tr>\n    <tr>\n      <th>457292</th>\n      <td>37.938694</td>\n      <td>22.928045</td>\n      <td>NaN</td>\n      <td>NaN</td>\n    </tr>\n    <tr>\n      <th>457297</th>\n      <td>37.938694</td>\n      <td>22.928045</td>\n      <td>NaN</td>\n      <td>NaN</td>\n    </tr>\n  </tbody>\n</table>\n</div>"
     },
     "execution_count": 43,
     "metadata": {},
     "output_type": "execute_result"
    }
   ],
   "source": [
    "LIST[LIST[\"EDH-ID\"].isin(missing)][[\"Latitude_x\", \"Longitude_x\", \"Latitude_y\", \"Longitude_y\"]].head(50)"
   ],
   "metadata": {
    "collapsed": false
   }
  },
  {
   "cell_type": "code",
   "execution_count": 75,
   "outputs": [
    {
     "data": {
      "text/plain": "90"
     },
     "execution_count": 75,
     "metadata": {},
     "output_type": "execute_result"
    }
   ],
   "source": [
    "def choose_by_edh_id(row, col):\n",
    "    value = row[col]\n",
    "    if (row[\"EDH-ID\"] == None):\n",
    "        value = row[col.rpartition(\"_y\")[0] + \"_x\"]\n",
    "    else:\n",
    "        if isinstance(row[col], float):\n",
    "            if math.isnan(row[col]):\n",
    "                value = row[col.rpartition(\"_y\")[0] + \"_x\"]\n",
    "        else:\n",
    "            if row[col]==None: \\\n",
    "                value = row[col.rpartition(\"_y\")[0] + \"_x\"]\n",
    "    return value\n",
    "\n",
    "\n",
    "for col in LIST.columns:\n",
    "    if re.search(\"_y$\", col):\n",
    "        LIST[col.rpartition(\"_y\")[0]] = LIST.apply(lambda row: choose_by_edh_id(row, col), axis=1)\n",
    "        LIST.drop([col, col.rpartition(\"_y\")[0] + \"_x\"], axis=1, inplace=True)\n",
    "        #LIRE.rename(columns={col : col.rpartition(\"_y\")[0]}, inplace=True)\n",
    "len(LIST.columns)"
   ],
   "metadata": {
    "collapsed": false
   }
  },
  {
   "cell_type": "code",
   "execution_count": 76,
   "metadata": {},
   "outputs": [
    {
     "data": {
      "text/plain": "              EDCS-ID                                        publication  \\\n456810  EDCS-24700151  CIL 01, 02650 (p 1097) = IG-05-01, 00741 = ILL...   \n456811  EDCS-24900077  CIL 01, 00746 (p 944) = D 00867 = ILLRP 00374 ...   \n456812  EDCS-03700724  ZPE-108-159 = Thesprotia 00001 = AE 1993, 0140...   \n456813  EDCS-66200107                                     AE 2008, 01264   \n456814  EDCS-13800065  CIL 01, 02955 = ILLRP 00370 (p 327) = ILGR 000...   \n\n       province                           place  \\\n456810   Achaia                          Afesou   \n456811   Achaia   Agia Triada / Merbaka / Midea   \n456812   Achaia      Agios Athanasios / Photike   \n456813   Achaia  Aigio / Egio / Aiyion / Aegeum   \n456814   Achaia  Aigio / Egio / Aiyion / Aegeum   \n\n                                              inscription  \\\n456810  Δέκιος Λείβιος (Ζ)εῦξις // D(ecimi) Leivei D(e...   \n456811  Q(uinto) Caecilio C(ai) f(ilio) Metel(l)o / im...   \n456812  Fortissimo et Piis/simo Caesari d(omino) n(ost...   \n456813  [3]ν τὸν λαμ/[πρότατον ὑπατικ]όν Ἄππιος Κυ/[3 ...   \n456814  Italicei / quei Aegei negotiantur / P(ublium) ...   \n\n                        inscription_conservative_cleaning  \\\n456810       Δέκιος Λείβιος εῦξις D Leivei D Leivei salve   \n456811  Q Caecilio C f Metelo imperatori Italici quei ...   \n456812  Fortissimo et Piissimo Caesari d n Gal Val P F...   \n456813                       ν τὸν λαμ όν Ἄππιος Κυ τρωνα   \n456814  Italicei quei Aegei negotiantur P Rutilium P f...   \n\n                        inscription_interpretive_cleaning          inscr_type  \\\n456810  Δέκιος Λείβιος Ζεῦξις Decimi Leivei Decimi Lei...  tituli sepulcrales   \n456811  Quinto Caecilio Cai filio Metello imperatori I...    tituli honorarii   \n456812  Fortissimo et Piissimo Caesari domino nostro G...    tituli honorarii   \n456813  ν τὸν λαμπρότατον ὑπατικόν Ἄππιος Κυ τὸν ἑαυτο...                 NaN   \n456814  Italicei quei Aegei negotiantur Publium Rutili...    tituli honorarii   \n\n                                          status_notation    inscr_process  \\\n456810                         [praenomen et nomen, viri]              NaN   \n456811  [officium/professio, ordo senatorius, tria nom...              NaN   \n456812     [Augusti/Augustae, ordo equester, tria nomina]  litterae erasae   \n456813                                                NaN              NaN   \n456814  [officium/professio, ordo senatorius, tria nom...              NaN   \n\n                                                   status  \\\n456810     praenomen et nomen;  tituli sepulcrales;  viri   \n456811  officium/professio;  ordo senatorius;  tituli ...   \n456812  Augusti/Augustae;  litterae erasae;  ordo eque...   \n456813                                                NaN   \n456814  officium/professio;  ordo senatorius;  tituli ...   \n\n                                             partner_link  dating_from  \\\n456810  http://db.edcs.eu/epigr/partner.php?s_language...          NaN   \n456811  http://db.edcs.eu/epigr/partner.php?s_language...        -68.0   \n456812  http://db.edcs.eu/epigr/partner.php?s_language...        309.0   \n456813  http://db.edcs.eu/epigr/partner.php?s_language...        151.0   \n456814  http://db.edcs.eu/epigr/partner.php?s_language...        -74.0   \n\n        dating_to                                              photo  \\\n456810        NaN                                                NaN   \n456811      -68.0  http://db.edcs.eu/epigr/bilder.php?bilder.php?...   \n456812      313.0  http://db.edcs.eu/epigr/bilder.php?bilder.php?...   \n456813      250.0                                                NaN   \n456814      -74.0                                                NaN   \n\n        raw_dating language_EDCS comment extra_text extra_html    EDH-ID  \\\n456810         NaN           NaN     NaN        NaN        NaN  HD057726   \n456811  -68 to -68           NaN     NaN        NaN        NaN  HD056163   \n456812  309 to 313           NaN     NaN        NaN        NaN  HD052964   \n456813  151 to 250           NaN     NaN        NaN        NaN  HD067316   \n456814  -74 to -74           NaN     NaN        NaN        NaN  HD017714   \n\n                        clean_text_interpretive_word_EDCS  \\\n456810  Δέκιος Λείβιος Ζεῦξις Decimi Leivei Decimi Lei...   \n456811  Quinto Caecilio Cai filio Metello imperatori I...   \n456812  Fortissimo et Piissimo Caesari domino nostro G...   \n456813  ν τὸν λαμπρότατον ὑπατικόν Ἄππιος Κυ τὸν ἑαυτο...   \n456814  Italicei quei Aegei negotiantur Publium Rutili...   \n\n                          commentary country  depth  \\\n456810  (B): Δέκι<μ>ος statt Δέκιος.  Greece    NaN   \n456811                           NaN  Greece    NaN   \n456812                           NaN  Greece  67 cm   \n456813                           NaN  Greece   2 cm   \n456814                           NaN  Greece  16 cm   \n\n                                          diplomatic_text findspot_ancient  \\\n456810  ΔΕΚΙΟΣ ΛΕΙΒΙΟΣ ΞΕΥΞΙΣ / / D LEIVEI D LEIVEI SALVE           Sparta   \n456811  Q CAECILIO C F METELO / IMPERATORI ITALICI / Q...            Midea   \n456812  FORTISSIMO ET PIIS / SIMO CAESARI D N / GAL VA...          Photike   \n456813          [ ]Ν ΤΟΝ ΛΑΜ / [ ]ΟΝ ΑΠΠΙΟΣ ΚΥ / [ ]ΤΡΩΝΑ           Aegeum   \n456814  ITALICEI / QVEI AEGEI NEGOTIANTVR / P RVTILIVM...           Aegeum   \n\n       findspot_modern height last_update letter_size  \\\n456810          Spárti  35 cm  2011-11-14        2 cm   \n456811          Midhéa    NaN  2011-11-11         NaN   \n456812      Paramythía  99 cm  2014-09-16    3-5.3 cm   \n456813          Aígion  15 cm  2014-01-31        3 cm   \n456814          Aígion  58 cm  2011-03-29  3.5-3.7 cm   \n\n                                               literature  modern_region  \\\n456810  IG 05, 01, 00741. (B) ; ILLRP 0962. ; CIL 01 (...   Pelopónissos   \n456811  CIL 03, 00531. ; ILS 0867. ; CIL 01 (2. Aufl.)...   Pelopónissos   \n456812  AE 1993, 1406. ; V. Papadopoulou, AD 43 B, 198...        Ípeiros   \n456813  AE 2008, 1264. ; A.D. Rizakis, Achaïe III. Les...  Dytikí Elláda   \n456814  AE 1954, 0031. ; J. Bingen, BCH 78, 1954, 82-8...  Dytikí Elláda   \n\n       responsible_individual  \\\n456810                  Cowey   \n456811                  Cowey   \n456812                  Cowey   \n456813                  Cowey   \n456814                  Cowey   \n\n                                            transcription  \\\n456810  Δέκιος Λείβιος &lt;Ζ=Ξ&gt;εῦξις // D(eci) Leiv...   \n456811  Q(uinto) Caecilio C(ai) f(ilio) Metelo / imper...   \n456812  Fortissimo et piis/simo Caesari d(omino) n(ost...   \n456813  [---]ν τὸν λαμ/[πρότατον ὑπατικ]όν Ἄππιος Κυ/[...   \n456814  Italicei / quei Aegei negotiantur / P(ublium) ...   \n\n                                trismegistos_uri    type_of_inscription  \\\n456810  https://www.trismegistos.org/text/177460                epitaph   \n456811  https://www.trismegistos.org/text/177366  honorific inscription   \n456812  https://www.trismegistos.org/text/121715  honorific inscription   \n456813  https://www.trismegistos.org/text/677832                    NaN   \n456814  https://www.trismegistos.org/text/177100     votive inscription   \n\n       type_of_monument  width         work_status            findspot  \\\n456810              NaN  16 cm            no image                 NaN   \n456811              NaN    NaN            no image                 NaN   \n456812      statue base  67 cm  checked with photo  {Agios Athanasios}   \n456813              NaN  34 cm  checked with photo                 NaN   \n456814           tabula  61 cm  checked with photo                 NaN   \n\n        year_of_find present_location religion  idno_tm  \\\n456810           NaN              NaN      NaN      NaN   \n456811           NaN              NaN      NaN      NaN   \n456812           NaN    Fragma Kalama      NaN      NaN   \n456813           NaN              NaN      NaN      NaN   \n456814           NaN              NaN      NaN      NaN   \n\n                                          placenames_refs  \\\n456810  [{'type': 'province', 'text': 'Achaia'}, {'typ...   \n456811  [{'type': 'province', 'text': 'Achaia'}, {'typ...   \n456812  [{'type': 'province', 'text': 'Epirus'}, {'typ...   \n456813  [{'type': 'province', 'text': 'Achaia'}, {'typ...   \n456814  [{'type': 'province', 'text': 'Achaia'}, {'typ...   \n\n                                             text_edition    origdate_text  \\\n456810  \\n \\xce\\x94\\xe1\\xbd\\xb3\\xce\\xba\\xce\\xb9\\xce\\xb...                    \n456811  \\n Quinto Caecilio Cai filio Metelo imperatori...            68 BC   \n456812  \\n Fortissimo et piissimo Caesari domino nostr...  309 AD - 313 AD   \n456813  \\n \\xce\\xbd \\xcf\\x84\\xe1\\xbd\\xb8\\xce\\xbd \\xce\\...  151 AD - 250 AD   \n456814  \\n Italicei quei Aegei negotiantur Publium Rut...            74 BC   \n\n        layout_execution  layout_execution_text support_objecttype  \\\n456810               NaN                    NaN                NaN   \n456811               NaN                    NaN                NaN   \n456812               NaN                    NaN                 57   \n456813               NaN                    NaN                NaN   \n456814               NaN                    NaN                257   \n\n       support_objecttype_text  support_material support_material_text  \\\n456810                     NaN               NaN                   NaN   \n456811                     NaN               NaN                   NaN   \n456812             statue base               NaN                   NaN   \n456813                     NaN              48.0   Marmor, wei\\xc3\\x9f   \n456814                  tabula               NaN                   NaN   \n\n        support_decoration  keywords_term     keywords_term_text  \\\n456810              1000.0           92.0                epitaph   \n456811              1000.0           69.0  honorific inscription   \n456812              1000.0           69.0  honorific inscription   \n456813              1000.0          143.0                unknown   \n456814              1000.0          372.0     votive inscription   \n\n                                                   people province_label  \\\n456810                                                NaN         Achaia   \n456811                                                NaN         Achaia   \n456812  [{'persname': {'name': [{'@type': 'nomen', '#t...         Epirus   \n456813                                                NaN         Achaia   \n456814                                                NaN         Achaia   \n\n       pleiades_id type_of_inscription_clean type_of_inscription_certainty  \\\n456810      570685                   epitaph                       Certain   \n456811      570485     honorific inscription                       Certain   \n456812      531064     honorific inscription                       Certain   \n456813      570049                      NULL                          NULL   \n456814      570049        votive inscription                       Certain   \n\n        height_cm  width_cm  depth_cm material_clean type_of_monument_clean  \\\n456810       35.0      16.0       NaN           NULL                   NULL   \n456811        NaN       NaN       NaN           NULL                   NULL   \n456812       99.0      67.0      67.0           NULL            statue base   \n456813       15.0      34.0       2.0         Marble                   NULL   \n456814       58.0      61.0      16.0           NULL                 tabula   \n\n       type_of_monument_certainty province_label_clean  \\\n456810                       NULL               Achaia   \n456811                       NULL               Achaia   \n456812                    Certain               Epirus   \n456813                       NULL               Achaia   \n456814                    Certain               Achaia   \n\n       province_label_certainty country_clean country_certainty  \\\n456810                  Certain        Greece           Certain   \n456811                  Certain        Greece           Certain   \n456812                  Certain        Greece           Certain   \n456813                  Certain        Greece           Certain   \n456814                  Certain        Greece           Certain   \n\n       findspot_ancient_clean findspot_ancient_certainty modern_region_clean  \\\n456810                 Sparta                    Certain        Pelopónissos   \n456811                  Midea                    Certain        Pelopónissos   \n456812                Photike                    Certain             Ípeiros   \n456813                 Aegeum                    Certain       Dytikí Elláda   \n456814                 Aegeum                    Certain       Dytikí Elláda   \n\n       modern_region_certainty findspot_modern_clean  \\\n456810                 Certain                Spárti   \n456811                 Certain                Midhéa   \n456812                 Certain            Paramythía   \n456813                 Certain                Aígion   \n456814                 Certain                Aígion   \n\n       findspot_modern_certainty      findspot_clean findspot_certainty  \\\n456810                   Certain                NULL               NULL   \n456811                   Certain                NULL               NULL   \n456812                   Certain  {Agios Athanasios}            Certain   \n456813                   Certain                NULL               NULL   \n456814                   Certain                NULL               NULL   \n\n       origdate_text_clean                   clean_text_interpretive_sentence  \\\n456810                      Δέκιος Λείβιος lt;Ζ gt;εῦξις Deci Leivei Deci ...   \n456811               68 BC  Quinto Caecilio Cai filio Metelo imperatori It...   \n456812     309 AD - 313 AD  Fortissimo et piissimo Caesari domino nostro G...   \n456813     151 AD - 250 AD  ν τὸν λαμπρότατον ὑπατικόν Ἄππιος Κυ τὸν ἑαυτο...   \n456814               74 BC  Italicei quei Aegei negotiantur Publium Rutili...   \n\n       language      material  not_after  not_before  Longitude  Latitude  \\\n456810       GL         lapis        NaN         NaN    22.4309   37.0737   \n456811        L           NaN      -68.0       -68.0    22.8412   37.6498   \n456812        L           NaN      309.0       313.0    20.7668   39.4512   \n456813        G  Marmor, weiß      151.0       250.0    22.0845   38.2487   \n456814        L         lapis      -74.0       -74.0    22.0845   38.2487   \n\n                                  clean_text_conservative  \\\n456810  Δέκιος Λείβιος lt Ξ gt εῦξις D Leivei D Leivei...   \n456811  Q Caecilio C f Metelo imperatori Italici quei ...   \n456812  Fortissimo et piissimo Caesari d n Gal Val P F...   \n456813                         ν τὸν λαμόν Ἄππιος Κυτρωνα   \n456814  Italicei quei Aegei negotiantur P Rutilium P f...   \n\n                             clean_text_interpretive_word  \n456810  Δέκιος Λείβιος lt Ζ gt εῦξις Deci Leivei Deci ...  \n456811  Quinto Caecilio Cai filio Metelo imperatori It...  \n456812  Fortissimo et piissimo Caesari domino nostro G...  \n456813  ν τὸν λαμπρότατον ὑπατικόν Ἄππιος Κυ τὸν ἑαυτο...  \n456814  Italicei quei Aegei negotiantur Publium Rutili...  ",
      "text/html": "<div>\n<style scoped>\n    .dataframe tbody tr th:only-of-type {\n        vertical-align: middle;\n    }\n\n    .dataframe tbody tr th {\n        vertical-align: top;\n    }\n\n    .dataframe thead th {\n        text-align: right;\n    }\n</style>\n<table border=\"1\" class=\"dataframe\">\n  <thead>\n    <tr style=\"text-align: right;\">\n      <th></th>\n      <th>EDCS-ID</th>\n      <th>publication</th>\n      <th>province</th>\n      <th>place</th>\n      <th>inscription</th>\n      <th>inscription_conservative_cleaning</th>\n      <th>inscription_interpretive_cleaning</th>\n      <th>inscr_type</th>\n      <th>status_notation</th>\n      <th>inscr_process</th>\n      <th>status</th>\n      <th>partner_link</th>\n      <th>dating_from</th>\n      <th>dating_to</th>\n      <th>photo</th>\n      <th>raw_dating</th>\n      <th>language_EDCS</th>\n      <th>comment</th>\n      <th>extra_text</th>\n      <th>extra_html</th>\n      <th>EDH-ID</th>\n      <th>clean_text_interpretive_word_EDCS</th>\n      <th>commentary</th>\n      <th>country</th>\n      <th>depth</th>\n      <th>diplomatic_text</th>\n      <th>findspot_ancient</th>\n      <th>findspot_modern</th>\n      <th>height</th>\n      <th>last_update</th>\n      <th>letter_size</th>\n      <th>literature</th>\n      <th>modern_region</th>\n      <th>responsible_individual</th>\n      <th>transcription</th>\n      <th>trismegistos_uri</th>\n      <th>type_of_inscription</th>\n      <th>type_of_monument</th>\n      <th>width</th>\n      <th>work_status</th>\n      <th>findspot</th>\n      <th>year_of_find</th>\n      <th>present_location</th>\n      <th>religion</th>\n      <th>idno_tm</th>\n      <th>placenames_refs</th>\n      <th>text_edition</th>\n      <th>origdate_text</th>\n      <th>layout_execution</th>\n      <th>layout_execution_text</th>\n      <th>support_objecttype</th>\n      <th>support_objecttype_text</th>\n      <th>support_material</th>\n      <th>support_material_text</th>\n      <th>support_decoration</th>\n      <th>keywords_term</th>\n      <th>keywords_term_text</th>\n      <th>people</th>\n      <th>province_label</th>\n      <th>pleiades_id</th>\n      <th>type_of_inscription_clean</th>\n      <th>type_of_inscription_certainty</th>\n      <th>height_cm</th>\n      <th>width_cm</th>\n      <th>depth_cm</th>\n      <th>material_clean</th>\n      <th>type_of_monument_clean</th>\n      <th>type_of_monument_certainty</th>\n      <th>province_label_clean</th>\n      <th>province_label_certainty</th>\n      <th>country_clean</th>\n      <th>country_certainty</th>\n      <th>findspot_ancient_clean</th>\n      <th>findspot_ancient_certainty</th>\n      <th>modern_region_clean</th>\n      <th>modern_region_certainty</th>\n      <th>findspot_modern_clean</th>\n      <th>findspot_modern_certainty</th>\n      <th>findspot_clean</th>\n      <th>findspot_certainty</th>\n      <th>origdate_text_clean</th>\n      <th>clean_text_interpretive_sentence</th>\n      <th>language</th>\n      <th>material</th>\n      <th>not_after</th>\n      <th>not_before</th>\n      <th>Longitude</th>\n      <th>Latitude</th>\n      <th>clean_text_conservative</th>\n      <th>clean_text_interpretive_word</th>\n    </tr>\n  </thead>\n  <tbody>\n    <tr>\n      <th>456810</th>\n      <td>EDCS-24700151</td>\n      <td>CIL 01, 02650 (p 1097) = IG-05-01, 00741 = ILL...</td>\n      <td>Achaia</td>\n      <td>Afesou</td>\n      <td>Δέκιος Λείβιος (Ζ)εῦξις // D(ecimi) Leivei D(e...</td>\n      <td>Δέκιος Λείβιος εῦξις D Leivei D Leivei salve</td>\n      <td>Δέκιος Λείβιος Ζεῦξις Decimi Leivei Decimi Lei...</td>\n      <td>tituli sepulcrales</td>\n      <td>[praenomen et nomen, viri]</td>\n      <td>NaN</td>\n      <td>praenomen et nomen;  tituli sepulcrales;  viri</td>\n      <td>http://db.edcs.eu/epigr/partner.php?s_language...</td>\n      <td>NaN</td>\n      <td>NaN</td>\n      <td>NaN</td>\n      <td>NaN</td>\n      <td>NaN</td>\n      <td>NaN</td>\n      <td>NaN</td>\n      <td>NaN</td>\n      <td>HD057726</td>\n      <td>Δέκιος Λείβιος Ζεῦξις Decimi Leivei Decimi Lei...</td>\n      <td>(B): Δέκι&lt;μ&gt;ος statt Δέκιος.</td>\n      <td>Greece</td>\n      <td>NaN</td>\n      <td>ΔΕΚΙΟΣ ΛΕΙΒΙΟΣ ΞΕΥΞΙΣ / / D LEIVEI D LEIVEI SALVE</td>\n      <td>Sparta</td>\n      <td>Spárti</td>\n      <td>35 cm</td>\n      <td>2011-11-14</td>\n      <td>2 cm</td>\n      <td>IG 05, 01, 00741. (B) ; ILLRP 0962. ; CIL 01 (...</td>\n      <td>Pelopónissos</td>\n      <td>Cowey</td>\n      <td>Δέκιος Λείβιος &amp;lt;Ζ=Ξ&amp;gt;εῦξις // D(eci) Leiv...</td>\n      <td>https://www.trismegistos.org/text/177460</td>\n      <td>epitaph</td>\n      <td>NaN</td>\n      <td>16 cm</td>\n      <td>no image</td>\n      <td>NaN</td>\n      <td>NaN</td>\n      <td>NaN</td>\n      <td>NaN</td>\n      <td>NaN</td>\n      <td>[{'type': 'province', 'text': 'Achaia'}, {'typ...</td>\n      <td>\\n \\xce\\x94\\xe1\\xbd\\xb3\\xce\\xba\\xce\\xb9\\xce\\xb...</td>\n      <td></td>\n      <td>NaN</td>\n      <td>NaN</td>\n      <td>NaN</td>\n      <td>NaN</td>\n      <td>NaN</td>\n      <td>NaN</td>\n      <td>1000.0</td>\n      <td>92.0</td>\n      <td>epitaph</td>\n      <td>NaN</td>\n      <td>Achaia</td>\n      <td>570685</td>\n      <td>epitaph</td>\n      <td>Certain</td>\n      <td>35.0</td>\n      <td>16.0</td>\n      <td>NaN</td>\n      <td>NULL</td>\n      <td>NULL</td>\n      <td>NULL</td>\n      <td>Achaia</td>\n      <td>Certain</td>\n      <td>Greece</td>\n      <td>Certain</td>\n      <td>Sparta</td>\n      <td>Certain</td>\n      <td>Pelopónissos</td>\n      <td>Certain</td>\n      <td>Spárti</td>\n      <td>Certain</td>\n      <td>NULL</td>\n      <td>NULL</td>\n      <td></td>\n      <td>Δέκιος Λείβιος lt;Ζ gt;εῦξις Deci Leivei Deci ...</td>\n      <td>GL</td>\n      <td>lapis</td>\n      <td>NaN</td>\n      <td>NaN</td>\n      <td>22.4309</td>\n      <td>37.0737</td>\n      <td>Δέκιος Λείβιος lt Ξ gt εῦξις D Leivei D Leivei...</td>\n      <td>Δέκιος Λείβιος lt Ζ gt εῦξις Deci Leivei Deci ...</td>\n    </tr>\n    <tr>\n      <th>456811</th>\n      <td>EDCS-24900077</td>\n      <td>CIL 01, 00746 (p 944) = D 00867 = ILLRP 00374 ...</td>\n      <td>Achaia</td>\n      <td>Agia Triada / Merbaka / Midea</td>\n      <td>Q(uinto) Caecilio C(ai) f(ilio) Metel(l)o / im...</td>\n      <td>Q Caecilio C f Metelo imperatori Italici quei ...</td>\n      <td>Quinto Caecilio Cai filio Metello imperatori I...</td>\n      <td>tituli honorarii</td>\n      <td>[officium/professio, ordo senatorius, tria nom...</td>\n      <td>NaN</td>\n      <td>officium/professio;  ordo senatorius;  tituli ...</td>\n      <td>http://db.edcs.eu/epigr/partner.php?s_language...</td>\n      <td>-68.0</td>\n      <td>-68.0</td>\n      <td>http://db.edcs.eu/epigr/bilder.php?bilder.php?...</td>\n      <td>-68 to -68</td>\n      <td>NaN</td>\n      <td>NaN</td>\n      <td>NaN</td>\n      <td>NaN</td>\n      <td>HD056163</td>\n      <td>Quinto Caecilio Cai filio Metello imperatori I...</td>\n      <td>NaN</td>\n      <td>Greece</td>\n      <td>NaN</td>\n      <td>Q CAECILIO C F METELO / IMPERATORI ITALICI / Q...</td>\n      <td>Midea</td>\n      <td>Midhéa</td>\n      <td>NaN</td>\n      <td>2011-11-11</td>\n      <td>NaN</td>\n      <td>CIL 03, 00531. ; ILS 0867. ; CIL 01 (2. Aufl.)...</td>\n      <td>Pelopónissos</td>\n      <td>Cowey</td>\n      <td>Q(uinto) Caecilio C(ai) f(ilio) Metelo / imper...</td>\n      <td>https://www.trismegistos.org/text/177366</td>\n      <td>honorific inscription</td>\n      <td>NaN</td>\n      <td>NaN</td>\n      <td>no image</td>\n      <td>NaN</td>\n      <td>NaN</td>\n      <td>NaN</td>\n      <td>NaN</td>\n      <td>NaN</td>\n      <td>[{'type': 'province', 'text': 'Achaia'}, {'typ...</td>\n      <td>\\n Quinto Caecilio Cai filio Metelo imperatori...</td>\n      <td>68 BC</td>\n      <td>NaN</td>\n      <td>NaN</td>\n      <td>NaN</td>\n      <td>NaN</td>\n      <td>NaN</td>\n      <td>NaN</td>\n      <td>1000.0</td>\n      <td>69.0</td>\n      <td>honorific inscription</td>\n      <td>NaN</td>\n      <td>Achaia</td>\n      <td>570485</td>\n      <td>honorific inscription</td>\n      <td>Certain</td>\n      <td>NaN</td>\n      <td>NaN</td>\n      <td>NaN</td>\n      <td>NULL</td>\n      <td>NULL</td>\n      <td>NULL</td>\n      <td>Achaia</td>\n      <td>Certain</td>\n      <td>Greece</td>\n      <td>Certain</td>\n      <td>Midea</td>\n      <td>Certain</td>\n      <td>Pelopónissos</td>\n      <td>Certain</td>\n      <td>Midhéa</td>\n      <td>Certain</td>\n      <td>NULL</td>\n      <td>NULL</td>\n      <td>68 BC</td>\n      <td>Quinto Caecilio Cai filio Metelo imperatori It...</td>\n      <td>L</td>\n      <td>NaN</td>\n      <td>-68.0</td>\n      <td>-68.0</td>\n      <td>22.8412</td>\n      <td>37.6498</td>\n      <td>Q Caecilio C f Metelo imperatori Italici quei ...</td>\n      <td>Quinto Caecilio Cai filio Metelo imperatori It...</td>\n    </tr>\n    <tr>\n      <th>456812</th>\n      <td>EDCS-03700724</td>\n      <td>ZPE-108-159 = Thesprotia 00001 = AE 1993, 0140...</td>\n      <td>Achaia</td>\n      <td>Agios Athanasios / Photike</td>\n      <td>Fortissimo et Piis/simo Caesari d(omino) n(ost...</td>\n      <td>Fortissimo et Piissimo Caesari d n Gal Val P F...</td>\n      <td>Fortissimo et Piissimo Caesari domino nostro G...</td>\n      <td>tituli honorarii</td>\n      <td>[Augusti/Augustae, ordo equester, tria nomina]</td>\n      <td>litterae erasae</td>\n      <td>Augusti/Augustae;  litterae erasae;  ordo eque...</td>\n      <td>http://db.edcs.eu/epigr/partner.php?s_language...</td>\n      <td>309.0</td>\n      <td>313.0</td>\n      <td>http://db.edcs.eu/epigr/bilder.php?bilder.php?...</td>\n      <td>309 to 313</td>\n      <td>NaN</td>\n      <td>NaN</td>\n      <td>NaN</td>\n      <td>NaN</td>\n      <td>HD052964</td>\n      <td>Fortissimo et Piissimo Caesari domino nostro G...</td>\n      <td>NaN</td>\n      <td>Greece</td>\n      <td>67 cm</td>\n      <td>FORTISSIMO ET PIIS / SIMO CAESARI D N / GAL VA...</td>\n      <td>Photike</td>\n      <td>Paramythía</td>\n      <td>99 cm</td>\n      <td>2014-09-16</td>\n      <td>3-5.3 cm</td>\n      <td>AE 1993, 1406. ; V. Papadopoulou, AD 43 B, 198...</td>\n      <td>Ípeiros</td>\n      <td>Cowey</td>\n      <td>Fortissimo et piis/simo Caesari d(omino) n(ost...</td>\n      <td>https://www.trismegistos.org/text/121715</td>\n      <td>honorific inscription</td>\n      <td>statue base</td>\n      <td>67 cm</td>\n      <td>checked with photo</td>\n      <td>{Agios Athanasios}</td>\n      <td>NaN</td>\n      <td>Fragma Kalama</td>\n      <td>NaN</td>\n      <td>NaN</td>\n      <td>[{'type': 'province', 'text': 'Epirus'}, {'typ...</td>\n      <td>\\n Fortissimo et piissimo Caesari domino nostr...</td>\n      <td>309 AD - 313 AD</td>\n      <td>NaN</td>\n      <td>NaN</td>\n      <td>57</td>\n      <td>statue base</td>\n      <td>NaN</td>\n      <td>NaN</td>\n      <td>1000.0</td>\n      <td>69.0</td>\n      <td>honorific inscription</td>\n      <td>[{'persname': {'name': [{'@type': 'nomen', '#t...</td>\n      <td>Epirus</td>\n      <td>531064</td>\n      <td>honorific inscription</td>\n      <td>Certain</td>\n      <td>99.0</td>\n      <td>67.0</td>\n      <td>67.0</td>\n      <td>NULL</td>\n      <td>statue base</td>\n      <td>Certain</td>\n      <td>Epirus</td>\n      <td>Certain</td>\n      <td>Greece</td>\n      <td>Certain</td>\n      <td>Photike</td>\n      <td>Certain</td>\n      <td>Ípeiros</td>\n      <td>Certain</td>\n      <td>Paramythía</td>\n      <td>Certain</td>\n      <td>{Agios Athanasios}</td>\n      <td>Certain</td>\n      <td>309 AD - 313 AD</td>\n      <td>Fortissimo et piissimo Caesari domino nostro G...</td>\n      <td>L</td>\n      <td>NaN</td>\n      <td>309.0</td>\n      <td>313.0</td>\n      <td>20.7668</td>\n      <td>39.4512</td>\n      <td>Fortissimo et piissimo Caesari d n Gal Val P F...</td>\n      <td>Fortissimo et piissimo Caesari domino nostro G...</td>\n    </tr>\n    <tr>\n      <th>456813</th>\n      <td>EDCS-66200107</td>\n      <td>AE 2008, 01264</td>\n      <td>Achaia</td>\n      <td>Aigio / Egio / Aiyion / Aegeum</td>\n      <td>[3]ν τὸν λαμ/[πρότατον ὑπατικ]όν Ἄππιος Κυ/[3 ...</td>\n      <td>ν τὸν λαμ όν Ἄππιος Κυ τρωνα</td>\n      <td>ν τὸν λαμπρότατον ὑπατικόν Ἄππιος Κυ τὸν ἑαυτο...</td>\n      <td>NaN</td>\n      <td>NaN</td>\n      <td>NaN</td>\n      <td>NaN</td>\n      <td>http://db.edcs.eu/epigr/partner.php?s_language...</td>\n      <td>151.0</td>\n      <td>250.0</td>\n      <td>NaN</td>\n      <td>151 to 250</td>\n      <td>NaN</td>\n      <td>NaN</td>\n      <td>NaN</td>\n      <td>NaN</td>\n      <td>HD067316</td>\n      <td>ν τὸν λαμπρότατον ὑπατικόν Ἄππιος Κυ τὸν ἑαυτο...</td>\n      <td>NaN</td>\n      <td>Greece</td>\n      <td>2 cm</td>\n      <td>[ ]Ν ΤΟΝ ΛΑΜ / [ ]ΟΝ ΑΠΠΙΟΣ ΚΥ / [ ]ΤΡΩΝΑ</td>\n      <td>Aegeum</td>\n      <td>Aígion</td>\n      <td>15 cm</td>\n      <td>2014-01-31</td>\n      <td>3 cm</td>\n      <td>AE 2008, 1264. ; A.D. Rizakis, Achaïe III. Les...</td>\n      <td>Dytikí Elláda</td>\n      <td>Cowey</td>\n      <td>[---]ν τὸν λαμ/[πρότατον ὑπατικ]όν Ἄππιος Κυ/[...</td>\n      <td>https://www.trismegistos.org/text/677832</td>\n      <td>NaN</td>\n      <td>NaN</td>\n      <td>34 cm</td>\n      <td>checked with photo</td>\n      <td>NaN</td>\n      <td>NaN</td>\n      <td>NaN</td>\n      <td>NaN</td>\n      <td>NaN</td>\n      <td>[{'type': 'province', 'text': 'Achaia'}, {'typ...</td>\n      <td>\\n \\xce\\xbd \\xcf\\x84\\xe1\\xbd\\xb8\\xce\\xbd \\xce\\...</td>\n      <td>151 AD - 250 AD</td>\n      <td>NaN</td>\n      <td>NaN</td>\n      <td>NaN</td>\n      <td>NaN</td>\n      <td>48.0</td>\n      <td>Marmor, wei\\xc3\\x9f</td>\n      <td>1000.0</td>\n      <td>143.0</td>\n      <td>unknown</td>\n      <td>NaN</td>\n      <td>Achaia</td>\n      <td>570049</td>\n      <td>NULL</td>\n      <td>NULL</td>\n      <td>15.0</td>\n      <td>34.0</td>\n      <td>2.0</td>\n      <td>Marble</td>\n      <td>NULL</td>\n      <td>NULL</td>\n      <td>Achaia</td>\n      <td>Certain</td>\n      <td>Greece</td>\n      <td>Certain</td>\n      <td>Aegeum</td>\n      <td>Certain</td>\n      <td>Dytikí Elláda</td>\n      <td>Certain</td>\n      <td>Aígion</td>\n      <td>Certain</td>\n      <td>NULL</td>\n      <td>NULL</td>\n      <td>151 AD - 250 AD</td>\n      <td>ν τὸν λαμπρότατον ὑπατικόν Ἄππιος Κυ τὸν ἑαυτο...</td>\n      <td>G</td>\n      <td>Marmor, weiß</td>\n      <td>151.0</td>\n      <td>250.0</td>\n      <td>22.0845</td>\n      <td>38.2487</td>\n      <td>ν τὸν λαμόν Ἄππιος Κυτρωνα</td>\n      <td>ν τὸν λαμπρότατον ὑπατικόν Ἄππιος Κυ τὸν ἑαυτο...</td>\n    </tr>\n    <tr>\n      <th>456814</th>\n      <td>EDCS-13800065</td>\n      <td>CIL 01, 02955 = ILLRP 00370 (p 327) = ILGR 000...</td>\n      <td>Achaia</td>\n      <td>Aigio / Egio / Aiyion / Aegeum</td>\n      <td>Italicei / quei Aegei negotiantur / P(ublium) ...</td>\n      <td>Italicei quei Aegei negotiantur P Rutilium P f...</td>\n      <td>Italicei quei Aegei negotiantur Publium Rutili...</td>\n      <td>tituli honorarii</td>\n      <td>[officium/professio, ordo senatorius, tria nom...</td>\n      <td>NaN</td>\n      <td>officium/professio;  ordo senatorius;  tituli ...</td>\n      <td>http://db.edcs.eu/epigr/partner.php?s_language...</td>\n      <td>-74.0</td>\n      <td>-74.0</td>\n      <td>NaN</td>\n      <td>-74 to -74</td>\n      <td>NaN</td>\n      <td>NaN</td>\n      <td>NaN</td>\n      <td>NaN</td>\n      <td>HD017714</td>\n      <td>Italicei quei Aegei negotiantur Publium Rutili...</td>\n      <td>NaN</td>\n      <td>Greece</td>\n      <td>16 cm</td>\n      <td>ITALICEI / QVEI AEGEI NEGOTIANTVR / P RVTILIVM...</td>\n      <td>Aegeum</td>\n      <td>Aígion</td>\n      <td>58 cm</td>\n      <td>2011-03-29</td>\n      <td>3.5-3.7 cm</td>\n      <td>AE 1954, 0031. ; J. Bingen, BCH 78, 1954, 82-8...</td>\n      <td>Dytikí Elláda</td>\n      <td>Cowey</td>\n      <td>Italicei / quei Aegei negotiantur / P(ublium) ...</td>\n      <td>https://www.trismegistos.org/text/177100</td>\n      <td>votive inscription</td>\n      <td>tabula</td>\n      <td>61 cm</td>\n      <td>checked with photo</td>\n      <td>NaN</td>\n      <td>NaN</td>\n      <td>NaN</td>\n      <td>NaN</td>\n      <td>NaN</td>\n      <td>[{'type': 'province', 'text': 'Achaia'}, {'typ...</td>\n      <td>\\n Italicei quei Aegei negotiantur Publium Rut...</td>\n      <td>74 BC</td>\n      <td>NaN</td>\n      <td>NaN</td>\n      <td>257</td>\n      <td>tabula</td>\n      <td>NaN</td>\n      <td>NaN</td>\n      <td>1000.0</td>\n      <td>372.0</td>\n      <td>votive inscription</td>\n      <td>NaN</td>\n      <td>Achaia</td>\n      <td>570049</td>\n      <td>votive inscription</td>\n      <td>Certain</td>\n      <td>58.0</td>\n      <td>61.0</td>\n      <td>16.0</td>\n      <td>NULL</td>\n      <td>tabula</td>\n      <td>Certain</td>\n      <td>Achaia</td>\n      <td>Certain</td>\n      <td>Greece</td>\n      <td>Certain</td>\n      <td>Aegeum</td>\n      <td>Certain</td>\n      <td>Dytikí Elláda</td>\n      <td>Certain</td>\n      <td>Aígion</td>\n      <td>Certain</td>\n      <td>NULL</td>\n      <td>NULL</td>\n      <td>74 BC</td>\n      <td>Italicei quei Aegei negotiantur Publium Rutili...</td>\n      <td>L</td>\n      <td>lapis</td>\n      <td>-74.0</td>\n      <td>-74.0</td>\n      <td>22.0845</td>\n      <td>38.2487</td>\n      <td>Italicei quei Aegei negotiantur P Rutilium P f...</td>\n      <td>Italicei quei Aegei negotiantur Publium Rutili...</td>\n    </tr>\n  </tbody>\n</table>\n</div>"
     },
     "execution_count": 76,
     "metadata": {},
     "output_type": "execute_result"
    }
   ],
   "source": [
    "LIST[LIST[\"EDH-ID\"].notnull()].head(5)"
   ]
  },
  {
   "cell_type": "code",
   "execution_count": 77,
   "outputs": [
    {
     "data": {
      "text/plain": "540607"
     },
     "execution_count": 77,
     "metadata": {},
     "output_type": "execute_result"
    }
   ],
   "source": [
    "len(LIST)"
   ],
   "metadata": {
    "collapsed": false
   }
  },
  {
   "cell_type": "markdown",
   "metadata": {},
   "source": [
    "# FIlter by language"
   ]
  },
  {
   "cell_type": "code",
   "execution_count": 80,
   "outputs": [
    {
     "data": {
      "text/plain": "530361"
     },
     "execution_count": 80,
     "metadata": {},
     "output_type": "execute_result"
    }
   ],
   "source": [
    "(LIST[\"language\"]==\"L\").sum()"
   ],
   "metadata": {
    "collapsed": false
   }
  },
  {
   "cell_type": "code",
   "execution_count": 81,
   "outputs": [
    {
     "data": {
      "text/plain": "532280"
     },
     "execution_count": 81,
     "metadata": {},
     "output_type": "execute_result"
    }
   ],
   "source": [
    "(LIST[\"language_EDCS\"].isnull()).sum()"
   ],
   "metadata": {
    "collapsed": false
   }
  },
  {
   "cell_type": "code",
   "execution_count": 82,
   "outputs": [
    {
     "data": {
      "text/plain": "              EDCS-ID                                        publication  \\\n456810  EDCS-24700151  CIL 01, 02650 (p 1097) = IG-05-01, 00741 = ILL...   \n456813  EDCS-66200107                                     AE 2008, 01264   \n456815  EDCS-66200108                   SEG-49, 00495a = AE 2008, 01265a   \n456816  EDCS-66200109                   SEG-49, 00495b = AE 2008, 01265b   \n456818  EDCS-66200178                                     AE 2009, 01314   \n...               ...                                                ...   \n539676           None                                               None   \n540219           None                                               None   \n540435           None                                               None   \n540444           None                                               None   \n540497           None                                               None   \n\n       province                           place  \\\n456810   Achaia                          Afesou   \n456813   Achaia  Aigio / Egio / Aiyion / Aegeum   \n456815   Achaia  Aigio / Egio / Aiyion / Aegeum   \n456816   Achaia  Aigio / Egio / Aiyion / Aegeum   \n456818   Achaia                    Alea / Tegea   \n...         ...                             ...   \n539676     None                            None   \n540219     None                            None   \n540435     None                            None   \n540444     None                            None   \n540497     None                            None   \n\n                                              inscription  \\\n456810  Δέκιος Λείβιος (Ζ)εῦξις // D(ecimi) Leivei D(e...   \n456813  [3]ν τὸν λαμ/[πρότατον ὑπατικ]όν Ἄππιος Κυ/[3 ...   \n456815  ἐπὶ Τιβ(ερίου) / Κλαυδί/ου Φρον/τείνου / Νεικη...   \n456816  ἐπὶ Τιβ(ερίου) / Κλαυδίου / Φροντείνου / Νεικη...   \n456818  Τοῦ σεπτοῦ τούτου τεμένος ἐν ἱερεῦσιν / ἐννεακ...   \n...                                                   ...   \n539676                                               None   \n540219                                               None   \n540435                                               None   \n540444                                               None   \n540497                                               None   \n\n                        inscription_conservative_cleaning  \\\n456810       Δέκιος Λείβιος εῦξις D Leivei D Leivei salve   \n456813                       ν τὸν λαμ όν Ἄππιος Κυ τρωνα   \n456815  ἐπὶ Τιβ Κλαυδίου Φροντείνου Νεικηράτου ταμίου ...   \n456816  ἐπὶ Τιβ Κλαυδίου Φροντείνου Νεικηράτου ταμίου ...   \n456818  Τοῦ σεπτοῦ τούτου τεμένος ἐν ἱερεῦσιν ἐννεακαι...   \n...                                                   ...   \n539676                                               None   \n540219                                               None   \n540435                                               None   \n540444                                               None   \n540497                                               None   \n\n                        inscription_interpretive_cleaning  \\\n456810  Δέκιος Λείβιος Ζεῦξις Decimi Leivei Decimi Lei...   \n456813  ν τὸν λαμπρότατον ὑπατικόν Ἄππιος Κυ τὸν ἑαυτο...   \n456815  ἐπὶ Τιβερίου Κλαυδίου Φροντείνου Νεικηράτου τα...   \n456816  ἐπὶ Τιβερίου Κλαυδίου Φροντείνου Νεικηράτου τα...   \n456818  Τοῦ σεπτοῦ τούτου τεμένος ἐν ἱερεῦσιν ἐννεακαι...   \n...                                                   ...   \n539676                                               None   \n540219                                               None   \n540435                                               None   \n540444                                               None   \n540497                                               None   \n\n                           inscr_type             status_notation  \\\n456810             tituli sepulcrales  [praenomen et nomen, viri]   \n456813                           None                        None   \n456815                           None                        None   \n456816                           None                        None   \n456818  [tituli operum, tituli sacri]                        viri   \n...                               ...                         ...   \n539676                           None                        None   \n540219                           None                        None   \n540435                           None                        None   \n540444                           None                        None   \n540497                           None                        None   \n\n       inscr_process                                          status  \\\n456810          None  praenomen et nomen;  tituli sepulcrales;  viri   \n456813          None                                            None   \n456815          None                                            None   \n456816          None                                            None   \n456818          None             tituli operum;  tituli sacri;  viri   \n...              ...                                             ...   \n539676          None                                            None   \n540219          None                                            None   \n540435          None                                            None   \n540444          None                                            None   \n540497          None                                            None   \n\n                                             partner_link  dating_from  \\\n456810  http://db.edcs.eu/epigr/partner.php?s_language...          NaN   \n456813  http://db.edcs.eu/epigr/partner.php?s_language...        151.0   \n456815  http://db.edcs.eu/epigr/partner.php?s_language...          NaN   \n456816  http://db.edcs.eu/epigr/partner.php?s_language...          NaN   \n456818  http://db.edcs.eu/epigr/partner.php?s_language...        527.0   \n...                                                   ...          ...   \n539676                                               None          NaN   \n540219                                               None          NaN   \n540435                                               None          NaN   \n540444                                               None          NaN   \n540497                                               None          NaN   \n\n        dating_to photo  raw_dating language_EDCS comment extra_text  \\\n456810        NaN  None        None          None    None       None   \n456813      250.0  None  151 to 250          None    None       None   \n456815        NaN  None        None          None    None       None   \n456816        NaN  None        None          None    None       None   \n456818      565.0  None  527 to 565          None    None       None   \n...           ...   ...         ...           ...     ...        ...   \n539676        NaN  None        None          None    None       None   \n540219        NaN  None        None          None    None       None   \n540435        NaN  None        None          None    None       None   \n540444        NaN  None        None          None    None       None   \n540497        NaN  None        None          None    None       None   \n\n       extra_html    EDH-ID  \\\n456810       None  HD057726   \n456813       None  HD067316   \n456815       None  HD068315   \n456816       None  HD068319   \n456818       None  HD068216   \n...           ...       ...   \n539676       None  HD078982   \n540219       None  HD079977   \n540435       None  HD081063   \n540444       None  HD081141   \n540497       None  HD081409   \n\n                        clean_text_interpretive_word_EDCS  \\\n456810  Δέκιος Λείβιος Ζεῦξις Decimi Leivei Decimi Lei...   \n456813  ν τὸν λαμπρότατον ὑπατικόν Ἄππιος Κυ τὸν ἑαυτο...   \n456815  ἐπὶ Τιβερίου Κλαυδίου Φροντείνου Νεικηράτου τα...   \n456816  ἐπὶ Τιβερίου Κλαυδίου Φροντείνου Νεικηράτου τα...   \n456818  Τοῦ σεπτοῦ τούτου τεμένος ἐν ἱερεῦσιν ἐννεακαι...   \n...                                                   ...   \n539676                                               None   \n540219                                               None   \n540435                                               None   \n540444                                               None   \n540497                                               None   \n\n                                               commentary         country  \\\n456810                       (B): Δέκι<μ>ος statt Δέκιος.          Greece   \n456813                                               None          Greece   \n456815                                           Gewicht.          Greece   \n456816                                           Gewicht.          Greece   \n456818                                               None          Greece   \n...                                                   ...             ...   \n539676                                               None         Germany   \n540219    Sechs Hexameter. Material: Blei-Zinn-Legierung.  United Kingdom   \n540435  Durchmesser bezieht sich auf den Innendurchmes...         Germany   \n540444                                               None  United Kingdom   \n540497                                               None  United Kingdom   \n\n       depth                                    diplomatic_text  \\\n456810  None  ΔΕΚΙΟΣ ΛΕΙΒΙΟΣ ΞΕΥΞΙΣ / / D LEIVEI D LEIVEI SALVE   \n456813  2 cm          [ ]Ν ΤΟΝ ΛΑΜ / [ ]ΟΝ ΑΠΠΙΟΣ ΚΥ / [ ]ΤΡΩΝΑ   \n456815  1 cm  ΕΠΙ ΤΙΒ / ΚΛΑΥΔΙ / ΟΥ ΦΡΟΝ / ΤΕΙΝΟΥ / ΝΕΙΚΗΡ /...   \n456816  0 cm  ΕΠΙ ΤΙΒ / ΚΛΑΥΔΙΟΥ / ΦΡΟΝΤΕΙΝΟΥ / ΝΕΙΚΗΡΑΤΟΥ /...   \n456818  None  ΤΟΥ ΣΕΠΤΟΥ ΤΟΥΤΟΥ ΤΕΜΕΝΟΣ ΕΝ ΙΕΡΕΥΣΙΝ / ΕΝΝΕΑΚ...   \n...      ...                                                ...   \n539676  2 cm                     [ ]ΟΥΣ[ ] / [ ]ΣΙΟ[ ] / [ ]ΕΚ[   \n540219  None  ΑΒΡΑΙ Β[ ]ΡΒΑΣΩ / ΒΑΡΒΑΣΩΧ ΒΑΡΒΑΣΩΘ ΕΥΛΙΩΡ / Α...   \n540435  None                                   PVLVERI / ΖΗΣΑΙΣ   \n540444  None                                              ΘΥΣΙΑ   \n540497  None                                            ΔΙΕΟΔΚΑ   \n\n                               findspot_ancient findspot_modern   height  \\\n456810                                   Sparta          Spárti    35 cm   \n456813                                   Aegeum          Aígion    15 cm   \n456815                                   Aegeum          Aígion    11 cm   \n456816                                   Aegeum          Aígion    11 cm   \n456818                                    Tegea            Alea    54 cm   \n...                                         ...             ...      ...   \n539676                       Augusta Treverorum           Trier  (12) cm   \n540219                                Londinium          London    13 cm   \n540435  Aquae Mattiacorum (Civitas Mattiacorum)       Wiesbaden     None   \n540444                                Londinium          London     None   \n540497                                Londinium          London     None   \n\n       last_update letter_size  \\\n456810  2011-11-14        2 cm   \n456813  2014-01-31        3 cm   \n456815  2014-10-17    1-1.5 cm   \n456816  2014-10-17  0.5-0.6 cm   \n456818  2015-09-28        None   \n...            ...         ...   \n539676  2020-05-12  2.1-2.3 cm   \n540219  2020-02-24        None   \n540435  2020-10-06        None   \n540444  2019-12-17        None   \n540497  2020-01-13        None   \n\n                                               literature    modern_region  \\\n456810  IG 05, 01, 00741. (B) ; ILLRP 0962. ; CIL 01 (...     Pelopónissos   \n456813  AE 2008, 1264. ; A.D. Rizakis, Achaïe III. Les...    Dytikí Elláda   \n456815  AE 2008, 1265a. ; A.D. Rizakis, Achaïe III. Le...    Dytikí Elláda   \n456816  AE 2008, 1265b. ; A.D. Rizakis, Achaïe III. Le...    Dytikí Elláda   \n456818  AE 2009, 1314. ; G. Velenis, in: S. Drougou u....     Pelopónissos   \n...                                                   ...              ...   \n539676  H. Merten, Die frühchristlichen Inschriften au...  Rheinland-Pfalz   \n540219  AE 2013, 0946. ; R.S.O. Tomlin, Britannia 44, ...           London   \n540435  E. Ritterling, in: Der obergermanisch-rätische...           Hessen   \n540444  AE 2012, 0848. ; R.S.O. Tomlin, Britannia 43, ...           London   \n540497  AE 2012, 0845. ; R.S.O. Tomlin, Britannia 43, ...           London   \n\n       responsible_individual  \\\n456810                  Cowey   \n456813                  Cowey   \n456815                  Cowey   \n456816                  Cowey   \n456818                  Cowey   \n...                       ...   \n539676                  Cowey   \n540219                  Cowey   \n540435                   Gräf   \n540444                  Cowey   \n540497                  Cowey   \n\n                                            transcription  \\\n456810  Δέκιος Λείβιος &lt;Ζ=Ξ&gt;εῦξις // D(eci) Leiv...   \n456813  [---]ν τὸν λαμ/[πρότατον ὑπατικ]όν Ἄππιος Κυ/[...   \n456815  ἐπὶ Τιβ(ερίου) / Κλαυδί/ου Φρον/τείνου / Νεικη...   \n456816  ἐπὶ Τιβ(ερίου) / Κλαυδίου / Φροντείνου / Νεικη...   \n456818  Τοῦ σεπτοῦ τούτου τεμένος ἐν ἱερεῦσιν / ἐννεακ...   \n...                                                   ...   \n539676     [---]ΟΥΣ[---] / [---]ΣΙΟ[---] / [---]ΕΚ[------   \n540219  αβραι β[α]ρβασω / βαρβασωχ βαρβασωθ ευλιωρ / α...   \n540435                                   Pulveri / ζήσαις   \n540444                                              θυσία   \n540497                          Διε&lt;ξ&gt;οδ&lt;ι&gt;κά   \n\n                                trismegistos_uri        type_of_inscription  \\\n456810  https://www.trismegistos.org/text/177460                    epitaph   \n456813  https://www.trismegistos.org/text/677832                       None   \n456815  https://www.trismegistos.org/text/677853  owner/artist inscription?   \n456816  https://www.trismegistos.org/text/677854  owner/artist inscription?   \n456818  https://www.trismegistos.org/text/677834                       None   \n...                                          ...                        ...   \n539676                                      None                    epitaph   \n540219                                      None                    defixio   \n540435                                      None                acclamation   \n540444                                      None                     label?   \n540497                                      None                     label?   \n\n               type_of_monument   width         work_status  \\\n456810                     None   16 cm            no image   \n456813                     None   34 cm  checked with photo   \n456815  instrumentum domesticum    5 cm  checked with photo   \n456816  instrumentum domesticum    5 cm  checked with photo   \n456818                     None  161 cm         provisional   \n...                         ...     ...                 ...   \n539676                   tabula  (8) cm  checked with photo   \n540219                   tabula    4 cm  checked with photo   \n540435                jewellery    1 cm  checked with photo   \n540444  instrumentum domesticum    None  checked with photo   \n540497  instrumentum domesticum    None  checked with photo   \n\n                                          findspot  year_of_find  \\\n456810                                        None           NaN   \n456813                                        None           NaN   \n456815                                        None        1979.0   \n456816                                        None           NaN   \n456818                                        None           NaN   \n...                                            ...           ...   \n539676          {S. Maximin, Kirche, Mittelschiff}        1982.0   \n540219             The City, {Upper Thames Street}        1989.0   \n540435                               {Adlerstraße}        1837.0   \n540444      The City, {Crosby Square, Bishopsgate}       -2008.0   \n540497  The City, {Mariner House, Crutched Friars}        2008.0   \n\n                   present_location                religion  idno_tm  \\\n456810                         None                    None      NaN   \n456813                         None                    None      NaN   \n456815           Pátrai, Arch. Mus.                    None      NaN   \n456816           Pátrai, Arch. Mus.                    None      NaN   \n456818                         None                    None      NaN   \n...                             ...                     ...      ...   \n539676  Trier, Dom- u. Diözesanmus.  Judaism / Christianity      NaN   \n540219       London, Mus. of London            magic/spells      NaN   \n540435    Wiesbaden, Mus. Wiesbaden                    None      NaN   \n540444                         None                    None      NaN   \n540497                         None                    None      NaN   \n\n                                          placenames_refs  \\\n456810  [{'type': 'province', 'text': 'Achaia'}, {'typ...   \n456813  [{'type': 'province', 'text': 'Achaia'}, {'typ...   \n456815  [{'type': 'province', 'text': 'Achaia'}, {'typ...   \n456816  [{'type': 'province', 'text': 'Achaia'}, {'typ...   \n456818  [{'type': 'province', 'text': 'Achaia'}, {'typ...   \n...                                                   ...   \n539676  [{'type': 'province', 'text': 'Belgica'}, {'ty...   \n540219  [{'type': 'province', 'text': 'Britannia'}, {'...   \n540435  [{'type': 'province', 'text': 'Germania superi...   \n540444  [{'type': 'province', 'text': 'Britannia'}, {'...   \n540497  [{'type': 'province', 'text': 'Britannia'}, {'...   \n\n                                             text_edition    origdate_text  \\\n456810  \\n \\xce\\x94\\xe1\\xbd\\xb3\\xce\\xba\\xce\\xb9\\xce\\xb...                    \n456813  \\n \\xce\\xbd \\xcf\\x84\\xe1\\xbd\\xb8\\xce\\xbd \\xce\\...  151 AD - 250 AD   \n456815  \\n \\xe1\\xbc\\x90\\xcf\\x80\\xe1\\xbd\\xb6 \\xce\\xa4\\x...                    \n456816  \\n \\xe1\\xbc\\x90\\xcf\\x80\\xe1\\xbd\\xb6 \\xce\\xa4\\x...                    \n456818  \\n \\xce\\xa4\\xce\\xbf\\xe1\\xbf\\xa6 \\xcf\\x83\\xce\\x...  527 AD - 565 AD   \n...                                                   ...              ...   \n539676  \\n \\xce\\x9f\\xce\\xa5\\xce\\xa3 \\xce\\xa3\\xce\\x99\\x...  371 AD - 430 AD   \n540219  \\n \\xce\\xb1\\xce\\xb2\\xcf\\x81\\xce\\xb1\\xce\\xb9 \\x...  131 AD - 200 AD   \n540435  \\n Pulveri \\xce\\xb6\\xe1\\xbd\\xb5\\xcf\\x83\\xce\\xb...  301 AD - 350 AD   \n540444  \\n \\xce\\xb8\\xcf\\x85\\xcf\\x83\\xe1\\xbd\\xb7\\xce\\xb1\\n   71 AD - 130 AD   \n540497  \\n \\xce\\x94\\xce\\xb9\\xce\\xb5&lt;\\xce\\xbe&gt;\\xc...   51 AD - 200 AD   \n\n        layout_execution  layout_execution_text support_objecttype  \\\n456810               NaN                    NaN               None   \n456813               NaN                    NaN               None   \n456815               NaN                    NaN                140   \n456816               NaN                    NaN                140   \n456818               NaN                    NaN               None   \n...                  ...                    ...                ...   \n539676               NaN                    NaN                257   \n540219               NaN                    NaN                257   \n540435               NaN                    NaN                163   \n540444               NaN                    NaN                140   \n540497               NaN                    NaN                140   \n\n        support_objecttype_text  support_material  \\\n456810                     None               NaN   \n456813                     None              48.0   \n456815  instrumentum domesticum             109.0   \n456816  instrumentum domesticum             109.0   \n456818                     None               NaN   \n...                         ...               ...   \n539676                   tabula               NaN   \n540219                   tabula             108.0   \n540435                jewellery             112.0   \n540444  instrumentum domesticum             122.0   \n540497  instrumentum domesticum             131.0   \n\n                  support_material_text  support_decoration  keywords_term  \\\n456810                             None              1000.0           92.0   \n456813              Marmor, wei\\xc3\\x9f              1000.0          143.0   \n456815                           Bronze              1000.0            NaN   \n456816                           Bronze              1000.0            NaN   \n456818                             None              1000.0          143.0   \n...                                 ...                 ...            ...   \n539676  Marmor, ge\\xc3\\xa4dert / farbig              1000.0           92.0   \n540219                             Blei              1000.0           76.0   \n540435                       Gold, Onyx              1000.0           73.0   \n540444                             Glas              1000.0          109.0   \n540497                              Ton              1000.0          109.0   \n\n               keywords_term_text people     province_label pleiades_id  \\\n456810                    epitaph   None             Achaia      570685   \n456813                    unknown   None             Achaia      570049   \n456815  owner/artist inscription?   None             Achaia      570049   \n456816  owner/artist inscription?   None             Achaia      570049   \n456818                    unknown   None             Achaia               \n...                           ...    ...                ...         ...   \n539676                    epitaph   None            Belgica      108894   \n540219                    defixio   None          Britannia       79574   \n540435                acclamation   None  Germania superior      108750   \n540444                     label?   None          Britannia       79574   \n540497                     label?   None          Britannia       79574   \n\n       type_of_inscription_clean type_of_inscription_certainty  height_cm  \\\n456810                   epitaph                       Certain       35.0   \n456813                      NULL                          NULL       15.0   \n456815  owner/artist inscription                     Uncertain       11.0   \n456816  owner/artist inscription                     Uncertain       11.0   \n456818                      NULL                          NULL       54.0   \n...                          ...                           ...        ...   \n539676                   epitaph                       Certain       12.0   \n540219                   defixio                       Certain       13.0   \n540435               acclamation                       Certain        NaN   \n540444                     label                     Uncertain        NaN   \n540497                     label                     Uncertain        NaN   \n\n        width_cm  depth_cm material_clean   type_of_monument_clean  \\\n456810      16.0       NaN           NULL                     NULL   \n456813      34.0       2.0         Marble                     NULL   \n456815       5.0       1.0          Metal  instrumentum domesticum   \n456816       5.0       0.0          Metal  instrumentum domesticum   \n456818     161.0       NaN           NULL                     NULL   \n...          ...       ...            ...                      ...   \n539676       8.0       2.0         Marble                   tabula   \n540219       4.0       NaN          Metal                   tabula   \n540435       1.0       NaN          Metal                jewellery   \n540444       NaN       NaN          Glass  instrumentum domesticum   \n540497       NaN       NaN           Clay  instrumentum domesticum   \n\n       type_of_monument_certainty province_label_clean  \\\n456810                       NULL               Achaia   \n456813                       NULL               Achaia   \n456815                    Certain               Achaia   \n456816                    Certain               Achaia   \n456818                       NULL               Achaia   \n...                           ...                  ...   \n539676                    Certain              Belgica   \n540219                    Certain            Britannia   \n540435                    Certain    Germania superior   \n540444                    Certain            Britannia   \n540497                    Certain            Britannia   \n\n       province_label_certainty   country_clean country_certainty  \\\n456810                  Certain          Greece           Certain   \n456813                  Certain          Greece           Certain   \n456815                  Certain          Greece           Certain   \n456816                  Certain          Greece           Certain   \n456818                  Certain          Greece           Certain   \n...                         ...             ...               ...   \n539676                  Certain         Germany           Certain   \n540219                  Certain  United Kingdom           Certain   \n540435                  Certain         Germany           Certain   \n540444                  Certain  United Kingdom           Certain   \n540497                  Certain  United Kingdom           Certain   \n\n                         findspot_ancient_clean findspot_ancient_certainty  \\\n456810                                   Sparta                    Certain   \n456813                                   Aegeum                    Certain   \n456815                                   Aegeum                    Certain   \n456816                                   Aegeum                    Certain   \n456818                                    Tegea                    Certain   \n...                                         ...                        ...   \n539676                       Augusta Treverorum                    Certain   \n540219                                Londinium                    Certain   \n540435  Aquae Mattiacorum (Civitas Mattiacorum)                    Certain   \n540444                                Londinium                    Certain   \n540497                                Londinium                    Certain   \n\n       modern_region_clean modern_region_certainty findspot_modern_clean  \\\n456810        Pelopónissos                 Certain                Spárti   \n456813       Dytikí Elláda                 Certain                Aígion   \n456815       Dytikí Elláda                 Certain                Aígion   \n456816       Dytikí Elláda                 Certain                Aígion   \n456818        Pelopónissos                 Certain                  Alea   \n...                    ...                     ...                   ...   \n539676     Rheinland-Pfalz                 Certain                 Trier   \n540219              London                 Certain                London   \n540435              Hessen                 Certain             Wiesbaden   \n540444              London                 Certain                London   \n540497              London                 Certain                London   \n\n       findspot_modern_certainty                              findspot_clean  \\\n456810                   Certain                                        NULL   \n456813                   Certain                                        NULL   \n456815                   Certain                                        NULL   \n456816                   Certain                                        NULL   \n456818                   Certain                                        NULL   \n...                          ...                                         ...   \n539676                   Certain          {S. Maximin, Kirche, Mittelschiff}   \n540219                   Certain             The City, {Upper Thames Street}   \n540435                   Certain                               {Adlerstraße}   \n540444                   Certain      The City, {Crosby Square, Bishopsgate}   \n540497                   Certain  The City, {Mariner House, Crutched Friars}   \n\n       findspot_certainty origdate_text_clean  \\\n456810               NULL                       \n456813               NULL     151 AD - 250 AD   \n456815               NULL                       \n456816               NULL                       \n456818               NULL     527 AD - 565 AD   \n...                   ...                 ...   \n539676            Certain     371 AD - 430 AD   \n540219            Certain     131 AD - 200 AD   \n540435            Certain     301 AD - 350 AD   \n540444            Certain      71 AD - 130 AD   \n540497            Certain      51 AD - 200 AD   \n\n                         clean_text_interpretive_sentence language  \\\n456810  Δέκιος Λείβιος lt;Ζ gt;εῦξις Deci Leivei Deci ...       GL   \n456813  ν τὸν λαμπρότατον ὑπατικόν Ἄππιος Κυ τὸν ἑαυτο...        G   \n456815  ἐπὶ Τιβερίου Κλαυδίου Φροντείνου Νεικηράτου τα...        G   \n456816  ἐπὶ Τιβερίου Κλαυδίου Φροντείνου Νεικηράτου τα...        G   \n456818  Τοῦ σεπτοῦ τούτου τεμένος ἐν ἱερεῦσιν ἐννεακαι...        G   \n...                                                   ...      ...   \n539676                                         ΟΥΣ ΣΙΟ ΕΚ        G   \n540219  αβραι βαρβασω βαρβασωχ βαρβασωθ ευλιωρ αθεμορφ...        G   \n540435                                     Pulveri ζήσαις       GL   \n540444                                              θυσία        G   \n540497                          Διε lt;ξ gt;οδ lt;ι gt;κά        G   \n\n                        material  not_after  not_before  Longitude   Latitude  \\\n456810                     lapis        NaN         NaN  22.430900  37.073700   \n456813              Marmor, weiß      151.0       250.0  22.084500  38.248700   \n456815                    Bronze        NaN         NaN  22.084500  38.248700   \n456816                    Bronze        NaN         NaN  22.084500  38.248700   \n456818                     lapis      527.0       565.0  22.420877  37.454501   \n...                          ...        ...         ...        ...        ...   \n539676  Marmor, geädert / farbig      371.0       430.0   6.630300  49.756800   \n540219                      Blei      131.0       200.0  -0.208800  51.464100   \n540435                Gold, Onyx      301.0       350.0   8.238400  50.083400   \n540444                      Glas       71.0       130.0  -0.208800  51.464100   \n540497                       Ton       51.0       200.0  -0.208800  51.464100   \n\n                                  clean_text_conservative  \\\n456810  Δέκιος Λείβιος lt Ξ gt εῦξις D Leivei D Leivei...   \n456813                         ν τὸν λαμόν Ἄππιος Κυτρωνα   \n456815  ἐπὶ Τιβ Κλαυδίου Φροντείνου Νεικηράτου ταμίου ...   \n456816  ἐπὶ Τιβ Κλαυδίου Φροντείνου Νεικηράτου ταμίου ...   \n456818  Τοῦ σεπτοῦ τούτου τεμένος ἐν ἱερεῦσιν ἐννεακαι...   \n...                                                   ...   \n539676                                         ΟΥΣ ΣΙΟ ΕΚ   \n540219  αβραι βρβασω βαρβασωχ βαρβασωθ ευλιωρ αθεμορφι...   \n540435                                     Pulveri ζήσαις   \n540444                                              θυσία   \n540497                          Διε lt ξ gt οδ lt ι gt κά   \n\n                             clean_text_interpretive_word  \n456810  Δέκιος Λείβιος lt Ζ gt εῦξις Deci Leivei Deci ...  \n456813  ν τὸν λαμπρότατον ὑπατικόν Ἄππιος Κυ τὸν ἑαυτο...  \n456815  ἐπὶ Τιβερίου Κλαυδίου Φροντείνου Νεικηράτου τα...  \n456816  ἐπὶ Τιβερίου Κλαυδίου Φροντείνου Νεικηράτου τα...  \n456818  Τοῦ σεπτοῦ τούτου τεμένος ἐν ἱερεῦσιν ἐννεακαι...  \n...                                                   ...  \n539676                                         ΟΥΣ ΣΙΟ ΕΚ  \n540219  αβραι βαρβασω βαρβασωχ βαρβασωθ ευλιωρ αθεμορφ...  \n540435                                     Pulveri ζήσαις  \n540444                                              θυσία  \n540497                          Διε lt ξ gt οδ lt ι gt κά  \n\n[1995 rows x 90 columns]",
      "text/html": "<div>\n<style scoped>\n    .dataframe tbody tr th:only-of-type {\n        vertical-align: middle;\n    }\n\n    .dataframe tbody tr th {\n        vertical-align: top;\n    }\n\n    .dataframe thead th {\n        text-align: right;\n    }\n</style>\n<table border=\"1\" class=\"dataframe\">\n  <thead>\n    <tr style=\"text-align: right;\">\n      <th></th>\n      <th>EDCS-ID</th>\n      <th>publication</th>\n      <th>province</th>\n      <th>place</th>\n      <th>inscription</th>\n      <th>inscription_conservative_cleaning</th>\n      <th>inscription_interpretive_cleaning</th>\n      <th>inscr_type</th>\n      <th>status_notation</th>\n      <th>inscr_process</th>\n      <th>status</th>\n      <th>partner_link</th>\n      <th>dating_from</th>\n      <th>dating_to</th>\n      <th>photo</th>\n      <th>raw_dating</th>\n      <th>language_EDCS</th>\n      <th>comment</th>\n      <th>extra_text</th>\n      <th>extra_html</th>\n      <th>EDH-ID</th>\n      <th>clean_text_interpretive_word_EDCS</th>\n      <th>commentary</th>\n      <th>country</th>\n      <th>depth</th>\n      <th>diplomatic_text</th>\n      <th>findspot_ancient</th>\n      <th>findspot_modern</th>\n      <th>height</th>\n      <th>last_update</th>\n      <th>letter_size</th>\n      <th>literature</th>\n      <th>modern_region</th>\n      <th>responsible_individual</th>\n      <th>transcription</th>\n      <th>trismegistos_uri</th>\n      <th>type_of_inscription</th>\n      <th>type_of_monument</th>\n      <th>width</th>\n      <th>work_status</th>\n      <th>findspot</th>\n      <th>year_of_find</th>\n      <th>present_location</th>\n      <th>religion</th>\n      <th>idno_tm</th>\n      <th>placenames_refs</th>\n      <th>text_edition</th>\n      <th>origdate_text</th>\n      <th>layout_execution</th>\n      <th>layout_execution_text</th>\n      <th>support_objecttype</th>\n      <th>support_objecttype_text</th>\n      <th>support_material</th>\n      <th>support_material_text</th>\n      <th>support_decoration</th>\n      <th>keywords_term</th>\n      <th>keywords_term_text</th>\n      <th>people</th>\n      <th>province_label</th>\n      <th>pleiades_id</th>\n      <th>type_of_inscription_clean</th>\n      <th>type_of_inscription_certainty</th>\n      <th>height_cm</th>\n      <th>width_cm</th>\n      <th>depth_cm</th>\n      <th>material_clean</th>\n      <th>type_of_monument_clean</th>\n      <th>type_of_monument_certainty</th>\n      <th>province_label_clean</th>\n      <th>province_label_certainty</th>\n      <th>country_clean</th>\n      <th>country_certainty</th>\n      <th>findspot_ancient_clean</th>\n      <th>findspot_ancient_certainty</th>\n      <th>modern_region_clean</th>\n      <th>modern_region_certainty</th>\n      <th>findspot_modern_clean</th>\n      <th>findspot_modern_certainty</th>\n      <th>findspot_clean</th>\n      <th>findspot_certainty</th>\n      <th>origdate_text_clean</th>\n      <th>clean_text_interpretive_sentence</th>\n      <th>language</th>\n      <th>material</th>\n      <th>not_after</th>\n      <th>not_before</th>\n      <th>Longitude</th>\n      <th>Latitude</th>\n      <th>clean_text_conservative</th>\n      <th>clean_text_interpretive_word</th>\n    </tr>\n  </thead>\n  <tbody>\n    <tr>\n      <th>456810</th>\n      <td>EDCS-24700151</td>\n      <td>CIL 01, 02650 (p 1097) = IG-05-01, 00741 = ILL...</td>\n      <td>Achaia</td>\n      <td>Afesou</td>\n      <td>Δέκιος Λείβιος (Ζ)εῦξις // D(ecimi) Leivei D(e...</td>\n      <td>Δέκιος Λείβιος εῦξις D Leivei D Leivei salve</td>\n      <td>Δέκιος Λείβιος Ζεῦξις Decimi Leivei Decimi Lei...</td>\n      <td>tituli sepulcrales</td>\n      <td>[praenomen et nomen, viri]</td>\n      <td>None</td>\n      <td>praenomen et nomen;  tituli sepulcrales;  viri</td>\n      <td>http://db.edcs.eu/epigr/partner.php?s_language...</td>\n      <td>NaN</td>\n      <td>NaN</td>\n      <td>None</td>\n      <td>None</td>\n      <td>None</td>\n      <td>None</td>\n      <td>None</td>\n      <td>None</td>\n      <td>HD057726</td>\n      <td>Δέκιος Λείβιος Ζεῦξις Decimi Leivei Decimi Lei...</td>\n      <td>(B): Δέκι&lt;μ&gt;ος statt Δέκιος.</td>\n      <td>Greece</td>\n      <td>None</td>\n      <td>ΔΕΚΙΟΣ ΛΕΙΒΙΟΣ ΞΕΥΞΙΣ / / D LEIVEI D LEIVEI SALVE</td>\n      <td>Sparta</td>\n      <td>Spárti</td>\n      <td>35 cm</td>\n      <td>2011-11-14</td>\n      <td>2 cm</td>\n      <td>IG 05, 01, 00741. (B) ; ILLRP 0962. ; CIL 01 (...</td>\n      <td>Pelopónissos</td>\n      <td>Cowey</td>\n      <td>Δέκιος Λείβιος &amp;lt;Ζ=Ξ&amp;gt;εῦξις // D(eci) Leiv...</td>\n      <td>https://www.trismegistos.org/text/177460</td>\n      <td>epitaph</td>\n      <td>None</td>\n      <td>16 cm</td>\n      <td>no image</td>\n      <td>None</td>\n      <td>NaN</td>\n      <td>None</td>\n      <td>None</td>\n      <td>NaN</td>\n      <td>[{'type': 'province', 'text': 'Achaia'}, {'typ...</td>\n      <td>\\n \\xce\\x94\\xe1\\xbd\\xb3\\xce\\xba\\xce\\xb9\\xce\\xb...</td>\n      <td></td>\n      <td>NaN</td>\n      <td>NaN</td>\n      <td>None</td>\n      <td>None</td>\n      <td>NaN</td>\n      <td>None</td>\n      <td>1000.0</td>\n      <td>92.0</td>\n      <td>epitaph</td>\n      <td>None</td>\n      <td>Achaia</td>\n      <td>570685</td>\n      <td>epitaph</td>\n      <td>Certain</td>\n      <td>35.0</td>\n      <td>16.0</td>\n      <td>NaN</td>\n      <td>NULL</td>\n      <td>NULL</td>\n      <td>NULL</td>\n      <td>Achaia</td>\n      <td>Certain</td>\n      <td>Greece</td>\n      <td>Certain</td>\n      <td>Sparta</td>\n      <td>Certain</td>\n      <td>Pelopónissos</td>\n      <td>Certain</td>\n      <td>Spárti</td>\n      <td>Certain</td>\n      <td>NULL</td>\n      <td>NULL</td>\n      <td></td>\n      <td>Δέκιος Λείβιος lt;Ζ gt;εῦξις Deci Leivei Deci ...</td>\n      <td>GL</td>\n      <td>lapis</td>\n      <td>NaN</td>\n      <td>NaN</td>\n      <td>22.430900</td>\n      <td>37.073700</td>\n      <td>Δέκιος Λείβιος lt Ξ gt εῦξις D Leivei D Leivei...</td>\n      <td>Δέκιος Λείβιος lt Ζ gt εῦξις Deci Leivei Deci ...</td>\n    </tr>\n    <tr>\n      <th>456813</th>\n      <td>EDCS-66200107</td>\n      <td>AE 2008, 01264</td>\n      <td>Achaia</td>\n      <td>Aigio / Egio / Aiyion / Aegeum</td>\n      <td>[3]ν τὸν λαμ/[πρότατον ὑπατικ]όν Ἄππιος Κυ/[3 ...</td>\n      <td>ν τὸν λαμ όν Ἄππιος Κυ τρωνα</td>\n      <td>ν τὸν λαμπρότατον ὑπατικόν Ἄππιος Κυ τὸν ἑαυτο...</td>\n      <td>None</td>\n      <td>None</td>\n      <td>None</td>\n      <td>None</td>\n      <td>http://db.edcs.eu/epigr/partner.php?s_language...</td>\n      <td>151.0</td>\n      <td>250.0</td>\n      <td>None</td>\n      <td>151 to 250</td>\n      <td>None</td>\n      <td>None</td>\n      <td>None</td>\n      <td>None</td>\n      <td>HD067316</td>\n      <td>ν τὸν λαμπρότατον ὑπατικόν Ἄππιος Κυ τὸν ἑαυτο...</td>\n      <td>None</td>\n      <td>Greece</td>\n      <td>2 cm</td>\n      <td>[ ]Ν ΤΟΝ ΛΑΜ / [ ]ΟΝ ΑΠΠΙΟΣ ΚΥ / [ ]ΤΡΩΝΑ</td>\n      <td>Aegeum</td>\n      <td>Aígion</td>\n      <td>15 cm</td>\n      <td>2014-01-31</td>\n      <td>3 cm</td>\n      <td>AE 2008, 1264. ; A.D. Rizakis, Achaïe III. Les...</td>\n      <td>Dytikí Elláda</td>\n      <td>Cowey</td>\n      <td>[---]ν τὸν λαμ/[πρότατον ὑπατικ]όν Ἄππιος Κυ/[...</td>\n      <td>https://www.trismegistos.org/text/677832</td>\n      <td>None</td>\n      <td>None</td>\n      <td>34 cm</td>\n      <td>checked with photo</td>\n      <td>None</td>\n      <td>NaN</td>\n      <td>None</td>\n      <td>None</td>\n      <td>NaN</td>\n      <td>[{'type': 'province', 'text': 'Achaia'}, {'typ...</td>\n      <td>\\n \\xce\\xbd \\xcf\\x84\\xe1\\xbd\\xb8\\xce\\xbd \\xce\\...</td>\n      <td>151 AD - 250 AD</td>\n      <td>NaN</td>\n      <td>NaN</td>\n      <td>None</td>\n      <td>None</td>\n      <td>48.0</td>\n      <td>Marmor, wei\\xc3\\x9f</td>\n      <td>1000.0</td>\n      <td>143.0</td>\n      <td>unknown</td>\n      <td>None</td>\n      <td>Achaia</td>\n      <td>570049</td>\n      <td>NULL</td>\n      <td>NULL</td>\n      <td>15.0</td>\n      <td>34.0</td>\n      <td>2.0</td>\n      <td>Marble</td>\n      <td>NULL</td>\n      <td>NULL</td>\n      <td>Achaia</td>\n      <td>Certain</td>\n      <td>Greece</td>\n      <td>Certain</td>\n      <td>Aegeum</td>\n      <td>Certain</td>\n      <td>Dytikí Elláda</td>\n      <td>Certain</td>\n      <td>Aígion</td>\n      <td>Certain</td>\n      <td>NULL</td>\n      <td>NULL</td>\n      <td>151 AD - 250 AD</td>\n      <td>ν τὸν λαμπρότατον ὑπατικόν Ἄππιος Κυ τὸν ἑαυτο...</td>\n      <td>G</td>\n      <td>Marmor, weiß</td>\n      <td>151.0</td>\n      <td>250.0</td>\n      <td>22.084500</td>\n      <td>38.248700</td>\n      <td>ν τὸν λαμόν Ἄππιος Κυτρωνα</td>\n      <td>ν τὸν λαμπρότατον ὑπατικόν Ἄππιος Κυ τὸν ἑαυτο...</td>\n    </tr>\n    <tr>\n      <th>456815</th>\n      <td>EDCS-66200108</td>\n      <td>SEG-49, 00495a = AE 2008, 01265a</td>\n      <td>Achaia</td>\n      <td>Aigio / Egio / Aiyion / Aegeum</td>\n      <td>ἐπὶ Τιβ(ερίου) / Κλαυδί/ου Φρον/τείνου / Νεικη...</td>\n      <td>ἐπὶ Τιβ Κλαυδίου Φροντείνου Νεικηράτου ταμίου ...</td>\n      <td>ἐπὶ Τιβερίου Κλαυδίου Φροντείνου Νεικηράτου τα...</td>\n      <td>None</td>\n      <td>None</td>\n      <td>None</td>\n      <td>None</td>\n      <td>http://db.edcs.eu/epigr/partner.php?s_language...</td>\n      <td>NaN</td>\n      <td>NaN</td>\n      <td>None</td>\n      <td>None</td>\n      <td>None</td>\n      <td>None</td>\n      <td>None</td>\n      <td>None</td>\n      <td>HD068315</td>\n      <td>ἐπὶ Τιβερίου Κλαυδίου Φροντείνου Νεικηράτου τα...</td>\n      <td>Gewicht.</td>\n      <td>Greece</td>\n      <td>1 cm</td>\n      <td>ΕΠΙ ΤΙΒ / ΚΛΑΥΔΙ / ΟΥ ΦΡΟΝ / ΤΕΙΝΟΥ / ΝΕΙΚΗΡ /...</td>\n      <td>Aegeum</td>\n      <td>Aígion</td>\n      <td>11 cm</td>\n      <td>2014-10-17</td>\n      <td>1-1.5 cm</td>\n      <td>AE 2008, 1265a. ; A.D. Rizakis, Achaïe III. Le...</td>\n      <td>Dytikí Elláda</td>\n      <td>Cowey</td>\n      <td>ἐπὶ Τιβ(ερίου) / Κλαυδί/ου Φρον/τείνου / Νεικη...</td>\n      <td>https://www.trismegistos.org/text/677853</td>\n      <td>owner/artist inscription?</td>\n      <td>instrumentum domesticum</td>\n      <td>5 cm</td>\n      <td>checked with photo</td>\n      <td>None</td>\n      <td>1979.0</td>\n      <td>Pátrai, Arch. Mus.</td>\n      <td>None</td>\n      <td>NaN</td>\n      <td>[{'type': 'province', 'text': 'Achaia'}, {'typ...</td>\n      <td>\\n \\xe1\\xbc\\x90\\xcf\\x80\\xe1\\xbd\\xb6 \\xce\\xa4\\x...</td>\n      <td></td>\n      <td>NaN</td>\n      <td>NaN</td>\n      <td>140</td>\n      <td>instrumentum domesticum</td>\n      <td>109.0</td>\n      <td>Bronze</td>\n      <td>1000.0</td>\n      <td>NaN</td>\n      <td>owner/artist inscription?</td>\n      <td>None</td>\n      <td>Achaia</td>\n      <td>570049</td>\n      <td>owner/artist inscription</td>\n      <td>Uncertain</td>\n      <td>11.0</td>\n      <td>5.0</td>\n      <td>1.0</td>\n      <td>Metal</td>\n      <td>instrumentum domesticum</td>\n      <td>Certain</td>\n      <td>Achaia</td>\n      <td>Certain</td>\n      <td>Greece</td>\n      <td>Certain</td>\n      <td>Aegeum</td>\n      <td>Certain</td>\n      <td>Dytikí Elláda</td>\n      <td>Certain</td>\n      <td>Aígion</td>\n      <td>Certain</td>\n      <td>NULL</td>\n      <td>NULL</td>\n      <td></td>\n      <td>ἐπὶ Τιβερίου Κλαυδίου Φροντείνου Νεικηράτου τα...</td>\n      <td>G</td>\n      <td>Bronze</td>\n      <td>NaN</td>\n      <td>NaN</td>\n      <td>22.084500</td>\n      <td>38.248700</td>\n      <td>ἐπὶ Τιβ Κλαυδίου Φροντείνου Νεικηράτου ταμίου ...</td>\n      <td>ἐπὶ Τιβερίου Κλαυδίου Φροντείνου Νεικηράτου τα...</td>\n    </tr>\n    <tr>\n      <th>456816</th>\n      <td>EDCS-66200109</td>\n      <td>SEG-49, 00495b = AE 2008, 01265b</td>\n      <td>Achaia</td>\n      <td>Aigio / Egio / Aiyion / Aegeum</td>\n      <td>ἐπὶ Τιβ(ερίου) / Κλαυδίου / Φροντείνου / Νεικη...</td>\n      <td>ἐπὶ Τιβ Κλαυδίου Φροντείνου Νεικηράτου ταμίου ...</td>\n      <td>ἐπὶ Τιβερίου Κλαυδίου Φροντείνου Νεικηράτου τα...</td>\n      <td>None</td>\n      <td>None</td>\n      <td>None</td>\n      <td>None</td>\n      <td>http://db.edcs.eu/epigr/partner.php?s_language...</td>\n      <td>NaN</td>\n      <td>NaN</td>\n      <td>None</td>\n      <td>None</td>\n      <td>None</td>\n      <td>None</td>\n      <td>None</td>\n      <td>None</td>\n      <td>HD068319</td>\n      <td>ἐπὶ Τιβερίου Κλαυδίου Φροντείνου Νεικηράτου τα...</td>\n      <td>Gewicht.</td>\n      <td>Greece</td>\n      <td>0 cm</td>\n      <td>ΕΠΙ ΤΙΒ / ΚΛΑΥΔΙΟΥ / ΦΡΟΝΤΕΙΝΟΥ / ΝΕΙΚΗΡΑΤΟΥ /...</td>\n      <td>Aegeum</td>\n      <td>Aígion</td>\n      <td>11 cm</td>\n      <td>2014-10-17</td>\n      <td>0.5-0.6 cm</td>\n      <td>AE 2008, 1265b. ; A.D. Rizakis, Achaïe III. Le...</td>\n      <td>Dytikí Elláda</td>\n      <td>Cowey</td>\n      <td>ἐπὶ Τιβ(ερίου) / Κλαυδίου / Φροντείνου / Νεικη...</td>\n      <td>https://www.trismegistos.org/text/677854</td>\n      <td>owner/artist inscription?</td>\n      <td>instrumentum domesticum</td>\n      <td>5 cm</td>\n      <td>checked with photo</td>\n      <td>None</td>\n      <td>NaN</td>\n      <td>Pátrai, Arch. Mus.</td>\n      <td>None</td>\n      <td>NaN</td>\n      <td>[{'type': 'province', 'text': 'Achaia'}, {'typ...</td>\n      <td>\\n \\xe1\\xbc\\x90\\xcf\\x80\\xe1\\xbd\\xb6 \\xce\\xa4\\x...</td>\n      <td></td>\n      <td>NaN</td>\n      <td>NaN</td>\n      <td>140</td>\n      <td>instrumentum domesticum</td>\n      <td>109.0</td>\n      <td>Bronze</td>\n      <td>1000.0</td>\n      <td>NaN</td>\n      <td>owner/artist inscription?</td>\n      <td>None</td>\n      <td>Achaia</td>\n      <td>570049</td>\n      <td>owner/artist inscription</td>\n      <td>Uncertain</td>\n      <td>11.0</td>\n      <td>5.0</td>\n      <td>0.0</td>\n      <td>Metal</td>\n      <td>instrumentum domesticum</td>\n      <td>Certain</td>\n      <td>Achaia</td>\n      <td>Certain</td>\n      <td>Greece</td>\n      <td>Certain</td>\n      <td>Aegeum</td>\n      <td>Certain</td>\n      <td>Dytikí Elláda</td>\n      <td>Certain</td>\n      <td>Aígion</td>\n      <td>Certain</td>\n      <td>NULL</td>\n      <td>NULL</td>\n      <td></td>\n      <td>ἐπὶ Τιβερίου Κλαυδίου Φροντείνου Νεικηράτου τα...</td>\n      <td>G</td>\n      <td>Bronze</td>\n      <td>NaN</td>\n      <td>NaN</td>\n      <td>22.084500</td>\n      <td>38.248700</td>\n      <td>ἐπὶ Τιβ Κλαυδίου Φροντείνου Νεικηράτου ταμίου ...</td>\n      <td>ἐπὶ Τιβερίου Κλαυδίου Φροντείνου Νεικηράτου τα...</td>\n    </tr>\n    <tr>\n      <th>456818</th>\n      <td>EDCS-66200178</td>\n      <td>AE 2009, 01314</td>\n      <td>Achaia</td>\n      <td>Alea / Tegea</td>\n      <td>Τοῦ σεπτοῦ τούτου τεμένος ἐν ἱερεῦσιν / ἐννεακ...</td>\n      <td>Τοῦ σεπτοῦ τούτου τεμένος ἐν ἱερεῦσιν ἐννεακαι...</td>\n      <td>Τοῦ σεπτοῦ τούτου τεμένος ἐν ἱερεῦσιν ἐννεακαι...</td>\n      <td>[tituli operum, tituli sacri]</td>\n      <td>viri</td>\n      <td>None</td>\n      <td>tituli operum;  tituli sacri;  viri</td>\n      <td>http://db.edcs.eu/epigr/partner.php?s_language...</td>\n      <td>527.0</td>\n      <td>565.0</td>\n      <td>None</td>\n      <td>527 to 565</td>\n      <td>None</td>\n      <td>None</td>\n      <td>None</td>\n      <td>None</td>\n      <td>HD068216</td>\n      <td>Τοῦ σεπτοῦ τούτου τεμένος ἐν ἱερεῦσιν ἐννεακαι...</td>\n      <td>None</td>\n      <td>Greece</td>\n      <td>None</td>\n      <td>ΤΟΥ ΣΕΠΤΟΥ ΤΟΥΤΟΥ ΤΕΜΕΝΟΣ ΕΝ ΙΕΡΕΥΣΙΝ / ΕΝΝΕΑΚ...</td>\n      <td>Tegea</td>\n      <td>Alea</td>\n      <td>54 cm</td>\n      <td>2015-09-28</td>\n      <td>None</td>\n      <td>AE 2009, 1314. ; G. Velenis, in: S. Drougou u....</td>\n      <td>Pelopónissos</td>\n      <td>Cowey</td>\n      <td>Τοῦ σεπτοῦ τούτου τεμένος ἐν ἱερεῦσιν / ἐννεακ...</td>\n      <td>https://www.trismegistos.org/text/677834</td>\n      <td>None</td>\n      <td>None</td>\n      <td>161 cm</td>\n      <td>provisional</td>\n      <td>None</td>\n      <td>NaN</td>\n      <td>None</td>\n      <td>None</td>\n      <td>NaN</td>\n      <td>[{'type': 'province', 'text': 'Achaia'}, {'typ...</td>\n      <td>\\n \\xce\\xa4\\xce\\xbf\\xe1\\xbf\\xa6 \\xcf\\x83\\xce\\x...</td>\n      <td>527 AD - 565 AD</td>\n      <td>NaN</td>\n      <td>NaN</td>\n      <td>None</td>\n      <td>None</td>\n      <td>NaN</td>\n      <td>None</td>\n      <td>1000.0</td>\n      <td>143.0</td>\n      <td>unknown</td>\n      <td>None</td>\n      <td>Achaia</td>\n      <td></td>\n      <td>NULL</td>\n      <td>NULL</td>\n      <td>54.0</td>\n      <td>161.0</td>\n      <td>NaN</td>\n      <td>NULL</td>\n      <td>NULL</td>\n      <td>NULL</td>\n      <td>Achaia</td>\n      <td>Certain</td>\n      <td>Greece</td>\n      <td>Certain</td>\n      <td>Tegea</td>\n      <td>Certain</td>\n      <td>Pelopónissos</td>\n      <td>Certain</td>\n      <td>Alea</td>\n      <td>Certain</td>\n      <td>NULL</td>\n      <td>NULL</td>\n      <td>527 AD - 565 AD</td>\n      <td>Τοῦ σεπτοῦ τούτου τεμένος ἐν ἱερεῦσιν ἐννεακαι...</td>\n      <td>G</td>\n      <td>lapis</td>\n      <td>527.0</td>\n      <td>565.0</td>\n      <td>22.420877</td>\n      <td>37.454501</td>\n      <td>Τοῦ σεπτοῦ τούτου τεμένος ἐν ἱερεῦσιν ἐννεακαι...</td>\n      <td>Τοῦ σεπτοῦ τούτου τεμένος ἐν ἱερεῦσιν ἐννεακαι...</td>\n    </tr>\n    <tr>\n      <th>...</th>\n      <td>...</td>\n      <td>...</td>\n      <td>...</td>\n      <td>...</td>\n      <td>...</td>\n      <td>...</td>\n      <td>...</td>\n      <td>...</td>\n      <td>...</td>\n      <td>...</td>\n      <td>...</td>\n      <td>...</td>\n      <td>...</td>\n      <td>...</td>\n      <td>...</td>\n      <td>...</td>\n      <td>...</td>\n      <td>...</td>\n      <td>...</td>\n      <td>...</td>\n      <td>...</td>\n      <td>...</td>\n      <td>...</td>\n      <td>...</td>\n      <td>...</td>\n      <td>...</td>\n      <td>...</td>\n      <td>...</td>\n      <td>...</td>\n      <td>...</td>\n      <td>...</td>\n      <td>...</td>\n      <td>...</td>\n      <td>...</td>\n      <td>...</td>\n      <td>...</td>\n      <td>...</td>\n      <td>...</td>\n      <td>...</td>\n      <td>...</td>\n      <td>...</td>\n      <td>...</td>\n      <td>...</td>\n      <td>...</td>\n      <td>...</td>\n      <td>...</td>\n      <td>...</td>\n      <td>...</td>\n      <td>...</td>\n      <td>...</td>\n      <td>...</td>\n      <td>...</td>\n      <td>...</td>\n      <td>...</td>\n      <td>...</td>\n      <td>...</td>\n      <td>...</td>\n      <td>...</td>\n      <td>...</td>\n      <td>...</td>\n      <td>...</td>\n      <td>...</td>\n      <td>...</td>\n      <td>...</td>\n      <td>...</td>\n      <td>...</td>\n      <td>...</td>\n      <td>...</td>\n      <td>...</td>\n      <td>...</td>\n      <td>...</td>\n      <td>...</td>\n      <td>...</td>\n      <td>...</td>\n      <td>...</td>\n      <td>...</td>\n      <td>...</td>\n      <td>...</td>\n      <td>...</td>\n      <td>...</td>\n      <td>...</td>\n      <td>...</td>\n      <td>...</td>\n      <td>...</td>\n      <td>...</td>\n      <td>...</td>\n      <td>...</td>\n      <td>...</td>\n      <td>...</td>\n      <td>...</td>\n    </tr>\n    <tr>\n      <th>539676</th>\n      <td>None</td>\n      <td>None</td>\n      <td>None</td>\n      <td>None</td>\n      <td>None</td>\n      <td>None</td>\n      <td>None</td>\n      <td>None</td>\n      <td>None</td>\n      <td>None</td>\n      <td>None</td>\n      <td>None</td>\n      <td>NaN</td>\n      <td>NaN</td>\n      <td>None</td>\n      <td>None</td>\n      <td>None</td>\n      <td>None</td>\n      <td>None</td>\n      <td>None</td>\n      <td>HD078982</td>\n      <td>None</td>\n      <td>None</td>\n      <td>Germany</td>\n      <td>2 cm</td>\n      <td>[ ]ΟΥΣ[ ] / [ ]ΣΙΟ[ ] / [ ]ΕΚ[</td>\n      <td>Augusta Treverorum</td>\n      <td>Trier</td>\n      <td>(12) cm</td>\n      <td>2020-05-12</td>\n      <td>2.1-2.3 cm</td>\n      <td>H. Merten, Die frühchristlichen Inschriften au...</td>\n      <td>Rheinland-Pfalz</td>\n      <td>Cowey</td>\n      <td>[---]ΟΥΣ[---] / [---]ΣΙΟ[---] / [---]ΕΚ[------</td>\n      <td>None</td>\n      <td>epitaph</td>\n      <td>tabula</td>\n      <td>(8) cm</td>\n      <td>checked with photo</td>\n      <td>{S. Maximin, Kirche, Mittelschiff}</td>\n      <td>1982.0</td>\n      <td>Trier, Dom- u. Diözesanmus.</td>\n      <td>Judaism / Christianity</td>\n      <td>NaN</td>\n      <td>[{'type': 'province', 'text': 'Belgica'}, {'ty...</td>\n      <td>\\n \\xce\\x9f\\xce\\xa5\\xce\\xa3 \\xce\\xa3\\xce\\x99\\x...</td>\n      <td>371 AD - 430 AD</td>\n      <td>NaN</td>\n      <td>NaN</td>\n      <td>257</td>\n      <td>tabula</td>\n      <td>NaN</td>\n      <td>Marmor, ge\\xc3\\xa4dert / farbig</td>\n      <td>1000.0</td>\n      <td>92.0</td>\n      <td>epitaph</td>\n      <td>None</td>\n      <td>Belgica</td>\n      <td>108894</td>\n      <td>epitaph</td>\n      <td>Certain</td>\n      <td>12.0</td>\n      <td>8.0</td>\n      <td>2.0</td>\n      <td>Marble</td>\n      <td>tabula</td>\n      <td>Certain</td>\n      <td>Belgica</td>\n      <td>Certain</td>\n      <td>Germany</td>\n      <td>Certain</td>\n      <td>Augusta Treverorum</td>\n      <td>Certain</td>\n      <td>Rheinland-Pfalz</td>\n      <td>Certain</td>\n      <td>Trier</td>\n      <td>Certain</td>\n      <td>{S. Maximin, Kirche, Mittelschiff}</td>\n      <td>Certain</td>\n      <td>371 AD - 430 AD</td>\n      <td>ΟΥΣ ΣΙΟ ΕΚ</td>\n      <td>G</td>\n      <td>Marmor, geädert / farbig</td>\n      <td>371.0</td>\n      <td>430.0</td>\n      <td>6.630300</td>\n      <td>49.756800</td>\n      <td>ΟΥΣ ΣΙΟ ΕΚ</td>\n      <td>ΟΥΣ ΣΙΟ ΕΚ</td>\n    </tr>\n    <tr>\n      <th>540219</th>\n      <td>None</td>\n      <td>None</td>\n      <td>None</td>\n      <td>None</td>\n      <td>None</td>\n      <td>None</td>\n      <td>None</td>\n      <td>None</td>\n      <td>None</td>\n      <td>None</td>\n      <td>None</td>\n      <td>None</td>\n      <td>NaN</td>\n      <td>NaN</td>\n      <td>None</td>\n      <td>None</td>\n      <td>None</td>\n      <td>None</td>\n      <td>None</td>\n      <td>None</td>\n      <td>HD079977</td>\n      <td>None</td>\n      <td>Sechs Hexameter. Material: Blei-Zinn-Legierung.</td>\n      <td>United Kingdom</td>\n      <td>None</td>\n      <td>ΑΒΡΑΙ Β[ ]ΡΒΑΣΩ / ΒΑΡΒΑΣΩΧ ΒΑΡΒΑΣΩΘ ΕΥΛΙΩΡ / Α...</td>\n      <td>Londinium</td>\n      <td>London</td>\n      <td>13 cm</td>\n      <td>2020-02-24</td>\n      <td>None</td>\n      <td>AE 2013, 0946. ; R.S.O. Tomlin, Britannia 44, ...</td>\n      <td>London</td>\n      <td>Cowey</td>\n      <td>αβραι β[α]ρβασω / βαρβασωχ βαρβασωθ ευλιωρ / α...</td>\n      <td>None</td>\n      <td>defixio</td>\n      <td>tabula</td>\n      <td>4 cm</td>\n      <td>checked with photo</td>\n      <td>The City, {Upper Thames Street}</td>\n      <td>1989.0</td>\n      <td>London, Mus. of London</td>\n      <td>magic/spells</td>\n      <td>NaN</td>\n      <td>[{'type': 'province', 'text': 'Britannia'}, {'...</td>\n      <td>\\n \\xce\\xb1\\xce\\xb2\\xcf\\x81\\xce\\xb1\\xce\\xb9 \\x...</td>\n      <td>131 AD - 200 AD</td>\n      <td>NaN</td>\n      <td>NaN</td>\n      <td>257</td>\n      <td>tabula</td>\n      <td>108.0</td>\n      <td>Blei</td>\n      <td>1000.0</td>\n      <td>76.0</td>\n      <td>defixio</td>\n      <td>None</td>\n      <td>Britannia</td>\n      <td>79574</td>\n      <td>defixio</td>\n      <td>Certain</td>\n      <td>13.0</td>\n      <td>4.0</td>\n      <td>NaN</td>\n      <td>Metal</td>\n      <td>tabula</td>\n      <td>Certain</td>\n      <td>Britannia</td>\n      <td>Certain</td>\n      <td>United Kingdom</td>\n      <td>Certain</td>\n      <td>Londinium</td>\n      <td>Certain</td>\n      <td>London</td>\n      <td>Certain</td>\n      <td>London</td>\n      <td>Certain</td>\n      <td>The City, {Upper Thames Street}</td>\n      <td>Certain</td>\n      <td>131 AD - 200 AD</td>\n      <td>αβραι βαρβασω βαρβασωχ βαρβασωθ ευλιωρ αθεμορφ...</td>\n      <td>G</td>\n      <td>Blei</td>\n      <td>131.0</td>\n      <td>200.0</td>\n      <td>-0.208800</td>\n      <td>51.464100</td>\n      <td>αβραι βρβασω βαρβασωχ βαρβασωθ ευλιωρ αθεμορφι...</td>\n      <td>αβραι βαρβασω βαρβασωχ βαρβασωθ ευλιωρ αθεμορφ...</td>\n    </tr>\n    <tr>\n      <th>540435</th>\n      <td>None</td>\n      <td>None</td>\n      <td>None</td>\n      <td>None</td>\n      <td>None</td>\n      <td>None</td>\n      <td>None</td>\n      <td>None</td>\n      <td>None</td>\n      <td>None</td>\n      <td>None</td>\n      <td>None</td>\n      <td>NaN</td>\n      <td>NaN</td>\n      <td>None</td>\n      <td>None</td>\n      <td>None</td>\n      <td>None</td>\n      <td>None</td>\n      <td>None</td>\n      <td>HD081063</td>\n      <td>None</td>\n      <td>Durchmesser bezieht sich auf den Innendurchmes...</td>\n      <td>Germany</td>\n      <td>None</td>\n      <td>PVLVERI / ΖΗΣΑΙΣ</td>\n      <td>Aquae Mattiacorum (Civitas Mattiacorum)</td>\n      <td>Wiesbaden</td>\n      <td>None</td>\n      <td>2020-10-06</td>\n      <td>None</td>\n      <td>E. Ritterling, in: Der obergermanisch-rätische...</td>\n      <td>Hessen</td>\n      <td>Gräf</td>\n      <td>Pulveri / ζήσαις</td>\n      <td>None</td>\n      <td>acclamation</td>\n      <td>jewellery</td>\n      <td>1 cm</td>\n      <td>checked with photo</td>\n      <td>{Adlerstraße}</td>\n      <td>1837.0</td>\n      <td>Wiesbaden, Mus. Wiesbaden</td>\n      <td>None</td>\n      <td>NaN</td>\n      <td>[{'type': 'province', 'text': 'Germania superi...</td>\n      <td>\\n Pulveri \\xce\\xb6\\xe1\\xbd\\xb5\\xcf\\x83\\xce\\xb...</td>\n      <td>301 AD - 350 AD</td>\n      <td>NaN</td>\n      <td>NaN</td>\n      <td>163</td>\n      <td>jewellery</td>\n      <td>112.0</td>\n      <td>Gold, Onyx</td>\n      <td>1000.0</td>\n      <td>73.0</td>\n      <td>acclamation</td>\n      <td>None</td>\n      <td>Germania superior</td>\n      <td>108750</td>\n      <td>acclamation</td>\n      <td>Certain</td>\n      <td>NaN</td>\n      <td>1.0</td>\n      <td>NaN</td>\n      <td>Metal</td>\n      <td>jewellery</td>\n      <td>Certain</td>\n      <td>Germania superior</td>\n      <td>Certain</td>\n      <td>Germany</td>\n      <td>Certain</td>\n      <td>Aquae Mattiacorum (Civitas Mattiacorum)</td>\n      <td>Certain</td>\n      <td>Hessen</td>\n      <td>Certain</td>\n      <td>Wiesbaden</td>\n      <td>Certain</td>\n      <td>{Adlerstraße}</td>\n      <td>Certain</td>\n      <td>301 AD - 350 AD</td>\n      <td>Pulveri ζήσαις</td>\n      <td>GL</td>\n      <td>Gold, Onyx</td>\n      <td>301.0</td>\n      <td>350.0</td>\n      <td>8.238400</td>\n      <td>50.083400</td>\n      <td>Pulveri ζήσαις</td>\n      <td>Pulveri ζήσαις</td>\n    </tr>\n    <tr>\n      <th>540444</th>\n      <td>None</td>\n      <td>None</td>\n      <td>None</td>\n      <td>None</td>\n      <td>None</td>\n      <td>None</td>\n      <td>None</td>\n      <td>None</td>\n      <td>None</td>\n      <td>None</td>\n      <td>None</td>\n      <td>None</td>\n      <td>NaN</td>\n      <td>NaN</td>\n      <td>None</td>\n      <td>None</td>\n      <td>None</td>\n      <td>None</td>\n      <td>None</td>\n      <td>None</td>\n      <td>HD081141</td>\n      <td>None</td>\n      <td>None</td>\n      <td>United Kingdom</td>\n      <td>None</td>\n      <td>ΘΥΣΙΑ</td>\n      <td>Londinium</td>\n      <td>London</td>\n      <td>None</td>\n      <td>2019-12-17</td>\n      <td>None</td>\n      <td>AE 2012, 0848. ; R.S.O. Tomlin, Britannia 43, ...</td>\n      <td>London</td>\n      <td>Cowey</td>\n      <td>θυσία</td>\n      <td>None</td>\n      <td>label?</td>\n      <td>instrumentum domesticum</td>\n      <td>None</td>\n      <td>checked with photo</td>\n      <td>The City, {Crosby Square, Bishopsgate}</td>\n      <td>-2008.0</td>\n      <td>None</td>\n      <td>None</td>\n      <td>NaN</td>\n      <td>[{'type': 'province', 'text': 'Britannia'}, {'...</td>\n      <td>\\n \\xce\\xb8\\xcf\\x85\\xcf\\x83\\xe1\\xbd\\xb7\\xce\\xb1\\n</td>\n      <td>71 AD - 130 AD</td>\n      <td>NaN</td>\n      <td>NaN</td>\n      <td>140</td>\n      <td>instrumentum domesticum</td>\n      <td>122.0</td>\n      <td>Glas</td>\n      <td>1000.0</td>\n      <td>109.0</td>\n      <td>label?</td>\n      <td>None</td>\n      <td>Britannia</td>\n      <td>79574</td>\n      <td>label</td>\n      <td>Uncertain</td>\n      <td>NaN</td>\n      <td>NaN</td>\n      <td>NaN</td>\n      <td>Glass</td>\n      <td>instrumentum domesticum</td>\n      <td>Certain</td>\n      <td>Britannia</td>\n      <td>Certain</td>\n      <td>United Kingdom</td>\n      <td>Certain</td>\n      <td>Londinium</td>\n      <td>Certain</td>\n      <td>London</td>\n      <td>Certain</td>\n      <td>London</td>\n      <td>Certain</td>\n      <td>The City, {Crosby Square, Bishopsgate}</td>\n      <td>Certain</td>\n      <td>71 AD - 130 AD</td>\n      <td>θυσία</td>\n      <td>G</td>\n      <td>Glas</td>\n      <td>71.0</td>\n      <td>130.0</td>\n      <td>-0.208800</td>\n      <td>51.464100</td>\n      <td>θυσία</td>\n      <td>θυσία</td>\n    </tr>\n    <tr>\n      <th>540497</th>\n      <td>None</td>\n      <td>None</td>\n      <td>None</td>\n      <td>None</td>\n      <td>None</td>\n      <td>None</td>\n      <td>None</td>\n      <td>None</td>\n      <td>None</td>\n      <td>None</td>\n      <td>None</td>\n      <td>None</td>\n      <td>NaN</td>\n      <td>NaN</td>\n      <td>None</td>\n      <td>None</td>\n      <td>None</td>\n      <td>None</td>\n      <td>None</td>\n      <td>None</td>\n      <td>HD081409</td>\n      <td>None</td>\n      <td>None</td>\n      <td>United Kingdom</td>\n      <td>None</td>\n      <td>ΔΙΕΟΔΚΑ</td>\n      <td>Londinium</td>\n      <td>London</td>\n      <td>None</td>\n      <td>2020-01-13</td>\n      <td>None</td>\n      <td>AE 2012, 0845. ; R.S.O. Tomlin, Britannia 43, ...</td>\n      <td>London</td>\n      <td>Cowey</td>\n      <td>Διε&amp;lt;ξ&amp;gt;οδ&amp;lt;ι&amp;gt;κά</td>\n      <td>None</td>\n      <td>label?</td>\n      <td>instrumentum domesticum</td>\n      <td>None</td>\n      <td>checked with photo</td>\n      <td>The City, {Mariner House, Crutched Friars}</td>\n      <td>2008.0</td>\n      <td>None</td>\n      <td>None</td>\n      <td>NaN</td>\n      <td>[{'type': 'province', 'text': 'Britannia'}, {'...</td>\n      <td>\\n \\xce\\x94\\xce\\xb9\\xce\\xb5&amp;lt;\\xce\\xbe&amp;gt;\\xc...</td>\n      <td>51 AD - 200 AD</td>\n      <td>NaN</td>\n      <td>NaN</td>\n      <td>140</td>\n      <td>instrumentum domesticum</td>\n      <td>131.0</td>\n      <td>Ton</td>\n      <td>1000.0</td>\n      <td>109.0</td>\n      <td>label?</td>\n      <td>None</td>\n      <td>Britannia</td>\n      <td>79574</td>\n      <td>label</td>\n      <td>Uncertain</td>\n      <td>NaN</td>\n      <td>NaN</td>\n      <td>NaN</td>\n      <td>Clay</td>\n      <td>instrumentum domesticum</td>\n      <td>Certain</td>\n      <td>Britannia</td>\n      <td>Certain</td>\n      <td>United Kingdom</td>\n      <td>Certain</td>\n      <td>Londinium</td>\n      <td>Certain</td>\n      <td>London</td>\n      <td>Certain</td>\n      <td>London</td>\n      <td>Certain</td>\n      <td>The City, {Mariner House, Crutched Friars}</td>\n      <td>Certain</td>\n      <td>51 AD - 200 AD</td>\n      <td>Διε lt;ξ gt;οδ lt;ι gt;κά</td>\n      <td>G</td>\n      <td>Ton</td>\n      <td>51.0</td>\n      <td>200.0</td>\n      <td>-0.208800</td>\n      <td>51.464100</td>\n      <td>Διε lt ξ gt οδ lt ι gt κά</td>\n      <td>Διε lt ξ gt οδ lt ι gt κά</td>\n    </tr>\n  </tbody>\n</table>\n<p>1995 rows × 90 columns</p>\n</div>"
     },
     "execution_count": 82,
     "metadata": {},
     "output_type": "execute_result"
    }
   ],
   "source": [
    "# not classified as Latin in EDCS, but still in our dataset, since from EDH...\n",
    "LIST[(LIST[\"language_EDCS\"].isnull()) & (LIST[\"language\"]!=\"L\")]"
   ],
   "metadata": {
    "collapsed": false
   }
  },
  {
   "cell_type": "code",
   "execution_count": 83,
   "outputs": [],
   "source": [
    "# ok, filter for latin inscriptions only\n",
    "LIST = LIST[LIST[\"language\"]==\"L\"]"
   ],
   "metadata": {
    "collapsed": false
   }
  },
  {
   "cell_type": "markdown",
   "metadata": {},
   "source": [
    "# Create geodataframes"
   ]
  },
  {
   "cell_type": "code",
   "execution_count": 84,
   "outputs": [],
   "source": [
    "LIST = gpd.GeoDataFrame(LIST, geometry=gpd.points_from_xy(LIST[\"Longitude\"], LIST[\"Latitude\"]), crs={\"init\": \"epsg:3857\"})"
   ],
   "metadata": {
    "collapsed": false
   }
  },
  {
   "cell_type": "code",
   "execution_count": 85,
   "outputs": [
    {
     "data": {
      "text/plain": "13914"
     },
     "execution_count": 85,
     "metadata": {},
     "output_type": "execute_result"
    }
   ],
   "source": [
    "(LIST[\"Latitude\"].isnull() | LIST[\"Longitude\"].isnull()).sum()"
   ],
   "metadata": {
    "collapsed": false
   }
  },
  {
   "cell_type": "code",
   "execution_count": 86,
   "outputs": [
    {
     "data": {
      "text/plain": "516453"
     },
     "execution_count": 86,
     "metadata": {},
     "output_type": "execute_result"
    }
   ],
   "source": [
    "(LIST[\"Latitude\"].notnull() | LIST[\"Longitude\"].notnull()).sum()"
   ],
   "metadata": {
    "collapsed": false
   }
  },
  {
   "cell_type": "code",
   "execution_count": 87,
   "outputs": [],
   "source": [
    "LIST[\"geotemporal?\"] = (LIST[\"not_before\"].notnull() | LIST[\"not_after\"].notnull()) & (LIST[\"Latitude\"].notnull() & LIST[\"Longitude\"].notnull())"
   ],
   "metadata": {
    "collapsed": false
   }
  },
  {
   "cell_type": "code",
   "execution_count": 88,
   "outputs": [],
   "source": [
    "LIST[\"LIST-ID\"] = [\"LIST-\" + str(el) for el in range(1,len(LIST)+1)]"
   ],
   "metadata": {
    "collapsed": false
   }
  },
  {
   "cell_type": "code",
   "execution_count": 88,
   "outputs": [],
   "source": [],
   "metadata": {
    "collapsed": false
   }
  },
  {
   "cell_type": "code",
   "execution_count": 89,
   "outputs": [
    {
     "data": {
      "text/plain": "   LI_unfiltered dataset attribute_name delete merged dataset_source  \\\n0                      1        LIST-ID    NaN    NaN           SDAM   \n1                      2   geotemporal?    NaN    NaN           SDAM   \n2                      3        EDCS-ID    NaN    NaN           EDCS   \n3                      4    publication   True    NaN           EDCS   \n4                      5       province    NaN    NaN           EDCS   \n\n                             attribute_source  \\\n0                                         NaN   \n1                                         NaN   \n2  http://db.edcs.eu/epigr/epikl_ergebnis.php   \n3  http://db.edcs.eu/epigr/epikl_ergebnis.php   \n4  http://db.edcs.eu/epigr/epikl_ergebnis.php   \n\n                                   created_by_script  data_type  \\\n0                                                NaN   chracter   \n1                                                NaN       bool   \n2  https://github.com/mqAncientHistory/EpigraphyS...  character   \n3  https://github.com/mqAncientHistory/EpigraphyS...  character   \n4  https://github.com/mqAncientHistory/EpigraphyS...  character   \n\n                                         description  \n0                        Unique ID of the LI dataset  \n1  Whether the inscription has BOTH valid geocoor...  \n2  Unique identifier, as provided by the EDCS; ht...  \n3  Bibliographical references, as provided by the...  \n4  Name of the province where the inscription was...  ",
      "text/html": "<div>\n<style scoped>\n    .dataframe tbody tr th:only-of-type {\n        vertical-align: middle;\n    }\n\n    .dataframe tbody tr th {\n        vertical-align: top;\n    }\n\n    .dataframe thead th {\n        text-align: right;\n    }\n</style>\n<table border=\"1\" class=\"dataframe\">\n  <thead>\n    <tr style=\"text-align: right;\">\n      <th></th>\n      <th>LI_unfiltered dataset</th>\n      <th>attribute_name</th>\n      <th>delete</th>\n      <th>merged</th>\n      <th>dataset_source</th>\n      <th>attribute_source</th>\n      <th>created_by_script</th>\n      <th>data_type</th>\n      <th>description</th>\n    </tr>\n  </thead>\n  <tbody>\n    <tr>\n      <th>0</th>\n      <td>1</td>\n      <td>LIST-ID</td>\n      <td>NaN</td>\n      <td>NaN</td>\n      <td>SDAM</td>\n      <td>NaN</td>\n      <td>NaN</td>\n      <td>chracter</td>\n      <td>Unique ID of the LI dataset</td>\n    </tr>\n    <tr>\n      <th>1</th>\n      <td>2</td>\n      <td>geotemporal?</td>\n      <td>NaN</td>\n      <td>NaN</td>\n      <td>SDAM</td>\n      <td>NaN</td>\n      <td>NaN</td>\n      <td>bool</td>\n      <td>Whether the inscription has BOTH valid geocoor...</td>\n    </tr>\n    <tr>\n      <th>2</th>\n      <td>3</td>\n      <td>EDCS-ID</td>\n      <td>NaN</td>\n      <td>NaN</td>\n      <td>EDCS</td>\n      <td>http://db.edcs.eu/epigr/epikl_ergebnis.php</td>\n      <td>https://github.com/mqAncientHistory/EpigraphyS...</td>\n      <td>character</td>\n      <td>Unique identifier, as provided by the EDCS; ht...</td>\n    </tr>\n    <tr>\n      <th>3</th>\n      <td>4</td>\n      <td>publication</td>\n      <td>True</td>\n      <td>NaN</td>\n      <td>EDCS</td>\n      <td>http://db.edcs.eu/epigr/epikl_ergebnis.php</td>\n      <td>https://github.com/mqAncientHistory/EpigraphyS...</td>\n      <td>character</td>\n      <td>Bibliographical references, as provided by the...</td>\n    </tr>\n    <tr>\n      <th>4</th>\n      <td>5</td>\n      <td>province</td>\n      <td>NaN</td>\n      <td>NaN</td>\n      <td>EDCS</td>\n      <td>http://db.edcs.eu/epigr/epikl_ergebnis.php</td>\n      <td>https://github.com/mqAncientHistory/EpigraphyS...</td>\n      <td>character</td>\n      <td>Name of the province where the inscription was...</td>\n    </tr>\n  </tbody>\n</table>\n</div>"
     },
     "execution_count": 89,
     "metadata": {},
     "output_type": "execute_result"
    }
   ],
   "source": [
    "# upload metadata\n",
    "LIST_metadata = pd.read_csv(\"../data/LIST_2022.csv\")\n",
    "LIST_metadata.head(5)"
   ],
   "metadata": {
    "collapsed": false
   }
  },
  {
   "cell_type": "code",
   "execution_count": 90,
   "outputs": [
    {
     "name": "stdout",
     "output_type": "stream",
     "text": [
      "['publication', 'dating_from', 'dating_to', 'inscription_conservative_cleaning', 'inscription_interpretive_cleaning', 'comment', 'photo', 'extra_text', 'extra_html', 'responsible_individual', 'literature', 'height', 'depth', 'material', 'type_of_monument', 'province_label', 'width', 'country', 'findspot_ancient', 'modern_region', 'findspot_modern', 'commentary', 'placenames_refs', 'origdate_text', 'layout_execution_text', 'support_objecttype_text', 'support_material_text', 'keywords_term_text', 'origdate_text_clean', 'findspot', 'religion']\n"
     ]
    }
   ],
   "source": [
    "cols_to_remove = LIST_metadata[LIST_metadata[\"delete\"]==True][\"attribute_name\"].tolist()\n",
    "print(cols_to_remove)"
   ],
   "metadata": {
    "collapsed": false
   }
  },
  {
   "cell_type": "code",
   "execution_count": 91,
   "outputs": [
    {
     "data": {
      "text/plain": "(530361, 62)"
     },
     "execution_count": 91,
     "metadata": {},
     "output_type": "execute_result"
    }
   ],
   "source": [
    "LIST.drop(columns=cols_to_remove, inplace=True)\n",
    "LIST.shape"
   ],
   "metadata": {
    "collapsed": false
   }
  },
  {
   "cell_type": "code",
   "execution_count": 93,
   "outputs": [],
   "source": [
    "def list_to_str(val):\n",
    "    if isinstance(val, list):\n",
    "        val = \", \".join(val)\n",
    "    return val"
   ],
   "metadata": {
    "collapsed": false
   }
  },
  {
   "cell_type": "code",
   "execution_count": 94,
   "outputs": [],
   "source": [
    "def nan_to_empty_dict(val):\n",
    "    if str(val) == \"nan\":\n",
    "        val = []\n",
    "    return str(val)"
   ],
   "metadata": {
    "collapsed": false
   }
  },
  {
   "cell_type": "code",
   "execution_count": 95,
   "outputs": [],
   "source": [
    "# apply to the whole dataset\n",
    "LIST[\"inscr_type\"] = LIST[\"inscr_type\"].apply(list_to_str)\n",
    "LIST[\"inscr_process\"] = LIST[\"inscr_process\"].apply(list_to_str)\n",
    "LIST[\"status_notation\"] = LIST[\"status_notation\"].apply(list_to_str)\n",
    "LIST[\"people\"] = LIST[\"people\"].apply(nan_to_empty_dict)"
   ],
   "metadata": {
    "collapsed": false
   }
  },
  {
   "cell_type": "markdown",
   "source": [
    "# Finetuning of the unfiltered LIST dataset before saving"
   ],
   "metadata": {
    "collapsed": false
   }
  },
  {
   "cell_type": "code",
   "execution_count": 96,
   "outputs": [
    {
     "data": {
      "text/plain": "['type_of_inscription_certainty',\n 'type_of_monument_certainty',\n 'province_label_certainty',\n 'country_certainty',\n 'findspot_ancient_certainty',\n 'modern_region_certainty',\n 'findspot_modern_certainty',\n 'findspot_certainty']"
     },
     "execution_count": 96,
     "metadata": {},
     "output_type": "execute_result"
    }
   ],
   "source": [
    "cert_cols = [col for  col in LIST.columns if \"certainty\" in col]\n",
    "cert_cols"
   ],
   "metadata": {
    "collapsed": false
   }
  },
  {
   "cell_type": "code",
   "execution_count": 97,
   "outputs": [],
   "source": [
    "LIST[cert_cols+ [\"geometry\"]].to_feather(\"../data/LIST_test_cert.feather\")"
   ],
   "metadata": {
    "collapsed": false
   }
  },
  {
   "cell_type": "code",
   "execution_count": 98,
   "outputs": [],
   "source": [
    "for col in cert_cols:\n",
    "    LIST[col] = LIST[col].apply(lambda x: \"certain\" in str(x))"
   ],
   "metadata": {
    "collapsed": false
   }
  },
  {
   "cell_type": "code",
   "execution_count": 99,
   "outputs": [
    {
     "data": {
      "text/plain": "530361"
     },
     "execution_count": 99,
     "metadata": {},
     "output_type": "execute_result"
    }
   ],
   "source": [
    "len(LIST)"
   ],
   "metadata": {
    "collapsed": false
   }
  },
  {
   "cell_type": "code",
   "execution_count": 100,
   "outputs": [
    {
     "data": {
      "text/plain": "205083"
     },
     "execution_count": 100,
     "metadata": {},
     "output_type": "execute_result"
    }
   ],
   "source": [
    "(LIST[\"geotemporal?\"]).sum()"
   ],
   "metadata": {
    "collapsed": false
   }
  },
  {
   "cell_type": "markdown",
   "source": [
    "# Deduplication of EDH"
   ],
   "metadata": {
    "collapsed": false
   }
  },
  {
   "cell_type": "code",
   "execution_count": 109,
   "outputs": [
    {
     "data": {
      "text/plain": "81776"
     },
     "execution_count": 109,
     "metadata": {},
     "output_type": "execute_result"
    }
   ],
   "source": [
    "edh_ids_list = LIST[LIST[\"EDH-ID\"].notnull()][\"EDH-ID\"].tolist()\n",
    "len(edh_ids_list)"
   ],
   "metadata": {
    "collapsed": false
   }
  },
  {
   "cell_type": "code",
   "execution_count": 110,
   "outputs": [
    {
     "data": {
      "text/plain": "80407"
     },
     "execution_count": 110,
     "metadata": {},
     "output_type": "execute_result"
    }
   ],
   "source": [
    "# records with valid & UNIQUE EDH-ID\n",
    "edh_ids_unique = LIST[LIST[\"EDH-ID\"].notnull()][\"EDH-ID\"].unique().tolist()\n",
    "len(edh_ids_unique)"
   ],
   "metadata": {
    "collapsed": false
   }
  },
  {
   "cell_type": "code",
   "execution_count": 111,
   "outputs": [
    {
     "data": {
      "text/plain": "1138"
     },
     "execution_count": 111,
     "metadata": {},
     "output_type": "execute_result"
    }
   ],
   "source": [
    "# EDH-IDs appearing at least twice:\n",
    "dup_ids = [id_tup[0] for id_tup in nltk.FreqDist(edh_ids_list).most_common() if id_tup[1] > 1]\n",
    "len(dup_ids)"
   ],
   "metadata": {
    "collapsed": false
   }
  },
  {
   "cell_type": "code",
   "execution_count": 112,
   "outputs": [
    {
     "data": {
      "text/plain": "528992"
     },
     "execution_count": 112,
     "metadata": {},
     "output_type": "execute_result"
    }
   ],
   "source": [
    "# dataframe of duplicate rows (i.e. every second instance of the same id\n",
    "LIST[LIST[\"EDH-ID\"].notnull()].loc[LIST.duplicated(subset=\"EDH-ID\"), :]\n",
    "# remove the duplicates\n",
    "# (using pandas deduplicated() method)\n",
    "LIST = LIST.loc[~(LIST.duplicated(subset=\"EDH-ID\")) | (LIST[\"EDH-ID\"].isnull())]\n",
    "len(LIST)"
   ],
   "metadata": {
    "collapsed": false
   }
  },
  {
   "cell_type": "code",
   "execution_count": 113,
   "outputs": [
    {
     "data": {
      "text/plain": "77091"
     },
     "execution_count": 113,
     "metadata": {},
     "output_type": "execute_result"
    }
   ],
   "source": [
    "EDH_overlap_all = LIST[(LIST[\"EDH-ID\"].notnull()) & (LIST[\"EDCS-ID\"].notnull())]\n",
    "len(EDH_overlap_all)"
   ],
   "metadata": {
    "collapsed": false
   }
  },
  {
   "cell_type": "code",
   "execution_count": 114,
   "outputs": [
    {
     "data": {
      "text/plain": "528992"
     },
     "execution_count": 114,
     "metadata": {},
     "output_type": "execute_result"
    }
   ],
   "source": [
    "len(LIST[(LIST[\"EDH-ID\"].notnull()) & (LIST[\"EDCS-ID\"].isnull())])\n",
    "len(LIST)"
   ],
   "metadata": {
    "collapsed": false
   }
  },
  {
   "cell_type": "code",
   "execution_count": 116,
   "outputs": [
    {
     "data": {
      "text/plain": "80407"
     },
     "execution_count": 116,
     "metadata": {},
     "output_type": "execute_result"
    }
   ],
   "source": [
    "edh_ids_list = LIST[LIST[\"EDH-ID\"].notnull()][\"EDH-ID\"].tolist()\n",
    "len(edh_ids_list)"
   ],
   "metadata": {
    "collapsed": false
   }
  },
  {
   "cell_type": "markdown",
   "source": [
    "# Deduplication of EDCS\n"
   ],
   "metadata": {
    "collapsed": false
   }
  },
  {
   "cell_type": "code",
   "execution_count": 118,
   "outputs": [
    {
     "data": {
      "text/plain": "525676"
     },
     "execution_count": 118,
     "metadata": {},
     "output_type": "execute_result"
    }
   ],
   "source": [
    "LIST[\"EDCS-ID\"].notnull().sum()"
   ],
   "metadata": {
    "collapsed": false
   }
  },
  {
   "cell_type": "code",
   "execution_count": 122,
   "outputs": [
    {
     "data": {
      "text/plain": "522554"
     },
     "execution_count": 122,
     "metadata": {},
     "output_type": "execute_result"
    }
   ],
   "source": [
    "len(set(LIST[LIST[\"EDCS-ID\"].notnull()][\"EDCS-ID\"]))"
   ],
   "metadata": {
    "collapsed": false
   }
  },
  {
   "cell_type": "code",
   "execution_count": 126,
   "outputs": [],
   "source": [
    "LIST.drop_duplicates(subset=[\"EDH-ID\", \"EDCS-ID\"], keep=\"first\", inplace=True)"
   ],
   "metadata": {
    "collapsed": false
   }
  },
  {
   "cell_type": "code",
   "execution_count": 127,
   "outputs": [
    {
     "data": {
      "text/plain": "525870"
     },
     "execution_count": 127,
     "metadata": {},
     "output_type": "execute_result"
    }
   ],
   "source": [
    "len(LIST)"
   ],
   "metadata": {
    "collapsed": false
   }
  },
  {
   "cell_type": "markdown",
   "source": [
    "# Reordering columns"
   ],
   "metadata": {
    "collapsed": false
   }
  },
  {
   "cell_type": "code",
   "execution_count": 128,
   "outputs": [],
   "source": [
    "# reorder and filter out some other useless columns\n",
    "\n",
    "LIST = LIST[['LIST-ID', 'EDCS-ID', 'EDH-ID','trismegistos_uri',  'pleiades_id', 'transcription', 'inscription', 'clean_text_conservative', 'clean_text_interpretive_sentence','clean_text_interpretive_word', 'clean_text_interpretive_word_EDCS', 'diplomatic_text', 'province', 'place', 'inscr_type',\n",
    " 'status_notation', 'inscr_process', 'status', 'partner_link', 'last_update',\n",
    " 'letter_size', 'type_of_inscription', 'work_status', 'year_of_find',\n",
    " 'present_location', 'text_edition', 'support_objecttype', 'support_material', 'support_decoration',\n",
    " 'keywords_term', 'people', 'type_of_inscription_clean',\n",
    " 'type_of_inscription_certainty', 'height_cm', 'width_cm', 'depth_cm',\n",
    " 'material_clean', 'type_of_monument_clean',\n",
    " 'type_of_monument_certainty', 'province_label_clean',\n",
    " 'province_label_certainty', 'country_clean', 'country_certainty',\n",
    " 'findspot_ancient_clean', 'findspot_ancient_certainty',\n",
    " 'modern_region_clean', 'modern_region_certainty',\n",
    " 'findspot_modern_clean', 'findspot_modern_certainty', 'findspot_clean',\n",
    " 'findspot_certainty', 'language', 'language_EDCS', 'raw_dating',\n",
    " 'not_after', 'not_before', 'Longitude', 'Latitude',\n",
    " 'geotemporal?', 'geometry']]"
   ],
   "metadata": {
    "collapsed": false
   }
  },
  {
   "cell_type": "code",
   "execution_count": 129,
   "outputs": [
    {
     "data": {
      "text/plain": "80407"
     },
     "execution_count": 129,
     "metadata": {},
     "output_type": "execute_result"
    }
   ],
   "source": [
    "sum(LIST[\"EDH-ID\"].notnull())"
   ],
   "metadata": {
    "collapsed": false
   }
  },
  {
   "cell_type": "code",
   "execution_count": 130,
   "outputs": [
    {
     "data": {
      "text/plain": "525870"
     },
     "execution_count": 130,
     "metadata": {},
     "output_type": "execute_result"
    }
   ],
   "source": [
    "sum(LIST[\"geometry\"].notnull())"
   ],
   "metadata": {
    "collapsed": false
   }
  },
  {
   "cell_type": "code",
   "execution_count": 131,
   "outputs": [
    {
     "data": {
      "text/plain": "206570"
     },
     "execution_count": 131,
     "metadata": {},
     "output_type": "execute_result"
    }
   ],
   "source": [
    "sum(LIST[\"not_after\"].notnull())"
   ],
   "metadata": {
    "collapsed": false
   }
  },
  {
   "cell_type": "code",
   "execution_count": 132,
   "outputs": [
    {
     "data": {
      "text/plain": "206461"
     },
     "execution_count": 132,
     "metadata": {},
     "output_type": "execute_result"
    }
   ],
   "source": [
    "sum(LIST[\"not_before\"].notnull())\n"
   ],
   "metadata": {
    "collapsed": false
   }
  },
  {
   "cell_type": "code",
   "execution_count": 133,
   "outputs": [
    {
     "data": {
      "text/plain": "206570"
     },
     "execution_count": 133,
     "metadata": {},
     "output_type": "execute_result"
    }
   ],
   "source": [
    "sum((LIST[\"not_after\"].notnull() | (LIST[\"not_before\"].notnull())))\n"
   ],
   "metadata": {
    "collapsed": false
   }
  },
  {
   "cell_type": "code",
   "execution_count": 134,
   "outputs": [
    {
     "data": {
      "text/plain": "203877"
     },
     "execution_count": 134,
     "metadata": {},
     "output_type": "execute_result"
    }
   ],
   "source": [
    "LIST[\"geotemporal?\"].sum()"
   ],
   "metadata": {
    "collapsed": false
   }
  },
  {
   "cell_type": "markdown",
   "metadata": {},
   "source": [
    "# Map inscriptions on the Empire and its provinces"
   ]
  },
  {
   "cell_type": "code",
   "execution_count": 135,
   "outputs": [],
   "source": [
    "pleiades_regions = gpd.read_file(\"../data/pleiades_regions.geojson\", driver=\"GeoJSON\")\n",
    "pleiades_regions = pleiades_regions.to_crs(3035)\n",
    "pleiades_regions_merged = pleiades_regions.unary_union\n",
    "pleiades_regions_merged_buffer = pleiades_regions_merged.buffer(distance=5000)"
   ],
   "metadata": {
    "collapsed": false
   }
  },
  {
   "cell_type": "code",
   "execution_count": 136,
   "outputs": [],
   "source": [
    "medsea = gpd.read_file(\"https://geo.vliz.be/geoserver/wfs?request=getfeature&service=wfs&version=1.1.0&typename=MarineRegions:iho&outputformat=json&filter=%3COr%3E%3COr%3E%3COr%3E%3COr%3E%3COr%3E%3COr%3E%3COr%3E%3COr%3E%3COr%3E%3CPropertyIsEqualTo%3E%3CPropertyName%3Emrgid%3C%2FPropertyName%3E%3CLiteral%3E3314%3C%2FLiteral%3E%3C%2FPropertyIsEqualTo%3E%3CPropertyIsEqualTo%3E%3CPropertyName%3Emrgid%3C%2FPropertyName%3E%3CLiteral%3E3315%3C%2FLiteral%3E%3C%2FPropertyIsEqualTo%3E%3C%2FOr%3E%3CPropertyIsEqualTo%3E%3CPropertyName%3Emrgid%3C%2FPropertyName%3E%3CLiteral%3E3322%3C%2FLiteral%3E%3C%2FPropertyIsEqualTo%3E%3C%2FOr%3E%3CPropertyIsEqualTo%3E%3CPropertyName%3Emrgid%3C%2FPropertyName%3E%3CLiteral%3E3324%3C%2FLiteral%3E%3C%2FPropertyIsEqualTo%3E%3C%2FOr%3E%3CPropertyIsEqualTo%3E%3CPropertyName%3Emrgid%3C%2FPropertyName%3E%3CLiteral%3E3346%3C%2FLiteral%3E%3C%2FPropertyIsEqualTo%3E%3C%2FOr%3E%3CPropertyIsEqualTo%3E%3CPropertyName%3Emrgid%3C%2FPropertyName%3E%3CLiteral%3E3351%3C%2FLiteral%3E%3C%2FPropertyIsEqualTo%3E%3C%2FOr%3E%3CPropertyIsEqualTo%3E%3CPropertyName%3Emrgid%3C%2FPropertyName%3E%3CLiteral%3E3363%3C%2FLiteral%3E%3C%2FPropertyIsEqualTo%3E%3C%2FOr%3E%3CPropertyIsEqualTo%3E%3CPropertyName%3Emrgid%3C%2FPropertyName%3E%3CLiteral%3E3386%3C%2FLiteral%3E%3C%2FPropertyIsEqualTo%3E%3C%2FOr%3E%3CPropertyIsEqualTo%3E%3CPropertyName%3Emrgid%3C%2FPropertyName%3E%3CLiteral%3E4279%3C%2FLiteral%3E%3C%2FPropertyIsEqualTo%3E%3C%2FOr%3E%3CPropertyIsEqualTo%3E%3CPropertyName%3Emrgid%3C%2FPropertyName%3E%3CLiteral%3E4280%3C%2FLiteral%3E%3C%2FPropertyIsEqualTo%3E%3C%2FOr%3E\", driver=\"GeoJSON\")\n",
    "medsea = medsea.to_crs(3035)\n",
    "medsea_merged = medsea.unary_union\n",
    "medsea_merged_buffer = medsea_merged.buffer(distance=5000)"
   ],
   "metadata": {
    "collapsed": false
   }
  },
  {
   "cell_type": "code",
   "execution_count": 137,
   "outputs": [],
   "source": [
    "import pyproj\n",
    "from shapely.ops import transform\n",
    "\n",
    "project = pyproj.Transformer.from_proj(\n",
    "    pyproj.Proj(init='epsg:3035'), # source coordinate system\n",
    "    pyproj.Proj(init='epsg:4326')) # destination coordinate system\n",
    "\n",
    "# g1 is a shapley Polygon\n",
    "pleiades_regions_merged_buffer_4326 = transform(project.transform, pleiades_regions_merged_buffer)\n",
    "medsea_merged_buffer_4326 = transform(project.transform, medsea_merged_buffer)  # apply projection"
   ],
   "metadata": {
    "collapsed": false
   }
  },
  {
   "cell_type": "code",
   "execution_count": 138,
   "outputs": [
    {
     "name": "stdout",
     "output_type": "stream",
     "text": [
      "CPU times: user 38min 53s, sys: 24.3 s, total: 39min 18s\n",
      "Wall time: 40min 55s\n"
     ]
    }
   ],
   "source": [
    "%%time\n",
    "withinRE = (LIST.within(pleiades_regions_merged_buffer_4326)) | (LIST.within(medsea_merged_buffer_4326))"
   ],
   "metadata": {
    "collapsed": false
   }
  },
  {
   "cell_type": "code",
   "execution_count": 142,
   "outputs": [
    {
     "name": "stdout",
     "output_type": "stream",
     "text": [
      "CPU times: user 858 µs, sys: 2.63 ms, total: 3.48 ms\n",
      "Wall time: 3.02 ms\n"
     ]
    }
   ],
   "source": [
    "%%time\n",
    "LIST[\"withinRE?\"] = withinRE"
   ],
   "metadata": {
    "collapsed": false
   }
  },
  {
   "cell_type": "code",
   "execution_count": 143,
   "outputs": [
    {
     "data": {
      "text/plain": "525870"
     },
     "execution_count": 143,
     "metadata": {},
     "output_type": "execute_result"
    }
   ],
   "source": [
    "len(LIST)"
   ],
   "metadata": {
    "collapsed": false
   }
  },
  {
   "cell_type": "code",
   "execution_count": 144,
   "outputs": [
    {
     "data": {
      "text/plain": "509018"
     },
     "execution_count": 144,
     "metadata": {},
     "output_type": "execute_result"
    }
   ],
   "source": [
    "LIST[\"withinRE?\"].sum()"
   ],
   "metadata": {
    "collapsed": false
   }
  },
  {
   "cell_type": "markdown",
   "source": [
    "# Trismegistos"
   ],
   "metadata": {
    "collapsed": false
   }
  },
  {
   "cell_type": "code",
   "execution_count": null,
   "outputs": [],
   "source": [
    "%%time\n",
    "base_url = \"https://www.trismegistos.org/dataservices/texrelations/{0}?source=edcs\"\n",
    "resps = []\n",
    "edcs_trismegistos_dict = {}\n",
    "for raw_id in LIST[\"EDCS-ID\"]:\n",
    "    try:\n",
    "        id = raw_id[5:]\n",
    "        url = base_url.format(str(id))\n",
    "        resp_json = requests.get(url).json()\n",
    "        edcs_trismegistos_dict[raw_id] = resp_json[0][\"TM_ID\"][0]\n",
    "    except:\n",
    "        edcs_trismegistos_dict[raw_id] = None"
   ],
   "metadata": {
    "collapsed": false,
    "pycharm": {
     "is_executing": true
    }
   }
  },
  {
   "cell_type": "code",
   "execution_count": null,
   "outputs": [],
   "source": [
    "with open(\"..data/large_data/edcs_trismegistos.picke\", as f):\n",
    "    pickle.dump(edcs_trismegistos_dict, f)"
   ],
   "metadata": {
    "collapsed": false,
    "pycharm": {
     "is_executing": true
    }
   }
  },
  {
   "cell_type": "markdown",
   "source": [
    "# Extract trismegistos dates (where otherwise missing)\n",
    "\n",
    "- in progres..., but once the above data are ready, we can continue with this"
   ],
   "metadata": {
    "collapsed": false
   }
  },
  {
   "cell_type": "code",
   "execution_count": null,
   "outputs": [],
   "source": [
    "uris = LIST[(LIST[\"trismegistos_uri\"].notnull()) & LIST[\"not_before\"].isnull()][\"trismegistos_uri\"]\n",
    "tg_ids = [tg_id.rpartition(\"/\")[2] for tg_id in uris]\n",
    "tg_ids[:10]"
   ],
   "metadata": {
    "collapsed": false
   }
  },
  {
   "cell_type": "code",
   "execution_count": null,
   "outputs": [],
   "source": [
    "for id in tg_ids:\n",
    "    soup = BeautifulSoup(requests.get(\"https://www.trismegistos.org/text/\" + id).text)\n",
    "    print(soup.body.find(\"h4\").next_sibling.get_text())\n"
   ],
   "metadata": {
    "collapsed": false
   }
  },
  {
   "cell_type": "markdown",
   "source": [
    "# Urban contexts"
   ],
   "metadata": {
    "collapsed": false
   }
  },
  {
   "cell_type": "code",
   "execution_count": 20,
   "metadata": {},
   "outputs": [],
   "source": [
    "roman_cities = gpd.read_file(\"../data/roman_cities_pop.geojson\")"
   ]
  },
  {
   "cell_type": "code",
   "execution_count": 21,
   "metadata": {},
   "outputs": [
    {
     "data": {
      "text/plain": "          Primary Key        Ancient Toponym Modern Toponym  \\\n991    Hanson2016_992                   Roma           Rome   \n109    Hanson2016_110  Alexandria (Aegyptus)     Alexandria   \n179    Hanson2016_180           Lepcis Magna          Lebda   \n308    Hanson2016_309                 Rhodus         Rhodes   \n1323  Hanson2016_1324      Antiochia (Syria)        Antakya   \n\n                  Province Country Barrington Atlas Rank  \\\n991   Italia (VII Etruria)   Italy                     1   \n109               Aegyptus   Egypt                     1   \n179   Africa Proconsularis   Libya                     1   \n308                   Asia  Greece                     3   \n1323                 Syria  Turkey                     1   \n\n     Barrington Atlas Reference  Start Date  End Date  \\\n991                       43 B2        -700       NaN   \n109                       74 B2        -322       NaN   \n179                       35 G2         -30       NaN   \n308                       60 G3        -408       NaN   \n1323                      67 C4        -300       NaN   \n\n                                    Select Bibliography    Area  \\\n991   Beloch 1886; Benario 1981; de Ligt 2012; Golvi...  1783.0   \n109   Beloch 1886; Bowman 2011; Cohen 2006; Humphrey...   972.0   \n179   Bomgardner 2000; Golvin 1988; Humphrey 1986; L...   466.0   \n308   Beloch 1886; Hansen 2006; Hansen and Nielsen 2...   412.0   \n1323  Boatwright 2000; Jones 1937; McEvedy 2011; Nel...   399.0   \n\n                                         Estimate Basis  num_of_structures  \\\n991                           Fourteen Augustan regions                236   \n109                                          Urban grid                 30   \n179                                            Ramparts                 46   \n308                                          Urban grid                 17   \n1323  Walls of Theodosius II, Justinian, and topography                 33   \n\n        ID  level_0  Unnamed: 0_y  index  pop_sample   pop_est  pop_diff  \\\n991    992     89.0          89.0   89.0    923406.0  923313.0  1.000101   \n109    110      3.0           3.0    3.0    410535.0  410502.0  1.000080   \n179    180      NaN           NaN    NaN         NaN  153722.0       NaN   \n308    309      NaN           NaN    NaN         NaN  130398.0       NaN   \n1323  1324      NaN           NaN    NaN         NaN  124930.0       NaN   \n\n                       geometry  \n991   POINT (12.48510 41.89278)  \n109   POINT (29.90373 31.19502)  \n179   POINT (14.29306 32.63833)  \n308   POINT (28.22701 36.44324)  \n1323  POINT (36.16963 36.21017)  ",
      "text/html": "<div>\n<style scoped>\n    .dataframe tbody tr th:only-of-type {\n        vertical-align: middle;\n    }\n\n    .dataframe tbody tr th {\n        vertical-align: top;\n    }\n\n    .dataframe thead th {\n        text-align: right;\n    }\n</style>\n<table border=\"1\" class=\"dataframe\">\n  <thead>\n    <tr style=\"text-align: right;\">\n      <th></th>\n      <th>Primary Key</th>\n      <th>Ancient Toponym</th>\n      <th>Modern Toponym</th>\n      <th>Province</th>\n      <th>Country</th>\n      <th>Barrington Atlas Rank</th>\n      <th>Barrington Atlas Reference</th>\n      <th>Start Date</th>\n      <th>End Date</th>\n      <th>Select Bibliography</th>\n      <th>Area</th>\n      <th>Estimate Basis</th>\n      <th>num_of_structures</th>\n      <th>ID</th>\n      <th>level_0</th>\n      <th>Unnamed: 0_y</th>\n      <th>index</th>\n      <th>pop_sample</th>\n      <th>pop_est</th>\n      <th>pop_diff</th>\n      <th>geometry</th>\n    </tr>\n  </thead>\n  <tbody>\n    <tr>\n      <th>991</th>\n      <td>Hanson2016_992</td>\n      <td>Roma</td>\n      <td>Rome</td>\n      <td>Italia (VII Etruria)</td>\n      <td>Italy</td>\n      <td>1</td>\n      <td>43 B2</td>\n      <td>-700</td>\n      <td>NaN</td>\n      <td>Beloch 1886; Benario 1981; de Ligt 2012; Golvi...</td>\n      <td>1783.0</td>\n      <td>Fourteen Augustan regions</td>\n      <td>236</td>\n      <td>992</td>\n      <td>89.0</td>\n      <td>89.0</td>\n      <td>89.0</td>\n      <td>923406.0</td>\n      <td>923313.0</td>\n      <td>1.000101</td>\n      <td>POINT (12.48510 41.89278)</td>\n    </tr>\n    <tr>\n      <th>109</th>\n      <td>Hanson2016_110</td>\n      <td>Alexandria (Aegyptus)</td>\n      <td>Alexandria</td>\n      <td>Aegyptus</td>\n      <td>Egypt</td>\n      <td>1</td>\n      <td>74 B2</td>\n      <td>-322</td>\n      <td>NaN</td>\n      <td>Beloch 1886; Bowman 2011; Cohen 2006; Humphrey...</td>\n      <td>972.0</td>\n      <td>Urban grid</td>\n      <td>30</td>\n      <td>110</td>\n      <td>3.0</td>\n      <td>3.0</td>\n      <td>3.0</td>\n      <td>410535.0</td>\n      <td>410502.0</td>\n      <td>1.000080</td>\n      <td>POINT (29.90373 31.19502)</td>\n    </tr>\n    <tr>\n      <th>179</th>\n      <td>Hanson2016_180</td>\n      <td>Lepcis Magna</td>\n      <td>Lebda</td>\n      <td>Africa Proconsularis</td>\n      <td>Libya</td>\n      <td>1</td>\n      <td>35 G2</td>\n      <td>-30</td>\n      <td>NaN</td>\n      <td>Bomgardner 2000; Golvin 1988; Humphrey 1986; L...</td>\n      <td>466.0</td>\n      <td>Ramparts</td>\n      <td>46</td>\n      <td>180</td>\n      <td>NaN</td>\n      <td>NaN</td>\n      <td>NaN</td>\n      <td>NaN</td>\n      <td>153722.0</td>\n      <td>NaN</td>\n      <td>POINT (14.29306 32.63833)</td>\n    </tr>\n    <tr>\n      <th>308</th>\n      <td>Hanson2016_309</td>\n      <td>Rhodus</td>\n      <td>Rhodes</td>\n      <td>Asia</td>\n      <td>Greece</td>\n      <td>3</td>\n      <td>60 G3</td>\n      <td>-408</td>\n      <td>NaN</td>\n      <td>Beloch 1886; Hansen 2006; Hansen and Nielsen 2...</td>\n      <td>412.0</td>\n      <td>Urban grid</td>\n      <td>17</td>\n      <td>309</td>\n      <td>NaN</td>\n      <td>NaN</td>\n      <td>NaN</td>\n      <td>NaN</td>\n      <td>130398.0</td>\n      <td>NaN</td>\n      <td>POINT (28.22701 36.44324)</td>\n    </tr>\n    <tr>\n      <th>1323</th>\n      <td>Hanson2016_1324</td>\n      <td>Antiochia (Syria)</td>\n      <td>Antakya</td>\n      <td>Syria</td>\n      <td>Turkey</td>\n      <td>1</td>\n      <td>67 C4</td>\n      <td>-300</td>\n      <td>NaN</td>\n      <td>Boatwright 2000; Jones 1937; McEvedy 2011; Nel...</td>\n      <td>399.0</td>\n      <td>Walls of Theodosius II, Justinian, and topography</td>\n      <td>33</td>\n      <td>1324</td>\n      <td>NaN</td>\n      <td>NaN</td>\n      <td>NaN</td>\n      <td>NaN</td>\n      <td>124930.0</td>\n      <td>NaN</td>\n      <td>POINT (36.16963 36.21017)</td>\n    </tr>\n  </tbody>\n</table>\n</div>"
     },
     "execution_count": 21,
     "metadata": {},
     "output_type": "execute_result"
    }
   ],
   "source": [
    "roman_cities.sort_values(\"pop_est\", ascending=False, inplace=True)\n",
    "roman_cities.head(5)"
   ]
  },
  {
   "cell_type": "code",
   "execution_count": 22,
   "outputs": [
    {
     "data": {
      "text/plain": "0"
     },
     "execution_count": 22,
     "metadata": {},
     "output_type": "execute_result"
    }
   ],
   "source": [
    "sum(roman_cities[\"pop_est\"] < 1000)"
   ],
   "metadata": {
    "collapsed": false
   }
  },
  {
   "cell_type": "code",
   "execution_count": 23,
   "outputs": [],
   "source": [
    "cities_id_name_dict = dict(zip(roman_cities[\"ID\"], roman_cities[\"Ancient Toponym\"]))\n",
    "cities_id_pop_dict = dict(zip(roman_cities[\"ID\"], roman_cities[\"pop_est\"]))\n"
   ],
   "metadata": {
    "collapsed": false
   }
  },
  {
   "cell_type": "code",
   "execution_count": 24,
   "metadata": {},
   "outputs": [
    {
     "data": {
      "text/plain": "1388"
     },
     "execution_count": 24,
     "metadata": {},
     "output_type": "execute_result"
    }
   ],
   "source": [
    "len(roman_cities)"
   ]
  },
  {
   "cell_type": "code",
   "execution_count": 25,
   "metadata": {},
   "outputs": [
    {
     "data": {
      "text/plain": "10214337.0"
     },
     "execution_count": 25,
     "metadata": {},
     "output_type": "execute_result"
    }
   ],
   "source": [
    "# total urban population\n",
    "roman_cities[\"pop_est\"].sum()"
   ]
  },
  {
   "cell_type": "code",
   "execution_count": 26,
   "metadata": {},
   "outputs": [
    {
     "data": {
      "text/plain": "Index(['Primary Key', 'Ancient Toponym', 'Modern Toponym', 'Province',\n       'Country', 'Barrington Atlas Rank', 'Barrington Atlas Reference',\n       'Start Date', 'End Date', 'Select Bibliography', 'Area',\n       'Estimate Basis', 'num_of_structures', 'ID', 'level_0', 'Unnamed: 0_y',\n       'index', 'pop_sample', 'pop_est', 'pop_diff', 'geometry'],\n      dtype='object')"
     },
     "execution_count": 26,
     "metadata": {},
     "output_type": "execute_result"
    }
   ],
   "source": [
    "roman_cities.columns"
   ]
  },
  {
   "cell_type": "code",
   "execution_count": 27,
   "outputs": [],
   "source": [
    "masks_dict = {}\n",
    "masks_dict[\"large\"] = roman_cities[\"pop_est\"] >= 30000\n",
    "masks_dict[\"medium\"] = (roman_cities[\"pop_est\"] >= 5000) & (roman_cities[\"pop_est\"] < 30000)\n",
    "masks_dict[\"small\"] = small_cities_mask = roman_cities[\"pop_est\"] < 5000"
   ],
   "metadata": {
    "collapsed": false
   }
  },
  {
   "cell_type": "code",
   "execution_count": 28,
   "outputs": [
    {
     "name": "stdout",
     "output_type": "stream",
     "text": [
      "large 68 4641352.0\n",
      "medium 337 4005250.0\n",
      "small 983 1567735.0\n"
     ]
    }
   ],
   "source": [
    "for mask in masks_dict.keys():\n",
    "    print(mask, len(roman_cities[masks_dict[mask]]), roman_cities[masks_dict[mask]][\"pop_est\"].sum())"
   ],
   "metadata": {
    "collapsed": false
   }
  },
  {
   "cell_type": "code",
   "execution_count": null,
   "outputs": [],
   "source": [],
   "metadata": {
    "collapsed": false
   }
  },
  {
   "cell_type": "code",
   "execution_count": 81,
   "outputs": [],
   "source": [
    "geod = Geod(ellps=\"WGS84\")\n",
    "def get_dist_m(inscr_geo, city_geo):\n",
    "    try:\n",
    "        line_string = LineString([inscr_geo, city_geo])\n",
    "        return np.round(geod.geometry_length(line_string), 2)\n",
    "    except:\n",
    "        return None"
   ],
   "metadata": {
    "collapsed": false
   }
  },
  {
   "cell_type": "code",
   "execution_count": 61,
   "outputs": [
    {
     "data": {
      "text/plain": "529851"
     },
     "execution_count": 61,
     "metadata": {},
     "output_type": "execute_result"
    }
   ],
   "source": [
    "len(LIST)"
   ],
   "metadata": {
    "collapsed": false
   }
  },
  {
   "cell_type": "code",
   "execution_count": 91,
   "outputs": [],
   "source": [
    "def ckdnearest(city_type):\n",
    "    cities_subset = roman_cities[masks_dict[city_type]]\n",
    "    incr_ids = LIST[LIST.geometry.notnull()][\"LIST-ID\"]\n",
    "    insr_geometries = np.array(list(LIST[LIST.geometry.notnull()].geometry.apply(lambda x: (x.x, x.y))))\n",
    "    cities_geometries = np.array(list(cities_subset.geometry.apply(lambda x: (x.x, x.y))))\n",
    "    btree = cKDTree(cities_geometries)\n",
    "    dist, idx = btree.query(insr_geometries, k=1)\n",
    "    inscr_cities_name_dict = dict(zip(incr_ids, cities_subset.iloc[idx][\"Ancient Toponym\"]))\n",
    "    inscr_cities_pop_dict = dict(zip(incr_ids, cities_subset.iloc[idx][\"pop_est\"]))\n",
    "    inscr_cities_geo_dict = dict(zip(incr_ids, cities_subset.iloc[idx].geometry))\n",
    "    incr_ids_missing = LIST[LIST.geometry.isnull()][\"LIST-ID\"]\n",
    "    for id in incr_ids_missing:\n",
    "        inscr_cities_name_dict[id] = None\n",
    "        inscr_cities_pop_dict[id] = None\n",
    "        inscr_cities_geo_dict[id] = None\n",
    "    LIST[city_type + \"_city_name\"] = LIST[\"LIST-ID\"].apply(lambda x: inscr_cities_name_dict[x])\n",
    "    LIST[city_type + \"_city_geo\"] = LIST[\"LIST-ID\"].apply(lambda x: inscr_cities_geo_dict[x])\n",
    "    LIST[city_type + \"_city_pop\"] = LIST[\"LIST-ID\"].apply(lambda x: inscr_cities_pop_dict[x])\n",
    "    LIST[city_type + \"_city_dist\"] = LIST.apply(lambda row: get_dist_m(row.geometry, row[city_type + \"_city_geo\"]), axis=1)"
   ],
   "metadata": {
    "collapsed": false
   }
  },
  {
   "cell_type": "code",
   "execution_count": 92,
   "outputs": [],
   "source": [
    "ckdnearest(\"large\")\n",
    "ckdnearest(\"medium\")\n",
    "ckdnearest(\"small\")"
   ],
   "metadata": {
    "collapsed": false
   }
  },
  {
   "cell_type": "code",
   "execution_count": 93,
   "outputs": [
    {
     "data": {
      "text/plain": "   LIST-ID        EDCS-ID EDH-ID trismegistos_uri pleiades_id transcription  \\\n0   LIST-1  EDCS-31400030   None             None        None          None   \n1   LIST-2  EDCS-55701593   None             None        None          None   \n2   LIST-3  EDCS-55701594   None             None        None          None   \n3   LIST-4  EDCS-55701595   None             None        None          None   \n4   LIST-5  EDCS-55701596   None             None        None          None   \n5   LIST-6  EDCS-55701597   None             None        None          None   \n6   LIST-7  EDCS-31300041   None             None        None          None   \n7   LIST-8  EDCS-31300040   None             None        None          None   \n8   LIST-9  EDCS-78300494   None             None        None          None   \n9  LIST-10  EDCS-54900618   None             None        None          None   \n\n                                         inscription  \\\n0                                              Leius   \n1                                  Cn(aeus) Atei(us)   \n2                                         Avill(ius)   \n3                                L(ucius) Av(illius)   \n4                                           Camurius   \n5                                        L(uci) Titi   \n6  Αὐτοκράτωρ Καῖσαρλέγει τῆς εἴς με εὐνοί/ας τε ...   \n7  [στρατηγὸς Ἀχαιῶ]ν καὶ Βοιωτῶν καὶ Λοκρῶν καὶ ...   \n8  [Μ(ᾶρκον)] Πομπήϊο[ν νέον Θεοφάνην Κυ]/[ρί]να ...   \n9  ] / agui[3] / tiamoi[3] / annoru[m 3] / offici...   \n\n                             clean_text_conservative  \\\n0                                              Leius   \n1                                            Cn Atei   \n2                                              Avill   \n3                                               L Av   \n4                                           Camurius   \n5                                             L Titi   \n6  Αὐτοκράτωρ Καῖσαρλέγει τῆς εἴς με εὐνοίας τε κ...   \n7  ν καὶ Βοιωτῶν καὶ Λοκρῶν καὶ Εὐβοέων καὶ ς Διο...   \n8  Πομπήϊο να Μακρεῖν δρῶν ταμίαν καὶ ἀν τηγον Πό...   \n9  agui tiamoi annoru officia exe siderum moti ti...   \n\n  clean_text_interpretive_sentence  \\\n0                             None   \n1                             None   \n2                             None   \n3                             None   \n4                             None   \n5                             None   \n6                             None   \n7                             None   \n8                             None   \n9                             None   \n\n                        clean_text_interpretive_word  \\\n0                                              Leius   \n1                                      Cnaeus Ateius   \n2                                           Avillius   \n3                                    Lucius Avillius   \n4                                           Camurius   \n5                                          Luci Titi   \n6  Αὐτοκράτωρ Καῖσαρλέγει τῆς εἴς με εὐνοίας τε κ...   \n7  στρατηγὸς Ἀχαιῶν καὶ Βοιωτῶν καὶ Λοκρῶν καὶ Εὐ...   \n8  Μᾶρκον Πομπήϊον νέον Θεοφάνην Κυρίνα Μακρεῖνον...   \n9  agui tiamoi annorum officia exeq siderum motib...   \n\n                   clean_text_interpretive_word_EDCS diplomatic_text province  \\\n0                                              Leius            None   Achaia   \n1                                      Cnaeus Ateius            None   Achaia   \n2                                           Avillius            None   Achaia   \n3                                    Lucius Avillius            None   Achaia   \n4                                           Camurius            None   Achaia   \n5                                          Luci Titi            None   Achaia   \n6  Αὐτοκράτωρ Καῖσαρλέγει τῆς εἴς με εὐνοίας τε κ...            None   Achaia   \n7  στρατηγὸς Ἀχαιῶν καὶ Βοιωτῶν καὶ Λοκρῶν καὶ Εὐ...            None   Achaia   \n8  Μᾶρκον Πομπήϊον νέον Θεοφάνην Κυρίνα Μακρεῖνον...            None   Achaia   \n9  agui tiamoi annorum officia exeq siderum motib...            None   Achaia   \n\n                                               place              inscr_type  \\\n0                                                  ?                    None   \n1                            Agios Donatos / Photike    tituli fabricationis   \n2                            Agios Donatos / Photike    tituli fabricationis   \n3                            Agios Donatos / Photike    tituli fabricationis   \n4                            Agios Donatos / Photike    tituli fabricationis   \n5                            Agios Donatos / Photike    tituli fabricationis   \n6  Akraiphnio / Akraifnia / Akraiphiai / Karditsa...     leges, tituli sacri   \n7  Akraiphnio / Akraifnia / Akraiphiai / Karditsa...                    None   \n8                                       Alea / Tegea        tituli honorarii   \n9                                       Alea / Tegea  carmina, tituli operum   \n\n                                     status_notation     inscr_process  \\\n0                                               None              None   \n1                           praenomen et nomen, viri  sigilla impressa   \n2                              nomen singulare, viri  sigilla impressa   \n3                           praenomen et nomen, viri  sigilla impressa   \n4                              nomen singulare, viri  sigilla impressa   \n5                           praenomen et nomen, viri  sigilla impressa   \n6                             Augusti/Augustae, viri              None   \n7                                               None              None   \n8  milites, ordo senatorius, sacerdotes pagani, t...              None   \n9                                               None              None   \n\n                                              status  \\\n0                                               None   \n1  praenomen et nomen;  sigilla impressa;  tituli...   \n2  nomen singulare;  sigilla impressa;  tituli fa...   \n3  praenomen et nomen;  sigilla impressa;  tituli...   \n4  nomen singulare;  sigilla impressa;  tituli fa...   \n5  praenomen et nomen;  sigilla impressa;  tituli...   \n6     Augusti/Augustae;  leges;  tituli sacri;  viri   \n7                                               None   \n8  milites;  ordo senatorius;  sacerdotes pagani;...   \n9                            carmina;  tituli operum   \n\n                                        partner_link last_update letter_size  \\\n0                                               None        None        None   \n1                                               None        None        None   \n2                                               None        None        None   \n3                                               None        None        None   \n4                                               None        None        None   \n5                                               None        None        None   \n6  http://db.edcs.eu/epigr/partner.php?s_language...        None        None   \n7  http://db.edcs.eu/epigr/partner.php?s_language...        None        None   \n8  http://db.edcs.eu/epigr/partner.php?s_language...        None        None   \n9                                               None        None        None   \n\n  type_of_inscription work_status  year_of_find present_location text_edition  \\\n0                None        None           NaN             None         None   \n1                None        None           NaN             None         None   \n2                None        None           NaN             None         None   \n3                None        None           NaN             None         None   \n4                None        None           NaN             None         None   \n5                None        None           NaN             None         None   \n6                None        None           NaN             None         None   \n7                None        None           NaN             None         None   \n8                None        None           NaN             None         None   \n9                None        None           NaN             None         None   \n\n  support_objecttype  support_material  support_decoration  keywords_term  \\\n0               None               NaN                 NaN            NaN   \n1               None               NaN                 NaN            NaN   \n2               None               NaN                 NaN            NaN   \n3               None               NaN                 NaN            NaN   \n4               None               NaN                 NaN            NaN   \n5               None               NaN                 NaN            NaN   \n6               None               NaN                 NaN            NaN   \n7               None               NaN                 NaN            NaN   \n8               None               NaN                 NaN            NaN   \n9               None               NaN                 NaN            NaN   \n\n  people type_of_inscription_clean  type_of_inscription_certainty  height_cm  \\\n0    [ ]                      None                          False        NaN   \n1    [ ]                      None                          False        NaN   \n2    [ ]                      None                          False        NaN   \n3    [ ]                      None                          False        NaN   \n4    [ ]                      None                          False        NaN   \n5    [ ]                      None                          False        NaN   \n6    [ ]                      None                          False        NaN   \n7    [ ]                      None                          False        NaN   \n8    [ ]                      None                          False        NaN   \n9    [ ]                      None                          False        NaN   \n\n   width_cm  depth_cm material_clean type_of_monument_clean  \\\n0       NaN       NaN           None                   None   \n1       NaN       NaN           None                   None   \n2       NaN       NaN           None                   None   \n3       NaN       NaN           None                   None   \n4       NaN       NaN           None                   None   \n5       NaN       NaN           None                   None   \n6       NaN       NaN           None                   None   \n7       NaN       NaN           None                   None   \n8       NaN       NaN           None                   None   \n9       NaN       NaN           None                   None   \n\n   type_of_monument_certainty province_label_clean  province_label_certainty  \\\n0                       False                 None                     False   \n1                       False                 None                     False   \n2                       False                 None                     False   \n3                       False                 None                     False   \n4                       False                 None                     False   \n5                       False                 None                     False   \n6                       False                 None                     False   \n7                       False                 None                     False   \n8                       False                 None                     False   \n9                       False                 None                     False   \n\n  country_clean  country_certainty findspot_ancient_clean  \\\n0          None              False                   None   \n1          None              False                   None   \n2          None              False                   None   \n3          None              False                   None   \n4          None              False                   None   \n5          None              False                   None   \n6          None              False                   None   \n7          None              False                   None   \n8          None              False                   None   \n9          None              False                   None   \n\n   findspot_ancient_certainty modern_region_clean  modern_region_certainty  \\\n0                       False                None                    False   \n1                       False                None                    False   \n2                       False                None                    False   \n3                       False                None                    False   \n4                       False                None                    False   \n5                       False                None                    False   \n6                       False                None                    False   \n7                       False                None                    False   \n8                       False                None                    False   \n9                       False                None                    False   \n\n  findspot_modern_clean  findspot_modern_certainty findspot_clean  \\\n0                  None                      False           None   \n1                  None                      False           None   \n2                  None                      False           None   \n3                  None                      False           None   \n4                  None                      False           None   \n5                  None                      False           None   \n6                  None                      False           None   \n7                  None                      False           None   \n8                  None                      False           None   \n9                  None                      False           None   \n\n   findspot_certainty language language_EDCS  raw_dating  not_after  \\\n0               False        L          None        None        NaN   \n1               False        L          None        None        NaN   \n2               False        L          None        None        NaN   \n3               False        L          None        None        NaN   \n4               False        L          None        None        NaN   \n5               False        L          None        None        NaN   \n6               False        L          None    67 to 67       67.0   \n7               False        L          None        None        NaN   \n8               False        L          None  116 to 117      117.0   \n9               False        L          None        None        NaN   \n\n   not_before  Longitude   Latitude  geotemporal?                   geometry  \\\n0         NaN        NaN        NaN         False                       None   \n1         NaN  20.506908  39.475976         False  POINT (20.50691 39.47598)   \n2         NaN  20.506908  39.475976         False  POINT (20.50691 39.47598)   \n3         NaN  20.506908  39.475976         False  POINT (20.50691 39.47598)   \n4         NaN  20.506908  39.475976         False  POINT (20.50691 39.47598)   \n5         NaN  20.506908  39.475976         False  POINT (20.50691 39.47598)   \n6        67.0  23.220144  38.456055          True  POINT (23.22014 38.45606)   \n7         NaN  23.220144  38.456055         False  POINT (23.22014 38.45606)   \n8       116.0  22.420877  37.454501          True  POINT (22.42088 37.45450)   \n9         NaN  22.420877  37.454501         False  POINT (22.42088 37.45450)   \n\n   withinRE?     large_city_name               large_city_geo  \\\n0      False                None                         None   \n1       True  Nicopolis (Achaea)  POINT (20.733395 39.026505)   \n2       True  Nicopolis (Achaea)  POINT (20.733395 39.026505)   \n3       True  Nicopolis (Achaea)  POINT (20.733395 39.026505)   \n4       True  Nicopolis (Achaea)  POINT (20.733395 39.026505)   \n5       True  Nicopolis (Achaea)  POINT (20.733395 39.026505)   \n6       True              Megara  POINT (23.344591 37.994845)   \n7       True              Megara  POINT (23.344591 37.994845)   \n8       True               Tegea  POINT (22.417226 37.427653)   \n9       True               Tegea  POINT (22.417226 37.427653)   \n\n   large_city_dist  large_city_pop medium_city_name  \\\n0              NaN             NaN             None   \n1         53593.41         41221.0         Ambracia   \n2         53593.41         41221.0         Ambracia   \n3         53593.41         41221.0         Ambracia   \n4         53593.41         41221.0         Ambracia   \n5         53593.41         41221.0         Ambracia   \n6         52341.53         30829.0         Thespiae   \n7         52341.53         30829.0         Thespiae   \n8          2997.22         46362.0         Mantinea   \n9          2997.22         46362.0         Mantinea   \n\n               medium_city_geo  medium_city_pop  medium_city_dist  \\\n0                         None              NaN               NaN   \n1        POINT (20.987 39.158)          27923.0          54409.47   \n2        POINT (20.987 39.158)          27923.0          54409.47   \n3        POINT (20.987 39.158)          27923.0          54409.47   \n4        POINT (20.987 39.158)          27923.0          54409.47   \n5        POINT (20.987 39.158)          27923.0          54409.47   \n6  POINT (23.150051 38.302836)           8421.0          18077.00   \n7  POINT (23.150051 38.302836)           8421.0          18077.00   \n8  POINT (22.405305 37.642803)          25371.0          20944.51   \n9  POINT (22.405305 37.642803)          25371.0          20944.51   \n\n  small_city_name               small_city_geo  small_city_pop  \\\n0            None                         None             NaN   \n1          Dodona  POINT (20.787767 39.546432)          1000.0   \n2          Dodona  POINT (20.787767 39.546432)          1000.0   \n3          Dodona  POINT (20.787767 39.546432)          1000.0   \n4          Dodona  POINT (20.787767 39.546432)          1000.0   \n5          Dodona  POINT (20.787767 39.546432)          1000.0   \n6       Acraephia  POINT (23.219702 38.452606)          1000.0   \n7       Acraephia  POINT (23.219702 38.452606)          1000.0   \n8      Pallantium  POINT (22.336587 37.462155)          1000.0   \n9      Pallantium  POINT (22.336587 37.462155)          1000.0   \n\n   small_city_dist  \n0              NaN  \n1         25388.88  \n2         25388.88  \n3         25388.88  \n4         25388.88  \n5         25388.88  \n6           384.80  \n7           384.80  \n8          7505.76  \n9          7505.76  ",
      "text/html": "<div>\n<style scoped>\n    .dataframe tbody tr th:only-of-type {\n        vertical-align: middle;\n    }\n\n    .dataframe tbody tr th {\n        vertical-align: top;\n    }\n\n    .dataframe thead th {\n        text-align: right;\n    }\n</style>\n<table border=\"1\" class=\"dataframe\">\n  <thead>\n    <tr style=\"text-align: right;\">\n      <th></th>\n      <th>LIST-ID</th>\n      <th>EDCS-ID</th>\n      <th>EDH-ID</th>\n      <th>trismegistos_uri</th>\n      <th>pleiades_id</th>\n      <th>transcription</th>\n      <th>inscription</th>\n      <th>clean_text_conservative</th>\n      <th>clean_text_interpretive_sentence</th>\n      <th>clean_text_interpretive_word</th>\n      <th>clean_text_interpretive_word_EDCS</th>\n      <th>diplomatic_text</th>\n      <th>province</th>\n      <th>place</th>\n      <th>inscr_type</th>\n      <th>status_notation</th>\n      <th>inscr_process</th>\n      <th>status</th>\n      <th>partner_link</th>\n      <th>last_update</th>\n      <th>letter_size</th>\n      <th>type_of_inscription</th>\n      <th>work_status</th>\n      <th>year_of_find</th>\n      <th>present_location</th>\n      <th>text_edition</th>\n      <th>support_objecttype</th>\n      <th>support_material</th>\n      <th>support_decoration</th>\n      <th>keywords_term</th>\n      <th>people</th>\n      <th>type_of_inscription_clean</th>\n      <th>type_of_inscription_certainty</th>\n      <th>height_cm</th>\n      <th>width_cm</th>\n      <th>depth_cm</th>\n      <th>material_clean</th>\n      <th>type_of_monument_clean</th>\n      <th>type_of_monument_certainty</th>\n      <th>province_label_clean</th>\n      <th>province_label_certainty</th>\n      <th>country_clean</th>\n      <th>country_certainty</th>\n      <th>findspot_ancient_clean</th>\n      <th>findspot_ancient_certainty</th>\n      <th>modern_region_clean</th>\n      <th>modern_region_certainty</th>\n      <th>findspot_modern_clean</th>\n      <th>findspot_modern_certainty</th>\n      <th>findspot_clean</th>\n      <th>findspot_certainty</th>\n      <th>language</th>\n      <th>language_EDCS</th>\n      <th>raw_dating</th>\n      <th>not_after</th>\n      <th>not_before</th>\n      <th>Longitude</th>\n      <th>Latitude</th>\n      <th>geotemporal?</th>\n      <th>geometry</th>\n      <th>withinRE?</th>\n      <th>large_city_name</th>\n      <th>large_city_geo</th>\n      <th>large_city_dist</th>\n      <th>large_city_pop</th>\n      <th>medium_city_name</th>\n      <th>medium_city_geo</th>\n      <th>medium_city_pop</th>\n      <th>medium_city_dist</th>\n      <th>small_city_name</th>\n      <th>small_city_geo</th>\n      <th>small_city_pop</th>\n      <th>small_city_dist</th>\n    </tr>\n  </thead>\n  <tbody>\n    <tr>\n      <th>0</th>\n      <td>LIST-1</td>\n      <td>EDCS-31400030</td>\n      <td>None</td>\n      <td>None</td>\n      <td>None</td>\n      <td>None</td>\n      <td>Leius</td>\n      <td>Leius</td>\n      <td>None</td>\n      <td>Leius</td>\n      <td>Leius</td>\n      <td>None</td>\n      <td>Achaia</td>\n      <td>?</td>\n      <td>None</td>\n      <td>None</td>\n      <td>None</td>\n      <td>None</td>\n      <td>None</td>\n      <td>None</td>\n      <td>None</td>\n      <td>None</td>\n      <td>None</td>\n      <td>NaN</td>\n      <td>None</td>\n      <td>None</td>\n      <td>None</td>\n      <td>NaN</td>\n      <td>NaN</td>\n      <td>NaN</td>\n      <td>[ ]</td>\n      <td>None</td>\n      <td>False</td>\n      <td>NaN</td>\n      <td>NaN</td>\n      <td>NaN</td>\n      <td>None</td>\n      <td>None</td>\n      <td>False</td>\n      <td>None</td>\n      <td>False</td>\n      <td>None</td>\n      <td>False</td>\n      <td>None</td>\n      <td>False</td>\n      <td>None</td>\n      <td>False</td>\n      <td>None</td>\n      <td>False</td>\n      <td>None</td>\n      <td>False</td>\n      <td>L</td>\n      <td>None</td>\n      <td>None</td>\n      <td>NaN</td>\n      <td>NaN</td>\n      <td>NaN</td>\n      <td>NaN</td>\n      <td>False</td>\n      <td>None</td>\n      <td>False</td>\n      <td>None</td>\n      <td>None</td>\n      <td>NaN</td>\n      <td>NaN</td>\n      <td>None</td>\n      <td>None</td>\n      <td>NaN</td>\n      <td>NaN</td>\n      <td>None</td>\n      <td>None</td>\n      <td>NaN</td>\n      <td>NaN</td>\n    </tr>\n    <tr>\n      <th>1</th>\n      <td>LIST-2</td>\n      <td>EDCS-55701593</td>\n      <td>None</td>\n      <td>None</td>\n      <td>None</td>\n      <td>None</td>\n      <td>Cn(aeus) Atei(us)</td>\n      <td>Cn Atei</td>\n      <td>None</td>\n      <td>Cnaeus Ateius</td>\n      <td>Cnaeus Ateius</td>\n      <td>None</td>\n      <td>Achaia</td>\n      <td>Agios Donatos / Photike</td>\n      <td>tituli fabricationis</td>\n      <td>praenomen et nomen, viri</td>\n      <td>sigilla impressa</td>\n      <td>praenomen et nomen;  sigilla impressa;  tituli...</td>\n      <td>None</td>\n      <td>None</td>\n      <td>None</td>\n      <td>None</td>\n      <td>None</td>\n      <td>NaN</td>\n      <td>None</td>\n      <td>None</td>\n      <td>None</td>\n      <td>NaN</td>\n      <td>NaN</td>\n      <td>NaN</td>\n      <td>[ ]</td>\n      <td>None</td>\n      <td>False</td>\n      <td>NaN</td>\n      <td>NaN</td>\n      <td>NaN</td>\n      <td>None</td>\n      <td>None</td>\n      <td>False</td>\n      <td>None</td>\n      <td>False</td>\n      <td>None</td>\n      <td>False</td>\n      <td>None</td>\n      <td>False</td>\n      <td>None</td>\n      <td>False</td>\n      <td>None</td>\n      <td>False</td>\n      <td>None</td>\n      <td>False</td>\n      <td>L</td>\n      <td>None</td>\n      <td>None</td>\n      <td>NaN</td>\n      <td>NaN</td>\n      <td>20.506908</td>\n      <td>39.475976</td>\n      <td>False</td>\n      <td>POINT (20.50691 39.47598)</td>\n      <td>True</td>\n      <td>Nicopolis (Achaea)</td>\n      <td>POINT (20.733395 39.026505)</td>\n      <td>53593.41</td>\n      <td>41221.0</td>\n      <td>Ambracia</td>\n      <td>POINT (20.987 39.158)</td>\n      <td>27923.0</td>\n      <td>54409.47</td>\n      <td>Dodona</td>\n      <td>POINT (20.787767 39.546432)</td>\n      <td>1000.0</td>\n      <td>25388.88</td>\n    </tr>\n    <tr>\n      <th>2</th>\n      <td>LIST-3</td>\n      <td>EDCS-55701594</td>\n      <td>None</td>\n      <td>None</td>\n      <td>None</td>\n      <td>None</td>\n      <td>Avill(ius)</td>\n      <td>Avill</td>\n      <td>None</td>\n      <td>Avillius</td>\n      <td>Avillius</td>\n      <td>None</td>\n      <td>Achaia</td>\n      <td>Agios Donatos / Photike</td>\n      <td>tituli fabricationis</td>\n      <td>nomen singulare, viri</td>\n      <td>sigilla impressa</td>\n      <td>nomen singulare;  sigilla impressa;  tituli fa...</td>\n      <td>None</td>\n      <td>None</td>\n      <td>None</td>\n      <td>None</td>\n      <td>None</td>\n      <td>NaN</td>\n      <td>None</td>\n      <td>None</td>\n      <td>None</td>\n      <td>NaN</td>\n      <td>NaN</td>\n      <td>NaN</td>\n      <td>[ ]</td>\n      <td>None</td>\n      <td>False</td>\n      <td>NaN</td>\n      <td>NaN</td>\n      <td>NaN</td>\n      <td>None</td>\n      <td>None</td>\n      <td>False</td>\n      <td>None</td>\n      <td>False</td>\n      <td>None</td>\n      <td>False</td>\n      <td>None</td>\n      <td>False</td>\n      <td>None</td>\n      <td>False</td>\n      <td>None</td>\n      <td>False</td>\n      <td>None</td>\n      <td>False</td>\n      <td>L</td>\n      <td>None</td>\n      <td>None</td>\n      <td>NaN</td>\n      <td>NaN</td>\n      <td>20.506908</td>\n      <td>39.475976</td>\n      <td>False</td>\n      <td>POINT (20.50691 39.47598)</td>\n      <td>True</td>\n      <td>Nicopolis (Achaea)</td>\n      <td>POINT (20.733395 39.026505)</td>\n      <td>53593.41</td>\n      <td>41221.0</td>\n      <td>Ambracia</td>\n      <td>POINT (20.987 39.158)</td>\n      <td>27923.0</td>\n      <td>54409.47</td>\n      <td>Dodona</td>\n      <td>POINT (20.787767 39.546432)</td>\n      <td>1000.0</td>\n      <td>25388.88</td>\n    </tr>\n    <tr>\n      <th>3</th>\n      <td>LIST-4</td>\n      <td>EDCS-55701595</td>\n      <td>None</td>\n      <td>None</td>\n      <td>None</td>\n      <td>None</td>\n      <td>L(ucius) Av(illius)</td>\n      <td>L Av</td>\n      <td>None</td>\n      <td>Lucius Avillius</td>\n      <td>Lucius Avillius</td>\n      <td>None</td>\n      <td>Achaia</td>\n      <td>Agios Donatos / Photike</td>\n      <td>tituli fabricationis</td>\n      <td>praenomen et nomen, viri</td>\n      <td>sigilla impressa</td>\n      <td>praenomen et nomen;  sigilla impressa;  tituli...</td>\n      <td>None</td>\n      <td>None</td>\n      <td>None</td>\n      <td>None</td>\n      <td>None</td>\n      <td>NaN</td>\n      <td>None</td>\n      <td>None</td>\n      <td>None</td>\n      <td>NaN</td>\n      <td>NaN</td>\n      <td>NaN</td>\n      <td>[ ]</td>\n      <td>None</td>\n      <td>False</td>\n      <td>NaN</td>\n      <td>NaN</td>\n      <td>NaN</td>\n      <td>None</td>\n      <td>None</td>\n      <td>False</td>\n      <td>None</td>\n      <td>False</td>\n      <td>None</td>\n      <td>False</td>\n      <td>None</td>\n      <td>False</td>\n      <td>None</td>\n      <td>False</td>\n      <td>None</td>\n      <td>False</td>\n      <td>None</td>\n      <td>False</td>\n      <td>L</td>\n      <td>None</td>\n      <td>None</td>\n      <td>NaN</td>\n      <td>NaN</td>\n      <td>20.506908</td>\n      <td>39.475976</td>\n      <td>False</td>\n      <td>POINT (20.50691 39.47598)</td>\n      <td>True</td>\n      <td>Nicopolis (Achaea)</td>\n      <td>POINT (20.733395 39.026505)</td>\n      <td>53593.41</td>\n      <td>41221.0</td>\n      <td>Ambracia</td>\n      <td>POINT (20.987 39.158)</td>\n      <td>27923.0</td>\n      <td>54409.47</td>\n      <td>Dodona</td>\n      <td>POINT (20.787767 39.546432)</td>\n      <td>1000.0</td>\n      <td>25388.88</td>\n    </tr>\n    <tr>\n      <th>4</th>\n      <td>LIST-5</td>\n      <td>EDCS-55701596</td>\n      <td>None</td>\n      <td>None</td>\n      <td>None</td>\n      <td>None</td>\n      <td>Camurius</td>\n      <td>Camurius</td>\n      <td>None</td>\n      <td>Camurius</td>\n      <td>Camurius</td>\n      <td>None</td>\n      <td>Achaia</td>\n      <td>Agios Donatos / Photike</td>\n      <td>tituli fabricationis</td>\n      <td>nomen singulare, viri</td>\n      <td>sigilla impressa</td>\n      <td>nomen singulare;  sigilla impressa;  tituli fa...</td>\n      <td>None</td>\n      <td>None</td>\n      <td>None</td>\n      <td>None</td>\n      <td>None</td>\n      <td>NaN</td>\n      <td>None</td>\n      <td>None</td>\n      <td>None</td>\n      <td>NaN</td>\n      <td>NaN</td>\n      <td>NaN</td>\n      <td>[ ]</td>\n      <td>None</td>\n      <td>False</td>\n      <td>NaN</td>\n      <td>NaN</td>\n      <td>NaN</td>\n      <td>None</td>\n      <td>None</td>\n      <td>False</td>\n      <td>None</td>\n      <td>False</td>\n      <td>None</td>\n      <td>False</td>\n      <td>None</td>\n      <td>False</td>\n      <td>None</td>\n      <td>False</td>\n      <td>None</td>\n      <td>False</td>\n      <td>None</td>\n      <td>False</td>\n      <td>L</td>\n      <td>None</td>\n      <td>None</td>\n      <td>NaN</td>\n      <td>NaN</td>\n      <td>20.506908</td>\n      <td>39.475976</td>\n      <td>False</td>\n      <td>POINT (20.50691 39.47598)</td>\n      <td>True</td>\n      <td>Nicopolis (Achaea)</td>\n      <td>POINT (20.733395 39.026505)</td>\n      <td>53593.41</td>\n      <td>41221.0</td>\n      <td>Ambracia</td>\n      <td>POINT (20.987 39.158)</td>\n      <td>27923.0</td>\n      <td>54409.47</td>\n      <td>Dodona</td>\n      <td>POINT (20.787767 39.546432)</td>\n      <td>1000.0</td>\n      <td>25388.88</td>\n    </tr>\n    <tr>\n      <th>5</th>\n      <td>LIST-6</td>\n      <td>EDCS-55701597</td>\n      <td>None</td>\n      <td>None</td>\n      <td>None</td>\n      <td>None</td>\n      <td>L(uci) Titi</td>\n      <td>L Titi</td>\n      <td>None</td>\n      <td>Luci Titi</td>\n      <td>Luci Titi</td>\n      <td>None</td>\n      <td>Achaia</td>\n      <td>Agios Donatos / Photike</td>\n      <td>tituli fabricationis</td>\n      <td>praenomen et nomen, viri</td>\n      <td>sigilla impressa</td>\n      <td>praenomen et nomen;  sigilla impressa;  tituli...</td>\n      <td>None</td>\n      <td>None</td>\n      <td>None</td>\n      <td>None</td>\n      <td>None</td>\n      <td>NaN</td>\n      <td>None</td>\n      <td>None</td>\n      <td>None</td>\n      <td>NaN</td>\n      <td>NaN</td>\n      <td>NaN</td>\n      <td>[ ]</td>\n      <td>None</td>\n      <td>False</td>\n      <td>NaN</td>\n      <td>NaN</td>\n      <td>NaN</td>\n      <td>None</td>\n      <td>None</td>\n      <td>False</td>\n      <td>None</td>\n      <td>False</td>\n      <td>None</td>\n      <td>False</td>\n      <td>None</td>\n      <td>False</td>\n      <td>None</td>\n      <td>False</td>\n      <td>None</td>\n      <td>False</td>\n      <td>None</td>\n      <td>False</td>\n      <td>L</td>\n      <td>None</td>\n      <td>None</td>\n      <td>NaN</td>\n      <td>NaN</td>\n      <td>20.506908</td>\n      <td>39.475976</td>\n      <td>False</td>\n      <td>POINT (20.50691 39.47598)</td>\n      <td>True</td>\n      <td>Nicopolis (Achaea)</td>\n      <td>POINT (20.733395 39.026505)</td>\n      <td>53593.41</td>\n      <td>41221.0</td>\n      <td>Ambracia</td>\n      <td>POINT (20.987 39.158)</td>\n      <td>27923.0</td>\n      <td>54409.47</td>\n      <td>Dodona</td>\n      <td>POINT (20.787767 39.546432)</td>\n      <td>1000.0</td>\n      <td>25388.88</td>\n    </tr>\n    <tr>\n      <th>6</th>\n      <td>LIST-7</td>\n      <td>EDCS-31300041</td>\n      <td>None</td>\n      <td>None</td>\n      <td>None</td>\n      <td>None</td>\n      <td>Αὐτοκράτωρ Καῖσαρλέγει τῆς εἴς με εὐνοί/ας τε ...</td>\n      <td>Αὐτοκράτωρ Καῖσαρλέγει τῆς εἴς με εὐνοίας τε κ...</td>\n      <td>None</td>\n      <td>Αὐτοκράτωρ Καῖσαρλέγει τῆς εἴς με εὐνοίας τε κ...</td>\n      <td>Αὐτοκράτωρ Καῖσαρλέγει τῆς εἴς με εὐνοίας τε κ...</td>\n      <td>None</td>\n      <td>Achaia</td>\n      <td>Akraiphnio / Akraifnia / Akraiphiai / Karditsa...</td>\n      <td>leges, tituli sacri</td>\n      <td>Augusti/Augustae, viri</td>\n      <td>None</td>\n      <td>Augusti/Augustae;  leges;  tituli sacri;  viri</td>\n      <td>http://db.edcs.eu/epigr/partner.php?s_language...</td>\n      <td>None</td>\n      <td>None</td>\n      <td>None</td>\n      <td>None</td>\n      <td>NaN</td>\n      <td>None</td>\n      <td>None</td>\n      <td>None</td>\n      <td>NaN</td>\n      <td>NaN</td>\n      <td>NaN</td>\n      <td>[ ]</td>\n      <td>None</td>\n      <td>False</td>\n      <td>NaN</td>\n      <td>NaN</td>\n      <td>NaN</td>\n      <td>None</td>\n      <td>None</td>\n      <td>False</td>\n      <td>None</td>\n      <td>False</td>\n      <td>None</td>\n      <td>False</td>\n      <td>None</td>\n      <td>False</td>\n      <td>None</td>\n      <td>False</td>\n      <td>None</td>\n      <td>False</td>\n      <td>None</td>\n      <td>False</td>\n      <td>L</td>\n      <td>None</td>\n      <td>67 to 67</td>\n      <td>67.0</td>\n      <td>67.0</td>\n      <td>23.220144</td>\n      <td>38.456055</td>\n      <td>True</td>\n      <td>POINT (23.22014 38.45606)</td>\n      <td>True</td>\n      <td>Megara</td>\n      <td>POINT (23.344591 37.994845)</td>\n      <td>52341.53</td>\n      <td>30829.0</td>\n      <td>Thespiae</td>\n      <td>POINT (23.150051 38.302836)</td>\n      <td>8421.0</td>\n      <td>18077.00</td>\n      <td>Acraephia</td>\n      <td>POINT (23.219702 38.452606)</td>\n      <td>1000.0</td>\n      <td>384.80</td>\n    </tr>\n    <tr>\n      <th>7</th>\n      <td>LIST-8</td>\n      <td>EDCS-31300040</td>\n      <td>None</td>\n      <td>None</td>\n      <td>None</td>\n      <td>None</td>\n      <td>[στρατηγὸς Ἀχαιῶ]ν καὶ Βοιωτῶν καὶ Λοκρῶν καὶ ...</td>\n      <td>ν καὶ Βοιωτῶν καὶ Λοκρῶν καὶ Εὐβοέων καὶ ς Διο...</td>\n      <td>None</td>\n      <td>στρατηγὸς Ἀχαιῶν καὶ Βοιωτῶν καὶ Λοκρῶν καὶ Εὐ...</td>\n      <td>στρατηγὸς Ἀχαιῶν καὶ Βοιωτῶν καὶ Λοκρῶν καὶ Εὐ...</td>\n      <td>None</td>\n      <td>Achaia</td>\n      <td>Akraiphnio / Akraifnia / Akraiphiai / Karditsa...</td>\n      <td>None</td>\n      <td>None</td>\n      <td>None</td>\n      <td>None</td>\n      <td>http://db.edcs.eu/epigr/partner.php?s_language...</td>\n      <td>None</td>\n      <td>None</td>\n      <td>None</td>\n      <td>None</td>\n      <td>NaN</td>\n      <td>None</td>\n      <td>None</td>\n      <td>None</td>\n      <td>NaN</td>\n      <td>NaN</td>\n      <td>NaN</td>\n      <td>[ ]</td>\n      <td>None</td>\n      <td>False</td>\n      <td>NaN</td>\n      <td>NaN</td>\n      <td>NaN</td>\n      <td>None</td>\n      <td>None</td>\n      <td>False</td>\n      <td>None</td>\n      <td>False</td>\n      <td>None</td>\n      <td>False</td>\n      <td>None</td>\n      <td>False</td>\n      <td>None</td>\n      <td>False</td>\n      <td>None</td>\n      <td>False</td>\n      <td>None</td>\n      <td>False</td>\n      <td>L</td>\n      <td>None</td>\n      <td>None</td>\n      <td>NaN</td>\n      <td>NaN</td>\n      <td>23.220144</td>\n      <td>38.456055</td>\n      <td>False</td>\n      <td>POINT (23.22014 38.45606)</td>\n      <td>True</td>\n      <td>Megara</td>\n      <td>POINT (23.344591 37.994845)</td>\n      <td>52341.53</td>\n      <td>30829.0</td>\n      <td>Thespiae</td>\n      <td>POINT (23.150051 38.302836)</td>\n      <td>8421.0</td>\n      <td>18077.00</td>\n      <td>Acraephia</td>\n      <td>POINT (23.219702 38.452606)</td>\n      <td>1000.0</td>\n      <td>384.80</td>\n    </tr>\n    <tr>\n      <th>8</th>\n      <td>LIST-9</td>\n      <td>EDCS-78300494</td>\n      <td>None</td>\n      <td>None</td>\n      <td>None</td>\n      <td>None</td>\n      <td>[Μ(ᾶρκον)] Πομπήϊο[ν νέον Θεοφάνην Κυ]/[ρί]να ...</td>\n      <td>Πομπήϊο να Μακρεῖν δρῶν ταμίαν καὶ ἀν τηγον Πό...</td>\n      <td>None</td>\n      <td>Μᾶρκον Πομπήϊον νέον Θεοφάνην Κυρίνα Μακρεῖνον...</td>\n      <td>Μᾶρκον Πομπήϊον νέον Θεοφάνην Κυρίνα Μακρεῖνον...</td>\n      <td>None</td>\n      <td>Achaia</td>\n      <td>Alea / Tegea</td>\n      <td>tituli honorarii</td>\n      <td>milites, ordo senatorius, sacerdotes pagani, t...</td>\n      <td>None</td>\n      <td>milites;  ordo senatorius;  sacerdotes pagani;...</td>\n      <td>http://db.edcs.eu/epigr/partner.php?s_language...</td>\n      <td>None</td>\n      <td>None</td>\n      <td>None</td>\n      <td>None</td>\n      <td>NaN</td>\n      <td>None</td>\n      <td>None</td>\n      <td>None</td>\n      <td>NaN</td>\n      <td>NaN</td>\n      <td>NaN</td>\n      <td>[ ]</td>\n      <td>None</td>\n      <td>False</td>\n      <td>NaN</td>\n      <td>NaN</td>\n      <td>NaN</td>\n      <td>None</td>\n      <td>None</td>\n      <td>False</td>\n      <td>None</td>\n      <td>False</td>\n      <td>None</td>\n      <td>False</td>\n      <td>None</td>\n      <td>False</td>\n      <td>None</td>\n      <td>False</td>\n      <td>None</td>\n      <td>False</td>\n      <td>None</td>\n      <td>False</td>\n      <td>L</td>\n      <td>None</td>\n      <td>116 to 117</td>\n      <td>117.0</td>\n      <td>116.0</td>\n      <td>22.420877</td>\n      <td>37.454501</td>\n      <td>True</td>\n      <td>POINT (22.42088 37.45450)</td>\n      <td>True</td>\n      <td>Tegea</td>\n      <td>POINT (22.417226 37.427653)</td>\n      <td>2997.22</td>\n      <td>46362.0</td>\n      <td>Mantinea</td>\n      <td>POINT (22.405305 37.642803)</td>\n      <td>25371.0</td>\n      <td>20944.51</td>\n      <td>Pallantium</td>\n      <td>POINT (22.336587 37.462155)</td>\n      <td>1000.0</td>\n      <td>7505.76</td>\n    </tr>\n    <tr>\n      <th>9</th>\n      <td>LIST-10</td>\n      <td>EDCS-54900618</td>\n      <td>None</td>\n      <td>None</td>\n      <td>None</td>\n      <td>None</td>\n      <td>] / agui[3] / tiamoi[3] / annoru[m 3] / offici...</td>\n      <td>agui tiamoi annoru officia exe siderum moti ti...</td>\n      <td>None</td>\n      <td>agui tiamoi annorum officia exeq siderum motib...</td>\n      <td>agui tiamoi annorum officia exeq siderum motib...</td>\n      <td>None</td>\n      <td>Achaia</td>\n      <td>Alea / Tegea</td>\n      <td>carmina, tituli operum</td>\n      <td>None</td>\n      <td>None</td>\n      <td>carmina;  tituli operum</td>\n      <td>None</td>\n      <td>None</td>\n      <td>None</td>\n      <td>None</td>\n      <td>None</td>\n      <td>NaN</td>\n      <td>None</td>\n      <td>None</td>\n      <td>None</td>\n      <td>NaN</td>\n      <td>NaN</td>\n      <td>NaN</td>\n      <td>[ ]</td>\n      <td>None</td>\n      <td>False</td>\n      <td>NaN</td>\n      <td>NaN</td>\n      <td>NaN</td>\n      <td>None</td>\n      <td>None</td>\n      <td>False</td>\n      <td>None</td>\n      <td>False</td>\n      <td>None</td>\n      <td>False</td>\n      <td>None</td>\n      <td>False</td>\n      <td>None</td>\n      <td>False</td>\n      <td>None</td>\n      <td>False</td>\n      <td>None</td>\n      <td>False</td>\n      <td>L</td>\n      <td>None</td>\n      <td>None</td>\n      <td>NaN</td>\n      <td>NaN</td>\n      <td>22.420877</td>\n      <td>37.454501</td>\n      <td>False</td>\n      <td>POINT (22.42088 37.45450)</td>\n      <td>True</td>\n      <td>Tegea</td>\n      <td>POINT (22.417226 37.427653)</td>\n      <td>2997.22</td>\n      <td>46362.0</td>\n      <td>Mantinea</td>\n      <td>POINT (22.405305 37.642803)</td>\n      <td>25371.0</td>\n      <td>20944.51</td>\n      <td>Pallantium</td>\n      <td>POINT (22.336587 37.462155)</td>\n      <td>1000.0</td>\n      <td>7505.76</td>\n    </tr>\n  </tbody>\n</table>\n</div>"
     },
     "execution_count": 93,
     "metadata": {},
     "output_type": "execute_result"
    }
   ],
   "source": [
    "LIST.head(10)"
   ],
   "metadata": {
    "collapsed": false
   }
  },
  {
   "cell_type": "code",
   "execution_count": 102,
   "outputs": [],
   "source": [
    "def get_urban_context(row):\n",
    "    urban_context_city = None\n",
    "    urban_context_pop_est = None\n",
    "    if row.geometry == None:\n",
    "        urban_context = None\n",
    "    else:\n",
    "        urban_context = \"rural\"\n",
    "        buffer = 5000\n",
    "        for context in [\"large\", \"medium\", \"small\"]:\n",
    "            if row[context + \"_city_dist\"] <= buffer:\n",
    "                urban_context = context\n",
    "                urban_context_city = row[context + \"_city_name\"]\n",
    "                urban_context_pop_est = row[context + \"_city_pop\"]\n",
    "                break\n",
    "    return urban_context, urban_context_city, urban_context_pop_est\n",
    "\n",
    "urban_contexts = LIST.apply(lambda row: get_urban_context(row), axis=1)\n",
    "\n",
    "LIST[\"urban_context\"] = [el[0] for el in urban_contexts]\n",
    "LIST[\"urban_context_city\"] = [el[1] for el in urban_contexts]\n",
    "LIST[\"urban_context_pop_est\"] = [el[2] for el in urban_contexts]"
   ],
   "metadata": {
    "collapsed": false
   }
  },
  {
   "cell_type": "code",
   "execution_count": 108,
   "outputs": [
    {
     "name": "stdout",
     "output_type": "stream",
     "text": [
      "large 156724\n",
      "medium 131307\n",
      "small 81345\n",
      "rural 131746\n"
     ]
    }
   ],
   "source": [
    "contexts = [\"large\", \"medium\", \"small\", \"rural\"]\n",
    "for context in contexts:\n",
    "    print(context, (LIST[\"urban_context\"]==context).sum())"
   ],
   "metadata": {
    "collapsed": false
   }
  },
  {
   "cell_type": "code",
   "execution_count": 107,
   "outputs": [
    {
     "data": {
      "text/plain": "28729"
     },
     "execution_count": 107,
     "metadata": {},
     "output_type": "execute_result"
    }
   ],
   "source": [
    "(LIST[\"urban_context\"].isnull()).sum()"
   ],
   "metadata": {
    "collapsed": false
   }
  },
  {
   "cell_type": "code",
   "execution_count": 105,
   "outputs": [
    {
     "data": {
      "text/plain": "            LIST-ID        EDCS-ID    EDH-ID  \\\n0            LIST-1  EDCS-31400030      None   \n1            LIST-2  EDCS-55701593      None   \n2            LIST-3  EDCS-55701594      None   \n3            LIST-4  EDCS-55701595      None   \n4            LIST-5  EDCS-55701596      None   \n...             ...            ...       ...   \n529846  LIST-529847           None  HD082771   \n529847  LIST-529848           None  HD082808   \n529848  LIST-529849           None  HD082809   \n529849  LIST-529850           None  HD082812   \n529850  LIST-529851           None  HD082816   \n\n                                trismegistos_uri pleiades_id  \\\n0                                           None        None   \n1                                           None        None   \n2                                           None        None   \n3                                           None        None   \n4                                           None        None   \n...                                          ...         ...   \n529846                                      None      207361   \n529847                                      None      207304   \n529848  https://www.trismegistos.org/text/705780      187583   \n529849                                      None      197273   \n529850                                      None      118802   \n\n                                            transcription  \\\n0                                                    None   \n1                                                    None   \n2                                                    None   \n3                                                    None   \n4                                                    None   \n...                                                   ...   \n529846  ------] /[--- vixit an]nis / [--- Ger?]man/[us...   \n529847  Silvan/o Dom(estico) / Aureli(us) / Annia/nus ...   \n529848  [Dis] / Maiorib(us) / [T]urboni/[u]s [---] / [...   \n529849                                       MISALIV[---]   \n529850                                     Iunio / [-]VMT   \n\n                inscription         clean_text_conservative  \\\n0                     Leius                           Leius   \n1         Cn(aeus) Atei(us)                         Cn Atei   \n2                Avill(ius)                           Avill   \n3       L(ucius) Av(illius)                            L Av   \n4                  Camurius                        Camurius   \n...                     ...                             ...   \n529846                 None                nis man ex arioV   \n529847                 None  Silvano Dom Aureli Annianus pr   \n529848                 None             Maiorib urbonis Tur   \n529849                 None                         MISALIV   \n529850                 None                       Iunio VMT   \n\n                         clean_text_interpretive_sentence  \\\n0                                                    None   \n1                                                    None   \n2                                                    None   \n3                                                    None   \n4                                                    None   \n...                                                   ...   \n529846  vixit annis Germanus veteranus ex cohortis sag...   \n529847             Silvano Domestico Aurelius Annianus pr   \n529848                 Dis Maioribus Turbonius et Turboni   \n529849                                            MISALIV   \n529850                                          Iunio VMT   \n\n                             clean_text_interpretive_word  \\\n0                                                   Leius   \n1                                           Cnaeus Ateius   \n2                                                Avillius   \n3                                         Lucius Avillius   \n4                                                Camurius   \n...                                                   ...   \n529846  vixit annis Germanus veteranus ex cohortis sag...   \n529847             Silvano Domestico Aurelius Annianus pr   \n529848                 Dis Maioribus Turbonius et Turboni   \n529849                                            MISALIV   \n529850                                          Iunio VMT   \n\n       clean_text_interpretive_word_EDCS  \\\n0                                  Leius   \n1                          Cnaeus Ateius   \n2                               Avillius   \n3                        Lucius Avillius   \n4                               Camurius   \n...                                  ...   \n529846                              None   \n529847                              None   \n529848                              None   \n529849                              None   \n529850                              None   \n\n                                          diplomatic_text province  \\\n0                                                    None   Achaia   \n1                                                    None   Achaia   \n2                                                    None   Achaia   \n3                                                    None   Achaia   \n4                                                    None   Achaia   \n...                                                   ...      ...   \n529846  ] / [ ]NIS / [ ]MAN / [ ] EX / [ ]ARIO / [ ]V / [     None   \n529847           SILVAN / O DOM / AVRELI / ANNIA / NVS PR     None   \n529848  [ ] / MAIORIB / [ ]VRBONI / [ ]S [ ] / [ ] TVR...     None   \n529849                                         MISALIV[ ]     None   \n529850                                     IVNIO / [ ]VMT     None   \n\n                          place            inscr_type  \\\n0                             ?                  None   \n1       Agios Donatos / Photike  tituli fabricationis   \n2       Agios Donatos / Photike  tituli fabricationis   \n3       Agios Donatos / Photike  tituli fabricationis   \n4       Agios Donatos / Photike  tituli fabricationis   \n...                         ...                   ...   \n529846                     None                  None   \n529847                     None                  None   \n529848                     None                  None   \n529849                     None                  None   \n529850                     None                  None   \n\n                 status_notation     inscr_process  \\\n0                           None              None   \n1       praenomen et nomen, viri  sigilla impressa   \n2          nomen singulare, viri  sigilla impressa   \n3       praenomen et nomen, viri  sigilla impressa   \n4          nomen singulare, viri  sigilla impressa   \n...                          ...               ...   \n529846                      None              None   \n529847                      None              None   \n529848                      None              None   \n529849                      None              None   \n529850                      None              None   \n\n                                                   status partner_link  \\\n0                                                    None         None   \n1       praenomen et nomen;  sigilla impressa;  tituli...         None   \n2       nomen singulare;  sigilla impressa;  tituli fa...         None   \n3       praenomen et nomen;  sigilla impressa;  tituli...         None   \n4       nomen singulare;  sigilla impressa;  tituli fa...         None   \n...                                                   ...          ...   \n529846                                               None         None   \n529847                                               None         None   \n529848                                               None         None   \n529849                                               None         None   \n529850                                               None         None   \n\n       last_update letter_size              type_of_inscription  \\\n0             None        None                             None   \n1             None        None                             None   \n2             None        None                             None   \n3             None        None                             None   \n4             None        None                             None   \n...            ...         ...                              ...   \n529846  2021-05-03  6.3-5.5 cm                          epitaph   \n529847  2021-05-14        3 cm               votive inscription   \n529848  2021-05-14        None               votive inscription   \n529849  2021-05-14        None  building/dedicatory inscription   \n529850  2021-05-14        None         owner/artist inscription   \n\n               work_status  year_of_find  \\\n0                     None           NaN   \n1                     None           NaN   \n2                     None           NaN   \n3                     None           NaN   \n4                     None           NaN   \n...                    ...           ...   \n529846  checked with photo        2002.0   \n529847            no image        2013.0   \n529848         provisional        1916.0   \n529849         provisional        1969.0   \n529850         provisional        2015.0   \n\n                             present_location  \\\n0                                        None   \n1                                        None   \n2                                        None   \n3                                        None   \n4                                        None   \n...                                       ...   \n529846                  Zalău, Muz. Ist. Artă   \n529847  Cluj-Napoca, Muz. Naţ. Ist. Transilv.   \n529848                                   None   \n529849                                   None   \n529850                                   None   \n\n                                             text_edition support_objecttype  \\\n0                                                    None               None   \n1                                                    None               None   \n2                                                    None               None   \n3                                                    None               None   \n4                                                    None               None   \n...                                                   ...                ...   \n529846  \\n vixit annis Germanus veteranus ex --- coh(o...                  #   \n529847        \\n Silvano Domestico Aurelius Annianus pr\\n                 29   \n529848           \\n Dis Maioribus Turbonius et Turboni \\n                 29   \n529849                                       \\n MISALIV\\n                140   \n529850                                     \\n Iunio VMT\\n                  #   \n\n        support_material  support_decoration  keywords_term  \\\n0                    NaN                 NaN            NaN   \n1                    NaN                 NaN            NaN   \n2                    NaN                 NaN            NaN   \n3                    NaN                 NaN            NaN   \n4                    NaN                 NaN            NaN   \n...                  ...                 ...            ...   \n529846              60.0              1000.0           92.0   \n529847              60.0              1000.0          372.0   \n529848              48.0              1000.0          372.0   \n529849             131.0              1000.0            NaN   \n529850             109.0              1000.0            NaN   \n\n                                                   people  \\\n0                                                     [ ]   \n1                                                     [ ]   \n2                                                     [ ]   \n3                                                     [ ]   \n4                                                     [ ]   \n...                                                   ...   \n529846  [ { \"persname\": { \"name\": [ { \"@type\": \"praeno...   \n529847                                                [ ]   \n529848                                                [ ]   \n529849                                                [ ]   \n529850                                                [ ]   \n\n              type_of_inscription_clean  type_of_inscription_certainty  \\\n0                                  None                          False   \n1                                  None                          False   \n2                                  None                          False   \n3                                  None                          False   \n4                                  None                          False   \n...                                 ...                            ...   \n529846                          epitaph                          False   \n529847               votive inscription                          False   \n529848               votive inscription                          False   \n529849  building/dedicatory inscription                          False   \n529850         owner/artist inscription                          False   \n\n        height_cm  width_cm  depth_cm material_clean   type_of_monument_clean  \\\n0             NaN       NaN       NaN           None                     None   \n1             NaN       NaN       NaN           None                     None   \n2             NaN       NaN       NaN           None                     None   \n3             NaN       NaN       NaN           None                     None   \n4             NaN       NaN       NaN           None                     None   \n...           ...       ...       ...            ...                      ...   \n529846       31.0      33.0       9.0      Limestone                    stele   \n529847       44.0       2.0      19.0      Limestone                    altar   \n529848        NaN       NaN       NaN         Marble                    altar   \n529849        NaN       NaN       NaN           Clay  instrumentum domesticum   \n529850        NaN       NaN       NaN          Metal  instrumentum domesticum   \n\n        type_of_monument_certainty province_label_clean  \\\n0                            False                 None   \n1                            False                 None   \n2                            False                 None   \n3                            False                 None   \n4                            False                 None   \n...                            ...                  ...   \n529846                        True                Dacia   \n529847                       False                Dacia   \n529848                       False              Noricum   \n529849                       False              Noricum   \n529850                        True              Noricum   \n\n        province_label_certainty country_clean  country_certainty  \\\n0                          False          None              False   \n1                          False          None              False   \n2                          False          None              False   \n3                          False          None              False   \n4                          False          None              False   \n...                          ...           ...                ...   \n529846                     False       Romania              False   \n529847                     False       Romania              False   \n529848                     False       Austria              False   \n529849                     False       Austria              False   \n529850                     False       Austria              False   \n\n       findspot_ancient_clean  findspot_ancient_certainty modern_region_clean  \\\n0                        None                       False                None   \n1                        None                       False                None   \n2                        None                       False                None   \n3                        None                       False                None   \n4                        None                       False                None   \n...                       ...                         ...                 ...   \n529846             Porolissum                       False               Sălaj   \n529847                 Napoca                       False                Cluj   \n529848                Teurnia                       False             Kärnten   \n529849           Flavia Solva                       False          Steiermark   \n529850              Lauriacum                       False      Oberösterreich   \n\n        modern_region_certainty findspot_modern_clean  \\\n0                         False                  None   \n1                         False                  None   \n2                         False                  None   \n3                         False                  None   \n4                         False                  None   \n...                         ...                   ...   \n529846                    False                Creaca   \n529847                    False           Cluj-Napoca   \n529848                    False               Lendorf   \n529849                    False                 Wagna   \n529850                    False                  Enns   \n\n        findspot_modern_certainty  \\\n0                           False   \n1                           False   \n2                           False   \n3                           False   \n4                           False   \n...                           ...   \n529846                      False   \n529847                      False   \n529848                      False   \n529849                      False   \n529850                      False   \n\n                                           findspot_clean  findspot_certainty  \\\n0                                                    None               False   \n1                                                    None               False   \n2                                                    None               False   \n3                                                    None               False   \n4                                                    None               False   \n...                                                   ...                 ...   \n529846                                  Jac, {Municipium}                True   \n529847                     {Strada Ștefan Octavian Iosif}               False   \n529848  S. Peter in Holz, Teurnia, {Memorialkirche (\"F...               False   \n529849                                         Insula XXX               False   \n529850  Legionslager, bei, Canabae legionis, {Fabrikst...               False   \n\n       language language_EDCS raw_dating  not_after  not_before  Longitude  \\\n0             L          None       None        NaN         NaN        NaN   \n1             L          None       None        NaN         NaN  20.506908   \n2             L          None       None        NaN         NaN  20.506908   \n3             L          None       None        NaN         NaN  20.506908   \n4             L          None       None        NaN         NaN  20.506908   \n...         ...           ...        ...        ...         ...        ...   \n529846        L          None       None      171.0       270.0  23.158000   \n529847        L          None       None      171.0       270.0  23.590100   \n529848        L          None       None      101.0       300.0  13.564500   \n529849        L          None       None      101.0       200.0  15.989000   \n529850        L          None       None      101.0       300.0  14.468500   \n\n         Latitude  geotemporal?                   geometry  withinRE?  \\\n0             NaN         False                       None      False   \n1       39.475976         False  POINT (20.50691 39.47598)       True   \n2       39.475976         False  POINT (20.50691 39.47598)       True   \n3       39.475976         False  POINT (20.50691 39.47598)       True   \n4       39.475976         False  POINT (20.50691 39.47598)       True   \n...           ...           ...                        ...        ...   \n529846  47.179900          True  POINT (23.15800 47.17990)       True   \n529847  46.772200          True  POINT (23.59010 46.77220)       True   \n529848  47.246300          True  POINT (13.56450 47.24630)       True   \n529849  47.344900          True  POINT (15.98900 47.34490)       True   \n529850  48.221600          True  POINT (14.46850 48.22160)       True   \n\n           large_city_name               large_city_geo  large_city_dist  \\\n0                     None                         None              NaN   \n1       Nicopolis (Achaea)  POINT (20.733395 39.026505)         53593.41   \n2       Nicopolis (Achaea)  POINT (20.733395 39.026505)         53593.41   \n3       Nicopolis (Achaea)  POINT (20.733395 39.026505)         53593.41   \n4       Nicopolis (Achaea)  POINT (20.733395 39.026505)         53593.41   \n...                    ...                          ...              ...   \n529846          Amphipolis   POINT (23.84013 40.821057)        708652.48   \n529847          Amphipolis   POINT (23.84013 40.821057)        661526.59   \n529848                Roma  POINT (12.485098 41.892777)        601031.26   \n529849                Roma  POINT (12.485098 41.892777)        666458.93   \n529850                Roma  POINT (12.485098 41.892777)        720412.65   \n\n        large_city_pop medium_city_name              medium_city_geo  \\\n0                  NaN             None                         None   \n1              41221.0         Ambracia        POINT (20.987 39.158)   \n2              41221.0         Ambracia        POINT (20.987 39.158)   \n3              41221.0         Ambracia        POINT (20.987 39.158)   \n4              41221.0         Ambracia        POINT (20.987 39.158)   \n...                ...              ...                          ...   \n529846         65470.0           Napoca   POINT (23.60429 46.776306)   \n529847         65470.0           Napoca   POINT (23.60429 46.776306)   \n529848        923313.0          Virunum   POINT (14.366944 46.69775)   \n529849        923313.0          Savaria  POINT (16.617369 47.231643)   \n529850        923313.0          Ovilava  POINT (14.024618 48.156645)   \n\n        medium_city_pop  medium_city_dist small_city_name  \\\n0                   NaN               NaN            None   \n1               27923.0          54409.47          Dodona   \n2               27923.0          54409.47          Dodona   \n3               27923.0          54409.47          Dodona   \n4               27923.0          54409.47          Dodona   \n...                 ...               ...             ...   \n529846           5399.0          56268.62      Porolissum   \n529847           5399.0           1175.97      Porolissum   \n529848           7172.0          86297.94         Teurnia   \n529849           6969.0          49172.87      Scarbantia   \n529850          15332.0          33784.61       Lauriacum   \n\n                     small_city_geo  small_city_pop  small_city_dist  \\\n0                              None             NaN              NaN   \n1       POINT (20.787767 39.546432)          1000.0         25388.88   \n2       POINT (20.787767 39.546432)          1000.0         25388.88   \n3       POINT (20.787767 39.546432)          1000.0         25388.88   \n4       POINT (20.787767 39.546432)          1000.0         25388.88   \n...                             ...             ...              ...   \n529846  POINT (23.126667 47.230278)          2601.0          6083.10   \n529847  POINT (23.126667 47.230278)          2601.0         61932.21   \n529848  POINT (13.443747 46.823308)          1000.0         47911.93   \n529849    POINT (16.590498 47.6848)          2760.0         58997.70   \n529850  POINT (14.478806 48.212636)          1000.0          1257.00   \n\n       urban_context urban_context_city  urban_context_pop_est  \n0               None               None                    NaN  \n1              rural               None                    NaN  \n2              rural               None                    NaN  \n3              rural               None                    NaN  \n4              rural               None                    NaN  \n...              ...                ...                    ...  \n529846         rural               None                    NaN  \n529847        medium             Napoca                 5399.0  \n529848         rural               None                    NaN  \n529849         rural               None                    NaN  \n529850         small          Lauriacum                 1000.0  \n\n[529851 rows x 76 columns]",
      "text/html": "<div>\n<style scoped>\n    .dataframe tbody tr th:only-of-type {\n        vertical-align: middle;\n    }\n\n    .dataframe tbody tr th {\n        vertical-align: top;\n    }\n\n    .dataframe thead th {\n        text-align: right;\n    }\n</style>\n<table border=\"1\" class=\"dataframe\">\n  <thead>\n    <tr style=\"text-align: right;\">\n      <th></th>\n      <th>LIST-ID</th>\n      <th>EDCS-ID</th>\n      <th>EDH-ID</th>\n      <th>trismegistos_uri</th>\n      <th>pleiades_id</th>\n      <th>transcription</th>\n      <th>inscription</th>\n      <th>clean_text_conservative</th>\n      <th>clean_text_interpretive_sentence</th>\n      <th>clean_text_interpretive_word</th>\n      <th>clean_text_interpretive_word_EDCS</th>\n      <th>diplomatic_text</th>\n      <th>province</th>\n      <th>place</th>\n      <th>inscr_type</th>\n      <th>status_notation</th>\n      <th>inscr_process</th>\n      <th>status</th>\n      <th>partner_link</th>\n      <th>last_update</th>\n      <th>letter_size</th>\n      <th>type_of_inscription</th>\n      <th>work_status</th>\n      <th>year_of_find</th>\n      <th>present_location</th>\n      <th>text_edition</th>\n      <th>support_objecttype</th>\n      <th>support_material</th>\n      <th>support_decoration</th>\n      <th>keywords_term</th>\n      <th>people</th>\n      <th>type_of_inscription_clean</th>\n      <th>type_of_inscription_certainty</th>\n      <th>height_cm</th>\n      <th>width_cm</th>\n      <th>depth_cm</th>\n      <th>material_clean</th>\n      <th>type_of_monument_clean</th>\n      <th>type_of_monument_certainty</th>\n      <th>province_label_clean</th>\n      <th>province_label_certainty</th>\n      <th>country_clean</th>\n      <th>country_certainty</th>\n      <th>findspot_ancient_clean</th>\n      <th>findspot_ancient_certainty</th>\n      <th>modern_region_clean</th>\n      <th>modern_region_certainty</th>\n      <th>findspot_modern_clean</th>\n      <th>findspot_modern_certainty</th>\n      <th>findspot_clean</th>\n      <th>findspot_certainty</th>\n      <th>language</th>\n      <th>language_EDCS</th>\n      <th>raw_dating</th>\n      <th>not_after</th>\n      <th>not_before</th>\n      <th>Longitude</th>\n      <th>Latitude</th>\n      <th>geotemporal?</th>\n      <th>geometry</th>\n      <th>withinRE?</th>\n      <th>large_city_name</th>\n      <th>large_city_geo</th>\n      <th>large_city_dist</th>\n      <th>large_city_pop</th>\n      <th>medium_city_name</th>\n      <th>medium_city_geo</th>\n      <th>medium_city_pop</th>\n      <th>medium_city_dist</th>\n      <th>small_city_name</th>\n      <th>small_city_geo</th>\n      <th>small_city_pop</th>\n      <th>small_city_dist</th>\n      <th>urban_context</th>\n      <th>urban_context_city</th>\n      <th>urban_context_pop_est</th>\n    </tr>\n  </thead>\n  <tbody>\n    <tr>\n      <th>0</th>\n      <td>LIST-1</td>\n      <td>EDCS-31400030</td>\n      <td>None</td>\n      <td>None</td>\n      <td>None</td>\n      <td>None</td>\n      <td>Leius</td>\n      <td>Leius</td>\n      <td>None</td>\n      <td>Leius</td>\n      <td>Leius</td>\n      <td>None</td>\n      <td>Achaia</td>\n      <td>?</td>\n      <td>None</td>\n      <td>None</td>\n      <td>None</td>\n      <td>None</td>\n      <td>None</td>\n      <td>None</td>\n      <td>None</td>\n      <td>None</td>\n      <td>None</td>\n      <td>NaN</td>\n      <td>None</td>\n      <td>None</td>\n      <td>None</td>\n      <td>NaN</td>\n      <td>NaN</td>\n      <td>NaN</td>\n      <td>[ ]</td>\n      <td>None</td>\n      <td>False</td>\n      <td>NaN</td>\n      <td>NaN</td>\n      <td>NaN</td>\n      <td>None</td>\n      <td>None</td>\n      <td>False</td>\n      <td>None</td>\n      <td>False</td>\n      <td>None</td>\n      <td>False</td>\n      <td>None</td>\n      <td>False</td>\n      <td>None</td>\n      <td>False</td>\n      <td>None</td>\n      <td>False</td>\n      <td>None</td>\n      <td>False</td>\n      <td>L</td>\n      <td>None</td>\n      <td>None</td>\n      <td>NaN</td>\n      <td>NaN</td>\n      <td>NaN</td>\n      <td>NaN</td>\n      <td>False</td>\n      <td>None</td>\n      <td>False</td>\n      <td>None</td>\n      <td>None</td>\n      <td>NaN</td>\n      <td>NaN</td>\n      <td>None</td>\n      <td>None</td>\n      <td>NaN</td>\n      <td>NaN</td>\n      <td>None</td>\n      <td>None</td>\n      <td>NaN</td>\n      <td>NaN</td>\n      <td>None</td>\n      <td>None</td>\n      <td>NaN</td>\n    </tr>\n    <tr>\n      <th>1</th>\n      <td>LIST-2</td>\n      <td>EDCS-55701593</td>\n      <td>None</td>\n      <td>None</td>\n      <td>None</td>\n      <td>None</td>\n      <td>Cn(aeus) Atei(us)</td>\n      <td>Cn Atei</td>\n      <td>None</td>\n      <td>Cnaeus Ateius</td>\n      <td>Cnaeus Ateius</td>\n      <td>None</td>\n      <td>Achaia</td>\n      <td>Agios Donatos / Photike</td>\n      <td>tituli fabricationis</td>\n      <td>praenomen et nomen, viri</td>\n      <td>sigilla impressa</td>\n      <td>praenomen et nomen;  sigilla impressa;  tituli...</td>\n      <td>None</td>\n      <td>None</td>\n      <td>None</td>\n      <td>None</td>\n      <td>None</td>\n      <td>NaN</td>\n      <td>None</td>\n      <td>None</td>\n      <td>None</td>\n      <td>NaN</td>\n      <td>NaN</td>\n      <td>NaN</td>\n      <td>[ ]</td>\n      <td>None</td>\n      <td>False</td>\n      <td>NaN</td>\n      <td>NaN</td>\n      <td>NaN</td>\n      <td>None</td>\n      <td>None</td>\n      <td>False</td>\n      <td>None</td>\n      <td>False</td>\n      <td>None</td>\n      <td>False</td>\n      <td>None</td>\n      <td>False</td>\n      <td>None</td>\n      <td>False</td>\n      <td>None</td>\n      <td>False</td>\n      <td>None</td>\n      <td>False</td>\n      <td>L</td>\n      <td>None</td>\n      <td>None</td>\n      <td>NaN</td>\n      <td>NaN</td>\n      <td>20.506908</td>\n      <td>39.475976</td>\n      <td>False</td>\n      <td>POINT (20.50691 39.47598)</td>\n      <td>True</td>\n      <td>Nicopolis (Achaea)</td>\n      <td>POINT (20.733395 39.026505)</td>\n      <td>53593.41</td>\n      <td>41221.0</td>\n      <td>Ambracia</td>\n      <td>POINT (20.987 39.158)</td>\n      <td>27923.0</td>\n      <td>54409.47</td>\n      <td>Dodona</td>\n      <td>POINT (20.787767 39.546432)</td>\n      <td>1000.0</td>\n      <td>25388.88</td>\n      <td>rural</td>\n      <td>None</td>\n      <td>NaN</td>\n    </tr>\n    <tr>\n      <th>2</th>\n      <td>LIST-3</td>\n      <td>EDCS-55701594</td>\n      <td>None</td>\n      <td>None</td>\n      <td>None</td>\n      <td>None</td>\n      <td>Avill(ius)</td>\n      <td>Avill</td>\n      <td>None</td>\n      <td>Avillius</td>\n      <td>Avillius</td>\n      <td>None</td>\n      <td>Achaia</td>\n      <td>Agios Donatos / Photike</td>\n      <td>tituli fabricationis</td>\n      <td>nomen singulare, viri</td>\n      <td>sigilla impressa</td>\n      <td>nomen singulare;  sigilla impressa;  tituli fa...</td>\n      <td>None</td>\n      <td>None</td>\n      <td>None</td>\n      <td>None</td>\n      <td>None</td>\n      <td>NaN</td>\n      <td>None</td>\n      <td>None</td>\n      <td>None</td>\n      <td>NaN</td>\n      <td>NaN</td>\n      <td>NaN</td>\n      <td>[ ]</td>\n      <td>None</td>\n      <td>False</td>\n      <td>NaN</td>\n      <td>NaN</td>\n      <td>NaN</td>\n      <td>None</td>\n      <td>None</td>\n      <td>False</td>\n      <td>None</td>\n      <td>False</td>\n      <td>None</td>\n      <td>False</td>\n      <td>None</td>\n      <td>False</td>\n      <td>None</td>\n      <td>False</td>\n      <td>None</td>\n      <td>False</td>\n      <td>None</td>\n      <td>False</td>\n      <td>L</td>\n      <td>None</td>\n      <td>None</td>\n      <td>NaN</td>\n      <td>NaN</td>\n      <td>20.506908</td>\n      <td>39.475976</td>\n      <td>False</td>\n      <td>POINT (20.50691 39.47598)</td>\n      <td>True</td>\n      <td>Nicopolis (Achaea)</td>\n      <td>POINT (20.733395 39.026505)</td>\n      <td>53593.41</td>\n      <td>41221.0</td>\n      <td>Ambracia</td>\n      <td>POINT (20.987 39.158)</td>\n      <td>27923.0</td>\n      <td>54409.47</td>\n      <td>Dodona</td>\n      <td>POINT (20.787767 39.546432)</td>\n      <td>1000.0</td>\n      <td>25388.88</td>\n      <td>rural</td>\n      <td>None</td>\n      <td>NaN</td>\n    </tr>\n    <tr>\n      <th>3</th>\n      <td>LIST-4</td>\n      <td>EDCS-55701595</td>\n      <td>None</td>\n      <td>None</td>\n      <td>None</td>\n      <td>None</td>\n      <td>L(ucius) Av(illius)</td>\n      <td>L Av</td>\n      <td>None</td>\n      <td>Lucius Avillius</td>\n      <td>Lucius Avillius</td>\n      <td>None</td>\n      <td>Achaia</td>\n      <td>Agios Donatos / Photike</td>\n      <td>tituli fabricationis</td>\n      <td>praenomen et nomen, viri</td>\n      <td>sigilla impressa</td>\n      <td>praenomen et nomen;  sigilla impressa;  tituli...</td>\n      <td>None</td>\n      <td>None</td>\n      <td>None</td>\n      <td>None</td>\n      <td>None</td>\n      <td>NaN</td>\n      <td>None</td>\n      <td>None</td>\n      <td>None</td>\n      <td>NaN</td>\n      <td>NaN</td>\n      <td>NaN</td>\n      <td>[ ]</td>\n      <td>None</td>\n      <td>False</td>\n      <td>NaN</td>\n      <td>NaN</td>\n      <td>NaN</td>\n      <td>None</td>\n      <td>None</td>\n      <td>False</td>\n      <td>None</td>\n      <td>False</td>\n      <td>None</td>\n      <td>False</td>\n      <td>None</td>\n      <td>False</td>\n      <td>None</td>\n      <td>False</td>\n      <td>None</td>\n      <td>False</td>\n      <td>None</td>\n      <td>False</td>\n      <td>L</td>\n      <td>None</td>\n      <td>None</td>\n      <td>NaN</td>\n      <td>NaN</td>\n      <td>20.506908</td>\n      <td>39.475976</td>\n      <td>False</td>\n      <td>POINT (20.50691 39.47598)</td>\n      <td>True</td>\n      <td>Nicopolis (Achaea)</td>\n      <td>POINT (20.733395 39.026505)</td>\n      <td>53593.41</td>\n      <td>41221.0</td>\n      <td>Ambracia</td>\n      <td>POINT (20.987 39.158)</td>\n      <td>27923.0</td>\n      <td>54409.47</td>\n      <td>Dodona</td>\n      <td>POINT (20.787767 39.546432)</td>\n      <td>1000.0</td>\n      <td>25388.88</td>\n      <td>rural</td>\n      <td>None</td>\n      <td>NaN</td>\n    </tr>\n    <tr>\n      <th>4</th>\n      <td>LIST-5</td>\n      <td>EDCS-55701596</td>\n      <td>None</td>\n      <td>None</td>\n      <td>None</td>\n      <td>None</td>\n      <td>Camurius</td>\n      <td>Camurius</td>\n      <td>None</td>\n      <td>Camurius</td>\n      <td>Camurius</td>\n      <td>None</td>\n      <td>Achaia</td>\n      <td>Agios Donatos / Photike</td>\n      <td>tituli fabricationis</td>\n      <td>nomen singulare, viri</td>\n      <td>sigilla impressa</td>\n      <td>nomen singulare;  sigilla impressa;  tituli fa...</td>\n      <td>None</td>\n      <td>None</td>\n      <td>None</td>\n      <td>None</td>\n      <td>None</td>\n      <td>NaN</td>\n      <td>None</td>\n      <td>None</td>\n      <td>None</td>\n      <td>NaN</td>\n      <td>NaN</td>\n      <td>NaN</td>\n      <td>[ ]</td>\n      <td>None</td>\n      <td>False</td>\n      <td>NaN</td>\n      <td>NaN</td>\n      <td>NaN</td>\n      <td>None</td>\n      <td>None</td>\n      <td>False</td>\n      <td>None</td>\n      <td>False</td>\n      <td>None</td>\n      <td>False</td>\n      <td>None</td>\n      <td>False</td>\n      <td>None</td>\n      <td>False</td>\n      <td>None</td>\n      <td>False</td>\n      <td>None</td>\n      <td>False</td>\n      <td>L</td>\n      <td>None</td>\n      <td>None</td>\n      <td>NaN</td>\n      <td>NaN</td>\n      <td>20.506908</td>\n      <td>39.475976</td>\n      <td>False</td>\n      <td>POINT (20.50691 39.47598)</td>\n      <td>True</td>\n      <td>Nicopolis (Achaea)</td>\n      <td>POINT (20.733395 39.026505)</td>\n      <td>53593.41</td>\n      <td>41221.0</td>\n      <td>Ambracia</td>\n      <td>POINT (20.987 39.158)</td>\n      <td>27923.0</td>\n      <td>54409.47</td>\n      <td>Dodona</td>\n      <td>POINT (20.787767 39.546432)</td>\n      <td>1000.0</td>\n      <td>25388.88</td>\n      <td>rural</td>\n      <td>None</td>\n      <td>NaN</td>\n    </tr>\n    <tr>\n      <th>...</th>\n      <td>...</td>\n      <td>...</td>\n      <td>...</td>\n      <td>...</td>\n      <td>...</td>\n      <td>...</td>\n      <td>...</td>\n      <td>...</td>\n      <td>...</td>\n      <td>...</td>\n      <td>...</td>\n      <td>...</td>\n      <td>...</td>\n      <td>...</td>\n      <td>...</td>\n      <td>...</td>\n      <td>...</td>\n      <td>...</td>\n      <td>...</td>\n      <td>...</td>\n      <td>...</td>\n      <td>...</td>\n      <td>...</td>\n      <td>...</td>\n      <td>...</td>\n      <td>...</td>\n      <td>...</td>\n      <td>...</td>\n      <td>...</td>\n      <td>...</td>\n      <td>...</td>\n      <td>...</td>\n      <td>...</td>\n      <td>...</td>\n      <td>...</td>\n      <td>...</td>\n      <td>...</td>\n      <td>...</td>\n      <td>...</td>\n      <td>...</td>\n      <td>...</td>\n      <td>...</td>\n      <td>...</td>\n      <td>...</td>\n      <td>...</td>\n      <td>...</td>\n      <td>...</td>\n      <td>...</td>\n      <td>...</td>\n      <td>...</td>\n      <td>...</td>\n      <td>...</td>\n      <td>...</td>\n      <td>...</td>\n      <td>...</td>\n      <td>...</td>\n      <td>...</td>\n      <td>...</td>\n      <td>...</td>\n      <td>...</td>\n      <td>...</td>\n      <td>...</td>\n      <td>...</td>\n      <td>...</td>\n      <td>...</td>\n      <td>...</td>\n      <td>...</td>\n      <td>...</td>\n      <td>...</td>\n      <td>...</td>\n      <td>...</td>\n      <td>...</td>\n      <td>...</td>\n      <td>...</td>\n      <td>...</td>\n      <td>...</td>\n    </tr>\n    <tr>\n      <th>529846</th>\n      <td>LIST-529847</td>\n      <td>None</td>\n      <td>HD082771</td>\n      <td>None</td>\n      <td>207361</td>\n      <td>------] /[--- vixit an]nis / [--- Ger?]man/[us...</td>\n      <td>None</td>\n      <td>nis man ex arioV</td>\n      <td>vixit annis Germanus veteranus ex cohortis sag...</td>\n      <td>vixit annis Germanus veteranus ex cohortis sag...</td>\n      <td>None</td>\n      <td>] / [ ]NIS / [ ]MAN / [ ] EX / [ ]ARIO / [ ]V / [</td>\n      <td>None</td>\n      <td>None</td>\n      <td>None</td>\n      <td>None</td>\n      <td>None</td>\n      <td>None</td>\n      <td>None</td>\n      <td>2021-05-03</td>\n      <td>6.3-5.5 cm</td>\n      <td>epitaph</td>\n      <td>checked with photo</td>\n      <td>2002.0</td>\n      <td>Zalău, Muz. Ist. Artă</td>\n      <td>\\n vixit annis Germanus veteranus ex --- coh(o...</td>\n      <td>#</td>\n      <td>60.0</td>\n      <td>1000.0</td>\n      <td>92.0</td>\n      <td>[ { \"persname\": { \"name\": [ { \"@type\": \"praeno...</td>\n      <td>epitaph</td>\n      <td>False</td>\n      <td>31.0</td>\n      <td>33.0</td>\n      <td>9.0</td>\n      <td>Limestone</td>\n      <td>stele</td>\n      <td>True</td>\n      <td>Dacia</td>\n      <td>False</td>\n      <td>Romania</td>\n      <td>False</td>\n      <td>Porolissum</td>\n      <td>False</td>\n      <td>Sălaj</td>\n      <td>False</td>\n      <td>Creaca</td>\n      <td>False</td>\n      <td>Jac, {Municipium}</td>\n      <td>True</td>\n      <td>L</td>\n      <td>None</td>\n      <td>None</td>\n      <td>171.0</td>\n      <td>270.0</td>\n      <td>23.158000</td>\n      <td>47.179900</td>\n      <td>True</td>\n      <td>POINT (23.15800 47.17990)</td>\n      <td>True</td>\n      <td>Amphipolis</td>\n      <td>POINT (23.84013 40.821057)</td>\n      <td>708652.48</td>\n      <td>65470.0</td>\n      <td>Napoca</td>\n      <td>POINT (23.60429 46.776306)</td>\n      <td>5399.0</td>\n      <td>56268.62</td>\n      <td>Porolissum</td>\n      <td>POINT (23.126667 47.230278)</td>\n      <td>2601.0</td>\n      <td>6083.10</td>\n      <td>rural</td>\n      <td>None</td>\n      <td>NaN</td>\n    </tr>\n    <tr>\n      <th>529847</th>\n      <td>LIST-529848</td>\n      <td>None</td>\n      <td>HD082808</td>\n      <td>None</td>\n      <td>207304</td>\n      <td>Silvan/o Dom(estico) / Aureli(us) / Annia/nus ...</td>\n      <td>None</td>\n      <td>Silvano Dom Aureli Annianus pr</td>\n      <td>Silvano Domestico Aurelius Annianus pr</td>\n      <td>Silvano Domestico Aurelius Annianus pr</td>\n      <td>None</td>\n      <td>SILVAN / O DOM / AVRELI / ANNIA / NVS PR</td>\n      <td>None</td>\n      <td>None</td>\n      <td>None</td>\n      <td>None</td>\n      <td>None</td>\n      <td>None</td>\n      <td>None</td>\n      <td>2021-05-14</td>\n      <td>3 cm</td>\n      <td>votive inscription</td>\n      <td>no image</td>\n      <td>2013.0</td>\n      <td>Cluj-Napoca, Muz. Naţ. Ist. Transilv.</td>\n      <td>\\n Silvano Domestico Aurelius Annianus pr\\n</td>\n      <td>29</td>\n      <td>60.0</td>\n      <td>1000.0</td>\n      <td>372.0</td>\n      <td>[ ]</td>\n      <td>votive inscription</td>\n      <td>False</td>\n      <td>44.0</td>\n      <td>2.0</td>\n      <td>19.0</td>\n      <td>Limestone</td>\n      <td>altar</td>\n      <td>False</td>\n      <td>Dacia</td>\n      <td>False</td>\n      <td>Romania</td>\n      <td>False</td>\n      <td>Napoca</td>\n      <td>False</td>\n      <td>Cluj</td>\n      <td>False</td>\n      <td>Cluj-Napoca</td>\n      <td>False</td>\n      <td>{Strada Ștefan Octavian Iosif}</td>\n      <td>False</td>\n      <td>L</td>\n      <td>None</td>\n      <td>None</td>\n      <td>171.0</td>\n      <td>270.0</td>\n      <td>23.590100</td>\n      <td>46.772200</td>\n      <td>True</td>\n      <td>POINT (23.59010 46.77220)</td>\n      <td>True</td>\n      <td>Amphipolis</td>\n      <td>POINT (23.84013 40.821057)</td>\n      <td>661526.59</td>\n      <td>65470.0</td>\n      <td>Napoca</td>\n      <td>POINT (23.60429 46.776306)</td>\n      <td>5399.0</td>\n      <td>1175.97</td>\n      <td>Porolissum</td>\n      <td>POINT (23.126667 47.230278)</td>\n      <td>2601.0</td>\n      <td>61932.21</td>\n      <td>medium</td>\n      <td>Napoca</td>\n      <td>5399.0</td>\n    </tr>\n    <tr>\n      <th>529848</th>\n      <td>LIST-529849</td>\n      <td>None</td>\n      <td>HD082809</td>\n      <td>https://www.trismegistos.org/text/705780</td>\n      <td>187583</td>\n      <td>[Dis] / Maiorib(us) / [T]urboni/[u]s [---] / [...</td>\n      <td>None</td>\n      <td>Maiorib urbonis Tur</td>\n      <td>Dis Maioribus Turbonius et Turboni</td>\n      <td>Dis Maioribus Turbonius et Turboni</td>\n      <td>None</td>\n      <td>[ ] / MAIORIB / [ ]VRBONI / [ ]S [ ] / [ ] TVR...</td>\n      <td>None</td>\n      <td>None</td>\n      <td>None</td>\n      <td>None</td>\n      <td>None</td>\n      <td>None</td>\n      <td>None</td>\n      <td>2021-05-14</td>\n      <td>None</td>\n      <td>votive inscription</td>\n      <td>provisional</td>\n      <td>1916.0</td>\n      <td>None</td>\n      <td>\\n Dis Maioribus Turbonius et Turboni \\n</td>\n      <td>29</td>\n      <td>48.0</td>\n      <td>1000.0</td>\n      <td>372.0</td>\n      <td>[ ]</td>\n      <td>votive inscription</td>\n      <td>False</td>\n      <td>NaN</td>\n      <td>NaN</td>\n      <td>NaN</td>\n      <td>Marble</td>\n      <td>altar</td>\n      <td>False</td>\n      <td>Noricum</td>\n      <td>False</td>\n      <td>Austria</td>\n      <td>False</td>\n      <td>Teurnia</td>\n      <td>False</td>\n      <td>Kärnten</td>\n      <td>False</td>\n      <td>Lendorf</td>\n      <td>False</td>\n      <td>S. Peter in Holz, Teurnia, {Memorialkirche (\"F...</td>\n      <td>False</td>\n      <td>L</td>\n      <td>None</td>\n      <td>None</td>\n      <td>101.0</td>\n      <td>300.0</td>\n      <td>13.564500</td>\n      <td>47.246300</td>\n      <td>True</td>\n      <td>POINT (13.56450 47.24630)</td>\n      <td>True</td>\n      <td>Roma</td>\n      <td>POINT (12.485098 41.892777)</td>\n      <td>601031.26</td>\n      <td>923313.0</td>\n      <td>Virunum</td>\n      <td>POINT (14.366944 46.69775)</td>\n      <td>7172.0</td>\n      <td>86297.94</td>\n      <td>Teurnia</td>\n      <td>POINT (13.443747 46.823308)</td>\n      <td>1000.0</td>\n      <td>47911.93</td>\n      <td>rural</td>\n      <td>None</td>\n      <td>NaN</td>\n    </tr>\n    <tr>\n      <th>529849</th>\n      <td>LIST-529850</td>\n      <td>None</td>\n      <td>HD082812</td>\n      <td>None</td>\n      <td>197273</td>\n      <td>MISALIV[---]</td>\n      <td>None</td>\n      <td>MISALIV</td>\n      <td>MISALIV</td>\n      <td>MISALIV</td>\n      <td>None</td>\n      <td>MISALIV[ ]</td>\n      <td>None</td>\n      <td>None</td>\n      <td>None</td>\n      <td>None</td>\n      <td>None</td>\n      <td>None</td>\n      <td>None</td>\n      <td>2021-05-14</td>\n      <td>None</td>\n      <td>building/dedicatory inscription</td>\n      <td>provisional</td>\n      <td>1969.0</td>\n      <td>None</td>\n      <td>\\n MISALIV\\n</td>\n      <td>140</td>\n      <td>131.0</td>\n      <td>1000.0</td>\n      <td>NaN</td>\n      <td>[ ]</td>\n      <td>building/dedicatory inscription</td>\n      <td>False</td>\n      <td>NaN</td>\n      <td>NaN</td>\n      <td>NaN</td>\n      <td>Clay</td>\n      <td>instrumentum domesticum</td>\n      <td>False</td>\n      <td>Noricum</td>\n      <td>False</td>\n      <td>Austria</td>\n      <td>False</td>\n      <td>Flavia Solva</td>\n      <td>False</td>\n      <td>Steiermark</td>\n      <td>False</td>\n      <td>Wagna</td>\n      <td>False</td>\n      <td>Insula XXX</td>\n      <td>False</td>\n      <td>L</td>\n      <td>None</td>\n      <td>None</td>\n      <td>101.0</td>\n      <td>200.0</td>\n      <td>15.989000</td>\n      <td>47.344900</td>\n      <td>True</td>\n      <td>POINT (15.98900 47.34490)</td>\n      <td>True</td>\n      <td>Roma</td>\n      <td>POINT (12.485098 41.892777)</td>\n      <td>666458.93</td>\n      <td>923313.0</td>\n      <td>Savaria</td>\n      <td>POINT (16.617369 47.231643)</td>\n      <td>6969.0</td>\n      <td>49172.87</td>\n      <td>Scarbantia</td>\n      <td>POINT (16.590498 47.6848)</td>\n      <td>2760.0</td>\n      <td>58997.70</td>\n      <td>rural</td>\n      <td>None</td>\n      <td>NaN</td>\n    </tr>\n    <tr>\n      <th>529850</th>\n      <td>LIST-529851</td>\n      <td>None</td>\n      <td>HD082816</td>\n      <td>None</td>\n      <td>118802</td>\n      <td>Iunio / [-]VMT</td>\n      <td>None</td>\n      <td>Iunio VMT</td>\n      <td>Iunio VMT</td>\n      <td>Iunio VMT</td>\n      <td>None</td>\n      <td>IVNIO / [ ]VMT</td>\n      <td>None</td>\n      <td>None</td>\n      <td>None</td>\n      <td>None</td>\n      <td>None</td>\n      <td>None</td>\n      <td>None</td>\n      <td>2021-05-14</td>\n      <td>None</td>\n      <td>owner/artist inscription</td>\n      <td>provisional</td>\n      <td>2015.0</td>\n      <td>None</td>\n      <td>\\n Iunio VMT\\n</td>\n      <td>#</td>\n      <td>109.0</td>\n      <td>1000.0</td>\n      <td>NaN</td>\n      <td>[ ]</td>\n      <td>owner/artist inscription</td>\n      <td>False</td>\n      <td>NaN</td>\n      <td>NaN</td>\n      <td>NaN</td>\n      <td>Metal</td>\n      <td>instrumentum domesticum</td>\n      <td>True</td>\n      <td>Noricum</td>\n      <td>False</td>\n      <td>Austria</td>\n      <td>False</td>\n      <td>Lauriacum</td>\n      <td>False</td>\n      <td>Oberösterreich</td>\n      <td>False</td>\n      <td>Enns</td>\n      <td>False</td>\n      <td>Legionslager, bei, Canabae legionis, {Fabrikst...</td>\n      <td>False</td>\n      <td>L</td>\n      <td>None</td>\n      <td>None</td>\n      <td>101.0</td>\n      <td>300.0</td>\n      <td>14.468500</td>\n      <td>48.221600</td>\n      <td>True</td>\n      <td>POINT (14.46850 48.22160)</td>\n      <td>True</td>\n      <td>Roma</td>\n      <td>POINT (12.485098 41.892777)</td>\n      <td>720412.65</td>\n      <td>923313.0</td>\n      <td>Ovilava</td>\n      <td>POINT (14.024618 48.156645)</td>\n      <td>15332.0</td>\n      <td>33784.61</td>\n      <td>Lauriacum</td>\n      <td>POINT (14.478806 48.212636)</td>\n      <td>1000.0</td>\n      <td>1257.00</td>\n      <td>small</td>\n      <td>Lauriacum</td>\n      <td>1000.0</td>\n    </tr>\n  </tbody>\n</table>\n<p>529851 rows × 76 columns</p>\n</div>"
     },
     "execution_count": 105,
     "metadata": {},
     "output_type": "execute_result"
    }
   ],
   "source": [
    "LIST"
   ],
   "metadata": {
    "collapsed": false
   }
  },
  {
   "cell_type": "code",
   "execution_count": 110,
   "outputs": [],
   "source": [
    "# perhaps thesecolumns could be useful for some analysis, but not now...\n",
    "\n",
    "LIST.drop(columns=['large_city_name', 'large_city_geo', 'large_city_dist', 'medium_city_name', 'medium_city_geo', 'medium_city_dist', 'small_city_name', 'small_city_geo','small_city_dist'], inplace=True)"
   ],
   "metadata": {
    "collapsed": false
   }
  },
  {
   "cell_type": "code",
   "execution_count": 111,
   "outputs": [
    {
     "data": {
      "text/plain": "            LIST-ID        EDCS-ID    EDH-ID  \\\n0            LIST-1  EDCS-31400030      None   \n1            LIST-2  EDCS-55701593      None   \n2            LIST-3  EDCS-55701594      None   \n3            LIST-4  EDCS-55701595      None   \n4            LIST-5  EDCS-55701596      None   \n...             ...            ...       ...   \n529846  LIST-529847           None  HD082771   \n529847  LIST-529848           None  HD082808   \n529848  LIST-529849           None  HD082809   \n529849  LIST-529850           None  HD082812   \n529850  LIST-529851           None  HD082816   \n\n                                trismegistos_uri pleiades_id  \\\n0                                           None        None   \n1                                           None        None   \n2                                           None        None   \n3                                           None        None   \n4                                           None        None   \n...                                          ...         ...   \n529846                                      None      207361   \n529847                                      None      207304   \n529848  https://www.trismegistos.org/text/705780      187583   \n529849                                      None      197273   \n529850                                      None      118802   \n\n                                            transcription  \\\n0                                                    None   \n1                                                    None   \n2                                                    None   \n3                                                    None   \n4                                                    None   \n...                                                   ...   \n529846  ------] /[--- vixit an]nis / [--- Ger?]man/[us...   \n529847  Silvan/o Dom(estico) / Aureli(us) / Annia/nus ...   \n529848  [Dis] / Maiorib(us) / [T]urboni/[u]s [---] / [...   \n529849                                       MISALIV[---]   \n529850                                     Iunio / [-]VMT   \n\n                inscription         clean_text_conservative  \\\n0                     Leius                           Leius   \n1         Cn(aeus) Atei(us)                         Cn Atei   \n2                Avill(ius)                           Avill   \n3       L(ucius) Av(illius)                            L Av   \n4                  Camurius                        Camurius   \n...                     ...                             ...   \n529846                 None                nis man ex arioV   \n529847                 None  Silvano Dom Aureli Annianus pr   \n529848                 None             Maiorib urbonis Tur   \n529849                 None                         MISALIV   \n529850                 None                       Iunio VMT   \n\n                         clean_text_interpretive_sentence  \\\n0                                                    None   \n1                                                    None   \n2                                                    None   \n3                                                    None   \n4                                                    None   \n...                                                   ...   \n529846  vixit annis Germanus veteranus ex cohortis sag...   \n529847             Silvano Domestico Aurelius Annianus pr   \n529848                 Dis Maioribus Turbonius et Turboni   \n529849                                            MISALIV   \n529850                                          Iunio VMT   \n\n                             clean_text_interpretive_word  \\\n0                                                   Leius   \n1                                           Cnaeus Ateius   \n2                                                Avillius   \n3                                         Lucius Avillius   \n4                                                Camurius   \n...                                                   ...   \n529846  vixit annis Germanus veteranus ex cohortis sag...   \n529847             Silvano Domestico Aurelius Annianus pr   \n529848                 Dis Maioribus Turbonius et Turboni   \n529849                                            MISALIV   \n529850                                          Iunio VMT   \n\n       clean_text_interpretive_word_EDCS  \\\n0                                  Leius   \n1                          Cnaeus Ateius   \n2                               Avillius   \n3                        Lucius Avillius   \n4                               Camurius   \n...                                  ...   \n529846                              None   \n529847                              None   \n529848                              None   \n529849                              None   \n529850                              None   \n\n                                          diplomatic_text province  \\\n0                                                    None   Achaia   \n1                                                    None   Achaia   \n2                                                    None   Achaia   \n3                                                    None   Achaia   \n4                                                    None   Achaia   \n...                                                   ...      ...   \n529846  ] / [ ]NIS / [ ]MAN / [ ] EX / [ ]ARIO / [ ]V / [     None   \n529847           SILVAN / O DOM / AVRELI / ANNIA / NVS PR     None   \n529848  [ ] / MAIORIB / [ ]VRBONI / [ ]S [ ] / [ ] TVR...     None   \n529849                                         MISALIV[ ]     None   \n529850                                     IVNIO / [ ]VMT     None   \n\n                          place            inscr_type  \\\n0                             ?                  None   \n1       Agios Donatos / Photike  tituli fabricationis   \n2       Agios Donatos / Photike  tituli fabricationis   \n3       Agios Donatos / Photike  tituli fabricationis   \n4       Agios Donatos / Photike  tituli fabricationis   \n...                         ...                   ...   \n529846                     None                  None   \n529847                     None                  None   \n529848                     None                  None   \n529849                     None                  None   \n529850                     None                  None   \n\n                 status_notation     inscr_process  \\\n0                           None              None   \n1       praenomen et nomen, viri  sigilla impressa   \n2          nomen singulare, viri  sigilla impressa   \n3       praenomen et nomen, viri  sigilla impressa   \n4          nomen singulare, viri  sigilla impressa   \n...                          ...               ...   \n529846                      None              None   \n529847                      None              None   \n529848                      None              None   \n529849                      None              None   \n529850                      None              None   \n\n                                                   status partner_link  \\\n0                                                    None         None   \n1       praenomen et nomen;  sigilla impressa;  tituli...         None   \n2       nomen singulare;  sigilla impressa;  tituli fa...         None   \n3       praenomen et nomen;  sigilla impressa;  tituli...         None   \n4       nomen singulare;  sigilla impressa;  tituli fa...         None   \n...                                                   ...          ...   \n529846                                               None         None   \n529847                                               None         None   \n529848                                               None         None   \n529849                                               None         None   \n529850                                               None         None   \n\n       last_update letter_size              type_of_inscription  \\\n0             None        None                             None   \n1             None        None                             None   \n2             None        None                             None   \n3             None        None                             None   \n4             None        None                             None   \n...            ...         ...                              ...   \n529846  2021-05-03  6.3-5.5 cm                          epitaph   \n529847  2021-05-14        3 cm               votive inscription   \n529848  2021-05-14        None               votive inscription   \n529849  2021-05-14        None  building/dedicatory inscription   \n529850  2021-05-14        None         owner/artist inscription   \n\n               work_status  year_of_find  \\\n0                     None           NaN   \n1                     None           NaN   \n2                     None           NaN   \n3                     None           NaN   \n4                     None           NaN   \n...                    ...           ...   \n529846  checked with photo        2002.0   \n529847            no image        2013.0   \n529848         provisional        1916.0   \n529849         provisional        1969.0   \n529850         provisional        2015.0   \n\n                             present_location  \\\n0                                        None   \n1                                        None   \n2                                        None   \n3                                        None   \n4                                        None   \n...                                       ...   \n529846                  Zalău, Muz. Ist. Artă   \n529847  Cluj-Napoca, Muz. Naţ. Ist. Transilv.   \n529848                                   None   \n529849                                   None   \n529850                                   None   \n\n                                             text_edition support_objecttype  \\\n0                                                    None               None   \n1                                                    None               None   \n2                                                    None               None   \n3                                                    None               None   \n4                                                    None               None   \n...                                                   ...                ...   \n529846  \\n vixit annis Germanus veteranus ex --- coh(o...                  #   \n529847        \\n Silvano Domestico Aurelius Annianus pr\\n                 29   \n529848           \\n Dis Maioribus Turbonius et Turboni \\n                 29   \n529849                                       \\n MISALIV\\n                140   \n529850                                     \\n Iunio VMT\\n                  #   \n\n        support_material  support_decoration  keywords_term  \\\n0                    NaN                 NaN            NaN   \n1                    NaN                 NaN            NaN   \n2                    NaN                 NaN            NaN   \n3                    NaN                 NaN            NaN   \n4                    NaN                 NaN            NaN   \n...                  ...                 ...            ...   \n529846              60.0              1000.0           92.0   \n529847              60.0              1000.0          372.0   \n529848              48.0              1000.0          372.0   \n529849             131.0              1000.0            NaN   \n529850             109.0              1000.0            NaN   \n\n                                                   people  \\\n0                                                     [ ]   \n1                                                     [ ]   \n2                                                     [ ]   \n3                                                     [ ]   \n4                                                     [ ]   \n...                                                   ...   \n529846  [ { \"persname\": { \"name\": [ { \"@type\": \"praeno...   \n529847                                                [ ]   \n529848                                                [ ]   \n529849                                                [ ]   \n529850                                                [ ]   \n\n              type_of_inscription_clean  type_of_inscription_certainty  \\\n0                                  None                          False   \n1                                  None                          False   \n2                                  None                          False   \n3                                  None                          False   \n4                                  None                          False   \n...                                 ...                            ...   \n529846                          epitaph                          False   \n529847               votive inscription                          False   \n529848               votive inscription                          False   \n529849  building/dedicatory inscription                          False   \n529850         owner/artist inscription                          False   \n\n        height_cm  width_cm  depth_cm material_clean   type_of_monument_clean  \\\n0             NaN       NaN       NaN           None                     None   \n1             NaN       NaN       NaN           None                     None   \n2             NaN       NaN       NaN           None                     None   \n3             NaN       NaN       NaN           None                     None   \n4             NaN       NaN       NaN           None                     None   \n...           ...       ...       ...            ...                      ...   \n529846       31.0      33.0       9.0      Limestone                    stele   \n529847       44.0       2.0      19.0      Limestone                    altar   \n529848        NaN       NaN       NaN         Marble                    altar   \n529849        NaN       NaN       NaN           Clay  instrumentum domesticum   \n529850        NaN       NaN       NaN          Metal  instrumentum domesticum   \n\n        type_of_monument_certainty province_label_clean  \\\n0                            False                 None   \n1                            False                 None   \n2                            False                 None   \n3                            False                 None   \n4                            False                 None   \n...                            ...                  ...   \n529846                        True                Dacia   \n529847                       False                Dacia   \n529848                       False              Noricum   \n529849                       False              Noricum   \n529850                        True              Noricum   \n\n        province_label_certainty country_clean  country_certainty  \\\n0                          False          None              False   \n1                          False          None              False   \n2                          False          None              False   \n3                          False          None              False   \n4                          False          None              False   \n...                          ...           ...                ...   \n529846                     False       Romania              False   \n529847                     False       Romania              False   \n529848                     False       Austria              False   \n529849                     False       Austria              False   \n529850                     False       Austria              False   \n\n       findspot_ancient_clean  findspot_ancient_certainty modern_region_clean  \\\n0                        None                       False                None   \n1                        None                       False                None   \n2                        None                       False                None   \n3                        None                       False                None   \n4                        None                       False                None   \n...                       ...                         ...                 ...   \n529846             Porolissum                       False               Sălaj   \n529847                 Napoca                       False                Cluj   \n529848                Teurnia                       False             Kärnten   \n529849           Flavia Solva                       False          Steiermark   \n529850              Lauriacum                       False      Oberösterreich   \n\n        modern_region_certainty findspot_modern_clean  \\\n0                         False                  None   \n1                         False                  None   \n2                         False                  None   \n3                         False                  None   \n4                         False                  None   \n...                         ...                   ...   \n529846                    False                Creaca   \n529847                    False           Cluj-Napoca   \n529848                    False               Lendorf   \n529849                    False                 Wagna   \n529850                    False                  Enns   \n\n        findspot_modern_certainty  \\\n0                           False   \n1                           False   \n2                           False   \n3                           False   \n4                           False   \n...                           ...   \n529846                      False   \n529847                      False   \n529848                      False   \n529849                      False   \n529850                      False   \n\n                                           findspot_clean  findspot_certainty  \\\n0                                                    None               False   \n1                                                    None               False   \n2                                                    None               False   \n3                                                    None               False   \n4                                                    None               False   \n...                                                   ...                 ...   \n529846                                  Jac, {Municipium}                True   \n529847                     {Strada Ștefan Octavian Iosif}               False   \n529848  S. Peter in Holz, Teurnia, {Memorialkirche (\"F...               False   \n529849                                         Insula XXX               False   \n529850  Legionslager, bei, Canabae legionis, {Fabrikst...               False   \n\n       language language_EDCS raw_dating  not_after  not_before  Longitude  \\\n0             L          None       None        NaN         NaN        NaN   \n1             L          None       None        NaN         NaN  20.506908   \n2             L          None       None        NaN         NaN  20.506908   \n3             L          None       None        NaN         NaN  20.506908   \n4             L          None       None        NaN         NaN  20.506908   \n...         ...           ...        ...        ...         ...        ...   \n529846        L          None       None      171.0       270.0  23.158000   \n529847        L          None       None      171.0       270.0  23.590100   \n529848        L          None       None      101.0       300.0  13.564500   \n529849        L          None       None      101.0       200.0  15.989000   \n529850        L          None       None      101.0       300.0  14.468500   \n\n         Latitude  geotemporal?                   geometry  withinRE?  \\\n0             NaN         False                       None      False   \n1       39.475976         False  POINT (20.50691 39.47598)       True   \n2       39.475976         False  POINT (20.50691 39.47598)       True   \n3       39.475976         False  POINT (20.50691 39.47598)       True   \n4       39.475976         False  POINT (20.50691 39.47598)       True   \n...           ...           ...                        ...        ...   \n529846  47.179900          True  POINT (23.15800 47.17990)       True   \n529847  46.772200          True  POINT (23.59010 46.77220)       True   \n529848  47.246300          True  POINT (13.56450 47.24630)       True   \n529849  47.344900          True  POINT (15.98900 47.34490)       True   \n529850  48.221600          True  POINT (14.46850 48.22160)       True   \n\n        large_city_pop  medium_city_pop  small_city_pop urban_context  \\\n0                  NaN              NaN             NaN          None   \n1              41221.0          27923.0          1000.0         rural   \n2              41221.0          27923.0          1000.0         rural   \n3              41221.0          27923.0          1000.0         rural   \n4              41221.0          27923.0          1000.0         rural   \n...                ...              ...             ...           ...   \n529846         65470.0           5399.0          2601.0         rural   \n529847         65470.0           5399.0          2601.0        medium   \n529848        923313.0           7172.0          1000.0         rural   \n529849        923313.0           6969.0          2760.0         rural   \n529850        923313.0          15332.0          1000.0         small   \n\n       urban_context_city  urban_context_pop_est  \n0                    None                    NaN  \n1                    None                    NaN  \n2                    None                    NaN  \n3                    None                    NaN  \n4                    None                    NaN  \n...                   ...                    ...  \n529846               None                    NaN  \n529847             Napoca                 5399.0  \n529848               None                    NaN  \n529849               None                    NaN  \n529850          Lauriacum                 1000.0  \n\n[529851 rows x 67 columns]",
      "text/html": "<div>\n<style scoped>\n    .dataframe tbody tr th:only-of-type {\n        vertical-align: middle;\n    }\n\n    .dataframe tbody tr th {\n        vertical-align: top;\n    }\n\n    .dataframe thead th {\n        text-align: right;\n    }\n</style>\n<table border=\"1\" class=\"dataframe\">\n  <thead>\n    <tr style=\"text-align: right;\">\n      <th></th>\n      <th>LIST-ID</th>\n      <th>EDCS-ID</th>\n      <th>EDH-ID</th>\n      <th>trismegistos_uri</th>\n      <th>pleiades_id</th>\n      <th>transcription</th>\n      <th>inscription</th>\n      <th>clean_text_conservative</th>\n      <th>clean_text_interpretive_sentence</th>\n      <th>clean_text_interpretive_word</th>\n      <th>clean_text_interpretive_word_EDCS</th>\n      <th>diplomatic_text</th>\n      <th>province</th>\n      <th>place</th>\n      <th>inscr_type</th>\n      <th>status_notation</th>\n      <th>inscr_process</th>\n      <th>status</th>\n      <th>partner_link</th>\n      <th>last_update</th>\n      <th>letter_size</th>\n      <th>type_of_inscription</th>\n      <th>work_status</th>\n      <th>year_of_find</th>\n      <th>present_location</th>\n      <th>text_edition</th>\n      <th>support_objecttype</th>\n      <th>support_material</th>\n      <th>support_decoration</th>\n      <th>keywords_term</th>\n      <th>people</th>\n      <th>type_of_inscription_clean</th>\n      <th>type_of_inscription_certainty</th>\n      <th>height_cm</th>\n      <th>width_cm</th>\n      <th>depth_cm</th>\n      <th>material_clean</th>\n      <th>type_of_monument_clean</th>\n      <th>type_of_monument_certainty</th>\n      <th>province_label_clean</th>\n      <th>province_label_certainty</th>\n      <th>country_clean</th>\n      <th>country_certainty</th>\n      <th>findspot_ancient_clean</th>\n      <th>findspot_ancient_certainty</th>\n      <th>modern_region_clean</th>\n      <th>modern_region_certainty</th>\n      <th>findspot_modern_clean</th>\n      <th>findspot_modern_certainty</th>\n      <th>findspot_clean</th>\n      <th>findspot_certainty</th>\n      <th>language</th>\n      <th>language_EDCS</th>\n      <th>raw_dating</th>\n      <th>not_after</th>\n      <th>not_before</th>\n      <th>Longitude</th>\n      <th>Latitude</th>\n      <th>geotemporal?</th>\n      <th>geometry</th>\n      <th>withinRE?</th>\n      <th>large_city_pop</th>\n      <th>medium_city_pop</th>\n      <th>small_city_pop</th>\n      <th>urban_context</th>\n      <th>urban_context_city</th>\n      <th>urban_context_pop_est</th>\n    </tr>\n  </thead>\n  <tbody>\n    <tr>\n      <th>0</th>\n      <td>LIST-1</td>\n      <td>EDCS-31400030</td>\n      <td>None</td>\n      <td>None</td>\n      <td>None</td>\n      <td>None</td>\n      <td>Leius</td>\n      <td>Leius</td>\n      <td>None</td>\n      <td>Leius</td>\n      <td>Leius</td>\n      <td>None</td>\n      <td>Achaia</td>\n      <td>?</td>\n      <td>None</td>\n      <td>None</td>\n      <td>None</td>\n      <td>None</td>\n      <td>None</td>\n      <td>None</td>\n      <td>None</td>\n      <td>None</td>\n      <td>None</td>\n      <td>NaN</td>\n      <td>None</td>\n      <td>None</td>\n      <td>None</td>\n      <td>NaN</td>\n      <td>NaN</td>\n      <td>NaN</td>\n      <td>[ ]</td>\n      <td>None</td>\n      <td>False</td>\n      <td>NaN</td>\n      <td>NaN</td>\n      <td>NaN</td>\n      <td>None</td>\n      <td>None</td>\n      <td>False</td>\n      <td>None</td>\n      <td>False</td>\n      <td>None</td>\n      <td>False</td>\n      <td>None</td>\n      <td>False</td>\n      <td>None</td>\n      <td>False</td>\n      <td>None</td>\n      <td>False</td>\n      <td>None</td>\n      <td>False</td>\n      <td>L</td>\n      <td>None</td>\n      <td>None</td>\n      <td>NaN</td>\n      <td>NaN</td>\n      <td>NaN</td>\n      <td>NaN</td>\n      <td>False</td>\n      <td>None</td>\n      <td>False</td>\n      <td>NaN</td>\n      <td>NaN</td>\n      <td>NaN</td>\n      <td>None</td>\n      <td>None</td>\n      <td>NaN</td>\n    </tr>\n    <tr>\n      <th>1</th>\n      <td>LIST-2</td>\n      <td>EDCS-55701593</td>\n      <td>None</td>\n      <td>None</td>\n      <td>None</td>\n      <td>None</td>\n      <td>Cn(aeus) Atei(us)</td>\n      <td>Cn Atei</td>\n      <td>None</td>\n      <td>Cnaeus Ateius</td>\n      <td>Cnaeus Ateius</td>\n      <td>None</td>\n      <td>Achaia</td>\n      <td>Agios Donatos / Photike</td>\n      <td>tituli fabricationis</td>\n      <td>praenomen et nomen, viri</td>\n      <td>sigilla impressa</td>\n      <td>praenomen et nomen;  sigilla impressa;  tituli...</td>\n      <td>None</td>\n      <td>None</td>\n      <td>None</td>\n      <td>None</td>\n      <td>None</td>\n      <td>NaN</td>\n      <td>None</td>\n      <td>None</td>\n      <td>None</td>\n      <td>NaN</td>\n      <td>NaN</td>\n      <td>NaN</td>\n      <td>[ ]</td>\n      <td>None</td>\n      <td>False</td>\n      <td>NaN</td>\n      <td>NaN</td>\n      <td>NaN</td>\n      <td>None</td>\n      <td>None</td>\n      <td>False</td>\n      <td>None</td>\n      <td>False</td>\n      <td>None</td>\n      <td>False</td>\n      <td>None</td>\n      <td>False</td>\n      <td>None</td>\n      <td>False</td>\n      <td>None</td>\n      <td>False</td>\n      <td>None</td>\n      <td>False</td>\n      <td>L</td>\n      <td>None</td>\n      <td>None</td>\n      <td>NaN</td>\n      <td>NaN</td>\n      <td>20.506908</td>\n      <td>39.475976</td>\n      <td>False</td>\n      <td>POINT (20.50691 39.47598)</td>\n      <td>True</td>\n      <td>41221.0</td>\n      <td>27923.0</td>\n      <td>1000.0</td>\n      <td>rural</td>\n      <td>None</td>\n      <td>NaN</td>\n    </tr>\n    <tr>\n      <th>2</th>\n      <td>LIST-3</td>\n      <td>EDCS-55701594</td>\n      <td>None</td>\n      <td>None</td>\n      <td>None</td>\n      <td>None</td>\n      <td>Avill(ius)</td>\n      <td>Avill</td>\n      <td>None</td>\n      <td>Avillius</td>\n      <td>Avillius</td>\n      <td>None</td>\n      <td>Achaia</td>\n      <td>Agios Donatos / Photike</td>\n      <td>tituli fabricationis</td>\n      <td>nomen singulare, viri</td>\n      <td>sigilla impressa</td>\n      <td>nomen singulare;  sigilla impressa;  tituli fa...</td>\n      <td>None</td>\n      <td>None</td>\n      <td>None</td>\n      <td>None</td>\n      <td>None</td>\n      <td>NaN</td>\n      <td>None</td>\n      <td>None</td>\n      <td>None</td>\n      <td>NaN</td>\n      <td>NaN</td>\n      <td>NaN</td>\n      <td>[ ]</td>\n      <td>None</td>\n      <td>False</td>\n      <td>NaN</td>\n      <td>NaN</td>\n      <td>NaN</td>\n      <td>None</td>\n      <td>None</td>\n      <td>False</td>\n      <td>None</td>\n      <td>False</td>\n      <td>None</td>\n      <td>False</td>\n      <td>None</td>\n      <td>False</td>\n      <td>None</td>\n      <td>False</td>\n      <td>None</td>\n      <td>False</td>\n      <td>None</td>\n      <td>False</td>\n      <td>L</td>\n      <td>None</td>\n      <td>None</td>\n      <td>NaN</td>\n      <td>NaN</td>\n      <td>20.506908</td>\n      <td>39.475976</td>\n      <td>False</td>\n      <td>POINT (20.50691 39.47598)</td>\n      <td>True</td>\n      <td>41221.0</td>\n      <td>27923.0</td>\n      <td>1000.0</td>\n      <td>rural</td>\n      <td>None</td>\n      <td>NaN</td>\n    </tr>\n    <tr>\n      <th>3</th>\n      <td>LIST-4</td>\n      <td>EDCS-55701595</td>\n      <td>None</td>\n      <td>None</td>\n      <td>None</td>\n      <td>None</td>\n      <td>L(ucius) Av(illius)</td>\n      <td>L Av</td>\n      <td>None</td>\n      <td>Lucius Avillius</td>\n      <td>Lucius Avillius</td>\n      <td>None</td>\n      <td>Achaia</td>\n      <td>Agios Donatos / Photike</td>\n      <td>tituli fabricationis</td>\n      <td>praenomen et nomen, viri</td>\n      <td>sigilla impressa</td>\n      <td>praenomen et nomen;  sigilla impressa;  tituli...</td>\n      <td>None</td>\n      <td>None</td>\n      <td>None</td>\n      <td>None</td>\n      <td>None</td>\n      <td>NaN</td>\n      <td>None</td>\n      <td>None</td>\n      <td>None</td>\n      <td>NaN</td>\n      <td>NaN</td>\n      <td>NaN</td>\n      <td>[ ]</td>\n      <td>None</td>\n      <td>False</td>\n      <td>NaN</td>\n      <td>NaN</td>\n      <td>NaN</td>\n      <td>None</td>\n      <td>None</td>\n      <td>False</td>\n      <td>None</td>\n      <td>False</td>\n      <td>None</td>\n      <td>False</td>\n      <td>None</td>\n      <td>False</td>\n      <td>None</td>\n      <td>False</td>\n      <td>None</td>\n      <td>False</td>\n      <td>None</td>\n      <td>False</td>\n      <td>L</td>\n      <td>None</td>\n      <td>None</td>\n      <td>NaN</td>\n      <td>NaN</td>\n      <td>20.506908</td>\n      <td>39.475976</td>\n      <td>False</td>\n      <td>POINT (20.50691 39.47598)</td>\n      <td>True</td>\n      <td>41221.0</td>\n      <td>27923.0</td>\n      <td>1000.0</td>\n      <td>rural</td>\n      <td>None</td>\n      <td>NaN</td>\n    </tr>\n    <tr>\n      <th>4</th>\n      <td>LIST-5</td>\n      <td>EDCS-55701596</td>\n      <td>None</td>\n      <td>None</td>\n      <td>None</td>\n      <td>None</td>\n      <td>Camurius</td>\n      <td>Camurius</td>\n      <td>None</td>\n      <td>Camurius</td>\n      <td>Camurius</td>\n      <td>None</td>\n      <td>Achaia</td>\n      <td>Agios Donatos / Photike</td>\n      <td>tituli fabricationis</td>\n      <td>nomen singulare, viri</td>\n      <td>sigilla impressa</td>\n      <td>nomen singulare;  sigilla impressa;  tituli fa...</td>\n      <td>None</td>\n      <td>None</td>\n      <td>None</td>\n      <td>None</td>\n      <td>None</td>\n      <td>NaN</td>\n      <td>None</td>\n      <td>None</td>\n      <td>None</td>\n      <td>NaN</td>\n      <td>NaN</td>\n      <td>NaN</td>\n      <td>[ ]</td>\n      <td>None</td>\n      <td>False</td>\n      <td>NaN</td>\n      <td>NaN</td>\n      <td>NaN</td>\n      <td>None</td>\n      <td>None</td>\n      <td>False</td>\n      <td>None</td>\n      <td>False</td>\n      <td>None</td>\n      <td>False</td>\n      <td>None</td>\n      <td>False</td>\n      <td>None</td>\n      <td>False</td>\n      <td>None</td>\n      <td>False</td>\n      <td>None</td>\n      <td>False</td>\n      <td>L</td>\n      <td>None</td>\n      <td>None</td>\n      <td>NaN</td>\n      <td>NaN</td>\n      <td>20.506908</td>\n      <td>39.475976</td>\n      <td>False</td>\n      <td>POINT (20.50691 39.47598)</td>\n      <td>True</td>\n      <td>41221.0</td>\n      <td>27923.0</td>\n      <td>1000.0</td>\n      <td>rural</td>\n      <td>None</td>\n      <td>NaN</td>\n    </tr>\n    <tr>\n      <th>...</th>\n      <td>...</td>\n      <td>...</td>\n      <td>...</td>\n      <td>...</td>\n      <td>...</td>\n      <td>...</td>\n      <td>...</td>\n      <td>...</td>\n      <td>...</td>\n      <td>...</td>\n      <td>...</td>\n      <td>...</td>\n      <td>...</td>\n      <td>...</td>\n      <td>...</td>\n      <td>...</td>\n      <td>...</td>\n      <td>...</td>\n      <td>...</td>\n      <td>...</td>\n      <td>...</td>\n      <td>...</td>\n      <td>...</td>\n      <td>...</td>\n      <td>...</td>\n      <td>...</td>\n      <td>...</td>\n      <td>...</td>\n      <td>...</td>\n      <td>...</td>\n      <td>...</td>\n      <td>...</td>\n      <td>...</td>\n      <td>...</td>\n      <td>...</td>\n      <td>...</td>\n      <td>...</td>\n      <td>...</td>\n      <td>...</td>\n      <td>...</td>\n      <td>...</td>\n      <td>...</td>\n      <td>...</td>\n      <td>...</td>\n      <td>...</td>\n      <td>...</td>\n      <td>...</td>\n      <td>...</td>\n      <td>...</td>\n      <td>...</td>\n      <td>...</td>\n      <td>...</td>\n      <td>...</td>\n      <td>...</td>\n      <td>...</td>\n      <td>...</td>\n      <td>...</td>\n      <td>...</td>\n      <td>...</td>\n      <td>...</td>\n      <td>...</td>\n      <td>...</td>\n      <td>...</td>\n      <td>...</td>\n      <td>...</td>\n      <td>...</td>\n      <td>...</td>\n    </tr>\n    <tr>\n      <th>529846</th>\n      <td>LIST-529847</td>\n      <td>None</td>\n      <td>HD082771</td>\n      <td>None</td>\n      <td>207361</td>\n      <td>------] /[--- vixit an]nis / [--- Ger?]man/[us...</td>\n      <td>None</td>\n      <td>nis man ex arioV</td>\n      <td>vixit annis Germanus veteranus ex cohortis sag...</td>\n      <td>vixit annis Germanus veteranus ex cohortis sag...</td>\n      <td>None</td>\n      <td>] / [ ]NIS / [ ]MAN / [ ] EX / [ ]ARIO / [ ]V / [</td>\n      <td>None</td>\n      <td>None</td>\n      <td>None</td>\n      <td>None</td>\n      <td>None</td>\n      <td>None</td>\n      <td>None</td>\n      <td>2021-05-03</td>\n      <td>6.3-5.5 cm</td>\n      <td>epitaph</td>\n      <td>checked with photo</td>\n      <td>2002.0</td>\n      <td>Zalău, Muz. Ist. Artă</td>\n      <td>\\n vixit annis Germanus veteranus ex --- coh(o...</td>\n      <td>#</td>\n      <td>60.0</td>\n      <td>1000.0</td>\n      <td>92.0</td>\n      <td>[ { \"persname\": { \"name\": [ { \"@type\": \"praeno...</td>\n      <td>epitaph</td>\n      <td>False</td>\n      <td>31.0</td>\n      <td>33.0</td>\n      <td>9.0</td>\n      <td>Limestone</td>\n      <td>stele</td>\n      <td>True</td>\n      <td>Dacia</td>\n      <td>False</td>\n      <td>Romania</td>\n      <td>False</td>\n      <td>Porolissum</td>\n      <td>False</td>\n      <td>Sălaj</td>\n      <td>False</td>\n      <td>Creaca</td>\n      <td>False</td>\n      <td>Jac, {Municipium}</td>\n      <td>True</td>\n      <td>L</td>\n      <td>None</td>\n      <td>None</td>\n      <td>171.0</td>\n      <td>270.0</td>\n      <td>23.158000</td>\n      <td>47.179900</td>\n      <td>True</td>\n      <td>POINT (23.15800 47.17990)</td>\n      <td>True</td>\n      <td>65470.0</td>\n      <td>5399.0</td>\n      <td>2601.0</td>\n      <td>rural</td>\n      <td>None</td>\n      <td>NaN</td>\n    </tr>\n    <tr>\n      <th>529847</th>\n      <td>LIST-529848</td>\n      <td>None</td>\n      <td>HD082808</td>\n      <td>None</td>\n      <td>207304</td>\n      <td>Silvan/o Dom(estico) / Aureli(us) / Annia/nus ...</td>\n      <td>None</td>\n      <td>Silvano Dom Aureli Annianus pr</td>\n      <td>Silvano Domestico Aurelius Annianus pr</td>\n      <td>Silvano Domestico Aurelius Annianus pr</td>\n      <td>None</td>\n      <td>SILVAN / O DOM / AVRELI / ANNIA / NVS PR</td>\n      <td>None</td>\n      <td>None</td>\n      <td>None</td>\n      <td>None</td>\n      <td>None</td>\n      <td>None</td>\n      <td>None</td>\n      <td>2021-05-14</td>\n      <td>3 cm</td>\n      <td>votive inscription</td>\n      <td>no image</td>\n      <td>2013.0</td>\n      <td>Cluj-Napoca, Muz. Naţ. Ist. Transilv.</td>\n      <td>\\n Silvano Domestico Aurelius Annianus pr\\n</td>\n      <td>29</td>\n      <td>60.0</td>\n      <td>1000.0</td>\n      <td>372.0</td>\n      <td>[ ]</td>\n      <td>votive inscription</td>\n      <td>False</td>\n      <td>44.0</td>\n      <td>2.0</td>\n      <td>19.0</td>\n      <td>Limestone</td>\n      <td>altar</td>\n      <td>False</td>\n      <td>Dacia</td>\n      <td>False</td>\n      <td>Romania</td>\n      <td>False</td>\n      <td>Napoca</td>\n      <td>False</td>\n      <td>Cluj</td>\n      <td>False</td>\n      <td>Cluj-Napoca</td>\n      <td>False</td>\n      <td>{Strada Ștefan Octavian Iosif}</td>\n      <td>False</td>\n      <td>L</td>\n      <td>None</td>\n      <td>None</td>\n      <td>171.0</td>\n      <td>270.0</td>\n      <td>23.590100</td>\n      <td>46.772200</td>\n      <td>True</td>\n      <td>POINT (23.59010 46.77220)</td>\n      <td>True</td>\n      <td>65470.0</td>\n      <td>5399.0</td>\n      <td>2601.0</td>\n      <td>medium</td>\n      <td>Napoca</td>\n      <td>5399.0</td>\n    </tr>\n    <tr>\n      <th>529848</th>\n      <td>LIST-529849</td>\n      <td>None</td>\n      <td>HD082809</td>\n      <td>https://www.trismegistos.org/text/705780</td>\n      <td>187583</td>\n      <td>[Dis] / Maiorib(us) / [T]urboni/[u]s [---] / [...</td>\n      <td>None</td>\n      <td>Maiorib urbonis Tur</td>\n      <td>Dis Maioribus Turbonius et Turboni</td>\n      <td>Dis Maioribus Turbonius et Turboni</td>\n      <td>None</td>\n      <td>[ ] / MAIORIB / [ ]VRBONI / [ ]S [ ] / [ ] TVR...</td>\n      <td>None</td>\n      <td>None</td>\n      <td>None</td>\n      <td>None</td>\n      <td>None</td>\n      <td>None</td>\n      <td>None</td>\n      <td>2021-05-14</td>\n      <td>None</td>\n      <td>votive inscription</td>\n      <td>provisional</td>\n      <td>1916.0</td>\n      <td>None</td>\n      <td>\\n Dis Maioribus Turbonius et Turboni \\n</td>\n      <td>29</td>\n      <td>48.0</td>\n      <td>1000.0</td>\n      <td>372.0</td>\n      <td>[ ]</td>\n      <td>votive inscription</td>\n      <td>False</td>\n      <td>NaN</td>\n      <td>NaN</td>\n      <td>NaN</td>\n      <td>Marble</td>\n      <td>altar</td>\n      <td>False</td>\n      <td>Noricum</td>\n      <td>False</td>\n      <td>Austria</td>\n      <td>False</td>\n      <td>Teurnia</td>\n      <td>False</td>\n      <td>Kärnten</td>\n      <td>False</td>\n      <td>Lendorf</td>\n      <td>False</td>\n      <td>S. Peter in Holz, Teurnia, {Memorialkirche (\"F...</td>\n      <td>False</td>\n      <td>L</td>\n      <td>None</td>\n      <td>None</td>\n      <td>101.0</td>\n      <td>300.0</td>\n      <td>13.564500</td>\n      <td>47.246300</td>\n      <td>True</td>\n      <td>POINT (13.56450 47.24630)</td>\n      <td>True</td>\n      <td>923313.0</td>\n      <td>7172.0</td>\n      <td>1000.0</td>\n      <td>rural</td>\n      <td>None</td>\n      <td>NaN</td>\n    </tr>\n    <tr>\n      <th>529849</th>\n      <td>LIST-529850</td>\n      <td>None</td>\n      <td>HD082812</td>\n      <td>None</td>\n      <td>197273</td>\n      <td>MISALIV[---]</td>\n      <td>None</td>\n      <td>MISALIV</td>\n      <td>MISALIV</td>\n      <td>MISALIV</td>\n      <td>None</td>\n      <td>MISALIV[ ]</td>\n      <td>None</td>\n      <td>None</td>\n      <td>None</td>\n      <td>None</td>\n      <td>None</td>\n      <td>None</td>\n      <td>None</td>\n      <td>2021-05-14</td>\n      <td>None</td>\n      <td>building/dedicatory inscription</td>\n      <td>provisional</td>\n      <td>1969.0</td>\n      <td>None</td>\n      <td>\\n MISALIV\\n</td>\n      <td>140</td>\n      <td>131.0</td>\n      <td>1000.0</td>\n      <td>NaN</td>\n      <td>[ ]</td>\n      <td>building/dedicatory inscription</td>\n      <td>False</td>\n      <td>NaN</td>\n      <td>NaN</td>\n      <td>NaN</td>\n      <td>Clay</td>\n      <td>instrumentum domesticum</td>\n      <td>False</td>\n      <td>Noricum</td>\n      <td>False</td>\n      <td>Austria</td>\n      <td>False</td>\n      <td>Flavia Solva</td>\n      <td>False</td>\n      <td>Steiermark</td>\n      <td>False</td>\n      <td>Wagna</td>\n      <td>False</td>\n      <td>Insula XXX</td>\n      <td>False</td>\n      <td>L</td>\n      <td>None</td>\n      <td>None</td>\n      <td>101.0</td>\n      <td>200.0</td>\n      <td>15.989000</td>\n      <td>47.344900</td>\n      <td>True</td>\n      <td>POINT (15.98900 47.34490)</td>\n      <td>True</td>\n      <td>923313.0</td>\n      <td>6969.0</td>\n      <td>2760.0</td>\n      <td>rural</td>\n      <td>None</td>\n      <td>NaN</td>\n    </tr>\n    <tr>\n      <th>529850</th>\n      <td>LIST-529851</td>\n      <td>None</td>\n      <td>HD082816</td>\n      <td>None</td>\n      <td>118802</td>\n      <td>Iunio / [-]VMT</td>\n      <td>None</td>\n      <td>Iunio VMT</td>\n      <td>Iunio VMT</td>\n      <td>Iunio VMT</td>\n      <td>None</td>\n      <td>IVNIO / [ ]VMT</td>\n      <td>None</td>\n      <td>None</td>\n      <td>None</td>\n      <td>None</td>\n      <td>None</td>\n      <td>None</td>\n      <td>None</td>\n      <td>2021-05-14</td>\n      <td>None</td>\n      <td>owner/artist inscription</td>\n      <td>provisional</td>\n      <td>2015.0</td>\n      <td>None</td>\n      <td>\\n Iunio VMT\\n</td>\n      <td>#</td>\n      <td>109.0</td>\n      <td>1000.0</td>\n      <td>NaN</td>\n      <td>[ ]</td>\n      <td>owner/artist inscription</td>\n      <td>False</td>\n      <td>NaN</td>\n      <td>NaN</td>\n      <td>NaN</td>\n      <td>Metal</td>\n      <td>instrumentum domesticum</td>\n      <td>True</td>\n      <td>Noricum</td>\n      <td>False</td>\n      <td>Austria</td>\n      <td>False</td>\n      <td>Lauriacum</td>\n      <td>False</td>\n      <td>Oberösterreich</td>\n      <td>False</td>\n      <td>Enns</td>\n      <td>False</td>\n      <td>Legionslager, bei, Canabae legionis, {Fabrikst...</td>\n      <td>False</td>\n      <td>L</td>\n      <td>None</td>\n      <td>None</td>\n      <td>101.0</td>\n      <td>300.0</td>\n      <td>14.468500</td>\n      <td>48.221600</td>\n      <td>True</td>\n      <td>POINT (14.46850 48.22160)</td>\n      <td>True</td>\n      <td>923313.0</td>\n      <td>15332.0</td>\n      <td>1000.0</td>\n      <td>small</td>\n      <td>Lauriacum</td>\n      <td>1000.0</td>\n    </tr>\n  </tbody>\n</table>\n<p>529851 rows × 67 columns</p>\n</div>"
     },
     "execution_count": 111,
     "metadata": {},
     "output_type": "execute_result"
    }
   ],
   "source": [
    "LIST"
   ],
   "metadata": {
    "collapsed": false
   }
  },
  {
   "cell_type": "code",
   "execution_count": null,
   "outputs": [],
   "source": [
    "LIST.to_parquet(\"../data/large_data/LIST_contexts.parquet\")"
   ],
   "metadata": {
    "collapsed": false
   }
  },
  {
   "cell_type": "markdown",
   "source": [
    "# Additional deduplication"
   ],
   "metadata": {
    "collapsed": false
   }
  },
  {
   "cell_type": "code",
   "execution_count": 3,
   "outputs": [],
   "source": [
    "LIST = gpd.read_parquet(\"../data/large_data/LIST_contexts.parquet\")"
   ],
   "metadata": {
    "collapsed": false
   }
  },
  {
   "cell_type": "code",
   "execution_count": 4,
   "outputs": [
    {
     "data": {
      "text/plain": "81266"
     },
     "execution_count": 4,
     "metadata": {},
     "output_type": "execute_result"
    }
   ],
   "source": [
    "edh_ids_list = LIST[LIST[\"EDH-ID\"].notnull()][\"EDH-ID\"].tolist()\n",
    "len(edh_ids_list)"
   ],
   "metadata": {
    "collapsed": false
   }
  },
  {
   "cell_type": "code",
   "execution_count": 5,
   "outputs": [
    {
     "data": {
      "text/plain": "79899"
     },
     "execution_count": 5,
     "metadata": {},
     "output_type": "execute_result"
    }
   ],
   "source": [
    "# records with valid & UNIQUE EDH-ID\n",
    "edh_ids_unique = LIST[LIST[\"EDH-ID\"].notnull()][\"EDH-ID\"].unique().tolist()\n",
    "len(edh_ids_unique)"
   ],
   "metadata": {
    "collapsed": false
   }
  },
  {
   "cell_type": "code",
   "execution_count": 7,
   "outputs": [
    {
     "data": {
      "text/plain": "1136"
     },
     "execution_count": 7,
     "metadata": {},
     "output_type": "execute_result"
    }
   ],
   "source": [
    "# EDH-IDs appearing at least twice:\n",
    "dup_ids = [id_tup[0] for id_tup in nltk.FreqDist(edh_ids_list).most_common() if id_tup[1] > 1]\n",
    "len(dup_ids)"
   ],
   "metadata": {
    "collapsed": false
   }
  },
  {
   "cell_type": "code",
   "execution_count": 8,
   "outputs": [
    {
     "data": {
      "text/plain": "            LIST-ID        EDCS-ID    EDH-ID  \\\n449357  LIST-449358  EDCS-28500267  HD064154   \n449358  LIST-449359  EDCS-28500268  HD064154   \n449359  LIST-449360  EDCS-28500269  HD064154   \n449360  LIST-449361  EDCS-28500271  HD064154   \n449361  LIST-449362  EDCS-28500272  HD064154   \n...             ...            ...       ...   \n524948  LIST-524949  EDCS-05100816  HD013243   \n525235  LIST-525236  EDCS-34000235  HD003777   \n525387  LIST-525388  EDCS-07400269  HD000467   \n525553  LIST-525554  EDCS-01300350  HD025482   \n525642  LIST-525643  EDCS-09400347  HD005807   \n\n                                trismegistos_uri pleiades_id  \\\n449357  https://www.trismegistos.org/text/178167      599588   \n449358  https://www.trismegistos.org/text/178167      599588   \n449359  https://www.trismegistos.org/text/178167      599588   \n449360  https://www.trismegistos.org/text/178167      599588   \n449361  https://www.trismegistos.org/text/178167      599588   \n...                                          ...         ...   \n524948  https://www.trismegistos.org/text/285387               \n525235  https://www.trismegistos.org/text/286410      413196   \n525387  https://www.trismegistos.org/text/286471      413320   \n525553  https://www.trismegistos.org/text/122919      118569   \n525642  https://www.trismegistos.org/text/123140      118569   \n\n                                            transcription  \\\n449357  [---]S[---] // [---]T[---] // [---]SA[---] // ...   \n449358  [---]S[---] // [---]T[---] // [---]SA[---] // ...   \n449359  [---]S[---] // [---]T[---] // [---]SA[---] // ...   \n449360  [---]S[---] // [---]T[---] // [---]SA[---] // ...   \n449361  [---]S[---] // [---]T[---] // [---]SA[---] // ...   \n...                                                   ...   \n524948  I(ovi) [O(ptimo)] M(aximo) / Novellia[nus] / P...   \n525235         [---] Caesii [---] / [---] sexviri [------   \n525387  ------] / [---] ut prior occi/[sus? --- me]rit...   \n525553  Loc(us) / vestiari/orum / in fr(onte) p(edes) ...   \n525642  Splendonius et / Hilara cum s/uis f(ecerunt) p...   \n\n                                              inscription  \\\n449357                                                ]T[   \n449358                                               ]SA[   \n449359                                                ]M[   \n449360                                                ]N[   \n449361                                                ]I[   \n...                                                   ...   \n524948  Novelia / Pandarus / I(ovi) O(ptimo) M(aximo) ...   \n525235                             ] Caesi[3] / sexviri [   \n525387  [3]ut prior occi/[3]ritis namq(ue) / [3]italis...   \n525553  Loc(us) m(onumenti) / vestiari/orum / in fr(on...   \n525642  Nonnos[us et] / Sever[i]a[na] / cum su[is] / f...   \n\n                                  clean_text_conservative  \\\n449357                       S T SA M G N I DE O K OR CVF   \n449358                       S T SA M G N I DE O K OR CVF   \n449359                       S T SA M G N I DE O K OR CVF   \n449360                       S T SA M G N I DE O K OR CVF   \n449361                       S T SA M G N I DE O K OR CVF   \n...                                                   ...   \n524948  I M Novellia Pandarus pro se et suis omnibus a...   \n525235                                     Caesii sexviri   \n525387  ut prior occiritis namquitalis ut a te gse pri...   \n525553           Loc vestiariorum in fr p L in agr p LXIV   \n525642  Splendonius et Hilara cum suis f p CC Nonnos S...   \n\n                         clean_text_interpretive_sentence  \\\n449357                       S T SA M G N I DE O K OR CVF   \n449358                       S T SA M G N I DE O K OR CVF   \n449359                       S T SA M G N I DE O K OR CVF   \n449360                       S T SA M G N I DE O K OR CVF   \n449361                       S T SA M G N I DE O K OR CVF   \n...                                                   ...   \n524948  Iovi Optimo Maximo Novellianus Pandarus pro se...   \n525235                                     Caesii sexviri   \n525387  ut prior occisus meritis nam que Vitalis ut a ...   \n525553  Locus vestiariorum in fronte pedes L in agro p...   \n525642  Splendonius et Hilara cum suis fecerunt pedes ...   \n\n                             clean_text_interpretive_word  \\\n449357                       S T SA M G N I DE O K OR CVF   \n449358                       S T SA M G N I DE O K OR CVF   \n449359                       S T SA M G N I DE O K OR CVF   \n449360                       S T SA M G N I DE O K OR CVF   \n449361                       S T SA M G N I DE O K OR CVF   \n...                                                   ...   \n524948  Iovi Optimo Maximo Novellianus Pandarus pro se...   \n525235                                     Caesii sexviri   \n525387  ut prior occisus meritis nam que Vitalis ut a ...   \n525553  Locus vestiariorum in fronte pedes L in agro p...   \n525642  Splendonius et Hilara cum suis fecerunt pedes ...   \n\n                        clean_text_interpretive_word_EDCS  \\\n449357                                                  T   \n449358                                                 SA   \n449359                                                  M   \n449360                                                  N   \n449361                                                  I   \n...                                                   ...   \n524948  Novelia Pandarus Iovi Optimo Maximo votum solv...   \n525235                                      Caesi sexviri   \n525387  ut prior occi ritis nam que italis ut a te g s...   \n525553  Locus monumenti vestiariorum in fronte pedes L...   \n525642      Nonnosus et Severiana cum suis fecerunt pedes   \n\n                                          diplomatic_text  \\\n449357  [ ]S[ ] / / [ ]T[ ] / / [ ]SA[ ] / / [ ]M[ ] /...   \n449358  [ ]S[ ] / / [ ]T[ ] / / [ ]SA[ ] / / [ ]M[ ] /...   \n449359  [ ]S[ ] / / [ ]T[ ] / / [ ]SA[ ] / / [ ]M[ ] /...   \n449360  [ ]S[ ] / / [ ]T[ ] / / [ ]SA[ ] / / [ ]M[ ] /...   \n449361  [ ]S[ ] / / [ ]T[ ] / / [ ]SA[ ] / / [ ]M[ ] /...   \n...                                                   ...   \n524948  I [ ] M / NOVELLIA[ ] / PANDARVS / PRO SE ET S...   \n525235                     [ ] CAESII [ ] / [ ] SEXVIRI [   \n525387  ] / [ ] VT PRIOR OCCI / [ ]RITIS NAMQV / [ ]IT...   \n525553  LOC / VESTIARI / ORVM / IN FR P L / IN AGR P LXIV   \n525642  SPLENDONIVS ET / HILARA CVM S / VIS F P CC / /...   \n\n                            province                place  \\\n449357                        Achaia      Delos / Ortygia   \n449358                        Achaia      Delos / Ortygia   \n449359                        Achaia      Delos / Ortygia   \n449360                        Achaia      Delos / Ortygia   \n449361                        Achaia      Delos / Ortygia   \n...                              ...                  ...   \n524948        Transpadana / Regio XI              Barzano   \n525235             Umbria / Regio VI  Matelica / Matilica   \n525387             Umbria / Regio VI  Spoleto / Spoletium   \n525553  Venetia et Histria / Regio X             Aquileia   \n525642  Venetia et Histria / Regio X             Aquileia   \n\n                                      inscr_type  \\\n449357                                      None   \n449358                                      None   \n449359                                      None   \n449360                                      None   \n449361                                      None   \n...                                          ...   \n524948                              tituli sacri   \n525235                        tituli sepulcrales   \n525387                 inscriptiones christianae   \n525553                        tituli sepulcrales   \n525642  inscriptiones christianae, tituli operum   \n\n                        status_notation inscr_process  \\\n449357                             None          None   \n449358                             None          None   \n449359                             None          None   \n449360                             None          None   \n449361                             None          None   \n...                                 ...           ...   \n524948                             None          None   \n525235                seviri Augustales          None   \n525387                             None          None   \n525553         officium/professio, viri          None   \n525642  mulieres, nomen singulare, viri          None   \n\n                                                   status  \\\n449357                                               None   \n449358                                               None   \n449359                                               None   \n449360                                               None   \n449361                                               None   \n...                                                   ...   \n524948                                       tituli sacri   \n525235             seviri Augustales;  tituli sepulcrales   \n525387                          inscriptiones christianae   \n525553     officium/professio;  tituli sepulcrales;  viri   \n525642  inscriptiones christianae;  mulieres;  nomen s...   \n\n                                             partner_link last_update  \\\n449357  http://db.edcs.eu/epigr/partner.php?s_language...  2011-11-18   \n449358  http://db.edcs.eu/epigr/partner.php?s_language...  2011-11-18   \n449359  http://db.edcs.eu/epigr/partner.php?s_language...  2011-11-18   \n449360  http://db.edcs.eu/epigr/partner.php?s_language...  2011-11-18   \n449361  http://db.edcs.eu/epigr/partner.php?s_language...  2011-11-18   \n...                                                   ...         ...   \n524948  http://db.edcs.eu/epigr/partner.php?s_language...  1998-01-15   \n525235  http://db.edcs.eu/epigr/partner.php?s_language...  2011-09-23   \n525387  http://db.edcs.eu/epigr/partner.php?s_language...  2018-05-11   \n525553  http://db.edcs.eu/epigr/partner.php?s_language...  1996-05-14   \n525642  http://db.edcs.eu/epigr/partner.php?s_language...  2008-03-14   \n\n       letter_size type_of_inscription  work_status  year_of_find  \\\n449357       17 cm                None     no image           NaN   \n449358       17 cm                None     no image           NaN   \n449359       17 cm                None     no image           NaN   \n449360       17 cm                None     no image           NaN   \n449361       17 cm                None     no image           NaN   \n...            ...                 ...          ...           ...   \n524948      5.5 cm  votive inscription     no image           NaN   \n525235        None                None  provisional           NaN   \n525387    2-2.5 cm                None  provisional           NaN   \n525553        None                None  provisional           NaN   \n525642        None                None  provisional           NaN   \n\n           present_location  \\\n449357                 None   \n449358                 None   \n449359                 None   \n449360                 None   \n449361                 None   \n...                     ...   \n524948                 None   \n525235                 None   \n525387  S. Ponziano, Kirche   \n525553                 None   \n525642                 None   \n\n                                             text_edition support_objecttype  \\\n449357                 \\n S T SA M G N I DE O K OR CVF \\n               None   \n449358                 \\n S T SA M G N I DE O K OR CVF \\n               None   \n449359                 \\n S T SA M G N I DE O K OR CVF \\n               None   \n449360                 \\n S T SA M G N I DE O K OR CVF \\n               None   \n449361                 \\n S T SA M G N I DE O K OR CVF \\n               None   \n...                                                   ...                ...   \n524948  \\n Iovi Optimo Maximo Novellianus Pandarus pro...                 29   \n525235                               \\n Caesii sexviri \\n                257   \n525387  \\n ut prior occisus meritis namque Vitalis ut ...                257   \n525553  \\n Locus vestiariorum in fronte pedes L in agr...               None   \n525642  \\n Splendonius et Hilara cum suis fecerunt ped...               None   \n\n        support_material  support_decoration  keywords_term  \\\n449357               NaN              1000.0          143.0   \n449358               NaN              1000.0          143.0   \n449359               NaN              1000.0          143.0   \n449360               NaN              1000.0          143.0   \n449361               NaN              1000.0          143.0   \n...                  ...                 ...            ...   \n524948               NaN              1000.0          372.0   \n525235               NaN              1000.0          143.0   \n525387              48.0              1000.0          143.0   \n525553               NaN              1000.0          143.0   \n525642               NaN              1000.0          143.0   \n\n                                                   people  \\\n449357                                                [ ]   \n449358                                                [ ]   \n449359                                                [ ]   \n449360                                                [ ]   \n449361                                                [ ]   \n...                                                   ...   \n524948                                                [ ]   \n525235                                                [ ]   \n525387  [ { \"persname\": { \"name\": { \"@type\": \"cognomen...   \n525553                                                [ ]   \n525642                                                [ ]   \n\n       type_of_inscription_clean  type_of_inscription_certainty  height_cm  \\\n449357                      NULL                          False        NaN   \n449358                      NULL                          False        NaN   \n449359                      NULL                          False        NaN   \n449360                      NULL                          False        NaN   \n449361                      NULL                          False        NaN   \n...                          ...                            ...        ...   \n524948        votive inscription                          False      100.0   \n525235                      NULL                          False        NaN   \n525387                      NULL                          False       31.0   \n525553                      NULL                          False        NaN   \n525642                      NULL                          False        NaN   \n\n        width_cm  depth_cm material_clean type_of_monument_clean  \\\n449357       NaN       NaN           NULL                   NULL   \n449358       NaN       NaN           NULL                   NULL   \n449359       NaN       NaN           NULL                   NULL   \n449360       NaN       NaN           NULL                   NULL   \n449361       NaN       NaN           NULL                   NULL   \n...          ...       ...            ...                    ...   \n524948      55.0      50.0           NULL                  altar   \n525235       NaN       NaN           NULL                 tabula   \n525387      26.0       8.0         Marble                 tabula   \n525553       NaN       NaN           NULL                   NULL   \n525642       NaN       NaN           NULL                   NULL   \n\n        type_of_monument_certainty          province_label_clean  \\\n449357                       False                        Achaia   \n449358                       False                        Achaia   \n449359                       False                        Achaia   \n449360                       False                        Achaia   \n449361                       False                        Achaia   \n...                            ...                           ...   \n524948                       False        Transpadana (Regio XI)   \n525235                       False             Umbria (Regio VI)   \n525387                       False             Umbria (Regio VI)   \n525553                       False  Venetia et Histria (Regio X)   \n525642                       False  Venetia et Histria (Regio X)   \n\n        province_label_certainty country_clean  country_certainty  \\\n449357                     False        Greece              False   \n449358                     False        Greece              False   \n449359                     False        Greece              False   \n449360                     False        Greece              False   \n449361                     False        Greece              False   \n...                          ...           ...                ...   \n524948                     False         Italy              False   \n525235                     False         Italy              False   \n525387                     False         Italy              False   \n525553                     False         Italy              False   \n525642                     False         Italy              False   \n\n       findspot_ancient_clean  findspot_ancient_certainty modern_region_clean  \\\n449357                  Delos                       False        Nótio Aigaío   \n449358                  Delos                       False        Nótio Aigaío   \n449359                  Delos                       False        Nótio Aigaío   \n449360                  Delos                       False        Nótio Aigaío   \n449361                  Delos                       False        Nótio Aigaío   \n...                       ...                         ...                 ...   \n524948                   NULL                       False                NULL   \n525235               Matilica                       False              Marche   \n525387              Spoletium                       False             Perugia   \n525553               Aquileia                       False               Udine   \n525642               Aquileia                       False               Udine   \n\n        modern_region_certainty findspot_modern_clean  \\\n449357                    False                Dhílos   \n449358                    False                Dhílos   \n449359                    False                Dhílos   \n449360                    False                Dhílos   \n449361                    False                Dhílos   \n...                         ...                   ...   \n524948                    False               Barzano   \n525235                    False              Matelica   \n525387                    False               Spoleto   \n525553                    False              Aquileia   \n525642                    False              Aquileia   \n\n        findspot_modern_certainty             findspot_clean  \\\n449357                      False                       NULL   \n449358                      False                       NULL   \n449359                      False                       NULL   \n449360                      False                       NULL   \n449361                      False                       NULL   \n...                           ...                        ...   \n524948                      False       S. Salvatore, Kirche   \n525235                      False  Mauer, sekundär verwendet   \n525387                      False        Kirche San Ponziano   \n525553                      False                       NULL   \n525642                      False                       NULL   \n\n        findspot_certainty language language_EDCS  raw_dating  not_after  \\\n449357               False        L          None        None        NaN   \n449358               False        L          None        None        NaN   \n449359               False        L          None        None        NaN   \n449360               False        L          None        None        NaN   \n449361               False        L          None        None        NaN   \n...                    ...      ...           ...         ...        ...   \n524948               False        L          None  201 to 300      301.0   \n525235               False        L          None    1 to 100        1.0   \n525387               False        L          None        None      301.0   \n525553               False        L          None   51 to 100        NaN   \n525642               False        L          None  376 to 425        NaN   \n\n        not_before  Longitude  Latitude  geotemporal?  \\\n449357         NaN    25.2661   37.4036         False   \n449358         NaN    25.2661   37.4036         False   \n449359         NaN    25.2661   37.4036         False   \n449360         NaN    25.2661   37.4036         False   \n449361         NaN    25.2661   37.4036         False   \n...            ...        ...       ...           ...   \n524948       400.0        NaN       NaN         False   \n525235        50.0    13.0116   43.2550          True   \n525387       500.0    12.7429   42.7335          True   \n525553         NaN    10.1535   48.6795         False   \n525642         NaN    10.1535   48.6795         False   \n\n                         geometry  withinRE?  large_city_pop  medium_city_pop  \\\n449357  POINT (25.26610 37.40360)      False         58112.0          18364.0   \n449358  POINT (25.26610 37.40360)      False         58112.0          18364.0   \n449359  POINT (25.26610 37.40360)      False         58112.0          18364.0   \n449360  POINT (25.26610 37.40360)      False         58112.0          18364.0   \n449361  POINT (25.26610 37.40360)      False         58112.0          18364.0   \n...                           ...        ...             ...              ...   \n524948                       None      False             NaN              NaN   \n525235  POINT (13.01160 43.25500)       True        923313.0           5782.0   \n525387  POINT (12.74290 42.73350)       True        923313.0           7376.0   \n525553  POINT (10.15350 48.67950)       True         39960.0          10608.0   \n525642  POINT (10.15350 48.67950)       True         39960.0          10608.0   \n\n        small_city_pop urban_context urban_context_city  urban_context_pop_est  \n449357          2290.0        medium              Delos                18364.0  \n449358          2290.0        medium              Delos                18364.0  \n449359          2290.0        medium              Delos                18364.0  \n449360          2290.0        medium              Delos                18364.0  \n449361          2290.0        medium              Delos                18364.0  \n...                ...           ...                ...                    ...  \n524948             NaN          None               None                    NaN  \n525235          1000.0         small           Matilica                 1000.0  \n525387          2760.0         small          Spoletium                 2760.0  \n525553          1000.0         rural               None                    NaN  \n525642          1000.0         rural               None                    NaN  \n\n[1367 rows x 67 columns]",
      "text/html": "<div>\n<style scoped>\n    .dataframe tbody tr th:only-of-type {\n        vertical-align: middle;\n    }\n\n    .dataframe tbody tr th {\n        vertical-align: top;\n    }\n\n    .dataframe thead th {\n        text-align: right;\n    }\n</style>\n<table border=\"1\" class=\"dataframe\">\n  <thead>\n    <tr style=\"text-align: right;\">\n      <th></th>\n      <th>LIST-ID</th>\n      <th>EDCS-ID</th>\n      <th>EDH-ID</th>\n      <th>trismegistos_uri</th>\n      <th>pleiades_id</th>\n      <th>transcription</th>\n      <th>inscription</th>\n      <th>clean_text_conservative</th>\n      <th>clean_text_interpretive_sentence</th>\n      <th>clean_text_interpretive_word</th>\n      <th>clean_text_interpretive_word_EDCS</th>\n      <th>diplomatic_text</th>\n      <th>province</th>\n      <th>place</th>\n      <th>inscr_type</th>\n      <th>status_notation</th>\n      <th>inscr_process</th>\n      <th>status</th>\n      <th>partner_link</th>\n      <th>last_update</th>\n      <th>letter_size</th>\n      <th>type_of_inscription</th>\n      <th>work_status</th>\n      <th>year_of_find</th>\n      <th>present_location</th>\n      <th>text_edition</th>\n      <th>support_objecttype</th>\n      <th>support_material</th>\n      <th>support_decoration</th>\n      <th>keywords_term</th>\n      <th>people</th>\n      <th>type_of_inscription_clean</th>\n      <th>type_of_inscription_certainty</th>\n      <th>height_cm</th>\n      <th>width_cm</th>\n      <th>depth_cm</th>\n      <th>material_clean</th>\n      <th>type_of_monument_clean</th>\n      <th>type_of_monument_certainty</th>\n      <th>province_label_clean</th>\n      <th>province_label_certainty</th>\n      <th>country_clean</th>\n      <th>country_certainty</th>\n      <th>findspot_ancient_clean</th>\n      <th>findspot_ancient_certainty</th>\n      <th>modern_region_clean</th>\n      <th>modern_region_certainty</th>\n      <th>findspot_modern_clean</th>\n      <th>findspot_modern_certainty</th>\n      <th>findspot_clean</th>\n      <th>findspot_certainty</th>\n      <th>language</th>\n      <th>language_EDCS</th>\n      <th>raw_dating</th>\n      <th>not_after</th>\n      <th>not_before</th>\n      <th>Longitude</th>\n      <th>Latitude</th>\n      <th>geotemporal?</th>\n      <th>geometry</th>\n      <th>withinRE?</th>\n      <th>large_city_pop</th>\n      <th>medium_city_pop</th>\n      <th>small_city_pop</th>\n      <th>urban_context</th>\n      <th>urban_context_city</th>\n      <th>urban_context_pop_est</th>\n    </tr>\n  </thead>\n  <tbody>\n    <tr>\n      <th>449357</th>\n      <td>LIST-449358</td>\n      <td>EDCS-28500267</td>\n      <td>HD064154</td>\n      <td>https://www.trismegistos.org/text/178167</td>\n      <td>599588</td>\n      <td>[---]S[---] // [---]T[---] // [---]SA[---] // ...</td>\n      <td>]T[</td>\n      <td>S T SA M G N I DE O K OR CVF</td>\n      <td>S T SA M G N I DE O K OR CVF</td>\n      <td>S T SA M G N I DE O K OR CVF</td>\n      <td>T</td>\n      <td>[ ]S[ ] / / [ ]T[ ] / / [ ]SA[ ] / / [ ]M[ ] /...</td>\n      <td>Achaia</td>\n      <td>Delos / Ortygia</td>\n      <td>None</td>\n      <td>None</td>\n      <td>None</td>\n      <td>None</td>\n      <td>http://db.edcs.eu/epigr/partner.php?s_language...</td>\n      <td>2011-11-18</td>\n      <td>17 cm</td>\n      <td>None</td>\n      <td>no image</td>\n      <td>NaN</td>\n      <td>None</td>\n      <td>\\n S T SA M G N I DE O K OR CVF \\n</td>\n      <td>None</td>\n      <td>NaN</td>\n      <td>1000.0</td>\n      <td>143.0</td>\n      <td>[ ]</td>\n      <td>NULL</td>\n      <td>False</td>\n      <td>NaN</td>\n      <td>NaN</td>\n      <td>NaN</td>\n      <td>NULL</td>\n      <td>NULL</td>\n      <td>False</td>\n      <td>Achaia</td>\n      <td>False</td>\n      <td>Greece</td>\n      <td>False</td>\n      <td>Delos</td>\n      <td>False</td>\n      <td>Nótio Aigaío</td>\n      <td>False</td>\n      <td>Dhílos</td>\n      <td>False</td>\n      <td>NULL</td>\n      <td>False</td>\n      <td>L</td>\n      <td>None</td>\n      <td>None</td>\n      <td>NaN</td>\n      <td>NaN</td>\n      <td>25.2661</td>\n      <td>37.4036</td>\n      <td>False</td>\n      <td>POINT (25.26610 37.40360)</td>\n      <td>False</td>\n      <td>58112.0</td>\n      <td>18364.0</td>\n      <td>2290.0</td>\n      <td>medium</td>\n      <td>Delos</td>\n      <td>18364.0</td>\n    </tr>\n    <tr>\n      <th>449358</th>\n      <td>LIST-449359</td>\n      <td>EDCS-28500268</td>\n      <td>HD064154</td>\n      <td>https://www.trismegistos.org/text/178167</td>\n      <td>599588</td>\n      <td>[---]S[---] // [---]T[---] // [---]SA[---] // ...</td>\n      <td>]SA[</td>\n      <td>S T SA M G N I DE O K OR CVF</td>\n      <td>S T SA M G N I DE O K OR CVF</td>\n      <td>S T SA M G N I DE O K OR CVF</td>\n      <td>SA</td>\n      <td>[ ]S[ ] / / [ ]T[ ] / / [ ]SA[ ] / / [ ]M[ ] /...</td>\n      <td>Achaia</td>\n      <td>Delos / Ortygia</td>\n      <td>None</td>\n      <td>None</td>\n      <td>None</td>\n      <td>None</td>\n      <td>http://db.edcs.eu/epigr/partner.php?s_language...</td>\n      <td>2011-11-18</td>\n      <td>17 cm</td>\n      <td>None</td>\n      <td>no image</td>\n      <td>NaN</td>\n      <td>None</td>\n      <td>\\n S T SA M G N I DE O K OR CVF \\n</td>\n      <td>None</td>\n      <td>NaN</td>\n      <td>1000.0</td>\n      <td>143.0</td>\n      <td>[ ]</td>\n      <td>NULL</td>\n      <td>False</td>\n      <td>NaN</td>\n      <td>NaN</td>\n      <td>NaN</td>\n      <td>NULL</td>\n      <td>NULL</td>\n      <td>False</td>\n      <td>Achaia</td>\n      <td>False</td>\n      <td>Greece</td>\n      <td>False</td>\n      <td>Delos</td>\n      <td>False</td>\n      <td>Nótio Aigaío</td>\n      <td>False</td>\n      <td>Dhílos</td>\n      <td>False</td>\n      <td>NULL</td>\n      <td>False</td>\n      <td>L</td>\n      <td>None</td>\n      <td>None</td>\n      <td>NaN</td>\n      <td>NaN</td>\n      <td>25.2661</td>\n      <td>37.4036</td>\n      <td>False</td>\n      <td>POINT (25.26610 37.40360)</td>\n      <td>False</td>\n      <td>58112.0</td>\n      <td>18364.0</td>\n      <td>2290.0</td>\n      <td>medium</td>\n      <td>Delos</td>\n      <td>18364.0</td>\n    </tr>\n    <tr>\n      <th>449359</th>\n      <td>LIST-449360</td>\n      <td>EDCS-28500269</td>\n      <td>HD064154</td>\n      <td>https://www.trismegistos.org/text/178167</td>\n      <td>599588</td>\n      <td>[---]S[---] // [---]T[---] // [---]SA[---] // ...</td>\n      <td>]M[</td>\n      <td>S T SA M G N I DE O K OR CVF</td>\n      <td>S T SA M G N I DE O K OR CVF</td>\n      <td>S T SA M G N I DE O K OR CVF</td>\n      <td>M</td>\n      <td>[ ]S[ ] / / [ ]T[ ] / / [ ]SA[ ] / / [ ]M[ ] /...</td>\n      <td>Achaia</td>\n      <td>Delos / Ortygia</td>\n      <td>None</td>\n      <td>None</td>\n      <td>None</td>\n      <td>None</td>\n      <td>http://db.edcs.eu/epigr/partner.php?s_language...</td>\n      <td>2011-11-18</td>\n      <td>17 cm</td>\n      <td>None</td>\n      <td>no image</td>\n      <td>NaN</td>\n      <td>None</td>\n      <td>\\n S T SA M G N I DE O K OR CVF \\n</td>\n      <td>None</td>\n      <td>NaN</td>\n      <td>1000.0</td>\n      <td>143.0</td>\n      <td>[ ]</td>\n      <td>NULL</td>\n      <td>False</td>\n      <td>NaN</td>\n      <td>NaN</td>\n      <td>NaN</td>\n      <td>NULL</td>\n      <td>NULL</td>\n      <td>False</td>\n      <td>Achaia</td>\n      <td>False</td>\n      <td>Greece</td>\n      <td>False</td>\n      <td>Delos</td>\n      <td>False</td>\n      <td>Nótio Aigaío</td>\n      <td>False</td>\n      <td>Dhílos</td>\n      <td>False</td>\n      <td>NULL</td>\n      <td>False</td>\n      <td>L</td>\n      <td>None</td>\n      <td>None</td>\n      <td>NaN</td>\n      <td>NaN</td>\n      <td>25.2661</td>\n      <td>37.4036</td>\n      <td>False</td>\n      <td>POINT (25.26610 37.40360)</td>\n      <td>False</td>\n      <td>58112.0</td>\n      <td>18364.0</td>\n      <td>2290.0</td>\n      <td>medium</td>\n      <td>Delos</td>\n      <td>18364.0</td>\n    </tr>\n    <tr>\n      <th>449360</th>\n      <td>LIST-449361</td>\n      <td>EDCS-28500271</td>\n      <td>HD064154</td>\n      <td>https://www.trismegistos.org/text/178167</td>\n      <td>599588</td>\n      <td>[---]S[---] // [---]T[---] // [---]SA[---] // ...</td>\n      <td>]N[</td>\n      <td>S T SA M G N I DE O K OR CVF</td>\n      <td>S T SA M G N I DE O K OR CVF</td>\n      <td>S T SA M G N I DE O K OR CVF</td>\n      <td>N</td>\n      <td>[ ]S[ ] / / [ ]T[ ] / / [ ]SA[ ] / / [ ]M[ ] /...</td>\n      <td>Achaia</td>\n      <td>Delos / Ortygia</td>\n      <td>None</td>\n      <td>None</td>\n      <td>None</td>\n      <td>None</td>\n      <td>http://db.edcs.eu/epigr/partner.php?s_language...</td>\n      <td>2011-11-18</td>\n      <td>17 cm</td>\n      <td>None</td>\n      <td>no image</td>\n      <td>NaN</td>\n      <td>None</td>\n      <td>\\n S T SA M G N I DE O K OR CVF \\n</td>\n      <td>None</td>\n      <td>NaN</td>\n      <td>1000.0</td>\n      <td>143.0</td>\n      <td>[ ]</td>\n      <td>NULL</td>\n      <td>False</td>\n      <td>NaN</td>\n      <td>NaN</td>\n      <td>NaN</td>\n      <td>NULL</td>\n      <td>NULL</td>\n      <td>False</td>\n      <td>Achaia</td>\n      <td>False</td>\n      <td>Greece</td>\n      <td>False</td>\n      <td>Delos</td>\n      <td>False</td>\n      <td>Nótio Aigaío</td>\n      <td>False</td>\n      <td>Dhílos</td>\n      <td>False</td>\n      <td>NULL</td>\n      <td>False</td>\n      <td>L</td>\n      <td>None</td>\n      <td>None</td>\n      <td>NaN</td>\n      <td>NaN</td>\n      <td>25.2661</td>\n      <td>37.4036</td>\n      <td>False</td>\n      <td>POINT (25.26610 37.40360)</td>\n      <td>False</td>\n      <td>58112.0</td>\n      <td>18364.0</td>\n      <td>2290.0</td>\n      <td>medium</td>\n      <td>Delos</td>\n      <td>18364.0</td>\n    </tr>\n    <tr>\n      <th>449361</th>\n      <td>LIST-449362</td>\n      <td>EDCS-28500272</td>\n      <td>HD064154</td>\n      <td>https://www.trismegistos.org/text/178167</td>\n      <td>599588</td>\n      <td>[---]S[---] // [---]T[---] // [---]SA[---] // ...</td>\n      <td>]I[</td>\n      <td>S T SA M G N I DE O K OR CVF</td>\n      <td>S T SA M G N I DE O K OR CVF</td>\n      <td>S T SA M G N I DE O K OR CVF</td>\n      <td>I</td>\n      <td>[ ]S[ ] / / [ ]T[ ] / / [ ]SA[ ] / / [ ]M[ ] /...</td>\n      <td>Achaia</td>\n      <td>Delos / Ortygia</td>\n      <td>None</td>\n      <td>None</td>\n      <td>None</td>\n      <td>None</td>\n      <td>http://db.edcs.eu/epigr/partner.php?s_language...</td>\n      <td>2011-11-18</td>\n      <td>17 cm</td>\n      <td>None</td>\n      <td>no image</td>\n      <td>NaN</td>\n      <td>None</td>\n      <td>\\n S T SA M G N I DE O K OR CVF \\n</td>\n      <td>None</td>\n      <td>NaN</td>\n      <td>1000.0</td>\n      <td>143.0</td>\n      <td>[ ]</td>\n      <td>NULL</td>\n      <td>False</td>\n      <td>NaN</td>\n      <td>NaN</td>\n      <td>NaN</td>\n      <td>NULL</td>\n      <td>NULL</td>\n      <td>False</td>\n      <td>Achaia</td>\n      <td>False</td>\n      <td>Greece</td>\n      <td>False</td>\n      <td>Delos</td>\n      <td>False</td>\n      <td>Nótio Aigaío</td>\n      <td>False</td>\n      <td>Dhílos</td>\n      <td>False</td>\n      <td>NULL</td>\n      <td>False</td>\n      <td>L</td>\n      <td>None</td>\n      <td>None</td>\n      <td>NaN</td>\n      <td>NaN</td>\n      <td>25.2661</td>\n      <td>37.4036</td>\n      <td>False</td>\n      <td>POINT (25.26610 37.40360)</td>\n      <td>False</td>\n      <td>58112.0</td>\n      <td>18364.0</td>\n      <td>2290.0</td>\n      <td>medium</td>\n      <td>Delos</td>\n      <td>18364.0</td>\n    </tr>\n    <tr>\n      <th>...</th>\n      <td>...</td>\n      <td>...</td>\n      <td>...</td>\n      <td>...</td>\n      <td>...</td>\n      <td>...</td>\n      <td>...</td>\n      <td>...</td>\n      <td>...</td>\n      <td>...</td>\n      <td>...</td>\n      <td>...</td>\n      <td>...</td>\n      <td>...</td>\n      <td>...</td>\n      <td>...</td>\n      <td>...</td>\n      <td>...</td>\n      <td>...</td>\n      <td>...</td>\n      <td>...</td>\n      <td>...</td>\n      <td>...</td>\n      <td>...</td>\n      <td>...</td>\n      <td>...</td>\n      <td>...</td>\n      <td>...</td>\n      <td>...</td>\n      <td>...</td>\n      <td>...</td>\n      <td>...</td>\n      <td>...</td>\n      <td>...</td>\n      <td>...</td>\n      <td>...</td>\n      <td>...</td>\n      <td>...</td>\n      <td>...</td>\n      <td>...</td>\n      <td>...</td>\n      <td>...</td>\n      <td>...</td>\n      <td>...</td>\n      <td>...</td>\n      <td>...</td>\n      <td>...</td>\n      <td>...</td>\n      <td>...</td>\n      <td>...</td>\n      <td>...</td>\n      <td>...</td>\n      <td>...</td>\n      <td>...</td>\n      <td>...</td>\n      <td>...</td>\n      <td>...</td>\n      <td>...</td>\n      <td>...</td>\n      <td>...</td>\n      <td>...</td>\n      <td>...</td>\n      <td>...</td>\n      <td>...</td>\n      <td>...</td>\n      <td>...</td>\n      <td>...</td>\n    </tr>\n    <tr>\n      <th>524948</th>\n      <td>LIST-524949</td>\n      <td>EDCS-05100816</td>\n      <td>HD013243</td>\n      <td>https://www.trismegistos.org/text/285387</td>\n      <td></td>\n      <td>I(ovi) [O(ptimo)] M(aximo) / Novellia[nus] / P...</td>\n      <td>Novelia / Pandarus / I(ovi) O(ptimo) M(aximo) ...</td>\n      <td>I M Novellia Pandarus pro se et suis omnibus a...</td>\n      <td>Iovi Optimo Maximo Novellianus Pandarus pro se...</td>\n      <td>Iovi Optimo Maximo Novellianus Pandarus pro se...</td>\n      <td>Novelia Pandarus Iovi Optimo Maximo votum solv...</td>\n      <td>I [ ] M / NOVELLIA[ ] / PANDARVS / PRO SE ET S...</td>\n      <td>Transpadana / Regio XI</td>\n      <td>Barzano</td>\n      <td>tituli sacri</td>\n      <td>None</td>\n      <td>None</td>\n      <td>tituli sacri</td>\n      <td>http://db.edcs.eu/epigr/partner.php?s_language...</td>\n      <td>1998-01-15</td>\n      <td>5.5 cm</td>\n      <td>votive inscription</td>\n      <td>no image</td>\n      <td>NaN</td>\n      <td>None</td>\n      <td>\\n Iovi Optimo Maximo Novellianus Pandarus pro...</td>\n      <td>29</td>\n      <td>NaN</td>\n      <td>1000.0</td>\n      <td>372.0</td>\n      <td>[ ]</td>\n      <td>votive inscription</td>\n      <td>False</td>\n      <td>100.0</td>\n      <td>55.0</td>\n      <td>50.0</td>\n      <td>NULL</td>\n      <td>altar</td>\n      <td>False</td>\n      <td>Transpadana (Regio XI)</td>\n      <td>False</td>\n      <td>Italy</td>\n      <td>False</td>\n      <td>NULL</td>\n      <td>False</td>\n      <td>NULL</td>\n      <td>False</td>\n      <td>Barzano</td>\n      <td>False</td>\n      <td>S. Salvatore, Kirche</td>\n      <td>False</td>\n      <td>L</td>\n      <td>None</td>\n      <td>201 to 300</td>\n      <td>301.0</td>\n      <td>400.0</td>\n      <td>NaN</td>\n      <td>NaN</td>\n      <td>False</td>\n      <td>None</td>\n      <td>False</td>\n      <td>NaN</td>\n      <td>NaN</td>\n      <td>NaN</td>\n      <td>None</td>\n      <td>None</td>\n      <td>NaN</td>\n    </tr>\n    <tr>\n      <th>525235</th>\n      <td>LIST-525236</td>\n      <td>EDCS-34000235</td>\n      <td>HD003777</td>\n      <td>https://www.trismegistos.org/text/286410</td>\n      <td>413196</td>\n      <td>[---] Caesii [---] / [---] sexviri [------</td>\n      <td>] Caesi[3] / sexviri [</td>\n      <td>Caesii sexviri</td>\n      <td>Caesii sexviri</td>\n      <td>Caesii sexviri</td>\n      <td>Caesi sexviri</td>\n      <td>[ ] CAESII [ ] / [ ] SEXVIRI [</td>\n      <td>Umbria / Regio VI</td>\n      <td>Matelica / Matilica</td>\n      <td>tituli sepulcrales</td>\n      <td>seviri Augustales</td>\n      <td>None</td>\n      <td>seviri Augustales;  tituli sepulcrales</td>\n      <td>http://db.edcs.eu/epigr/partner.php?s_language...</td>\n      <td>2011-09-23</td>\n      <td>None</td>\n      <td>None</td>\n      <td>provisional</td>\n      <td>NaN</td>\n      <td>None</td>\n      <td>\\n Caesii sexviri \\n</td>\n      <td>257</td>\n      <td>NaN</td>\n      <td>1000.0</td>\n      <td>143.0</td>\n      <td>[ ]</td>\n      <td>NULL</td>\n      <td>False</td>\n      <td>NaN</td>\n      <td>NaN</td>\n      <td>NaN</td>\n      <td>NULL</td>\n      <td>tabula</td>\n      <td>False</td>\n      <td>Umbria (Regio VI)</td>\n      <td>False</td>\n      <td>Italy</td>\n      <td>False</td>\n      <td>Matilica</td>\n      <td>False</td>\n      <td>Marche</td>\n      <td>False</td>\n      <td>Matelica</td>\n      <td>False</td>\n      <td>Mauer, sekundär verwendet</td>\n      <td>False</td>\n      <td>L</td>\n      <td>None</td>\n      <td>1 to 100</td>\n      <td>1.0</td>\n      <td>50.0</td>\n      <td>13.0116</td>\n      <td>43.2550</td>\n      <td>True</td>\n      <td>POINT (13.01160 43.25500)</td>\n      <td>True</td>\n      <td>923313.0</td>\n      <td>5782.0</td>\n      <td>1000.0</td>\n      <td>small</td>\n      <td>Matilica</td>\n      <td>1000.0</td>\n    </tr>\n    <tr>\n      <th>525387</th>\n      <td>LIST-525388</td>\n      <td>EDCS-07400269</td>\n      <td>HD000467</td>\n      <td>https://www.trismegistos.org/text/286471</td>\n      <td>413320</td>\n      <td>------] / [---] ut prior occi/[sus? --- me]rit...</td>\n      <td>[3]ut prior occi/[3]ritis namq(ue) / [3]italis...</td>\n      <td>ut prior occiritis namquitalis ut a te gse pri...</td>\n      <td>ut prior occisus meritis nam que Vitalis ut a ...</td>\n      <td>ut prior occisus meritis nam que Vitalis ut a ...</td>\n      <td>ut prior occi ritis nam que italis ut a te g s...</td>\n      <td>] / [ ] VT PRIOR OCCI / [ ]RITIS NAMQV / [ ]IT...</td>\n      <td>Umbria / Regio VI</td>\n      <td>Spoleto / Spoletium</td>\n      <td>inscriptiones christianae</td>\n      <td>None</td>\n      <td>None</td>\n      <td>inscriptiones christianae</td>\n      <td>http://db.edcs.eu/epigr/partner.php?s_language...</td>\n      <td>2018-05-11</td>\n      <td>2-2.5 cm</td>\n      <td>None</td>\n      <td>provisional</td>\n      <td>NaN</td>\n      <td>S. Ponziano, Kirche</td>\n      <td>\\n ut prior occisus meritis namque Vitalis ut ...</td>\n      <td>257</td>\n      <td>48.0</td>\n      <td>1000.0</td>\n      <td>143.0</td>\n      <td>[ { \"persname\": { \"name\": { \"@type\": \"cognomen...</td>\n      <td>NULL</td>\n      <td>False</td>\n      <td>31.0</td>\n      <td>26.0</td>\n      <td>8.0</td>\n      <td>Marble</td>\n      <td>tabula</td>\n      <td>False</td>\n      <td>Umbria (Regio VI)</td>\n      <td>False</td>\n      <td>Italy</td>\n      <td>False</td>\n      <td>Spoletium</td>\n      <td>False</td>\n      <td>Perugia</td>\n      <td>False</td>\n      <td>Spoleto</td>\n      <td>False</td>\n      <td>Kirche San Ponziano</td>\n      <td>False</td>\n      <td>L</td>\n      <td>None</td>\n      <td>None</td>\n      <td>301.0</td>\n      <td>500.0</td>\n      <td>12.7429</td>\n      <td>42.7335</td>\n      <td>True</td>\n      <td>POINT (12.74290 42.73350)</td>\n      <td>True</td>\n      <td>923313.0</td>\n      <td>7376.0</td>\n      <td>2760.0</td>\n      <td>small</td>\n      <td>Spoletium</td>\n      <td>2760.0</td>\n    </tr>\n    <tr>\n      <th>525553</th>\n      <td>LIST-525554</td>\n      <td>EDCS-01300350</td>\n      <td>HD025482</td>\n      <td>https://www.trismegistos.org/text/122919</td>\n      <td>118569</td>\n      <td>Loc(us) / vestiari/orum / in fr(onte) p(edes) ...</td>\n      <td>Loc(us) m(onumenti) / vestiari/orum / in fr(on...</td>\n      <td>Loc vestiariorum in fr p L in agr p LXIV</td>\n      <td>Locus vestiariorum in fronte pedes L in agro p...</td>\n      <td>Locus vestiariorum in fronte pedes L in agro p...</td>\n      <td>Locus monumenti vestiariorum in fronte pedes L...</td>\n      <td>LOC / VESTIARI / ORVM / IN FR P L / IN AGR P LXIV</td>\n      <td>Venetia et Histria / Regio X</td>\n      <td>Aquileia</td>\n      <td>tituli sepulcrales</td>\n      <td>officium/professio, viri</td>\n      <td>None</td>\n      <td>officium/professio;  tituli sepulcrales;  viri</td>\n      <td>http://db.edcs.eu/epigr/partner.php?s_language...</td>\n      <td>1996-05-14</td>\n      <td>None</td>\n      <td>None</td>\n      <td>provisional</td>\n      <td>NaN</td>\n      <td>None</td>\n      <td>\\n Locus vestiariorum in fronte pedes L in agr...</td>\n      <td>None</td>\n      <td>NaN</td>\n      <td>1000.0</td>\n      <td>143.0</td>\n      <td>[ ]</td>\n      <td>NULL</td>\n      <td>False</td>\n      <td>NaN</td>\n      <td>NaN</td>\n      <td>NaN</td>\n      <td>NULL</td>\n      <td>NULL</td>\n      <td>False</td>\n      <td>Venetia et Histria (Regio X)</td>\n      <td>False</td>\n      <td>Italy</td>\n      <td>False</td>\n      <td>Aquileia</td>\n      <td>False</td>\n      <td>Udine</td>\n      <td>False</td>\n      <td>Aquileia</td>\n      <td>False</td>\n      <td>NULL</td>\n      <td>False</td>\n      <td>L</td>\n      <td>None</td>\n      <td>51 to 100</td>\n      <td>NaN</td>\n      <td>NaN</td>\n      <td>10.1535</td>\n      <td>48.6795</td>\n      <td>False</td>\n      <td>POINT (10.15350 48.67950)</td>\n      <td>True</td>\n      <td>39960.0</td>\n      <td>10608.0</td>\n      <td>1000.0</td>\n      <td>rural</td>\n      <td>None</td>\n      <td>NaN</td>\n    </tr>\n    <tr>\n      <th>525642</th>\n      <td>LIST-525643</td>\n      <td>EDCS-09400347</td>\n      <td>HD005807</td>\n      <td>https://www.trismegistos.org/text/123140</td>\n      <td>118569</td>\n      <td>Splendonius et / Hilara cum s/uis f(ecerunt) p...</td>\n      <td>Nonnos[us et] / Sever[i]a[na] / cum su[is] / f...</td>\n      <td>Splendonius et Hilara cum suis f p CC Nonnos S...</td>\n      <td>Splendonius et Hilara cum suis fecerunt pedes ...</td>\n      <td>Splendonius et Hilara cum suis fecerunt pedes ...</td>\n      <td>Nonnosus et Severiana cum suis fecerunt pedes</td>\n      <td>SPLENDONIVS ET / HILARA CVM S / VIS F P CC / /...</td>\n      <td>Venetia et Histria / Regio X</td>\n      <td>Aquileia</td>\n      <td>inscriptiones christianae, tituli operum</td>\n      <td>mulieres, nomen singulare, viri</td>\n      <td>None</td>\n      <td>inscriptiones christianae;  mulieres;  nomen s...</td>\n      <td>http://db.edcs.eu/epigr/partner.php?s_language...</td>\n      <td>2008-03-14</td>\n      <td>None</td>\n      <td>None</td>\n      <td>provisional</td>\n      <td>NaN</td>\n      <td>None</td>\n      <td>\\n Splendonius et Hilara cum suis fecerunt ped...</td>\n      <td>None</td>\n      <td>NaN</td>\n      <td>1000.0</td>\n      <td>143.0</td>\n      <td>[ ]</td>\n      <td>NULL</td>\n      <td>False</td>\n      <td>NaN</td>\n      <td>NaN</td>\n      <td>NaN</td>\n      <td>NULL</td>\n      <td>NULL</td>\n      <td>False</td>\n      <td>Venetia et Histria (Regio X)</td>\n      <td>False</td>\n      <td>Italy</td>\n      <td>False</td>\n      <td>Aquileia</td>\n      <td>False</td>\n      <td>Udine</td>\n      <td>False</td>\n      <td>Aquileia</td>\n      <td>False</td>\n      <td>NULL</td>\n      <td>False</td>\n      <td>L</td>\n      <td>None</td>\n      <td>376 to 425</td>\n      <td>NaN</td>\n      <td>NaN</td>\n      <td>10.1535</td>\n      <td>48.6795</td>\n      <td>False</td>\n      <td>POINT (10.15350 48.67950)</td>\n      <td>True</td>\n      <td>39960.0</td>\n      <td>10608.0</td>\n      <td>1000.0</td>\n      <td>rural</td>\n      <td>None</td>\n      <td>NaN</td>\n    </tr>\n  </tbody>\n</table>\n<p>1367 rows × 67 columns</p>\n</div>"
     },
     "execution_count": 8,
     "metadata": {},
     "output_type": "execute_result"
    }
   ],
   "source": [
    "# dataframe of duplicate rows (i.e. every second instance of the same id\n",
    "LIST[LIST[\"EDH-ID\"].notnull()].loc[LIST.duplicated(subset=\"EDH-ID\"), :]"
   ],
   "metadata": {
    "collapsed": false
   }
  },
  {
   "cell_type": "code",
   "execution_count": 9,
   "outputs": [
    {
     "data": {
      "text/plain": "528484"
     },
     "execution_count": 9,
     "metadata": {},
     "output_type": "execute_result"
    }
   ],
   "source": [
    "# remove the duplicates\n",
    "# (using pandas deduplicated() method)\n",
    "LIST = LIST.loc[~(LIST.duplicated(subset=\"EDH-ID\")) | (LIST[\"EDH-ID\"].isnull())]\n",
    "len(LIST)"
   ],
   "metadata": {
    "collapsed": false
   }
  },
  {
   "cell_type": "code",
   "execution_count": 10,
   "outputs": [
    {
     "data": {
      "text/plain": "76583"
     },
     "execution_count": 10,
     "metadata": {},
     "output_type": "execute_result"
    }
   ],
   "source": [
    "EDH_overlap_all = LIST[(LIST[\"EDH-ID\"].notnull()) & (LIST[\"EDCS-ID\"].notnull())]\n",
    "len(EDH_overlap_all)"
   ],
   "metadata": {
    "collapsed": false
   }
  },
  {
   "cell_type": "code",
   "execution_count": 11,
   "outputs": [
    {
     "data": {
      "text/plain": "3316"
     },
     "execution_count": 11,
     "metadata": {},
     "output_type": "execute_result"
    }
   ],
   "source": [
    "len(LIST[(LIST[\"EDH-ID\"].notnull()) & (LIST[\"EDCS-ID\"].isnull())])"
   ],
   "metadata": {
    "collapsed": false
   }
  },
  {
   "cell_type": "code",
   "execution_count": 16,
   "outputs": [
    {
     "data": {
      "text/plain": "528484"
     },
     "execution_count": 16,
     "metadata": {},
     "output_type": "execute_result"
    }
   ],
   "source": [
    "len(LIST)"
   ],
   "metadata": {
    "collapsed": false
   }
  },
  {
   "cell_type": "code",
   "execution_count": 12,
   "outputs": [
    {
     "data": {
      "text/plain": "448585"
     },
     "execution_count": 12,
     "metadata": {},
     "output_type": "execute_result"
    }
   ],
   "source": [
    "len(LIST[(LIST[\"EDH-ID\"].isnull()) & (LIST[\"EDCS-ID\"].notnull())])"
   ],
   "metadata": {
    "collapsed": false
   }
  },
  {
   "cell_type": "code",
   "execution_count": 13,
   "outputs": [
    {
     "name": "stdout",
     "output_type": "stream",
     "text": [
      "large 156693\n",
      "medium 130890\n",
      "small 81022\n",
      "rural 131425\n"
     ]
    }
   ],
   "source": [
    "contexts = [\"large\", \"medium\", \"small\", \"rural\"]\n",
    "for context in contexts:\n",
    "    print(context, (LIST[\"urban_context\"]==context).sum())"
   ],
   "metadata": {
    "collapsed": false
   }
  },
  {
   "cell_type": "markdown",
   "metadata": {},
   "source": [
    "# Saving the data"
   ]
  },
  {
   "cell_type": "code",
   "execution_count": 15,
   "outputs": [],
   "source": [
    "LIST.to_parquet(\"../data/large_data/LIST_contexts.parquet\")"
   ],
   "metadata": {
    "collapsed": false
   }
  },
  {
   "cell_type": "code",
   "execution_count": null,
   "outputs": [],
   "source": [],
   "metadata": {
    "collapsed": false
   }
  }
 ],
 "metadata": {
  "kernelspec": {
   "name": "lire_venv",
   "language": "python",
   "display_name": "lire_venv"
  },
  "language_info": {
   "codemirror_mode": {
    "name": "ipython",
    "version": 3
   },
   "file_extension": ".py",
   "mimetype": "text/x-python",
   "name": "python",
   "nbconvert_exporter": "python",
   "pygments_lexer": "ipython3",
   "version": "3.6.9"
  }
 },
 "nbformat": 4,
 "nbformat_minor": 4
}
