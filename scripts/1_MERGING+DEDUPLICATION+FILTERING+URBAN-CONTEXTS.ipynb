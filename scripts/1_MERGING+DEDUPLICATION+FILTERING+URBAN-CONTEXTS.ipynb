{
 "cells": [
  {
   "cell_type": "markdown",
   "metadata": {},
   "source": [
    "# Requirements"
   ]
  },
  {
   "cell_type": "code",
   "execution_count": 1,
   "metadata": {
    "ExecuteTime": {
     "start_time": "2023-04-26T18:37:42.566856Z",
     "end_time": "2023-04-26T18:37:43.690731Z"
    }
   },
   "outputs": [],
   "source": [
    "import sddk\n",
    "import pandas as pd\n",
    "import requests\n",
    "pd.options.display.max_columns = 1000 # to see all columns\n",
    "import json\n",
    "import re\n",
    "import nltk\n",
    "import warnings\n",
    "import pickle\n",
    "from functools import partial\n",
    "warnings.filterwarnings('ignore')\n",
    "import numpy as np\n",
    "import matplotlib.pyplot as plt\n",
    "import math\n",
    "import sys\n",
    "sys.setrecursionlimit(1000000)\n",
    "from bs4 import BeautifulSoup"
   ]
  },
  {
   "cell_type": "code",
   "execution_count": 179,
   "outputs": [],
   "source": [
    "import pyproj\n",
    "from shapely.ops import transform\n",
    "from shapely.geometry import Point\n",
    "import geopandas as gpd\n",
    "from scipy.spatial import cKDTree\n",
    "#import geoplot as gplt\n",
    "from pyproj import Geod\n",
    "from shapely.geometry import LineString\n",
    "from shapely.geometry.multipolygon import MultiPolygon\n"
   ],
   "metadata": {
    "collapsed": false,
    "ExecuteTime": {
     "start_time": "2023-04-26T19:07:39.386085Z",
     "end_time": "2023-04-26T19:07:39.435967Z"
    }
   }
  },
  {
   "cell_type": "markdown",
   "metadata": {},
   "source": [
    "# Import datasets"
   ]
  },
  {
   "cell_type": "code",
   "execution_count": 3,
   "metadata": {
    "ExecuteTime": {
     "start_time": "2023-04-26T18:37:43.694145Z",
     "end_time": "2023-04-26T18:37:46.977957Z"
    }
   },
   "outputs": [],
   "source": [
    "# read edh dataset\n",
    "try: #\n",
    "    EDH = pd.read_json(\"../../EDH_ETL/data/large_data/EDH_text_cleaned_2023-04-26.json\") # or replace by your own local path to the latest version of EDH\n",
    "except:\n",
    "    publicfolder = \"b6b6afdb969d378b70929e86e58ad975\"\n",
    "    EDH = sddk.read_file(\"EDH_text_cleaned_2023-04-26.json\", \"df\", publicfolder)"
   ]
  },
  {
   "cell_type": "code",
   "execution_count": 4,
   "outputs": [
    {
     "data": {
      "text/plain": "(81883, 69)"
     },
     "execution_count": 4,
     "metadata": {},
     "output_type": "execute_result"
    }
   ],
   "source": [
    "EDH.shape # previously we had (81476, 74)"
   ],
   "metadata": {
    "collapsed": false,
    "ExecuteTime": {
     "start_time": "2023-04-26T18:37:46.976851Z",
     "end_time": "2023-04-26T18:37:46.979170Z"
    }
   }
  },
  {
   "cell_type": "code",
   "execution_count": 5,
   "outputs": [
    {
     "data": {
      "text/plain": "      not_before not_after\n0             71       130\n1             51       200\n2            131       170\n3            151       200\n4              1       200\n...          ...       ...\n81878        101       200\n81879          1       300\n81880          1       300\n81881        151       250\n81882        151       250\n\n[81883 rows x 2 columns]",
      "text/html": "<div>\n<style scoped>\n    .dataframe tbody tr th:only-of-type {\n        vertical-align: middle;\n    }\n\n    .dataframe tbody tr th {\n        vertical-align: top;\n    }\n\n    .dataframe thead th {\n        text-align: right;\n    }\n</style>\n<table border=\"1\" class=\"dataframe\">\n  <thead>\n    <tr style=\"text-align: right;\">\n      <th></th>\n      <th>not_before</th>\n      <th>not_after</th>\n    </tr>\n  </thead>\n  <tbody>\n    <tr>\n      <th>0</th>\n      <td>71</td>\n      <td>130</td>\n    </tr>\n    <tr>\n      <th>1</th>\n      <td>51</td>\n      <td>200</td>\n    </tr>\n    <tr>\n      <th>2</th>\n      <td>131</td>\n      <td>170</td>\n    </tr>\n    <tr>\n      <th>3</th>\n      <td>151</td>\n      <td>200</td>\n    </tr>\n    <tr>\n      <th>4</th>\n      <td>1</td>\n      <td>200</td>\n    </tr>\n    <tr>\n      <th>...</th>\n      <td>...</td>\n      <td>...</td>\n    </tr>\n    <tr>\n      <th>81878</th>\n      <td>101</td>\n      <td>200</td>\n    </tr>\n    <tr>\n      <th>81879</th>\n      <td>1</td>\n      <td>300</td>\n    </tr>\n    <tr>\n      <th>81880</th>\n      <td>1</td>\n      <td>300</td>\n    </tr>\n    <tr>\n      <th>81881</th>\n      <td>151</td>\n      <td>250</td>\n    </tr>\n    <tr>\n      <th>81882</th>\n      <td>151</td>\n      <td>250</td>\n    </tr>\n  </tbody>\n</table>\n<p>81883 rows × 2 columns</p>\n</div>"
     },
     "execution_count": 5,
     "metadata": {},
     "output_type": "execute_result"
    }
   ],
   "source": [
    "EDH[[\"not_before\", \"not_after\"]]"
   ],
   "metadata": {
    "collapsed": false,
    "ExecuteTime": {
     "start_time": "2023-04-26T18:37:46.981347Z",
     "end_time": "2023-04-26T18:37:46.992056Z"
    }
   }
  },
  {
   "cell_type": "code",
   "execution_count": 6,
   "metadata": {
    "ExecuteTime": {
     "start_time": "2023-04-26T18:37:46.990454Z",
     "end_time": "2023-04-26T18:37:56.199453Z"
    }
   },
   "outputs": [],
   "source": [
    "# read edcs dataset\n",
    "try:\n",
    "    EDCS = pd.read_json(\"../data/large_data/EDCS_text_cleaned_2022-09-12.json\") # or replace by your own local path to the latest version of EDCS\n",
    "except:\n",
    "    publicfolder = \"1f5f56d09903fe259c0906add8b3a55e\"\n",
    "    EDCS = sddk.read_file(\"EDCS_text_cleaned_2022-09-12.json\", \"df\", publicfolder)\n",
    "    EDCS.to_json(\"../data/large_data/EDCS_text_cleaned_2022-09-12.json\")"
   ]
  },
  {
   "cell_type": "code",
   "execution_count": 7,
   "outputs": [
    {
     "data": {
      "text/plain": "(537262, 27)"
     },
     "execution_count": 7,
     "metadata": {},
     "output_type": "execute_result"
    }
   ],
   "source": [
    "EDCS.shape"
   ],
   "metadata": {
    "collapsed": false,
    "ExecuteTime": {
     "start_time": "2023-04-26T18:37:56.199072Z",
     "end_time": "2023-04-26T18:37:56.204786Z"
    }
   }
  },
  {
   "cell_type": "code",
   "execution_count": 8,
   "outputs": [
    {
     "data": {
      "text/plain": "         EDCS-ID                                        publication province  \\\n0  EDCS-31400030                                      CIL 03, 12297   Achaia   \n1  EDCS-24700151  CIL 01, 02650 (p 1097) = IG-05-01, 00741 = ILL...   Achaia   \n2  EDCS-24900077  CIL 01, 00746 (p 944) = D 00867 = ILLRP 00374 ...   Achaia   \n3  EDCS-03700724  ZPE-108-159 = Thesprotia 00001 = AE 1993, 0140...   Achaia   \n4  EDCS-55701593                                    AE 2009, 01286a   Achaia   \n\n                           place  \\\n0                              ?   \n1                         Afesou   \n2  Agia Triada / Merbaka / Midea   \n3     Agios Athanasios / Photike   \n4        Agios Donatos / Photike   \n\n                                         inscription  \\\n0                                              Leius   \n1  Δέκιος Λείβιος (Ζ)εῦξις // D(ecimi) Leivei D(e...   \n2  Q(uinto) Caecilio C(ai) f(ilio) Metel(l)o / im...   \n3  Fortissimo et Piis/simo Caesari d(omino) n(ost...   \n4                                  Cn(aeus) Atei(us)   \n\n                   inscription_conservative_cleaning  \\\n0                                              Leius   \n1       Δέκιος Λείβιος εῦξις D Leivei D Leivei salve   \n2  Q Caecilio C f Metelo imperatori Italici quei ...   \n3  Fortissimo et Piissimo Caesari d n Gal Val P F...   \n4                                            Cn Atei   \n\n                   inscription_interpretive_cleaning            inscr_type  \\\n0                                              Leius                    {}   \n1  Δέκιος Λείβιος Ζεῦξις Decimi Leivei Decimi Lei...    tituli sepulcrales   \n2  Quinto Caecilio Cai filio Metello imperatori I...      tituli honorarii   \n3  Fortissimo et Piissimo Caesari domino nostro G...      tituli honorarii   \n4                                      Cnaeus Ateius  tituli fabricationis   \n\n                                     status_notation     inscr_process  \\\n0                                                 {}                {}   \n1                         [praenomen et nomen, viri]                {}   \n2  [officium/professio, ordo senatorius, tria nom...                {}   \n3     [Augusti/Augustae, ordo equester, tria nomina]   litterae erasae   \n4                         [praenomen et nomen, viri]  sigilla impressa   \n\n                             clean_text_conservative  \\\n0                                              Leius   \n1       Δέκιος Λείβιος εῦξις D Leivei D Leivei salve   \n2  Q Caecilio C f Metelo imperatori Italici quei ...   \n3  Fortissimo et Piissimo Caesari d n Gal Val P F...   \n4                                            Cn Atei   \n\n                        clean_text_interpretive_word  \\\n0                                              Leius   \n1  Δέκιος Λείβιος Ζεῦξις Decimi Leivei Decimi Lei...   \n2  Quinto Caecilio Cai filio Metello imperatori I...   \n3  Fortissimo et Piissimo Caesari domino nostro G...   \n4                                      Cnaeus Ateius   \n\n                                              status       material  \\\n0                                               None           None   \n1     praenomen et nomen;  tituli sepulcrales;  viri          lapis   \n2  officium/professio;  ordo senatorius;  tituli ...           None   \n3  Augusti/Augustae;  litterae erasae;  ordo eque...           None   \n4  praenomen et nomen;  sigilla impressa;  tituli...  opus figlinae   \n\n                                        partner_link  dating_from  dating_to  \\\n0                                               None          NaN        NaN   \n1  http://db.edcs.eu/epigr/partner.php?s_language...          NaN        NaN   \n2  http://db.edcs.eu/epigr/partner.php?s_language...        -68.0      -68.0   \n3  http://db.edcs.eu/epigr/partner.php?s_language...        309.0      313.0   \n4                                               None          NaN        NaN   \n\n   date_not_before  date_not_after   latitude  longitude  \\\n0              NaN             NaN        NaN        NaN   \n1              NaN             NaN        NaN        NaN   \n2            -68.0           -68.0  37.638113  22.805299   \n3            309.0           313.0  39.451218  20.766767   \n4              NaN             NaN  39.475976  20.506908   \n\n                                               photo  raw_dating language  \\\n0                                               None        None     None   \n1                                               None        None     None   \n2  http://db.edcs.eu/epigr/bilder.php?bilder.php?...  -68 to -68     None   \n3  http://db.edcs.eu/epigr/bilder.php?bilder.php?...  309 to 313     None   \n4                                               None        None     None   \n\n  comment extra_text extra_html  \n0    None       None       None  \n1    None       None       None  \n2    None       None       None  \n3    None       None       None  \n4    None       None       None  ",
      "text/html": "<div>\n<style scoped>\n    .dataframe tbody tr th:only-of-type {\n        vertical-align: middle;\n    }\n\n    .dataframe tbody tr th {\n        vertical-align: top;\n    }\n\n    .dataframe thead th {\n        text-align: right;\n    }\n</style>\n<table border=\"1\" class=\"dataframe\">\n  <thead>\n    <tr style=\"text-align: right;\">\n      <th></th>\n      <th>EDCS-ID</th>\n      <th>publication</th>\n      <th>province</th>\n      <th>place</th>\n      <th>inscription</th>\n      <th>inscription_conservative_cleaning</th>\n      <th>inscription_interpretive_cleaning</th>\n      <th>inscr_type</th>\n      <th>status_notation</th>\n      <th>inscr_process</th>\n      <th>clean_text_conservative</th>\n      <th>clean_text_interpretive_word</th>\n      <th>status</th>\n      <th>material</th>\n      <th>partner_link</th>\n      <th>dating_from</th>\n      <th>dating_to</th>\n      <th>date_not_before</th>\n      <th>date_not_after</th>\n      <th>latitude</th>\n      <th>longitude</th>\n      <th>photo</th>\n      <th>raw_dating</th>\n      <th>language</th>\n      <th>comment</th>\n      <th>extra_text</th>\n      <th>extra_html</th>\n    </tr>\n  </thead>\n  <tbody>\n    <tr>\n      <th>0</th>\n      <td>EDCS-31400030</td>\n      <td>CIL 03, 12297</td>\n      <td>Achaia</td>\n      <td>?</td>\n      <td>Leius</td>\n      <td>Leius</td>\n      <td>Leius</td>\n      <td>{}</td>\n      <td>{}</td>\n      <td>{}</td>\n      <td>Leius</td>\n      <td>Leius</td>\n      <td>None</td>\n      <td>None</td>\n      <td>None</td>\n      <td>NaN</td>\n      <td>NaN</td>\n      <td>NaN</td>\n      <td>NaN</td>\n      <td>NaN</td>\n      <td>NaN</td>\n      <td>None</td>\n      <td>None</td>\n      <td>None</td>\n      <td>None</td>\n      <td>None</td>\n      <td>None</td>\n    </tr>\n    <tr>\n      <th>1</th>\n      <td>EDCS-24700151</td>\n      <td>CIL 01, 02650 (p 1097) = IG-05-01, 00741 = ILL...</td>\n      <td>Achaia</td>\n      <td>Afesou</td>\n      <td>Δέκιος Λείβιος (Ζ)εῦξις // D(ecimi) Leivei D(e...</td>\n      <td>Δέκιος Λείβιος εῦξις D Leivei D Leivei salve</td>\n      <td>Δέκιος Λείβιος Ζεῦξις Decimi Leivei Decimi Lei...</td>\n      <td>tituli sepulcrales</td>\n      <td>[praenomen et nomen, viri]</td>\n      <td>{}</td>\n      <td>Δέκιος Λείβιος εῦξις D Leivei D Leivei salve</td>\n      <td>Δέκιος Λείβιος Ζεῦξις Decimi Leivei Decimi Lei...</td>\n      <td>praenomen et nomen;  tituli sepulcrales;  viri</td>\n      <td>lapis</td>\n      <td>http://db.edcs.eu/epigr/partner.php?s_language...</td>\n      <td>NaN</td>\n      <td>NaN</td>\n      <td>NaN</td>\n      <td>NaN</td>\n      <td>NaN</td>\n      <td>NaN</td>\n      <td>None</td>\n      <td>None</td>\n      <td>None</td>\n      <td>None</td>\n      <td>None</td>\n      <td>None</td>\n    </tr>\n    <tr>\n      <th>2</th>\n      <td>EDCS-24900077</td>\n      <td>CIL 01, 00746 (p 944) = D 00867 = ILLRP 00374 ...</td>\n      <td>Achaia</td>\n      <td>Agia Triada / Merbaka / Midea</td>\n      <td>Q(uinto) Caecilio C(ai) f(ilio) Metel(l)o / im...</td>\n      <td>Q Caecilio C f Metelo imperatori Italici quei ...</td>\n      <td>Quinto Caecilio Cai filio Metello imperatori I...</td>\n      <td>tituli honorarii</td>\n      <td>[officium/professio, ordo senatorius, tria nom...</td>\n      <td>{}</td>\n      <td>Q Caecilio C f Metelo imperatori Italici quei ...</td>\n      <td>Quinto Caecilio Cai filio Metello imperatori I...</td>\n      <td>officium/professio;  ordo senatorius;  tituli ...</td>\n      <td>None</td>\n      <td>http://db.edcs.eu/epigr/partner.php?s_language...</td>\n      <td>-68.0</td>\n      <td>-68.0</td>\n      <td>-68.0</td>\n      <td>-68.0</td>\n      <td>37.638113</td>\n      <td>22.805299</td>\n      <td>http://db.edcs.eu/epigr/bilder.php?bilder.php?...</td>\n      <td>-68 to -68</td>\n      <td>None</td>\n      <td>None</td>\n      <td>None</td>\n      <td>None</td>\n    </tr>\n    <tr>\n      <th>3</th>\n      <td>EDCS-03700724</td>\n      <td>ZPE-108-159 = Thesprotia 00001 = AE 1993, 0140...</td>\n      <td>Achaia</td>\n      <td>Agios Athanasios / Photike</td>\n      <td>Fortissimo et Piis/simo Caesari d(omino) n(ost...</td>\n      <td>Fortissimo et Piissimo Caesari d n Gal Val P F...</td>\n      <td>Fortissimo et Piissimo Caesari domino nostro G...</td>\n      <td>tituli honorarii</td>\n      <td>[Augusti/Augustae, ordo equester, tria nomina]</td>\n      <td>litterae erasae</td>\n      <td>Fortissimo et Piissimo Caesari d n Gal Val P F...</td>\n      <td>Fortissimo et Piissimo Caesari domino nostro G...</td>\n      <td>Augusti/Augustae;  litterae erasae;  ordo eque...</td>\n      <td>None</td>\n      <td>http://db.edcs.eu/epigr/partner.php?s_language...</td>\n      <td>309.0</td>\n      <td>313.0</td>\n      <td>309.0</td>\n      <td>313.0</td>\n      <td>39.451218</td>\n      <td>20.766767</td>\n      <td>http://db.edcs.eu/epigr/bilder.php?bilder.php?...</td>\n      <td>309 to 313</td>\n      <td>None</td>\n      <td>None</td>\n      <td>None</td>\n      <td>None</td>\n    </tr>\n    <tr>\n      <th>4</th>\n      <td>EDCS-55701593</td>\n      <td>AE 2009, 01286a</td>\n      <td>Achaia</td>\n      <td>Agios Donatos / Photike</td>\n      <td>Cn(aeus) Atei(us)</td>\n      <td>Cn Atei</td>\n      <td>Cnaeus Ateius</td>\n      <td>tituli fabricationis</td>\n      <td>[praenomen et nomen, viri]</td>\n      <td>sigilla impressa</td>\n      <td>Cn Atei</td>\n      <td>Cnaeus Ateius</td>\n      <td>praenomen et nomen;  sigilla impressa;  tituli...</td>\n      <td>opus figlinae</td>\n      <td>None</td>\n      <td>NaN</td>\n      <td>NaN</td>\n      <td>NaN</td>\n      <td>NaN</td>\n      <td>39.475976</td>\n      <td>20.506908</td>\n      <td>None</td>\n      <td>None</td>\n      <td>None</td>\n      <td>None</td>\n      <td>None</td>\n      <td>None</td>\n    </tr>\n  </tbody>\n</table>\n</div>"
     },
     "execution_count": 8,
     "metadata": {},
     "output_type": "execute_result"
    }
   ],
   "source": [
    "EDCS.head()"
   ],
   "metadata": {
    "collapsed": false,
    "ExecuteTime": {
     "start_time": "2023-04-26T18:37:56.208526Z",
     "end_time": "2023-04-26T18:37:56.219528Z"
    }
   }
  },
  {
   "cell_type": "code",
   "execution_count": 9,
   "outputs": [],
   "source": [
    "# replace empty dicts and Nones by np.non\n",
    "def clean_empty(el):\n",
    "    if isinstance(el,dict):\n",
    "        if ~bool(el):\n",
    "            el = np.nan\n",
    "    elif el == None: #(el == np.nan) | (el == math.nan) | (str(el)==\"NaN\"):\n",
    "        el = np.nan\n",
    "    else:\n",
    "        el = el\n",
    "    return el\n",
    "for col in EDCS.columns:\n",
    "    clean_col = EDCS[col].apply(clean_empty)\n",
    "    EDCS[col] = clean_col\n",
    "\n",
    "for col in EDH.columns:\n",
    "    clean_col = EDH[col].apply(clean_empty)\n",
    "    EDH[col] = clean_col"
   ],
   "metadata": {
    "collapsed": false,
    "ExecuteTime": {
     "start_time": "2023-04-26T18:37:56.212800Z",
     "end_time": "2023-04-26T18:38:05.788814Z"
    }
   }
  },
  {
   "cell_type": "code",
   "execution_count": 10,
   "outputs": [
    {
     "data": {
      "text/plain": "         EDCS-ID                                        publication province  \\\n0  EDCS-31400030                                      CIL 03, 12297   Achaia   \n1  EDCS-24700151  CIL 01, 02650 (p 1097) = IG-05-01, 00741 = ILL...   Achaia   \n2  EDCS-24900077  CIL 01, 00746 (p 944) = D 00867 = ILLRP 00374 ...   Achaia   \n3  EDCS-03700724  ZPE-108-159 = Thesprotia 00001 = AE 1993, 0140...   Achaia   \n4  EDCS-55701593                                    AE 2009, 01286a   Achaia   \n\n                           place  \\\n0                              ?   \n1                         Afesou   \n2  Agia Triada / Merbaka / Midea   \n3     Agios Athanasios / Photike   \n4        Agios Donatos / Photike   \n\n                                         inscription  \\\n0                                              Leius   \n1  Δέκιος Λείβιος (Ζ)εῦξις // D(ecimi) Leivei D(e...   \n2  Q(uinto) Caecilio C(ai) f(ilio) Metel(l)o / im...   \n3  Fortissimo et Piis/simo Caesari d(omino) n(ost...   \n4                                  Cn(aeus) Atei(us)   \n\n                   inscription_conservative_cleaning  \\\n0                                              Leius   \n1       Δέκιος Λείβιος εῦξις D Leivei D Leivei salve   \n2  Q Caecilio C f Metelo imperatori Italici quei ...   \n3  Fortissimo et Piissimo Caesari d n Gal Val P F...   \n4                                            Cn Atei   \n\n                   inscription_interpretive_cleaning            inscr_type  \\\n0                                              Leius                   NaN   \n1  Δέκιος Λείβιος Ζεῦξις Decimi Leivei Decimi Lei...    tituli sepulcrales   \n2  Quinto Caecilio Cai filio Metello imperatori I...      tituli honorarii   \n3  Fortissimo et Piissimo Caesari domino nostro G...      tituli honorarii   \n4                                      Cnaeus Ateius  tituli fabricationis   \n\n                                     status_notation     inscr_process  \\\n0                                                NaN               NaN   \n1                         [praenomen et nomen, viri]               NaN   \n2  [officium/professio, ordo senatorius, tria nom...               NaN   \n3     [Augusti/Augustae, ordo equester, tria nomina]   litterae erasae   \n4                         [praenomen et nomen, viri]  sigilla impressa   \n\n                             clean_text_conservative  \\\n0                                              Leius   \n1       Δέκιος Λείβιος εῦξις D Leivei D Leivei salve   \n2  Q Caecilio C f Metelo imperatori Italici quei ...   \n3  Fortissimo et Piissimo Caesari d n Gal Val P F...   \n4                                            Cn Atei   \n\n                        clean_text_interpretive_word  \\\n0                                              Leius   \n1  Δέκιος Λείβιος Ζεῦξις Decimi Leivei Decimi Lei...   \n2  Quinto Caecilio Cai filio Metello imperatori I...   \n3  Fortissimo et Piissimo Caesari domino nostro G...   \n4                                      Cnaeus Ateius   \n\n                                              status       material  \\\n0                                                NaN            NaN   \n1     praenomen et nomen;  tituli sepulcrales;  viri          lapis   \n2  officium/professio;  ordo senatorius;  tituli ...            NaN   \n3  Augusti/Augustae;  litterae erasae;  ordo eque...            NaN   \n4  praenomen et nomen;  sigilla impressa;  tituli...  opus figlinae   \n\n                                        partner_link  dating_from  dating_to  \\\n0                                                NaN          NaN        NaN   \n1  http://db.edcs.eu/epigr/partner.php?s_language...          NaN        NaN   \n2  http://db.edcs.eu/epigr/partner.php?s_language...        -68.0      -68.0   \n3  http://db.edcs.eu/epigr/partner.php?s_language...        309.0      313.0   \n4                                                NaN          NaN        NaN   \n\n   date_not_before  date_not_after   latitude  longitude  \\\n0              NaN             NaN        NaN        NaN   \n1              NaN             NaN        NaN        NaN   \n2            -68.0           -68.0  37.638113  22.805299   \n3            309.0           313.0  39.451218  20.766767   \n4              NaN             NaN  39.475976  20.506908   \n\n                                               photo  raw_dating language  \\\n0                                                NaN         NaN      NaN   \n1                                                NaN         NaN      NaN   \n2  http://db.edcs.eu/epigr/bilder.php?bilder.php?...  -68 to -68      NaN   \n3  http://db.edcs.eu/epigr/bilder.php?bilder.php?...  309 to 313      NaN   \n4                                                NaN         NaN      NaN   \n\n  comment extra_text extra_html  \n0     NaN        NaN        NaN  \n1     NaN        NaN        NaN  \n2     NaN        NaN        NaN  \n3     NaN        NaN        NaN  \n4     NaN        NaN        NaN  ",
      "text/html": "<div>\n<style scoped>\n    .dataframe tbody tr th:only-of-type {\n        vertical-align: middle;\n    }\n\n    .dataframe tbody tr th {\n        vertical-align: top;\n    }\n\n    .dataframe thead th {\n        text-align: right;\n    }\n</style>\n<table border=\"1\" class=\"dataframe\">\n  <thead>\n    <tr style=\"text-align: right;\">\n      <th></th>\n      <th>EDCS-ID</th>\n      <th>publication</th>\n      <th>province</th>\n      <th>place</th>\n      <th>inscription</th>\n      <th>inscription_conservative_cleaning</th>\n      <th>inscription_interpretive_cleaning</th>\n      <th>inscr_type</th>\n      <th>status_notation</th>\n      <th>inscr_process</th>\n      <th>clean_text_conservative</th>\n      <th>clean_text_interpretive_word</th>\n      <th>status</th>\n      <th>material</th>\n      <th>partner_link</th>\n      <th>dating_from</th>\n      <th>dating_to</th>\n      <th>date_not_before</th>\n      <th>date_not_after</th>\n      <th>latitude</th>\n      <th>longitude</th>\n      <th>photo</th>\n      <th>raw_dating</th>\n      <th>language</th>\n      <th>comment</th>\n      <th>extra_text</th>\n      <th>extra_html</th>\n    </tr>\n  </thead>\n  <tbody>\n    <tr>\n      <th>0</th>\n      <td>EDCS-31400030</td>\n      <td>CIL 03, 12297</td>\n      <td>Achaia</td>\n      <td>?</td>\n      <td>Leius</td>\n      <td>Leius</td>\n      <td>Leius</td>\n      <td>NaN</td>\n      <td>NaN</td>\n      <td>NaN</td>\n      <td>Leius</td>\n      <td>Leius</td>\n      <td>NaN</td>\n      <td>NaN</td>\n      <td>NaN</td>\n      <td>NaN</td>\n      <td>NaN</td>\n      <td>NaN</td>\n      <td>NaN</td>\n      <td>NaN</td>\n      <td>NaN</td>\n      <td>NaN</td>\n      <td>NaN</td>\n      <td>NaN</td>\n      <td>NaN</td>\n      <td>NaN</td>\n      <td>NaN</td>\n    </tr>\n    <tr>\n      <th>1</th>\n      <td>EDCS-24700151</td>\n      <td>CIL 01, 02650 (p 1097) = IG-05-01, 00741 = ILL...</td>\n      <td>Achaia</td>\n      <td>Afesou</td>\n      <td>Δέκιος Λείβιος (Ζ)εῦξις // D(ecimi) Leivei D(e...</td>\n      <td>Δέκιος Λείβιος εῦξις D Leivei D Leivei salve</td>\n      <td>Δέκιος Λείβιος Ζεῦξις Decimi Leivei Decimi Lei...</td>\n      <td>tituli sepulcrales</td>\n      <td>[praenomen et nomen, viri]</td>\n      <td>NaN</td>\n      <td>Δέκιος Λείβιος εῦξις D Leivei D Leivei salve</td>\n      <td>Δέκιος Λείβιος Ζεῦξις Decimi Leivei Decimi Lei...</td>\n      <td>praenomen et nomen;  tituli sepulcrales;  viri</td>\n      <td>lapis</td>\n      <td>http://db.edcs.eu/epigr/partner.php?s_language...</td>\n      <td>NaN</td>\n      <td>NaN</td>\n      <td>NaN</td>\n      <td>NaN</td>\n      <td>NaN</td>\n      <td>NaN</td>\n      <td>NaN</td>\n      <td>NaN</td>\n      <td>NaN</td>\n      <td>NaN</td>\n      <td>NaN</td>\n      <td>NaN</td>\n    </tr>\n    <tr>\n      <th>2</th>\n      <td>EDCS-24900077</td>\n      <td>CIL 01, 00746 (p 944) = D 00867 = ILLRP 00374 ...</td>\n      <td>Achaia</td>\n      <td>Agia Triada / Merbaka / Midea</td>\n      <td>Q(uinto) Caecilio C(ai) f(ilio) Metel(l)o / im...</td>\n      <td>Q Caecilio C f Metelo imperatori Italici quei ...</td>\n      <td>Quinto Caecilio Cai filio Metello imperatori I...</td>\n      <td>tituli honorarii</td>\n      <td>[officium/professio, ordo senatorius, tria nom...</td>\n      <td>NaN</td>\n      <td>Q Caecilio C f Metelo imperatori Italici quei ...</td>\n      <td>Quinto Caecilio Cai filio Metello imperatori I...</td>\n      <td>officium/professio;  ordo senatorius;  tituli ...</td>\n      <td>NaN</td>\n      <td>http://db.edcs.eu/epigr/partner.php?s_language...</td>\n      <td>-68.0</td>\n      <td>-68.0</td>\n      <td>-68.0</td>\n      <td>-68.0</td>\n      <td>37.638113</td>\n      <td>22.805299</td>\n      <td>http://db.edcs.eu/epigr/bilder.php?bilder.php?...</td>\n      <td>-68 to -68</td>\n      <td>NaN</td>\n      <td>NaN</td>\n      <td>NaN</td>\n      <td>NaN</td>\n    </tr>\n    <tr>\n      <th>3</th>\n      <td>EDCS-03700724</td>\n      <td>ZPE-108-159 = Thesprotia 00001 = AE 1993, 0140...</td>\n      <td>Achaia</td>\n      <td>Agios Athanasios / Photike</td>\n      <td>Fortissimo et Piis/simo Caesari d(omino) n(ost...</td>\n      <td>Fortissimo et Piissimo Caesari d n Gal Val P F...</td>\n      <td>Fortissimo et Piissimo Caesari domino nostro G...</td>\n      <td>tituli honorarii</td>\n      <td>[Augusti/Augustae, ordo equester, tria nomina]</td>\n      <td>litterae erasae</td>\n      <td>Fortissimo et Piissimo Caesari d n Gal Val P F...</td>\n      <td>Fortissimo et Piissimo Caesari domino nostro G...</td>\n      <td>Augusti/Augustae;  litterae erasae;  ordo eque...</td>\n      <td>NaN</td>\n      <td>http://db.edcs.eu/epigr/partner.php?s_language...</td>\n      <td>309.0</td>\n      <td>313.0</td>\n      <td>309.0</td>\n      <td>313.0</td>\n      <td>39.451218</td>\n      <td>20.766767</td>\n      <td>http://db.edcs.eu/epigr/bilder.php?bilder.php?...</td>\n      <td>309 to 313</td>\n      <td>NaN</td>\n      <td>NaN</td>\n      <td>NaN</td>\n      <td>NaN</td>\n    </tr>\n    <tr>\n      <th>4</th>\n      <td>EDCS-55701593</td>\n      <td>AE 2009, 01286a</td>\n      <td>Achaia</td>\n      <td>Agios Donatos / Photike</td>\n      <td>Cn(aeus) Atei(us)</td>\n      <td>Cn Atei</td>\n      <td>Cnaeus Ateius</td>\n      <td>tituli fabricationis</td>\n      <td>[praenomen et nomen, viri]</td>\n      <td>sigilla impressa</td>\n      <td>Cn Atei</td>\n      <td>Cnaeus Ateius</td>\n      <td>praenomen et nomen;  sigilla impressa;  tituli...</td>\n      <td>opus figlinae</td>\n      <td>NaN</td>\n      <td>NaN</td>\n      <td>NaN</td>\n      <td>NaN</td>\n      <td>NaN</td>\n      <td>39.475976</td>\n      <td>20.506908</td>\n      <td>NaN</td>\n      <td>NaN</td>\n      <td>NaN</td>\n      <td>NaN</td>\n      <td>NaN</td>\n      <td>NaN</td>\n    </tr>\n  </tbody>\n</table>\n</div>"
     },
     "execution_count": 10,
     "metadata": {},
     "output_type": "execute_result"
    }
   ],
   "source": [
    "EDCS.head(5)"
   ],
   "metadata": {
    "collapsed": false,
    "ExecuteTime": {
     "start_time": "2023-04-26T18:38:05.794786Z",
     "end_time": "2023-04-26T18:38:05.799725Z"
    }
   }
  },
  {
   "cell_type": "code",
   "execution_count": 11,
   "metadata": {
    "ExecuteTime": {
     "start_time": "2023-04-26T18:38:05.797990Z",
     "end_time": "2023-04-26T18:38:05.799952Z"
    }
   },
   "outputs": [
    {
     "name": "stdout",
     "output_type": "stream",
     "text": [
      "81883\n",
      "537262\n"
     ]
    }
   ],
   "source": [
    "# length of the original dataset\n",
    "print(len(EDH))\n",
    "print(len(EDCS))"
   ]
  },
  {
   "cell_type": "code",
   "execution_count": 12,
   "outputs": [],
   "source": [
    "EDCS.rename(columns={\"longitude\": \"Longitude\", \"latitude\": \"Latitude\"}, inplace=True)"
   ],
   "metadata": {
    "collapsed": false,
    "ExecuteTime": {
     "start_time": "2023-04-26T18:38:05.802975Z",
     "end_time": "2023-04-26T18:38:05.804406Z"
    }
   }
  },
  {
   "cell_type": "code",
   "execution_count": 13,
   "metadata": {
    "ExecuteTime": {
     "start_time": "2023-04-26T18:38:05.805413Z",
     "end_time": "2023-04-26T18:38:06.213233Z"
    }
   },
   "outputs": [
    {
     "data": {
      "text/plain": "523136"
     },
     "execution_count": 13,
     "metadata": {},
     "output_type": "execute_result"
    }
   ],
   "source": [
    "len(EDCS[EDCS[\"Longitude\"].notnull()])"
   ]
  },
  {
   "cell_type": "code",
   "execution_count": 14,
   "outputs": [
    {
     "data": {
      "text/plain": "              EDCS-ID                                        publication  \\\n325846  EDCS-28000759                                  CIL 03, 06008,53g   \n137761  EDCS-47800752  CIL 03, 09668 = CIL 03, 12841a = ILCV +00829 =...   \n501311  EDCS-28300473  SRD 00963 = Carletti-2008, 00195 = AE 2002, 00...   \n64241   EDCS-46700029                                      CAG-18, p 309   \n324429  EDCS-14500980  CIL 03, 05691 (p 1846) = IBR 00441 = ILLPRON 0...   \n\n            province                                          place  \\\n325846       Noricum                             Salzburg / Iuvavum   \n137761      Dalmatia                                 Solin / Salona   \n501311      Sardinia  Posthudorra / Porto Torres / Turris Libisonis   \n64241   Aquitani(c)a                                    Saint-Satur   \n324429       Noricum                           Innstadt / Boiodurum   \n\n                                              inscription  \\\n325846                                              Sexti   \n137761  [Si quis s]uper hoc a[liud corpus ponere] / [v...   \n501311  Puella dulci<s=A> Adeodata / a sanctis mart<y=...   \n64241                        Of(ficina) Pr(i)m(i) Sco(ti)   \n324429  D(is) M(anibus) / Faustini/ano vect(igalis) / ...   \n\n                        inscription_conservative_cleaning  \\\n325846                                              Sexti   \n137761  uper hoc a ebebit fisci v emptum Sabi olides n...   \n501311  Puella dulciA Adeodata a sanctis martUribus su...   \n64241                                          Of Prm Sco   \n324429  D M Faustiniano vect Illyr vil Ingenus fil et ...   \n\n                        inscription_interpretive_cleaning  \\\n325846                                              Sexti   \n137761  Si quis super hoc aliud corpus ponere voluerit...   \n501311  Puella dulcis Adeodata a sanctis martyribus su...   \n64241                                Officina Primi Scoti   \n324429  Dis Manibus Faustiniano vectigalis Illyrici vi...   \n\n                                             inscr_type  \\\n325846                             tituli fabricationis   \n137761  [inscriptiones christianae, tituli sepulcrales]   \n501311  [inscriptiones christianae, tituli sepulcrales]   \n64241                              tituli fabricationis   \n324429                               tituli sepulcrales   \n\n                                          status_notation     inscr_process  \\\n325846                            [nomen singulare, viri]  sigilla impressa   \n137761                                                NaN               NaN   \n501311                        [mulieres, nomen singulare]               NaN   \n64241                                                 NaN  sigilla impressa   \n324429  [nomen singulare, officium/professio, servi/se...               NaN   \n\n                                  clean_text_conservative  \\\n325846                                              Sexti   \n137761  uper hoc a ebebit fisci v emptum Sabi olides n...   \n501311  Puella dulciA Adeodata a sanctis martUribus su...   \n64241                                          Of Prm Sco   \n324429  D M Faustiniano vect Illyr vil Ingenus fil et ...   \n\n                             clean_text_interpretive_word  \\\n325846                                              Sexti   \n137761  Si quis super hoc aliud corpus ponere voluerit...   \n501311  Puella dulcis Adeodata a sanctis martyribus su...   \n64241                                Officina Primi Scoti   \n324429  Dis Manibus Faustiniano vectigalis Illyrici vi...   \n\n                                                   status       material  \\\n325846  nomen singulare;  sigilla impressa;  tituli fa...  opus figlinae   \n137761     inscriptiones christianae;  tituli sepulcrales          lapis   \n501311  inscriptiones christianae;  mulieres;  nomen s...          lapis   \n64241             sigilla impressa;  tituli fabricationis  opus figlinae   \n324429  nomen singulare;  officium/professio;  servi/s...          lapis   \n\n                                             partner_link  dating_from  \\\n325846                                                NaN          NaN   \n137761  http://db.edcs.eu/epigr/partner.php?s_language...        351.0   \n501311                                                NaN        371.0   \n64241                                                 NaN          NaN   \n324429  http://db.edcs.eu/epigr/partner.php?s_language...        101.0   \n\n        dating_to  date_not_before  date_not_after   Latitude  Longitude  \\\n325846        NaN              NaN             NaN  47.798270  13.046196   \n137761      450.0            351.0           450.0  43.544159  16.491921   \n501311      400.0            371.0           400.0  40.834440   8.403146   \n64241         NaN              NaN             NaN  47.339055   2.854050   \n324429      200.0            101.0           200.0  48.570439  13.466132   \n\n                                                    photo  raw_dating  \\\n325846                                                NaN         NaN   \n137761                                                NaN  351 to 450   \n501311  http://db.edcs.eu/epigr/bilder.php?bilder.php?...  371 to 400   \n64241                                                 NaN         NaN   \n324429  http://db.edcs.eu/epigr/bilder.php?bilder.php?...  101 to 200   \n\n       language comment extra_text extra_html  \n325846      NaN     NaN        NaN        NaN  \n137761      NaN     NaN        NaN        NaN  \n501311      NaN     NaN        NaN        NaN  \n64241       NaN     NaN        NaN        NaN  \n324429      NaN     NaN        NaN        NaN  ",
      "text/html": "<div>\n<style scoped>\n    .dataframe tbody tr th:only-of-type {\n        vertical-align: middle;\n    }\n\n    .dataframe tbody tr th {\n        vertical-align: top;\n    }\n\n    .dataframe thead th {\n        text-align: right;\n    }\n</style>\n<table border=\"1\" class=\"dataframe\">\n  <thead>\n    <tr style=\"text-align: right;\">\n      <th></th>\n      <th>EDCS-ID</th>\n      <th>publication</th>\n      <th>province</th>\n      <th>place</th>\n      <th>inscription</th>\n      <th>inscription_conservative_cleaning</th>\n      <th>inscription_interpretive_cleaning</th>\n      <th>inscr_type</th>\n      <th>status_notation</th>\n      <th>inscr_process</th>\n      <th>clean_text_conservative</th>\n      <th>clean_text_interpretive_word</th>\n      <th>status</th>\n      <th>material</th>\n      <th>partner_link</th>\n      <th>dating_from</th>\n      <th>dating_to</th>\n      <th>date_not_before</th>\n      <th>date_not_after</th>\n      <th>Latitude</th>\n      <th>Longitude</th>\n      <th>photo</th>\n      <th>raw_dating</th>\n      <th>language</th>\n      <th>comment</th>\n      <th>extra_text</th>\n      <th>extra_html</th>\n    </tr>\n  </thead>\n  <tbody>\n    <tr>\n      <th>325846</th>\n      <td>EDCS-28000759</td>\n      <td>CIL 03, 06008,53g</td>\n      <td>Noricum</td>\n      <td>Salzburg / Iuvavum</td>\n      <td>Sexti</td>\n      <td>Sexti</td>\n      <td>Sexti</td>\n      <td>tituli fabricationis</td>\n      <td>[nomen singulare, viri]</td>\n      <td>sigilla impressa</td>\n      <td>Sexti</td>\n      <td>Sexti</td>\n      <td>nomen singulare;  sigilla impressa;  tituli fa...</td>\n      <td>opus figlinae</td>\n      <td>NaN</td>\n      <td>NaN</td>\n      <td>NaN</td>\n      <td>NaN</td>\n      <td>NaN</td>\n      <td>47.798270</td>\n      <td>13.046196</td>\n      <td>NaN</td>\n      <td>NaN</td>\n      <td>NaN</td>\n      <td>NaN</td>\n      <td>NaN</td>\n      <td>NaN</td>\n    </tr>\n    <tr>\n      <th>137761</th>\n      <td>EDCS-47800752</td>\n      <td>CIL 03, 09668 = CIL 03, 12841a = ILCV +00829 =...</td>\n      <td>Dalmatia</td>\n      <td>Solin / Salona</td>\n      <td>[Si quis s]uper hoc a[liud corpus ponere] / [v...</td>\n      <td>uper hoc a ebebit fisci v emptum Sabi olides n...</td>\n      <td>Si quis super hoc aliud corpus ponere voluerit...</td>\n      <td>[inscriptiones christianae, tituli sepulcrales]</td>\n      <td>NaN</td>\n      <td>NaN</td>\n      <td>uper hoc a ebebit fisci v emptum Sabi olides n...</td>\n      <td>Si quis super hoc aliud corpus ponere voluerit...</td>\n      <td>inscriptiones christianae;  tituli sepulcrales</td>\n      <td>lapis</td>\n      <td>http://db.edcs.eu/epigr/partner.php?s_language...</td>\n      <td>351.0</td>\n      <td>450.0</td>\n      <td>351.0</td>\n      <td>450.0</td>\n      <td>43.544159</td>\n      <td>16.491921</td>\n      <td>NaN</td>\n      <td>351 to 450</td>\n      <td>NaN</td>\n      <td>NaN</td>\n      <td>NaN</td>\n      <td>NaN</td>\n    </tr>\n    <tr>\n      <th>501311</th>\n      <td>EDCS-28300473</td>\n      <td>SRD 00963 = Carletti-2008, 00195 = AE 2002, 00...</td>\n      <td>Sardinia</td>\n      <td>Posthudorra / Porto Torres / Turris Libisonis</td>\n      <td>Puella dulci&lt;s=A&gt; Adeodata / a sanctis mart&lt;y=...</td>\n      <td>Puella dulciA Adeodata a sanctis martUribus su...</td>\n      <td>Puella dulcis Adeodata a sanctis martyribus su...</td>\n      <td>[inscriptiones christianae, tituli sepulcrales]</td>\n      <td>[mulieres, nomen singulare]</td>\n      <td>NaN</td>\n      <td>Puella dulciA Adeodata a sanctis martUribus su...</td>\n      <td>Puella dulcis Adeodata a sanctis martyribus su...</td>\n      <td>inscriptiones christianae;  mulieres;  nomen s...</td>\n      <td>lapis</td>\n      <td>NaN</td>\n      <td>371.0</td>\n      <td>400.0</td>\n      <td>371.0</td>\n      <td>400.0</td>\n      <td>40.834440</td>\n      <td>8.403146</td>\n      <td>http://db.edcs.eu/epigr/bilder.php?bilder.php?...</td>\n      <td>371 to 400</td>\n      <td>NaN</td>\n      <td>NaN</td>\n      <td>NaN</td>\n      <td>NaN</td>\n    </tr>\n    <tr>\n      <th>64241</th>\n      <td>EDCS-46700029</td>\n      <td>CAG-18, p 309</td>\n      <td>Aquitani(c)a</td>\n      <td>Saint-Satur</td>\n      <td>Of(ficina) Pr(i)m(i) Sco(ti)</td>\n      <td>Of Prm Sco</td>\n      <td>Officina Primi Scoti</td>\n      <td>tituli fabricationis</td>\n      <td>NaN</td>\n      <td>sigilla impressa</td>\n      <td>Of Prm Sco</td>\n      <td>Officina Primi Scoti</td>\n      <td>sigilla impressa;  tituli fabricationis</td>\n      <td>opus figlinae</td>\n      <td>NaN</td>\n      <td>NaN</td>\n      <td>NaN</td>\n      <td>NaN</td>\n      <td>NaN</td>\n      <td>47.339055</td>\n      <td>2.854050</td>\n      <td>NaN</td>\n      <td>NaN</td>\n      <td>NaN</td>\n      <td>NaN</td>\n      <td>NaN</td>\n      <td>NaN</td>\n    </tr>\n    <tr>\n      <th>324429</th>\n      <td>EDCS-14500980</td>\n      <td>CIL 03, 05691 (p 1846) = IBR 00441 = ILLPRON 0...</td>\n      <td>Noricum</td>\n      <td>Innstadt / Boiodurum</td>\n      <td>D(is) M(anibus) / Faustini/ano vect(igalis) / ...</td>\n      <td>D M Faustiniano vect Illyr vil Ingenus fil et ...</td>\n      <td>Dis Manibus Faustiniano vectigalis Illyrici vi...</td>\n      <td>tituli sepulcrales</td>\n      <td>[nomen singulare, officium/professio, servi/se...</td>\n      <td>NaN</td>\n      <td>D M Faustiniano vect Illyr vil Ingenus fil et ...</td>\n      <td>Dis Manibus Faustiniano vectigalis Illyrici vi...</td>\n      <td>nomen singulare;  officium/professio;  servi/s...</td>\n      <td>lapis</td>\n      <td>http://db.edcs.eu/epigr/partner.php?s_language...</td>\n      <td>101.0</td>\n      <td>200.0</td>\n      <td>101.0</td>\n      <td>200.0</td>\n      <td>48.570439</td>\n      <td>13.466132</td>\n      <td>http://db.edcs.eu/epigr/bilder.php?bilder.php?...</td>\n      <td>101 to 200</td>\n      <td>NaN</td>\n      <td>NaN</td>\n      <td>NaN</td>\n      <td>NaN</td>\n    </tr>\n  </tbody>\n</table>\n</div>"
     },
     "execution_count": 14,
     "metadata": {},
     "output_type": "execute_result"
    }
   ],
   "source": [
    "EDCS_sample = EDCS.sample(1000)\n",
    "EDCS_sample.head(5)"
   ],
   "metadata": {
    "collapsed": false,
    "ExecuteTime": {
     "start_time": "2023-04-26T18:38:06.191572Z",
     "end_time": "2023-04-26T18:38:06.213926Z"
    }
   }
  },
  {
   "cell_type": "code",
   "execution_count": 15,
   "outputs": [],
   "source": [
    "#EDCS_sample.to_json(\"../data/EDCS_sample.json\", orient=\"columns\")"
   ],
   "metadata": {
    "collapsed": false,
    "ExecuteTime": {
     "start_time": "2023-04-26T18:38:06.207814Z",
     "end_time": "2023-04-26T18:38:06.213979Z"
    }
   }
  },
  {
   "cell_type": "markdown",
   "metadata": {},
   "source": [
    "# Get EDH-ID from EDCS \"Links\" column"
   ]
  },
  {
   "cell_type": "code",
   "execution_count": 16,
   "outputs": [
    {
     "data": {
      "text/plain": "76763"
     },
     "execution_count": 16,
     "metadata": {},
     "output_type": "execute_result"
    }
   ],
   "source": [
    "len([re.search(\"HD\\d+\", str(el))[0] for el in EDCS[\"partner_link\"].tolist() if re.search(\"HD\\d+\", str(el))])"
   ],
   "metadata": {
    "collapsed": false,
    "ExecuteTime": {
     "start_time": "2023-04-26T18:38:06.253188Z",
     "end_time": "2023-04-26T18:38:06.439349Z"
    }
   }
  },
  {
   "cell_type": "code",
   "execution_count": 17,
   "outputs": [],
   "source": [
    "def get_edh_id(partner_link):\n",
    "    try:\n",
    "        if re.search(\"HD\\d+\", str(partner_link)):\n",
    "            edh_id = re.search(\"HD\\d+\", str(partner_link))[0]\n",
    "        else:\n",
    "            edh_id = None\n",
    "    except:\n",
    "        edh_id = None\n",
    "    return edh_id\n",
    "EDCS[\"EDH-ID\"] = EDCS[\"partner_link\"].apply(get_edh_id)"
   ],
   "metadata": {
    "collapsed": false,
    "ExecuteTime": {
     "start_time": "2023-04-26T18:38:06.437460Z",
     "end_time": "2023-04-26T18:38:06.683932Z"
    }
   }
  },
  {
   "cell_type": "code",
   "execution_count": 18,
   "outputs": [
    {
     "data": {
      "text/plain": "76763"
     },
     "execution_count": 18,
     "metadata": {},
     "output_type": "execute_result"
    }
   ],
   "source": [
    "EDCS[\"EDH-ID\"].notnull().sum()"
   ],
   "metadata": {
    "collapsed": false,
    "ExecuteTime": {
     "start_time": "2023-04-26T18:38:06.690856Z",
     "end_time": "2023-04-26T18:38:06.697418Z"
    }
   }
  },
  {
   "cell_type": "code",
   "execution_count": 19,
   "outputs": [
    {
     "data": {
      "text/plain": "75557"
     },
     "execution_count": 19,
     "metadata": {},
     "output_type": "execute_result"
    }
   ],
   "source": [
    "# unique EDH\n",
    "len(set(EDCS[\"EDH-ID\"]))"
   ],
   "metadata": {
    "collapsed": false,
    "ExecuteTime": {
     "start_time": "2023-04-26T18:38:06.720000Z",
     "end_time": "2023-04-26T18:38:06.736335Z"
    }
   }
  },
  {
   "cell_type": "code",
   "execution_count": 20,
   "metadata": {
    "ExecuteTime": {
     "start_time": "2023-04-26T18:38:06.740153Z",
     "end_time": "2023-04-26T18:38:06.753666Z"
    }
   },
   "outputs": [
    {
     "name": "stdout",
     "output_type": "stream",
     "text": [
      "['HD014657', 'HD051460', 'HD073391', 'HD043532', 'HD038828', 'HD048753', 'HD081760', 'HD035830', 'HD010113', 'HD069495']\n"
     ]
    }
   ],
   "source": [
    "edh_ids = list(set([el for el in EDCS[\"EDH-ID\"].tolist() if el != None]))\n",
    "print(edh_ids[:10])"
   ]
  },
  {
   "cell_type": "code",
   "execution_count": 21,
   "metadata": {
    "ExecuteTime": {
     "start_time": "2023-04-26T18:38:06.742585Z",
     "end_time": "2023-04-26T18:38:06.753829Z"
    }
   },
   "outputs": [
    {
     "data": {
      "text/plain": "92.27312140493143"
     },
     "execution_count": 21,
     "metadata": {},
     "output_type": "execute_result"
    }
   ],
   "source": [
    "# percents covered: \n",
    "len(edh_ids) / len(EDH) * 100"
   ]
  },
  {
   "cell_type": "code",
   "execution_count": 22,
   "metadata": {
    "ExecuteTime": {
     "start_time": "2023-04-26T18:38:06.777247Z",
     "end_time": "2023-04-26T18:38:06.960260Z"
    }
   },
   "outputs": [
    {
     "data": {
      "text/plain": "6834"
     },
     "execution_count": 22,
     "metadata": {},
     "output_type": "execute_result"
    }
   ],
   "source": [
    "# inscriptions which are not explicitly refered to in EDCS\n",
    "EDH.rename(columns={\"id\":\"EDH-ID\"}, inplace=True)\n",
    "EDH_unique = EDH[~EDH[\"EDH-ID\"].isin(edh_ids)]\n",
    "len(EDH_unique) # previously we had 8450"
   ]
  },
  {
   "cell_type": "markdown",
   "metadata": {},
   "source": [
    "what about these?\n",
    "\n",
    "# Get EDH-ID from trismegistos API\n",
    "\n",
    "EDH standardly includes references to trismegistos. The trismegistos URI api enables queries for EDCS-ID. We will use this extract EDCS-IDs of additional inscriptions in EDCS which are in EDH  "
   ]
  },
  {
   "cell_type": "code",
   "execution_count": 23,
   "metadata": {
    "ExecuteTime": {
     "start_time": "2023-04-26T18:38:06.959917Z",
     "end_time": "2023-04-26T18:38:06.963478Z"
    }
   },
   "outputs": [],
   "source": [
    "def get_edcs(trismegistos_uri):\n",
    "    try:\n",
    "        url = \"https://www.trismegistos.org/dataservices/texrelations/{}\".format(trismegistos_uri.rpartition(\"/\")[2])\n",
    "        resp = requests.get(url)\n",
    "        edcs_ids = resp.json()[3][\"EDCS\"]\n",
    "        return edcs_ids\n",
    "    except: \n",
    "        return None"
   ]
  },
  {
   "cell_type": "code",
   "execution_count": null,
   "metadata": {
    "scrolled": true
   },
   "outputs": [],
   "source": [
    "%%time\n",
    "# takes time, so use it carefully, or use data from the previous run below\n",
    "EDH_unique[\"edcs_ids\"] = EDH_unique[\"trismegistos_uri\"].apply(get_edcs)"
   ]
  },
  {
   "cell_type": "code",
   "execution_count": null,
   "outputs": [],
   "source": [
    "EDH_unique"
   ],
   "metadata": {
    "collapsed": false
   }
  },
  {
   "cell_type": "code",
   "execution_count": 24,
   "metadata": {},
   "outputs": [
    {
     "ename": "KeyError",
     "evalue": "'edcs_ids'",
     "output_type": "error",
     "traceback": [
      "\u001B[0;31m---------------------------------------------------------------------------\u001B[0m",
      "\u001B[0;31mKeyError\u001B[0m                                  Traceback (most recent call last)",
      "File \u001B[0;32m~/Projects/LIRE_ETL/lire_venv/lib/python3.10/site-packages/pandas/core/indexes/base.py:3803\u001B[0m, in \u001B[0;36mIndex.get_loc\u001B[0;34m(self, key, method, tolerance)\u001B[0m\n\u001B[1;32m   3802\u001B[0m \u001B[38;5;28;01mtry\u001B[39;00m:\n\u001B[0;32m-> 3803\u001B[0m     \u001B[38;5;28;01mreturn\u001B[39;00m \u001B[38;5;28;43mself\u001B[39;49m\u001B[38;5;241;43m.\u001B[39;49m\u001B[43m_engine\u001B[49m\u001B[38;5;241;43m.\u001B[39;49m\u001B[43mget_loc\u001B[49m\u001B[43m(\u001B[49m\u001B[43mcasted_key\u001B[49m\u001B[43m)\u001B[49m\n\u001B[1;32m   3804\u001B[0m \u001B[38;5;28;01mexcept\u001B[39;00m \u001B[38;5;167;01mKeyError\u001B[39;00m \u001B[38;5;28;01mas\u001B[39;00m err:\n",
      "File \u001B[0;32m~/Projects/LIRE_ETL/lire_venv/lib/python3.10/site-packages/pandas/_libs/index.pyx:138\u001B[0m, in \u001B[0;36mpandas._libs.index.IndexEngine.get_loc\u001B[0;34m()\u001B[0m\n",
      "File \u001B[0;32m~/Projects/LIRE_ETL/lire_venv/lib/python3.10/site-packages/pandas/_libs/index.pyx:165\u001B[0m, in \u001B[0;36mpandas._libs.index.IndexEngine.get_loc\u001B[0;34m()\u001B[0m\n",
      "File \u001B[0;32mpandas/_libs/hashtable_class_helper.pxi:5745\u001B[0m, in \u001B[0;36mpandas._libs.hashtable.PyObjectHashTable.get_item\u001B[0;34m()\u001B[0m\n",
      "File \u001B[0;32mpandas/_libs/hashtable_class_helper.pxi:5753\u001B[0m, in \u001B[0;36mpandas._libs.hashtable.PyObjectHashTable.get_item\u001B[0;34m()\u001B[0m\n",
      "\u001B[0;31mKeyError\u001B[0m: 'edcs_ids'",
      "\nThe above exception was the direct cause of the following exception:\n",
      "\u001B[0;31mKeyError\u001B[0m                                  Traceback (most recent call last)",
      "Cell \u001B[0;32mIn [24], line 2\u001B[0m\n\u001B[1;32m      1\u001B[0m edcs_to_edh_dict \u001B[38;5;241m=\u001B[39m {}\n\u001B[0;32m----> 2\u001B[0m \u001B[38;5;28;01mfor\u001B[39;00m edh_id, edcs_ids \u001B[38;5;129;01min\u001B[39;00m \u001B[38;5;28mzip\u001B[39m(EDH_unique[\u001B[38;5;124m\"\u001B[39m\u001B[38;5;124mEDH-ID\u001B[39m\u001B[38;5;124m\"\u001B[39m], \u001B[43mEDH_unique\u001B[49m\u001B[43m[\u001B[49m\u001B[38;5;124;43m\"\u001B[39;49m\u001B[38;5;124;43medcs_ids\u001B[39;49m\u001B[38;5;124;43m\"\u001B[39;49m\u001B[43m]\u001B[49m):\n\u001B[1;32m      3\u001B[0m     \u001B[38;5;28;01mtry\u001B[39;00m:\n\u001B[1;32m      4\u001B[0m         \u001B[38;5;28;01mfor\u001B[39;00m edcs_id \u001B[38;5;129;01min\u001B[39;00m edcs_ids:\n",
      "File \u001B[0;32m~/Projects/LIRE_ETL/lire_venv/lib/python3.10/site-packages/pandas/core/frame.py:3804\u001B[0m, in \u001B[0;36mDataFrame.__getitem__\u001B[0;34m(self, key)\u001B[0m\n\u001B[1;32m   3802\u001B[0m \u001B[38;5;28;01mif\u001B[39;00m \u001B[38;5;28mself\u001B[39m\u001B[38;5;241m.\u001B[39mcolumns\u001B[38;5;241m.\u001B[39mnlevels \u001B[38;5;241m>\u001B[39m \u001B[38;5;241m1\u001B[39m:\n\u001B[1;32m   3803\u001B[0m     \u001B[38;5;28;01mreturn\u001B[39;00m \u001B[38;5;28mself\u001B[39m\u001B[38;5;241m.\u001B[39m_getitem_multilevel(key)\n\u001B[0;32m-> 3804\u001B[0m indexer \u001B[38;5;241m=\u001B[39m \u001B[38;5;28;43mself\u001B[39;49m\u001B[38;5;241;43m.\u001B[39;49m\u001B[43mcolumns\u001B[49m\u001B[38;5;241;43m.\u001B[39;49m\u001B[43mget_loc\u001B[49m\u001B[43m(\u001B[49m\u001B[43mkey\u001B[49m\u001B[43m)\u001B[49m\n\u001B[1;32m   3805\u001B[0m \u001B[38;5;28;01mif\u001B[39;00m is_integer(indexer):\n\u001B[1;32m   3806\u001B[0m     indexer \u001B[38;5;241m=\u001B[39m [indexer]\n",
      "File \u001B[0;32m~/Projects/LIRE_ETL/lire_venv/lib/python3.10/site-packages/pandas/core/indexes/base.py:3805\u001B[0m, in \u001B[0;36mIndex.get_loc\u001B[0;34m(self, key, method, tolerance)\u001B[0m\n\u001B[1;32m   3803\u001B[0m     \u001B[38;5;28;01mreturn\u001B[39;00m \u001B[38;5;28mself\u001B[39m\u001B[38;5;241m.\u001B[39m_engine\u001B[38;5;241m.\u001B[39mget_loc(casted_key)\n\u001B[1;32m   3804\u001B[0m \u001B[38;5;28;01mexcept\u001B[39;00m \u001B[38;5;167;01mKeyError\u001B[39;00m \u001B[38;5;28;01mas\u001B[39;00m err:\n\u001B[0;32m-> 3805\u001B[0m     \u001B[38;5;28;01mraise\u001B[39;00m \u001B[38;5;167;01mKeyError\u001B[39;00m(key) \u001B[38;5;28;01mfrom\u001B[39;00m \u001B[38;5;21;01merr\u001B[39;00m\n\u001B[1;32m   3806\u001B[0m \u001B[38;5;28;01mexcept\u001B[39;00m \u001B[38;5;167;01mTypeError\u001B[39;00m:\n\u001B[1;32m   3807\u001B[0m     \u001B[38;5;66;03m# If we have a listlike key, _check_indexing_error will raise\u001B[39;00m\n\u001B[1;32m   3808\u001B[0m     \u001B[38;5;66;03m#  InvalidIndexError. Otherwise we fall through and re-raise\u001B[39;00m\n\u001B[1;32m   3809\u001B[0m     \u001B[38;5;66;03m#  the TypeError.\u001B[39;00m\n\u001B[1;32m   3810\u001B[0m     \u001B[38;5;28mself\u001B[39m\u001B[38;5;241m.\u001B[39m_check_indexing_error(key)\n",
      "\u001B[0;31mKeyError\u001B[0m: 'edcs_ids'"
     ]
    }
   ],
   "source": [
    "edcs_to_edh_dict = {}\n",
    "for edh_id, edcs_ids in zip(EDH_unique[\"EDH-ID\"], EDH_unique[\"edcs_ids\"]):\n",
    "    try:\n",
    "        for edcs_id in edcs_ids:\n",
    "            edcs_to_edh_dict[\"EDCS-\" + edcs_id] = edh_id\n",
    "    except:\n",
    "        pass"
   ]
  },
  {
   "cell_type": "code",
   "execution_count": null,
   "metadata": {},
   "outputs": [],
   "source": [
    "# save for future usage\n",
    "with open(\"../data/edcs_to_edh_dict.json\", \"w\") as f:\n",
    "    json.dump(edcs_to_edh_dict, f)"
   ]
  },
  {
   "cell_type": "code",
   "execution_count": 25,
   "metadata": {
    "ExecuteTime": {
     "start_time": "2023-04-26T18:38:18.103032Z",
     "end_time": "2023-04-26T18:38:18.141658Z"
    }
   },
   "outputs": [],
   "source": [
    "# upload the previously identified pairs\n",
    "with open(\"../data/edcs_to_edh_dict.json\", \"r\") as f:\n",
    "    edcs_to_edh_dict = json.load(f)"
   ]
  },
  {
   "cell_type": "code",
   "execution_count": 26,
   "metadata": {
    "ExecuteTime": {
     "start_time": "2023-04-26T18:38:19.030998Z",
     "end_time": "2023-04-26T18:38:19.324912Z"
    }
   },
   "outputs": [
    {
     "data": {
      "text/plain": "76763"
     },
     "execution_count": 26,
     "metadata": {},
     "output_type": "execute_result"
    }
   ],
   "source": [
    "len(EDCS[EDCS[\"EDH-ID\"].notnull()])"
   ]
  },
  {
   "cell_type": "code",
   "execution_count": 27,
   "metadata": {
    "ExecuteTime": {
     "start_time": "2023-04-26T18:38:19.758765Z",
     "end_time": "2023-04-26T18:38:19.800432Z"
    }
   },
   "outputs": [],
   "source": [
    "def get_edh_id_trismegistos(row):\n",
    "    edh_id = row[\"EDH-ID\"]\n",
    "    if row[\"EDH-ID\"] == None:\n",
    "        if row[\"EDCS-ID\"] in edcs_to_edh_dict.keys():\n",
    "            edh_id = edcs_to_edh_dict[row[\"EDCS-ID\"]]  \n",
    "    return edh_id"
   ]
  },
  {
   "cell_type": "code",
   "execution_count": 28,
   "metadata": {
    "ExecuteTime": {
     "start_time": "2023-04-26T18:38:20.233089Z",
     "end_time": "2023-04-26T18:38:23.541487Z"
    }
   },
   "outputs": [],
   "source": [
    "EDCS[\"EDH-ID\"] = EDCS.apply(lambda row: get_edh_id_trismegistos(row), axis=1)"
   ]
  },
  {
   "cell_type": "code",
   "execution_count": 29,
   "metadata": {
    "ExecuteTime": {
     "start_time": "2023-04-26T18:38:23.548234Z",
     "end_time": "2023-04-26T18:38:23.840673Z"
    }
   },
   "outputs": [
    {
     "data": {
      "text/plain": "          EDCS-ID                                        publication province  \\\n1   EDCS-24700151  CIL 01, 02650 (p 1097) = IG-05-01, 00741 = ILL...   Achaia   \n2   EDCS-24900077  CIL 01, 00746 (p 944) = D 00867 = ILLRP 00374 ...   Achaia   \n3   EDCS-03700724  ZPE-108-159 = Thesprotia 00001 = AE 1993, 0140...   Achaia   \n9   EDCS-66200107                                     AE 2008, 01264   Achaia   \n10  EDCS-13800065  CIL 01, 02955 = ILLRP 00370 (p 327) = ILGR 000...   Achaia   \n11  EDCS-66200108                   SEG-49, 00495a = AE 2008, 01265a   Achaia   \n12  EDCS-66200109                   SEG-49, 00495b = AE 2008, 01265b   Achaia   \n17  EDCS-03300852                                     AE 1995, 01409   Achaia   \n18  EDCS-66200178                                     AE 2009, 01314   Achaia   \n19  EDCS-28500283  CIL 03, 07251 = D 00214 = NDIEC-07, p 81 = AE ...   Achaia   \n\n                             place  \\\n1                           Afesou   \n2    Agia Triada / Merbaka / Midea   \n3       Agios Athanasios / Photike   \n9   Aigio / Egio / Aiyion / Aegeum   \n10  Aigio / Egio / Aiyion / Aegeum   \n11  Aigio / Egio / Aiyion / Aegeum   \n12  Aigio / Egio / Aiyion / Aegeum   \n17                    Alea / Tegea   \n18                    Alea / Tegea   \n19                    Alea / Tegea   \n\n                                          inscription  \\\n1   Δέκιος Λείβιος (Ζ)εῦξις // D(ecimi) Leivei D(e...   \n2   Q(uinto) Caecilio C(ai) f(ilio) Metel(l)o / im...   \n3   Fortissimo et Piis/simo Caesari d(omino) n(ost...   \n9   [3]ν τὸν λαμ/[πρότατον ὑπατικ]όν Ἄππιος Κυ/[3 ...   \n10  Italicei / quei Aegei negotiantur / P(ublium) ...   \n11  ἐπὶ Τιβ(ερίου) / Κλαυδί/ου Φρον/τείνου / Νεικη...   \n12  ἐπὶ Τιβ(ερίου) / Κλαυδίου / Φροντείνου / Νεικη...   \n17  Imp(eratori) / Floriano / P(io) F(elici) Aug(u...   \n18  Τοῦ σεπτοῦ τούτου τεμένος ἐν ἱερεῦσιν / ἐννεακ...   \n19  T[(iberius)] Claudius Caesar Aug(ustus) / G[er...   \n\n                    inscription_conservative_cleaning  \\\n1        Δέκιος Λείβιος εῦξις D Leivei D Leivei salve   \n2   Q Caecilio C f Metelo imperatori Italici quei ...   \n3   Fortissimo et Piissimo Caesari d n Gal Val P F...   \n9                        ν τὸν λαμ όν Ἄππιος Κυ τρωνα   \n10  Italicei quei Aegei negotiantur P Rutilium P f...   \n11  ἐπὶ Τιβ Κλαυδίου Φροντείνου Νεικηράτου ταμίου ...   \n12  ἐπὶ Τιβ Κλαυδίου Φροντείνου Νεικηράτου ταμίου ...   \n17  Imp Floriano P F Aug p p m p III Imp Caes M Au...   \n18  Τοῦ σεπτοῦ τούτου τεμένος ἐν ἱερεῦσιν ἐννεακαι...   \n19  T Claudius Caesar Aug G anicus pontif max trib...   \n\n                    inscription_interpretive_cleaning  \\\n1   Δέκιος Λείβιος Ζεῦξις Decimi Leivei Decimi Lei...   \n2   Quinto Caecilio Cai filio Metello imperatori I...   \n3   Fortissimo et Piissimo Caesari domino nostro G...   \n9   ν τὸν λαμπρότατον ὑπατικόν Ἄππιος Κυ τὸν ἑαυτο...   \n10  Italicei quei Aegei negotiantur Publium Rutili...   \n11  ἐπὶ Τιβερίου Κλαυδίου Φροντείνου Νεικηράτου τα...   \n12  ἐπὶ Τιβερίου Κλαυδίου Φροντείνου Νεικηράτου τα...   \n17  Imperatori Floriano Pio Felici Augusto patri p...   \n18  Τοῦ σεπτοῦ τούτου τεμένος ἐν ἱερεῦσιν ἐννεακαι...   \n19  Tiberius Claudius Caesar Augustus Germanicus p...   \n\n                       inscr_type  \\\n1              tituli sepulcrales   \n2                tituli honorarii   \n3                tituli honorarii   \n9                             NaN   \n10               tituli honorarii   \n11                            NaN   \n12                            NaN   \n17                       miliaria   \n18  [tituli operum, tituli sacri]   \n19                          leges   \n\n                                      status_notation    inscr_process  \\\n1                          [praenomen et nomen, viri]              NaN   \n2   [officium/professio, ordo senatorius, tria nom...              NaN   \n3      [Augusti/Augustae, ordo equester, tria nomina]  litterae erasae   \n9                                                 NaN              NaN   \n10  [officium/professio, ordo senatorius, tria nom...              NaN   \n11                                                NaN              NaN   \n12                                                NaN              NaN   \n17                           [Augusti/Augustae, viri]              NaN   \n18                                               viri              NaN   \n19                           [Augusti/Augustae, viri]              NaN   \n\n                              clean_text_conservative  \\\n1        Δέκιος Λείβιος εῦξις D Leivei D Leivei salve   \n2   Q Caecilio C f Metelo imperatori Italici quei ...   \n3   Fortissimo et Piissimo Caesari d n Gal Val P F...   \n9                        ν τὸν λαμ όν Ἄππιος Κυ τρωνα   \n10  Italicei quei Aegei negotiantur P Rutilium P f...   \n11  ἐπὶ Τιβ Κλαυδίου Φροντείνου Νεικηράτου ταμίου ...   \n12  ἐπὶ Τιβ Κλαυδίου Φροντείνου Νεικηράτου ταμίου ...   \n17  Imp Floriano P F Aug p p m p III Imp Caes M Au...   \n18  Τοῦ σεπτοῦ τούτου τεμένος ἐν ἱερεῦσιν ἐννεακαι...   \n19  T Claudius Caesar Aug G anicus pontif max trib...   \n\n                         clean_text_interpretive_word  \\\n1   Δέκιος Λείβιος Ζεῦξις Decimi Leivei Decimi Lei...   \n2   Quinto Caecilio Cai filio Metello imperatori I...   \n3   Fortissimo et Piissimo Caesari domino nostro G...   \n9   ν τὸν λαμπρότατον ὑπατικόν Ἄππιος Κυ τὸν ἑαυτο...   \n10  Italicei quei Aegei negotiantur Publium Rutili...   \n11  ἐπὶ Τιβερίου Κλαυδίου Φροντείνου Νεικηράτου τα...   \n12  ἐπὶ Τιβερίου Κλαυδίου Φροντείνου Νεικηράτου τα...   \n17  Imperatori Floriano Pio Felici Augusto patri p...   \n18  Τοῦ σεπτοῦ τούτου τεμένος ἐν ἱερεῦσιν ἐννεακαι...   \n19  Tiberius Claudius Caesar Augustus Germanicus p...   \n\n                                               status material  \\\n1      praenomen et nomen;  tituli sepulcrales;  viri    lapis   \n2   officium/professio;  ordo senatorius;  tituli ...      NaN   \n3   Augusti/Augustae;  litterae erasae;  ordo eque...      NaN   \n9                                                 NaN    lapis   \n10  officium/professio;  ordo senatorius;  tituli ...    lapis   \n11                                                NaN      aes   \n12                                                NaN      aes   \n17                 Augusti/Augustae;  miliaria;  viri    lapis   \n18                tituli operum;  tituli sacri;  viri    lapis   \n19                    Augusti/Augustae;  leges;  viri    lapis   \n\n                                         partner_link  dating_from  dating_to  \\\n1   http://db.edcs.eu/epigr/partner.php?s_language...          NaN        NaN   \n2   http://db.edcs.eu/epigr/partner.php?s_language...        -68.0      -68.0   \n3   http://db.edcs.eu/epigr/partner.php?s_language...        309.0      313.0   \n9   http://db.edcs.eu/epigr/partner.php?s_language...        151.0      250.0   \n10  http://db.edcs.eu/epigr/partner.php?s_language...        -74.0      -74.0   \n11  http://db.edcs.eu/epigr/partner.php?s_language...          NaN        NaN   \n12  http://db.edcs.eu/epigr/partner.php?s_language...          NaN        NaN   \n17  http://db.edcs.eu/epigr/partner.php?s_language...        276.0      276.0   \n18  http://db.edcs.eu/epigr/partner.php?s_language...        527.0      565.0   \n19  http://db.edcs.eu/epigr/partner.php?s_language...         49.0       50.0   \n\n    date_not_before  date_not_after   Latitude  Longitude  \\\n1               NaN             NaN        NaN        NaN   \n2             -68.0           -68.0  37.638113  22.805299   \n3             309.0           313.0  39.451218  20.766767   \n9             151.0           250.0  38.250714  22.085822   \n10            -74.0           -74.0  38.250714  22.085822   \n11              NaN             NaN  38.250714  22.085822   \n12              NaN             NaN  38.250714  22.085822   \n17            276.0           282.0  37.454501  22.420877   \n18            527.0           565.0  37.454501  22.420877   \n19             49.0            50.0  37.454501  22.420877   \n\n                                                photo  \\\n1                                                 NaN   \n2   http://db.edcs.eu/epigr/bilder.php?bilder.php?...   \n3   http://db.edcs.eu/epigr/bilder.php?bilder.php?...   \n9                                                 NaN   \n10                                                NaN   \n11                                                NaN   \n12                                                NaN   \n17                                                NaN   \n18                                                NaN   \n19                                                NaN   \n\n                          raw_dating language comment extra_text extra_html  \\\n1                                NaN      NaN     NaN        NaN        NaN   \n2                         -68 to -68      NaN     NaN        NaN        NaN   \n3                         309 to 313      NaN     NaN        NaN        NaN   \n9                         151 to 250      NaN     NaN        NaN        NaN   \n10                        -74 to -74      NaN     NaN        NaN        NaN   \n11                               NaN      NaN     NaN        NaN        NaN   \n12                               NaN      NaN     NaN        NaN        NaN   \n17  a:  276 to 276;   b:  276 to 282      NaN     NaN        NaN        NaN   \n18                        527 to 565      NaN     NaN        NaN        NaN   \n19                          49 to 50      NaN     NaN        NaN        NaN   \n\n      EDH-ID  \n1   HD057726  \n2   HD056163  \n3   HD052964  \n9   HD067316  \n10  HD017714  \n11  HD068315  \n12  HD068319  \n17  HD051000  \n18  HD068216  \n19  HD021396  ",
      "text/html": "<div>\n<style scoped>\n    .dataframe tbody tr th:only-of-type {\n        vertical-align: middle;\n    }\n\n    .dataframe tbody tr th {\n        vertical-align: top;\n    }\n\n    .dataframe thead th {\n        text-align: right;\n    }\n</style>\n<table border=\"1\" class=\"dataframe\">\n  <thead>\n    <tr style=\"text-align: right;\">\n      <th></th>\n      <th>EDCS-ID</th>\n      <th>publication</th>\n      <th>province</th>\n      <th>place</th>\n      <th>inscription</th>\n      <th>inscription_conservative_cleaning</th>\n      <th>inscription_interpretive_cleaning</th>\n      <th>inscr_type</th>\n      <th>status_notation</th>\n      <th>inscr_process</th>\n      <th>clean_text_conservative</th>\n      <th>clean_text_interpretive_word</th>\n      <th>status</th>\n      <th>material</th>\n      <th>partner_link</th>\n      <th>dating_from</th>\n      <th>dating_to</th>\n      <th>date_not_before</th>\n      <th>date_not_after</th>\n      <th>Latitude</th>\n      <th>Longitude</th>\n      <th>photo</th>\n      <th>raw_dating</th>\n      <th>language</th>\n      <th>comment</th>\n      <th>extra_text</th>\n      <th>extra_html</th>\n      <th>EDH-ID</th>\n    </tr>\n  </thead>\n  <tbody>\n    <tr>\n      <th>1</th>\n      <td>EDCS-24700151</td>\n      <td>CIL 01, 02650 (p 1097) = IG-05-01, 00741 = ILL...</td>\n      <td>Achaia</td>\n      <td>Afesou</td>\n      <td>Δέκιος Λείβιος (Ζ)εῦξις // D(ecimi) Leivei D(e...</td>\n      <td>Δέκιος Λείβιος εῦξις D Leivei D Leivei salve</td>\n      <td>Δέκιος Λείβιος Ζεῦξις Decimi Leivei Decimi Lei...</td>\n      <td>tituli sepulcrales</td>\n      <td>[praenomen et nomen, viri]</td>\n      <td>NaN</td>\n      <td>Δέκιος Λείβιος εῦξις D Leivei D Leivei salve</td>\n      <td>Δέκιος Λείβιος Ζεῦξις Decimi Leivei Decimi Lei...</td>\n      <td>praenomen et nomen;  tituli sepulcrales;  viri</td>\n      <td>lapis</td>\n      <td>http://db.edcs.eu/epigr/partner.php?s_language...</td>\n      <td>NaN</td>\n      <td>NaN</td>\n      <td>NaN</td>\n      <td>NaN</td>\n      <td>NaN</td>\n      <td>NaN</td>\n      <td>NaN</td>\n      <td>NaN</td>\n      <td>NaN</td>\n      <td>NaN</td>\n      <td>NaN</td>\n      <td>NaN</td>\n      <td>HD057726</td>\n    </tr>\n    <tr>\n      <th>2</th>\n      <td>EDCS-24900077</td>\n      <td>CIL 01, 00746 (p 944) = D 00867 = ILLRP 00374 ...</td>\n      <td>Achaia</td>\n      <td>Agia Triada / Merbaka / Midea</td>\n      <td>Q(uinto) Caecilio C(ai) f(ilio) Metel(l)o / im...</td>\n      <td>Q Caecilio C f Metelo imperatori Italici quei ...</td>\n      <td>Quinto Caecilio Cai filio Metello imperatori I...</td>\n      <td>tituli honorarii</td>\n      <td>[officium/professio, ordo senatorius, tria nom...</td>\n      <td>NaN</td>\n      <td>Q Caecilio C f Metelo imperatori Italici quei ...</td>\n      <td>Quinto Caecilio Cai filio Metello imperatori I...</td>\n      <td>officium/professio;  ordo senatorius;  tituli ...</td>\n      <td>NaN</td>\n      <td>http://db.edcs.eu/epigr/partner.php?s_language...</td>\n      <td>-68.0</td>\n      <td>-68.0</td>\n      <td>-68.0</td>\n      <td>-68.0</td>\n      <td>37.638113</td>\n      <td>22.805299</td>\n      <td>http://db.edcs.eu/epigr/bilder.php?bilder.php?...</td>\n      <td>-68 to -68</td>\n      <td>NaN</td>\n      <td>NaN</td>\n      <td>NaN</td>\n      <td>NaN</td>\n      <td>HD056163</td>\n    </tr>\n    <tr>\n      <th>3</th>\n      <td>EDCS-03700724</td>\n      <td>ZPE-108-159 = Thesprotia 00001 = AE 1993, 0140...</td>\n      <td>Achaia</td>\n      <td>Agios Athanasios / Photike</td>\n      <td>Fortissimo et Piis/simo Caesari d(omino) n(ost...</td>\n      <td>Fortissimo et Piissimo Caesari d n Gal Val P F...</td>\n      <td>Fortissimo et Piissimo Caesari domino nostro G...</td>\n      <td>tituli honorarii</td>\n      <td>[Augusti/Augustae, ordo equester, tria nomina]</td>\n      <td>litterae erasae</td>\n      <td>Fortissimo et Piissimo Caesari d n Gal Val P F...</td>\n      <td>Fortissimo et Piissimo Caesari domino nostro G...</td>\n      <td>Augusti/Augustae;  litterae erasae;  ordo eque...</td>\n      <td>NaN</td>\n      <td>http://db.edcs.eu/epigr/partner.php?s_language...</td>\n      <td>309.0</td>\n      <td>313.0</td>\n      <td>309.0</td>\n      <td>313.0</td>\n      <td>39.451218</td>\n      <td>20.766767</td>\n      <td>http://db.edcs.eu/epigr/bilder.php?bilder.php?...</td>\n      <td>309 to 313</td>\n      <td>NaN</td>\n      <td>NaN</td>\n      <td>NaN</td>\n      <td>NaN</td>\n      <td>HD052964</td>\n    </tr>\n    <tr>\n      <th>9</th>\n      <td>EDCS-66200107</td>\n      <td>AE 2008, 01264</td>\n      <td>Achaia</td>\n      <td>Aigio / Egio / Aiyion / Aegeum</td>\n      <td>[3]ν τὸν λαμ/[πρότατον ὑπατικ]όν Ἄππιος Κυ/[3 ...</td>\n      <td>ν τὸν λαμ όν Ἄππιος Κυ τρωνα</td>\n      <td>ν τὸν λαμπρότατον ὑπατικόν Ἄππιος Κυ τὸν ἑαυτο...</td>\n      <td>NaN</td>\n      <td>NaN</td>\n      <td>NaN</td>\n      <td>ν τὸν λαμ όν Ἄππιος Κυ τρωνα</td>\n      <td>ν τὸν λαμπρότατον ὑπατικόν Ἄππιος Κυ τὸν ἑαυτο...</td>\n      <td>NaN</td>\n      <td>lapis</td>\n      <td>http://db.edcs.eu/epigr/partner.php?s_language...</td>\n      <td>151.0</td>\n      <td>250.0</td>\n      <td>151.0</td>\n      <td>250.0</td>\n      <td>38.250714</td>\n      <td>22.085822</td>\n      <td>NaN</td>\n      <td>151 to 250</td>\n      <td>NaN</td>\n      <td>NaN</td>\n      <td>NaN</td>\n      <td>NaN</td>\n      <td>HD067316</td>\n    </tr>\n    <tr>\n      <th>10</th>\n      <td>EDCS-13800065</td>\n      <td>CIL 01, 02955 = ILLRP 00370 (p 327) = ILGR 000...</td>\n      <td>Achaia</td>\n      <td>Aigio / Egio / Aiyion / Aegeum</td>\n      <td>Italicei / quei Aegei negotiantur / P(ublium) ...</td>\n      <td>Italicei quei Aegei negotiantur P Rutilium P f...</td>\n      <td>Italicei quei Aegei negotiantur Publium Rutili...</td>\n      <td>tituli honorarii</td>\n      <td>[officium/professio, ordo senatorius, tria nom...</td>\n      <td>NaN</td>\n      <td>Italicei quei Aegei negotiantur P Rutilium P f...</td>\n      <td>Italicei quei Aegei negotiantur Publium Rutili...</td>\n      <td>officium/professio;  ordo senatorius;  tituli ...</td>\n      <td>lapis</td>\n      <td>http://db.edcs.eu/epigr/partner.php?s_language...</td>\n      <td>-74.0</td>\n      <td>-74.0</td>\n      <td>-74.0</td>\n      <td>-74.0</td>\n      <td>38.250714</td>\n      <td>22.085822</td>\n      <td>NaN</td>\n      <td>-74 to -74</td>\n      <td>NaN</td>\n      <td>NaN</td>\n      <td>NaN</td>\n      <td>NaN</td>\n      <td>HD017714</td>\n    </tr>\n    <tr>\n      <th>11</th>\n      <td>EDCS-66200108</td>\n      <td>SEG-49, 00495a = AE 2008, 01265a</td>\n      <td>Achaia</td>\n      <td>Aigio / Egio / Aiyion / Aegeum</td>\n      <td>ἐπὶ Τιβ(ερίου) / Κλαυδί/ου Φρον/τείνου / Νεικη...</td>\n      <td>ἐπὶ Τιβ Κλαυδίου Φροντείνου Νεικηράτου ταμίου ...</td>\n      <td>ἐπὶ Τιβερίου Κλαυδίου Φροντείνου Νεικηράτου τα...</td>\n      <td>NaN</td>\n      <td>NaN</td>\n      <td>NaN</td>\n      <td>ἐπὶ Τιβ Κλαυδίου Φροντείνου Νεικηράτου ταμίου ...</td>\n      <td>ἐπὶ Τιβερίου Κλαυδίου Φροντείνου Νεικηράτου τα...</td>\n      <td>NaN</td>\n      <td>aes</td>\n      <td>http://db.edcs.eu/epigr/partner.php?s_language...</td>\n      <td>NaN</td>\n      <td>NaN</td>\n      <td>NaN</td>\n      <td>NaN</td>\n      <td>38.250714</td>\n      <td>22.085822</td>\n      <td>NaN</td>\n      <td>NaN</td>\n      <td>NaN</td>\n      <td>NaN</td>\n      <td>NaN</td>\n      <td>NaN</td>\n      <td>HD068315</td>\n    </tr>\n    <tr>\n      <th>12</th>\n      <td>EDCS-66200109</td>\n      <td>SEG-49, 00495b = AE 2008, 01265b</td>\n      <td>Achaia</td>\n      <td>Aigio / Egio / Aiyion / Aegeum</td>\n      <td>ἐπὶ Τιβ(ερίου) / Κλαυδίου / Φροντείνου / Νεικη...</td>\n      <td>ἐπὶ Τιβ Κλαυδίου Φροντείνου Νεικηράτου ταμίου ...</td>\n      <td>ἐπὶ Τιβερίου Κλαυδίου Φροντείνου Νεικηράτου τα...</td>\n      <td>NaN</td>\n      <td>NaN</td>\n      <td>NaN</td>\n      <td>ἐπὶ Τιβ Κλαυδίου Φροντείνου Νεικηράτου ταμίου ...</td>\n      <td>ἐπὶ Τιβερίου Κλαυδίου Φροντείνου Νεικηράτου τα...</td>\n      <td>NaN</td>\n      <td>aes</td>\n      <td>http://db.edcs.eu/epigr/partner.php?s_language...</td>\n      <td>NaN</td>\n      <td>NaN</td>\n      <td>NaN</td>\n      <td>NaN</td>\n      <td>38.250714</td>\n      <td>22.085822</td>\n      <td>NaN</td>\n      <td>NaN</td>\n      <td>NaN</td>\n      <td>NaN</td>\n      <td>NaN</td>\n      <td>NaN</td>\n      <td>HD068319</td>\n    </tr>\n    <tr>\n      <th>17</th>\n      <td>EDCS-03300852</td>\n      <td>AE 1995, 01409</td>\n      <td>Achaia</td>\n      <td>Alea / Tegea</td>\n      <td>Imp(eratori) / Floriano / P(io) F(elici) Aug(u...</td>\n      <td>Imp Floriano P F Aug p p m p III Imp Caes M Au...</td>\n      <td>Imperatori Floriano Pio Felici Augusto patri p...</td>\n      <td>miliaria</td>\n      <td>[Augusti/Augustae, viri]</td>\n      <td>NaN</td>\n      <td>Imp Floriano P F Aug p p m p III Imp Caes M Au...</td>\n      <td>Imperatori Floriano Pio Felici Augusto patri p...</td>\n      <td>Augusti/Augustae;  miliaria;  viri</td>\n      <td>lapis</td>\n      <td>http://db.edcs.eu/epigr/partner.php?s_language...</td>\n      <td>276.0</td>\n      <td>276.0</td>\n      <td>276.0</td>\n      <td>282.0</td>\n      <td>37.454501</td>\n      <td>22.420877</td>\n      <td>NaN</td>\n      <td>a:  276 to 276;   b:  276 to 282</td>\n      <td>NaN</td>\n      <td>NaN</td>\n      <td>NaN</td>\n      <td>NaN</td>\n      <td>HD051000</td>\n    </tr>\n    <tr>\n      <th>18</th>\n      <td>EDCS-66200178</td>\n      <td>AE 2009, 01314</td>\n      <td>Achaia</td>\n      <td>Alea / Tegea</td>\n      <td>Τοῦ σεπτοῦ τούτου τεμένος ἐν ἱερεῦσιν / ἐννεακ...</td>\n      <td>Τοῦ σεπτοῦ τούτου τεμένος ἐν ἱερεῦσιν ἐννεακαι...</td>\n      <td>Τοῦ σεπτοῦ τούτου τεμένος ἐν ἱερεῦσιν ἐννεακαι...</td>\n      <td>[tituli operum, tituli sacri]</td>\n      <td>viri</td>\n      <td>NaN</td>\n      <td>Τοῦ σεπτοῦ τούτου τεμένος ἐν ἱερεῦσιν ἐννεακαι...</td>\n      <td>Τοῦ σεπτοῦ τούτου τεμένος ἐν ἱερεῦσιν ἐννεακαι...</td>\n      <td>tituli operum;  tituli sacri;  viri</td>\n      <td>lapis</td>\n      <td>http://db.edcs.eu/epigr/partner.php?s_language...</td>\n      <td>527.0</td>\n      <td>565.0</td>\n      <td>527.0</td>\n      <td>565.0</td>\n      <td>37.454501</td>\n      <td>22.420877</td>\n      <td>NaN</td>\n      <td>527 to 565</td>\n      <td>NaN</td>\n      <td>NaN</td>\n      <td>NaN</td>\n      <td>NaN</td>\n      <td>HD068216</td>\n    </tr>\n    <tr>\n      <th>19</th>\n      <td>EDCS-28500283</td>\n      <td>CIL 03, 07251 = D 00214 = NDIEC-07, p 81 = AE ...</td>\n      <td>Achaia</td>\n      <td>Alea / Tegea</td>\n      <td>T[(iberius)] Claudius Caesar Aug(ustus) / G[er...</td>\n      <td>T Claudius Caesar Aug G anicus pontif max trib...</td>\n      <td>Tiberius Claudius Caesar Augustus Germanicus p...</td>\n      <td>leges</td>\n      <td>[Augusti/Augustae, viri]</td>\n      <td>NaN</td>\n      <td>T Claudius Caesar Aug G anicus pontif max trib...</td>\n      <td>Tiberius Claudius Caesar Augustus Germanicus p...</td>\n      <td>Augusti/Augustae;  leges;  viri</td>\n      <td>lapis</td>\n      <td>http://db.edcs.eu/epigr/partner.php?s_language...</td>\n      <td>49.0</td>\n      <td>50.0</td>\n      <td>49.0</td>\n      <td>50.0</td>\n      <td>37.454501</td>\n      <td>22.420877</td>\n      <td>NaN</td>\n      <td>49 to 50</td>\n      <td>NaN</td>\n      <td>NaN</td>\n      <td>NaN</td>\n      <td>NaN</td>\n      <td>HD021396</td>\n    </tr>\n  </tbody>\n</table>\n</div>"
     },
     "execution_count": 29,
     "metadata": {},
     "output_type": "execute_result"
    }
   ],
   "source": [
    "EDCS[EDCS[\"EDH-ID\"].notnull()].head(10)"
   ]
  },
  {
   "cell_type": "code",
   "execution_count": 30,
   "metadata": {
    "ExecuteTime": {
     "start_time": "2023-04-26T18:38:23.838778Z",
     "end_time": "2023-04-26T18:38:23.904726Z"
    }
   },
   "outputs": [
    {
     "data": {
      "text/plain": "80452"
     },
     "execution_count": 30,
     "metadata": {},
     "output_type": "execute_result"
    }
   ],
   "source": [
    "len(EDCS[EDCS[\"EDH-ID\"].notnull()])"
   ]
  },
  {
   "cell_type": "code",
   "execution_count": 31,
   "metadata": {
    "ExecuteTime": {
     "start_time": "2023-04-26T18:38:23.879840Z",
     "end_time": "2023-04-26T18:38:23.904874Z"
    }
   },
   "outputs": [
    {
     "data": {
      "text/plain": "537262"
     },
     "execution_count": 31,
     "metadata": {},
     "output_type": "execute_result"
    }
   ],
   "source": [
    "# actual length of EDCS\n",
    "len(EDCS)"
   ]
  },
  {
   "cell_type": "code",
   "execution_count": 32,
   "outputs": [
    {
     "data": {
      "text/plain": "                         commentary country depth  \\\n56898  (B): Δέκι<μ>ος statt Δέκιος.  Greece   NaN   \n\n                                         diplomatic_text findspot_ancient  \\\n56898  ΔΕΚΙΟΣ ΛΕΙΒΙΟΣ ΞΕΥΞΙΣ / / D LEIVEI D LEIVEI SALVE           Sparta   \n\n      findspot_modern height    EDH-ID language last_update letter_size  \\\n56898          Spárti  35 cm  HD057726       GL  2011-11-14        2 cm   \n\n                                              literature material  \\\n56898  IG 05, 01, 00741. (B) ; ILLRP 0962. ; CIL 01 (...      NaN   \n\n      modern_region not_after not_before responsible_individual  \\\n56898  Pelopónissos       NaN        NaN                  Cowey   \n\n                                           transcription  \\\n56898  Δέκιος Λείβιος &lt;Ζ=Ξ&gt;εῦξις // D(eci) Leiv...   \n\n                               trismegistos_uri type_of_inscription  \\\n56898  https://www.trismegistos.org/text/177460             epitaph   \n\n      type_of_monument  width work_status findspot  year_of_find  \\\n56898              NaN  16 cm    no image      NaN           NaN   \n\n      present_location religion  idno_tm  \\\n56898              NaN      NaN      NaN   \n\n                                         placenames_refs  \\\n56898  [{'type': 'province', 'text': 'Achaia'}, {'typ...   \n\n                                            text_edition origdate_text  \\\n56898  \\n \\xce\\x94\\xe1\\xbd\\xb3\\xce\\xba\\xce\\xb9\\xce\\xb...                 \n\n       layout_execution  layout_execution_text support_objecttype  \\\n56898               NaN                    NaN                NaN   \n\n      support_objecttype_text support_material support_material_text  \\\n56898                     NaN              NaN                   NaN   \n\n      support_decoration keywords_term keywords_term_text people  \\\n56898               1000            92            epitaph    NaN   \n\n      province_label pleiades_id  Longitude  Latitude  \\\n56898         Achaia      570685    22.4309   37.0737   \n\n      type_of_inscription_clean type_of_inscription_certainty  height_cm  \\\n56898                   epitaph                       Certain       35.0   \n\n       width_cm  depth_cm material_clean type_of_monument_clean  \\\n56898      16.0       NaN           NULL                   NULL   \n\n      type_of_monument_certainty province_label_clean  \\\n56898                       NULL               Achaia   \n\n      province_label_certainty country_clean country_certainty  \\\n56898                  Certain        Greece           Certain   \n\n      findspot_ancient_clean findspot_ancient_certainty modern_region_clean  \\\n56898                 Sparta                    Certain        Pelopónissos   \n\n      modern_region_certainty findspot_modern_clean findspot_modern_certainty  \\\n56898                 Certain                Spárti                   Certain   \n\n      findspot_clean findspot_certainty origdate_text_clean  \\\n56898           NULL               NULL                       \n\n                                 clean_text_conservative  \\\n56898  Δέκιος Λείβιος lt Ξ gt εῦξις D Leivei D Leivei...   \n\n                            clean_text_interpretive_word  \\\n56898  Δέκιος Λείβιος lt Ζ gt εῦξις Deci Leivei Deci ...   \n\n                        clean_text_interpretive_sentence  \n56898  Δέκιος Λείβιος lt;Ζ gt;εῦξις Deci Leivei Deci ...  ",
      "text/html": "<div>\n<style scoped>\n    .dataframe tbody tr th:only-of-type {\n        vertical-align: middle;\n    }\n\n    .dataframe tbody tr th {\n        vertical-align: top;\n    }\n\n    .dataframe thead th {\n        text-align: right;\n    }\n</style>\n<table border=\"1\" class=\"dataframe\">\n  <thead>\n    <tr style=\"text-align: right;\">\n      <th></th>\n      <th>commentary</th>\n      <th>country</th>\n      <th>depth</th>\n      <th>diplomatic_text</th>\n      <th>findspot_ancient</th>\n      <th>findspot_modern</th>\n      <th>height</th>\n      <th>EDH-ID</th>\n      <th>language</th>\n      <th>last_update</th>\n      <th>letter_size</th>\n      <th>literature</th>\n      <th>material</th>\n      <th>modern_region</th>\n      <th>not_after</th>\n      <th>not_before</th>\n      <th>responsible_individual</th>\n      <th>transcription</th>\n      <th>trismegistos_uri</th>\n      <th>type_of_inscription</th>\n      <th>type_of_monument</th>\n      <th>width</th>\n      <th>work_status</th>\n      <th>findspot</th>\n      <th>year_of_find</th>\n      <th>present_location</th>\n      <th>religion</th>\n      <th>idno_tm</th>\n      <th>placenames_refs</th>\n      <th>text_edition</th>\n      <th>origdate_text</th>\n      <th>layout_execution</th>\n      <th>layout_execution_text</th>\n      <th>support_objecttype</th>\n      <th>support_objecttype_text</th>\n      <th>support_material</th>\n      <th>support_material_text</th>\n      <th>support_decoration</th>\n      <th>keywords_term</th>\n      <th>keywords_term_text</th>\n      <th>people</th>\n      <th>province_label</th>\n      <th>pleiades_id</th>\n      <th>Longitude</th>\n      <th>Latitude</th>\n      <th>type_of_inscription_clean</th>\n      <th>type_of_inscription_certainty</th>\n      <th>height_cm</th>\n      <th>width_cm</th>\n      <th>depth_cm</th>\n      <th>material_clean</th>\n      <th>type_of_monument_clean</th>\n      <th>type_of_monument_certainty</th>\n      <th>province_label_clean</th>\n      <th>province_label_certainty</th>\n      <th>country_clean</th>\n      <th>country_certainty</th>\n      <th>findspot_ancient_clean</th>\n      <th>findspot_ancient_certainty</th>\n      <th>modern_region_clean</th>\n      <th>modern_region_certainty</th>\n      <th>findspot_modern_clean</th>\n      <th>findspot_modern_certainty</th>\n      <th>findspot_clean</th>\n      <th>findspot_certainty</th>\n      <th>origdate_text_clean</th>\n      <th>clean_text_conservative</th>\n      <th>clean_text_interpretive_word</th>\n      <th>clean_text_interpretive_sentence</th>\n    </tr>\n  </thead>\n  <tbody>\n    <tr>\n      <th>56898</th>\n      <td>(B): Δέκι&lt;μ&gt;ος statt Δέκιος.</td>\n      <td>Greece</td>\n      <td>NaN</td>\n      <td>ΔΕΚΙΟΣ ΛΕΙΒΙΟΣ ΞΕΥΞΙΣ / / D LEIVEI D LEIVEI SALVE</td>\n      <td>Sparta</td>\n      <td>Spárti</td>\n      <td>35 cm</td>\n      <td>HD057726</td>\n      <td>GL</td>\n      <td>2011-11-14</td>\n      <td>2 cm</td>\n      <td>IG 05, 01, 00741. (B) ; ILLRP 0962. ; CIL 01 (...</td>\n      <td>NaN</td>\n      <td>Pelopónissos</td>\n      <td>NaN</td>\n      <td>NaN</td>\n      <td>Cowey</td>\n      <td>Δέκιος Λείβιος &amp;lt;Ζ=Ξ&amp;gt;εῦξις // D(eci) Leiv...</td>\n      <td>https://www.trismegistos.org/text/177460</td>\n      <td>epitaph</td>\n      <td>NaN</td>\n      <td>16 cm</td>\n      <td>no image</td>\n      <td>NaN</td>\n      <td>NaN</td>\n      <td>NaN</td>\n      <td>NaN</td>\n      <td>NaN</td>\n      <td>[{'type': 'province', 'text': 'Achaia'}, {'typ...</td>\n      <td>\\n \\xce\\x94\\xe1\\xbd\\xb3\\xce\\xba\\xce\\xb9\\xce\\xb...</td>\n      <td></td>\n      <td>NaN</td>\n      <td>NaN</td>\n      <td>NaN</td>\n      <td>NaN</td>\n      <td>NaN</td>\n      <td>NaN</td>\n      <td>1000</td>\n      <td>92</td>\n      <td>epitaph</td>\n      <td>NaN</td>\n      <td>Achaia</td>\n      <td>570685</td>\n      <td>22.4309</td>\n      <td>37.0737</td>\n      <td>epitaph</td>\n      <td>Certain</td>\n      <td>35.0</td>\n      <td>16.0</td>\n      <td>NaN</td>\n      <td>NULL</td>\n      <td>NULL</td>\n      <td>NULL</td>\n      <td>Achaia</td>\n      <td>Certain</td>\n      <td>Greece</td>\n      <td>Certain</td>\n      <td>Sparta</td>\n      <td>Certain</td>\n      <td>Pelopónissos</td>\n      <td>Certain</td>\n      <td>Spárti</td>\n      <td>Certain</td>\n      <td>NULL</td>\n      <td>NULL</td>\n      <td></td>\n      <td>Δέκιος Λείβιος lt Ξ gt εῦξις D Leivei D Leivei...</td>\n      <td>Δέκιος Λείβιος lt Ζ gt εῦξις Deci Leivei Deci ...</td>\n      <td>Δέκιος Λείβιος lt;Ζ gt;εῦξις Deci Leivei Deci ...</td>\n    </tr>\n  </tbody>\n</table>\n</div>"
     },
     "execution_count": 32,
     "metadata": {},
     "output_type": "execute_result"
    }
   ],
   "source": [
    "EDH[EDH[\"EDH-ID\"]==\"HD057726\"]"
   ],
   "metadata": {
    "collapsed": false,
    "ExecuteTime": {
     "start_time": "2023-04-26T18:38:23.893095Z",
     "end_time": "2023-04-26T18:38:23.959024Z"
    }
   }
  },
  {
   "cell_type": "markdown",
   "metadata": {},
   "source": [
    "# Merge unfiltered versions of the two datasets"
   ]
  },
  {
   "cell_type": "code",
   "execution_count": 33,
   "metadata": {
    "ExecuteTime": {
     "start_time": "2023-04-26T18:38:23.905810Z",
     "end_time": "2023-04-26T18:38:23.959119Z"
    }
   },
   "outputs": [],
   "source": [
    "# rename and create some columns to make the dataset more similar\n",
    "EDCS.rename(columns={\"date_not_before\" : \"not_before\", \"date_not_after\" : \"not_after\"}, inplace=True)\n",
    "#EDCS[\"coordinates\"] = EDCS.apply(lambda row: [row[\"Longitude\"], row[\"Latitude\"]], axis=1)"
   ]
  },
  {
   "cell_type": "code",
   "execution_count": 34,
   "outputs": [
    {
     "data": {
      "text/plain": "528935"
     },
     "execution_count": 34,
     "metadata": {},
     "output_type": "execute_result"
    }
   ],
   "source": [
    "EDCS.rename(columns={\"language\" : \"language_EDCS\"}, inplace=True)\n",
    "(EDCS[\"language_EDCS\"].isnull()).sum()"
   ],
   "metadata": {
    "collapsed": false,
    "ExecuteTime": {
     "start_time": "2023-04-26T18:38:23.915726Z",
     "end_time": "2023-04-26T18:38:23.959205Z"
    }
   }
  },
  {
   "cell_type": "code",
   "execution_count": 35,
   "outputs": [],
   "source": [
    "# save the raw edcs language\n",
    "def get_language(edcs_language): # produce new language column in edh compatible form\n",
    "    if str(edcs_language) == \"nan\":\n",
    "        return \"L\"\n",
    "    elif edcs_language == \"GR\":\n",
    "        return \"G\"\n",
    "    else:\n",
    "        return np.nan\n",
    "EDCS[\"language\"] = EDCS[\"language_EDCS\"].apply(get_language)"
   ],
   "metadata": {
    "collapsed": false,
    "ExecuteTime": {
     "start_time": "2023-04-26T18:38:23.918961Z",
     "end_time": "2023-04-26T18:38:24.033448Z"
    }
   }
  },
  {
   "cell_type": "code",
   "execution_count": 36,
   "outputs": [
    {
     "data": {
      "text/plain": "['L', 'L', 'L', 'L', 'L', 'L', 'L', 'L', 'L', 'L']"
     },
     "execution_count": 36,
     "metadata": {},
     "output_type": "execute_result"
    }
   ],
   "source": [
    "EDCS[\"language\"].tolist()[:10]"
   ],
   "metadata": {
    "collapsed": false,
    "ExecuteTime": {
     "start_time": "2023-04-26T18:38:23.992955Z",
     "end_time": "2023-04-26T18:38:24.058273Z"
    }
   }
  },
  {
   "cell_type": "code",
   "execution_count": 37,
   "outputs": [
    {
     "data": {
      "text/plain": "528935"
     },
     "execution_count": 37,
     "metadata": {},
     "output_type": "execute_result"
    }
   ],
   "source": [
    "(EDCS[\"language_EDCS\"].isnull()).sum()"
   ],
   "metadata": {
    "collapsed": false,
    "ExecuteTime": {
     "start_time": "2023-04-26T18:38:24.004135Z",
     "end_time": "2023-04-26T18:38:24.058435Z"
    }
   }
  },
  {
   "cell_type": "code",
   "execution_count": 38,
   "outputs": [
    {
     "data": {
      "text/plain": "528935"
     },
     "execution_count": 38,
     "metadata": {},
     "output_type": "execute_result"
    }
   ],
   "source": [
    "(EDCS[\"language\"]==\"L\").sum()"
   ],
   "metadata": {
    "collapsed": false,
    "ExecuteTime": {
     "start_time": "2023-04-26T18:38:24.024746Z",
     "end_time": "2023-04-26T18:38:24.117048Z"
    }
   }
  },
  {
   "cell_type": "code",
   "execution_count": 39,
   "metadata": {
    "ExecuteTime": {
     "start_time": "2023-04-26T18:38:24.027739Z",
     "end_time": "2023-04-26T18:38:24.117157Z"
    }
   },
   "outputs": [],
   "source": [
    "EDCS[\"clean_text_interpretive_word_EDCS\"] = EDCS[\"clean_text_interpretive_word\"]"
   ]
  },
  {
   "cell_type": "markdown",
   "source": [
    "# Merge EDH & EDCS"
   ],
   "metadata": {
    "collapsed": false
   }
  },
  {
   "cell_type": "code",
   "execution_count": 40,
   "metadata": {
    "ExecuteTime": {
     "start_time": "2023-04-26T18:38:24.829139Z",
     "end_time": "2023-04-26T18:38:26.189240Z"
    }
   },
   "outputs": [
    {
     "data": {
      "text/plain": "540607"
     },
     "execution_count": 40,
     "metadata": {},
     "output_type": "execute_result"
    }
   ],
   "source": [
    "LIST = pd.merge(EDCS, EDH, on=\"EDH-ID\", how=\"outer\")\n",
    "len(LIST) # previously we had 505652"
   ]
  },
  {
   "cell_type": "code",
   "execution_count": 41,
   "metadata": {
    "ExecuteTime": {
     "start_time": "2023-04-26T18:38:26.167816Z",
     "end_time": "2023-04-26T18:38:26.189394Z"
    }
   },
   "outputs": [
    {
     "data": {
      "text/plain": "98"
     },
     "execution_count": 41,
     "metadata": {},
     "output_type": "execute_result"
    }
   ],
   "source": [
    "len(LIST.columns) # previously we had 107"
   ]
  },
  {
   "cell_type": "code",
   "execution_count": 42,
   "outputs": [],
   "source": [
    "with open(\"../data/missing_EDH.pickle\", \"rb\") as f:\n",
    "    missing = pickle.load(f)"
   ],
   "metadata": {
    "collapsed": false,
    "ExecuteTime": {
     "start_time": "2023-04-26T18:38:26.169984Z",
     "end_time": "2023-04-26T18:38:26.189439Z"
    }
   }
  },
  {
   "cell_type": "code",
   "execution_count": 43,
   "outputs": [
    {
     "data": {
      "text/plain": "        Latitude_x  Longitude_x  Latitude_y  Longitude_y\n456819   37.454501    22.420877         NaN          NaN\n456822   37.837612    24.937637         NaN          NaN\n456855   37.635311    22.725952     37.6308      22.7212\n456864   37.635311    22.725952     37.6308      22.7212\n456866   39.161555    20.985850         NaN          NaN\n456879   37.984149    23.727984         NaN          NaN\n456886   37.984149    23.727984         NaN          NaN\n456887   37.984149    23.727984         NaN          NaN\n456888   37.984149    23.727984         NaN          NaN\n456890   37.984149    23.727984     37.9832      23.7166\n456891   37.984149    23.727984         NaN          NaN\n456892   37.984149    23.727984         NaN          NaN\n456893   37.984149    23.727984     37.9832      23.7166\n456899   37.984149    23.727984         NaN          NaN\n456900   37.984149    23.727984         NaN          NaN\n456904   37.984149    23.727984         NaN          NaN\n456920   37.984149    23.727984         NaN          NaN\n456922   37.984149    23.727984         NaN          NaN\n456924   37.984149    23.727984         NaN          NaN\n456925   37.984149    23.727984         NaN          NaN\n456936   37.984149    23.727984         NaN          NaN\n456938   37.984149    23.727984         NaN          NaN\n456940   37.984149    23.727984         NaN          NaN\n456966   37.984149    23.727984         NaN          NaN\n456968   37.984149    23.727984         NaN          NaN\n456970   37.984149    23.727984         NaN          NaN\n456973   37.984149    23.727984         NaN          NaN\n456975   37.984149    23.727984         NaN          NaN\n456977   37.984149    23.727984     37.9832      23.7166\n456978   37.984149    23.727984         NaN          NaN\n456979   37.984149    23.727984         NaN          NaN\n456980   37.984149    23.727984         NaN          NaN\n456981   37.984149    23.727984         NaN          NaN\n456982   37.984149    23.727984         NaN          NaN\n456983   37.984149    23.727984         NaN          NaN\n456984   37.984149    23.727984     37.9832      23.7166\n456985   37.984149    23.727984         NaN          NaN\n456987   37.984149    23.727984         NaN          NaN\n457000   37.984149    23.727984         NaN          NaN\n457002   37.984149    23.727984         NaN          NaN\n457003   38.237934    20.560883         NaN          NaN\n457109   37.938694    22.928045         NaN          NaN\n457188   37.938694    22.928045         NaN          NaN\n457278   37.938694    22.928045         NaN          NaN\n457279   37.938694    22.928045         NaN          NaN\n457280   37.938694    22.928045         NaN          NaN\n457282   37.938694    22.928045         NaN          NaN\n457288   37.938694    22.928045         NaN          NaN\n457292   37.938694    22.928045         NaN          NaN\n457297   37.938694    22.928045         NaN          NaN",
      "text/html": "<div>\n<style scoped>\n    .dataframe tbody tr th:only-of-type {\n        vertical-align: middle;\n    }\n\n    .dataframe tbody tr th {\n        vertical-align: top;\n    }\n\n    .dataframe thead th {\n        text-align: right;\n    }\n</style>\n<table border=\"1\" class=\"dataframe\">\n  <thead>\n    <tr style=\"text-align: right;\">\n      <th></th>\n      <th>Latitude_x</th>\n      <th>Longitude_x</th>\n      <th>Latitude_y</th>\n      <th>Longitude_y</th>\n    </tr>\n  </thead>\n  <tbody>\n    <tr>\n      <th>456819</th>\n      <td>37.454501</td>\n      <td>22.420877</td>\n      <td>NaN</td>\n      <td>NaN</td>\n    </tr>\n    <tr>\n      <th>456822</th>\n      <td>37.837612</td>\n      <td>24.937637</td>\n      <td>NaN</td>\n      <td>NaN</td>\n    </tr>\n    <tr>\n      <th>456855</th>\n      <td>37.635311</td>\n      <td>22.725952</td>\n      <td>37.6308</td>\n      <td>22.7212</td>\n    </tr>\n    <tr>\n      <th>456864</th>\n      <td>37.635311</td>\n      <td>22.725952</td>\n      <td>37.6308</td>\n      <td>22.7212</td>\n    </tr>\n    <tr>\n      <th>456866</th>\n      <td>39.161555</td>\n      <td>20.985850</td>\n      <td>NaN</td>\n      <td>NaN</td>\n    </tr>\n    <tr>\n      <th>456879</th>\n      <td>37.984149</td>\n      <td>23.727984</td>\n      <td>NaN</td>\n      <td>NaN</td>\n    </tr>\n    <tr>\n      <th>456886</th>\n      <td>37.984149</td>\n      <td>23.727984</td>\n      <td>NaN</td>\n      <td>NaN</td>\n    </tr>\n    <tr>\n      <th>456887</th>\n      <td>37.984149</td>\n      <td>23.727984</td>\n      <td>NaN</td>\n      <td>NaN</td>\n    </tr>\n    <tr>\n      <th>456888</th>\n      <td>37.984149</td>\n      <td>23.727984</td>\n      <td>NaN</td>\n      <td>NaN</td>\n    </tr>\n    <tr>\n      <th>456890</th>\n      <td>37.984149</td>\n      <td>23.727984</td>\n      <td>37.9832</td>\n      <td>23.7166</td>\n    </tr>\n    <tr>\n      <th>456891</th>\n      <td>37.984149</td>\n      <td>23.727984</td>\n      <td>NaN</td>\n      <td>NaN</td>\n    </tr>\n    <tr>\n      <th>456892</th>\n      <td>37.984149</td>\n      <td>23.727984</td>\n      <td>NaN</td>\n      <td>NaN</td>\n    </tr>\n    <tr>\n      <th>456893</th>\n      <td>37.984149</td>\n      <td>23.727984</td>\n      <td>37.9832</td>\n      <td>23.7166</td>\n    </tr>\n    <tr>\n      <th>456899</th>\n      <td>37.984149</td>\n      <td>23.727984</td>\n      <td>NaN</td>\n      <td>NaN</td>\n    </tr>\n    <tr>\n      <th>456900</th>\n      <td>37.984149</td>\n      <td>23.727984</td>\n      <td>NaN</td>\n      <td>NaN</td>\n    </tr>\n    <tr>\n      <th>456904</th>\n      <td>37.984149</td>\n      <td>23.727984</td>\n      <td>NaN</td>\n      <td>NaN</td>\n    </tr>\n    <tr>\n      <th>456920</th>\n      <td>37.984149</td>\n      <td>23.727984</td>\n      <td>NaN</td>\n      <td>NaN</td>\n    </tr>\n    <tr>\n      <th>456922</th>\n      <td>37.984149</td>\n      <td>23.727984</td>\n      <td>NaN</td>\n      <td>NaN</td>\n    </tr>\n    <tr>\n      <th>456924</th>\n      <td>37.984149</td>\n      <td>23.727984</td>\n      <td>NaN</td>\n      <td>NaN</td>\n    </tr>\n    <tr>\n      <th>456925</th>\n      <td>37.984149</td>\n      <td>23.727984</td>\n      <td>NaN</td>\n      <td>NaN</td>\n    </tr>\n    <tr>\n      <th>456936</th>\n      <td>37.984149</td>\n      <td>23.727984</td>\n      <td>NaN</td>\n      <td>NaN</td>\n    </tr>\n    <tr>\n      <th>456938</th>\n      <td>37.984149</td>\n      <td>23.727984</td>\n      <td>NaN</td>\n      <td>NaN</td>\n    </tr>\n    <tr>\n      <th>456940</th>\n      <td>37.984149</td>\n      <td>23.727984</td>\n      <td>NaN</td>\n      <td>NaN</td>\n    </tr>\n    <tr>\n      <th>456966</th>\n      <td>37.984149</td>\n      <td>23.727984</td>\n      <td>NaN</td>\n      <td>NaN</td>\n    </tr>\n    <tr>\n      <th>456968</th>\n      <td>37.984149</td>\n      <td>23.727984</td>\n      <td>NaN</td>\n      <td>NaN</td>\n    </tr>\n    <tr>\n      <th>456970</th>\n      <td>37.984149</td>\n      <td>23.727984</td>\n      <td>NaN</td>\n      <td>NaN</td>\n    </tr>\n    <tr>\n      <th>456973</th>\n      <td>37.984149</td>\n      <td>23.727984</td>\n      <td>NaN</td>\n      <td>NaN</td>\n    </tr>\n    <tr>\n      <th>456975</th>\n      <td>37.984149</td>\n      <td>23.727984</td>\n      <td>NaN</td>\n      <td>NaN</td>\n    </tr>\n    <tr>\n      <th>456977</th>\n      <td>37.984149</td>\n      <td>23.727984</td>\n      <td>37.9832</td>\n      <td>23.7166</td>\n    </tr>\n    <tr>\n      <th>456978</th>\n      <td>37.984149</td>\n      <td>23.727984</td>\n      <td>NaN</td>\n      <td>NaN</td>\n    </tr>\n    <tr>\n      <th>456979</th>\n      <td>37.984149</td>\n      <td>23.727984</td>\n      <td>NaN</td>\n      <td>NaN</td>\n    </tr>\n    <tr>\n      <th>456980</th>\n      <td>37.984149</td>\n      <td>23.727984</td>\n      <td>NaN</td>\n      <td>NaN</td>\n    </tr>\n    <tr>\n      <th>456981</th>\n      <td>37.984149</td>\n      <td>23.727984</td>\n      <td>NaN</td>\n      <td>NaN</td>\n    </tr>\n    <tr>\n      <th>456982</th>\n      <td>37.984149</td>\n      <td>23.727984</td>\n      <td>NaN</td>\n      <td>NaN</td>\n    </tr>\n    <tr>\n      <th>456983</th>\n      <td>37.984149</td>\n      <td>23.727984</td>\n      <td>NaN</td>\n      <td>NaN</td>\n    </tr>\n    <tr>\n      <th>456984</th>\n      <td>37.984149</td>\n      <td>23.727984</td>\n      <td>37.9832</td>\n      <td>23.7166</td>\n    </tr>\n    <tr>\n      <th>456985</th>\n      <td>37.984149</td>\n      <td>23.727984</td>\n      <td>NaN</td>\n      <td>NaN</td>\n    </tr>\n    <tr>\n      <th>456987</th>\n      <td>37.984149</td>\n      <td>23.727984</td>\n      <td>NaN</td>\n      <td>NaN</td>\n    </tr>\n    <tr>\n      <th>457000</th>\n      <td>37.984149</td>\n      <td>23.727984</td>\n      <td>NaN</td>\n      <td>NaN</td>\n    </tr>\n    <tr>\n      <th>457002</th>\n      <td>37.984149</td>\n      <td>23.727984</td>\n      <td>NaN</td>\n      <td>NaN</td>\n    </tr>\n    <tr>\n      <th>457003</th>\n      <td>38.237934</td>\n      <td>20.560883</td>\n      <td>NaN</td>\n      <td>NaN</td>\n    </tr>\n    <tr>\n      <th>457109</th>\n      <td>37.938694</td>\n      <td>22.928045</td>\n      <td>NaN</td>\n      <td>NaN</td>\n    </tr>\n    <tr>\n      <th>457188</th>\n      <td>37.938694</td>\n      <td>22.928045</td>\n      <td>NaN</td>\n      <td>NaN</td>\n    </tr>\n    <tr>\n      <th>457278</th>\n      <td>37.938694</td>\n      <td>22.928045</td>\n      <td>NaN</td>\n      <td>NaN</td>\n    </tr>\n    <tr>\n      <th>457279</th>\n      <td>37.938694</td>\n      <td>22.928045</td>\n      <td>NaN</td>\n      <td>NaN</td>\n    </tr>\n    <tr>\n      <th>457280</th>\n      <td>37.938694</td>\n      <td>22.928045</td>\n      <td>NaN</td>\n      <td>NaN</td>\n    </tr>\n    <tr>\n      <th>457282</th>\n      <td>37.938694</td>\n      <td>22.928045</td>\n      <td>NaN</td>\n      <td>NaN</td>\n    </tr>\n    <tr>\n      <th>457288</th>\n      <td>37.938694</td>\n      <td>22.928045</td>\n      <td>NaN</td>\n      <td>NaN</td>\n    </tr>\n    <tr>\n      <th>457292</th>\n      <td>37.938694</td>\n      <td>22.928045</td>\n      <td>NaN</td>\n      <td>NaN</td>\n    </tr>\n    <tr>\n      <th>457297</th>\n      <td>37.938694</td>\n      <td>22.928045</td>\n      <td>NaN</td>\n      <td>NaN</td>\n    </tr>\n  </tbody>\n</table>\n</div>"
     },
     "execution_count": 43,
     "metadata": {},
     "output_type": "execute_result"
    }
   ],
   "source": [
    "LIST[LIST[\"EDH-ID\"].isin(missing)][[\"Latitude_x\", \"Longitude_x\", \"Latitude_y\", \"Longitude_y\"]].head(50)"
   ],
   "metadata": {
    "collapsed": false,
    "ExecuteTime": {
     "start_time": "2023-04-26T18:38:26.182254Z",
     "end_time": "2023-04-26T18:38:27.038151Z"
    }
   }
  },
  {
   "cell_type": "code",
   "execution_count": 44,
   "outputs": [
    {
     "data": {
      "text/plain": "90"
     },
     "execution_count": 44,
     "metadata": {},
     "output_type": "execute_result"
    }
   ],
   "source": [
    "def choose_by_edh_id(row, col):\n",
    "    value = row[col]\n",
    "    if (row[\"EDH-ID\"] == None):\n",
    "        value = row[col.rpartition(\"_y\")[0] + \"_x\"]\n",
    "    else:\n",
    "        if isinstance(row[col], float):\n",
    "            if math.isnan(row[col]):\n",
    "                value = row[col.rpartition(\"_y\")[0] + \"_x\"]\n",
    "        else:\n",
    "            if row[col]==None: \\\n",
    "                value = row[col.rpartition(\"_y\")[0] + \"_x\"]\n",
    "    return value\n",
    "\n",
    "\n",
    "for col in LIST.columns:\n",
    "    if re.search(\"_y$\", col):\n",
    "        LIST[col.rpartition(\"_y\")[0]] = LIST.apply(lambda row: choose_by_edh_id(row, col), axis=1)\n",
    "        LIST.drop([col, col.rpartition(\"_y\")[0] + \"_x\"], axis=1, inplace=True)\n",
    "        #LIRE.rename(columns={col : col.rpartition(\"_y\")[0]}, inplace=True)\n",
    "len(LIST.columns)"
   ],
   "metadata": {
    "collapsed": false,
    "ExecuteTime": {
     "start_time": "2023-04-26T18:38:27.178219Z",
     "end_time": "2023-04-26T18:39:06.321906Z"
    }
   }
  },
  {
   "cell_type": "code",
   "execution_count": 45,
   "metadata": {
    "ExecuteTime": {
     "start_time": "2023-04-26T18:39:06.328650Z",
     "end_time": "2023-04-26T18:39:07.119918Z"
    }
   },
   "outputs": [
    {
     "data": {
      "text/plain": "              EDCS-ID                                        publication  \\\n456810  EDCS-24700151  CIL 01, 02650 (p 1097) = IG-05-01, 00741 = ILL...   \n456811  EDCS-24900077  CIL 01, 00746 (p 944) = D 00867 = ILLRP 00374 ...   \n456812  EDCS-03700724  ZPE-108-159 = Thesprotia 00001 = AE 1993, 0140...   \n456813  EDCS-66200107                                     AE 2008, 01264   \n456814  EDCS-13800065  CIL 01, 02955 = ILLRP 00370 (p 327) = ILGR 000...   \n\n       province                           place  \\\n456810   Achaia                          Afesou   \n456811   Achaia   Agia Triada / Merbaka / Midea   \n456812   Achaia      Agios Athanasios / Photike   \n456813   Achaia  Aigio / Egio / Aiyion / Aegeum   \n456814   Achaia  Aigio / Egio / Aiyion / Aegeum   \n\n                                              inscription  \\\n456810  Δέκιος Λείβιος (Ζ)εῦξις // D(ecimi) Leivei D(e...   \n456811  Q(uinto) Caecilio C(ai) f(ilio) Metel(l)o / im...   \n456812  Fortissimo et Piis/simo Caesari d(omino) n(ost...   \n456813  [3]ν τὸν λαμ/[πρότατον ὑπατικ]όν Ἄππιος Κυ/[3 ...   \n456814  Italicei / quei Aegei negotiantur / P(ublium) ...   \n\n                        inscription_conservative_cleaning  \\\n456810       Δέκιος Λείβιος εῦξις D Leivei D Leivei salve   \n456811  Q Caecilio C f Metelo imperatori Italici quei ...   \n456812  Fortissimo et Piissimo Caesari d n Gal Val P F...   \n456813                       ν τὸν λαμ όν Ἄππιος Κυ τρωνα   \n456814  Italicei quei Aegei negotiantur P Rutilium P f...   \n\n                        inscription_interpretive_cleaning          inscr_type  \\\n456810  Δέκιος Λείβιος Ζεῦξις Decimi Leivei Decimi Lei...  tituli sepulcrales   \n456811  Quinto Caecilio Cai filio Metello imperatori I...    tituli honorarii   \n456812  Fortissimo et Piissimo Caesari domino nostro G...    tituli honorarii   \n456813  ν τὸν λαμπρότατον ὑπατικόν Ἄππιος Κυ τὸν ἑαυτο...                 NaN   \n456814  Italicei quei Aegei negotiantur Publium Rutili...    tituli honorarii   \n\n                                          status_notation    inscr_process  \\\n456810                         [praenomen et nomen, viri]              NaN   \n456811  [officium/professio, ordo senatorius, tria nom...              NaN   \n456812     [Augusti/Augustae, ordo equester, tria nomina]  litterae erasae   \n456813                                                NaN              NaN   \n456814  [officium/professio, ordo senatorius, tria nom...              NaN   \n\n                                                   status  \\\n456810     praenomen et nomen;  tituli sepulcrales;  viri   \n456811  officium/professio;  ordo senatorius;  tituli ...   \n456812  Augusti/Augustae;  litterae erasae;  ordo eque...   \n456813                                                NaN   \n456814  officium/professio;  ordo senatorius;  tituli ...   \n\n                                             partner_link  dating_from  \\\n456810  http://db.edcs.eu/epigr/partner.php?s_language...          NaN   \n456811  http://db.edcs.eu/epigr/partner.php?s_language...        -68.0   \n456812  http://db.edcs.eu/epigr/partner.php?s_language...        309.0   \n456813  http://db.edcs.eu/epigr/partner.php?s_language...        151.0   \n456814  http://db.edcs.eu/epigr/partner.php?s_language...        -74.0   \n\n        dating_to                                              photo  \\\n456810        NaN                                                NaN   \n456811      -68.0  http://db.edcs.eu/epigr/bilder.php?bilder.php?...   \n456812      313.0  http://db.edcs.eu/epigr/bilder.php?bilder.php?...   \n456813      250.0                                                NaN   \n456814      -74.0                                                NaN   \n\n        raw_dating language_EDCS comment extra_text extra_html    EDH-ID  \\\n456810         NaN           NaN     NaN        NaN        NaN  HD057726   \n456811  -68 to -68           NaN     NaN        NaN        NaN  HD056163   \n456812  309 to 313           NaN     NaN        NaN        NaN  HD052964   \n456813  151 to 250           NaN     NaN        NaN        NaN  HD067316   \n456814  -74 to -74           NaN     NaN        NaN        NaN  HD017714   \n\n                        clean_text_interpretive_word_EDCS  \\\n456810  Δέκιος Λείβιος Ζεῦξις Decimi Leivei Decimi Lei...   \n456811  Quinto Caecilio Cai filio Metello imperatori I...   \n456812  Fortissimo et Piissimo Caesari domino nostro G...   \n456813  ν τὸν λαμπρότατον ὑπατικόν Ἄππιος Κυ τὸν ἑαυτο...   \n456814  Italicei quei Aegei negotiantur Publium Rutili...   \n\n                          commentary country  depth  \\\n456810  (B): Δέκι<μ>ος statt Δέκιος.  Greece    NaN   \n456811                           NaN  Greece    NaN   \n456812                           NaN  Greece  67 cm   \n456813                           NaN  Greece   2 cm   \n456814                           NaN  Greece  16 cm   \n\n                                          diplomatic_text findspot_ancient  \\\n456810  ΔΕΚΙΟΣ ΛΕΙΒΙΟΣ ΞΕΥΞΙΣ / / D LEIVEI D LEIVEI SALVE           Sparta   \n456811  Q CAECILIO C F METELO / IMPERATORI ITALICI / Q...            Midea   \n456812  FORTISSIMO ET PIIS / SIMO CAESARI D N / GAL VA...          Photike   \n456813          [ ]Ν ΤΟΝ ΛΑΜ / [ ]ΟΝ ΑΠΠΙΟΣ ΚΥ / [ ]ΤΡΩΝΑ           Aegeum   \n456814  ITALICEI / QVEI AEGEI NEGOTIANTVR / P RVTILIVM...           Aegeum   \n\n       findspot_modern height last_update letter_size  \\\n456810          Spárti  35 cm  2011-11-14        2 cm   \n456811          Midhéa    NaN  2011-11-11         NaN   \n456812      Paramythía  99 cm  2014-09-16    3-5.3 cm   \n456813          Aígion  15 cm  2014-01-31        3 cm   \n456814          Aígion  58 cm  2011-03-29  3.5-3.7 cm   \n\n                                               literature  modern_region  \\\n456810  IG 05, 01, 00741. (B) ; ILLRP 0962. ; CIL 01 (...   Pelopónissos   \n456811  CIL 03, 00531. ; ILS 0867. ; CIL 01 (2. Aufl.)...   Pelopónissos   \n456812  AE 1993, 1406. ; V. Papadopoulou, AD 43 B, 198...        Ípeiros   \n456813  AE 2008, 1264. ; A.D. Rizakis, Achaïe III. Les...  Dytikí Elláda   \n456814  AE 1954, 0031. ; J. Bingen, BCH 78, 1954, 82-8...  Dytikí Elláda   \n\n       responsible_individual  \\\n456810                  Cowey   \n456811                  Cowey   \n456812                  Cowey   \n456813                  Cowey   \n456814                  Cowey   \n\n                                            transcription  \\\n456810  Δέκιος Λείβιος &lt;Ζ=Ξ&gt;εῦξις // D(eci) Leiv...   \n456811  Q(uinto) Caecilio C(ai) f(ilio) Metelo / imper...   \n456812  Fortissimo et piis/simo Caesari d(omino) n(ost...   \n456813  [---]ν τὸν λαμ/[πρότατον ὑπατικ]όν Ἄππιος Κυ/[...   \n456814  Italicei / quei Aegei negotiantur / P(ublium) ...   \n\n                                trismegistos_uri    type_of_inscription  \\\n456810  https://www.trismegistos.org/text/177460                epitaph   \n456811  https://www.trismegistos.org/text/177366  honorific inscription   \n456812  https://www.trismegistos.org/text/121715  honorific inscription   \n456813  https://www.trismegistos.org/text/677832                    NaN   \n456814  https://www.trismegistos.org/text/177100     votive inscription   \n\n       type_of_monument  width         work_status            findspot  \\\n456810              NaN  16 cm            no image                 NaN   \n456811              NaN    NaN            no image                 NaN   \n456812      statue base  67 cm  checked with photo  {Agios Athanasios}   \n456813              NaN  34 cm  checked with photo                 NaN   \n456814           tabula  61 cm  checked with photo                 NaN   \n\n        year_of_find present_location religion  idno_tm  \\\n456810           NaN              NaN      NaN      NaN   \n456811           NaN              NaN      NaN      NaN   \n456812           NaN    Fragma Kalama      NaN      NaN   \n456813           NaN              NaN      NaN      NaN   \n456814           NaN              NaN      NaN      NaN   \n\n                                          placenames_refs  \\\n456810  [{'type': 'province', 'text': 'Achaia'}, {'typ...   \n456811  [{'type': 'province', 'text': 'Achaia'}, {'typ...   \n456812  [{'type': 'province', 'text': 'Epirus'}, {'typ...   \n456813  [{'type': 'province', 'text': 'Achaia'}, {'typ...   \n456814  [{'type': 'province', 'text': 'Achaia'}, {'typ...   \n\n                                             text_edition    origdate_text  \\\n456810  \\n \\xce\\x94\\xe1\\xbd\\xb3\\xce\\xba\\xce\\xb9\\xce\\xb...                    \n456811  \\n Quinto Caecilio Cai filio Metelo imperatori...            68 BC   \n456812  \\n Fortissimo et piissimo Caesari domino nostr...  309 AD - 313 AD   \n456813  \\n \\xce\\xbd \\xcf\\x84\\xe1\\xbd\\xb8\\xce\\xbd \\xce\\...  151 AD - 250 AD   \n456814  \\n Italicei quei Aegei negotiantur Publium Rut...            74 BC   \n\n        layout_execution  layout_execution_text support_objecttype  \\\n456810               NaN                    NaN                NaN   \n456811               NaN                    NaN                NaN   \n456812               NaN                    NaN                 57   \n456813               NaN                    NaN                NaN   \n456814               NaN                    NaN                257   \n\n       support_objecttype_text support_material support_material_text  \\\n456810                     NaN              NaN                   NaN   \n456811                     NaN              NaN                   NaN   \n456812             statue base              NaN                   NaN   \n456813                     NaN               48   Marmor, wei\\xc3\\x9f   \n456814                  tabula              NaN                   NaN   \n\n       support_decoration keywords_term     keywords_term_text  \\\n456810               1000            92                epitaph   \n456811               1000            69  honorific inscription   \n456812               1000            69  honorific inscription   \n456813               1000           143                unknown   \n456814               1000           372     votive inscription   \n\n                                                   people province_label  \\\n456810                                                NaN         Achaia   \n456811                                                NaN         Achaia   \n456812  [{'persname': {'name': [{'@type': 'nomen', '#t...         Epirus   \n456813                                                NaN         Achaia   \n456814                                                NaN         Achaia   \n\n       pleiades_id type_of_inscription_clean type_of_inscription_certainty  \\\n456810      570685                   epitaph                       Certain   \n456811      570485     honorific inscription                       Certain   \n456812      531064     honorific inscription                       Certain   \n456813      570049                      NULL                          NULL   \n456814      570049        votive inscription                       Certain   \n\n        height_cm  width_cm  depth_cm material_clean type_of_monument_clean  \\\n456810       35.0      16.0       NaN           NULL                   NULL   \n456811        NaN       NaN       NaN           NULL                   NULL   \n456812       99.0      67.0      67.0           NULL            statue base   \n456813       15.0      34.0       2.0         Marble                   NULL   \n456814       58.0      61.0      16.0           NULL                 tabula   \n\n       type_of_monument_certainty province_label_clean  \\\n456810                       NULL               Achaia   \n456811                       NULL               Achaia   \n456812                    Certain               Epirus   \n456813                       NULL               Achaia   \n456814                    Certain               Achaia   \n\n       province_label_certainty country_clean country_certainty  \\\n456810                  Certain        Greece           Certain   \n456811                  Certain        Greece           Certain   \n456812                  Certain        Greece           Certain   \n456813                  Certain        Greece           Certain   \n456814                  Certain        Greece           Certain   \n\n       findspot_ancient_clean findspot_ancient_certainty modern_region_clean  \\\n456810                 Sparta                    Certain        Pelopónissos   \n456811                  Midea                    Certain        Pelopónissos   \n456812                Photike                    Certain             Ípeiros   \n456813                 Aegeum                    Certain       Dytikí Elláda   \n456814                 Aegeum                    Certain       Dytikí Elláda   \n\n       modern_region_certainty findspot_modern_clean  \\\n456810                 Certain                Spárti   \n456811                 Certain                Midhéa   \n456812                 Certain            Paramythía   \n456813                 Certain                Aígion   \n456814                 Certain                Aígion   \n\n       findspot_modern_certainty      findspot_clean findspot_certainty  \\\n456810                   Certain                NULL               NULL   \n456811                   Certain                NULL               NULL   \n456812                   Certain  {Agios Athanasios}            Certain   \n456813                   Certain                NULL               NULL   \n456814                   Certain                NULL               NULL   \n\n       origdate_text_clean                   clean_text_interpretive_sentence  \\\n456810                      Δέκιος Λείβιος lt;Ζ gt;εῦξις Deci Leivei Deci ...   \n456811               68 BC  Quinto Caecilio Cai filio Metelo imperatori It...   \n456812     309 AD - 313 AD  Fortissimo et piissimo Caesari domino nostro G...   \n456813     151 AD - 250 AD  ν τὸν λαμπρότατον ὑπατικόν Ἄππιος Κυ τὸν ἑαυτο...   \n456814               74 BC  Italicei quei Aegei negotiantur Publium Rutili...   \n\n       language      material not_after not_before  Longitude  Latitude  \\\n456810       GL         lapis       NaN        NaN    22.4309   37.0737   \n456811        L           NaN     -68.0        -68    22.8412   37.6498   \n456812        L           NaN       313        309    20.7668   39.4512   \n456813        G  Marmor, weiß       250        151    22.0845   38.2487   \n456814        L         lapis     -74.0        -74    22.0845   38.2487   \n\n                                  clean_text_conservative  \\\n456810  Δέκιος Λείβιος lt Ξ gt εῦξις D Leivei D Leivei...   \n456811  Q Caecilio C f Metelo imperatori Italici quei ...   \n456812  Fortissimo et piissimo Caesari d n Gal Val P F...   \n456813                         ν τὸν λαμόν Ἄππιος Κυτρωνα   \n456814  Italicei quei Aegei negotiantur P Rutilium P f...   \n\n                             clean_text_interpretive_word  \n456810  Δέκιος Λείβιος lt Ζ gt εῦξις Deci Leivei Deci ...  \n456811  Quinto Caecilio Cai filio Metelo imperatori It...  \n456812  Fortissimo et piissimo Caesari domino nostro G...  \n456813  ν τὸν λαμπρότατον ὑπατικόν Ἄππιος Κυ τὸν ἑαυτο...  \n456814  Italicei quei Aegei negotiantur Publium Rutili...  ",
      "text/html": "<div>\n<style scoped>\n    .dataframe tbody tr th:only-of-type {\n        vertical-align: middle;\n    }\n\n    .dataframe tbody tr th {\n        vertical-align: top;\n    }\n\n    .dataframe thead th {\n        text-align: right;\n    }\n</style>\n<table border=\"1\" class=\"dataframe\">\n  <thead>\n    <tr style=\"text-align: right;\">\n      <th></th>\n      <th>EDCS-ID</th>\n      <th>publication</th>\n      <th>province</th>\n      <th>place</th>\n      <th>inscription</th>\n      <th>inscription_conservative_cleaning</th>\n      <th>inscription_interpretive_cleaning</th>\n      <th>inscr_type</th>\n      <th>status_notation</th>\n      <th>inscr_process</th>\n      <th>status</th>\n      <th>partner_link</th>\n      <th>dating_from</th>\n      <th>dating_to</th>\n      <th>photo</th>\n      <th>raw_dating</th>\n      <th>language_EDCS</th>\n      <th>comment</th>\n      <th>extra_text</th>\n      <th>extra_html</th>\n      <th>EDH-ID</th>\n      <th>clean_text_interpretive_word_EDCS</th>\n      <th>commentary</th>\n      <th>country</th>\n      <th>depth</th>\n      <th>diplomatic_text</th>\n      <th>findspot_ancient</th>\n      <th>findspot_modern</th>\n      <th>height</th>\n      <th>last_update</th>\n      <th>letter_size</th>\n      <th>literature</th>\n      <th>modern_region</th>\n      <th>responsible_individual</th>\n      <th>transcription</th>\n      <th>trismegistos_uri</th>\n      <th>type_of_inscription</th>\n      <th>type_of_monument</th>\n      <th>width</th>\n      <th>work_status</th>\n      <th>findspot</th>\n      <th>year_of_find</th>\n      <th>present_location</th>\n      <th>religion</th>\n      <th>idno_tm</th>\n      <th>placenames_refs</th>\n      <th>text_edition</th>\n      <th>origdate_text</th>\n      <th>layout_execution</th>\n      <th>layout_execution_text</th>\n      <th>support_objecttype</th>\n      <th>support_objecttype_text</th>\n      <th>support_material</th>\n      <th>support_material_text</th>\n      <th>support_decoration</th>\n      <th>keywords_term</th>\n      <th>keywords_term_text</th>\n      <th>people</th>\n      <th>province_label</th>\n      <th>pleiades_id</th>\n      <th>type_of_inscription_clean</th>\n      <th>type_of_inscription_certainty</th>\n      <th>height_cm</th>\n      <th>width_cm</th>\n      <th>depth_cm</th>\n      <th>material_clean</th>\n      <th>type_of_monument_clean</th>\n      <th>type_of_monument_certainty</th>\n      <th>province_label_clean</th>\n      <th>province_label_certainty</th>\n      <th>country_clean</th>\n      <th>country_certainty</th>\n      <th>findspot_ancient_clean</th>\n      <th>findspot_ancient_certainty</th>\n      <th>modern_region_clean</th>\n      <th>modern_region_certainty</th>\n      <th>findspot_modern_clean</th>\n      <th>findspot_modern_certainty</th>\n      <th>findspot_clean</th>\n      <th>findspot_certainty</th>\n      <th>origdate_text_clean</th>\n      <th>clean_text_interpretive_sentence</th>\n      <th>language</th>\n      <th>material</th>\n      <th>not_after</th>\n      <th>not_before</th>\n      <th>Longitude</th>\n      <th>Latitude</th>\n      <th>clean_text_conservative</th>\n      <th>clean_text_interpretive_word</th>\n    </tr>\n  </thead>\n  <tbody>\n    <tr>\n      <th>456810</th>\n      <td>EDCS-24700151</td>\n      <td>CIL 01, 02650 (p 1097) = IG-05-01, 00741 = ILL...</td>\n      <td>Achaia</td>\n      <td>Afesou</td>\n      <td>Δέκιος Λείβιος (Ζ)εῦξις // D(ecimi) Leivei D(e...</td>\n      <td>Δέκιος Λείβιος εῦξις D Leivei D Leivei salve</td>\n      <td>Δέκιος Λείβιος Ζεῦξις Decimi Leivei Decimi Lei...</td>\n      <td>tituli sepulcrales</td>\n      <td>[praenomen et nomen, viri]</td>\n      <td>NaN</td>\n      <td>praenomen et nomen;  tituli sepulcrales;  viri</td>\n      <td>http://db.edcs.eu/epigr/partner.php?s_language...</td>\n      <td>NaN</td>\n      <td>NaN</td>\n      <td>NaN</td>\n      <td>NaN</td>\n      <td>NaN</td>\n      <td>NaN</td>\n      <td>NaN</td>\n      <td>NaN</td>\n      <td>HD057726</td>\n      <td>Δέκιος Λείβιος Ζεῦξις Decimi Leivei Decimi Lei...</td>\n      <td>(B): Δέκι&lt;μ&gt;ος statt Δέκιος.</td>\n      <td>Greece</td>\n      <td>NaN</td>\n      <td>ΔΕΚΙΟΣ ΛΕΙΒΙΟΣ ΞΕΥΞΙΣ / / D LEIVEI D LEIVEI SALVE</td>\n      <td>Sparta</td>\n      <td>Spárti</td>\n      <td>35 cm</td>\n      <td>2011-11-14</td>\n      <td>2 cm</td>\n      <td>IG 05, 01, 00741. (B) ; ILLRP 0962. ; CIL 01 (...</td>\n      <td>Pelopónissos</td>\n      <td>Cowey</td>\n      <td>Δέκιος Λείβιος &amp;lt;Ζ=Ξ&amp;gt;εῦξις // D(eci) Leiv...</td>\n      <td>https://www.trismegistos.org/text/177460</td>\n      <td>epitaph</td>\n      <td>NaN</td>\n      <td>16 cm</td>\n      <td>no image</td>\n      <td>NaN</td>\n      <td>NaN</td>\n      <td>NaN</td>\n      <td>NaN</td>\n      <td>NaN</td>\n      <td>[{'type': 'province', 'text': 'Achaia'}, {'typ...</td>\n      <td>\\n \\xce\\x94\\xe1\\xbd\\xb3\\xce\\xba\\xce\\xb9\\xce\\xb...</td>\n      <td></td>\n      <td>NaN</td>\n      <td>NaN</td>\n      <td>NaN</td>\n      <td>NaN</td>\n      <td>NaN</td>\n      <td>NaN</td>\n      <td>1000</td>\n      <td>92</td>\n      <td>epitaph</td>\n      <td>NaN</td>\n      <td>Achaia</td>\n      <td>570685</td>\n      <td>epitaph</td>\n      <td>Certain</td>\n      <td>35.0</td>\n      <td>16.0</td>\n      <td>NaN</td>\n      <td>NULL</td>\n      <td>NULL</td>\n      <td>NULL</td>\n      <td>Achaia</td>\n      <td>Certain</td>\n      <td>Greece</td>\n      <td>Certain</td>\n      <td>Sparta</td>\n      <td>Certain</td>\n      <td>Pelopónissos</td>\n      <td>Certain</td>\n      <td>Spárti</td>\n      <td>Certain</td>\n      <td>NULL</td>\n      <td>NULL</td>\n      <td></td>\n      <td>Δέκιος Λείβιος lt;Ζ gt;εῦξις Deci Leivei Deci ...</td>\n      <td>GL</td>\n      <td>lapis</td>\n      <td>NaN</td>\n      <td>NaN</td>\n      <td>22.4309</td>\n      <td>37.0737</td>\n      <td>Δέκιος Λείβιος lt Ξ gt εῦξις D Leivei D Leivei...</td>\n      <td>Δέκιος Λείβιος lt Ζ gt εῦξις Deci Leivei Deci ...</td>\n    </tr>\n    <tr>\n      <th>456811</th>\n      <td>EDCS-24900077</td>\n      <td>CIL 01, 00746 (p 944) = D 00867 = ILLRP 00374 ...</td>\n      <td>Achaia</td>\n      <td>Agia Triada / Merbaka / Midea</td>\n      <td>Q(uinto) Caecilio C(ai) f(ilio) Metel(l)o / im...</td>\n      <td>Q Caecilio C f Metelo imperatori Italici quei ...</td>\n      <td>Quinto Caecilio Cai filio Metello imperatori I...</td>\n      <td>tituli honorarii</td>\n      <td>[officium/professio, ordo senatorius, tria nom...</td>\n      <td>NaN</td>\n      <td>officium/professio;  ordo senatorius;  tituli ...</td>\n      <td>http://db.edcs.eu/epigr/partner.php?s_language...</td>\n      <td>-68.0</td>\n      <td>-68.0</td>\n      <td>http://db.edcs.eu/epigr/bilder.php?bilder.php?...</td>\n      <td>-68 to -68</td>\n      <td>NaN</td>\n      <td>NaN</td>\n      <td>NaN</td>\n      <td>NaN</td>\n      <td>HD056163</td>\n      <td>Quinto Caecilio Cai filio Metello imperatori I...</td>\n      <td>NaN</td>\n      <td>Greece</td>\n      <td>NaN</td>\n      <td>Q CAECILIO C F METELO / IMPERATORI ITALICI / Q...</td>\n      <td>Midea</td>\n      <td>Midhéa</td>\n      <td>NaN</td>\n      <td>2011-11-11</td>\n      <td>NaN</td>\n      <td>CIL 03, 00531. ; ILS 0867. ; CIL 01 (2. Aufl.)...</td>\n      <td>Pelopónissos</td>\n      <td>Cowey</td>\n      <td>Q(uinto) Caecilio C(ai) f(ilio) Metelo / imper...</td>\n      <td>https://www.trismegistos.org/text/177366</td>\n      <td>honorific inscription</td>\n      <td>NaN</td>\n      <td>NaN</td>\n      <td>no image</td>\n      <td>NaN</td>\n      <td>NaN</td>\n      <td>NaN</td>\n      <td>NaN</td>\n      <td>NaN</td>\n      <td>[{'type': 'province', 'text': 'Achaia'}, {'typ...</td>\n      <td>\\n Quinto Caecilio Cai filio Metelo imperatori...</td>\n      <td>68 BC</td>\n      <td>NaN</td>\n      <td>NaN</td>\n      <td>NaN</td>\n      <td>NaN</td>\n      <td>NaN</td>\n      <td>NaN</td>\n      <td>1000</td>\n      <td>69</td>\n      <td>honorific inscription</td>\n      <td>NaN</td>\n      <td>Achaia</td>\n      <td>570485</td>\n      <td>honorific inscription</td>\n      <td>Certain</td>\n      <td>NaN</td>\n      <td>NaN</td>\n      <td>NaN</td>\n      <td>NULL</td>\n      <td>NULL</td>\n      <td>NULL</td>\n      <td>Achaia</td>\n      <td>Certain</td>\n      <td>Greece</td>\n      <td>Certain</td>\n      <td>Midea</td>\n      <td>Certain</td>\n      <td>Pelopónissos</td>\n      <td>Certain</td>\n      <td>Midhéa</td>\n      <td>Certain</td>\n      <td>NULL</td>\n      <td>NULL</td>\n      <td>68 BC</td>\n      <td>Quinto Caecilio Cai filio Metelo imperatori It...</td>\n      <td>L</td>\n      <td>NaN</td>\n      <td>-68.0</td>\n      <td>-68</td>\n      <td>22.8412</td>\n      <td>37.6498</td>\n      <td>Q Caecilio C f Metelo imperatori Italici quei ...</td>\n      <td>Quinto Caecilio Cai filio Metelo imperatori It...</td>\n    </tr>\n    <tr>\n      <th>456812</th>\n      <td>EDCS-03700724</td>\n      <td>ZPE-108-159 = Thesprotia 00001 = AE 1993, 0140...</td>\n      <td>Achaia</td>\n      <td>Agios Athanasios / Photike</td>\n      <td>Fortissimo et Piis/simo Caesari d(omino) n(ost...</td>\n      <td>Fortissimo et Piissimo Caesari d n Gal Val P F...</td>\n      <td>Fortissimo et Piissimo Caesari domino nostro G...</td>\n      <td>tituli honorarii</td>\n      <td>[Augusti/Augustae, ordo equester, tria nomina]</td>\n      <td>litterae erasae</td>\n      <td>Augusti/Augustae;  litterae erasae;  ordo eque...</td>\n      <td>http://db.edcs.eu/epigr/partner.php?s_language...</td>\n      <td>309.0</td>\n      <td>313.0</td>\n      <td>http://db.edcs.eu/epigr/bilder.php?bilder.php?...</td>\n      <td>309 to 313</td>\n      <td>NaN</td>\n      <td>NaN</td>\n      <td>NaN</td>\n      <td>NaN</td>\n      <td>HD052964</td>\n      <td>Fortissimo et Piissimo Caesari domino nostro G...</td>\n      <td>NaN</td>\n      <td>Greece</td>\n      <td>67 cm</td>\n      <td>FORTISSIMO ET PIIS / SIMO CAESARI D N / GAL VA...</td>\n      <td>Photike</td>\n      <td>Paramythía</td>\n      <td>99 cm</td>\n      <td>2014-09-16</td>\n      <td>3-5.3 cm</td>\n      <td>AE 1993, 1406. ; V. Papadopoulou, AD 43 B, 198...</td>\n      <td>Ípeiros</td>\n      <td>Cowey</td>\n      <td>Fortissimo et piis/simo Caesari d(omino) n(ost...</td>\n      <td>https://www.trismegistos.org/text/121715</td>\n      <td>honorific inscription</td>\n      <td>statue base</td>\n      <td>67 cm</td>\n      <td>checked with photo</td>\n      <td>{Agios Athanasios}</td>\n      <td>NaN</td>\n      <td>Fragma Kalama</td>\n      <td>NaN</td>\n      <td>NaN</td>\n      <td>[{'type': 'province', 'text': 'Epirus'}, {'typ...</td>\n      <td>\\n Fortissimo et piissimo Caesari domino nostr...</td>\n      <td>309 AD - 313 AD</td>\n      <td>NaN</td>\n      <td>NaN</td>\n      <td>57</td>\n      <td>statue base</td>\n      <td>NaN</td>\n      <td>NaN</td>\n      <td>1000</td>\n      <td>69</td>\n      <td>honorific inscription</td>\n      <td>[{'persname': {'name': [{'@type': 'nomen', '#t...</td>\n      <td>Epirus</td>\n      <td>531064</td>\n      <td>honorific inscription</td>\n      <td>Certain</td>\n      <td>99.0</td>\n      <td>67.0</td>\n      <td>67.0</td>\n      <td>NULL</td>\n      <td>statue base</td>\n      <td>Certain</td>\n      <td>Epirus</td>\n      <td>Certain</td>\n      <td>Greece</td>\n      <td>Certain</td>\n      <td>Photike</td>\n      <td>Certain</td>\n      <td>Ípeiros</td>\n      <td>Certain</td>\n      <td>Paramythía</td>\n      <td>Certain</td>\n      <td>{Agios Athanasios}</td>\n      <td>Certain</td>\n      <td>309 AD - 313 AD</td>\n      <td>Fortissimo et piissimo Caesari domino nostro G...</td>\n      <td>L</td>\n      <td>NaN</td>\n      <td>313</td>\n      <td>309</td>\n      <td>20.7668</td>\n      <td>39.4512</td>\n      <td>Fortissimo et piissimo Caesari d n Gal Val P F...</td>\n      <td>Fortissimo et piissimo Caesari domino nostro G...</td>\n    </tr>\n    <tr>\n      <th>456813</th>\n      <td>EDCS-66200107</td>\n      <td>AE 2008, 01264</td>\n      <td>Achaia</td>\n      <td>Aigio / Egio / Aiyion / Aegeum</td>\n      <td>[3]ν τὸν λαμ/[πρότατον ὑπατικ]όν Ἄππιος Κυ/[3 ...</td>\n      <td>ν τὸν λαμ όν Ἄππιος Κυ τρωνα</td>\n      <td>ν τὸν λαμπρότατον ὑπατικόν Ἄππιος Κυ τὸν ἑαυτο...</td>\n      <td>NaN</td>\n      <td>NaN</td>\n      <td>NaN</td>\n      <td>NaN</td>\n      <td>http://db.edcs.eu/epigr/partner.php?s_language...</td>\n      <td>151.0</td>\n      <td>250.0</td>\n      <td>NaN</td>\n      <td>151 to 250</td>\n      <td>NaN</td>\n      <td>NaN</td>\n      <td>NaN</td>\n      <td>NaN</td>\n      <td>HD067316</td>\n      <td>ν τὸν λαμπρότατον ὑπατικόν Ἄππιος Κυ τὸν ἑαυτο...</td>\n      <td>NaN</td>\n      <td>Greece</td>\n      <td>2 cm</td>\n      <td>[ ]Ν ΤΟΝ ΛΑΜ / [ ]ΟΝ ΑΠΠΙΟΣ ΚΥ / [ ]ΤΡΩΝΑ</td>\n      <td>Aegeum</td>\n      <td>Aígion</td>\n      <td>15 cm</td>\n      <td>2014-01-31</td>\n      <td>3 cm</td>\n      <td>AE 2008, 1264. ; A.D. Rizakis, Achaïe III. Les...</td>\n      <td>Dytikí Elláda</td>\n      <td>Cowey</td>\n      <td>[---]ν τὸν λαμ/[πρότατον ὑπατικ]όν Ἄππιος Κυ/[...</td>\n      <td>https://www.trismegistos.org/text/677832</td>\n      <td>NaN</td>\n      <td>NaN</td>\n      <td>34 cm</td>\n      <td>checked with photo</td>\n      <td>NaN</td>\n      <td>NaN</td>\n      <td>NaN</td>\n      <td>NaN</td>\n      <td>NaN</td>\n      <td>[{'type': 'province', 'text': 'Achaia'}, {'typ...</td>\n      <td>\\n \\xce\\xbd \\xcf\\x84\\xe1\\xbd\\xb8\\xce\\xbd \\xce\\...</td>\n      <td>151 AD - 250 AD</td>\n      <td>NaN</td>\n      <td>NaN</td>\n      <td>NaN</td>\n      <td>NaN</td>\n      <td>48</td>\n      <td>Marmor, wei\\xc3\\x9f</td>\n      <td>1000</td>\n      <td>143</td>\n      <td>unknown</td>\n      <td>NaN</td>\n      <td>Achaia</td>\n      <td>570049</td>\n      <td>NULL</td>\n      <td>NULL</td>\n      <td>15.0</td>\n      <td>34.0</td>\n      <td>2.0</td>\n      <td>Marble</td>\n      <td>NULL</td>\n      <td>NULL</td>\n      <td>Achaia</td>\n      <td>Certain</td>\n      <td>Greece</td>\n      <td>Certain</td>\n      <td>Aegeum</td>\n      <td>Certain</td>\n      <td>Dytikí Elláda</td>\n      <td>Certain</td>\n      <td>Aígion</td>\n      <td>Certain</td>\n      <td>NULL</td>\n      <td>NULL</td>\n      <td>151 AD - 250 AD</td>\n      <td>ν τὸν λαμπρότατον ὑπατικόν Ἄππιος Κυ τὸν ἑαυτο...</td>\n      <td>G</td>\n      <td>Marmor, weiß</td>\n      <td>250</td>\n      <td>151</td>\n      <td>22.0845</td>\n      <td>38.2487</td>\n      <td>ν τὸν λαμόν Ἄππιος Κυτρωνα</td>\n      <td>ν τὸν λαμπρότατον ὑπατικόν Ἄππιος Κυ τὸν ἑαυτο...</td>\n    </tr>\n    <tr>\n      <th>456814</th>\n      <td>EDCS-13800065</td>\n      <td>CIL 01, 02955 = ILLRP 00370 (p 327) = ILGR 000...</td>\n      <td>Achaia</td>\n      <td>Aigio / Egio / Aiyion / Aegeum</td>\n      <td>Italicei / quei Aegei negotiantur / P(ublium) ...</td>\n      <td>Italicei quei Aegei negotiantur P Rutilium P f...</td>\n      <td>Italicei quei Aegei negotiantur Publium Rutili...</td>\n      <td>tituli honorarii</td>\n      <td>[officium/professio, ordo senatorius, tria nom...</td>\n      <td>NaN</td>\n      <td>officium/professio;  ordo senatorius;  tituli ...</td>\n      <td>http://db.edcs.eu/epigr/partner.php?s_language...</td>\n      <td>-74.0</td>\n      <td>-74.0</td>\n      <td>NaN</td>\n      <td>-74 to -74</td>\n      <td>NaN</td>\n      <td>NaN</td>\n      <td>NaN</td>\n      <td>NaN</td>\n      <td>HD017714</td>\n      <td>Italicei quei Aegei negotiantur Publium Rutili...</td>\n      <td>NaN</td>\n      <td>Greece</td>\n      <td>16 cm</td>\n      <td>ITALICEI / QVEI AEGEI NEGOTIANTVR / P RVTILIVM...</td>\n      <td>Aegeum</td>\n      <td>Aígion</td>\n      <td>58 cm</td>\n      <td>2011-03-29</td>\n      <td>3.5-3.7 cm</td>\n      <td>AE 1954, 0031. ; J. Bingen, BCH 78, 1954, 82-8...</td>\n      <td>Dytikí Elláda</td>\n      <td>Cowey</td>\n      <td>Italicei / quei Aegei negotiantur / P(ublium) ...</td>\n      <td>https://www.trismegistos.org/text/177100</td>\n      <td>votive inscription</td>\n      <td>tabula</td>\n      <td>61 cm</td>\n      <td>checked with photo</td>\n      <td>NaN</td>\n      <td>NaN</td>\n      <td>NaN</td>\n      <td>NaN</td>\n      <td>NaN</td>\n      <td>[{'type': 'province', 'text': 'Achaia'}, {'typ...</td>\n      <td>\\n Italicei quei Aegei negotiantur Publium Rut...</td>\n      <td>74 BC</td>\n      <td>NaN</td>\n      <td>NaN</td>\n      <td>257</td>\n      <td>tabula</td>\n      <td>NaN</td>\n      <td>NaN</td>\n      <td>1000</td>\n      <td>372</td>\n      <td>votive inscription</td>\n      <td>NaN</td>\n      <td>Achaia</td>\n      <td>570049</td>\n      <td>votive inscription</td>\n      <td>Certain</td>\n      <td>58.0</td>\n      <td>61.0</td>\n      <td>16.0</td>\n      <td>NULL</td>\n      <td>tabula</td>\n      <td>Certain</td>\n      <td>Achaia</td>\n      <td>Certain</td>\n      <td>Greece</td>\n      <td>Certain</td>\n      <td>Aegeum</td>\n      <td>Certain</td>\n      <td>Dytikí Elláda</td>\n      <td>Certain</td>\n      <td>Aígion</td>\n      <td>Certain</td>\n      <td>NULL</td>\n      <td>NULL</td>\n      <td>74 BC</td>\n      <td>Italicei quei Aegei negotiantur Publium Rutili...</td>\n      <td>L</td>\n      <td>lapis</td>\n      <td>-74.0</td>\n      <td>-74</td>\n      <td>22.0845</td>\n      <td>38.2487</td>\n      <td>Italicei quei Aegei negotiantur P Rutilium P f...</td>\n      <td>Italicei quei Aegei negotiantur Publium Rutili...</td>\n    </tr>\n  </tbody>\n</table>\n</div>"
     },
     "execution_count": 45,
     "metadata": {},
     "output_type": "execute_result"
    }
   ],
   "source": [
    "LIST[LIST[\"EDH-ID\"].notnull()].head(5)"
   ]
  },
  {
   "cell_type": "code",
   "execution_count": 46,
   "outputs": [
    {
     "data": {
      "text/plain": "540607"
     },
     "execution_count": 46,
     "metadata": {},
     "output_type": "execute_result"
    }
   ],
   "source": [
    "len(LIST)"
   ],
   "metadata": {
    "collapsed": false,
    "ExecuteTime": {
     "start_time": "2023-04-26T18:39:07.119532Z",
     "end_time": "2023-04-26T18:39:07.123007Z"
    }
   }
  },
  {
   "cell_type": "markdown",
   "metadata": {},
   "source": [
    "# Filter by language"
   ]
  },
  {
   "cell_type": "code",
   "execution_count": 47,
   "outputs": [
    {
     "data": {
      "text/plain": "530361"
     },
     "execution_count": 47,
     "metadata": {},
     "output_type": "execute_result"
    }
   ],
   "source": [
    "(LIST[\"language\"]==\"L\").sum()"
   ],
   "metadata": {
    "collapsed": false,
    "ExecuteTime": {
     "start_time": "2023-04-26T18:39:07.137398Z",
     "end_time": "2023-04-26T18:39:07.162672Z"
    }
   }
  },
  {
   "cell_type": "code",
   "execution_count": 48,
   "outputs": [
    {
     "data": {
      "text/plain": "532280"
     },
     "execution_count": 48,
     "metadata": {},
     "output_type": "execute_result"
    }
   ],
   "source": [
    "(LIST[\"language_EDCS\"].isnull()).sum()"
   ],
   "metadata": {
    "collapsed": false,
    "ExecuteTime": {
     "start_time": "2023-04-26T18:39:07.147915Z",
     "end_time": "2023-04-26T18:39:07.216594Z"
    }
   }
  },
  {
   "cell_type": "code",
   "execution_count": 49,
   "outputs": [
    {
     "data": {
      "text/plain": "              EDCS-ID                                        publication  \\\n456810  EDCS-24700151  CIL 01, 02650 (p 1097) = IG-05-01, 00741 = ILL...   \n456813  EDCS-66200107                                     AE 2008, 01264   \n456815  EDCS-66200108                   SEG-49, 00495a = AE 2008, 01265a   \n456816  EDCS-66200109                   SEG-49, 00495b = AE 2008, 01265b   \n456818  EDCS-66200178                                     AE 2009, 01314   \n...               ...                                                ...   \n539676            NaN                                                NaN   \n540219            NaN                                                NaN   \n540435            NaN                                                NaN   \n540444            NaN                                                NaN   \n540497            NaN                                                NaN   \n\n       province                           place  \\\n456810   Achaia                          Afesou   \n456813   Achaia  Aigio / Egio / Aiyion / Aegeum   \n456815   Achaia  Aigio / Egio / Aiyion / Aegeum   \n456816   Achaia  Aigio / Egio / Aiyion / Aegeum   \n456818   Achaia                    Alea / Tegea   \n...         ...                             ...   \n539676      NaN                             NaN   \n540219      NaN                             NaN   \n540435      NaN                             NaN   \n540444      NaN                             NaN   \n540497      NaN                             NaN   \n\n                                              inscription  \\\n456810  Δέκιος Λείβιος (Ζ)εῦξις // D(ecimi) Leivei D(e...   \n456813  [3]ν τὸν λαμ/[πρότατον ὑπατικ]όν Ἄππιος Κυ/[3 ...   \n456815  ἐπὶ Τιβ(ερίου) / Κλαυδί/ου Φρον/τείνου / Νεικη...   \n456816  ἐπὶ Τιβ(ερίου) / Κλαυδίου / Φροντείνου / Νεικη...   \n456818  Τοῦ σεπτοῦ τούτου τεμένος ἐν ἱερεῦσιν / ἐννεακ...   \n...                                                   ...   \n539676                                                NaN   \n540219                                                NaN   \n540435                                                NaN   \n540444                                                NaN   \n540497                                                NaN   \n\n                        inscription_conservative_cleaning  \\\n456810       Δέκιος Λείβιος εῦξις D Leivei D Leivei salve   \n456813                       ν τὸν λαμ όν Ἄππιος Κυ τρωνα   \n456815  ἐπὶ Τιβ Κλαυδίου Φροντείνου Νεικηράτου ταμίου ...   \n456816  ἐπὶ Τιβ Κλαυδίου Φροντείνου Νεικηράτου ταμίου ...   \n456818  Τοῦ σεπτοῦ τούτου τεμένος ἐν ἱερεῦσιν ἐννεακαι...   \n...                                                   ...   \n539676                                                NaN   \n540219                                                NaN   \n540435                                                NaN   \n540444                                                NaN   \n540497                                                NaN   \n\n                        inscription_interpretive_cleaning  \\\n456810  Δέκιος Λείβιος Ζεῦξις Decimi Leivei Decimi Lei...   \n456813  ν τὸν λαμπρότατον ὑπατικόν Ἄππιος Κυ τὸν ἑαυτο...   \n456815  ἐπὶ Τιβερίου Κλαυδίου Φροντείνου Νεικηράτου τα...   \n456816  ἐπὶ Τιβερίου Κλαυδίου Φροντείνου Νεικηράτου τα...   \n456818  Τοῦ σεπτοῦ τούτου τεμένος ἐν ἱερεῦσιν ἐννεακαι...   \n...                                                   ...   \n539676                                                NaN   \n540219                                                NaN   \n540435                                                NaN   \n540444                                                NaN   \n540497                                                NaN   \n\n                           inscr_type             status_notation  \\\n456810             tituli sepulcrales  [praenomen et nomen, viri]   \n456813                            NaN                         NaN   \n456815                            NaN                         NaN   \n456816                            NaN                         NaN   \n456818  [tituli operum, tituli sacri]                        viri   \n...                               ...                         ...   \n539676                            NaN                         NaN   \n540219                            NaN                         NaN   \n540435                            NaN                         NaN   \n540444                            NaN                         NaN   \n540497                            NaN                         NaN   \n\n       inscr_process                                          status  \\\n456810           NaN  praenomen et nomen;  tituli sepulcrales;  viri   \n456813           NaN                                             NaN   \n456815           NaN                                             NaN   \n456816           NaN                                             NaN   \n456818           NaN             tituli operum;  tituli sacri;  viri   \n...              ...                                             ...   \n539676           NaN                                             NaN   \n540219           NaN                                             NaN   \n540435           NaN                                             NaN   \n540444           NaN                                             NaN   \n540497           NaN                                             NaN   \n\n                                             partner_link  dating_from  \\\n456810  http://db.edcs.eu/epigr/partner.php?s_language...          NaN   \n456813  http://db.edcs.eu/epigr/partner.php?s_language...        151.0   \n456815  http://db.edcs.eu/epigr/partner.php?s_language...          NaN   \n456816  http://db.edcs.eu/epigr/partner.php?s_language...          NaN   \n456818  http://db.edcs.eu/epigr/partner.php?s_language...        527.0   \n...                                                   ...          ...   \n539676                                                NaN          NaN   \n540219                                                NaN          NaN   \n540435                                                NaN          NaN   \n540444                                                NaN          NaN   \n540497                                                NaN          NaN   \n\n        dating_to photo  raw_dating language_EDCS comment extra_text  \\\n456810        NaN   NaN         NaN           NaN     NaN        NaN   \n456813      250.0   NaN  151 to 250           NaN     NaN        NaN   \n456815        NaN   NaN         NaN           NaN     NaN        NaN   \n456816        NaN   NaN         NaN           NaN     NaN        NaN   \n456818      565.0   NaN  527 to 565           NaN     NaN        NaN   \n...           ...   ...         ...           ...     ...        ...   \n539676        NaN   NaN         NaN           NaN     NaN        NaN   \n540219        NaN   NaN         NaN           NaN     NaN        NaN   \n540435        NaN   NaN         NaN           NaN     NaN        NaN   \n540444        NaN   NaN         NaN           NaN     NaN        NaN   \n540497        NaN   NaN         NaN           NaN     NaN        NaN   \n\n       extra_html    EDH-ID  \\\n456810        NaN  HD057726   \n456813        NaN  HD067316   \n456815        NaN  HD068315   \n456816        NaN  HD068319   \n456818        NaN  HD068216   \n...           ...       ...   \n539676        NaN  HD078982   \n540219        NaN  HD079977   \n540435        NaN  HD081063   \n540444        NaN  HD081141   \n540497        NaN  HD081409   \n\n                        clean_text_interpretive_word_EDCS  \\\n456810  Δέκιος Λείβιος Ζεῦξις Decimi Leivei Decimi Lei...   \n456813  ν τὸν λαμπρότατον ὑπατικόν Ἄππιος Κυ τὸν ἑαυτο...   \n456815  ἐπὶ Τιβερίου Κλαυδίου Φροντείνου Νεικηράτου τα...   \n456816  ἐπὶ Τιβερίου Κλαυδίου Φροντείνου Νεικηράτου τα...   \n456818  Τοῦ σεπτοῦ τούτου τεμένος ἐν ἱερεῦσιν ἐννεακαι...   \n...                                                   ...   \n539676                                                NaN   \n540219                                                NaN   \n540435                                                NaN   \n540444                                                NaN   \n540497                                                NaN   \n\n                                               commentary         country  \\\n456810                       (B): Δέκι<μ>ος statt Δέκιος.          Greece   \n456813                                                NaN          Greece   \n456815                                           Gewicht.          Greece   \n456816                                           Gewicht.          Greece   \n456818                                                NaN          Greece   \n...                                                   ...             ...   \n539676                                                NaN         Germany   \n540219    Sechs Hexameter. Material: Blei-Zinn-Legierung.  United Kingdom   \n540435  Durchmesser bezieht sich auf den Innendurchmes...         Germany   \n540444                                                NaN  United Kingdom   \n540497                                                NaN  United Kingdom   \n\n       depth                                    diplomatic_text  \\\n456810   NaN  ΔΕΚΙΟΣ ΛΕΙΒΙΟΣ ΞΕΥΞΙΣ / / D LEIVEI D LEIVEI SALVE   \n456813  2 cm          [ ]Ν ΤΟΝ ΛΑΜ / [ ]ΟΝ ΑΠΠΙΟΣ ΚΥ / [ ]ΤΡΩΝΑ   \n456815  1 cm  ΕΠΙ ΤΙΒ / ΚΛΑΥΔΙ / ΟΥ ΦΡΟΝ / ΤΕΙΝΟΥ / ΝΕΙΚΗΡ /...   \n456816  0 cm  ΕΠΙ ΤΙΒ / ΚΛΑΥΔΙΟΥ / ΦΡΟΝΤΕΙΝΟΥ / ΝΕΙΚΗΡΑΤΟΥ /...   \n456818   NaN  ΤΟΥ ΣΕΠΤΟΥ ΤΟΥΤΟΥ ΤΕΜΕΝΟΣ ΕΝ ΙΕΡΕΥΣΙΝ / ΕΝΝΕΑΚ...   \n...      ...                                                ...   \n539676  2 cm                     [ ]ΟΥΣ[ ] / [ ]ΣΙΟ[ ] / [ ]ΕΚ[   \n540219   NaN  ΑΒΡΑΙ Β[ ]ΡΒΑΣΩ / ΒΑΡΒΑΣΩΧ ΒΑΡΒΑΣΩΘ ΕΥΛΙΩΡ / Α...   \n540435   NaN                                   PVLVERI / ΖΗΣΑΙΣ   \n540444   NaN                                              ΘΥΣΙΑ   \n540497   NaN                                            ΔΙΕΟΔΚΑ   \n\n                               findspot_ancient findspot_modern   height  \\\n456810                                   Sparta          Spárti    35 cm   \n456813                                   Aegeum          Aígion    15 cm   \n456815                                   Aegeum          Aígion    11 cm   \n456816                                   Aegeum          Aígion    11 cm   \n456818                                    Tegea            Alea    54 cm   \n...                                         ...             ...      ...   \n539676                       Augusta Treverorum           Trier  (12) cm   \n540219                                Londinium          London    13 cm   \n540435  Aquae Mattiacorum (Civitas Mattiacorum)       Wiesbaden      NaN   \n540444                                Londinium          London      NaN   \n540497                                Londinium          London      NaN   \n\n       last_update letter_size  \\\n456810  2011-11-14        2 cm   \n456813  2014-01-31        3 cm   \n456815  2014-10-17    1-1.5 cm   \n456816  2014-10-17  0.5-0.6 cm   \n456818  2015-09-28         NaN   \n...            ...         ...   \n539676  2020-05-12  2.1-2.3 cm   \n540219  2020-02-24         NaN   \n540435  2020-10-06         NaN   \n540444  2019-12-17         NaN   \n540497  2020-01-13         NaN   \n\n                                               literature    modern_region  \\\n456810  IG 05, 01, 00741. (B) ; ILLRP 0962. ; CIL 01 (...     Pelopónissos   \n456813  AE 2008, 1264. ; A.D. Rizakis, Achaïe III. Les...    Dytikí Elláda   \n456815  AE 2008, 1265a. ; A.D. Rizakis, Achaïe III. Le...    Dytikí Elláda   \n456816  AE 2008, 1265b. ; A.D. Rizakis, Achaïe III. Le...    Dytikí Elláda   \n456818  AE 2009, 1314. ; G. Velenis, in: S. Drougou u....     Pelopónissos   \n...                                                   ...              ...   \n539676  H. Merten, Die frühchristlichen Inschriften au...  Rheinland-Pfalz   \n540219  AE 2013, 0946. ; R.S.O. Tomlin, Britannia 44, ...           London   \n540435  E. Ritterling, in: Der obergermanisch-rätische...           Hessen   \n540444  AE 2012, 0848. ; R.S.O. Tomlin, Britannia 43, ...           London   \n540497  AE 2012, 0845. ; R.S.O. Tomlin, Britannia 43, ...           London   \n\n       responsible_individual  \\\n456810                  Cowey   \n456813                  Cowey   \n456815                  Cowey   \n456816                  Cowey   \n456818                  Cowey   \n...                       ...   \n539676                  Cowey   \n540219                  Cowey   \n540435                   Gräf   \n540444                  Cowey   \n540497                  Cowey   \n\n                                            transcription  \\\n456810  Δέκιος Λείβιος &lt;Ζ=Ξ&gt;εῦξις // D(eci) Leiv...   \n456813  [---]ν τὸν λαμ/[πρότατον ὑπατικ]όν Ἄππιος Κυ/[...   \n456815  ἐπὶ Τιβ(ερίου) / Κλαυδί/ου Φρον/τείνου / Νεικη...   \n456816  ἐπὶ Τιβ(ερίου) / Κλαυδίου / Φροντείνου / Νεικη...   \n456818  Τοῦ σεπτοῦ τούτου τεμένος ἐν ἱερεῦσιν / ἐννεακ...   \n...                                                   ...   \n539676     [---]ΟΥΣ[---] / [---]ΣΙΟ[---] / [---]ΕΚ[------   \n540219  αβραι β[α]ρβασω / βαρβασωχ βαρβασωθ ευλιωρ / α...   \n540435                                   Pulveri / ζήσαις   \n540444                                              θυσία   \n540497                          Διε&lt;ξ&gt;οδ&lt;ι&gt;κά   \n\n                                trismegistos_uri        type_of_inscription  \\\n456810  https://www.trismegistos.org/text/177460                    epitaph   \n456813  https://www.trismegistos.org/text/677832                        NaN   \n456815  https://www.trismegistos.org/text/677853  owner/artist inscription?   \n456816  https://www.trismegistos.org/text/677854  owner/artist inscription?   \n456818  https://www.trismegistos.org/text/677834                        NaN   \n...                                          ...                        ...   \n539676                                       NaN                    epitaph   \n540219                                       NaN                    defixio   \n540435                                       NaN                acclamation   \n540444                                       NaN                     label?   \n540497                                       NaN                     label?   \n\n               type_of_monument   width         work_status  \\\n456810                      NaN   16 cm            no image   \n456813                      NaN   34 cm  checked with photo   \n456815  instrumentum domesticum    5 cm  checked with photo   \n456816  instrumentum domesticum    5 cm  checked with photo   \n456818                      NaN  161 cm         provisional   \n...                         ...     ...                 ...   \n539676                   tabula  (8) cm  checked with photo   \n540219                   tabula    4 cm  checked with photo   \n540435                jewellery    1 cm  checked with photo   \n540444  instrumentum domesticum     NaN  checked with photo   \n540497  instrumentum domesticum     NaN  checked with photo   \n\n                                          findspot  year_of_find  \\\n456810                                         NaN           NaN   \n456813                                         NaN           NaN   \n456815                                         NaN        1979.0   \n456816                                         NaN           NaN   \n456818                                         NaN           NaN   \n...                                            ...           ...   \n539676          {S. Maximin, Kirche, Mittelschiff}        1982.0   \n540219             The City, {Upper Thames Street}        1989.0   \n540435                               {Adlerstraße}        1837.0   \n540444      The City, {Crosby Square, Bishopsgate}       -2008.0   \n540497  The City, {Mariner House, Crutched Friars}        2008.0   \n\n                   present_location                religion  idno_tm  \\\n456810                          NaN                     NaN      NaN   \n456813                          NaN                     NaN      NaN   \n456815           Pátrai, Arch. Mus.                     NaN      NaN   \n456816           Pátrai, Arch. Mus.                     NaN      NaN   \n456818                          NaN                     NaN      NaN   \n...                             ...                     ...      ...   \n539676  Trier, Dom- u. Diözesanmus.  Judaism / Christianity      NaN   \n540219       London, Mus. of London            magic/spells      NaN   \n540435    Wiesbaden, Mus. Wiesbaden                     NaN      NaN   \n540444                          NaN                     NaN      NaN   \n540497                          NaN                     NaN      NaN   \n\n                                          placenames_refs  \\\n456810  [{'type': 'province', 'text': 'Achaia'}, {'typ...   \n456813  [{'type': 'province', 'text': 'Achaia'}, {'typ...   \n456815  [{'type': 'province', 'text': 'Achaia'}, {'typ...   \n456816  [{'type': 'province', 'text': 'Achaia'}, {'typ...   \n456818  [{'type': 'province', 'text': 'Achaia'}, {'typ...   \n...                                                   ...   \n539676  [{'type': 'province', 'text': 'Belgica'}, {'ty...   \n540219  [{'type': 'province', 'text': 'Britannia'}, {'...   \n540435  [{'type': 'province', 'text': 'Germania superi...   \n540444  [{'type': 'province', 'text': 'Britannia'}, {'...   \n540497  [{'type': 'province', 'text': 'Britannia'}, {'...   \n\n                                             text_edition    origdate_text  \\\n456810  \\n \\xce\\x94\\xe1\\xbd\\xb3\\xce\\xba\\xce\\xb9\\xce\\xb...                    \n456813  \\n \\xce\\xbd \\xcf\\x84\\xe1\\xbd\\xb8\\xce\\xbd \\xce\\...  151 AD - 250 AD   \n456815  \\n \\xe1\\xbc\\x90\\xcf\\x80\\xe1\\xbd\\xb6 \\xce\\xa4\\x...                    \n456816  \\n \\xe1\\xbc\\x90\\xcf\\x80\\xe1\\xbd\\xb6 \\xce\\xa4\\x...                    \n456818  \\n \\xce\\xa4\\xce\\xbf\\xe1\\xbf\\xa6 \\xcf\\x83\\xce\\x...  527 AD - 565 AD   \n...                                                   ...              ...   \n539676  \\n \\xce\\x9f\\xce\\xa5\\xce\\xa3 \\xce\\xa3\\xce\\x99\\x...  371 AD - 430 AD   \n540219  \\n \\xce\\xb1\\xce\\xb2\\xcf\\x81\\xce\\xb1\\xce\\xb9 \\x...  131 AD - 200 AD   \n540435  \\n Pulveri \\xce\\xb6\\xe1\\xbd\\xb5\\xcf\\x83\\xce\\xb...  301 AD - 350 AD   \n540444  \\n \\xce\\xb8\\xcf\\x85\\xcf\\x83\\xe1\\xbd\\xb7\\xce\\xb1\\n   71 AD - 130 AD   \n540497  \\n \\xce\\x94\\xce\\xb9\\xce\\xb5&lt;\\xce\\xbe&gt;\\xc...   51 AD - 200 AD   \n\n        layout_execution  layout_execution_text support_objecttype  \\\n456810               NaN                    NaN                NaN   \n456813               NaN                    NaN                NaN   \n456815               NaN                    NaN                140   \n456816               NaN                    NaN                140   \n456818               NaN                    NaN                NaN   \n...                  ...                    ...                ...   \n539676               NaN                    NaN                257   \n540219               NaN                    NaN                257   \n540435               NaN                    NaN                163   \n540444               NaN                    NaN                140   \n540497               NaN                    NaN                140   \n\n        support_objecttype_text support_material  \\\n456810                      NaN              NaN   \n456813                      NaN               48   \n456815  instrumentum domesticum              109   \n456816  instrumentum domesticum              109   \n456818                      NaN              NaN   \n...                         ...              ...   \n539676                   tabula              NaN   \n540219                   tabula              108   \n540435                jewellery              112   \n540444  instrumentum domesticum              122   \n540497  instrumentum domesticum              131   \n\n                  support_material_text support_decoration keywords_term  \\\n456810                              NaN               1000            92   \n456813              Marmor, wei\\xc3\\x9f               1000           143   \n456815                           Bronze               1000           NaN   \n456816                           Bronze               1000           NaN   \n456818                              NaN               1000           143   \n...                                 ...                ...           ...   \n539676  Marmor, ge\\xc3\\xa4dert / farbig               1000            92   \n540219                             Blei               1000            76   \n540435                       Gold, Onyx               1000            73   \n540444                             Glas               1000           109   \n540497                              Ton               1000           109   \n\n               keywords_term_text people     province_label pleiades_id  \\\n456810                    epitaph    NaN             Achaia      570685   \n456813                    unknown    NaN             Achaia      570049   \n456815  owner/artist inscription?    NaN             Achaia      570049   \n456816  owner/artist inscription?    NaN             Achaia      570049   \n456818                    unknown    NaN             Achaia               \n...                           ...    ...                ...         ...   \n539676                    epitaph    NaN            Belgica      108894   \n540219                    defixio    NaN          Britannia       79574   \n540435                acclamation    NaN  Germania superior      108750   \n540444                     label?    NaN          Britannia       79574   \n540497                     label?    NaN          Britannia       79574   \n\n       type_of_inscription_clean type_of_inscription_certainty  height_cm  \\\n456810                   epitaph                       Certain       35.0   \n456813                      NULL                          NULL       15.0   \n456815  owner/artist inscription                     Uncertain       11.0   \n456816  owner/artist inscription                     Uncertain       11.0   \n456818                      NULL                          NULL       54.0   \n...                          ...                           ...        ...   \n539676                   epitaph                       Certain       12.0   \n540219                   defixio                       Certain       13.0   \n540435               acclamation                       Certain        NaN   \n540444                     label                     Uncertain        NaN   \n540497                     label                     Uncertain        NaN   \n\n        width_cm  depth_cm material_clean   type_of_monument_clean  \\\n456810      16.0       NaN           NULL                     NULL   \n456813      34.0       2.0         Marble                     NULL   \n456815       5.0       1.0          Metal  instrumentum domesticum   \n456816       5.0       0.0          Metal  instrumentum domesticum   \n456818     161.0       NaN           NULL                     NULL   \n...          ...       ...            ...                      ...   \n539676       8.0       2.0         Marble                   tabula   \n540219       4.0       NaN          Metal                   tabula   \n540435       1.0       NaN          Metal                jewellery   \n540444       NaN       NaN          Glass  instrumentum domesticum   \n540497       NaN       NaN           Clay  instrumentum domesticum   \n\n       type_of_monument_certainty province_label_clean  \\\n456810                       NULL               Achaia   \n456813                       NULL               Achaia   \n456815                    Certain               Achaia   \n456816                    Certain               Achaia   \n456818                       NULL               Achaia   \n...                           ...                  ...   \n539676                    Certain              Belgica   \n540219                    Certain            Britannia   \n540435                    Certain    Germania superior   \n540444                    Certain            Britannia   \n540497                    Certain            Britannia   \n\n       province_label_certainty   country_clean country_certainty  \\\n456810                  Certain          Greece           Certain   \n456813                  Certain          Greece           Certain   \n456815                  Certain          Greece           Certain   \n456816                  Certain          Greece           Certain   \n456818                  Certain          Greece           Certain   \n...                         ...             ...               ...   \n539676                  Certain         Germany           Certain   \n540219                  Certain  United Kingdom           Certain   \n540435                  Certain         Germany           Certain   \n540444                  Certain  United Kingdom           Certain   \n540497                  Certain  United Kingdom           Certain   \n\n                         findspot_ancient_clean findspot_ancient_certainty  \\\n456810                                   Sparta                    Certain   \n456813                                   Aegeum                    Certain   \n456815                                   Aegeum                    Certain   \n456816                                   Aegeum                    Certain   \n456818                                    Tegea                    Certain   \n...                                         ...                        ...   \n539676                       Augusta Treverorum                    Certain   \n540219                                Londinium                    Certain   \n540435  Aquae Mattiacorum (Civitas Mattiacorum)                    Certain   \n540444                                Londinium                    Certain   \n540497                                Londinium                    Certain   \n\n       modern_region_clean modern_region_certainty findspot_modern_clean  \\\n456810        Pelopónissos                 Certain                Spárti   \n456813       Dytikí Elláda                 Certain                Aígion   \n456815       Dytikí Elláda                 Certain                Aígion   \n456816       Dytikí Elláda                 Certain                Aígion   \n456818        Pelopónissos                 Certain                  Alea   \n...                    ...                     ...                   ...   \n539676     Rheinland-Pfalz                 Certain                 Trier   \n540219              London                 Certain                London   \n540435              Hessen                 Certain             Wiesbaden   \n540444              London                 Certain                London   \n540497              London                 Certain                London   \n\n       findspot_modern_certainty                              findspot_clean  \\\n456810                   Certain                                        NULL   \n456813                   Certain                                        NULL   \n456815                   Certain                                        NULL   \n456816                   Certain                                        NULL   \n456818                   Certain                                        NULL   \n...                          ...                                         ...   \n539676                   Certain          {S. Maximin, Kirche, Mittelschiff}   \n540219                   Certain             The City, {Upper Thames Street}   \n540435                   Certain                               {Adlerstraße}   \n540444                   Certain      The City, {Crosby Square, Bishopsgate}   \n540497                   Certain  The City, {Mariner House, Crutched Friars}   \n\n       findspot_certainty origdate_text_clean  \\\n456810               NULL                       \n456813               NULL     151 AD - 250 AD   \n456815               NULL                       \n456816               NULL                       \n456818               NULL     527 AD - 565 AD   \n...                   ...                 ...   \n539676            Certain     371 AD - 430 AD   \n540219            Certain     131 AD - 200 AD   \n540435            Certain     301 AD - 350 AD   \n540444            Certain      71 AD - 130 AD   \n540497            Certain      51 AD - 200 AD   \n\n                         clean_text_interpretive_sentence language  \\\n456810  Δέκιος Λείβιος lt;Ζ gt;εῦξις Deci Leivei Deci ...       GL   \n456813  ν τὸν λαμπρότατον ὑπατικόν Ἄππιος Κυ τὸν ἑαυτο...        G   \n456815  ἐπὶ Τιβερίου Κλαυδίου Φροντείνου Νεικηράτου τα...        G   \n456816  ἐπὶ Τιβερίου Κλαυδίου Φροντείνου Νεικηράτου τα...        G   \n456818  Τοῦ σεπτοῦ τούτου τεμένος ἐν ἱερεῦσιν ἐννεακαι...        G   \n...                                                   ...      ...   \n539676                                         ΟΥΣ ΣΙΟ ΕΚ        G   \n540219  αβραι βαρβασω βαρβασωχ βαρβασωθ ευλιωρ αθεμορφ...        G   \n540435                                     Pulveri ζήσαις       GL   \n540444                                              θυσία        G   \n540497                          Διε lt;ξ gt;οδ lt;ι gt;κά        G   \n\n                        material not_after not_before  Longitude   Latitude  \\\n456810                     lapis       NaN        NaN  22.430900  37.073700   \n456813              Marmor, weiß       250        151  22.084500  38.248700   \n456815                    Bronze       NaN        NaN  22.084500  38.248700   \n456816                    Bronze       NaN        NaN  22.084500  38.248700   \n456818                     lapis       565        527  22.420877  37.454501   \n...                          ...       ...        ...        ...        ...   \n539676  Marmor, geädert / farbig       430        371   6.630300  49.756800   \n540219                      Blei       200        131  -0.208800  51.464100   \n540435                Gold, Onyx       350        301   8.238400  50.083400   \n540444                      Glas       130         71  -0.208800  51.464100   \n540497                       Ton       200         51  -0.208800  51.464100   \n\n                                  clean_text_conservative  \\\n456810  Δέκιος Λείβιος lt Ξ gt εῦξις D Leivei D Leivei...   \n456813                         ν τὸν λαμόν Ἄππιος Κυτρωνα   \n456815  ἐπὶ Τιβ Κλαυδίου Φροντείνου Νεικηράτου ταμίου ...   \n456816  ἐπὶ Τιβ Κλαυδίου Φροντείνου Νεικηράτου ταμίου ...   \n456818  Τοῦ σεπτοῦ τούτου τεμένος ἐν ἱερεῦσιν ἐννεακαι...   \n...                                                   ...   \n539676                                         ΟΥΣ ΣΙΟ ΕΚ   \n540219  αβραι βρβασω βαρβασωχ βαρβασωθ ευλιωρ αθεμορφι...   \n540435                                     Pulveri ζήσαις   \n540444                                              θυσία   \n540497                          Διε lt ξ gt οδ lt ι gt κά   \n\n                             clean_text_interpretive_word  \n456810  Δέκιος Λείβιος lt Ζ gt εῦξις Deci Leivei Deci ...  \n456813  ν τὸν λαμπρότατον ὑπατικόν Ἄππιος Κυ τὸν ἑαυτο...  \n456815  ἐπὶ Τιβερίου Κλαυδίου Φροντείνου Νεικηράτου τα...  \n456816  ἐπὶ Τιβερίου Κλαυδίου Φροντείνου Νεικηράτου τα...  \n456818  Τοῦ σεπτοῦ τούτου τεμένος ἐν ἱερεῦσιν ἐννεακαι...  \n...                                                   ...  \n539676                                         ΟΥΣ ΣΙΟ ΕΚ  \n540219  αβραι βαρβασω βαρβασωχ βαρβασωθ ευλιωρ αθεμορφ...  \n540435                                     Pulveri ζήσαις  \n540444                                              θυσία  \n540497                          Διε lt ξ gt οδ lt ι gt κά  \n\n[1995 rows x 90 columns]",
      "text/html": "<div>\n<style scoped>\n    .dataframe tbody tr th:only-of-type {\n        vertical-align: middle;\n    }\n\n    .dataframe tbody tr th {\n        vertical-align: top;\n    }\n\n    .dataframe thead th {\n        text-align: right;\n    }\n</style>\n<table border=\"1\" class=\"dataframe\">\n  <thead>\n    <tr style=\"text-align: right;\">\n      <th></th>\n      <th>EDCS-ID</th>\n      <th>publication</th>\n      <th>province</th>\n      <th>place</th>\n      <th>inscription</th>\n      <th>inscription_conservative_cleaning</th>\n      <th>inscription_interpretive_cleaning</th>\n      <th>inscr_type</th>\n      <th>status_notation</th>\n      <th>inscr_process</th>\n      <th>status</th>\n      <th>partner_link</th>\n      <th>dating_from</th>\n      <th>dating_to</th>\n      <th>photo</th>\n      <th>raw_dating</th>\n      <th>language_EDCS</th>\n      <th>comment</th>\n      <th>extra_text</th>\n      <th>extra_html</th>\n      <th>EDH-ID</th>\n      <th>clean_text_interpretive_word_EDCS</th>\n      <th>commentary</th>\n      <th>country</th>\n      <th>depth</th>\n      <th>diplomatic_text</th>\n      <th>findspot_ancient</th>\n      <th>findspot_modern</th>\n      <th>height</th>\n      <th>last_update</th>\n      <th>letter_size</th>\n      <th>literature</th>\n      <th>modern_region</th>\n      <th>responsible_individual</th>\n      <th>transcription</th>\n      <th>trismegistos_uri</th>\n      <th>type_of_inscription</th>\n      <th>type_of_monument</th>\n      <th>width</th>\n      <th>work_status</th>\n      <th>findspot</th>\n      <th>year_of_find</th>\n      <th>present_location</th>\n      <th>religion</th>\n      <th>idno_tm</th>\n      <th>placenames_refs</th>\n      <th>text_edition</th>\n      <th>origdate_text</th>\n      <th>layout_execution</th>\n      <th>layout_execution_text</th>\n      <th>support_objecttype</th>\n      <th>support_objecttype_text</th>\n      <th>support_material</th>\n      <th>support_material_text</th>\n      <th>support_decoration</th>\n      <th>keywords_term</th>\n      <th>keywords_term_text</th>\n      <th>people</th>\n      <th>province_label</th>\n      <th>pleiades_id</th>\n      <th>type_of_inscription_clean</th>\n      <th>type_of_inscription_certainty</th>\n      <th>height_cm</th>\n      <th>width_cm</th>\n      <th>depth_cm</th>\n      <th>material_clean</th>\n      <th>type_of_monument_clean</th>\n      <th>type_of_monument_certainty</th>\n      <th>province_label_clean</th>\n      <th>province_label_certainty</th>\n      <th>country_clean</th>\n      <th>country_certainty</th>\n      <th>findspot_ancient_clean</th>\n      <th>findspot_ancient_certainty</th>\n      <th>modern_region_clean</th>\n      <th>modern_region_certainty</th>\n      <th>findspot_modern_clean</th>\n      <th>findspot_modern_certainty</th>\n      <th>findspot_clean</th>\n      <th>findspot_certainty</th>\n      <th>origdate_text_clean</th>\n      <th>clean_text_interpretive_sentence</th>\n      <th>language</th>\n      <th>material</th>\n      <th>not_after</th>\n      <th>not_before</th>\n      <th>Longitude</th>\n      <th>Latitude</th>\n      <th>clean_text_conservative</th>\n      <th>clean_text_interpretive_word</th>\n    </tr>\n  </thead>\n  <tbody>\n    <tr>\n      <th>456810</th>\n      <td>EDCS-24700151</td>\n      <td>CIL 01, 02650 (p 1097) = IG-05-01, 00741 = ILL...</td>\n      <td>Achaia</td>\n      <td>Afesou</td>\n      <td>Δέκιος Λείβιος (Ζ)εῦξις // D(ecimi) Leivei D(e...</td>\n      <td>Δέκιος Λείβιος εῦξις D Leivei D Leivei salve</td>\n      <td>Δέκιος Λείβιος Ζεῦξις Decimi Leivei Decimi Lei...</td>\n      <td>tituli sepulcrales</td>\n      <td>[praenomen et nomen, viri]</td>\n      <td>NaN</td>\n      <td>praenomen et nomen;  tituli sepulcrales;  viri</td>\n      <td>http://db.edcs.eu/epigr/partner.php?s_language...</td>\n      <td>NaN</td>\n      <td>NaN</td>\n      <td>NaN</td>\n      <td>NaN</td>\n      <td>NaN</td>\n      <td>NaN</td>\n      <td>NaN</td>\n      <td>NaN</td>\n      <td>HD057726</td>\n      <td>Δέκιος Λείβιος Ζεῦξις Decimi Leivei Decimi Lei...</td>\n      <td>(B): Δέκι&lt;μ&gt;ος statt Δέκιος.</td>\n      <td>Greece</td>\n      <td>NaN</td>\n      <td>ΔΕΚΙΟΣ ΛΕΙΒΙΟΣ ΞΕΥΞΙΣ / / D LEIVEI D LEIVEI SALVE</td>\n      <td>Sparta</td>\n      <td>Spárti</td>\n      <td>35 cm</td>\n      <td>2011-11-14</td>\n      <td>2 cm</td>\n      <td>IG 05, 01, 00741. (B) ; ILLRP 0962. ; CIL 01 (...</td>\n      <td>Pelopónissos</td>\n      <td>Cowey</td>\n      <td>Δέκιος Λείβιος &amp;lt;Ζ=Ξ&amp;gt;εῦξις // D(eci) Leiv...</td>\n      <td>https://www.trismegistos.org/text/177460</td>\n      <td>epitaph</td>\n      <td>NaN</td>\n      <td>16 cm</td>\n      <td>no image</td>\n      <td>NaN</td>\n      <td>NaN</td>\n      <td>NaN</td>\n      <td>NaN</td>\n      <td>NaN</td>\n      <td>[{'type': 'province', 'text': 'Achaia'}, {'typ...</td>\n      <td>\\n \\xce\\x94\\xe1\\xbd\\xb3\\xce\\xba\\xce\\xb9\\xce\\xb...</td>\n      <td></td>\n      <td>NaN</td>\n      <td>NaN</td>\n      <td>NaN</td>\n      <td>NaN</td>\n      <td>NaN</td>\n      <td>NaN</td>\n      <td>1000</td>\n      <td>92</td>\n      <td>epitaph</td>\n      <td>NaN</td>\n      <td>Achaia</td>\n      <td>570685</td>\n      <td>epitaph</td>\n      <td>Certain</td>\n      <td>35.0</td>\n      <td>16.0</td>\n      <td>NaN</td>\n      <td>NULL</td>\n      <td>NULL</td>\n      <td>NULL</td>\n      <td>Achaia</td>\n      <td>Certain</td>\n      <td>Greece</td>\n      <td>Certain</td>\n      <td>Sparta</td>\n      <td>Certain</td>\n      <td>Pelopónissos</td>\n      <td>Certain</td>\n      <td>Spárti</td>\n      <td>Certain</td>\n      <td>NULL</td>\n      <td>NULL</td>\n      <td></td>\n      <td>Δέκιος Λείβιος lt;Ζ gt;εῦξις Deci Leivei Deci ...</td>\n      <td>GL</td>\n      <td>lapis</td>\n      <td>NaN</td>\n      <td>NaN</td>\n      <td>22.430900</td>\n      <td>37.073700</td>\n      <td>Δέκιος Λείβιος lt Ξ gt εῦξις D Leivei D Leivei...</td>\n      <td>Δέκιος Λείβιος lt Ζ gt εῦξις Deci Leivei Deci ...</td>\n    </tr>\n    <tr>\n      <th>456813</th>\n      <td>EDCS-66200107</td>\n      <td>AE 2008, 01264</td>\n      <td>Achaia</td>\n      <td>Aigio / Egio / Aiyion / Aegeum</td>\n      <td>[3]ν τὸν λαμ/[πρότατον ὑπατικ]όν Ἄππιος Κυ/[3 ...</td>\n      <td>ν τὸν λαμ όν Ἄππιος Κυ τρωνα</td>\n      <td>ν τὸν λαμπρότατον ὑπατικόν Ἄππιος Κυ τὸν ἑαυτο...</td>\n      <td>NaN</td>\n      <td>NaN</td>\n      <td>NaN</td>\n      <td>NaN</td>\n      <td>http://db.edcs.eu/epigr/partner.php?s_language...</td>\n      <td>151.0</td>\n      <td>250.0</td>\n      <td>NaN</td>\n      <td>151 to 250</td>\n      <td>NaN</td>\n      <td>NaN</td>\n      <td>NaN</td>\n      <td>NaN</td>\n      <td>HD067316</td>\n      <td>ν τὸν λαμπρότατον ὑπατικόν Ἄππιος Κυ τὸν ἑαυτο...</td>\n      <td>NaN</td>\n      <td>Greece</td>\n      <td>2 cm</td>\n      <td>[ ]Ν ΤΟΝ ΛΑΜ / [ ]ΟΝ ΑΠΠΙΟΣ ΚΥ / [ ]ΤΡΩΝΑ</td>\n      <td>Aegeum</td>\n      <td>Aígion</td>\n      <td>15 cm</td>\n      <td>2014-01-31</td>\n      <td>3 cm</td>\n      <td>AE 2008, 1264. ; A.D. Rizakis, Achaïe III. Les...</td>\n      <td>Dytikí Elláda</td>\n      <td>Cowey</td>\n      <td>[---]ν τὸν λαμ/[πρότατον ὑπατικ]όν Ἄππιος Κυ/[...</td>\n      <td>https://www.trismegistos.org/text/677832</td>\n      <td>NaN</td>\n      <td>NaN</td>\n      <td>34 cm</td>\n      <td>checked with photo</td>\n      <td>NaN</td>\n      <td>NaN</td>\n      <td>NaN</td>\n      <td>NaN</td>\n      <td>NaN</td>\n      <td>[{'type': 'province', 'text': 'Achaia'}, {'typ...</td>\n      <td>\\n \\xce\\xbd \\xcf\\x84\\xe1\\xbd\\xb8\\xce\\xbd \\xce\\...</td>\n      <td>151 AD - 250 AD</td>\n      <td>NaN</td>\n      <td>NaN</td>\n      <td>NaN</td>\n      <td>NaN</td>\n      <td>48</td>\n      <td>Marmor, wei\\xc3\\x9f</td>\n      <td>1000</td>\n      <td>143</td>\n      <td>unknown</td>\n      <td>NaN</td>\n      <td>Achaia</td>\n      <td>570049</td>\n      <td>NULL</td>\n      <td>NULL</td>\n      <td>15.0</td>\n      <td>34.0</td>\n      <td>2.0</td>\n      <td>Marble</td>\n      <td>NULL</td>\n      <td>NULL</td>\n      <td>Achaia</td>\n      <td>Certain</td>\n      <td>Greece</td>\n      <td>Certain</td>\n      <td>Aegeum</td>\n      <td>Certain</td>\n      <td>Dytikí Elláda</td>\n      <td>Certain</td>\n      <td>Aígion</td>\n      <td>Certain</td>\n      <td>NULL</td>\n      <td>NULL</td>\n      <td>151 AD - 250 AD</td>\n      <td>ν τὸν λαμπρότατον ὑπατικόν Ἄππιος Κυ τὸν ἑαυτο...</td>\n      <td>G</td>\n      <td>Marmor, weiß</td>\n      <td>250</td>\n      <td>151</td>\n      <td>22.084500</td>\n      <td>38.248700</td>\n      <td>ν τὸν λαμόν Ἄππιος Κυτρωνα</td>\n      <td>ν τὸν λαμπρότατον ὑπατικόν Ἄππιος Κυ τὸν ἑαυτο...</td>\n    </tr>\n    <tr>\n      <th>456815</th>\n      <td>EDCS-66200108</td>\n      <td>SEG-49, 00495a = AE 2008, 01265a</td>\n      <td>Achaia</td>\n      <td>Aigio / Egio / Aiyion / Aegeum</td>\n      <td>ἐπὶ Τιβ(ερίου) / Κλαυδί/ου Φρον/τείνου / Νεικη...</td>\n      <td>ἐπὶ Τιβ Κλαυδίου Φροντείνου Νεικηράτου ταμίου ...</td>\n      <td>ἐπὶ Τιβερίου Κλαυδίου Φροντείνου Νεικηράτου τα...</td>\n      <td>NaN</td>\n      <td>NaN</td>\n      <td>NaN</td>\n      <td>NaN</td>\n      <td>http://db.edcs.eu/epigr/partner.php?s_language...</td>\n      <td>NaN</td>\n      <td>NaN</td>\n      <td>NaN</td>\n      <td>NaN</td>\n      <td>NaN</td>\n      <td>NaN</td>\n      <td>NaN</td>\n      <td>NaN</td>\n      <td>HD068315</td>\n      <td>ἐπὶ Τιβερίου Κλαυδίου Φροντείνου Νεικηράτου τα...</td>\n      <td>Gewicht.</td>\n      <td>Greece</td>\n      <td>1 cm</td>\n      <td>ΕΠΙ ΤΙΒ / ΚΛΑΥΔΙ / ΟΥ ΦΡΟΝ / ΤΕΙΝΟΥ / ΝΕΙΚΗΡ /...</td>\n      <td>Aegeum</td>\n      <td>Aígion</td>\n      <td>11 cm</td>\n      <td>2014-10-17</td>\n      <td>1-1.5 cm</td>\n      <td>AE 2008, 1265a. ; A.D. Rizakis, Achaïe III. Le...</td>\n      <td>Dytikí Elláda</td>\n      <td>Cowey</td>\n      <td>ἐπὶ Τιβ(ερίου) / Κλαυδί/ου Φρον/τείνου / Νεικη...</td>\n      <td>https://www.trismegistos.org/text/677853</td>\n      <td>owner/artist inscription?</td>\n      <td>instrumentum domesticum</td>\n      <td>5 cm</td>\n      <td>checked with photo</td>\n      <td>NaN</td>\n      <td>1979.0</td>\n      <td>Pátrai, Arch. Mus.</td>\n      <td>NaN</td>\n      <td>NaN</td>\n      <td>[{'type': 'province', 'text': 'Achaia'}, {'typ...</td>\n      <td>\\n \\xe1\\xbc\\x90\\xcf\\x80\\xe1\\xbd\\xb6 \\xce\\xa4\\x...</td>\n      <td></td>\n      <td>NaN</td>\n      <td>NaN</td>\n      <td>140</td>\n      <td>instrumentum domesticum</td>\n      <td>109</td>\n      <td>Bronze</td>\n      <td>1000</td>\n      <td>NaN</td>\n      <td>owner/artist inscription?</td>\n      <td>NaN</td>\n      <td>Achaia</td>\n      <td>570049</td>\n      <td>owner/artist inscription</td>\n      <td>Uncertain</td>\n      <td>11.0</td>\n      <td>5.0</td>\n      <td>1.0</td>\n      <td>Metal</td>\n      <td>instrumentum domesticum</td>\n      <td>Certain</td>\n      <td>Achaia</td>\n      <td>Certain</td>\n      <td>Greece</td>\n      <td>Certain</td>\n      <td>Aegeum</td>\n      <td>Certain</td>\n      <td>Dytikí Elláda</td>\n      <td>Certain</td>\n      <td>Aígion</td>\n      <td>Certain</td>\n      <td>NULL</td>\n      <td>NULL</td>\n      <td></td>\n      <td>ἐπὶ Τιβερίου Κλαυδίου Φροντείνου Νεικηράτου τα...</td>\n      <td>G</td>\n      <td>Bronze</td>\n      <td>NaN</td>\n      <td>NaN</td>\n      <td>22.084500</td>\n      <td>38.248700</td>\n      <td>ἐπὶ Τιβ Κλαυδίου Φροντείνου Νεικηράτου ταμίου ...</td>\n      <td>ἐπὶ Τιβερίου Κλαυδίου Φροντείνου Νεικηράτου τα...</td>\n    </tr>\n    <tr>\n      <th>456816</th>\n      <td>EDCS-66200109</td>\n      <td>SEG-49, 00495b = AE 2008, 01265b</td>\n      <td>Achaia</td>\n      <td>Aigio / Egio / Aiyion / Aegeum</td>\n      <td>ἐπὶ Τιβ(ερίου) / Κλαυδίου / Φροντείνου / Νεικη...</td>\n      <td>ἐπὶ Τιβ Κλαυδίου Φροντείνου Νεικηράτου ταμίου ...</td>\n      <td>ἐπὶ Τιβερίου Κλαυδίου Φροντείνου Νεικηράτου τα...</td>\n      <td>NaN</td>\n      <td>NaN</td>\n      <td>NaN</td>\n      <td>NaN</td>\n      <td>http://db.edcs.eu/epigr/partner.php?s_language...</td>\n      <td>NaN</td>\n      <td>NaN</td>\n      <td>NaN</td>\n      <td>NaN</td>\n      <td>NaN</td>\n      <td>NaN</td>\n      <td>NaN</td>\n      <td>NaN</td>\n      <td>HD068319</td>\n      <td>ἐπὶ Τιβερίου Κλαυδίου Φροντείνου Νεικηράτου τα...</td>\n      <td>Gewicht.</td>\n      <td>Greece</td>\n      <td>0 cm</td>\n      <td>ΕΠΙ ΤΙΒ / ΚΛΑΥΔΙΟΥ / ΦΡΟΝΤΕΙΝΟΥ / ΝΕΙΚΗΡΑΤΟΥ /...</td>\n      <td>Aegeum</td>\n      <td>Aígion</td>\n      <td>11 cm</td>\n      <td>2014-10-17</td>\n      <td>0.5-0.6 cm</td>\n      <td>AE 2008, 1265b. ; A.D. Rizakis, Achaïe III. Le...</td>\n      <td>Dytikí Elláda</td>\n      <td>Cowey</td>\n      <td>ἐπὶ Τιβ(ερίου) / Κλαυδίου / Φροντείνου / Νεικη...</td>\n      <td>https://www.trismegistos.org/text/677854</td>\n      <td>owner/artist inscription?</td>\n      <td>instrumentum domesticum</td>\n      <td>5 cm</td>\n      <td>checked with photo</td>\n      <td>NaN</td>\n      <td>NaN</td>\n      <td>Pátrai, Arch. Mus.</td>\n      <td>NaN</td>\n      <td>NaN</td>\n      <td>[{'type': 'province', 'text': 'Achaia'}, {'typ...</td>\n      <td>\\n \\xe1\\xbc\\x90\\xcf\\x80\\xe1\\xbd\\xb6 \\xce\\xa4\\x...</td>\n      <td></td>\n      <td>NaN</td>\n      <td>NaN</td>\n      <td>140</td>\n      <td>instrumentum domesticum</td>\n      <td>109</td>\n      <td>Bronze</td>\n      <td>1000</td>\n      <td>NaN</td>\n      <td>owner/artist inscription?</td>\n      <td>NaN</td>\n      <td>Achaia</td>\n      <td>570049</td>\n      <td>owner/artist inscription</td>\n      <td>Uncertain</td>\n      <td>11.0</td>\n      <td>5.0</td>\n      <td>0.0</td>\n      <td>Metal</td>\n      <td>instrumentum domesticum</td>\n      <td>Certain</td>\n      <td>Achaia</td>\n      <td>Certain</td>\n      <td>Greece</td>\n      <td>Certain</td>\n      <td>Aegeum</td>\n      <td>Certain</td>\n      <td>Dytikí Elláda</td>\n      <td>Certain</td>\n      <td>Aígion</td>\n      <td>Certain</td>\n      <td>NULL</td>\n      <td>NULL</td>\n      <td></td>\n      <td>ἐπὶ Τιβερίου Κλαυδίου Φροντείνου Νεικηράτου τα...</td>\n      <td>G</td>\n      <td>Bronze</td>\n      <td>NaN</td>\n      <td>NaN</td>\n      <td>22.084500</td>\n      <td>38.248700</td>\n      <td>ἐπὶ Τιβ Κλαυδίου Φροντείνου Νεικηράτου ταμίου ...</td>\n      <td>ἐπὶ Τιβερίου Κλαυδίου Φροντείνου Νεικηράτου τα...</td>\n    </tr>\n    <tr>\n      <th>456818</th>\n      <td>EDCS-66200178</td>\n      <td>AE 2009, 01314</td>\n      <td>Achaia</td>\n      <td>Alea / Tegea</td>\n      <td>Τοῦ σεπτοῦ τούτου τεμένος ἐν ἱερεῦσιν / ἐννεακ...</td>\n      <td>Τοῦ σεπτοῦ τούτου τεμένος ἐν ἱερεῦσιν ἐννεακαι...</td>\n      <td>Τοῦ σεπτοῦ τούτου τεμένος ἐν ἱερεῦσιν ἐννεακαι...</td>\n      <td>[tituli operum, tituli sacri]</td>\n      <td>viri</td>\n      <td>NaN</td>\n      <td>tituli operum;  tituli sacri;  viri</td>\n      <td>http://db.edcs.eu/epigr/partner.php?s_language...</td>\n      <td>527.0</td>\n      <td>565.0</td>\n      <td>NaN</td>\n      <td>527 to 565</td>\n      <td>NaN</td>\n      <td>NaN</td>\n      <td>NaN</td>\n      <td>NaN</td>\n      <td>HD068216</td>\n      <td>Τοῦ σεπτοῦ τούτου τεμένος ἐν ἱερεῦσιν ἐννεακαι...</td>\n      <td>NaN</td>\n      <td>Greece</td>\n      <td>NaN</td>\n      <td>ΤΟΥ ΣΕΠΤΟΥ ΤΟΥΤΟΥ ΤΕΜΕΝΟΣ ΕΝ ΙΕΡΕΥΣΙΝ / ΕΝΝΕΑΚ...</td>\n      <td>Tegea</td>\n      <td>Alea</td>\n      <td>54 cm</td>\n      <td>2015-09-28</td>\n      <td>NaN</td>\n      <td>AE 2009, 1314. ; G. Velenis, in: S. Drougou u....</td>\n      <td>Pelopónissos</td>\n      <td>Cowey</td>\n      <td>Τοῦ σεπτοῦ τούτου τεμένος ἐν ἱερεῦσιν / ἐννεακ...</td>\n      <td>https://www.trismegistos.org/text/677834</td>\n      <td>NaN</td>\n      <td>NaN</td>\n      <td>161 cm</td>\n      <td>provisional</td>\n      <td>NaN</td>\n      <td>NaN</td>\n      <td>NaN</td>\n      <td>NaN</td>\n      <td>NaN</td>\n      <td>[{'type': 'province', 'text': 'Achaia'}, {'typ...</td>\n      <td>\\n \\xce\\xa4\\xce\\xbf\\xe1\\xbf\\xa6 \\xcf\\x83\\xce\\x...</td>\n      <td>527 AD - 565 AD</td>\n      <td>NaN</td>\n      <td>NaN</td>\n      <td>NaN</td>\n      <td>NaN</td>\n      <td>NaN</td>\n      <td>NaN</td>\n      <td>1000</td>\n      <td>143</td>\n      <td>unknown</td>\n      <td>NaN</td>\n      <td>Achaia</td>\n      <td></td>\n      <td>NULL</td>\n      <td>NULL</td>\n      <td>54.0</td>\n      <td>161.0</td>\n      <td>NaN</td>\n      <td>NULL</td>\n      <td>NULL</td>\n      <td>NULL</td>\n      <td>Achaia</td>\n      <td>Certain</td>\n      <td>Greece</td>\n      <td>Certain</td>\n      <td>Tegea</td>\n      <td>Certain</td>\n      <td>Pelopónissos</td>\n      <td>Certain</td>\n      <td>Alea</td>\n      <td>Certain</td>\n      <td>NULL</td>\n      <td>NULL</td>\n      <td>527 AD - 565 AD</td>\n      <td>Τοῦ σεπτοῦ τούτου τεμένος ἐν ἱερεῦσιν ἐννεακαι...</td>\n      <td>G</td>\n      <td>lapis</td>\n      <td>565</td>\n      <td>527</td>\n      <td>22.420877</td>\n      <td>37.454501</td>\n      <td>Τοῦ σεπτοῦ τούτου τεμένος ἐν ἱερεῦσιν ἐννεακαι...</td>\n      <td>Τοῦ σεπτοῦ τούτου τεμένος ἐν ἱερεῦσιν ἐννεακαι...</td>\n    </tr>\n    <tr>\n      <th>...</th>\n      <td>...</td>\n      <td>...</td>\n      <td>...</td>\n      <td>...</td>\n      <td>...</td>\n      <td>...</td>\n      <td>...</td>\n      <td>...</td>\n      <td>...</td>\n      <td>...</td>\n      <td>...</td>\n      <td>...</td>\n      <td>...</td>\n      <td>...</td>\n      <td>...</td>\n      <td>...</td>\n      <td>...</td>\n      <td>...</td>\n      <td>...</td>\n      <td>...</td>\n      <td>...</td>\n      <td>...</td>\n      <td>...</td>\n      <td>...</td>\n      <td>...</td>\n      <td>...</td>\n      <td>...</td>\n      <td>...</td>\n      <td>...</td>\n      <td>...</td>\n      <td>...</td>\n      <td>...</td>\n      <td>...</td>\n      <td>...</td>\n      <td>...</td>\n      <td>...</td>\n      <td>...</td>\n      <td>...</td>\n      <td>...</td>\n      <td>...</td>\n      <td>...</td>\n      <td>...</td>\n      <td>...</td>\n      <td>...</td>\n      <td>...</td>\n      <td>...</td>\n      <td>...</td>\n      <td>...</td>\n      <td>...</td>\n      <td>...</td>\n      <td>...</td>\n      <td>...</td>\n      <td>...</td>\n      <td>...</td>\n      <td>...</td>\n      <td>...</td>\n      <td>...</td>\n      <td>...</td>\n      <td>...</td>\n      <td>...</td>\n      <td>...</td>\n      <td>...</td>\n      <td>...</td>\n      <td>...</td>\n      <td>...</td>\n      <td>...</td>\n      <td>...</td>\n      <td>...</td>\n      <td>...</td>\n      <td>...</td>\n      <td>...</td>\n      <td>...</td>\n      <td>...</td>\n      <td>...</td>\n      <td>...</td>\n      <td>...</td>\n      <td>...</td>\n      <td>...</td>\n      <td>...</td>\n      <td>...</td>\n      <td>...</td>\n      <td>...</td>\n      <td>...</td>\n      <td>...</td>\n      <td>...</td>\n      <td>...</td>\n      <td>...</td>\n      <td>...</td>\n      <td>...</td>\n      <td>...</td>\n    </tr>\n    <tr>\n      <th>539676</th>\n      <td>NaN</td>\n      <td>NaN</td>\n      <td>NaN</td>\n      <td>NaN</td>\n      <td>NaN</td>\n      <td>NaN</td>\n      <td>NaN</td>\n      <td>NaN</td>\n      <td>NaN</td>\n      <td>NaN</td>\n      <td>NaN</td>\n      <td>NaN</td>\n      <td>NaN</td>\n      <td>NaN</td>\n      <td>NaN</td>\n      <td>NaN</td>\n      <td>NaN</td>\n      <td>NaN</td>\n      <td>NaN</td>\n      <td>NaN</td>\n      <td>HD078982</td>\n      <td>NaN</td>\n      <td>NaN</td>\n      <td>Germany</td>\n      <td>2 cm</td>\n      <td>[ ]ΟΥΣ[ ] / [ ]ΣΙΟ[ ] / [ ]ΕΚ[</td>\n      <td>Augusta Treverorum</td>\n      <td>Trier</td>\n      <td>(12) cm</td>\n      <td>2020-05-12</td>\n      <td>2.1-2.3 cm</td>\n      <td>H. Merten, Die frühchristlichen Inschriften au...</td>\n      <td>Rheinland-Pfalz</td>\n      <td>Cowey</td>\n      <td>[---]ΟΥΣ[---] / [---]ΣΙΟ[---] / [---]ΕΚ[------</td>\n      <td>NaN</td>\n      <td>epitaph</td>\n      <td>tabula</td>\n      <td>(8) cm</td>\n      <td>checked with photo</td>\n      <td>{S. Maximin, Kirche, Mittelschiff}</td>\n      <td>1982.0</td>\n      <td>Trier, Dom- u. Diözesanmus.</td>\n      <td>Judaism / Christianity</td>\n      <td>NaN</td>\n      <td>[{'type': 'province', 'text': 'Belgica'}, {'ty...</td>\n      <td>\\n \\xce\\x9f\\xce\\xa5\\xce\\xa3 \\xce\\xa3\\xce\\x99\\x...</td>\n      <td>371 AD - 430 AD</td>\n      <td>NaN</td>\n      <td>NaN</td>\n      <td>257</td>\n      <td>tabula</td>\n      <td>NaN</td>\n      <td>Marmor, ge\\xc3\\xa4dert / farbig</td>\n      <td>1000</td>\n      <td>92</td>\n      <td>epitaph</td>\n      <td>NaN</td>\n      <td>Belgica</td>\n      <td>108894</td>\n      <td>epitaph</td>\n      <td>Certain</td>\n      <td>12.0</td>\n      <td>8.0</td>\n      <td>2.0</td>\n      <td>Marble</td>\n      <td>tabula</td>\n      <td>Certain</td>\n      <td>Belgica</td>\n      <td>Certain</td>\n      <td>Germany</td>\n      <td>Certain</td>\n      <td>Augusta Treverorum</td>\n      <td>Certain</td>\n      <td>Rheinland-Pfalz</td>\n      <td>Certain</td>\n      <td>Trier</td>\n      <td>Certain</td>\n      <td>{S. Maximin, Kirche, Mittelschiff}</td>\n      <td>Certain</td>\n      <td>371 AD - 430 AD</td>\n      <td>ΟΥΣ ΣΙΟ ΕΚ</td>\n      <td>G</td>\n      <td>Marmor, geädert / farbig</td>\n      <td>430</td>\n      <td>371</td>\n      <td>6.630300</td>\n      <td>49.756800</td>\n      <td>ΟΥΣ ΣΙΟ ΕΚ</td>\n      <td>ΟΥΣ ΣΙΟ ΕΚ</td>\n    </tr>\n    <tr>\n      <th>540219</th>\n      <td>NaN</td>\n      <td>NaN</td>\n      <td>NaN</td>\n      <td>NaN</td>\n      <td>NaN</td>\n      <td>NaN</td>\n      <td>NaN</td>\n      <td>NaN</td>\n      <td>NaN</td>\n      <td>NaN</td>\n      <td>NaN</td>\n      <td>NaN</td>\n      <td>NaN</td>\n      <td>NaN</td>\n      <td>NaN</td>\n      <td>NaN</td>\n      <td>NaN</td>\n      <td>NaN</td>\n      <td>NaN</td>\n      <td>NaN</td>\n      <td>HD079977</td>\n      <td>NaN</td>\n      <td>Sechs Hexameter. Material: Blei-Zinn-Legierung.</td>\n      <td>United Kingdom</td>\n      <td>NaN</td>\n      <td>ΑΒΡΑΙ Β[ ]ΡΒΑΣΩ / ΒΑΡΒΑΣΩΧ ΒΑΡΒΑΣΩΘ ΕΥΛΙΩΡ / Α...</td>\n      <td>Londinium</td>\n      <td>London</td>\n      <td>13 cm</td>\n      <td>2020-02-24</td>\n      <td>NaN</td>\n      <td>AE 2013, 0946. ; R.S.O. Tomlin, Britannia 44, ...</td>\n      <td>London</td>\n      <td>Cowey</td>\n      <td>αβραι β[α]ρβασω / βαρβασωχ βαρβασωθ ευλιωρ / α...</td>\n      <td>NaN</td>\n      <td>defixio</td>\n      <td>tabula</td>\n      <td>4 cm</td>\n      <td>checked with photo</td>\n      <td>The City, {Upper Thames Street}</td>\n      <td>1989.0</td>\n      <td>London, Mus. of London</td>\n      <td>magic/spells</td>\n      <td>NaN</td>\n      <td>[{'type': 'province', 'text': 'Britannia'}, {'...</td>\n      <td>\\n \\xce\\xb1\\xce\\xb2\\xcf\\x81\\xce\\xb1\\xce\\xb9 \\x...</td>\n      <td>131 AD - 200 AD</td>\n      <td>NaN</td>\n      <td>NaN</td>\n      <td>257</td>\n      <td>tabula</td>\n      <td>108</td>\n      <td>Blei</td>\n      <td>1000</td>\n      <td>76</td>\n      <td>defixio</td>\n      <td>NaN</td>\n      <td>Britannia</td>\n      <td>79574</td>\n      <td>defixio</td>\n      <td>Certain</td>\n      <td>13.0</td>\n      <td>4.0</td>\n      <td>NaN</td>\n      <td>Metal</td>\n      <td>tabula</td>\n      <td>Certain</td>\n      <td>Britannia</td>\n      <td>Certain</td>\n      <td>United Kingdom</td>\n      <td>Certain</td>\n      <td>Londinium</td>\n      <td>Certain</td>\n      <td>London</td>\n      <td>Certain</td>\n      <td>London</td>\n      <td>Certain</td>\n      <td>The City, {Upper Thames Street}</td>\n      <td>Certain</td>\n      <td>131 AD - 200 AD</td>\n      <td>αβραι βαρβασω βαρβασωχ βαρβασωθ ευλιωρ αθεμορφ...</td>\n      <td>G</td>\n      <td>Blei</td>\n      <td>200</td>\n      <td>131</td>\n      <td>-0.208800</td>\n      <td>51.464100</td>\n      <td>αβραι βρβασω βαρβασωχ βαρβασωθ ευλιωρ αθεμορφι...</td>\n      <td>αβραι βαρβασω βαρβασωχ βαρβασωθ ευλιωρ αθεμορφ...</td>\n    </tr>\n    <tr>\n      <th>540435</th>\n      <td>NaN</td>\n      <td>NaN</td>\n      <td>NaN</td>\n      <td>NaN</td>\n      <td>NaN</td>\n      <td>NaN</td>\n      <td>NaN</td>\n      <td>NaN</td>\n      <td>NaN</td>\n      <td>NaN</td>\n      <td>NaN</td>\n      <td>NaN</td>\n      <td>NaN</td>\n      <td>NaN</td>\n      <td>NaN</td>\n      <td>NaN</td>\n      <td>NaN</td>\n      <td>NaN</td>\n      <td>NaN</td>\n      <td>NaN</td>\n      <td>HD081063</td>\n      <td>NaN</td>\n      <td>Durchmesser bezieht sich auf den Innendurchmes...</td>\n      <td>Germany</td>\n      <td>NaN</td>\n      <td>PVLVERI / ΖΗΣΑΙΣ</td>\n      <td>Aquae Mattiacorum (Civitas Mattiacorum)</td>\n      <td>Wiesbaden</td>\n      <td>NaN</td>\n      <td>2020-10-06</td>\n      <td>NaN</td>\n      <td>E. Ritterling, in: Der obergermanisch-rätische...</td>\n      <td>Hessen</td>\n      <td>Gräf</td>\n      <td>Pulveri / ζήσαις</td>\n      <td>NaN</td>\n      <td>acclamation</td>\n      <td>jewellery</td>\n      <td>1 cm</td>\n      <td>checked with photo</td>\n      <td>{Adlerstraße}</td>\n      <td>1837.0</td>\n      <td>Wiesbaden, Mus. Wiesbaden</td>\n      <td>NaN</td>\n      <td>NaN</td>\n      <td>[{'type': 'province', 'text': 'Germania superi...</td>\n      <td>\\n Pulveri \\xce\\xb6\\xe1\\xbd\\xb5\\xcf\\x83\\xce\\xb...</td>\n      <td>301 AD - 350 AD</td>\n      <td>NaN</td>\n      <td>NaN</td>\n      <td>163</td>\n      <td>jewellery</td>\n      <td>112</td>\n      <td>Gold, Onyx</td>\n      <td>1000</td>\n      <td>73</td>\n      <td>acclamation</td>\n      <td>NaN</td>\n      <td>Germania superior</td>\n      <td>108750</td>\n      <td>acclamation</td>\n      <td>Certain</td>\n      <td>NaN</td>\n      <td>1.0</td>\n      <td>NaN</td>\n      <td>Metal</td>\n      <td>jewellery</td>\n      <td>Certain</td>\n      <td>Germania superior</td>\n      <td>Certain</td>\n      <td>Germany</td>\n      <td>Certain</td>\n      <td>Aquae Mattiacorum (Civitas Mattiacorum)</td>\n      <td>Certain</td>\n      <td>Hessen</td>\n      <td>Certain</td>\n      <td>Wiesbaden</td>\n      <td>Certain</td>\n      <td>{Adlerstraße}</td>\n      <td>Certain</td>\n      <td>301 AD - 350 AD</td>\n      <td>Pulveri ζήσαις</td>\n      <td>GL</td>\n      <td>Gold, Onyx</td>\n      <td>350</td>\n      <td>301</td>\n      <td>8.238400</td>\n      <td>50.083400</td>\n      <td>Pulveri ζήσαις</td>\n      <td>Pulveri ζήσαις</td>\n    </tr>\n    <tr>\n      <th>540444</th>\n      <td>NaN</td>\n      <td>NaN</td>\n      <td>NaN</td>\n      <td>NaN</td>\n      <td>NaN</td>\n      <td>NaN</td>\n      <td>NaN</td>\n      <td>NaN</td>\n      <td>NaN</td>\n      <td>NaN</td>\n      <td>NaN</td>\n      <td>NaN</td>\n      <td>NaN</td>\n      <td>NaN</td>\n      <td>NaN</td>\n      <td>NaN</td>\n      <td>NaN</td>\n      <td>NaN</td>\n      <td>NaN</td>\n      <td>NaN</td>\n      <td>HD081141</td>\n      <td>NaN</td>\n      <td>NaN</td>\n      <td>United Kingdom</td>\n      <td>NaN</td>\n      <td>ΘΥΣΙΑ</td>\n      <td>Londinium</td>\n      <td>London</td>\n      <td>NaN</td>\n      <td>2019-12-17</td>\n      <td>NaN</td>\n      <td>AE 2012, 0848. ; R.S.O. Tomlin, Britannia 43, ...</td>\n      <td>London</td>\n      <td>Cowey</td>\n      <td>θυσία</td>\n      <td>NaN</td>\n      <td>label?</td>\n      <td>instrumentum domesticum</td>\n      <td>NaN</td>\n      <td>checked with photo</td>\n      <td>The City, {Crosby Square, Bishopsgate}</td>\n      <td>-2008.0</td>\n      <td>NaN</td>\n      <td>NaN</td>\n      <td>NaN</td>\n      <td>[{'type': 'province', 'text': 'Britannia'}, {'...</td>\n      <td>\\n \\xce\\xb8\\xcf\\x85\\xcf\\x83\\xe1\\xbd\\xb7\\xce\\xb1\\n</td>\n      <td>71 AD - 130 AD</td>\n      <td>NaN</td>\n      <td>NaN</td>\n      <td>140</td>\n      <td>instrumentum domesticum</td>\n      <td>122</td>\n      <td>Glas</td>\n      <td>1000</td>\n      <td>109</td>\n      <td>label?</td>\n      <td>NaN</td>\n      <td>Britannia</td>\n      <td>79574</td>\n      <td>label</td>\n      <td>Uncertain</td>\n      <td>NaN</td>\n      <td>NaN</td>\n      <td>NaN</td>\n      <td>Glass</td>\n      <td>instrumentum domesticum</td>\n      <td>Certain</td>\n      <td>Britannia</td>\n      <td>Certain</td>\n      <td>United Kingdom</td>\n      <td>Certain</td>\n      <td>Londinium</td>\n      <td>Certain</td>\n      <td>London</td>\n      <td>Certain</td>\n      <td>London</td>\n      <td>Certain</td>\n      <td>The City, {Crosby Square, Bishopsgate}</td>\n      <td>Certain</td>\n      <td>71 AD - 130 AD</td>\n      <td>θυσία</td>\n      <td>G</td>\n      <td>Glas</td>\n      <td>130</td>\n      <td>71</td>\n      <td>-0.208800</td>\n      <td>51.464100</td>\n      <td>θυσία</td>\n      <td>θυσία</td>\n    </tr>\n    <tr>\n      <th>540497</th>\n      <td>NaN</td>\n      <td>NaN</td>\n      <td>NaN</td>\n      <td>NaN</td>\n      <td>NaN</td>\n      <td>NaN</td>\n      <td>NaN</td>\n      <td>NaN</td>\n      <td>NaN</td>\n      <td>NaN</td>\n      <td>NaN</td>\n      <td>NaN</td>\n      <td>NaN</td>\n      <td>NaN</td>\n      <td>NaN</td>\n      <td>NaN</td>\n      <td>NaN</td>\n      <td>NaN</td>\n      <td>NaN</td>\n      <td>NaN</td>\n      <td>HD081409</td>\n      <td>NaN</td>\n      <td>NaN</td>\n      <td>United Kingdom</td>\n      <td>NaN</td>\n      <td>ΔΙΕΟΔΚΑ</td>\n      <td>Londinium</td>\n      <td>London</td>\n      <td>NaN</td>\n      <td>2020-01-13</td>\n      <td>NaN</td>\n      <td>AE 2012, 0845. ; R.S.O. Tomlin, Britannia 43, ...</td>\n      <td>London</td>\n      <td>Cowey</td>\n      <td>Διε&amp;lt;ξ&amp;gt;οδ&amp;lt;ι&amp;gt;κά</td>\n      <td>NaN</td>\n      <td>label?</td>\n      <td>instrumentum domesticum</td>\n      <td>NaN</td>\n      <td>checked with photo</td>\n      <td>The City, {Mariner House, Crutched Friars}</td>\n      <td>2008.0</td>\n      <td>NaN</td>\n      <td>NaN</td>\n      <td>NaN</td>\n      <td>[{'type': 'province', 'text': 'Britannia'}, {'...</td>\n      <td>\\n \\xce\\x94\\xce\\xb9\\xce\\xb5&amp;lt;\\xce\\xbe&amp;gt;\\xc...</td>\n      <td>51 AD - 200 AD</td>\n      <td>NaN</td>\n      <td>NaN</td>\n      <td>140</td>\n      <td>instrumentum domesticum</td>\n      <td>131</td>\n      <td>Ton</td>\n      <td>1000</td>\n      <td>109</td>\n      <td>label?</td>\n      <td>NaN</td>\n      <td>Britannia</td>\n      <td>79574</td>\n      <td>label</td>\n      <td>Uncertain</td>\n      <td>NaN</td>\n      <td>NaN</td>\n      <td>NaN</td>\n      <td>Clay</td>\n      <td>instrumentum domesticum</td>\n      <td>Certain</td>\n      <td>Britannia</td>\n      <td>Certain</td>\n      <td>United Kingdom</td>\n      <td>Certain</td>\n      <td>Londinium</td>\n      <td>Certain</td>\n      <td>London</td>\n      <td>Certain</td>\n      <td>London</td>\n      <td>Certain</td>\n      <td>The City, {Mariner House, Crutched Friars}</td>\n      <td>Certain</td>\n      <td>51 AD - 200 AD</td>\n      <td>Διε lt;ξ gt;οδ lt;ι gt;κά</td>\n      <td>G</td>\n      <td>Ton</td>\n      <td>200</td>\n      <td>51</td>\n      <td>-0.208800</td>\n      <td>51.464100</td>\n      <td>Διε lt ξ gt οδ lt ι gt κά</td>\n      <td>Διε lt ξ gt οδ lt ι gt κά</td>\n    </tr>\n  </tbody>\n</table>\n<p>1995 rows × 90 columns</p>\n</div>"
     },
     "execution_count": 49,
     "metadata": {},
     "output_type": "execute_result"
    }
   ],
   "source": [
    "# not classified as Latin in EDCS, but still in our dataset, since from EDH...\n",
    "LIST[(LIST[\"language_EDCS\"].isnull()) & (LIST[\"language\"]!=\"L\")]"
   ],
   "metadata": {
    "collapsed": false,
    "ExecuteTime": {
     "start_time": "2023-04-26T18:39:07.172570Z",
     "end_time": "2023-04-26T18:39:07.313015Z"
    }
   }
  },
  {
   "cell_type": "code",
   "execution_count": 50,
   "outputs": [],
   "source": [
    "# ok, filter for latin inscriptions only\n",
    "LIST = LIST[LIST[\"language\"]==\"L\"]"
   ],
   "metadata": {
    "collapsed": false,
    "ExecuteTime": {
     "start_time": "2023-04-26T18:39:07.224463Z",
     "end_time": "2023-04-26T18:39:07.787535Z"
    }
   }
  },
  {
   "cell_type": "markdown",
   "metadata": {},
   "source": [
    "# Create geodataframes"
   ]
  },
  {
   "cell_type": "code",
   "execution_count": 51,
   "outputs": [],
   "source": [
    "LIST = gpd.GeoDataFrame(LIST, geometry=gpd.points_from_xy(LIST[\"Longitude\"], LIST[\"Latitude\"]), crs={\"init\": \"epsg:3857\"})"
   ],
   "metadata": {
    "collapsed": false,
    "ExecuteTime": {
     "start_time": "2023-04-26T18:39:07.788544Z",
     "end_time": "2023-04-26T18:39:15.210079Z"
    }
   }
  },
  {
   "cell_type": "code",
   "execution_count": 52,
   "outputs": [
    {
     "data": {
      "text/plain": "13914"
     },
     "execution_count": 52,
     "metadata": {},
     "output_type": "execute_result"
    }
   ],
   "source": [
    "(LIST[\"Latitude\"].isnull() | LIST[\"Longitude\"].isnull()).sum()"
   ],
   "metadata": {
    "collapsed": false,
    "ExecuteTime": {
     "start_time": "2023-04-26T18:39:15.212690Z",
     "end_time": "2023-04-26T18:39:15.217280Z"
    }
   }
  },
  {
   "cell_type": "code",
   "execution_count": 53,
   "outputs": [
    {
     "data": {
      "text/plain": "516453"
     },
     "execution_count": 53,
     "metadata": {},
     "output_type": "execute_result"
    }
   ],
   "source": [
    "(LIST[\"Latitude\"].notnull() | LIST[\"Longitude\"].notnull()).sum()"
   ],
   "metadata": {
    "collapsed": false,
    "ExecuteTime": {
     "start_time": "2023-04-26T18:39:15.216848Z",
     "end_time": "2023-04-26T18:39:15.222400Z"
    }
   }
  },
  {
   "cell_type": "code",
   "execution_count": 54,
   "outputs": [],
   "source": [
    "LIST[\"geotemporal?\"] = (LIST[\"not_before\"].notnull() | LIST[\"not_after\"].notnull()) & (LIST[\"Latitude\"].notnull() & LIST[\"Longitude\"].notnull())"
   ],
   "metadata": {
    "collapsed": false,
    "ExecuteTime": {
     "start_time": "2023-04-26T18:39:15.231837Z",
     "end_time": "2023-04-26T18:39:15.261286Z"
    }
   }
  },
  {
   "cell_type": "code",
   "execution_count": 55,
   "outputs": [
    {
     "data": {
      "text/plain": "   LI_unfiltered dataset attribute_name delete merged dataset_source  \\\n0                      1        LIST-ID    NaN    NaN           SDAM   \n1                      2   geotemporal?    NaN    NaN           SDAM   \n2                      3        EDCS-ID    NaN    NaN           EDCS   \n3                      4    publication   True    NaN           EDCS   \n4                      5       province    NaN    NaN           EDCS   \n\n                             attribute_source  \\\n0                                         NaN   \n1                                         NaN   \n2  http://db.edcs.eu/epigr/epikl_ergebnis.php   \n3  http://db.edcs.eu/epigr/epikl_ergebnis.php   \n4  http://db.edcs.eu/epigr/epikl_ergebnis.php   \n\n                                   created_by_script  data_type  \\\n0                                                NaN   chracter   \n1                                                NaN       bool   \n2  https://github.com/mqAncientHistory/EpigraphyS...  character   \n3  https://github.com/mqAncientHistory/EpigraphyS...  character   \n4  https://github.com/mqAncientHistory/EpigraphyS...  character   \n\n                                         description  \n0                        Unique ID of the LI dataset  \n1  Whether the inscription has BOTH valid geocoor...  \n2  Unique identifier, as provided by the EDCS; ht...  \n3  Bibliographical references, as provided by the...  \n4  Name of the province where the inscription was...  ",
      "text/html": "<div>\n<style scoped>\n    .dataframe tbody tr th:only-of-type {\n        vertical-align: middle;\n    }\n\n    .dataframe tbody tr th {\n        vertical-align: top;\n    }\n\n    .dataframe thead th {\n        text-align: right;\n    }\n</style>\n<table border=\"1\" class=\"dataframe\">\n  <thead>\n    <tr style=\"text-align: right;\">\n      <th></th>\n      <th>LI_unfiltered dataset</th>\n      <th>attribute_name</th>\n      <th>delete</th>\n      <th>merged</th>\n      <th>dataset_source</th>\n      <th>attribute_source</th>\n      <th>created_by_script</th>\n      <th>data_type</th>\n      <th>description</th>\n    </tr>\n  </thead>\n  <tbody>\n    <tr>\n      <th>0</th>\n      <td>1</td>\n      <td>LIST-ID</td>\n      <td>NaN</td>\n      <td>NaN</td>\n      <td>SDAM</td>\n      <td>NaN</td>\n      <td>NaN</td>\n      <td>chracter</td>\n      <td>Unique ID of the LI dataset</td>\n    </tr>\n    <tr>\n      <th>1</th>\n      <td>2</td>\n      <td>geotemporal?</td>\n      <td>NaN</td>\n      <td>NaN</td>\n      <td>SDAM</td>\n      <td>NaN</td>\n      <td>NaN</td>\n      <td>bool</td>\n      <td>Whether the inscription has BOTH valid geocoor...</td>\n    </tr>\n    <tr>\n      <th>2</th>\n      <td>3</td>\n      <td>EDCS-ID</td>\n      <td>NaN</td>\n      <td>NaN</td>\n      <td>EDCS</td>\n      <td>http://db.edcs.eu/epigr/epikl_ergebnis.php</td>\n      <td>https://github.com/mqAncientHistory/EpigraphyS...</td>\n      <td>character</td>\n      <td>Unique identifier, as provided by the EDCS; ht...</td>\n    </tr>\n    <tr>\n      <th>3</th>\n      <td>4</td>\n      <td>publication</td>\n      <td>True</td>\n      <td>NaN</td>\n      <td>EDCS</td>\n      <td>http://db.edcs.eu/epigr/epikl_ergebnis.php</td>\n      <td>https://github.com/mqAncientHistory/EpigraphyS...</td>\n      <td>character</td>\n      <td>Bibliographical references, as provided by the...</td>\n    </tr>\n    <tr>\n      <th>4</th>\n      <td>5</td>\n      <td>province</td>\n      <td>NaN</td>\n      <td>NaN</td>\n      <td>EDCS</td>\n      <td>http://db.edcs.eu/epigr/epikl_ergebnis.php</td>\n      <td>https://github.com/mqAncientHistory/EpigraphyS...</td>\n      <td>character</td>\n      <td>Name of the province where the inscription was...</td>\n    </tr>\n  </tbody>\n</table>\n</div>"
     },
     "execution_count": 55,
     "metadata": {},
     "output_type": "execute_result"
    }
   ],
   "source": [
    "# upload metadata\n",
    "LIST_metadata = pd.read_csv(\"../data/LIST_2022.csv\")\n",
    "LIST_metadata.head(5)"
   ],
   "metadata": {
    "collapsed": false,
    "ExecuteTime": {
     "start_time": "2023-04-26T18:39:15.247097Z",
     "end_time": "2023-04-26T18:39:15.276175Z"
    }
   }
  },
  {
   "cell_type": "code",
   "execution_count": 56,
   "outputs": [
    {
     "name": "stdout",
     "output_type": "stream",
     "text": [
      "['publication', 'dating_from', 'dating_to', 'inscription_conservative_cleaning', 'inscription_interpretive_cleaning', 'comment', 'photo', 'extra_text', 'extra_html', 'responsible_individual', 'literature', 'height', 'depth', 'material', 'type_of_monument', 'province_label', 'width', 'country', 'findspot_ancient', 'modern_region', 'findspot_modern', 'commentary', 'placenames_refs', 'origdate_text', 'layout_execution_text', 'support_objecttype_text', 'support_material_text', 'keywords_term_text', 'origdate_text_clean', 'findspot', 'religion']\n"
     ]
    }
   ],
   "source": [
    "cols_to_remove = LIST_metadata[LIST_metadata[\"delete\"]==True][\"attribute_name\"].tolist()\n",
    "print(cols_to_remove)"
   ],
   "metadata": {
    "collapsed": false,
    "ExecuteTime": {
     "start_time": "2023-04-26T18:39:15.254061Z",
     "end_time": "2023-04-26T18:39:15.276309Z"
    }
   }
  },
  {
   "cell_type": "code",
   "execution_count": 57,
   "outputs": [
    {
     "data": {
      "text/plain": "(530361, 61)"
     },
     "execution_count": 57,
     "metadata": {},
     "output_type": "execute_result"
    }
   ],
   "source": [
    "LIST.drop(columns=cols_to_remove, inplace=True)\n",
    "LIST.shape"
   ],
   "metadata": {
    "collapsed": false,
    "ExecuteTime": {
     "start_time": "2023-04-26T18:39:15.522443Z",
     "end_time": "2023-04-26T18:39:15.688194Z"
    }
   }
  },
  {
   "cell_type": "code",
   "execution_count": 58,
   "outputs": [],
   "source": [
    "def list_to_str(val):\n",
    "    if isinstance(val, list):\n",
    "        val = \", \".join(val)\n",
    "    return val"
   ],
   "metadata": {
    "collapsed": false,
    "ExecuteTime": {
     "start_time": "2023-04-26T18:39:15.687530Z",
     "end_time": "2023-04-26T18:39:15.690734Z"
    }
   }
  },
  {
   "cell_type": "code",
   "execution_count": 59,
   "outputs": [],
   "source": [
    "def nan_to_empty_dict(val):\n",
    "    if str(val) == \"nan\":\n",
    "        val = []\n",
    "    return str(val)"
   ],
   "metadata": {
    "collapsed": false,
    "ExecuteTime": {
     "start_time": "2023-04-26T18:39:15.690461Z",
     "end_time": "2023-04-26T18:39:15.693225Z"
    }
   }
  },
  {
   "cell_type": "code",
   "execution_count": 60,
   "outputs": [],
   "source": [
    "# apply to the whole dataset\n",
    "LIST[\"inscr_type\"] = LIST[\"inscr_type\"].apply(list_to_str)\n",
    "LIST[\"inscr_process\"] = LIST[\"inscr_process\"].apply(list_to_str)\n",
    "LIST[\"status_notation\"] = LIST[\"status_notation\"].apply(list_to_str)\n",
    "LIST[\"people\"] = LIST[\"people\"].apply(nan_to_empty_dict)"
   ],
   "metadata": {
    "collapsed": false,
    "ExecuteTime": {
     "start_time": "2023-04-26T18:39:15.692179Z",
     "end_time": "2023-04-26T18:39:17.505776Z"
    }
   }
  },
  {
   "cell_type": "markdown",
   "source": [
    "# Finetuning of the unfiltered LIST dataset before saving"
   ],
   "metadata": {
    "collapsed": false
   }
  },
  {
   "cell_type": "code",
   "execution_count": 61,
   "outputs": [
    {
     "data": {
      "text/plain": "['type_of_inscription_certainty',\n 'type_of_monument_certainty',\n 'province_label_certainty',\n 'country_certainty',\n 'findspot_ancient_certainty',\n 'modern_region_certainty',\n 'findspot_modern_certainty',\n 'findspot_certainty']"
     },
     "execution_count": 61,
     "metadata": {},
     "output_type": "execute_result"
    }
   ],
   "source": [
    "cert_cols = [col for  col in LIST.columns if \"certainty\" in col]\n",
    "cert_cols"
   ],
   "metadata": {
    "collapsed": false,
    "ExecuteTime": {
     "start_time": "2023-04-26T18:39:17.506343Z",
     "end_time": "2023-04-26T18:39:17.510957Z"
    }
   }
  },
  {
   "cell_type": "code",
   "execution_count": 62,
   "outputs": [],
   "source": [
    "LIST[cert_cols+ [\"geometry\"]].to_feather(\"../data/LIST_test_cert.feather\")"
   ],
   "metadata": {
    "collapsed": false,
    "ExecuteTime": {
     "start_time": "2023-04-26T18:39:17.509549Z",
     "end_time": "2023-04-26T18:39:23.219547Z"
    }
   }
  },
  {
   "cell_type": "code",
   "execution_count": 63,
   "outputs": [],
   "source": [
    "for col in cert_cols:\n",
    "    LIST[col] = LIST[col].apply(lambda x: \"certain\" in str(x))"
   ],
   "metadata": {
    "collapsed": false,
    "ExecuteTime": {
     "start_time": "2023-04-26T18:39:23.219866Z",
     "end_time": "2023-04-26T18:39:26.056297Z"
    }
   }
  },
  {
   "cell_type": "code",
   "execution_count": 64,
   "outputs": [
    {
     "data": {
      "text/plain": "530361"
     },
     "execution_count": 64,
     "metadata": {},
     "output_type": "execute_result"
    }
   ],
   "source": [
    "len(LIST)"
   ],
   "metadata": {
    "collapsed": false,
    "ExecuteTime": {
     "start_time": "2023-04-26T18:39:26.056713Z",
     "end_time": "2023-04-26T18:39:26.060107Z"
    }
   }
  },
  {
   "cell_type": "code",
   "execution_count": 65,
   "outputs": [
    {
     "data": {
      "text/plain": "205083"
     },
     "execution_count": 65,
     "metadata": {},
     "output_type": "execute_result"
    }
   ],
   "source": [
    "(LIST[\"geotemporal?\"]).sum()"
   ],
   "metadata": {
    "collapsed": false,
    "ExecuteTime": {
     "start_time": "2023-04-26T18:39:26.060421Z",
     "end_time": "2023-04-26T18:39:26.063369Z"
    }
   }
  },
  {
   "cell_type": "markdown",
   "source": [
    "# Deduplication of EDH"
   ],
   "metadata": {
    "collapsed": false
   }
  },
  {
   "cell_type": "code",
   "execution_count": 66,
   "outputs": [
    {
     "data": {
      "text/plain": "81776"
     },
     "execution_count": 66,
     "metadata": {},
     "output_type": "execute_result"
    }
   ],
   "source": [
    "edh_ids_list = LIST[LIST[\"EDH-ID\"].notnull()][\"EDH-ID\"].tolist()\n",
    "len(edh_ids_list)"
   ],
   "metadata": {
    "collapsed": false,
    "ExecuteTime": {
     "start_time": "2023-04-26T18:39:26.070079Z",
     "end_time": "2023-04-26T18:39:26.162149Z"
    }
   }
  },
  {
   "cell_type": "code",
   "execution_count": 67,
   "outputs": [
    {
     "data": {
      "text/plain": "80407"
     },
     "execution_count": 67,
     "metadata": {},
     "output_type": "execute_result"
    }
   ],
   "source": [
    "# records with valid & UNIQUE EDH-ID\n",
    "edh_ids_unique = LIST[LIST[\"EDH-ID\"].notnull()][\"EDH-ID\"].unique().tolist()\n",
    "len(edh_ids_unique)"
   ],
   "metadata": {
    "collapsed": false,
    "ExecuteTime": {
     "start_time": "2023-04-26T18:39:26.167603Z",
     "end_time": "2023-04-26T18:39:26.262936Z"
    }
   }
  },
  {
   "cell_type": "code",
   "execution_count": 68,
   "outputs": [
    {
     "data": {
      "text/plain": "1138"
     },
     "execution_count": 68,
     "metadata": {},
     "output_type": "execute_result"
    }
   ],
   "source": [
    "# EDH-IDs appearing at least twice:\n",
    "dup_ids = [id_tup[0] for id_tup in nltk.FreqDist(edh_ids_list).most_common() if id_tup[1] > 1]\n",
    "len(dup_ids)"
   ],
   "metadata": {
    "collapsed": false,
    "ExecuteTime": {
     "start_time": "2023-04-26T18:39:26.267423Z",
     "end_time": "2023-04-26T18:39:26.325634Z"
    }
   }
  },
  {
   "cell_type": "code",
   "execution_count": 69,
   "outputs": [
    {
     "data": {
      "text/plain": "528992"
     },
     "execution_count": 69,
     "metadata": {},
     "output_type": "execute_result"
    }
   ],
   "source": [
    "# dataframe of duplicate rows (i.e. every second instance of the same id\n",
    "LIST[LIST[\"EDH-ID\"].notnull()].loc[LIST.duplicated(subset=\"EDH-ID\"), :]\n",
    "# remove the duplicates\n",
    "# (using pandas deduplicated() method)\n",
    "LIST = LIST.loc[~(LIST.duplicated(subset=\"EDH-ID\")) | (LIST[\"EDH-ID\"].isnull())]\n",
    "len(LIST)"
   ],
   "metadata": {
    "collapsed": false,
    "ExecuteTime": {
     "start_time": "2023-04-26T18:39:26.305389Z",
     "end_time": "2023-04-26T18:39:26.773591Z"
    }
   }
  },
  {
   "cell_type": "code",
   "execution_count": 70,
   "outputs": [
    {
     "data": {
      "text/plain": "77091"
     },
     "execution_count": 70,
     "metadata": {},
     "output_type": "execute_result"
    }
   ],
   "source": [
    "EDH_overlap_all = LIST[(LIST[\"EDH-ID\"].notnull()) & (LIST[\"EDCS-ID\"].notnull())]\n",
    "len(EDH_overlap_all)"
   ],
   "metadata": {
    "collapsed": false,
    "ExecuteTime": {
     "start_time": "2023-04-26T18:39:26.815164Z",
     "end_time": "2023-04-26T18:39:26.886978Z"
    }
   }
  },
  {
   "cell_type": "code",
   "execution_count": 71,
   "outputs": [
    {
     "data": {
      "text/plain": "528992"
     },
     "execution_count": 71,
     "metadata": {},
     "output_type": "execute_result"
    }
   ],
   "source": [
    "len(LIST[(LIST[\"EDH-ID\"].notnull()) & (LIST[\"EDCS-ID\"].isnull())])\n",
    "len(LIST)"
   ],
   "metadata": {
    "collapsed": false,
    "ExecuteTime": {
     "start_time": "2023-04-26T18:39:26.879768Z",
     "end_time": "2023-04-26T18:39:26.922844Z"
    }
   }
  },
  {
   "cell_type": "code",
   "execution_count": 72,
   "outputs": [
    {
     "data": {
      "text/plain": "80407"
     },
     "execution_count": 72,
     "metadata": {},
     "output_type": "execute_result"
    }
   ],
   "source": [
    "edh_ids_list = LIST[LIST[\"EDH-ID\"].notnull()][\"EDH-ID\"].tolist()\n",
    "len(edh_ids_list)"
   ],
   "metadata": {
    "collapsed": false,
    "ExecuteTime": {
     "start_time": "2023-04-26T18:39:26.925588Z",
     "end_time": "2023-04-26T18:39:27.021669Z"
    }
   }
  },
  {
   "cell_type": "markdown",
   "source": [
    "# Deduplication of EDCS\n"
   ],
   "metadata": {
    "collapsed": false
   }
  },
  {
   "cell_type": "code",
   "execution_count": 73,
   "outputs": [
    {
     "data": {
      "text/plain": "525676"
     },
     "execution_count": 73,
     "metadata": {},
     "output_type": "execute_result"
    }
   ],
   "source": [
    "LIST[\"EDCS-ID\"].notnull().sum()"
   ],
   "metadata": {
    "collapsed": false,
    "ExecuteTime": {
     "start_time": "2023-04-26T18:39:27.045631Z",
     "end_time": "2023-04-26T18:39:27.074350Z"
    }
   }
  },
  {
   "cell_type": "code",
   "execution_count": 74,
   "outputs": [
    {
     "data": {
      "text/plain": "522554"
     },
     "execution_count": 74,
     "metadata": {},
     "output_type": "execute_result"
    }
   ],
   "source": [
    "len(set(LIST[LIST[\"EDCS-ID\"].notnull()][\"EDCS-ID\"]))"
   ],
   "metadata": {
    "collapsed": false,
    "ExecuteTime": {
     "start_time": "2023-04-26T18:39:27.081612Z",
     "end_time": "2023-04-26T18:39:27.528168Z"
    }
   }
  },
  {
   "cell_type": "code",
   "execution_count": 75,
   "outputs": [],
   "source": [
    "LIST.drop_duplicates(subset=[\"EDH-ID\", \"EDCS-ID\"], keep=\"first\", inplace=True)"
   ],
   "metadata": {
    "collapsed": false,
    "ExecuteTime": {
     "start_time": "2023-04-26T18:39:27.643117Z",
     "end_time": "2023-04-26T18:39:28.001513Z"
    }
   }
  },
  {
   "cell_type": "code",
   "execution_count": 76,
   "outputs": [
    {
     "data": {
      "text/plain": "525870"
     },
     "execution_count": 76,
     "metadata": {},
     "output_type": "execute_result"
    }
   ],
   "source": [
    "len(LIST)"
   ],
   "metadata": {
    "collapsed": false,
    "ExecuteTime": {
     "start_time": "2023-04-26T18:39:28.001778Z",
     "end_time": "2023-04-26T18:39:28.004344Z"
    }
   }
  },
  {
   "cell_type": "markdown",
   "source": [
    "# Reordering columns"
   ],
   "metadata": {
    "collapsed": false
   }
  },
  {
   "cell_type": "code",
   "execution_count": 77,
   "outputs": [],
   "source": [
    "LIST[\"LIST-ID\"] = range(1, len(LIST)+1)"
   ],
   "metadata": {
    "collapsed": false,
    "ExecuteTime": {
     "start_time": "2023-04-26T18:39:28.004701Z",
     "end_time": "2023-04-26T18:39:28.007909Z"
    }
   }
  },
  {
   "cell_type": "code",
   "execution_count": 78,
   "outputs": [],
   "source": [
    "# reorder and filter out some other useless columns\n",
    "\n",
    "LIST = LIST[['LIST-ID', 'EDCS-ID', 'EDH-ID','trismegistos_uri',  'pleiades_id', 'transcription', 'inscription', 'clean_text_conservative', 'clean_text_interpretive_sentence','clean_text_interpretive_word', 'clean_text_interpretive_word_EDCS', 'diplomatic_text', 'province', 'place', 'inscr_type',\n",
    " 'status_notation', 'inscr_process', 'status', 'partner_link', 'last_update',\n",
    " 'letter_size', 'type_of_inscription', 'work_status', 'year_of_find',\n",
    " 'present_location', 'text_edition', 'support_objecttype', 'support_material', 'support_decoration',\n",
    " 'keywords_term', 'people', 'type_of_inscription_clean',\n",
    " 'type_of_inscription_certainty', 'height_cm', 'width_cm', 'depth_cm',\n",
    " 'material_clean', 'type_of_monument_clean',\n",
    " 'type_of_monument_certainty', 'province_label_clean',\n",
    " 'province_label_certainty', 'country_clean', 'country_certainty',\n",
    " 'findspot_ancient_clean', 'findspot_ancient_certainty',\n",
    " 'modern_region_clean', 'modern_region_certainty',\n",
    " 'findspot_modern_clean', 'findspot_modern_certainty', 'findspot_clean',\n",
    " 'findspot_certainty', 'language', 'language_EDCS', 'raw_dating',\n",
    " 'not_after', 'not_before', 'Longitude', 'Latitude',\n",
    " 'geotemporal?', 'geometry']]"
   ],
   "metadata": {
    "collapsed": false,
    "ExecuteTime": {
     "start_time": "2023-04-26T18:39:28.230980Z",
     "end_time": "2023-04-26T18:39:28.327793Z"
    }
   }
  },
  {
   "cell_type": "code",
   "execution_count": 79,
   "outputs": [
    {
     "data": {
      "text/plain": "80407"
     },
     "execution_count": 79,
     "metadata": {},
     "output_type": "execute_result"
    }
   ],
   "source": [
    "sum(LIST[\"EDH-ID\"].notnull())"
   ],
   "metadata": {
    "collapsed": false,
    "ExecuteTime": {
     "start_time": "2023-04-26T18:39:28.333779Z",
     "end_time": "2023-04-26T18:39:28.360287Z"
    }
   }
  },
  {
   "cell_type": "code",
   "execution_count": 80,
   "outputs": [
    {
     "data": {
      "text/plain": "525870"
     },
     "execution_count": 80,
     "metadata": {},
     "output_type": "execute_result"
    }
   ],
   "source": [
    "sum(LIST[\"geometry\"].notnull())"
   ],
   "metadata": {
    "collapsed": false,
    "ExecuteTime": {
     "start_time": "2023-04-26T18:39:28.352504Z",
     "end_time": "2023-04-26T18:39:28.762517Z"
    }
   }
  },
  {
   "cell_type": "code",
   "execution_count": 81,
   "outputs": [
    {
     "data": {
      "text/plain": "206465"
     },
     "execution_count": 81,
     "metadata": {},
     "output_type": "execute_result"
    }
   ],
   "source": [
    "sum(LIST[\"not_after\"].notnull())"
   ],
   "metadata": {
    "collapsed": false,
    "ExecuteTime": {
     "start_time": "2023-04-26T18:39:28.773099Z",
     "end_time": "2023-04-26T18:39:28.823242Z"
    }
   }
  },
  {
   "cell_type": "code",
   "execution_count": 82,
   "outputs": [
    {
     "data": {
      "text/plain": "206566"
     },
     "execution_count": 82,
     "metadata": {},
     "output_type": "execute_result"
    }
   ],
   "source": [
    "sum(LIST[\"not_before\"].notnull())\n"
   ],
   "metadata": {
    "collapsed": false,
    "ExecuteTime": {
     "start_time": "2023-04-26T18:39:28.803592Z",
     "end_time": "2023-04-26T18:39:28.824122Z"
    }
   }
  },
  {
   "cell_type": "code",
   "execution_count": 83,
   "outputs": [
    {
     "data": {
      "text/plain": "206570"
     },
     "execution_count": 83,
     "metadata": {},
     "output_type": "execute_result"
    }
   ],
   "source": [
    "sum((LIST[\"not_after\"].notnull() | (LIST[\"not_before\"].notnull())))\n"
   ],
   "metadata": {
    "collapsed": false,
    "ExecuteTime": {
     "start_time": "2023-04-26T18:39:28.834971Z",
     "end_time": "2023-04-26T18:39:28.920067Z"
    }
   }
  },
  {
   "cell_type": "code",
   "execution_count": 84,
   "outputs": [
    {
     "data": {
      "text/plain": "203877"
     },
     "execution_count": 84,
     "metadata": {},
     "output_type": "execute_result"
    }
   ],
   "source": [
    "LIST[\"geotemporal?\"].sum()"
   ],
   "metadata": {
    "collapsed": false,
    "ExecuteTime": {
     "start_time": "2023-04-26T18:39:28.867943Z",
     "end_time": "2023-04-26T18:39:28.920434Z"
    }
   }
  },
  {
   "cell_type": "markdown",
   "metadata": {},
   "source": [
    "# Map inscriptions on the Empire and its provinces"
   ]
  },
  {
   "cell_type": "code",
   "execution_count": 232,
   "outputs": [
    {
     "data": {
      "text/plain": "61"
     },
     "execution_count": 232,
     "metadata": {},
     "output_type": "execute_result"
    }
   ],
   "source": [
    "# province file from \"https://edh.ub.uni-heidelberg.de/data/download/roman_province_boundaries.json\"\n",
    "provinces = gpd.read_file(\"../data/roman_province_boundaries.json\")\n",
    "provinces = provinces.to_crs(3035)\n",
    "len(provinces)"
   ],
   "metadata": {
    "collapsed": false,
    "ExecuteTime": {
     "start_time": "2023-04-26T19:35:50.014647Z",
     "end_time": "2023-04-26T19:35:50.073930Z"
    }
   }
  },
  {
   "cell_type": "code",
   "execution_count": 233,
   "outputs": [
    {
     "data": {
      "text/plain": "<Derived Projected CRS: EPSG:3035>\nName: ETRS89-extended / LAEA Europe\nAxis Info [cartesian]:\n- Y[north]: Northing (metre)\n- X[east]: Easting (metre)\nArea of Use:\n- name: Europe - European Union (EU) countries and candidates. Europe - onshore and offshore: Albania; Andorra; Austria; Belgium; Bosnia and Herzegovina; Bulgaria; Croatia; Cyprus; Czechia; Denmark; Estonia; Faroe Islands; Finland; France; Germany; Gibraltar; Greece; Hungary; Iceland; Ireland; Italy; Kosovo; Latvia; Liechtenstein; Lithuania; Luxembourg; Malta; Monaco; Montenegro; Netherlands; North Macedonia; Norway including Svalbard and Jan Mayen; Poland; Portugal including Madeira and Azores; Romania; San Marino; Serbia; Slovakia; Slovenia; Spain including Canary Islands; Sweden; Switzerland; Turkey; United Kingdom (UK) including Channel Islands and Isle of Man; Vatican City State.\n- bounds: (-35.58, 24.6, 44.83, 84.73)\nCoordinate Operation:\n- name: Europe Equal Area 2001\n- method: Lambert Azimuthal Equal Area\nDatum: European Terrestrial Reference System 1989 ensemble\n- Ellipsoid: GRS 1980\n- Prime Meridian: Greenwich"
     },
     "execution_count": 233,
     "metadata": {},
     "output_type": "execute_result"
    }
   ],
   "source": [
    "provinces.crs"
   ],
   "metadata": {
    "collapsed": false,
    "ExecuteTime": {
     "start_time": "2023-04-26T19:35:50.834169Z",
     "end_time": "2023-04-26T19:35:50.865701Z"
    }
   }
  },
  {
   "cell_type": "code",
   "execution_count": 234,
   "outputs": [],
   "source": [
    "# based on advice from ChatGPT...\n",
    "invalid_geometries = provinces[~provinces.geometry.is_valid]\n",
    "# Make invalid geometries valid by buffering with a distance of 0\n",
    "provinces.loc[~provinces.geometry.is_valid, 'geometry'] = invalid_geometries.buffer(0)"
   ],
   "metadata": {
    "collapsed": false,
    "ExecuteTime": {
     "start_time": "2023-04-26T19:35:59.065883Z",
     "end_time": "2023-04-26T19:35:59.096429Z"
    }
   }
  },
  {
   "cell_type": "code",
   "execution_count": 235,
   "outputs": [],
   "source": [
    "#pleiades_regions = gpd.read_file(\"../data/pleiades_regions.geojson\", driver=\"GeoJSON\")\n",
    "#pleiades_regions = pleiades_regions.to_crs(3035)\n",
    "pleiades_regions_merged = provinces.unary_union # provinces.unary_union\n",
    "pleiades_regions_merged_buffer = pleiades_regions_merged.buffer(distance=5000)"
   ],
   "metadata": {
    "collapsed": false,
    "ExecuteTime": {
     "start_time": "2023-04-26T19:36:03.565173Z",
     "end_time": "2023-04-26T19:36:03.704914Z"
    }
   }
  },
  {
   "cell_type": "code",
   "execution_count": 199,
   "outputs": [],
   "source": [
    "medsea = gpd.read_file(\"https://geo.vliz.be/geoserver/wfs?request=getfeature&service=wfs&version=1.1.0&typename=MarineRegions:iho&outputformat=json&filter=%3COr%3E%3COr%3E%3COr%3E%3COr%3E%3COr%3E%3COr%3E%3COr%3E%3COr%3E%3COr%3E%3CPropertyIsEqualTo%3E%3CPropertyName%3Emrgid%3C%2FPropertyName%3E%3CLiteral%3E3314%3C%2FLiteral%3E%3C%2FPropertyIsEqualTo%3E%3CPropertyIsEqualTo%3E%3CPropertyName%3Emrgid%3C%2FPropertyName%3E%3CLiteral%3E3315%3C%2FLiteral%3E%3C%2FPropertyIsEqualTo%3E%3C%2FOr%3E%3CPropertyIsEqualTo%3E%3CPropertyName%3Emrgid%3C%2FPropertyName%3E%3CLiteral%3E3322%3C%2FLiteral%3E%3C%2FPropertyIsEqualTo%3E%3C%2FOr%3E%3CPropertyIsEqualTo%3E%3CPropertyName%3Emrgid%3C%2FPropertyName%3E%3CLiteral%3E3324%3C%2FLiteral%3E%3C%2FPropertyIsEqualTo%3E%3C%2FOr%3E%3CPropertyIsEqualTo%3E%3CPropertyName%3Emrgid%3C%2FPropertyName%3E%3CLiteral%3E3346%3C%2FLiteral%3E%3C%2FPropertyIsEqualTo%3E%3C%2FOr%3E%3CPropertyIsEqualTo%3E%3CPropertyName%3Emrgid%3C%2FPropertyName%3E%3CLiteral%3E3351%3C%2FLiteral%3E%3C%2FPropertyIsEqualTo%3E%3C%2FOr%3E%3CPropertyIsEqualTo%3E%3CPropertyName%3Emrgid%3C%2FPropertyName%3E%3CLiteral%3E3363%3C%2FLiteral%3E%3C%2FPropertyIsEqualTo%3E%3C%2FOr%3E%3CPropertyIsEqualTo%3E%3CPropertyName%3Emrgid%3C%2FPropertyName%3E%3CLiteral%3E3386%3C%2FLiteral%3E%3C%2FPropertyIsEqualTo%3E%3C%2FOr%3E%3CPropertyIsEqualTo%3E%3CPropertyName%3Emrgid%3C%2FPropertyName%3E%3CLiteral%3E4279%3C%2FLiteral%3E%3C%2FPropertyIsEqualTo%3E%3C%2FOr%3E%3CPropertyIsEqualTo%3E%3CPropertyName%3Emrgid%3C%2FPropertyName%3E%3CLiteral%3E4280%3C%2FLiteral%3E%3C%2FPropertyIsEqualTo%3E%3C%2FOr%3E\", driver=\"GeoJSON\")\n",
    "medsea = medsea.to_crs(3035)\n",
    "medsea_merged = medsea.unary_union\n",
    "medsea_merged_buffer = medsea_merged.buffer(distance=5000)"
   ],
   "metadata": {
    "collapsed": false,
    "ExecuteTime": {
     "start_time": "2023-04-26T19:16:30.577441Z",
     "end_time": "2023-04-26T19:16:48.538069Z"
    }
   }
  },
  {
   "cell_type": "code",
   "execution_count": 238,
   "outputs": [],
   "source": [
    "import pyproj\n",
    "from shapely.ops import transform\n",
    "\n",
    "project = pyproj.Transformer.from_proj(\n",
    "    pyproj.Proj(init='epsg:3035'), # source coordinate system\n",
    "    pyproj.Proj(init='epsg:4326')) # destination coordinate system\n",
    "\n",
    "# g1 is a shapley Polygon\n",
    "pleiades_regions_merged_buffer_4326 = transform(project.transform, pleiades_regions_merged_buffer)\n",
    "medsea_merged_buffer_4326 = transform(project.transform, medsea_merged_buffer)  # apply projection"
   ],
   "metadata": {
    "collapsed": false,
    "ExecuteTime": {
     "start_time": "2023-04-26T19:36:23.191279Z",
     "end_time": "2023-04-26T19:36:23.241521Z"
    }
   }
  },
  {
   "cell_type": "code",
   "execution_count": 239,
   "outputs": [
    {
     "data": {
      "text/plain": "<AxesSubplot: >"
     },
     "execution_count": 239,
     "metadata": {},
     "output_type": "execute_result"
    },
    {
     "data": {
      "text/plain": "<Figure size 640x480 with 1 Axes>",
      "image/png": "[encoded data removed]"
     },
     "metadata": {},
     "output_type": "display_data"
    }
   ],
   "source": [
    "fig, ax = plt.subplots()\n",
    "gpd.GeoSeries(pleiades_regions_merged_buffer_4326).plot(ax=ax, color=\"green\")\n",
    "gpd.GeoSeries(medsea_merged_buffer_4326).plot(ax=ax, color=\"blue\")"
   ],
   "metadata": {
    "collapsed": false,
    "ExecuteTime": {
     "start_time": "2023-04-26T19:36:25.139334Z",
     "end_time": "2023-04-26T19:36:25.256332Z"
    }
   }
  },
  {
   "cell_type": "code",
   "execution_count": 240,
   "outputs": [
    {
     "data": {
      "text/plain": "<AxesSubplot: >"
     },
     "execution_count": 240,
     "metadata": {},
     "output_type": "execute_result"
    },
    {
     "data": {
      "text/plain": "<Figure size 640x480 with 1 Axes>",
      "image/png": "[encoded data removed]"
     },
     "metadata": {},
     "output_type": "display_data"
    }
   ],
   "source": [
    "fig, ax = plt.subplots()\n",
    "gpd.GeoSeries(pleiades_regions_merged_buffer_4326.union(medsea_merged_buffer_4326)).plot(ax=ax, color=\"grey\")"
   ],
   "metadata": {
    "collapsed": false,
    "ExecuteTime": {
     "start_time": "2023-04-26T19:36:50.325664Z",
     "end_time": "2023-04-26T19:36:50.417797Z"
    }
   }
  },
  {
   "cell_type": "code",
   "execution_count": 241,
   "outputs": [],
   "source": [
    "LIST_sample = LIST.sample(1000)\n",
    "sample_within = LIST_sample.within(pleiades_regions_merged_buffer_4326.union(medsea_merged_buffer_4326))"
   ],
   "metadata": {
    "collapsed": false,
    "ExecuteTime": {
     "start_time": "2023-04-26T19:36:58.163679Z",
     "end_time": "2023-04-26T19:36:59.036803Z"
    }
   }
  },
  {
   "cell_type": "code",
   "execution_count": 242,
   "outputs": [
    {
     "data": {
      "text/plain": "<AxesSubplot: >"
     },
     "execution_count": 242,
     "metadata": {},
     "output_type": "execute_result"
    },
    {
     "data": {
      "text/plain": "<Figure size 640x480 with 1 Axes>",
      "image/png": "[encoded data removed]"
     },
     "metadata": {},
     "output_type": "display_data"
    }
   ],
   "source": [
    "fig, ax = plt.subplots()\n",
    "gpd.GeoSeries(pleiades_regions_merged_buffer_4326).plot(ax=ax, color=\"green\")\n",
    "gpd.GeoSeries(medsea_merged_buffer_4326).plot(ax=ax, color=\"blue\")\n",
    "LIST_sample[sample_within].plot(ax=ax, color=\"black\")"
   ],
   "metadata": {
    "collapsed": false,
    "ExecuteTime": {
     "start_time": "2023-04-26T19:37:00.758362Z",
     "end_time": "2023-04-26T19:37:00.917960Z"
    }
   }
  },
  {
   "cell_type": "code",
   "execution_count": 243,
   "outputs": [
    {
     "name": "stdout",
     "output_type": "stream",
     "text": [
      "CPU times: user 2min 53s, sys: 1.25 s, total: 2min 54s\n",
      "Wall time: 3min 1s\n"
     ]
    }
   ],
   "source": [
    "%%time\n",
    "withinRE = LIST.within(pleiades_regions_merged_buffer_4326.union(medsea_merged_buffer_4326))"
   ],
   "metadata": {
    "collapsed": false,
    "ExecuteTime": {
     "start_time": "2023-04-26T19:37:09.251173Z",
     "end_time": "2023-04-26T19:40:10.743341Z"
    }
   }
  },
  {
   "cell_type": "code",
   "execution_count": 244,
   "outputs": [
    {
     "name": "stdout",
     "output_type": "stream",
     "text": [
      "CPU times: user 617 µs, sys: 1.82 ms, total: 2.44 ms\n",
      "Wall time: 2.24 ms\n"
     ]
    }
   ],
   "source": [
    "%%time\n",
    "LIST[\"withinRE?\"] = withinRE"
   ],
   "metadata": {
    "collapsed": false,
    "ExecuteTime": {
     "start_time": "2023-04-26T19:40:10.745915Z",
     "end_time": "2023-04-26T19:40:10.765428Z"
    }
   }
  },
  {
   "cell_type": "code",
   "execution_count": 245,
   "outputs": [
    {
     "data": {
      "text/plain": "509853"
     },
     "execution_count": 245,
     "metadata": {},
     "output_type": "execute_result"
    }
   ],
   "source": [
    "LIST[\"withinRE?\"].sum()"
   ],
   "metadata": {
    "collapsed": false,
    "ExecuteTime": {
     "start_time": "2023-04-26T19:40:10.750174Z",
     "end_time": "2023-04-26T19:40:10.780943Z"
    }
   }
  },
  {
   "cell_type": "code",
   "execution_count": 256,
   "outputs": [
    {
     "data": {
      "text/plain": "413"
     },
     "execution_count": 256,
     "metadata": {},
     "output_type": "execute_result"
    }
   ],
   "source": [
    "eval(\"413\")"
   ],
   "metadata": {
    "collapsed": false,
    "ExecuteTime": {
     "start_time": "2023-04-26T19:44:06.263772Z",
     "end_time": "2023-04-26T19:44:06.306513Z"
    }
   }
  },
  {
   "cell_type": "code",
   "execution_count": 266,
   "outputs": [],
   "source": [
    "def str_to_float(x):\n",
    "    if isinstance(x, str):\n",
    "        try:\n",
    "            x = float(x)\n",
    "        except:\n",
    "            pass\n",
    "    return x\n",
    "\n",
    "LIST[\"not_after\"] = LIST[\"not_after\"].apply(str_to_float)\n",
    "LIST[\"not_before\"] = LIST[\"not_before\"].apply(str_to_float)"
   ],
   "metadata": {
    "collapsed": false,
    "ExecuteTime": {
     "start_time": "2023-04-26T19:49:37.197923Z",
     "end_time": "2023-04-26T19:49:38.708615Z"
    }
   }
  },
  {
   "cell_type": "code",
   "execution_count": 267,
   "outputs": [],
   "source": [
    "LIST.to_parquet(\"../data/large_data/LIST_working.parquet\") # drop([\"not_after\", \"not_before\"], axis=1)"
   ],
   "metadata": {
    "collapsed": false,
    "ExecuteTime": {
     "start_time": "2023-04-26T19:49:45.007295Z",
     "end_time": "2023-04-26T19:49:53.248815Z"
    }
   }
  },
  {
   "cell_type": "markdown",
   "source": [
    "# Trismegistos"
   ],
   "metadata": {
    "collapsed": false
   }
  },
  {
   "cell_type": "code",
   "execution_count": 269,
   "outputs": [
    {
     "name": "stdout",
     "output_type": "stream",
     "text": [
      "0\n",
      "100\n",
      "200\n",
      "300\n",
      "400\n",
      "500\n",
      "600\n",
      "700\n",
      "800\n",
      "900\n",
      "1000\n",
      "1100\n",
      "1200\n",
      "1300\n",
      "1400\n",
      "1500\n",
      "1600\n",
      "1700\n",
      "1800\n",
      "1900\n",
      "2000\n",
      "2100\n",
      "2200\n",
      "2300\n",
      "2400\n",
      "2500\n",
      "2600\n",
      "2700\n",
      "2800\n",
      "2900\n",
      "3000\n",
      "3100\n",
      "3200\n",
      "3300\n",
      "3400\n",
      "3500\n",
      "3600\n",
      "3700\n",
      "3800\n",
      "3900\n",
      "4000\n",
      "4100\n",
      "4200\n",
      "4300\n",
      "4400\n",
      "4500\n",
      "4600\n",
      "4700\n",
      "4800\n",
      "4900\n",
      "5000\n",
      "5100\n",
      "5200\n",
      "5300\n",
      "5400\n",
      "5500\n",
      "5600\n",
      "5700\n",
      "5800\n",
      "5900\n",
      "6000\n",
      "6100\n",
      "6200\n",
      "6300\n",
      "6400\n",
      "6500\n",
      "6600\n",
      "6700\n",
      "6800\n",
      "6900\n",
      "7000\n",
      "7100\n",
      "7200\n",
      "7300\n",
      "7400\n",
      "7500\n",
      "7600\n",
      "7700\n",
      "7800\n",
      "7900\n",
      "8000\n",
      "8100\n",
      "8200\n",
      "8300\n",
      "8400\n",
      "8500\n",
      "8600\n",
      "8700\n",
      "8800\n",
      "8900\n",
      "9000\n",
      "9100\n",
      "9200\n",
      "9300\n",
      "9400\n",
      "9500\n",
      "9600\n",
      "9700\n",
      "9800\n",
      "9900\n",
      "CPU times: user 3min 20s, sys: 22.6 s, total: 3min 42s\n",
      "Wall time: 31min 35s\n"
     ]
    }
   ],
   "source": [
    "%%time\n",
    "base_url = \"https://www.trismegistos.org/dataservices/texrelations/{0}?source=edcs\"\n",
    "resps = []\n",
    "edcs_trismegistos_dict = {}\n",
    "for n, raw_id in enumerate(LIST[\"EDCS-ID\"][:10000]):\n",
    "    if n in range(0, len(LIST), 100):\n",
    "        print(n)\n",
    "    try:\n",
    "        id = raw_id[5:]\n",
    "        url = base_url.format(str(id))\n",
    "        resp_json = requests.get(url).json()\n",
    "        resps.append(resp_json)\n",
    "        edcs_trismegistos_dict[raw_id] = resp_json[0][\"TM_ID\"][0]\n",
    "    except:\n",
    "        edcs_trismegistos_dict[raw_id] = None"
   ],
   "metadata": {
    "collapsed": false,
    "ExecuteTime": {
     "start_time": "2023-04-26T19:50:38.849152Z",
     "end_time": "2023-04-26T20:22:14.719874Z"
    }
   }
  },
  {
   "cell_type": "code",
   "execution_count": 274,
   "outputs": [],
   "source": [
    "with open(\"../data/large_data/edcs_trismegistos.pickle\", \"wb\") as f:\n",
    "    pickle.dump(edcs_trismegistos_dict, f)"
   ],
   "metadata": {
    "collapsed": false,
    "ExecuteTime": {
     "start_time": "2023-04-26T20:26:09.774708Z",
     "end_time": "2023-04-26T20:26:09.801032Z"
    }
   }
  },
  {
   "cell_type": "code",
   "execution_count": null,
   "outputs": [],
   "source": [
    "#LIST[\"tg_id\"] = LIST[\"EDCS-ID\"].apply(lambda x: edcs_trismegistos_dict[x])"
   ],
   "metadata": {
    "collapsed": false
   }
  },
  {
   "cell_type": "markdown",
   "source": [
    "# Extract trismegistos dates (where otherwise missing)\n",
    "\n",
    "- in progres..., but once the above data are ready, we can continue with this"
   ],
   "metadata": {
    "collapsed": false
   }
  },
  {
   "cell_type": "code",
   "execution_count": null,
   "outputs": [],
   "source": [
    "# example for browser: https://www.trismegistos.org/dataservices/texrelations/24700151?source=edcs"
   ],
   "metadata": {
    "collapsed": false
   }
  },
  {
   "cell_type": "code",
   "execution_count": null,
   "outputs": [],
   "source": [
    "#uris = LIST[(LIST[\"trismegistos_uri\"].notnull()) & LIST[\"not_before\"].isnull()][\"trismegistos_uri\"]\n",
    "#tg_ids = LIST[(LIST[\"not_before\"].isnull()) & (LIST[\"not_after\"].isnull())]\n",
    "#tg_ids[:10]"
   ],
   "metadata": {
    "collapsed": false
   }
  },
  {
   "cell_type": "code",
   "execution_count": null,
   "outputs": [],
   "source": [
    "#tgids_dates_dict = {}\n",
    "#failed = []\n",
    "#for id in tg_ids:\n",
    "#    soup = BeautifulSoup(requests.get(\"https://www.trismegistos.org/text/\" + id).text)\n",
    "#    try:\n",
    "#        tgids_dates_dict = soup.body.find(\"h4\").next_sibling.get_text()\n",
    "#    except:\n",
    "#       failed.append(id)"
   ],
   "metadata": {
    "collapsed": false
   }
  },
  {
   "cell_type": "markdown",
   "source": [
    "# Urban contexts"
   ],
   "metadata": {
    "collapsed": false
   }
  },
  {
   "cell_type": "code",
   "execution_count": 275,
   "metadata": {
    "ExecuteTime": {
     "start_time": "2023-04-26T20:26:47.294946Z",
     "end_time": "2023-04-26T20:26:47.503389Z"
    }
   },
   "outputs": [],
   "source": [
    "roman_cities = gpd.read_file(\"../data/roman_cities_pop.geojson\")"
   ]
  },
  {
   "cell_type": "code",
   "execution_count": 276,
   "metadata": {
    "ExecuteTime": {
     "start_time": "2023-04-26T20:26:48.051991Z",
     "end_time": "2023-04-26T20:26:48.080647Z"
    }
   },
   "outputs": [
    {
     "data": {
      "text/plain": "          Primary Key        Ancient Toponym Modern Toponym  \\\n991    Hanson2016_992                   Roma           Rome   \n109    Hanson2016_110  Alexandria (Aegyptus)     Alexandria   \n179    Hanson2016_180           Lepcis Magna          Lebda   \n308    Hanson2016_309                 Rhodus         Rhodes   \n1323  Hanson2016_1324      Antiochia (Syria)        Antakya   \n\n                  Province Country Barrington Atlas Rank  \\\n991   Italia (VII Etruria)   Italy                     1   \n109               Aegyptus   Egypt                     1   \n179   Africa Proconsularis   Libya                     1   \n308                   Asia  Greece                     3   \n1323                 Syria  Turkey                     1   \n\n     Barrington Atlas Reference  Start Date  End Date  \\\n991                       43 B2        -700       NaN   \n109                       74 B2        -322       NaN   \n179                       35 G2         -30       NaN   \n308                       60 G3        -408       NaN   \n1323                      67 C4        -300       NaN   \n\n                                    Select Bibliography    Area  \\\n991   Beloch 1886; Benario 1981; de Ligt 2012; Golvi...  1783.0   \n109   Beloch 1886; Bowman 2011; Cohen 2006; Humphrey...   972.0   \n179   Bomgardner 2000; Golvin 1988; Humphrey 1986; L...   466.0   \n308   Beloch 1886; Hansen 2006; Hansen and Nielsen 2...   412.0   \n1323  Boatwright 2000; Jones 1937; McEvedy 2011; Nel...   399.0   \n\n                                         Estimate Basis  \\\n991                           Fourteen Augustan regions   \n109                                          Urban grid   \n179                                            Ramparts   \n308                                          Urban grid   \n1323  Walls of Theodosius II, Justinian, and topography   \n\n                                           Civic Status  \\\n991                    [Capital of the Empire, Colonia]   \n109            [Metropolis capital, Provincial capital]   \n179   [Colonia, Colonia, Municipium, Rights and priv...   \n308        [Metropolis capital?, Rights and privileges]   \n1323  [Colonia, Metropolis capital, Provincial capit...   \n\n                                              Structure  num_of_structures  \\\n991   [Amphitheatre (Amphitheatrum Castrense), Amphi...                236   \n109   [Agora?, Amphitheatre, Baths, Baths, Bouleuter...                 30   \n179   [Amphitheatre, Aqueduct, Arch, Arch, Arch of A...                 46   \n308   [Agora, Bouleuterion?, Gymnasium, Harbour, Har...                 17   \n1323  [Agora (Hellenistic), Agora (Seleucid), Amphit...                 33   \n\n        ID  level_0  Unnamed: 0_y  index  pop_sample   pop_est  pop_diff  \\\n991    992     89.0          89.0   89.0    923406.0  923313.0  1.000101   \n109    110      3.0           3.0    3.0    410535.0  410502.0  1.000080   \n179    180      NaN           NaN    NaN         NaN  153722.0       NaN   \n308    309      NaN           NaN    NaN         NaN  130398.0       NaN   \n1323  1324      NaN           NaN    NaN         NaN  124930.0       NaN   \n\n                       geometry  \n991   POINT (12.48510 41.89278)  \n109   POINT (29.90373 31.19502)  \n179   POINT (14.29306 32.63833)  \n308   POINT (28.22701 36.44324)  \n1323  POINT (36.16963 36.21017)  ",
      "text/html": "<div>\n<style scoped>\n    .dataframe tbody tr th:only-of-type {\n        vertical-align: middle;\n    }\n\n    .dataframe tbody tr th {\n        vertical-align: top;\n    }\n\n    .dataframe thead th {\n        text-align: right;\n    }\n</style>\n<table border=\"1\" class=\"dataframe\">\n  <thead>\n    <tr style=\"text-align: right;\">\n      <th></th>\n      <th>Primary Key</th>\n      <th>Ancient Toponym</th>\n      <th>Modern Toponym</th>\n      <th>Province</th>\n      <th>Country</th>\n      <th>Barrington Atlas Rank</th>\n      <th>Barrington Atlas Reference</th>\n      <th>Start Date</th>\n      <th>End Date</th>\n      <th>Select Bibliography</th>\n      <th>Area</th>\n      <th>Estimate Basis</th>\n      <th>Civic Status</th>\n      <th>Structure</th>\n      <th>num_of_structures</th>\n      <th>ID</th>\n      <th>level_0</th>\n      <th>Unnamed: 0_y</th>\n      <th>index</th>\n      <th>pop_sample</th>\n      <th>pop_est</th>\n      <th>pop_diff</th>\n      <th>geometry</th>\n    </tr>\n  </thead>\n  <tbody>\n    <tr>\n      <th>991</th>\n      <td>Hanson2016_992</td>\n      <td>Roma</td>\n      <td>Rome</td>\n      <td>Italia (VII Etruria)</td>\n      <td>Italy</td>\n      <td>1</td>\n      <td>43 B2</td>\n      <td>-700</td>\n      <td>NaN</td>\n      <td>Beloch 1886; Benario 1981; de Ligt 2012; Golvi...</td>\n      <td>1783.0</td>\n      <td>Fourteen Augustan regions</td>\n      <td>[Capital of the Empire, Colonia]</td>\n      <td>[Amphitheatre (Amphitheatrum Castrense), Amphi...</td>\n      <td>236</td>\n      <td>992</td>\n      <td>89.0</td>\n      <td>89.0</td>\n      <td>89.0</td>\n      <td>923406.0</td>\n      <td>923313.0</td>\n      <td>1.000101</td>\n      <td>POINT (12.48510 41.89278)</td>\n    </tr>\n    <tr>\n      <th>109</th>\n      <td>Hanson2016_110</td>\n      <td>Alexandria (Aegyptus)</td>\n      <td>Alexandria</td>\n      <td>Aegyptus</td>\n      <td>Egypt</td>\n      <td>1</td>\n      <td>74 B2</td>\n      <td>-322</td>\n      <td>NaN</td>\n      <td>Beloch 1886; Bowman 2011; Cohen 2006; Humphrey...</td>\n      <td>972.0</td>\n      <td>Urban grid</td>\n      <td>[Metropolis capital, Provincial capital]</td>\n      <td>[Agora?, Amphitheatre, Baths, Baths, Bouleuter...</td>\n      <td>30</td>\n      <td>110</td>\n      <td>3.0</td>\n      <td>3.0</td>\n      <td>3.0</td>\n      <td>410535.0</td>\n      <td>410502.0</td>\n      <td>1.000080</td>\n      <td>POINT (29.90373 31.19502)</td>\n    </tr>\n    <tr>\n      <th>179</th>\n      <td>Hanson2016_180</td>\n      <td>Lepcis Magna</td>\n      <td>Lebda</td>\n      <td>Africa Proconsularis</td>\n      <td>Libya</td>\n      <td>1</td>\n      <td>35 G2</td>\n      <td>-30</td>\n      <td>NaN</td>\n      <td>Bomgardner 2000; Golvin 1988; Humphrey 1986; L...</td>\n      <td>466.0</td>\n      <td>Ramparts</td>\n      <td>[Colonia, Colonia, Municipium, Rights and priv...</td>\n      <td>[Amphitheatre, Aqueduct, Arch, Arch, Arch of A...</td>\n      <td>46</td>\n      <td>180</td>\n      <td>NaN</td>\n      <td>NaN</td>\n      <td>NaN</td>\n      <td>NaN</td>\n      <td>153722.0</td>\n      <td>NaN</td>\n      <td>POINT (14.29306 32.63833)</td>\n    </tr>\n    <tr>\n      <th>308</th>\n      <td>Hanson2016_309</td>\n      <td>Rhodus</td>\n      <td>Rhodes</td>\n      <td>Asia</td>\n      <td>Greece</td>\n      <td>3</td>\n      <td>60 G3</td>\n      <td>-408</td>\n      <td>NaN</td>\n      <td>Beloch 1886; Hansen 2006; Hansen and Nielsen 2...</td>\n      <td>412.0</td>\n      <td>Urban grid</td>\n      <td>[Metropolis capital?, Rights and privileges]</td>\n      <td>[Agora, Bouleuterion?, Gymnasium, Harbour, Har...</td>\n      <td>17</td>\n      <td>309</td>\n      <td>NaN</td>\n      <td>NaN</td>\n      <td>NaN</td>\n      <td>NaN</td>\n      <td>130398.0</td>\n      <td>NaN</td>\n      <td>POINT (28.22701 36.44324)</td>\n    </tr>\n    <tr>\n      <th>1323</th>\n      <td>Hanson2016_1324</td>\n      <td>Antiochia (Syria)</td>\n      <td>Antakya</td>\n      <td>Syria</td>\n      <td>Turkey</td>\n      <td>1</td>\n      <td>67 C4</td>\n      <td>-300</td>\n      <td>NaN</td>\n      <td>Boatwright 2000; Jones 1937; McEvedy 2011; Nel...</td>\n      <td>399.0</td>\n      <td>Walls of Theodosius II, Justinian, and topography</td>\n      <td>[Colonia, Metropolis capital, Provincial capit...</td>\n      <td>[Agora (Hellenistic), Agora (Seleucid), Amphit...</td>\n      <td>33</td>\n      <td>1324</td>\n      <td>NaN</td>\n      <td>NaN</td>\n      <td>NaN</td>\n      <td>NaN</td>\n      <td>124930.0</td>\n      <td>NaN</td>\n      <td>POINT (36.16963 36.21017)</td>\n    </tr>\n  </tbody>\n</table>\n</div>"
     },
     "execution_count": 276,
     "metadata": {},
     "output_type": "execute_result"
    }
   ],
   "source": [
    "roman_cities.sort_values(\"pop_est\", ascending=False, inplace=True)\n",
    "roman_cities.head(5)"
   ]
  },
  {
   "cell_type": "code",
   "execution_count": 277,
   "outputs": [
    {
     "data": {
      "text/plain": "0"
     },
     "execution_count": 277,
     "metadata": {},
     "output_type": "execute_result"
    }
   ],
   "source": [
    "sum(roman_cities[\"pop_est\"] < 1000)"
   ],
   "metadata": {
    "collapsed": false,
    "ExecuteTime": {
     "start_time": "2023-04-26T20:26:50.377136Z",
     "end_time": "2023-04-26T20:26:50.430532Z"
    }
   }
  },
  {
   "cell_type": "code",
   "execution_count": 278,
   "outputs": [],
   "source": [
    "cities_id_name_dict = dict(zip(roman_cities[\"ID\"], roman_cities[\"Ancient Toponym\"]))\n",
    "cities_id_pop_dict = dict(zip(roman_cities[\"ID\"], roman_cities[\"pop_est\"]))\n"
   ],
   "metadata": {
    "collapsed": false,
    "ExecuteTime": {
     "start_time": "2023-04-26T20:26:52.212639Z",
     "end_time": "2023-04-26T20:26:52.249027Z"
    }
   }
  },
  {
   "cell_type": "code",
   "execution_count": 279,
   "metadata": {
    "ExecuteTime": {
     "start_time": "2023-04-26T20:26:52.655590Z",
     "end_time": "2023-04-26T20:26:52.660068Z"
    }
   },
   "outputs": [
    {
     "data": {
      "text/plain": "1388"
     },
     "execution_count": 279,
     "metadata": {},
     "output_type": "execute_result"
    }
   ],
   "source": [
    "len(roman_cities)"
   ]
  },
  {
   "cell_type": "code",
   "execution_count": 280,
   "metadata": {
    "ExecuteTime": {
     "start_time": "2023-04-26T20:26:54.411762Z",
     "end_time": "2023-04-26T20:26:54.450691Z"
    }
   },
   "outputs": [
    {
     "data": {
      "text/plain": "10214337.0"
     },
     "execution_count": 280,
     "metadata": {},
     "output_type": "execute_result"
    }
   ],
   "source": [
    "# total urban population\n",
    "roman_cities[\"pop_est\"].sum()"
   ]
  },
  {
   "cell_type": "code",
   "execution_count": 281,
   "metadata": {
    "ExecuteTime": {
     "start_time": "2023-04-26T20:26:54.855985Z",
     "end_time": "2023-04-26T20:26:54.859287Z"
    }
   },
   "outputs": [
    {
     "data": {
      "text/plain": "Index(['Primary Key', 'Ancient Toponym', 'Modern Toponym', 'Province',\n       'Country', 'Barrington Atlas Rank', 'Barrington Atlas Reference',\n       'Start Date', 'End Date', 'Select Bibliography', 'Area',\n       'Estimate Basis', 'Civic Status', 'Structure', 'num_of_structures',\n       'ID', 'level_0', 'Unnamed: 0_y', 'index', 'pop_sample', 'pop_est',\n       'pop_diff', 'geometry'],\n      dtype='object')"
     },
     "execution_count": 281,
     "metadata": {},
     "output_type": "execute_result"
    }
   ],
   "source": [
    "roman_cities.columns"
   ]
  },
  {
   "cell_type": "code",
   "execution_count": 282,
   "outputs": [],
   "source": [
    "masks_dict = {}\n",
    "masks_dict[\"large\"] = roman_cities[\"pop_est\"] >= 30000\n",
    "masks_dict[\"medium\"] = (roman_cities[\"pop_est\"] >= 5000) & (roman_cities[\"pop_est\"] < 30000)\n",
    "masks_dict[\"small\"] = small_cities_mask = roman_cities[\"pop_est\"] < 5000"
   ],
   "metadata": {
    "collapsed": false,
    "ExecuteTime": {
     "start_time": "2023-04-26T20:26:55.430494Z",
     "end_time": "2023-04-26T20:26:55.459745Z"
    }
   }
  },
  {
   "cell_type": "code",
   "execution_count": 283,
   "outputs": [
    {
     "name": "stdout",
     "output_type": "stream",
     "text": [
      "large 68 4641352.0\n",
      "medium 337 4005250.0\n",
      "small 983 1567735.0\n"
     ]
    }
   ],
   "source": [
    "for mask in masks_dict.keys():\n",
    "    print(mask, len(roman_cities[masks_dict[mask]]), roman_cities[masks_dict[mask]][\"pop_est\"].sum())"
   ],
   "metadata": {
    "collapsed": false,
    "ExecuteTime": {
     "start_time": "2023-04-26T20:26:56.866178Z",
     "end_time": "2023-04-26T20:26:56.893908Z"
    }
   }
  },
  {
   "cell_type": "code",
   "execution_count": 283,
   "outputs": [],
   "source": [],
   "metadata": {
    "collapsed": false,
    "ExecuteTime": {
     "start_time": "2023-04-26T20:26:57.298589Z",
     "end_time": "2023-04-26T20:26:57.300264Z"
    }
   }
  },
  {
   "cell_type": "code",
   "execution_count": 284,
   "outputs": [],
   "source": [
    "geod = Geod(ellps=\"WGS84\")\n",
    "def get_dist_m(inscr_geo, city_geo):\n",
    "    try:\n",
    "        line_string = LineString([inscr_geo, city_geo])\n",
    "        return np.round(geod.geometry_length(line_string), 2)\n",
    "    except:\n",
    "        return None"
   ],
   "metadata": {
    "collapsed": false,
    "ExecuteTime": {
     "start_time": "2023-04-26T20:26:57.727866Z",
     "end_time": "2023-04-26T20:26:57.731819Z"
    }
   }
  },
  {
   "cell_type": "code",
   "execution_count": 285,
   "outputs": [
    {
     "data": {
      "text/plain": "525870"
     },
     "execution_count": 285,
     "metadata": {},
     "output_type": "execute_result"
    }
   ],
   "source": [
    "len(LIST)"
   ],
   "metadata": {
    "collapsed": false,
    "ExecuteTime": {
     "start_time": "2023-04-26T20:27:00.120132Z",
     "end_time": "2023-04-26T20:27:00.153413Z"
    }
   }
  },
  {
   "cell_type": "code",
   "execution_count": 286,
   "outputs": [],
   "source": [
    "LIST.reset_index(drop=True, inplace=True)"
   ],
   "metadata": {
    "collapsed": false,
    "ExecuteTime": {
     "start_time": "2023-04-26T20:27:02.547565Z",
     "end_time": "2023-04-26T20:27:02.582861Z"
    }
   }
  },
  {
   "cell_type": "code",
   "execution_count": 287,
   "outputs": [
    {
     "data": {
      "text/plain": "        LIST-ID        EDCS-ID    EDH-ID  \\\n37654     37655  EDCS-66800022      None   \n98963     98964  EDCS-50801194      None   \n420344   420345  EDCS-31800336      None   \n487107   487108  EDCS-11600420  HD015591   \n508290   508291  EDCS-43201231  HD067771   \n508291   508292  EDCS-59300051  HD067770   \n\n                                trismegistos_uri pleiades_id  \\\n37654                                        NaN         NaN   \n98963                                        NaN         NaN   \n420344                                       NaN         NaN   \n487107  https://www.trismegistos.org/text/237529               \n508290  https://www.trismegistos.org/text/404155               \n508291  https://www.trismegistos.org/text/695865               \n\n                        transcription  \\\n37654                             NaN   \n98963                             NaN   \n420344                            NaN   \n487107     Saenia Abra hic sita (e)st   \n508290                    Οὐγ(κία) ζʹ   \n508291  [Λί(τραι)] κβʹ γρ(άμματα) ιδʹ   \n\n                                              inscription  \\\n37654   DD(ominorum) nn(ostrorum) Dioclet(i)ani / et M...   \n98963                                         V() L() A()   \n420344  Imp(erator) Caes(ar) M(arcus) Aurel[i]<us=O> /...   \n487107                          Saenia Abra(!) hic sitast   \n508290                                        Οὐγ(κία) ζʹ   \n508291                      [Λί(τραι)] κβʹ γρ(άμματα) ιδʹ   \n\n                                  clean_text_conservative  \\\n37654   DD nn Diocletani et Maximiani Augg et Constant...   \n98963                                               V L A   \n420344  Imp Caes M Aurel s Antonin Pius Feli Aug Parth...   \n487107                            Saenia Abra hic sita st   \n508290                                             Οὐγ ζʹ   \n508291                                         κβʹ γρ ιδʹ   \n\n       clean_text_interpretive_sentence  \\\n37654                               NaN   \n98963                               NaN   \n420344                              NaN   \n487107         Saenia Abra hic sita est   \n508290                        Οὐγκία ζʹ   \n508291          Λίτραι κβʹ γράμματα ιδʹ   \n\n                             clean_text_interpretive_word  \\\n37654   DDominorum nnostrorum Diocletiani et Maximiani...   \n98963                                               V L A   \n420344  Imperator Caesar Marcus Aurelius Antoninus Piu...   \n487107                           Saenia Abra hic sita est   \n508290                                          Οὐγκία ζʹ   \n508291                            Λίτραι κβʹ γράμματα ιδʹ   \n\n                        clean_text_interpretive_word_EDCS  \\\n37654   DDominorum nnostrorum Diocletiani et Maximiani...   \n98963                                               V L A   \n420344  Imperator Caesar Marcus Aurelius Antoninus Piu...   \n487107                             Saenia Abra hic sitast   \n508290                                          Οὐγκία ζʹ   \n508291                            Λίτραι κβʹ γράμματα ιδʹ   \n\n                diplomatic_text                       province  \\\n37654                       NaN  Apulia et Calabria / Regio II   \n98963                       NaN                      Britannia   \n420344                      NaN                          Syria   \n487107  SAENIA ABRA HIC SITA ST              Hispania citerior   \n508290                   ΟΥΓ Ζʹ              Pannonia inferior   \n508291           [ ] ΚΒʹ ΓΡ ΙΔʹ              Pannonia inferior   \n\n                                                place  \\\n37654               Guardiola, Scampitella / Aeclanum   \n98963                                      Withington   \n420344  Tadmur / Tadmer / Tadmor, iuxta (3) / Palmyra   \n487107                                      Finestrat   \n508290                                       Polgardi   \n508291                                       Polgardi   \n\n                     inscr_type         status_notation     inscr_process  \\\n37654                  miliaria  Augusti/Augustae, viri   litterae erasae   \n98963      tituli fabricationis                     NaN  sigilla impressa   \n420344  miliaria, tituli operum  Augusti/Augustae, viri               NaN   \n487107       tituli sepulcrales                     NaN               NaN   \n508290      tituli possessionis                     NaN               NaN   \n508291                      NaN                     NaN               NaN   \n\n                                                   status  \\\n37654   Augusti/Augustae;  litterae erasae;  miliaria;...   \n98963             sigilla impressa;  tituli fabricationis   \n420344  Augusti/Augustae;  miliaria;  tituli operum;  ...   \n487107                                 tituli sepulcrales   \n508290                                tituli possessionis   \n508291                                                NaN   \n\n                                             partner_link last_update  \\\n37654   http://db.edcs.eu/epigr/partner.php?s_language...         NaN   \n98963                                                 NaN         NaN   \n420344                                                NaN         NaN   \n487107  http://db.edcs.eu/epigr/partner.php?s_language...  2006-05-03   \n508290  http://db.edcs.eu/epigr/partner.php?s_language...  2021-03-03   \n508291  http://db.edcs.eu/epigr/partner.php?s_language...  2021-03-03   \n\n       letter_size       type_of_inscription  work_status  year_of_find  \\\n37654          NaN                       NaN          NaN           NaN   \n98963          NaN                       NaN          NaN           NaN   \n420344         NaN                       NaN          NaN           NaN   \n487107         NaN                   epitaph  provisional        1806.0   \n508290         NaN  owner/artist inscription  provisional       -1990.0   \n508291      1.1 cm  owner/artist inscription  provisional       -1990.0   \n\n       present_location                                       text_edition  \\\n37654               NaN                                                NaN   \n98963               NaN                                                NaN   \n420344              NaN                                                NaN   \n487107              NaN                      \\n Saenia Abra hic sita est\\n   \n508290              NaN  \\n \\xce\\x9f\\xe1\\xbd\\x90\\xce\\xb3(\\xce\\xba\\xe1\\x...   \n508291              NaN  \\n \\xce\\x9b\\xe1\\xbd\\xb7(\\xcf\\x84\\xcf\\x81\\xce\\x...   \n\n       support_objecttype support_material support_decoration keywords_term  \\\n37654                 NaN              NaN                NaN           NaN   \n98963                 NaN              NaN                NaN           NaN   \n420344                NaN              NaN                NaN           NaN   \n487107                250              NaN               2000            92   \n508290                140              115               2000           NaN   \n508291                140              115               2000           NaN   \n\n       people type_of_inscription_clean  type_of_inscription_certainty  \\\n37654      []                       NaN                          False   \n98963      []                       NaN                          False   \n420344     []                       NaN                          False   \n487107     []                   epitaph                          False   \n508290     []  owner/artist inscription                          False   \n508291     []  owner/artist inscription                          False   \n\n        height_cm  width_cm  depth_cm material_clean   type_of_monument_clean  \\\n37654         NaN       NaN       NaN            NaN                      NaN   \n98963         NaN       NaN       NaN            NaN                      NaN   \n420344        NaN       NaN       NaN            NaN                      NaN   \n487107        NaN       NaN       NaN           NULL                    stele   \n508290       57.0       NaN       NaN          Metal  instrumentum domesticum   \n508291        NaN       NaN       NaN          Metal  instrumentum domesticum   \n\n        type_of_monument_certainty province_label_clean  \\\n37654                        False                  NaN   \n98963                        False                  NaN   \n420344                       False                  NaN   \n487107                       False    Hispania citerior   \n508290                       False              unknown   \n508291                       False              unknown   \n\n        province_label_certainty country_clean  country_certainty  \\\n37654                      False           NaN              False   \n98963                      False           NaN              False   \n420344                     False           NaN              False   \n487107                     False         Spain              False   \n508290                     False       unknown              False   \n508291                     False       unknown              False   \n\n       findspot_ancient_clean  findspot_ancient_certainty modern_region_clean  \\\n37654                     NaN                       False                 NaN   \n98963                     NaN                       False                 NaN   \n420344                    NaN                       False                 NaN   \n487107                   NULL                       False                NULL   \n508290                   NULL                       False                NULL   \n508291                   NULL                       False                NULL   \n\n        modern_region_certainty findspot_modern_clean  \\\n37654                     False                   NaN   \n98963                     False                   NaN   \n420344                    False                   NaN   \n487107                    False             Finestrat   \n508290                    False                  NULL   \n508291                    False                  NULL   \n\n        findspot_modern_certainty      findspot_clean  findspot_certainty  \\\n37654                       False                 NaN               False   \n98963                       False                 NaN               False   \n420344                      False                 NaN               False   \n487107                      False  Partida Alfarelles               False   \n508290                      False                NULL               False   \n508291                      False                NULL               False   \n\n       language language_EDCS                        raw_dating  not_after  \\\n37654         L           NaN  a:  293 to 305;   b:  367 to 375      375.0   \n98963         L           NaN                               NaN        NaN   \n420344        L           NaN                        212 to 212      212.0   \n487107        L           NaN                          1 to 100      100.0   \n508290        L           NaN                               NaN      450.0   \n508291        L           NaN                               NaN      450.0   \n\n        not_before  Longitude   Latitude  geotemporal?            geometry  \\\n37654        293.0        NaN  41.092522         False  POINT (nan 41.093)   \n98963          NaN  -1.954107        NaN         False  POINT (-1.954 nan)   \n420344       212.0        NaN  34.563611         False  POINT (nan 34.564)   \n487107         1.0  -0.211856        NaN         False  POINT (-0.212 nan)   \n508290       351.0  18.306794        NaN         False  POINT (18.307 nan)   \n508291       351.0  18.306794        NaN         False  POINT (18.307 nan)   \n\n        withinRE?  \n37654       False  \n98963       False  \n420344      False  \n487107      False  \n508290      False  \n508291      False  ",
      "text/html": "<div>\n<style scoped>\n    .dataframe tbody tr th:only-of-type {\n        vertical-align: middle;\n    }\n\n    .dataframe tbody tr th {\n        vertical-align: top;\n    }\n\n    .dataframe thead th {\n        text-align: right;\n    }\n</style>\n<table border=\"1\" class=\"dataframe\">\n  <thead>\n    <tr style=\"text-align: right;\">\n      <th></th>\n      <th>LIST-ID</th>\n      <th>EDCS-ID</th>\n      <th>EDH-ID</th>\n      <th>trismegistos_uri</th>\n      <th>pleiades_id</th>\n      <th>transcription</th>\n      <th>inscription</th>\n      <th>clean_text_conservative</th>\n      <th>clean_text_interpretive_sentence</th>\n      <th>clean_text_interpretive_word</th>\n      <th>clean_text_interpretive_word_EDCS</th>\n      <th>diplomatic_text</th>\n      <th>province</th>\n      <th>place</th>\n      <th>inscr_type</th>\n      <th>status_notation</th>\n      <th>inscr_process</th>\n      <th>status</th>\n      <th>partner_link</th>\n      <th>last_update</th>\n      <th>letter_size</th>\n      <th>type_of_inscription</th>\n      <th>work_status</th>\n      <th>year_of_find</th>\n      <th>present_location</th>\n      <th>text_edition</th>\n      <th>support_objecttype</th>\n      <th>support_material</th>\n      <th>support_decoration</th>\n      <th>keywords_term</th>\n      <th>people</th>\n      <th>type_of_inscription_clean</th>\n      <th>type_of_inscription_certainty</th>\n      <th>height_cm</th>\n      <th>width_cm</th>\n      <th>depth_cm</th>\n      <th>material_clean</th>\n      <th>type_of_monument_clean</th>\n      <th>type_of_monument_certainty</th>\n      <th>province_label_clean</th>\n      <th>province_label_certainty</th>\n      <th>country_clean</th>\n      <th>country_certainty</th>\n      <th>findspot_ancient_clean</th>\n      <th>findspot_ancient_certainty</th>\n      <th>modern_region_clean</th>\n      <th>modern_region_certainty</th>\n      <th>findspot_modern_clean</th>\n      <th>findspot_modern_certainty</th>\n      <th>findspot_clean</th>\n      <th>findspot_certainty</th>\n      <th>language</th>\n      <th>language_EDCS</th>\n      <th>raw_dating</th>\n      <th>not_after</th>\n      <th>not_before</th>\n      <th>Longitude</th>\n      <th>Latitude</th>\n      <th>geotemporal?</th>\n      <th>geometry</th>\n      <th>withinRE?</th>\n    </tr>\n  </thead>\n  <tbody>\n    <tr>\n      <th>37654</th>\n      <td>37655</td>\n      <td>EDCS-66800022</td>\n      <td>None</td>\n      <td>NaN</td>\n      <td>NaN</td>\n      <td>NaN</td>\n      <td>DD(ominorum) nn(ostrorum) Dioclet(i)ani / et M...</td>\n      <td>DD nn Diocletani et Maximiani Augg et Constant...</td>\n      <td>NaN</td>\n      <td>DDominorum nnostrorum Diocletiani et Maximiani...</td>\n      <td>DDominorum nnostrorum Diocletiani et Maximiani...</td>\n      <td>NaN</td>\n      <td>Apulia et Calabria / Regio II</td>\n      <td>Guardiola, Scampitella / Aeclanum</td>\n      <td>miliaria</td>\n      <td>Augusti/Augustae, viri</td>\n      <td>litterae erasae</td>\n      <td>Augusti/Augustae;  litterae erasae;  miliaria;...</td>\n      <td>http://db.edcs.eu/epigr/partner.php?s_language...</td>\n      <td>NaN</td>\n      <td>NaN</td>\n      <td>NaN</td>\n      <td>NaN</td>\n      <td>NaN</td>\n      <td>NaN</td>\n      <td>NaN</td>\n      <td>NaN</td>\n      <td>NaN</td>\n      <td>NaN</td>\n      <td>NaN</td>\n      <td>[]</td>\n      <td>NaN</td>\n      <td>False</td>\n      <td>NaN</td>\n      <td>NaN</td>\n      <td>NaN</td>\n      <td>NaN</td>\n      <td>NaN</td>\n      <td>False</td>\n      <td>NaN</td>\n      <td>False</td>\n      <td>NaN</td>\n      <td>False</td>\n      <td>NaN</td>\n      <td>False</td>\n      <td>NaN</td>\n      <td>False</td>\n      <td>NaN</td>\n      <td>False</td>\n      <td>NaN</td>\n      <td>False</td>\n      <td>L</td>\n      <td>NaN</td>\n      <td>a:  293 to 305;   b:  367 to 375</td>\n      <td>375.0</td>\n      <td>293.0</td>\n      <td>NaN</td>\n      <td>41.092522</td>\n      <td>False</td>\n      <td>POINT (nan 41.093)</td>\n      <td>False</td>\n    </tr>\n    <tr>\n      <th>98963</th>\n      <td>98964</td>\n      <td>EDCS-50801194</td>\n      <td>None</td>\n      <td>NaN</td>\n      <td>NaN</td>\n      <td>NaN</td>\n      <td>V() L() A()</td>\n      <td>V L A</td>\n      <td>NaN</td>\n      <td>V L A</td>\n      <td>V L A</td>\n      <td>NaN</td>\n      <td>Britannia</td>\n      <td>Withington</td>\n      <td>tituli fabricationis</td>\n      <td>NaN</td>\n      <td>sigilla impressa</td>\n      <td>sigilla impressa;  tituli fabricationis</td>\n      <td>NaN</td>\n      <td>NaN</td>\n      <td>NaN</td>\n      <td>NaN</td>\n      <td>NaN</td>\n      <td>NaN</td>\n      <td>NaN</td>\n      <td>NaN</td>\n      <td>NaN</td>\n      <td>NaN</td>\n      <td>NaN</td>\n      <td>NaN</td>\n      <td>[]</td>\n      <td>NaN</td>\n      <td>False</td>\n      <td>NaN</td>\n      <td>NaN</td>\n      <td>NaN</td>\n      <td>NaN</td>\n      <td>NaN</td>\n      <td>False</td>\n      <td>NaN</td>\n      <td>False</td>\n      <td>NaN</td>\n      <td>False</td>\n      <td>NaN</td>\n      <td>False</td>\n      <td>NaN</td>\n      <td>False</td>\n      <td>NaN</td>\n      <td>False</td>\n      <td>NaN</td>\n      <td>False</td>\n      <td>L</td>\n      <td>NaN</td>\n      <td>NaN</td>\n      <td>NaN</td>\n      <td>NaN</td>\n      <td>-1.954107</td>\n      <td>NaN</td>\n      <td>False</td>\n      <td>POINT (-1.954 nan)</td>\n      <td>False</td>\n    </tr>\n    <tr>\n      <th>420344</th>\n      <td>420345</td>\n      <td>EDCS-31800336</td>\n      <td>None</td>\n      <td>NaN</td>\n      <td>NaN</td>\n      <td>NaN</td>\n      <td>Imp(erator) Caes(ar) M(arcus) Aurel[i]&lt;us=O&gt; /...</td>\n      <td>Imp Caes M Aurel s Antonin Pius Feli Aug Parth...</td>\n      <td>NaN</td>\n      <td>Imperator Caesar Marcus Aurelius Antoninus Piu...</td>\n      <td>Imperator Caesar Marcus Aurelius Antoninus Piu...</td>\n      <td>NaN</td>\n      <td>Syria</td>\n      <td>Tadmur / Tadmer / Tadmor, iuxta (3) / Palmyra</td>\n      <td>miliaria, tituli operum</td>\n      <td>Augusti/Augustae, viri</td>\n      <td>NaN</td>\n      <td>Augusti/Augustae;  miliaria;  tituli operum;  ...</td>\n      <td>NaN</td>\n      <td>NaN</td>\n      <td>NaN</td>\n      <td>NaN</td>\n      <td>NaN</td>\n      <td>NaN</td>\n      <td>NaN</td>\n      <td>NaN</td>\n      <td>NaN</td>\n      <td>NaN</td>\n      <td>NaN</td>\n      <td>NaN</td>\n      <td>[]</td>\n      <td>NaN</td>\n      <td>False</td>\n      <td>NaN</td>\n      <td>NaN</td>\n      <td>NaN</td>\n      <td>NaN</td>\n      <td>NaN</td>\n      <td>False</td>\n      <td>NaN</td>\n      <td>False</td>\n      <td>NaN</td>\n      <td>False</td>\n      <td>NaN</td>\n      <td>False</td>\n      <td>NaN</td>\n      <td>False</td>\n      <td>NaN</td>\n      <td>False</td>\n      <td>NaN</td>\n      <td>False</td>\n      <td>L</td>\n      <td>NaN</td>\n      <td>212 to 212</td>\n      <td>212.0</td>\n      <td>212.0</td>\n      <td>NaN</td>\n      <td>34.563611</td>\n      <td>False</td>\n      <td>POINT (nan 34.564)</td>\n      <td>False</td>\n    </tr>\n    <tr>\n      <th>487107</th>\n      <td>487108</td>\n      <td>EDCS-11600420</td>\n      <td>HD015591</td>\n      <td>https://www.trismegistos.org/text/237529</td>\n      <td></td>\n      <td>Saenia Abra hic sita (e)st</td>\n      <td>Saenia Abra(!) hic sitast</td>\n      <td>Saenia Abra hic sita st</td>\n      <td>Saenia Abra hic sita est</td>\n      <td>Saenia Abra hic sita est</td>\n      <td>Saenia Abra hic sitast</td>\n      <td>SAENIA ABRA HIC SITA ST</td>\n      <td>Hispania citerior</td>\n      <td>Finestrat</td>\n      <td>tituli sepulcrales</td>\n      <td>NaN</td>\n      <td>NaN</td>\n      <td>tituli sepulcrales</td>\n      <td>http://db.edcs.eu/epigr/partner.php?s_language...</td>\n      <td>2006-05-03</td>\n      <td>NaN</td>\n      <td>epitaph</td>\n      <td>provisional</td>\n      <td>1806.0</td>\n      <td>NaN</td>\n      <td>\\n Saenia Abra hic sita est\\n</td>\n      <td>250</td>\n      <td>NaN</td>\n      <td>2000</td>\n      <td>92</td>\n      <td>[]</td>\n      <td>epitaph</td>\n      <td>False</td>\n      <td>NaN</td>\n      <td>NaN</td>\n      <td>NaN</td>\n      <td>NULL</td>\n      <td>stele</td>\n      <td>False</td>\n      <td>Hispania citerior</td>\n      <td>False</td>\n      <td>Spain</td>\n      <td>False</td>\n      <td>NULL</td>\n      <td>False</td>\n      <td>NULL</td>\n      <td>False</td>\n      <td>Finestrat</td>\n      <td>False</td>\n      <td>Partida Alfarelles</td>\n      <td>False</td>\n      <td>L</td>\n      <td>NaN</td>\n      <td>1 to 100</td>\n      <td>100.0</td>\n      <td>1.0</td>\n      <td>-0.211856</td>\n      <td>NaN</td>\n      <td>False</td>\n      <td>POINT (-0.212 nan)</td>\n      <td>False</td>\n    </tr>\n    <tr>\n      <th>508290</th>\n      <td>508291</td>\n      <td>EDCS-43201231</td>\n      <td>HD067771</td>\n      <td>https://www.trismegistos.org/text/404155</td>\n      <td></td>\n      <td>Οὐγ(κία) ζʹ</td>\n      <td>Οὐγ(κία) ζʹ</td>\n      <td>Οὐγ ζʹ</td>\n      <td>Οὐγκία ζʹ</td>\n      <td>Οὐγκία ζʹ</td>\n      <td>Οὐγκία ζʹ</td>\n      <td>ΟΥΓ Ζʹ</td>\n      <td>Pannonia inferior</td>\n      <td>Polgardi</td>\n      <td>tituli possessionis</td>\n      <td>NaN</td>\n      <td>NaN</td>\n      <td>tituli possessionis</td>\n      <td>http://db.edcs.eu/epigr/partner.php?s_language...</td>\n      <td>2021-03-03</td>\n      <td>NaN</td>\n      <td>owner/artist inscription</td>\n      <td>provisional</td>\n      <td>-1990.0</td>\n      <td>NaN</td>\n      <td>\\n \\xce\\x9f\\xe1\\xbd\\x90\\xce\\xb3(\\xce\\xba\\xe1\\x...</td>\n      <td>140</td>\n      <td>115</td>\n      <td>2000</td>\n      <td>NaN</td>\n      <td>[]</td>\n      <td>owner/artist inscription</td>\n      <td>False</td>\n      <td>57.0</td>\n      <td>NaN</td>\n      <td>NaN</td>\n      <td>Metal</td>\n      <td>instrumentum domesticum</td>\n      <td>False</td>\n      <td>unknown</td>\n      <td>False</td>\n      <td>unknown</td>\n      <td>False</td>\n      <td>NULL</td>\n      <td>False</td>\n      <td>NULL</td>\n      <td>False</td>\n      <td>NULL</td>\n      <td>False</td>\n      <td>NULL</td>\n      <td>False</td>\n      <td>L</td>\n      <td>NaN</td>\n      <td>NaN</td>\n      <td>450.0</td>\n      <td>351.0</td>\n      <td>18.306794</td>\n      <td>NaN</td>\n      <td>False</td>\n      <td>POINT (18.307 nan)</td>\n      <td>False</td>\n    </tr>\n    <tr>\n      <th>508291</th>\n      <td>508292</td>\n      <td>EDCS-59300051</td>\n      <td>HD067770</td>\n      <td>https://www.trismegistos.org/text/695865</td>\n      <td></td>\n      <td>[Λί(τραι)] κβʹ γρ(άμματα) ιδʹ</td>\n      <td>[Λί(τραι)] κβʹ γρ(άμματα) ιδʹ</td>\n      <td>κβʹ γρ ιδʹ</td>\n      <td>Λίτραι κβʹ γράμματα ιδʹ</td>\n      <td>Λίτραι κβʹ γράμματα ιδʹ</td>\n      <td>Λίτραι κβʹ γράμματα ιδʹ</td>\n      <td>[ ] ΚΒʹ ΓΡ ΙΔʹ</td>\n      <td>Pannonia inferior</td>\n      <td>Polgardi</td>\n      <td>NaN</td>\n      <td>NaN</td>\n      <td>NaN</td>\n      <td>NaN</td>\n      <td>http://db.edcs.eu/epigr/partner.php?s_language...</td>\n      <td>2021-03-03</td>\n      <td>1.1 cm</td>\n      <td>owner/artist inscription</td>\n      <td>provisional</td>\n      <td>-1990.0</td>\n      <td>NaN</td>\n      <td>\\n \\xce\\x9b\\xe1\\xbd\\xb7(\\xcf\\x84\\xcf\\x81\\xce\\x...</td>\n      <td>140</td>\n      <td>115</td>\n      <td>2000</td>\n      <td>NaN</td>\n      <td>[]</td>\n      <td>owner/artist inscription</td>\n      <td>False</td>\n      <td>NaN</td>\n      <td>NaN</td>\n      <td>NaN</td>\n      <td>Metal</td>\n      <td>instrumentum domesticum</td>\n      <td>False</td>\n      <td>unknown</td>\n      <td>False</td>\n      <td>unknown</td>\n      <td>False</td>\n      <td>NULL</td>\n      <td>False</td>\n      <td>NULL</td>\n      <td>False</td>\n      <td>NULL</td>\n      <td>False</td>\n      <td>NULL</td>\n      <td>False</td>\n      <td>L</td>\n      <td>NaN</td>\n      <td>NaN</td>\n      <td>450.0</td>\n      <td>351.0</td>\n      <td>18.306794</td>\n      <td>NaN</td>\n      <td>False</td>\n      <td>POINT (18.307 nan)</td>\n      <td>False</td>\n    </tr>\n  </tbody>\n</table>\n</div>"
     },
     "execution_count": 287,
     "metadata": {},
     "output_type": "execute_result"
    }
   ],
   "source": [
    "LIST[~LIST.geometry.is_valid]"
   ],
   "metadata": {
    "collapsed": false,
    "ExecuteTime": {
     "start_time": "2023-04-26T20:27:02.987725Z",
     "end_time": "2023-04-26T20:27:03.737352Z"
    }
   }
  },
  {
   "cell_type": "code",
   "execution_count": 288,
   "outputs": [],
   "source": [
    "def ckdnearest(city_type):\n",
    "    cities_subset = roman_cities[masks_dict[city_type]]\n",
    "    incr_ids = LIST[(LIST.geometry.is_valid) & (~LIST.geometry.is_empty)][\"LIST-ID\"]\n",
    "    insr_geometries = np.array(list(LIST[(LIST.geometry.is_valid) & (~LIST.geometry.is_empty)].geometry.apply(lambda x: (x.x, x.y))))\n",
    "    incr_ids_missing = LIST[(~LIST.geometry.is_valid) | (LIST.geometry.is_empty)][\"LIST-ID\"]\n",
    "    cities_geometries = np.array(list(cities_subset.geometry.apply(lambda x: (x.x, x.y))))\n",
    "    btree = cKDTree(cities_geometries)\n",
    "    dist, idx = btree.query(insr_geometries, k=1)\n",
    "    inscr_cities_name_dict = dict(zip(incr_ids, cities_subset.iloc[idx][\"Ancient Toponym\"]))\n",
    "    inscr_cities_pop_dict = dict(zip(incr_ids, cities_subset.iloc[idx][\"pop_est\"]))\n",
    "    inscr_cities_geo_dict = dict(zip(incr_ids, cities_subset.iloc[idx].geometry))\n",
    "    for id in incr_ids_missing:\n",
    "        inscr_cities_name_dict[id] = None\n",
    "        inscr_cities_pop_dict[id] = None\n",
    "        inscr_cities_geo_dict[id] = None\n",
    "    LIST[city_type + \"_city_name\"] = LIST[\"LIST-ID\"].apply(lambda x: inscr_cities_name_dict[x])\n",
    "    LIST[city_type + \"_city_geo\"] = LIST[\"LIST-ID\"].apply(lambda x: inscr_cities_geo_dict[x])\n",
    "    LIST[city_type + \"_city_pop\"] = LIST[\"LIST-ID\"].apply(lambda x: inscr_cities_pop_dict[x])\n",
    "    LIST[city_type + \"_city_dist\"] = LIST.apply(lambda row: get_dist_m(row.geometry, row[city_type + \"_city_geo\"]), axis=1)"
   ],
   "metadata": {
    "collapsed": false,
    "ExecuteTime": {
     "start_time": "2023-04-26T20:27:09.889589Z",
     "end_time": "2023-04-26T20:27:09.954443Z"
    }
   }
  },
  {
   "cell_type": "code",
   "execution_count": 289,
   "outputs": [
    {
     "name": "stdout",
     "output_type": "stream",
     "text": [
      "CPU times: user 1min 20s, sys: 4.03 s, total: 1min 24s\n",
      "Wall time: 1min 27s\n"
     ]
    }
   ],
   "source": [
    "%%time\n",
    "ckdnearest(\"large\")\n",
    "ckdnearest(\"medium\")\n",
    "ckdnearest(\"small\")"
   ],
   "metadata": {
    "collapsed": false,
    "ExecuteTime": {
     "start_time": "2023-04-26T20:27:13.585399Z",
     "end_time": "2023-04-26T20:28:41.226349Z"
    }
   }
  },
  {
   "cell_type": "code",
   "execution_count": 290,
   "outputs": [],
   "source": [
    "def get_urban_context(row):\n",
    "    urban_context_city = None\n",
    "    urban_context_pop_est = None\n",
    "    #if (row.geometry == None) | ~(row.geometry.is_valid) | (row.geometry.is_empty):\n",
    "    if row.geometry.is_empty:\n",
    "        urban_context = None\n",
    "    else:\n",
    "        urban_context = \"rural\"\n",
    "        buffer = 5000\n",
    "        for context in [\"large\", \"medium\", \"small\"]:\n",
    "            if row[context + \"_city_dist\"] <= buffer:\n",
    "                urban_context = context\n",
    "                urban_context_city = row[context + \"_city_name\"]\n",
    "                urban_context_pop_est = row[context + \"_city_pop\"]\n",
    "                break\n",
    "    return urban_context, urban_context_city, urban_context_pop_est\n",
    "\n",
    "urban_contexts = LIST.apply(lambda row: get_urban_context(row), axis=1)\n",
    "\n",
    "LIST[\"urban_context\"] = [el[0] for el in urban_contexts]\n",
    "LIST[\"urban_context_city\"] = [el[1] for el in urban_contexts]\n",
    "LIST[\"urban_context_pop_est\"] = [el[2] for el in urban_contexts]"
   ],
   "metadata": {
    "collapsed": false,
    "ExecuteTime": {
     "start_time": "2023-04-26T20:29:56.838682Z",
     "end_time": "2023-04-26T20:30:05.516870Z"
    }
   }
  },
  {
   "cell_type": "code",
   "execution_count": 291,
   "outputs": [
    {
     "name": "stdout",
     "output_type": "stream",
     "text": [
      "large 156892\n",
      "medium 131430\n",
      "small 81527\n",
      "rural 142130\n"
     ]
    }
   ],
   "source": [
    "contexts = [\"large\", \"medium\", \"small\", \"rural\"]\n",
    "for context in contexts:\n",
    "    print(context, (LIST[\"urban_context\"]==context).sum())"
   ],
   "metadata": {
    "collapsed": false,
    "ExecuteTime": {
     "start_time": "2023-04-26T20:34:54.166054Z",
     "end_time": "2023-04-26T20:34:54.219299Z"
    }
   }
  },
  {
   "cell_type": "code",
   "execution_count": 292,
   "outputs": [
    {
     "data": {
      "text/plain": "13891"
     },
     "execution_count": 292,
     "metadata": {},
     "output_type": "execute_result"
    }
   ],
   "source": [
    "(LIST[\"urban_context\"].isnull()).sum()"
   ],
   "metadata": {
    "collapsed": false,
    "ExecuteTime": {
     "start_time": "2023-04-26T20:35:10.165416Z",
     "end_time": "2023-04-26T20:35:10.192873Z"
    }
   }
  },
  {
   "cell_type": "code",
   "execution_count": 293,
   "outputs": [],
   "source": [
    "# perhaps thesecolumns could be useful for some analysis, but not now...\n",
    "LIST.drop(columns=['large_city_name', 'large_city_geo', 'large_city_dist', 'large_city_pop', 'medium_city_name', 'medium_city_geo', 'medium_city_pop', 'medium_city_dist', 'small_city_name', 'small_city_geo','small_city_dist', 'small_city_pop'], inplace=True)"
   ],
   "metadata": {
    "collapsed": false,
    "ExecuteTime": {
     "start_time": "2023-04-26T20:35:12.032833Z",
     "end_time": "2023-04-26T20:35:12.174510Z"
    }
   }
  },
  {
   "cell_type": "code",
   "execution_count": 294,
   "outputs": [
    {
     "data": {
      "text/plain": "120768"
     },
     "execution_count": 294,
     "metadata": {},
     "output_type": "execute_result"
    }
   ],
   "source": [
    "len(LIST[LIST[\"urban_context_city\"]==\"Roma\"])"
   ],
   "metadata": {
    "collapsed": false,
    "ExecuteTime": {
     "start_time": "2023-04-26T20:35:13.097179Z",
     "end_time": "2023-04-26T20:35:14.230876Z"
    }
   }
  },
  {
   "cell_type": "code",
   "execution_count": 295,
   "outputs": [
    {
     "data": {
      "text/plain": "        LIST-ID        EDCS-ID    EDH-ID  \\\n288843   288844  EDCS-02700186      None   \n337743   337744  EDCS-32801727      None   \n308822   308823  EDCS-16100081      None   \n399934   399935  EDCS-64900315      None   \n333812   333813  EDCS-11700655      None   \n393085   393086  EDCS-30500032      None   \n325639   325640  EDCS-17900161      None   \n393264   393265  EDCS-33100585      None   \n364072   364073  EDCS-34800363      None   \n344706   344707  EDCS-43500681      None   \n318998   318999  EDCS-13801610      None   \n341150   341151  EDCS-40300242      None   \n389016   389017  EDCS-33900423      None   \n312689   312690  EDCS-10201155      None   \n337656   337657  EDCS-32801639      None   \n364675   364676  EDCS-25401111      None   \n353236   353237  EDCS-37900383      None   \n372469   372470  EDCS-37300186      None   \n372568   372569  EDCS-37300284      None   \n299152   299153  EDCS-18700545      None   \n320759   320760  EDCS-14801089      None   \n515361   515362  EDCS-09400063  HD006784   \n309212   309213  EDCS-09600299      None   \n358037   358038  EDCS-34501137      None   \n335205   335206  EDCS-31200355      None   \n379397   379398  EDCS-32804919      None   \n303103   303104  EDCS-19000581      None   \n306461   306462  EDCS-14800801      None   \n360705   360706  EDCS-40300948      None   \n295115   295116  EDCS-17600756      None   \n334920   334921  EDCS-30600657      None   \n367992   367993  EDCS-35901178      None   \n301433   301434  EDCS-18600157      None   \n304159   304160  EDCS-19600342      None   \n370635   370636  EDCS-36901019      None   \n311834   311835  EDCS-10200284      None   \n306086   306087  EDCS-14800418      None   \n346087   346088  EDCS-43600291      None   \n289439   289440  EDCS-59400064      None   \n349993   349994  EDCS-38600625      None   \n397423   397424  EDCS-07700039      None   \n356456   356457  EDCS-29601300      None   \n362707   362708  EDCS-38302551      None   \n396916   396917  EDCS-39100764      None   \n358073   358074  EDCS-39101967      None   \n309817   309818  EDCS-12000934      None   \n356898   356899  EDCS-38600209      None   \n518401   518402  EDCS-32804839  HD032169   \n517924   517925  EDCS-01000427  HD032597   \n393007   393008  EDCS-33100449      None   \n\n                                trismegistos_uri pleiades_id  \\\n288843                                       NaN         NaN   \n337743                                       NaN         NaN   \n308822                                       NaN         NaN   \n399934                                       NaN         NaN   \n333812                                       NaN         NaN   \n393085                                       NaN         NaN   \n325639                                       NaN         NaN   \n393264                                       NaN         NaN   \n364072                                       NaN         NaN   \n344706                                       NaN         NaN   \n318998                                       NaN         NaN   \n341150                                       NaN         NaN   \n389016                                       NaN         NaN   \n312689                                       NaN         NaN   \n337656                                       NaN         NaN   \n364675                                       NaN         NaN   \n353236                                       NaN         NaN   \n372469                                       NaN         NaN   \n372568                                       NaN         NaN   \n299152                                       NaN         NaN   \n320759                                       NaN         NaN   \n515361  https://www.trismegistos.org/text/264766      423025   \n309212                                       NaN         NaN   \n358037                                       NaN         NaN   \n335205                                       NaN         NaN   \n379397                                       NaN         NaN   \n303103                                       NaN         NaN   \n306461                                       NaN         NaN   \n360705                                       NaN         NaN   \n295115                                       NaN         NaN   \n334920                                       NaN         NaN   \n367992                                       NaN         NaN   \n301433                                       NaN         NaN   \n304159                                       NaN         NaN   \n370635                                       NaN         NaN   \n311834                                       NaN         NaN   \n306086                                       NaN         NaN   \n346087                                       NaN         NaN   \n289439                                       NaN         NaN   \n349993                                       NaN         NaN   \n397423                                       NaN         NaN   \n356456                                       NaN         NaN   \n362707                                       NaN         NaN   \n396916                                       NaN         NaN   \n358073                                       NaN         NaN   \n309817                                       NaN         NaN   \n356898                                       NaN         NaN   \n518401  https://www.trismegistos.org/text/263224      423025   \n517924  https://www.trismegistos.org/text/262805      423025   \n393007                                       NaN         NaN   \n\n                                            transcription  \\\n288843                                                NaN   \n337743                                                NaN   \n308822                                                NaN   \n399934                                                NaN   \n333812                                                NaN   \n393085                                                NaN   \n325639                                                NaN   \n393264                                                NaN   \n364072                                                NaN   \n344706                                                NaN   \n318998                                                NaN   \n341150                                                NaN   \n389016                                                NaN   \n312689                                                NaN   \n337656                                                NaN   \n364675                                                NaN   \n353236                                                NaN   \n372469                                                NaN   \n372568                                                NaN   \n299152                                                NaN   \n320759                                                NaN   \n515361  D(is) M(anibus) / Aelia [Ama]stris f[ecit Ael(...   \n309212                                                NaN   \n358037                                                NaN   \n335205                                                NaN   \n379397                                                NaN   \n303103                                                NaN   \n306461                                                NaN   \n360705                                                NaN   \n295115                                                NaN   \n334920                                                NaN   \n367992                                                NaN   \n301433                                                NaN   \n304159                                                NaN   \n370635                                                NaN   \n311834                                                NaN   \n306086                                                NaN   \n346087                                                NaN   \n289439                                                NaN   \n349993                                                NaN   \n397423                                                NaN   \n356456                                                NaN   \n362707                                                NaN   \n396916                                                NaN   \n358073                                                NaN   \n309817                                                NaN   \n356898                                                NaN   \n518401  [Hic iacet] Gerontia / [quae vixi]t annos / [-...   \n517924  Q(uinto) Sulpic(io) Lucc[eio] / Victorino fil[...   \n393007                                                NaN   \n\n                                              inscription  \\\n288843  I(ovi) O(ptimo) / M(aximo) / Conservatori / M(...   \n337743  Op(us) dol(iare) ex pr(aediis) Aug(usti) n(ost...   \n308822  Ossa sita / M(arci) Claudi Marcel(li) / l(iber...   \n399934  ]lo / [3] ann(is) IX [3 d]ieb(us) X / [3] Ones...   \n333812  Dulcis anima / manet hic Polo/croni in loco / ...   \n393085                                           ]ius / [   \n325639  ]us Vic[3] / [3]iae Dubi[3] / [3] suae b(ene) ...   \n393264                                      Ar[3] / [3]O[   \n364072                                         S]terc[ori   \n344706                               L(uci) I() Silvestri   \n318998  D(is) M(anibus) / Ragoniae Piae uxori / Aureli...   \n341150  Gallicano et Vetere co(n)s(ulibus) opus fig(li...   \n389016          Secunda Pomph(a)e fili(a)e / carissim(a)e   \n312689  L(ucius) Geganius |(mulieris) l(ibertus) / Ian...   \n337656  Ex f(iglinis) Temp(esinis) Q(uinti) Ab(urni) C...   \n364675                ] / [3]λι+[3] / [3]στος ἐν ε[ἰρή]νῃ   \n353236  Cn(aei) Serg(i) Crateri et Iuli Hieracis / Ser...   \n372469                                          [3]oridi[   \n372568          ]us de su[o emit] / [domum se]mpiter[nam]   \n299152  Dis Manibus Laelia[e 3 coniugi] / carissimae f...   \n320759  A(ulus) Teiedius / Sindaeus / ollas II // Teie...   \n515361  Aelia [Ama]stris f[ecit Aelio A]/gaty[rso] mar...   \n309212  D(is) M(anibus) / Claudiae Felicitati / vix(it...   \n358037                                         ] in pa[ce   \n335205  Opus doliare ex praed(iis) Faustinae Aug(ustae...   \n379397  A]sclepio/[doto fil]io q(ui) [vixit an]no / [m...   \n303103  D(is) M(anibus) / Syntropho / Attiani ser(vo) ...   \n306461  D(is) M(anibus) / L(uci) Ateli L(uci) l(iberti...   \n360705  be]ne mere[nti 3] / [3 vix(it) ann(os)] p(lus)...   \n295115  C(aio) Valenti Hostilian[o] / Messio Quinto / ...   \n334920  Op(us) dol(iare) ex pr(aediis) Aug(usti) n(ost...   \n367992    Ino{o}centia in pace qu(a)e vixit annos / XXIII   \n301433                        Fortunata Apilla / Caecilia   \n304159  Numerus tr[ibulium 3] / quibus locis [frumentu...   \n370635                                     Ἀλεξα[νδ3] / [   \n311834  D(is) M(anibus) / T(itus) Flavius H<e=F>r/mes ...   \n306086    Sex(tus) Appuleius / Sex(ti) l(ibertus) Hilarus   \n346087                     D(ecimi) Caecili [3] // CCV[3]   \n289439  ]/nus se vivo sibi / comparavit et / suis lib(...   \n349993                                        Euty(ches?)   \n397423                                               ]ES[   \n356456                                                  ?   \n362707                 [Locus 3 quem se] vivo [comparavit   \n396916  Ἀλέξανδ[ρος τῇ ἰ]/δίᾳ σ<υ=Ι>μβ[ίῳ 3]/ρᾳ ἐποίη[...   \n358073  ]C[3] / [in pa]ce qui vix[it ann(os) 3] / [d]e...   \n309817  D(is) M(anibus) / Cominia Calli/ope Aemilio / ...   \n356898                ] Iulius [3] / [3 qu]i vixit an[nos   \n518401  Hic iacet Gerontia / qu(a)e vixit annos / XXXI...   \n517924  Q(uinto) Sulpic(io) Lucc[eio] / Victorino fil[...   \n393007  Prestantius Victori(a)e co(n)iugi dulcis[sima]...   \n\n                                  clean_text_conservative  \\\n288843  I O M Conservatori M Cl Demetrius VII vir epul...   \n337743      Op dol ex pr Aug n fig Terent L Aelio Phidele   \n308822                 Ossa sita M Claudi Marcel l Erotis   \n399934                       lo ann IX ieb X Onesimus fec   \n333812    Dulcis anima manet hic Polocroni in loco sancto   \n393085                                                ius   \n325639                      us Vic iae Dubi suae b m ilia   \n393264                                               Ar O   \n364072                                           Stercori   \n344706                                      L I Silvestri   \n318998  D M Ragoniae Piae uxori Aureli Hermetis parent...   \n341150  Gallicano et Vetere cos opus fig offic Iuliae ...   \n389016                     Secunda Pomphe filie carissime   \n312689             L Geganius l Ianuarius vixit annos duo   \n337656         Ex f Temp Q Ab Caed Vis For Apr et Pae cos   \n364675                                    λι στος ἐν ε νῃ   \n353236  Cn Serg Crateri et Iuli Hieracis Servius Salvi...   \n372469                                              oridi   \n372568                                    us de su mpiter   \n299152  Dis Manibus Laelia carissimae fec Liberalis La...   \n320759       A Teiedius Sindaeus ollas II Teiedia l Micce   \n515361        D M Aelia stris fgaty marinti et berti posq   \n309212  D M Claudiae Felicitati vix a XVIII m III d VI...   \n358037                                            in pace   \n335205  Opus doliare ex praed Faustinae Aug n ex figl ...   \n379397                 Asclepio io q no m r Gem merenti t   \n303103  D M Syntropho Attiani ser aCuario Vettia Resti...   \n306461                            D M L Ateli L l Vitalis   \n360705                           bene mere p m LXX SEIRVM   \n295115  C Valenti Hostilian Messio Quinto nobilissimo ...   \n334920    Op dol ex pr Aug n fig Dom min Aemiliae Romanae   \n367992           Inoocentia in pace que vixit annos XXIII   \n301433                          Fortunata Apilla Caecilia   \n304159  Numerus tr quibus locis Pal h IIIICLXXXXI i Su...   \n370635                                              Ἀλεξα   \n311834  D M T Flavius HFrmes et Flavia edone fecerunt ...   \n306086                        Sex Appuleius Sex l Hilarus   \n346087                                      D Caecili CCV   \n289439        nus se vivo sibi comparavit et suis lib que   \n349993                                               Euty   \n397423                                                 ES   \n356456                                                      \n362707                                    vivo comparavit   \n396916  Ἀλέξανδ δίᾳ σΙμβ ρᾳ ἐποίη χάριν ἐτ τὰ ς ἐβ ἔτη...   \n358073               C ce qui vix ep Honor odio v c conss   \n309817  D M Cominia Calliope Aemilio Zosimo coniugi b ...   \n356898                               Iulius i vixit annos   \n518401  Gerontia t annos enses III d XIII II Kl Octob ...   \n517924  Q Sulpic Lucc Victorino fil dulcissimo e publi...   \n393007  Prestantius Victorie coiugi dulcis e que vixit...   \n\n                         clean_text_interpretive_sentence  \\\n288843                                                NaN   \n337743                                                NaN   \n308822                                                NaN   \n399934                                                NaN   \n333812                                                NaN   \n393085                                                NaN   \n325639                                                NaN   \n393264                                                NaN   \n364072                                                NaN   \n344706                                                NaN   \n318998                                                NaN   \n341150                                                NaN   \n389016                                                NaN   \n312689                                                NaN   \n337656                                                NaN   \n364675                                                NaN   \n353236                                                NaN   \n372469                                                NaN   \n372568                                                NaN   \n299152                                                NaN   \n320759                                                NaN   \n515361  Dis Manibus Aelia Amastris fecit Aelio Agathyr...   \n309212                                                NaN   \n358037                                                NaN   \n335205                                                NaN   \n379397                                                NaN   \n303103                                                NaN   \n306461                                                NaN   \n360705                                                NaN   \n295115                                                NaN   \n334920                                                NaN   \n367992                                                NaN   \n301433                                                NaN   \n304159                                                NaN   \n370635                                                NaN   \n311834                                                NaN   \n306086                                                NaN   \n346087                                                NaN   \n289439                                                NaN   \n349993                                                NaN   \n397423                                                NaN   \n356456                                                NaN   \n362707                                                NaN   \n396916                                                NaN   \n358073                                                NaN   \n309817                                                NaN   \n356898                                                NaN   \n518401  Hic iacet Gerontia quae vixit annos et menses ...   \n517924  Quinto Sulpicio Lucceio Victorino filio dulcis...   \n393007                                                NaN   \n\n                             clean_text_interpretive_word  \\\n288843  Iovi Optimo Maximo Conservatori Marcus Claudiu...   \n337743  Opus doliare ex praediis Augusti nostri figlin...   \n308822     Ossa sita Marci Claudi Marcelli liberti Erotis   \n399934                lo annis IX diebus X Onesimus fecit   \n333812    Dulcis anima manet hic Polocroni in loco sancto   \n393085                                                ius   \n325639             us Vic iae Dubi suae bene merenti ilia   \n393264                                               Ar O   \n364072                                           Stercori   \n344706                                   Luci I Silvestri   \n318998  Dis Manibus Ragoniae Piae uxori Aureli Hermeti...   \n341150  Gallicano et Vetere consulibus opus figlinum o...   \n389016                  Secunda Pomphae filiae carissimae   \n312689  Lucius Geganius mulieris libertus Ianuarius vi...   \n337656  Ex figlinis Tempesinis Quinti Aburni Caedician...   \n364675                                  λι στος ἐν εἰρήνῃ   \n353236  Cnaei Sergi Crateri et Iuli Hieracis Servius S...   \n372469                                              oridi   \n372568                   us de suo emit domum sempiternam   \n299152  Dis Manibus Laeliae coniugi carissimae fecit L...   \n320759  Aulus Teiedius Sindaeus ollas II Teiedia mulie...   \n515361  Dis Manibus Aelia Amastris fecit Aelio Agathyr...   \n309212  Dis Manibus Claudiae Felicitati vixit annos XV...   \n358037                                            in pace   \n335205  Opus doliare ex praediis Faustinae Augustae no...   \n379397  Asclepiodoto filio qui vixit anno mensibus sep...   \n303103  Dis Manibus Syntropho Attiani servo aquario Ve...   \n306461        Dis Manibus Luci Ateli Luci liberti Vitalis   \n360705     bene merenti vixit annos plus minus LXX SEIRVM   \n295115  Caio Valenti Hostiliano Messio Quinto nobiliss...   \n334920  Opus doliare ex praediis Augusti nostri figlin...   \n367992           Inocentia in pace quae vixit annos XXIII   \n301433                          Fortunata Apilla Caecilia   \n304159  Numerus tribulium quibus locis frumentum accip...   \n370635                                            Ἀλεξανδ   \n311834  Dis Manibus Titus Flavius Hermes et Flavia Hed...   \n306086            Sextus Appuleius Sexti libertus Hilarus   \n346087                                 Decimi Caecili CCV   \n289439   nus se vivo sibi comparavit et suis libertis que   \n349993                                           Eutyches   \n397423                                                 ES   \n356456                                                      \n362707                      Locus quem se vivo comparavit   \n396916  Ἀλέξανδρος τῇ ἰδίᾳ συμβίῳ ρᾳ ἐποίησε μνείας χά...   \n358073  C in pace qui vixit annos depositus Honorio no...   \n309817  Dis Manibus Cominia Calliope Aemilio Zosimo co...   \n356898                             Iulius qui vixit annos   \n518401  Hic iacet Gerontia quae vixit annos et menses ...   \n517924  Quinto Sulpicio Lucceio Victorino filio dulcis...   \n393007  Prestantius Victoriae coniugi dulcissimae quae...   \n\n                        clean_text_interpretive_word_EDCS  \\\n288843  Iovi Optimo Maximo Conservatori Marcus Claudiu...   \n337743  Opus doliare ex praediis Augusti nostri figlin...   \n308822     Ossa sita Marci Claudi Marcelli liberti Erotis   \n399934                lo annis IX diebus X Onesimus fecit   \n333812    Dulcis anima manet hic Polocroni in loco sancto   \n393085                                                ius   \n325639             us Vic iae Dubi suae bene merenti ilia   \n393264                                               Ar O   \n364072                                           Stercori   \n344706                                   Luci I Silvestri   \n318998  Dis Manibus Ragoniae Piae uxori Aureli Hermeti...   \n341150  Gallicano et Vetere consulibus opus figlinum o...   \n389016                  Secunda Pomphae filiae carissimae   \n312689  Lucius Geganius mulieris libertus Ianuarius vi...   \n337656  Ex figlinis Tempesinis Quinti Aburni Caedician...   \n364675                                  λι στος ἐν εἰρήνῃ   \n353236  Cnaei Sergi Crateri et Iuli Hieracis Servius S...   \n372469                                              oridi   \n372568                   us de suo emit domum sempiternam   \n299152  Dis Manibus Laeliae coniugi carissimae fecit L...   \n320759  Aulus Teiedius Sindaeus ollas II Teiedia mulie...   \n515361  Aelia Amastris fecit Aelio Agatyrso marito ben...   \n309212  Dis Manibus Claudiae Felicitati vixit annos XV...   \n358037                                            in pace   \n335205  Opus doliare ex praediis Faustinae Augustae no...   \n379397  Asclepiodoto filio qui vixit anno mensibus sep...   \n303103  Dis Manibus Syntropho Attiani servo aquario Ve...   \n306461        Dis Manibus Luci Ateli Luci liberti Vitalis   \n360705     bene merenti vixit annos plus minus LXX SEIRVM   \n295115  Caio Valenti Hostiliano Messio Quinto nobiliss...   \n334920  Opus doliare ex praediis Augusti nostri figlin...   \n367992           Inocentia in pace quae vixit annos XXIII   \n301433                          Fortunata Apilla Caecilia   \n304159  Numerus tribulium quibus locis frumentum accip...   \n370635                                            Ἀλεξανδ   \n311834  Dis Manibus Titus Flavius Hermes et Flavia Hed...   \n306086            Sextus Appuleius Sexti libertus Hilarus   \n346087                                 Decimi Caecili CCV   \n289439   nus se vivo sibi comparavit et suis libertis que   \n349993                                           Eutyches   \n397423                                                 ES   \n356456                                                      \n362707                      Locus quem se vivo comparavit   \n396916  Ἀλέξανδρος τῇ ἰδίᾳ συμβίῳ ρᾳ ἐποίησε μνείας χά...   \n358073  C in pace qui vixit annos depositus Honorio no...   \n309817  Dis Manibus Cominia Calliope Aemilio Zosimo co...   \n356898                             Iulius qui vixit annos   \n518401  Hic iacet Gerontia quae vixit annos XXXIIII me...   \n517924  Quinto Sulpicio Lucceio Victorino filio dulcis...   \n393007  Prestantius Victoriae coniugi dulcissimae quae...   \n\n                                          diplomatic_text province place  \\\n288843                                                NaN     Roma  Roma   \n337743                                                NaN     Roma  Roma   \n308822                                                NaN     Roma  Roma   \n399934                                                NaN     Roma  Roma   \n333812                                                NaN     Roma  Roma   \n393085                                                NaN     Roma  Roma   \n325639                                                NaN     Roma  Roma   \n393264                                                NaN     Roma  Roma   \n364072                                                NaN     Roma  Roma   \n344706                                                NaN     Roma  Roma   \n318998                                                NaN     Roma  Roma   \n341150                                                NaN     Roma  Roma   \n389016                                                NaN     Roma  Roma   \n312689                                                NaN     Roma  Roma   \n337656                                                NaN     Roma  Roma   \n364675                                                NaN     Roma  Roma   \n353236                                                NaN     Roma  Roma   \n372469                                                NaN     Roma  Roma   \n372568                                                NaN     Roma  Roma   \n299152                                                NaN     Roma  Roma   \n320759                                                NaN     Roma  Roma   \n515361  D M / AELIA [ ]STRIS F[ ] / GATY[ ] MARI[ ] / ...     Roma  Roma   \n309212                                                NaN     Roma  Roma   \n358037                                                NaN     Roma  Roma   \n335205                                                NaN     Roma  Roma   \n379397                                                NaN     Roma  Roma   \n303103                                                NaN     Roma  Roma   \n306461                                                NaN     Roma  Roma   \n360705                                                NaN     Roma  Roma   \n295115                                                NaN     Roma  Roma   \n334920                                                NaN     Roma  Roma   \n367992                                                NaN     Roma  Roma   \n301433                                                NaN     Roma  Roma   \n304159                                                NaN     Roma  Roma   \n370635                                                NaN     Roma  Roma   \n311834                                                NaN     Roma  Roma   \n306086                                                NaN     Roma  Roma   \n346087                                                NaN     Roma  Roma   \n289439                                                NaN     Roma  Roma   \n349993                                                NaN     Roma  Roma   \n397423                                                NaN     Roma  Roma   \n356456                                                NaN     Roma  Roma   \n362707                                                NaN     Roma  Roma   \n396916                                                NaN     Roma  Roma   \n358073                                                NaN     Roma  Roma   \n309817                                                NaN     Roma  Roma   \n356898                                                NaN     Roma  Roma   \n518401  [ ] GERONTIA / [ ]T ANNOS / [ ]ENSES III D XII...     Roma  Roma   \n517924  Q SVLPIC LVCC[ ] / VICTORINO FIL[ ] / DVLCISSI...     Roma  Roma   \n393007                                                NaN     Roma  Roma   \n\n                                           inscr_type  \\\n288843                                   tituli sacri   \n337743                           tituli fabricationis   \n308822                             tituli sepulcrales   \n399934                                            NaN   \n333812  inscriptiones christianae, tituli sepulcrales   \n393085  inscriptiones christianae, tituli sepulcrales   \n325639                                            NaN   \n393264  inscriptiones christianae, tituli sepulcrales   \n364072  inscriptiones christianae, tituli sepulcrales   \n344706                           tituli fabricationis   \n318998                             tituli sepulcrales   \n341150                           tituli fabricationis   \n389016  inscriptiones christianae, tituli sepulcrales   \n312689                             tituli sepulcrales   \n337656                           tituli fabricationis   \n364675  inscriptiones christianae, tituli sepulcrales   \n353236                           tituli fabricationis   \n372469  inscriptiones christianae, tituli sepulcrales   \n372568  inscriptiones christianae, tituli sepulcrales   \n299152                             tituli sepulcrales   \n320759              tituli operum, tituli sepulcrales   \n515361                                            NaN   \n309212                             tituli sepulcrales   \n358037  inscriptiones christianae, tituli sepulcrales   \n335205                           tituli fabricationis   \n379397  inscriptiones christianae, tituli sepulcrales   \n303103                             tituli sepulcrales   \n306461                             tituli sepulcrales   \n360705  inscriptiones christianae, tituli sepulcrales   \n295115                               tituli honorarii   \n334920                           tituli fabricationis   \n367992  inscriptiones christianae, tituli sepulcrales   \n301433                                            NaN   \n304159                                            NaN   \n370635  inscriptiones christianae, tituli sepulcrales   \n311834                             tituli sepulcrales   \n306086                                            NaN   \n346087                                            NaN   \n289439                                            NaN   \n349993                                            NaN   \n397423                                            NaN   \n356456                                            NaN   \n362707  inscriptiones christianae, tituli sepulcrales   \n396916                                            NaN   \n358073  inscriptiones christianae, tituli sepulcrales   \n309817                             tituli sepulcrales   \n356898  inscriptiones christianae, tituli sepulcrales   \n518401  inscriptiones christianae, tituli sepulcrales   \n517924                             tituli sepulcrales   \n393007  inscriptiones christianae, tituli sepulcrales   \n\n                                          status_notation     inscr_process  \\\n288843               sacerdotes pagani, tria nomina, viri               NaN   \n337743                                                NaN  sigilla impressa   \n308822  liberti/libertae, nomen singulare, tria nomina...               NaN   \n399934                                                NaN               NaN   \n333812                              nomen singulare, viri               NaN   \n393085                                                NaN               NaN   \n325639                                                NaN               NaN   \n393264                                                NaN               NaN   \n364072                                                NaN               NaN   \n344706                                                NaN  sigilla impressa   \n318998                        mulieres, tria nomina, viri               NaN   \n341150                                                NaN  sigilla impressa   \n389016                          mulieres, nomen singulare               NaN   \n312689                liberti/libertae, tria nomina, viri               NaN   \n337656                                                NaN  sigilla impressa   \n364675                                                NaN               NaN   \n353236                                  tria nomina, viri               NaN   \n372469                                                NaN               NaN   \n372568                                                NaN               NaN   \n299152                                     mulieres, viri               NaN   \n320759      liberti/libertae, mulieres, tria nomina, viri               NaN   \n515361                                   liberti/libertae               NaN   \n309212                        mulieres, tria nomina, viri               NaN   \n358037                                                NaN               NaN   \n335205                                                NaN  sigilla impressa   \n379397                                               viri               NaN   \n303103                       mulieres, servi/servae, viri               NaN   \n306461                                   liberti/libertae               NaN   \n360705                                                NaN               NaN   \n295115                             Augusti/Augustae, viri               NaN   \n334920                                                NaN  sigilla impressa   \n367992                          mulieres, nomen singulare               NaN   \n301433                                                NaN               NaN   \n304159                                                NaN               NaN   \n370635                                                NaN               NaN   \n311834       mulieres, nomen singulare, tria nomina, viri               NaN   \n306086                                   liberti/libertae               NaN   \n346087                                                NaN               NaN   \n289439                                   liberti/libertae               NaN   \n349993                                                NaN               NaN   \n397423                                                NaN               NaN   \n356456                                                NaN               NaN   \n362707                                               viri               NaN   \n396916                                                NaN               NaN   \n358073                                    ordo senatorius               NaN   \n309817                        mulieres, tria nomina, viri               NaN   \n356898                                               viri               NaN   \n518401                          mulieres, nomen singulare               NaN   \n517924                   ordo equester, tria nomina, viri               NaN   \n393007                    mulieres, nomen singulare, viri               NaN   \n\n                                                   status  \\\n288843  sacerdotes pagani;  tituli sacri;  tria nomina...   \n337743            sigilla impressa;  tituli fabricationis   \n308822  liberti/libertae;  nomen singulare;  tituli se...   \n399934                                                NaN   \n333812  inscriptiones christianae;  nomen singulare;  ...   \n393085     inscriptiones christianae;  tituli sepulcrales   \n325639                                                NaN   \n393264     inscriptiones christianae;  tituli sepulcrales   \n364072     inscriptiones christianae;  tituli sepulcrales   \n344706            sigilla impressa;  tituli fabricationis   \n318998  mulieres;  tituli sepulcrales;  tria nomina;  ...   \n341150            sigilla impressa;  tituli fabricationis   \n389016  inscriptiones christianae;  mulieres;  nomen s...   \n312689  liberti/libertae;  tituli sepulcrales;  tria n...   \n337656            sigilla impressa;  tituli fabricationis   \n364675     inscriptiones christianae;  tituli sepulcrales   \n353236          tituli fabricationis;  tria nomina;  viri   \n372469     inscriptiones christianae;  tituli sepulcrales   \n372568     inscriptiones christianae;  tituli sepulcrales   \n299152               mulieres;  tituli sepulcrales;  viri   \n320759  liberti/libertae;  mulieres;  tituli operum;  ...   \n515361                                   liberti/libertae   \n309212  mulieres;  tituli sepulcrales;  tria nomina;  ...   \n358037     inscriptiones christianae;  tituli sepulcrales   \n335205            sigilla impressa;  tituli fabricationis   \n379397  inscriptiones christianae;  tituli sepulcrales...   \n303103  mulieres;  servi/servae;  tituli sepulcrales; ...   \n306461              liberti/libertae;  tituli sepulcrales   \n360705     inscriptiones christianae;  tituli sepulcrales   \n295115         Augusti/Augustae;  tituli honorarii;  viri   \n334920            sigilla impressa;  tituli fabricationis   \n367992  inscriptiones christianae;  mulieres;  nomen s...   \n301433                                                NaN   \n304159                                                NaN   \n370635     inscriptiones christianae;  tituli sepulcrales   \n311834  mulieres;  nomen singulare;  tituli sepulcrale...   \n306086                                   liberti/libertae   \n346087                                                NaN   \n289439                                   liberti/libertae   \n349993                                                NaN   \n397423                                                NaN   \n356456                                                NaN   \n362707  inscriptiones christianae;  tituli sepulcrales...   \n396916                                                NaN   \n358073  inscriptiones christianae;  ordo senatorius;  ...   \n309817  mulieres;  tituli sepulcrales;  tria nomina;  ...   \n356898  inscriptiones christianae;  tituli sepulcrales...   \n518401  inscriptiones christianae;  mulieres;  nomen s...   \n517924  ordo equester;  tituli sepulcrales;  tria nomi...   \n393007  inscriptiones christianae;  mulieres;  nomen s...   \n\n                                             partner_link last_update  \\\n288843  http://db.edcs.eu/epigr/partner.php?s_language...         NaN   \n337743                                                NaN         NaN   \n308822                                                NaN         NaN   \n399934  http://db.edcs.eu/epigr/partner.php?s_language...         NaN   \n333812  http://db.edcs.eu/epigr/partner.php?s_language...         NaN   \n393085  http://db.edcs.eu/epigr/partner.php?s_language...         NaN   \n325639                                                NaN         NaN   \n393264  http://db.edcs.eu/epigr/partner.php?s_language...         NaN   \n364072  http://db.edcs.eu/epigr/partner.php?s_language...         NaN   \n344706  http://db.edcs.eu/epigr/partner.php?s_language...         NaN   \n318998  http://db.edcs.eu/epigr/partner.php?s_language...         NaN   \n341150                                                NaN         NaN   \n389016  http://db.edcs.eu/epigr/partner.php?s_language...         NaN   \n312689  http://db.edcs.eu/epigr/partner.php?s_language...         NaN   \n337656                                                NaN         NaN   \n364675  http://db.edcs.eu/epigr/partner.php?s_language...         NaN   \n353236  http://db.edcs.eu/epigr/partner.php?s_language...         NaN   \n372469  http://db.edcs.eu/epigr/partner.php?s_language...         NaN   \n372568  http://db.edcs.eu/epigr/partner.php?s_language...         NaN   \n299152  http://db.edcs.eu/epigr/partner.php?s_language...         NaN   \n320759  http://db.edcs.eu/epigr/partner.php?s_language...         NaN   \n515361  http://db.edcs.eu/epigr/partner.php?s_language...  2012-02-17   \n309212                                                NaN         NaN   \n358037  http://db.edcs.eu/epigr/partner.php?s_language...         NaN   \n335205                                                NaN         NaN   \n379397  http://db.edcs.eu/epigr/partner.php?s_language...         NaN   \n303103  http://db.edcs.eu/epigr/partner.php?s_language...         NaN   \n306461  http://db.edcs.eu/epigr/partner.php?s_language...         NaN   \n360705  http://db.edcs.eu/epigr/partner.php?s_language...         NaN   \n295115  http://db.edcs.eu/epigr/partner.php?s_language...         NaN   \n334920                                                NaN         NaN   \n367992  http://db.edcs.eu/epigr/partner.php?s_language...         NaN   \n301433  http://db.edcs.eu/epigr/partner.php?s_language...         NaN   \n304159  http://db.edcs.eu/epigr/partner.php?s_language...         NaN   \n370635  http://db.edcs.eu/epigr/partner.php?s_language...         NaN   \n311834  http://db.edcs.eu/epigr/partner.php?s_language...         NaN   \n306086                                                NaN         NaN   \n346087                                                NaN         NaN   \n289439  http://db.edcs.eu/epigr/partner.php?s_language...         NaN   \n349993                                                NaN         NaN   \n397423                                                NaN         NaN   \n356456                                                NaN         NaN   \n362707  http://db.edcs.eu/epigr/partner.php?s_language...         NaN   \n396916  http://db.edcs.eu/epigr/partner.php?s_language...         NaN   \n358073  http://db.edcs.eu/epigr/partner.php?s_language...         NaN   \n309817  http://db.edcs.eu/epigr/partner.php?s_language...         NaN   \n356898  http://db.edcs.eu/epigr/partner.php?s_language...         NaN   \n518401  http://db.edcs.eu/epigr/partner.php?s_language...  2015-05-26   \n517924  http://db.edcs.eu/epigr/partner.php?s_language...  2007-07-19   \n393007  http://db.edcs.eu/epigr/partner.php?s_language...         NaN   \n\n       letter_size type_of_inscription           work_status  year_of_find  \\\n288843         NaN                 NaN                   NaN           NaN   \n337743         NaN                 NaN                   NaN           NaN   \n308822         NaN                 NaN                   NaN           NaN   \n399934         NaN                 NaN                   NaN           NaN   \n333812         NaN                 NaN                   NaN           NaN   \n393085         NaN                 NaN                   NaN           NaN   \n325639         NaN                 NaN                   NaN           NaN   \n393264         NaN                 NaN                   NaN           NaN   \n364072         NaN                 NaN                   NaN           NaN   \n344706         NaN                 NaN                   NaN           NaN   \n318998         NaN                 NaN                   NaN           NaN   \n341150         NaN                 NaN                   NaN           NaN   \n389016         NaN                 NaN                   NaN           NaN   \n312689         NaN                 NaN                   NaN           NaN   \n337656         NaN                 NaN                   NaN           NaN   \n364675         NaN                 NaN                   NaN           NaN   \n353236         NaN                 NaN                   NaN           NaN   \n372469         NaN                 NaN                   NaN           NaN   \n372568         NaN                 NaN                   NaN           NaN   \n299152         NaN                 NaN                   NaN           NaN   \n320759         NaN                 NaN                   NaN           NaN   \n515361  4.2-2.7 cm             epitaph  checked with drawing           NaN   \n309212         NaN                 NaN                   NaN           NaN   \n358037         NaN                 NaN                   NaN           NaN   \n335205         NaN                 NaN                   NaN           NaN   \n379397         NaN                 NaN                   NaN           NaN   \n303103         NaN                 NaN                   NaN           NaN   \n306461         NaN                 NaN                   NaN           NaN   \n360705         NaN                 NaN                   NaN           NaN   \n295115         NaN                 NaN                   NaN           NaN   \n334920         NaN                 NaN                   NaN           NaN   \n367992         NaN                 NaN                   NaN           NaN   \n301433         NaN                 NaN                   NaN           NaN   \n304159         NaN                 NaN                   NaN           NaN   \n370635         NaN                 NaN                   NaN           NaN   \n311834         NaN                 NaN                   NaN           NaN   \n306086         NaN                 NaN                   NaN           NaN   \n346087         NaN                 NaN                   NaN           NaN   \n289439         NaN                 NaN                   NaN           NaN   \n349993         NaN                 NaN                   NaN           NaN   \n397423         NaN                 NaN                   NaN           NaN   \n356456         NaN                 NaN                   NaN           NaN   \n362707         NaN                 NaN                   NaN           NaN   \n396916         NaN                 NaN                   NaN           NaN   \n358073         NaN                 NaN                   NaN           NaN   \n309817         NaN                 NaN                   NaN           NaN   \n356898         NaN                 NaN                   NaN           NaN   \n518401         NaN                 NaN           provisional           NaN   \n517924      5-3 cm             epitaph    checked with photo           NaN   \n393007         NaN                 NaN                   NaN           NaN   \n\n          present_location                                       text_edition  \\\n288843                 NaN                                                NaN   \n337743                 NaN                                                NaN   \n308822                 NaN                                                NaN   \n399934                 NaN                                                NaN   \n333812                 NaN                                                NaN   \n393085                 NaN                                                NaN   \n325639                 NaN                                                NaN   \n393264                 NaN                                                NaN   \n364072                 NaN                                                NaN   \n344706                 NaN                                                NaN   \n318998                 NaN                                                NaN   \n341150                 NaN                                                NaN   \n389016                 NaN                                                NaN   \n312689                 NaN                                                NaN   \n337656                 NaN                                                NaN   \n364675                 NaN                                                NaN   \n353236                 NaN                                                NaN   \n372469                 NaN                                                NaN   \n372568                 NaN                                                NaN   \n299152                 NaN                                                NaN   \n320759                 NaN                                                NaN   \n515361                 NaN  \\n Dis Manibus Aelia Amastris fecit Aelio Agat...   \n309212                 NaN                                                NaN   \n358037                 NaN                                                NaN   \n335205                 NaN                                                NaN   \n379397                 NaN                                                NaN   \n303103                 NaN                                                NaN   \n306461                 NaN                                                NaN   \n360705                 NaN                                                NaN   \n295115                 NaN                                                NaN   \n334920                 NaN                                                NaN   \n367992                 NaN                                                NaN   \n301433                 NaN                                                NaN   \n304159                 NaN                                                NaN   \n370635                 NaN                                                NaN   \n311834                 NaN                                                NaN   \n306086                 NaN                                                NaN   \n346087                 NaN                                                NaN   \n289439                 NaN                                                NaN   \n349993                 NaN                                                NaN   \n397423                 NaN                                                NaN   \n356456                 NaN                                                NaN   \n362707                 NaN                                                NaN   \n396916                 NaN                                                NaN   \n358073                 NaN                                                NaN   \n309817                 NaN                                                NaN   \n356898                 NaN                                                NaN   \n518401                 NaN  \\n Hic iacet Gerontia quae vixit annos et mens...   \n517924  Roma, Antiq. Celio  \\n Quinto Sulpicio Lucceio Victorino filio dul...   \n393007                 NaN                                                NaN   \n\n       support_objecttype support_material support_decoration keywords_term  \\\n288843                NaN              NaN                NaN           NaN   \n337743                NaN              NaN                NaN           NaN   \n308822                NaN              NaN                NaN           NaN   \n399934                NaN              NaN                NaN           NaN   \n333812                NaN              NaN                NaN           NaN   \n393085                NaN              NaN                NaN           NaN   \n325639                NaN              NaN                NaN           NaN   \n393264                NaN              NaN                NaN           NaN   \n364072                NaN              NaN                NaN           NaN   \n344706                NaN              NaN                NaN           NaN   \n318998                NaN              NaN                NaN           NaN   \n341150                NaN              NaN                NaN           NaN   \n389016                NaN              NaN                NaN           NaN   \n312689                NaN              NaN                NaN           NaN   \n337656                NaN              NaN                NaN           NaN   \n364675                NaN              NaN                NaN           NaN   \n353236                NaN              NaN                NaN           NaN   \n372469                NaN              NaN                NaN           NaN   \n372568                NaN              NaN                NaN           NaN   \n299152                NaN              NaN                NaN           NaN   \n320759                NaN              NaN                NaN           NaN   \n515361                257              NaN               1000            92   \n309212                NaN              NaN                NaN           NaN   \n358037                NaN              NaN                NaN           NaN   \n335205                NaN              NaN                NaN           NaN   \n379397                NaN              NaN                NaN           NaN   \n303103                NaN              NaN                NaN           NaN   \n306461                NaN              NaN                NaN           NaN   \n360705                NaN              NaN                NaN           NaN   \n295115                NaN              NaN                NaN           NaN   \n334920                NaN              NaN                NaN           NaN   \n367992                NaN              NaN                NaN           NaN   \n301433                NaN              NaN                NaN           NaN   \n304159                NaN              NaN                NaN           NaN   \n370635                NaN              NaN                NaN           NaN   \n311834                NaN              NaN                NaN           NaN   \n306086                NaN              NaN                NaN           NaN   \n346087                NaN              NaN                NaN           NaN   \n289439                NaN              NaN                NaN           NaN   \n349993                NaN              NaN                NaN           NaN   \n397423                NaN              NaN                NaN           NaN   \n356456                NaN              NaN                NaN           NaN   \n362707                NaN              NaN                NaN           NaN   \n396916                NaN              NaN                NaN           NaN   \n358073                NaN              NaN                NaN           NaN   \n309817                NaN              NaN                NaN           NaN   \n356898                NaN              NaN                NaN           NaN   \n518401                NaN              NaN               1000           143   \n517924                189              NaN               1000            92   \n393007                NaN              NaN                NaN           NaN   \n\n                                                   people  \\\n288843                                                 []   \n337743                                                 []   \n308822                                                 []   \n399934                                                 []   \n333812                                                 []   \n393085                                                 []   \n325639                                                 []   \n393264                                                 []   \n364072                                                 []   \n344706                                                 []   \n318998                                                 []   \n341150                                                 []   \n389016                                                 []   \n312689                                                 []   \n337656                                                 []   \n364675                                                 []   \n353236                                                 []   \n372469                                                 []   \n372568                                                 []   \n299152                                                 []   \n320759                                                 []   \n515361  [{'persname': {'name': [{'@type': 'nomen', '#t...   \n309212                                                 []   \n358037                                                 []   \n335205                                                 []   \n379397                                                 []   \n303103                                                 []   \n306461                                                 []   \n360705                                                 []   \n295115                                                 []   \n334920                                                 []   \n367992                                                 []   \n301433                                                 []   \n304159                                                 []   \n370635                                                 []   \n311834                                                 []   \n306086                                                 []   \n346087                                                 []   \n289439                                                 []   \n349993                                                 []   \n397423                                                 []   \n356456                                                 []   \n362707                                                 []   \n396916                                                 []   \n358073                                                 []   \n309817                                                 []   \n356898                                                 []   \n518401  [{'persname': {'name': {'@type': 'cognomen', '...   \n517924  [{'persname': {'name': [{'@type': 'praenomen',...   \n393007                                                 []   \n\n       type_of_inscription_clean  type_of_inscription_certainty  height_cm  \\\n288843                       NaN                          False        NaN   \n337743                       NaN                          False        NaN   \n308822                       NaN                          False        NaN   \n399934                       NaN                          False        NaN   \n333812                       NaN                          False        NaN   \n393085                       NaN                          False        NaN   \n325639                       NaN                          False        NaN   \n393264                       NaN                          False        NaN   \n364072                       NaN                          False        NaN   \n344706                       NaN                          False        NaN   \n318998                       NaN                          False        NaN   \n341150                       NaN                          False        NaN   \n389016                       NaN                          False        NaN   \n312689                       NaN                          False        NaN   \n337656                       NaN                          False        NaN   \n364675                       NaN                          False        NaN   \n353236                       NaN                          False        NaN   \n372469                       NaN                          False        NaN   \n372568                       NaN                          False        NaN   \n299152                       NaN                          False        NaN   \n320759                       NaN                          False        NaN   \n515361                   epitaph                          False       17.0   \n309212                       NaN                          False        NaN   \n358037                       NaN                          False        NaN   \n335205                       NaN                          False        NaN   \n379397                       NaN                          False        NaN   \n303103                       NaN                          False        NaN   \n306461                       NaN                          False        NaN   \n360705                       NaN                          False        NaN   \n295115                       NaN                          False        NaN   \n334920                       NaN                          False        NaN   \n367992                       NaN                          False        NaN   \n301433                       NaN                          False        NaN   \n304159                       NaN                          False        NaN   \n370635                       NaN                          False        NaN   \n311834                       NaN                          False        NaN   \n306086                       NaN                          False        NaN   \n346087                       NaN                          False        NaN   \n289439                       NaN                          False        NaN   \n349993                       NaN                          False        NaN   \n397423                       NaN                          False        NaN   \n356456                       NaN                          False        NaN   \n362707                       NaN                          False        NaN   \n396916                       NaN                          False        NaN   \n358073                       NaN                          False        NaN   \n309817                       NaN                          False        NaN   \n356898                       NaN                          False        NaN   \n518401                      NULL                          False        NaN   \n517924                   epitaph                          False       36.0   \n393007                       NaN                          False        NaN   \n\n        width_cm  depth_cm material_clean type_of_monument_clean  \\\n288843       NaN       NaN            NaN                    NaN   \n337743       NaN       NaN            NaN                    NaN   \n308822       NaN       NaN            NaN                    NaN   \n399934       NaN       NaN            NaN                    NaN   \n333812       NaN       NaN            NaN                    NaN   \n393085       NaN       NaN            NaN                    NaN   \n325639       NaN       NaN            NaN                    NaN   \n393264       NaN       NaN            NaN                    NaN   \n364072       NaN       NaN            NaN                    NaN   \n344706       NaN       NaN            NaN                    NaN   \n318998       NaN       NaN            NaN                    NaN   \n341150       NaN       NaN            NaN                    NaN   \n389016       NaN       NaN            NaN                    NaN   \n312689       NaN       NaN            NaN                    NaN   \n337656       NaN       NaN            NaN                    NaN   \n364675       NaN       NaN            NaN                    NaN   \n353236       NaN       NaN            NaN                    NaN   \n372469       NaN       NaN            NaN                    NaN   \n372568       NaN       NaN            NaN                    NaN   \n299152       NaN       NaN            NaN                    NaN   \n320759       NaN       NaN            NaN                    NaN   \n515361      27.0       2.0           NULL                 tabula   \n309212       NaN       NaN            NaN                    NaN   \n358037       NaN       NaN            NaN                    NaN   \n335205       NaN       NaN            NaN                    NaN   \n379397       NaN       NaN            NaN                    NaN   \n303103       NaN       NaN            NaN                    NaN   \n306461       NaN       NaN            NaN                    NaN   \n360705       NaN       NaN            NaN                    NaN   \n295115       NaN       NaN            NaN                    NaN   \n334920       NaN       NaN            NaN                    NaN   \n367992       NaN       NaN            NaN                    NaN   \n301433       NaN       NaN            NaN                    NaN   \n304159       NaN       NaN            NaN                    NaN   \n370635       NaN       NaN            NaN                    NaN   \n311834       NaN       NaN            NaN                    NaN   \n306086       NaN       NaN            NaN                    NaN   \n346087       NaN       NaN            NaN                    NaN   \n289439       NaN       NaN            NaN                    NaN   \n349993       NaN       NaN            NaN                    NaN   \n397423       NaN       NaN            NaN                    NaN   \n356456       NaN       NaN            NaN                    NaN   \n362707       NaN       NaN            NaN                    NaN   \n396916       NaN       NaN            NaN                    NaN   \n358073       NaN       NaN            NaN                    NaN   \n309817       NaN       NaN            NaN                    NaN   \n356898       NaN       NaN            NaN                    NaN   \n518401       NaN       NaN           NULL                   NULL   \n517924      36.0      20.0           NULL                  block   \n393007       NaN       NaN            NaN                    NaN   \n\n        type_of_monument_certainty province_label_clean  \\\n288843                       False                  NaN   \n337743                       False                  NaN   \n308822                       False                  NaN   \n399934                       False                  NaN   \n333812                       False                  NaN   \n393085                       False                  NaN   \n325639                       False                  NaN   \n393264                       False                  NaN   \n364072                       False                  NaN   \n344706                       False                  NaN   \n318998                       False                  NaN   \n341150                       False                  NaN   \n389016                       False                  NaN   \n312689                       False                  NaN   \n337656                       False                  NaN   \n364675                       False                  NaN   \n353236                       False                  NaN   \n372469                       False                  NaN   \n372568                       False                  NaN   \n299152                       False                  NaN   \n320759                       False                  NaN   \n515361                       False                 Roma   \n309212                       False                  NaN   \n358037                       False                  NaN   \n335205                       False                  NaN   \n379397                       False                  NaN   \n303103                       False                  NaN   \n306461                       False                  NaN   \n360705                       False                  NaN   \n295115                       False                  NaN   \n334920                       False                  NaN   \n367992                       False                  NaN   \n301433                       False                  NaN   \n304159                       False                  NaN   \n370635                       False                  NaN   \n311834                       False                  NaN   \n306086                       False                  NaN   \n346087                       False                  NaN   \n289439                       False                  NaN   \n349993                       False                  NaN   \n397423                       False                  NaN   \n356456                       False                  NaN   \n362707                       False                  NaN   \n396916                       False                  NaN   \n358073                       False                  NaN   \n309817                       False                  NaN   \n356898                       False                  NaN   \n518401                       False                 Roma   \n517924                       False                 Roma   \n393007                       False                  NaN   \n\n        province_label_certainty country_clean  country_certainty  \\\n288843                     False           NaN              False   \n337743                     False           NaN              False   \n308822                     False           NaN              False   \n399934                     False           NaN              False   \n333812                     False           NaN              False   \n393085                     False           NaN              False   \n325639                     False           NaN              False   \n393264                     False           NaN              False   \n364072                     False           NaN              False   \n344706                     False           NaN              False   \n318998                     False           NaN              False   \n341150                     False           NaN              False   \n389016                     False           NaN              False   \n312689                     False           NaN              False   \n337656                     False           NaN              False   \n364675                     False           NaN              False   \n353236                     False           NaN              False   \n372469                     False           NaN              False   \n372568                     False           NaN              False   \n299152                     False           NaN              False   \n320759                     False           NaN              False   \n515361                     False         Italy              False   \n309212                     False           NaN              False   \n358037                     False           NaN              False   \n335205                     False           NaN              False   \n379397                     False           NaN              False   \n303103                     False           NaN              False   \n306461                     False           NaN              False   \n360705                     False           NaN              False   \n295115                     False           NaN              False   \n334920                     False           NaN              False   \n367992                     False           NaN              False   \n301433                     False           NaN              False   \n304159                     False           NaN              False   \n370635                     False           NaN              False   \n311834                     False           NaN              False   \n306086                     False           NaN              False   \n346087                     False           NaN              False   \n289439                     False           NaN              False   \n349993                     False           NaN              False   \n397423                     False           NaN              False   \n356456                     False           NaN              False   \n362707                     False           NaN              False   \n396916                     False           NaN              False   \n358073                     False           NaN              False   \n309817                     False           NaN              False   \n356898                     False           NaN              False   \n518401                     False         Italy              False   \n517924                     False         Italy              False   \n393007                     False           NaN              False   \n\n       findspot_ancient_clean  findspot_ancient_certainty modern_region_clean  \\\n288843                    NaN                       False                 NaN   \n337743                    NaN                       False                 NaN   \n308822                    NaN                       False                 NaN   \n399934                    NaN                       False                 NaN   \n333812                    NaN                       False                 NaN   \n393085                    NaN                       False                 NaN   \n325639                    NaN                       False                 NaN   \n393264                    NaN                       False                 NaN   \n364072                    NaN                       False                 NaN   \n344706                    NaN                       False                 NaN   \n318998                    NaN                       False                 NaN   \n341150                    NaN                       False                 NaN   \n389016                    NaN                       False                 NaN   \n312689                    NaN                       False                 NaN   \n337656                    NaN                       False                 NaN   \n364675                    NaN                       False                 NaN   \n353236                    NaN                       False                 NaN   \n372469                    NaN                       False                 NaN   \n372568                    NaN                       False                 NaN   \n299152                    NaN                       False                 NaN   \n320759                    NaN                       False                 NaN   \n515361                   Roma                       False               Lazio   \n309212                    NaN                       False                 NaN   \n358037                    NaN                       False                 NaN   \n335205                    NaN                       False                 NaN   \n379397                    NaN                       False                 NaN   \n303103                    NaN                       False                 NaN   \n306461                    NaN                       False                 NaN   \n360705                    NaN                       False                 NaN   \n295115                    NaN                       False                 NaN   \n334920                    NaN                       False                 NaN   \n367992                    NaN                       False                 NaN   \n301433                    NaN                       False                 NaN   \n304159                    NaN                       False                 NaN   \n370635                    NaN                       False                 NaN   \n311834                    NaN                       False                 NaN   \n306086                    NaN                       False                 NaN   \n346087                    NaN                       False                 NaN   \n289439                    NaN                       False                 NaN   \n349993                    NaN                       False                 NaN   \n397423                    NaN                       False                 NaN   \n356456                    NaN                       False                 NaN   \n362707                    NaN                       False                 NaN   \n396916                    NaN                       False                 NaN   \n358073                    NaN                       False                 NaN   \n309817                    NaN                       False                 NaN   \n356898                    NaN                       False                 NaN   \n518401                   Roma                       False                Roma   \n517924                   Roma                       False                Roma   \n393007                    NaN                       False                 NaN   \n\n        modern_region_certainty findspot_modern_clean  \\\n288843                    False                   NaN   \n337743                    False                   NaN   \n308822                    False                   NaN   \n399934                    False                   NaN   \n333812                    False                   NaN   \n393085                    False                   NaN   \n325639                    False                   NaN   \n393264                    False                   NaN   \n364072                    False                   NaN   \n344706                    False                   NaN   \n318998                    False                   NaN   \n341150                    False                   NaN   \n389016                    False                   NaN   \n312689                    False                   NaN   \n337656                    False                   NaN   \n364675                    False                   NaN   \n353236                    False                   NaN   \n372469                    False                   NaN   \n372568                    False                   NaN   \n299152                    False                   NaN   \n320759                    False                   NaN   \n515361                    False                  Roma   \n309212                    False                   NaN   \n358037                    False                   NaN   \n335205                    False                   NaN   \n379397                    False                   NaN   \n303103                    False                   NaN   \n306461                    False                   NaN   \n360705                    False                   NaN   \n295115                    False                   NaN   \n334920                    False                   NaN   \n367992                    False                   NaN   \n301433                    False                   NaN   \n304159                    False                   NaN   \n370635                    False                   NaN   \n311834                    False                   NaN   \n306086                    False                   NaN   \n346087                    False                   NaN   \n289439                    False                   NaN   \n349993                    False                   NaN   \n397423                    False                   NaN   \n356456                    False                   NaN   \n362707                    False                   NaN   \n396916                    False                   NaN   \n358073                    False                   NaN   \n309817                    False                   NaN   \n356898                    False                   NaN   \n518401                    False                  Roma   \n517924                    False                  Roma   \n393007                    False                   NaN   \n\n        findspot_modern_certainty                        findspot_clean  \\\n288843                      False                                   NaN   \n337743                      False                                   NaN   \n308822                      False                                   NaN   \n399934                      False                                   NaN   \n333812                      False                                   NaN   \n393085                      False                                   NaN   \n325639                      False                                   NaN   \n393264                      False                                   NaN   \n364072                      False                                   NaN   \n344706                      False                                   NaN   \n318998                      False                                   NaN   \n341150                      False                                   NaN   \n389016                      False                                   NaN   \n312689                      False                                   NaN   \n337656                      False                                   NaN   \n364675                      False                                   NaN   \n353236                      False                                   NaN   \n372469                      False                                   NaN   \n372568                      False                                   NaN   \n299152                      False                                   NaN   \n320759                      False                                   NaN   \n515361                      False  Via Paisiello, S. Panfilo, Katakombe   \n309212                      False                                   NaN   \n358037                      False                                   NaN   \n335205                      False                                   NaN   \n379397                      False                                   NaN   \n303103                      False                                   NaN   \n306461                      False                                   NaN   \n360705                      False                                   NaN   \n295115                      False                                   NaN   \n334920                      False                                   NaN   \n367992                      False                                   NaN   \n301433                      False                                   NaN   \n304159                      False                                   NaN   \n370635                      False                                   NaN   \n311834                      False                                   NaN   \n306086                      False                                   NaN   \n346087                      False                                   NaN   \n289439                      False                                   NaN   \n349993                      False                                   NaN   \n397423                      False                                   NaN   \n356456                      False                                   NaN   \n362707                      False                                   NaN   \n396916                      False                                   NaN   \n358073                      False                                   NaN   \n309817                      False                                   NaN   \n356898                      False                                   NaN   \n518401                      False                                  NULL   \n517924                      False                                  NULL   \n393007                      False                                   NaN   \n\n        findspot_certainty language language_EDCS  raw_dating  not_after  \\\n288843               False        L           NaN  193 to 211      211.0   \n337743               False        L           NaN         NaN        NaN   \n308822               False        L           NaN         NaN        NaN   \n399934               False        L           NaN         NaN        NaN   \n333812               False        L           NaN  351 to 450      450.0   \n393085               False        L           NaN  391 to 425      425.0   \n325639               False        L           NaN         NaN        NaN   \n393264               False        L           NaN  301 to 500      500.0   \n364072               False        L           NaN  301 to 500      500.0   \n344706               False        L           NaN         NaN        NaN   \n318998               False        L           NaN  101 to 200      200.0   \n341150               False        L           NaN         NaN        NaN   \n389016               False        L           NaN  291 to 325      325.0   \n312689               False        L           NaN         NaN        NaN   \n337656               False        L           NaN  123 to 123      123.0   \n364675               False        L           NaN  301 to 500      500.0   \n353236               False        L           NaN  131 to 200      200.0   \n372469               False        L           NaN  301 to 400      400.0   \n372568               False        L           NaN  401 to 500      500.0   \n299152               False        L           NaN    14 to 50       50.0   \n320759               False        L           NaN     1 to 50       50.0   \n515361               False        L           NaN  131 to 250      170.0   \n309212               False        L           NaN         NaN        NaN   \n358037               False        L           NaN  301 to 400      400.0   \n335205               False        L           NaN         NaN        NaN   \n379397               False        L           NaN  301 to 500      500.0   \n303103               False        L           NaN  101 to 200      200.0   \n306461               False        L           NaN   51 to 200      200.0   \n360705               False        L           NaN  301 to 400      400.0   \n295115               False        L           NaN  251 to 251      251.0   \n334920               False        L           NaN         NaN        NaN   \n367992               False        L           NaN  301 to 500      500.0   \n301433               False        L           NaN   -30 to 30       30.0   \n304159               False        L           NaN    1 to 100      100.0   \n370635               False        L           NaN  291 to 325      325.0   \n311834               False        L           NaN   71 to 130      130.0   \n306086               False        L           NaN         NaN        NaN   \n346087               False        L           NaN         NaN        NaN   \n289439               False        L           NaN  101 to 300      300.0   \n349993               False        L           NaN         NaN        NaN   \n397423               False        L           NaN         NaN        NaN   \n356456               False        L           NaN         NaN        NaN   \n362707               False        L           NaN  401 to 500      500.0   \n396916               False        L           NaN         NaN        NaN   \n358073               False        L           NaN  386 to 386      386.0   \n309817               False        L           NaN  101 to 200      200.0   \n356898               False        L           NaN  301 to 400      400.0   \n518401               False        L           NaN  372 to 372      372.0   \n517924               False        L           NaN  171 to 200      200.0   \n393007               False        L           NaN  326 to 375      375.0   \n\n        not_before  Longitude  Latitude  geotemporal?               geometry  \\\n288843       193.0  12.482932  41.89332          True  POINT (12.483 41.893)   \n337743         NaN  12.482932  41.89332         False  POINT (12.483 41.893)   \n308822         NaN  12.482932  41.89332         False  POINT (12.483 41.893)   \n399934         NaN  12.482932  41.89332         False  POINT (12.483 41.893)   \n333812       351.0  12.482932  41.89332          True  POINT (12.483 41.893)   \n393085       391.0  12.482932  41.89332          True  POINT (12.483 41.893)   \n325639         NaN  12.482932  41.89332         False  POINT (12.483 41.893)   \n393264       301.0  12.482932  41.89332          True  POINT (12.483 41.893)   \n364072       301.0  12.482932  41.89332          True  POINT (12.483 41.893)   \n344706         NaN  12.482932  41.89332         False  POINT (12.483 41.893)   \n318998       101.0  12.482932  41.89332          True  POINT (12.483 41.893)   \n341150         NaN  12.482932  41.89332         False  POINT (12.483 41.893)   \n389016       291.0  12.482932  41.89332          True  POINT (12.483 41.893)   \n312689         NaN  12.482932  41.89332         False  POINT (12.483 41.893)   \n337656       123.0  12.482932  41.89332          True  POINT (12.483 41.893)   \n364675       301.0  12.482932  41.89332          True  POINT (12.483 41.893)   \n353236       131.0  12.482932  41.89332          True  POINT (12.483 41.893)   \n372469       301.0  12.482932  41.89332          True  POINT (12.483 41.893)   \n372568       401.0  12.482932  41.89332          True  POINT (12.483 41.893)   \n299152        14.0  12.482932  41.89332          True  POINT (12.483 41.893)   \n320759         1.0  12.482932  41.89332          True  POINT (12.483 41.893)   \n515361       131.0  12.486200  41.89170          True  POINT (12.486 41.892)   \n309212         NaN  12.482932  41.89332         False  POINT (12.483 41.893)   \n358037       301.0  12.482932  41.89332          True  POINT (12.483 41.893)   \n335205         NaN  12.482932  41.89332         False  POINT (12.483 41.893)   \n379397       301.0  12.482932  41.89332          True  POINT (12.483 41.893)   \n303103       101.0  12.482932  41.89332          True  POINT (12.483 41.893)   \n306461        51.0  12.482932  41.89332          True  POINT (12.483 41.893)   \n360705       301.0  12.482932  41.89332          True  POINT (12.483 41.893)   \n295115       251.0  12.482932  41.89332          True  POINT (12.483 41.893)   \n334920         NaN  12.482932  41.89332         False  POINT (12.483 41.893)   \n367992       301.0  12.482932  41.89332          True  POINT (12.483 41.893)   \n301433       -30.0  12.482932  41.89332          True  POINT (12.483 41.893)   \n304159         1.0  12.482932  41.89332          True  POINT (12.483 41.893)   \n370635       291.0  12.482932  41.89332          True  POINT (12.483 41.893)   \n311834        71.0  12.482932  41.89332          True  POINT (12.483 41.893)   \n306086         NaN  12.482932  41.89332         False  POINT (12.483 41.893)   \n346087         NaN  12.482932  41.89332         False  POINT (12.483 41.893)   \n289439       101.0  12.482932  41.89332          True  POINT (12.483 41.893)   \n349993         NaN  12.482932  41.89332         False  POINT (12.483 41.893)   \n397423         NaN  12.482932  41.89332         False  POINT (12.483 41.893)   \n356456         NaN  12.482932  41.89332         False  POINT (12.483 41.893)   \n362707       401.0  12.482932  41.89332          True  POINT (12.483 41.893)   \n396916         NaN  12.482932  41.89332         False  POINT (12.483 41.893)   \n358073       386.0  12.482932  41.89332          True  POINT (12.483 41.893)   \n309817       101.0  12.482932  41.89332          True  POINT (12.483 41.893)   \n356898       301.0  12.482932  41.89332          True  POINT (12.483 41.893)   \n518401       372.0  12.486200  41.89170          True  POINT (12.486 41.892)   \n517924       151.0  12.486200  41.89170          True  POINT (12.486 41.892)   \n393007       326.0  12.482932  41.89332          True  POINT (12.483 41.893)   \n\n        withinRE? urban_context urban_context_city  urban_context_pop_est  \n288843       True         large               Roma               923313.0  \n337743       True         large               Roma               923313.0  \n308822       True         large               Roma               923313.0  \n399934       True         large               Roma               923313.0  \n333812       True         large               Roma               923313.0  \n393085       True         large               Roma               923313.0  \n325639       True         large               Roma               923313.0  \n393264       True         large               Roma               923313.0  \n364072       True         large               Roma               923313.0  \n344706       True         large               Roma               923313.0  \n318998       True         large               Roma               923313.0  \n341150       True         large               Roma               923313.0  \n389016       True         large               Roma               923313.0  \n312689       True         large               Roma               923313.0  \n337656       True         large               Roma               923313.0  \n364675       True         large               Roma               923313.0  \n353236       True         large               Roma               923313.0  \n372469       True         large               Roma               923313.0  \n372568       True         large               Roma               923313.0  \n299152       True         large               Roma               923313.0  \n320759       True         large               Roma               923313.0  \n515361       True         large               Roma               923313.0  \n309212       True         large               Roma               923313.0  \n358037       True         large               Roma               923313.0  \n335205       True         large               Roma               923313.0  \n379397       True         large               Roma               923313.0  \n303103       True         large               Roma               923313.0  \n306461       True         large               Roma               923313.0  \n360705       True         large               Roma               923313.0  \n295115       True         large               Roma               923313.0  \n334920       True         large               Roma               923313.0  \n367992       True         large               Roma               923313.0  \n301433       True         large               Roma               923313.0  \n304159       True         large               Roma               923313.0  \n370635       True         large               Roma               923313.0  \n311834       True         large               Roma               923313.0  \n306086       True         large               Roma               923313.0  \n346087       True         large               Roma               923313.0  \n289439       True         large               Roma               923313.0  \n349993       True         large               Roma               923313.0  \n397423       True         large               Roma               923313.0  \n356456       True         large               Roma               923313.0  \n362707       True         large               Roma               923313.0  \n396916       True         large               Roma               923313.0  \n358073       True         large               Roma               923313.0  \n309817       True         large               Roma               923313.0  \n356898       True         large               Roma               923313.0  \n518401       True         large               Roma               923313.0  \n517924       True         large               Roma               923313.0  \n393007       True         large               Roma               923313.0  ",
      "text/html": "<div>\n<style scoped>\n    .dataframe tbody tr th:only-of-type {\n        vertical-align: middle;\n    }\n\n    .dataframe tbody tr th {\n        vertical-align: top;\n    }\n\n    .dataframe thead th {\n        text-align: right;\n    }\n</style>\n<table border=\"1\" class=\"dataframe\">\n  <thead>\n    <tr style=\"text-align: right;\">\n      <th></th>\n      <th>LIST-ID</th>\n      <th>EDCS-ID</th>\n      <th>EDH-ID</th>\n      <th>trismegistos_uri</th>\n      <th>pleiades_id</th>\n      <th>transcription</th>\n      <th>inscription</th>\n      <th>clean_text_conservative</th>\n      <th>clean_text_interpretive_sentence</th>\n      <th>clean_text_interpretive_word</th>\n      <th>clean_text_interpretive_word_EDCS</th>\n      <th>diplomatic_text</th>\n      <th>province</th>\n      <th>place</th>\n      <th>inscr_type</th>\n      <th>status_notation</th>\n      <th>inscr_process</th>\n      <th>status</th>\n      <th>partner_link</th>\n      <th>last_update</th>\n      <th>letter_size</th>\n      <th>type_of_inscription</th>\n      <th>work_status</th>\n      <th>year_of_find</th>\n      <th>present_location</th>\n      <th>text_edition</th>\n      <th>support_objecttype</th>\n      <th>support_material</th>\n      <th>support_decoration</th>\n      <th>keywords_term</th>\n      <th>people</th>\n      <th>type_of_inscription_clean</th>\n      <th>type_of_inscription_certainty</th>\n      <th>height_cm</th>\n      <th>width_cm</th>\n      <th>depth_cm</th>\n      <th>material_clean</th>\n      <th>type_of_monument_clean</th>\n      <th>type_of_monument_certainty</th>\n      <th>province_label_clean</th>\n      <th>province_label_certainty</th>\n      <th>country_clean</th>\n      <th>country_certainty</th>\n      <th>findspot_ancient_clean</th>\n      <th>findspot_ancient_certainty</th>\n      <th>modern_region_clean</th>\n      <th>modern_region_certainty</th>\n      <th>findspot_modern_clean</th>\n      <th>findspot_modern_certainty</th>\n      <th>findspot_clean</th>\n      <th>findspot_certainty</th>\n      <th>language</th>\n      <th>language_EDCS</th>\n      <th>raw_dating</th>\n      <th>not_after</th>\n      <th>not_before</th>\n      <th>Longitude</th>\n      <th>Latitude</th>\n      <th>geotemporal?</th>\n      <th>geometry</th>\n      <th>withinRE?</th>\n      <th>urban_context</th>\n      <th>urban_context_city</th>\n      <th>urban_context_pop_est</th>\n    </tr>\n  </thead>\n  <tbody>\n    <tr>\n      <th>288843</th>\n      <td>288844</td>\n      <td>EDCS-02700186</td>\n      <td>None</td>\n      <td>NaN</td>\n      <td>NaN</td>\n      <td>NaN</td>\n      <td>I(ovi) O(ptimo) / M(aximo) / Conservatori / M(...</td>\n      <td>I O M Conservatori M Cl Demetrius VII vir epul...</td>\n      <td>NaN</td>\n      <td>Iovi Optimo Maximo Conservatori Marcus Claudiu...</td>\n      <td>Iovi Optimo Maximo Conservatori Marcus Claudiu...</td>\n      <td>NaN</td>\n      <td>Roma</td>\n      <td>Roma</td>\n      <td>tituli sacri</td>\n      <td>sacerdotes pagani, tria nomina, viri</td>\n      <td>NaN</td>\n      <td>sacerdotes pagani;  tituli sacri;  tria nomina...</td>\n      <td>http://db.edcs.eu/epigr/partner.php?s_language...</td>\n      <td>NaN</td>\n      <td>NaN</td>\n      <td>NaN</td>\n      <td>NaN</td>\n      <td>NaN</td>\n      <td>NaN</td>\n      <td>NaN</td>\n      <td>NaN</td>\n      <td>NaN</td>\n      <td>NaN</td>\n      <td>NaN</td>\n      <td>[]</td>\n      <td>NaN</td>\n      <td>False</td>\n      <td>NaN</td>\n      <td>NaN</td>\n      <td>NaN</td>\n      <td>NaN</td>\n      <td>NaN</td>\n      <td>False</td>\n      <td>NaN</td>\n      <td>False</td>\n      <td>NaN</td>\n      <td>False</td>\n      <td>NaN</td>\n      <td>False</td>\n      <td>NaN</td>\n      <td>False</td>\n      <td>NaN</td>\n      <td>False</td>\n      <td>NaN</td>\n      <td>False</td>\n      <td>L</td>\n      <td>NaN</td>\n      <td>193 to 211</td>\n      <td>211.0</td>\n      <td>193.0</td>\n      <td>12.482932</td>\n      <td>41.89332</td>\n      <td>True</td>\n      <td>POINT (12.483 41.893)</td>\n      <td>True</td>\n      <td>large</td>\n      <td>Roma</td>\n      <td>923313.0</td>\n    </tr>\n    <tr>\n      <th>337743</th>\n      <td>337744</td>\n      <td>EDCS-32801727</td>\n      <td>None</td>\n      <td>NaN</td>\n      <td>NaN</td>\n      <td>NaN</td>\n      <td>Op(us) dol(iare) ex pr(aediis) Aug(usti) n(ost...</td>\n      <td>Op dol ex pr Aug n fig Terent L Aelio Phidele</td>\n      <td>NaN</td>\n      <td>Opus doliare ex praediis Augusti nostri figlin...</td>\n      <td>Opus doliare ex praediis Augusti nostri figlin...</td>\n      <td>NaN</td>\n      <td>Roma</td>\n      <td>Roma</td>\n      <td>tituli fabricationis</td>\n      <td>NaN</td>\n      <td>sigilla impressa</td>\n      <td>sigilla impressa;  tituli fabricationis</td>\n      <td>NaN</td>\n      <td>NaN</td>\n      <td>NaN</td>\n      <td>NaN</td>\n      <td>NaN</td>\n      <td>NaN</td>\n      <td>NaN</td>\n      <td>NaN</td>\n      <td>NaN</td>\n      <td>NaN</td>\n      <td>NaN</td>\n      <td>NaN</td>\n      <td>[]</td>\n      <td>NaN</td>\n      <td>False</td>\n      <td>NaN</td>\n      <td>NaN</td>\n      <td>NaN</td>\n      <td>NaN</td>\n      <td>NaN</td>\n      <td>False</td>\n      <td>NaN</td>\n      <td>False</td>\n      <td>NaN</td>\n      <td>False</td>\n      <td>NaN</td>\n      <td>False</td>\n      <td>NaN</td>\n      <td>False</td>\n      <td>NaN</td>\n      <td>False</td>\n      <td>NaN</td>\n      <td>False</td>\n      <td>L</td>\n      <td>NaN</td>\n      <td>NaN</td>\n      <td>NaN</td>\n      <td>NaN</td>\n      <td>12.482932</td>\n      <td>41.89332</td>\n      <td>False</td>\n      <td>POINT (12.483 41.893)</td>\n      <td>True</td>\n      <td>large</td>\n      <td>Roma</td>\n      <td>923313.0</td>\n    </tr>\n    <tr>\n      <th>308822</th>\n      <td>308823</td>\n      <td>EDCS-16100081</td>\n      <td>None</td>\n      <td>NaN</td>\n      <td>NaN</td>\n      <td>NaN</td>\n      <td>Ossa sita / M(arci) Claudi Marcel(li) / l(iber...</td>\n      <td>Ossa sita M Claudi Marcel l Erotis</td>\n      <td>NaN</td>\n      <td>Ossa sita Marci Claudi Marcelli liberti Erotis</td>\n      <td>Ossa sita Marci Claudi Marcelli liberti Erotis</td>\n      <td>NaN</td>\n      <td>Roma</td>\n      <td>Roma</td>\n      <td>tituli sepulcrales</td>\n      <td>liberti/libertae, nomen singulare, tria nomina...</td>\n      <td>NaN</td>\n      <td>liberti/libertae;  nomen singulare;  tituli se...</td>\n      <td>NaN</td>\n      <td>NaN</td>\n      <td>NaN</td>\n      <td>NaN</td>\n      <td>NaN</td>\n      <td>NaN</td>\n      <td>NaN</td>\n      <td>NaN</td>\n      <td>NaN</td>\n      <td>NaN</td>\n      <td>NaN</td>\n      <td>NaN</td>\n      <td>[]</td>\n      <td>NaN</td>\n      <td>False</td>\n      <td>NaN</td>\n      <td>NaN</td>\n      <td>NaN</td>\n      <td>NaN</td>\n      <td>NaN</td>\n      <td>False</td>\n      <td>NaN</td>\n      <td>False</td>\n      <td>NaN</td>\n      <td>False</td>\n      <td>NaN</td>\n      <td>False</td>\n      <td>NaN</td>\n      <td>False</td>\n      <td>NaN</td>\n      <td>False</td>\n      <td>NaN</td>\n      <td>False</td>\n      <td>L</td>\n      <td>NaN</td>\n      <td>NaN</td>\n      <td>NaN</td>\n      <td>NaN</td>\n      <td>12.482932</td>\n      <td>41.89332</td>\n      <td>False</td>\n      <td>POINT (12.483 41.893)</td>\n      <td>True</td>\n      <td>large</td>\n      <td>Roma</td>\n      <td>923313.0</td>\n    </tr>\n    <tr>\n      <th>399934</th>\n      <td>399935</td>\n      <td>EDCS-64900315</td>\n      <td>None</td>\n      <td>NaN</td>\n      <td>NaN</td>\n      <td>NaN</td>\n      <td>]lo / [3] ann(is) IX [3 d]ieb(us) X / [3] Ones...</td>\n      <td>lo ann IX ieb X Onesimus fec</td>\n      <td>NaN</td>\n      <td>lo annis IX diebus X Onesimus fecit</td>\n      <td>lo annis IX diebus X Onesimus fecit</td>\n      <td>NaN</td>\n      <td>Roma</td>\n      <td>Roma</td>\n      <td>NaN</td>\n      <td>NaN</td>\n      <td>NaN</td>\n      <td>NaN</td>\n      <td>http://db.edcs.eu/epigr/partner.php?s_language...</td>\n      <td>NaN</td>\n      <td>NaN</td>\n      <td>NaN</td>\n      <td>NaN</td>\n      <td>NaN</td>\n      <td>NaN</td>\n      <td>NaN</td>\n      <td>NaN</td>\n      <td>NaN</td>\n      <td>NaN</td>\n      <td>NaN</td>\n      <td>[]</td>\n      <td>NaN</td>\n      <td>False</td>\n      <td>NaN</td>\n      <td>NaN</td>\n      <td>NaN</td>\n      <td>NaN</td>\n      <td>NaN</td>\n      <td>False</td>\n      <td>NaN</td>\n      <td>False</td>\n      <td>NaN</td>\n      <td>False</td>\n      <td>NaN</td>\n      <td>False</td>\n      <td>NaN</td>\n      <td>False</td>\n      <td>NaN</td>\n      <td>False</td>\n      <td>NaN</td>\n      <td>False</td>\n      <td>L</td>\n      <td>NaN</td>\n      <td>NaN</td>\n      <td>NaN</td>\n      <td>NaN</td>\n      <td>12.482932</td>\n      <td>41.89332</td>\n      <td>False</td>\n      <td>POINT (12.483 41.893)</td>\n      <td>True</td>\n      <td>large</td>\n      <td>Roma</td>\n      <td>923313.0</td>\n    </tr>\n    <tr>\n      <th>333812</th>\n      <td>333813</td>\n      <td>EDCS-11700655</td>\n      <td>None</td>\n      <td>NaN</td>\n      <td>NaN</td>\n      <td>NaN</td>\n      <td>Dulcis anima / manet hic Polo/croni in loco / ...</td>\n      <td>Dulcis anima manet hic Polocroni in loco sancto</td>\n      <td>NaN</td>\n      <td>Dulcis anima manet hic Polocroni in loco sancto</td>\n      <td>Dulcis anima manet hic Polocroni in loco sancto</td>\n      <td>NaN</td>\n      <td>Roma</td>\n      <td>Roma</td>\n      <td>inscriptiones christianae, tituli sepulcrales</td>\n      <td>nomen singulare, viri</td>\n      <td>NaN</td>\n      <td>inscriptiones christianae;  nomen singulare;  ...</td>\n      <td>http://db.edcs.eu/epigr/partner.php?s_language...</td>\n      <td>NaN</td>\n      <td>NaN</td>\n      <td>NaN</td>\n      <td>NaN</td>\n      <td>NaN</td>\n      <td>NaN</td>\n      <td>NaN</td>\n      <td>NaN</td>\n      <td>NaN</td>\n      <td>NaN</td>\n      <td>NaN</td>\n      <td>[]</td>\n      <td>NaN</td>\n      <td>False</td>\n      <td>NaN</td>\n      <td>NaN</td>\n      <td>NaN</td>\n      <td>NaN</td>\n      <td>NaN</td>\n      <td>False</td>\n      <td>NaN</td>\n      <td>False</td>\n      <td>NaN</td>\n      <td>False</td>\n      <td>NaN</td>\n      <td>False</td>\n      <td>NaN</td>\n      <td>False</td>\n      <td>NaN</td>\n      <td>False</td>\n      <td>NaN</td>\n      <td>False</td>\n      <td>L</td>\n      <td>NaN</td>\n      <td>351 to 450</td>\n      <td>450.0</td>\n      <td>351.0</td>\n      <td>12.482932</td>\n      <td>41.89332</td>\n      <td>True</td>\n      <td>POINT (12.483 41.893)</td>\n      <td>True</td>\n      <td>large</td>\n      <td>Roma</td>\n      <td>923313.0</td>\n    </tr>\n    <tr>\n      <th>393085</th>\n      <td>393086</td>\n      <td>EDCS-30500032</td>\n      <td>None</td>\n      <td>NaN</td>\n      <td>NaN</td>\n      <td>NaN</td>\n      <td>]ius / [</td>\n      <td>ius</td>\n      <td>NaN</td>\n      <td>ius</td>\n      <td>ius</td>\n      <td>NaN</td>\n      <td>Roma</td>\n      <td>Roma</td>\n      <td>inscriptiones christianae, tituli sepulcrales</td>\n      <td>NaN</td>\n      <td>NaN</td>\n      <td>inscriptiones christianae;  tituli sepulcrales</td>\n      <td>http://db.edcs.eu/epigr/partner.php?s_language...</td>\n      <td>NaN</td>\n      <td>NaN</td>\n      <td>NaN</td>\n      <td>NaN</td>\n      <td>NaN</td>\n      <td>NaN</td>\n      <td>NaN</td>\n      <td>NaN</td>\n      <td>NaN</td>\n      <td>NaN</td>\n      <td>NaN</td>\n      <td>[]</td>\n      <td>NaN</td>\n      <td>False</td>\n      <td>NaN</td>\n      <td>NaN</td>\n      <td>NaN</td>\n      <td>NaN</td>\n      <td>NaN</td>\n      <td>False</td>\n      <td>NaN</td>\n      <td>False</td>\n      <td>NaN</td>\n      <td>False</td>\n      <td>NaN</td>\n      <td>False</td>\n      <td>NaN</td>\n      <td>False</td>\n      <td>NaN</td>\n      <td>False</td>\n      <td>NaN</td>\n      <td>False</td>\n      <td>L</td>\n      <td>NaN</td>\n      <td>391 to 425</td>\n      <td>425.0</td>\n      <td>391.0</td>\n      <td>12.482932</td>\n      <td>41.89332</td>\n      <td>True</td>\n      <td>POINT (12.483 41.893)</td>\n      <td>True</td>\n      <td>large</td>\n      <td>Roma</td>\n      <td>923313.0</td>\n    </tr>\n    <tr>\n      <th>325639</th>\n      <td>325640</td>\n      <td>EDCS-17900161</td>\n      <td>None</td>\n      <td>NaN</td>\n      <td>NaN</td>\n      <td>NaN</td>\n      <td>]us Vic[3] / [3]iae Dubi[3] / [3] suae b(ene) ...</td>\n      <td>us Vic iae Dubi suae b m ilia</td>\n      <td>NaN</td>\n      <td>us Vic iae Dubi suae bene merenti ilia</td>\n      <td>us Vic iae Dubi suae bene merenti ilia</td>\n      <td>NaN</td>\n      <td>Roma</td>\n      <td>Roma</td>\n      <td>NaN</td>\n      <td>NaN</td>\n      <td>NaN</td>\n      <td>NaN</td>\n      <td>NaN</td>\n      <td>NaN</td>\n      <td>NaN</td>\n      <td>NaN</td>\n      <td>NaN</td>\n      <td>NaN</td>\n      <td>NaN</td>\n      <td>NaN</td>\n      <td>NaN</td>\n      <td>NaN</td>\n      <td>NaN</td>\n      <td>NaN</td>\n      <td>[]</td>\n      <td>NaN</td>\n      <td>False</td>\n      <td>NaN</td>\n      <td>NaN</td>\n      <td>NaN</td>\n      <td>NaN</td>\n      <td>NaN</td>\n      <td>False</td>\n      <td>NaN</td>\n      <td>False</td>\n      <td>NaN</td>\n      <td>False</td>\n      <td>NaN</td>\n      <td>False</td>\n      <td>NaN</td>\n      <td>False</td>\n      <td>NaN</td>\n      <td>False</td>\n      <td>NaN</td>\n      <td>False</td>\n      <td>L</td>\n      <td>NaN</td>\n      <td>NaN</td>\n      <td>NaN</td>\n      <td>NaN</td>\n      <td>12.482932</td>\n      <td>41.89332</td>\n      <td>False</td>\n      <td>POINT (12.483 41.893)</td>\n      <td>True</td>\n      <td>large</td>\n      <td>Roma</td>\n      <td>923313.0</td>\n    </tr>\n    <tr>\n      <th>393264</th>\n      <td>393265</td>\n      <td>EDCS-33100585</td>\n      <td>None</td>\n      <td>NaN</td>\n      <td>NaN</td>\n      <td>NaN</td>\n      <td>Ar[3] / [3]O[</td>\n      <td>Ar O</td>\n      <td>NaN</td>\n      <td>Ar O</td>\n      <td>Ar O</td>\n      <td>NaN</td>\n      <td>Roma</td>\n      <td>Roma</td>\n      <td>inscriptiones christianae, tituli sepulcrales</td>\n      <td>NaN</td>\n      <td>NaN</td>\n      <td>inscriptiones christianae;  tituli sepulcrales</td>\n      <td>http://db.edcs.eu/epigr/partner.php?s_language...</td>\n      <td>NaN</td>\n      <td>NaN</td>\n      <td>NaN</td>\n      <td>NaN</td>\n      <td>NaN</td>\n      <td>NaN</td>\n      <td>NaN</td>\n      <td>NaN</td>\n      <td>NaN</td>\n      <td>NaN</td>\n      <td>NaN</td>\n      <td>[]</td>\n      <td>NaN</td>\n      <td>False</td>\n      <td>NaN</td>\n      <td>NaN</td>\n      <td>NaN</td>\n      <td>NaN</td>\n      <td>NaN</td>\n      <td>False</td>\n      <td>NaN</td>\n      <td>False</td>\n      <td>NaN</td>\n      <td>False</td>\n      <td>NaN</td>\n      <td>False</td>\n      <td>NaN</td>\n      <td>False</td>\n      <td>NaN</td>\n      <td>False</td>\n      <td>NaN</td>\n      <td>False</td>\n      <td>L</td>\n      <td>NaN</td>\n      <td>301 to 500</td>\n      <td>500.0</td>\n      <td>301.0</td>\n      <td>12.482932</td>\n      <td>41.89332</td>\n      <td>True</td>\n      <td>POINT (12.483 41.893)</td>\n      <td>True</td>\n      <td>large</td>\n      <td>Roma</td>\n      <td>923313.0</td>\n    </tr>\n    <tr>\n      <th>364072</th>\n      <td>364073</td>\n      <td>EDCS-34800363</td>\n      <td>None</td>\n      <td>NaN</td>\n      <td>NaN</td>\n      <td>NaN</td>\n      <td>S]terc[ori</td>\n      <td>Stercori</td>\n      <td>NaN</td>\n      <td>Stercori</td>\n      <td>Stercori</td>\n      <td>NaN</td>\n      <td>Roma</td>\n      <td>Roma</td>\n      <td>inscriptiones christianae, tituli sepulcrales</td>\n      <td>NaN</td>\n      <td>NaN</td>\n      <td>inscriptiones christianae;  tituli sepulcrales</td>\n      <td>http://db.edcs.eu/epigr/partner.php?s_language...</td>\n      <td>NaN</td>\n      <td>NaN</td>\n      <td>NaN</td>\n      <td>NaN</td>\n      <td>NaN</td>\n      <td>NaN</td>\n      <td>NaN</td>\n      <td>NaN</td>\n      <td>NaN</td>\n      <td>NaN</td>\n      <td>NaN</td>\n      <td>[]</td>\n      <td>NaN</td>\n      <td>False</td>\n      <td>NaN</td>\n      <td>NaN</td>\n      <td>NaN</td>\n      <td>NaN</td>\n      <td>NaN</td>\n      <td>False</td>\n      <td>NaN</td>\n      <td>False</td>\n      <td>NaN</td>\n      <td>False</td>\n      <td>NaN</td>\n      <td>False</td>\n      <td>NaN</td>\n      <td>False</td>\n      <td>NaN</td>\n      <td>False</td>\n      <td>NaN</td>\n      <td>False</td>\n      <td>L</td>\n      <td>NaN</td>\n      <td>301 to 500</td>\n      <td>500.0</td>\n      <td>301.0</td>\n      <td>12.482932</td>\n      <td>41.89332</td>\n      <td>True</td>\n      <td>POINT (12.483 41.893)</td>\n      <td>True</td>\n      <td>large</td>\n      <td>Roma</td>\n      <td>923313.0</td>\n    </tr>\n    <tr>\n      <th>344706</th>\n      <td>344707</td>\n      <td>EDCS-43500681</td>\n      <td>None</td>\n      <td>NaN</td>\n      <td>NaN</td>\n      <td>NaN</td>\n      <td>L(uci) I() Silvestri</td>\n      <td>L I Silvestri</td>\n      <td>NaN</td>\n      <td>Luci I Silvestri</td>\n      <td>Luci I Silvestri</td>\n      <td>NaN</td>\n      <td>Roma</td>\n      <td>Roma</td>\n      <td>tituli fabricationis</td>\n      <td>NaN</td>\n      <td>sigilla impressa</td>\n      <td>sigilla impressa;  tituli fabricationis</td>\n      <td>http://db.edcs.eu/epigr/partner.php?s_language...</td>\n      <td>NaN</td>\n      <td>NaN</td>\n      <td>NaN</td>\n      <td>NaN</td>\n      <td>NaN</td>\n      <td>NaN</td>\n      <td>NaN</td>\n      <td>NaN</td>\n      <td>NaN</td>\n      <td>NaN</td>\n      <td>NaN</td>\n      <td>[]</td>\n      <td>NaN</td>\n      <td>False</td>\n      <td>NaN</td>\n      <td>NaN</td>\n      <td>NaN</td>\n      <td>NaN</td>\n      <td>NaN</td>\n      <td>False</td>\n      <td>NaN</td>\n      <td>False</td>\n      <td>NaN</td>\n      <td>False</td>\n      <td>NaN</td>\n      <td>False</td>\n      <td>NaN</td>\n      <td>False</td>\n      <td>NaN</td>\n      <td>False</td>\n      <td>NaN</td>\n      <td>False</td>\n      <td>L</td>\n      <td>NaN</td>\n      <td>NaN</td>\n      <td>NaN</td>\n      <td>NaN</td>\n      <td>12.482932</td>\n      <td>41.89332</td>\n      <td>False</td>\n      <td>POINT (12.483 41.893)</td>\n      <td>True</td>\n      <td>large</td>\n      <td>Roma</td>\n      <td>923313.0</td>\n    </tr>\n    <tr>\n      <th>318998</th>\n      <td>318999</td>\n      <td>EDCS-13801610</td>\n      <td>None</td>\n      <td>NaN</td>\n      <td>NaN</td>\n      <td>NaN</td>\n      <td>D(is) M(anibus) / Ragoniae Piae uxori / Aureli...</td>\n      <td>D M Ragoniae Piae uxori Aureli Hermetis parent...</td>\n      <td>NaN</td>\n      <td>Dis Manibus Ragoniae Piae uxori Aureli Hermeti...</td>\n      <td>Dis Manibus Ragoniae Piae uxori Aureli Hermeti...</td>\n      <td>NaN</td>\n      <td>Roma</td>\n      <td>Roma</td>\n      <td>tituli sepulcrales</td>\n      <td>mulieres, tria nomina, viri</td>\n      <td>NaN</td>\n      <td>mulieres;  tituli sepulcrales;  tria nomina;  ...</td>\n      <td>http://db.edcs.eu/epigr/partner.php?s_language...</td>\n      <td>NaN</td>\n      <td>NaN</td>\n      <td>NaN</td>\n      <td>NaN</td>\n      <td>NaN</td>\n      <td>NaN</td>\n      <td>NaN</td>\n      <td>NaN</td>\n      <td>NaN</td>\n      <td>NaN</td>\n      <td>NaN</td>\n      <td>[]</td>\n      <td>NaN</td>\n      <td>False</td>\n      <td>NaN</td>\n      <td>NaN</td>\n      <td>NaN</td>\n      <td>NaN</td>\n      <td>NaN</td>\n      <td>False</td>\n      <td>NaN</td>\n      <td>False</td>\n      <td>NaN</td>\n      <td>False</td>\n      <td>NaN</td>\n      <td>False</td>\n      <td>NaN</td>\n      <td>False</td>\n      <td>NaN</td>\n      <td>False</td>\n      <td>NaN</td>\n      <td>False</td>\n      <td>L</td>\n      <td>NaN</td>\n      <td>101 to 200</td>\n      <td>200.0</td>\n      <td>101.0</td>\n      <td>12.482932</td>\n      <td>41.89332</td>\n      <td>True</td>\n      <td>POINT (12.483 41.893)</td>\n      <td>True</td>\n      <td>large</td>\n      <td>Roma</td>\n      <td>923313.0</td>\n    </tr>\n    <tr>\n      <th>341150</th>\n      <td>341151</td>\n      <td>EDCS-40300242</td>\n      <td>None</td>\n      <td>NaN</td>\n      <td>NaN</td>\n      <td>NaN</td>\n      <td>Gallicano et Vetere co(n)s(ulibus) opus fig(li...</td>\n      <td>Gallicano et Vetere cos opus fig offic Iuliae ...</td>\n      <td>NaN</td>\n      <td>Gallicano et Vetere consulibus opus figlinum o...</td>\n      <td>Gallicano et Vetere consulibus opus figlinum o...</td>\n      <td>NaN</td>\n      <td>Roma</td>\n      <td>Roma</td>\n      <td>tituli fabricationis</td>\n      <td>NaN</td>\n      <td>sigilla impressa</td>\n      <td>sigilla impressa;  tituli fabricationis</td>\n      <td>NaN</td>\n      <td>NaN</td>\n      <td>NaN</td>\n      <td>NaN</td>\n      <td>NaN</td>\n      <td>NaN</td>\n      <td>NaN</td>\n      <td>NaN</td>\n      <td>NaN</td>\n      <td>NaN</td>\n      <td>NaN</td>\n      <td>NaN</td>\n      <td>[]</td>\n      <td>NaN</td>\n      <td>False</td>\n      <td>NaN</td>\n      <td>NaN</td>\n      <td>NaN</td>\n      <td>NaN</td>\n      <td>NaN</td>\n      <td>False</td>\n      <td>NaN</td>\n      <td>False</td>\n      <td>NaN</td>\n      <td>False</td>\n      <td>NaN</td>\n      <td>False</td>\n      <td>NaN</td>\n      <td>False</td>\n      <td>NaN</td>\n      <td>False</td>\n      <td>NaN</td>\n      <td>False</td>\n      <td>L</td>\n      <td>NaN</td>\n      <td>NaN</td>\n      <td>NaN</td>\n      <td>NaN</td>\n      <td>12.482932</td>\n      <td>41.89332</td>\n      <td>False</td>\n      <td>POINT (12.483 41.893)</td>\n      <td>True</td>\n      <td>large</td>\n      <td>Roma</td>\n      <td>923313.0</td>\n    </tr>\n    <tr>\n      <th>389016</th>\n      <td>389017</td>\n      <td>EDCS-33900423</td>\n      <td>None</td>\n      <td>NaN</td>\n      <td>NaN</td>\n      <td>NaN</td>\n      <td>Secunda Pomph(a)e fili(a)e / carissim(a)e</td>\n      <td>Secunda Pomphe filie carissime</td>\n      <td>NaN</td>\n      <td>Secunda Pomphae filiae carissimae</td>\n      <td>Secunda Pomphae filiae carissimae</td>\n      <td>NaN</td>\n      <td>Roma</td>\n      <td>Roma</td>\n      <td>inscriptiones christianae, tituli sepulcrales</td>\n      <td>mulieres, nomen singulare</td>\n      <td>NaN</td>\n      <td>inscriptiones christianae;  mulieres;  nomen s...</td>\n      <td>http://db.edcs.eu/epigr/partner.php?s_language...</td>\n      <td>NaN</td>\n      <td>NaN</td>\n      <td>NaN</td>\n      <td>NaN</td>\n      <td>NaN</td>\n      <td>NaN</td>\n      <td>NaN</td>\n      <td>NaN</td>\n      <td>NaN</td>\n      <td>NaN</td>\n      <td>NaN</td>\n      <td>[]</td>\n      <td>NaN</td>\n      <td>False</td>\n      <td>NaN</td>\n      <td>NaN</td>\n      <td>NaN</td>\n      <td>NaN</td>\n      <td>NaN</td>\n      <td>False</td>\n      <td>NaN</td>\n      <td>False</td>\n      <td>NaN</td>\n      <td>False</td>\n      <td>NaN</td>\n      <td>False</td>\n      <td>NaN</td>\n      <td>False</td>\n      <td>NaN</td>\n      <td>False</td>\n      <td>NaN</td>\n      <td>False</td>\n      <td>L</td>\n      <td>NaN</td>\n      <td>291 to 325</td>\n      <td>325.0</td>\n      <td>291.0</td>\n      <td>12.482932</td>\n      <td>41.89332</td>\n      <td>True</td>\n      <td>POINT (12.483 41.893)</td>\n      <td>True</td>\n      <td>large</td>\n      <td>Roma</td>\n      <td>923313.0</td>\n    </tr>\n    <tr>\n      <th>312689</th>\n      <td>312690</td>\n      <td>EDCS-10201155</td>\n      <td>None</td>\n      <td>NaN</td>\n      <td>NaN</td>\n      <td>NaN</td>\n      <td>L(ucius) Geganius |(mulieris) l(ibertus) / Ian...</td>\n      <td>L Geganius l Ianuarius vixit annos duo</td>\n      <td>NaN</td>\n      <td>Lucius Geganius mulieris libertus Ianuarius vi...</td>\n      <td>Lucius Geganius mulieris libertus Ianuarius vi...</td>\n      <td>NaN</td>\n      <td>Roma</td>\n      <td>Roma</td>\n      <td>tituli sepulcrales</td>\n      <td>liberti/libertae, tria nomina, viri</td>\n      <td>NaN</td>\n      <td>liberti/libertae;  tituli sepulcrales;  tria n...</td>\n      <td>http://db.edcs.eu/epigr/partner.php?s_language...</td>\n      <td>NaN</td>\n      <td>NaN</td>\n      <td>NaN</td>\n      <td>NaN</td>\n      <td>NaN</td>\n      <td>NaN</td>\n      <td>NaN</td>\n      <td>NaN</td>\n      <td>NaN</td>\n      <td>NaN</td>\n      <td>NaN</td>\n      <td>[]</td>\n      <td>NaN</td>\n      <td>False</td>\n      <td>NaN</td>\n      <td>NaN</td>\n      <td>NaN</td>\n      <td>NaN</td>\n      <td>NaN</td>\n      <td>False</td>\n      <td>NaN</td>\n      <td>False</td>\n      <td>NaN</td>\n      <td>False</td>\n      <td>NaN</td>\n      <td>False</td>\n      <td>NaN</td>\n      <td>False</td>\n      <td>NaN</td>\n      <td>False</td>\n      <td>NaN</td>\n      <td>False</td>\n      <td>L</td>\n      <td>NaN</td>\n      <td>NaN</td>\n      <td>NaN</td>\n      <td>NaN</td>\n      <td>12.482932</td>\n      <td>41.89332</td>\n      <td>False</td>\n      <td>POINT (12.483 41.893)</td>\n      <td>True</td>\n      <td>large</td>\n      <td>Roma</td>\n      <td>923313.0</td>\n    </tr>\n    <tr>\n      <th>337656</th>\n      <td>337657</td>\n      <td>EDCS-32801639</td>\n      <td>None</td>\n      <td>NaN</td>\n      <td>NaN</td>\n      <td>NaN</td>\n      <td>Ex f(iglinis) Temp(esinis) Q(uinti) Ab(urni) C...</td>\n      <td>Ex f Temp Q Ab Caed Vis For Apr et Pae cos</td>\n      <td>NaN</td>\n      <td>Ex figlinis Tempesinis Quinti Aburni Caedician...</td>\n      <td>Ex figlinis Tempesinis Quinti Aburni Caedician...</td>\n      <td>NaN</td>\n      <td>Roma</td>\n      <td>Roma</td>\n      <td>tituli fabricationis</td>\n      <td>NaN</td>\n      <td>sigilla impressa</td>\n      <td>sigilla impressa;  tituli fabricationis</td>\n      <td>NaN</td>\n      <td>NaN</td>\n      <td>NaN</td>\n      <td>NaN</td>\n      <td>NaN</td>\n      <td>NaN</td>\n      <td>NaN</td>\n      <td>NaN</td>\n      <td>NaN</td>\n      <td>NaN</td>\n      <td>NaN</td>\n      <td>NaN</td>\n      <td>[]</td>\n      <td>NaN</td>\n      <td>False</td>\n      <td>NaN</td>\n      <td>NaN</td>\n      <td>NaN</td>\n      <td>NaN</td>\n      <td>NaN</td>\n      <td>False</td>\n      <td>NaN</td>\n      <td>False</td>\n      <td>NaN</td>\n      <td>False</td>\n      <td>NaN</td>\n      <td>False</td>\n      <td>NaN</td>\n      <td>False</td>\n      <td>NaN</td>\n      <td>False</td>\n      <td>NaN</td>\n      <td>False</td>\n      <td>L</td>\n      <td>NaN</td>\n      <td>123 to 123</td>\n      <td>123.0</td>\n      <td>123.0</td>\n      <td>12.482932</td>\n      <td>41.89332</td>\n      <td>True</td>\n      <td>POINT (12.483 41.893)</td>\n      <td>True</td>\n      <td>large</td>\n      <td>Roma</td>\n      <td>923313.0</td>\n    </tr>\n    <tr>\n      <th>364675</th>\n      <td>364676</td>\n      <td>EDCS-25401111</td>\n      <td>None</td>\n      <td>NaN</td>\n      <td>NaN</td>\n      <td>NaN</td>\n      <td>] / [3]λι+[3] / [3]στος ἐν ε[ἰρή]νῃ</td>\n      <td>λι στος ἐν ε νῃ</td>\n      <td>NaN</td>\n      <td>λι στος ἐν εἰρήνῃ</td>\n      <td>λι στος ἐν εἰρήνῃ</td>\n      <td>NaN</td>\n      <td>Roma</td>\n      <td>Roma</td>\n      <td>inscriptiones christianae, tituli sepulcrales</td>\n      <td>NaN</td>\n      <td>NaN</td>\n      <td>inscriptiones christianae;  tituli sepulcrales</td>\n      <td>http://db.edcs.eu/epigr/partner.php?s_language...</td>\n      <td>NaN</td>\n      <td>NaN</td>\n      <td>NaN</td>\n      <td>NaN</td>\n      <td>NaN</td>\n      <td>NaN</td>\n      <td>NaN</td>\n      <td>NaN</td>\n      <td>NaN</td>\n      <td>NaN</td>\n      <td>NaN</td>\n      <td>[]</td>\n      <td>NaN</td>\n      <td>False</td>\n      <td>NaN</td>\n      <td>NaN</td>\n      <td>NaN</td>\n      <td>NaN</td>\n      <td>NaN</td>\n      <td>False</td>\n      <td>NaN</td>\n      <td>False</td>\n      <td>NaN</td>\n      <td>False</td>\n      <td>NaN</td>\n      <td>False</td>\n      <td>NaN</td>\n      <td>False</td>\n      <td>NaN</td>\n      <td>False</td>\n      <td>NaN</td>\n      <td>False</td>\n      <td>L</td>\n      <td>NaN</td>\n      <td>301 to 500</td>\n      <td>500.0</td>\n      <td>301.0</td>\n      <td>12.482932</td>\n      <td>41.89332</td>\n      <td>True</td>\n      <td>POINT (12.483 41.893)</td>\n      <td>True</td>\n      <td>large</td>\n      <td>Roma</td>\n      <td>923313.0</td>\n    </tr>\n    <tr>\n      <th>353236</th>\n      <td>353237</td>\n      <td>EDCS-37900383</td>\n      <td>None</td>\n      <td>NaN</td>\n      <td>NaN</td>\n      <td>NaN</td>\n      <td>Cn(aei) Serg(i) Crateri et Iuli Hieracis / Ser...</td>\n      <td>Cn Serg Crateri et Iuli Hieracis Servius Salvi...</td>\n      <td>NaN</td>\n      <td>Cnaei Sergi Crateri et Iuli Hieracis Servius S...</td>\n      <td>Cnaei Sergi Crateri et Iuli Hieracis Servius S...</td>\n      <td>NaN</td>\n      <td>Roma</td>\n      <td>Roma</td>\n      <td>tituli fabricationis</td>\n      <td>tria nomina, viri</td>\n      <td>NaN</td>\n      <td>tituli fabricationis;  tria nomina;  viri</td>\n      <td>http://db.edcs.eu/epigr/partner.php?s_language...</td>\n      <td>NaN</td>\n      <td>NaN</td>\n      <td>NaN</td>\n      <td>NaN</td>\n      <td>NaN</td>\n      <td>NaN</td>\n      <td>NaN</td>\n      <td>NaN</td>\n      <td>NaN</td>\n      <td>NaN</td>\n      <td>NaN</td>\n      <td>[]</td>\n      <td>NaN</td>\n      <td>False</td>\n      <td>NaN</td>\n      <td>NaN</td>\n      <td>NaN</td>\n      <td>NaN</td>\n      <td>NaN</td>\n      <td>False</td>\n      <td>NaN</td>\n      <td>False</td>\n      <td>NaN</td>\n      <td>False</td>\n      <td>NaN</td>\n      <td>False</td>\n      <td>NaN</td>\n      <td>False</td>\n      <td>NaN</td>\n      <td>False</td>\n      <td>NaN</td>\n      <td>False</td>\n      <td>L</td>\n      <td>NaN</td>\n      <td>131 to 200</td>\n      <td>200.0</td>\n      <td>131.0</td>\n      <td>12.482932</td>\n      <td>41.89332</td>\n      <td>True</td>\n      <td>POINT (12.483 41.893)</td>\n      <td>True</td>\n      <td>large</td>\n      <td>Roma</td>\n      <td>923313.0</td>\n    </tr>\n    <tr>\n      <th>372469</th>\n      <td>372470</td>\n      <td>EDCS-37300186</td>\n      <td>None</td>\n      <td>NaN</td>\n      <td>NaN</td>\n      <td>NaN</td>\n      <td>[3]oridi[</td>\n      <td>oridi</td>\n      <td>NaN</td>\n      <td>oridi</td>\n      <td>oridi</td>\n      <td>NaN</td>\n      <td>Roma</td>\n      <td>Roma</td>\n      <td>inscriptiones christianae, tituli sepulcrales</td>\n      <td>NaN</td>\n      <td>NaN</td>\n      <td>inscriptiones christianae;  tituli sepulcrales</td>\n      <td>http://db.edcs.eu/epigr/partner.php?s_language...</td>\n      <td>NaN</td>\n      <td>NaN</td>\n      <td>NaN</td>\n      <td>NaN</td>\n      <td>NaN</td>\n      <td>NaN</td>\n      <td>NaN</td>\n      <td>NaN</td>\n      <td>NaN</td>\n      <td>NaN</td>\n      <td>NaN</td>\n      <td>[]</td>\n      <td>NaN</td>\n      <td>False</td>\n      <td>NaN</td>\n      <td>NaN</td>\n      <td>NaN</td>\n      <td>NaN</td>\n      <td>NaN</td>\n      <td>False</td>\n      <td>NaN</td>\n      <td>False</td>\n      <td>NaN</td>\n      <td>False</td>\n      <td>NaN</td>\n      <td>False</td>\n      <td>NaN</td>\n      <td>False</td>\n      <td>NaN</td>\n      <td>False</td>\n      <td>NaN</td>\n      <td>False</td>\n      <td>L</td>\n      <td>NaN</td>\n      <td>301 to 400</td>\n      <td>400.0</td>\n      <td>301.0</td>\n      <td>12.482932</td>\n      <td>41.89332</td>\n      <td>True</td>\n      <td>POINT (12.483 41.893)</td>\n      <td>True</td>\n      <td>large</td>\n      <td>Roma</td>\n      <td>923313.0</td>\n    </tr>\n    <tr>\n      <th>372568</th>\n      <td>372569</td>\n      <td>EDCS-37300284</td>\n      <td>None</td>\n      <td>NaN</td>\n      <td>NaN</td>\n      <td>NaN</td>\n      <td>]us de su[o emit] / [domum se]mpiter[nam]</td>\n      <td>us de su mpiter</td>\n      <td>NaN</td>\n      <td>us de suo emit domum sempiternam</td>\n      <td>us de suo emit domum sempiternam</td>\n      <td>NaN</td>\n      <td>Roma</td>\n      <td>Roma</td>\n      <td>inscriptiones christianae, tituli sepulcrales</td>\n      <td>NaN</td>\n      <td>NaN</td>\n      <td>inscriptiones christianae;  tituli sepulcrales</td>\n      <td>http://db.edcs.eu/epigr/partner.php?s_language...</td>\n      <td>NaN</td>\n      <td>NaN</td>\n      <td>NaN</td>\n      <td>NaN</td>\n      <td>NaN</td>\n      <td>NaN</td>\n      <td>NaN</td>\n      <td>NaN</td>\n      <td>NaN</td>\n      <td>NaN</td>\n      <td>NaN</td>\n      <td>[]</td>\n      <td>NaN</td>\n      <td>False</td>\n      <td>NaN</td>\n      <td>NaN</td>\n      <td>NaN</td>\n      <td>NaN</td>\n      <td>NaN</td>\n      <td>False</td>\n      <td>NaN</td>\n      <td>False</td>\n      <td>NaN</td>\n      <td>False</td>\n      <td>NaN</td>\n      <td>False</td>\n      <td>NaN</td>\n      <td>False</td>\n      <td>NaN</td>\n      <td>False</td>\n      <td>NaN</td>\n      <td>False</td>\n      <td>L</td>\n      <td>NaN</td>\n      <td>401 to 500</td>\n      <td>500.0</td>\n      <td>401.0</td>\n      <td>12.482932</td>\n      <td>41.89332</td>\n      <td>True</td>\n      <td>POINT (12.483 41.893)</td>\n      <td>True</td>\n      <td>large</td>\n      <td>Roma</td>\n      <td>923313.0</td>\n    </tr>\n    <tr>\n      <th>299152</th>\n      <td>299153</td>\n      <td>EDCS-18700545</td>\n      <td>None</td>\n      <td>NaN</td>\n      <td>NaN</td>\n      <td>NaN</td>\n      <td>Dis Manibus Laelia[e 3 coniugi] / carissimae f...</td>\n      <td>Dis Manibus Laelia carissimae fec Liberalis La...</td>\n      <td>NaN</td>\n      <td>Dis Manibus Laeliae coniugi carissimae fecit L...</td>\n      <td>Dis Manibus Laeliae coniugi carissimae fecit L...</td>\n      <td>NaN</td>\n      <td>Roma</td>\n      <td>Roma</td>\n      <td>tituli sepulcrales</td>\n      <td>mulieres, viri</td>\n      <td>NaN</td>\n      <td>mulieres;  tituli sepulcrales;  viri</td>\n      <td>http://db.edcs.eu/epigr/partner.php?s_language...</td>\n      <td>NaN</td>\n      <td>NaN</td>\n      <td>NaN</td>\n      <td>NaN</td>\n      <td>NaN</td>\n      <td>NaN</td>\n      <td>NaN</td>\n      <td>NaN</td>\n      <td>NaN</td>\n      <td>NaN</td>\n      <td>NaN</td>\n      <td>[]</td>\n      <td>NaN</td>\n      <td>False</td>\n      <td>NaN</td>\n      <td>NaN</td>\n      <td>NaN</td>\n      <td>NaN</td>\n      <td>NaN</td>\n      <td>False</td>\n      <td>NaN</td>\n      <td>False</td>\n      <td>NaN</td>\n      <td>False</td>\n      <td>NaN</td>\n      <td>False</td>\n      <td>NaN</td>\n      <td>False</td>\n      <td>NaN</td>\n      <td>False</td>\n      <td>NaN</td>\n      <td>False</td>\n      <td>L</td>\n      <td>NaN</td>\n      <td>14 to 50</td>\n      <td>50.0</td>\n      <td>14.0</td>\n      <td>12.482932</td>\n      <td>41.89332</td>\n      <td>True</td>\n      <td>POINT (12.483 41.893)</td>\n      <td>True</td>\n      <td>large</td>\n      <td>Roma</td>\n      <td>923313.0</td>\n    </tr>\n    <tr>\n      <th>320759</th>\n      <td>320760</td>\n      <td>EDCS-14801089</td>\n      <td>None</td>\n      <td>NaN</td>\n      <td>NaN</td>\n      <td>NaN</td>\n      <td>A(ulus) Teiedius / Sindaeus / ollas II // Teie...</td>\n      <td>A Teiedius Sindaeus ollas II Teiedia l Micce</td>\n      <td>NaN</td>\n      <td>Aulus Teiedius Sindaeus ollas II Teiedia mulie...</td>\n      <td>Aulus Teiedius Sindaeus ollas II Teiedia mulie...</td>\n      <td>NaN</td>\n      <td>Roma</td>\n      <td>Roma</td>\n      <td>tituli operum, tituli sepulcrales</td>\n      <td>liberti/libertae, mulieres, tria nomina, viri</td>\n      <td>NaN</td>\n      <td>liberti/libertae;  mulieres;  tituli operum;  ...</td>\n      <td>http://db.edcs.eu/epigr/partner.php?s_language...</td>\n      <td>NaN</td>\n      <td>NaN</td>\n      <td>NaN</td>\n      <td>NaN</td>\n      <td>NaN</td>\n      <td>NaN</td>\n      <td>NaN</td>\n      <td>NaN</td>\n      <td>NaN</td>\n      <td>NaN</td>\n      <td>NaN</td>\n      <td>[]</td>\n      <td>NaN</td>\n      <td>False</td>\n      <td>NaN</td>\n      <td>NaN</td>\n      <td>NaN</td>\n      <td>NaN</td>\n      <td>NaN</td>\n      <td>False</td>\n      <td>NaN</td>\n      <td>False</td>\n      <td>NaN</td>\n      <td>False</td>\n      <td>NaN</td>\n      <td>False</td>\n      <td>NaN</td>\n      <td>False</td>\n      <td>NaN</td>\n      <td>False</td>\n      <td>NaN</td>\n      <td>False</td>\n      <td>L</td>\n      <td>NaN</td>\n      <td>1 to 50</td>\n      <td>50.0</td>\n      <td>1.0</td>\n      <td>12.482932</td>\n      <td>41.89332</td>\n      <td>True</td>\n      <td>POINT (12.483 41.893)</td>\n      <td>True</td>\n      <td>large</td>\n      <td>Roma</td>\n      <td>923313.0</td>\n    </tr>\n    <tr>\n      <th>515361</th>\n      <td>515362</td>\n      <td>EDCS-09400063</td>\n      <td>HD006784</td>\n      <td>https://www.trismegistos.org/text/264766</td>\n      <td>423025</td>\n      <td>D(is) M(anibus) / Aelia [Ama]stris f[ecit Ael(...</td>\n      <td>Aelia [Ama]stris f[ecit Aelio A]/gaty[rso] mar...</td>\n      <td>D M Aelia stris fgaty marinti et berti posq</td>\n      <td>Dis Manibus Aelia Amastris fecit Aelio Agathyr...</td>\n      <td>Dis Manibus Aelia Amastris fecit Aelio Agathyr...</td>\n      <td>Aelia Amastris fecit Aelio Agatyrso marito ben...</td>\n      <td>D M / AELIA [ ]STRIS F[ ] / GATY[ ] MARI[ ] / ...</td>\n      <td>Roma</td>\n      <td>Roma</td>\n      <td>NaN</td>\n      <td>liberti/libertae</td>\n      <td>NaN</td>\n      <td>liberti/libertae</td>\n      <td>http://db.edcs.eu/epigr/partner.php?s_language...</td>\n      <td>2012-02-17</td>\n      <td>4.2-2.7 cm</td>\n      <td>epitaph</td>\n      <td>checked with drawing</td>\n      <td>NaN</td>\n      <td>NaN</td>\n      <td>\\n Dis Manibus Aelia Amastris fecit Aelio Agat...</td>\n      <td>257</td>\n      <td>NaN</td>\n      <td>1000</td>\n      <td>92</td>\n      <td>[{'persname': {'name': [{'@type': 'nomen', '#t...</td>\n      <td>epitaph</td>\n      <td>False</td>\n      <td>17.0</td>\n      <td>27.0</td>\n      <td>2.0</td>\n      <td>NULL</td>\n      <td>tabula</td>\n      <td>False</td>\n      <td>Roma</td>\n      <td>False</td>\n      <td>Italy</td>\n      <td>False</td>\n      <td>Roma</td>\n      <td>False</td>\n      <td>Lazio</td>\n      <td>False</td>\n      <td>Roma</td>\n      <td>False</td>\n      <td>Via Paisiello, S. Panfilo, Katakombe</td>\n      <td>False</td>\n      <td>L</td>\n      <td>NaN</td>\n      <td>131 to 250</td>\n      <td>170.0</td>\n      <td>131.0</td>\n      <td>12.486200</td>\n      <td>41.89170</td>\n      <td>True</td>\n      <td>POINT (12.486 41.892)</td>\n      <td>True</td>\n      <td>large</td>\n      <td>Roma</td>\n      <td>923313.0</td>\n    </tr>\n    <tr>\n      <th>309212</th>\n      <td>309213</td>\n      <td>EDCS-09600299</td>\n      <td>None</td>\n      <td>NaN</td>\n      <td>NaN</td>\n      <td>NaN</td>\n      <td>D(is) M(anibus) / Claudiae Felicitati / vix(it...</td>\n      <td>D M Claudiae Felicitati vix a XVIII m III d VI...</td>\n      <td>NaN</td>\n      <td>Dis Manibus Claudiae Felicitati vixit annos XV...</td>\n      <td>Dis Manibus Claudiae Felicitati vixit annos XV...</td>\n      <td>NaN</td>\n      <td>Roma</td>\n      <td>Roma</td>\n      <td>tituli sepulcrales</td>\n      <td>mulieres, tria nomina, viri</td>\n      <td>NaN</td>\n      <td>mulieres;  tituli sepulcrales;  tria nomina;  ...</td>\n      <td>NaN</td>\n      <td>NaN</td>\n      <td>NaN</td>\n      <td>NaN</td>\n      <td>NaN</td>\n      <td>NaN</td>\n      <td>NaN</td>\n      <td>NaN</td>\n      <td>NaN</td>\n      <td>NaN</td>\n      <td>NaN</td>\n      <td>NaN</td>\n      <td>[]</td>\n      <td>NaN</td>\n      <td>False</td>\n      <td>NaN</td>\n      <td>NaN</td>\n      <td>NaN</td>\n      <td>NaN</td>\n      <td>NaN</td>\n      <td>False</td>\n      <td>NaN</td>\n      <td>False</td>\n      <td>NaN</td>\n      <td>False</td>\n      <td>NaN</td>\n      <td>False</td>\n      <td>NaN</td>\n      <td>False</td>\n      <td>NaN</td>\n      <td>False</td>\n      <td>NaN</td>\n      <td>False</td>\n      <td>L</td>\n      <td>NaN</td>\n      <td>NaN</td>\n      <td>NaN</td>\n      <td>NaN</td>\n      <td>12.482932</td>\n      <td>41.89332</td>\n      <td>False</td>\n      <td>POINT (12.483 41.893)</td>\n      <td>True</td>\n      <td>large</td>\n      <td>Roma</td>\n      <td>923313.0</td>\n    </tr>\n    <tr>\n      <th>358037</th>\n      <td>358038</td>\n      <td>EDCS-34501137</td>\n      <td>None</td>\n      <td>NaN</td>\n      <td>NaN</td>\n      <td>NaN</td>\n      <td>] in pa[ce</td>\n      <td>in pace</td>\n      <td>NaN</td>\n      <td>in pace</td>\n      <td>in pace</td>\n      <td>NaN</td>\n      <td>Roma</td>\n      <td>Roma</td>\n      <td>inscriptiones christianae, tituli sepulcrales</td>\n      <td>NaN</td>\n      <td>NaN</td>\n      <td>inscriptiones christianae;  tituli sepulcrales</td>\n      <td>http://db.edcs.eu/epigr/partner.php?s_language...</td>\n      <td>NaN</td>\n      <td>NaN</td>\n      <td>NaN</td>\n      <td>NaN</td>\n      <td>NaN</td>\n      <td>NaN</td>\n      <td>NaN</td>\n      <td>NaN</td>\n      <td>NaN</td>\n      <td>NaN</td>\n      <td>NaN</td>\n      <td>[]</td>\n      <td>NaN</td>\n      <td>False</td>\n      <td>NaN</td>\n      <td>NaN</td>\n      <td>NaN</td>\n      <td>NaN</td>\n      <td>NaN</td>\n      <td>False</td>\n      <td>NaN</td>\n      <td>False</td>\n      <td>NaN</td>\n      <td>False</td>\n      <td>NaN</td>\n      <td>False</td>\n      <td>NaN</td>\n      <td>False</td>\n      <td>NaN</td>\n      <td>False</td>\n      <td>NaN</td>\n      <td>False</td>\n      <td>L</td>\n      <td>NaN</td>\n      <td>301 to 400</td>\n      <td>400.0</td>\n      <td>301.0</td>\n      <td>12.482932</td>\n      <td>41.89332</td>\n      <td>True</td>\n      <td>POINT (12.483 41.893)</td>\n      <td>True</td>\n      <td>large</td>\n      <td>Roma</td>\n      <td>923313.0</td>\n    </tr>\n    <tr>\n      <th>335205</th>\n      <td>335206</td>\n      <td>EDCS-31200355</td>\n      <td>None</td>\n      <td>NaN</td>\n      <td>NaN</td>\n      <td>NaN</td>\n      <td>Opus doliare ex praed(iis) Faustinae Aug(ustae...</td>\n      <td>Opus doliare ex praed Faustinae Aug n ex figl ...</td>\n      <td>NaN</td>\n      <td>Opus doliare ex praediis Faustinae Augustae no...</td>\n      <td>Opus doliare ex praediis Faustinae Augustae no...</td>\n      <td>NaN</td>\n      <td>Roma</td>\n      <td>Roma</td>\n      <td>tituli fabricationis</td>\n      <td>NaN</td>\n      <td>sigilla impressa</td>\n      <td>sigilla impressa;  tituli fabricationis</td>\n      <td>NaN</td>\n      <td>NaN</td>\n      <td>NaN</td>\n      <td>NaN</td>\n      <td>NaN</td>\n      <td>NaN</td>\n      <td>NaN</td>\n      <td>NaN</td>\n      <td>NaN</td>\n      <td>NaN</td>\n      <td>NaN</td>\n      <td>NaN</td>\n      <td>[]</td>\n      <td>NaN</td>\n      <td>False</td>\n      <td>NaN</td>\n      <td>NaN</td>\n      <td>NaN</td>\n      <td>NaN</td>\n      <td>NaN</td>\n      <td>False</td>\n      <td>NaN</td>\n      <td>False</td>\n      <td>NaN</td>\n      <td>False</td>\n      <td>NaN</td>\n      <td>False</td>\n      <td>NaN</td>\n      <td>False</td>\n      <td>NaN</td>\n      <td>False</td>\n      <td>NaN</td>\n      <td>False</td>\n      <td>L</td>\n      <td>NaN</td>\n      <td>NaN</td>\n      <td>NaN</td>\n      <td>NaN</td>\n      <td>12.482932</td>\n      <td>41.89332</td>\n      <td>False</td>\n      <td>POINT (12.483 41.893)</td>\n      <td>True</td>\n      <td>large</td>\n      <td>Roma</td>\n      <td>923313.0</td>\n    </tr>\n    <tr>\n      <th>379397</th>\n      <td>379398</td>\n      <td>EDCS-32804919</td>\n      <td>None</td>\n      <td>NaN</td>\n      <td>NaN</td>\n      <td>NaN</td>\n      <td>A]sclepio/[doto fil]io q(ui) [vixit an]no / [m...</td>\n      <td>Asclepio io q no m r Gem merenti t</td>\n      <td>NaN</td>\n      <td>Asclepiodoto filio qui vixit anno mensibus sep...</td>\n      <td>Asclepiodoto filio qui vixit anno mensibus sep...</td>\n      <td>NaN</td>\n      <td>Roma</td>\n      <td>Roma</td>\n      <td>inscriptiones christianae, tituli sepulcrales</td>\n      <td>viri</td>\n      <td>NaN</td>\n      <td>inscriptiones christianae;  tituli sepulcrales...</td>\n      <td>http://db.edcs.eu/epigr/partner.php?s_language...</td>\n      <td>NaN</td>\n      <td>NaN</td>\n      <td>NaN</td>\n      <td>NaN</td>\n      <td>NaN</td>\n      <td>NaN</td>\n      <td>NaN</td>\n      <td>NaN</td>\n      <td>NaN</td>\n      <td>NaN</td>\n      <td>NaN</td>\n      <td>[]</td>\n      <td>NaN</td>\n      <td>False</td>\n      <td>NaN</td>\n      <td>NaN</td>\n      <td>NaN</td>\n      <td>NaN</td>\n      <td>NaN</td>\n      <td>False</td>\n      <td>NaN</td>\n      <td>False</td>\n      <td>NaN</td>\n      <td>False</td>\n      <td>NaN</td>\n      <td>False</td>\n      <td>NaN</td>\n      <td>False</td>\n      <td>NaN</td>\n      <td>False</td>\n      <td>NaN</td>\n      <td>False</td>\n      <td>L</td>\n      <td>NaN</td>\n      <td>301 to 500</td>\n      <td>500.0</td>\n      <td>301.0</td>\n      <td>12.482932</td>\n      <td>41.89332</td>\n      <td>True</td>\n      <td>POINT (12.483 41.893)</td>\n      <td>True</td>\n      <td>large</td>\n      <td>Roma</td>\n      <td>923313.0</td>\n    </tr>\n    <tr>\n      <th>303103</th>\n      <td>303104</td>\n      <td>EDCS-19000581</td>\n      <td>None</td>\n      <td>NaN</td>\n      <td>NaN</td>\n      <td>NaN</td>\n      <td>D(is) M(anibus) / Syntropho / Attiani ser(vo) ...</td>\n      <td>D M Syntropho Attiani ser aCuario Vettia Resti...</td>\n      <td>NaN</td>\n      <td>Dis Manibus Syntropho Attiani servo aquario Ve...</td>\n      <td>Dis Manibus Syntropho Attiani servo aquario Ve...</td>\n      <td>NaN</td>\n      <td>Roma</td>\n      <td>Roma</td>\n      <td>tituli sepulcrales</td>\n      <td>mulieres, servi/servae, viri</td>\n      <td>NaN</td>\n      <td>mulieres;  servi/servae;  tituli sepulcrales; ...</td>\n      <td>http://db.edcs.eu/epigr/partner.php?s_language...</td>\n      <td>NaN</td>\n      <td>NaN</td>\n      <td>NaN</td>\n      <td>NaN</td>\n      <td>NaN</td>\n      <td>NaN</td>\n      <td>NaN</td>\n      <td>NaN</td>\n      <td>NaN</td>\n      <td>NaN</td>\n      <td>NaN</td>\n      <td>[]</td>\n      <td>NaN</td>\n      <td>False</td>\n      <td>NaN</td>\n      <td>NaN</td>\n      <td>NaN</td>\n      <td>NaN</td>\n      <td>NaN</td>\n      <td>False</td>\n      <td>NaN</td>\n      <td>False</td>\n      <td>NaN</td>\n      <td>False</td>\n      <td>NaN</td>\n      <td>False</td>\n      <td>NaN</td>\n      <td>False</td>\n      <td>NaN</td>\n      <td>False</td>\n      <td>NaN</td>\n      <td>False</td>\n      <td>L</td>\n      <td>NaN</td>\n      <td>101 to 200</td>\n      <td>200.0</td>\n      <td>101.0</td>\n      <td>12.482932</td>\n      <td>41.89332</td>\n      <td>True</td>\n      <td>POINT (12.483 41.893)</td>\n      <td>True</td>\n      <td>large</td>\n      <td>Roma</td>\n      <td>923313.0</td>\n    </tr>\n    <tr>\n      <th>306461</th>\n      <td>306462</td>\n      <td>EDCS-14800801</td>\n      <td>None</td>\n      <td>NaN</td>\n      <td>NaN</td>\n      <td>NaN</td>\n      <td>D(is) M(anibus) / L(uci) Ateli L(uci) l(iberti...</td>\n      <td>D M L Ateli L l Vitalis</td>\n      <td>NaN</td>\n      <td>Dis Manibus Luci Ateli Luci liberti Vitalis</td>\n      <td>Dis Manibus Luci Ateli Luci liberti Vitalis</td>\n      <td>NaN</td>\n      <td>Roma</td>\n      <td>Roma</td>\n      <td>tituli sepulcrales</td>\n      <td>liberti/libertae</td>\n      <td>NaN</td>\n      <td>liberti/libertae;  tituli sepulcrales</td>\n      <td>http://db.edcs.eu/epigr/partner.php?s_language...</td>\n      <td>NaN</td>\n      <td>NaN</td>\n      <td>NaN</td>\n      <td>NaN</td>\n      <td>NaN</td>\n      <td>NaN</td>\n      <td>NaN</td>\n      <td>NaN</td>\n      <td>NaN</td>\n      <td>NaN</td>\n      <td>NaN</td>\n      <td>[]</td>\n      <td>NaN</td>\n      <td>False</td>\n      <td>NaN</td>\n      <td>NaN</td>\n      <td>NaN</td>\n      <td>NaN</td>\n      <td>NaN</td>\n      <td>False</td>\n      <td>NaN</td>\n      <td>False</td>\n      <td>NaN</td>\n      <td>False</td>\n      <td>NaN</td>\n      <td>False</td>\n      <td>NaN</td>\n      <td>False</td>\n      <td>NaN</td>\n      <td>False</td>\n      <td>NaN</td>\n      <td>False</td>\n      <td>L</td>\n      <td>NaN</td>\n      <td>51 to 200</td>\n      <td>200.0</td>\n      <td>51.0</td>\n      <td>12.482932</td>\n      <td>41.89332</td>\n      <td>True</td>\n      <td>POINT (12.483 41.893)</td>\n      <td>True</td>\n      <td>large</td>\n      <td>Roma</td>\n      <td>923313.0</td>\n    </tr>\n    <tr>\n      <th>360705</th>\n      <td>360706</td>\n      <td>EDCS-40300948</td>\n      <td>None</td>\n      <td>NaN</td>\n      <td>NaN</td>\n      <td>NaN</td>\n      <td>be]ne mere[nti 3] / [3 vix(it) ann(os)] p(lus)...</td>\n      <td>bene mere p m LXX SEIRVM</td>\n      <td>NaN</td>\n      <td>bene merenti vixit annos plus minus LXX SEIRVM</td>\n      <td>bene merenti vixit annos plus minus LXX SEIRVM</td>\n      <td>NaN</td>\n      <td>Roma</td>\n      <td>Roma</td>\n      <td>inscriptiones christianae, tituli sepulcrales</td>\n      <td>NaN</td>\n      <td>NaN</td>\n      <td>inscriptiones christianae;  tituli sepulcrales</td>\n      <td>http://db.edcs.eu/epigr/partner.php?s_language...</td>\n      <td>NaN</td>\n      <td>NaN</td>\n      <td>NaN</td>\n      <td>NaN</td>\n      <td>NaN</td>\n      <td>NaN</td>\n      <td>NaN</td>\n      <td>NaN</td>\n      <td>NaN</td>\n      <td>NaN</td>\n      <td>NaN</td>\n      <td>[]</td>\n      <td>NaN</td>\n      <td>False</td>\n      <td>NaN</td>\n      <td>NaN</td>\n      <td>NaN</td>\n      <td>NaN</td>\n      <td>NaN</td>\n      <td>False</td>\n      <td>NaN</td>\n      <td>False</td>\n      <td>NaN</td>\n      <td>False</td>\n      <td>NaN</td>\n      <td>False</td>\n      <td>NaN</td>\n      <td>False</td>\n      <td>NaN</td>\n      <td>False</td>\n      <td>NaN</td>\n      <td>False</td>\n      <td>L</td>\n      <td>NaN</td>\n      <td>301 to 400</td>\n      <td>400.0</td>\n      <td>301.0</td>\n      <td>12.482932</td>\n      <td>41.89332</td>\n      <td>True</td>\n      <td>POINT (12.483 41.893)</td>\n      <td>True</td>\n      <td>large</td>\n      <td>Roma</td>\n      <td>923313.0</td>\n    </tr>\n    <tr>\n      <th>295115</th>\n      <td>295116</td>\n      <td>EDCS-17600756</td>\n      <td>None</td>\n      <td>NaN</td>\n      <td>NaN</td>\n      <td>NaN</td>\n      <td>C(aio) Valenti Hostilian[o] / Messio Quinto / ...</td>\n      <td>C Valenti Hostilian Messio Quinto nobilissimo ...</td>\n      <td>NaN</td>\n      <td>Caio Valenti Hostiliano Messio Quinto nobiliss...</td>\n      <td>Caio Valenti Hostiliano Messio Quinto nobiliss...</td>\n      <td>NaN</td>\n      <td>Roma</td>\n      <td>Roma</td>\n      <td>tituli honorarii</td>\n      <td>Augusti/Augustae, viri</td>\n      <td>NaN</td>\n      <td>Augusti/Augustae;  tituli honorarii;  viri</td>\n      <td>http://db.edcs.eu/epigr/partner.php?s_language...</td>\n      <td>NaN</td>\n      <td>NaN</td>\n      <td>NaN</td>\n      <td>NaN</td>\n      <td>NaN</td>\n      <td>NaN</td>\n      <td>NaN</td>\n      <td>NaN</td>\n      <td>NaN</td>\n      <td>NaN</td>\n      <td>NaN</td>\n      <td>[]</td>\n      <td>NaN</td>\n      <td>False</td>\n      <td>NaN</td>\n      <td>NaN</td>\n      <td>NaN</td>\n      <td>NaN</td>\n      <td>NaN</td>\n      <td>False</td>\n      <td>NaN</td>\n      <td>False</td>\n      <td>NaN</td>\n      <td>False</td>\n      <td>NaN</td>\n      <td>False</td>\n      <td>NaN</td>\n      <td>False</td>\n      <td>NaN</td>\n      <td>False</td>\n      <td>NaN</td>\n      <td>False</td>\n      <td>L</td>\n      <td>NaN</td>\n      <td>251 to 251</td>\n      <td>251.0</td>\n      <td>251.0</td>\n      <td>12.482932</td>\n      <td>41.89332</td>\n      <td>True</td>\n      <td>POINT (12.483 41.893)</td>\n      <td>True</td>\n      <td>large</td>\n      <td>Roma</td>\n      <td>923313.0</td>\n    </tr>\n    <tr>\n      <th>334920</th>\n      <td>334921</td>\n      <td>EDCS-30600657</td>\n      <td>None</td>\n      <td>NaN</td>\n      <td>NaN</td>\n      <td>NaN</td>\n      <td>Op(us) dol(iare) ex pr(aediis) Aug(usti) n(ost...</td>\n      <td>Op dol ex pr Aug n fig Dom min Aemiliae Romanae</td>\n      <td>NaN</td>\n      <td>Opus doliare ex praediis Augusti nostri figlin...</td>\n      <td>Opus doliare ex praediis Augusti nostri figlin...</td>\n      <td>NaN</td>\n      <td>Roma</td>\n      <td>Roma</td>\n      <td>tituli fabricationis</td>\n      <td>NaN</td>\n      <td>sigilla impressa</td>\n      <td>sigilla impressa;  tituli fabricationis</td>\n      <td>NaN</td>\n      <td>NaN</td>\n      <td>NaN</td>\n      <td>NaN</td>\n      <td>NaN</td>\n      <td>NaN</td>\n      <td>NaN</td>\n      <td>NaN</td>\n      <td>NaN</td>\n      <td>NaN</td>\n      <td>NaN</td>\n      <td>NaN</td>\n      <td>[]</td>\n      <td>NaN</td>\n      <td>False</td>\n      <td>NaN</td>\n      <td>NaN</td>\n      <td>NaN</td>\n      <td>NaN</td>\n      <td>NaN</td>\n      <td>False</td>\n      <td>NaN</td>\n      <td>False</td>\n      <td>NaN</td>\n      <td>False</td>\n      <td>NaN</td>\n      <td>False</td>\n      <td>NaN</td>\n      <td>False</td>\n      <td>NaN</td>\n      <td>False</td>\n      <td>NaN</td>\n      <td>False</td>\n      <td>L</td>\n      <td>NaN</td>\n      <td>NaN</td>\n      <td>NaN</td>\n      <td>NaN</td>\n      <td>12.482932</td>\n      <td>41.89332</td>\n      <td>False</td>\n      <td>POINT (12.483 41.893)</td>\n      <td>True</td>\n      <td>large</td>\n      <td>Roma</td>\n      <td>923313.0</td>\n    </tr>\n    <tr>\n      <th>367992</th>\n      <td>367993</td>\n      <td>EDCS-35901178</td>\n      <td>None</td>\n      <td>NaN</td>\n      <td>NaN</td>\n      <td>NaN</td>\n      <td>Ino{o}centia in pace qu(a)e vixit annos / XXIII</td>\n      <td>Inoocentia in pace que vixit annos XXIII</td>\n      <td>NaN</td>\n      <td>Inocentia in pace quae vixit annos XXIII</td>\n      <td>Inocentia in pace quae vixit annos XXIII</td>\n      <td>NaN</td>\n      <td>Roma</td>\n      <td>Roma</td>\n      <td>inscriptiones christianae, tituli sepulcrales</td>\n      <td>mulieres, nomen singulare</td>\n      <td>NaN</td>\n      <td>inscriptiones christianae;  mulieres;  nomen s...</td>\n      <td>http://db.edcs.eu/epigr/partner.php?s_language...</td>\n      <td>NaN</td>\n      <td>NaN</td>\n      <td>NaN</td>\n      <td>NaN</td>\n      <td>NaN</td>\n      <td>NaN</td>\n      <td>NaN</td>\n      <td>NaN</td>\n      <td>NaN</td>\n      <td>NaN</td>\n      <td>NaN</td>\n      <td>[]</td>\n      <td>NaN</td>\n      <td>False</td>\n      <td>NaN</td>\n      <td>NaN</td>\n      <td>NaN</td>\n      <td>NaN</td>\n      <td>NaN</td>\n      <td>False</td>\n      <td>NaN</td>\n      <td>False</td>\n      <td>NaN</td>\n      <td>False</td>\n      <td>NaN</td>\n      <td>False</td>\n      <td>NaN</td>\n      <td>False</td>\n      <td>NaN</td>\n      <td>False</td>\n      <td>NaN</td>\n      <td>False</td>\n      <td>L</td>\n      <td>NaN</td>\n      <td>301 to 500</td>\n      <td>500.0</td>\n      <td>301.0</td>\n      <td>12.482932</td>\n      <td>41.89332</td>\n      <td>True</td>\n      <td>POINT (12.483 41.893)</td>\n      <td>True</td>\n      <td>large</td>\n      <td>Roma</td>\n      <td>923313.0</td>\n    </tr>\n    <tr>\n      <th>301433</th>\n      <td>301434</td>\n      <td>EDCS-18600157</td>\n      <td>None</td>\n      <td>NaN</td>\n      <td>NaN</td>\n      <td>NaN</td>\n      <td>Fortunata Apilla / Caecilia</td>\n      <td>Fortunata Apilla Caecilia</td>\n      <td>NaN</td>\n      <td>Fortunata Apilla Caecilia</td>\n      <td>Fortunata Apilla Caecilia</td>\n      <td>NaN</td>\n      <td>Roma</td>\n      <td>Roma</td>\n      <td>NaN</td>\n      <td>NaN</td>\n      <td>NaN</td>\n      <td>NaN</td>\n      <td>http://db.edcs.eu/epigr/partner.php?s_language...</td>\n      <td>NaN</td>\n      <td>NaN</td>\n      <td>NaN</td>\n      <td>NaN</td>\n      <td>NaN</td>\n      <td>NaN</td>\n      <td>NaN</td>\n      <td>NaN</td>\n      <td>NaN</td>\n      <td>NaN</td>\n      <td>NaN</td>\n      <td>[]</td>\n      <td>NaN</td>\n      <td>False</td>\n      <td>NaN</td>\n      <td>NaN</td>\n      <td>NaN</td>\n      <td>NaN</td>\n      <td>NaN</td>\n      <td>False</td>\n      <td>NaN</td>\n      <td>False</td>\n      <td>NaN</td>\n      <td>False</td>\n      <td>NaN</td>\n      <td>False</td>\n      <td>NaN</td>\n      <td>False</td>\n      <td>NaN</td>\n      <td>False</td>\n      <td>NaN</td>\n      <td>False</td>\n      <td>L</td>\n      <td>NaN</td>\n      <td>-30 to 30</td>\n      <td>30.0</td>\n      <td>-30.0</td>\n      <td>12.482932</td>\n      <td>41.89332</td>\n      <td>True</td>\n      <td>POINT (12.483 41.893)</td>\n      <td>True</td>\n      <td>large</td>\n      <td>Roma</td>\n      <td>923313.0</td>\n    </tr>\n    <tr>\n      <th>304159</th>\n      <td>304160</td>\n      <td>EDCS-19600342</td>\n      <td>None</td>\n      <td>NaN</td>\n      <td>NaN</td>\n      <td>NaN</td>\n      <td>Numerus tr[ibulium 3] / quibus locis [frumentu...</td>\n      <td>Numerus tr quibus locis Pal h IIIICLXXXXI i Su...</td>\n      <td>NaN</td>\n      <td>Numerus tribulium quibus locis frumentum accip...</td>\n      <td>Numerus tribulium quibus locis frumentum accip...</td>\n      <td>NaN</td>\n      <td>Roma</td>\n      <td>Roma</td>\n      <td>NaN</td>\n      <td>NaN</td>\n      <td>NaN</td>\n      <td>NaN</td>\n      <td>http://db.edcs.eu/epigr/partner.php?s_language...</td>\n      <td>NaN</td>\n      <td>NaN</td>\n      <td>NaN</td>\n      <td>NaN</td>\n      <td>NaN</td>\n      <td>NaN</td>\n      <td>NaN</td>\n      <td>NaN</td>\n      <td>NaN</td>\n      <td>NaN</td>\n      <td>NaN</td>\n      <td>[]</td>\n      <td>NaN</td>\n      <td>False</td>\n      <td>NaN</td>\n      <td>NaN</td>\n      <td>NaN</td>\n      <td>NaN</td>\n      <td>NaN</td>\n      <td>False</td>\n      <td>NaN</td>\n      <td>False</td>\n      <td>NaN</td>\n      <td>False</td>\n      <td>NaN</td>\n      <td>False</td>\n      <td>NaN</td>\n      <td>False</td>\n      <td>NaN</td>\n      <td>False</td>\n      <td>NaN</td>\n      <td>False</td>\n      <td>L</td>\n      <td>NaN</td>\n      <td>1 to 100</td>\n      <td>100.0</td>\n      <td>1.0</td>\n      <td>12.482932</td>\n      <td>41.89332</td>\n      <td>True</td>\n      <td>POINT (12.483 41.893)</td>\n      <td>True</td>\n      <td>large</td>\n      <td>Roma</td>\n      <td>923313.0</td>\n    </tr>\n    <tr>\n      <th>370635</th>\n      <td>370636</td>\n      <td>EDCS-36901019</td>\n      <td>None</td>\n      <td>NaN</td>\n      <td>NaN</td>\n      <td>NaN</td>\n      <td>Ἀλεξα[νδ3] / [</td>\n      <td>Ἀλεξα</td>\n      <td>NaN</td>\n      <td>Ἀλεξανδ</td>\n      <td>Ἀλεξανδ</td>\n      <td>NaN</td>\n      <td>Roma</td>\n      <td>Roma</td>\n      <td>inscriptiones christianae, tituli sepulcrales</td>\n      <td>NaN</td>\n      <td>NaN</td>\n      <td>inscriptiones christianae;  tituli sepulcrales</td>\n      <td>http://db.edcs.eu/epigr/partner.php?s_language...</td>\n      <td>NaN</td>\n      <td>NaN</td>\n      <td>NaN</td>\n      <td>NaN</td>\n      <td>NaN</td>\n      <td>NaN</td>\n      <td>NaN</td>\n      <td>NaN</td>\n      <td>NaN</td>\n      <td>NaN</td>\n      <td>NaN</td>\n      <td>[]</td>\n      <td>NaN</td>\n      <td>False</td>\n      <td>NaN</td>\n      <td>NaN</td>\n      <td>NaN</td>\n      <td>NaN</td>\n      <td>NaN</td>\n      <td>False</td>\n      <td>NaN</td>\n      <td>False</td>\n      <td>NaN</td>\n      <td>False</td>\n      <td>NaN</td>\n      <td>False</td>\n      <td>NaN</td>\n      <td>False</td>\n      <td>NaN</td>\n      <td>False</td>\n      <td>NaN</td>\n      <td>False</td>\n      <td>L</td>\n      <td>NaN</td>\n      <td>291 to 325</td>\n      <td>325.0</td>\n      <td>291.0</td>\n      <td>12.482932</td>\n      <td>41.89332</td>\n      <td>True</td>\n      <td>POINT (12.483 41.893)</td>\n      <td>True</td>\n      <td>large</td>\n      <td>Roma</td>\n      <td>923313.0</td>\n    </tr>\n    <tr>\n      <th>311834</th>\n      <td>311835</td>\n      <td>EDCS-10200284</td>\n      <td>None</td>\n      <td>NaN</td>\n      <td>NaN</td>\n      <td>NaN</td>\n      <td>D(is) M(anibus) / T(itus) Flavius H&lt;e=F&gt;r/mes ...</td>\n      <td>D M T Flavius HFrmes et Flavia edone fecerunt ...</td>\n      <td>NaN</td>\n      <td>Dis Manibus Titus Flavius Hermes et Flavia Hed...</td>\n      <td>Dis Manibus Titus Flavius Hermes et Flavia Hed...</td>\n      <td>NaN</td>\n      <td>Roma</td>\n      <td>Roma</td>\n      <td>tituli sepulcrales</td>\n      <td>mulieres, nomen singulare, tria nomina, viri</td>\n      <td>NaN</td>\n      <td>mulieres;  nomen singulare;  tituli sepulcrale...</td>\n      <td>http://db.edcs.eu/epigr/partner.php?s_language...</td>\n      <td>NaN</td>\n      <td>NaN</td>\n      <td>NaN</td>\n      <td>NaN</td>\n      <td>NaN</td>\n      <td>NaN</td>\n      <td>NaN</td>\n      <td>NaN</td>\n      <td>NaN</td>\n      <td>NaN</td>\n      <td>NaN</td>\n      <td>[]</td>\n      <td>NaN</td>\n      <td>False</td>\n      <td>NaN</td>\n      <td>NaN</td>\n      <td>NaN</td>\n      <td>NaN</td>\n      <td>NaN</td>\n      <td>False</td>\n      <td>NaN</td>\n      <td>False</td>\n      <td>NaN</td>\n      <td>False</td>\n      <td>NaN</td>\n      <td>False</td>\n      <td>NaN</td>\n      <td>False</td>\n      <td>NaN</td>\n      <td>False</td>\n      <td>NaN</td>\n      <td>False</td>\n      <td>L</td>\n      <td>NaN</td>\n      <td>71 to 130</td>\n      <td>130.0</td>\n      <td>71.0</td>\n      <td>12.482932</td>\n      <td>41.89332</td>\n      <td>True</td>\n      <td>POINT (12.483 41.893)</td>\n      <td>True</td>\n      <td>large</td>\n      <td>Roma</td>\n      <td>923313.0</td>\n    </tr>\n    <tr>\n      <th>306086</th>\n      <td>306087</td>\n      <td>EDCS-14800418</td>\n      <td>None</td>\n      <td>NaN</td>\n      <td>NaN</td>\n      <td>NaN</td>\n      <td>Sex(tus) Appuleius / Sex(ti) l(ibertus) Hilarus</td>\n      <td>Sex Appuleius Sex l Hilarus</td>\n      <td>NaN</td>\n      <td>Sextus Appuleius Sexti libertus Hilarus</td>\n      <td>Sextus Appuleius Sexti libertus Hilarus</td>\n      <td>NaN</td>\n      <td>Roma</td>\n      <td>Roma</td>\n      <td>NaN</td>\n      <td>liberti/libertae</td>\n      <td>NaN</td>\n      <td>liberti/libertae</td>\n      <td>NaN</td>\n      <td>NaN</td>\n      <td>NaN</td>\n      <td>NaN</td>\n      <td>NaN</td>\n      <td>NaN</td>\n      <td>NaN</td>\n      <td>NaN</td>\n      <td>NaN</td>\n      <td>NaN</td>\n      <td>NaN</td>\n      <td>NaN</td>\n      <td>[]</td>\n      <td>NaN</td>\n      <td>False</td>\n      <td>NaN</td>\n      <td>NaN</td>\n      <td>NaN</td>\n      <td>NaN</td>\n      <td>NaN</td>\n      <td>False</td>\n      <td>NaN</td>\n      <td>False</td>\n      <td>NaN</td>\n      <td>False</td>\n      <td>NaN</td>\n      <td>False</td>\n      <td>NaN</td>\n      <td>False</td>\n      <td>NaN</td>\n      <td>False</td>\n      <td>NaN</td>\n      <td>False</td>\n      <td>L</td>\n      <td>NaN</td>\n      <td>NaN</td>\n      <td>NaN</td>\n      <td>NaN</td>\n      <td>12.482932</td>\n      <td>41.89332</td>\n      <td>False</td>\n      <td>POINT (12.483 41.893)</td>\n      <td>True</td>\n      <td>large</td>\n      <td>Roma</td>\n      <td>923313.0</td>\n    </tr>\n    <tr>\n      <th>346087</th>\n      <td>346088</td>\n      <td>EDCS-43600291</td>\n      <td>None</td>\n      <td>NaN</td>\n      <td>NaN</td>\n      <td>NaN</td>\n      <td>D(ecimi) Caecili [3] // CCV[3]</td>\n      <td>D Caecili CCV</td>\n      <td>NaN</td>\n      <td>Decimi Caecili CCV</td>\n      <td>Decimi Caecili CCV</td>\n      <td>NaN</td>\n      <td>Roma</td>\n      <td>Roma</td>\n      <td>NaN</td>\n      <td>NaN</td>\n      <td>NaN</td>\n      <td>NaN</td>\n      <td>NaN</td>\n      <td>NaN</td>\n      <td>NaN</td>\n      <td>NaN</td>\n      <td>NaN</td>\n      <td>NaN</td>\n      <td>NaN</td>\n      <td>NaN</td>\n      <td>NaN</td>\n      <td>NaN</td>\n      <td>NaN</td>\n      <td>NaN</td>\n      <td>[]</td>\n      <td>NaN</td>\n      <td>False</td>\n      <td>NaN</td>\n      <td>NaN</td>\n      <td>NaN</td>\n      <td>NaN</td>\n      <td>NaN</td>\n      <td>False</td>\n      <td>NaN</td>\n      <td>False</td>\n      <td>NaN</td>\n      <td>False</td>\n      <td>NaN</td>\n      <td>False</td>\n      <td>NaN</td>\n      <td>False</td>\n      <td>NaN</td>\n      <td>False</td>\n      <td>NaN</td>\n      <td>False</td>\n      <td>L</td>\n      <td>NaN</td>\n      <td>NaN</td>\n      <td>NaN</td>\n      <td>NaN</td>\n      <td>12.482932</td>\n      <td>41.89332</td>\n      <td>False</td>\n      <td>POINT (12.483 41.893)</td>\n      <td>True</td>\n      <td>large</td>\n      <td>Roma</td>\n      <td>923313.0</td>\n    </tr>\n    <tr>\n      <th>289439</th>\n      <td>289440</td>\n      <td>EDCS-59400064</td>\n      <td>None</td>\n      <td>NaN</td>\n      <td>NaN</td>\n      <td>NaN</td>\n      <td>]/nus se vivo sibi / comparavit et / suis lib(...</td>\n      <td>nus se vivo sibi comparavit et suis lib que</td>\n      <td>NaN</td>\n      <td>nus se vivo sibi comparavit et suis libertis que</td>\n      <td>nus se vivo sibi comparavit et suis libertis que</td>\n      <td>NaN</td>\n      <td>Roma</td>\n      <td>Roma</td>\n      <td>NaN</td>\n      <td>liberti/libertae</td>\n      <td>NaN</td>\n      <td>liberti/libertae</td>\n      <td>http://db.edcs.eu/epigr/partner.php?s_language...</td>\n      <td>NaN</td>\n      <td>NaN</td>\n      <td>NaN</td>\n      <td>NaN</td>\n      <td>NaN</td>\n      <td>NaN</td>\n      <td>NaN</td>\n      <td>NaN</td>\n      <td>NaN</td>\n      <td>NaN</td>\n      <td>NaN</td>\n      <td>[]</td>\n      <td>NaN</td>\n      <td>False</td>\n      <td>NaN</td>\n      <td>NaN</td>\n      <td>NaN</td>\n      <td>NaN</td>\n      <td>NaN</td>\n      <td>False</td>\n      <td>NaN</td>\n      <td>False</td>\n      <td>NaN</td>\n      <td>False</td>\n      <td>NaN</td>\n      <td>False</td>\n      <td>NaN</td>\n      <td>False</td>\n      <td>NaN</td>\n      <td>False</td>\n      <td>NaN</td>\n      <td>False</td>\n      <td>L</td>\n      <td>NaN</td>\n      <td>101 to 300</td>\n      <td>300.0</td>\n      <td>101.0</td>\n      <td>12.482932</td>\n      <td>41.89332</td>\n      <td>True</td>\n      <td>POINT (12.483 41.893)</td>\n      <td>True</td>\n      <td>large</td>\n      <td>Roma</td>\n      <td>923313.0</td>\n    </tr>\n    <tr>\n      <th>349993</th>\n      <td>349994</td>\n      <td>EDCS-38600625</td>\n      <td>None</td>\n      <td>NaN</td>\n      <td>NaN</td>\n      <td>NaN</td>\n      <td>Euty(ches?)</td>\n      <td>Euty</td>\n      <td>NaN</td>\n      <td>Eutyches</td>\n      <td>Eutyches</td>\n      <td>NaN</td>\n      <td>Roma</td>\n      <td>Roma</td>\n      <td>NaN</td>\n      <td>NaN</td>\n      <td>NaN</td>\n      <td>NaN</td>\n      <td>NaN</td>\n      <td>NaN</td>\n      <td>NaN</td>\n      <td>NaN</td>\n      <td>NaN</td>\n      <td>NaN</td>\n      <td>NaN</td>\n      <td>NaN</td>\n      <td>NaN</td>\n      <td>NaN</td>\n      <td>NaN</td>\n      <td>NaN</td>\n      <td>[]</td>\n      <td>NaN</td>\n      <td>False</td>\n      <td>NaN</td>\n      <td>NaN</td>\n      <td>NaN</td>\n      <td>NaN</td>\n      <td>NaN</td>\n      <td>False</td>\n      <td>NaN</td>\n      <td>False</td>\n      <td>NaN</td>\n      <td>False</td>\n      <td>NaN</td>\n      <td>False</td>\n      <td>NaN</td>\n      <td>False</td>\n      <td>NaN</td>\n      <td>False</td>\n      <td>NaN</td>\n      <td>False</td>\n      <td>L</td>\n      <td>NaN</td>\n      <td>NaN</td>\n      <td>NaN</td>\n      <td>NaN</td>\n      <td>12.482932</td>\n      <td>41.89332</td>\n      <td>False</td>\n      <td>POINT (12.483 41.893)</td>\n      <td>True</td>\n      <td>large</td>\n      <td>Roma</td>\n      <td>923313.0</td>\n    </tr>\n    <tr>\n      <th>397423</th>\n      <td>397424</td>\n      <td>EDCS-07700039</td>\n      <td>None</td>\n      <td>NaN</td>\n      <td>NaN</td>\n      <td>NaN</td>\n      <td>]ES[</td>\n      <td>ES</td>\n      <td>NaN</td>\n      <td>ES</td>\n      <td>ES</td>\n      <td>NaN</td>\n      <td>Roma</td>\n      <td>Roma</td>\n      <td>NaN</td>\n      <td>NaN</td>\n      <td>NaN</td>\n      <td>NaN</td>\n      <td>NaN</td>\n      <td>NaN</td>\n      <td>NaN</td>\n      <td>NaN</td>\n      <td>NaN</td>\n      <td>NaN</td>\n      <td>NaN</td>\n      <td>NaN</td>\n      <td>NaN</td>\n      <td>NaN</td>\n      <td>NaN</td>\n      <td>NaN</td>\n      <td>[]</td>\n      <td>NaN</td>\n      <td>False</td>\n      <td>NaN</td>\n      <td>NaN</td>\n      <td>NaN</td>\n      <td>NaN</td>\n      <td>NaN</td>\n      <td>False</td>\n      <td>NaN</td>\n      <td>False</td>\n      <td>NaN</td>\n      <td>False</td>\n      <td>NaN</td>\n      <td>False</td>\n      <td>NaN</td>\n      <td>False</td>\n      <td>NaN</td>\n      <td>False</td>\n      <td>NaN</td>\n      <td>False</td>\n      <td>L</td>\n      <td>NaN</td>\n      <td>NaN</td>\n      <td>NaN</td>\n      <td>NaN</td>\n      <td>12.482932</td>\n      <td>41.89332</td>\n      <td>False</td>\n      <td>POINT (12.483 41.893)</td>\n      <td>True</td>\n      <td>large</td>\n      <td>Roma</td>\n      <td>923313.0</td>\n    </tr>\n    <tr>\n      <th>356456</th>\n      <td>356457</td>\n      <td>EDCS-29601300</td>\n      <td>None</td>\n      <td>NaN</td>\n      <td>NaN</td>\n      <td>NaN</td>\n      <td>?</td>\n      <td></td>\n      <td>NaN</td>\n      <td></td>\n      <td></td>\n      <td>NaN</td>\n      <td>Roma</td>\n      <td>Roma</td>\n      <td>NaN</td>\n      <td>NaN</td>\n      <td>NaN</td>\n      <td>NaN</td>\n      <td>NaN</td>\n      <td>NaN</td>\n      <td>NaN</td>\n      <td>NaN</td>\n      <td>NaN</td>\n      <td>NaN</td>\n      <td>NaN</td>\n      <td>NaN</td>\n      <td>NaN</td>\n      <td>NaN</td>\n      <td>NaN</td>\n      <td>NaN</td>\n      <td>[]</td>\n      <td>NaN</td>\n      <td>False</td>\n      <td>NaN</td>\n      <td>NaN</td>\n      <td>NaN</td>\n      <td>NaN</td>\n      <td>NaN</td>\n      <td>False</td>\n      <td>NaN</td>\n      <td>False</td>\n      <td>NaN</td>\n      <td>False</td>\n      <td>NaN</td>\n      <td>False</td>\n      <td>NaN</td>\n      <td>False</td>\n      <td>NaN</td>\n      <td>False</td>\n      <td>NaN</td>\n      <td>False</td>\n      <td>L</td>\n      <td>NaN</td>\n      <td>NaN</td>\n      <td>NaN</td>\n      <td>NaN</td>\n      <td>12.482932</td>\n      <td>41.89332</td>\n      <td>False</td>\n      <td>POINT (12.483 41.893)</td>\n      <td>True</td>\n      <td>large</td>\n      <td>Roma</td>\n      <td>923313.0</td>\n    </tr>\n    <tr>\n      <th>362707</th>\n      <td>362708</td>\n      <td>EDCS-38302551</td>\n      <td>None</td>\n      <td>NaN</td>\n      <td>NaN</td>\n      <td>NaN</td>\n      <td>[Locus 3 quem se] vivo [comparavit</td>\n      <td>vivo comparavit</td>\n      <td>NaN</td>\n      <td>Locus quem se vivo comparavit</td>\n      <td>Locus quem se vivo comparavit</td>\n      <td>NaN</td>\n      <td>Roma</td>\n      <td>Roma</td>\n      <td>inscriptiones christianae, tituli sepulcrales</td>\n      <td>viri</td>\n      <td>NaN</td>\n      <td>inscriptiones christianae;  tituli sepulcrales...</td>\n      <td>http://db.edcs.eu/epigr/partner.php?s_language...</td>\n      <td>NaN</td>\n      <td>NaN</td>\n      <td>NaN</td>\n      <td>NaN</td>\n      <td>NaN</td>\n      <td>NaN</td>\n      <td>NaN</td>\n      <td>NaN</td>\n      <td>NaN</td>\n      <td>NaN</td>\n      <td>NaN</td>\n      <td>[]</td>\n      <td>NaN</td>\n      <td>False</td>\n      <td>NaN</td>\n      <td>NaN</td>\n      <td>NaN</td>\n      <td>NaN</td>\n      <td>NaN</td>\n      <td>False</td>\n      <td>NaN</td>\n      <td>False</td>\n      <td>NaN</td>\n      <td>False</td>\n      <td>NaN</td>\n      <td>False</td>\n      <td>NaN</td>\n      <td>False</td>\n      <td>NaN</td>\n      <td>False</td>\n      <td>NaN</td>\n      <td>False</td>\n      <td>L</td>\n      <td>NaN</td>\n      <td>401 to 500</td>\n      <td>500.0</td>\n      <td>401.0</td>\n      <td>12.482932</td>\n      <td>41.89332</td>\n      <td>True</td>\n      <td>POINT (12.483 41.893)</td>\n      <td>True</td>\n      <td>large</td>\n      <td>Roma</td>\n      <td>923313.0</td>\n    </tr>\n    <tr>\n      <th>396916</th>\n      <td>396917</td>\n      <td>EDCS-39100764</td>\n      <td>None</td>\n      <td>NaN</td>\n      <td>NaN</td>\n      <td>NaN</td>\n      <td>Ἀλέξανδ[ρος τῇ ἰ]/δίᾳ σ&lt;υ=Ι&gt;μβ[ίῳ 3]/ρᾳ ἐποίη[...</td>\n      <td>Ἀλέξανδ δίᾳ σΙμβ ρᾳ ἐποίη χάριν ἐτ τὰ ς ἐβ ἔτη...</td>\n      <td>NaN</td>\n      <td>Ἀλέξανδρος τῇ ἰδίᾳ συμβίῳ ρᾳ ἐποίησε μνείας χά...</td>\n      <td>Ἀλέξανδρος τῇ ἰδίᾳ συμβίῳ ρᾳ ἐποίησε μνείας χά...</td>\n      <td>NaN</td>\n      <td>Roma</td>\n      <td>Roma</td>\n      <td>NaN</td>\n      <td>NaN</td>\n      <td>NaN</td>\n      <td>NaN</td>\n      <td>http://db.edcs.eu/epigr/partner.php?s_language...</td>\n      <td>NaN</td>\n      <td>NaN</td>\n      <td>NaN</td>\n      <td>NaN</td>\n      <td>NaN</td>\n      <td>NaN</td>\n      <td>NaN</td>\n      <td>NaN</td>\n      <td>NaN</td>\n      <td>NaN</td>\n      <td>NaN</td>\n      <td>[]</td>\n      <td>NaN</td>\n      <td>False</td>\n      <td>NaN</td>\n      <td>NaN</td>\n      <td>NaN</td>\n      <td>NaN</td>\n      <td>NaN</td>\n      <td>False</td>\n      <td>NaN</td>\n      <td>False</td>\n      <td>NaN</td>\n      <td>False</td>\n      <td>NaN</td>\n      <td>False</td>\n      <td>NaN</td>\n      <td>False</td>\n      <td>NaN</td>\n      <td>False</td>\n      <td>NaN</td>\n      <td>False</td>\n      <td>L</td>\n      <td>NaN</td>\n      <td>NaN</td>\n      <td>NaN</td>\n      <td>NaN</td>\n      <td>12.482932</td>\n      <td>41.89332</td>\n      <td>False</td>\n      <td>POINT (12.483 41.893)</td>\n      <td>True</td>\n      <td>large</td>\n      <td>Roma</td>\n      <td>923313.0</td>\n    </tr>\n    <tr>\n      <th>358073</th>\n      <td>358074</td>\n      <td>EDCS-39101967</td>\n      <td>None</td>\n      <td>NaN</td>\n      <td>NaN</td>\n      <td>NaN</td>\n      <td>]C[3] / [in pa]ce qui vix[it ann(os) 3] / [d]e...</td>\n      <td>C ce qui vix ep Honor odio v c conss</td>\n      <td>NaN</td>\n      <td>C in pace qui vixit annos depositus Honorio no...</td>\n      <td>C in pace qui vixit annos depositus Honorio no...</td>\n      <td>NaN</td>\n      <td>Roma</td>\n      <td>Roma</td>\n      <td>inscriptiones christianae, tituli sepulcrales</td>\n      <td>ordo senatorius</td>\n      <td>NaN</td>\n      <td>inscriptiones christianae;  ordo senatorius;  ...</td>\n      <td>http://db.edcs.eu/epigr/partner.php?s_language...</td>\n      <td>NaN</td>\n      <td>NaN</td>\n      <td>NaN</td>\n      <td>NaN</td>\n      <td>NaN</td>\n      <td>NaN</td>\n      <td>NaN</td>\n      <td>NaN</td>\n      <td>NaN</td>\n      <td>NaN</td>\n      <td>NaN</td>\n      <td>[]</td>\n      <td>NaN</td>\n      <td>False</td>\n      <td>NaN</td>\n      <td>NaN</td>\n      <td>NaN</td>\n      <td>NaN</td>\n      <td>NaN</td>\n      <td>False</td>\n      <td>NaN</td>\n      <td>False</td>\n      <td>NaN</td>\n      <td>False</td>\n      <td>NaN</td>\n      <td>False</td>\n      <td>NaN</td>\n      <td>False</td>\n      <td>NaN</td>\n      <td>False</td>\n      <td>NaN</td>\n      <td>False</td>\n      <td>L</td>\n      <td>NaN</td>\n      <td>386 to 386</td>\n      <td>386.0</td>\n      <td>386.0</td>\n      <td>12.482932</td>\n      <td>41.89332</td>\n      <td>True</td>\n      <td>POINT (12.483 41.893)</td>\n      <td>True</td>\n      <td>large</td>\n      <td>Roma</td>\n      <td>923313.0</td>\n    </tr>\n    <tr>\n      <th>309817</th>\n      <td>309818</td>\n      <td>EDCS-12000934</td>\n      <td>None</td>\n      <td>NaN</td>\n      <td>NaN</td>\n      <td>NaN</td>\n      <td>D(is) M(anibus) / Cominia Calli/ope Aemilio / ...</td>\n      <td>D M Cominia Calliope Aemilio Zosimo coniugi b ...</td>\n      <td>NaN</td>\n      <td>Dis Manibus Cominia Calliope Aemilio Zosimo co...</td>\n      <td>Dis Manibus Cominia Calliope Aemilio Zosimo co...</td>\n      <td>NaN</td>\n      <td>Roma</td>\n      <td>Roma</td>\n      <td>tituli sepulcrales</td>\n      <td>mulieres, tria nomina, viri</td>\n      <td>NaN</td>\n      <td>mulieres;  tituli sepulcrales;  tria nomina;  ...</td>\n      <td>http://db.edcs.eu/epigr/partner.php?s_language...</td>\n      <td>NaN</td>\n      <td>NaN</td>\n      <td>NaN</td>\n      <td>NaN</td>\n      <td>NaN</td>\n      <td>NaN</td>\n      <td>NaN</td>\n      <td>NaN</td>\n      <td>NaN</td>\n      <td>NaN</td>\n      <td>NaN</td>\n      <td>[]</td>\n      <td>NaN</td>\n      <td>False</td>\n      <td>NaN</td>\n      <td>NaN</td>\n      <td>NaN</td>\n      <td>NaN</td>\n      <td>NaN</td>\n      <td>False</td>\n      <td>NaN</td>\n      <td>False</td>\n      <td>NaN</td>\n      <td>False</td>\n      <td>NaN</td>\n      <td>False</td>\n      <td>NaN</td>\n      <td>False</td>\n      <td>NaN</td>\n      <td>False</td>\n      <td>NaN</td>\n      <td>False</td>\n      <td>L</td>\n      <td>NaN</td>\n      <td>101 to 200</td>\n      <td>200.0</td>\n      <td>101.0</td>\n      <td>12.482932</td>\n      <td>41.89332</td>\n      <td>True</td>\n      <td>POINT (12.483 41.893)</td>\n      <td>True</td>\n      <td>large</td>\n      <td>Roma</td>\n      <td>923313.0</td>\n    </tr>\n    <tr>\n      <th>356898</th>\n      <td>356899</td>\n      <td>EDCS-38600209</td>\n      <td>None</td>\n      <td>NaN</td>\n      <td>NaN</td>\n      <td>NaN</td>\n      <td>] Iulius [3] / [3 qu]i vixit an[nos</td>\n      <td>Iulius i vixit annos</td>\n      <td>NaN</td>\n      <td>Iulius qui vixit annos</td>\n      <td>Iulius qui vixit annos</td>\n      <td>NaN</td>\n      <td>Roma</td>\n      <td>Roma</td>\n      <td>inscriptiones christianae, tituli sepulcrales</td>\n      <td>viri</td>\n      <td>NaN</td>\n      <td>inscriptiones christianae;  tituli sepulcrales...</td>\n      <td>http://db.edcs.eu/epigr/partner.php?s_language...</td>\n      <td>NaN</td>\n      <td>NaN</td>\n      <td>NaN</td>\n      <td>NaN</td>\n      <td>NaN</td>\n      <td>NaN</td>\n      <td>NaN</td>\n      <td>NaN</td>\n      <td>NaN</td>\n      <td>NaN</td>\n      <td>NaN</td>\n      <td>[]</td>\n      <td>NaN</td>\n      <td>False</td>\n      <td>NaN</td>\n      <td>NaN</td>\n      <td>NaN</td>\n      <td>NaN</td>\n      <td>NaN</td>\n      <td>False</td>\n      <td>NaN</td>\n      <td>False</td>\n      <td>NaN</td>\n      <td>False</td>\n      <td>NaN</td>\n      <td>False</td>\n      <td>NaN</td>\n      <td>False</td>\n      <td>NaN</td>\n      <td>False</td>\n      <td>NaN</td>\n      <td>False</td>\n      <td>L</td>\n      <td>NaN</td>\n      <td>301 to 400</td>\n      <td>400.0</td>\n      <td>301.0</td>\n      <td>12.482932</td>\n      <td>41.89332</td>\n      <td>True</td>\n      <td>POINT (12.483 41.893)</td>\n      <td>True</td>\n      <td>large</td>\n      <td>Roma</td>\n      <td>923313.0</td>\n    </tr>\n    <tr>\n      <th>518401</th>\n      <td>518402</td>\n      <td>EDCS-32804839</td>\n      <td>HD032169</td>\n      <td>https://www.trismegistos.org/text/263224</td>\n      <td>423025</td>\n      <td>[Hic iacet] Gerontia / [quae vixi]t annos / [-...</td>\n      <td>Hic iacet Gerontia / qu(a)e vixit annos / XXXI...</td>\n      <td>Gerontia t annos enses III d XIII II Kl Octob ...</td>\n      <td>Hic iacet Gerontia quae vixit annos et menses ...</td>\n      <td>Hic iacet Gerontia quae vixit annos et menses ...</td>\n      <td>Hic iacet Gerontia quae vixit annos XXXIIII me...</td>\n      <td>[ ] GERONTIA / [ ]T ANNOS / [ ]ENSES III D XII...</td>\n      <td>Roma</td>\n      <td>Roma</td>\n      <td>inscriptiones christianae, tituli sepulcrales</td>\n      <td>mulieres, nomen singulare</td>\n      <td>NaN</td>\n      <td>inscriptiones christianae;  mulieres;  nomen s...</td>\n      <td>http://db.edcs.eu/epigr/partner.php?s_language...</td>\n      <td>2015-05-26</td>\n      <td>NaN</td>\n      <td>NaN</td>\n      <td>provisional</td>\n      <td>NaN</td>\n      <td>NaN</td>\n      <td>\\n Hic iacet Gerontia quae vixit annos et mens...</td>\n      <td>NaN</td>\n      <td>NaN</td>\n      <td>1000</td>\n      <td>143</td>\n      <td>[{'persname': {'name': {'@type': 'cognomen', '...</td>\n      <td>NULL</td>\n      <td>False</td>\n      <td>NaN</td>\n      <td>NaN</td>\n      <td>NaN</td>\n      <td>NULL</td>\n      <td>NULL</td>\n      <td>False</td>\n      <td>Roma</td>\n      <td>False</td>\n      <td>Italy</td>\n      <td>False</td>\n      <td>Roma</td>\n      <td>False</td>\n      <td>Roma</td>\n      <td>False</td>\n      <td>Roma</td>\n      <td>False</td>\n      <td>NULL</td>\n      <td>False</td>\n      <td>L</td>\n      <td>NaN</td>\n      <td>372 to 372</td>\n      <td>372.0</td>\n      <td>372.0</td>\n      <td>12.486200</td>\n      <td>41.89170</td>\n      <td>True</td>\n      <td>POINT (12.486 41.892)</td>\n      <td>True</td>\n      <td>large</td>\n      <td>Roma</td>\n      <td>923313.0</td>\n    </tr>\n    <tr>\n      <th>517924</th>\n      <td>517925</td>\n      <td>EDCS-01000427</td>\n      <td>HD032597</td>\n      <td>https://www.trismegistos.org/text/262805</td>\n      <td>423025</td>\n      <td>Q(uinto) Sulpic(io) Lucc[eio] / Victorino fil[...</td>\n      <td>Q(uinto) Sulpic(io) Lucc[eio] / Victorino fil[...</td>\n      <td>Q Sulpic Lucc Victorino fil dulcissimo e publi...</td>\n      <td>Quinto Sulpicio Lucceio Victorino filio dulcis...</td>\n      <td>Quinto Sulpicio Lucceio Victorino filio dulcis...</td>\n      <td>Quinto Sulpicio Lucceio Victorino filio dulcis...</td>\n      <td>Q SVLPIC LVCC[ ] / VICTORINO FIL[ ] / DVLCISSI...</td>\n      <td>Roma</td>\n      <td>Roma</td>\n      <td>tituli sepulcrales</td>\n      <td>ordo equester, tria nomina, viri</td>\n      <td>NaN</td>\n      <td>ordo equester;  tituli sepulcrales;  tria nomi...</td>\n      <td>http://db.edcs.eu/epigr/partner.php?s_language...</td>\n      <td>2007-07-19</td>\n      <td>5-3 cm</td>\n      <td>epitaph</td>\n      <td>checked with photo</td>\n      <td>NaN</td>\n      <td>Roma, Antiq. Celio</td>\n      <td>\\n Quinto Sulpicio Lucceio Victorino filio dul...</td>\n      <td>189</td>\n      <td>NaN</td>\n      <td>1000</td>\n      <td>92</td>\n      <td>[{'persname': {'name': [{'@type': 'praenomen',...</td>\n      <td>epitaph</td>\n      <td>False</td>\n      <td>36.0</td>\n      <td>36.0</td>\n      <td>20.0</td>\n      <td>NULL</td>\n      <td>block</td>\n      <td>False</td>\n      <td>Roma</td>\n      <td>False</td>\n      <td>Italy</td>\n      <td>False</td>\n      <td>Roma</td>\n      <td>False</td>\n      <td>Roma</td>\n      <td>False</td>\n      <td>Roma</td>\n      <td>False</td>\n      <td>NULL</td>\n      <td>False</td>\n      <td>L</td>\n      <td>NaN</td>\n      <td>171 to 200</td>\n      <td>200.0</td>\n      <td>151.0</td>\n      <td>12.486200</td>\n      <td>41.89170</td>\n      <td>True</td>\n      <td>POINT (12.486 41.892)</td>\n      <td>True</td>\n      <td>large</td>\n      <td>Roma</td>\n      <td>923313.0</td>\n    </tr>\n    <tr>\n      <th>393007</th>\n      <td>393008</td>\n      <td>EDCS-33100449</td>\n      <td>None</td>\n      <td>NaN</td>\n      <td>NaN</td>\n      <td>NaN</td>\n      <td>Prestantius Victori(a)e co(n)iugi dulcis[sima]...</td>\n      <td>Prestantius Victorie coiugi dulcis e que vixit...</td>\n      <td>NaN</td>\n      <td>Prestantius Victoriae coniugi dulcissimae quae...</td>\n      <td>Prestantius Victoriae coniugi dulcissimae quae...</td>\n      <td>NaN</td>\n      <td>Roma</td>\n      <td>Roma</td>\n      <td>inscriptiones christianae, tituli sepulcrales</td>\n      <td>mulieres, nomen singulare, viri</td>\n      <td>NaN</td>\n      <td>inscriptiones christianae;  mulieres;  nomen s...</td>\n      <td>http://db.edcs.eu/epigr/partner.php?s_language...</td>\n      <td>NaN</td>\n      <td>NaN</td>\n      <td>NaN</td>\n      <td>NaN</td>\n      <td>NaN</td>\n      <td>NaN</td>\n      <td>NaN</td>\n      <td>NaN</td>\n      <td>NaN</td>\n      <td>NaN</td>\n      <td>NaN</td>\n      <td>[]</td>\n      <td>NaN</td>\n      <td>False</td>\n      <td>NaN</td>\n      <td>NaN</td>\n      <td>NaN</td>\n      <td>NaN</td>\n      <td>NaN</td>\n      <td>False</td>\n      <td>NaN</td>\n      <td>False</td>\n      <td>NaN</td>\n      <td>False</td>\n      <td>NaN</td>\n      <td>False</td>\n      <td>NaN</td>\n      <td>False</td>\n      <td>NaN</td>\n      <td>False</td>\n      <td>NaN</td>\n      <td>False</td>\n      <td>L</td>\n      <td>NaN</td>\n      <td>326 to 375</td>\n      <td>375.0</td>\n      <td>326.0</td>\n      <td>12.482932</td>\n      <td>41.89332</td>\n      <td>True</td>\n      <td>POINT (12.483 41.893)</td>\n      <td>True</td>\n      <td>large</td>\n      <td>Roma</td>\n      <td>923313.0</td>\n    </tr>\n  </tbody>\n</table>\n</div>"
     },
     "execution_count": 295,
     "metadata": {},
     "output_type": "execute_result"
    }
   ],
   "source": [
    "LIST[LIST[\"urban_context_city\"]==\"Roma\"].sample(50)"
   ],
   "metadata": {
    "collapsed": false,
    "ExecuteTime": {
     "start_time": "2023-04-26T20:35:15.594712Z",
     "end_time": "2023-04-26T20:35:15.712490Z"
    }
   }
  },
  {
   "cell_type": "code",
   "execution_count": 296,
   "outputs": [
    {
     "data": {
      "text/plain": "Index(['LIST-ID', 'EDCS-ID', 'EDH-ID', 'trismegistos_uri', 'pleiades_id',\n       'transcription', 'inscription', 'clean_text_conservative',\n       'clean_text_interpretive_sentence', 'clean_text_interpretive_word',\n       'clean_text_interpretive_word_EDCS', 'diplomatic_text', 'province',\n       'place', 'inscr_type', 'status_notation', 'inscr_process', 'status',\n       'partner_link', 'last_update', 'letter_size', 'type_of_inscription',\n       'work_status', 'year_of_find', 'present_location', 'text_edition',\n       'support_objecttype', 'support_material', 'support_decoration',\n       'keywords_term', 'people', 'type_of_inscription_clean',\n       'type_of_inscription_certainty', 'height_cm', 'width_cm', 'depth_cm',\n       'material_clean', 'type_of_monument_clean',\n       'type_of_monument_certainty', 'province_label_clean',\n       'province_label_certainty', 'country_clean', 'country_certainty',\n       'findspot_ancient_clean', 'findspot_ancient_certainty',\n       'modern_region_clean', 'modern_region_certainty',\n       'findspot_modern_clean', 'findspot_modern_certainty', 'findspot_clean',\n       'findspot_certainty', 'language', 'language_EDCS', 'raw_dating',\n       'not_after', 'not_before', 'Longitude', 'Latitude', 'geotemporal?',\n       'geometry', 'withinRE?', 'urban_context', 'urban_context_city',\n       'urban_context_pop_est'],\n      dtype='object')"
     },
     "execution_count": 296,
     "metadata": {},
     "output_type": "execute_result"
    }
   ],
   "source": [
    "LIST.columns"
   ],
   "metadata": {
    "collapsed": false,
    "ExecuteTime": {
     "start_time": "2023-04-26T20:35:16.279009Z",
     "end_time": "2023-04-26T20:35:16.282343Z"
    }
   }
  },
  {
   "cell_type": "code",
   "execution_count": 297,
   "outputs": [],
   "source": [
    "# Preliminary testing of new LIRE... (whehther \"withinRE\" works properly etc...)"
   ],
   "metadata": {
    "collapsed": false,
    "ExecuteTime": {
     "start_time": "2023-04-26T20:35:16.714686Z",
     "end_time": "2023-04-26T20:35:16.718635Z"
    }
   }
  },
  {
   "cell_type": "code",
   "execution_count": 298,
   "outputs": [],
   "source": [
    "LIRE = LIST[\n",
    "    (LIST[\"geotemporal?\"])\n",
    "    &(LIST[\"withinRE?\"])\n",
    "    & ((LIST[\"not_after\"]>=-50)\n",
    "       | (LIST[\"not_before\"]<=350))]"
   ],
   "metadata": {
    "collapsed": false,
    "ExecuteTime": {
     "start_time": "2023-04-26T20:35:17.265596Z",
     "end_time": "2023-04-26T20:35:18.310561Z"
    }
   }
  },
  {
   "cell_type": "code",
   "execution_count": 299,
   "outputs": [
    {
     "name": "stdout",
     "output_type": "stream",
     "text": [
      "138599\n",
      "64865\n"
     ]
    }
   ],
   "source": [
    "print(LIRE[\"EDH-ID\"].isnull().sum())\n",
    "print(LIRE[\"EDH-ID\"].notnull().sum())"
   ],
   "metadata": {
    "collapsed": false,
    "ExecuteTime": {
     "start_time": "2023-04-26T20:35:22.283487Z",
     "end_time": "2023-04-26T20:35:22.329204Z"
    }
   }
  },
  {
   "cell_type": "code",
   "execution_count": 300,
   "outputs": [
    {
     "data": {
      "text/plain": "<Figure size 640x480 with 1 Axes>",
      "image/png": "[encoded data removed]"
     },
     "metadata": {},
     "output_type": "display_data"
    }
   ],
   "source": [
    "fig, ax = plt.subplots()\n",
    "gpd.GeoSeries(pleiades_regions_merged_buffer_4326).plot(ax=ax, color=\"green\")\n",
    "gpd.GeoSeries(medsea_merged_buffer_4326).plot(ax=ax, color=\"blue\")\n",
    "LIRE.plot(ax=ax, color=\"black\", markersize=1)\n",
    "ax.set_axis_off()"
   ],
   "metadata": {
    "collapsed": false,
    "ExecuteTime": {
     "start_time": "2023-04-26T20:35:23.720114Z",
     "end_time": "2023-04-26T20:35:28.277887Z"
    }
   }
  },
  {
   "cell_type": "markdown",
   "source": [
    "# Replace invalid geometries with Nones"
   ],
   "metadata": {
    "collapsed": false
   }
  },
  {
   "cell_type": "code",
   "execution_count": 301,
   "outputs": [],
   "source": [
    "LIST[\"valid_nonempty\"] = ((LIST.geometry.is_valid) & ~(LIST.geometry.is_empty))"
   ],
   "metadata": {
    "collapsed": false,
    "ExecuteTime": {
     "start_time": "2023-04-26T20:36:28.865282Z",
     "end_time": "2023-04-26T20:36:29.692238Z"
    }
   }
  },
  {
   "cell_type": "code",
   "execution_count": 302,
   "outputs": [],
   "source": [
    "def geo_or_none(row):\n",
    "    if row[\"valid_nonempty\"]:\n",
    "        return row.geometry\n",
    "    else:\n",
    "        return None"
   ],
   "metadata": {
    "collapsed": false,
    "ExecuteTime": {
     "start_time": "2023-04-26T20:36:29.692960Z",
     "end_time": "2023-04-26T20:36:29.695966Z"
    }
   }
  },
  {
   "cell_type": "code",
   "execution_count": 303,
   "outputs": [],
   "source": [
    "new_geometry = LIST.apply(lambda row: geo_or_none(row), axis=1)"
   ],
   "metadata": {
    "collapsed": false,
    "ExecuteTime": {
     "start_time": "2023-04-26T20:36:30.489624Z",
     "end_time": "2023-04-26T20:36:38.562501Z"
    }
   }
  },
  {
   "cell_type": "code",
   "execution_count": 304,
   "outputs": [],
   "source": [
    "LIST.geometry = new_geometry"
   ],
   "metadata": {
    "collapsed": false,
    "ExecuteTime": {
     "start_time": "2023-04-26T20:36:38.566662Z",
     "end_time": "2023-04-26T20:36:38.582698Z"
    }
   }
  },
  {
   "cell_type": "code",
   "execution_count": 305,
   "outputs": [],
   "source": [
    "LIST.drop(columns=[\"valid_nonempty\"], inplace=True)"
   ],
   "metadata": {
    "collapsed": false,
    "ExecuteTime": {
     "start_time": "2023-04-26T20:36:38.935391Z",
     "end_time": "2023-04-26T20:36:39.053278Z"
    }
   }
  },
  {
   "cell_type": "markdown",
   "metadata": {},
   "source": [
    "# Saving the data"
   ]
  },
  {
   "cell_type": "code",
   "execution_count": 306,
   "outputs": [],
   "source": [
    "LIST.to_parquet(\"../data/large_data/LIST_contexts.parquet\")"
   ],
   "metadata": {
    "collapsed": false,
    "ExecuteTime": {
     "start_time": "2023-04-26T20:36:39.890122Z",
     "end_time": "2023-04-26T20:36:47.627947Z"
    }
   }
  },
  {
   "cell_type": "code",
   "execution_count": null,
   "outputs": [],
   "source": [],
   "metadata": {
    "collapsed": false
   }
  }
 ],
 "metadata": {
  "kernelspec": {
   "name": "lire_venv",
   "language": "python",
   "display_name": "lire_venv"
  },
  "language_info": {
   "codemirror_mode": {
    "name": "ipython",
    "version": 3
   },
   "file_extension": ".py",
   "mimetype": "text/x-python",
   "name": "python",
   "nbconvert_exporter": "python",
   "pygments_lexer": "ipython3",
   "version": "3.6.9"
  }
 },
 "nbformat": 4,
 "nbformat_minor": 4
}
