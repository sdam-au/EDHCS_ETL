{
 "cells": [
  {
   "cell_type": "code",
   "execution_count": 1,
   "metadata": {},
   "outputs": [],
   "source": [
    "import pandas as pd\n",
    "import numpy as np\n",
    "import nltk\n",
    "import requests\n",
    "import re\n",
    "import json\n",
    "\n",
    "import matplotlib as mpl\n",
    "import matplotlib.pyplot as plt\n",
    "import matplotlib.colors as mcolors\n",
    "tab_colors_list = list(mcolors.TABLEAU_COLORS.keys())\n",
    "import matplotlib.lines as mlines\n",
    "import seaborn as sns\n",
    "\n",
    "import gspread\n",
    "from gspread_dataframe import get_as_dataframe, set_with_dataframe\n",
    "from google.oauth2 import service_account # based on google-auth library\n",
    "\n",
    "import sddk"
   ]
  },
  {
   "cell_type": "code",
   "execution_count": 42,
   "metadata": {},
   "outputs": [
    {
     "name": "stdout",
     "output_type": "stream",
     "text": [
      "sciencedata.dk username (format '123456@au.dk'): 648560@au.dk\n",
      "sciencedata.dk password: ········\n",
      "endpoint variable has been configured to: https://sciencedata.dk/files/\n"
     ]
    }
   ],
   "source": [
    "# to access gsheet, you need Google Service Account key json file\n",
    "# I have mine located in my personal space on sciencedata.dk, so I read it from there:\n",
    "conf = sddk.configure()\n",
    "\n",
    "# (1) read the file and parse its content\n",
    "file_data = conf[0].get(conf[1] + \"ServiceAccountsKey.json\").json()\n",
    "# (2) transform the content into crendentials object\n",
    "credentials = service_account.Credentials.from_service_account_info(file_data)\n",
    "# (3) specify your usage of the credentials\n",
    "scoped_credentials = credentials.with_scopes(['https://spreadsheets.google.com/feeds', 'https://www.googleapis.com/auth/drive'])\n",
    "# (4) use the constrained credentials for authentication of gspread package\n",
    "gc = gspread.Client(auth=scoped_credentials)\n",
    "# (5) establish connection with spreadsheets specified by their url\n",
    "occupations = gc.open_by_url(\"https://docs.google.com/spreadsheets/d/1nONTEwp42CVnq3iCiONrFbJedIcYtBV-l4Bil5mU7Eo/edit?usp=sharing\")"
   ]
  },
  {
   "cell_type": "markdown",
   "metadata": {},
   "source": [
    "# Loading datasets"
   ]
  },
  {
   "cell_type": "code",
   "execution_count": 3,
   "metadata": {},
   "outputs": [
    {
     "name": "stdout",
     "output_type": "stream",
     "text": [
      "reading file located in a public folder\n"
     ]
    },
    {
     "data": {
      "text/html": [
       "<div>\n",
       "<style scoped>\n",
       "    .dataframe tbody tr th:only-of-type {\n",
       "        vertical-align: middle;\n",
       "    }\n",
       "\n",
       "    .dataframe tbody tr th {\n",
       "        vertical-align: top;\n",
       "    }\n",
       "\n",
       "    .dataframe thead th {\n",
       "        text-align: right;\n",
       "    }\n",
       "</style>\n",
       "<table border=\"1\" class=\"dataframe\">\n",
       "  <thead>\n",
       "    <tr style=\"text-align: right;\">\n",
       "      <th></th>\n",
       "      <th>responsible_individual</th>\n",
       "      <th>type_of_inscription</th>\n",
       "      <th>letter_size</th>\n",
       "      <th>not_after</th>\n",
       "      <th>literature</th>\n",
       "      <th>work_status</th>\n",
       "      <th>height</th>\n",
       "      <th>diplomatic_text</th>\n",
       "      <th>people</th>\n",
       "      <th>depth</th>\n",
       "      <th>...</th>\n",
       "      <th>clean_text_conservative</th>\n",
       "      <th>clean_text_interpretive_word</th>\n",
       "      <th>clean_text_interpretive_sentence</th>\n",
       "      <th>findspot</th>\n",
       "      <th>year_of_find</th>\n",
       "      <th>present_location</th>\n",
       "      <th>religion</th>\n",
       "      <th>geography</th>\n",
       "      <th>social_economic_legal_history</th>\n",
       "      <th>military</th>\n",
       "    </tr>\n",
       "  </thead>\n",
       "  <tbody>\n",
       "    <tr>\n",
       "      <th>0</th>\n",
       "      <td>Feraudi</td>\n",
       "      <td>epitaph</td>\n",
       "      <td>3.2-2 cm</td>\n",
       "      <td>0130</td>\n",
       "      <td>AE 1983, 0192.; M. Annecchino, Puteoli 4/5, 19...</td>\n",
       "      <td>provisional</td>\n",
       "      <td>33 cm</td>\n",
       "      <td>D M / NONIAE P F OPTATAE / ET C IVLIO ARTEMONI...</td>\n",
       "      <td>[{'name': 'Noniae P.f. Optatae', 'cognomen': '...</td>\n",
       "      <td>2.7 cm</td>\n",
       "      <td>...</td>\n",
       "      <td>D M Noniae P f Optatae et C Iulio Artemoni par...</td>\n",
       "      <td>Dis Manibus Noniae Publi filiae Optatae et Cai...</td>\n",
       "      <td>Dis Manibus Noniae Publi filiae Optatae et Cai...</td>\n",
       "      <td>NaN</td>\n",
       "      <td>NaN</td>\n",
       "      <td>NaN</td>\n",
       "      <td>NaN</td>\n",
       "      <td>NaN</td>\n",
       "      <td>NaN</td>\n",
       "      <td>NaN</td>\n",
       "    </tr>\n",
       "    <tr>\n",
       "      <th>1</th>\n",
       "      <td>Feraudi</td>\n",
       "      <td>epitaph</td>\n",
       "      <td>4 cm</td>\n",
       "      <td>0200</td>\n",
       "      <td>AE 1983, 0080. (A); A. Ferrua, RAL 36, 1981, 1...</td>\n",
       "      <td>no image</td>\n",
       "      <td>28 cm</td>\n",
       "      <td>C SEXTIVS PARIS / QVI VIXIT / ANNIS LXX</td>\n",
       "      <td>[{'nomen': 'Sextius', 'praenomen': 'C.', 'pers...</td>\n",
       "      <td>NaN</td>\n",
       "      <td>...</td>\n",
       "      <td>C Sextius Paris qui vixit annis LXX</td>\n",
       "      <td>Caius Sextius Paris qui vixit annis LXX</td>\n",
       "      <td>Caius Sextius Paris qui vixit annis LXX</td>\n",
       "      <td>Via Nomentana, S. Alessandro, Kirche</td>\n",
       "      <td>1937</td>\n",
       "      <td>NaN</td>\n",
       "      <td>NaN</td>\n",
       "      <td>NaN</td>\n",
       "      <td>NaN</td>\n",
       "      <td>NaN</td>\n",
       "    </tr>\n",
       "    <tr>\n",
       "      <th>2</th>\n",
       "      <td>Feraudi</td>\n",
       "      <td>honorific inscription</td>\n",
       "      <td>4.5-3 cm</td>\n",
       "      <td>0170</td>\n",
       "      <td>AE 1983, 0518. (B); J. González, ZPE 52, 1983,...</td>\n",
       "      <td>provisional</td>\n",
       "      <td>(37) cm</td>\n",
       "      <td>[ ]VMMIO [ ] / [ ]ISENNA[ ] / [ ] XV[ ] / [ ] / [</td>\n",
       "      <td>[{'nomen': 'Mummius+', 'gender': 'male', 'prae...</td>\n",
       "      <td>(12) cm</td>\n",
       "      <td>...</td>\n",
       "      <td>ummio isenna Xv</td>\n",
       "      <td>Publio Mummio Publi filio Galeria Sisennae Rut...</td>\n",
       "      <td>Publio Mummio Publi filio Galeria Sisennae Rut...</td>\n",
       "      <td>NaN</td>\n",
       "      <td>before 1975</td>\n",
       "      <td>Sevilla, Privatbesitz</td>\n",
       "      <td>NaN</td>\n",
       "      <td>NaN</td>\n",
       "      <td>NaN</td>\n",
       "      <td>NaN</td>\n",
       "    </tr>\n",
       "    <tr>\n",
       "      <th>3</th>\n",
       "      <td>Gräf</td>\n",
       "      <td>votive inscription</td>\n",
       "      <td>2.5 cm</td>\n",
       "      <td>0200</td>\n",
       "      <td>AE 1983, 0533. (B); A.U. Stylow, Gerión 1, 198...</td>\n",
       "      <td>checked with photo</td>\n",
       "      <td>(39) cm</td>\n",
       "      <td>[ ]AVS[ ]LLA / M PORCI NIGRI SER / DOMINAE VEN...</td>\n",
       "      <td>[{'name': '[---?]AV(?)S(?)[---]L(?)L(?)A M. Po...</td>\n",
       "      <td>18 cm</td>\n",
       "      <td>...</td>\n",
       "      <td>AVSLLA M Porci Nigri ser dominae Veneri aram p...</td>\n",
       "      <td>AVS LLA Marci Porci Nigri serva dominae Veneri...</td>\n",
       "      <td>AVS LLA Marci Porci Nigri serva dominae Veneri...</td>\n",
       "      <td>NaN</td>\n",
       "      <td>before 1979</td>\n",
       "      <td>Carcabuey, Grupo Escolar</td>\n",
       "      <td>names of pagan deities</td>\n",
       "      <td>NaN</td>\n",
       "      <td>NaN</td>\n",
       "      <td>NaN</td>\n",
       "    </tr>\n",
       "    <tr>\n",
       "      <th>4</th>\n",
       "      <td>Feraudi</td>\n",
       "      <td>epitaph</td>\n",
       "      <td>NaN</td>\n",
       "      <td>0200</td>\n",
       "      <td>AE 1983, 0078. (B); A. Ferrua, RAL 36, 1981, 1...</td>\n",
       "      <td>no image</td>\n",
       "      <td>NaN</td>\n",
       "      <td>[ ] L SVCCESSVS / [ ] L L IRENAEVS / [ ] C L T...</td>\n",
       "      <td>[{'person_id': '1', 'name': '[---]l. Successus...</td>\n",
       "      <td>NaN</td>\n",
       "      <td>...</td>\n",
       "      <td>l Successus L l Irenaeus C l Tyches unt renti f</td>\n",
       "      <td>libertus Successus Luci libertus Irenaeus Cai ...</td>\n",
       "      <td>libertus Successus Luci libertus Irenaeus Cai ...</td>\n",
       "      <td>Via Cupa (ehem. Vigna Nardi)</td>\n",
       "      <td>NaN</td>\n",
       "      <td>NaN</td>\n",
       "      <td>NaN</td>\n",
       "      <td>NaN</td>\n",
       "      <td>NaN</td>\n",
       "      <td>NaN</td>\n",
       "    </tr>\n",
       "  </tbody>\n",
       "</table>\n",
       "<p>5 rows × 74 columns</p>\n",
       "</div>"
      ],
      "text/plain": [
       "  responsible_individual    type_of_inscription letter_size not_after  \\\n",
       "0                Feraudi                epitaph    3.2-2 cm      0130   \n",
       "1                Feraudi                epitaph        4 cm      0200   \n",
       "2                Feraudi  honorific inscription    4.5-3 cm      0170   \n",
       "3                   Gräf     votive inscription      2.5 cm      0200   \n",
       "4                Feraudi                epitaph         NaN      0200   \n",
       "\n",
       "                                          literature         work_status  \\\n",
       "0  AE 1983, 0192.; M. Annecchino, Puteoli 4/5, 19...         provisional   \n",
       "1  AE 1983, 0080. (A); A. Ferrua, RAL 36, 1981, 1...            no image   \n",
       "2  AE 1983, 0518. (B); J. González, ZPE 52, 1983,...         provisional   \n",
       "3  AE 1983, 0533. (B); A.U. Stylow, Gerión 1, 198...  checked with photo   \n",
       "4  AE 1983, 0078. (B); A. Ferrua, RAL 36, 1981, 1...            no image   \n",
       "\n",
       "    height                                    diplomatic_text  \\\n",
       "0    33 cm  D M / NONIAE P F OPTATAE / ET C IVLIO ARTEMONI...   \n",
       "1    28 cm            C SEXTIVS PARIS / QVI VIXIT / ANNIS LXX   \n",
       "2  (37) cm  [ ]VMMIO [ ] / [ ]ISENNA[ ] / [ ] XV[ ] / [ ] / [   \n",
       "3  (39) cm  [ ]AVS[ ]LLA / M PORCI NIGRI SER / DOMINAE VEN...   \n",
       "4      NaN  [ ] L SVCCESSVS / [ ] L L IRENAEVS / [ ] C L T...   \n",
       "\n",
       "                                              people    depth  ...  \\\n",
       "0  [{'name': 'Noniae P.f. Optatae', 'cognomen': '...   2.7 cm  ...   \n",
       "1  [{'nomen': 'Sextius', 'praenomen': 'C.', 'pers...      NaN  ...   \n",
       "2  [{'nomen': 'Mummius+', 'gender': 'male', 'prae...  (12) cm  ...   \n",
       "3  [{'name': '[---?]AV(?)S(?)[---]L(?)L(?)A M. Po...    18 cm  ...   \n",
       "4  [{'person_id': '1', 'name': '[---]l. Successus...      NaN  ...   \n",
       "\n",
       "                             clean_text_conservative  \\\n",
       "0  D M Noniae P f Optatae et C Iulio Artemoni par...   \n",
       "1                C Sextius Paris qui vixit annis LXX   \n",
       "2                                    ummio isenna Xv   \n",
       "3  AVSLLA M Porci Nigri ser dominae Veneri aram p...   \n",
       "4    l Successus L l Irenaeus C l Tyches unt renti f   \n",
       "\n",
       "                        clean_text_interpretive_word  \\\n",
       "0  Dis Manibus Noniae Publi filiae Optatae et Cai...   \n",
       "1            Caius Sextius Paris qui vixit annis LXX   \n",
       "2  Publio Mummio Publi filio Galeria Sisennae Rut...   \n",
       "3  AVS LLA Marci Porci Nigri serva dominae Veneri...   \n",
       "4  libertus Successus Luci libertus Irenaeus Cai ...   \n",
       "\n",
       "                    clean_text_interpretive_sentence  \\\n",
       "0  Dis Manibus Noniae Publi filiae Optatae et Cai...   \n",
       "1            Caius Sextius Paris qui vixit annis LXX   \n",
       "2  Publio Mummio Publi filio Galeria Sisennae Rut...   \n",
       "3  AVS LLA Marci Porci Nigri serva dominae Veneri...   \n",
       "4  libertus Successus Luci libertus Irenaeus Cai ...   \n",
       "\n",
       "                               findspot year_of_find  \\\n",
       "0                                   NaN          NaN   \n",
       "1  Via Nomentana, S. Alessandro, Kirche         1937   \n",
       "2                                   NaN  before 1975   \n",
       "3                                   NaN  before 1979   \n",
       "4          Via Cupa (ehem. Vigna Nardi)          NaN   \n",
       "\n",
       "           present_location                religion geography  \\\n",
       "0                       NaN                     NaN       NaN   \n",
       "1                       NaN                     NaN       NaN   \n",
       "2     Sevilla, Privatbesitz                     NaN       NaN   \n",
       "3  Carcabuey, Grupo Escolar  names of pagan deities       NaN   \n",
       "4                       NaN                     NaN       NaN   \n",
       "\n",
       "  social_economic_legal_history military  \n",
       "0                           NaN      NaN  \n",
       "1                           NaN      NaN  \n",
       "2                           NaN      NaN  \n",
       "3                           NaN      NaN  \n",
       "4                           NaN      NaN  \n",
       "\n",
       "[5 rows x 74 columns]"
      ]
     },
     "execution_count": 3,
     "metadata": {},
     "output_type": "execute_result"
    }
   ],
   "source": [
    "# read edh dataset\n",
    "publicfolder = \"b6b6afdb969d378b70929e86e58ad975\"\n",
    "EDH = sddk.read_file(\"EDH_text_cleaned_2021-01-21.json\", \"df\", publicfolder)\n",
    "EDH.head(5)"
   ]
  },
  {
   "cell_type": "code",
   "execution_count": 4,
   "metadata": {},
   "outputs": [
    {
     "name": "stdout",
     "output_type": "stream",
     "text": [
      "reading file located in a public folder\n"
     ]
    },
    {
     "data": {
      "text/html": [
       "<div>\n",
       "<style scoped>\n",
       "    .dataframe tbody tr th:only-of-type {\n",
       "        vertical-align: middle;\n",
       "    }\n",
       "\n",
       "    .dataframe tbody tr th {\n",
       "        vertical-align: top;\n",
       "    }\n",
       "\n",
       "    .dataframe thead th {\n",
       "        text-align: right;\n",
       "    }\n",
       "</style>\n",
       "<table border=\"1\" class=\"dataframe\">\n",
       "  <thead>\n",
       "    <tr style=\"text-align: right;\">\n",
       "      <th></th>\n",
       "      <th>EDCS-ID</th>\n",
       "      <th>publication</th>\n",
       "      <th>province</th>\n",
       "      <th>place</th>\n",
       "      <th>notes_dating</th>\n",
       "      <th>notes_references</th>\n",
       "      <th>notes_comments</th>\n",
       "      <th>inscription</th>\n",
       "      <th>inscription_stripped14</th>\n",
       "      <th>clean_text_interpretive_word</th>\n",
       "      <th>Links</th>\n",
       "      <th>language</th>\n",
       "      <th>dating from</th>\n",
       "      <th>dating to</th>\n",
       "      <th>status</th>\n",
       "      <th>Latitude</th>\n",
       "      <th>Longitude</th>\n",
       "      <th>photo</th>\n",
       "      <th>Material</th>\n",
       "      <th>Comment</th>\n",
       "    </tr>\n",
       "  </thead>\n",
       "  <tbody>\n",
       "    <tr>\n",
       "      <th>0</th>\n",
       "      <td>EDCS-31400030</td>\n",
       "      <td>CIL 03, 12297</td>\n",
       "      <td>Achaia</td>\n",
       "      <td>?</td>\n",
       "      <td></td>\n",
       "      <td></td>\n",
       "      <td></td>\n",
       "      <td>Leius</td>\n",
       "      <td>Leius</td>\n",
       "      <td>Leius</td>\n",
       "      <td>NaN</td>\n",
       "      <td>NaN</td>\n",
       "      <td>NaN</td>\n",
       "      <td>NaN</td>\n",
       "      <td>NaN</td>\n",
       "      <td>NaN</td>\n",
       "      <td>NaN</td>\n",
       "      <td>NaN</td>\n",
       "      <td>NaN</td>\n",
       "      <td>NaN</td>\n",
       "    </tr>\n",
       "    <tr>\n",
       "      <th>1</th>\n",
       "      <td>EDCS-24700151</td>\n",
       "      <td>CIL 01, 02650 (p 1097) = IG-05-01, 00741 = ILL...</td>\n",
       "      <td>Achaia</td>\n",
       "      <td>Afesou</td>\n",
       "      <td></td>\n",
       "      <td></td>\n",
       "      <td></td>\n",
       "      <td>// D(ecimi) Leivei D(ecimi) Leivei salve</td>\n",
       "      <td>// D(ecimi) Leivei D(ecimi) Leivei salve</td>\n",
       "      <td>Decimi Leivei Decimi Leivei salve</td>\n",
       "      <td>http://db.edcs.eu/epigr/partner.php?s_language...</td>\n",
       "      <td>GR</td>\n",
       "      <td>NaN</td>\n",
       "      <td>NaN</td>\n",
       "      <td>NaN</td>\n",
       "      <td>NaN</td>\n",
       "      <td>NaN</td>\n",
       "      <td>NaN</td>\n",
       "      <td>NaN</td>\n",
       "      <td>NaN</td>\n",
       "    </tr>\n",
       "    <tr>\n",
       "      <th>2</th>\n",
       "      <td>EDCS-24900077</td>\n",
       "      <td>CIL 01, 00746 (p 944) = D 00867 = ILLRP 00374 ...</td>\n",
       "      <td>Achaia</td>\n",
       "      <td>Agia Triada / Merbaka / Midea</td>\n",
       "      <td></td>\n",
       "      <td></td>\n",
       "      <td></td>\n",
       "      <td>Q(uinto) Caecilio C(ai) f(ilio) Metel(l)o / im...</td>\n",
       "      <td>Q(uinto) Caecilio C(ai) f(ilio) Metel(l)o / im...</td>\n",
       "      <td>Quinto Caecilio Cai filio Metello imperatori I...</td>\n",
       "      <td>http://db.edcs.eu/epigr/partner.php?s_language...</td>\n",
       "      <td>NaN</td>\n",
       "      <td>-68</td>\n",
       "      <td>-68</td>\n",
       "      <td>officium/professio; ordo senatorius; tituli ho...</td>\n",
       "      <td>37.6381128</td>\n",
       "      <td>22.8052991</td>\n",
       "      <td>http://db.edcs.eu/epigr/bilder.php?bilder.php?...</td>\n",
       "      <td>NaN</td>\n",
       "      <td>NaN</td>\n",
       "    </tr>\n",
       "    <tr>\n",
       "      <th>3</th>\n",
       "      <td>EDCS-03700724</td>\n",
       "      <td>ZPE-108-159 = Thesprotia 00001 = AE 1993, 0140...</td>\n",
       "      <td>Achaia</td>\n",
       "      <td>Agios Athanasios / Photike</td>\n",
       "      <td></td>\n",
       "      <td></td>\n",
       "      <td></td>\n",
       "      <td>Fortissimo et Piis/simo Caesari d(omino) n(ost...</td>\n",
       "      <td>Fortissimo et Piis/simo Caesari d(omino) n(ost...</td>\n",
       "      <td>Fortissimo et Piissimo Caesari domino nostro G...</td>\n",
       "      <td>http://db.edcs.eu/epigr/partner.php?s_language...</td>\n",
       "      <td>NaN</td>\n",
       "      <td>309</td>\n",
       "      <td>313</td>\n",
       "      <td>Augusti/Augustae; litterae erasae; ordo equest...</td>\n",
       "      <td>39.4512182</td>\n",
       "      <td>20.7667673</td>\n",
       "      <td>http://db.edcs.eu/epigr/bilder.php?bilder.php?...</td>\n",
       "      <td>NaN</td>\n",
       "      <td>NaN</td>\n",
       "    </tr>\n",
       "    <tr>\n",
       "      <th>4</th>\n",
       "      <td>EDCS-55701593</td>\n",
       "      <td>AE 2009, 01286a</td>\n",
       "      <td>Achaia</td>\n",
       "      <td>Agios Donatos / Photike</td>\n",
       "      <td></td>\n",
       "      <td></td>\n",
       "      <td></td>\n",
       "      <td>Cn(aeus) Atei(us)</td>\n",
       "      <td>Cn(aeus) Atei(us)</td>\n",
       "      <td>Cnaeus Ateius</td>\n",
       "      <td>NaN</td>\n",
       "      <td>NaN</td>\n",
       "      <td>NaN</td>\n",
       "      <td>NaN</td>\n",
       "      <td>sigilla impressa; tituli fabricationis</td>\n",
       "      <td>39.4759759</td>\n",
       "      <td>20.5069076</td>\n",
       "      <td>NaN</td>\n",
       "      <td>opus figlinae</td>\n",
       "      <td>NaN</td>\n",
       "    </tr>\n",
       "  </tbody>\n",
       "</table>\n",
       "</div>"
      ],
      "text/plain": [
       "         EDCS-ID                                        publication province  \\\n",
       "0  EDCS-31400030                                      CIL 03, 12297   Achaia   \n",
       "1  EDCS-24700151  CIL 01, 02650 (p 1097) = IG-05-01, 00741 = ILL...   Achaia   \n",
       "2  EDCS-24900077  CIL 01, 00746 (p 944) = D 00867 = ILLRP 00374 ...   Achaia   \n",
       "3  EDCS-03700724  ZPE-108-159 = Thesprotia 00001 = AE 1993, 0140...   Achaia   \n",
       "4  EDCS-55701593                                    AE 2009, 01286a   Achaia   \n",
       "\n",
       "                           place notes_dating notes_references notes_comments  \\\n",
       "0                              ?                                                \n",
       "1                         Afesou                                                \n",
       "2  Agia Triada / Merbaka / Midea                                                \n",
       "3     Agios Athanasios / Photike                                                \n",
       "4        Agios Donatos / Photike                                                \n",
       "\n",
       "                                         inscription  \\\n",
       "0                                              Leius   \n",
       "1           // D(ecimi) Leivei D(ecimi) Leivei salve   \n",
       "2  Q(uinto) Caecilio C(ai) f(ilio) Metel(l)o / im...   \n",
       "3  Fortissimo et Piis/simo Caesari d(omino) n(ost...   \n",
       "4                                  Cn(aeus) Atei(us)   \n",
       "\n",
       "                              inscription_stripped14  \\\n",
       "0                                              Leius   \n",
       "1           // D(ecimi) Leivei D(ecimi) Leivei salve   \n",
       "2  Q(uinto) Caecilio C(ai) f(ilio) Metel(l)o / im...   \n",
       "3  Fortissimo et Piis/simo Caesari d(omino) n(ost...   \n",
       "4                                  Cn(aeus) Atei(us)   \n",
       "\n",
       "                        clean_text_interpretive_word  \\\n",
       "0                                              Leius   \n",
       "1                  Decimi Leivei Decimi Leivei salve   \n",
       "2  Quinto Caecilio Cai filio Metello imperatori I...   \n",
       "3  Fortissimo et Piissimo Caesari domino nostro G...   \n",
       "4                                      Cnaeus Ateius   \n",
       "\n",
       "                                               Links language dating from  \\\n",
       "0                                                NaN      NaN         NaN   \n",
       "1  http://db.edcs.eu/epigr/partner.php?s_language...       GR         NaN   \n",
       "2  http://db.edcs.eu/epigr/partner.php?s_language...      NaN         -68   \n",
       "3  http://db.edcs.eu/epigr/partner.php?s_language...      NaN         309   \n",
       "4                                                NaN      NaN         NaN   \n",
       "\n",
       "  dating to                                             status    Latitude  \\\n",
       "0       NaN                                                NaN         NaN   \n",
       "1       NaN                                                NaN         NaN   \n",
       "2       -68  officium/professio; ordo senatorius; tituli ho...  37.6381128   \n",
       "3       313  Augusti/Augustae; litterae erasae; ordo equest...  39.4512182   \n",
       "4       NaN             sigilla impressa; tituli fabricationis  39.4759759   \n",
       "\n",
       "    Longitude                                              photo  \\\n",
       "0         NaN                                                NaN   \n",
       "1         NaN                                                NaN   \n",
       "2  22.8052991  http://db.edcs.eu/epigr/bilder.php?bilder.php?...   \n",
       "3  20.7667673  http://db.edcs.eu/epigr/bilder.php?bilder.php?...   \n",
       "4  20.5069076                                                NaN   \n",
       "\n",
       "        Material Comment  \n",
       "0            NaN     NaN  \n",
       "1            NaN     NaN  \n",
       "2            NaN     NaN  \n",
       "3            NaN     NaN  \n",
       "4  opus figlinae     NaN  "
      ]
     },
     "execution_count": 4,
     "metadata": {},
     "output_type": "execute_result"
    }
   ],
   "source": [
    "# read edcs dataset\n",
    "publicfolder = \"1f5f56d09903fe259c0906add8b3a55e\"\n",
    "EDCS = sddk.read_file(\"EDCS_text_cleaned_2021-01-21.json\", \"df\", publicfolder)\n",
    "EDCS.head(5)"
   ]
  },
  {
   "cell_type": "markdown",
   "metadata": {},
   "source": [
    "# Function to extract occupations"
   ]
  },
  {
   "cell_type": "code",
   "execution_count": 10,
   "metadata": {},
   "outputs": [],
   "source": [
    "def extract_occup_v1(inscription_text):\n",
    "    occups_found = []\n",
    "    for occup in occups_declined_dict.keys():\n",
    "        for occup_morph in occups_declined_dict[occup]:\n",
    "            try:\n",
    "                occup_morph_N = inscription_text.lower().count(occup_morph)\n",
    "                if occup_morph_N > 0:\n",
    "                    occups_found.extend([occup] * occup_morph_N)\n",
    "                    inscription_text = inscription_text.replace(occup_morph, \"\")\n",
    "                \n",
    "            except: pass\n",
    "    return occups_found"
   ]
  },
  {
   "cell_type": "code",
   "execution_count": 11,
   "metadata": {},
   "outputs": [],
   "source": [
    "def extract_occup(inscription_text):\n",
    "    occups_found = []\n",
    "    try:\n",
    "        inscription_text = inscription_text.lower()\n",
    "    except:\n",
    "        inscription_text = \"\"\n",
    "    for occup in occups_declined_dict.keys():\n",
    "        for occup_morph in occups_declined_dict[occup]:\n",
    "            try:\n",
    "                if occup_morph in inscription_text: # first check it this way, otherwise skip\n",
    "                    occup_morph_N = len(re.findall(\"(\\W|^)\" + occup_morph + \"(\\W|$)\", inscription_text))\n",
    "                    occups_found.extend([occup] * occup_morph_N)\n",
    "                    inscription_text = inscription_text.replace(occup_morph, \"\")\n",
    "            except: pass\n",
    "    return occups_found"
   ]
  },
  {
   "cell_type": "code",
   "execution_count": 43,
   "metadata": {},
   "outputs": [
    {
     "data": {
      "text/plain": [
       "[]"
      ]
     },
     "execution_count": 43,
     "metadata": {},
     "output_type": "execute_result"
    }
   ],
   "source": [
    "extract_occup(\"fdfsdf. Lotori,\")"
   ]
  },
  {
   "cell_type": "markdown",
   "metadata": {},
   "source": [
    "# Occupations - extraction"
   ]
  },
  {
   "cell_type": "code",
   "execution_count": 44,
   "metadata": {},
   "outputs": [],
   "source": [
    "# read declined occupations\n",
    "with open(\"../data/occups_declined_dict.json\", \"r\") as fp:\n",
    "    occups_declined_dict = json.load(fp)"
   ]
  },
  {
   "cell_type": "code",
   "execution_count": 45,
   "metadata": {},
   "outputs": [
    {
     "data": {
      "text/plain": [
       "['exactor auri argenti et aeris',\n",
       " 'inclusor auri et gemmarum',\n",
       " 'tesserarius lignarius',\n",
       " 'refector pectinarius',\n",
       " 'instructor parietum',\n",
       " 'tribor argentarius',\n",
       " 'carrocarpentarius',\n",
       " 'dactilidiogliphus',\n",
       " 'manceps salinarum',\n",
       " 'manceps thermarum',\n",
       " 'aequator monetae',\n",
       " 'conchyliolegulus',\n",
       " 'orchestopolarius',\n",
       " 'rhypararographus',\n",
       " 'calciamentarius',\n",
       " 'chorographarius',\n",
       " 'diffusor oleari',\n",
       " 'domnicomontanus',\n",
       " 'faber tignuarii',\n",
       " 'medicamentarius']"
      ]
     },
     "execution_count": 45,
     "metadata": {},
     "output_type": "execute_result"
    }
   ],
   "source": [
    "# check that our occupations are properly arranged (from the longest...)\n",
    "list(occups_declined_dict.keys())[:20]"
   ]
  },
  {
   "cell_type": "markdown",
   "metadata": {},
   "source": [
    "## Occupations - test on a sample"
   ]
  },
  {
   "cell_type": "code",
   "execution_count": 46,
   "metadata": {},
   "outputs": [
    {
     "data": {
      "text/plain": [
       "1000"
      ]
     },
     "execution_count": 46,
     "metadata": {},
     "output_type": "execute_result"
    }
   ],
   "source": [
    "# sample for testing\n",
    "EDH_sample = EDH[:1000]\n",
    "len(EDH_sample)"
   ]
  },
  {
   "cell_type": "code",
   "execution_count": 47,
   "metadata": {},
   "outputs": [
    {
     "name": "stdout",
     "output_type": "stream",
     "text": [
      "CPU times: user 849 ms, sys: 6.36 ms, total: 855 ms\n",
      "Wall time: 851 ms\n"
     ]
    },
    {
     "name": "stderr",
     "output_type": "stream",
     "text": [
      "/opt/conda/lib/python3.7/site-packages/ipykernel_launcher.py:1: SettingWithCopyWarning: \n",
      "A value is trying to be set on a copy of a slice from a DataFrame.\n",
      "Try using .loc[row_indexer,col_indexer] = value instead\n",
      "\n",
      "See the caveats in the documentation: https://pandas.pydata.org/pandas-docs/stable/user_guide/indexing.html#returning-a-view-versus-a-copy\n",
      "  \"\"\"Entry point for launching an IPython kernel.\n"
     ]
    },
    {
     "data": {
      "text/plain": [
       "61"
      ]
     },
     "execution_count": 47,
     "metadata": {},
     "output_type": "execute_result"
    }
   ],
   "source": [
    "%%time\n",
    "EDH_sample[\"occups\"] = EDH_sample[\"clean_text_interpretive_word\"].apply(extract_occup)\n",
    "EDH_occups_list = [el for sublist in EDH_sample[\"occups\"].tolist() for el in sublist]\n",
    "len(EDH_occups_list) \n",
    "# v1: 3.03s, 946 found\n",
    "# once we remove after first match, then only 636\n",
    "# but once we are sensitive to repeated occurences, we get 742\n",
    "# when looking for within a lower case inscription, the number increases to 902"
   ]
  },
  {
   "cell_type": "code",
   "execution_count": 48,
   "metadata": {},
   "outputs": [
    {
     "name": "stderr",
     "output_type": "stream",
     "text": [
      "/opt/conda/lib/python3.7/site-packages/ipykernel_launcher.py:1: SettingWithCopyWarning: \n",
      "A value is trying to be set on a copy of a slice from a DataFrame.\n",
      "Try using .loc[row_indexer,col_indexer] = value instead\n",
      "\n",
      "See the caveats in the documentation: https://pandas.pydata.org/pandas-docs/stable/user_guide/indexing.html#returning-a-view-versus-a-copy\n",
      "  \"\"\"Entry point for launching an IPython kernel.\n"
     ]
    }
   ],
   "source": [
    "EDH_sample[\"occups_N\"] = EDH_sample[\"occups\"].apply(len)"
   ]
  },
  {
   "cell_type": "code",
   "execution_count": 49,
   "metadata": {},
   "outputs": [
    {
     "data": {
      "text/plain": [
       "46"
      ]
     },
     "execution_count": 49,
     "metadata": {},
     "output_type": "execute_result"
    }
   ],
   "source": [
    "len(EDH_sample[EDH_sample[\"occups_N\"] > 0])"
   ]
  },
  {
   "cell_type": "code",
   "execution_count": 51,
   "metadata": {},
   "outputs": [],
   "source": [
    "# create sample and export it to gsheet\n",
    "EDH_occups_sample = EDH_sample[EDH_sample[\"occups_N\"] > 0][[\"id\", \"clean_text_interpretive_word\", \"occups\", \"type_of_inscription_clean\"]]\n",
    "set_with_dataframe(occupations.add_worksheet(\"EDH_occups_sample\", 1, 1), EDH_occups_sample)"
   ]
  },
  {
   "cell_type": "markdown",
   "metadata": {},
   "source": [
    "## Occupations - application on the whole dataset"
   ]
  },
  {
   "cell_type": "code",
   "execution_count": 52,
   "metadata": {},
   "outputs": [
    {
     "name": "stdout",
     "output_type": "stream",
     "text": [
      "CPU times: user 50.4 s, sys: 103 ms, total: 50.5 s\n",
      "Wall time: 50.5 s\n"
     ]
    }
   ],
   "source": [
    "%%time\n",
    "EDH[\"occups\"] = EDH[\"clean_text_interpretive_word\"].apply(extract_occup)"
   ]
  },
  {
   "cell_type": "code",
   "execution_count": 53,
   "metadata": {},
   "outputs": [
    {
     "name": "stdout",
     "output_type": "stream",
     "text": [
      "2745\n",
      "[('faber', 407), ('curator', 321), ('medicus', 243), ('scriba', 110), ('aerarius', 107), ('agricola', 89), ('pollio', 81), ('negotiator', 79), ('centonarius', 67), ('vexillarius', 59), ('mercator', 45), ('argentarius', 42), ('mensor', 39), ('cerdo', 36), ('cornicen', 28), ('arcarius', 26), ('conditor', 26), ('architectus', 23), ('nauta', 22), ('dendrophorus', 19), ('tignarius', 18), ('structor', 16), ('ornatrix', 16), ('lapidarius', 16), ('vestiarius', 15), ('sutor', 15), ('venator', 15), ('forensis', 14), ('scutarius', 14), ('coactor', 13)]\n"
     ]
    }
   ],
   "source": [
    "EDH_occups_list = [el for sublist in EDH[\"occups\"].tolist() for el in sublist]\n",
    "print(len(EDH_occups_list))\n",
    "print(nltk.FreqDist(EDH_occups_list).most_common(30))"
   ]
  },
  {
   "cell_type": "markdown",
   "metadata": {},
   "source": [
    "first results (for comparison):\n",
    "\n",
    "```[('curator', 2833), ('ustor', 2092), ('plastes', 1076), ('psaltes', 866), ('cerdo', 730), ('uctor', 592), ('faber', 458), ('promus', 320), ('sagittarius', 236), ('erarius', 217), ('scriba', 194), ('negotiator', 191), ('medicus', 137), ('tector', 136), ('centonarius', 132), ('emporus', 113), ('gladiator', 112), ('aerarius', 104), ('marmorarienses', 102), ('conditor', 76), ('vexillarius', 74), ('lanius', 72), ('scaenicus', 71), ('tesserarius', 70), ('argentarius', 65), ('mensor', 62), ('scriptor', 61), ('figlus', 56), ('nauta', 53), ('cellio', 52)]```"
   ]
  },
  {
   "cell_type": "code",
   "execution_count": 54,
   "metadata": {},
   "outputs": [],
   "source": [
    "EDH[\"occups_N\"] = EDH[\"occups\"].apply(len)"
   ]
  },
  {
   "cell_type": "code",
   "execution_count": 55,
   "metadata": {},
   "outputs": [
    {
     "name": "stdout",
     "output_type": "stream",
     "text": [
      "CPU times: user 3min 43s, sys: 169 ms, total: 3min 43s\n",
      "Wall time: 3min 43s\n"
     ]
    }
   ],
   "source": [
    "%%time\n",
    "EDCS[\"occups\"] = EDCS[\"clean_text_interpretive_word\"].apply(extract_occup)"
   ]
  },
  {
   "cell_type": "code",
   "execution_count": 56,
   "metadata": {},
   "outputs": [
    {
     "name": "stdout",
     "output_type": "stream",
     "text": [
      "10085\n",
      "[('faber', 1152), ('curator', 915), ('medicus', 668), ('aerarius', 513), ('scriba', 392), ('cocus', 289), ('vexillarius', 260), ('cerdo', 254), ('pollio', 245), ('agricola', 225), ('mercator', 217), ('centonarius', 217), ('argentarius', 170), ('negotiator', 159), ('figulus', 138), ('mensor', 136), ('vestiarius', 104), ('dendrophorus', 91), ('lanius', 89), ('conditor', 89), ('copo', 86), ('architectus', 81), ('arcarius', 79), ('nauta', 68), ('vinarius', 59), ('structor', 58), ('ornatrix', 56), ('fullo', 52), ('pistor', 52), ('sutor', 48)]\n"
     ]
    }
   ],
   "source": [
    "EDCS_occups_list = [el for sublist in EDCS[\"occups\"].tolist() for el in sublist]\n",
    "print(len(EDCS_occups_list))\n",
    "print(nltk.FreqDist(EDCS_occups_list).most_common(30))"
   ]
  },
  {
   "cell_type": "markdown",
   "metadata": {},
   "source": [
    "previous version\n",
    "```40509\n",
    "[('plastes', 5934), ('curator', 4368), ('figlus', 4251), ('cerdo', 2905), ('ustor', 2863), ('psaltes', 2205), ('faber', 2162), ('pollio', 907), ('medicus', 723), ('uctor', 671), ('scriba', 558), ('mercator', 546), ('aerarius', 517), ('promus', 485), ('cocus', 437), ('figulus', 419), ('sagittarius', 376), ('marmorarienses', 360), ('lanius', 334), ('emporus', 316), ('agricola', 310), ('fullo', 279), ('vexillarius', 273), ('gladiator', 248), ('restio', 246), ('aedifex', 245), ('negotiator', 244), ('vitor', 242), ('tector', 230), ('centonarius', 220)]\n",
    "```"
   ]
  },
  {
   "cell_type": "code",
   "execution_count": 57,
   "metadata": {},
   "outputs": [],
   "source": [
    "EDCS[\"occups_N\"] = EDCS[\"occups\"].apply(len)"
   ]
  },
  {
   "cell_type": "markdown",
   "metadata": {},
   "source": [
    "## Occupations - overview"
   ]
  },
  {
   "cell_type": "code",
   "execution_count": 58,
   "metadata": {},
   "outputs": [
    {
     "name": "stdout",
     "output_type": "stream",
     "text": [
      "EDH - number of occupation occurances: 2745\n",
      "EDH - number of inscriptions with at least one occupation mentioned: 2336\n",
      "EDH - number of dated inscriptions with at least one occupation mentioned: 1529\n",
      "EDH - number of occupation occurances in dated inscriptions: 1788\n"
     ]
    }
   ],
   "source": [
    "print(\"EDH - number of occupation occurances: \" + str(EDH[\"occups_N\"].sum()))\n",
    "print(\"EDH - number of inscriptions with at least one occupation mentioned: \" + str(len(EDH[EDH[\"occups_N\"] > 0])))\n",
    "print(\"EDH - number of dated inscriptions with at least one occupation mentioned: \"+ str(len(EDH[(EDH[\"not_before\"].notnull()) & (EDH[\"occups_N\"] > 0)])))\n",
    "print(\"EDH - number of occupation occurances in dated inscriptions: \" + str(EDH[EDH[\"not_before\"].notnull()][\"occups_N\"].sum()))"
   ]
  },
  {
   "cell_type": "code",
   "execution_count": 59,
   "metadata": {},
   "outputs": [
    {
     "name": "stdout",
     "output_type": "stream",
     "text": [
      "EDCS - number of occupation occurances: 10085\n",
      "EDCS - number of inscriptions with at least one occupation mentioned: 8513\n",
      "EDCS - number of dated inscriptions with at least one occupation mentioned: 4771\n",
      "EDCS - number of occupation occurances in dated inscriptions: 5748\n"
     ]
    }
   ],
   "source": [
    "print(\"EDCS - number of occupation occurances: \" + str(EDCS[\"occups_N\"].sum()))\n",
    "print(\"EDCS - number of inscriptions with at least one occupation mentioned: \" + str(len(EDCS[EDCS[\"occups_N\"] > 0])))\n",
    "print(\"EDCS - number of dated inscriptions with at least one occupation mentioned: \"+ str(len(EDCS[(EDCS[\"dating to\"].notnull()) & (EDCS[\"occups_N\"] > 0)])))\n",
    "print(\"EDCS - number of occupation occurances in dated inscriptions: \" + str(EDCS[EDCS[\"dating to\"].notnull()][\"occups_N\"].sum()))"
   ]
  },
  {
   "cell_type": "markdown",
   "metadata": {},
   "source": [
    "## Saving to Sciencedata"
   ]
  },
  {
   "cell_type": "code",
   "execution_count": 61,
   "metadata": {},
   "outputs": [
    {
     "name": "stdout",
     "output_type": "stream",
     "text": [
      "sciencedata.dk username (format '123456@au.dk'): 648560@au.dk\n",
      "sciencedata.dk password: ········\n",
      "connection with shared folder established with you as its ordinary user\n",
      "endpoint variable has been configured to: https://sciencedata.dk/sharingout/648597%40au.dk/SDAM_root/\n"
     ]
    }
   ],
   "source": [
    "# login to our project folder, owned by my AU account 648597@au.dk\n",
    "conf = sddk.configure(\"SDAM_root\", \"648597@au.dk\")"
   ]
  },
  {
   "cell_type": "code",
   "execution_count": 63,
   "metadata": {},
   "outputs": [
    {
     "name": "stdout",
     "output_type": "stream",
     "text": [
      "A file with the same name (\"EDH_occups_2021-02-19.json\") already exists in this location.\n",
      "Press Enter to overwrite it or choose different path and filename: \n",
      "Your <class 'pandas.core.frame.DataFrame'> object has been succefully written as \"https://sciencedata.dk/sharingout/648597%40au.dk/SDAM_root/SDAM_data/social_diversity/EDH_occups_2021-02-19.json\"\n",
      "Your <class 'pandas.core.frame.DataFrame'> object has been succefully written as \"https://sciencedata.dk/sharingout/648597%40au.dk/SDAM_root/SDAM_data/social_diversity/EDCS_occups_2021-02-19.json\"\n"
     ]
    }
   ],
   "source": [
    "sddk.write_file(\"SDAM_data/social_diversity/EDH_occups_2021-02-19.json\", EDH, conf)\n",
    "sddk.write_file(\"SDAM_data/social_diversity/EDCS_occups_2021-02-19.json\", EDCS, conf)"
   ]
  },
  {
   "cell_type": "code",
   "execution_count": null,
   "metadata": {},
   "outputs": [],
   "source": []
  },
  {
   "cell_type": "markdown",
   "metadata": {},
   "source": [
    "# Organizations - extraction"
   ]
  },
  {
   "cell_type": "code",
   "execution_count": 22,
   "metadata": {},
   "outputs": [],
   "source": [
    "# read declined occupations\n",
    "with open(\"../data/organizations_declined_dict.json\", \"r\") as fp:\n",
    "    occups_declined_dict = json.load(fp)"
   ]
  },
  {
   "cell_type": "code",
   "execution_count": 23,
   "metadata": {},
   "outputs": [
    {
     "data": {
      "text/plain": [
       "['collegatarius',\n",
       " 'collegiarius',\n",
       " 'collegiatus',\n",
       " 'corporatus',\n",
       " 'sodalicium',\n",
       " 'collegium',\n",
       " 'collegius',\n",
       " 'concilium',\n",
       " 'conlegium',\n",
       " 'sodalitas',\n",
       " 'colegium',\n",
       " 'sociatio',\n",
       " 'societas',\n",
       " 'collega',\n",
       " 'corpus']"
      ]
     },
     "execution_count": 23,
     "metadata": {},
     "output_type": "execute_result"
    }
   ],
   "source": [
    "# check that our occupations are properly arranged (from the longest...)\n",
    "list(occups_declined_dict.keys())[:15]"
   ]
  },
  {
   "cell_type": "markdown",
   "metadata": {},
   "source": [
    "## Organizations - test on a sample data"
   ]
  },
  {
   "cell_type": "code",
   "execution_count": 37,
   "metadata": {},
   "outputs": [
    {
     "data": {
      "text/plain": [
       "1000"
      ]
     },
     "execution_count": 37,
     "metadata": {},
     "output_type": "execute_result"
    }
   ],
   "source": [
    "# sample for testing\n",
    "EDH_sample = EDH[:1000]\n",
    "len(EDH_sample)"
   ]
  },
  {
   "cell_type": "code",
   "execution_count": 24,
   "metadata": {},
   "outputs": [
    {
     "name": "stdout",
     "output_type": "stream",
     "text": [
      "CPU times: user 31.8 ms, sys: 597 µs, total: 32.4 ms\n",
      "Wall time: 66.3 ms\n"
     ]
    },
    {
     "name": "stderr",
     "output_type": "stream",
     "text": [
      "/opt/conda/lib/python3.7/site-packages/ipykernel_launcher.py:1: SettingWithCopyWarning: \n",
      "A value is trying to be set on a copy of a slice from a DataFrame.\n",
      "Try using .loc[row_indexer,col_indexer] = value instead\n",
      "\n",
      "See the caveats in the documentation: https://pandas.pydata.org/pandas-docs/stable/user_guide/indexing.html#returning-a-view-versus-a-copy\n",
      "  \"\"\"Entry point for launching an IPython kernel.\n"
     ]
    },
    {
     "data": {
      "text/plain": [
       "52"
      ]
     },
     "execution_count": 24,
     "metadata": {},
     "output_type": "execute_result"
    }
   ],
   "source": [
    "%%time\n",
    "EDH_sample[\"organizations\"] = EDH_sample[\"clean_text_interpretive_word\"].apply(extract_occup)\n",
    "EDH_organizations_list = [el for sublist in EDH_sample[\"organizations\"].tolist() for el in sublist]\n",
    "len(EDH_organizations_list) \n",
    "# v1: 3.03s, 946 found\n",
    "# once we remove after first match, then only 636\n",
    "# but once we are sensitive to repeated occurences, we get 742\n",
    "# when looking for within a lower case inscription, the number increases to 902"
   ]
  },
  {
   "cell_type": "code",
   "execution_count": 27,
   "metadata": {},
   "outputs": [
    {
     "name": "stderr",
     "output_type": "stream",
     "text": [
      "/opt/conda/lib/python3.7/site-packages/ipykernel_launcher.py:1: SettingWithCopyWarning: \n",
      "A value is trying to be set on a copy of a slice from a DataFrame.\n",
      "Try using .loc[row_indexer,col_indexer] = value instead\n",
      "\n",
      "See the caveats in the documentation: https://pandas.pydata.org/pandas-docs/stable/user_guide/indexing.html#returning-a-view-versus-a-copy\n",
      "  \"\"\"Entry point for launching an IPython kernel.\n"
     ]
    }
   ],
   "source": [
    "EDH_sample[\"organizations_N\"] = EDH_sample[\"organizations\"].apply(len)"
   ]
  },
  {
   "cell_type": "code",
   "execution_count": 28,
   "metadata": {},
   "outputs": [
    {
     "data": {
      "text/plain": [
       "20"
      ]
     },
     "execution_count": 28,
     "metadata": {},
     "output_type": "execute_result"
    }
   ],
   "source": [
    "len(EDH_sample[EDH_sample[\"organizations_N\"] > 0])"
   ]
  },
  {
   "cell_type": "code",
   "execution_count": 29,
   "metadata": {},
   "outputs": [],
   "source": [
    "# create sample and export it to gsheet\n",
    "EDH_occups_sample = EDH_sample[EDH_sample[\"organizations_N\"] > 0][[\"id\", \"clean_text_interpretive_word\", \"organizations\", \"type_of_inscription_clean\"]]\n",
    "set_with_dataframe(occupations.add_worksheet(\"EDH_orgs_sample\", 1, 1), EDH_occups_sample)"
   ]
  },
  {
   "cell_type": "markdown",
   "metadata": {},
   "source": [
    "## Organizations - application to full datasets"
   ]
  },
  {
   "cell_type": "code",
   "execution_count": 30,
   "metadata": {},
   "outputs": [
    {
     "name": "stdout",
     "output_type": "stream",
     "text": [
      "CPU times: user 1.28 s, sys: 54.7 ms, total: 1.33 s\n",
      "Wall time: 1.33 s\n"
     ]
    }
   ],
   "source": [
    "%%time\n",
    "EDH[\"organizations\"] = EDH[\"clean_text_interpretive_word\"].apply(extract_occup)"
   ]
  },
  {
   "cell_type": "code",
   "execution_count": 31,
   "metadata": {},
   "outputs": [
    {
     "name": "stdout",
     "output_type": "stream",
     "text": [
      "934\n",
      "[('collegium', 480), ('corpus', 294), ('collega', 66), ('societas', 30), ('conlegium', 15), ('collegiatus', 13), ('concilium', 12), ('collegius', 10), ('corporatus', 8), ('sodalicium', 5), ('colegium', 1)]\n"
     ]
    }
   ],
   "source": [
    "EDH_organizations_list = [el for sublist in EDH[\"organizations\"].tolist() for el in sublist]\n",
    "print(len(EDH_organizations_list))\n",
    "print(nltk.FreqDist(EDH_organizations_list).most_common(30))"
   ]
  },
  {
   "cell_type": "code",
   "execution_count": 32,
   "metadata": {},
   "outputs": [],
   "source": [
    "EDH[\"organizations_N\"] = EDH[\"organizations\"].apply(len)"
   ]
  },
  {
   "cell_type": "code",
   "execution_count": 33,
   "metadata": {},
   "outputs": [
    {
     "name": "stdout",
     "output_type": "stream",
     "text": [
      "CPU times: user 5.42 s, sys: 233 ms, total: 5.65 s\n",
      "Wall time: 5.65 s\n"
     ]
    }
   ],
   "source": [
    "%%time\n",
    "EDCS[\"organizations\"] = EDCS[\"clean_text_interpretive_word\"].apply(extract_occup)"
   ]
  },
  {
   "cell_type": "code",
   "execution_count": 34,
   "metadata": {},
   "outputs": [
    {
     "name": "stdout",
     "output_type": "stream",
     "text": [
      "3184\n",
      "[('collegium', 1633), ('corpus', 984), ('collega', 208), ('colegium', 84), ('societas', 76), ('corporatus', 62), ('concilium', 42), ('collegius', 34), ('sodalicium', 27), ('collegiatus', 23), ('conlegium', 9), ('sodalitas', 2)]\n"
     ]
    }
   ],
   "source": [
    "EDCS_organizations_list = [el for sublist in EDCS[\"organizations\"].tolist() for el in sublist]\n",
    "print(len(EDCS_organizations_list))\n",
    "print(nltk.FreqDist(EDCS_organizations_list).most_common(30))"
   ]
  },
  {
   "cell_type": "code",
   "execution_count": 35,
   "metadata": {},
   "outputs": [],
   "source": [
    "EDCS[\"organizations_N\"] = EDCS[\"organizations\"].apply(len)"
   ]
  },
  {
   "cell_type": "markdown",
   "metadata": {},
   "source": [
    "## Organizations - overview"
   ]
  },
  {
   "cell_type": "code",
   "execution_count": 38,
   "metadata": {},
   "outputs": [
    {
     "name": "stdout",
     "output_type": "stream",
     "text": [
      "EDH - number of organization occurances: 934\n",
      "EDH - number of inscriptions with at least one organization mentioned: 778\n",
      "EDH - number of dated inscriptions with at least one organization mentioned: 565\n",
      "EDH - number of organization occurances in dated inscriptions: 676\n"
     ]
    }
   ],
   "source": [
    "print(\"EDH - number of organization occurances: \" + str(EDH[\"organizations_N\"].sum()))\n",
    "print(\"EDH - number of inscriptions with at least one organization mentioned: \" + str(len(EDH[EDH[\"organizations_N\"] > 0])))\n",
    "print(\"EDH - number of dated inscriptions with at least one organization mentioned: \"+ str(len(EDH[(EDH[\"not_before\"].notnull()) & (EDH[\"organizations_N\"] > 0)])))\n",
    "print(\"EDH - number of organization occurances in dated inscriptions: \" + str(EDH[EDH[\"not_before\"].notnull()][\"organizations_N\"].sum()))"
   ]
  },
  {
   "cell_type": "code",
   "execution_count": 39,
   "metadata": {},
   "outputs": [
    {
     "name": "stdout",
     "output_type": "stream",
     "text": [
      "EDCS - number of organizations occurances: 3184\n",
      "EDCS - number of inscriptions with at least one organizations mentioned: 2418\n",
      "EDCS - number of dated inscriptions with at least one organizations mentioned: 1611\n",
      "EDCS - number of organizations occurances in dated inscriptions: 2254\n"
     ]
    }
   ],
   "source": [
    "print(\"EDCS - number of organizations occurances: \" + str(EDCS[\"organizations_N\"].sum()))\n",
    "print(\"EDCS - number of inscriptions with at least one organizations mentioned: \" + str(len(EDCS[EDCS[\"organizations_N\"] > 0])))\n",
    "print(\"EDCS - number of dated inscriptions with at least one organizations mentioned: \"+ str(len(EDCS[(EDCS[\"dating to\"].notnull()) & (EDCS[\"organizations_N\"] > 0)])))\n",
    "print(\"EDCS - number of organizations occurances in dated inscriptions: \" + str(EDCS[EDCS[\"dating to\"].notnull()][\"organizations_N\"].sum()))"
   ]
  },
  {
   "cell_type": "markdown",
   "metadata": {},
   "source": [
    "## Saving to Sciencedata"
   ]
  },
  {
   "cell_type": "code",
   "execution_count": 40,
   "metadata": {},
   "outputs": [
    {
     "name": "stdout",
     "output_type": "stream",
     "text": [
      "sciencedata.dk username (format '123456@au.dk'): 648560@au.dk\n",
      "sciencedata.dk password: ········\n",
      "connection with shared folder established with you as its ordinary user\n",
      "endpoint variable has been configured to: https://sciencedata.dk/sharingout/648597%40au.dk/SDAM_root/\n"
     ]
    }
   ],
   "source": [
    "# login to our project folder, owned by my AU account 648597@au.dk\n",
    "conf = sddk.configure(\"SDAM_root\", \"648597@au.dk\")"
   ]
  },
  {
   "cell_type": "code",
   "execution_count": 41,
   "metadata": {},
   "outputs": [
    {
     "name": "stdout",
     "output_type": "stream",
     "text": [
      "Your <class 'pandas.core.frame.DataFrame'> object has been succefully written as \"https://sciencedata.dk/sharingout/648597%40au.dk/SDAM_root/SDAM_data/social_diversity/EDH_organizations_2021-02-19.json\"\n",
      "Your <class 'pandas.core.frame.DataFrame'> object has been succefully written as \"https://sciencedata.dk/sharingout/648597%40au.dk/SDAM_root/SDAM_data/social_diversity/EDCS_organizations_2021-02-19.json\"\n"
     ]
    }
   ],
   "source": [
    "sddk.write_file(\"SDAM_data/social_diversity/EDH_organizations_2021-02-19.json\", EDH, conf)\n",
    "sddk.write_file(\"SDAM_data/social_diversity/EDCS_organizations_2021-02-19.json\", EDCS, conf)"
   ]
  }
 ],
 "metadata": {
  "colab": {
   "authorship_tag": "ABX9TyOKWnvxv3tTbNERCRAysPtc",
   "include_colab_link": true,
   "name": "WORKING_WITH_CLEANED_TEXTS.ipynb",
   "provenance": []
  },
  "hide_input": false,
  "kernelspec": {
   "display_name": "Python 3",
   "language": "python",
   "name": "python3"
  },
  "language_info": {
   "codemirror_mode": {
    "name": "ipython",
    "version": 3
   },
   "file_extension": ".py",
   "mimetype": "text/x-python",
   "name": "python",
   "nbconvert_exporter": "python",
   "pygments_lexer": "ipython3",
   "version": "3.7.8"
  },
  "toc": {
   "base_numbering": 1,
   "nav_menu": {},
   "number_sections": true,
   "sideBar": true,
   "skip_h1_title": false,
   "title_cell": "Table of Contents",
   "title_sidebar": "Contents",
   "toc_cell": false,
   "toc_position": {},
   "toc_section_display": true,
   "toc_window_display": false
  },
  "varInspector": {
   "cols": {
    "lenName": 16,
    "lenType": 16,
    "lenVar": 40
   },
   "kernels_config": {
    "python": {
     "delete_cmd_postfix": "",
     "delete_cmd_prefix": "del ",
     "library": "var_list.py",
     "varRefreshCmd": "print(var_dic_list())"
    },
    "r": {
     "delete_cmd_postfix": ") ",
     "delete_cmd_prefix": "rm(",
     "library": "var_list.r",
     "varRefreshCmd": "cat(var_dic_list()) "
    }
   },
   "types_to_exclude": [
    "module",
    "function",
    "builtin_function_or_method",
    "instance",
    "_Feature"
   ],
   "window_display": false
  }
 },
 "nbformat": 4,
 "nbformat_minor": 1
}
