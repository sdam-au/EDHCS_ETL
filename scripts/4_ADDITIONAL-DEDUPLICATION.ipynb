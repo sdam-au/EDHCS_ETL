{
 "cells": [
  {
   "cell_type": "code",
   "execution_count": 2,
   "outputs": [],
   "source": [
    "import sddk\n",
    "import pandas as pd\n",
    "pd.options.display.max_columns = 1000 # to see all columns\n",
    "import geopandas as gpd\n",
    "import warnings\n",
    "warnings.filterwarnings('ignore')\n",
    "import nltk"
   ],
   "metadata": {
    "collapsed": false
   }
  },
  {
   "cell_type": "code",
   "execution_count": 3,
   "outputs": [],
   "source": [
    "LIST = gpd.read_parquet(\"../data/large_data/LIST_classified.parquet\")"
   ],
   "metadata": {
    "collapsed": false
   }
  },
  {
   "cell_type": "code",
   "execution_count": 4,
   "outputs": [
    {
     "data": {
      "text/plain": "81266"
     },
     "execution_count": 4,
     "metadata": {},
     "output_type": "execute_result"
    }
   ],
   "source": [
    "# records with valid EDH-ID\n",
    "edh_ids_list = LIST[LIST[\"EDH-ID\"].notnull()][\"EDH-ID\"].tolist()\n",
    "len(edh_ids_list)"
   ],
   "metadata": {
    "collapsed": false
   }
  },
  {
   "cell_type": "code",
   "execution_count": 5,
   "outputs": [
    {
     "data": {
      "text/plain": "79899"
     },
     "execution_count": 5,
     "metadata": {},
     "output_type": "execute_result"
    }
   ],
   "source": [
    "# records with valid & UNIQUE EDH-ID\n",
    "edh_ids_unique = LIST[LIST[\"EDH-ID\"].notnull()][\"EDH-ID\"].unique().tolist()\n",
    "len(edh_ids_unique)"
   ],
   "metadata": {
    "collapsed": false
   }
  },
  {
   "cell_type": "code",
   "execution_count": 6,
   "outputs": [
    {
     "data": {
      "text/plain": "1136"
     },
     "execution_count": 6,
     "metadata": {},
     "output_type": "execute_result"
    }
   ],
   "source": [
    "# EDH-IDs appearing at least twice:\n",
    "dup_ids = [id_tup[0] for id_tup in nltk.FreqDist(edh_ids_list).most_common() if id_tup[1] > 1]\n",
    "len(dup_ids)"
   ],
   "metadata": {
    "collapsed": false
   }
  },
  {
   "cell_type": "code",
   "execution_count": 7,
   "outputs": [
    {
     "data": {
      "text/plain": "            LIST-ID        EDCS-ID    EDH-ID  \\\n449357  LIST-449358  EDCS-28500267  HD064154   \n449358  LIST-449359  EDCS-28500268  HD064154   \n449359  LIST-449360  EDCS-28500269  HD064154   \n449360  LIST-449361  EDCS-28500271  HD064154   \n449361  LIST-449362  EDCS-28500272  HD064154   \n...             ...            ...       ...   \n524948  LIST-524949  EDCS-05100816  HD013243   \n525235  LIST-525236  EDCS-34000235  HD003777   \n525387  LIST-525388  EDCS-07400269  HD000467   \n525553  LIST-525554  EDCS-01300350  HD025482   \n525642  LIST-525643  EDCS-09400347  HD005807   \n\n                                trismegistos_uri pleiades_id  \\\n449357  https://www.trismegistos.org/text/178167      599588   \n449358  https://www.trismegistos.org/text/178167      599588   \n449359  https://www.trismegistos.org/text/178167      599588   \n449360  https://www.trismegistos.org/text/178167      599588   \n449361  https://www.trismegistos.org/text/178167      599588   \n...                                          ...         ...   \n524948  https://www.trismegistos.org/text/285387               \n525235  https://www.trismegistos.org/text/286410      413196   \n525387  https://www.trismegistos.org/text/286471      413320   \n525553  https://www.trismegistos.org/text/122919      118569   \n525642  https://www.trismegistos.org/text/123140      118569   \n\n                                            transcription  \\\n449357  [---]S[---] // [---]T[---] // [---]SA[---] // ...   \n449358  [---]S[---] // [---]T[---] // [---]SA[---] // ...   \n449359  [---]S[---] // [---]T[---] // [---]SA[---] // ...   \n449360  [---]S[---] // [---]T[---] // [---]SA[---] // ...   \n449361  [---]S[---] // [---]T[---] // [---]SA[---] // ...   \n...                                                   ...   \n524948  I(ovi) [O(ptimo)] M(aximo) / Novellia[nus] / P...   \n525235         [---] Caesii [---] / [---] sexviri [------   \n525387  ------] / [---] ut prior occi/[sus? --- me]rit...   \n525553  Loc(us) / vestiari/orum / in fr(onte) p(edes) ...   \n525642  Splendonius et / Hilara cum s/uis f(ecerunt) p...   \n\n                                              inscription  \\\n449357                                                ]T[   \n449358                                               ]SA[   \n449359                                                ]M[   \n449360                                                ]N[   \n449361                                                ]I[   \n...                                                   ...   \n524948  Novelia / Pandarus / I(ovi) O(ptimo) M(aximo) ...   \n525235                             ] Caesi[3] / sexviri [   \n525387  [3]ut prior occi/[3]ritis namq(ue) / [3]italis...   \n525553  Loc(us) m(onumenti) / vestiari/orum / in fr(on...   \n525642  Nonnos[us et] / Sever[i]a[na] / cum su[is] / f...   \n\n                                  clean_text_conservative  \\\n449357                       S T SA M G N I DE O K OR CVF   \n449358                       S T SA M G N I DE O K OR CVF   \n449359                       S T SA M G N I DE O K OR CVF   \n449360                       S T SA M G N I DE O K OR CVF   \n449361                       S T SA M G N I DE O K OR CVF   \n...                                                   ...   \n524948  I M Novellia Pandarus pro se et suis omnibus a...   \n525235                                     Caesii sexviri   \n525387  ut prior occiritis namquitalis ut a te gse pri...   \n525553           Loc vestiariorum in fr p L in agr p LXIV   \n525642  Splendonius et Hilara cum suis f p CC Nonnos S...   \n\n                         clean_text_interpretive_sentence  \\\n449357                       S T SA M G N I DE O K OR CVF   \n449358                       S T SA M G N I DE O K OR CVF   \n449359                       S T SA M G N I DE O K OR CVF   \n449360                       S T SA M G N I DE O K OR CVF   \n449361                       S T SA M G N I DE O K OR CVF   \n...                                                   ...   \n524948  Iovi Optimo Maximo Novellianus Pandarus pro se...   \n525235                                     Caesii sexviri   \n525387  ut prior occisus meritis nam que Vitalis ut a ...   \n525553  Locus vestiariorum in fronte pedes L in agro p...   \n525642  Splendonius et Hilara cum suis fecerunt pedes ...   \n\n                             clean_text_interpretive_word  \\\n449357                       S T SA M G N I DE O K OR CVF   \n449358                       S T SA M G N I DE O K OR CVF   \n449359                       S T SA M G N I DE O K OR CVF   \n449360                       S T SA M G N I DE O K OR CVF   \n449361                       S T SA M G N I DE O K OR CVF   \n...                                                   ...   \n524948  Iovi Optimo Maximo Novellianus Pandarus pro se...   \n525235                                     Caesii sexviri   \n525387  ut prior occisus meritis nam que Vitalis ut a ...   \n525553  Locus vestiariorum in fronte pedes L in agro p...   \n525642  Splendonius et Hilara cum suis fecerunt pedes ...   \n\n                        clean_text_interpretive_word_EDCS  \\\n449357                                                  T   \n449358                                                 SA   \n449359                                                  M   \n449360                                                  N   \n449361                                                  I   \n...                                                   ...   \n524948  Novelia Pandarus Iovi Optimo Maximo votum solv...   \n525235                                      Caesi sexviri   \n525387  ut prior occi ritis nam que italis ut a te g s...   \n525553  Locus monumenti vestiariorum in fronte pedes L...   \n525642      Nonnosus et Severiana cum suis fecerunt pedes   \n\n                                          diplomatic_text  \\\n449357  [ ]S[ ] / / [ ]T[ ] / / [ ]SA[ ] / / [ ]M[ ] /...   \n449358  [ ]S[ ] / / [ ]T[ ] / / [ ]SA[ ] / / [ ]M[ ] /...   \n449359  [ ]S[ ] / / [ ]T[ ] / / [ ]SA[ ] / / [ ]M[ ] /...   \n449360  [ ]S[ ] / / [ ]T[ ] / / [ ]SA[ ] / / [ ]M[ ] /...   \n449361  [ ]S[ ] / / [ ]T[ ] / / [ ]SA[ ] / / [ ]M[ ] /...   \n...                                                   ...   \n524948  I [ ] M / NOVELLIA[ ] / PANDARVS / PRO SE ET S...   \n525235                     [ ] CAESII [ ] / [ ] SEXVIRI [   \n525387  ] / [ ] VT PRIOR OCCI / [ ]RITIS NAMQV / [ ]IT...   \n525553  LOC / VESTIARI / ORVM / IN FR P L / IN AGR P LXIV   \n525642  SPLENDONIVS ET / HILARA CVM S / VIS F P CC / /...   \n\n                            province                place  \\\n449357                        Achaia      Delos / Ortygia   \n449358                        Achaia      Delos / Ortygia   \n449359                        Achaia      Delos / Ortygia   \n449360                        Achaia      Delos / Ortygia   \n449361                        Achaia      Delos / Ortygia   \n...                              ...                  ...   \n524948        Transpadana / Regio XI              Barzano   \n525235             Umbria / Regio VI  Matelica / Matilica   \n525387             Umbria / Regio VI  Spoleto / Spoletium   \n525553  Venetia et Histria / Regio X             Aquileia   \n525642  Venetia et Histria / Regio X             Aquileia   \n\n                                      inscr_type  \\\n449357                                      None   \n449358                                      None   \n449359                                      None   \n449360                                      None   \n449361                                      None   \n...                                          ...   \n524948                              tituli sacri   \n525235                        tituli sepulcrales   \n525387                 inscriptiones christianae   \n525553                        tituli sepulcrales   \n525642  inscriptiones christianae, tituli operum   \n\n                        status_notation inscr_process  \\\n449357                             None          None   \n449358                             None          None   \n449359                             None          None   \n449360                             None          None   \n449361                             None          None   \n...                                 ...           ...   \n524948                             None          None   \n525235                seviri Augustales          None   \n525387                             None          None   \n525553         officium/professio, viri          None   \n525642  mulieres, nomen singulare, viri          None   \n\n                                                   status  \\\n449357                                               None   \n449358                                               None   \n449359                                               None   \n449360                                               None   \n449361                                               None   \n...                                                   ...   \n524948                                       tituli sacri   \n525235             seviri Augustales;  tituli sepulcrales   \n525387                          inscriptiones christianae   \n525553     officium/professio;  tituli sepulcrales;  viri   \n525642  inscriptiones christianae;  mulieres;  nomen s...   \n\n                                             partner_link last_update  \\\n449357  http://db.edcs.eu/epigr/partner.php?s_language...  2011-11-18   \n449358  http://db.edcs.eu/epigr/partner.php?s_language...  2011-11-18   \n449359  http://db.edcs.eu/epigr/partner.php?s_language...  2011-11-18   \n449360  http://db.edcs.eu/epigr/partner.php?s_language...  2011-11-18   \n449361  http://db.edcs.eu/epigr/partner.php?s_language...  2011-11-18   \n...                                                   ...         ...   \n524948  http://db.edcs.eu/epigr/partner.php?s_language...  1998-01-15   \n525235  http://db.edcs.eu/epigr/partner.php?s_language...  2011-09-23   \n525387  http://db.edcs.eu/epigr/partner.php?s_language...  2018-05-11   \n525553  http://db.edcs.eu/epigr/partner.php?s_language...  1996-05-14   \n525642  http://db.edcs.eu/epigr/partner.php?s_language...  2008-03-14   \n\n       letter_size type_of_inscription  work_status  year_of_find  \\\n449357       17 cm                None     no image           NaN   \n449358       17 cm                None     no image           NaN   \n449359       17 cm                None     no image           NaN   \n449360       17 cm                None     no image           NaN   \n449361       17 cm                None     no image           NaN   \n...            ...                 ...          ...           ...   \n524948      5.5 cm  votive inscription     no image           NaN   \n525235        None                None  provisional           NaN   \n525387    2-2.5 cm                None  provisional           NaN   \n525553        None                None  provisional           NaN   \n525642        None                None  provisional           NaN   \n\n           present_location  \\\n449357                 None   \n449358                 None   \n449359                 None   \n449360                 None   \n449361                 None   \n...                     ...   \n524948                 None   \n525235                 None   \n525387  S. Ponziano, Kirche   \n525553                 None   \n525642                 None   \n\n                                             text_edition support_objecttype  \\\n449357                 \\n S T SA M G N I DE O K OR CVF \\n               None   \n449358                 \\n S T SA M G N I DE O K OR CVF \\n               None   \n449359                 \\n S T SA M G N I DE O K OR CVF \\n               None   \n449360                 \\n S T SA M G N I DE O K OR CVF \\n               None   \n449361                 \\n S T SA M G N I DE O K OR CVF \\n               None   \n...                                                   ...                ...   \n524948  \\n Iovi Optimo Maximo Novellianus Pandarus pro...                 29   \n525235                               \\n Caesii sexviri \\n                257   \n525387  \\n ut prior occisus meritis namque Vitalis ut ...                257   \n525553  \\n Locus vestiariorum in fronte pedes L in agr...               None   \n525642  \\n Splendonius et Hilara cum suis fecerunt ped...               None   \n\n        support_material  support_decoration  keywords_term  \\\n449357               NaN              1000.0          143.0   \n449358               NaN              1000.0          143.0   \n449359               NaN              1000.0          143.0   \n449360               NaN              1000.0          143.0   \n449361               NaN              1000.0          143.0   \n...                  ...                 ...            ...   \n524948               NaN              1000.0          372.0   \n525235               NaN              1000.0          143.0   \n525387              48.0              1000.0          143.0   \n525553               NaN              1000.0          143.0   \n525642               NaN              1000.0          143.0   \n\n                                                   people  \\\n449357                                                [ ]   \n449358                                                [ ]   \n449359                                                [ ]   \n449360                                                [ ]   \n449361                                                [ ]   \n...                                                   ...   \n524948                                                [ ]   \n525235                                                [ ]   \n525387  [ { \"persname\": { \"name\": { \"@type\": \"cognomen...   \n525553                                                [ ]   \n525642                                                [ ]   \n\n       type_of_inscription_clean  type_of_inscription_certainty  height_cm  \\\n449357                      NULL                          False        NaN   \n449358                      NULL                          False        NaN   \n449359                      NULL                          False        NaN   \n449360                      NULL                          False        NaN   \n449361                      NULL                          False        NaN   \n...                          ...                            ...        ...   \n524948        votive inscription                          False      100.0   \n525235                      NULL                          False        NaN   \n525387                      NULL                          False       31.0   \n525553                      NULL                          False        NaN   \n525642                      NULL                          False        NaN   \n\n        width_cm  depth_cm material_clean type_of_monument_clean  \\\n449357       NaN       NaN           NULL                   NULL   \n449358       NaN       NaN           NULL                   NULL   \n449359       NaN       NaN           NULL                   NULL   \n449360       NaN       NaN           NULL                   NULL   \n449361       NaN       NaN           NULL                   NULL   \n...          ...       ...            ...                    ...   \n524948      55.0      50.0           NULL                  altar   \n525235       NaN       NaN           NULL                 tabula   \n525387      26.0       8.0         Marble                 tabula   \n525553       NaN       NaN           NULL                   NULL   \n525642       NaN       NaN           NULL                   NULL   \n\n        type_of_monument_certainty          province_label_clean  \\\n449357                       False                        Achaia   \n449358                       False                        Achaia   \n449359                       False                        Achaia   \n449360                       False                        Achaia   \n449361                       False                        Achaia   \n...                            ...                           ...   \n524948                       False        Transpadana (Regio XI)   \n525235                       False             Umbria (Regio VI)   \n525387                       False             Umbria (Regio VI)   \n525553                       False  Venetia et Histria (Regio X)   \n525642                       False  Venetia et Histria (Regio X)   \n\n        province_label_certainty country_clean  country_certainty  \\\n449357                     False        Greece              False   \n449358                     False        Greece              False   \n449359                     False        Greece              False   \n449360                     False        Greece              False   \n449361                     False        Greece              False   \n...                          ...           ...                ...   \n524948                     False         Italy              False   \n525235                     False         Italy              False   \n525387                     False         Italy              False   \n525553                     False         Italy              False   \n525642                     False         Italy              False   \n\n       findspot_ancient_clean  findspot_ancient_certainty modern_region_clean  \\\n449357                  Delos                       False        Nótio Aigaío   \n449358                  Delos                       False        Nótio Aigaío   \n449359                  Delos                       False        Nótio Aigaío   \n449360                  Delos                       False        Nótio Aigaío   \n449361                  Delos                       False        Nótio Aigaío   \n...                       ...                         ...                 ...   \n524948                   NULL                       False                NULL   \n525235               Matilica                       False              Marche   \n525387              Spoletium                       False             Perugia   \n525553               Aquileia                       False               Udine   \n525642               Aquileia                       False               Udine   \n\n        modern_region_certainty findspot_modern_clean  \\\n449357                    False                Dhílos   \n449358                    False                Dhílos   \n449359                    False                Dhílos   \n449360                    False                Dhílos   \n449361                    False                Dhílos   \n...                         ...                   ...   \n524948                    False               Barzano   \n525235                    False              Matelica   \n525387                    False               Spoleto   \n525553                    False              Aquileia   \n525642                    False              Aquileia   \n\n        findspot_modern_certainty             findspot_clean  \\\n449357                      False                       NULL   \n449358                      False                       NULL   \n449359                      False                       NULL   \n449360                      False                       NULL   \n449361                      False                       NULL   \n...                           ...                        ...   \n524948                      False       S. Salvatore, Kirche   \n525235                      False  Mauer, sekundär verwendet   \n525387                      False        Kirche San Ponziano   \n525553                      False                       NULL   \n525642                      False                       NULL   \n\n        findspot_certainty language language_EDCS  raw_dating  not_after  \\\n449357               False        L          None        None        NaN   \n449358               False        L          None        None        NaN   \n449359               False        L          None        None        NaN   \n449360               False        L          None        None        NaN   \n449361               False        L          None        None        NaN   \n...                    ...      ...           ...         ...        ...   \n524948               False        L          None  201 to 300      301.0   \n525235               False        L          None    1 to 100        1.0   \n525387               False        L          None        None      301.0   \n525553               False        L          None   51 to 100        NaN   \n525642               False        L          None  376 to 425        NaN   \n\n        not_before  Longitude  Latitude  geotemporal?  \\\n449357         NaN    25.2661   37.4036         False   \n449358         NaN    25.2661   37.4036         False   \n449359         NaN    25.2661   37.4036         False   \n449360         NaN    25.2661   37.4036         False   \n449361         NaN    25.2661   37.4036         False   \n...            ...        ...       ...           ...   \n524948       400.0        NaN       NaN         False   \n525235        50.0    13.0116   43.2550          True   \n525387       500.0    12.7429   42.7335          True   \n525553         NaN    10.1535   48.6795         False   \n525642         NaN    10.1535   48.6795         False   \n\n                         geometry  withinRE?  large_city_pop  medium_city_pop  \\\n449357  POINT (25.26610 37.40360)      False         58112.0          18364.0   \n449358  POINT (25.26610 37.40360)      False         58112.0          18364.0   \n449359  POINT (25.26610 37.40360)      False         58112.0          18364.0   \n449360  POINT (25.26610 37.40360)      False         58112.0          18364.0   \n449361  POINT (25.26610 37.40360)      False         58112.0          18364.0   \n...                           ...        ...             ...              ...   \n524948                       None      False             NaN              NaN   \n525235  POINT (13.01160 43.25500)       True        923313.0           5782.0   \n525387  POINT (12.74290 42.73350)       True        923313.0           7376.0   \n525553  POINT (10.15350 48.67950)       True         39960.0          10608.0   \n525642  POINT (10.15350 48.67950)       True         39960.0          10608.0   \n\n        small_city_pop urban_context urban_context_city  \\\n449357          2290.0        medium              Delos   \n449358          2290.0        medium              Delos   \n449359          2290.0        medium              Delos   \n449360          2290.0        medium              Delos   \n449361          2290.0        medium              Delos   \n...                ...           ...                ...   \n524948             NaN          None               None   \n525235          1000.0         small           Matilica   \n525387          2760.0         small          Spoletium   \n525553          1000.0         rural               None   \n525642          1000.0         rural               None   \n\n        urban_context_pop_est type_of_inscription_auto  \\\n449357                18364.0                     None   \n449358                18364.0                     None   \n449359                18364.0                     None   \n449360                18364.0                     None   \n449361                18364.0                     None   \n...                       ...                      ...   \n524948                    NaN       votive inscription   \n525235                 1000.0                     None   \n525387                 2760.0                     None   \n525553                    NaN                     None   \n525642                    NaN                     None   \n\n        type_of_inscription_auto_prob  \n449357                            0.0  \n449358                            0.0  \n449359                            0.0  \n449360                            0.0  \n449361                            0.0  \n...                               ...  \n524948                            1.0  \n525235                            0.0  \n525387                            0.0  \n525553                            0.0  \n525642                            0.0  \n\n[1367 rows x 69 columns]",
      "text/html": "<div>\n<style scoped>\n    .dataframe tbody tr th:only-of-type {\n        vertical-align: middle;\n    }\n\n    .dataframe tbody tr th {\n        vertical-align: top;\n    }\n\n    .dataframe thead th {\n        text-align: right;\n    }\n</style>\n<table border=\"1\" class=\"dataframe\">\n  <thead>\n    <tr style=\"text-align: right;\">\n      <th></th>\n      <th>LIST-ID</th>\n      <th>EDCS-ID</th>\n      <th>EDH-ID</th>\n      <th>trismegistos_uri</th>\n      <th>pleiades_id</th>\n      <th>transcription</th>\n      <th>inscription</th>\n      <th>clean_text_conservative</th>\n      <th>clean_text_interpretive_sentence</th>\n      <th>clean_text_interpretive_word</th>\n      <th>clean_text_interpretive_word_EDCS</th>\n      <th>diplomatic_text</th>\n      <th>province</th>\n      <th>place</th>\n      <th>inscr_type</th>\n      <th>status_notation</th>\n      <th>inscr_process</th>\n      <th>status</th>\n      <th>partner_link</th>\n      <th>last_update</th>\n      <th>letter_size</th>\n      <th>type_of_inscription</th>\n      <th>work_status</th>\n      <th>year_of_find</th>\n      <th>present_location</th>\n      <th>text_edition</th>\n      <th>support_objecttype</th>\n      <th>support_material</th>\n      <th>support_decoration</th>\n      <th>keywords_term</th>\n      <th>people</th>\n      <th>type_of_inscription_clean</th>\n      <th>type_of_inscription_certainty</th>\n      <th>height_cm</th>\n      <th>width_cm</th>\n      <th>depth_cm</th>\n      <th>material_clean</th>\n      <th>type_of_monument_clean</th>\n      <th>type_of_monument_certainty</th>\n      <th>province_label_clean</th>\n      <th>province_label_certainty</th>\n      <th>country_clean</th>\n      <th>country_certainty</th>\n      <th>findspot_ancient_clean</th>\n      <th>findspot_ancient_certainty</th>\n      <th>modern_region_clean</th>\n      <th>modern_region_certainty</th>\n      <th>findspot_modern_clean</th>\n      <th>findspot_modern_certainty</th>\n      <th>findspot_clean</th>\n      <th>findspot_certainty</th>\n      <th>language</th>\n      <th>language_EDCS</th>\n      <th>raw_dating</th>\n      <th>not_after</th>\n      <th>not_before</th>\n      <th>Longitude</th>\n      <th>Latitude</th>\n      <th>geotemporal?</th>\n      <th>geometry</th>\n      <th>withinRE?</th>\n      <th>large_city_pop</th>\n      <th>medium_city_pop</th>\n      <th>small_city_pop</th>\n      <th>urban_context</th>\n      <th>urban_context_city</th>\n      <th>urban_context_pop_est</th>\n      <th>type_of_inscription_auto</th>\n      <th>type_of_inscription_auto_prob</th>\n    </tr>\n  </thead>\n  <tbody>\n    <tr>\n      <th>449357</th>\n      <td>LIST-449358</td>\n      <td>EDCS-28500267</td>\n      <td>HD064154</td>\n      <td>https://www.trismegistos.org/text/178167</td>\n      <td>599588</td>\n      <td>[---]S[---] // [---]T[---] // [---]SA[---] // ...</td>\n      <td>]T[</td>\n      <td>S T SA M G N I DE O K OR CVF</td>\n      <td>S T SA M G N I DE O K OR CVF</td>\n      <td>S T SA M G N I DE O K OR CVF</td>\n      <td>T</td>\n      <td>[ ]S[ ] / / [ ]T[ ] / / [ ]SA[ ] / / [ ]M[ ] /...</td>\n      <td>Achaia</td>\n      <td>Delos / Ortygia</td>\n      <td>None</td>\n      <td>None</td>\n      <td>None</td>\n      <td>None</td>\n      <td>http://db.edcs.eu/epigr/partner.php?s_language...</td>\n      <td>2011-11-18</td>\n      <td>17 cm</td>\n      <td>None</td>\n      <td>no image</td>\n      <td>NaN</td>\n      <td>None</td>\n      <td>\\n S T SA M G N I DE O K OR CVF \\n</td>\n      <td>None</td>\n      <td>NaN</td>\n      <td>1000.0</td>\n      <td>143.0</td>\n      <td>[ ]</td>\n      <td>NULL</td>\n      <td>False</td>\n      <td>NaN</td>\n      <td>NaN</td>\n      <td>NaN</td>\n      <td>NULL</td>\n      <td>NULL</td>\n      <td>False</td>\n      <td>Achaia</td>\n      <td>False</td>\n      <td>Greece</td>\n      <td>False</td>\n      <td>Delos</td>\n      <td>False</td>\n      <td>Nótio Aigaío</td>\n      <td>False</td>\n      <td>Dhílos</td>\n      <td>False</td>\n      <td>NULL</td>\n      <td>False</td>\n      <td>L</td>\n      <td>None</td>\n      <td>None</td>\n      <td>NaN</td>\n      <td>NaN</td>\n      <td>25.2661</td>\n      <td>37.4036</td>\n      <td>False</td>\n      <td>POINT (25.26610 37.40360)</td>\n      <td>False</td>\n      <td>58112.0</td>\n      <td>18364.0</td>\n      <td>2290.0</td>\n      <td>medium</td>\n      <td>Delos</td>\n      <td>18364.0</td>\n      <td>None</td>\n      <td>0.0</td>\n    </tr>\n    <tr>\n      <th>449358</th>\n      <td>LIST-449359</td>\n      <td>EDCS-28500268</td>\n      <td>HD064154</td>\n      <td>https://www.trismegistos.org/text/178167</td>\n      <td>599588</td>\n      <td>[---]S[---] // [---]T[---] // [---]SA[---] // ...</td>\n      <td>]SA[</td>\n      <td>S T SA M G N I DE O K OR CVF</td>\n      <td>S T SA M G N I DE O K OR CVF</td>\n      <td>S T SA M G N I DE O K OR CVF</td>\n      <td>SA</td>\n      <td>[ ]S[ ] / / [ ]T[ ] / / [ ]SA[ ] / / [ ]M[ ] /...</td>\n      <td>Achaia</td>\n      <td>Delos / Ortygia</td>\n      <td>None</td>\n      <td>None</td>\n      <td>None</td>\n      <td>None</td>\n      <td>http://db.edcs.eu/epigr/partner.php?s_language...</td>\n      <td>2011-11-18</td>\n      <td>17 cm</td>\n      <td>None</td>\n      <td>no image</td>\n      <td>NaN</td>\n      <td>None</td>\n      <td>\\n S T SA M G N I DE O K OR CVF \\n</td>\n      <td>None</td>\n      <td>NaN</td>\n      <td>1000.0</td>\n      <td>143.0</td>\n      <td>[ ]</td>\n      <td>NULL</td>\n      <td>False</td>\n      <td>NaN</td>\n      <td>NaN</td>\n      <td>NaN</td>\n      <td>NULL</td>\n      <td>NULL</td>\n      <td>False</td>\n      <td>Achaia</td>\n      <td>False</td>\n      <td>Greece</td>\n      <td>False</td>\n      <td>Delos</td>\n      <td>False</td>\n      <td>Nótio Aigaío</td>\n      <td>False</td>\n      <td>Dhílos</td>\n      <td>False</td>\n      <td>NULL</td>\n      <td>False</td>\n      <td>L</td>\n      <td>None</td>\n      <td>None</td>\n      <td>NaN</td>\n      <td>NaN</td>\n      <td>25.2661</td>\n      <td>37.4036</td>\n      <td>False</td>\n      <td>POINT (25.26610 37.40360)</td>\n      <td>False</td>\n      <td>58112.0</td>\n      <td>18364.0</td>\n      <td>2290.0</td>\n      <td>medium</td>\n      <td>Delos</td>\n      <td>18364.0</td>\n      <td>None</td>\n      <td>0.0</td>\n    </tr>\n    <tr>\n      <th>449359</th>\n      <td>LIST-449360</td>\n      <td>EDCS-28500269</td>\n      <td>HD064154</td>\n      <td>https://www.trismegistos.org/text/178167</td>\n      <td>599588</td>\n      <td>[---]S[---] // [---]T[---] // [---]SA[---] // ...</td>\n      <td>]M[</td>\n      <td>S T SA M G N I DE O K OR CVF</td>\n      <td>S T SA M G N I DE O K OR CVF</td>\n      <td>S T SA M G N I DE O K OR CVF</td>\n      <td>M</td>\n      <td>[ ]S[ ] / / [ ]T[ ] / / [ ]SA[ ] / / [ ]M[ ] /...</td>\n      <td>Achaia</td>\n      <td>Delos / Ortygia</td>\n      <td>None</td>\n      <td>None</td>\n      <td>None</td>\n      <td>None</td>\n      <td>http://db.edcs.eu/epigr/partner.php?s_language...</td>\n      <td>2011-11-18</td>\n      <td>17 cm</td>\n      <td>None</td>\n      <td>no image</td>\n      <td>NaN</td>\n      <td>None</td>\n      <td>\\n S T SA M G N I DE O K OR CVF \\n</td>\n      <td>None</td>\n      <td>NaN</td>\n      <td>1000.0</td>\n      <td>143.0</td>\n      <td>[ ]</td>\n      <td>NULL</td>\n      <td>False</td>\n      <td>NaN</td>\n      <td>NaN</td>\n      <td>NaN</td>\n      <td>NULL</td>\n      <td>NULL</td>\n      <td>False</td>\n      <td>Achaia</td>\n      <td>False</td>\n      <td>Greece</td>\n      <td>False</td>\n      <td>Delos</td>\n      <td>False</td>\n      <td>Nótio Aigaío</td>\n      <td>False</td>\n      <td>Dhílos</td>\n      <td>False</td>\n      <td>NULL</td>\n      <td>False</td>\n      <td>L</td>\n      <td>None</td>\n      <td>None</td>\n      <td>NaN</td>\n      <td>NaN</td>\n      <td>25.2661</td>\n      <td>37.4036</td>\n      <td>False</td>\n      <td>POINT (25.26610 37.40360)</td>\n      <td>False</td>\n      <td>58112.0</td>\n      <td>18364.0</td>\n      <td>2290.0</td>\n      <td>medium</td>\n      <td>Delos</td>\n      <td>18364.0</td>\n      <td>None</td>\n      <td>0.0</td>\n    </tr>\n    <tr>\n      <th>449360</th>\n      <td>LIST-449361</td>\n      <td>EDCS-28500271</td>\n      <td>HD064154</td>\n      <td>https://www.trismegistos.org/text/178167</td>\n      <td>599588</td>\n      <td>[---]S[---] // [---]T[---] // [---]SA[---] // ...</td>\n      <td>]N[</td>\n      <td>S T SA M G N I DE O K OR CVF</td>\n      <td>S T SA M G N I DE O K OR CVF</td>\n      <td>S T SA M G N I DE O K OR CVF</td>\n      <td>N</td>\n      <td>[ ]S[ ] / / [ ]T[ ] / / [ ]SA[ ] / / [ ]M[ ] /...</td>\n      <td>Achaia</td>\n      <td>Delos / Ortygia</td>\n      <td>None</td>\n      <td>None</td>\n      <td>None</td>\n      <td>None</td>\n      <td>http://db.edcs.eu/epigr/partner.php?s_language...</td>\n      <td>2011-11-18</td>\n      <td>17 cm</td>\n      <td>None</td>\n      <td>no image</td>\n      <td>NaN</td>\n      <td>None</td>\n      <td>\\n S T SA M G N I DE O K OR CVF \\n</td>\n      <td>None</td>\n      <td>NaN</td>\n      <td>1000.0</td>\n      <td>143.0</td>\n      <td>[ ]</td>\n      <td>NULL</td>\n      <td>False</td>\n      <td>NaN</td>\n      <td>NaN</td>\n      <td>NaN</td>\n      <td>NULL</td>\n      <td>NULL</td>\n      <td>False</td>\n      <td>Achaia</td>\n      <td>False</td>\n      <td>Greece</td>\n      <td>False</td>\n      <td>Delos</td>\n      <td>False</td>\n      <td>Nótio Aigaío</td>\n      <td>False</td>\n      <td>Dhílos</td>\n      <td>False</td>\n      <td>NULL</td>\n      <td>False</td>\n      <td>L</td>\n      <td>None</td>\n      <td>None</td>\n      <td>NaN</td>\n      <td>NaN</td>\n      <td>25.2661</td>\n      <td>37.4036</td>\n      <td>False</td>\n      <td>POINT (25.26610 37.40360)</td>\n      <td>False</td>\n      <td>58112.0</td>\n      <td>18364.0</td>\n      <td>2290.0</td>\n      <td>medium</td>\n      <td>Delos</td>\n      <td>18364.0</td>\n      <td>None</td>\n      <td>0.0</td>\n    </tr>\n    <tr>\n      <th>449361</th>\n      <td>LIST-449362</td>\n      <td>EDCS-28500272</td>\n      <td>HD064154</td>\n      <td>https://www.trismegistos.org/text/178167</td>\n      <td>599588</td>\n      <td>[---]S[---] // [---]T[---] // [---]SA[---] // ...</td>\n      <td>]I[</td>\n      <td>S T SA M G N I DE O K OR CVF</td>\n      <td>S T SA M G N I DE O K OR CVF</td>\n      <td>S T SA M G N I DE O K OR CVF</td>\n      <td>I</td>\n      <td>[ ]S[ ] / / [ ]T[ ] / / [ ]SA[ ] / / [ ]M[ ] /...</td>\n      <td>Achaia</td>\n      <td>Delos / Ortygia</td>\n      <td>None</td>\n      <td>None</td>\n      <td>None</td>\n      <td>None</td>\n      <td>http://db.edcs.eu/epigr/partner.php?s_language...</td>\n      <td>2011-11-18</td>\n      <td>17 cm</td>\n      <td>None</td>\n      <td>no image</td>\n      <td>NaN</td>\n      <td>None</td>\n      <td>\\n S T SA M G N I DE O K OR CVF \\n</td>\n      <td>None</td>\n      <td>NaN</td>\n      <td>1000.0</td>\n      <td>143.0</td>\n      <td>[ ]</td>\n      <td>NULL</td>\n      <td>False</td>\n      <td>NaN</td>\n      <td>NaN</td>\n      <td>NaN</td>\n      <td>NULL</td>\n      <td>NULL</td>\n      <td>False</td>\n      <td>Achaia</td>\n      <td>False</td>\n      <td>Greece</td>\n      <td>False</td>\n      <td>Delos</td>\n      <td>False</td>\n      <td>Nótio Aigaío</td>\n      <td>False</td>\n      <td>Dhílos</td>\n      <td>False</td>\n      <td>NULL</td>\n      <td>False</td>\n      <td>L</td>\n      <td>None</td>\n      <td>None</td>\n      <td>NaN</td>\n      <td>NaN</td>\n      <td>25.2661</td>\n      <td>37.4036</td>\n      <td>False</td>\n      <td>POINT (25.26610 37.40360)</td>\n      <td>False</td>\n      <td>58112.0</td>\n      <td>18364.0</td>\n      <td>2290.0</td>\n      <td>medium</td>\n      <td>Delos</td>\n      <td>18364.0</td>\n      <td>None</td>\n      <td>0.0</td>\n    </tr>\n    <tr>\n      <th>...</th>\n      <td>...</td>\n      <td>...</td>\n      <td>...</td>\n      <td>...</td>\n      <td>...</td>\n      <td>...</td>\n      <td>...</td>\n      <td>...</td>\n      <td>...</td>\n      <td>...</td>\n      <td>...</td>\n      <td>...</td>\n      <td>...</td>\n      <td>...</td>\n      <td>...</td>\n      <td>...</td>\n      <td>...</td>\n      <td>...</td>\n      <td>...</td>\n      <td>...</td>\n      <td>...</td>\n      <td>...</td>\n      <td>...</td>\n      <td>...</td>\n      <td>...</td>\n      <td>...</td>\n      <td>...</td>\n      <td>...</td>\n      <td>...</td>\n      <td>...</td>\n      <td>...</td>\n      <td>...</td>\n      <td>...</td>\n      <td>...</td>\n      <td>...</td>\n      <td>...</td>\n      <td>...</td>\n      <td>...</td>\n      <td>...</td>\n      <td>...</td>\n      <td>...</td>\n      <td>...</td>\n      <td>...</td>\n      <td>...</td>\n      <td>...</td>\n      <td>...</td>\n      <td>...</td>\n      <td>...</td>\n      <td>...</td>\n      <td>...</td>\n      <td>...</td>\n      <td>...</td>\n      <td>...</td>\n      <td>...</td>\n      <td>...</td>\n      <td>...</td>\n      <td>...</td>\n      <td>...</td>\n      <td>...</td>\n      <td>...</td>\n      <td>...</td>\n      <td>...</td>\n      <td>...</td>\n      <td>...</td>\n      <td>...</td>\n      <td>...</td>\n      <td>...</td>\n      <td>...</td>\n      <td>...</td>\n    </tr>\n    <tr>\n      <th>524948</th>\n      <td>LIST-524949</td>\n      <td>EDCS-05100816</td>\n      <td>HD013243</td>\n      <td>https://www.trismegistos.org/text/285387</td>\n      <td></td>\n      <td>I(ovi) [O(ptimo)] M(aximo) / Novellia[nus] / P...</td>\n      <td>Novelia / Pandarus / I(ovi) O(ptimo) M(aximo) ...</td>\n      <td>I M Novellia Pandarus pro se et suis omnibus a...</td>\n      <td>Iovi Optimo Maximo Novellianus Pandarus pro se...</td>\n      <td>Iovi Optimo Maximo Novellianus Pandarus pro se...</td>\n      <td>Novelia Pandarus Iovi Optimo Maximo votum solv...</td>\n      <td>I [ ] M / NOVELLIA[ ] / PANDARVS / PRO SE ET S...</td>\n      <td>Transpadana / Regio XI</td>\n      <td>Barzano</td>\n      <td>tituli sacri</td>\n      <td>None</td>\n      <td>None</td>\n      <td>tituli sacri</td>\n      <td>http://db.edcs.eu/epigr/partner.php?s_language...</td>\n      <td>1998-01-15</td>\n      <td>5.5 cm</td>\n      <td>votive inscription</td>\n      <td>no image</td>\n      <td>NaN</td>\n      <td>None</td>\n      <td>\\n Iovi Optimo Maximo Novellianus Pandarus pro...</td>\n      <td>29</td>\n      <td>NaN</td>\n      <td>1000.0</td>\n      <td>372.0</td>\n      <td>[ ]</td>\n      <td>votive inscription</td>\n      <td>False</td>\n      <td>100.0</td>\n      <td>55.0</td>\n      <td>50.0</td>\n      <td>NULL</td>\n      <td>altar</td>\n      <td>False</td>\n      <td>Transpadana (Regio XI)</td>\n      <td>False</td>\n      <td>Italy</td>\n      <td>False</td>\n      <td>NULL</td>\n      <td>False</td>\n      <td>NULL</td>\n      <td>False</td>\n      <td>Barzano</td>\n      <td>False</td>\n      <td>S. Salvatore, Kirche</td>\n      <td>False</td>\n      <td>L</td>\n      <td>None</td>\n      <td>201 to 300</td>\n      <td>301.0</td>\n      <td>400.0</td>\n      <td>NaN</td>\n      <td>NaN</td>\n      <td>False</td>\n      <td>None</td>\n      <td>False</td>\n      <td>NaN</td>\n      <td>NaN</td>\n      <td>NaN</td>\n      <td>None</td>\n      <td>None</td>\n      <td>NaN</td>\n      <td>votive inscription</td>\n      <td>1.0</td>\n    </tr>\n    <tr>\n      <th>525235</th>\n      <td>LIST-525236</td>\n      <td>EDCS-34000235</td>\n      <td>HD003777</td>\n      <td>https://www.trismegistos.org/text/286410</td>\n      <td>413196</td>\n      <td>[---] Caesii [---] / [---] sexviri [------</td>\n      <td>] Caesi[3] / sexviri [</td>\n      <td>Caesii sexviri</td>\n      <td>Caesii sexviri</td>\n      <td>Caesii sexviri</td>\n      <td>Caesi sexviri</td>\n      <td>[ ] CAESII [ ] / [ ] SEXVIRI [</td>\n      <td>Umbria / Regio VI</td>\n      <td>Matelica / Matilica</td>\n      <td>tituli sepulcrales</td>\n      <td>seviri Augustales</td>\n      <td>None</td>\n      <td>seviri Augustales;  tituli sepulcrales</td>\n      <td>http://db.edcs.eu/epigr/partner.php?s_language...</td>\n      <td>2011-09-23</td>\n      <td>None</td>\n      <td>None</td>\n      <td>provisional</td>\n      <td>NaN</td>\n      <td>None</td>\n      <td>\\n Caesii sexviri \\n</td>\n      <td>257</td>\n      <td>NaN</td>\n      <td>1000.0</td>\n      <td>143.0</td>\n      <td>[ ]</td>\n      <td>NULL</td>\n      <td>False</td>\n      <td>NaN</td>\n      <td>NaN</td>\n      <td>NaN</td>\n      <td>NULL</td>\n      <td>tabula</td>\n      <td>False</td>\n      <td>Umbria (Regio VI)</td>\n      <td>False</td>\n      <td>Italy</td>\n      <td>False</td>\n      <td>Matilica</td>\n      <td>False</td>\n      <td>Marche</td>\n      <td>False</td>\n      <td>Matelica</td>\n      <td>False</td>\n      <td>Mauer, sekundär verwendet</td>\n      <td>False</td>\n      <td>L</td>\n      <td>None</td>\n      <td>1 to 100</td>\n      <td>1.0</td>\n      <td>50.0</td>\n      <td>13.0116</td>\n      <td>43.2550</td>\n      <td>True</td>\n      <td>POINT (13.01160 43.25500)</td>\n      <td>True</td>\n      <td>923313.0</td>\n      <td>5782.0</td>\n      <td>1000.0</td>\n      <td>small</td>\n      <td>Matilica</td>\n      <td>1000.0</td>\n      <td>None</td>\n      <td>0.0</td>\n    </tr>\n    <tr>\n      <th>525387</th>\n      <td>LIST-525388</td>\n      <td>EDCS-07400269</td>\n      <td>HD000467</td>\n      <td>https://www.trismegistos.org/text/286471</td>\n      <td>413320</td>\n      <td>------] / [---] ut prior occi/[sus? --- me]rit...</td>\n      <td>[3]ut prior occi/[3]ritis namq(ue) / [3]italis...</td>\n      <td>ut prior occiritis namquitalis ut a te gse pri...</td>\n      <td>ut prior occisus meritis nam que Vitalis ut a ...</td>\n      <td>ut prior occisus meritis nam que Vitalis ut a ...</td>\n      <td>ut prior occi ritis nam que italis ut a te g s...</td>\n      <td>] / [ ] VT PRIOR OCCI / [ ]RITIS NAMQV / [ ]IT...</td>\n      <td>Umbria / Regio VI</td>\n      <td>Spoleto / Spoletium</td>\n      <td>inscriptiones christianae</td>\n      <td>None</td>\n      <td>None</td>\n      <td>inscriptiones christianae</td>\n      <td>http://db.edcs.eu/epigr/partner.php?s_language...</td>\n      <td>2018-05-11</td>\n      <td>2-2.5 cm</td>\n      <td>None</td>\n      <td>provisional</td>\n      <td>NaN</td>\n      <td>S. Ponziano, Kirche</td>\n      <td>\\n ut prior occisus meritis namque Vitalis ut ...</td>\n      <td>257</td>\n      <td>48.0</td>\n      <td>1000.0</td>\n      <td>143.0</td>\n      <td>[ { \"persname\": { \"name\": { \"@type\": \"cognomen...</td>\n      <td>NULL</td>\n      <td>False</td>\n      <td>31.0</td>\n      <td>26.0</td>\n      <td>8.0</td>\n      <td>Marble</td>\n      <td>tabula</td>\n      <td>False</td>\n      <td>Umbria (Regio VI)</td>\n      <td>False</td>\n      <td>Italy</td>\n      <td>False</td>\n      <td>Spoletium</td>\n      <td>False</td>\n      <td>Perugia</td>\n      <td>False</td>\n      <td>Spoleto</td>\n      <td>False</td>\n      <td>Kirche San Ponziano</td>\n      <td>False</td>\n      <td>L</td>\n      <td>None</td>\n      <td>None</td>\n      <td>301.0</td>\n      <td>500.0</td>\n      <td>12.7429</td>\n      <td>42.7335</td>\n      <td>True</td>\n      <td>POINT (12.74290 42.73350)</td>\n      <td>True</td>\n      <td>923313.0</td>\n      <td>7376.0</td>\n      <td>2760.0</td>\n      <td>small</td>\n      <td>Spoletium</td>\n      <td>2760.0</td>\n      <td>None</td>\n      <td>0.0</td>\n    </tr>\n    <tr>\n      <th>525553</th>\n      <td>LIST-525554</td>\n      <td>EDCS-01300350</td>\n      <td>HD025482</td>\n      <td>https://www.trismegistos.org/text/122919</td>\n      <td>118569</td>\n      <td>Loc(us) / vestiari/orum / in fr(onte) p(edes) ...</td>\n      <td>Loc(us) m(onumenti) / vestiari/orum / in fr(on...</td>\n      <td>Loc vestiariorum in fr p L in agr p LXIV</td>\n      <td>Locus vestiariorum in fronte pedes L in agro p...</td>\n      <td>Locus vestiariorum in fronte pedes L in agro p...</td>\n      <td>Locus monumenti vestiariorum in fronte pedes L...</td>\n      <td>LOC / VESTIARI / ORVM / IN FR P L / IN AGR P LXIV</td>\n      <td>Venetia et Histria / Regio X</td>\n      <td>Aquileia</td>\n      <td>tituli sepulcrales</td>\n      <td>officium/professio, viri</td>\n      <td>None</td>\n      <td>officium/professio;  tituli sepulcrales;  viri</td>\n      <td>http://db.edcs.eu/epigr/partner.php?s_language...</td>\n      <td>1996-05-14</td>\n      <td>None</td>\n      <td>None</td>\n      <td>provisional</td>\n      <td>NaN</td>\n      <td>None</td>\n      <td>\\n Locus vestiariorum in fronte pedes L in agr...</td>\n      <td>None</td>\n      <td>NaN</td>\n      <td>1000.0</td>\n      <td>143.0</td>\n      <td>[ ]</td>\n      <td>NULL</td>\n      <td>False</td>\n      <td>NaN</td>\n      <td>NaN</td>\n      <td>NaN</td>\n      <td>NULL</td>\n      <td>NULL</td>\n      <td>False</td>\n      <td>Venetia et Histria (Regio X)</td>\n      <td>False</td>\n      <td>Italy</td>\n      <td>False</td>\n      <td>Aquileia</td>\n      <td>False</td>\n      <td>Udine</td>\n      <td>False</td>\n      <td>Aquileia</td>\n      <td>False</td>\n      <td>NULL</td>\n      <td>False</td>\n      <td>L</td>\n      <td>None</td>\n      <td>51 to 100</td>\n      <td>NaN</td>\n      <td>NaN</td>\n      <td>10.1535</td>\n      <td>48.6795</td>\n      <td>False</td>\n      <td>POINT (10.15350 48.67950)</td>\n      <td>True</td>\n      <td>39960.0</td>\n      <td>10608.0</td>\n      <td>1000.0</td>\n      <td>rural</td>\n      <td>None</td>\n      <td>NaN</td>\n      <td>None</td>\n      <td>0.0</td>\n    </tr>\n    <tr>\n      <th>525642</th>\n      <td>LIST-525643</td>\n      <td>EDCS-09400347</td>\n      <td>HD005807</td>\n      <td>https://www.trismegistos.org/text/123140</td>\n      <td>118569</td>\n      <td>Splendonius et / Hilara cum s/uis f(ecerunt) p...</td>\n      <td>Nonnos[us et] / Sever[i]a[na] / cum su[is] / f...</td>\n      <td>Splendonius et Hilara cum suis f p CC Nonnos S...</td>\n      <td>Splendonius et Hilara cum suis fecerunt pedes ...</td>\n      <td>Splendonius et Hilara cum suis fecerunt pedes ...</td>\n      <td>Nonnosus et Severiana cum suis fecerunt pedes</td>\n      <td>SPLENDONIVS ET / HILARA CVM S / VIS F P CC / /...</td>\n      <td>Venetia et Histria / Regio X</td>\n      <td>Aquileia</td>\n      <td>inscriptiones christianae, tituli operum</td>\n      <td>mulieres, nomen singulare, viri</td>\n      <td>None</td>\n      <td>inscriptiones christianae;  mulieres;  nomen s...</td>\n      <td>http://db.edcs.eu/epigr/partner.php?s_language...</td>\n      <td>2008-03-14</td>\n      <td>None</td>\n      <td>None</td>\n      <td>provisional</td>\n      <td>NaN</td>\n      <td>None</td>\n      <td>\\n Splendonius et Hilara cum suis fecerunt ped...</td>\n      <td>None</td>\n      <td>NaN</td>\n      <td>1000.0</td>\n      <td>143.0</td>\n      <td>[ ]</td>\n      <td>NULL</td>\n      <td>False</td>\n      <td>NaN</td>\n      <td>NaN</td>\n      <td>NaN</td>\n      <td>NULL</td>\n      <td>NULL</td>\n      <td>False</td>\n      <td>Venetia et Histria (Regio X)</td>\n      <td>False</td>\n      <td>Italy</td>\n      <td>False</td>\n      <td>Aquileia</td>\n      <td>False</td>\n      <td>Udine</td>\n      <td>False</td>\n      <td>Aquileia</td>\n      <td>False</td>\n      <td>NULL</td>\n      <td>False</td>\n      <td>L</td>\n      <td>None</td>\n      <td>376 to 425</td>\n      <td>NaN</td>\n      <td>NaN</td>\n      <td>10.1535</td>\n      <td>48.6795</td>\n      <td>False</td>\n      <td>POINT (10.15350 48.67950)</td>\n      <td>True</td>\n      <td>39960.0</td>\n      <td>10608.0</td>\n      <td>1000.0</td>\n      <td>rural</td>\n      <td>None</td>\n      <td>NaN</td>\n      <td>None</td>\n      <td>0.0</td>\n    </tr>\n  </tbody>\n</table>\n<p>1367 rows × 69 columns</p>\n</div>"
     },
     "execution_count": 7,
     "metadata": {},
     "output_type": "execute_result"
    }
   ],
   "source": [
    "# dataframe of duplicate rows (i.e. every second instance of the same id\n",
    "LIST[LIST[\"EDH-ID\"].notnull()].loc[LIST.duplicated(subset=\"EDH-ID\"), :]"
   ],
   "metadata": {
    "collapsed": false
   }
  },
  {
   "cell_type": "code",
   "execution_count": 8,
   "outputs": [
    {
     "data": {
      "text/plain": "528484"
     },
     "execution_count": 8,
     "metadata": {},
     "output_type": "execute_result"
    }
   ],
   "source": [
    "# remove the duplicates\n",
    "# (using pandas deduplicated() method)\n",
    "LIST = LIST.loc[~(LIST.duplicated(subset=\"EDH-ID\")) | (LIST[\"EDH-ID\"].isnull())]\n",
    "len(LIST)"
   ],
   "metadata": {
    "collapsed": false
   }
  },
  {
   "cell_type": "code",
   "execution_count": 9,
   "outputs": [
    {
     "data": {
      "text/plain": "76583"
     },
     "execution_count": 9,
     "metadata": {},
     "output_type": "execute_result"
    }
   ],
   "source": [
    "EDH_overlap_all = LIST[(LIST[\"EDH-ID\"].notnull()) & (LIST[\"EDCS-ID\"].notnull())]\n",
    "len(EDH_overlap_all)"
   ],
   "metadata": {
    "collapsed": false
   }
  },
  {
   "cell_type": "code",
   "execution_count": 10,
   "outputs": [
    {
     "data": {
      "text/plain": "3316"
     },
     "execution_count": 10,
     "metadata": {},
     "output_type": "execute_result"
    }
   ],
   "source": [
    "len(LIST[(LIST[\"EDH-ID\"].notnull()) & (LIST[\"EDCS-ID\"].isnull())])"
   ],
   "metadata": {
    "collapsed": false
   }
  },
  {
   "cell_type": "code",
   "execution_count": 11,
   "outputs": [
    {
     "data": {
      "text/plain": "448585"
     },
     "execution_count": 11,
     "metadata": {},
     "output_type": "execute_result"
    }
   ],
   "source": [
    "len(LIST[(LIST[\"EDH-ID\"].isnull()) & (LIST[\"EDCS-ID\"].notnull())])"
   ],
   "metadata": {
    "collapsed": false
   }
  },
  {
   "cell_type": "markdown",
   "source": [
    "# Save and export"
   ],
   "metadata": {
    "collapsed": false
   }
  },
  {
   "cell_type": "code",
   "execution_count": null,
   "outputs": [],
   "source": [
    "# locally as parquet\n",
    "LIST.to_parquet(\"../data/large_data/LIST_v0.2.parquet\")"
   ],
   "metadata": {
    "collapsed": false
   }
  },
  {
   "cell_type": "code",
   "execution_count": null,
   "outputs": [],
   "source": [
    "# login to sciencedata.dk\n",
    "s = sddk.cloudSession(\"sciencedata.dk\", \"SDAM_root/SDAM_data/LIRE\", \"648597@au.dk\")"
   ],
   "metadata": {
    "collapsed": false
   }
  },
  {
   "cell_type": "code",
   "execution_count": null,
   "outputs": [],
   "source": [
    "# upload data to sciencedata.dk\n",
    "s.write_file(\"LIST_v0-2.parquet\", LIST)"
   ],
   "metadata": {
    "collapsed": false
   }
  },
  {
   "cell_type": "code",
   "execution_count": null,
   "outputs": [],
   "source": [],
   "metadata": {
    "collapsed": false
   }
  }
 ],
 "metadata": {
  "kernelspec": {
   "name": "lire_venv",
   "language": "python",
   "display_name": "lire_venv"
  },
  "language_info": {
   "codemirror_mode": {
    "name": "ipython",
    "version": 2
   },
   "file_extension": ".py",
   "mimetype": "text/x-python",
   "name": "python",
   "nbconvert_exporter": "python",
   "pygments_lexer": "ipython2",
   "version": "2.7.6"
  }
 },
 "nbformat": 4,
 "nbformat_minor": 0
}
