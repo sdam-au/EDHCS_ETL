{
 "cells": [
  {
   "cell_type": "code",
   "execution_count": 2,
   "outputs": [],
   "source": [
    "import geopandas as gpd\n",
    "import pandas as pd\n",
    "pd.set_option('display.max_columns', None)\n",
    "import shapely\n",
    "import json\n",
    "from shapely.geometry import Point\n",
    "import sddk"
   ],
   "metadata": {
    "collapsed": false,
    "ExecuteTime": {
     "end_time": "2024-01-09T09:44:05.285775Z",
     "start_time": "2024-01-09T09:44:04.609256Z"
    }
   }
  },
  {
   "cell_type": "code",
   "execution_count": 3,
   "outputs": [
    {
     "name": "stdout",
     "output_type": "stream",
     "text": [
      "connection with shared folder established with you as its ordinary user\n",
      "endpoint variable has been configured to: https://sciencedata.dk/sharingout/648597%40au.dk/SDAM_root/\n"
     ]
    }
   ],
   "source": [
    "s = sddk.cloudSession(\"sciencedata.dk\", \"SDAM_root\", \"648597@au.dk\")"
   ],
   "metadata": {
    "collapsed": false,
    "ExecuteTime": {
     "end_time": "2024-01-09T09:44:16.311639Z",
     "start_time": "2024-01-09T09:44:07.185196Z"
    }
   }
  },
  {
   "cell_type": "code",
   "execution_count": 4,
   "metadata": {
    "collapsed": true,
    "ExecuteTime": {
     "end_time": "2024-01-09T09:44:20.404018Z",
     "start_time": "2024-01-09T09:44:18.545390Z"
    }
   },
   "outputs": [],
   "source": [
    "LIST = gpd.read_parquet(\"../data/large_data/LIST_v1-1.parquet\")"
   ]
  },
  {
   "cell_type": "code",
   "execution_count": 5,
   "outputs": [
    {
     "data": {
      "text/plain": "        LIST-ID        EDCS-ID    EDH-ID  \\\n445463   445464  EDCS-24900077  HD056163   \n445464   445465  EDCS-03700724  HD052964   \n445465   445466  EDCS-13800065  HD017714   \n445466   445467  EDCS-03300852  HD051000   \n445467   445468  EDCS-28500283  HD021396   \n445468   445469  EDCS-27000442  HD056387   \n445469   445470  EDCS-09400671  HD011892   \n445470   445471  EDCS-29600328  HD057360   \n445471   445472  EDCS-24600769  HD050999   \n445472   445473  EDCS-28500280  HD064158   \n\n                                trismegistos_uri pleiades_id  \\\n445463  https://www.trismegistos.org/text/177366      570485   \n445464  https://www.trismegistos.org/text/121715      531064   \n445465  https://www.trismegistos.org/text/177100      570049   \n445466  https://www.trismegistos.org/text/177273      240855   \n445467  https://www.trismegistos.org/text/177131               \n445468  https://www.trismegistos.org/text/177401      540630   \n445469  https://www.trismegistos.org/text/177087               \n445470  https://www.trismegistos.org/text/177448       79294   \n445471  https://www.trismegistos.org/text/177272      570531   \n445472  https://www.trismegistos.org/text/178171      570531   \n\n                                            transcription  \\\n445463  Q(uinto) Caecilio C(ai) f(ilio) Metelo / imper...   \n445464  Fortissimo et piis/simo Caesari d(omino) n(ost...   \n445465  Italicei / quei Aegei negotiantur / P(ublium) ...   \n445466  [Imp(eratori) Caes(ari) M(arco)] / An[nio] Flo...   \n445467  T[i(berius)] Claudius Caesar Aug(ustus) / G[er...   \n445468  Decim(ius) Secundinus / v(ir) c(larissimus) pr...   \n445469  Pro salute Imp(eratorum) Caesari(s) / L(uci) S...   \n445470  Diogenes piscinam / &lt;v=B&gt;eterem no&lt;v=...   \n445471                             Octa(vius) Sal(utaris)   \n445472  [---]tionee p[r]aecepimu[s ---] / [---] maiori...   \n\n                                              inscription  \\\n445463  Q(uinto) Caecilio C(ai) f(ilio) Metel(l)o / im...   \n445464  Fortissimo et Piis/simo Caesari d(omino) n(ost...   \n445465  Italicei / quei Aegei negotiantur / P(ublium) ...   \n445466  Imp(eratori) / Floriano / P(io) F(elici) Aug(u...   \n445467  T[(iberius)] Claudius Caesar Aug(ustus) / G[er...   \n445468  Decim(ius) Secundinus / v(ir) c(larissimus) pr...   \n445469  Pro salute Imp(eratoris) Caesari(s) / L(uci) S...   \n445470  Diogenes piscinam / <v=B>eterem no<v=B>am / [f...   \n445471                             Octa(vius) Sa(lutaris)   \n445472  ]tionee p[r]aecepimu[s 3] / [3] maiori exubera...   \n\n                                  clean_text_conservative  \\\n445463  Q Caecilio C f Metelo imperatori Italici quei ...   \n445464  Fortissimo et piissimo Caesari d n Gal Val P F...   \n445465  Italicei quei Aegei negotiantur P Rutilium P f...   \n445466  An Floriano P F Aug p p m p III Imp Caes M Aur...   \n445467  T Claudius Caesar Aug Ganicus pontif max trib ...   \n445468  Decim Secundinus v c procons curat et defens A...   \n445469  Pro salute Imp Caesari L Septimi Severi et M A...   \n445470  Diogenes piscinam lt B gt eterem no lt B gt am...   \n445471                                           Octa Sal   \n445472  tionee paecepimu maiori exuberante me aca haer...   \n\n                         clean_text_interpretive_sentence  \\\n445463  Quinto Caecilio Cai filio Metelo imperatori It...   \n445464  Fortissimo et piissimo Caesari domino nostro G...   \n445465  Italicei quei Aegei negotiantur Publium Rutili...   \n445466  Imperatori Caesari Marco Annio Floriano Pio Fe...   \n445467  Tiberius Claudius Caesar Augustus Germanicus p...   \n445468  Decimius Secundinus vir clarissimus proconsul ...   \n445469  Pro salute Imperatorum Caesaris Luci Septimi S...   \n445470  Diogenes piscinam lt;v gt;eterem no lt;v gt;am...   \n445471                                 Octavius Salutaris   \n445472  tionee praecepimus maiori exuberante me aca ha...   \n\n                             clean_text_interpretive_word  \\\n445463  Quinto Caecilio Cai filio Metelo imperatori It...   \n445464  Fortissimo et piissimo Caesari domino nostro G...   \n445465  Italicei quei Aegei negotiantur Publium Rutili...   \n445466  Imperatori Caesari Marco Annio Floriano Pio Fe...   \n445467  Tiberius Claudius Caesar Augustus Germanicus p...   \n445468  Decimius Secundinus vir clarissimus proconsul ...   \n445469  Pro salute Imperatorum Caesaris Luci Septimi S...   \n445470  Diogenes piscinam lt v gt eterem no lt v gt am...   \n445471                                 Octavius Salutaris   \n445472  tionee praecepimus maiori exuberante me aca ha...   \n\n                        clean_text_interpretive_word_EDCS  \\\n445463  Quinto Caecilio Cai filio Metello imperatori I...   \n445464  Fortissimo et Piissimo Caesari domino nostro G...   \n445465  Italicei quei Aegei negotiantur Publium Rutili...   \n445466  Imperatori Floriano Pio Felici Augusto patri p...   \n445467  Tiberius Claudius Caesar Augustus Germanicus p...   \n445468  Decimius Secundinus vir clarissimus proconsul ...   \n445469  Pro salute Imperatoris Caesaris Luci Septimi S...   \n445470        Diogenes piscinam veterem novam fecit totam   \n445471                                 Octavius Salutaris   \n445472  tionee praecepimus maiori exuberante me aca ha...   \n\n                                          diplomatic_text province  \\\n445463  Q CAECILIO C F METELO / IMPERATORI ITALICI / Q...   Achaia   \n445464  FORTISSIMO ET PIIS / SIMO CAESARI D N / GAL VA...   Achaia   \n445465  ITALICEI / QVEI AEGEI NEGOTIANTVR / P RVTILIVM...   Achaia   \n445466  [ ] / AN[ ] FLORIANO / P F AVG / P P / M P III...   Achaia   \n445467  T[ ] CLAVDIVS CAESAR AVG / G[ ]ANICVS PONTIF M...   Achaia   \n445468  DECIM SECVNDINVS / V C PROCONS CVRAT / ET DEFE...   Achaia   \n445469  PRO SALVTE IMP CAESARI / L SEPTIMI SEVERI ET M...   Achaia   \n445470  DIOGENES PISCINAM / BETEREM NOBAM / [ ]ECIT TOTAM   Achaia   \n445471                                           OCTA SAL   Achaia   \n445472  [ ]TIONEE P[ ]AECEPIMV[ ] / [ ] MAIORI EXVBERA...   Achaia   \n\n                                             place           inscr_type  \\\n445463               Agia Triada / Merbaka / Midea     tituli honorarii   \n445464                  Agios Athanasios / Photike     tituli honorarii   \n445465              Aigio / Egio / Aiyion / Aegeum     tituli honorarii   \n445466                                Alea / Tegea             miliaria   \n445467                                Alea / Tegea                leges   \n445468                 Amfissa / Amphissa / Salona                 None   \n445469                                      Andros         tituli sacri   \n445470                                      Andros                 None   \n445471  Archea Olimpia / Archaia Olympia / Olympia  tituli possessionis   \n445472  Archea Olimpia / Archaia Olympia / Olympia                 None   \n\n                                          status_notation    inscr_process  \\\n445463  officium/professio, ordo senatorius, tria nomi...             None   \n445464       Augusti/Augustae, ordo equester, tria nomina  litterae erasae   \n445465  officium/professio, ordo senatorius, tria nomi...             None   \n445466                             Augusti/Augustae, viri             None   \n445467                             Augusti/Augustae, viri             None   \n445468                 ordo senatorius, tria nomina, viri             None   \n445469                                               None  litterae erasae   \n445470                                               None             None   \n445471                                  tria nomina, viri             None   \n445472                                               None             None   \n\n                                                   status  \\\n445463  officium/professio;  ordo senatorius;  tituli ...   \n445464  Augusti/Augustae;  litterae erasae;  ordo eque...   \n445465  officium/professio;  ordo senatorius;  tituli ...   \n445466                 Augusti/Augustae;  miliaria;  viri   \n445467                    Augusti/Augustae;  leges;  viri   \n445468               ordo senatorius;  tria nomina;  viri   \n445469                     litterae erasae;  tituli sacri   \n445470                                               None   \n445471           tituli possessionis;  tria nomina;  viri   \n445472                                               None   \n\n                                             partner_link last_update  \\\n445463  http://db.edcs.eu/epigr/partner.php?s_language...  2011-11-11   \n445464  http://db.edcs.eu/epigr/partner.php?s_language...  2014-09-16   \n445465  http://db.edcs.eu/epigr/partner.php?s_language...  2011-03-29   \n445466  http://db.edcs.eu/epigr/partner.php?s_language...  2011-05-24   \n445467  http://db.edcs.eu/epigr/partner.php?s_language...  2011-05-10   \n445468  http://db.edcs.eu/epigr/partner.php?s_language...  2011-09-27   \n445469  http://db.edcs.eu/epigr/partner.php?s_language...  2017-05-30   \n445470  http://db.edcs.eu/epigr/partner.php?s_language...  2009-09-01   \n445471  http://db.edcs.eu/epigr/partner.php?s_language...  2012-04-16   \n445472  http://db.edcs.eu/epigr/partner.php?s_language...  2011-05-09   \n\n       letter_size              type_of_inscription           work_status  \\\n445463        None            honorific inscription              no image   \n445464    3-5.3 cm            honorific inscription    checked with photo   \n445465  3.5-3.7 cm               votive inscription    checked with photo   \n445466    3.3-6 cm                mile-/leaguestone    checked with photo   \n445467        None         public legal inscription    checked with photo   \n445468        None         public legal inscription              no image   \n445469  5.5-5.7 cm               votive inscription    checked with photo   \n445470    4-4.5 cm  building/dedicatory inscription              no image   \n445471        None         owner/artist inscription    checked with photo   \n445472        None        public legal inscription?  checked with drawing   \n\n        year_of_find              present_location  \\\n445463           NaN                          None   \n445464           NaN                 Fragma Kalama   \n445465           NaN                          None   \n445466           NaN                   Tegea, Mus.   \n445467           NaN                          None   \n445468           NaN                          None   \n445469           NaN  to Elleniko Mauer, vermauert   \n445470           NaN                          None   \n445471           NaN                          None   \n445472        1878.0                          None   \n\n                                             text_edition support_objecttype  \\\n445463  \\n Quinto Caecilio Cai filio Metelo imperatori...               None   \n445464  \\n Fortissimo et piissimo Caesari domino nostr...                 57   \n445465  \\n Italicei quei Aegei negotiantur Publium Rut...                257   \n445466  \\n Imperatori Caesari Marco Annio Floriano Pio...                 89   \n445467  \\n Tiberius Claudius Caesar Augustus Germanicu...                257   \n445468  \\n Decimius Secundinus vir clarissimus procons...               None   \n445469  \\n Pro salute Imperatorum Caesaris Luci Septim...               None   \n445470  \\n Diogenes piscinam &lt;v=B&gt;eterem no&lt;v...                 35   \n445471                            \\n Octavius Salutaris\\n                140   \n445472  \\n tionee praecepimus maiori exuberante me aca...                257   \n\n       support_material support_decoration keywords_term  \\\n445463             None               1000            69   \n445464             None               1000            69   \n445465             None               1000           372   \n445466             None               1000          None   \n445467             None               1000             5   \n445468             None               1000             5   \n445469             None               1000           372   \n445470             None               1000          None   \n445471             None               1000          None   \n445472             None               1000             5   \n\n                                                   people  \\\n445463  [{'age: days': None, 'age: hours': None, 'age:...   \n445464  [{'age: days': None, 'age: hours': None, 'age:...   \n445465  [{'age: days': None, 'age: hours': None, 'age:...   \n445466  [{'age: days': None, 'age: hours': None, 'age:...   \n445467  [{'age: days': None, 'age: hours': None, 'age:...   \n445468  [{'age: days': None, 'age: hours': None, 'age:...   \n445469  [{'age: days': None, 'age: hours': None, 'age:...   \n445470  [{'age: days': None, 'age: hours': None, 'age:...   \n445471  [{'age: days': None, 'age: hours': None, 'age:...   \n445472                                               None   \n\n              type_of_inscription_clean  type_of_inscription_certainty  \\\n445463            honorific inscription                          False   \n445464            honorific inscription                          False   \n445465               votive inscription                          False   \n445466                mile-/leaguestone                          False   \n445467         public legal inscription                          False   \n445468         public legal inscription                          False   \n445469               votive inscription                          False   \n445470  building/dedicatory inscription                          False   \n445471         owner/artist inscription                          False   \n445472         public legal inscription                           True   \n\n        height_cm  width_cm  depth_cm material_clean   type_of_monument_clean  \\\n445463        NaN       NaN       NaN           NULL                     NULL   \n445464       99.0      67.0      67.0           NULL              statue base   \n445465       58.0      61.0      16.0           NULL                   tabula   \n445466       44.0      24.0       NaN           NULL        mile-/leaguestone   \n445467      160.0      58.0      17.0           NULL                   tabula   \n445468        NaN       NaN       NaN           NULL                     NULL   \n445469       48.0     126.0       NaN           NULL                     NULL   \n445470       26.0      76.0      16.0           NULL     architectural member   \n445471        NaN       NaN       NaN           NULL  instrumentum domesticum   \n445472       22.0      21.0       7.0           NULL                   tabula   \n\n        type_of_monument_certainty province_label_clean  \\\n445463                       False               Achaia   \n445464                       False               Epirus   \n445465                       False               Achaia   \n445466                       False               Achaia   \n445467                       False               Achaia   \n445468                       False               Achaia   \n445469                       False               Achaia   \n445470                       False               Achaia   \n445471                       False               Achaia   \n445472                       False               Achaia   \n\n        province_label_certainty country_clean  country_certainty  \\\n445463                     False        Greece              False   \n445464                     False        Greece              False   \n445465                     False        Greece              False   \n445466                     False        Greece              False   \n445467                     False        Greece              False   \n445468                     False        Greece              False   \n445469                     False        Greece              False   \n445470                     False        Greece              False   \n445471                     False        Greece              False   \n445472                     False        Greece              False   \n\n       findspot_ancient_clean  findspot_ancient_certainty modern_region_clean  \\\n445463                  Midea                       False        Pelopónissos   \n445464                Photike                       False             Ípeiros   \n445465                 Aegeum                       False       Dytikí Elláda   \n445466                  Tegea                       False        Pelopónissos   \n445467                  Tegea                       False        Pelopónissos   \n445468               Amphissa                       False       Stereá Elláda   \n445469            Palaeopolis                       False        Nótio Aigaío   \n445470                 Andros                       False        Nótio Aigaío   \n445471                Olympia                       False       Stereá Elláda   \n445472                Olympia                       False       Stereá Elláda   \n\n        modern_region_certainty findspot_modern_clean  \\\n445463                    False                Midhéa   \n445464                    False            Paramythía   \n445465                    False                Aígion   \n445466                    False                  Alea   \n445467                    False                  Alea   \n445468                    False               Ámfissa   \n445469                    False           Palaiópolis   \n445470                    False                Andros   \n445471                    False               Olympia   \n445472                    False               Olympia   \n\n        findspot_modern_certainty                         findspot_clean  \\\n445463                      False                                   NULL   \n445464                      False                     {Agios Athanasios}   \n445465                      False                                   NULL   \n445466                      False                           Stringu, bei   \n445467                      False                                   NULL   \n445468                      False                                   NULL   \n445469                      False  to Elleniko Mauer, sekundär verwendet   \n445470                      False                                   NULL   \n445471                      False                      Haus der Athleten   \n445472                      False                                   NULL   \n\n        findspot_certainty language_EDCS                        raw_dating  \\\n445463               False          None                        -68 to -68   \n445464               False          None                        309 to 313   \n445465               False          None                        -74 to -74   \n445466               False          None  a:  276 to 276;   b:  276 to 282   \n445467               False          None                          49 to 50   \n445468               False          None                              None   \n445469               False          None                        198 to 209   \n445470               False          None                       -100 to -71   \n445471               False          None                          81 to 96   \n445472               False          None                          1 to 200   \n\n        not_after  not_before  Longitude   Latitude  is_geotemporal  \\\n445463      -68.0       -68.0  22.841200  37.649800            True   \n445464      313.0       309.0  20.766800  39.451200            True   \n445465      -74.0       -74.0  22.084500  38.248700            True   \n445466      282.0       276.0  22.417100  37.431900            True   \n445467       50.0        49.0  22.420877  37.454501            True   \n445468        NaN         NaN  22.374200  38.518400           False   \n445469      209.0       198.0  24.937637  37.837612            True   \n445470      -70.0       -99.0  24.936400  37.836700            True   \n445471       96.0        81.0  21.627100  37.647900            True   \n445472      200.0         1.0  21.627100  37.647900            True   \n\n                         geometry  is_within_RE urban_context  \\\n445463  POINT (22.84120 37.64980)          True         rural   \n445464  POINT (20.76680 39.45120)          True         rural   \n445465  POINT (22.08450 38.24870)          True         small   \n445466  POINT (22.41710 37.43190)          True         large   \n445467  POINT (22.42088 37.45450)          True         large   \n445468  POINT (22.37420 38.51840)          True         small   \n445469  POINT (24.93764 37.83761)          True         rural   \n445470  POINT (24.93640 37.83670)          True         rural   \n445471  POINT (21.62710 37.64790)          True         rural   \n445472  POINT (21.62710 37.64790)          True         rural   \n\n       urban_context_city  urban_context_pop_est  \\\n445463               None                    NaN   \n445464               None                    NaN   \n445465             Aegium                 1000.0   \n445466              Tegea                46362.0   \n445467              Tegea                46362.0   \n445468           Amphissa                 1000.0   \n445469               None                    NaN   \n445470               None                    NaN   \n445471               None                    NaN   \n445472               None                    NaN   \n\n               type_of_inscription_auto  type_of_inscription_auto_prob  \n445463            honorific inscription                            1.0  \n445464            honorific inscription                            1.0  \n445465               votive inscription                            1.0  \n445466                mile-/leaguestone                            1.0  \n445467         public legal inscription                            1.0  \n445468         public legal inscription                            1.0  \n445469               votive inscription                            1.0  \n445470  building/dedicatory inscription                            1.0  \n445471         owner/artist inscription                            1.0  \n445472         public legal inscription                            1.0  ",
      "text/html": "<div>\n<style scoped>\n    .dataframe tbody tr th:only-of-type {\n        vertical-align: middle;\n    }\n\n    .dataframe tbody tr th {\n        vertical-align: top;\n    }\n\n    .dataframe thead th {\n        text-align: right;\n    }\n</style>\n<table border=\"1\" class=\"dataframe\">\n  <thead>\n    <tr style=\"text-align: right;\">\n      <th></th>\n      <th>LIST-ID</th>\n      <th>EDCS-ID</th>\n      <th>EDH-ID</th>\n      <th>trismegistos_uri</th>\n      <th>pleiades_id</th>\n      <th>transcription</th>\n      <th>inscription</th>\n      <th>clean_text_conservative</th>\n      <th>clean_text_interpretive_sentence</th>\n      <th>clean_text_interpretive_word</th>\n      <th>clean_text_interpretive_word_EDCS</th>\n      <th>diplomatic_text</th>\n      <th>province</th>\n      <th>place</th>\n      <th>inscr_type</th>\n      <th>status_notation</th>\n      <th>inscr_process</th>\n      <th>status</th>\n      <th>partner_link</th>\n      <th>last_update</th>\n      <th>letter_size</th>\n      <th>type_of_inscription</th>\n      <th>work_status</th>\n      <th>year_of_find</th>\n      <th>present_location</th>\n      <th>text_edition</th>\n      <th>support_objecttype</th>\n      <th>support_material</th>\n      <th>support_decoration</th>\n      <th>keywords_term</th>\n      <th>people</th>\n      <th>type_of_inscription_clean</th>\n      <th>type_of_inscription_certainty</th>\n      <th>height_cm</th>\n      <th>width_cm</th>\n      <th>depth_cm</th>\n      <th>material_clean</th>\n      <th>type_of_monument_clean</th>\n      <th>type_of_monument_certainty</th>\n      <th>province_label_clean</th>\n      <th>province_label_certainty</th>\n      <th>country_clean</th>\n      <th>country_certainty</th>\n      <th>findspot_ancient_clean</th>\n      <th>findspot_ancient_certainty</th>\n      <th>modern_region_clean</th>\n      <th>modern_region_certainty</th>\n      <th>findspot_modern_clean</th>\n      <th>findspot_modern_certainty</th>\n      <th>findspot_clean</th>\n      <th>findspot_certainty</th>\n      <th>language_EDCS</th>\n      <th>raw_dating</th>\n      <th>not_after</th>\n      <th>not_before</th>\n      <th>Longitude</th>\n      <th>Latitude</th>\n      <th>is_geotemporal</th>\n      <th>geometry</th>\n      <th>is_within_RE</th>\n      <th>urban_context</th>\n      <th>urban_context_city</th>\n      <th>urban_context_pop_est</th>\n      <th>type_of_inscription_auto</th>\n      <th>type_of_inscription_auto_prob</th>\n    </tr>\n  </thead>\n  <tbody>\n    <tr>\n      <th>445463</th>\n      <td>445464</td>\n      <td>EDCS-24900077</td>\n      <td>HD056163</td>\n      <td>https://www.trismegistos.org/text/177366</td>\n      <td>570485</td>\n      <td>Q(uinto) Caecilio C(ai) f(ilio) Metelo / imper...</td>\n      <td>Q(uinto) Caecilio C(ai) f(ilio) Metel(l)o / im...</td>\n      <td>Q Caecilio C f Metelo imperatori Italici quei ...</td>\n      <td>Quinto Caecilio Cai filio Metelo imperatori It...</td>\n      <td>Quinto Caecilio Cai filio Metelo imperatori It...</td>\n      <td>Quinto Caecilio Cai filio Metello imperatori I...</td>\n      <td>Q CAECILIO C F METELO / IMPERATORI ITALICI / Q...</td>\n      <td>Achaia</td>\n      <td>Agia Triada / Merbaka / Midea</td>\n      <td>tituli honorarii</td>\n      <td>officium/professio, ordo senatorius, tria nomi...</td>\n      <td>None</td>\n      <td>officium/professio;  ordo senatorius;  tituli ...</td>\n      <td>http://db.edcs.eu/epigr/partner.php?s_language...</td>\n      <td>2011-11-11</td>\n      <td>None</td>\n      <td>honorific inscription</td>\n      <td>no image</td>\n      <td>NaN</td>\n      <td>None</td>\n      <td>\\n Quinto Caecilio Cai filio Metelo imperatori...</td>\n      <td>None</td>\n      <td>None</td>\n      <td>1000</td>\n      <td>69</td>\n      <td>[{'age: days': None, 'age: hours': None, 'age:...</td>\n      <td>honorific inscription</td>\n      <td>False</td>\n      <td>NaN</td>\n      <td>NaN</td>\n      <td>NaN</td>\n      <td>NULL</td>\n      <td>NULL</td>\n      <td>False</td>\n      <td>Achaia</td>\n      <td>False</td>\n      <td>Greece</td>\n      <td>False</td>\n      <td>Midea</td>\n      <td>False</td>\n      <td>Pelopónissos</td>\n      <td>False</td>\n      <td>Midhéa</td>\n      <td>False</td>\n      <td>NULL</td>\n      <td>False</td>\n      <td>None</td>\n      <td>-68 to -68</td>\n      <td>-68.0</td>\n      <td>-68.0</td>\n      <td>22.841200</td>\n      <td>37.649800</td>\n      <td>True</td>\n      <td>POINT (22.84120 37.64980)</td>\n      <td>True</td>\n      <td>rural</td>\n      <td>None</td>\n      <td>NaN</td>\n      <td>honorific inscription</td>\n      <td>1.0</td>\n    </tr>\n    <tr>\n      <th>445464</th>\n      <td>445465</td>\n      <td>EDCS-03700724</td>\n      <td>HD052964</td>\n      <td>https://www.trismegistos.org/text/121715</td>\n      <td>531064</td>\n      <td>Fortissimo et piis/simo Caesari d(omino) n(ost...</td>\n      <td>Fortissimo et Piis/simo Caesari d(omino) n(ost...</td>\n      <td>Fortissimo et piissimo Caesari d n Gal Val P F...</td>\n      <td>Fortissimo et piissimo Caesari domino nostro G...</td>\n      <td>Fortissimo et piissimo Caesari domino nostro G...</td>\n      <td>Fortissimo et Piissimo Caesari domino nostro G...</td>\n      <td>FORTISSIMO ET PIIS / SIMO CAESARI D N / GAL VA...</td>\n      <td>Achaia</td>\n      <td>Agios Athanasios / Photike</td>\n      <td>tituli honorarii</td>\n      <td>Augusti/Augustae, ordo equester, tria nomina</td>\n      <td>litterae erasae</td>\n      <td>Augusti/Augustae;  litterae erasae;  ordo eque...</td>\n      <td>http://db.edcs.eu/epigr/partner.php?s_language...</td>\n      <td>2014-09-16</td>\n      <td>3-5.3 cm</td>\n      <td>honorific inscription</td>\n      <td>checked with photo</td>\n      <td>NaN</td>\n      <td>Fragma Kalama</td>\n      <td>\\n Fortissimo et piissimo Caesari domino nostr...</td>\n      <td>57</td>\n      <td>None</td>\n      <td>1000</td>\n      <td>69</td>\n      <td>[{'age: days': None, 'age: hours': None, 'age:...</td>\n      <td>honorific inscription</td>\n      <td>False</td>\n      <td>99.0</td>\n      <td>67.0</td>\n      <td>67.0</td>\n      <td>NULL</td>\n      <td>statue base</td>\n      <td>False</td>\n      <td>Epirus</td>\n      <td>False</td>\n      <td>Greece</td>\n      <td>False</td>\n      <td>Photike</td>\n      <td>False</td>\n      <td>Ípeiros</td>\n      <td>False</td>\n      <td>Paramythía</td>\n      <td>False</td>\n      <td>{Agios Athanasios}</td>\n      <td>False</td>\n      <td>None</td>\n      <td>309 to 313</td>\n      <td>313.0</td>\n      <td>309.0</td>\n      <td>20.766800</td>\n      <td>39.451200</td>\n      <td>True</td>\n      <td>POINT (20.76680 39.45120)</td>\n      <td>True</td>\n      <td>rural</td>\n      <td>None</td>\n      <td>NaN</td>\n      <td>honorific inscription</td>\n      <td>1.0</td>\n    </tr>\n    <tr>\n      <th>445465</th>\n      <td>445466</td>\n      <td>EDCS-13800065</td>\n      <td>HD017714</td>\n      <td>https://www.trismegistos.org/text/177100</td>\n      <td>570049</td>\n      <td>Italicei / quei Aegei negotiantur / P(ublium) ...</td>\n      <td>Italicei / quei Aegei negotiantur / P(ublium) ...</td>\n      <td>Italicei quei Aegei negotiantur P Rutilium P f...</td>\n      <td>Italicei quei Aegei negotiantur Publium Rutili...</td>\n      <td>Italicei quei Aegei negotiantur Publium Rutili...</td>\n      <td>Italicei quei Aegei negotiantur Publium Rutili...</td>\n      <td>ITALICEI / QVEI AEGEI NEGOTIANTVR / P RVTILIVM...</td>\n      <td>Achaia</td>\n      <td>Aigio / Egio / Aiyion / Aegeum</td>\n      <td>tituli honorarii</td>\n      <td>officium/professio, ordo senatorius, tria nomi...</td>\n      <td>None</td>\n      <td>officium/professio;  ordo senatorius;  tituli ...</td>\n      <td>http://db.edcs.eu/epigr/partner.php?s_language...</td>\n      <td>2011-03-29</td>\n      <td>3.5-3.7 cm</td>\n      <td>votive inscription</td>\n      <td>checked with photo</td>\n      <td>NaN</td>\n      <td>None</td>\n      <td>\\n Italicei quei Aegei negotiantur Publium Rut...</td>\n      <td>257</td>\n      <td>None</td>\n      <td>1000</td>\n      <td>372</td>\n      <td>[{'age: days': None, 'age: hours': None, 'age:...</td>\n      <td>votive inscription</td>\n      <td>False</td>\n      <td>58.0</td>\n      <td>61.0</td>\n      <td>16.0</td>\n      <td>NULL</td>\n      <td>tabula</td>\n      <td>False</td>\n      <td>Achaia</td>\n      <td>False</td>\n      <td>Greece</td>\n      <td>False</td>\n      <td>Aegeum</td>\n      <td>False</td>\n      <td>Dytikí Elláda</td>\n      <td>False</td>\n      <td>Aígion</td>\n      <td>False</td>\n      <td>NULL</td>\n      <td>False</td>\n      <td>None</td>\n      <td>-74 to -74</td>\n      <td>-74.0</td>\n      <td>-74.0</td>\n      <td>22.084500</td>\n      <td>38.248700</td>\n      <td>True</td>\n      <td>POINT (22.08450 38.24870)</td>\n      <td>True</td>\n      <td>small</td>\n      <td>Aegium</td>\n      <td>1000.0</td>\n      <td>votive inscription</td>\n      <td>1.0</td>\n    </tr>\n    <tr>\n      <th>445466</th>\n      <td>445467</td>\n      <td>EDCS-03300852</td>\n      <td>HD051000</td>\n      <td>https://www.trismegistos.org/text/177273</td>\n      <td>240855</td>\n      <td>[Imp(eratori) Caes(ari) M(arco)] / An[nio] Flo...</td>\n      <td>Imp(eratori) / Floriano / P(io) F(elici) Aug(u...</td>\n      <td>An Floriano P F Aug p p m p III Imp Caes M Aur...</td>\n      <td>Imperatori Caesari Marco Annio Floriano Pio Fe...</td>\n      <td>Imperatori Caesari Marco Annio Floriano Pio Fe...</td>\n      <td>Imperatori Floriano Pio Felici Augusto patri p...</td>\n      <td>[ ] / AN[ ] FLORIANO / P F AVG / P P / M P III...</td>\n      <td>Achaia</td>\n      <td>Alea / Tegea</td>\n      <td>miliaria</td>\n      <td>Augusti/Augustae, viri</td>\n      <td>None</td>\n      <td>Augusti/Augustae;  miliaria;  viri</td>\n      <td>http://db.edcs.eu/epigr/partner.php?s_language...</td>\n      <td>2011-05-24</td>\n      <td>3.3-6 cm</td>\n      <td>mile-/leaguestone</td>\n      <td>checked with photo</td>\n      <td>NaN</td>\n      <td>Tegea, Mus.</td>\n      <td>\\n Imperatori Caesari Marco Annio Floriano Pio...</td>\n      <td>89</td>\n      <td>None</td>\n      <td>1000</td>\n      <td>None</td>\n      <td>[{'age: days': None, 'age: hours': None, 'age:...</td>\n      <td>mile-/leaguestone</td>\n      <td>False</td>\n      <td>44.0</td>\n      <td>24.0</td>\n      <td>NaN</td>\n      <td>NULL</td>\n      <td>mile-/leaguestone</td>\n      <td>False</td>\n      <td>Achaia</td>\n      <td>False</td>\n      <td>Greece</td>\n      <td>False</td>\n      <td>Tegea</td>\n      <td>False</td>\n      <td>Pelopónissos</td>\n      <td>False</td>\n      <td>Alea</td>\n      <td>False</td>\n      <td>Stringu, bei</td>\n      <td>False</td>\n      <td>None</td>\n      <td>a:  276 to 276;   b:  276 to 282</td>\n      <td>282.0</td>\n      <td>276.0</td>\n      <td>22.417100</td>\n      <td>37.431900</td>\n      <td>True</td>\n      <td>POINT (22.41710 37.43190)</td>\n      <td>True</td>\n      <td>large</td>\n      <td>Tegea</td>\n      <td>46362.0</td>\n      <td>mile-/leaguestone</td>\n      <td>1.0</td>\n    </tr>\n    <tr>\n      <th>445467</th>\n      <td>445468</td>\n      <td>EDCS-28500283</td>\n      <td>HD021396</td>\n      <td>https://www.trismegistos.org/text/177131</td>\n      <td></td>\n      <td>T[i(berius)] Claudius Caesar Aug(ustus) / G[er...</td>\n      <td>T[(iberius)] Claudius Caesar Aug(ustus) / G[er...</td>\n      <td>T Claudius Caesar Aug Ganicus pontif max trib ...</td>\n      <td>Tiberius Claudius Caesar Augustus Germanicus p...</td>\n      <td>Tiberius Claudius Caesar Augustus Germanicus p...</td>\n      <td>Tiberius Claudius Caesar Augustus Germanicus p...</td>\n      <td>T[ ] CLAVDIVS CAESAR AVG / G[ ]ANICVS PONTIF M...</td>\n      <td>Achaia</td>\n      <td>Alea / Tegea</td>\n      <td>leges</td>\n      <td>Augusti/Augustae, viri</td>\n      <td>None</td>\n      <td>Augusti/Augustae;  leges;  viri</td>\n      <td>http://db.edcs.eu/epigr/partner.php?s_language...</td>\n      <td>2011-05-10</td>\n      <td>None</td>\n      <td>public legal inscription</td>\n      <td>checked with photo</td>\n      <td>NaN</td>\n      <td>None</td>\n      <td>\\n Tiberius Claudius Caesar Augustus Germanicu...</td>\n      <td>257</td>\n      <td>None</td>\n      <td>1000</td>\n      <td>5</td>\n      <td>[{'age: days': None, 'age: hours': None, 'age:...</td>\n      <td>public legal inscription</td>\n      <td>False</td>\n      <td>160.0</td>\n      <td>58.0</td>\n      <td>17.0</td>\n      <td>NULL</td>\n      <td>tabula</td>\n      <td>False</td>\n      <td>Achaia</td>\n      <td>False</td>\n      <td>Greece</td>\n      <td>False</td>\n      <td>Tegea</td>\n      <td>False</td>\n      <td>Pelopónissos</td>\n      <td>False</td>\n      <td>Alea</td>\n      <td>False</td>\n      <td>NULL</td>\n      <td>False</td>\n      <td>None</td>\n      <td>49 to 50</td>\n      <td>50.0</td>\n      <td>49.0</td>\n      <td>22.420877</td>\n      <td>37.454501</td>\n      <td>True</td>\n      <td>POINT (22.42088 37.45450)</td>\n      <td>True</td>\n      <td>large</td>\n      <td>Tegea</td>\n      <td>46362.0</td>\n      <td>public legal inscription</td>\n      <td>1.0</td>\n    </tr>\n    <tr>\n      <th>445468</th>\n      <td>445469</td>\n      <td>EDCS-27000442</td>\n      <td>HD056387</td>\n      <td>https://www.trismegistos.org/text/177401</td>\n      <td>540630</td>\n      <td>Decim(ius) Secundinus / v(ir) c(larissimus) pr...</td>\n      <td>Decim(ius) Secundinus / v(ir) c(larissimus) pr...</td>\n      <td>Decim Secundinus v c procons curat et defens A...</td>\n      <td>Decimius Secundinus vir clarissimus proconsul ...</td>\n      <td>Decimius Secundinus vir clarissimus proconsul ...</td>\n      <td>Decimius Secundinus vir clarissimus proconsul ...</td>\n      <td>DECIM SECVNDINVS / V C PROCONS CVRAT / ET DEFE...</td>\n      <td>Achaia</td>\n      <td>Amfissa / Amphissa / Salona</td>\n      <td>None</td>\n      <td>ordo senatorius, tria nomina, viri</td>\n      <td>None</td>\n      <td>ordo senatorius;  tria nomina;  viri</td>\n      <td>http://db.edcs.eu/epigr/partner.php?s_language...</td>\n      <td>2011-09-27</td>\n      <td>None</td>\n      <td>public legal inscription</td>\n      <td>no image</td>\n      <td>NaN</td>\n      <td>None</td>\n      <td>\\n Decimius Secundinus vir clarissimus procons...</td>\n      <td>None</td>\n      <td>None</td>\n      <td>1000</td>\n      <td>5</td>\n      <td>[{'age: days': None, 'age: hours': None, 'age:...</td>\n      <td>public legal inscription</td>\n      <td>False</td>\n      <td>NaN</td>\n      <td>NaN</td>\n      <td>NaN</td>\n      <td>NULL</td>\n      <td>NULL</td>\n      <td>False</td>\n      <td>Achaia</td>\n      <td>False</td>\n      <td>Greece</td>\n      <td>False</td>\n      <td>Amphissa</td>\n      <td>False</td>\n      <td>Stereá Elláda</td>\n      <td>False</td>\n      <td>Ámfissa</td>\n      <td>False</td>\n      <td>NULL</td>\n      <td>False</td>\n      <td>None</td>\n      <td>None</td>\n      <td>NaN</td>\n      <td>NaN</td>\n      <td>22.374200</td>\n      <td>38.518400</td>\n      <td>False</td>\n      <td>POINT (22.37420 38.51840)</td>\n      <td>True</td>\n      <td>small</td>\n      <td>Amphissa</td>\n      <td>1000.0</td>\n      <td>public legal inscription</td>\n      <td>1.0</td>\n    </tr>\n    <tr>\n      <th>445469</th>\n      <td>445470</td>\n      <td>EDCS-09400671</td>\n      <td>HD011892</td>\n      <td>https://www.trismegistos.org/text/177087</td>\n      <td></td>\n      <td>Pro salute Imp(eratorum) Caesari(s) / L(uci) S...</td>\n      <td>Pro salute Imp(eratoris) Caesari(s) / L(uci) S...</td>\n      <td>Pro salute Imp Caesari L Septimi Severi et M A...</td>\n      <td>Pro salute Imperatorum Caesaris Luci Septimi S...</td>\n      <td>Pro salute Imperatorum Caesaris Luci Septimi S...</td>\n      <td>Pro salute Imperatoris Caesaris Luci Septimi S...</td>\n      <td>PRO SALVTE IMP CAESARI / L SEPTIMI SEVERI ET M...</td>\n      <td>Achaia</td>\n      <td>Andros</td>\n      <td>tituli sacri</td>\n      <td>None</td>\n      <td>litterae erasae</td>\n      <td>litterae erasae;  tituli sacri</td>\n      <td>http://db.edcs.eu/epigr/partner.php?s_language...</td>\n      <td>2017-05-30</td>\n      <td>5.5-5.7 cm</td>\n      <td>votive inscription</td>\n      <td>checked with photo</td>\n      <td>NaN</td>\n      <td>to Elleniko Mauer, vermauert</td>\n      <td>\\n Pro salute Imperatorum Caesaris Luci Septim...</td>\n      <td>None</td>\n      <td>None</td>\n      <td>1000</td>\n      <td>372</td>\n      <td>[{'age: days': None, 'age: hours': None, 'age:...</td>\n      <td>votive inscription</td>\n      <td>False</td>\n      <td>48.0</td>\n      <td>126.0</td>\n      <td>NaN</td>\n      <td>NULL</td>\n      <td>NULL</td>\n      <td>False</td>\n      <td>Achaia</td>\n      <td>False</td>\n      <td>Greece</td>\n      <td>False</td>\n      <td>Palaeopolis</td>\n      <td>False</td>\n      <td>Nótio Aigaío</td>\n      <td>False</td>\n      <td>Palaiópolis</td>\n      <td>False</td>\n      <td>to Elleniko Mauer, sekundär verwendet</td>\n      <td>False</td>\n      <td>None</td>\n      <td>198 to 209</td>\n      <td>209.0</td>\n      <td>198.0</td>\n      <td>24.937637</td>\n      <td>37.837612</td>\n      <td>True</td>\n      <td>POINT (24.93764 37.83761)</td>\n      <td>True</td>\n      <td>rural</td>\n      <td>None</td>\n      <td>NaN</td>\n      <td>votive inscription</td>\n      <td>1.0</td>\n    </tr>\n    <tr>\n      <th>445470</th>\n      <td>445471</td>\n      <td>EDCS-29600328</td>\n      <td>HD057360</td>\n      <td>https://www.trismegistos.org/text/177448</td>\n      <td>79294</td>\n      <td>Diogenes piscinam / &amp;lt;v=B&amp;gt;eterem no&amp;lt;v=...</td>\n      <td>Diogenes piscinam / &lt;v=B&gt;eterem no&lt;v=B&gt;am / [f...</td>\n      <td>Diogenes piscinam lt B gt eterem no lt B gt am...</td>\n      <td>Diogenes piscinam lt;v gt;eterem no lt;v gt;am...</td>\n      <td>Diogenes piscinam lt v gt eterem no lt v gt am...</td>\n      <td>Diogenes piscinam veterem novam fecit totam</td>\n      <td>DIOGENES PISCINAM / BETEREM NOBAM / [ ]ECIT TOTAM</td>\n      <td>Achaia</td>\n      <td>Andros</td>\n      <td>None</td>\n      <td>None</td>\n      <td>None</td>\n      <td>None</td>\n      <td>http://db.edcs.eu/epigr/partner.php?s_language...</td>\n      <td>2009-09-01</td>\n      <td>4-4.5 cm</td>\n      <td>building/dedicatory inscription</td>\n      <td>no image</td>\n      <td>NaN</td>\n      <td>None</td>\n      <td>\\n Diogenes piscinam &amp;lt;v=B&amp;gt;eterem no&amp;lt;v...</td>\n      <td>35</td>\n      <td>None</td>\n      <td>1000</td>\n      <td>None</td>\n      <td>[{'age: days': None, 'age: hours': None, 'age:...</td>\n      <td>building/dedicatory inscription</td>\n      <td>False</td>\n      <td>26.0</td>\n      <td>76.0</td>\n      <td>16.0</td>\n      <td>NULL</td>\n      <td>architectural member</td>\n      <td>False</td>\n      <td>Achaia</td>\n      <td>False</td>\n      <td>Greece</td>\n      <td>False</td>\n      <td>Andros</td>\n      <td>False</td>\n      <td>Nótio Aigaío</td>\n      <td>False</td>\n      <td>Andros</td>\n      <td>False</td>\n      <td>NULL</td>\n      <td>False</td>\n      <td>None</td>\n      <td>-100 to -71</td>\n      <td>-70.0</td>\n      <td>-99.0</td>\n      <td>24.936400</td>\n      <td>37.836700</td>\n      <td>True</td>\n      <td>POINT (24.93640 37.83670)</td>\n      <td>True</td>\n      <td>rural</td>\n      <td>None</td>\n      <td>NaN</td>\n      <td>building/dedicatory inscription</td>\n      <td>1.0</td>\n    </tr>\n    <tr>\n      <th>445471</th>\n      <td>445472</td>\n      <td>EDCS-24600769</td>\n      <td>HD050999</td>\n      <td>https://www.trismegistos.org/text/177272</td>\n      <td>570531</td>\n      <td>Octa(vius) Sal(utaris)</td>\n      <td>Octa(vius) Sa(lutaris)</td>\n      <td>Octa Sal</td>\n      <td>Octavius Salutaris</td>\n      <td>Octavius Salutaris</td>\n      <td>Octavius Salutaris</td>\n      <td>OCTA SAL</td>\n      <td>Achaia</td>\n      <td>Archea Olimpia / Archaia Olympia / Olympia</td>\n      <td>tituli possessionis</td>\n      <td>tria nomina, viri</td>\n      <td>None</td>\n      <td>tituli possessionis;  tria nomina;  viri</td>\n      <td>http://db.edcs.eu/epigr/partner.php?s_language...</td>\n      <td>2012-04-16</td>\n      <td>None</td>\n      <td>owner/artist inscription</td>\n      <td>checked with photo</td>\n      <td>NaN</td>\n      <td>None</td>\n      <td>\\n Octavius Salutaris\\n</td>\n      <td>140</td>\n      <td>None</td>\n      <td>1000</td>\n      <td>None</td>\n      <td>[{'age: days': None, 'age: hours': None, 'age:...</td>\n      <td>owner/artist inscription</td>\n      <td>False</td>\n      <td>NaN</td>\n      <td>NaN</td>\n      <td>NaN</td>\n      <td>NULL</td>\n      <td>instrumentum domesticum</td>\n      <td>False</td>\n      <td>Achaia</td>\n      <td>False</td>\n      <td>Greece</td>\n      <td>False</td>\n      <td>Olympia</td>\n      <td>False</td>\n      <td>Stereá Elláda</td>\n      <td>False</td>\n      <td>Olympia</td>\n      <td>False</td>\n      <td>Haus der Athleten</td>\n      <td>False</td>\n      <td>None</td>\n      <td>81 to 96</td>\n      <td>96.0</td>\n      <td>81.0</td>\n      <td>21.627100</td>\n      <td>37.647900</td>\n      <td>True</td>\n      <td>POINT (21.62710 37.64790)</td>\n      <td>True</td>\n      <td>rural</td>\n      <td>None</td>\n      <td>NaN</td>\n      <td>owner/artist inscription</td>\n      <td>1.0</td>\n    </tr>\n    <tr>\n      <th>445472</th>\n      <td>445473</td>\n      <td>EDCS-28500280</td>\n      <td>HD064158</td>\n      <td>https://www.trismegistos.org/text/178171</td>\n      <td>570531</td>\n      <td>[---]tionee p[r]aecepimu[s ---] / [---] maiori...</td>\n      <td>]tionee p[r]aecepimu[s 3] / [3] maiori exubera...</td>\n      <td>tionee paecepimu maiori exuberante me aca haer...</td>\n      <td>tionee praecepimus maiori exuberante me aca ha...</td>\n      <td>tionee praecepimus maiori exuberante me aca ha...</td>\n      <td>tionee praecepimus maiori exuberante me aca ha...</td>\n      <td>[ ]TIONEE P[ ]AECEPIMV[ ] / [ ] MAIORI EXVBERA...</td>\n      <td>Achaia</td>\n      <td>Archea Olimpia / Archaia Olympia / Olympia</td>\n      <td>None</td>\n      <td>None</td>\n      <td>None</td>\n      <td>None</td>\n      <td>http://db.edcs.eu/epigr/partner.php?s_language...</td>\n      <td>2011-05-09</td>\n      <td>None</td>\n      <td>public legal inscription?</td>\n      <td>checked with drawing</td>\n      <td>1878.0</td>\n      <td>None</td>\n      <td>\\n tionee praecepimus maiori exuberante me aca...</td>\n      <td>257</td>\n      <td>None</td>\n      <td>1000</td>\n      <td>5</td>\n      <td>None</td>\n      <td>public legal inscription</td>\n      <td>True</td>\n      <td>22.0</td>\n      <td>21.0</td>\n      <td>7.0</td>\n      <td>NULL</td>\n      <td>tabula</td>\n      <td>False</td>\n      <td>Achaia</td>\n      <td>False</td>\n      <td>Greece</td>\n      <td>False</td>\n      <td>Olympia</td>\n      <td>False</td>\n      <td>Stereá Elláda</td>\n      <td>False</td>\n      <td>Olympia</td>\n      <td>False</td>\n      <td>NULL</td>\n      <td>False</td>\n      <td>None</td>\n      <td>1 to 200</td>\n      <td>200.0</td>\n      <td>1.0</td>\n      <td>21.627100</td>\n      <td>37.647900</td>\n      <td>True</td>\n      <td>POINT (21.62710 37.64790)</td>\n      <td>True</td>\n      <td>rural</td>\n      <td>None</td>\n      <td>NaN</td>\n      <td>public legal inscription</td>\n      <td>1.0</td>\n    </tr>\n  </tbody>\n</table>\n</div>"
     },
     "execution_count": 5,
     "metadata": {},
     "output_type": "execute_result"
    }
   ],
   "source": [
    "LIST.head(10)"
   ],
   "metadata": {
    "collapsed": false,
    "ExecuteTime": {
     "end_time": "2024-01-09T09:44:20.421643Z",
     "start_time": "2024-01-09T09:44:20.391670Z"
    }
   }
  },
  {
   "cell_type": "markdown",
   "source": [
    "### Adding people data"
   ],
   "metadata": {
    "collapsed": false
   }
  },
  {
   "cell_type": "code",
   "execution_count": 6,
   "outputs": [
    {
     "data": {
      "text/plain": "  responsible_individual    type_of_inscription letter_size not_after  \\\n0                Feraudi                epitaph    3.2-2 cm      0130   \n1                Feraudi                epitaph        4 cm      0200   \n2                Feraudi  honorific inscription    4.5-3 cm      0170   \n3                   Gräf     votive inscription      2.5 cm      0200   \n4                Feraudi                epitaph        None      0200   \n\n                                          literature         work_status  \\\n0  AE 1983, 0192.; M. Annecchino, Puteoli 4/5, 19...         provisional   \n1  AE 1983, 0080. (A); A. Ferrua, RAL 36, 1981, 1...            no image   \n2  AE 1983, 0518. (B); J. González, ZPE 52, 1983,...         provisional   \n3  AE 1983, 0533. (B); A.U. Stylow, Gerión 1, 198...  checked with photo   \n4  AE 1983, 0078. (B); A. Ferrua, RAL 36, 1981, 1...            no image   \n\n    height                                    diplomatic_text  \\\n0    33 cm  D M / NONIAE P F OPTATAE / ET C IVLIO ARTEMONI...   \n1    28 cm            C SEXTIVS PARIS / QVI VIXIT / ANNIS LXX   \n2  (37) cm  [ ]VMMIO [ ] / [ ]ISENNA[ ] / [ ] XV[ ] / [ ] / [   \n3  (39) cm  [ ]AVS[ ]LLA / M PORCI NIGRI SER / DOMINAE VEN...   \n4     None  [ ] L SVCCESSVS / [ ] L L IRENAEVS / [ ] C L T...   \n\n                                              people    depth  \\\n0  [{'name': 'Noniae P.f. Optatae', 'cognomen': '...   2.7 cm   \n1  [{'nomen': 'Sextius', 'praenomen': 'C.', 'pers...     None   \n2  [{'nomen': 'Mummius+', 'gender': 'male', 'prae...  (12) cm   \n3  [{'name': '[---?]AV(?)S(?)[---]L(?)L(?)A M. Po...    18 cm   \n4  [{'person_id': '1', 'name': '[---]l. Successus...     None   \n\n                               material type_of_monument  \\\n0              Marmor, geädert / farbig           tabula   \n1     marble: rocks - metamorphic rocks           tabula   \n2     marble: rocks - metamorphic rocks      statue base   \n3  limestone: rocks - clastic sediments            altar   \n4                                  None            stele   \n\n                 province_label    width  \\\n0  Latium et Campania (Regio I)    34 cm   \n1                          Roma    85 cm   \n2                       Baetica  (34) cm   \n3                       Baetica    27 cm   \n4                          Roma     None   \n\n                                       transcription country  \\\n0  D(is) M(anibus) / Noniae P(ubli) f(iliae) Opta...   Italy   \n1      C(aius) Sextius Paris / qui vixit / annis LXX   Italy   \n2  [P(ublio) M]ummio [P(ubli) f(ilio)] / [Gal(eri...   Spain   \n3  [---?]AV(?)S(?)[---]L(?)L(?)A / M(arci) Porci ...   Spain   \n4  [---] l(ibertus) Successus / [---] L(uci) l(ib...   Italy   \n\n                                                 uri findspot_ancient  \\\n0  https://edh-www.adw.uni-heidelberg.de/edh/insc...       Cumae, bei   \n1  https://edh-www.adw.uni-heidelberg.de/edh/insc...             Roma   \n2  https://edh-www.adw.uni-heidelberg.de/edh/insc...             None   \n3  https://edh-www.adw.uni-heidelberg.de/edh/insc...    Ipolcobulcula   \n4  https://edh-www.adw.uni-heidelberg.de/edh/insc...             Roma   \n\n  last_update modern_region findspot_modern language        id  \\\n0  2014-04-07      Campania       Cuma, bei    Latin  HD000001   \n1  2014-04-07         Lazio            Roma    Latin  HD000002   \n2  2006-08-31       Sevilla         Tomares    Latin  HD000003   \n3  2015-03-27       Córdoba       Carcabuey    Latin  HD000004   \n4  2010-01-04         Lazio            Roma    Latin  HD000005   \n\n                                   edh_geography_uri  \\\n0  https://edh-www.adw.uni-heidelberg.de/edh/geog...   \n1  https://edh-www.adw.uni-heidelberg.de/edh/geog...   \n2  https://edh-www.adw.uni-heidelberg.de/edh/geog...   \n3  https://edh-www.adw.uni-heidelberg.de/edh/geog...   \n4  https://edh-www.adw.uni-heidelberg.de/edh/geog...   \n\n                                          commentary  \\\n0   (C): 2. Hälfte 1. - Anfang 2. Jh. - AE; Ende ...   \n1                            AE 1983: Breite: 35 cm.   \n2   (B): [S]isenna ist falscher Kasus; folgende E...   \n3   Material: lokaler grauer Kalkstein. (B): Styl...   \n4                (B): Z. 3: C(ai) l(ibertae) Tyches.   \n\n                           trismegistos_uri not_before  \\\n0  https://www.trismegistos.org/text/251193       0071   \n1  https://www.trismegistos.org/text/265631       0051   \n2  https://www.trismegistos.org/text/220675       0131   \n3  https://www.trismegistos.org/text/222102       0151   \n4  https://www.trismegistos.org/text/265629       0001   \n\n                               findspot year_of_find  \\\n0                                  None         None   \n1  Via Nomentana, S. Alessandro, Kirche         1937   \n2                                  None  before 1975   \n3                                  None  before 1979   \n4          Via Cupa (ehem. Vigna Nardi)         None   \n\n           present_location  \\\n0                      None   \n1                      None   \n2     Sevilla, Privatbesitz   \n3  Carcabuey, Grupo Escolar   \n4                      None   \n\n                                 external_image_uris                religion  \\\n0                                               None                    None   \n1                                               None                    None   \n2                                               None                    None   \n3  [http://cil-old.bbaw.de/test06/bilder/datenban...  names of pagan deities   \n4                                               None                    None   \n\n  fotos geography social_economic_legal_history military  \n0  None      None                          None     None  \n1  None      None                          None     None  \n2  None      None                          None     None  \n3  None      None                          None     None  \n4  None      None                          None     None  ",
      "text/html": "<div>\n<style scoped>\n    .dataframe tbody tr th:only-of-type {\n        vertical-align: middle;\n    }\n\n    .dataframe tbody tr th {\n        vertical-align: top;\n    }\n\n    .dataframe thead th {\n        text-align: right;\n    }\n</style>\n<table border=\"1\" class=\"dataframe\">\n  <thead>\n    <tr style=\"text-align: right;\">\n      <th></th>\n      <th>responsible_individual</th>\n      <th>type_of_inscription</th>\n      <th>letter_size</th>\n      <th>not_after</th>\n      <th>literature</th>\n      <th>work_status</th>\n      <th>height</th>\n      <th>diplomatic_text</th>\n      <th>people</th>\n      <th>depth</th>\n      <th>material</th>\n      <th>type_of_monument</th>\n      <th>province_label</th>\n      <th>width</th>\n      <th>transcription</th>\n      <th>country</th>\n      <th>uri</th>\n      <th>findspot_ancient</th>\n      <th>last_update</th>\n      <th>modern_region</th>\n      <th>findspot_modern</th>\n      <th>language</th>\n      <th>id</th>\n      <th>edh_geography_uri</th>\n      <th>commentary</th>\n      <th>trismegistos_uri</th>\n      <th>not_before</th>\n      <th>findspot</th>\n      <th>year_of_find</th>\n      <th>present_location</th>\n      <th>external_image_uris</th>\n      <th>religion</th>\n      <th>fotos</th>\n      <th>geography</th>\n      <th>social_economic_legal_history</th>\n      <th>military</th>\n    </tr>\n  </thead>\n  <tbody>\n    <tr>\n      <th>0</th>\n      <td>Feraudi</td>\n      <td>epitaph</td>\n      <td>3.2-2 cm</td>\n      <td>0130</td>\n      <td>AE 1983, 0192.; M. Annecchino, Puteoli 4/5, 19...</td>\n      <td>provisional</td>\n      <td>33 cm</td>\n      <td>D M / NONIAE P F OPTATAE / ET C IVLIO ARTEMONI...</td>\n      <td>[{'name': 'Noniae P.f. Optatae', 'cognomen': '...</td>\n      <td>2.7 cm</td>\n      <td>Marmor, geädert / farbig</td>\n      <td>tabula</td>\n      <td>Latium et Campania (Regio I)</td>\n      <td>34 cm</td>\n      <td>D(is) M(anibus) / Noniae P(ubli) f(iliae) Opta...</td>\n      <td>Italy</td>\n      <td>https://edh-www.adw.uni-heidelberg.de/edh/insc...</td>\n      <td>Cumae, bei</td>\n      <td>2014-04-07</td>\n      <td>Campania</td>\n      <td>Cuma, bei</td>\n      <td>Latin</td>\n      <td>HD000001</td>\n      <td>https://edh-www.adw.uni-heidelberg.de/edh/geog...</td>\n      <td>(C): 2. Hälfte 1. - Anfang 2. Jh. - AE; Ende ...</td>\n      <td>https://www.trismegistos.org/text/251193</td>\n      <td>0071</td>\n      <td>None</td>\n      <td>None</td>\n      <td>None</td>\n      <td>None</td>\n      <td>None</td>\n      <td>None</td>\n      <td>None</td>\n      <td>None</td>\n      <td>None</td>\n    </tr>\n    <tr>\n      <th>1</th>\n      <td>Feraudi</td>\n      <td>epitaph</td>\n      <td>4 cm</td>\n      <td>0200</td>\n      <td>AE 1983, 0080. (A); A. Ferrua, RAL 36, 1981, 1...</td>\n      <td>no image</td>\n      <td>28 cm</td>\n      <td>C SEXTIVS PARIS / QVI VIXIT / ANNIS LXX</td>\n      <td>[{'nomen': 'Sextius', 'praenomen': 'C.', 'pers...</td>\n      <td>None</td>\n      <td>marble: rocks - metamorphic rocks</td>\n      <td>tabula</td>\n      <td>Roma</td>\n      <td>85 cm</td>\n      <td>C(aius) Sextius Paris / qui vixit / annis LXX</td>\n      <td>Italy</td>\n      <td>https://edh-www.adw.uni-heidelberg.de/edh/insc...</td>\n      <td>Roma</td>\n      <td>2014-04-07</td>\n      <td>Lazio</td>\n      <td>Roma</td>\n      <td>Latin</td>\n      <td>HD000002</td>\n      <td>https://edh-www.adw.uni-heidelberg.de/edh/geog...</td>\n      <td>AE 1983: Breite: 35 cm.</td>\n      <td>https://www.trismegistos.org/text/265631</td>\n      <td>0051</td>\n      <td>Via Nomentana, S. Alessandro, Kirche</td>\n      <td>1937</td>\n      <td>None</td>\n      <td>None</td>\n      <td>None</td>\n      <td>None</td>\n      <td>None</td>\n      <td>None</td>\n      <td>None</td>\n    </tr>\n    <tr>\n      <th>2</th>\n      <td>Feraudi</td>\n      <td>honorific inscription</td>\n      <td>4.5-3 cm</td>\n      <td>0170</td>\n      <td>AE 1983, 0518. (B); J. González, ZPE 52, 1983,...</td>\n      <td>provisional</td>\n      <td>(37) cm</td>\n      <td>[ ]VMMIO [ ] / [ ]ISENNA[ ] / [ ] XV[ ] / [ ] / [</td>\n      <td>[{'nomen': 'Mummius+', 'gender': 'male', 'prae...</td>\n      <td>(12) cm</td>\n      <td>marble: rocks - metamorphic rocks</td>\n      <td>statue base</td>\n      <td>Baetica</td>\n      <td>(34) cm</td>\n      <td>[P(ublio) M]ummio [P(ubli) f(ilio)] / [Gal(eri...</td>\n      <td>Spain</td>\n      <td>https://edh-www.adw.uni-heidelberg.de/edh/insc...</td>\n      <td>None</td>\n      <td>2006-08-31</td>\n      <td>Sevilla</td>\n      <td>Tomares</td>\n      <td>Latin</td>\n      <td>HD000003</td>\n      <td>https://edh-www.adw.uni-heidelberg.de/edh/geog...</td>\n      <td>(B): [S]isenna ist falscher Kasus; folgende E...</td>\n      <td>https://www.trismegistos.org/text/220675</td>\n      <td>0131</td>\n      <td>None</td>\n      <td>before 1975</td>\n      <td>Sevilla, Privatbesitz</td>\n      <td>None</td>\n      <td>None</td>\n      <td>None</td>\n      <td>None</td>\n      <td>None</td>\n      <td>None</td>\n    </tr>\n    <tr>\n      <th>3</th>\n      <td>Gräf</td>\n      <td>votive inscription</td>\n      <td>2.5 cm</td>\n      <td>0200</td>\n      <td>AE 1983, 0533. (B); A.U. Stylow, Gerión 1, 198...</td>\n      <td>checked with photo</td>\n      <td>(39) cm</td>\n      <td>[ ]AVS[ ]LLA / M PORCI NIGRI SER / DOMINAE VEN...</td>\n      <td>[{'name': '[---?]AV(?)S(?)[---]L(?)L(?)A M. Po...</td>\n      <td>18 cm</td>\n      <td>limestone: rocks - clastic sediments</td>\n      <td>altar</td>\n      <td>Baetica</td>\n      <td>27 cm</td>\n      <td>[---?]AV(?)S(?)[---]L(?)L(?)A / M(arci) Porci ...</td>\n      <td>Spain</td>\n      <td>https://edh-www.adw.uni-heidelberg.de/edh/insc...</td>\n      <td>Ipolcobulcula</td>\n      <td>2015-03-27</td>\n      <td>Córdoba</td>\n      <td>Carcabuey</td>\n      <td>Latin</td>\n      <td>HD000004</td>\n      <td>https://edh-www.adw.uni-heidelberg.de/edh/geog...</td>\n      <td>Material: lokaler grauer Kalkstein. (B): Styl...</td>\n      <td>https://www.trismegistos.org/text/222102</td>\n      <td>0151</td>\n      <td>None</td>\n      <td>before 1979</td>\n      <td>Carcabuey, Grupo Escolar</td>\n      <td>[http://cil-old.bbaw.de/test06/bilder/datenban...</td>\n      <td>names of pagan deities</td>\n      <td>None</td>\n      <td>None</td>\n      <td>None</td>\n      <td>None</td>\n    </tr>\n    <tr>\n      <th>4</th>\n      <td>Feraudi</td>\n      <td>epitaph</td>\n      <td>None</td>\n      <td>0200</td>\n      <td>AE 1983, 0078. (B); A. Ferrua, RAL 36, 1981, 1...</td>\n      <td>no image</td>\n      <td>None</td>\n      <td>[ ] L SVCCESSVS / [ ] L L IRENAEVS / [ ] C L T...</td>\n      <td>[{'person_id': '1', 'name': '[---]l. Successus...</td>\n      <td>None</td>\n      <td>None</td>\n      <td>stele</td>\n      <td>Roma</td>\n      <td>None</td>\n      <td>[---] l(ibertus) Successus / [---] L(uci) l(ib...</td>\n      <td>Italy</td>\n      <td>https://edh-www.adw.uni-heidelberg.de/edh/insc...</td>\n      <td>Roma</td>\n      <td>2010-01-04</td>\n      <td>Lazio</td>\n      <td>Roma</td>\n      <td>Latin</td>\n      <td>HD000005</td>\n      <td>https://edh-www.adw.uni-heidelberg.de/edh/geog...</td>\n      <td>(B): Z. 3: C(ai) l(ibertae) Tyches.</td>\n      <td>https://www.trismegistos.org/text/265629</td>\n      <td>0001</td>\n      <td>Via Cupa (ehem. Vigna Nardi)</td>\n      <td>None</td>\n      <td>None</td>\n      <td>None</td>\n      <td>None</td>\n      <td>None</td>\n      <td>None</td>\n      <td>None</td>\n      <td>None</td>\n    </tr>\n  </tbody>\n</table>\n</div>"
     },
     "execution_count": 6,
     "metadata": {},
     "output_type": "execute_result"
    }
   ],
   "source": [
    "inscriptions_data_df_2020 = s.read_file(\"SDAM_data/EDH/EDH_onebyone_2020-09-14.json\")\n",
    "inscriptions_data_df_2020.head(5)"
   ],
   "metadata": {
    "collapsed": false,
    "ExecuteTime": {
     "end_time": "2024-01-09T09:45:06.280901Z",
     "start_time": "2024-01-09T09:44:20.414843Z"
    }
   }
  },
  {
   "cell_type": "code",
   "execution_count": 7,
   "outputs": [],
   "source": [
    "edh2020_people_dict = dict(zip(inscriptions_data_df_2020[\"id\"], inscriptions_data_df_2020[\"people\"]))"
   ],
   "metadata": {
    "collapsed": false,
    "ExecuteTime": {
     "end_time": "2024-01-09T09:45:06.298373Z",
     "start_time": "2024-01-09T09:45:06.293357Z"
    }
   }
  },
  {
   "cell_type": "code",
   "execution_count": 8,
   "outputs": [],
   "source": [
    "def replace_people(id):\n",
    "    try:\n",
    "        val = edh2020_people_dict[id]\n",
    "    except:\n",
    "        val = []\n",
    "    return val \n",
    "people2020 = LIST.apply(lambda row: replace_people(row[\"EDH-ID\"]), axis=1)"
   ],
   "metadata": {
    "collapsed": false,
    "ExecuteTime": {
     "end_time": "2024-01-09T09:45:08.414106Z",
     "start_time": "2024-01-09T09:45:06.399166Z"
    }
   }
  },
  {
   "cell_type": "code",
   "execution_count": 14,
   "outputs": [],
   "source": [
    "LIST[\"people\"] = people2020"
   ],
   "metadata": {
    "collapsed": false,
    "ExecuteTime": {
     "end_time": "2023-07-14T14:13:31.088879Z",
     "start_time": "2023-07-14T14:13:30.754736Z"
    }
   }
  },
  {
   "cell_type": "code",
   "outputs": [
    {
     "data": {
      "text/plain": "{str}"
     },
     "execution_count": 9,
     "metadata": {},
     "output_type": "execute_result"
    }
   ],
   "source": [
    "set([type(el) for el in LIST[\"people\"]])"
   ],
   "metadata": {
    "collapsed": false,
    "ExecuteTime": {
     "end_time": "2024-01-09T09:45:12.190270Z",
     "start_time": "2024-01-09T09:45:12.155190Z"
    }
   },
   "execution_count": 9
  },
  {
   "cell_type": "code",
   "outputs": [],
   "source": [
    "LIST[\"people\"] = LIST[\"people\"].apply(lambda x: eval(x.replace(\"\\n\", \", \")))"
   ],
   "metadata": {
    "collapsed": false,
    "ExecuteTime": {
     "end_time": "2024-01-09T09:50:09.519082Z",
     "start_time": "2024-01-09T09:50:06.231387Z"
    }
   },
   "execution_count": 13
  },
  {
   "cell_type": "code",
   "outputs": [],
   "source": [
    "def empty_people(people):\n",
    "    if people==None:\n",
    "        people=[]\n",
    "    return people\n",
    "LIST[\"people\"] = LIST[\"people\"].apply(empty_people)"
   ],
   "metadata": {
    "collapsed": false,
    "ExecuteTime": {
     "end_time": "2024-01-09T09:59:30.244071Z",
     "start_time": "2024-01-09T09:59:30.189103Z"
    }
   },
   "execution_count": 20
  },
  {
   "cell_type": "code",
   "outputs": [
    {
     "data": {
      "text/plain": "[{'age: days': None,\n  'age: hours': None,\n  'age: months': None,\n  'age: years': None,\n  'cognomen': 'Metelus',\n  'gender': 'male',\n  'name': 'Q. Caecilio C.f. Metelo',\n  'nomen': 'Caecilius',\n  'occupation': None,\n  'origo': None,\n  'person_id': '1',\n  'praenomen': 'Q.',\n  'status': 'senatorial order',\n  'supernomen': None,\n  'tribus': None}]"
     },
     "execution_count": 31,
     "metadata": {},
     "output_type": "execute_result"
    }
   ],
   "source": [
    "[el for el in LIST[\"people\"] if len(el) > 0][0]"
   ],
   "metadata": {
    "collapsed": false,
    "ExecuteTime": {
     "end_time": "2024-01-09T10:02:06.423585Z",
     "start_time": "2024-01-09T10:02:06.387853Z"
    }
   },
   "execution_count": 31
  },
  {
   "cell_type": "code",
   "outputs": [
    {
     "data": {
      "text/plain": "'Metelus'"
     },
     "execution_count": 32,
     "metadata": {},
     "output_type": "execute_result"
    }
   ],
   "source": [
    "[el for el in LIST[\"people\"] if len(el) > 0][0][0][\"cognomen\"]"
   ],
   "metadata": {
    "collapsed": false,
    "ExecuteTime": {
     "end_time": "2024-01-09T10:02:18.533691Z",
     "start_time": "2024-01-09T10:02:18.514785Z"
    }
   },
   "execution_count": 32
  },
  {
   "cell_type": "markdown",
   "source": [
    "### Correct geometries"
   ],
   "metadata": {
    "collapsed": false
   }
  },
  {
   "cell_type": "code",
   "execution_count": 33,
   "outputs": [],
   "source": [
    "def from_nones_to_emptypoints(geom):\n",
    "    if geom is None:\n",
    "        geom = Point()\n",
    "    if isinstance(geom, shapely.geometry.collection.GeometryCollection):\n",
    "        geom = Point()\n",
    "    return geom\n"
   ],
   "metadata": {
    "collapsed": false,
    "ExecuteTime": {
     "end_time": "2024-01-09T10:02:24.994494Z",
     "start_time": "2024-01-09T10:02:24.987081Z"
    }
   }
  },
  {
   "cell_type": "code",
   "execution_count": 34,
   "outputs": [],
   "source": [
    "geometries = LIST.geometry.apply(from_nones_to_emptypoints)"
   ],
   "metadata": {
    "collapsed": false,
    "ExecuteTime": {
     "end_time": "2024-01-09T10:02:25.963430Z",
     "start_time": "2024-01-09T10:02:25.487481Z"
    }
   }
  },
  {
   "cell_type": "code",
   "execution_count": 35,
   "outputs": [
    {
     "data": {
      "text/plain": "525870"
     },
     "execution_count": 35,
     "metadata": {},
     "output_type": "execute_result"
    }
   ],
   "source": [
    "LIST.geometry = geometries\n",
    "len(LIST)"
   ],
   "metadata": {
    "collapsed": false,
    "ExecuteTime": {
     "end_time": "2024-01-09T10:02:26.588080Z",
     "start_time": "2024-01-09T10:02:26.578790Z"
    }
   }
  },
  {
   "cell_type": "code",
   "execution_count": 36,
   "outputs": [
    {
     "data": {
      "text/plain": "525870"
     },
     "execution_count": 36,
     "metadata": {},
     "output_type": "execute_result"
    }
   ],
   "source": [
    "LIST.geometry.is_valid.sum()"
   ],
   "metadata": {
    "collapsed": false,
    "ExecuteTime": {
     "end_time": "2024-01-09T10:02:27.081150Z",
     "start_time": "2024-01-09T10:02:27.063098Z"
    }
   }
  },
  {
   "cell_type": "markdown",
   "source": [
    "# Final columns cleaning"
   ],
   "metadata": {
    "collapsed": false
   }
  },
  {
   "cell_type": "code",
   "execution_count": 37,
   "outputs": [],
   "source": [
    "LIST.rename(columns={\"geotemporal?\" : \"is_geotemporal\"}, inplace=True)\n",
    "LIST.rename(columns={\"withinRE?\" : \"is_within_RE\"}, inplace=True)"
   ],
   "metadata": {
    "collapsed": false,
    "ExecuteTime": {
     "end_time": "2024-01-09T10:02:29.766366Z",
     "start_time": "2024-01-09T10:02:29.759504Z"
    }
   }
  },
  {
   "cell_type": "code",
   "execution_count": 38,
   "outputs": [
    {
     "data": {
      "text/plain": "                      attribute_name dataset_source  \\\n0            clean_text_conservative  EDCS/EDH/SDAM   \n1   clean_text_interpretive_sentence  EDCS/EDH/SDAM   \n2       clean_text_interpretive_word  EDCS/EDH/SDAM   \n3  clean_text_interpretive_word_EDCS           EDCS   \n4                  country_certainty            EDH   \n\n                     attribute_source  \\\n0  EDH_attrs_cleaned_[timestamp].json   \n1  EDH_attrs_cleaned_[timestamp].json   \n2  EDH_attrs_cleaned_[timestamp].json   \n3               inscription attribute   \n4         EDH_merged_[timestamp].json   \n\n                                   created_by_script  data_type  \\\n0  https://github.com/sdam-au/EDH_ETL/blob/master...  character   \n1  https://github.com/sdam-au/EDH_ETL/blob/master...  character   \n2  https://github.com/sdam-au/EDH_ETL/blob/master...  character   \n3  https://github.com/sdam-au/EDCS_ETL/blob/maste...  character   \n4  https://github.com/sdam-au/EDH_ETL/blob/master...       bool   \n\n                                         description  \n0  Result of cleaning function, producing a conse...  \n1  Result of cleaning function, producing an inte...  \n2  Result of cleaning function, producing an inte...  \n3  Result of text cleaning function, producing an...  \n4  Certainty measure for modern country, extracte...  ",
      "text/html": "<div>\n<style scoped>\n    .dataframe tbody tr th:only-of-type {\n        vertical-align: middle;\n    }\n\n    .dataframe tbody tr th {\n        vertical-align: top;\n    }\n\n    .dataframe thead th {\n        text-align: right;\n    }\n</style>\n<table border=\"1\" class=\"dataframe\">\n  <thead>\n    <tr style=\"text-align: right;\">\n      <th></th>\n      <th>attribute_name</th>\n      <th>dataset_source</th>\n      <th>attribute_source</th>\n      <th>created_by_script</th>\n      <th>data_type</th>\n      <th>description</th>\n    </tr>\n  </thead>\n  <tbody>\n    <tr>\n      <th>0</th>\n      <td>clean_text_conservative</td>\n      <td>EDCS/EDH/SDAM</td>\n      <td>EDH_attrs_cleaned_[timestamp].json</td>\n      <td>https://github.com/sdam-au/EDH_ETL/blob/master...</td>\n      <td>character</td>\n      <td>Result of cleaning function, producing a conse...</td>\n    </tr>\n    <tr>\n      <th>1</th>\n      <td>clean_text_interpretive_sentence</td>\n      <td>EDCS/EDH/SDAM</td>\n      <td>EDH_attrs_cleaned_[timestamp].json</td>\n      <td>https://github.com/sdam-au/EDH_ETL/blob/master...</td>\n      <td>character</td>\n      <td>Result of cleaning function, producing an inte...</td>\n    </tr>\n    <tr>\n      <th>2</th>\n      <td>clean_text_interpretive_word</td>\n      <td>EDCS/EDH/SDAM</td>\n      <td>EDH_attrs_cleaned_[timestamp].json</td>\n      <td>https://github.com/sdam-au/EDH_ETL/blob/master...</td>\n      <td>character</td>\n      <td>Result of cleaning function, producing an inte...</td>\n    </tr>\n    <tr>\n      <th>3</th>\n      <td>clean_text_interpretive_word_EDCS</td>\n      <td>EDCS</td>\n      <td>inscription attribute</td>\n      <td>https://github.com/sdam-au/EDCS_ETL/blob/maste...</td>\n      <td>character</td>\n      <td>Result of text cleaning function, producing an...</td>\n    </tr>\n    <tr>\n      <th>4</th>\n      <td>country_certainty</td>\n      <td>EDH</td>\n      <td>EDH_merged_[timestamp].json</td>\n      <td>https://github.com/sdam-au/EDH_ETL/blob/master...</td>\n      <td>bool</td>\n      <td>Certainty measure for modern country, extracte...</td>\n    </tr>\n  </tbody>\n</table>\n</div>"
     },
     "execution_count": 38,
     "metadata": {},
     "output_type": "execute_result"
    }
   ],
   "source": [
    "LI_metadata = pd.read_csv(\"../LI_metadata.csv\")\n",
    "LI_metadata.head(5)"
   ],
   "metadata": {
    "collapsed": false,
    "ExecuteTime": {
     "end_time": "2024-01-09T10:02:30.253333Z",
     "start_time": "2024-01-09T10:02:30.234195Z"
    }
   }
  },
  {
   "cell_type": "code",
   "execution_count": 39,
   "outputs": [
    {
     "data": {
      "text/plain": "66"
     },
     "execution_count": 39,
     "metadata": {},
     "output_type": "execute_result"
    }
   ],
   "source": [
    "len(LI_metadata)"
   ],
   "metadata": {
    "collapsed": false,
    "ExecuteTime": {
     "end_time": "2024-01-09T10:02:31.310496Z",
     "start_time": "2024-01-09T10:02:31.284709Z"
    }
   }
  },
  {
   "cell_type": "code",
   "execution_count": 40,
   "outputs": [
    {
     "data": {
      "text/plain": "66"
     },
     "execution_count": 40,
     "metadata": {},
     "output_type": "execute_result"
    }
   ],
   "source": [
    "len(LI_metadata[\"attribute_name\"].unique())"
   ],
   "metadata": {
    "collapsed": false,
    "ExecuteTime": {
     "end_time": "2024-01-09T10:02:33.442467Z",
     "start_time": "2024-01-09T10:02:33.417388Z"
    }
   }
  },
  {
   "cell_type": "code",
   "execution_count": 41,
   "outputs": [],
   "source": [
    "LI_metadata[\"dupl\"] = LI_metadata[\"attribute_name\"].duplicated(keep=False)"
   ],
   "metadata": {
    "collapsed": false,
    "ExecuteTime": {
     "end_time": "2024-01-09T10:02:37.635471Z",
     "start_time": "2024-01-09T10:02:37.622781Z"
    }
   }
  },
  {
   "cell_type": "code",
   "execution_count": 42,
   "outputs": [
    {
     "data": {
      "text/plain": "Empty DataFrame\nColumns: [attribute_name, dataset_source, attribute_source, created_by_script, data_type, description, dupl]\nIndex: []",
      "text/html": "<div>\n<style scoped>\n    .dataframe tbody tr th:only-of-type {\n        vertical-align: middle;\n    }\n\n    .dataframe tbody tr th {\n        vertical-align: top;\n    }\n\n    .dataframe thead th {\n        text-align: right;\n    }\n</style>\n<table border=\"1\" class=\"dataframe\">\n  <thead>\n    <tr style=\"text-align: right;\">\n      <th></th>\n      <th>attribute_name</th>\n      <th>dataset_source</th>\n      <th>attribute_source</th>\n      <th>created_by_script</th>\n      <th>data_type</th>\n      <th>description</th>\n      <th>dupl</th>\n    </tr>\n  </thead>\n  <tbody>\n  </tbody>\n</table>\n</div>"
     },
     "execution_count": 42,
     "metadata": {},
     "output_type": "execute_result"
    }
   ],
   "source": [
    "LI_metadata[LI_metadata[\"dupl\"]==True]"
   ],
   "metadata": {
    "collapsed": false,
    "ExecuteTime": {
     "end_time": "2024-01-09T10:02:38.467450Z",
     "start_time": "2024-01-09T10:02:38.460705Z"
    }
   }
  },
  {
   "cell_type": "code",
   "execution_count": 43,
   "outputs": [],
   "source": [
    "for attr in LIST.columns:\n",
    "    if attr not in list(LI_metadata[\"attribute_name\"]):\n",
    "        print(attr)"
   ],
   "metadata": {
    "collapsed": false,
    "ExecuteTime": {
     "end_time": "2024-01-09T10:02:40.287522Z",
     "start_time": "2024-01-09T10:02:40.278027Z"
    }
   }
  },
  {
   "cell_type": "code",
   "execution_count": 45,
   "outputs": [],
   "source": [
    "#(LIST[\"language\"]!=\"L\").sum()"
   ],
   "metadata": {
    "collapsed": false,
    "ExecuteTime": {
     "end_time": "2024-01-09T10:02:58.830833Z",
     "start_time": "2024-01-09T10:02:58.818487Z"
    }
   }
  },
  {
   "cell_type": "code",
   "execution_count": 46,
   "outputs": [
    {
     "name": "stdout",
     "output_type": "stream",
     "text": [
      "material_EDCS\n"
     ]
    }
   ],
   "source": [
    "for attr in LI_metadata[\"attribute_name\"]:\n",
    "    if attr not in list(LIST.columns):\n",
    "        print(attr)"
   ],
   "metadata": {
    "collapsed": false,
    "ExecuteTime": {
     "end_time": "2024-01-09T10:03:01.739Z",
     "start_time": "2024-01-09T10:03:01.724230Z"
    }
   }
  },
  {
   "cell_type": "code",
   "execution_count": 49,
   "outputs": [],
   "source": [
    "to_drop = [\"language\"]\n",
    "LIST.drop(to_drop, axis=1, inplace=True)"
   ],
   "metadata": {
    "collapsed": false,
    "ExecuteTime": {
     "end_time": "2023-10-11T12:11:22.771466Z",
     "start_time": "2023-10-11T12:11:22.735124Z"
    }
   }
  },
  {
   "cell_type": "code",
   "execution_count": 47,
   "outputs": [
    {
     "data": {
      "text/plain": "65"
     },
     "execution_count": 47,
     "metadata": {},
     "output_type": "execute_result"
    }
   ],
   "source": [
    "len(LIST.columns)"
   ],
   "metadata": {
    "collapsed": false,
    "ExecuteTime": {
     "end_time": "2024-01-09T10:03:40.312384Z",
     "start_time": "2024-01-09T10:03:40.304504Z"
    }
   }
  },
  {
   "cell_type": "markdown",
   "source": [
    "# Check dates order"
   ],
   "metadata": {
    "collapsed": false
   }
  },
  {
   "cell_type": "code",
   "execution_count": 48,
   "outputs": [
    {
     "data": {
      "text/plain": "194285"
     },
     "execution_count": 48,
     "metadata": {},
     "output_type": "execute_result"
    }
   ],
   "source": [
    "LIST.apply(lambda x: x[\"not_before\"] < x[\"not_after\"], axis=1).sum() "
   ],
   "metadata": {
    "collapsed": false,
    "ExecuteTime": {
     "end_time": "2024-01-09T10:03:47.535313Z",
     "start_time": "2024-01-09T10:03:44.994187Z"
    }
   }
  },
  {
   "cell_type": "code",
   "execution_count": 49,
   "outputs": [
    {
     "data": {
      "text/plain": "0"
     },
     "execution_count": 49,
     "metadata": {},
     "output_type": "execute_result"
    }
   ],
   "source": [
    "LIST.apply(lambda x: x[\"not_before\"] > x[\"not_after\"], axis=1).sum()"
   ],
   "metadata": {
    "collapsed": false,
    "ExecuteTime": {
     "end_time": "2024-01-09T10:03:49.856417Z",
     "start_time": "2024-01-09T10:03:47.630302Z"
    }
   }
  },
  {
   "cell_type": "code",
   "execution_count": 50,
   "outputs": [],
   "source": [
    "def correct_dates(not_before, not_after):\n",
    "    try:\n",
    "        if not_before > not_after:\n",
    "            not_before, not_after = not_after, not_before\n",
    "    except:\n",
    "        pass\n",
    "    return (not_before, not_after)"
   ],
   "metadata": {
    "collapsed": false,
    "ExecuteTime": {
     "end_time": "2024-01-09T10:03:57.383467Z",
     "start_time": "2024-01-09T10:03:57.370026Z"
    }
   }
  },
  {
   "cell_type": "code",
   "execution_count": 51,
   "outputs": [
    {
     "data": {
      "text/plain": "(13, None)"
     },
     "execution_count": 51,
     "metadata": {},
     "output_type": "execute_result"
    }
   ],
   "source": [
    "correct_dates(13, None)"
   ],
   "metadata": {
    "collapsed": false,
    "ExecuteTime": {
     "end_time": "2024-01-09T10:03:59.734595Z",
     "start_time": "2024-01-09T10:03:59.718343Z"
    }
   }
  },
  {
   "cell_type": "code",
   "execution_count": 52,
   "outputs": [],
   "source": [
    "not_bef_aft = LIST.apply(lambda x: correct_dates(x[\"not_before\"], x[\"not_after\"]), axis=1)"
   ],
   "metadata": {
    "collapsed": false,
    "ExecuteTime": {
     "end_time": "2024-01-09T10:04:05.217290Z",
     "start_time": "2024-01-09T10:04:02.862854Z"
    }
   }
  },
  {
   "cell_type": "code",
   "execution_count": 53,
   "outputs": [
    {
     "data": {
      "text/plain": "445463    (-68.0, -68.0)\n445464    (309.0, 313.0)\n445465    (-74.0, -74.0)\n445466    (276.0, 282.0)\n445467      (49.0, 50.0)\n445468        (nan, nan)\n445469    (198.0, 209.0)\n445470    (-99.0, -70.0)\n445471      (81.0, 96.0)\n445472      (1.0, 200.0)\ndtype: object"
     },
     "execution_count": 53,
     "metadata": {},
     "output_type": "execute_result"
    }
   ],
   "source": [
    "not_bef_aft[:10]"
   ],
   "metadata": {
    "collapsed": false,
    "ExecuteTime": {
     "end_time": "2024-01-09T10:04:05.821907Z",
     "start_time": "2024-01-09T10:04:05.817818Z"
    }
   }
  },
  {
   "cell_type": "code",
   "execution_count": 54,
   "outputs": [],
   "source": [
    "LIST[\"not_before\"] = [el[0] for el in not_bef_aft]\n",
    "LIST[\"not_after\"] = [el[1] for el in not_bef_aft]"
   ],
   "metadata": {
    "collapsed": false,
    "ExecuteTime": {
     "end_time": "2024-01-09T10:04:16.373057Z",
     "start_time": "2024-01-09T10:04:16.282730Z"
    }
   }
  },
  {
   "cell_type": "code",
   "execution_count": 54,
   "outputs": [],
   "source": [],
   "metadata": {
    "collapsed": false,
    "ExecuteTime": {
     "end_time": "2024-01-09T10:04:17.122321Z",
     "start_time": "2024-01-09T10:04:17.103439Z"
    }
   }
  },
  {
   "cell_type": "markdown",
   "source": [
    "# Actualize is_geotemporal"
   ],
   "metadata": {
    "collapsed": false
   }
  },
  {
   "cell_type": "code",
   "execution_count": 55,
   "outputs": [
    {
     "data": {
      "text/plain": "206570"
     },
     "execution_count": 55,
     "metadata": {},
     "output_type": "execute_result"
    }
   ],
   "source": [
    "LIST[\"is_geotemporal\"].sum()"
   ],
   "metadata": {
    "collapsed": false,
    "ExecuteTime": {
     "end_time": "2024-01-09T10:04:20.690601Z",
     "start_time": "2024-01-09T10:04:20.671628Z"
    }
   }
  },
  {
   "cell_type": "code",
   "execution_count": 56,
   "outputs": [
    {
     "data": {
      "text/plain": "206570"
     },
     "execution_count": 56,
     "metadata": {},
     "output_type": "execute_result"
    }
   ],
   "source": [
    "len(LIST[(((LIST[\"not_before\"].notnull()) | (LIST[\"not_after\"].notnull())) & LIST.geometry.notnull())])"
   ],
   "metadata": {
    "collapsed": false,
    "ExecuteTime": {
     "end_time": "2024-01-09T10:04:21.440770Z",
     "start_time": "2024-01-09T10:04:21.283605Z"
    }
   }
  },
  {
   "cell_type": "code",
   "execution_count": 57,
   "outputs": [],
   "source": [
    "LIST[\"is_geotemporal\"] = (((LIST[\"not_before\"].notnull()) | (LIST[\"not_after\"].notnull())) & LIST.geometry.notnull())"
   ],
   "metadata": {
    "collapsed": false,
    "ExecuteTime": {
     "end_time": "2024-01-09T10:04:22.104018Z",
     "start_time": "2024-01-09T10:04:22.083327Z"
    }
   }
  },
  {
   "cell_type": "code",
   "execution_count": 58,
   "outputs": [
    {
     "data": {
      "text/plain": "206570"
     },
     "execution_count": 58,
     "metadata": {},
     "output_type": "execute_result"
    }
   ],
   "source": [
    "LIST[\"is_geotemporal\"].sum()"
   ],
   "metadata": {
    "collapsed": false,
    "ExecuteTime": {
     "end_time": "2024-01-09T10:04:22.888812Z",
     "start_time": "2024-01-09T10:04:22.879727Z"
    }
   }
  },
  {
   "cell_type": "code",
   "execution_count": 59,
   "outputs": [
    {
     "data": {
      "text/plain": "        LIST-ID        EDCS-ID    EDH-ID  \\\n445463   445464  EDCS-24900077  HD056163   \n445464   445465  EDCS-03700724  HD052964   \n445465   445466  EDCS-13800065  HD017714   \n445466   445467  EDCS-03300852  HD051000   \n445467   445468  EDCS-28500283  HD021396   \n...         ...            ...       ...   \n445458   445459  EDCS-10700071      None   \n445459   445460  EDCS-10700072      None   \n445460   445461  EDCS-10700073      None   \n445461   445462  EDCS-10700074      None   \n445462   445463  EDCS-10700076      None   \n\n                                trismegistos_uri pleiades_id  \\\n445463  https://www.trismegistos.org/text/177366      570485   \n445464  https://www.trismegistos.org/text/121715      531064   \n445465  https://www.trismegistos.org/text/177100      570049   \n445466  https://www.trismegistos.org/text/177273      240855   \n445467  https://www.trismegistos.org/text/177131               \n...                                          ...         ...   \n445458                                      None        None   \n445459                                      None        None   \n445460                                      None        None   \n445461                                      None        None   \n445462                                      None        None   \n\n                                            transcription  \\\n445463  Q(uinto) Caecilio C(ai) f(ilio) Metelo / imper...   \n445464  Fortissimo et piis/simo Caesari d(omino) n(ost...   \n445465  Italicei / quei Aegei negotiantur / P(ublium) ...   \n445466  [Imp(eratori) Caes(ari) M(arco)] / An[nio] Flo...   \n445467  T[i(berius)] Claudius Caesar Aug(ustus) / G[er...   \n...                                                   ...   \n445458                                               None   \n445459                                               None   \n445460                                               None   \n445461                                               None   \n445462                                               None   \n\n                                              inscription  \\\n445463  Q(uinto) Caecilio C(ai) f(ilio) Metel(l)o / im...   \n445464  Fortissimo et Piis/simo Caesari d(omino) n(ost...   \n445465  Italicei / quei Aegei negotiantur / P(ublium) ...   \n445466  Imp(eratori) / Floriano / P(io) F(elici) Aug(u...   \n445467  T[(iberius)] Claudius Caesar Aug(ustus) / G[er...   \n...                                                   ...   \n445458                                            ]ACLAI[   \n445459                                     ]IN[3] / [3]P[   \n445460                                              ]RIC[   \n445461                         [3]ius C(ai) [3] / [3]s L[   \n445462  Vigilius et Dom(i)/nica cum suis / f(ecerunt) ...   \n\n                                  clean_text_conservative  \\\n445463  Q Caecilio C f Metelo imperatori Italici quei ...   \n445464  Fortissimo et piissimo Caesari d n Gal Val P F...   \n445465  Italicei quei Aegei negotiantur P Rutilium P f...   \n445466  An Floriano P F Aug p p m p III Imp Caes M Aur...   \n445467  T Claudius Caesar Aug Ganicus pontif max trib ...   \n...                                                   ...   \n445458                                              ACLAI   \n445459                                               IN P   \n445460                                                RIC   \n445461                                          ius C s L   \n445462  Vigilius et Domnica cum suis f CC Profuturus e...   \n\n                         clean_text_interpretive_sentence  \\\n445463  Quinto Caecilio Cai filio Metelo imperatori It...   \n445464  Fortissimo et piissimo Caesari domino nostro G...   \n445465  Italicei quei Aegei negotiantur Publium Rutili...   \n445466  Imperatori Caesari Marco Annio Floriano Pio Fe...   \n445467  Tiberius Claudius Caesar Augustus Germanicus p...   \n...                                                   ...   \n445458                                               None   \n445459                                               None   \n445460                                               None   \n445461                                               None   \n445462                                               None   \n\n                             clean_text_interpretive_word  \\\n445463  Quinto Caecilio Cai filio Metelo imperatori It...   \n445464  Fortissimo et piissimo Caesari domino nostro G...   \n445465  Italicei quei Aegei negotiantur Publium Rutili...   \n445466  Imperatori Caesari Marco Annio Floriano Pio Fe...   \n445467  Tiberius Claudius Caesar Augustus Germanicus p...   \n...                                                   ...   \n445458                                              ACLAI   \n445459                                               IN P   \n445460                                                RIC   \n445461                                        ius Cai s L   \n445462  Vigilius et Dominica cum suis fecerunt pedes C...   \n\n                        clean_text_interpretive_word_EDCS  \\\n445463  Quinto Caecilio Cai filio Metello imperatori I...   \n445464  Fortissimo et Piissimo Caesari domino nostro G...   \n445465  Italicei quei Aegei negotiantur Publium Rutili...   \n445466  Imperatori Floriano Pio Felici Augusto patri p...   \n445467  Tiberius Claudius Caesar Augustus Germanicus p...   \n...                                                   ...   \n445458                                              ACLAI   \n445459                                               IN P   \n445460                                                RIC   \n445461                                        ius Cai s L   \n445462  Vigilius et Dominica cum suis fecerunt pedes C...   \n\n                                          diplomatic_text  \\\n445463  Q CAECILIO C F METELO / IMPERATORI ITALICI / Q...   \n445464  FORTISSIMO ET PIIS / SIMO CAESARI D N / GAL VA...   \n445465  ITALICEI / QVEI AEGEI NEGOTIANTVR / P RVTILIVM...   \n445466  [ ] / AN[ ] FLORIANO / P F AVG / P P / M P III...   \n445467  T[ ] CLAVDIVS CAESAR AVG / G[ ]ANICVS PONTIF M...   \n...                                                   ...   \n445458                                               None   \n445459                                               None   \n445460                                               None   \n445461                                               None   \n445462                                               None   \n\n                            province                           place  \\\n445463                        Achaia   Agia Triada / Merbaka / Midea   \n445464                        Achaia      Agios Athanasios / Photike   \n445465                        Achaia  Aigio / Egio / Aiyion / Aegeum   \n445466                        Achaia                    Alea / Tegea   \n445467                        Achaia                    Alea / Tegea   \n...                              ...                             ...   \n445458  Venetia et Histria / Regio X        Zuglio / Iulium Carnicum   \n445459  Venetia et Histria / Regio X        Zuglio / Iulium Carnicum   \n445460  Venetia et Histria / Regio X        Zuglio / Iulium Carnicum   \n445461  Venetia et Histria / Regio X        Zuglio / Iulium Carnicum   \n445462  Venetia et Histria / Regio X        Zuglio / Iulium Carnicum   \n\n                                      inscr_type  \\\n445463                          tituli honorarii   \n445464                          tituli honorarii   \n445465                          tituli honorarii   \n445466                                  miliaria   \n445467                                     leges   \n...                                          ...   \n445458                                      None   \n445459                                      None   \n445460                                      None   \n445461                                      None   \n445462  inscriptiones christianae, tituli operum   \n\n                                          status_notation    inscr_process  \\\n445463  officium/professio, ordo senatorius, tria nomi...             None   \n445464       Augusti/Augustae, ordo equester, tria nomina  litterae erasae   \n445465  officium/professio, ordo senatorius, tria nomi...             None   \n445466                             Augusti/Augustae, viri             None   \n445467                             Augusti/Augustae, viri             None   \n...                                                   ...              ...   \n445458                                               None             None   \n445459                                               None             None   \n445460                                               None             None   \n445461                                               None             None   \n445462                    mulieres, nomen singulare, viri             None   \n\n                                                   status  \\\n445463  officium/professio;  ordo senatorius;  tituli ...   \n445464  Augusti/Augustae;  litterae erasae;  ordo eque...   \n445465  officium/professio;  ordo senatorius;  tituli ...   \n445466                 Augusti/Augustae;  miliaria;  viri   \n445467                    Augusti/Augustae;  leges;  viri   \n...                                                   ...   \n445458                                               None   \n445459                                               None   \n445460                                               None   \n445461                                               None   \n445462  inscriptiones christianae;  mulieres;  nomen s...   \n\n                                             partner_link last_update  \\\n445463  http://db.edcs.eu/epigr/partner.php?s_language...  2011-11-11   \n445464  http://db.edcs.eu/epigr/partner.php?s_language...  2014-09-16   \n445465  http://db.edcs.eu/epigr/partner.php?s_language...  2011-03-29   \n445466  http://db.edcs.eu/epigr/partner.php?s_language...  2011-05-24   \n445467  http://db.edcs.eu/epigr/partner.php?s_language...  2011-05-10   \n...                                                   ...         ...   \n445458  http://db.edcs.eu/epigr/partner.php?s_language...        None   \n445459  http://db.edcs.eu/epigr/partner.php?s_language...        None   \n445460  http://db.edcs.eu/epigr/partner.php?s_language...        None   \n445461  http://db.edcs.eu/epigr/partner.php?s_language...        None   \n445462  http://db.edcs.eu/epigr/partner.php?s_language...        None   \n\n       letter_size       type_of_inscription         work_status  \\\n445463        None     honorific inscription            no image   \n445464    3-5.3 cm     honorific inscription  checked with photo   \n445465  3.5-3.7 cm        votive inscription  checked with photo   \n445466    3.3-6 cm         mile-/leaguestone  checked with photo   \n445467        None  public legal inscription  checked with photo   \n...            ...                       ...                 ...   \n445458        None                      None                None   \n445459        None                      None                None   \n445460        None                      None                None   \n445461        None                      None                None   \n445462        None                      None                None   \n\n        year_of_find present_location  \\\n445463           NaN             None   \n445464           NaN    Fragma Kalama   \n445465           NaN             None   \n445466           NaN      Tegea, Mus.   \n445467           NaN             None   \n...              ...              ...   \n445458           NaN             None   \n445459           NaN             None   \n445460           NaN             None   \n445461           NaN             None   \n445462           NaN             None   \n\n                                             text_edition support_objecttype  \\\n445463  \\n Quinto Caecilio Cai filio Metelo imperatori...               None   \n445464  \\n Fortissimo et piissimo Caesari domino nostr...                 57   \n445465  \\n Italicei quei Aegei negotiantur Publium Rut...                257   \n445466  \\n Imperatori Caesari Marco Annio Floriano Pio...                 89   \n445467  \\n Tiberius Claudius Caesar Augustus Germanicu...                257   \n...                                                   ...                ...   \n445458                                               None               None   \n445459                                               None               None   \n445460                                               None               None   \n445461                                               None               None   \n445462                                               None               None   \n\n       support_material support_decoration keywords_term  \\\n445463             None               1000            69   \n445464             None               1000            69   \n445465             None               1000           372   \n445466             None               1000          None   \n445467             None               1000             5   \n...                 ...                ...           ...   \n445458             None               None          None   \n445459             None               None          None   \n445460             None               None          None   \n445461             None               None          None   \n445462             None               None          None   \n\n                                                   people  \\\n445463  [{'age: days': None, 'age: hours': None, 'age:...   \n445464  [{'age: days': None, 'age: hours': None, 'age:...   \n445465  [{'age: days': None, 'age: hours': None, 'age:...   \n445466  [{'age: days': None, 'age: hours': None, 'age:...   \n445467  [{'age: days': None, 'age: hours': None, 'age:...   \n...                                                   ...   \n445458                                                 []   \n445459                                                 []   \n445460                                                 []   \n445461                                                 []   \n445462                                                 []   \n\n       type_of_inscription_clean  type_of_inscription_certainty  height_cm  \\\n445463     honorific inscription                          False        NaN   \n445464     honorific inscription                          False       99.0   \n445465        votive inscription                          False       58.0   \n445466         mile-/leaguestone                          False       44.0   \n445467  public legal inscription                          False      160.0   \n...                          ...                            ...        ...   \n445458                      None                          False        NaN   \n445459                      None                          False        NaN   \n445460                      None                          False        NaN   \n445461                      None                          False        NaN   \n445462                      None                          False        NaN   \n\n        width_cm  depth_cm material_clean type_of_monument_clean  \\\n445463       NaN       NaN           NULL                   NULL   \n445464      67.0      67.0           NULL            statue base   \n445465      61.0      16.0           NULL                 tabula   \n445466      24.0       NaN           NULL      mile-/leaguestone   \n445467      58.0      17.0           NULL                 tabula   \n...          ...       ...            ...                    ...   \n445458       NaN       NaN           None                   None   \n445459       NaN       NaN           None                   None   \n445460       NaN       NaN           None                   None   \n445461       NaN       NaN           None                   None   \n445462       NaN       NaN           None                   None   \n\n        type_of_monument_certainty province_label_clean  \\\n445463                       False               Achaia   \n445464                       False               Epirus   \n445465                       False               Achaia   \n445466                       False               Achaia   \n445467                       False               Achaia   \n...                            ...                  ...   \n445458                       False                 None   \n445459                       False                 None   \n445460                       False                 None   \n445461                       False                 None   \n445462                       False                 None   \n\n        province_label_certainty country_clean  country_certainty  \\\n445463                     False        Greece              False   \n445464                     False        Greece              False   \n445465                     False        Greece              False   \n445466                     False        Greece              False   \n445467                     False        Greece              False   \n...                          ...           ...                ...   \n445458                     False          None              False   \n445459                     False          None              False   \n445460                     False          None              False   \n445461                     False          None              False   \n445462                     False          None              False   \n\n       findspot_ancient_clean  findspot_ancient_certainty modern_region_clean  \\\n445463                  Midea                       False        Pelopónissos   \n445464                Photike                       False             Ípeiros   \n445465                 Aegeum                       False       Dytikí Elláda   \n445466                  Tegea                       False        Pelopónissos   \n445467                  Tegea                       False        Pelopónissos   \n...                       ...                         ...                 ...   \n445458                   None                       False                None   \n445459                   None                       False                None   \n445460                   None                       False                None   \n445461                   None                       False                None   \n445462                   None                       False                None   \n\n        modern_region_certainty findspot_modern_clean  \\\n445463                    False                Midhéa   \n445464                    False            Paramythía   \n445465                    False                Aígion   \n445466                    False                  Alea   \n445467                    False                  Alea   \n...                         ...                   ...   \n445458                    False                  None   \n445459                    False                  None   \n445460                    False                  None   \n445461                    False                  None   \n445462                    False                  None   \n\n        findspot_modern_certainty      findspot_clean  findspot_certainty  \\\n445463                      False                NULL               False   \n445464                      False  {Agios Athanasios}               False   \n445465                      False                NULL               False   \n445466                      False        Stringu, bei               False   \n445467                      False                NULL               False   \n...                           ...                 ...                 ...   \n445458                      False                None               False   \n445459                      False                None               False   \n445460                      False                None               False   \n445461                      False                None               False   \n445462                      False                None               False   \n\n       language_EDCS                        raw_dating  not_after  not_before  \\\n445463          None                        -68 to -68      -68.0       -68.0   \n445464          None                        309 to 313      313.0       309.0   \n445465          None                        -74 to -74      -74.0       -74.0   \n445466          None  a:  276 to 276;   b:  276 to 282      282.0       276.0   \n445467          None                          49 to 50       50.0        49.0   \n...              ...                               ...        ...         ...   \n445458          None                          1 to 200      200.0         1.0   \n445459          None                          1 to 200      200.0         1.0   \n445460          None                          1 to 200      200.0         1.0   \n445461          None                         -25 to 25       25.0       -25.0   \n445462          None                        351 to 425      425.0       351.0   \n\n        Longitude   Latitude  is_geotemporal                   geometry  \\\n445463  22.841200  37.649800            True  POINT (22.84120 37.64980)   \n445464  20.766800  39.451200            True  POINT (20.76680 39.45120)   \n445465  22.084500  38.248700            True  POINT (22.08450 38.24870)   \n445466  22.417100  37.431900            True  POINT (22.41710 37.43190)   \n445467  22.420877  37.454501            True  POINT (22.42088 37.45450)   \n...           ...        ...             ...                        ...   \n445458  13.026040  46.461796            True  POINT (13.02604 46.46180)   \n445459  13.026040  46.461796            True  POINT (13.02604 46.46180)   \n445460  13.026040  46.461796            True  POINT (13.02604 46.46180)   \n445461  13.026040  46.461796            True  POINT (13.02604 46.46180)   \n445462  13.026040  46.461796            True  POINT (13.02604 46.46180)   \n\n        is_within_RE urban_context urban_context_city  urban_context_pop_est  \\\n445463          True         rural               None                    NaN   \n445464          True         rural               None                    NaN   \n445465          True         small             Aegium                 1000.0   \n445466          True         large              Tegea                46362.0   \n445467          True         large              Tegea                46362.0   \n...              ...           ...                ...                    ...   \n445458          True         small    Iulium Carnicum                 1000.0   \n445459          True         small    Iulium Carnicum                 1000.0   \n445460          True         small    Iulium Carnicum                 1000.0   \n445461          True         small    Iulium Carnicum                 1000.0   \n445462          True         small    Iulium Carnicum                 1000.0   \n\n          type_of_inscription_auto  type_of_inscription_auto_prob  \n445463       honorific inscription                       1.000000  \n445464       honorific inscription                       1.000000  \n445465          votive inscription                       1.000000  \n445466           mile-/leaguestone                       1.000000  \n445467    public legal inscription                       1.000000  \n...                            ...                            ...  \n445458  identification inscription                       0.666667  \n445459  identification inscription                       0.666667  \n445460  identification inscription                       0.666667  \n445461  identification inscription                       0.666667  \n445462                        None                       0.000000  \n\n[525870 rows x 65 columns]",
      "text/html": "<div>\n<style scoped>\n    .dataframe tbody tr th:only-of-type {\n        vertical-align: middle;\n    }\n\n    .dataframe tbody tr th {\n        vertical-align: top;\n    }\n\n    .dataframe thead th {\n        text-align: right;\n    }\n</style>\n<table border=\"1\" class=\"dataframe\">\n  <thead>\n    <tr style=\"text-align: right;\">\n      <th></th>\n      <th>LIST-ID</th>\n      <th>EDCS-ID</th>\n      <th>EDH-ID</th>\n      <th>trismegistos_uri</th>\n      <th>pleiades_id</th>\n      <th>transcription</th>\n      <th>inscription</th>\n      <th>clean_text_conservative</th>\n      <th>clean_text_interpretive_sentence</th>\n      <th>clean_text_interpretive_word</th>\n      <th>clean_text_interpretive_word_EDCS</th>\n      <th>diplomatic_text</th>\n      <th>province</th>\n      <th>place</th>\n      <th>inscr_type</th>\n      <th>status_notation</th>\n      <th>inscr_process</th>\n      <th>status</th>\n      <th>partner_link</th>\n      <th>last_update</th>\n      <th>letter_size</th>\n      <th>type_of_inscription</th>\n      <th>work_status</th>\n      <th>year_of_find</th>\n      <th>present_location</th>\n      <th>text_edition</th>\n      <th>support_objecttype</th>\n      <th>support_material</th>\n      <th>support_decoration</th>\n      <th>keywords_term</th>\n      <th>people</th>\n      <th>type_of_inscription_clean</th>\n      <th>type_of_inscription_certainty</th>\n      <th>height_cm</th>\n      <th>width_cm</th>\n      <th>depth_cm</th>\n      <th>material_clean</th>\n      <th>type_of_monument_clean</th>\n      <th>type_of_monument_certainty</th>\n      <th>province_label_clean</th>\n      <th>province_label_certainty</th>\n      <th>country_clean</th>\n      <th>country_certainty</th>\n      <th>findspot_ancient_clean</th>\n      <th>findspot_ancient_certainty</th>\n      <th>modern_region_clean</th>\n      <th>modern_region_certainty</th>\n      <th>findspot_modern_clean</th>\n      <th>findspot_modern_certainty</th>\n      <th>findspot_clean</th>\n      <th>findspot_certainty</th>\n      <th>language_EDCS</th>\n      <th>raw_dating</th>\n      <th>not_after</th>\n      <th>not_before</th>\n      <th>Longitude</th>\n      <th>Latitude</th>\n      <th>is_geotemporal</th>\n      <th>geometry</th>\n      <th>is_within_RE</th>\n      <th>urban_context</th>\n      <th>urban_context_city</th>\n      <th>urban_context_pop_est</th>\n      <th>type_of_inscription_auto</th>\n      <th>type_of_inscription_auto_prob</th>\n    </tr>\n  </thead>\n  <tbody>\n    <tr>\n      <th>445463</th>\n      <td>445464</td>\n      <td>EDCS-24900077</td>\n      <td>HD056163</td>\n      <td>https://www.trismegistos.org/text/177366</td>\n      <td>570485</td>\n      <td>Q(uinto) Caecilio C(ai) f(ilio) Metelo / imper...</td>\n      <td>Q(uinto) Caecilio C(ai) f(ilio) Metel(l)o / im...</td>\n      <td>Q Caecilio C f Metelo imperatori Italici quei ...</td>\n      <td>Quinto Caecilio Cai filio Metelo imperatori It...</td>\n      <td>Quinto Caecilio Cai filio Metelo imperatori It...</td>\n      <td>Quinto Caecilio Cai filio Metello imperatori I...</td>\n      <td>Q CAECILIO C F METELO / IMPERATORI ITALICI / Q...</td>\n      <td>Achaia</td>\n      <td>Agia Triada / Merbaka / Midea</td>\n      <td>tituli honorarii</td>\n      <td>officium/professio, ordo senatorius, tria nomi...</td>\n      <td>None</td>\n      <td>officium/professio;  ordo senatorius;  tituli ...</td>\n      <td>http://db.edcs.eu/epigr/partner.php?s_language...</td>\n      <td>2011-11-11</td>\n      <td>None</td>\n      <td>honorific inscription</td>\n      <td>no image</td>\n      <td>NaN</td>\n      <td>None</td>\n      <td>\\n Quinto Caecilio Cai filio Metelo imperatori...</td>\n      <td>None</td>\n      <td>None</td>\n      <td>1000</td>\n      <td>69</td>\n      <td>[{'age: days': None, 'age: hours': None, 'age:...</td>\n      <td>honorific inscription</td>\n      <td>False</td>\n      <td>NaN</td>\n      <td>NaN</td>\n      <td>NaN</td>\n      <td>NULL</td>\n      <td>NULL</td>\n      <td>False</td>\n      <td>Achaia</td>\n      <td>False</td>\n      <td>Greece</td>\n      <td>False</td>\n      <td>Midea</td>\n      <td>False</td>\n      <td>Pelopónissos</td>\n      <td>False</td>\n      <td>Midhéa</td>\n      <td>False</td>\n      <td>NULL</td>\n      <td>False</td>\n      <td>None</td>\n      <td>-68 to -68</td>\n      <td>-68.0</td>\n      <td>-68.0</td>\n      <td>22.841200</td>\n      <td>37.649800</td>\n      <td>True</td>\n      <td>POINT (22.84120 37.64980)</td>\n      <td>True</td>\n      <td>rural</td>\n      <td>None</td>\n      <td>NaN</td>\n      <td>honorific inscription</td>\n      <td>1.000000</td>\n    </tr>\n    <tr>\n      <th>445464</th>\n      <td>445465</td>\n      <td>EDCS-03700724</td>\n      <td>HD052964</td>\n      <td>https://www.trismegistos.org/text/121715</td>\n      <td>531064</td>\n      <td>Fortissimo et piis/simo Caesari d(omino) n(ost...</td>\n      <td>Fortissimo et Piis/simo Caesari d(omino) n(ost...</td>\n      <td>Fortissimo et piissimo Caesari d n Gal Val P F...</td>\n      <td>Fortissimo et piissimo Caesari domino nostro G...</td>\n      <td>Fortissimo et piissimo Caesari domino nostro G...</td>\n      <td>Fortissimo et Piissimo Caesari domino nostro G...</td>\n      <td>FORTISSIMO ET PIIS / SIMO CAESARI D N / GAL VA...</td>\n      <td>Achaia</td>\n      <td>Agios Athanasios / Photike</td>\n      <td>tituli honorarii</td>\n      <td>Augusti/Augustae, ordo equester, tria nomina</td>\n      <td>litterae erasae</td>\n      <td>Augusti/Augustae;  litterae erasae;  ordo eque...</td>\n      <td>http://db.edcs.eu/epigr/partner.php?s_language...</td>\n      <td>2014-09-16</td>\n      <td>3-5.3 cm</td>\n      <td>honorific inscription</td>\n      <td>checked with photo</td>\n      <td>NaN</td>\n      <td>Fragma Kalama</td>\n      <td>\\n Fortissimo et piissimo Caesari domino nostr...</td>\n      <td>57</td>\n      <td>None</td>\n      <td>1000</td>\n      <td>69</td>\n      <td>[{'age: days': None, 'age: hours': None, 'age:...</td>\n      <td>honorific inscription</td>\n      <td>False</td>\n      <td>99.0</td>\n      <td>67.0</td>\n      <td>67.0</td>\n      <td>NULL</td>\n      <td>statue base</td>\n      <td>False</td>\n      <td>Epirus</td>\n      <td>False</td>\n      <td>Greece</td>\n      <td>False</td>\n      <td>Photike</td>\n      <td>False</td>\n      <td>Ípeiros</td>\n      <td>False</td>\n      <td>Paramythía</td>\n      <td>False</td>\n      <td>{Agios Athanasios}</td>\n      <td>False</td>\n      <td>None</td>\n      <td>309 to 313</td>\n      <td>313.0</td>\n      <td>309.0</td>\n      <td>20.766800</td>\n      <td>39.451200</td>\n      <td>True</td>\n      <td>POINT (20.76680 39.45120)</td>\n      <td>True</td>\n      <td>rural</td>\n      <td>None</td>\n      <td>NaN</td>\n      <td>honorific inscription</td>\n      <td>1.000000</td>\n    </tr>\n    <tr>\n      <th>445465</th>\n      <td>445466</td>\n      <td>EDCS-13800065</td>\n      <td>HD017714</td>\n      <td>https://www.trismegistos.org/text/177100</td>\n      <td>570049</td>\n      <td>Italicei / quei Aegei negotiantur / P(ublium) ...</td>\n      <td>Italicei / quei Aegei negotiantur / P(ublium) ...</td>\n      <td>Italicei quei Aegei negotiantur P Rutilium P f...</td>\n      <td>Italicei quei Aegei negotiantur Publium Rutili...</td>\n      <td>Italicei quei Aegei negotiantur Publium Rutili...</td>\n      <td>Italicei quei Aegei negotiantur Publium Rutili...</td>\n      <td>ITALICEI / QVEI AEGEI NEGOTIANTVR / P RVTILIVM...</td>\n      <td>Achaia</td>\n      <td>Aigio / Egio / Aiyion / Aegeum</td>\n      <td>tituli honorarii</td>\n      <td>officium/professio, ordo senatorius, tria nomi...</td>\n      <td>None</td>\n      <td>officium/professio;  ordo senatorius;  tituli ...</td>\n      <td>http://db.edcs.eu/epigr/partner.php?s_language...</td>\n      <td>2011-03-29</td>\n      <td>3.5-3.7 cm</td>\n      <td>votive inscription</td>\n      <td>checked with photo</td>\n      <td>NaN</td>\n      <td>None</td>\n      <td>\\n Italicei quei Aegei negotiantur Publium Rut...</td>\n      <td>257</td>\n      <td>None</td>\n      <td>1000</td>\n      <td>372</td>\n      <td>[{'age: days': None, 'age: hours': None, 'age:...</td>\n      <td>votive inscription</td>\n      <td>False</td>\n      <td>58.0</td>\n      <td>61.0</td>\n      <td>16.0</td>\n      <td>NULL</td>\n      <td>tabula</td>\n      <td>False</td>\n      <td>Achaia</td>\n      <td>False</td>\n      <td>Greece</td>\n      <td>False</td>\n      <td>Aegeum</td>\n      <td>False</td>\n      <td>Dytikí Elláda</td>\n      <td>False</td>\n      <td>Aígion</td>\n      <td>False</td>\n      <td>NULL</td>\n      <td>False</td>\n      <td>None</td>\n      <td>-74 to -74</td>\n      <td>-74.0</td>\n      <td>-74.0</td>\n      <td>22.084500</td>\n      <td>38.248700</td>\n      <td>True</td>\n      <td>POINT (22.08450 38.24870)</td>\n      <td>True</td>\n      <td>small</td>\n      <td>Aegium</td>\n      <td>1000.0</td>\n      <td>votive inscription</td>\n      <td>1.000000</td>\n    </tr>\n    <tr>\n      <th>445466</th>\n      <td>445467</td>\n      <td>EDCS-03300852</td>\n      <td>HD051000</td>\n      <td>https://www.trismegistos.org/text/177273</td>\n      <td>240855</td>\n      <td>[Imp(eratori) Caes(ari) M(arco)] / An[nio] Flo...</td>\n      <td>Imp(eratori) / Floriano / P(io) F(elici) Aug(u...</td>\n      <td>An Floriano P F Aug p p m p III Imp Caes M Aur...</td>\n      <td>Imperatori Caesari Marco Annio Floriano Pio Fe...</td>\n      <td>Imperatori Caesari Marco Annio Floriano Pio Fe...</td>\n      <td>Imperatori Floriano Pio Felici Augusto patri p...</td>\n      <td>[ ] / AN[ ] FLORIANO / P F AVG / P P / M P III...</td>\n      <td>Achaia</td>\n      <td>Alea / Tegea</td>\n      <td>miliaria</td>\n      <td>Augusti/Augustae, viri</td>\n      <td>None</td>\n      <td>Augusti/Augustae;  miliaria;  viri</td>\n      <td>http://db.edcs.eu/epigr/partner.php?s_language...</td>\n      <td>2011-05-24</td>\n      <td>3.3-6 cm</td>\n      <td>mile-/leaguestone</td>\n      <td>checked with photo</td>\n      <td>NaN</td>\n      <td>Tegea, Mus.</td>\n      <td>\\n Imperatori Caesari Marco Annio Floriano Pio...</td>\n      <td>89</td>\n      <td>None</td>\n      <td>1000</td>\n      <td>None</td>\n      <td>[{'age: days': None, 'age: hours': None, 'age:...</td>\n      <td>mile-/leaguestone</td>\n      <td>False</td>\n      <td>44.0</td>\n      <td>24.0</td>\n      <td>NaN</td>\n      <td>NULL</td>\n      <td>mile-/leaguestone</td>\n      <td>False</td>\n      <td>Achaia</td>\n      <td>False</td>\n      <td>Greece</td>\n      <td>False</td>\n      <td>Tegea</td>\n      <td>False</td>\n      <td>Pelopónissos</td>\n      <td>False</td>\n      <td>Alea</td>\n      <td>False</td>\n      <td>Stringu, bei</td>\n      <td>False</td>\n      <td>None</td>\n      <td>a:  276 to 276;   b:  276 to 282</td>\n      <td>282.0</td>\n      <td>276.0</td>\n      <td>22.417100</td>\n      <td>37.431900</td>\n      <td>True</td>\n      <td>POINT (22.41710 37.43190)</td>\n      <td>True</td>\n      <td>large</td>\n      <td>Tegea</td>\n      <td>46362.0</td>\n      <td>mile-/leaguestone</td>\n      <td>1.000000</td>\n    </tr>\n    <tr>\n      <th>445467</th>\n      <td>445468</td>\n      <td>EDCS-28500283</td>\n      <td>HD021396</td>\n      <td>https://www.trismegistos.org/text/177131</td>\n      <td></td>\n      <td>T[i(berius)] Claudius Caesar Aug(ustus) / G[er...</td>\n      <td>T[(iberius)] Claudius Caesar Aug(ustus) / G[er...</td>\n      <td>T Claudius Caesar Aug Ganicus pontif max trib ...</td>\n      <td>Tiberius Claudius Caesar Augustus Germanicus p...</td>\n      <td>Tiberius Claudius Caesar Augustus Germanicus p...</td>\n      <td>Tiberius Claudius Caesar Augustus Germanicus p...</td>\n      <td>T[ ] CLAVDIVS CAESAR AVG / G[ ]ANICVS PONTIF M...</td>\n      <td>Achaia</td>\n      <td>Alea / Tegea</td>\n      <td>leges</td>\n      <td>Augusti/Augustae, viri</td>\n      <td>None</td>\n      <td>Augusti/Augustae;  leges;  viri</td>\n      <td>http://db.edcs.eu/epigr/partner.php?s_language...</td>\n      <td>2011-05-10</td>\n      <td>None</td>\n      <td>public legal inscription</td>\n      <td>checked with photo</td>\n      <td>NaN</td>\n      <td>None</td>\n      <td>\\n Tiberius Claudius Caesar Augustus Germanicu...</td>\n      <td>257</td>\n      <td>None</td>\n      <td>1000</td>\n      <td>5</td>\n      <td>[{'age: days': None, 'age: hours': None, 'age:...</td>\n      <td>public legal inscription</td>\n      <td>False</td>\n      <td>160.0</td>\n      <td>58.0</td>\n      <td>17.0</td>\n      <td>NULL</td>\n      <td>tabula</td>\n      <td>False</td>\n      <td>Achaia</td>\n      <td>False</td>\n      <td>Greece</td>\n      <td>False</td>\n      <td>Tegea</td>\n      <td>False</td>\n      <td>Pelopónissos</td>\n      <td>False</td>\n      <td>Alea</td>\n      <td>False</td>\n      <td>NULL</td>\n      <td>False</td>\n      <td>None</td>\n      <td>49 to 50</td>\n      <td>50.0</td>\n      <td>49.0</td>\n      <td>22.420877</td>\n      <td>37.454501</td>\n      <td>True</td>\n      <td>POINT (22.42088 37.45450)</td>\n      <td>True</td>\n      <td>large</td>\n      <td>Tegea</td>\n      <td>46362.0</td>\n      <td>public legal inscription</td>\n      <td>1.000000</td>\n    </tr>\n    <tr>\n      <th>...</th>\n      <td>...</td>\n      <td>...</td>\n      <td>...</td>\n      <td>...</td>\n      <td>...</td>\n      <td>...</td>\n      <td>...</td>\n      <td>...</td>\n      <td>...</td>\n      <td>...</td>\n      <td>...</td>\n      <td>...</td>\n      <td>...</td>\n      <td>...</td>\n      <td>...</td>\n      <td>...</td>\n      <td>...</td>\n      <td>...</td>\n      <td>...</td>\n      <td>...</td>\n      <td>...</td>\n      <td>...</td>\n      <td>...</td>\n      <td>...</td>\n      <td>...</td>\n      <td>...</td>\n      <td>...</td>\n      <td>...</td>\n      <td>...</td>\n      <td>...</td>\n      <td>...</td>\n      <td>...</td>\n      <td>...</td>\n      <td>...</td>\n      <td>...</td>\n      <td>...</td>\n      <td>...</td>\n      <td>...</td>\n      <td>...</td>\n      <td>...</td>\n      <td>...</td>\n      <td>...</td>\n      <td>...</td>\n      <td>...</td>\n      <td>...</td>\n      <td>...</td>\n      <td>...</td>\n      <td>...</td>\n      <td>...</td>\n      <td>...</td>\n      <td>...</td>\n      <td>...</td>\n      <td>...</td>\n      <td>...</td>\n      <td>...</td>\n      <td>...</td>\n      <td>...</td>\n      <td>...</td>\n      <td>...</td>\n      <td>...</td>\n      <td>...</td>\n      <td>...</td>\n      <td>...</td>\n      <td>...</td>\n      <td>...</td>\n    </tr>\n    <tr>\n      <th>445458</th>\n      <td>445459</td>\n      <td>EDCS-10700071</td>\n      <td>None</td>\n      <td>None</td>\n      <td>None</td>\n      <td>None</td>\n      <td>]ACLAI[</td>\n      <td>ACLAI</td>\n      <td>None</td>\n      <td>ACLAI</td>\n      <td>ACLAI</td>\n      <td>None</td>\n      <td>Venetia et Histria / Regio X</td>\n      <td>Zuglio / Iulium Carnicum</td>\n      <td>None</td>\n      <td>None</td>\n      <td>None</td>\n      <td>None</td>\n      <td>http://db.edcs.eu/epigr/partner.php?s_language...</td>\n      <td>None</td>\n      <td>None</td>\n      <td>None</td>\n      <td>None</td>\n      <td>NaN</td>\n      <td>None</td>\n      <td>None</td>\n      <td>None</td>\n      <td>None</td>\n      <td>None</td>\n      <td>None</td>\n      <td>[]</td>\n      <td>None</td>\n      <td>False</td>\n      <td>NaN</td>\n      <td>NaN</td>\n      <td>NaN</td>\n      <td>None</td>\n      <td>None</td>\n      <td>False</td>\n      <td>None</td>\n      <td>False</td>\n      <td>None</td>\n      <td>False</td>\n      <td>None</td>\n      <td>False</td>\n      <td>None</td>\n      <td>False</td>\n      <td>None</td>\n      <td>False</td>\n      <td>None</td>\n      <td>False</td>\n      <td>None</td>\n      <td>1 to 200</td>\n      <td>200.0</td>\n      <td>1.0</td>\n      <td>13.026040</td>\n      <td>46.461796</td>\n      <td>True</td>\n      <td>POINT (13.02604 46.46180)</td>\n      <td>True</td>\n      <td>small</td>\n      <td>Iulium Carnicum</td>\n      <td>1000.0</td>\n      <td>identification inscription</td>\n      <td>0.666667</td>\n    </tr>\n    <tr>\n      <th>445459</th>\n      <td>445460</td>\n      <td>EDCS-10700072</td>\n      <td>None</td>\n      <td>None</td>\n      <td>None</td>\n      <td>None</td>\n      <td>]IN[3] / [3]P[</td>\n      <td>IN P</td>\n      <td>None</td>\n      <td>IN P</td>\n      <td>IN P</td>\n      <td>None</td>\n      <td>Venetia et Histria / Regio X</td>\n      <td>Zuglio / Iulium Carnicum</td>\n      <td>None</td>\n      <td>None</td>\n      <td>None</td>\n      <td>None</td>\n      <td>http://db.edcs.eu/epigr/partner.php?s_language...</td>\n      <td>None</td>\n      <td>None</td>\n      <td>None</td>\n      <td>None</td>\n      <td>NaN</td>\n      <td>None</td>\n      <td>None</td>\n      <td>None</td>\n      <td>None</td>\n      <td>None</td>\n      <td>None</td>\n      <td>[]</td>\n      <td>None</td>\n      <td>False</td>\n      <td>NaN</td>\n      <td>NaN</td>\n      <td>NaN</td>\n      <td>None</td>\n      <td>None</td>\n      <td>False</td>\n      <td>None</td>\n      <td>False</td>\n      <td>None</td>\n      <td>False</td>\n      <td>None</td>\n      <td>False</td>\n      <td>None</td>\n      <td>False</td>\n      <td>None</td>\n      <td>False</td>\n      <td>None</td>\n      <td>False</td>\n      <td>None</td>\n      <td>1 to 200</td>\n      <td>200.0</td>\n      <td>1.0</td>\n      <td>13.026040</td>\n      <td>46.461796</td>\n      <td>True</td>\n      <td>POINT (13.02604 46.46180)</td>\n      <td>True</td>\n      <td>small</td>\n      <td>Iulium Carnicum</td>\n      <td>1000.0</td>\n      <td>identification inscription</td>\n      <td>0.666667</td>\n    </tr>\n    <tr>\n      <th>445460</th>\n      <td>445461</td>\n      <td>EDCS-10700073</td>\n      <td>None</td>\n      <td>None</td>\n      <td>None</td>\n      <td>None</td>\n      <td>]RIC[</td>\n      <td>RIC</td>\n      <td>None</td>\n      <td>RIC</td>\n      <td>RIC</td>\n      <td>None</td>\n      <td>Venetia et Histria / Regio X</td>\n      <td>Zuglio / Iulium Carnicum</td>\n      <td>None</td>\n      <td>None</td>\n      <td>None</td>\n      <td>None</td>\n      <td>http://db.edcs.eu/epigr/partner.php?s_language...</td>\n      <td>None</td>\n      <td>None</td>\n      <td>None</td>\n      <td>None</td>\n      <td>NaN</td>\n      <td>None</td>\n      <td>None</td>\n      <td>None</td>\n      <td>None</td>\n      <td>None</td>\n      <td>None</td>\n      <td>[]</td>\n      <td>None</td>\n      <td>False</td>\n      <td>NaN</td>\n      <td>NaN</td>\n      <td>NaN</td>\n      <td>None</td>\n      <td>None</td>\n      <td>False</td>\n      <td>None</td>\n      <td>False</td>\n      <td>None</td>\n      <td>False</td>\n      <td>None</td>\n      <td>False</td>\n      <td>None</td>\n      <td>False</td>\n      <td>None</td>\n      <td>False</td>\n      <td>None</td>\n      <td>False</td>\n      <td>None</td>\n      <td>1 to 200</td>\n      <td>200.0</td>\n      <td>1.0</td>\n      <td>13.026040</td>\n      <td>46.461796</td>\n      <td>True</td>\n      <td>POINT (13.02604 46.46180)</td>\n      <td>True</td>\n      <td>small</td>\n      <td>Iulium Carnicum</td>\n      <td>1000.0</td>\n      <td>identification inscription</td>\n      <td>0.666667</td>\n    </tr>\n    <tr>\n      <th>445461</th>\n      <td>445462</td>\n      <td>EDCS-10700074</td>\n      <td>None</td>\n      <td>None</td>\n      <td>None</td>\n      <td>None</td>\n      <td>[3]ius C(ai) [3] / [3]s L[</td>\n      <td>ius C s L</td>\n      <td>None</td>\n      <td>ius Cai s L</td>\n      <td>ius Cai s L</td>\n      <td>None</td>\n      <td>Venetia et Histria / Regio X</td>\n      <td>Zuglio / Iulium Carnicum</td>\n      <td>None</td>\n      <td>None</td>\n      <td>None</td>\n      <td>None</td>\n      <td>http://db.edcs.eu/epigr/partner.php?s_language...</td>\n      <td>None</td>\n      <td>None</td>\n      <td>None</td>\n      <td>None</td>\n      <td>NaN</td>\n      <td>None</td>\n      <td>None</td>\n      <td>None</td>\n      <td>None</td>\n      <td>None</td>\n      <td>None</td>\n      <td>[]</td>\n      <td>None</td>\n      <td>False</td>\n      <td>NaN</td>\n      <td>NaN</td>\n      <td>NaN</td>\n      <td>None</td>\n      <td>None</td>\n      <td>False</td>\n      <td>None</td>\n      <td>False</td>\n      <td>None</td>\n      <td>False</td>\n      <td>None</td>\n      <td>False</td>\n      <td>None</td>\n      <td>False</td>\n      <td>None</td>\n      <td>False</td>\n      <td>None</td>\n      <td>False</td>\n      <td>None</td>\n      <td>-25 to 25</td>\n      <td>25.0</td>\n      <td>-25.0</td>\n      <td>13.026040</td>\n      <td>46.461796</td>\n      <td>True</td>\n      <td>POINT (13.02604 46.46180)</td>\n      <td>True</td>\n      <td>small</td>\n      <td>Iulium Carnicum</td>\n      <td>1000.0</td>\n      <td>identification inscription</td>\n      <td>0.666667</td>\n    </tr>\n    <tr>\n      <th>445462</th>\n      <td>445463</td>\n      <td>EDCS-10700076</td>\n      <td>None</td>\n      <td>None</td>\n      <td>None</td>\n      <td>None</td>\n      <td>Vigilius et Dom(i)/nica cum suis / f(ecerunt) ...</td>\n      <td>Vigilius et Domnica cum suis f CC Profuturus e...</td>\n      <td>None</td>\n      <td>Vigilius et Dominica cum suis fecerunt pedes C...</td>\n      <td>Vigilius et Dominica cum suis fecerunt pedes C...</td>\n      <td>None</td>\n      <td>Venetia et Histria / Regio X</td>\n      <td>Zuglio / Iulium Carnicum</td>\n      <td>inscriptiones christianae, tituli operum</td>\n      <td>mulieres, nomen singulare, viri</td>\n      <td>None</td>\n      <td>inscriptiones christianae;  mulieres;  nomen s...</td>\n      <td>http://db.edcs.eu/epigr/partner.php?s_language...</td>\n      <td>None</td>\n      <td>None</td>\n      <td>None</td>\n      <td>None</td>\n      <td>NaN</td>\n      <td>None</td>\n      <td>None</td>\n      <td>None</td>\n      <td>None</td>\n      <td>None</td>\n      <td>None</td>\n      <td>[]</td>\n      <td>None</td>\n      <td>False</td>\n      <td>NaN</td>\n      <td>NaN</td>\n      <td>NaN</td>\n      <td>None</td>\n      <td>None</td>\n      <td>False</td>\n      <td>None</td>\n      <td>False</td>\n      <td>None</td>\n      <td>False</td>\n      <td>None</td>\n      <td>False</td>\n      <td>None</td>\n      <td>False</td>\n      <td>None</td>\n      <td>False</td>\n      <td>None</td>\n      <td>False</td>\n      <td>None</td>\n      <td>351 to 425</td>\n      <td>425.0</td>\n      <td>351.0</td>\n      <td>13.026040</td>\n      <td>46.461796</td>\n      <td>True</td>\n      <td>POINT (13.02604 46.46180)</td>\n      <td>True</td>\n      <td>small</td>\n      <td>Iulium Carnicum</td>\n      <td>1000.0</td>\n      <td>None</td>\n      <td>0.000000</td>\n    </tr>\n  </tbody>\n</table>\n<p>525870 rows × 65 columns</p>\n</div>"
     },
     "execution_count": 59,
     "metadata": {},
     "output_type": "execute_result"
    }
   ],
   "source": [
    "# let's correct crs\n",
    "LIST.set_crs(4326, allow_override=True, inplace=True)"
   ],
   "metadata": {
    "collapsed": false,
    "ExecuteTime": {
     "end_time": "2024-01-09T10:04:25.436126Z",
     "start_time": "2024-01-09T10:04:25.371773Z"
    }
   }
  },
  {
   "cell_type": "markdown",
   "source": [
    "# Save the data"
   ],
   "metadata": {
    "collapsed": false
   }
  },
  {
   "cell_type": "code",
   "execution_count": 60,
   "outputs": [],
   "source": [
    "LIST[\"people\"] = LIST[\"people\"].apply(lambda x: str(x))"
   ],
   "metadata": {
    "collapsed": false,
    "ExecuteTime": {
     "end_time": "2024-01-09T10:04:42.564473Z",
     "start_time": "2024-01-09T10:04:42.336872Z"
    }
   }
  },
  {
   "cell_type": "code",
   "execution_count": null,
   "outputs": [],
   "source": [
    "LIST.to_parquet(\"../data/large_data/LIST_v1-2.parquet\")"
   ],
   "metadata": {
    "collapsed": false,
    "is_executing": true
   }
  },
  {
   "cell_type": "code",
   "execution_count": null,
   "outputs": [],
   "source": [
    "LIST.to_file(\"../data/large_data/LIST_v1-2.geojson\", driver=\"GeoJSON\")"
   ],
   "metadata": {
    "collapsed": false,
    "is_executing": true,
    "ExecuteTime": {
     "start_time": "2024-01-09T10:04:51.633830Z"
    }
   }
  },
  {
   "cell_type": "code",
   "execution_count": null,
   "outputs": [],
   "source": [],
   "metadata": {
    "collapsed": false
   }
  }
 ],
 "metadata": {
  "kernelspec": {
   "name": "python3",
   "language": "python",
   "display_name": "Python 3 (ipykernel)"
  },
  "language_info": {
   "codemirror_mode": {
    "name": "ipython",
    "version": 2
   },
   "file_extension": ".py",
   "mimetype": "text/x-python",
   "name": "python",
   "nbconvert_exporter": "python",
   "pygments_lexer": "ipython2",
   "version": "2.7.6"
  }
 },
 "nbformat": 4,
 "nbformat_minor": 0
}
