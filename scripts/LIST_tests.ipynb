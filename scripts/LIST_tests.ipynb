{
 "cells": [
  {
   "cell_type": "code",
   "execution_count": 38,
   "metadata": {
    "collapsed": true
   },
   "outputs": [],
   "source": [
    "import sddk\n",
    "import pandas as pd\n",
    "import geopandas as gpd\n",
    "import requests\n",
    "import io\n",
    "import json\n",
    "import shapely"
   ]
  },
  {
   "cell_type": "code",
   "execution_count": 21,
   "outputs": [
    {
     "name": "stdout",
     "output_type": "stream",
     "text": [
      "connection with shared folder established with you as its owner\n",
      "endpoint variable has been configured to: https://sciencedata.dk/files/SDAM_root/SDAM_data/LI/public/\n"
     ]
    }
   ],
   "source": [
    "s = sddk.cloudSession(provider=\"sciencedata.dk\", shared_folder_name=\"SDAM_root, owner=\"648597@au.dk\")"
   ],
   "metadata": {
    "collapsed": false
   }
  },
  {
   "cell_type": "code",
   "execution_count": 5,
   "outputs": [],
   "source": [
    "# read local version\n",
    "LIST = gpd.read_feather(\"../data/large_data/LIST_merged.feather\")"
   ],
   "metadata": {
    "collapsed": false
   }
  }
 ],
 "metadata": {
  "kernelspec": {
   "name": "lire_venv",
   "language": "python",
   "display_name": "lire_venv"
  },
  "language_info": {
   "codemirror_mode": {
    "name": "ipython",
    "version": 2
   },
   "file_extension": ".py",
   "mimetype": "text/x-python",
   "name": "python",
   "nbconvert_exporter": "python",
   "pygments_lexer": "ipython2",
   "version": "2.7.6"
  }
 },
 "nbformat": 4,
 "nbformat_minor": 0
}
