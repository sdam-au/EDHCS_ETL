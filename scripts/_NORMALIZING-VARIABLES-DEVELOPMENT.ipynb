{
 "cells": [
  {
   "cell_type": "code",
   "execution_count": 54,
   "outputs": [],
   "source": [
    "import geopandas as gpd\n",
    "import pandas as pd"
   ],
   "metadata": {
    "collapsed": false,
    "ExecuteTime": {
     "end_time": "2023-05-29T15:01:39.296936Z",
     "start_time": "2023-05-29T15:01:39.294775Z"
    }
   }
  },
  {
   "cell_type": "code",
   "execution_count": 35,
   "metadata": {
    "collapsed": true,
    "ExecuteTime": {
     "end_time": "2023-05-29T14:43:07.972521Z",
     "start_time": "2023-05-29T14:43:06.648896Z"
    }
   },
   "outputs": [],
   "source": [
    "LIST = gpd.read_parquet(\"../data/large_data/LIST_v0-4.parquet\")"
   ]
  },
  {
   "cell_type": "code",
   "execution_count": 3,
   "outputs": [
    {
     "data": {
      "text/plain": "Index(['LIST-ID', 'EDCS-ID', 'EDH-ID', 'trismegistos_uri', 'pleiades_id',\n       'transcription', 'inscription', 'clean_text_conservative',\n       'clean_text_interpretive_sentence', 'clean_text_interpretive_word',\n       'clean_text_interpretive_word_EDCS', 'diplomatic_text', 'province',\n       'place', 'inscr_type', 'status_notation', 'inscr_process', 'status',\n       'partner_link', 'last_update', 'letter_size', 'type_of_inscription',\n       'work_status', 'year_of_find', 'present_location', 'text_edition',\n       'support_objecttype', 'support_material', 'support_decoration',\n       'keywords_term', 'people', 'type_of_inscription_clean',\n       'type_of_inscription_certainty', 'height_cm', 'width_cm', 'depth_cm',\n       'material_clean', 'type_of_monument_clean',\n       'type_of_monument_certainty', 'province_label_clean',\n       'province_label_certainty', 'country_clean', 'country_certainty',\n       'findspot_ancient_clean', 'findspot_ancient_certainty',\n       'modern_region_clean', 'modern_region_certainty',\n       'findspot_modern_clean', 'findspot_modern_certainty', 'findspot_clean',\n       'findspot_certainty', 'language', 'language_EDCS', 'raw_dating',\n       'not_after', 'not_before', 'Longitude', 'Latitude', 'geotemporal?',\n       'geometry', 'withinRE?', 'urban_context', 'urban_context_city',\n       'urban_context_pop_est', 'type_of_inscription_auto',\n       'type_of_inscription_auto_prob'],\n      dtype='object')"
     },
     "execution_count": 3,
     "metadata": {},
     "output_type": "execute_result"
    }
   ],
   "source": [
    "LIST.columns"
   ],
   "metadata": {
    "collapsed": false,
    "ExecuteTime": {
     "end_time": "2023-05-29T14:09:19.918015Z",
     "start_time": "2023-05-29T14:09:19.910287Z"
    }
   }
  },
  {
   "cell_type": "code",
   "execution_count": 19,
   "outputs": [
    {
     "name": "stdout",
     "output_type": "stream",
     "text": [
      "LIST-ID {<class 'int'>}\n",
      "EDCS-ID {<class 'NoneType'>, <class 'str'>}\n",
      "EDH-ID {<class 'NoneType'>, <class 'str'>}\n",
      "trismegistos_uri {<class 'NoneType'>, <class 'str'>}\n",
      "pleiades_id {<class 'NoneType'>, <class 'str'>}\n",
      "transcription {<class 'NoneType'>, <class 'str'>}\n",
      "inscription {<class 'NoneType'>, <class 'str'>}\n",
      "clean_text_conservative {<class 'NoneType'>, <class 'str'>}\n",
      "clean_text_interpretive_sentence {<class 'NoneType'>, <class 'str'>}\n",
      "clean_text_interpretive_word {<class 'NoneType'>, <class 'str'>}\n",
      "clean_text_interpretive_word_EDCS {<class 'NoneType'>, <class 'str'>}\n",
      "diplomatic_text {<class 'NoneType'>, <class 'str'>}\n",
      "province {<class 'NoneType'>, <class 'str'>}\n",
      "place {<class 'NoneType'>, <class 'str'>}\n",
      "inscr_type {<class 'NoneType'>, <class 'str'>}\n",
      "status_notation {<class 'NoneType'>, <class 'str'>}\n",
      "inscr_process {<class 'NoneType'>, <class 'str'>}\n",
      "status {<class 'NoneType'>, <class 'str'>}\n",
      "partner_link {<class 'NoneType'>, <class 'str'>}\n",
      "last_update {<class 'NoneType'>, <class 'str'>}\n",
      "letter_size {<class 'NoneType'>, <class 'str'>}\n",
      "type_of_inscription {<class 'NoneType'>, <class 'str'>}\n",
      "work_status {<class 'NoneType'>, <class 'str'>}\n",
      "year_of_find {<class 'float'>}\n",
      "present_location {<class 'NoneType'>, <class 'str'>}\n",
      "text_edition {<class 'NoneType'>, <class 'str'>}\n",
      "support_objecttype {<class 'NoneType'>, <class 'str'>}\n",
      "support_material {<class 'NoneType'>, <class 'str'>}\n",
      "support_decoration {<class 'NoneType'>, <class 'str'>}\n",
      "keywords_term {<class 'NoneType'>, <class 'str'>}\n",
      "people {<class 'list'>}\n",
      "type_of_inscription_clean {<class 'NoneType'>, <class 'str'>}\n",
      "type_of_inscription_certainty {<class 'bool'>}\n",
      "height_cm {<class 'float'>}\n",
      "width_cm {<class 'float'>}\n",
      "depth_cm {<class 'float'>}\n",
      "material_clean {<class 'NoneType'>, <class 'str'>}\n",
      "type_of_monument_clean {<class 'NoneType'>, <class 'str'>}\n",
      "type_of_monument_certainty {<class 'bool'>}\n",
      "province_label_clean {<class 'NoneType'>, <class 'str'>}\n",
      "province_label_certainty {<class 'bool'>}\n",
      "country_clean {<class 'NoneType'>, <class 'str'>}\n",
      "country_certainty {<class 'bool'>}\n",
      "findspot_ancient_clean {<class 'NoneType'>, <class 'str'>}\n",
      "findspot_ancient_certainty {<class 'bool'>}\n",
      "modern_region_clean {<class 'NoneType'>, <class 'str'>}\n",
      "modern_region_certainty {<class 'bool'>}\n",
      "findspot_modern_clean {<class 'NoneType'>, <class 'str'>}\n",
      "findspot_modern_certainty {<class 'bool'>}\n",
      "findspot_clean {<class 'NoneType'>, <class 'str'>}\n",
      "findspot_certainty {<class 'bool'>}\n",
      "language {<class 'str'>}\n",
      "language_EDCS {<class 'NoneType'>, <class 'str'>}\n",
      "raw_dating {<class 'NoneType'>, <class 'str'>}\n",
      "not_after {<class 'float'>}\n",
      "not_before {<class 'float'>}\n",
      "Longitude {<class 'float'>}\n",
      "Latitude {<class 'float'>}\n",
      "geotemporal? {<class 'bool'>}\n",
      "geometry {<class 'NoneType'>, <class 'shapely.geometry.point.Point'>}\n",
      "withinRE? {<class 'bool'>}\n",
      "urban_context {<class 'NoneType'>, <class 'str'>}\n",
      "urban_context_city {<class 'NoneType'>, <class 'str'>}\n",
      "urban_context_pop_est {<class 'float'>}\n",
      "type_of_inscription_auto {<class 'NoneType'>, <class 'str'>}\n",
      "type_of_inscription_auto_prob {<class 'float'>}\n"
     ]
    }
   ],
   "source": [
    "for col in LIST.columns:\n",
    "    print(col, set([type(el) for el in LIST[col]]))"
   ],
   "metadata": {
    "collapsed": false,
    "ExecuteTime": {
     "end_time": "2023-05-29T14:21:57.017467Z",
     "start_time": "2023-05-29T14:21:51.498715Z"
    }
   }
  },
  {
   "cell_type": "code",
   "execution_count": 20,
   "outputs": [
    {
     "data": {
      "text/plain": "[[],\n [{'persname': {'name': [{'@type': 'nomen', '#text': 'Galerius* Valerius*'},\n     {'@type': 'cognomen', '#text': 'Maximianus++'}]},\n   '@sex': 'M',\n   '@{http://www.w3.org/XML/1998/namespace}id': 'HD052964_1'},\n  {'persname': {'name': [{'@type': 'nomen', '#text': 'Coranius'},\n     {'@type': 'cognomen', '#text': 'Titianus'}]},\n   '@sex': 'M',\n   '@{http://www.w3.org/XML/1998/namespace}id': 'HD052964_2'}],\n [],\n [{'persname': {'name': [{'@type': 'praenomen', '#text': 'M.+'},\n     {'@type': 'nomen', '#text': 'Annius+'},\n     {'@type': 'cognomen', '#text': 'Florianus'}],\n    '@ref': 'https://www.wikidata.org/wiki/Q199946'},\n   '@sex': 'M',\n   '@{http://www.w3.org/XML/1998/namespace}id': 'HD051000_1'},\n  {'persname': {'name': [{'@type': 'praenomen', '#text': 'M.'},\n     {'@type': 'nomen', '#text': 'Aurelius*'},\n     {'@type': 'cognomen', '#text': 'Probus'}],\n    '@ref': 'https://www.wikidata.org/wiki/Q187068'},\n   '@sex': 'M',\n   '@{http://www.w3.org/XML/1998/namespace}id': 'HD051000_2'}],\n [],\n [],\n [{'persname': {'name': [{'@type': 'praenomen', '#text': 'L.'},\n     {'@type': 'nomen', '#text': 'Septimius'},\n     {'@type': 'cognomen', '#text': 'Severus'}],\n    '@ref': 'https://www.wikidata.org/wiki/Q1442'},\n   '@sex': 'M',\n   '@{http://www.w3.org/XML/1998/namespace}id': 'HD011892_1'},\n  {'persname': {'name': [{'@type': 'praenomen', '#text': 'M.'},\n     {'@type': 'nomen', '#text': 'Aurelius*'},\n     {'@type': 'cognomen', '#text': 'Antoninus'}],\n    '@ref': 'https://www.wikidata.org/wiki/Q1446'},\n   '@sex': 'M',\n   '@{http://www.w3.org/XML/1998/namespace}id': 'HD011892_2'},\n  {'persname': {'name': [{'@type': 'praenomen', '#text': 'P.'},\n     {'@type': 'nomen', '#text': 'Septimius'},\n     {'@type': 'cognomen', '#text': 'Geta'}],\n    '@ref': 'https://www.wikidata.org/wiki/Q183089'},\n   '@sex': 'M',\n   '@{http://www.w3.org/XML/1998/namespace}id': 'HD011892_3'},\n  {'persname': {'name': [{'@type': 'praenomen', '#text': 'M.'},\n     {'@type': 'nomen', '#text': 'Aurelius*'},\n     {'@type': 'cognomen', '#text': 'Rufinus'}]},\n   '@sex': 'M',\n   '@{http://www.w3.org/XML/1998/namespace}id': 'HD011892_4'},\n  {'persname': {'name': [{'@type': 'nomen', '#text': 'Flavius*'},\n     {'@type': 'cognomen', '#text': 'Clarinus'}]},\n   '@sex': 'M',\n   '@{http://www.w3.org/XML/1998/namespace}id': 'HD011892_5'},\n  {'persname': {'name': [{'@type': 'nomen', '#text': 'Aelius*'},\n     {'@type': 'cognomen', '#text': 'Messius'}]},\n   '@sex': 'M',\n   '@{http://www.w3.org/XML/1998/namespace}id': 'HD011892_6'},\n  {'persname': {'name': [{'@type': 'nomen', '#text': 'Aurelius*'},\n     {'@type': 'cognomen', '#text': 'Iulianus'}]},\n   '@sex': 'M',\n   '@{http://www.w3.org/XML/1998/namespace}id': 'HD011892_7'}],\n [],\n [],\n [],\n [{'persname': {'name': [{'@type': 'praenomen', '#text': 'A.'},\n     {'@type': 'nomen', '#text': 'Didius'},\n     {'@type': 'cognomen', '#text': 'Gallus+'}]},\n   '@sex': 'M',\n   '@{http://www.w3.org/XML/1998/namespace}id': 'HD011889_1'},\n  {'persname': {'name': [{'@type': 'praenomen', '#text': 'T.+'},\n     {'@type': 'nomen', '#text': 'Claudius Caesar+'},\n     {'@type': 'cognomen', '#text': 'Augustus* Germanicus+'}]},\n   '@sex': 'M',\n   '@{http://www.w3.org/XML/1998/namespace}id': 'HD011889_2'}],\n [],\n [],\n [],\n [],\n [],\n [],\n [],\n [],\n [],\n [],\n [],\n [],\n [],\n [],\n [],\n [],\n [{'persname': {'name': [{'@type': 'praenomen', '#text': 'C.'},\n     {'@type': 'nomen', '#text': 'Iulius'},\n     {'@type': 'cognomen', '#text': 'Capito*'}]},\n   '@sex': 'M',\n   '@{http://www.w3.org/XML/1998/namespace}id': 'HD057920_1'},\n  {'persname': {'name': [{'@type': 'praenomen', '#text': 'C.'},\n     {'@type': 'nomen', '#text': 'Iulius'},\n     {'@type': 'cognomen', '#text': 'Maximus+'}]},\n   '@sex': 'M',\n   '@{http://www.w3.org/XML/1998/namespace}id': 'HD057920_2'}],\n [{'persname': {'name': [{'@type': 'praenomen', '#text': 'L.+'},\n     {'@type': 'nomen', '#text': 'Naevius+'},\n     {'@type': 'cognomen', '#text': 'Callistus+'}]},\n   '@sex': 'M',\n   '@{http://www.w3.org/XML/1998/namespace}id': 'HD057962_1'},\n  {'persname': {'name': {'@type': 'cognomen', '#text': 'Veneria'}},\n   '@sex': 'W',\n   '@{http://www.w3.org/XML/1998/namespace}id': 'HD057962_2'},\n  {'persname': {'name': [{'@type': 'praenomen', '#text': 'L.+'},\n     {'@type': 'nomen', '#text': 'Aelius+'},\n     {'@type': 'cognomen', '#text': 'Camus'}]},\n   '@sex': 'M',\n   '@{http://www.w3.org/XML/1998/namespace}id': 'HD057962_3'}],\n [],\n [{'persname': {'name': [{'@type': 'nomen', '#text': 'Fuficulena'},\n     {'@type': 'cognomen', '#text': 'Veneria'}]},\n   '@sex': 'W',\n   '@{http://www.w3.org/XML/1998/namespace}id': 'HD057973_1'},\n  {'persname': {'name': [{'@type': 'nomen', '#text': 'Naevius'},\n     {'@type': 'cognomen', '#text': 'Callistus'}]},\n   '@sex': 'M',\n   '@{http://www.w3.org/XML/1998/namespace}id': 'HD057973_2'}],\n [{'persname': {'name': [{'@type': 'praenomen', '#text': 'L.+'},\n     {'@type': 'nomen', '#text': 'Aelius+'},\n     {'@type': 'cognomen', '#text': 'Camus'}]},\n   '@sex': 'M',\n   '@{http://www.w3.org/XML/1998/namespace}id': 'HD057974_1'},\n  {'persname': {'name': [{'@type': 'nomen', '#text': 'Naevius+'},\n     {'@type': 'cognomen', '#text': 'Callistus'}]},\n   '@sex': 'M',\n   '@{http://www.w3.org/XML/1998/namespace}id': 'HD057974_2'}],\n [],\n [],\n [],\n [],\n [],\n [],\n [],\n [],\n [],\n [],\n [],\n [],\n [],\n [],\n [{'persname': {'name': {'@type': 'cognomen', '#text': 'Sabinus'}},\n   '@sex': 'M',\n   '@{http://www.w3.org/XML/1998/namespace}id': 'HD050398_1'},\n  {'persname': {'name': {'@type': 'nomen', '#text': 'Popillius'}},\n   '@sex': 'M',\n   '@{http://www.w3.org/XML/1998/namespace}id': 'HD050398_2'}],\n [],\n [],\n [],\n [],\n [{'persname': {'name': [{'@type': 'nomen', '#text': 'Iulius* Menenius+'},\n     {'@type': 'cognomen', '#text': 'Victor+'}]},\n   '@sex': 'M',\n   '@{http://www.w3.org/XML/1998/namespace}id': 'HD056354_1'},\n  {'persname': {'name': [{'@type': 'nomen', '#text': 'Cornelius+'},\n     {'@type': 'cognomen', '#text': 'Dexter*'}]},\n   '@sex': 'M',\n   '@{http://www.w3.org/XML/1998/namespace}id': 'HD056354_2'}],\n [],\n [{'persname': {'name': [{'@type': 'praenomen', '#text': 'Q.'},\n     {'@type': 'nomen', '#text': 'Turranius'},\n     {'@type': 'cognomen', '#text': 'Maximus'}]},\n   '@sex': 'M',\n   '@{http://www.w3.org/XML/1998/namespace}id': 'HD056356_1'},\n  {'persname': {'name': {'@type': 'cognomen', '#text': 'Sagaris'}},\n   '@sex': 'M',\n   '@{http://www.w3.org/XML/1998/namespace}id': 'HD056356_2'},\n  {'persname': {'name': {'@type': 'cognomen', '#text': 'Alcimus'}},\n   '@sex': 'M',\n   '@{http://www.w3.org/XML/1998/namespace}id': 'HD056356_3'}],\n [],\n [],\n [{'persname': {'name': [{'@type': 'praenomen', '#text': 'Sex.'},\n     {'@type': 'nomen', '#text': 'Valerius*'},\n     {'@type': 'cognomen', '#text': 'Pudens*'}]},\n   '@sex': 'M',\n   '@{http://www.w3.org/XML/1998/namespace}id': 'HD056359_1'},\n  {'persname': {'name': [{'@type': 'nomen', '#text': 'Iulius*'},\n     {'@type': 'cognomen', '#text': 'Apollinaris*'}]},\n   '@sex': 'M',\n   '@{http://www.w3.org/XML/1998/namespace}id': 'HD056359_2'}],\n [{'persname': {'name': [{'@type': 'praenomen', '#text': 'M.'},\n     {'@type': 'nomen', '#text': 'Acilius'},\n     {'@type': 'cognomen', '#text': 'Pottinus'}]},\n   '@sex': 'M',\n   '@{http://www.w3.org/XML/1998/namespace}id': 'HD056360_1'},\n  {'persname': {'name': [{'@type': 'praenomen', '#text': 'M.'},\n     {'@type': 'nomen', '#text': 'Acilius'},\n     {'@type': 'cognomen', '#text': 'Achillaeus'}]},\n   '@sex': 'M',\n   '@{http://www.w3.org/XML/1998/namespace}id': 'HD056360_2'}],\n [],\n [],\n [],\n [{'persname': {'name': [{'@type': 'praenomen', '#text': 'C.'},\n     {'@type': 'nomen', '#text': 'Valerius*'},\n     {'@type': 'cognomen', '#text': 'Diocletianus'}],\n    '@ref': 'https://www.wikidata.org/wiki/Q43107'},\n   '@sex': 'M',\n   '@{http://www.w3.org/XML/1998/namespace}id': 'HD055655_1'},\n  {'persname': {'name': [{'@type': 'praenomen', '#text': 'L.'},\n     {'@type': 'nomen', '#text': 'Turranius*'},\n     {'@type': 'cognomen', '#text': 'Gratianus'}]},\n   '@sex': 'M',\n   '@{http://www.w3.org/XML/1998/namespace}id': 'HD055655_2'}],\n [],\n [{'persname': {'name': [{'@type': 'nomen', '#text': 'Afranius+?'},\n     {'@type': 'cognomen', '#text': '[---]'}]},\n   '@sex': 'M',\n   '@{http://www.w3.org/XML/1998/namespace}id': 'HD002928_1'},\n  {'persname': {'name': [{'@type': 'nomen', '#text': '[---]ius'},\n     {'@type': 'cognomen', '#text': 'Gratianus+?'}]},\n   '@sex': 'M',\n   '@{http://www.w3.org/XML/1998/namespace}id': 'HD002928_2'}],\n [],\n [{'persname': {'name': {'@type': 'cognomen', '#text': 'Onesimus'}},\n   '@sex': 'M',\n   '@{http://www.w3.org/XML/1998/namespace}id': 'HD055658_1'},\n  {'persname': {'name': [{'@type': 'nomen', '#text': 'Ulpia'},\n     {'@type': 'cognomen', '#text': 'Arsinoe'}]},\n   '@sex': 'W',\n   '@{http://www.w3.org/XML/1998/namespace}id': 'HD055658_2'}],\n [],\n [{'persname': {'name': [{'@type': 'praenomen', '#text': 'M.'},\n     {'@type': 'nomen', '#text': 'Iulius'},\n     {'@type': 'cognomen', '#text': 'Sabinianus'}]},\n   '@sex': 'M',\n   '@{http://www.w3.org/XML/1998/namespace}id': 'HD048601_1'},\n  {'persname': {'name': [{'@type': 'nomen', '#text': 'Antonius'},\n     {'@type': 'cognomen', '#text': 'Priscus'}]},\n   '@sex': 'M',\n   '@{http://www.w3.org/XML/1998/namespace}id': 'HD048601_2'}],\n [],\n [],\n [],\n [],\n [],\n [],\n [],\n [{'persname': {'name': [{'@type': 'praenomen', '#text': 'N.'},\n     {'@type': 'nomen', '#text': 'Granonius'}]},\n   '@sex': 'M',\n   '@{http://www.w3.org/XML/1998/namespace}id': 'HD064259_1'},\n  {'persname': {'name': [{'@type': 'nomen', '#text': 'Cornelius'},\n     {'@type': 'cognomen', '#text': 'Spinter+'}]},\n   '@sex': 'M',\n   '@{http://www.w3.org/XML/1998/namespace}id': 'HD064259_2'},\n  {'persname': {'name': [{'@type': 'praenomen', '#text': 'Cn.'},\n     {'@type': 'nomen', '#text': 'Pompeius'}]},\n   '@{http://www.w3.org/XML/1998/namespace}id': 'HD064259_3'}],\n [],\n [],\n [],\n [{'persname': {'name': {'@type': 'cognomen', '#text': 'Valens Iangali'}},\n   '@sex': 'M',\n   '@{http://www.w3.org/XML/1998/namespace}id': 'HD063736_1'},\n  {'persname': {'name': [{'@type': 'nomen', '#text': 'Flavius*'},\n     {'@type': 'cognomen', '#text': 'Ianuarius'}]},\n   '@sex': 'M',\n   '@{http://www.w3.org/XML/1998/namespace}id': 'HD063736_2'}],\n [{'persname': {'name': [{'@type': 'praenomen', '#text': 'M.'},\n     {'@type': 'nomen', '#text': 'Valerius*'},\n     {'@type': 'cognomen', '#text': 'Capito'}]},\n   '@sex': 'M',\n   '@{http://www.w3.org/XML/1998/namespace}id': 'HD063737_1'},\n  {'persname': {'name': {'@type': 'cognomen', '#text': 'Aelianus'}},\n   '@sex': 'M',\n   '@{http://www.w3.org/XML/1998/namespace}id': 'HD063737_2'}],\n [],\n [],\n [],\n [{'persname': {'name': {'@type': 'cognomen', '#text': 'Vera'}},\n   '@sex': 'W',\n   '@{http://www.w3.org/XML/1998/namespace}id': 'HD063744_1'},\n  {'persname': {'name': {'@type': 'cognomen', '#text': 'Tumianus'}},\n   '@sex': 'M',\n   '@{http://www.w3.org/XML/1998/namespace}id': 'HD063744_2'}],\n [{'persname': {'name': [{'@type': 'nomen', '#text': 'Aurelius'},\n     {'@type': 'cognomen', '#text': 'Athenio'}]},\n   '@sex': 'M',\n   '@{http://www.w3.org/XML/1998/namespace}id': 'HD064201_1'},\n  {'persname': {'name': [{'@type': 'nomen', '#text': 'Cassius'},\n     {'@type': 'cognomen', '#text': 'Firminus'}]},\n   '@sex': 'M',\n   '@{http://www.w3.org/XML/1998/namespace}id': 'HD064201_2'}],\n [],\n [],\n [],\n [],\n [],\n [],\n [],\n [],\n [],\n [],\n [],\n [],\n [],\n []]"
     },
     "execution_count": 20,
     "metadata": {},
     "output_type": "execute_result"
    }
   ],
   "source": [
    "LIST[LIST[\"EDH-ID\"].notnull()][\"people\"].tolist()[:100]"
   ],
   "metadata": {
    "collapsed": false,
    "ExecuteTime": {
     "end_time": "2023-05-29T14:25:12.870130Z",
     "start_time": "2023-05-29T14:25:12.821348Z"
    }
   }
  },
  {
   "cell_type": "code",
   "execution_count": 11,
   "outputs": [
    {
     "data": {
      "text/plain": "[{'persname': {'name': [{'@type': 'praenomen', '#text': 'C.'},\n    {'@type': 'nomen', '#text': 'Iulius'},\n    {'@type': 'cognomen', '#text': 'Capito*'}]},\n  '@sex': 'M',\n  '@{http://www.w3.org/XML/1998/namespace}id': 'HD057920_1'},\n {'persname': {'name': [{'@type': 'praenomen', '#text': 'C.'},\n    {'@type': 'nomen', '#text': 'Iulius'},\n    {'@type': 'cognomen', '#text': 'Maximus+'}]},\n  '@sex': 'M',\n  '@{http://www.w3.org/XML/1998/namespace}id': 'HD057920_2'}]"
     },
     "execution_count": 11,
     "metadata": {},
     "output_type": "execute_result"
    }
   ],
   "source": [
    "eval(\"[{'persname': {'name': [{'@type': 'praenomen', '#text': 'C.'}, {'@type': 'nomen', '#text': 'Iulius'}, {'@type': 'cognomen', '#text': 'Capito*'}]}, '@sex': 'M', '@{http://www.w3.org/XML/1998/namespace}id': 'HD057920_1'}, {'persname': {'name': [{'@type': 'praenomen', '#text': 'C.'}, {'@type': 'nomen', '#text': 'Iulius'}, {'@type': 'cognomen', '#text': 'Maximus+'}]}, '@sex': 'M', '@{http://www.w3.org/XML/1998/namespace}id': 'HD057920_2'}]\")"
   ],
   "metadata": {
    "collapsed": false,
    "ExecuteTime": {
     "end_time": "2023-05-29T14:14:15.545830Z",
     "start_time": "2023-05-29T14:14:15.538769Z"
    }
   }
  },
  {
   "cell_type": "code",
   "execution_count": 13,
   "outputs": [
    {
     "data": {
      "text/plain": "[]"
     },
     "execution_count": 13,
     "metadata": {},
     "output_type": "execute_result"
    }
   ],
   "source": [
    "eval('[]')"
   ],
   "metadata": {
    "collapsed": false,
    "ExecuteTime": {
     "end_time": "2023-05-29T14:14:47.393461Z",
     "start_time": "2023-05-29T14:14:47.388089Z"
    }
   }
  },
  {
   "cell_type": "code",
   "execution_count": 36,
   "outputs": [],
   "source": [
    "LIST[\"people\"] = LIST[\"people\"].apply(eval)"
   ],
   "metadata": {
    "collapsed": false,
    "ExecuteTime": {
     "end_time": "2023-05-29T14:43:19.617219Z",
     "start_time": "2023-05-29T14:43:16.665733Z"
    }
   }
  },
  {
   "cell_type": "code",
   "execution_count": 40,
   "outputs": [],
   "source": [
    "def empty_list_to_none(el):\n",
    "    if bool(el):\n",
    "        return list(el)\n",
    "    else:\n",
    "        return []"
   ],
   "metadata": {
    "collapsed": false,
    "ExecuteTime": {
     "end_time": "2023-05-29T14:44:57.381098Z",
     "start_time": "2023-05-29T14:44:57.372453Z"
    }
   }
  },
  {
   "cell_type": "code",
   "execution_count": 41,
   "outputs": [],
   "source": [
    "people_eval_nones = people_eval.apply(empty_list_to_none)"
   ],
   "metadata": {
    "collapsed": false,
    "ExecuteTime": {
     "end_time": "2023-05-29T14:45:00.679145Z",
     "start_time": "2023-05-29T14:45:00.058806Z"
    }
   }
  },
  {
   "cell_type": "code",
   "execution_count": 42,
   "outputs": [
    {
     "data": {
      "text/plain": "445463                                                   []\n445464    [{'persname': {'name': [{'@type': 'nomen', '#t...\n445465                                                   []\n445466    [{'persname': {'name': [{'@type': 'praenomen',...\n445467                                                   []\n                                ...                        \n445558                                                   []\n445559                                                   []\n445560                                                   []\n445561                                                   []\n445562                                                   []\nName: people, Length: 100, dtype: object"
     },
     "execution_count": 42,
     "metadata": {},
     "output_type": "execute_result"
    }
   ],
   "source": [
    "people_eval_nones[:100]"
   ],
   "metadata": {
    "collapsed": false,
    "ExecuteTime": {
     "end_time": "2023-05-29T14:45:03.878167Z",
     "start_time": "2023-05-29T14:45:03.871779Z"
    }
   }
  },
  {
   "cell_type": "code",
   "execution_count": 43,
   "outputs": [],
   "source": [
    "LIST[\"people\"] = people_eval_nones"
   ],
   "metadata": {
    "collapsed": false,
    "ExecuteTime": {
     "end_time": "2023-05-29T14:45:11.258087Z",
     "start_time": "2023-05-29T14:45:11.246436Z"
    }
   }
  },
  {
   "cell_type": "code",
   "execution_count": 44,
   "outputs": [
    {
     "ename": "ArrowInvalid",
     "evalue": "('cannot mix list and non-list, non-null values', 'Conversion failed for column people with type object')",
     "output_type": "error",
     "traceback": [
      "\u001B[0;31m---------------------------------------------------------------------------\u001B[0m",
      "\u001B[0;31mArrowInvalid\u001B[0m                              Traceback (most recent call last)",
      "Cell \u001B[0;32mIn[44], line 1\u001B[0m\n\u001B[0;32m----> 1\u001B[0m \u001B[43mLIST\u001B[49m\u001B[38;5;241;43m.\u001B[39;49m\u001B[43mto_parquet\u001B[49m\u001B[43m(\u001B[49m\u001B[38;5;124;43m\"\u001B[39;49m\u001B[38;5;124;43m../data/large_data/LIST_v0-5.parquet\u001B[39;49m\u001B[38;5;124;43m\"\u001B[39;49m\u001B[43m)\u001B[49m\n",
      "File \u001B[0;32m/opt/homebrew/Caskroom/miniconda/base/lib/python3.9/site-packages/geopandas/geodataframe.py:1101\u001B[0m, in \u001B[0;36mGeoDataFrame.to_parquet\u001B[0;34m(self, path, index, compression, schema_version, **kwargs)\u001B[0m\n\u001B[1;32m   1094\u001B[0m     \u001B[38;5;28;01mraise\u001B[39;00m \u001B[38;5;167;01mValueError\u001B[39;00m(\n\u001B[1;32m   1095\u001B[0m         \u001B[38;5;124mf\u001B[39m\u001B[38;5;124m\"\u001B[39m\u001B[38;5;124mGeoPandas only supports using pyarrow as the engine for \u001B[39m\u001B[38;5;124m\"\u001B[39m\n\u001B[1;32m   1096\u001B[0m         \u001B[38;5;124mf\u001B[39m\u001B[38;5;124m\"\u001B[39m\u001B[38;5;124mto_parquet: \u001B[39m\u001B[38;5;132;01m{\u001B[39;00mengine\u001B[38;5;132;01m!r}\u001B[39;00m\u001B[38;5;124m passed instead.\u001B[39m\u001B[38;5;124m\"\u001B[39m\n\u001B[1;32m   1097\u001B[0m     )\n\u001B[1;32m   1099\u001B[0m \u001B[38;5;28;01mfrom\u001B[39;00m \u001B[38;5;21;01mgeopandas\u001B[39;00m\u001B[38;5;21;01m.\u001B[39;00m\u001B[38;5;21;01mio\u001B[39;00m\u001B[38;5;21;01m.\u001B[39;00m\u001B[38;5;21;01marrow\u001B[39;00m \u001B[38;5;28;01mimport\u001B[39;00m _to_parquet\n\u001B[0;32m-> 1101\u001B[0m \u001B[43m_to_parquet\u001B[49m\u001B[43m(\u001B[49m\n\u001B[1;32m   1102\u001B[0m \u001B[43m    \u001B[49m\u001B[38;5;28;43mself\u001B[39;49m\u001B[43m,\u001B[49m\n\u001B[1;32m   1103\u001B[0m \u001B[43m    \u001B[49m\u001B[43mpath\u001B[49m\u001B[43m,\u001B[49m\n\u001B[1;32m   1104\u001B[0m \u001B[43m    \u001B[49m\u001B[43mcompression\u001B[49m\u001B[38;5;241;43m=\u001B[39;49m\u001B[43mcompression\u001B[49m\u001B[43m,\u001B[49m\n\u001B[1;32m   1105\u001B[0m \u001B[43m    \u001B[49m\u001B[43mindex\u001B[49m\u001B[38;5;241;43m=\u001B[39;49m\u001B[43mindex\u001B[49m\u001B[43m,\u001B[49m\n\u001B[1;32m   1106\u001B[0m \u001B[43m    \u001B[49m\u001B[43mschema_version\u001B[49m\u001B[38;5;241;43m=\u001B[39;49m\u001B[43mschema_version\u001B[49m\u001B[43m,\u001B[49m\n\u001B[1;32m   1107\u001B[0m \u001B[43m    \u001B[49m\u001B[38;5;241;43m*\u001B[39;49m\u001B[38;5;241;43m*\u001B[39;49m\u001B[43mkwargs\u001B[49m\u001B[43m,\u001B[49m\n\u001B[1;32m   1108\u001B[0m \u001B[43m\u001B[49m\u001B[43m)\u001B[49m\n",
      "File \u001B[0;32m/opt/homebrew/Caskroom/miniconda/base/lib/python3.9/site-packages/geopandas/io/arrow.py:337\u001B[0m, in \u001B[0;36m_to_parquet\u001B[0;34m(df, path, index, compression, schema_version, **kwargs)\u001B[0m\n\u001B[1;32m    334\u001B[0m         schema_version \u001B[38;5;241m=\u001B[39m kwargs\u001B[38;5;241m.\u001B[39mpop(\u001B[38;5;124m\"\u001B[39m\u001B[38;5;124mversion\u001B[39m\u001B[38;5;124m\"\u001B[39m)\n\u001B[1;32m    336\u001B[0m path \u001B[38;5;241m=\u001B[39m _expand_user(path)\n\u001B[0;32m--> 337\u001B[0m table \u001B[38;5;241m=\u001B[39m \u001B[43m_geopandas_to_arrow\u001B[49m\u001B[43m(\u001B[49m\u001B[43mdf\u001B[49m\u001B[43m,\u001B[49m\u001B[43m \u001B[49m\u001B[43mindex\u001B[49m\u001B[38;5;241;43m=\u001B[39;49m\u001B[43mindex\u001B[49m\u001B[43m,\u001B[49m\u001B[43m \u001B[49m\u001B[43mschema_version\u001B[49m\u001B[38;5;241;43m=\u001B[39;49m\u001B[43mschema_version\u001B[49m\u001B[43m)\u001B[49m\n\u001B[1;32m    338\u001B[0m parquet\u001B[38;5;241m.\u001B[39mwrite_table(table, path, compression\u001B[38;5;241m=\u001B[39mcompression, \u001B[38;5;241m*\u001B[39m\u001B[38;5;241m*\u001B[39mkwargs)\n",
      "File \u001B[0;32m/opt/homebrew/Caskroom/miniconda/base/lib/python3.9/site-packages/geopandas/io/arrow.py:278\u001B[0m, in \u001B[0;36m_geopandas_to_arrow\u001B[0;34m(df, index, schema_version)\u001B[0m\n\u001B[1;32m    275\u001B[0m             \u001B[38;5;28;01mbreak\u001B[39;00m\n\u001B[1;32m    276\u001B[0m df \u001B[38;5;241m=\u001B[39m df\u001B[38;5;241m.\u001B[39mto_wkb(\u001B[38;5;241m*\u001B[39m\u001B[38;5;241m*\u001B[39mkwargs)\n\u001B[0;32m--> 278\u001B[0m table \u001B[38;5;241m=\u001B[39m \u001B[43mTable\u001B[49m\u001B[38;5;241;43m.\u001B[39;49m\u001B[43mfrom_pandas\u001B[49m\u001B[43m(\u001B[49m\u001B[43mdf\u001B[49m\u001B[43m,\u001B[49m\u001B[43m \u001B[49m\u001B[43mpreserve_index\u001B[49m\u001B[38;5;241;43m=\u001B[39;49m\u001B[43mindex\u001B[49m\u001B[43m)\u001B[49m\n\u001B[1;32m    280\u001B[0m \u001B[38;5;66;03m# Store geopandas specific file-level metadata\u001B[39;00m\n\u001B[1;32m    281\u001B[0m \u001B[38;5;66;03m# This must be done AFTER creating the table or it is not persisted\u001B[39;00m\n\u001B[1;32m    282\u001B[0m metadata \u001B[38;5;241m=\u001B[39m table\u001B[38;5;241m.\u001B[39mschema\u001B[38;5;241m.\u001B[39mmetadata\n",
      "File \u001B[0;32m/opt/homebrew/Caskroom/miniconda/base/lib/python3.9/site-packages/pyarrow/table.pxi:3475\u001B[0m, in \u001B[0;36mpyarrow.lib.Table.from_pandas\u001B[0;34m()\u001B[0m\n",
      "File \u001B[0;32m/opt/homebrew/Caskroom/miniconda/base/lib/python3.9/site-packages/pyarrow/pandas_compat.py:624\u001B[0m, in \u001B[0;36mdataframe_to_arrays\u001B[0;34m(df, schema, preserve_index, nthreads, columns, safe)\u001B[0m\n\u001B[1;32m    622\u001B[0m     \u001B[38;5;28;01mfor\u001B[39;00m i, maybe_fut \u001B[38;5;129;01min\u001B[39;00m \u001B[38;5;28menumerate\u001B[39m(arrays):\n\u001B[1;32m    623\u001B[0m         \u001B[38;5;28;01mif\u001B[39;00m \u001B[38;5;28misinstance\u001B[39m(maybe_fut, futures\u001B[38;5;241m.\u001B[39mFuture):\n\u001B[0;32m--> 624\u001B[0m             arrays[i] \u001B[38;5;241m=\u001B[39m \u001B[43mmaybe_fut\u001B[49m\u001B[38;5;241;43m.\u001B[39;49m\u001B[43mresult\u001B[49m\u001B[43m(\u001B[49m\u001B[43m)\u001B[49m\n\u001B[1;32m    626\u001B[0m types \u001B[38;5;241m=\u001B[39m [x\u001B[38;5;241m.\u001B[39mtype \u001B[38;5;28;01mfor\u001B[39;00m x \u001B[38;5;129;01min\u001B[39;00m arrays]\n\u001B[1;32m    628\u001B[0m \u001B[38;5;28;01mif\u001B[39;00m schema \u001B[38;5;129;01mis\u001B[39;00m \u001B[38;5;28;01mNone\u001B[39;00m:\n",
      "File \u001B[0;32m/opt/homebrew/Caskroom/miniconda/base/lib/python3.9/concurrent/futures/_base.py:439\u001B[0m, in \u001B[0;36mFuture.result\u001B[0;34m(self, timeout)\u001B[0m\n\u001B[1;32m    437\u001B[0m     \u001B[38;5;28;01mraise\u001B[39;00m CancelledError()\n\u001B[1;32m    438\u001B[0m \u001B[38;5;28;01melif\u001B[39;00m \u001B[38;5;28mself\u001B[39m\u001B[38;5;241m.\u001B[39m_state \u001B[38;5;241m==\u001B[39m FINISHED:\n\u001B[0;32m--> 439\u001B[0m     \u001B[38;5;28;01mreturn\u001B[39;00m \u001B[38;5;28;43mself\u001B[39;49m\u001B[38;5;241;43m.\u001B[39;49m\u001B[43m__get_result\u001B[49m\u001B[43m(\u001B[49m\u001B[43m)\u001B[49m\n\u001B[1;32m    441\u001B[0m \u001B[38;5;28mself\u001B[39m\u001B[38;5;241m.\u001B[39m_condition\u001B[38;5;241m.\u001B[39mwait(timeout)\n\u001B[1;32m    443\u001B[0m \u001B[38;5;28;01mif\u001B[39;00m \u001B[38;5;28mself\u001B[39m\u001B[38;5;241m.\u001B[39m_state \u001B[38;5;129;01min\u001B[39;00m [CANCELLED, CANCELLED_AND_NOTIFIED]:\n",
      "File \u001B[0;32m/opt/homebrew/Caskroom/miniconda/base/lib/python3.9/concurrent/futures/_base.py:391\u001B[0m, in \u001B[0;36mFuture.__get_result\u001B[0;34m(self)\u001B[0m\n\u001B[1;32m    389\u001B[0m \u001B[38;5;28;01mif\u001B[39;00m \u001B[38;5;28mself\u001B[39m\u001B[38;5;241m.\u001B[39m_exception:\n\u001B[1;32m    390\u001B[0m     \u001B[38;5;28;01mtry\u001B[39;00m:\n\u001B[0;32m--> 391\u001B[0m         \u001B[38;5;28;01mraise\u001B[39;00m \u001B[38;5;28mself\u001B[39m\u001B[38;5;241m.\u001B[39m_exception\n\u001B[1;32m    392\u001B[0m     \u001B[38;5;28;01mfinally\u001B[39;00m:\n\u001B[1;32m    393\u001B[0m         \u001B[38;5;66;03m# Break a reference cycle with the exception in self._exception\u001B[39;00m\n\u001B[1;32m    394\u001B[0m         \u001B[38;5;28mself\u001B[39m \u001B[38;5;241m=\u001B[39m \u001B[38;5;28;01mNone\u001B[39;00m\n",
      "File \u001B[0;32m/opt/homebrew/Caskroom/miniconda/base/lib/python3.9/concurrent/futures/thread.py:58\u001B[0m, in \u001B[0;36m_WorkItem.run\u001B[0;34m(self)\u001B[0m\n\u001B[1;32m     55\u001B[0m     \u001B[38;5;28;01mreturn\u001B[39;00m\n\u001B[1;32m     57\u001B[0m \u001B[38;5;28;01mtry\u001B[39;00m:\n\u001B[0;32m---> 58\u001B[0m     result \u001B[38;5;241m=\u001B[39m \u001B[38;5;28;43mself\u001B[39;49m\u001B[38;5;241;43m.\u001B[39;49m\u001B[43mfn\u001B[49m\u001B[43m(\u001B[49m\u001B[38;5;241;43m*\u001B[39;49m\u001B[38;5;28;43mself\u001B[39;49m\u001B[38;5;241;43m.\u001B[39;49m\u001B[43margs\u001B[49m\u001B[43m,\u001B[49m\u001B[43m \u001B[49m\u001B[38;5;241;43m*\u001B[39;49m\u001B[38;5;241;43m*\u001B[39;49m\u001B[38;5;28;43mself\u001B[39;49m\u001B[38;5;241;43m.\u001B[39;49m\u001B[43mkwargs\u001B[49m\u001B[43m)\u001B[49m\n\u001B[1;32m     59\u001B[0m \u001B[38;5;28;01mexcept\u001B[39;00m \u001B[38;5;167;01mBaseException\u001B[39;00m \u001B[38;5;28;01mas\u001B[39;00m exc:\n\u001B[1;32m     60\u001B[0m     \u001B[38;5;28mself\u001B[39m\u001B[38;5;241m.\u001B[39mfuture\u001B[38;5;241m.\u001B[39mset_exception(exc)\n",
      "File \u001B[0;32m/opt/homebrew/Caskroom/miniconda/base/lib/python3.9/site-packages/pyarrow/pandas_compat.py:598\u001B[0m, in \u001B[0;36mdataframe_to_arrays.<locals>.convert_column\u001B[0;34m(col, field)\u001B[0m\n\u001B[1;32m    593\u001B[0m \u001B[38;5;28;01mexcept\u001B[39;00m (pa\u001B[38;5;241m.\u001B[39mArrowInvalid,\n\u001B[1;32m    594\u001B[0m         pa\u001B[38;5;241m.\u001B[39mArrowNotImplementedError,\n\u001B[1;32m    595\u001B[0m         pa\u001B[38;5;241m.\u001B[39mArrowTypeError) \u001B[38;5;28;01mas\u001B[39;00m e:\n\u001B[1;32m    596\u001B[0m     e\u001B[38;5;241m.\u001B[39margs \u001B[38;5;241m+\u001B[39m\u001B[38;5;241m=\u001B[39m (\u001B[38;5;124m\"\u001B[39m\u001B[38;5;124mConversion failed for column \u001B[39m\u001B[38;5;132;01m{!s}\u001B[39;00m\u001B[38;5;124m with type \u001B[39m\u001B[38;5;132;01m{!s}\u001B[39;00m\u001B[38;5;124m\"\u001B[39m\n\u001B[1;32m    597\u001B[0m                \u001B[38;5;241m.\u001B[39mformat(col\u001B[38;5;241m.\u001B[39mname, col\u001B[38;5;241m.\u001B[39mdtype),)\n\u001B[0;32m--> 598\u001B[0m     \u001B[38;5;28;01mraise\u001B[39;00m e\n\u001B[1;32m    599\u001B[0m \u001B[38;5;28;01mif\u001B[39;00m \u001B[38;5;129;01mnot\u001B[39;00m field_nullable \u001B[38;5;129;01mand\u001B[39;00m result\u001B[38;5;241m.\u001B[39mnull_count \u001B[38;5;241m>\u001B[39m \u001B[38;5;241m0\u001B[39m:\n\u001B[1;32m    600\u001B[0m     \u001B[38;5;28;01mraise\u001B[39;00m \u001B[38;5;167;01mValueError\u001B[39;00m(\u001B[38;5;124m\"\u001B[39m\u001B[38;5;124mField \u001B[39m\u001B[38;5;132;01m{}\u001B[39;00m\u001B[38;5;124m was non-nullable but pandas column \u001B[39m\u001B[38;5;124m\"\u001B[39m\n\u001B[1;32m    601\u001B[0m                      \u001B[38;5;124m\"\u001B[39m\u001B[38;5;124mhad \u001B[39m\u001B[38;5;132;01m{}\u001B[39;00m\u001B[38;5;124m null values\u001B[39m\u001B[38;5;124m\"\u001B[39m\u001B[38;5;241m.\u001B[39mformat(\u001B[38;5;28mstr\u001B[39m(field),\n\u001B[1;32m    602\u001B[0m                                                  result\u001B[38;5;241m.\u001B[39mnull_count))\n",
      "File \u001B[0;32m/opt/homebrew/Caskroom/miniconda/base/lib/python3.9/site-packages/pyarrow/pandas_compat.py:592\u001B[0m, in \u001B[0;36mdataframe_to_arrays.<locals>.convert_column\u001B[0;34m(col, field)\u001B[0m\n\u001B[1;32m    589\u001B[0m     type_ \u001B[38;5;241m=\u001B[39m field\u001B[38;5;241m.\u001B[39mtype\n\u001B[1;32m    591\u001B[0m \u001B[38;5;28;01mtry\u001B[39;00m:\n\u001B[0;32m--> 592\u001B[0m     result \u001B[38;5;241m=\u001B[39m \u001B[43mpa\u001B[49m\u001B[38;5;241;43m.\u001B[39;49m\u001B[43marray\u001B[49m\u001B[43m(\u001B[49m\u001B[43mcol\u001B[49m\u001B[43m,\u001B[49m\u001B[43m \u001B[49m\u001B[38;5;28;43mtype\u001B[39;49m\u001B[38;5;241;43m=\u001B[39;49m\u001B[43mtype_\u001B[49m\u001B[43m,\u001B[49m\u001B[43m \u001B[49m\u001B[43mfrom_pandas\u001B[49m\u001B[38;5;241;43m=\u001B[39;49m\u001B[38;5;28;43;01mTrue\u001B[39;49;00m\u001B[43m,\u001B[49m\u001B[43m \u001B[49m\u001B[43msafe\u001B[49m\u001B[38;5;241;43m=\u001B[39;49m\u001B[43msafe\u001B[49m\u001B[43m)\u001B[49m\n\u001B[1;32m    593\u001B[0m \u001B[38;5;28;01mexcept\u001B[39;00m (pa\u001B[38;5;241m.\u001B[39mArrowInvalid,\n\u001B[1;32m    594\u001B[0m         pa\u001B[38;5;241m.\u001B[39mArrowNotImplementedError,\n\u001B[1;32m    595\u001B[0m         pa\u001B[38;5;241m.\u001B[39mArrowTypeError) \u001B[38;5;28;01mas\u001B[39;00m e:\n\u001B[1;32m    596\u001B[0m     e\u001B[38;5;241m.\u001B[39margs \u001B[38;5;241m+\u001B[39m\u001B[38;5;241m=\u001B[39m (\u001B[38;5;124m\"\u001B[39m\u001B[38;5;124mConversion failed for column \u001B[39m\u001B[38;5;132;01m{!s}\u001B[39;00m\u001B[38;5;124m with type \u001B[39m\u001B[38;5;132;01m{!s}\u001B[39;00m\u001B[38;5;124m\"\u001B[39m\n\u001B[1;32m    597\u001B[0m                \u001B[38;5;241m.\u001B[39mformat(col\u001B[38;5;241m.\u001B[39mname, col\u001B[38;5;241m.\u001B[39mdtype),)\n",
      "File \u001B[0;32m/opt/homebrew/Caskroom/miniconda/base/lib/python3.9/site-packages/pyarrow/array.pxi:316\u001B[0m, in \u001B[0;36mpyarrow.lib.array\u001B[0;34m()\u001B[0m\n",
      "File \u001B[0;32m/opt/homebrew/Caskroom/miniconda/base/lib/python3.9/site-packages/pyarrow/array.pxi:83\u001B[0m, in \u001B[0;36mpyarrow.lib._ndarray_to_array\u001B[0;34m()\u001B[0m\n",
      "File \u001B[0;32m/opt/homebrew/Caskroom/miniconda/base/lib/python3.9/site-packages/pyarrow/error.pxi:100\u001B[0m, in \u001B[0;36mpyarrow.lib.check_status\u001B[0;34m()\u001B[0m\n",
      "\u001B[0;31mArrowInvalid\u001B[0m: ('cannot mix list and non-list, non-null values', 'Conversion failed for column people with type object')"
     ]
    }
   ],
   "source": [
    "LIST.to_parquet(\"../data/large_data/LIST_v0-5.parquet\")"
   ],
   "metadata": {
    "collapsed": false,
    "ExecuteTime": {
     "end_time": "2023-05-29T14:45:13.656173Z",
     "start_time": "2023-05-29T14:45:12.735408Z"
    }
   }
  },
  {
   "cell_type": "code",
   "execution_count": 46,
   "outputs": [
    {
     "ename": "ValueError",
     "evalue": "Invalid field type <class 'list'>",
     "output_type": "error",
     "traceback": [
      "\u001B[0;31m---------------------------------------------------------------------------\u001B[0m",
      "\u001B[0;31mValueError\u001B[0m                                Traceback (most recent call last)",
      "Cell \u001B[0;32mIn[46], line 1\u001B[0m\n\u001B[0;32m----> 1\u001B[0m \u001B[43mLIST\u001B[49m\u001B[38;5;241;43m.\u001B[39;49m\u001B[43mto_file\u001B[49m\u001B[43m(\u001B[49m\u001B[38;5;124;43m\"\u001B[39;49m\u001B[38;5;124;43m../data/large_data/LIST_v0-5.geojson\u001B[39;49m\u001B[38;5;124;43m\"\u001B[39;49m\u001B[43m,\u001B[49m\u001B[43m \u001B[49m\u001B[43mdriver\u001B[49m\u001B[38;5;241;43m=\u001B[39;49m\u001B[38;5;124;43m\"\u001B[39;49m\u001B[38;5;124;43mGeoJSON\u001B[39;49m\u001B[38;5;124;43m\"\u001B[39;49m\u001B[43m)\u001B[49m\n",
      "File \u001B[0;32m/opt/homebrew/Caskroom/miniconda/base/lib/python3.9/site-packages/geopandas/geodataframe.py:1263\u001B[0m, in \u001B[0;36mGeoDataFrame.to_file\u001B[0;34m(self, filename, driver, schema, index, **kwargs)\u001B[0m\n\u001B[1;32m   1172\u001B[0m \u001B[38;5;250m\u001B[39m\u001B[38;5;124;03m\"\"\"Write the ``GeoDataFrame`` to a file.\u001B[39;00m\n\u001B[1;32m   1173\u001B[0m \n\u001B[1;32m   1174\u001B[0m \u001B[38;5;124;03mBy default, an ESRI shapefile is written, but any OGR data source\u001B[39;00m\n\u001B[0;32m   (...)\u001B[0m\n\u001B[1;32m   1259\u001B[0m \n\u001B[1;32m   1260\u001B[0m \u001B[38;5;124;03m\"\"\"\u001B[39;00m\n\u001B[1;32m   1261\u001B[0m \u001B[38;5;28;01mfrom\u001B[39;00m \u001B[38;5;21;01mgeopandas\u001B[39;00m\u001B[38;5;21;01m.\u001B[39;00m\u001B[38;5;21;01mio\u001B[39;00m\u001B[38;5;21;01m.\u001B[39;00m\u001B[38;5;21;01mfile\u001B[39;00m \u001B[38;5;28;01mimport\u001B[39;00m _to_file\n\u001B[0;32m-> 1263\u001B[0m \u001B[43m_to_file\u001B[49m\u001B[43m(\u001B[49m\u001B[38;5;28;43mself\u001B[39;49m\u001B[43m,\u001B[49m\u001B[43m \u001B[49m\u001B[43mfilename\u001B[49m\u001B[43m,\u001B[49m\u001B[43m \u001B[49m\u001B[43mdriver\u001B[49m\u001B[43m,\u001B[49m\u001B[43m \u001B[49m\u001B[43mschema\u001B[49m\u001B[43m,\u001B[49m\u001B[43m \u001B[49m\u001B[43mindex\u001B[49m\u001B[43m,\u001B[49m\u001B[43m \u001B[49m\u001B[38;5;241;43m*\u001B[39;49m\u001B[38;5;241;43m*\u001B[39;49m\u001B[43mkwargs\u001B[49m\u001B[43m)\u001B[49m\n",
      "File \u001B[0;32m/opt/homebrew/Caskroom/miniconda/base/lib/python3.9/site-packages/geopandas/io/file.py:539\u001B[0m, in \u001B[0;36m_to_file\u001B[0;34m(df, filename, driver, schema, index, mode, crs, engine, **kwargs)\u001B[0m\n\u001B[1;32m    536\u001B[0m     \u001B[38;5;28;01mraise\u001B[39;00m \u001B[38;5;167;01mValueError\u001B[39;00m(\u001B[38;5;124mf\u001B[39m\u001B[38;5;124m\"\u001B[39m\u001B[38;5;124m'\u001B[39m\u001B[38;5;124mmode\u001B[39m\u001B[38;5;124m'\u001B[39m\u001B[38;5;124m should be one of \u001B[39m\u001B[38;5;124m'\u001B[39m\u001B[38;5;124mw\u001B[39m\u001B[38;5;124m'\u001B[39m\u001B[38;5;124m or \u001B[39m\u001B[38;5;124m'\u001B[39m\u001B[38;5;124ma\u001B[39m\u001B[38;5;124m'\u001B[39m\u001B[38;5;124m, got \u001B[39m\u001B[38;5;124m'\u001B[39m\u001B[38;5;132;01m{\u001B[39;00mmode\u001B[38;5;132;01m}\u001B[39;00m\u001B[38;5;124m'\u001B[39m\u001B[38;5;124m instead\u001B[39m\u001B[38;5;124m\"\u001B[39m)\n\u001B[1;32m    538\u001B[0m \u001B[38;5;28;01mif\u001B[39;00m engine \u001B[38;5;241m==\u001B[39m \u001B[38;5;124m\"\u001B[39m\u001B[38;5;124mfiona\u001B[39m\u001B[38;5;124m\"\u001B[39m:\n\u001B[0;32m--> 539\u001B[0m     \u001B[43m_to_file_fiona\u001B[49m\u001B[43m(\u001B[49m\u001B[43mdf\u001B[49m\u001B[43m,\u001B[49m\u001B[43m \u001B[49m\u001B[43mfilename\u001B[49m\u001B[43m,\u001B[49m\u001B[43m \u001B[49m\u001B[43mdriver\u001B[49m\u001B[43m,\u001B[49m\u001B[43m \u001B[49m\u001B[43mschema\u001B[49m\u001B[43m,\u001B[49m\u001B[43m \u001B[49m\u001B[43mcrs\u001B[49m\u001B[43m,\u001B[49m\u001B[43m \u001B[49m\u001B[43mmode\u001B[49m\u001B[43m,\u001B[49m\u001B[43m \u001B[49m\u001B[38;5;241;43m*\u001B[39;49m\u001B[38;5;241;43m*\u001B[39;49m\u001B[43mkwargs\u001B[49m\u001B[43m)\u001B[49m\n\u001B[1;32m    540\u001B[0m \u001B[38;5;28;01melif\u001B[39;00m engine \u001B[38;5;241m==\u001B[39m \u001B[38;5;124m\"\u001B[39m\u001B[38;5;124mpyogrio\u001B[39m\u001B[38;5;124m\"\u001B[39m:\n\u001B[1;32m    541\u001B[0m     _to_file_pyogrio(df, filename, driver, schema, crs, mode, \u001B[38;5;241m*\u001B[39m\u001B[38;5;241m*\u001B[39mkwargs)\n",
      "File \u001B[0;32m/opt/homebrew/Caskroom/miniconda/base/lib/python3.9/site-packages/geopandas/io/file.py:568\u001B[0m, in \u001B[0;36m_to_file_fiona\u001B[0;34m(df, filename, driver, schema, crs, mode, **kwargs)\u001B[0m\n\u001B[1;32m    564\u001B[0m     crs_wkt \u001B[38;5;241m=\u001B[39m crs\u001B[38;5;241m.\u001B[39mto_wkt(\u001B[38;5;124m\"\u001B[39m\u001B[38;5;124mWKT1_GDAL\u001B[39m\u001B[38;5;124m\"\u001B[39m)\n\u001B[1;32m    565\u001B[0m \u001B[38;5;28;01mwith\u001B[39;00m fiona\u001B[38;5;241m.\u001B[39mopen(\n\u001B[1;32m    566\u001B[0m     filename, mode\u001B[38;5;241m=\u001B[39mmode, driver\u001B[38;5;241m=\u001B[39mdriver, crs_wkt\u001B[38;5;241m=\u001B[39mcrs_wkt, schema\u001B[38;5;241m=\u001B[39mschema, \u001B[38;5;241m*\u001B[39m\u001B[38;5;241m*\u001B[39mkwargs\n\u001B[1;32m    567\u001B[0m ) \u001B[38;5;28;01mas\u001B[39;00m colxn:\n\u001B[0;32m--> 568\u001B[0m     \u001B[43mcolxn\u001B[49m\u001B[38;5;241;43m.\u001B[39;49m\u001B[43mwriterecords\u001B[49m\u001B[43m(\u001B[49m\u001B[43mdf\u001B[49m\u001B[38;5;241;43m.\u001B[39;49m\u001B[43miterfeatures\u001B[49m\u001B[43m(\u001B[49m\u001B[43m)\u001B[49m\u001B[43m)\u001B[49m\n",
      "File \u001B[0;32m/opt/homebrew/Caskroom/miniconda/base/lib/python3.9/site-packages/fiona/collection.py:549\u001B[0m, in \u001B[0;36mCollection.writerecords\u001B[0;34m(self, records)\u001B[0m\n\u001B[1;32m    547\u001B[0m \u001B[38;5;28;01mif\u001B[39;00m \u001B[38;5;28mself\u001B[39m\u001B[38;5;241m.\u001B[39mmode \u001B[38;5;129;01mnot\u001B[39;00m \u001B[38;5;129;01min\u001B[39;00m (\u001B[38;5;124m\"\u001B[39m\u001B[38;5;124ma\u001B[39m\u001B[38;5;124m\"\u001B[39m, \u001B[38;5;124m\"\u001B[39m\u001B[38;5;124mw\u001B[39m\u001B[38;5;124m\"\u001B[39m):\n\u001B[1;32m    548\u001B[0m     \u001B[38;5;28;01mraise\u001B[39;00m \u001B[38;5;167;01mOSError\u001B[39;00m(\u001B[38;5;124m\"\u001B[39m\u001B[38;5;124mcollection not open for writing\u001B[39m\u001B[38;5;124m\"\u001B[39m)\n\u001B[0;32m--> 549\u001B[0m \u001B[38;5;28;43mself\u001B[39;49m\u001B[38;5;241;43m.\u001B[39;49m\u001B[43msession\u001B[49m\u001B[38;5;241;43m.\u001B[39;49m\u001B[43mwriterecs\u001B[49m\u001B[43m(\u001B[49m\u001B[43mrecords\u001B[49m\u001B[43m,\u001B[49m\u001B[43m \u001B[49m\u001B[38;5;28;43mself\u001B[39;49m\u001B[43m)\u001B[49m\n\u001B[1;32m    550\u001B[0m \u001B[38;5;28mself\u001B[39m\u001B[38;5;241m.\u001B[39m_len \u001B[38;5;241m=\u001B[39m \u001B[38;5;28mself\u001B[39m\u001B[38;5;241m.\u001B[39msession\u001B[38;5;241m.\u001B[39mget_length()\n\u001B[1;32m    551\u001B[0m \u001B[38;5;28mself\u001B[39m\u001B[38;5;241m.\u001B[39m_bounds \u001B[38;5;241m=\u001B[39m \u001B[38;5;28;01mNone\u001B[39;00m\n",
      "File \u001B[0;32mfiona/ogrext.pyx:1408\u001B[0m, in \u001B[0;36mfiona.ogrext.WritingSession.writerecs\u001B[0;34m()\u001B[0m\n",
      "File \u001B[0;32mfiona/ogrext.pyx:513\u001B[0m, in \u001B[0;36mfiona.ogrext.OGRFeatureBuilder.build\u001B[0;34m()\u001B[0m\n",
      "\u001B[0;31mValueError\u001B[0m: Invalid field type <class 'list'>"
     ]
    }
   ],
   "source": [
    "LIST.to_file(\"../data/large_data/LIST_v0-5.geojson\", driver=\"GeoJSON\")"
   ],
   "metadata": {
    "collapsed": false,
    "ExecuteTime": {
     "end_time": "2023-05-29T14:48:11.797845Z",
     "start_time": "2023-05-29T14:48:01.722584Z"
    }
   }
  },
  {
   "cell_type": "code",
   "execution_count": 48,
   "outputs": [],
   "source": [
    "LIST.sample(10000).drop(\"geometry\", axis=1).to_json(\"../data/large_data/LIST_test.json\")"
   ],
   "metadata": {
    "collapsed": false,
    "ExecuteTime": {
     "end_time": "2023-05-29T14:50:06.690809Z",
     "start_time": "2023-05-29T14:50:06.606340Z"
    }
   }
  },
  {
   "cell_type": "code",
   "execution_count": null,
   "outputs": [],
   "source": [],
   "metadata": {
    "collapsed": false
   }
  },
  {
   "cell_type": "code",
   "execution_count": 60,
   "outputs": [
    {
     "data": {
      "text/plain": "[{'key1': 'value1',\n  'key2': [{'subjson1_key1': 'subjson1_value1',\n    'subjson1_key2': {'subjson2_key1': 'subjson2_value1'}}]},\n {'key1': 'value3', 'key2': []}]"
     },
     "execution_count": 60,
     "metadata": {},
     "output_type": "execute_result"
    }
   ],
   "source": [
    "json = [{\"key1\" : \"value1\", \"key2\" : [{\"subjson1_key1\" : \"subjson1_value1\", \"subjson1_key2\": {\"subjson2_key1\" :  \"subjson2_value1\"}}]}, {\"key1\" : \"value3\", \"key2\" : []}]\n",
    "json"
   ],
   "metadata": {
    "collapsed": false,
    "ExecuteTime": {
     "end_time": "2023-05-29T15:05:33.678288Z",
     "start_time": "2023-05-29T15:05:33.673134Z"
    }
   }
  },
  {
   "cell_type": "code",
   "execution_count": 63,
   "outputs": [
    {
     "data": {
      "text/plain": "     key1                                               key2\n0  value1  [{'subjson1_key1': 'subjson1_value1', 'subjson...\n1  value3                                                 []",
      "text/html": "<div>\n<style scoped>\n    .dataframe tbody tr th:only-of-type {\n        vertical-align: middle;\n    }\n\n    .dataframe tbody tr th {\n        vertical-align: top;\n    }\n\n    .dataframe thead th {\n        text-align: right;\n    }\n</style>\n<table border=\"1\" class=\"dataframe\">\n  <thead>\n    <tr style=\"text-align: right;\">\n      <th></th>\n      <th>key1</th>\n      <th>key2</th>\n    </tr>\n  </thead>\n  <tbody>\n    <tr>\n      <th>0</th>\n      <td>value1</td>\n      <td>[{'subjson1_key1': 'subjson1_value1', 'subjson...</td>\n    </tr>\n    <tr>\n      <th>1</th>\n      <td>value3</td>\n      <td>[]</td>\n    </tr>\n  </tbody>\n</table>\n</div>"
     },
     "execution_count": 63,
     "metadata": {},
     "output_type": "execute_result"
    }
   ],
   "source": [
    "json_df = pd.DataFrame(json)\n",
    "json_df"
   ],
   "metadata": {
    "collapsed": false,
    "ExecuteTime": {
     "end_time": "2023-05-29T15:09:42.153421Z",
     "start_time": "2023-05-29T15:09:42.148343Z"
    }
   }
  },
  {
   "cell_type": "code",
   "execution_count": 65,
   "outputs": [],
   "source": [
    "json_df.to_csv(\"test_json.csv\")"
   ],
   "metadata": {
    "collapsed": false,
    "ExecuteTime": {
     "end_time": "2023-05-29T15:10:10.726223Z",
     "start_time": "2023-05-29T15:10:10.720060Z"
    }
   }
  },
  {
   "cell_type": "code",
   "execution_count": 66,
   "outputs": [
    {
     "name": "stdout",
     "output_type": "stream",
     "text": [
      "hello\n"
     ]
    }
   ],
   "source": [
    "eval(\"print('hello')\")"
   ],
   "metadata": {
    "collapsed": false,
    "ExecuteTime": {
     "end_time": "2023-05-29T15:20:07.398514Z",
     "start_time": "2023-05-29T15:20:07.380821Z"
    }
   }
  },
  {
   "cell_type": "code",
   "execution_count": null,
   "outputs": [],
   "source": [
    "eval(\"print('hello')\")"
   ],
   "metadata": {
    "collapsed": false
   }
  }
 ],
 "metadata": {
  "kernelspec": {
   "name": "lire_venv",
   "language": "python",
   "display_name": "lire_venv"
  },
  "language_info": {
   "codemirror_mode": {
    "name": "ipython",
    "version": 2
   },
   "file_extension": ".py",
   "mimetype": "text/x-python",
   "name": "python",
   "nbconvert_exporter": "python",
   "pygments_lexer": "ipython2",
   "version": "2.7.6"
  }
 },
 "nbformat": 4,
 "nbformat_minor": 0
}
