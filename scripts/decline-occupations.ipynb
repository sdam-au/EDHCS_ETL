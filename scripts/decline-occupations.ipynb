{
 "cells": [
  {
   "cell_type": "code",
   "execution_count": 2,
   "metadata": {},
   "outputs": [],
   "source": [
    "# REQUIREMNTS\n",
    "import pandas as pd\n",
    "import nltk\n",
    "import requests\n",
    "import re\n",
    "import json\n",
    "\n",
    "import gspread\n",
    "from gspread_dataframe import get_as_dataframe, set_with_dataframe\n",
    "from google.oauth2 import service_account # based on google-auth library\n",
    "\n",
    "import sddk"
   ]
  },
  {
   "cell_type": "code",
   "execution_count": 3,
   "metadata": {},
   "outputs": [
    {
     "name": "stdout",
     "output_type": "stream",
     "text": [
      "sciencedata.dk username (format '123456@au.dk'): 648597@au.dk\n",
      "sciencedata.dk password: ········\n",
      "endpoint variable has been configured to: https://sciencedata.dk/files/\n"
     ]
    }
   ],
   "source": [
    "# to access gsheet (from where we read our occupation data), you need Google Service Account key json file\n",
    "# I have mine located in my personal space on sciencedata.dk, so I read it from there:\n",
    "conf = sddk.configure()\n",
    "\n",
    "# (1) read the file and parse its content\n",
    "file_data = conf[0].get(conf[1] + \"ServiceAccountsKey.json\").json()\n",
    "# (2) transform the content into crendentials object\n",
    "credentials = service_account.Credentials.from_service_account_info(file_data)\n",
    "# (3) specify your usage of the credentials\n",
    "scoped_credentials = credentials.with_scopes(['https://spreadsheets.google.com/feeds', 'https://www.googleapis.com/auth/drive'])\n",
    "# (4) use the constrained credentials for authentication of gspread package\n",
    "gc = gspread.Client(auth=scoped_credentials)\n",
    "# (5) establish connection with spreadsheets specified by their url\n",
    "occupations = gc.open_by_url(\"https://docs.google.com/spreadsheets/d/1nONTEwp42CVnq3iCiONrFbJedIcYtBV-l4Bil5mU7Eo/edit?usp=sharing\")"
   ]
  },
  {
   "cell_type": "code",
   "execution_count": 66,
   "metadata": {},
   "outputs": [
    {
     "data": {
      "text/html": [
       "<div>\n",
       "<style scoped>\n",
       "    .dataframe tbody tr th:only-of-type {\n",
       "        vertical-align: middle;\n",
       "    }\n",
       "\n",
       "    .dataframe tbody tr th {\n",
       "        vertical-align: top;\n",
       "    }\n",
       "\n",
       "    .dataframe thead th {\n",
       "        text-align: right;\n",
       "    }\n",
       "</style>\n",
       "<table border=\"1\" class=\"dataframe\">\n",
       "  <thead>\n",
       "    <tr style=\"text-align: right;\">\n",
       "      <th></th>\n",
       "      <th>Term</th>\n",
       "      <th>gen_sg</th>\n",
       "      <th>Vocab_nom_sg</th>\n",
       "      <th>Source</th>\n",
       "      <th>Category</th>\n",
       "      <th>Translation_eng_LewisShort</th>\n",
       "    </tr>\n",
       "  </thead>\n",
       "  <tbody>\n",
       "    <tr>\n",
       "      <th>0</th>\n",
       "      <td>abetarius</td>\n",
       "      <td>i</td>\n",
       "      <td>NaN</td>\n",
       "      <td>Petrikovits 1981a</td>\n",
       "      <td>Building</td>\n",
       "      <td>a joiner, wood worker</td>\n",
       "    </tr>\n",
       "    <tr>\n",
       "      <th>1</th>\n",
       "      <td>abietarius</td>\n",
       "      <td>i</td>\n",
       "      <td>NaN</td>\n",
       "      <td>Petrikovits 1981a</td>\n",
       "      <td>Building</td>\n",
       "      <td>a joiner, wood worker</td>\n",
       "    </tr>\n",
       "    <tr>\n",
       "      <th>2</th>\n",
       "      <td>acceptor</td>\n",
       "      <td>oris</td>\n",
       "      <td>acceptor</td>\n",
       "      <td>Waltzing - Rome</td>\n",
       "      <td>Finance</td>\n",
       "      <td>collector</td>\n",
       "    </tr>\n",
       "    <tr>\n",
       "      <th>3</th>\n",
       "      <td>accomodator</td>\n",
       "      <td>oris</td>\n",
       "      <td>NaN</td>\n",
       "      <td>Petrikovits 1981a</td>\n",
       "      <td>NaN</td>\n",
       "      <td>NaN</td>\n",
       "    </tr>\n",
       "    <tr>\n",
       "      <th>4</th>\n",
       "      <td>aceptor</td>\n",
       "      <td>oris</td>\n",
       "      <td>NaN</td>\n",
       "      <td>Petrikovits 1981a</td>\n",
       "      <td>NaN</td>\n",
       "      <td>NaN</td>\n",
       "    </tr>\n",
       "    <tr>\n",
       "      <th>...</th>\n",
       "      <td>...</td>\n",
       "      <td>...</td>\n",
       "      <td>...</td>\n",
       "      <td>...</td>\n",
       "      <td>...</td>\n",
       "      <td>...</td>\n",
       "    </tr>\n",
       "    <tr>\n",
       "      <th>797</th>\n",
       "      <td>vispillo</td>\n",
       "      <td>onis</td>\n",
       "      <td>NaN</td>\n",
       "      <td>Petrikovits 1981a</td>\n",
       "      <td>NaN</td>\n",
       "      <td>NaN</td>\n",
       "    </tr>\n",
       "    <tr>\n",
       "      <th>798</th>\n",
       "      <td>vitor</td>\n",
       "      <td>oris</td>\n",
       "      <td>NaN</td>\n",
       "      <td>Petrikovits 1981a</td>\n",
       "      <td>NaN</td>\n",
       "      <td>NaN</td>\n",
       "    </tr>\n",
       "    <tr>\n",
       "      <th>799</th>\n",
       "      <td>vitrarius</td>\n",
       "      <td>i</td>\n",
       "      <td>NaN</td>\n",
       "      <td>Petrikovits 1981b</td>\n",
       "      <td>NaN</td>\n",
       "      <td>NaN</td>\n",
       "    </tr>\n",
       "    <tr>\n",
       "      <th>800</th>\n",
       "      <td>vitrearius</td>\n",
       "      <td>i</td>\n",
       "      <td>NaN</td>\n",
       "      <td>Petrikovits 1981a</td>\n",
       "      <td>NaN</td>\n",
       "      <td>NaN</td>\n",
       "    </tr>\n",
       "    <tr>\n",
       "      <th>801</th>\n",
       "      <td>zonarius</td>\n",
       "      <td>i</td>\n",
       "      <td>NaN</td>\n",
       "      <td>Petrikovits 1981a</td>\n",
       "      <td>NaN</td>\n",
       "      <td>NaN</td>\n",
       "    </tr>\n",
       "  </tbody>\n",
       "</table>\n",
       "<p>802 rows × 6 columns</p>\n",
       "</div>"
      ],
      "text/plain": [
       "            Term gen_sg Vocab_nom_sg             Source  Category  \\\n",
       "0      abetarius      i          NaN  Petrikovits 1981a  Building   \n",
       "1     abietarius      i          NaN  Petrikovits 1981a  Building   \n",
       "2       acceptor   oris     acceptor    Waltzing - Rome   Finance   \n",
       "3    accomodator   oris          NaN  Petrikovits 1981a       NaN   \n",
       "4        aceptor   oris          NaN  Petrikovits 1981a       NaN   \n",
       "..           ...    ...          ...                ...       ...   \n",
       "797     vispillo   onis          NaN  Petrikovits 1981a       NaN   \n",
       "798        vitor   oris          NaN  Petrikovits 1981a       NaN   \n",
       "799    vitrarius      i          NaN  Petrikovits 1981b       NaN   \n",
       "800   vitrearius      i          NaN  Petrikovits 1981a       NaN   \n",
       "801     zonarius      i          NaN  Petrikovits 1981a       NaN   \n",
       "\n",
       "    Translation_eng_LewisShort  \n",
       "0        a joiner, wood worker  \n",
       "1        a joiner, wood worker  \n",
       "2                    collector  \n",
       "3                          NaN  \n",
       "4                          NaN  \n",
       "..                         ...  \n",
       "797                        NaN  \n",
       "798                        NaN  \n",
       "799                        NaN  \n",
       "800                        NaN  \n",
       "801                        NaN  \n",
       "\n",
       "[802 rows x 6 columns]"
      ]
     },
     "execution_count": 66,
     "metadata": {},
     "output_type": "execute_result"
    }
   ],
   "source": [
    "# read occupation data\n",
    "occupations_raw = get_as_dataframe(occupations.worksheet(\"Occupation\"))\n",
    "occupations_raw = occupations_raw[occupations_raw['Term'].notnull()]\n",
    "occupations_df = occupations_raw[occupations_raw.columns[:6]]\n",
    "occupations_df"
   ]
  },
  {
   "cell_type": "code",
   "execution_count": 67,
   "metadata": {},
   "outputs": [
    {
     "data": {
      "text/plain": [
       "[('abetarius', 'i', nan),\n",
       " ('abietarius', 'i', nan),\n",
       " ('acceptor', 'oris', 'acceptor'),\n",
       " ('accomodator', 'oris', nan),\n",
       " ('aceptor', 'oris', nan)]"
      ]
     },
     "execution_count": 67,
     "metadata": {},
     "output_type": "execute_result"
    }
   ],
   "source": [
    "occup_tups = [(occup_nom, occup_gen, word_to_dec) for occup_nom, occup_gen, word_to_dec in zip(occupations_df[\"Term\"].tolist(), occupations_df[\"gen_sg\"].tolist(), occupations_df[\"Vocab_nom_sg\"].tolist())]\n",
    "occup_tups[:5]"
   ]
  },
  {
   "cell_type": "code",
   "execution_count": 68,
   "metadata": {},
   "outputs": [
    {
     "data": {
      "text/plain": [
       "[('exactor auri argenti et aeris', 'oris', 'exactor'),\n",
       " ('inclusor auri et gemmarum', 'oris', 'inclusor'),\n",
       " ('refector pectinarius', 'oris', 'refector'),\n",
       " ('instructor parietum', 'oris', 'instructor'),\n",
       " ('tribor argentarius', 'oris', 'tribor')]"
      ]
     },
     "execution_count": 68,
     "metadata": {},
     "output_type": "execute_result"
    }
   ],
   "source": [
    "# reorder from longest to shortest\n",
    "occup_tups = sorted(occup_tups, key = lambda x: len(x[0]), reverse=True)\n",
    "occup_tups[:5]"
   ]
  },
  {
   "cell_type": "code",
   "execution_count": 69,
   "metadata": {},
   "outputs": [],
   "source": [
    "# manually define declinations\n",
    "decs = {\n",
    "\"first_f\" : [\"a\", \"ae\", \"am\", \"e\", \"as\", \"arum\", \"is\"],\n",
    "\"first_gr_es\" : [\"es\",  \"ae\", \"en\", \"am\", \"e\", \"as\", \"arum\", \"is\", \"a\"],\n",
    "\n",
    "\"sec_m_us\" : [\"us\", \"i\", \"o\", \"um\", \"orum\", \"os\", \"is\"],\n",
    "\"sec_n\" : [\"um\", \"i\", \"o\", \"a\", \"orum\", \"is\"],\n",
    "\"sec_m_er\" : [\"er\", \"eri\", \"ero\", \"erum\" , \"eros\", \"erorum\", \"eris\"],\n",
    "\"sec_m_r\" : [\"er\", \"ri\", \"ro\", \"rum\" , \"ros\", \"rorum\", \"ris\"],\n",
    "\n",
    "\"sec_gr_os\" : [\"os\", \"i\", \"o\", \"on\" , \"e\", \"rorum\", \"ris\"],\n",
    "\"sec_gr_on\" : [\"on\", \"i\", \"o\", \"a\", \"orum\", \"is\"],\n",
    "\n",
    "\"third_m_1\" : [\"es\", \"itis\", \"iti\", \"ite\", \"ites\", \"itibus\", \"itum\"],\n",
    "\"third_m_2\" : [\"ix\", \"icis\", \"icem\", \"ici\", \"ice\", \"ices\", \"icibus\", \"icum\"],\n",
    "\"third_m_3\" : [\"ex\", \"icis\", \"icem\", \"ici\", \"ice\", \"ices\", \"icibus\", \"icum\"],\n",
    "\"third_m_4\" : [\"o\", \"onis\", \"onem\", \"oni\", \"one\", \"ones\", \"onibus\", \"onum\"],\n",
    "\"third_m_5\" : [\"or\", \"oris\", \"orem\", \"ori\", \"ore\", \"ores\", \"oribus\", \"orum\"],\n",
    "\"third_m_6\" : [\"n\", \"nis\", \"nem\", \"ni\", \"ne\", \"nes\", \"nibus\", \"num\"],\n",
    "\"third_m_7\" : [\"ensis\", \"ensis\", \"ensem\", \"ensi\", \"ense\", \"enses\", \"ensibus\", \"ensum\", \"ensium\"],\n",
    "\"third_m_8\" : [\"er\", \"eris\", \"erem\", \"eri\", \"ere\", \"eres\", \"eribus\", \"erum\", \"erium\"],\n",
    "\"third_m_9\" : [\"eps\", \"ipis\", \"ipem\", \"ipi\", \"ipe\", \"ipes\", \"ipibus\", \"ipum\"],\n",
    "\"third_10\" : [\"ans\", \"antis\", \"antem\", \"ante\", \"antes\", \"antium\", \"antum\", \"antibus\"],\n",
    "\"third_f\" : [\"as\", \"adis\", \"adi\", \"ade\", \"ades\", \"adum\", \"adium\", \"adibus\"],\n",
    "\n",
    "\"third_mix\" : [\"is\", \"is\", \"i\", \"em\", \"e\", \"es\", \"ium\", \"um\", \"ibus\"]\n",
    "}\n"
   ]
  },
  {
   "cell_type": "code",
   "execution_count": 70,
   "metadata": {},
   "outputs": [
    {
     "data": {
      "text/plain": [
       "[('exactor auri argenti et aeris', 'oris', 'exactor'),\n",
       " ('inclusor auri et gemmarum', 'oris', 'inclusor'),\n",
       " ('refector pectinarius', 'oris', 'refector'),\n",
       " ('instructor parietum', 'oris', 'instructor'),\n",
       " ('tribor argentarius', 'oris', 'tribor')]"
      ]
     },
     "execution_count": 70,
     "metadata": {},
     "output_type": "execute_result"
    }
   ],
   "source": [
    "occup_tups = sorted(occup_tups, key = lambda x: len(x[0]), reverse=True)\n",
    "occup_tups[:5]"
   ]
  },
  {
   "cell_type": "code",
   "execution_count": 72,
   "metadata": {},
   "outputs": [
    {
     "name": "stdout",
     "output_type": "stream",
     "text": [
      "declining unsuccesful: toreuticesis nan\n",
      "declining unsuccesful: fabriciesis nan\n",
      "declining unsuccesful: barbaricas nan\n",
      "declining unsuccesful: lithotomos nan\n",
      "declining unsuccesful: subonatris nan\n",
      "declining unsuccesful: aulopoios nan\n",
      "declining unsuccesful: negotians nan\n",
      "declining unsuccesful: navigans nan\n",
      "declining unsuccesful: prosmoni nan\n",
      "declining unsuccesful: navalis nan\n",
      "declining unsuccesful: pistur oris\n"
     ]
    }
   ],
   "source": [
    "def decline(nom_sg, ending):\n",
    "    possible_decs = []\n",
    "    for dec in decs.keys(): \n",
    "        if ending == decs[dec][1]:\n",
    "            possible_decs.append(dec)\n",
    "    for pos_dec in possible_decs:\n",
    "        nom_end = decs[pos_dec][0]\n",
    "        if re.match(\"\\w+\" + nom_end + \"$\", nom_sg):\n",
    "            root = re.split(nom_end + \"$\", nom_sg)[0]\n",
    "            all_morphs = list(set([str(root) + end for end in decs[pos_dec]])) # unique forms\n",
    "            break\n",
    "    try:\n",
    "        return all_morphs\n",
    "    except:\n",
    "        print(\"declining unsuccesful: \" + nom_sg, ending)\n",
    "        return [nom_sg] \n",
    "occups_declined = []\n",
    "for occup_tup in occup_tups:\n",
    "    if re.match(\"\\w+\\s\\w+\", occup_tup[0]):\n",
    "        all_morphs = [occup_tup[0].replace(str(occup_tup[2]), morph) for morph in decline(occup_tup[2], occup_tup[1])] \n",
    "    else:\n",
    "        all_morphs = decline(occup_tup[0], occup_tup[1])\n",
    "    occups_declined.append([str(occup_tup[0]), all_morphs])"
   ]
  },
  {
   "cell_type": "code",
   "execution_count": 73,
   "metadata": {},
   "outputs": [],
   "source": [
    "occups_declined_dict = dict(occups_declined)"
   ]
  },
  {
   "cell_type": "code",
   "execution_count": null,
   "metadata": {},
   "outputs": [],
   "source": []
  },
  {
   "cell_type": "code",
   "execution_count": 74,
   "metadata": {},
   "outputs": [],
   "source": [
    "with open(\"../data/occups_declined_dict.json\", \"w\") as fp:\n",
    "    json.dump(occups_declined_dict, fp, indent=4)"
   ]
  },
  {
   "cell_type": "code",
   "execution_count": 75,
   "metadata": {},
   "outputs": [],
   "source": [
    "#uncomment for export to google sheets:\n",
    "occups_declined_df = pd.DataFrame(occups_declined)\n",
    "set_with_dataframe(occupations.add_worksheet(\"occupations_decl\", 1, 1), occups_declined_df)"
   ]
  },
  {
   "cell_type": "code",
   "execution_count": null,
   "metadata": {},
   "outputs": [],
   "source": []
  }
 ],
 "metadata": {
  "colab": {
   "authorship_tag": "ABX9TyOKWnvxv3tTbNERCRAysPtc",
   "include_colab_link": true,
   "name": "WORKING_WITH_CLEANED_TEXTS.ipynb",
   "provenance": []
  },
  "kernelspec": {
   "display_name": "Python 3",
   "language": "python",
   "name": "python3"
  },
  "language_info": {
   "codemirror_mode": {
    "name": "ipython",
    "version": 3
   },
   "file_extension": ".py",
   "mimetype": "text/x-python",
   "name": "python",
   "nbconvert_exporter": "python",
   "pygments_lexer": "ipython3",
   "version": "3.6.9"
  }
 },
 "nbformat": 4,
 "nbformat_minor": 1
}
