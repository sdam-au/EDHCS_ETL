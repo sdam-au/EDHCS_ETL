{
 "cells": [
  {
   "cell_type": "code",
   "execution_count": 212,
   "outputs": [],
   "source": [
    "import geopandas as gpd\n",
    "import pandas as pd\n",
    "pd.set_option('display.max_columns', None)\n",
    "import json"
   ],
   "metadata": {
    "collapsed": false,
    "ExecuteTime": {
     "end_time": "2023-05-31T18:22:42.545888Z",
     "start_time": "2023-05-31T18:22:42.536230Z"
    }
   }
  },
  {
   "cell_type": "code",
   "execution_count": 261,
   "metadata": {
    "collapsed": true,
    "ExecuteTime": {
     "end_time": "2023-05-31T18:51:25.510426Z",
     "start_time": "2023-05-31T18:51:23.850144Z"
    }
   },
   "outputs": [],
   "source": [
    "LIST = gpd.read_parquet(\"../data/large_data/LIST_v0-4.parquet\")"
   ]
  },
  {
   "cell_type": "code",
   "execution_count": 262,
   "outputs": [
    {
     "data": {
      "text/plain": "Index(['LIST-ID', 'EDCS-ID', 'EDH-ID', 'trismegistos_uri', 'pleiades_id',\n       'transcription', 'inscription', 'clean_text_conservative',\n       'clean_text_interpretive_sentence', 'clean_text_interpretive_word',\n       'clean_text_interpretive_word_EDCS', 'diplomatic_text', 'province',\n       'place', 'inscr_type', 'status_notation', 'inscr_process', 'status',\n       'partner_link', 'last_update', 'letter_size', 'type_of_inscription',\n       'work_status', 'year_of_find', 'present_location', 'text_edition',\n       'support_objecttype', 'support_material', 'support_decoration',\n       'keywords_term', 'people', 'type_of_inscription_clean',\n       'type_of_inscription_certainty', 'height_cm', 'width_cm', 'depth_cm',\n       'material_clean', 'type_of_monument_clean',\n       'type_of_monument_certainty', 'province_label_clean',\n       'province_label_certainty', 'country_clean', 'country_certainty',\n       'findspot_ancient_clean', 'findspot_ancient_certainty',\n       'modern_region_clean', 'modern_region_certainty',\n       'findspot_modern_clean', 'findspot_modern_certainty', 'findspot_clean',\n       'findspot_certainty', 'language', 'language_EDCS', 'raw_dating',\n       'not_after', 'not_before', 'Longitude', 'Latitude', 'geotemporal?',\n       'geometry', 'withinRE?', 'urban_context', 'urban_context_city',\n       'urban_context_pop_est', 'type_of_inscription_auto',\n       'type_of_inscription_auto_prob'],\n      dtype='object')"
     },
     "execution_count": 262,
     "metadata": {},
     "output_type": "execute_result"
    }
   ],
   "source": [
    "LIST.columns"
   ],
   "metadata": {
    "collapsed": false,
    "ExecuteTime": {
     "end_time": "2023-05-31T18:51:25.514847Z",
     "start_time": "2023-05-31T18:51:25.511955Z"
    }
   }
  },
  {
   "cell_type": "code",
   "execution_count": 263,
   "outputs": [],
   "source": [
    "json_string = \"[{'persname': {'name': [{'@type': 'praenomen', '#text': 'C.'}, {'@type': 'nomen', '#text': 'Iulius'}, {'@type': 'cognomen', '#text': 'Capito*'}]}, '@sex': 'M', '@{http://www.w3.org/XML/1998/namespace}id': 'HD057920_1'}, {'persname': {'name': [{'@type': 'praenomen', '#text': 'C.'}, {'@type': 'nomen', '#text': 'Iulius'}, {'@type': 'cognomen', '#text': 'Maximus+'}]}, '@sex': 'M', '@{http://www.w3.org/XML/1998/namespace}id': 'HD057920_2'}]\""
   ],
   "metadata": {
    "collapsed": false,
    "ExecuteTime": {
     "end_time": "2023-05-31T18:51:25.517053Z",
     "start_time": "2023-05-31T18:51:25.515211Z"
    }
   }
  },
  {
   "cell_type": "code",
   "execution_count": 264,
   "outputs": [
    {
     "data": {
      "text/plain": "'[{\"persname\": {\"name\": [{\"@type\": \"praenomen\", \"#text\": \"C.\"}, {\"@type\": \"nomen\", \"#text\": \"Iulius\"}, {\"@type\": \"cognomen\", \"#text\": \"Capito*\"}]}, \"@sex\": \"M\", \"@{http://www.w3.org/XML/1998/namespace}id\": \"HD057920_1\"}, {\"persname\": {\"name\": [{\"@type\": \"praenomen\", \"#text\": \"C.\"}, {\"@type\": \"nomen\", \"#text\": \"Iulius\"}, {\"@type\": \"cognomen\", \"#text\": \"Maximus+\"}]}, \"@sex\": \"M\", \"@{http://www.w3.org/XML/1998/namespace}id\": \"HD057920_2\"}]'"
     },
     "execution_count": 264,
     "metadata": {},
     "output_type": "execute_result"
    }
   ],
   "source": [
    "json_string = json_string.replace(\"'\", \"\\\"\")\n",
    "json_string"
   ],
   "metadata": {
    "collapsed": false,
    "ExecuteTime": {
     "end_time": "2023-05-31T18:51:25.522696Z",
     "start_time": "2023-05-31T18:51:25.520081Z"
    }
   }
  },
  {
   "cell_type": "code",
   "execution_count": 265,
   "outputs": [
    {
     "data": {
      "text/plain": "[{'persname': {'name': [{'@type': 'praenomen', '#text': 'C.'},\n    {'@type': 'nomen', '#text': 'Iulius'},\n    {'@type': 'cognomen', '#text': 'Capito*'}]},\n  '@sex': 'M',\n  '@{http://www.w3.org/XML/1998/namespace}id': 'HD057920_1'},\n {'persname': {'name': [{'@type': 'praenomen', '#text': 'C.'},\n    {'@type': 'nomen', '#text': 'Iulius'},\n    {'@type': 'cognomen', '#text': 'Maximus+'}]},\n  '@sex': 'M',\n  '@{http://www.w3.org/XML/1998/namespace}id': 'HD057920_2'}]"
     },
     "execution_count": 265,
     "metadata": {},
     "output_type": "execute_result"
    }
   ],
   "source": [
    "eval(json_string)"
   ],
   "metadata": {
    "collapsed": false,
    "ExecuteTime": {
     "end_time": "2023-05-31T18:51:25.527336Z",
     "start_time": "2023-05-31T18:51:25.523473Z"
    }
   }
  },
  {
   "cell_type": "code",
   "execution_count": 282,
   "outputs": [],
   "source": [
    "def eval_string_json(val):\n",
    "    val = str(val).replace(\"'\", \"\\\"\")\n",
    "    #try:\n",
    "    #    val = json.loads(val)\n",
    "    #except:\n",
    "    #    val = []\n",
    "    return val\n",
    "people_eval = LIST[\"people\"].apply(eval_string_json)"
   ],
   "metadata": {
    "collapsed": false,
    "ExecuteTime": {
     "end_time": "2023-05-31T18:52:58.798650Z",
     "start_time": "2023-05-31T18:52:58.511256Z"
    }
   }
  },
  {
   "cell_type": "code",
   "execution_count": 283,
   "outputs": [
    {
     "data": {
      "text/plain": "{str}"
     },
     "execution_count": 283,
     "metadata": {},
     "output_type": "execute_result"
    }
   ],
   "source": [
    "set([type(el) for el in people_eval])"
   ],
   "metadata": {
    "collapsed": false,
    "ExecuteTime": {
     "end_time": "2023-05-31T18:52:59.801197Z",
     "start_time": "2023-05-31T18:52:59.728257Z"
    }
   }
  },
  {
   "cell_type": "code",
   "execution_count": 284,
   "outputs": [],
   "source": [
    "LIST[\"people\"] = people_eval"
   ],
   "metadata": {
    "collapsed": false,
    "ExecuteTime": {
     "end_time": "2023-05-31T18:53:00.862214Z",
     "start_time": "2023-05-31T18:53:00.464176Z"
    }
   }
  },
  {
   "cell_type": "code",
   "execution_count": 285,
   "outputs": [
    {
     "data": {
      "text/plain": "511973"
     },
     "execution_count": 285,
     "metadata": {},
     "output_type": "execute_result"
    }
   ],
   "source": [
    "len(LIST)"
   ],
   "metadata": {
    "collapsed": false,
    "ExecuteTime": {
     "end_time": "2023-05-31T18:53:02.033096Z",
     "start_time": "2023-05-31T18:53:02.020775Z"
    }
   }
  },
  {
   "cell_type": "code",
   "execution_count": 286,
   "outputs": [
    {
     "data": {
      "text/plain": "511973"
     },
     "execution_count": 286,
     "metadata": {},
     "output_type": "execute_result"
    }
   ],
   "source": [
    "LIST.geometry.is_valid.sum()"
   ],
   "metadata": {
    "collapsed": false,
    "ExecuteTime": {
     "end_time": "2023-05-31T18:53:02.648804Z",
     "start_time": "2023-05-31T18:53:02.622610Z"
    }
   }
  },
  {
   "cell_type": "code",
   "execution_count": 287,
   "outputs": [],
   "source": [
    "LIST = LIST[LIST.geometry.is_valid]"
   ],
   "metadata": {
    "collapsed": false,
    "ExecuteTime": {
     "end_time": "2023-05-31T18:53:03.666733Z",
     "start_time": "2023-05-31T18:53:03.067477Z"
    }
   }
  },
  {
   "cell_type": "code",
   "execution_count": 288,
   "outputs": [],
   "source": [
    "LIST.sample(10000, random_state=2).to_parquet(\"../data/large_data/LIST_sample.parquet\")"
   ],
   "metadata": {
    "collapsed": false,
    "ExecuteTime": {
     "end_time": "2023-05-31T18:53:04.266869Z",
     "start_time": "2023-05-31T18:53:04.165984Z"
    }
   }
  },
  {
   "cell_type": "code",
   "execution_count": 289,
   "outputs": [],
   "source": [
    "LIST.to_parquet(\"../data/large_data/LIST_v0-5.parquet\")"
   ],
   "metadata": {
    "collapsed": false,
    "ExecuteTime": {
     "end_time": "2023-05-31T18:53:07.942457Z",
     "start_time": "2023-05-31T18:53:05.843345Z"
    }
   }
  },
  {
   "cell_type": "code",
   "execution_count": 290,
   "outputs": [],
   "source": [
    "LIST.sample(1000).to_file(\"../data/large_data/LIST_test.geojson\", driver=\"GeoJSON\")"
   ],
   "metadata": {
    "collapsed": false,
    "ExecuteTime": {
     "end_time": "2023-05-31T18:53:09.008640Z",
     "start_time": "2023-05-31T18:53:08.550679Z"
    }
   }
  },
  {
   "cell_type": "code",
   "execution_count": 291,
   "outputs": [],
   "source": [
    "LIST.to_file(\"../data/large_data/LIST_v0-5.geojson\", driver=\"GeoJSON\")"
   ],
   "metadata": {
    "collapsed": false,
    "ExecuteTime": {
     "end_time": "2023-05-31T18:56:21.685856Z",
     "start_time": "2023-05-31T18:53:09.686237Z"
    }
   }
  },
  {
   "cell_type": "code",
   "execution_count": null,
   "outputs": [],
   "source": [],
   "metadata": {
    "collapsed": false
   }
  }
 ],
 "metadata": {
  "kernelspec": {
   "name": "lire_venv",
   "language": "python",
   "display_name": "lire_venv"
  },
  "language_info": {
   "codemirror_mode": {
    "name": "ipython",
    "version": 2
   },
   "file_extension": ".py",
   "mimetype": "text/x-python",
   "name": "python",
   "nbconvert_exporter": "python",
   "pygments_lexer": "ipython2",
   "version": "2.7.6"
  }
 },
 "nbformat": 4,
 "nbformat_minor": 0
}
