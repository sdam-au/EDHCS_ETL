{
 "cells": [
  {
   "cell_type": "code",
   "execution_count": 327,
   "outputs": [],
   "source": [
    "import geopandas as gpd\n",
    "import pandas as pd\n",
    "pd.set_option('display.max_columns', None)\n",
    "import shapely\n",
    "import json\n",
    "from shapely.geometry import Point"
   ],
   "metadata": {
    "collapsed": false,
    "ExecuteTime": {
     "end_time": "2023-06-01T09:37:49.657065Z",
     "start_time": "2023-06-01T09:37:49.654982Z"
    }
   }
  },
  {
   "cell_type": "code",
   "execution_count": 302,
   "metadata": {
    "collapsed": true,
    "ExecuteTime": {
     "end_time": "2023-06-01T09:31:28.992064Z",
     "start_time": "2023-06-01T09:31:27.117665Z"
    }
   },
   "outputs": [],
   "source": [
    "LIST = gpd.read_parquet(\"../data/large_data/LIST_v0-4.parquet\")"
   ]
  },
  {
   "cell_type": "code",
   "execution_count": 303,
   "outputs": [
    {
     "data": {
      "text/plain": "Index(['LIST-ID', 'EDCS-ID', 'EDH-ID', 'trismegistos_uri', 'pleiades_id',\n       'transcription', 'inscription', 'clean_text_conservative',\n       'clean_text_interpretive_sentence', 'clean_text_interpretive_word',\n       'clean_text_interpretive_word_EDCS', 'diplomatic_text', 'province',\n       'place', 'inscr_type', 'status_notation', 'inscr_process', 'status',\n       'partner_link', 'last_update', 'letter_size', 'type_of_inscription',\n       'work_status', 'year_of_find', 'present_location', 'text_edition',\n       'support_objecttype', 'support_material', 'support_decoration',\n       'keywords_term', 'people', 'type_of_inscription_clean',\n       'type_of_inscription_certainty', 'height_cm', 'width_cm', 'depth_cm',\n       'material_clean', 'type_of_monument_clean',\n       'type_of_monument_certainty', 'province_label_clean',\n       'province_label_certainty', 'country_clean', 'country_certainty',\n       'findspot_ancient_clean', 'findspot_ancient_certainty',\n       'modern_region_clean', 'modern_region_certainty',\n       'findspot_modern_clean', 'findspot_modern_certainty', 'findspot_clean',\n       'findspot_certainty', 'language', 'language_EDCS', 'raw_dating',\n       'not_after', 'not_before', 'Longitude', 'Latitude', 'geotemporal?',\n       'geometry', 'withinRE?', 'urban_context', 'urban_context_city',\n       'urban_context_pop_est', 'type_of_inscription_auto',\n       'type_of_inscription_auto_prob'],\n      dtype='object')"
     },
     "execution_count": 303,
     "metadata": {},
     "output_type": "execute_result"
    }
   ],
   "source": [
    "LIST.columns"
   ],
   "metadata": {
    "collapsed": false,
    "ExecuteTime": {
     "end_time": "2023-06-01T09:31:29.699395Z",
     "start_time": "2023-06-01T09:31:29.693445Z"
    }
   }
  },
  {
   "cell_type": "code",
   "execution_count": 304,
   "outputs": [],
   "source": [
    "json_string = \"[{'persname': {'name': [{'@type': 'praenomen', '#text': 'C.'}, {'@type': 'nomen', '#text': 'Iulius'}, {'@type': 'cognomen', '#text': 'Capito*'}]}, '@sex': 'M', '@{http://www.w3.org/XML/1998/namespace}id': 'HD057920_1'}, {'persname': {'name': [{'@type': 'praenomen', '#text': 'C.'}, {'@type': 'nomen', '#text': 'Iulius'}, {'@type': 'cognomen', '#text': 'Maximus+'}]}, '@sex': 'M', '@{http://www.w3.org/XML/1998/namespace}id': 'HD057920_2'}]\""
   ],
   "metadata": {
    "collapsed": false,
    "ExecuteTime": {
     "end_time": "2023-06-01T09:31:30.026251Z",
     "start_time": "2023-06-01T09:31:30.015269Z"
    }
   }
  },
  {
   "cell_type": "code",
   "execution_count": 305,
   "outputs": [
    {
     "data": {
      "text/plain": "'[{\"persname\": {\"name\": [{\"@type\": \"praenomen\", \"#text\": \"C.\"}, {\"@type\": \"nomen\", \"#text\": \"Iulius\"}, {\"@type\": \"cognomen\", \"#text\": \"Capito*\"}]}, \"@sex\": \"M\", \"@{http://www.w3.org/XML/1998/namespace}id\": \"HD057920_1\"}, {\"persname\": {\"name\": [{\"@type\": \"praenomen\", \"#text\": \"C.\"}, {\"@type\": \"nomen\", \"#text\": \"Iulius\"}, {\"@type\": \"cognomen\", \"#text\": \"Maximus+\"}]}, \"@sex\": \"M\", \"@{http://www.w3.org/XML/1998/namespace}id\": \"HD057920_2\"}]'"
     },
     "execution_count": 305,
     "metadata": {},
     "output_type": "execute_result"
    }
   ],
   "source": [
    "json_string = json_string.replace(\"'\", \"\\\"\")\n",
    "json_string"
   ],
   "metadata": {
    "collapsed": false,
    "ExecuteTime": {
     "end_time": "2023-06-01T09:31:30.337808Z",
     "start_time": "2023-06-01T09:31:30.326921Z"
    }
   }
  },
  {
   "cell_type": "code",
   "execution_count": 306,
   "outputs": [
    {
     "data": {
      "text/plain": "[{'persname': {'name': [{'@type': 'praenomen', '#text': 'C.'},\n    {'@type': 'nomen', '#text': 'Iulius'},\n    {'@type': 'cognomen', '#text': 'Capito*'}]},\n  '@sex': 'M',\n  '@{http://www.w3.org/XML/1998/namespace}id': 'HD057920_1'},\n {'persname': {'name': [{'@type': 'praenomen', '#text': 'C.'},\n    {'@type': 'nomen', '#text': 'Iulius'},\n    {'@type': 'cognomen', '#text': 'Maximus+'}]},\n  '@sex': 'M',\n  '@{http://www.w3.org/XML/1998/namespace}id': 'HD057920_2'}]"
     },
     "execution_count": 306,
     "metadata": {},
     "output_type": "execute_result"
    }
   ],
   "source": [
    "eval(json_string)"
   ],
   "metadata": {
    "collapsed": false,
    "ExecuteTime": {
     "end_time": "2023-06-01T09:31:30.764670Z",
     "start_time": "2023-06-01T09:31:30.755088Z"
    }
   }
  },
  {
   "cell_type": "code",
   "execution_count": 352,
   "outputs": [],
   "source": [
    "def eval_string_json(val):\n",
    "    val = str(val).replace(\"'\", \"\\\"\")\n",
    "    try:\n",
    "        val = json.loads(val)\n",
    "    except:\n",
    "        val = []\n",
    "    return val\n",
    "people_eval = LIST[\"people\"].apply(eval_string_json)"
   ],
   "metadata": {
    "collapsed": false,
    "ExecuteTime": {
     "end_time": "2023-06-01T09:52:16.734224Z",
     "start_time": "2023-06-01T09:52:15.145458Z"
    }
   }
  },
  {
   "cell_type": "code",
   "execution_count": 357,
   "outputs": [],
   "source": [
    "people_eval = people_eval.apply(lambda x: json.dumps(x, ensure_ascii=False))"
   ],
   "metadata": {
    "collapsed": false,
    "ExecuteTime": {
     "end_time": "2023-06-01T09:57:16.091424Z",
     "start_time": "2023-06-01T09:57:15.082002Z"
    }
   }
  },
  {
   "cell_type": "code",
   "execution_count": 358,
   "outputs": [
    {
     "data": {
      "text/plain": "{str}"
     },
     "execution_count": 358,
     "metadata": {},
     "output_type": "execute_result"
    }
   ],
   "source": [
    "set([type(el) for el in people_eval])"
   ],
   "metadata": {
    "collapsed": false,
    "ExecuteTime": {
     "end_time": "2023-06-01T09:57:17.319589Z",
     "start_time": "2023-06-01T09:57:17.295527Z"
    }
   }
  },
  {
   "cell_type": "code",
   "execution_count": 359,
   "outputs": [],
   "source": [
    "LIST[\"people\"] = people_eval"
   ],
   "metadata": {
    "collapsed": false,
    "ExecuteTime": {
     "end_time": "2023-06-01T09:57:27.902110Z",
     "start_time": "2023-06-01T09:57:27.472271Z"
    }
   }
  },
  {
   "cell_type": "code",
   "execution_count": 360,
   "outputs": [
    {
     "data": {
      "text/plain": "525870"
     },
     "execution_count": 360,
     "metadata": {},
     "output_type": "execute_result"
    }
   ],
   "source": [
    "len(LIST)"
   ],
   "metadata": {
    "collapsed": false,
    "ExecuteTime": {
     "end_time": "2023-06-01T09:57:28.425519Z",
     "start_time": "2023-06-01T09:57:28.419884Z"
    }
   }
  },
  {
   "cell_type": "code",
   "execution_count": 361,
   "outputs": [
    {
     "data": {
      "text/plain": "525870"
     },
     "execution_count": 361,
     "metadata": {},
     "output_type": "execute_result"
    }
   ],
   "source": [
    "LIST.geometry.is_valid.sum()"
   ],
   "metadata": {
    "collapsed": false,
    "ExecuteTime": {
     "end_time": "2023-06-01T09:57:28.915249Z",
     "start_time": "2023-06-01T09:57:28.887081Z"
    }
   }
  },
  {
   "cell_type": "code",
   "execution_count": null,
   "outputs": [],
   "source": [
    "from shapely.geometry import Point"
   ],
   "metadata": {
    "collapsed": false
   }
  },
  {
   "cell_type": "code",
   "execution_count": 330,
   "outputs": [],
   "source": [
    "def from_nones_to_emptypoints(geom):\n",
    "    if geom is None:\n",
    "        geom = Point()\n",
    "    if isinstance(geom, shapely.geometry.collection.GeometryCollection):\n",
    "        geom = Point()\n",
    "    return geom\n",
    "geometries = LIST.geometry.apply(from_nones_to_emptypoints)"
   ],
   "metadata": {
    "collapsed": false,
    "ExecuteTime": {
     "end_time": "2023-06-01T09:38:53.625073Z",
     "start_time": "2023-06-01T09:38:45.634958Z"
    }
   }
  },
  {
   "cell_type": "code",
   "execution_count": 335,
   "outputs": [],
   "source": [
    "LIST.geometry = geometries"
   ],
   "metadata": {
    "collapsed": false,
    "ExecuteTime": {
     "end_time": "2023-06-01T09:40:06.229900Z",
     "start_time": "2023-06-01T09:40:06.226217Z"
    }
   }
  },
  {
   "cell_type": "code",
   "execution_count": 338,
   "outputs": [
    {
     "data": {
      "text/plain": "525870"
     },
     "execution_count": 338,
     "metadata": {},
     "output_type": "execute_result"
    }
   ],
   "source": [
    "len(LIST)"
   ],
   "metadata": {
    "collapsed": false,
    "ExecuteTime": {
     "end_time": "2023-06-01T09:41:05.300511Z",
     "start_time": "2023-06-01T09:41:05.289867Z"
    }
   }
  },
  {
   "cell_type": "code",
   "execution_count": 345,
   "outputs": [
    {
     "data": {
      "text/plain": "525870"
     },
     "execution_count": 345,
     "metadata": {},
     "output_type": "execute_result"
    }
   ],
   "source": [
    "LIST.geometry.is_valid.sum()"
   ],
   "metadata": {
    "collapsed": false,
    "ExecuteTime": {
     "end_time": "2023-06-01T09:41:48.832302Z",
     "start_time": "2023-06-01T09:41:48.808316Z"
    }
   }
  },
  {
   "cell_type": "code",
   "execution_count": 287,
   "outputs": [],
   "source": [
    "# LIST = LIST[LIST.geometry.is_valid]"
   ],
   "metadata": {
    "collapsed": false,
    "ExecuteTime": {
     "end_time": "2023-05-31T18:53:03.666733Z",
     "start_time": "2023-05-31T18:53:03.067477Z"
    }
   }
  },
  {
   "cell_type": "code",
   "execution_count": 362,
   "outputs": [],
   "source": [
    "LIST.sample(20000, random_state=2).to_parquet(\"../data/large_data/LIST_sample.parquet\", compression='snappy')"
   ],
   "metadata": {
    "collapsed": false,
    "ExecuteTime": {
     "end_time": "2023-06-01T09:57:34.059733Z",
     "start_time": "2023-06-01T09:57:33.552606Z"
    }
   }
  },
  {
   "cell_type": "code",
   "execution_count": 363,
   "outputs": [],
   "source": [
    "LIST.to_parquet(\"../data/large_data/LIST_v0-5.parquet\")"
   ],
   "metadata": {
    "collapsed": false,
    "ExecuteTime": {
     "end_time": "2023-06-01T09:58:42.884159Z",
     "start_time": "2023-06-01T09:58:40.665807Z"
    }
   }
  },
  {
   "cell_type": "code",
   "execution_count": 364,
   "outputs": [],
   "source": [
    "LIST.sample(1000).to_file(\"../data/large_data/LIST_test.geojson\", driver=\"GeoJSON\")"
   ],
   "metadata": {
    "collapsed": false,
    "ExecuteTime": {
     "end_time": "2023-06-01T09:58:50.487119Z",
     "start_time": "2023-06-01T09:58:50.029631Z"
    }
   }
  },
  {
   "cell_type": "code",
   "execution_count": null,
   "outputs": [],
   "source": [
    "LIST.to_file(\"../data/large_data/LIST_v0-5.geojson\", driver=\"GeoJSON\")"
   ],
   "metadata": {
    "collapsed": false,
    "is_executing": true,
    "ExecuteTime": {
     "start_time": "2023-06-01T09:58:50.488863Z"
    }
   }
  },
  {
   "cell_type": "code",
   "execution_count": null,
   "outputs": [],
   "source": [],
   "metadata": {
    "collapsed": false
   }
  }
 ],
 "metadata": {
  "kernelspec": {
   "name": "lire_venv",
   "language": "python",
   "display_name": "lire_venv"
  },
  "language_info": {
   "codemirror_mode": {
    "name": "ipython",
    "version": 2
   },
   "file_extension": ".py",
   "mimetype": "text/x-python",
   "name": "python",
   "nbconvert_exporter": "python",
   "pygments_lexer": "ipython2",
   "version": "2.7.6"
  }
 },
 "nbformat": 4,
 "nbformat_minor": 0
}
