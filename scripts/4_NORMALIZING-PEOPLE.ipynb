{
 "cells": [
  {
   "cell_type": "code",
   "execution_count": 84,
   "outputs": [],
   "source": [
    "import geopandas as gpd\n",
    "import pandas as pd\n",
    "import json"
   ],
   "metadata": {
    "collapsed": false,
    "ExecuteTime": {
     "end_time": "2023-05-30T13:51:37.131385Z",
     "start_time": "2023-05-30T13:51:37.126227Z"
    }
   }
  },
  {
   "cell_type": "code",
   "execution_count": 98,
   "metadata": {
    "collapsed": true,
    "ExecuteTime": {
     "end_time": "2023-05-30T14:04:12.650884Z",
     "start_time": "2023-05-30T14:04:10.825329Z"
    }
   },
   "outputs": [],
   "source": [
    "LIST = gpd.read_parquet(\"../data/large_data/LIST_v0-4.parquet\")"
   ]
  },
  {
   "cell_type": "code",
   "execution_count": 99,
   "outputs": [
    {
     "data": {
      "text/plain": "Index(['LIST-ID', 'EDCS-ID', 'EDH-ID', 'trismegistos_uri', 'pleiades_id',\n       'transcription', 'inscription', 'clean_text_conservative',\n       'clean_text_interpretive_sentence', 'clean_text_interpretive_word',\n       'clean_text_interpretive_word_EDCS', 'diplomatic_text', 'province',\n       'place', 'inscr_type', 'status_notation', 'inscr_process', 'status',\n       'partner_link', 'last_update', 'letter_size', 'type_of_inscription',\n       'work_status', 'year_of_find', 'present_location', 'text_edition',\n       'support_objecttype', 'support_material', 'support_decoration',\n       'keywords_term', 'people', 'type_of_inscription_clean',\n       'type_of_inscription_certainty', 'height_cm', 'width_cm', 'depth_cm',\n       'material_clean', 'type_of_monument_clean',\n       'type_of_monument_certainty', 'province_label_clean',\n       'province_label_certainty', 'country_clean', 'country_certainty',\n       'findspot_ancient_clean', 'findspot_ancient_certainty',\n       'modern_region_clean', 'modern_region_certainty',\n       'findspot_modern_clean', 'findspot_modern_certainty', 'findspot_clean',\n       'findspot_certainty', 'language', 'language_EDCS', 'raw_dating',\n       'not_after', 'not_before', 'Longitude', 'Latitude', 'geotemporal?',\n       'geometry', 'withinRE?', 'urban_context', 'urban_context_city',\n       'urban_context_pop_est', 'type_of_inscription_auto',\n       'type_of_inscription_auto_prob'],\n      dtype='object')"
     },
     "execution_count": 99,
     "metadata": {},
     "output_type": "execute_result"
    }
   ],
   "source": [
    "LIST.columns"
   ],
   "metadata": {
    "collapsed": false,
    "ExecuteTime": {
     "end_time": "2023-05-30T14:04:12.655519Z",
     "start_time": "2023-05-30T14:04:12.652887Z"
    }
   }
  },
  {
   "cell_type": "code",
   "execution_count": 125,
   "outputs": [],
   "source": [
    "json_string = \"[{'persname': {'name': [{'@type': 'praenomen', '#text': 'C.'}, {'@type': 'nomen', '#text': 'Iulius'}, {'@type': 'cognomen', '#text': 'Capito*'}]}, '@sex': 'M', '@{http://www.w3.org/XML/1998/namespace}id': 'HD057920_1'}, {'persname': {'name': [{'@type': 'praenomen', '#text': 'C.'}, {'@type': 'nomen', '#text': 'Iulius'}, {'@type': 'cognomen', '#text': 'Maximus+'}]}, '@sex': 'M', '@{http://www.w3.org/XML/1998/namespace}id': 'HD057920_2'}]\""
   ],
   "metadata": {
    "collapsed": false,
    "ExecuteTime": {
     "end_time": "2023-05-30T14:32:41.225925Z",
     "start_time": "2023-05-30T14:32:41.223679Z"
    }
   }
  },
  {
   "cell_type": "code",
   "execution_count": 126,
   "outputs": [
    {
     "data": {
      "text/plain": "'[{\"persname\": {\"name\": [{\"@type\": \"praenomen\", \"#text\": \"C.\"}, {\"@type\": \"nomen\", \"#text\": \"Iulius\"}, {\"@type\": \"cognomen\", \"#text\": \"Capito*\"}]}, \"@sex\": \"M\", \"@{http://www.w3.org/XML/1998/namespace}id\": \"HD057920_1\"}, {\"persname\": {\"name\": [{\"@type\": \"praenomen\", \"#text\": \"C.\"}, {\"@type\": \"nomen\", \"#text\": \"Iulius\"}, {\"@type\": \"cognomen\", \"#text\": \"Maximus+\"}]}, \"@sex\": \"M\", \"@{http://www.w3.org/XML/1998/namespace}id\": \"HD057920_2\"}]'"
     },
     "execution_count": 126,
     "metadata": {},
     "output_type": "execute_result"
    }
   ],
   "source": [
    "json_string = json_string.replace(\"'\", \"\\\"\")\n",
    "json_string"
   ],
   "metadata": {
    "collapsed": false,
    "ExecuteTime": {
     "end_time": "2023-05-30T14:32:41.542443Z",
     "start_time": "2023-05-30T14:32:41.534660Z"
    }
   }
  },
  {
   "cell_type": "code",
   "execution_count": 127,
   "outputs": [
    {
     "data": {
      "text/plain": "[{'persname': {'name': [{'@type': 'praenomen', '#text': 'C.'},\n    {'@type': 'nomen', '#text': 'Iulius'},\n    {'@type': 'cognomen', '#text': 'Capito*'}]},\n  '@sex': 'M',\n  '@{http://www.w3.org/XML/1998/namespace}id': 'HD057920_1'},\n {'persname': {'name': [{'@type': 'praenomen', '#text': 'C.'},\n    {'@type': 'nomen', '#text': 'Iulius'},\n    {'@type': 'cognomen', '#text': 'Maximus+'}]},\n  '@sex': 'M',\n  '@{http://www.w3.org/XML/1998/namespace}id': 'HD057920_2'}]"
     },
     "execution_count": 127,
     "metadata": {},
     "output_type": "execute_result"
    }
   ],
   "source": [
    "eval(json_string)"
   ],
   "metadata": {
    "collapsed": false,
    "ExecuteTime": {
     "end_time": "2023-05-30T14:32:44.699683Z",
     "start_time": "2023-05-30T14:32:44.694970Z"
    }
   }
  },
  {
   "cell_type": "code",
   "execution_count": 112,
   "outputs": [],
   "source": [
    "def eval_string_json(val):\n",
    "    val = val.replace(\"'\", \"\\\"\")\n",
    "    try:\n",
    "        val = eval(val)\n",
    "    except:\n",
    "        pass\n",
    "    return val\n",
    "people_eval = LIST[\"people\"].apply(eval_string_json)"
   ],
   "metadata": {
    "collapsed": false,
    "ExecuteTime": {
     "end_time": "2023-05-30T14:07:11.070497Z",
     "start_time": "2023-05-30T14:07:08.583269Z"
    }
   }
  },
  {
   "cell_type": "code",
   "execution_count": 36,
   "outputs": [],
   "source": [
    "LIST[\"people\"] = LIST[\"people\"].apply(eval)"
   ],
   "metadata": {
    "collapsed": false,
    "ExecuteTime": {
     "end_time": "2023-05-29T14:43:19.617219Z",
     "start_time": "2023-05-29T14:43:16.665733Z"
    }
   }
  },
  {
   "cell_type": "code",
   "execution_count": 122,
   "outputs": [],
   "source": [
    "LIST.to_crs(4326, inplace=True)"
   ],
   "metadata": {
    "collapsed": false,
    "ExecuteTime": {
     "end_time": "2023-05-30T14:20:49.568187Z",
     "start_time": "2023-05-30T14:20:49.356675Z"
    }
   }
  },
  {
   "cell_type": "code",
   "execution_count": 123,
   "outputs": [],
   "source": [
    "LIST.to_parquet(\"../data/large_data/LIST_v0-5.parquet\")"
   ],
   "metadata": {
    "collapsed": false,
    "ExecuteTime": {
     "end_time": "2023-05-30T14:21:00.240446Z",
     "start_time": "2023-05-30T14:20:58.101741Z"
    }
   }
  },
  {
   "cell_type": "code",
   "execution_count": 115,
   "outputs": [],
   "source": [
    "LIST.to_file(\"../data/large_data/LIST_v0-5.geojson\", driver=\"GeoJSON\")"
   ],
   "metadata": {
    "collapsed": false,
    "ExecuteTime": {
     "end_time": "2023-05-30T14:15:28.892830Z",
     "start_time": "2023-05-30T14:12:10.788313Z"
    }
   }
  },
  {
   "cell_type": "code",
   "execution_count": 121,
   "outputs": [],
   "source": [
    "LIST.sample(1000).to_file(\"../data/large_data/LIST_test.geojson\", driver=\"GeoJSON\")"
   ],
   "metadata": {
    "collapsed": false,
    "ExecuteTime": {
     "end_time": "2023-05-30T14:20:14.423382Z",
     "start_time": "2023-05-30T14:20:13.850086Z"
    }
   }
  },
  {
   "cell_type": "code",
   "execution_count": 124,
   "outputs": [],
   "source": [
    "LIST.sample(10000).to_parquet(\"../data/large_data/LIST_sample.parquet\")"
   ],
   "metadata": {
    "collapsed": false,
    "ExecuteTime": {
     "end_time": "2023-05-30T14:28:19.988603Z",
     "start_time": "2023-05-30T14:28:19.629188Z"
    }
   }
  }
 ],
 "metadata": {
  "kernelspec": {
   "name": "lire_venv",
   "language": "python",
   "display_name": "lire_venv"
  },
  "language_info": {
   "codemirror_mode": {
    "name": "ipython",
    "version": 2
   },
   "file_extension": ".py",
   "mimetype": "text/x-python",
   "name": "python",
   "nbconvert_exporter": "python",
   "pygments_lexer": "ipython2",
   "version": "2.7.6"
  }
 },
 "nbformat": 4,
 "nbformat_minor": 0
}
