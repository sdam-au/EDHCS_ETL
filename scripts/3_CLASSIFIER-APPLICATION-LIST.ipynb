{
 "cells": [
  {
   "cell_type": "code",
   "execution_count": 1,
   "outputs": [],
   "source": [
    "import sddk\n",
    "import pandas as pd\n",
    "import tabulate\n",
    "pd.options.display.max_columns = 1000 # to see all columns\n",
    "import json\n",
    "import re\n",
    "import geopandas as gpd\n",
    "from shapely.geometry import Point\n",
    "from functools import partial\n",
    "from shapely.ops import transform\n",
    "import pyproj\n",
    "import warnings\n",
    "warnings.filterwarnings('ignore')\n",
    "import numpy as np\n",
    "from scipy.spatial import cKDTree\n",
    "import matplotlib.pyplot as plt\n",
    "\n",
    "from sklearn.feature_extraction.text import CountVectorizer\n",
    "from sklearn.feature_extraction.text import TfidfVectorizer\n",
    "\n",
    "from sklearn.model_selection import train_test_split\n",
    "from sklearn.svm import SVC\n",
    "from sklearn.metrics import confusion_matrix\n",
    "\n",
    "import pickle\n",
    "\n",
    "import nltk\n",
    "from nltk.util import bigrams"
   ],
   "metadata": {
    "collapsed": false
   }
  },
  {
   "cell_type": "code",
   "execution_count": 66,
   "outputs": [],
   "source": [
    "LIST = gpd.read_parquet(\"../data/large_data/LIST_contexts.parquet\") # point out to your local version..."
   ],
   "metadata": {
    "collapsed": false
   }
  },
  {
   "cell_type": "code",
   "execution_count": 67,
   "outputs": [],
   "source": [
    "# remove?\n",
    "EDH_overlap_all = LIST[(LIST[\"EDH-ID\"].notnull()) & (LIST[\"EDCS-ID\"].notnull())]\n",
    "EDH_overlap = EDH_overlap_all[~EDH_overlap_all[\"type_of_inscription_clean\"].str.contains(\"NULL\")]"
   ],
   "metadata": {
    "collapsed": false
   }
  },
  {
   "cell_type": "markdown",
   "source": [
    "Now we can focus on some EDCS attributes (i.e. firt 28 columns) which might be good predictors of `type_of_inscription_clean` in EDH. First, look at `status_list`:"
   ],
   "metadata": {
    "collapsed": false
   }
  },
  {
   "cell_type": "markdown",
   "source": [
    "# Applying the model"
   ],
   "metadata": {
    "collapsed": false
   }
  },
  {
   "cell_type": "code",
   "execution_count": 68,
   "outputs": [],
   "source": [
    "# load the model and vectorizer back\n",
    "classifier = pickle.load(open('../data/large_data/et_model_v2.0.sav', 'rb'))\n",
    "vectorizer = pickle.load(open('../data/large_data/et_vectorizer_v2.0.sav','rb'))"
   ],
   "metadata": {
    "collapsed": false
   }
  },
  {
   "cell_type": "code",
   "execution_count": 69,
   "outputs": [
    {
     "data": {
      "text/plain": "  LIST-ID        EDCS-ID EDH-ID trismegistos_uri pleiades_id transcription  \\\n0  LIST-1  EDCS-31400030   None             None        None          None   \n1  LIST-2  EDCS-55701593   None             None        None          None   \n2  LIST-3  EDCS-55701594   None             None        None          None   \n3  LIST-4  EDCS-55701595   None             None        None          None   \n4  LIST-5  EDCS-55701596   None             None        None          None   \n\n           inscription clean_text_conservative  \\\n0                Leius                   Leius   \n1    Cn(aeus) Atei(us)                 Cn Atei   \n2           Avill(ius)                   Avill   \n3  L(ucius) Av(illius)                    L Av   \n4             Camurius                Camurius   \n\n  clean_text_interpretive_sentence clean_text_interpretive_word  \\\n0                             None                        Leius   \n1                             None                Cnaeus Ateius   \n2                             None                     Avillius   \n3                             None              Lucius Avillius   \n4                             None                     Camurius   \n\n  clean_text_interpretive_word_EDCS diplomatic_text province  \\\n0                             Leius            None   Achaia   \n1                     Cnaeus Ateius            None   Achaia   \n2                          Avillius            None   Achaia   \n3                   Lucius Avillius            None   Achaia   \n4                          Camurius            None   Achaia   \n\n                     place            inscr_type           status_notation  \\\n0                        ?                  None                      None   \n1  Agios Donatos / Photike  tituli fabricationis  praenomen et nomen, viri   \n2  Agios Donatos / Photike  tituli fabricationis     nomen singulare, viri   \n3  Agios Donatos / Photike  tituli fabricationis  praenomen et nomen, viri   \n4  Agios Donatos / Photike  tituli fabricationis     nomen singulare, viri   \n\n      inscr_process                                             status  \\\n0              None                                               None   \n1  sigilla impressa  praenomen et nomen;  sigilla impressa;  tituli...   \n2  sigilla impressa  nomen singulare;  sigilla impressa;  tituli fa...   \n3  sigilla impressa  praenomen et nomen;  sigilla impressa;  tituli...   \n4  sigilla impressa  nomen singulare;  sigilla impressa;  tituli fa...   \n\n  partner_link last_update letter_size type_of_inscription work_status  \\\n0         None        None        None                None        None   \n1         None        None        None                None        None   \n2         None        None        None                None        None   \n3         None        None        None                None        None   \n4         None        None        None                None        None   \n\n   year_of_find present_location text_edition support_objecttype  \\\n0           NaN             None         None               None   \n1           NaN             None         None               None   \n2           NaN             None         None               None   \n3           NaN             None         None               None   \n4           NaN             None         None               None   \n\n   support_material  support_decoration  keywords_term people  \\\n0               NaN                 NaN            NaN    [ ]   \n1               NaN                 NaN            NaN    [ ]   \n2               NaN                 NaN            NaN    [ ]   \n3               NaN                 NaN            NaN    [ ]   \n4               NaN                 NaN            NaN    [ ]   \n\n  type_of_inscription_clean  type_of_inscription_certainty  height_cm  \\\n0                      None                          False        NaN   \n1                      None                          False        NaN   \n2                      None                          False        NaN   \n3                      None                          False        NaN   \n4                      None                          False        NaN   \n\n   width_cm  depth_cm material_clean type_of_monument_clean  \\\n0       NaN       NaN           None                   None   \n1       NaN       NaN           None                   None   \n2       NaN       NaN           None                   None   \n3       NaN       NaN           None                   None   \n4       NaN       NaN           None                   None   \n\n   type_of_monument_certainty province_label_clean  province_label_certainty  \\\n0                       False                 None                     False   \n1                       False                 None                     False   \n2                       False                 None                     False   \n3                       False                 None                     False   \n4                       False                 None                     False   \n\n  country_clean  country_certainty findspot_ancient_clean  \\\n0          None              False                   None   \n1          None              False                   None   \n2          None              False                   None   \n3          None              False                   None   \n4          None              False                   None   \n\n   findspot_ancient_certainty modern_region_clean  modern_region_certainty  \\\n0                       False                None                    False   \n1                       False                None                    False   \n2                       False                None                    False   \n3                       False                None                    False   \n4                       False                None                    False   \n\n  findspot_modern_clean  findspot_modern_certainty findspot_clean  \\\n0                  None                      False           None   \n1                  None                      False           None   \n2                  None                      False           None   \n3                  None                      False           None   \n4                  None                      False           None   \n\n   findspot_certainty language language_EDCS raw_dating  not_after  \\\n0               False        L          None       None        NaN   \n1               False        L          None       None        NaN   \n2               False        L          None       None        NaN   \n3               False        L          None       None        NaN   \n4               False        L          None       None        NaN   \n\n   not_before  Longitude   Latitude  geotemporal?                   geometry  \\\n0         NaN        NaN        NaN         False                       None   \n1         NaN  20.506908  39.475976         False  POINT (20.50691 39.47598)   \n2         NaN  20.506908  39.475976         False  POINT (20.50691 39.47598)   \n3         NaN  20.506908  39.475976         False  POINT (20.50691 39.47598)   \n4         NaN  20.506908  39.475976         False  POINT (20.50691 39.47598)   \n\n   withinRE?  large_city_pop  medium_city_pop  small_city_pop urban_context  \\\n0      False             NaN              NaN             NaN          None   \n1       True         41221.0          27923.0          1000.0         rural   \n2       True         41221.0          27923.0          1000.0         rural   \n3       True         41221.0          27923.0          1000.0         rural   \n4       True         41221.0          27923.0          1000.0         rural   \n\n  urban_context_city  urban_context_pop_est  \n0               None                    NaN  \n1               None                    NaN  \n2               None                    NaN  \n3               None                    NaN  \n4               None                    NaN  ",
      "text/html": "<div>\n<style scoped>\n    .dataframe tbody tr th:only-of-type {\n        vertical-align: middle;\n    }\n\n    .dataframe tbody tr th {\n        vertical-align: top;\n    }\n\n    .dataframe thead th {\n        text-align: right;\n    }\n</style>\n<table border=\"1\" class=\"dataframe\">\n  <thead>\n    <tr style=\"text-align: right;\">\n      <th></th>\n      <th>LIST-ID</th>\n      <th>EDCS-ID</th>\n      <th>EDH-ID</th>\n      <th>trismegistos_uri</th>\n      <th>pleiades_id</th>\n      <th>transcription</th>\n      <th>inscription</th>\n      <th>clean_text_conservative</th>\n      <th>clean_text_interpretive_sentence</th>\n      <th>clean_text_interpretive_word</th>\n      <th>clean_text_interpretive_word_EDCS</th>\n      <th>diplomatic_text</th>\n      <th>province</th>\n      <th>place</th>\n      <th>inscr_type</th>\n      <th>status_notation</th>\n      <th>inscr_process</th>\n      <th>status</th>\n      <th>partner_link</th>\n      <th>last_update</th>\n      <th>letter_size</th>\n      <th>type_of_inscription</th>\n      <th>work_status</th>\n      <th>year_of_find</th>\n      <th>present_location</th>\n      <th>text_edition</th>\n      <th>support_objecttype</th>\n      <th>support_material</th>\n      <th>support_decoration</th>\n      <th>keywords_term</th>\n      <th>people</th>\n      <th>type_of_inscription_clean</th>\n      <th>type_of_inscription_certainty</th>\n      <th>height_cm</th>\n      <th>width_cm</th>\n      <th>depth_cm</th>\n      <th>material_clean</th>\n      <th>type_of_monument_clean</th>\n      <th>type_of_monument_certainty</th>\n      <th>province_label_clean</th>\n      <th>province_label_certainty</th>\n      <th>country_clean</th>\n      <th>country_certainty</th>\n      <th>findspot_ancient_clean</th>\n      <th>findspot_ancient_certainty</th>\n      <th>modern_region_clean</th>\n      <th>modern_region_certainty</th>\n      <th>findspot_modern_clean</th>\n      <th>findspot_modern_certainty</th>\n      <th>findspot_clean</th>\n      <th>findspot_certainty</th>\n      <th>language</th>\n      <th>language_EDCS</th>\n      <th>raw_dating</th>\n      <th>not_after</th>\n      <th>not_before</th>\n      <th>Longitude</th>\n      <th>Latitude</th>\n      <th>geotemporal?</th>\n      <th>geometry</th>\n      <th>withinRE?</th>\n      <th>large_city_pop</th>\n      <th>medium_city_pop</th>\n      <th>small_city_pop</th>\n      <th>urban_context</th>\n      <th>urban_context_city</th>\n      <th>urban_context_pop_est</th>\n    </tr>\n  </thead>\n  <tbody>\n    <tr>\n      <th>0</th>\n      <td>LIST-1</td>\n      <td>EDCS-31400030</td>\n      <td>None</td>\n      <td>None</td>\n      <td>None</td>\n      <td>None</td>\n      <td>Leius</td>\n      <td>Leius</td>\n      <td>None</td>\n      <td>Leius</td>\n      <td>Leius</td>\n      <td>None</td>\n      <td>Achaia</td>\n      <td>?</td>\n      <td>None</td>\n      <td>None</td>\n      <td>None</td>\n      <td>None</td>\n      <td>None</td>\n      <td>None</td>\n      <td>None</td>\n      <td>None</td>\n      <td>None</td>\n      <td>NaN</td>\n      <td>None</td>\n      <td>None</td>\n      <td>None</td>\n      <td>NaN</td>\n      <td>NaN</td>\n      <td>NaN</td>\n      <td>[ ]</td>\n      <td>None</td>\n      <td>False</td>\n      <td>NaN</td>\n      <td>NaN</td>\n      <td>NaN</td>\n      <td>None</td>\n      <td>None</td>\n      <td>False</td>\n      <td>None</td>\n      <td>False</td>\n      <td>None</td>\n      <td>False</td>\n      <td>None</td>\n      <td>False</td>\n      <td>None</td>\n      <td>False</td>\n      <td>None</td>\n      <td>False</td>\n      <td>None</td>\n      <td>False</td>\n      <td>L</td>\n      <td>None</td>\n      <td>None</td>\n      <td>NaN</td>\n      <td>NaN</td>\n      <td>NaN</td>\n      <td>NaN</td>\n      <td>False</td>\n      <td>None</td>\n      <td>False</td>\n      <td>NaN</td>\n      <td>NaN</td>\n      <td>NaN</td>\n      <td>None</td>\n      <td>None</td>\n      <td>NaN</td>\n    </tr>\n    <tr>\n      <th>1</th>\n      <td>LIST-2</td>\n      <td>EDCS-55701593</td>\n      <td>None</td>\n      <td>None</td>\n      <td>None</td>\n      <td>None</td>\n      <td>Cn(aeus) Atei(us)</td>\n      <td>Cn Atei</td>\n      <td>None</td>\n      <td>Cnaeus Ateius</td>\n      <td>Cnaeus Ateius</td>\n      <td>None</td>\n      <td>Achaia</td>\n      <td>Agios Donatos / Photike</td>\n      <td>tituli fabricationis</td>\n      <td>praenomen et nomen, viri</td>\n      <td>sigilla impressa</td>\n      <td>praenomen et nomen;  sigilla impressa;  tituli...</td>\n      <td>None</td>\n      <td>None</td>\n      <td>None</td>\n      <td>None</td>\n      <td>None</td>\n      <td>NaN</td>\n      <td>None</td>\n      <td>None</td>\n      <td>None</td>\n      <td>NaN</td>\n      <td>NaN</td>\n      <td>NaN</td>\n      <td>[ ]</td>\n      <td>None</td>\n      <td>False</td>\n      <td>NaN</td>\n      <td>NaN</td>\n      <td>NaN</td>\n      <td>None</td>\n      <td>None</td>\n      <td>False</td>\n      <td>None</td>\n      <td>False</td>\n      <td>None</td>\n      <td>False</td>\n      <td>None</td>\n      <td>False</td>\n      <td>None</td>\n      <td>False</td>\n      <td>None</td>\n      <td>False</td>\n      <td>None</td>\n      <td>False</td>\n      <td>L</td>\n      <td>None</td>\n      <td>None</td>\n      <td>NaN</td>\n      <td>NaN</td>\n      <td>20.506908</td>\n      <td>39.475976</td>\n      <td>False</td>\n      <td>POINT (20.50691 39.47598)</td>\n      <td>True</td>\n      <td>41221.0</td>\n      <td>27923.0</td>\n      <td>1000.0</td>\n      <td>rural</td>\n      <td>None</td>\n      <td>NaN</td>\n    </tr>\n    <tr>\n      <th>2</th>\n      <td>LIST-3</td>\n      <td>EDCS-55701594</td>\n      <td>None</td>\n      <td>None</td>\n      <td>None</td>\n      <td>None</td>\n      <td>Avill(ius)</td>\n      <td>Avill</td>\n      <td>None</td>\n      <td>Avillius</td>\n      <td>Avillius</td>\n      <td>None</td>\n      <td>Achaia</td>\n      <td>Agios Donatos / Photike</td>\n      <td>tituli fabricationis</td>\n      <td>nomen singulare, viri</td>\n      <td>sigilla impressa</td>\n      <td>nomen singulare;  sigilla impressa;  tituli fa...</td>\n      <td>None</td>\n      <td>None</td>\n      <td>None</td>\n      <td>None</td>\n      <td>None</td>\n      <td>NaN</td>\n      <td>None</td>\n      <td>None</td>\n      <td>None</td>\n      <td>NaN</td>\n      <td>NaN</td>\n      <td>NaN</td>\n      <td>[ ]</td>\n      <td>None</td>\n      <td>False</td>\n      <td>NaN</td>\n      <td>NaN</td>\n      <td>NaN</td>\n      <td>None</td>\n      <td>None</td>\n      <td>False</td>\n      <td>None</td>\n      <td>False</td>\n      <td>None</td>\n      <td>False</td>\n      <td>None</td>\n      <td>False</td>\n      <td>None</td>\n      <td>False</td>\n      <td>None</td>\n      <td>False</td>\n      <td>None</td>\n      <td>False</td>\n      <td>L</td>\n      <td>None</td>\n      <td>None</td>\n      <td>NaN</td>\n      <td>NaN</td>\n      <td>20.506908</td>\n      <td>39.475976</td>\n      <td>False</td>\n      <td>POINT (20.50691 39.47598)</td>\n      <td>True</td>\n      <td>41221.0</td>\n      <td>27923.0</td>\n      <td>1000.0</td>\n      <td>rural</td>\n      <td>None</td>\n      <td>NaN</td>\n    </tr>\n    <tr>\n      <th>3</th>\n      <td>LIST-4</td>\n      <td>EDCS-55701595</td>\n      <td>None</td>\n      <td>None</td>\n      <td>None</td>\n      <td>None</td>\n      <td>L(ucius) Av(illius)</td>\n      <td>L Av</td>\n      <td>None</td>\n      <td>Lucius Avillius</td>\n      <td>Lucius Avillius</td>\n      <td>None</td>\n      <td>Achaia</td>\n      <td>Agios Donatos / Photike</td>\n      <td>tituli fabricationis</td>\n      <td>praenomen et nomen, viri</td>\n      <td>sigilla impressa</td>\n      <td>praenomen et nomen;  sigilla impressa;  tituli...</td>\n      <td>None</td>\n      <td>None</td>\n      <td>None</td>\n      <td>None</td>\n      <td>None</td>\n      <td>NaN</td>\n      <td>None</td>\n      <td>None</td>\n      <td>None</td>\n      <td>NaN</td>\n      <td>NaN</td>\n      <td>NaN</td>\n      <td>[ ]</td>\n      <td>None</td>\n      <td>False</td>\n      <td>NaN</td>\n      <td>NaN</td>\n      <td>NaN</td>\n      <td>None</td>\n      <td>None</td>\n      <td>False</td>\n      <td>None</td>\n      <td>False</td>\n      <td>None</td>\n      <td>False</td>\n      <td>None</td>\n      <td>False</td>\n      <td>None</td>\n      <td>False</td>\n      <td>None</td>\n      <td>False</td>\n      <td>None</td>\n      <td>False</td>\n      <td>L</td>\n      <td>None</td>\n      <td>None</td>\n      <td>NaN</td>\n      <td>NaN</td>\n      <td>20.506908</td>\n      <td>39.475976</td>\n      <td>False</td>\n      <td>POINT (20.50691 39.47598)</td>\n      <td>True</td>\n      <td>41221.0</td>\n      <td>27923.0</td>\n      <td>1000.0</td>\n      <td>rural</td>\n      <td>None</td>\n      <td>NaN</td>\n    </tr>\n    <tr>\n      <th>4</th>\n      <td>LIST-5</td>\n      <td>EDCS-55701596</td>\n      <td>None</td>\n      <td>None</td>\n      <td>None</td>\n      <td>None</td>\n      <td>Camurius</td>\n      <td>Camurius</td>\n      <td>None</td>\n      <td>Camurius</td>\n      <td>Camurius</td>\n      <td>None</td>\n      <td>Achaia</td>\n      <td>Agios Donatos / Photike</td>\n      <td>tituli fabricationis</td>\n      <td>nomen singulare, viri</td>\n      <td>sigilla impressa</td>\n      <td>nomen singulare;  sigilla impressa;  tituli fa...</td>\n      <td>None</td>\n      <td>None</td>\n      <td>None</td>\n      <td>None</td>\n      <td>None</td>\n      <td>NaN</td>\n      <td>None</td>\n      <td>None</td>\n      <td>None</td>\n      <td>NaN</td>\n      <td>NaN</td>\n      <td>NaN</td>\n      <td>[ ]</td>\n      <td>None</td>\n      <td>False</td>\n      <td>NaN</td>\n      <td>NaN</td>\n      <td>NaN</td>\n      <td>None</td>\n      <td>None</td>\n      <td>False</td>\n      <td>None</td>\n      <td>False</td>\n      <td>None</td>\n      <td>False</td>\n      <td>None</td>\n      <td>False</td>\n      <td>None</td>\n      <td>False</td>\n      <td>None</td>\n      <td>False</td>\n      <td>None</td>\n      <td>False</td>\n      <td>L</td>\n      <td>None</td>\n      <td>None</td>\n      <td>NaN</td>\n      <td>NaN</td>\n      <td>20.506908</td>\n      <td>39.475976</td>\n      <td>False</td>\n      <td>POINT (20.50691 39.47598)</td>\n      <td>True</td>\n      <td>41221.0</td>\n      <td>27923.0</td>\n      <td>1000.0</td>\n      <td>rural</td>\n      <td>None</td>\n      <td>NaN</td>\n    </tr>\n  </tbody>\n</table>\n</div>"
     },
     "execution_count": 69,
     "metadata": {},
     "output_type": "execute_result"
    }
   ],
   "source": [
    "# we will apply the model to inscriptions which are only in EDCS\n",
    "EDCS_unique = LIST[(LIST[\"EDH-ID\"].isnull()) & (LIST[\"EDCS-ID\"].notnull())]\n",
    "EDCS_unique.head(5)"
   ],
   "metadata": {
    "collapsed": false
   }
  },
  {
   "cell_type": "code",
   "execution_count": 70,
   "outputs": [],
   "source": [
    "# first create bigrams\n",
    "def get_bigrams_underscore(inscr_text):\n",
    "    try:\n",
    "        inscr_bigrams = [\" \".join(el) for el in list(bigrams(inscr_text.split()))]\n",
    "        inscr_bigrams_ = [bigram.replace(\" \", \"_\") for bigram in inscr_bigrams]\n",
    "    except:\n",
    "        inscr_bigrams_ = []\n",
    "    return inscr_bigrams_\n",
    "\n",
    "EDCS_unique[\"bigrams\"] = EDCS_unique[\"clean_text_interpretive_word\"].apply(get_bigrams_underscore)"
   ],
   "metadata": {
    "collapsed": false
   }
  },
  {
   "cell_type": "code",
   "execution_count": 71,
   "outputs": [],
   "source": [
    "EDCS_unique[\"status_list\"] = EDCS_unique[\"status\"].fillna(value=\"\").apply(lambda x: x.split(\";\"))\n",
    "EDCS_unique[\"material_clean\"].replace(\"NULL\", inplace=True)"
   ],
   "metadata": {
    "collapsed": false
   }
  },
  {
   "cell_type": "code",
   "execution_count": 72,
   "outputs": [],
   "source": [
    "def combine_status_list_and_bigrams(el_status, el_bigrams, el_material):\n",
    "    # preprocess status:\n",
    "    try:\n",
    "        el_status = eval(el_status)\n",
    "    except:\n",
    "        pass\n",
    "    if isinstance(el_status, list):\n",
    "        new_el_status = el_status\n",
    "    elif isinstance(el_status, str):\n",
    "        new_el_status = [el_status]\n",
    "    else:\n",
    "        new_el_status = []\n",
    "    new_el_status = [el.strip().replace(\" \", \"_\") for el in new_el_status]\n",
    "    # preprocess material:\n",
    "    if el_material is None:\n",
    "        el_material = []\n",
    "    else:\n",
    "        el_material = el_material.partition(\": \")[0]  #\n",
    "        el_material = el_material.split(\", \")\n",
    "        el_material = [el.replace(\" \", \"_\").replace(\"?\", \"\") for el in el_material]\n",
    "    # combine status, bigrams and material\n",
    "    new_el = new_el_status + el_bigrams + el_material\n",
    "    new_el = \" \".join(new_el)\n",
    "    return new_el, new_el_status, el_material"
   ],
   "metadata": {
    "collapsed": false
   }
  },
  {
   "cell_type": "code",
   "execution_count": 73,
   "outputs": [],
   "source": [
    "# we need to extract all predictors from the dataframe\n",
    "# into `status_bigrams_list_apply` (list of lists)\n",
    "status_bigrams_list_apply = []\n",
    "status_list = []\n",
    "material_list = []\n",
    "for el_status, el_bigrams, el_material in zip(EDCS_unique[\"status_list\"].tolist(), EDCS_unique[\"bigrams\"].tolist(), EDCS_unique[\"material_clean\"].tolist()):\n",
    "    new_el, new_status, el_material = combine_status_list_and_bigrams(el_status, el_bigrams, el_material)\n",
    "    status_bigrams_list_apply.append(new_el)\n",
    "    status_list.append(new_status)\n",
    "    material_list.extend(el_material)"
   ],
   "metadata": {
    "collapsed": false
   }
  },
  {
   "cell_type": "code",
   "execution_count": 74,
   "outputs": [],
   "source": [
    "X_applied = vectorizer.transform(status_bigrams_list_apply)"
   ],
   "metadata": {
    "collapsed": false
   }
  },
  {
   "cell_type": "code",
   "execution_count": 75,
   "outputs": [
    {
     "data": {
      "text/plain": "array(['identification inscription', 'owner/artist inscription',\n       'owner/artist inscription', 'owner/artist inscription',\n       'owner/artist inscription', 'owner/artist inscription',\n       'votive inscription', 'identification inscription',\n       'honorific inscription', 'building/dedicatory inscription'],\n      dtype='<U31')"
     },
     "execution_count": 75,
     "metadata": {},
     "output_type": "execute_result"
    }
   ],
   "source": [
    "prediction = classifier.predict(X_applied)\n",
    "prediction[:10]"
   ],
   "metadata": {
    "collapsed": false
   }
  },
  {
   "cell_type": "code",
   "execution_count": 76,
   "outputs": [
    {
     "data": {
      "text/plain": "array(['acclamation', 'adnuntiatio', 'assignation inscription',\n       'boundary inscription', 'building/dedicatory inscription',\n       'calendar', 'defixio', 'elogium', 'epitaph',\n       'honorific inscription', 'identification inscription', 'label',\n       'letter', 'list', 'mile-/leaguestone', 'military diploma',\n       'owner/artist inscription', 'prayer', 'private legal inscription',\n       'public legal inscription', 'seat inscription',\n       'votive inscription'], dtype='<U31')"
     },
     "execution_count": 76,
     "metadata": {},
     "output_type": "execute_result"
    }
   ],
   "source": [
    "classifier.classes_"
   ],
   "metadata": {
    "collapsed": false
   }
  },
  {
   "cell_type": "code",
   "execution_count": 77,
   "outputs": [
    {
     "data": {
      "text/plain": "[0.6666666666666659,\n 0.9031917526917528,\n 0.8401048945136412,\n 0.9031917526917528,\n 0.8401048945136412,\n 0.9031917526917528,\n 0.36523809523809525,\n 0.6666666666666659,\n 0.62,\n 0.3782555555555555]"
     },
     "execution_count": 77,
     "metadata": {},
     "output_type": "execute_result"
    }
   ],
   "source": [
    "probs = [np.max(pred) for pred in classifier.predict_proba(X_applied)]\n",
    "probs[:10]"
   ],
   "metadata": {
    "collapsed": false
   }
  },
  {
   "cell_type": "code",
   "execution_count": 78,
   "outputs": [
    {
     "data": {
      "text/plain": "[('identification inscription', 0.6666666666666659),\n ('owner/artist inscription', 0.9031917526917528),\n ('owner/artist inscription', 0.8401048945136412),\n ('owner/artist inscription', 0.9031917526917528),\n ('owner/artist inscription', 0.8401048945136412),\n ('owner/artist inscription', 0.9031917526917528),\n ('votive inscription', 0.36523809523809525),\n ('identification inscription', 0.6666666666666659),\n ('honorific inscription', 0.62),\n ('building/dedicatory inscription', 0.3782555555555555)]"
     },
     "execution_count": 78,
     "metadata": {},
     "output_type": "execute_result"
    }
   ],
   "source": [
    "prediction_probs = [(classifier.classes_[np.argmax(pred)], pred[np.argmax(pred)]) for pred in classifier.predict_proba(X_applied)]\n",
    "prediction_probs[:10]"
   ],
   "metadata": {
    "collapsed": false
   }
  },
  {
   "cell_type": "code",
   "execution_count": 79,
   "outputs": [
    {
     "data": {
      "text/plain": "448585"
     },
     "execution_count": 79,
     "metadata": {},
     "output_type": "execute_result"
    }
   ],
   "source": [
    "len(prediction_probs)"
   ],
   "metadata": {
    "collapsed": false
   }
  },
  {
   "cell_type": "code",
   "execution_count": 80,
   "outputs": [
    {
     "data": {
      "text/plain": "448585"
     },
     "execution_count": 80,
     "metadata": {},
     "output_type": "execute_result"
    }
   ],
   "source": [
    "len(prediction_probs)"
   ],
   "metadata": {
    "collapsed": false
   }
  },
  {
   "cell_type": "code",
   "execution_count": 81,
   "outputs": [
    {
     "name": "stdout",
     "output_type": "stream",
     "text": [
      "prob. threshold: 0.4, proportion of inscr.: 0.9790808876801498\n",
      "prob. threshold: 0.45, proportion of inscr.: 0.966093382525051\n",
      "prob. threshold: 0.5, proportion of inscr.: 0.9429115998082861\n",
      "prob. threshold: 0.55, proportion of inscr.: 0.9070633213326348\n",
      "prob. threshold: 0.6, proportion of inscr.: 0.8814093204186497\n",
      "prob. threshold: 0.65, proportion of inscr.: 0.8632388510538694\n",
      "prob. threshold: 0.7, proportion of inscr.: 0.6805911923046915\n",
      "prob. threshold: 0.75, proportion of inscr.: 0.6581784945996857\n",
      "prob. threshold: 0.8, proportion of inscr.: 0.5933189919413266\n",
      "prob. threshold: 0.85, proportion of inscr.: 0.5478627238984808\n",
      "prob. threshold: 0.9, proportion of inscr.: 0.5202313942731032\n",
      "prob. threshold: 0.95, proportion of inscr.: 0.4698173144443082\n"
     ]
    }
   ],
   "source": [
    "for threshold in [thres / 100 for thres in range(40, 100, 5)]:\n",
    "    above_threshold = [tup for tup in prediction_probs if tup[1] >= threshold]\n",
    "    proportion = len(above_threshold) / len(prediction_probs)\n",
    "    print(\"prob. threshold: {0}, proportion of inscr.: {1}\".format(threshold, proportion))"
   ],
   "metadata": {
    "collapsed": false
   }
  },
  {
   "cell_type": "code",
   "execution_count": 82,
   "outputs": [
    {
     "data": {
      "text/plain": "    threshold (=/>)  proportion       N\n0              0.30        0.99  445898\n1              0.32        0.99  445147\n2              0.34        0.99  444183\n3              0.36        0.99  443094\n4              0.38        0.98  440821\n5              0.40        0.98  439201\n6              0.42        0.97  436929\n7              0.44        0.97  434828\n8              0.46        0.96  431418\n9              0.48        0.95  427592\n10             0.50        0.94  422976\n11             0.52        0.92  412286\n12             0.54        0.91  408655\n13             0.56        0.90  402808\n14             0.58        0.89  399256\n15             0.60        0.88  395387\n16             0.62        0.87  392132\n17             0.64        0.87  388444\n18             0.66        0.86  384555\n19             0.68        0.69  310185\n20             0.70        0.68  305303\n21             0.72        0.67  301264\n22             0.74        0.66  297946\n23             0.76        0.65  293717\n24             0.78        0.64  286788\n25             0.80        0.59  266154\n26             0.82        0.59  262971\n27             0.84        0.57  255174\n28             0.86        0.54  243780\n29             0.88        0.53  237968\n30             0.90        0.52  233368\n31             0.92        0.51  227150\n32             0.94        0.48  214623\n33             0.96        0.46  206103\n34             0.98        0.43  191752",
      "text/html": "<div>\n<style scoped>\n    .dataframe tbody tr th:only-of-type {\n        vertical-align: middle;\n    }\n\n    .dataframe tbody tr th {\n        vertical-align: top;\n    }\n\n    .dataframe thead th {\n        text-align: right;\n    }\n</style>\n<table border=\"1\" class=\"dataframe\">\n  <thead>\n    <tr style=\"text-align: right;\">\n      <th></th>\n      <th>threshold (=/&gt;)</th>\n      <th>proportion</th>\n      <th>N</th>\n    </tr>\n  </thead>\n  <tbody>\n    <tr>\n      <th>0</th>\n      <td>0.30</td>\n      <td>0.99</td>\n      <td>445898</td>\n    </tr>\n    <tr>\n      <th>1</th>\n      <td>0.32</td>\n      <td>0.99</td>\n      <td>445147</td>\n    </tr>\n    <tr>\n      <th>2</th>\n      <td>0.34</td>\n      <td>0.99</td>\n      <td>444183</td>\n    </tr>\n    <tr>\n      <th>3</th>\n      <td>0.36</td>\n      <td>0.99</td>\n      <td>443094</td>\n    </tr>\n    <tr>\n      <th>4</th>\n      <td>0.38</td>\n      <td>0.98</td>\n      <td>440821</td>\n    </tr>\n    <tr>\n      <th>5</th>\n      <td>0.40</td>\n      <td>0.98</td>\n      <td>439201</td>\n    </tr>\n    <tr>\n      <th>6</th>\n      <td>0.42</td>\n      <td>0.97</td>\n      <td>436929</td>\n    </tr>\n    <tr>\n      <th>7</th>\n      <td>0.44</td>\n      <td>0.97</td>\n      <td>434828</td>\n    </tr>\n    <tr>\n      <th>8</th>\n      <td>0.46</td>\n      <td>0.96</td>\n      <td>431418</td>\n    </tr>\n    <tr>\n      <th>9</th>\n      <td>0.48</td>\n      <td>0.95</td>\n      <td>427592</td>\n    </tr>\n    <tr>\n      <th>10</th>\n      <td>0.50</td>\n      <td>0.94</td>\n      <td>422976</td>\n    </tr>\n    <tr>\n      <th>11</th>\n      <td>0.52</td>\n      <td>0.92</td>\n      <td>412286</td>\n    </tr>\n    <tr>\n      <th>12</th>\n      <td>0.54</td>\n      <td>0.91</td>\n      <td>408655</td>\n    </tr>\n    <tr>\n      <th>13</th>\n      <td>0.56</td>\n      <td>0.90</td>\n      <td>402808</td>\n    </tr>\n    <tr>\n      <th>14</th>\n      <td>0.58</td>\n      <td>0.89</td>\n      <td>399256</td>\n    </tr>\n    <tr>\n      <th>15</th>\n      <td>0.60</td>\n      <td>0.88</td>\n      <td>395387</td>\n    </tr>\n    <tr>\n      <th>16</th>\n      <td>0.62</td>\n      <td>0.87</td>\n      <td>392132</td>\n    </tr>\n    <tr>\n      <th>17</th>\n      <td>0.64</td>\n      <td>0.87</td>\n      <td>388444</td>\n    </tr>\n    <tr>\n      <th>18</th>\n      <td>0.66</td>\n      <td>0.86</td>\n      <td>384555</td>\n    </tr>\n    <tr>\n      <th>19</th>\n      <td>0.68</td>\n      <td>0.69</td>\n      <td>310185</td>\n    </tr>\n    <tr>\n      <th>20</th>\n      <td>0.70</td>\n      <td>0.68</td>\n      <td>305303</td>\n    </tr>\n    <tr>\n      <th>21</th>\n      <td>0.72</td>\n      <td>0.67</td>\n      <td>301264</td>\n    </tr>\n    <tr>\n      <th>22</th>\n      <td>0.74</td>\n      <td>0.66</td>\n      <td>297946</td>\n    </tr>\n    <tr>\n      <th>23</th>\n      <td>0.76</td>\n      <td>0.65</td>\n      <td>293717</td>\n    </tr>\n    <tr>\n      <th>24</th>\n      <td>0.78</td>\n      <td>0.64</td>\n      <td>286788</td>\n    </tr>\n    <tr>\n      <th>25</th>\n      <td>0.80</td>\n      <td>0.59</td>\n      <td>266154</td>\n    </tr>\n    <tr>\n      <th>26</th>\n      <td>0.82</td>\n      <td>0.59</td>\n      <td>262971</td>\n    </tr>\n    <tr>\n      <th>27</th>\n      <td>0.84</td>\n      <td>0.57</td>\n      <td>255174</td>\n    </tr>\n    <tr>\n      <th>28</th>\n      <td>0.86</td>\n      <td>0.54</td>\n      <td>243780</td>\n    </tr>\n    <tr>\n      <th>29</th>\n      <td>0.88</td>\n      <td>0.53</td>\n      <td>237968</td>\n    </tr>\n    <tr>\n      <th>30</th>\n      <td>0.90</td>\n      <td>0.52</td>\n      <td>233368</td>\n    </tr>\n    <tr>\n      <th>31</th>\n      <td>0.92</td>\n      <td>0.51</td>\n      <td>227150</td>\n    </tr>\n    <tr>\n      <th>32</th>\n      <td>0.94</td>\n      <td>0.48</td>\n      <td>214623</td>\n    </tr>\n    <tr>\n      <th>33</th>\n      <td>0.96</td>\n      <td>0.46</td>\n      <td>206103</td>\n    </tr>\n    <tr>\n      <th>34</th>\n      <td>0.98</td>\n      <td>0.43</td>\n      <td>191752</td>\n    </tr>\n  </tbody>\n</table>\n</div>"
     },
     "execution_count": 82,
     "metadata": {},
     "output_type": "execute_result"
    }
   ],
   "source": [
    "threshold_results = []\n",
    "for threshold in [thres / 100 for thres in range(30, 100, 2)]:\n",
    "    above_threshold = [tup for tup in prediction_probs if tup[1] >= threshold]\n",
    "    proportion = len(above_threshold) / len(prediction_probs)\n",
    "    threshold_results.append({\"threshold (=/>)\" : threshold, \"proportion\" : np.round(proportion, 2), \"N\" : len(above_threshold)})\n",
    "model_results_df = pd.DataFrame(threshold_results)\n",
    "model_results_df"
   ],
   "metadata": {
    "collapsed": false
   }
  },
  {
   "cell_type": "code",
   "execution_count": 83,
   "outputs": [],
   "source": [
    "#print(model_results_df.to_latex(index=False))"
   ],
   "metadata": {
    "collapsed": false
   }
  },
  {
   "cell_type": "code",
   "execution_count": 84,
   "outputs": [],
   "source": [
    "#model_results_df.to_csv(\"../data/classifier_EDCS_results.csv\")"
   ],
   "metadata": {
    "collapsed": false
   }
  },
  {
   "cell_type": "markdown",
   "source": [
    "# Combining the data back"
   ],
   "metadata": {
    "collapsed": false
   }
  },
  {
   "cell_type": "code",
   "execution_count": 85,
   "outputs": [],
   "source": [
    "EDCS_unique[\"type_of_inscription_auto\"] = prediction\n",
    "EDCS_unique[\"type_of_inscription_auto_prob\"] = probs"
   ],
   "metadata": {
    "collapsed": false
   }
  },
  {
   "cell_type": "code",
   "execution_count": 86,
   "outputs": [
    {
     "data": {
      "text/plain": "  LIST-ID        EDCS-ID EDH-ID trismegistos_uri pleiades_id transcription  \\\n0  LIST-1  EDCS-31400030   None             None        None          None   \n1  LIST-2  EDCS-55701593   None             None        None          None   \n2  LIST-3  EDCS-55701594   None             None        None          None   \n3  LIST-4  EDCS-55701595   None             None        None          None   \n4  LIST-5  EDCS-55701596   None             None        None          None   \n\n           inscription clean_text_conservative  \\\n0                Leius                   Leius   \n1    Cn(aeus) Atei(us)                 Cn Atei   \n2           Avill(ius)                   Avill   \n3  L(ucius) Av(illius)                    L Av   \n4             Camurius                Camurius   \n\n  clean_text_interpretive_sentence clean_text_interpretive_word  \\\n0                             None                        Leius   \n1                             None                Cnaeus Ateius   \n2                             None                     Avillius   \n3                             None              Lucius Avillius   \n4                             None                     Camurius   \n\n  clean_text_interpretive_word_EDCS diplomatic_text province  \\\n0                             Leius            None   Achaia   \n1                     Cnaeus Ateius            None   Achaia   \n2                          Avillius            None   Achaia   \n3                   Lucius Avillius            None   Achaia   \n4                          Camurius            None   Achaia   \n\n                     place            inscr_type           status_notation  \\\n0                        ?                  None                      None   \n1  Agios Donatos / Photike  tituli fabricationis  praenomen et nomen, viri   \n2  Agios Donatos / Photike  tituli fabricationis     nomen singulare, viri   \n3  Agios Donatos / Photike  tituli fabricationis  praenomen et nomen, viri   \n4  Agios Donatos / Photike  tituli fabricationis     nomen singulare, viri   \n\n      inscr_process                                             status  \\\n0              None                                               None   \n1  sigilla impressa  praenomen et nomen;  sigilla impressa;  tituli...   \n2  sigilla impressa  nomen singulare;  sigilla impressa;  tituli fa...   \n3  sigilla impressa  praenomen et nomen;  sigilla impressa;  tituli...   \n4  sigilla impressa  nomen singulare;  sigilla impressa;  tituli fa...   \n\n  partner_link last_update letter_size type_of_inscription work_status  \\\n0         None        None        None                None        None   \n1         None        None        None                None        None   \n2         None        None        None                None        None   \n3         None        None        None                None        None   \n4         None        None        None                None        None   \n\n   year_of_find present_location text_edition support_objecttype  \\\n0           NaN             None         None               None   \n1           NaN             None         None               None   \n2           NaN             None         None               None   \n3           NaN             None         None               None   \n4           NaN             None         None               None   \n\n   support_material  support_decoration  keywords_term people  \\\n0               NaN                 NaN            NaN    [ ]   \n1               NaN                 NaN            NaN    [ ]   \n2               NaN                 NaN            NaN    [ ]   \n3               NaN                 NaN            NaN    [ ]   \n4               NaN                 NaN            NaN    [ ]   \n\n  type_of_inscription_clean  type_of_inscription_certainty  height_cm  \\\n0                      None                          False        NaN   \n1                      None                          False        NaN   \n2                      None                          False        NaN   \n3                      None                          False        NaN   \n4                      None                          False        NaN   \n\n   width_cm  depth_cm material_clean type_of_monument_clean  \\\n0       NaN       NaN           None                   None   \n1       NaN       NaN           None                   None   \n2       NaN       NaN           None                   None   \n3       NaN       NaN           None                   None   \n4       NaN       NaN           None                   None   \n\n   type_of_monument_certainty province_label_clean  province_label_certainty  \\\n0                       False                 None                     False   \n1                       False                 None                     False   \n2                       False                 None                     False   \n3                       False                 None                     False   \n4                       False                 None                     False   \n\n  country_clean  country_certainty findspot_ancient_clean  \\\n0          None              False                   None   \n1          None              False                   None   \n2          None              False                   None   \n3          None              False                   None   \n4          None              False                   None   \n\n   findspot_ancient_certainty modern_region_clean  modern_region_certainty  \\\n0                       False                None                    False   \n1                       False                None                    False   \n2                       False                None                    False   \n3                       False                None                    False   \n4                       False                None                    False   \n\n  findspot_modern_clean  findspot_modern_certainty findspot_clean  \\\n0                  None                      False           None   \n1                  None                      False           None   \n2                  None                      False           None   \n3                  None                      False           None   \n4                  None                      False           None   \n\n   findspot_certainty language language_EDCS raw_dating  not_after  \\\n0               False        L          None       None        NaN   \n1               False        L          None       None        NaN   \n2               False        L          None       None        NaN   \n3               False        L          None       None        NaN   \n4               False        L          None       None        NaN   \n\n   not_before  Longitude   Latitude  geotemporal?                   geometry  \\\n0         NaN        NaN        NaN         False                       None   \n1         NaN  20.506908  39.475976         False  POINT (20.50691 39.47598)   \n2         NaN  20.506908  39.475976         False  POINT (20.50691 39.47598)   \n3         NaN  20.506908  39.475976         False  POINT (20.50691 39.47598)   \n4         NaN  20.506908  39.475976         False  POINT (20.50691 39.47598)   \n\n   withinRE?  large_city_pop  medium_city_pop  small_city_pop urban_context  \\\n0      False             NaN              NaN             NaN          None   \n1       True         41221.0          27923.0          1000.0         rural   \n2       True         41221.0          27923.0          1000.0         rural   \n3       True         41221.0          27923.0          1000.0         rural   \n4       True         41221.0          27923.0          1000.0         rural   \n\n  urban_context_city  urban_context_pop_est            bigrams  \\\n0               None                    NaN                 []   \n1               None                    NaN    [Cnaeus_Ateius]   \n2               None                    NaN                 []   \n3               None                    NaN  [Lucius_Avillius]   \n4               None                    NaN                 []   \n\n                                         status_list  \\\n0                                                 []   \n1  [praenomen et nomen,   sigilla impressa,   tit...   \n2  [nomen singulare,   sigilla impressa,   tituli...   \n3  [praenomen et nomen,   sigilla impressa,   tit...   \n4  [nomen singulare,   sigilla impressa,   tituli...   \n\n     type_of_inscription_auto  type_of_inscription_auto_prob  \n0  identification inscription                       0.666667  \n1    owner/artist inscription                       0.903192  \n2    owner/artist inscription                       0.840105  \n3    owner/artist inscription                       0.903192  \n4    owner/artist inscription                       0.840105  ",
      "text/html": "<div>\n<style scoped>\n    .dataframe tbody tr th:only-of-type {\n        vertical-align: middle;\n    }\n\n    .dataframe tbody tr th {\n        vertical-align: top;\n    }\n\n    .dataframe thead th {\n        text-align: right;\n    }\n</style>\n<table border=\"1\" class=\"dataframe\">\n  <thead>\n    <tr style=\"text-align: right;\">\n      <th></th>\n      <th>LIST-ID</th>\n      <th>EDCS-ID</th>\n      <th>EDH-ID</th>\n      <th>trismegistos_uri</th>\n      <th>pleiades_id</th>\n      <th>transcription</th>\n      <th>inscription</th>\n      <th>clean_text_conservative</th>\n      <th>clean_text_interpretive_sentence</th>\n      <th>clean_text_interpretive_word</th>\n      <th>clean_text_interpretive_word_EDCS</th>\n      <th>diplomatic_text</th>\n      <th>province</th>\n      <th>place</th>\n      <th>inscr_type</th>\n      <th>status_notation</th>\n      <th>inscr_process</th>\n      <th>status</th>\n      <th>partner_link</th>\n      <th>last_update</th>\n      <th>letter_size</th>\n      <th>type_of_inscription</th>\n      <th>work_status</th>\n      <th>year_of_find</th>\n      <th>present_location</th>\n      <th>text_edition</th>\n      <th>support_objecttype</th>\n      <th>support_material</th>\n      <th>support_decoration</th>\n      <th>keywords_term</th>\n      <th>people</th>\n      <th>type_of_inscription_clean</th>\n      <th>type_of_inscription_certainty</th>\n      <th>height_cm</th>\n      <th>width_cm</th>\n      <th>depth_cm</th>\n      <th>material_clean</th>\n      <th>type_of_monument_clean</th>\n      <th>type_of_monument_certainty</th>\n      <th>province_label_clean</th>\n      <th>province_label_certainty</th>\n      <th>country_clean</th>\n      <th>country_certainty</th>\n      <th>findspot_ancient_clean</th>\n      <th>findspot_ancient_certainty</th>\n      <th>modern_region_clean</th>\n      <th>modern_region_certainty</th>\n      <th>findspot_modern_clean</th>\n      <th>findspot_modern_certainty</th>\n      <th>findspot_clean</th>\n      <th>findspot_certainty</th>\n      <th>language</th>\n      <th>language_EDCS</th>\n      <th>raw_dating</th>\n      <th>not_after</th>\n      <th>not_before</th>\n      <th>Longitude</th>\n      <th>Latitude</th>\n      <th>geotemporal?</th>\n      <th>geometry</th>\n      <th>withinRE?</th>\n      <th>large_city_pop</th>\n      <th>medium_city_pop</th>\n      <th>small_city_pop</th>\n      <th>urban_context</th>\n      <th>urban_context_city</th>\n      <th>urban_context_pop_est</th>\n      <th>bigrams</th>\n      <th>status_list</th>\n      <th>type_of_inscription_auto</th>\n      <th>type_of_inscription_auto_prob</th>\n    </tr>\n  </thead>\n  <tbody>\n    <tr>\n      <th>0</th>\n      <td>LIST-1</td>\n      <td>EDCS-31400030</td>\n      <td>None</td>\n      <td>None</td>\n      <td>None</td>\n      <td>None</td>\n      <td>Leius</td>\n      <td>Leius</td>\n      <td>None</td>\n      <td>Leius</td>\n      <td>Leius</td>\n      <td>None</td>\n      <td>Achaia</td>\n      <td>?</td>\n      <td>None</td>\n      <td>None</td>\n      <td>None</td>\n      <td>None</td>\n      <td>None</td>\n      <td>None</td>\n      <td>None</td>\n      <td>None</td>\n      <td>None</td>\n      <td>NaN</td>\n      <td>None</td>\n      <td>None</td>\n      <td>None</td>\n      <td>NaN</td>\n      <td>NaN</td>\n      <td>NaN</td>\n      <td>[ ]</td>\n      <td>None</td>\n      <td>False</td>\n      <td>NaN</td>\n      <td>NaN</td>\n      <td>NaN</td>\n      <td>None</td>\n      <td>None</td>\n      <td>False</td>\n      <td>None</td>\n      <td>False</td>\n      <td>None</td>\n      <td>False</td>\n      <td>None</td>\n      <td>False</td>\n      <td>None</td>\n      <td>False</td>\n      <td>None</td>\n      <td>False</td>\n      <td>None</td>\n      <td>False</td>\n      <td>L</td>\n      <td>None</td>\n      <td>None</td>\n      <td>NaN</td>\n      <td>NaN</td>\n      <td>NaN</td>\n      <td>NaN</td>\n      <td>False</td>\n      <td>None</td>\n      <td>False</td>\n      <td>NaN</td>\n      <td>NaN</td>\n      <td>NaN</td>\n      <td>None</td>\n      <td>None</td>\n      <td>NaN</td>\n      <td>[]</td>\n      <td>[]</td>\n      <td>identification inscription</td>\n      <td>0.666667</td>\n    </tr>\n    <tr>\n      <th>1</th>\n      <td>LIST-2</td>\n      <td>EDCS-55701593</td>\n      <td>None</td>\n      <td>None</td>\n      <td>None</td>\n      <td>None</td>\n      <td>Cn(aeus) Atei(us)</td>\n      <td>Cn Atei</td>\n      <td>None</td>\n      <td>Cnaeus Ateius</td>\n      <td>Cnaeus Ateius</td>\n      <td>None</td>\n      <td>Achaia</td>\n      <td>Agios Donatos / Photike</td>\n      <td>tituli fabricationis</td>\n      <td>praenomen et nomen, viri</td>\n      <td>sigilla impressa</td>\n      <td>praenomen et nomen;  sigilla impressa;  tituli...</td>\n      <td>None</td>\n      <td>None</td>\n      <td>None</td>\n      <td>None</td>\n      <td>None</td>\n      <td>NaN</td>\n      <td>None</td>\n      <td>None</td>\n      <td>None</td>\n      <td>NaN</td>\n      <td>NaN</td>\n      <td>NaN</td>\n      <td>[ ]</td>\n      <td>None</td>\n      <td>False</td>\n      <td>NaN</td>\n      <td>NaN</td>\n      <td>NaN</td>\n      <td>None</td>\n      <td>None</td>\n      <td>False</td>\n      <td>None</td>\n      <td>False</td>\n      <td>None</td>\n      <td>False</td>\n      <td>None</td>\n      <td>False</td>\n      <td>None</td>\n      <td>False</td>\n      <td>None</td>\n      <td>False</td>\n      <td>None</td>\n      <td>False</td>\n      <td>L</td>\n      <td>None</td>\n      <td>None</td>\n      <td>NaN</td>\n      <td>NaN</td>\n      <td>20.506908</td>\n      <td>39.475976</td>\n      <td>False</td>\n      <td>POINT (20.50691 39.47598)</td>\n      <td>True</td>\n      <td>41221.0</td>\n      <td>27923.0</td>\n      <td>1000.0</td>\n      <td>rural</td>\n      <td>None</td>\n      <td>NaN</td>\n      <td>[Cnaeus_Ateius]</td>\n      <td>[praenomen et nomen,   sigilla impressa,   tit...</td>\n      <td>owner/artist inscription</td>\n      <td>0.903192</td>\n    </tr>\n    <tr>\n      <th>2</th>\n      <td>LIST-3</td>\n      <td>EDCS-55701594</td>\n      <td>None</td>\n      <td>None</td>\n      <td>None</td>\n      <td>None</td>\n      <td>Avill(ius)</td>\n      <td>Avill</td>\n      <td>None</td>\n      <td>Avillius</td>\n      <td>Avillius</td>\n      <td>None</td>\n      <td>Achaia</td>\n      <td>Agios Donatos / Photike</td>\n      <td>tituli fabricationis</td>\n      <td>nomen singulare, viri</td>\n      <td>sigilla impressa</td>\n      <td>nomen singulare;  sigilla impressa;  tituli fa...</td>\n      <td>None</td>\n      <td>None</td>\n      <td>None</td>\n      <td>None</td>\n      <td>None</td>\n      <td>NaN</td>\n      <td>None</td>\n      <td>None</td>\n      <td>None</td>\n      <td>NaN</td>\n      <td>NaN</td>\n      <td>NaN</td>\n      <td>[ ]</td>\n      <td>None</td>\n      <td>False</td>\n      <td>NaN</td>\n      <td>NaN</td>\n      <td>NaN</td>\n      <td>None</td>\n      <td>None</td>\n      <td>False</td>\n      <td>None</td>\n      <td>False</td>\n      <td>None</td>\n      <td>False</td>\n      <td>None</td>\n      <td>False</td>\n      <td>None</td>\n      <td>False</td>\n      <td>None</td>\n      <td>False</td>\n      <td>None</td>\n      <td>False</td>\n      <td>L</td>\n      <td>None</td>\n      <td>None</td>\n      <td>NaN</td>\n      <td>NaN</td>\n      <td>20.506908</td>\n      <td>39.475976</td>\n      <td>False</td>\n      <td>POINT (20.50691 39.47598)</td>\n      <td>True</td>\n      <td>41221.0</td>\n      <td>27923.0</td>\n      <td>1000.0</td>\n      <td>rural</td>\n      <td>None</td>\n      <td>NaN</td>\n      <td>[]</td>\n      <td>[nomen singulare,   sigilla impressa,   tituli...</td>\n      <td>owner/artist inscription</td>\n      <td>0.840105</td>\n    </tr>\n    <tr>\n      <th>3</th>\n      <td>LIST-4</td>\n      <td>EDCS-55701595</td>\n      <td>None</td>\n      <td>None</td>\n      <td>None</td>\n      <td>None</td>\n      <td>L(ucius) Av(illius)</td>\n      <td>L Av</td>\n      <td>None</td>\n      <td>Lucius Avillius</td>\n      <td>Lucius Avillius</td>\n      <td>None</td>\n      <td>Achaia</td>\n      <td>Agios Donatos / Photike</td>\n      <td>tituli fabricationis</td>\n      <td>praenomen et nomen, viri</td>\n      <td>sigilla impressa</td>\n      <td>praenomen et nomen;  sigilla impressa;  tituli...</td>\n      <td>None</td>\n      <td>None</td>\n      <td>None</td>\n      <td>None</td>\n      <td>None</td>\n      <td>NaN</td>\n      <td>None</td>\n      <td>None</td>\n      <td>None</td>\n      <td>NaN</td>\n      <td>NaN</td>\n      <td>NaN</td>\n      <td>[ ]</td>\n      <td>None</td>\n      <td>False</td>\n      <td>NaN</td>\n      <td>NaN</td>\n      <td>NaN</td>\n      <td>None</td>\n      <td>None</td>\n      <td>False</td>\n      <td>None</td>\n      <td>False</td>\n      <td>None</td>\n      <td>False</td>\n      <td>None</td>\n      <td>False</td>\n      <td>None</td>\n      <td>False</td>\n      <td>None</td>\n      <td>False</td>\n      <td>None</td>\n      <td>False</td>\n      <td>L</td>\n      <td>None</td>\n      <td>None</td>\n      <td>NaN</td>\n      <td>NaN</td>\n      <td>20.506908</td>\n      <td>39.475976</td>\n      <td>False</td>\n      <td>POINT (20.50691 39.47598)</td>\n      <td>True</td>\n      <td>41221.0</td>\n      <td>27923.0</td>\n      <td>1000.0</td>\n      <td>rural</td>\n      <td>None</td>\n      <td>NaN</td>\n      <td>[Lucius_Avillius]</td>\n      <td>[praenomen et nomen,   sigilla impressa,   tit...</td>\n      <td>owner/artist inscription</td>\n      <td>0.903192</td>\n    </tr>\n    <tr>\n      <th>4</th>\n      <td>LIST-5</td>\n      <td>EDCS-55701596</td>\n      <td>None</td>\n      <td>None</td>\n      <td>None</td>\n      <td>None</td>\n      <td>Camurius</td>\n      <td>Camurius</td>\n      <td>None</td>\n      <td>Camurius</td>\n      <td>Camurius</td>\n      <td>None</td>\n      <td>Achaia</td>\n      <td>Agios Donatos / Photike</td>\n      <td>tituli fabricationis</td>\n      <td>nomen singulare, viri</td>\n      <td>sigilla impressa</td>\n      <td>nomen singulare;  sigilla impressa;  tituli fa...</td>\n      <td>None</td>\n      <td>None</td>\n      <td>None</td>\n      <td>None</td>\n      <td>None</td>\n      <td>NaN</td>\n      <td>None</td>\n      <td>None</td>\n      <td>None</td>\n      <td>NaN</td>\n      <td>NaN</td>\n      <td>NaN</td>\n      <td>[ ]</td>\n      <td>None</td>\n      <td>False</td>\n      <td>NaN</td>\n      <td>NaN</td>\n      <td>NaN</td>\n      <td>None</td>\n      <td>None</td>\n      <td>False</td>\n      <td>None</td>\n      <td>False</td>\n      <td>None</td>\n      <td>False</td>\n      <td>None</td>\n      <td>False</td>\n      <td>None</td>\n      <td>False</td>\n      <td>None</td>\n      <td>False</td>\n      <td>None</td>\n      <td>False</td>\n      <td>L</td>\n      <td>None</td>\n      <td>None</td>\n      <td>NaN</td>\n      <td>NaN</td>\n      <td>20.506908</td>\n      <td>39.475976</td>\n      <td>False</td>\n      <td>POINT (20.50691 39.47598)</td>\n      <td>True</td>\n      <td>41221.0</td>\n      <td>27923.0</td>\n      <td>1000.0</td>\n      <td>rural</td>\n      <td>None</td>\n      <td>NaN</td>\n      <td>[]</td>\n      <td>[nomen singulare,   sigilla impressa,   tituli...</td>\n      <td>owner/artist inscription</td>\n      <td>0.840105</td>\n    </tr>\n  </tbody>\n</table>\n</div>"
     },
     "execution_count": 86,
     "metadata": {},
     "output_type": "execute_result"
    }
   ],
   "source": [
    "EDCS_unique.head(5)"
   ],
   "metadata": {
    "collapsed": false
   }
  },
  {
   "cell_type": "code",
   "execution_count": 87,
   "outputs": [],
   "source": [
    "# prepare last part of the data - inscriptions we have only in EDH\n",
    "# in this case, we can also use the information we already have\n",
    "EDH_unique = LIST[(LIST[\"EDH-ID\"].notnull()) & (LIST[\"EDCS-ID\"].isnull())]\n",
    "EDH_unique[\"type_of_inscription_auto\"] = EDH_unique[\"type_of_inscription_clean\"]\n",
    "EDH_unique[\"type_of_inscription_auto_prob\"] = [1] * len(EDH_unique)"
   ],
   "metadata": {
    "collapsed": false
   }
  },
  {
   "cell_type": "code",
   "execution_count": 88,
   "outputs": [],
   "source": [
    "EDH_overlap_all = LIST[(LIST[\"EDH-ID\"].notnull()) & (LIST[\"EDCS-ID\"].notnull())]\n",
    "EDH_overlap_all[\"type_of_inscription_auto\"] = EDH_overlap_all[\"type_of_inscription_clean\"]\n",
    "EDH_overlap_all[\"type_of_inscription_auto_prob\"] = [1] * len(EDH_overlap_all)"
   ],
   "metadata": {
    "collapsed": false
   }
  },
  {
   "cell_type": "code",
   "execution_count": 89,
   "outputs": [
    {
     "name": "stdout",
     "output_type": "stream",
     "text": [
      "the dataset we used for training and testing (+NULLs):  (76583, 69)\n",
      "inscriptions in EDH only:  (3316, 69)\n",
      "inscriptions in EDCS only, we wanted to classify:  (448585, 71)\n"
     ]
    }
   ],
   "source": [
    "print(\"the dataset we used for training and testing (+NULLs): \", EDH_overlap_all.shape)\n",
    "print(\"inscriptions in EDH only: \", EDH_unique.shape)\n",
    "print(\"inscriptions in EDCS only, we wanted to classify: \", EDCS_unique.shape)"
   ],
   "metadata": {
    "collapsed": false
   }
  },
  {
   "cell_type": "code",
   "execution_count": 90,
   "outputs": [
    {
     "data": {
      "text/plain": "            LIST-ID        EDCS-ID    EDH-ID  \\\n448585  LIST-448586  EDCS-24900077  HD056163   \n448586  LIST-448587  EDCS-03700724  HD052964   \n448587  LIST-448588  EDCS-13800065  HD017714   \n448588  LIST-448589  EDCS-03300852  HD051000   \n448589  LIST-448590  EDCS-28500283  HD021396   \n\n                                trismegistos_uri pleiades_id  \\\n448585  https://www.trismegistos.org/text/177366      570485   \n448586  https://www.trismegistos.org/text/121715      531064   \n448587  https://www.trismegistos.org/text/177100      570049   \n448588  https://www.trismegistos.org/text/177273      240855   \n448589  https://www.trismegistos.org/text/177131               \n\n                                            transcription  \\\n448585  Q(uinto) Caecilio C(ai) f(ilio) Metelo / imper...   \n448586  Fortissimo et piis/simo Caesari d(omino) n(ost...   \n448587  Italicei / quei Aegei negotiantur / P(ublium) ...   \n448588  [Imp(eratori) Caes(ari) M(arco)] / An[nio] Flo...   \n448589  T[i(berius)] Claudius Caesar Aug(ustus) / G[er...   \n\n                                              inscription  \\\n448585  Q(uinto) Caecilio C(ai) f(ilio) Metel(l)o / im...   \n448586  Fortissimo et Piis/simo Caesari d(omino) n(ost...   \n448587  Italicei / quei Aegei negotiantur / P(ublium) ...   \n448588  Imp(eratori) / Floriano / P(io) F(elici) Aug(u...   \n448589  T[(iberius)] Claudius Caesar Aug(ustus) / G[er...   \n\n                                  clean_text_conservative  \\\n448585  Q Caecilio C f Metelo imperatori Italici quei ...   \n448586  Fortissimo et piissimo Caesari d n Gal Val P F...   \n448587  Italicei quei Aegei negotiantur P Rutilium P f...   \n448588  An Floriano P F Aug p p m p III Imp Caes M Aur...   \n448589  T Claudius Caesar Aug Ganicus pontif max trib ...   \n\n                         clean_text_interpretive_sentence  \\\n448585  Quinto Caecilio Cai filio Metelo imperatori It...   \n448586  Fortissimo et piissimo Caesari domino nostro G...   \n448587  Italicei quei Aegei negotiantur Publium Rutili...   \n448588  Imperatori Caesari Marco Annio Floriano Pio Fe...   \n448589  Tiberius Claudius Caesar Augustus Germanicus p...   \n\n                             clean_text_interpretive_word  \\\n448585  Quinto Caecilio Cai filio Metelo imperatori It...   \n448586  Fortissimo et piissimo Caesari domino nostro G...   \n448587  Italicei quei Aegei negotiantur Publium Rutili...   \n448588  Imperatori Caesari Marco Annio Floriano Pio Fe...   \n448589  Tiberius Claudius Caesar Augustus Germanicus p...   \n\n                        clean_text_interpretive_word_EDCS  \\\n448585  Quinto Caecilio Cai filio Metello imperatori I...   \n448586  Fortissimo et Piissimo Caesari domino nostro G...   \n448587  Italicei quei Aegei negotiantur Publium Rutili...   \n448588  Imperatori Floriano Pio Felici Augusto patri p...   \n448589  Tiberius Claudius Caesar Augustus Germanicus p...   \n\n                                          diplomatic_text province  \\\n448585  Q CAECILIO C F METELO / IMPERATORI ITALICI / Q...   Achaia   \n448586  FORTISSIMO ET PIIS / SIMO CAESARI D N / GAL VA...   Achaia   \n448587  ITALICEI / QVEI AEGEI NEGOTIANTVR / P RVTILIVM...   Achaia   \n448588  [ ] / AN[ ] FLORIANO / P F AVG / P P / M P III...   Achaia   \n448589  T[ ] CLAVDIVS CAESAR AVG / G[ ]ANICVS PONTIF M...   Achaia   \n\n                                 place        inscr_type  \\\n448585   Agia Triada / Merbaka / Midea  tituli honorarii   \n448586      Agios Athanasios / Photike  tituli honorarii   \n448587  Aigio / Egio / Aiyion / Aegeum  tituli honorarii   \n448588                    Alea / Tegea          miliaria   \n448589                    Alea / Tegea             leges   \n\n                                          status_notation    inscr_process  \\\n448585  officium/professio, ordo senatorius, tria nomi...             None   \n448586       Augusti/Augustae, ordo equester, tria nomina  litterae erasae   \n448587  officium/professio, ordo senatorius, tria nomi...             None   \n448588                             Augusti/Augustae, viri             None   \n448589                             Augusti/Augustae, viri             None   \n\n                                                   status  \\\n448585  officium/professio;  ordo senatorius;  tituli ...   \n448586  Augusti/Augustae;  litterae erasae;  ordo eque...   \n448587  officium/professio;  ordo senatorius;  tituli ...   \n448588                 Augusti/Augustae;  miliaria;  viri   \n448589                    Augusti/Augustae;  leges;  viri   \n\n                                             partner_link last_update  \\\n448585  http://db.edcs.eu/epigr/partner.php?s_language...  2011-11-11   \n448586  http://db.edcs.eu/epigr/partner.php?s_language...  2014-09-16   \n448587  http://db.edcs.eu/epigr/partner.php?s_language...  2011-03-29   \n448588  http://db.edcs.eu/epigr/partner.php?s_language...  2011-05-24   \n448589  http://db.edcs.eu/epigr/partner.php?s_language...  2011-05-10   \n\n       letter_size       type_of_inscription         work_status  \\\n448585        None     honorific inscription            no image   \n448586    3-5.3 cm     honorific inscription  checked with photo   \n448587  3.5-3.7 cm        votive inscription  checked with photo   \n448588    3.3-6 cm         mile-/leaguestone  checked with photo   \n448589        None  public legal inscription  checked with photo   \n\n        year_of_find present_location  \\\n448585           NaN             None   \n448586           NaN    Fragma Kalama   \n448587           NaN             None   \n448588           NaN      Tegea, Mus.   \n448589           NaN             None   \n\n                                             text_edition support_objecttype  \\\n448585  \\n Quinto Caecilio Cai filio Metelo imperatori...               None   \n448586  \\n Fortissimo et piissimo Caesari domino nostr...                 57   \n448587  \\n Italicei quei Aegei negotiantur Publium Rut...                257   \n448588  \\n Imperatori Caesari Marco Annio Floriano Pio...                 89   \n448589  \\n Tiberius Claudius Caesar Augustus Germanicu...                257   \n\n        support_material  support_decoration  keywords_term  \\\n448585               NaN              1000.0           69.0   \n448586               NaN              1000.0           69.0   \n448587               NaN              1000.0          372.0   \n448588               NaN              1000.0            NaN   \n448589               NaN              1000.0            5.0   \n\n                                                   people  \\\n448585                                                [ ]   \n448586  [ { \"persname\": { \"name\": [ { \"@type\": \"nomen\"...   \n448587                                                [ ]   \n448588  [ { \"persname\": { \"name\": [ { \"@type\": \"praeno...   \n448589                                                [ ]   \n\n       type_of_inscription_clean  type_of_inscription_certainty  height_cm  \\\n448585     honorific inscription                          False        NaN   \n448586     honorific inscription                          False       99.0   \n448587        votive inscription                          False       58.0   \n448588         mile-/leaguestone                          False       44.0   \n448589  public legal inscription                          False      160.0   \n\n        width_cm  depth_cm material_clean type_of_monument_clean  \\\n448585       NaN       NaN           NULL                   NULL   \n448586      67.0      67.0           NULL            statue base   \n448587      61.0      16.0           NULL                 tabula   \n448588      24.0       NaN           NULL      mile-/leaguestone   \n448589      58.0      17.0           NULL                 tabula   \n\n        type_of_monument_certainty province_label_clean  \\\n448585                       False               Achaia   \n448586                       False               Epirus   \n448587                       False               Achaia   \n448588                       False               Achaia   \n448589                       False               Achaia   \n\n        province_label_certainty country_clean  country_certainty  \\\n448585                     False        Greece              False   \n448586                     False        Greece              False   \n448587                     False        Greece              False   \n448588                     False        Greece              False   \n448589                     False        Greece              False   \n\n       findspot_ancient_clean  findspot_ancient_certainty modern_region_clean  \\\n448585                  Midea                       False        Pelopónissos   \n448586                Photike                       False             Ípeiros   \n448587                 Aegeum                       False       Dytikí Elláda   \n448588                  Tegea                       False        Pelopónissos   \n448589                  Tegea                       False        Pelopónissos   \n\n        modern_region_certainty findspot_modern_clean  \\\n448585                    False                Midhéa   \n448586                    False            Paramythía   \n448587                    False                Aígion   \n448588                    False                  Alea   \n448589                    False                  Alea   \n\n        findspot_modern_certainty      findspot_clean  findspot_certainty  \\\n448585                      False                NULL               False   \n448586                      False  {Agios Athanasios}               False   \n448587                      False                NULL               False   \n448588                      False        Stringu, bei               False   \n448589                      False                NULL               False   \n\n       language language_EDCS                        raw_dating  not_after  \\\n448585        L          None                        -68 to -68      -68.0   \n448586        L          None                        309 to 313      309.0   \n448587        L          None                        -74 to -74      -74.0   \n448588        L          None  a:  276 to 276;   b:  276 to 282      276.0   \n448589        L          None                          49 to 50       49.0   \n\n        not_before  Longitude  Latitude  geotemporal?  \\\n448585         NaN    22.8412   37.6498          True   \n448586       313.0    20.7668   39.4512          True   \n448587         NaN    22.0845   38.2487          True   \n448588         NaN    22.4171   37.4319          True   \n448589        50.0        NaN       NaN         False   \n\n                         geometry  withinRE?  large_city_pop  medium_city_pop  \\\n448585  POINT (22.84120 37.64980)       True         49319.0           9938.0   \n448586  POINT (20.76680 39.45120)       True         41221.0          27923.0   \n448587  POINT (22.08450 38.24870)       True         41538.0           9498.0   \n448588  POINT (22.41710 37.43190)       True         46362.0          25371.0   \n448589                       None      False             NaN              NaN   \n\n        small_city_pop urban_context urban_context_city  \\\n448585          1000.0         rural               None   \n448586          1000.0         rural               None   \n448587          1000.0         small             Aegium   \n448588          1000.0         large              Tegea   \n448589             NaN          None               None   \n\n        urban_context_pop_est  type_of_inscription_auto  \\\n448585                    NaN     honorific inscription   \n448586                    NaN     honorific inscription   \n448587                 1000.0        votive inscription   \n448588                46362.0         mile-/leaguestone   \n448589                    NaN  public legal inscription   \n\n        type_of_inscription_auto_prob bigrams status_list  \n448585                            1.0     NaN         NaN  \n448586                            1.0     NaN         NaN  \n448587                            1.0     NaN         NaN  \n448588                            1.0     NaN         NaN  \n448589                            1.0     NaN         NaN  ",
      "text/html": "<div>\n<style scoped>\n    .dataframe tbody tr th:only-of-type {\n        vertical-align: middle;\n    }\n\n    .dataframe tbody tr th {\n        vertical-align: top;\n    }\n\n    .dataframe thead th {\n        text-align: right;\n    }\n</style>\n<table border=\"1\" class=\"dataframe\">\n  <thead>\n    <tr style=\"text-align: right;\">\n      <th></th>\n      <th>LIST-ID</th>\n      <th>EDCS-ID</th>\n      <th>EDH-ID</th>\n      <th>trismegistos_uri</th>\n      <th>pleiades_id</th>\n      <th>transcription</th>\n      <th>inscription</th>\n      <th>clean_text_conservative</th>\n      <th>clean_text_interpretive_sentence</th>\n      <th>clean_text_interpretive_word</th>\n      <th>clean_text_interpretive_word_EDCS</th>\n      <th>diplomatic_text</th>\n      <th>province</th>\n      <th>place</th>\n      <th>inscr_type</th>\n      <th>status_notation</th>\n      <th>inscr_process</th>\n      <th>status</th>\n      <th>partner_link</th>\n      <th>last_update</th>\n      <th>letter_size</th>\n      <th>type_of_inscription</th>\n      <th>work_status</th>\n      <th>year_of_find</th>\n      <th>present_location</th>\n      <th>text_edition</th>\n      <th>support_objecttype</th>\n      <th>support_material</th>\n      <th>support_decoration</th>\n      <th>keywords_term</th>\n      <th>people</th>\n      <th>type_of_inscription_clean</th>\n      <th>type_of_inscription_certainty</th>\n      <th>height_cm</th>\n      <th>width_cm</th>\n      <th>depth_cm</th>\n      <th>material_clean</th>\n      <th>type_of_monument_clean</th>\n      <th>type_of_monument_certainty</th>\n      <th>province_label_clean</th>\n      <th>province_label_certainty</th>\n      <th>country_clean</th>\n      <th>country_certainty</th>\n      <th>findspot_ancient_clean</th>\n      <th>findspot_ancient_certainty</th>\n      <th>modern_region_clean</th>\n      <th>modern_region_certainty</th>\n      <th>findspot_modern_clean</th>\n      <th>findspot_modern_certainty</th>\n      <th>findspot_clean</th>\n      <th>findspot_certainty</th>\n      <th>language</th>\n      <th>language_EDCS</th>\n      <th>raw_dating</th>\n      <th>not_after</th>\n      <th>not_before</th>\n      <th>Longitude</th>\n      <th>Latitude</th>\n      <th>geotemporal?</th>\n      <th>geometry</th>\n      <th>withinRE?</th>\n      <th>large_city_pop</th>\n      <th>medium_city_pop</th>\n      <th>small_city_pop</th>\n      <th>urban_context</th>\n      <th>urban_context_city</th>\n      <th>urban_context_pop_est</th>\n      <th>type_of_inscription_auto</th>\n      <th>type_of_inscription_auto_prob</th>\n      <th>bigrams</th>\n      <th>status_list</th>\n    </tr>\n  </thead>\n  <tbody>\n    <tr>\n      <th>448585</th>\n      <td>LIST-448586</td>\n      <td>EDCS-24900077</td>\n      <td>HD056163</td>\n      <td>https://www.trismegistos.org/text/177366</td>\n      <td>570485</td>\n      <td>Q(uinto) Caecilio C(ai) f(ilio) Metelo / imper...</td>\n      <td>Q(uinto) Caecilio C(ai) f(ilio) Metel(l)o / im...</td>\n      <td>Q Caecilio C f Metelo imperatori Italici quei ...</td>\n      <td>Quinto Caecilio Cai filio Metelo imperatori It...</td>\n      <td>Quinto Caecilio Cai filio Metelo imperatori It...</td>\n      <td>Quinto Caecilio Cai filio Metello imperatori I...</td>\n      <td>Q CAECILIO C F METELO / IMPERATORI ITALICI / Q...</td>\n      <td>Achaia</td>\n      <td>Agia Triada / Merbaka / Midea</td>\n      <td>tituli honorarii</td>\n      <td>officium/professio, ordo senatorius, tria nomi...</td>\n      <td>None</td>\n      <td>officium/professio;  ordo senatorius;  tituli ...</td>\n      <td>http://db.edcs.eu/epigr/partner.php?s_language...</td>\n      <td>2011-11-11</td>\n      <td>None</td>\n      <td>honorific inscription</td>\n      <td>no image</td>\n      <td>NaN</td>\n      <td>None</td>\n      <td>\\n Quinto Caecilio Cai filio Metelo imperatori...</td>\n      <td>None</td>\n      <td>NaN</td>\n      <td>1000.0</td>\n      <td>69.0</td>\n      <td>[ ]</td>\n      <td>honorific inscription</td>\n      <td>False</td>\n      <td>NaN</td>\n      <td>NaN</td>\n      <td>NaN</td>\n      <td>NULL</td>\n      <td>NULL</td>\n      <td>False</td>\n      <td>Achaia</td>\n      <td>False</td>\n      <td>Greece</td>\n      <td>False</td>\n      <td>Midea</td>\n      <td>False</td>\n      <td>Pelopónissos</td>\n      <td>False</td>\n      <td>Midhéa</td>\n      <td>False</td>\n      <td>NULL</td>\n      <td>False</td>\n      <td>L</td>\n      <td>None</td>\n      <td>-68 to -68</td>\n      <td>-68.0</td>\n      <td>NaN</td>\n      <td>22.8412</td>\n      <td>37.6498</td>\n      <td>True</td>\n      <td>POINT (22.84120 37.64980)</td>\n      <td>True</td>\n      <td>49319.0</td>\n      <td>9938.0</td>\n      <td>1000.0</td>\n      <td>rural</td>\n      <td>None</td>\n      <td>NaN</td>\n      <td>honorific inscription</td>\n      <td>1.0</td>\n      <td>NaN</td>\n      <td>NaN</td>\n    </tr>\n    <tr>\n      <th>448586</th>\n      <td>LIST-448587</td>\n      <td>EDCS-03700724</td>\n      <td>HD052964</td>\n      <td>https://www.trismegistos.org/text/121715</td>\n      <td>531064</td>\n      <td>Fortissimo et piis/simo Caesari d(omino) n(ost...</td>\n      <td>Fortissimo et Piis/simo Caesari d(omino) n(ost...</td>\n      <td>Fortissimo et piissimo Caesari d n Gal Val P F...</td>\n      <td>Fortissimo et piissimo Caesari domino nostro G...</td>\n      <td>Fortissimo et piissimo Caesari domino nostro G...</td>\n      <td>Fortissimo et Piissimo Caesari domino nostro G...</td>\n      <td>FORTISSIMO ET PIIS / SIMO CAESARI D N / GAL VA...</td>\n      <td>Achaia</td>\n      <td>Agios Athanasios / Photike</td>\n      <td>tituli honorarii</td>\n      <td>Augusti/Augustae, ordo equester, tria nomina</td>\n      <td>litterae erasae</td>\n      <td>Augusti/Augustae;  litterae erasae;  ordo eque...</td>\n      <td>http://db.edcs.eu/epigr/partner.php?s_language...</td>\n      <td>2014-09-16</td>\n      <td>3-5.3 cm</td>\n      <td>honorific inscription</td>\n      <td>checked with photo</td>\n      <td>NaN</td>\n      <td>Fragma Kalama</td>\n      <td>\\n Fortissimo et piissimo Caesari domino nostr...</td>\n      <td>57</td>\n      <td>NaN</td>\n      <td>1000.0</td>\n      <td>69.0</td>\n      <td>[ { \"persname\": { \"name\": [ { \"@type\": \"nomen\"...</td>\n      <td>honorific inscription</td>\n      <td>False</td>\n      <td>99.0</td>\n      <td>67.0</td>\n      <td>67.0</td>\n      <td>NULL</td>\n      <td>statue base</td>\n      <td>False</td>\n      <td>Epirus</td>\n      <td>False</td>\n      <td>Greece</td>\n      <td>False</td>\n      <td>Photike</td>\n      <td>False</td>\n      <td>Ípeiros</td>\n      <td>False</td>\n      <td>Paramythía</td>\n      <td>False</td>\n      <td>{Agios Athanasios}</td>\n      <td>False</td>\n      <td>L</td>\n      <td>None</td>\n      <td>309 to 313</td>\n      <td>309.0</td>\n      <td>313.0</td>\n      <td>20.7668</td>\n      <td>39.4512</td>\n      <td>True</td>\n      <td>POINT (20.76680 39.45120)</td>\n      <td>True</td>\n      <td>41221.0</td>\n      <td>27923.0</td>\n      <td>1000.0</td>\n      <td>rural</td>\n      <td>None</td>\n      <td>NaN</td>\n      <td>honorific inscription</td>\n      <td>1.0</td>\n      <td>NaN</td>\n      <td>NaN</td>\n    </tr>\n    <tr>\n      <th>448587</th>\n      <td>LIST-448588</td>\n      <td>EDCS-13800065</td>\n      <td>HD017714</td>\n      <td>https://www.trismegistos.org/text/177100</td>\n      <td>570049</td>\n      <td>Italicei / quei Aegei negotiantur / P(ublium) ...</td>\n      <td>Italicei / quei Aegei negotiantur / P(ublium) ...</td>\n      <td>Italicei quei Aegei negotiantur P Rutilium P f...</td>\n      <td>Italicei quei Aegei negotiantur Publium Rutili...</td>\n      <td>Italicei quei Aegei negotiantur Publium Rutili...</td>\n      <td>Italicei quei Aegei negotiantur Publium Rutili...</td>\n      <td>ITALICEI / QVEI AEGEI NEGOTIANTVR / P RVTILIVM...</td>\n      <td>Achaia</td>\n      <td>Aigio / Egio / Aiyion / Aegeum</td>\n      <td>tituli honorarii</td>\n      <td>officium/professio, ordo senatorius, tria nomi...</td>\n      <td>None</td>\n      <td>officium/professio;  ordo senatorius;  tituli ...</td>\n      <td>http://db.edcs.eu/epigr/partner.php?s_language...</td>\n      <td>2011-03-29</td>\n      <td>3.5-3.7 cm</td>\n      <td>votive inscription</td>\n      <td>checked with photo</td>\n      <td>NaN</td>\n      <td>None</td>\n      <td>\\n Italicei quei Aegei negotiantur Publium Rut...</td>\n      <td>257</td>\n      <td>NaN</td>\n      <td>1000.0</td>\n      <td>372.0</td>\n      <td>[ ]</td>\n      <td>votive inscription</td>\n      <td>False</td>\n      <td>58.0</td>\n      <td>61.0</td>\n      <td>16.0</td>\n      <td>NULL</td>\n      <td>tabula</td>\n      <td>False</td>\n      <td>Achaia</td>\n      <td>False</td>\n      <td>Greece</td>\n      <td>False</td>\n      <td>Aegeum</td>\n      <td>False</td>\n      <td>Dytikí Elláda</td>\n      <td>False</td>\n      <td>Aígion</td>\n      <td>False</td>\n      <td>NULL</td>\n      <td>False</td>\n      <td>L</td>\n      <td>None</td>\n      <td>-74 to -74</td>\n      <td>-74.0</td>\n      <td>NaN</td>\n      <td>22.0845</td>\n      <td>38.2487</td>\n      <td>True</td>\n      <td>POINT (22.08450 38.24870)</td>\n      <td>True</td>\n      <td>41538.0</td>\n      <td>9498.0</td>\n      <td>1000.0</td>\n      <td>small</td>\n      <td>Aegium</td>\n      <td>1000.0</td>\n      <td>votive inscription</td>\n      <td>1.0</td>\n      <td>NaN</td>\n      <td>NaN</td>\n    </tr>\n    <tr>\n      <th>448588</th>\n      <td>LIST-448589</td>\n      <td>EDCS-03300852</td>\n      <td>HD051000</td>\n      <td>https://www.trismegistos.org/text/177273</td>\n      <td>240855</td>\n      <td>[Imp(eratori) Caes(ari) M(arco)] / An[nio] Flo...</td>\n      <td>Imp(eratori) / Floriano / P(io) F(elici) Aug(u...</td>\n      <td>An Floriano P F Aug p p m p III Imp Caes M Aur...</td>\n      <td>Imperatori Caesari Marco Annio Floriano Pio Fe...</td>\n      <td>Imperatori Caesari Marco Annio Floriano Pio Fe...</td>\n      <td>Imperatori Floriano Pio Felici Augusto patri p...</td>\n      <td>[ ] / AN[ ] FLORIANO / P F AVG / P P / M P III...</td>\n      <td>Achaia</td>\n      <td>Alea / Tegea</td>\n      <td>miliaria</td>\n      <td>Augusti/Augustae, viri</td>\n      <td>None</td>\n      <td>Augusti/Augustae;  miliaria;  viri</td>\n      <td>http://db.edcs.eu/epigr/partner.php?s_language...</td>\n      <td>2011-05-24</td>\n      <td>3.3-6 cm</td>\n      <td>mile-/leaguestone</td>\n      <td>checked with photo</td>\n      <td>NaN</td>\n      <td>Tegea, Mus.</td>\n      <td>\\n Imperatori Caesari Marco Annio Floriano Pio...</td>\n      <td>89</td>\n      <td>NaN</td>\n      <td>1000.0</td>\n      <td>NaN</td>\n      <td>[ { \"persname\": { \"name\": [ { \"@type\": \"praeno...</td>\n      <td>mile-/leaguestone</td>\n      <td>False</td>\n      <td>44.0</td>\n      <td>24.0</td>\n      <td>NaN</td>\n      <td>NULL</td>\n      <td>mile-/leaguestone</td>\n      <td>False</td>\n      <td>Achaia</td>\n      <td>False</td>\n      <td>Greece</td>\n      <td>False</td>\n      <td>Tegea</td>\n      <td>False</td>\n      <td>Pelopónissos</td>\n      <td>False</td>\n      <td>Alea</td>\n      <td>False</td>\n      <td>Stringu, bei</td>\n      <td>False</td>\n      <td>L</td>\n      <td>None</td>\n      <td>a:  276 to 276;   b:  276 to 282</td>\n      <td>276.0</td>\n      <td>NaN</td>\n      <td>22.4171</td>\n      <td>37.4319</td>\n      <td>True</td>\n      <td>POINT (22.41710 37.43190)</td>\n      <td>True</td>\n      <td>46362.0</td>\n      <td>25371.0</td>\n      <td>1000.0</td>\n      <td>large</td>\n      <td>Tegea</td>\n      <td>46362.0</td>\n      <td>mile-/leaguestone</td>\n      <td>1.0</td>\n      <td>NaN</td>\n      <td>NaN</td>\n    </tr>\n    <tr>\n      <th>448589</th>\n      <td>LIST-448590</td>\n      <td>EDCS-28500283</td>\n      <td>HD021396</td>\n      <td>https://www.trismegistos.org/text/177131</td>\n      <td></td>\n      <td>T[i(berius)] Claudius Caesar Aug(ustus) / G[er...</td>\n      <td>T[(iberius)] Claudius Caesar Aug(ustus) / G[er...</td>\n      <td>T Claudius Caesar Aug Ganicus pontif max trib ...</td>\n      <td>Tiberius Claudius Caesar Augustus Germanicus p...</td>\n      <td>Tiberius Claudius Caesar Augustus Germanicus p...</td>\n      <td>Tiberius Claudius Caesar Augustus Germanicus p...</td>\n      <td>T[ ] CLAVDIVS CAESAR AVG / G[ ]ANICVS PONTIF M...</td>\n      <td>Achaia</td>\n      <td>Alea / Tegea</td>\n      <td>leges</td>\n      <td>Augusti/Augustae, viri</td>\n      <td>None</td>\n      <td>Augusti/Augustae;  leges;  viri</td>\n      <td>http://db.edcs.eu/epigr/partner.php?s_language...</td>\n      <td>2011-05-10</td>\n      <td>None</td>\n      <td>public legal inscription</td>\n      <td>checked with photo</td>\n      <td>NaN</td>\n      <td>None</td>\n      <td>\\n Tiberius Claudius Caesar Augustus Germanicu...</td>\n      <td>257</td>\n      <td>NaN</td>\n      <td>1000.0</td>\n      <td>5.0</td>\n      <td>[ ]</td>\n      <td>public legal inscription</td>\n      <td>False</td>\n      <td>160.0</td>\n      <td>58.0</td>\n      <td>17.0</td>\n      <td>NULL</td>\n      <td>tabula</td>\n      <td>False</td>\n      <td>Achaia</td>\n      <td>False</td>\n      <td>Greece</td>\n      <td>False</td>\n      <td>Tegea</td>\n      <td>False</td>\n      <td>Pelopónissos</td>\n      <td>False</td>\n      <td>Alea</td>\n      <td>False</td>\n      <td>NULL</td>\n      <td>False</td>\n      <td>L</td>\n      <td>None</td>\n      <td>49 to 50</td>\n      <td>49.0</td>\n      <td>50.0</td>\n      <td>NaN</td>\n      <td>NaN</td>\n      <td>False</td>\n      <td>None</td>\n      <td>False</td>\n      <td>NaN</td>\n      <td>NaN</td>\n      <td>NaN</td>\n      <td>None</td>\n      <td>None</td>\n      <td>NaN</td>\n      <td>public legal inscription</td>\n      <td>1.0</td>\n      <td>NaN</td>\n      <td>NaN</td>\n    </tr>\n  </tbody>\n</table>\n</div>"
     },
     "execution_count": 90,
     "metadata": {},
     "output_type": "execute_result"
    }
   ],
   "source": [
    "# combine together\n",
    "LIST_autotypes = pd.concat([EDH_overlap_all, EDH_unique, EDCS_unique])\n",
    "LIST_autotypes.head()"
   ],
   "metadata": {
    "collapsed": false
   }
  },
  {
   "cell_type": "code",
   "execution_count": 91,
   "outputs": [],
   "source": [
    "LIST_autotypes.drop([\"bigrams\", \"status_list\"], axis=1, inplace=True)"
   ],
   "metadata": {
    "collapsed": false
   }
  },
  {
   "cell_type": "code",
   "execution_count": 92,
   "outputs": [
    {
     "data": {
      "text/plain": "(528484, 69)"
     },
     "execution_count": 92,
     "metadata": {},
     "output_type": "execute_result"
    }
   ],
   "source": [
    "LIST_autotypes.shape"
   ],
   "metadata": {
    "collapsed": false
   }
  },
  {
   "cell_type": "code",
   "execution_count": 93,
   "outputs": [
    {
     "data": {
      "text/plain": "            LIST-ID        EDCS-ID    EDH-ID  \\\n448585  LIST-448586  EDCS-24900077  HD056163   \n448586  LIST-448587  EDCS-03700724  HD052964   \n448587  LIST-448588  EDCS-13800065  HD017714   \n448588  LIST-448589  EDCS-03300852  HD051000   \n448589  LIST-448590  EDCS-28500283  HD021396   \n\n                                trismegistos_uri pleiades_id  \\\n448585  https://www.trismegistos.org/text/177366      570485   \n448586  https://www.trismegistos.org/text/121715      531064   \n448587  https://www.trismegistos.org/text/177100      570049   \n448588  https://www.trismegistos.org/text/177273      240855   \n448589  https://www.trismegistos.org/text/177131               \n\n                                            transcription  \\\n448585  Q(uinto) Caecilio C(ai) f(ilio) Metelo / imper...   \n448586  Fortissimo et piis/simo Caesari d(omino) n(ost...   \n448587  Italicei / quei Aegei negotiantur / P(ublium) ...   \n448588  [Imp(eratori) Caes(ari) M(arco)] / An[nio] Flo...   \n448589  T[i(berius)] Claudius Caesar Aug(ustus) / G[er...   \n\n                                              inscription  \\\n448585  Q(uinto) Caecilio C(ai) f(ilio) Metel(l)o / im...   \n448586  Fortissimo et Piis/simo Caesari d(omino) n(ost...   \n448587  Italicei / quei Aegei negotiantur / P(ublium) ...   \n448588  Imp(eratori) / Floriano / P(io) F(elici) Aug(u...   \n448589  T[(iberius)] Claudius Caesar Aug(ustus) / G[er...   \n\n                                  clean_text_conservative  \\\n448585  Q Caecilio C f Metelo imperatori Italici quei ...   \n448586  Fortissimo et piissimo Caesari d n Gal Val P F...   \n448587  Italicei quei Aegei negotiantur P Rutilium P f...   \n448588  An Floriano P F Aug p p m p III Imp Caes M Aur...   \n448589  T Claudius Caesar Aug Ganicus pontif max trib ...   \n\n                         clean_text_interpretive_sentence  \\\n448585  Quinto Caecilio Cai filio Metelo imperatori It...   \n448586  Fortissimo et piissimo Caesari domino nostro G...   \n448587  Italicei quei Aegei negotiantur Publium Rutili...   \n448588  Imperatori Caesari Marco Annio Floriano Pio Fe...   \n448589  Tiberius Claudius Caesar Augustus Germanicus p...   \n\n                             clean_text_interpretive_word  \\\n448585  Quinto Caecilio Cai filio Metelo imperatori It...   \n448586  Fortissimo et piissimo Caesari domino nostro G...   \n448587  Italicei quei Aegei negotiantur Publium Rutili...   \n448588  Imperatori Caesari Marco Annio Floriano Pio Fe...   \n448589  Tiberius Claudius Caesar Augustus Germanicus p...   \n\n                        clean_text_interpretive_word_EDCS  \\\n448585  Quinto Caecilio Cai filio Metello imperatori I...   \n448586  Fortissimo et Piissimo Caesari domino nostro G...   \n448587  Italicei quei Aegei negotiantur Publium Rutili...   \n448588  Imperatori Floriano Pio Felici Augusto patri p...   \n448589  Tiberius Claudius Caesar Augustus Germanicus p...   \n\n                                          diplomatic_text province  \\\n448585  Q CAECILIO C F METELO / IMPERATORI ITALICI / Q...   Achaia   \n448586  FORTISSIMO ET PIIS / SIMO CAESARI D N / GAL VA...   Achaia   \n448587  ITALICEI / QVEI AEGEI NEGOTIANTVR / P RVTILIVM...   Achaia   \n448588  [ ] / AN[ ] FLORIANO / P F AVG / P P / M P III...   Achaia   \n448589  T[ ] CLAVDIVS CAESAR AVG / G[ ]ANICVS PONTIF M...   Achaia   \n\n                                 place        inscr_type  \\\n448585   Agia Triada / Merbaka / Midea  tituli honorarii   \n448586      Agios Athanasios / Photike  tituli honorarii   \n448587  Aigio / Egio / Aiyion / Aegeum  tituli honorarii   \n448588                    Alea / Tegea          miliaria   \n448589                    Alea / Tegea             leges   \n\n                                          status_notation    inscr_process  \\\n448585  officium/professio, ordo senatorius, tria nomi...             None   \n448586       Augusti/Augustae, ordo equester, tria nomina  litterae erasae   \n448587  officium/professio, ordo senatorius, tria nomi...             None   \n448588                             Augusti/Augustae, viri             None   \n448589                             Augusti/Augustae, viri             None   \n\n                                                   status  \\\n448585  officium/professio;  ordo senatorius;  tituli ...   \n448586  Augusti/Augustae;  litterae erasae;  ordo eque...   \n448587  officium/professio;  ordo senatorius;  tituli ...   \n448588                 Augusti/Augustae;  miliaria;  viri   \n448589                    Augusti/Augustae;  leges;  viri   \n\n                                             partner_link last_update  \\\n448585  http://db.edcs.eu/epigr/partner.php?s_language...  2011-11-11   \n448586  http://db.edcs.eu/epigr/partner.php?s_language...  2014-09-16   \n448587  http://db.edcs.eu/epigr/partner.php?s_language...  2011-03-29   \n448588  http://db.edcs.eu/epigr/partner.php?s_language...  2011-05-24   \n448589  http://db.edcs.eu/epigr/partner.php?s_language...  2011-05-10   \n\n       letter_size       type_of_inscription         work_status  \\\n448585        None     honorific inscription            no image   \n448586    3-5.3 cm     honorific inscription  checked with photo   \n448587  3.5-3.7 cm        votive inscription  checked with photo   \n448588    3.3-6 cm         mile-/leaguestone  checked with photo   \n448589        None  public legal inscription  checked with photo   \n\n        year_of_find present_location  \\\n448585           NaN             None   \n448586           NaN    Fragma Kalama   \n448587           NaN             None   \n448588           NaN      Tegea, Mus.   \n448589           NaN             None   \n\n                                             text_edition support_objecttype  \\\n448585  \\n Quinto Caecilio Cai filio Metelo imperatori...               None   \n448586  \\n Fortissimo et piissimo Caesari domino nostr...                 57   \n448587  \\n Italicei quei Aegei negotiantur Publium Rut...                257   \n448588  \\n Imperatori Caesari Marco Annio Floriano Pio...                 89   \n448589  \\n Tiberius Claudius Caesar Augustus Germanicu...                257   \n\n        support_material  support_decoration  keywords_term  \\\n448585               NaN              1000.0           69.0   \n448586               NaN              1000.0           69.0   \n448587               NaN              1000.0          372.0   \n448588               NaN              1000.0            NaN   \n448589               NaN              1000.0            5.0   \n\n                                                   people  \\\n448585                                                [ ]   \n448586  [ { \"persname\": { \"name\": [ { \"@type\": \"nomen\"...   \n448587                                                [ ]   \n448588  [ { \"persname\": { \"name\": [ { \"@type\": \"praeno...   \n448589                                                [ ]   \n\n       type_of_inscription_clean  type_of_inscription_certainty  height_cm  \\\n448585     honorific inscription                          False        NaN   \n448586     honorific inscription                          False       99.0   \n448587        votive inscription                          False       58.0   \n448588         mile-/leaguestone                          False       44.0   \n448589  public legal inscription                          False      160.0   \n\n        width_cm  depth_cm material_clean type_of_monument_clean  \\\n448585       NaN       NaN           NULL                   NULL   \n448586      67.0      67.0           NULL            statue base   \n448587      61.0      16.0           NULL                 tabula   \n448588      24.0       NaN           NULL      mile-/leaguestone   \n448589      58.0      17.0           NULL                 tabula   \n\n        type_of_monument_certainty province_label_clean  \\\n448585                       False               Achaia   \n448586                       False               Epirus   \n448587                       False               Achaia   \n448588                       False               Achaia   \n448589                       False               Achaia   \n\n        province_label_certainty country_clean  country_certainty  \\\n448585                     False        Greece              False   \n448586                     False        Greece              False   \n448587                     False        Greece              False   \n448588                     False        Greece              False   \n448589                     False        Greece              False   \n\n       findspot_ancient_clean  findspot_ancient_certainty modern_region_clean  \\\n448585                  Midea                       False        Pelopónissos   \n448586                Photike                       False             Ípeiros   \n448587                 Aegeum                       False       Dytikí Elláda   \n448588                  Tegea                       False        Pelopónissos   \n448589                  Tegea                       False        Pelopónissos   \n\n        modern_region_certainty findspot_modern_clean  \\\n448585                    False                Midhéa   \n448586                    False            Paramythía   \n448587                    False                Aígion   \n448588                    False                  Alea   \n448589                    False                  Alea   \n\n        findspot_modern_certainty      findspot_clean  findspot_certainty  \\\n448585                      False                NULL               False   \n448586                      False  {Agios Athanasios}               False   \n448587                      False                NULL               False   \n448588                      False        Stringu, bei               False   \n448589                      False                NULL               False   \n\n       language language_EDCS                        raw_dating  not_after  \\\n448585        L          None                        -68 to -68      -68.0   \n448586        L          None                        309 to 313      309.0   \n448587        L          None                        -74 to -74      -74.0   \n448588        L          None  a:  276 to 276;   b:  276 to 282      276.0   \n448589        L          None                          49 to 50       49.0   \n\n        not_before  Longitude  Latitude  geotemporal?  \\\n448585         NaN    22.8412   37.6498          True   \n448586       313.0    20.7668   39.4512          True   \n448587         NaN    22.0845   38.2487          True   \n448588         NaN    22.4171   37.4319          True   \n448589        50.0        NaN       NaN         False   \n\n                         geometry  withinRE?  large_city_pop  medium_city_pop  \\\n448585  POINT (22.84120 37.64980)       True         49319.0           9938.0   \n448586  POINT (20.76680 39.45120)       True         41221.0          27923.0   \n448587  POINT (22.08450 38.24870)       True         41538.0           9498.0   \n448588  POINT (22.41710 37.43190)       True         46362.0          25371.0   \n448589                       None      False             NaN              NaN   \n\n        small_city_pop urban_context urban_context_city  \\\n448585          1000.0         rural               None   \n448586          1000.0         rural               None   \n448587          1000.0         small             Aegium   \n448588          1000.0         large              Tegea   \n448589             NaN          None               None   \n\n        urban_context_pop_est  type_of_inscription_auto  \\\n448585                    NaN     honorific inscription   \n448586                    NaN     honorific inscription   \n448587                 1000.0        votive inscription   \n448588                46362.0         mile-/leaguestone   \n448589                    NaN  public legal inscription   \n\n        type_of_inscription_auto_prob  \n448585                            1.0  \n448586                            1.0  \n448587                            1.0  \n448588                            1.0  \n448589                            1.0  ",
      "text/html": "<div>\n<style scoped>\n    .dataframe tbody tr th:only-of-type {\n        vertical-align: middle;\n    }\n\n    .dataframe tbody tr th {\n        vertical-align: top;\n    }\n\n    .dataframe thead th {\n        text-align: right;\n    }\n</style>\n<table border=\"1\" class=\"dataframe\">\n  <thead>\n    <tr style=\"text-align: right;\">\n      <th></th>\n      <th>LIST-ID</th>\n      <th>EDCS-ID</th>\n      <th>EDH-ID</th>\n      <th>trismegistos_uri</th>\n      <th>pleiades_id</th>\n      <th>transcription</th>\n      <th>inscription</th>\n      <th>clean_text_conservative</th>\n      <th>clean_text_interpretive_sentence</th>\n      <th>clean_text_interpretive_word</th>\n      <th>clean_text_interpretive_word_EDCS</th>\n      <th>diplomatic_text</th>\n      <th>province</th>\n      <th>place</th>\n      <th>inscr_type</th>\n      <th>status_notation</th>\n      <th>inscr_process</th>\n      <th>status</th>\n      <th>partner_link</th>\n      <th>last_update</th>\n      <th>letter_size</th>\n      <th>type_of_inscription</th>\n      <th>work_status</th>\n      <th>year_of_find</th>\n      <th>present_location</th>\n      <th>text_edition</th>\n      <th>support_objecttype</th>\n      <th>support_material</th>\n      <th>support_decoration</th>\n      <th>keywords_term</th>\n      <th>people</th>\n      <th>type_of_inscription_clean</th>\n      <th>type_of_inscription_certainty</th>\n      <th>height_cm</th>\n      <th>width_cm</th>\n      <th>depth_cm</th>\n      <th>material_clean</th>\n      <th>type_of_monument_clean</th>\n      <th>type_of_monument_certainty</th>\n      <th>province_label_clean</th>\n      <th>province_label_certainty</th>\n      <th>country_clean</th>\n      <th>country_certainty</th>\n      <th>findspot_ancient_clean</th>\n      <th>findspot_ancient_certainty</th>\n      <th>modern_region_clean</th>\n      <th>modern_region_certainty</th>\n      <th>findspot_modern_clean</th>\n      <th>findspot_modern_certainty</th>\n      <th>findspot_clean</th>\n      <th>findspot_certainty</th>\n      <th>language</th>\n      <th>language_EDCS</th>\n      <th>raw_dating</th>\n      <th>not_after</th>\n      <th>not_before</th>\n      <th>Longitude</th>\n      <th>Latitude</th>\n      <th>geotemporal?</th>\n      <th>geometry</th>\n      <th>withinRE?</th>\n      <th>large_city_pop</th>\n      <th>medium_city_pop</th>\n      <th>small_city_pop</th>\n      <th>urban_context</th>\n      <th>urban_context_city</th>\n      <th>urban_context_pop_est</th>\n      <th>type_of_inscription_auto</th>\n      <th>type_of_inscription_auto_prob</th>\n    </tr>\n  </thead>\n  <tbody>\n    <tr>\n      <th>448585</th>\n      <td>LIST-448586</td>\n      <td>EDCS-24900077</td>\n      <td>HD056163</td>\n      <td>https://www.trismegistos.org/text/177366</td>\n      <td>570485</td>\n      <td>Q(uinto) Caecilio C(ai) f(ilio) Metelo / imper...</td>\n      <td>Q(uinto) Caecilio C(ai) f(ilio) Metel(l)o / im...</td>\n      <td>Q Caecilio C f Metelo imperatori Italici quei ...</td>\n      <td>Quinto Caecilio Cai filio Metelo imperatori It...</td>\n      <td>Quinto Caecilio Cai filio Metelo imperatori It...</td>\n      <td>Quinto Caecilio Cai filio Metello imperatori I...</td>\n      <td>Q CAECILIO C F METELO / IMPERATORI ITALICI / Q...</td>\n      <td>Achaia</td>\n      <td>Agia Triada / Merbaka / Midea</td>\n      <td>tituli honorarii</td>\n      <td>officium/professio, ordo senatorius, tria nomi...</td>\n      <td>None</td>\n      <td>officium/professio;  ordo senatorius;  tituli ...</td>\n      <td>http://db.edcs.eu/epigr/partner.php?s_language...</td>\n      <td>2011-11-11</td>\n      <td>None</td>\n      <td>honorific inscription</td>\n      <td>no image</td>\n      <td>NaN</td>\n      <td>None</td>\n      <td>\\n Quinto Caecilio Cai filio Metelo imperatori...</td>\n      <td>None</td>\n      <td>NaN</td>\n      <td>1000.0</td>\n      <td>69.0</td>\n      <td>[ ]</td>\n      <td>honorific inscription</td>\n      <td>False</td>\n      <td>NaN</td>\n      <td>NaN</td>\n      <td>NaN</td>\n      <td>NULL</td>\n      <td>NULL</td>\n      <td>False</td>\n      <td>Achaia</td>\n      <td>False</td>\n      <td>Greece</td>\n      <td>False</td>\n      <td>Midea</td>\n      <td>False</td>\n      <td>Pelopónissos</td>\n      <td>False</td>\n      <td>Midhéa</td>\n      <td>False</td>\n      <td>NULL</td>\n      <td>False</td>\n      <td>L</td>\n      <td>None</td>\n      <td>-68 to -68</td>\n      <td>-68.0</td>\n      <td>NaN</td>\n      <td>22.8412</td>\n      <td>37.6498</td>\n      <td>True</td>\n      <td>POINT (22.84120 37.64980)</td>\n      <td>True</td>\n      <td>49319.0</td>\n      <td>9938.0</td>\n      <td>1000.0</td>\n      <td>rural</td>\n      <td>None</td>\n      <td>NaN</td>\n      <td>honorific inscription</td>\n      <td>1.0</td>\n    </tr>\n    <tr>\n      <th>448586</th>\n      <td>LIST-448587</td>\n      <td>EDCS-03700724</td>\n      <td>HD052964</td>\n      <td>https://www.trismegistos.org/text/121715</td>\n      <td>531064</td>\n      <td>Fortissimo et piis/simo Caesari d(omino) n(ost...</td>\n      <td>Fortissimo et Piis/simo Caesari d(omino) n(ost...</td>\n      <td>Fortissimo et piissimo Caesari d n Gal Val P F...</td>\n      <td>Fortissimo et piissimo Caesari domino nostro G...</td>\n      <td>Fortissimo et piissimo Caesari domino nostro G...</td>\n      <td>Fortissimo et Piissimo Caesari domino nostro G...</td>\n      <td>FORTISSIMO ET PIIS / SIMO CAESARI D N / GAL VA...</td>\n      <td>Achaia</td>\n      <td>Agios Athanasios / Photike</td>\n      <td>tituli honorarii</td>\n      <td>Augusti/Augustae, ordo equester, tria nomina</td>\n      <td>litterae erasae</td>\n      <td>Augusti/Augustae;  litterae erasae;  ordo eque...</td>\n      <td>http://db.edcs.eu/epigr/partner.php?s_language...</td>\n      <td>2014-09-16</td>\n      <td>3-5.3 cm</td>\n      <td>honorific inscription</td>\n      <td>checked with photo</td>\n      <td>NaN</td>\n      <td>Fragma Kalama</td>\n      <td>\\n Fortissimo et piissimo Caesari domino nostr...</td>\n      <td>57</td>\n      <td>NaN</td>\n      <td>1000.0</td>\n      <td>69.0</td>\n      <td>[ { \"persname\": { \"name\": [ { \"@type\": \"nomen\"...</td>\n      <td>honorific inscription</td>\n      <td>False</td>\n      <td>99.0</td>\n      <td>67.0</td>\n      <td>67.0</td>\n      <td>NULL</td>\n      <td>statue base</td>\n      <td>False</td>\n      <td>Epirus</td>\n      <td>False</td>\n      <td>Greece</td>\n      <td>False</td>\n      <td>Photike</td>\n      <td>False</td>\n      <td>Ípeiros</td>\n      <td>False</td>\n      <td>Paramythía</td>\n      <td>False</td>\n      <td>{Agios Athanasios}</td>\n      <td>False</td>\n      <td>L</td>\n      <td>None</td>\n      <td>309 to 313</td>\n      <td>309.0</td>\n      <td>313.0</td>\n      <td>20.7668</td>\n      <td>39.4512</td>\n      <td>True</td>\n      <td>POINT (20.76680 39.45120)</td>\n      <td>True</td>\n      <td>41221.0</td>\n      <td>27923.0</td>\n      <td>1000.0</td>\n      <td>rural</td>\n      <td>None</td>\n      <td>NaN</td>\n      <td>honorific inscription</td>\n      <td>1.0</td>\n    </tr>\n    <tr>\n      <th>448587</th>\n      <td>LIST-448588</td>\n      <td>EDCS-13800065</td>\n      <td>HD017714</td>\n      <td>https://www.trismegistos.org/text/177100</td>\n      <td>570049</td>\n      <td>Italicei / quei Aegei negotiantur / P(ublium) ...</td>\n      <td>Italicei / quei Aegei negotiantur / P(ublium) ...</td>\n      <td>Italicei quei Aegei negotiantur P Rutilium P f...</td>\n      <td>Italicei quei Aegei negotiantur Publium Rutili...</td>\n      <td>Italicei quei Aegei negotiantur Publium Rutili...</td>\n      <td>Italicei quei Aegei negotiantur Publium Rutili...</td>\n      <td>ITALICEI / QVEI AEGEI NEGOTIANTVR / P RVTILIVM...</td>\n      <td>Achaia</td>\n      <td>Aigio / Egio / Aiyion / Aegeum</td>\n      <td>tituli honorarii</td>\n      <td>officium/professio, ordo senatorius, tria nomi...</td>\n      <td>None</td>\n      <td>officium/professio;  ordo senatorius;  tituli ...</td>\n      <td>http://db.edcs.eu/epigr/partner.php?s_language...</td>\n      <td>2011-03-29</td>\n      <td>3.5-3.7 cm</td>\n      <td>votive inscription</td>\n      <td>checked with photo</td>\n      <td>NaN</td>\n      <td>None</td>\n      <td>\\n Italicei quei Aegei negotiantur Publium Rut...</td>\n      <td>257</td>\n      <td>NaN</td>\n      <td>1000.0</td>\n      <td>372.0</td>\n      <td>[ ]</td>\n      <td>votive inscription</td>\n      <td>False</td>\n      <td>58.0</td>\n      <td>61.0</td>\n      <td>16.0</td>\n      <td>NULL</td>\n      <td>tabula</td>\n      <td>False</td>\n      <td>Achaia</td>\n      <td>False</td>\n      <td>Greece</td>\n      <td>False</td>\n      <td>Aegeum</td>\n      <td>False</td>\n      <td>Dytikí Elláda</td>\n      <td>False</td>\n      <td>Aígion</td>\n      <td>False</td>\n      <td>NULL</td>\n      <td>False</td>\n      <td>L</td>\n      <td>None</td>\n      <td>-74 to -74</td>\n      <td>-74.0</td>\n      <td>NaN</td>\n      <td>22.0845</td>\n      <td>38.2487</td>\n      <td>True</td>\n      <td>POINT (22.08450 38.24870)</td>\n      <td>True</td>\n      <td>41538.0</td>\n      <td>9498.0</td>\n      <td>1000.0</td>\n      <td>small</td>\n      <td>Aegium</td>\n      <td>1000.0</td>\n      <td>votive inscription</td>\n      <td>1.0</td>\n    </tr>\n    <tr>\n      <th>448588</th>\n      <td>LIST-448589</td>\n      <td>EDCS-03300852</td>\n      <td>HD051000</td>\n      <td>https://www.trismegistos.org/text/177273</td>\n      <td>240855</td>\n      <td>[Imp(eratori) Caes(ari) M(arco)] / An[nio] Flo...</td>\n      <td>Imp(eratori) / Floriano / P(io) F(elici) Aug(u...</td>\n      <td>An Floriano P F Aug p p m p III Imp Caes M Aur...</td>\n      <td>Imperatori Caesari Marco Annio Floriano Pio Fe...</td>\n      <td>Imperatori Caesari Marco Annio Floriano Pio Fe...</td>\n      <td>Imperatori Floriano Pio Felici Augusto patri p...</td>\n      <td>[ ] / AN[ ] FLORIANO / P F AVG / P P / M P III...</td>\n      <td>Achaia</td>\n      <td>Alea / Tegea</td>\n      <td>miliaria</td>\n      <td>Augusti/Augustae, viri</td>\n      <td>None</td>\n      <td>Augusti/Augustae;  miliaria;  viri</td>\n      <td>http://db.edcs.eu/epigr/partner.php?s_language...</td>\n      <td>2011-05-24</td>\n      <td>3.3-6 cm</td>\n      <td>mile-/leaguestone</td>\n      <td>checked with photo</td>\n      <td>NaN</td>\n      <td>Tegea, Mus.</td>\n      <td>\\n Imperatori Caesari Marco Annio Floriano Pio...</td>\n      <td>89</td>\n      <td>NaN</td>\n      <td>1000.0</td>\n      <td>NaN</td>\n      <td>[ { \"persname\": { \"name\": [ { \"@type\": \"praeno...</td>\n      <td>mile-/leaguestone</td>\n      <td>False</td>\n      <td>44.0</td>\n      <td>24.0</td>\n      <td>NaN</td>\n      <td>NULL</td>\n      <td>mile-/leaguestone</td>\n      <td>False</td>\n      <td>Achaia</td>\n      <td>False</td>\n      <td>Greece</td>\n      <td>False</td>\n      <td>Tegea</td>\n      <td>False</td>\n      <td>Pelopónissos</td>\n      <td>False</td>\n      <td>Alea</td>\n      <td>False</td>\n      <td>Stringu, bei</td>\n      <td>False</td>\n      <td>L</td>\n      <td>None</td>\n      <td>a:  276 to 276;   b:  276 to 282</td>\n      <td>276.0</td>\n      <td>NaN</td>\n      <td>22.4171</td>\n      <td>37.4319</td>\n      <td>True</td>\n      <td>POINT (22.41710 37.43190)</td>\n      <td>True</td>\n      <td>46362.0</td>\n      <td>25371.0</td>\n      <td>1000.0</td>\n      <td>large</td>\n      <td>Tegea</td>\n      <td>46362.0</td>\n      <td>mile-/leaguestone</td>\n      <td>1.0</td>\n    </tr>\n    <tr>\n      <th>448589</th>\n      <td>LIST-448590</td>\n      <td>EDCS-28500283</td>\n      <td>HD021396</td>\n      <td>https://www.trismegistos.org/text/177131</td>\n      <td></td>\n      <td>T[i(berius)] Claudius Caesar Aug(ustus) / G[er...</td>\n      <td>T[(iberius)] Claudius Caesar Aug(ustus) / G[er...</td>\n      <td>T Claudius Caesar Aug Ganicus pontif max trib ...</td>\n      <td>Tiberius Claudius Caesar Augustus Germanicus p...</td>\n      <td>Tiberius Claudius Caesar Augustus Germanicus p...</td>\n      <td>Tiberius Claudius Caesar Augustus Germanicus p...</td>\n      <td>T[ ] CLAVDIVS CAESAR AVG / G[ ]ANICVS PONTIF M...</td>\n      <td>Achaia</td>\n      <td>Alea / Tegea</td>\n      <td>leges</td>\n      <td>Augusti/Augustae, viri</td>\n      <td>None</td>\n      <td>Augusti/Augustae;  leges;  viri</td>\n      <td>http://db.edcs.eu/epigr/partner.php?s_language...</td>\n      <td>2011-05-10</td>\n      <td>None</td>\n      <td>public legal inscription</td>\n      <td>checked with photo</td>\n      <td>NaN</td>\n      <td>None</td>\n      <td>\\n Tiberius Claudius Caesar Augustus Germanicu...</td>\n      <td>257</td>\n      <td>NaN</td>\n      <td>1000.0</td>\n      <td>5.0</td>\n      <td>[ ]</td>\n      <td>public legal inscription</td>\n      <td>False</td>\n      <td>160.0</td>\n      <td>58.0</td>\n      <td>17.0</td>\n      <td>NULL</td>\n      <td>tabula</td>\n      <td>False</td>\n      <td>Achaia</td>\n      <td>False</td>\n      <td>Greece</td>\n      <td>False</td>\n      <td>Tegea</td>\n      <td>False</td>\n      <td>Pelopónissos</td>\n      <td>False</td>\n      <td>Alea</td>\n      <td>False</td>\n      <td>NULL</td>\n      <td>False</td>\n      <td>L</td>\n      <td>None</td>\n      <td>49 to 50</td>\n      <td>49.0</td>\n      <td>50.0</td>\n      <td>NaN</td>\n      <td>NaN</td>\n      <td>False</td>\n      <td>None</td>\n      <td>False</td>\n      <td>NaN</td>\n      <td>NaN</td>\n      <td>NaN</td>\n      <td>None</td>\n      <td>None</td>\n      <td>NaN</td>\n      <td>public legal inscription</td>\n      <td>1.0</td>\n    </tr>\n  </tbody>\n</table>\n</div>"
     },
     "execution_count": 93,
     "metadata": {},
     "output_type": "execute_result"
    }
   ],
   "source": [
    "LIST_autotypes.head(5)"
   ],
   "metadata": {
    "collapsed": false
   }
  },
  {
   "cell_type": "code",
   "execution_count": 94,
   "outputs": [
    {
     "data": {
      "text/plain": "475286"
     },
     "execution_count": 94,
     "metadata": {},
     "output_type": "execute_result"
    }
   ],
   "source": [
    "len(LIST_autotypes[LIST_autotypes[\"type_of_inscription_auto_prob\"]>=0.6])"
   ],
   "metadata": {
    "collapsed": false
   }
  },
  {
   "cell_type": "code",
   "execution_count": 95,
   "outputs": [
    {
     "data": {
      "text/plain": "20388"
     },
     "execution_count": 95,
     "metadata": {},
     "output_type": "execute_result"
    }
   ],
   "source": [
    "len(LIST_autotypes[LIST_autotypes[\"type_of_inscription_auto\"]==\"NULL\"])"
   ],
   "metadata": {
    "collapsed": false
   }
  },
  {
   "cell_type": "code",
   "execution_count": 96,
   "outputs": [],
   "source": [
    "def apply_threshold(inscr_type, prob):\n",
    "    if (prob < 0.6) or (inscr_type == \"NULL\"):\n",
    "        return None\n",
    "    else:\n",
    "        return inscr_type\n",
    "LIST_autotypes[\"type_of_inscription_auto\"] =  LIST_autotypes.apply(lambda row: apply_threshold(row[\"type_of_inscription_auto\"], row[\"type_of_inscription_auto_prob\"]), axis=1)"
   ],
   "metadata": {
    "collapsed": false
   }
  },
  {
   "cell_type": "code",
   "execution_count": 97,
   "outputs": [],
   "source": [
    "def prob_to_zero(inscr_type, prob):\n",
    "    if inscr_type == None:\n",
    "        return 0\n",
    "    else:\n",
    "        return prob\n",
    "LIST_autotypes[\"type_of_inscription_auto_prob\"] =  LIST_autotypes.apply(lambda row: prob_to_zero(row[\"type_of_inscription_auto\"], row[\"type_of_inscription_auto_prob\"]), axis=1)"
   ],
   "metadata": {
    "collapsed": false
   }
  },
  {
   "cell_type": "code",
   "execution_count": 98,
   "outputs": [
    {
     "data": {
      "text/plain": "454898"
     },
     "execution_count": 98,
     "metadata": {},
     "output_type": "execute_result"
    }
   ],
   "source": [
    "len(LIST_autotypes[LIST_autotypes[\"type_of_inscription_auto\"].notnull()])"
   ],
   "metadata": {
    "collapsed": false
   }
  },
  {
   "cell_type": "markdown",
   "source": [
    "# Save"
   ],
   "metadata": {
    "collapsed": false
   }
  },
  {
   "cell_type": "code",
   "execution_count": 100,
   "outputs": [],
   "source": [
    "LIST_autotypes.to_parquet(\"../data/large_data/LIST_v0-2.parquet\")"
   ],
   "metadata": {
    "collapsed": false
   }
  }
 ],
 "metadata": {
  "kernelspec": {
   "name": "lire_venv",
   "language": "python",
   "display_name": "lire_venv"
  },
  "language_info": {
   "codemirror_mode": {
    "name": "ipython",
    "version": 2
   },
   "file_extension": ".py",
   "mimetype": "text/x-python",
   "name": "python",
   "nbconvert_exporter": "python",
   "pygments_lexer": "ipython2",
   "version": "2.7.6"
  }
 },
 "nbformat": 4,
 "nbformat_minor": 0
}
