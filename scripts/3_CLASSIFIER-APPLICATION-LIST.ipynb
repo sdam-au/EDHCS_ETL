{
 "cells": [
  {
   "cell_type": "code",
   "execution_count": 1,
   "outputs": [],
   "source": [
    "import sddk\n",
    "import pandas as pd\n",
    "import tabulate\n",
    "pd.options.display.max_columns = 1000 # to see all columns\n",
    "import json\n",
    "import re\n",
    "import geopandas as gpd\n",
    "from shapely.geometry import Point\n",
    "from functools import partial\n",
    "from shapely.ops import transform\n",
    "import pyproj\n",
    "import warnings\n",
    "warnings.filterwarnings('ignore')\n",
    "import numpy as np\n",
    "from scipy.spatial import cKDTree\n",
    "import matplotlib.pyplot as plt\n",
    "\n",
    "from sklearn.feature_extraction.text import CountVectorizer\n",
    "from sklearn.feature_extraction.text import TfidfVectorizer\n",
    "\n",
    "from sklearn.model_selection import train_test_split\n",
    "from sklearn.svm import SVC\n",
    "from sklearn.metrics import confusion_matrix\n",
    "\n",
    "import pickle\n",
    "\n",
    "import nltk\n",
    "from nltk.util import bigrams"
   ],
   "metadata": {
    "collapsed": false,
    "ExecuteTime": {
     "start_time": "2023-04-27T09:19:58.370007Z",
     "end_time": "2023-04-27T09:19:59.914975Z"
    }
   }
  },
  {
   "cell_type": "code",
   "execution_count": 2,
   "outputs": [],
   "source": [
    "LIST = gpd.read_parquet(\"../data/large_data/LIST_contexts.parquet\") # point out to your local version..."
   ],
   "metadata": {
    "collapsed": false,
    "ExecuteTime": {
     "start_time": "2023-04-27T09:20:00.668484Z",
     "end_time": "2023-04-27T09:20:09.534544Z"
    }
   }
  },
  {
   "cell_type": "code",
   "execution_count": 3,
   "outputs": [
    {
     "data": {
      "text/plain": "        not_before  not_after\n0              NaN        NaN\n1              NaN        NaN\n2              NaN        NaN\n3              NaN        NaN\n4              NaN        NaN\n...            ...        ...\n525865       171.0      270.0\n525866       171.0      270.0\n525867       101.0      300.0\n525868       101.0      200.0\n525869       101.0      300.0\n\n[525870 rows x 2 columns]",
      "text/html": "<div>\n<style scoped>\n    .dataframe tbody tr th:only-of-type {\n        vertical-align: middle;\n    }\n\n    .dataframe tbody tr th {\n        vertical-align: top;\n    }\n\n    .dataframe thead th {\n        text-align: right;\n    }\n</style>\n<table border=\"1\" class=\"dataframe\">\n  <thead>\n    <tr style=\"text-align: right;\">\n      <th></th>\n      <th>not_before</th>\n      <th>not_after</th>\n    </tr>\n  </thead>\n  <tbody>\n    <tr>\n      <th>0</th>\n      <td>NaN</td>\n      <td>NaN</td>\n    </tr>\n    <tr>\n      <th>1</th>\n      <td>NaN</td>\n      <td>NaN</td>\n    </tr>\n    <tr>\n      <th>2</th>\n      <td>NaN</td>\n      <td>NaN</td>\n    </tr>\n    <tr>\n      <th>3</th>\n      <td>NaN</td>\n      <td>NaN</td>\n    </tr>\n    <tr>\n      <th>4</th>\n      <td>NaN</td>\n      <td>NaN</td>\n    </tr>\n    <tr>\n      <th>...</th>\n      <td>...</td>\n      <td>...</td>\n    </tr>\n    <tr>\n      <th>525865</th>\n      <td>171.0</td>\n      <td>270.0</td>\n    </tr>\n    <tr>\n      <th>525866</th>\n      <td>171.0</td>\n      <td>270.0</td>\n    </tr>\n    <tr>\n      <th>525867</th>\n      <td>101.0</td>\n      <td>300.0</td>\n    </tr>\n    <tr>\n      <th>525868</th>\n      <td>101.0</td>\n      <td>200.0</td>\n    </tr>\n    <tr>\n      <th>525869</th>\n      <td>101.0</td>\n      <td>300.0</td>\n    </tr>\n  </tbody>\n</table>\n<p>525870 rows × 2 columns</p>\n</div>"
     },
     "execution_count": 3,
     "metadata": {},
     "output_type": "execute_result"
    }
   ],
   "source": [
    "LIST[[\"not_before\", \"not_after\"]]"
   ],
   "metadata": {
    "collapsed": false,
    "ExecuteTime": {
     "start_time": "2023-04-27T09:20:16.252603Z",
     "end_time": "2023-04-27T09:20:16.293511Z"
    }
   }
  },
  {
   "cell_type": "code",
   "execution_count": 4,
   "outputs": [
    {
     "data": {
      "text/plain": "206570"
     },
     "execution_count": 4,
     "metadata": {},
     "output_type": "execute_result"
    }
   ],
   "source": [
    "(LIST[\"not_before\"].notnull() | LIST[\"not_after\"].notnull()).sum()"
   ],
   "metadata": {
    "collapsed": false,
    "ExecuteTime": {
     "start_time": "2023-04-27T09:21:24.312933Z",
     "end_time": "2023-04-27T09:21:24.321965Z"
    }
   }
  },
  {
   "cell_type": "code",
   "execution_count": 5,
   "outputs": [],
   "source": [
    "# remove?\n",
    "EDH_overlap_all = LIST[(LIST[\"EDH-ID\"].notnull()) & (LIST[\"EDCS-ID\"].notnull())]\n",
    "EDH_overlap = EDH_overlap_all[~EDH_overlap_all[\"type_of_inscription_clean\"].str.contains(\"NULL\", na=False)]"
   ],
   "metadata": {
    "collapsed": false,
    "ExecuteTime": {
     "start_time": "2023-04-27T09:21:31.930991Z",
     "end_time": "2023-04-27T09:21:32.109595Z"
    }
   }
  },
  {
   "cell_type": "code",
   "execution_count": 6,
   "outputs": [
    {
     "data": {
      "text/plain": "        LIST-ID        EDCS-ID    EDH-ID  \\\n445463   445464  EDCS-24900077  HD056163   \n445464   445465  EDCS-03700724  HD052964   \n445465   445466  EDCS-13800065  HD017714   \n445466   445467  EDCS-03300852  HD051000   \n445467   445468  EDCS-28500283  HD021396   \n...         ...            ...       ...   \n522542   522543  EDCS-07400320  HD009033   \n522543   522544  EDCS-07400321  HD009036   \n522546   522547  EDCS-36700001  HD033248   \n522547   522548  EDCS-04200897  HD033251   \n522549   522550  EDCS-04200923  HD018999   \n\n                                trismegistos_uri pleiades_id  \\\n445463  https://www.trismegistos.org/text/177366      570485   \n445464  https://www.trismegistos.org/text/121715      531064   \n445465  https://www.trismegistos.org/text/177100      570049   \n445466  https://www.trismegistos.org/text/177273      240855   \n445467  https://www.trismegistos.org/text/177131               \n...                                          ...         ...   \n522542  https://www.trismegistos.org/text/123528               \n522543  https://www.trismegistos.org/text/123529               \n522546  https://www.trismegistos.org/text/125101      187430   \n522547  https://www.trismegistos.org/text/125102      187430   \n522549  https://www.trismegistos.org/text/123044      187430   \n\n                                            transcription  \\\n445463  Q(uinto) Caecilio C(ai) f(ilio) Metelo / imper...   \n445464  Fortissimo et piis/simo Caesari d(omino) n(ost...   \n445465  Italicei / quei Aegei negotiantur / P(ublium) ...   \n445466  [Imp(eratori) Caes(ari) M(arco)] / An[nio] Flo...   \n445467  T[i(berius)] Claudius Caesar Aug(ustus) / G[er...   \n...                                                   ...   \n522542  Aquili/nus et Urania / cum suis fece/runt / p(...   \n522543     Dalma/tius presbiter(!) / fecet(!) p(edes) XXX   \n522546  C(aio) Baebio P(ubli) f(ilio) Cla(udia) / Atti...   \n522547  [C(aio) B]aeb[io P(ubli) f(ilio) Cla(udia)] / ...   \n522549  Respectus T(iti) Iul(i) / P[e]r[se]i c(onducto...   \n\n                                              inscription  \\\n445463  Q(uinto) Caecilio C(ai) f(ilio) Metel(l)o / im...   \n445464  Fortissimo et Piis/simo Caesari d(omino) n(ost...   \n445465  Italicei / quei Aegei negotiantur / P(ublium) ...   \n445466  Imp(eratori) / Floriano / P(io) F(elici) Aug(u...   \n445467  T[(iberius)] Claudius Caesar Aug(ustus) / G[er...   \n...                                                   ...   \n522542  Aquili/nus et Urania / cum suis fece/runt / p(...   \n522543   Dalma/tius presb<y=I>ter / fec<i=E>t p(edes) CCC   \n522546  C(aio) Baebio P(ubli) f(ilio) Cla(udia) / Atti...   \n522547  [C(aio) B]aeb[io P(ubli) f(ilio) Cla(udia)] / ...   \n522549  Respectus T(iti) Iul(i) / Pers[e]i c(onductori...   \n\n                                  clean_text_conservative  \\\n445463  Q Caecilio C f Metelo imperatori Italici quei ...   \n445464  Fortissimo et piissimo Caesari d n Gal Val P F...   \n445465  Italicei quei Aegei negotiantur P Rutilium P f...   \n445466  An Floriano P F Aug p p m p III Imp Caes M Aur...   \n445467  T Claudius Caesar Aug Ganicus pontif max trib ...   \n...                                                   ...   \n522542        Aquilinus et Urania cum suis fecerunt p CCC   \n522543                    Dalmatius presbiter fecet p XXX   \n522546  C Baebio P f Cla Attico II vir i primo pil leg...   \n522547  aeb ico leg V vitatae pr arit mo pi Caesaris i...   \n522549  Respectus T Iul Pri c p p vecgal Illyr ser v s...   \n\n                         clean_text_interpretive_sentence  \\\n445463  Quinto Caecilio Cai filio Metelo imperatori It...   \n445464  Fortissimo et piissimo Caesari domino nostro G...   \n445465  Italicei quei Aegei negotiantur Publium Rutili...   \n445466  Imperatori Caesari Marco Annio Floriano Pio Fe...   \n445467  Tiberius Claudius Caesar Augustus Germanicus p...   \n...                                                   ...   \n522542    Aquilinus et Urania cum suis fecerunt pedes CCC   \n522543                Dalmatius presbiter fecet pedes XXX   \n522546  Caio Baebio Publi filio Claudia Attico II viro...   \n522547  Caio Baebio Publi filio Claudia Attico II viro...   \n522549  Respectus Titi Iuli Persei conductoris publici...   \n\n                             clean_text_interpretive_word  \\\n445463  Quinto Caecilio Cai filio Metelo imperatori It...   \n445464  Fortissimo et piissimo Caesari domino nostro G...   \n445465  Italicei quei Aegei negotiantur Publium Rutili...   \n445466  Imperatori Caesari Marco Annio Floriano Pio Fe...   \n445467  Tiberius Claudius Caesar Augustus Germanicus p...   \n...                                                   ...   \n522542    Aquilinus et Urania cum suis fecerunt pedes CCC   \n522543                Dalmatius presbiter fecet pedes XXX   \n522546  Caio Baebio Publi filio Claudia Attico II viro...   \n522547  Caio Baebio Publi filio Claudia Attico II viro...   \n522549  Respectus Titi Iuli Persei conductoris publici...   \n\n                        clean_text_interpretive_word_EDCS  \\\n445463  Quinto Caecilio Cai filio Metello imperatori I...   \n445464  Fortissimo et Piissimo Caesari domino nostro G...   \n445465  Italicei quei Aegei negotiantur Publium Rutili...   \n445466  Imperatori Floriano Pio Felici Augusto patri p...   \n445467  Tiberius Claudius Caesar Augustus Germanicus p...   \n...                                                   ...   \n522542    Aquilinus et Urania cum suis fecerunt pedes CCC   \n522543                Dalmatius presbyter fecit pedes CCC   \n522546  Caio Baebio Publi filio Claudia Attico II viro...   \n522547  Caio Baebio Publi filio Claudia Attico II viro...   \n522549  Respectus Titi Iuli Persei conductoris publici...   \n\n                                          diplomatic_text  \\\n445463  Q CAECILIO C F METELO / IMPERATORI ITALICI / Q...   \n445464  FORTISSIMO ET PIIS / SIMO CAESARI D N / GAL VA...   \n445465  ITALICEI / QVEI AEGEI NEGOTIANTVR / P RVTILIVM...   \n445466  [ ] / AN[ ] FLORIANO / P F AVG / P P / M P III...   \n445467  T[ ] CLAVDIVS CAESAR AVG / G[ ]ANICVS PONTIF M...   \n...                                                   ...   \n522542  AQVILI / NVS ET VRANIA / CVM SVIS FECE / RVNT ...   \n522543               DALMA / TIVS PRESBITER / FECET P XXX   \n522546  C BAEBIO P F CLA / ATTICO / IIVIR I [ ] PRIMO ...   \n522547  [ ]AEB[ ] / [ ]ICO [ ] / [ ] LEG V [ ] / [ ]VI...   \n522549  RESPECTVS T IVL / P[ ]R[ ]I C P P VEC[ ] / GAL...   \n\n                            province                           place  \\\n445463                        Achaia   Agia Triada / Merbaka / Midea   \n445464                        Achaia      Agios Athanasios / Photike   \n445465                        Achaia  Aigio / Egio / Aiyion / Aegeum   \n445466                        Achaia                    Alea / Tegea   \n445467                        Achaia                    Alea / Tegea   \n...                              ...                             ...   \n522542  Venetia et Histria / Regio X                         Vodnjan   \n522543  Venetia et Histria / Regio X                         Vodnjan   \n522546  Venetia et Histria / Regio X        Zuglio / Iulium Carnicum   \n522547  Venetia et Histria / Regio X        Zuglio / Iulium Carnicum   \n522549  Venetia et Histria / Regio X        Zuglio / Iulium Carnicum   \n\n                                      inscr_type  \\\n445463                          tituli honorarii   \n445464                          tituli honorarii   \n445465                          tituli honorarii   \n445466                                  miliaria   \n445467                                     leges   \n...                                          ...   \n522542  inscriptiones christianae, tituli operum   \n522543  inscriptiones christianae, tituli operum   \n522546                          tituli honorarii   \n522547                          tituli honorarii   \n522549                             tituli operum   \n\n                                          status_notation    inscr_process  \\\n445463  officium/professio, ordo senatorius, tria nomi...             None   \n445464       Augusti/Augustae, ordo equester, tria nomina  litterae erasae   \n445465  officium/professio, ordo senatorius, tria nomi...             None   \n445466                             Augusti/Augustae, viri             None   \n445467                             Augusti/Augustae, viri             None   \n...                                                   ...              ...   \n522542                    mulieres, nomen singulare, viri             None   \n522543       nomen singulare, sacerdotes christiani, viri             None   \n522546  Augusti/Augustae, milites, ordo decurionum, or...             None   \n522547  Augusti/Augustae, milites, ordo decurionum, or...             None   \n522549  nomen singulare, officium/professio, servi/ser...             None   \n\n                                                   status  \\\n445463  officium/professio;  ordo senatorius;  tituli ...   \n445464  Augusti/Augustae;  litterae erasae;  ordo eque...   \n445465  officium/professio;  ordo senatorius;  tituli ...   \n445466                 Augusti/Augustae;  miliaria;  viri   \n445467                    Augusti/Augustae;  leges;  viri   \n...                                                   ...   \n522542  inscriptiones christianae;  mulieres;  nomen s...   \n522543  inscriptiones christianae;  nomen singulare;  ...   \n522546  Augusti/Augustae;  milites;  ordo decurionum; ...   \n522547  Augusti/Augustae;  milites;  ordo decurionum; ...   \n522549  nomen singulare;  officium/professio;  servi/s...   \n\n                                             partner_link last_update  \\\n445463  http://db.edcs.eu/epigr/partner.php?s_language...  2011-11-11   \n445464  http://db.edcs.eu/epigr/partner.php?s_language...  2014-09-16   \n445465  http://db.edcs.eu/epigr/partner.php?s_language...  2011-03-29   \n445466  http://db.edcs.eu/epigr/partner.php?s_language...  2011-05-24   \n445467  http://db.edcs.eu/epigr/partner.php?s_language...  2011-05-10   \n...                                                   ...         ...   \n522542  http://db.edcs.eu/epigr/partner.php?s_language...  2011-02-08   \n522543  http://db.edcs.eu/epigr/partner.php?s_language...  2011-02-08   \n522546  http://db.edcs.eu/epigr/partner.php?s_language...  2010-05-12   \n522547  http://db.edcs.eu/epigr/partner.php?s_language...  2008-08-25   \n522549  http://db.edcs.eu/epigr/partner.php?s_language...  2013-11-18   \n\n       letter_size              type_of_inscription         work_status  \\\n445463        None            honorific inscription            no image   \n445464    3-5.3 cm            honorific inscription  checked with photo   \n445465  3.5-3.7 cm               votive inscription  checked with photo   \n445466    3.3-6 cm                mile-/leaguestone  checked with photo   \n445467        None         public legal inscription  checked with photo   \n...            ...                              ...                 ...   \n522542        None  building/dedicatory inscription  checked with photo   \n522543    14-12 cm  building/dedicatory inscription  checked with photo   \n522546  4.5-1.7 cm            honorific inscription            no image   \n522547    5.5-2 cm            honorific inscription            no image   \n522549        None  building/dedicatory inscription         provisional   \n\n        year_of_find                  present_location  \\\n445463           NaN                              None   \n445464           NaN                     Fragma Kalama   \n445465           NaN                              None   \n445466           NaN                       Tegea, Mus.   \n445467           NaN                              None   \n...              ...                               ...   \n522542           NaN                              None   \n522543           NaN                              None   \n522546           NaN  Cividale/Friuli, Mus. Arch. Naz.   \n522547           NaN  Cividale/Friuli, Mus. Arch. Naz.   \n522549           NaN                              None   \n\n                                             text_edition support_objecttype  \\\n445463  \\n Quinto Caecilio Cai filio Metelo imperatori...               None   \n445464  \\n Fortissimo et piissimo Caesari domino nostr...                 57   \n445465  \\n Italicei quei Aegei negotiantur Publium Rut...                257   \n445466  \\n Imperatori Caesari Marco Annio Floriano Pio...                 89   \n445467  \\n Tiberius Claudius Caesar Augustus Germanicu...                257   \n...                                                   ...                ...   \n522542  \\n Aquilinus et Urania cum suis fecerunt pedes...                 35   \n522543   \\n Dalmatius presbiter sic fecet sic pedes XXX\\n                 35   \n522546  \\n Caio Baebio Publi filio Claudia Attico IIvi...                257   \n522547  \\n Caio Baebio Publi filio Claudia Attico IIvi...                257   \n522549  \\n Respectus Titi Iuli Persei conductoris publ...               None   \n\n       support_material support_decoration keywords_term  \\\n445463             None               1000            69   \n445464             None               1000            69   \n445465             None               1000           372   \n445466             None               1000          None   \n445467             None               1000             5   \n...                 ...                ...           ...   \n522542             None               2000          None   \n522543             None               2000          None   \n522546              109               1000            69   \n522547              109               1000            69   \n522549             None               1000          None   \n\n                                                   people  \\\n445463                                                 []   \n445464  [{'persname': {'name': [{'@type': 'nomen', '#t...   \n445465                                                 []   \n445466  [{'persname': {'name': [{'@type': 'praenomen',...   \n445467                                                 []   \n...                                                   ...   \n522542  [{'persname': {'name': {'@type': 'cognomen', '...   \n522543                                                 []   \n522546  [{'persname': {'name': [{'@type': 'praenomen',...   \n522547  [{'persname': {'name': [{'@type': 'praenomen',...   \n522549                                                 []   \n\n              type_of_inscription_clean  type_of_inscription_certainty  \\\n445463            honorific inscription                          False   \n445464            honorific inscription                          False   \n445465               votive inscription                          False   \n445466                mile-/leaguestone                          False   \n445467         public legal inscription                          False   \n...                                 ...                            ...   \n522542  building/dedicatory inscription                          False   \n522543  building/dedicatory inscription                          False   \n522546            honorific inscription                          False   \n522547            honorific inscription                          False   \n522549  building/dedicatory inscription                          False   \n\n        height_cm  width_cm  depth_cm material_clean type_of_monument_clean  \\\n445463        NaN       NaN       NaN           NULL                   NULL   \n445464       99.0      67.0      67.0           NULL            statue base   \n445465       58.0      61.0      16.0           NULL                 tabula   \n445466       44.0      24.0       NaN           NULL      mile-/leaguestone   \n445467      160.0      58.0      17.0           NULL                 tabula   \n...           ...       ...       ...            ...                    ...   \n522542        NaN       NaN       NaN           NULL   architectural member   \n522543      160.0     160.0       NaN           NULL   architectural member   \n522546       81.0      60.0       0.0          Metal                 tabula   \n522547       44.0      16.0       0.0          Metal                 tabula   \n522549        NaN       NaN       NaN           NULL                   NULL   \n\n        type_of_monument_certainty          province_label_clean  \\\n445463                       False                        Achaia   \n445464                       False                        Epirus   \n445465                       False                        Achaia   \n445466                       False                        Achaia   \n445467                       False                        Achaia   \n...                            ...                           ...   \n522542                       False  Venetia et Histria (Regio X)   \n522543                       False  Venetia et Histria (Regio X)   \n522546                       False  Venetia et Histria (Regio X)   \n522547                       False  Venetia et Histria (Regio X)   \n522549                       False  Venetia et Histria (Regio X)   \n\n        province_label_certainty country_clean  country_certainty  \\\n445463                     False        Greece              False   \n445464                     False        Greece              False   \n445465                     False        Greece              False   \n445466                     False        Greece              False   \n445467                     False        Greece              False   \n...                          ...           ...                ...   \n522542                     False       Croatia              False   \n522543                     False       Croatia              False   \n522546                     False         Italy              False   \n522547                     False         Italy              False   \n522549                     False         Italy              False   \n\n       findspot_ancient_clean  findspot_ancient_certainty  \\\n445463                  Midea                       False   \n445464                Photike                       False   \n445465                 Aegeum                       False   \n445466                  Tegea                       False   \n445467                  Tegea                       False   \n...                       ...                         ...   \n522542                   NULL                       False   \n522543                   NULL                       False   \n522546        Iulium Carnicum                       False   \n522547        Iulium Carnicum                       False   \n522549        Iulium Carnicum                       False   \n\n          modern_region_clean  modern_region_certainty findspot_modern_clean  \\\n445463           Pelopónissos                    False                Midhéa   \n445464                Ípeiros                    False            Paramythía   \n445465          Dytikí Elláda                    False                Aígion   \n445466           Pelopónissos                    False                  Alea   \n445467           Pelopónissos                    False                  Alea   \n...                       ...                      ...                   ...   \n522542      Istarska županija                    False               Vodnjan   \n522543      Istarska županija                    False               Vodnjan   \n522546                   NULL                    False                Zuglio   \n522547                   NULL                    False                Zuglio   \n522549  Friuli-Venezia Giulia                    False           Zuglio, bei   \n\n        findspot_modern_certainty                           findspot_clean  \\\n445463                      False                                     NULL   \n445464                      False                       {Agios Athanasios}   \n445465                      False                                     NULL   \n445466                      False                             Stringu, bei   \n445467                      False                                     NULL   \n...                           ...                                      ...   \n522542                      False  Betika, S. Andrej, Kirche, Mittelschiff   \n522543                      False  Betika, S. Andrej, Kirche, Mittelschiff   \n522546                      False                                 Basilica   \n522547                      False                                 Basikica   \n522549                      False                                     NULL   \n\n        findspot_certainty language language_EDCS  \\\n445463               False        L          None   \n445464               False        L          None   \n445465               False        L          None   \n445466               False        L          None   \n445467               False        L          None   \n...                    ...      ...           ...   \n522542               False        L          None   \n522543               False        L          None   \n522546               False        L          None   \n522547               False        L          None   \n522549               False        L          None   \n\n                              raw_dating  not_after  not_before  Longitude  \\\n445463                        -68 to -68      -68.0       -68.0  22.841200   \n445464                        309 to 313      313.0       309.0  20.766800   \n445465                        -74 to -74      -74.0       -74.0  22.084500   \n445466  a:  276 to 276;   b:  276 to 282      282.0       276.0  22.417100   \n445467                          49 to 50       50.0        49.0  22.420877   \n...                                  ...        ...         ...        ...   \n522542                        401 to 500      450.0       401.0  13.851337   \n522543                        401 to 500      450.0       401.0  13.851337   \n522546                          41 to 54       54.0        41.0  13.025800   \n522547                          41 to 54       54.0        41.0  13.025800   \n522549                        151 to 200      200.0       151.0  13.025800   \n\n         Latitude  geotemporal?               geometry  withinRE?  \\\n445463  37.649800          True  POINT (22.841 37.650)       True   \n445464  39.451200          True  POINT (20.767 39.451)       True   \n445465  38.248700          True  POINT (22.084 38.249)       True   \n445466  37.431900          True  POINT (22.417 37.432)       True   \n445467  37.454501          True  POINT (22.421 37.455)       True   \n...           ...           ...                    ...        ...   \n522542  44.958956          True  POINT (13.851 44.959)       True   \n522543  44.958956          True  POINT (13.851 44.959)       True   \n522546  46.460700          True  POINT (13.026 46.461)       True   \n522547  46.460700          True  POINT (13.026 46.461)       True   \n522549  46.460700          True  POINT (13.026 46.461)       True   \n\n       urban_context urban_context_city  urban_context_pop_est  \n445463         rural               None                    NaN  \n445464         rural               None                    NaN  \n445465         small             Aegium                 1000.0  \n445466         large              Tegea                46362.0  \n445467         large              Tegea                46362.0  \n...              ...                ...                    ...  \n522542         rural               None                    NaN  \n522543         rural               None                    NaN  \n522546         small    Iulium Carnicum                 1000.0  \n522547         small    Iulium Carnicum                 1000.0  \n522549         small    Iulium Carnicum                 1000.0  \n\n[57504 rows x 64 columns]",
      "text/html": "<div>\n<style scoped>\n    .dataframe tbody tr th:only-of-type {\n        vertical-align: middle;\n    }\n\n    .dataframe tbody tr th {\n        vertical-align: top;\n    }\n\n    .dataframe thead th {\n        text-align: right;\n    }\n</style>\n<table border=\"1\" class=\"dataframe\">\n  <thead>\n    <tr style=\"text-align: right;\">\n      <th></th>\n      <th>LIST-ID</th>\n      <th>EDCS-ID</th>\n      <th>EDH-ID</th>\n      <th>trismegistos_uri</th>\n      <th>pleiades_id</th>\n      <th>transcription</th>\n      <th>inscription</th>\n      <th>clean_text_conservative</th>\n      <th>clean_text_interpretive_sentence</th>\n      <th>clean_text_interpretive_word</th>\n      <th>clean_text_interpretive_word_EDCS</th>\n      <th>diplomatic_text</th>\n      <th>province</th>\n      <th>place</th>\n      <th>inscr_type</th>\n      <th>status_notation</th>\n      <th>inscr_process</th>\n      <th>status</th>\n      <th>partner_link</th>\n      <th>last_update</th>\n      <th>letter_size</th>\n      <th>type_of_inscription</th>\n      <th>work_status</th>\n      <th>year_of_find</th>\n      <th>present_location</th>\n      <th>text_edition</th>\n      <th>support_objecttype</th>\n      <th>support_material</th>\n      <th>support_decoration</th>\n      <th>keywords_term</th>\n      <th>people</th>\n      <th>type_of_inscription_clean</th>\n      <th>type_of_inscription_certainty</th>\n      <th>height_cm</th>\n      <th>width_cm</th>\n      <th>depth_cm</th>\n      <th>material_clean</th>\n      <th>type_of_monument_clean</th>\n      <th>type_of_monument_certainty</th>\n      <th>province_label_clean</th>\n      <th>province_label_certainty</th>\n      <th>country_clean</th>\n      <th>country_certainty</th>\n      <th>findspot_ancient_clean</th>\n      <th>findspot_ancient_certainty</th>\n      <th>modern_region_clean</th>\n      <th>modern_region_certainty</th>\n      <th>findspot_modern_clean</th>\n      <th>findspot_modern_certainty</th>\n      <th>findspot_clean</th>\n      <th>findspot_certainty</th>\n      <th>language</th>\n      <th>language_EDCS</th>\n      <th>raw_dating</th>\n      <th>not_after</th>\n      <th>not_before</th>\n      <th>Longitude</th>\n      <th>Latitude</th>\n      <th>geotemporal?</th>\n      <th>geometry</th>\n      <th>withinRE?</th>\n      <th>urban_context</th>\n      <th>urban_context_city</th>\n      <th>urban_context_pop_est</th>\n    </tr>\n  </thead>\n  <tbody>\n    <tr>\n      <th>445463</th>\n      <td>445464</td>\n      <td>EDCS-24900077</td>\n      <td>HD056163</td>\n      <td>https://www.trismegistos.org/text/177366</td>\n      <td>570485</td>\n      <td>Q(uinto) Caecilio C(ai) f(ilio) Metelo / imper...</td>\n      <td>Q(uinto) Caecilio C(ai) f(ilio) Metel(l)o / im...</td>\n      <td>Q Caecilio C f Metelo imperatori Italici quei ...</td>\n      <td>Quinto Caecilio Cai filio Metelo imperatori It...</td>\n      <td>Quinto Caecilio Cai filio Metelo imperatori It...</td>\n      <td>Quinto Caecilio Cai filio Metello imperatori I...</td>\n      <td>Q CAECILIO C F METELO / IMPERATORI ITALICI / Q...</td>\n      <td>Achaia</td>\n      <td>Agia Triada / Merbaka / Midea</td>\n      <td>tituli honorarii</td>\n      <td>officium/professio, ordo senatorius, tria nomi...</td>\n      <td>None</td>\n      <td>officium/professio;  ordo senatorius;  tituli ...</td>\n      <td>http://db.edcs.eu/epigr/partner.php?s_language...</td>\n      <td>2011-11-11</td>\n      <td>None</td>\n      <td>honorific inscription</td>\n      <td>no image</td>\n      <td>NaN</td>\n      <td>None</td>\n      <td>\\n Quinto Caecilio Cai filio Metelo imperatori...</td>\n      <td>None</td>\n      <td>None</td>\n      <td>1000</td>\n      <td>69</td>\n      <td>[]</td>\n      <td>honorific inscription</td>\n      <td>False</td>\n      <td>NaN</td>\n      <td>NaN</td>\n      <td>NaN</td>\n      <td>NULL</td>\n      <td>NULL</td>\n      <td>False</td>\n      <td>Achaia</td>\n      <td>False</td>\n      <td>Greece</td>\n      <td>False</td>\n      <td>Midea</td>\n      <td>False</td>\n      <td>Pelopónissos</td>\n      <td>False</td>\n      <td>Midhéa</td>\n      <td>False</td>\n      <td>NULL</td>\n      <td>False</td>\n      <td>L</td>\n      <td>None</td>\n      <td>-68 to -68</td>\n      <td>-68.0</td>\n      <td>-68.0</td>\n      <td>22.841200</td>\n      <td>37.649800</td>\n      <td>True</td>\n      <td>POINT (22.841 37.650)</td>\n      <td>True</td>\n      <td>rural</td>\n      <td>None</td>\n      <td>NaN</td>\n    </tr>\n    <tr>\n      <th>445464</th>\n      <td>445465</td>\n      <td>EDCS-03700724</td>\n      <td>HD052964</td>\n      <td>https://www.trismegistos.org/text/121715</td>\n      <td>531064</td>\n      <td>Fortissimo et piis/simo Caesari d(omino) n(ost...</td>\n      <td>Fortissimo et Piis/simo Caesari d(omino) n(ost...</td>\n      <td>Fortissimo et piissimo Caesari d n Gal Val P F...</td>\n      <td>Fortissimo et piissimo Caesari domino nostro G...</td>\n      <td>Fortissimo et piissimo Caesari domino nostro G...</td>\n      <td>Fortissimo et Piissimo Caesari domino nostro G...</td>\n      <td>FORTISSIMO ET PIIS / SIMO CAESARI D N / GAL VA...</td>\n      <td>Achaia</td>\n      <td>Agios Athanasios / Photike</td>\n      <td>tituli honorarii</td>\n      <td>Augusti/Augustae, ordo equester, tria nomina</td>\n      <td>litterae erasae</td>\n      <td>Augusti/Augustae;  litterae erasae;  ordo eque...</td>\n      <td>http://db.edcs.eu/epigr/partner.php?s_language...</td>\n      <td>2014-09-16</td>\n      <td>3-5.3 cm</td>\n      <td>honorific inscription</td>\n      <td>checked with photo</td>\n      <td>NaN</td>\n      <td>Fragma Kalama</td>\n      <td>\\n Fortissimo et piissimo Caesari domino nostr...</td>\n      <td>57</td>\n      <td>None</td>\n      <td>1000</td>\n      <td>69</td>\n      <td>[{'persname': {'name': [{'@type': 'nomen', '#t...</td>\n      <td>honorific inscription</td>\n      <td>False</td>\n      <td>99.0</td>\n      <td>67.0</td>\n      <td>67.0</td>\n      <td>NULL</td>\n      <td>statue base</td>\n      <td>False</td>\n      <td>Epirus</td>\n      <td>False</td>\n      <td>Greece</td>\n      <td>False</td>\n      <td>Photike</td>\n      <td>False</td>\n      <td>Ípeiros</td>\n      <td>False</td>\n      <td>Paramythía</td>\n      <td>False</td>\n      <td>{Agios Athanasios}</td>\n      <td>False</td>\n      <td>L</td>\n      <td>None</td>\n      <td>309 to 313</td>\n      <td>313.0</td>\n      <td>309.0</td>\n      <td>20.766800</td>\n      <td>39.451200</td>\n      <td>True</td>\n      <td>POINT (20.767 39.451)</td>\n      <td>True</td>\n      <td>rural</td>\n      <td>None</td>\n      <td>NaN</td>\n    </tr>\n    <tr>\n      <th>445465</th>\n      <td>445466</td>\n      <td>EDCS-13800065</td>\n      <td>HD017714</td>\n      <td>https://www.trismegistos.org/text/177100</td>\n      <td>570049</td>\n      <td>Italicei / quei Aegei negotiantur / P(ublium) ...</td>\n      <td>Italicei / quei Aegei negotiantur / P(ublium) ...</td>\n      <td>Italicei quei Aegei negotiantur P Rutilium P f...</td>\n      <td>Italicei quei Aegei negotiantur Publium Rutili...</td>\n      <td>Italicei quei Aegei negotiantur Publium Rutili...</td>\n      <td>Italicei quei Aegei negotiantur Publium Rutili...</td>\n      <td>ITALICEI / QVEI AEGEI NEGOTIANTVR / P RVTILIVM...</td>\n      <td>Achaia</td>\n      <td>Aigio / Egio / Aiyion / Aegeum</td>\n      <td>tituli honorarii</td>\n      <td>officium/professio, ordo senatorius, tria nomi...</td>\n      <td>None</td>\n      <td>officium/professio;  ordo senatorius;  tituli ...</td>\n      <td>http://db.edcs.eu/epigr/partner.php?s_language...</td>\n      <td>2011-03-29</td>\n      <td>3.5-3.7 cm</td>\n      <td>votive inscription</td>\n      <td>checked with photo</td>\n      <td>NaN</td>\n      <td>None</td>\n      <td>\\n Italicei quei Aegei negotiantur Publium Rut...</td>\n      <td>257</td>\n      <td>None</td>\n      <td>1000</td>\n      <td>372</td>\n      <td>[]</td>\n      <td>votive inscription</td>\n      <td>False</td>\n      <td>58.0</td>\n      <td>61.0</td>\n      <td>16.0</td>\n      <td>NULL</td>\n      <td>tabula</td>\n      <td>False</td>\n      <td>Achaia</td>\n      <td>False</td>\n      <td>Greece</td>\n      <td>False</td>\n      <td>Aegeum</td>\n      <td>False</td>\n      <td>Dytikí Elláda</td>\n      <td>False</td>\n      <td>Aígion</td>\n      <td>False</td>\n      <td>NULL</td>\n      <td>False</td>\n      <td>L</td>\n      <td>None</td>\n      <td>-74 to -74</td>\n      <td>-74.0</td>\n      <td>-74.0</td>\n      <td>22.084500</td>\n      <td>38.248700</td>\n      <td>True</td>\n      <td>POINT (22.084 38.249)</td>\n      <td>True</td>\n      <td>small</td>\n      <td>Aegium</td>\n      <td>1000.0</td>\n    </tr>\n    <tr>\n      <th>445466</th>\n      <td>445467</td>\n      <td>EDCS-03300852</td>\n      <td>HD051000</td>\n      <td>https://www.trismegistos.org/text/177273</td>\n      <td>240855</td>\n      <td>[Imp(eratori) Caes(ari) M(arco)] / An[nio] Flo...</td>\n      <td>Imp(eratori) / Floriano / P(io) F(elici) Aug(u...</td>\n      <td>An Floriano P F Aug p p m p III Imp Caes M Aur...</td>\n      <td>Imperatori Caesari Marco Annio Floriano Pio Fe...</td>\n      <td>Imperatori Caesari Marco Annio Floriano Pio Fe...</td>\n      <td>Imperatori Floriano Pio Felici Augusto patri p...</td>\n      <td>[ ] / AN[ ] FLORIANO / P F AVG / P P / M P III...</td>\n      <td>Achaia</td>\n      <td>Alea / Tegea</td>\n      <td>miliaria</td>\n      <td>Augusti/Augustae, viri</td>\n      <td>None</td>\n      <td>Augusti/Augustae;  miliaria;  viri</td>\n      <td>http://db.edcs.eu/epigr/partner.php?s_language...</td>\n      <td>2011-05-24</td>\n      <td>3.3-6 cm</td>\n      <td>mile-/leaguestone</td>\n      <td>checked with photo</td>\n      <td>NaN</td>\n      <td>Tegea, Mus.</td>\n      <td>\\n Imperatori Caesari Marco Annio Floriano Pio...</td>\n      <td>89</td>\n      <td>None</td>\n      <td>1000</td>\n      <td>None</td>\n      <td>[{'persname': {'name': [{'@type': 'praenomen',...</td>\n      <td>mile-/leaguestone</td>\n      <td>False</td>\n      <td>44.0</td>\n      <td>24.0</td>\n      <td>NaN</td>\n      <td>NULL</td>\n      <td>mile-/leaguestone</td>\n      <td>False</td>\n      <td>Achaia</td>\n      <td>False</td>\n      <td>Greece</td>\n      <td>False</td>\n      <td>Tegea</td>\n      <td>False</td>\n      <td>Pelopónissos</td>\n      <td>False</td>\n      <td>Alea</td>\n      <td>False</td>\n      <td>Stringu, bei</td>\n      <td>False</td>\n      <td>L</td>\n      <td>None</td>\n      <td>a:  276 to 276;   b:  276 to 282</td>\n      <td>282.0</td>\n      <td>276.0</td>\n      <td>22.417100</td>\n      <td>37.431900</td>\n      <td>True</td>\n      <td>POINT (22.417 37.432)</td>\n      <td>True</td>\n      <td>large</td>\n      <td>Tegea</td>\n      <td>46362.0</td>\n    </tr>\n    <tr>\n      <th>445467</th>\n      <td>445468</td>\n      <td>EDCS-28500283</td>\n      <td>HD021396</td>\n      <td>https://www.trismegistos.org/text/177131</td>\n      <td></td>\n      <td>T[i(berius)] Claudius Caesar Aug(ustus) / G[er...</td>\n      <td>T[(iberius)] Claudius Caesar Aug(ustus) / G[er...</td>\n      <td>T Claudius Caesar Aug Ganicus pontif max trib ...</td>\n      <td>Tiberius Claudius Caesar Augustus Germanicus p...</td>\n      <td>Tiberius Claudius Caesar Augustus Germanicus p...</td>\n      <td>Tiberius Claudius Caesar Augustus Germanicus p...</td>\n      <td>T[ ] CLAVDIVS CAESAR AVG / G[ ]ANICVS PONTIF M...</td>\n      <td>Achaia</td>\n      <td>Alea / Tegea</td>\n      <td>leges</td>\n      <td>Augusti/Augustae, viri</td>\n      <td>None</td>\n      <td>Augusti/Augustae;  leges;  viri</td>\n      <td>http://db.edcs.eu/epigr/partner.php?s_language...</td>\n      <td>2011-05-10</td>\n      <td>None</td>\n      <td>public legal inscription</td>\n      <td>checked with photo</td>\n      <td>NaN</td>\n      <td>None</td>\n      <td>\\n Tiberius Claudius Caesar Augustus Germanicu...</td>\n      <td>257</td>\n      <td>None</td>\n      <td>1000</td>\n      <td>5</td>\n      <td>[]</td>\n      <td>public legal inscription</td>\n      <td>False</td>\n      <td>160.0</td>\n      <td>58.0</td>\n      <td>17.0</td>\n      <td>NULL</td>\n      <td>tabula</td>\n      <td>False</td>\n      <td>Achaia</td>\n      <td>False</td>\n      <td>Greece</td>\n      <td>False</td>\n      <td>Tegea</td>\n      <td>False</td>\n      <td>Pelopónissos</td>\n      <td>False</td>\n      <td>Alea</td>\n      <td>False</td>\n      <td>NULL</td>\n      <td>False</td>\n      <td>L</td>\n      <td>None</td>\n      <td>49 to 50</td>\n      <td>50.0</td>\n      <td>49.0</td>\n      <td>22.420877</td>\n      <td>37.454501</td>\n      <td>True</td>\n      <td>POINT (22.421 37.455)</td>\n      <td>True</td>\n      <td>large</td>\n      <td>Tegea</td>\n      <td>46362.0</td>\n    </tr>\n    <tr>\n      <th>...</th>\n      <td>...</td>\n      <td>...</td>\n      <td>...</td>\n      <td>...</td>\n      <td>...</td>\n      <td>...</td>\n      <td>...</td>\n      <td>...</td>\n      <td>...</td>\n      <td>...</td>\n      <td>...</td>\n      <td>...</td>\n      <td>...</td>\n      <td>...</td>\n      <td>...</td>\n      <td>...</td>\n      <td>...</td>\n      <td>...</td>\n      <td>...</td>\n      <td>...</td>\n      <td>...</td>\n      <td>...</td>\n      <td>...</td>\n      <td>...</td>\n      <td>...</td>\n      <td>...</td>\n      <td>...</td>\n      <td>...</td>\n      <td>...</td>\n      <td>...</td>\n      <td>...</td>\n      <td>...</td>\n      <td>...</td>\n      <td>...</td>\n      <td>...</td>\n      <td>...</td>\n      <td>...</td>\n      <td>...</td>\n      <td>...</td>\n      <td>...</td>\n      <td>...</td>\n      <td>...</td>\n      <td>...</td>\n      <td>...</td>\n      <td>...</td>\n      <td>...</td>\n      <td>...</td>\n      <td>...</td>\n      <td>...</td>\n      <td>...</td>\n      <td>...</td>\n      <td>...</td>\n      <td>...</td>\n      <td>...</td>\n      <td>...</td>\n      <td>...</td>\n      <td>...</td>\n      <td>...</td>\n      <td>...</td>\n      <td>...</td>\n      <td>...</td>\n      <td>...</td>\n      <td>...</td>\n      <td>...</td>\n    </tr>\n    <tr>\n      <th>522542</th>\n      <td>522543</td>\n      <td>EDCS-07400320</td>\n      <td>HD009033</td>\n      <td>https://www.trismegistos.org/text/123528</td>\n      <td></td>\n      <td>Aquili/nus et Urania / cum suis fece/runt / p(...</td>\n      <td>Aquili/nus et Urania / cum suis fece/runt / p(...</td>\n      <td>Aquilinus et Urania cum suis fecerunt p CCC</td>\n      <td>Aquilinus et Urania cum suis fecerunt pedes CCC</td>\n      <td>Aquilinus et Urania cum suis fecerunt pedes CCC</td>\n      <td>Aquilinus et Urania cum suis fecerunt pedes CCC</td>\n      <td>AQVILI / NVS ET VRANIA / CVM SVIS FECE / RVNT ...</td>\n      <td>Venetia et Histria / Regio X</td>\n      <td>Vodnjan</td>\n      <td>inscriptiones christianae, tituli operum</td>\n      <td>mulieres, nomen singulare, viri</td>\n      <td>None</td>\n      <td>inscriptiones christianae;  mulieres;  nomen s...</td>\n      <td>http://db.edcs.eu/epigr/partner.php?s_language...</td>\n      <td>2011-02-08</td>\n      <td>None</td>\n      <td>building/dedicatory inscription</td>\n      <td>checked with photo</td>\n      <td>NaN</td>\n      <td>None</td>\n      <td>\\n Aquilinus et Urania cum suis fecerunt pedes...</td>\n      <td>35</td>\n      <td>None</td>\n      <td>2000</td>\n      <td>None</td>\n      <td>[{'persname': {'name': {'@type': 'cognomen', '...</td>\n      <td>building/dedicatory inscription</td>\n      <td>False</td>\n      <td>NaN</td>\n      <td>NaN</td>\n      <td>NaN</td>\n      <td>NULL</td>\n      <td>architectural member</td>\n      <td>False</td>\n      <td>Venetia et Histria (Regio X)</td>\n      <td>False</td>\n      <td>Croatia</td>\n      <td>False</td>\n      <td>NULL</td>\n      <td>False</td>\n      <td>Istarska županija</td>\n      <td>False</td>\n      <td>Vodnjan</td>\n      <td>False</td>\n      <td>Betika, S. Andrej, Kirche, Mittelschiff</td>\n      <td>False</td>\n      <td>L</td>\n      <td>None</td>\n      <td>401 to 500</td>\n      <td>450.0</td>\n      <td>401.0</td>\n      <td>13.851337</td>\n      <td>44.958956</td>\n      <td>True</td>\n      <td>POINT (13.851 44.959)</td>\n      <td>True</td>\n      <td>rural</td>\n      <td>None</td>\n      <td>NaN</td>\n    </tr>\n    <tr>\n      <th>522543</th>\n      <td>522544</td>\n      <td>EDCS-07400321</td>\n      <td>HD009036</td>\n      <td>https://www.trismegistos.org/text/123529</td>\n      <td></td>\n      <td>Dalma/tius presbiter(!) / fecet(!) p(edes) XXX</td>\n      <td>Dalma/tius presb&lt;y=I&gt;ter / fec&lt;i=E&gt;t p(edes) CCC</td>\n      <td>Dalmatius presbiter fecet p XXX</td>\n      <td>Dalmatius presbiter fecet pedes XXX</td>\n      <td>Dalmatius presbiter fecet pedes XXX</td>\n      <td>Dalmatius presbyter fecit pedes CCC</td>\n      <td>DALMA / TIVS PRESBITER / FECET P XXX</td>\n      <td>Venetia et Histria / Regio X</td>\n      <td>Vodnjan</td>\n      <td>inscriptiones christianae, tituli operum</td>\n      <td>nomen singulare, sacerdotes christiani, viri</td>\n      <td>None</td>\n      <td>inscriptiones christianae;  nomen singulare;  ...</td>\n      <td>http://db.edcs.eu/epigr/partner.php?s_language...</td>\n      <td>2011-02-08</td>\n      <td>14-12 cm</td>\n      <td>building/dedicatory inscription</td>\n      <td>checked with photo</td>\n      <td>NaN</td>\n      <td>None</td>\n      <td>\\n Dalmatius presbiter sic fecet sic pedes XXX\\n</td>\n      <td>35</td>\n      <td>None</td>\n      <td>2000</td>\n      <td>None</td>\n      <td>[]</td>\n      <td>building/dedicatory inscription</td>\n      <td>False</td>\n      <td>160.0</td>\n      <td>160.0</td>\n      <td>NaN</td>\n      <td>NULL</td>\n      <td>architectural member</td>\n      <td>False</td>\n      <td>Venetia et Histria (Regio X)</td>\n      <td>False</td>\n      <td>Croatia</td>\n      <td>False</td>\n      <td>NULL</td>\n      <td>False</td>\n      <td>Istarska županija</td>\n      <td>False</td>\n      <td>Vodnjan</td>\n      <td>False</td>\n      <td>Betika, S. Andrej, Kirche, Mittelschiff</td>\n      <td>False</td>\n      <td>L</td>\n      <td>None</td>\n      <td>401 to 500</td>\n      <td>450.0</td>\n      <td>401.0</td>\n      <td>13.851337</td>\n      <td>44.958956</td>\n      <td>True</td>\n      <td>POINT (13.851 44.959)</td>\n      <td>True</td>\n      <td>rural</td>\n      <td>None</td>\n      <td>NaN</td>\n    </tr>\n    <tr>\n      <th>522546</th>\n      <td>522547</td>\n      <td>EDCS-36700001</td>\n      <td>HD033248</td>\n      <td>https://www.trismegistos.org/text/125101</td>\n      <td>187430</td>\n      <td>C(aio) Baebio P(ubli) f(ilio) Cla(udia) / Atti...</td>\n      <td>C(aio) Baebio P(ubli) f(ilio) Cla(udia) / Atti...</td>\n      <td>C Baebio P f Cla Attico II vir i primo pil leg...</td>\n      <td>Caio Baebio Publi filio Claudia Attico II viro...</td>\n      <td>Caio Baebio Publi filio Claudia Attico II viro...</td>\n      <td>Caio Baebio Publi filio Claudia Attico II viro...</td>\n      <td>C BAEBIO P F CLA / ATTICO / IIVIR I [ ] PRIMO ...</td>\n      <td>Venetia et Histria / Regio X</td>\n      <td>Zuglio / Iulium Carnicum</td>\n      <td>tituli honorarii</td>\n      <td>Augusti/Augustae, milites, ordo decurionum, or...</td>\n      <td>None</td>\n      <td>Augusti/Augustae;  milites;  ordo decurionum; ...</td>\n      <td>http://db.edcs.eu/epigr/partner.php?s_language...</td>\n      <td>2010-05-12</td>\n      <td>4.5-1.7 cm</td>\n      <td>honorific inscription</td>\n      <td>no image</td>\n      <td>NaN</td>\n      <td>Cividale/Friuli, Mus. Arch. Naz.</td>\n      <td>\\n Caio Baebio Publi filio Claudia Attico IIvi...</td>\n      <td>257</td>\n      <td>109</td>\n      <td>1000</td>\n      <td>69</td>\n      <td>[{'persname': {'name': [{'@type': 'praenomen',...</td>\n      <td>honorific inscription</td>\n      <td>False</td>\n      <td>81.0</td>\n      <td>60.0</td>\n      <td>0.0</td>\n      <td>Metal</td>\n      <td>tabula</td>\n      <td>False</td>\n      <td>Venetia et Histria (Regio X)</td>\n      <td>False</td>\n      <td>Italy</td>\n      <td>False</td>\n      <td>Iulium Carnicum</td>\n      <td>False</td>\n      <td>NULL</td>\n      <td>False</td>\n      <td>Zuglio</td>\n      <td>False</td>\n      <td>Basilica</td>\n      <td>False</td>\n      <td>L</td>\n      <td>None</td>\n      <td>41 to 54</td>\n      <td>54.0</td>\n      <td>41.0</td>\n      <td>13.025800</td>\n      <td>46.460700</td>\n      <td>True</td>\n      <td>POINT (13.026 46.461)</td>\n      <td>True</td>\n      <td>small</td>\n      <td>Iulium Carnicum</td>\n      <td>1000.0</td>\n    </tr>\n    <tr>\n      <th>522547</th>\n      <td>522548</td>\n      <td>EDCS-04200897</td>\n      <td>HD033251</td>\n      <td>https://www.trismegistos.org/text/125102</td>\n      <td>187430</td>\n      <td>[C(aio) B]aeb[io P(ubli) f(ilio) Cla(udia)] / ...</td>\n      <td>[C(aio) B]aeb[io P(ubli) f(ilio) Cla(udia)] / ...</td>\n      <td>aeb ico leg V vitatae pr arit mo pi Caesaris i...</td>\n      <td>Caio Baebio Publi filio Claudia Attico II viro...</td>\n      <td>Caio Baebio Publi filio Claudia Attico II viro...</td>\n      <td>Caio Baebio Publi filio Claudia Attico II viro...</td>\n      <td>[ ]AEB[ ] / [ ]ICO [ ] / [ ] LEG V [ ] / [ ]VI...</td>\n      <td>Venetia et Histria / Regio X</td>\n      <td>Zuglio / Iulium Carnicum</td>\n      <td>tituli honorarii</td>\n      <td>Augusti/Augustae, milites, ordo decurionum, or...</td>\n      <td>None</td>\n      <td>Augusti/Augustae;  milites;  ordo decurionum; ...</td>\n      <td>http://db.edcs.eu/epigr/partner.php?s_language...</td>\n      <td>2008-08-25</td>\n      <td>5.5-2 cm</td>\n      <td>honorific inscription</td>\n      <td>no image</td>\n      <td>NaN</td>\n      <td>Cividale/Friuli, Mus. Arch. Naz.</td>\n      <td>\\n Caio Baebio Publi filio Claudia Attico IIvi...</td>\n      <td>257</td>\n      <td>109</td>\n      <td>1000</td>\n      <td>69</td>\n      <td>[{'persname': {'name': [{'@type': 'praenomen',...</td>\n      <td>honorific inscription</td>\n      <td>False</td>\n      <td>44.0</td>\n      <td>16.0</td>\n      <td>0.0</td>\n      <td>Metal</td>\n      <td>tabula</td>\n      <td>False</td>\n      <td>Venetia et Histria (Regio X)</td>\n      <td>False</td>\n      <td>Italy</td>\n      <td>False</td>\n      <td>Iulium Carnicum</td>\n      <td>False</td>\n      <td>NULL</td>\n      <td>False</td>\n      <td>Zuglio</td>\n      <td>False</td>\n      <td>Basikica</td>\n      <td>False</td>\n      <td>L</td>\n      <td>None</td>\n      <td>41 to 54</td>\n      <td>54.0</td>\n      <td>41.0</td>\n      <td>13.025800</td>\n      <td>46.460700</td>\n      <td>True</td>\n      <td>POINT (13.026 46.461)</td>\n      <td>True</td>\n      <td>small</td>\n      <td>Iulium Carnicum</td>\n      <td>1000.0</td>\n    </tr>\n    <tr>\n      <th>522549</th>\n      <td>522550</td>\n      <td>EDCS-04200923</td>\n      <td>HD018999</td>\n      <td>https://www.trismegistos.org/text/123044</td>\n      <td>187430</td>\n      <td>Respectus T(iti) Iul(i) / P[e]r[se]i c(onducto...</td>\n      <td>Respectus T(iti) Iul(i) / Pers[e]i c(onductori...</td>\n      <td>Respectus T Iul Pri c p p vecgal Illyr ser v s...</td>\n      <td>Respectus Titi Iuli Persei conductoris publici...</td>\n      <td>Respectus Titi Iuli Persei conductoris publici...</td>\n      <td>Respectus Titi Iuli Persei conductoris publici...</td>\n      <td>RESPECTVS T IVL / P[ ]R[ ]I C P P VEC[ ] / GAL...</td>\n      <td>Venetia et Histria / Regio X</td>\n      <td>Zuglio / Iulium Carnicum</td>\n      <td>tituli operum</td>\n      <td>nomen singulare, officium/professio, servi/ser...</td>\n      <td>None</td>\n      <td>nomen singulare;  officium/professio;  servi/s...</td>\n      <td>http://db.edcs.eu/epigr/partner.php?s_language...</td>\n      <td>2013-11-18</td>\n      <td>None</td>\n      <td>building/dedicatory inscription</td>\n      <td>provisional</td>\n      <td>NaN</td>\n      <td>None</td>\n      <td>\\n Respectus Titi Iuli Persei conductoris publ...</td>\n      <td>None</td>\n      <td>None</td>\n      <td>1000</td>\n      <td>None</td>\n      <td>[]</td>\n      <td>building/dedicatory inscription</td>\n      <td>False</td>\n      <td>NaN</td>\n      <td>NaN</td>\n      <td>NaN</td>\n      <td>NULL</td>\n      <td>NULL</td>\n      <td>False</td>\n      <td>Venetia et Histria (Regio X)</td>\n      <td>False</td>\n      <td>Italy</td>\n      <td>False</td>\n      <td>Iulium Carnicum</td>\n      <td>False</td>\n      <td>Friuli-Venezia Giulia</td>\n      <td>False</td>\n      <td>Zuglio, bei</td>\n      <td>False</td>\n      <td>NULL</td>\n      <td>False</td>\n      <td>L</td>\n      <td>None</td>\n      <td>151 to 200</td>\n      <td>200.0</td>\n      <td>151.0</td>\n      <td>13.025800</td>\n      <td>46.460700</td>\n      <td>True</td>\n      <td>POINT (13.026 46.461)</td>\n      <td>True</td>\n      <td>small</td>\n      <td>Iulium Carnicum</td>\n      <td>1000.0</td>\n    </tr>\n  </tbody>\n</table>\n<p>57504 rows × 64 columns</p>\n</div>"
     },
     "execution_count": 6,
     "metadata": {},
     "output_type": "execute_result"
    }
   ],
   "source": [
    "EDH_overlap"
   ],
   "metadata": {
    "collapsed": false,
    "ExecuteTime": {
     "start_time": "2023-04-27T09:21:41.768605Z",
     "end_time": "2023-04-27T09:21:41.786189Z"
    }
   }
  },
  {
   "cell_type": "markdown",
   "source": [
    "Now we can focus on some EDCS attributes (i.e. firt 28 columns) which might be good predictors of `type_of_inscription_clean` in EDH. First, look at `status_list`:"
   ],
   "metadata": {
    "collapsed": false
   }
  },
  {
   "cell_type": "markdown",
   "source": [
    "# Applying the model"
   ],
   "metadata": {
    "collapsed": false
   }
  },
  {
   "cell_type": "code",
   "execution_count": 7,
   "outputs": [],
   "source": [
    "# load the model and vectorizer back\n",
    "classifier = pickle.load(open('../data/large_data/et_model_v2.0.sav', 'rb'))\n",
    "vectorizer = pickle.load(open('../data/large_data/et_vectorizer_v2.0.sav','rb'))"
   ],
   "metadata": {
    "collapsed": false,
    "ExecuteTime": {
     "start_time": "2023-04-27T09:22:46.034240Z",
     "end_time": "2023-04-27T09:22:46.941361Z"
    }
   }
  },
  {
   "cell_type": "code",
   "execution_count": 8,
   "outputs": [
    {
     "data": {
      "text/plain": "   LIST-ID        EDCS-ID EDH-ID trismegistos_uri pleiades_id transcription  \\\n0        1  EDCS-31400030   None             None        None          None   \n1        2  EDCS-55701593   None             None        None          None   \n2        3  EDCS-55701594   None             None        None          None   \n3        4  EDCS-55701595   None             None        None          None   \n4        5  EDCS-55701596   None             None        None          None   \n\n           inscription clean_text_conservative  \\\n0                Leius                   Leius   \n1    Cn(aeus) Atei(us)                 Cn Atei   \n2           Avill(ius)                   Avill   \n3  L(ucius) Av(illius)                    L Av   \n4             Camurius                Camurius   \n\n  clean_text_interpretive_sentence clean_text_interpretive_word  \\\n0                             None                        Leius   \n1                             None                Cnaeus Ateius   \n2                             None                     Avillius   \n3                             None              Lucius Avillius   \n4                             None                     Camurius   \n\n  clean_text_interpretive_word_EDCS diplomatic_text province  \\\n0                             Leius            None   Achaia   \n1                     Cnaeus Ateius            None   Achaia   \n2                          Avillius            None   Achaia   \n3                   Lucius Avillius            None   Achaia   \n4                          Camurius            None   Achaia   \n\n                     place            inscr_type           status_notation  \\\n0                        ?                  None                      None   \n1  Agios Donatos / Photike  tituli fabricationis  praenomen et nomen, viri   \n2  Agios Donatos / Photike  tituli fabricationis     nomen singulare, viri   \n3  Agios Donatos / Photike  tituli fabricationis  praenomen et nomen, viri   \n4  Agios Donatos / Photike  tituli fabricationis     nomen singulare, viri   \n\n      inscr_process                                             status  \\\n0              None                                               None   \n1  sigilla impressa  praenomen et nomen;  sigilla impressa;  tituli...   \n2  sigilla impressa  nomen singulare;  sigilla impressa;  tituli fa...   \n3  sigilla impressa  praenomen et nomen;  sigilla impressa;  tituli...   \n4  sigilla impressa  nomen singulare;  sigilla impressa;  tituli fa...   \n\n  partner_link last_update letter_size type_of_inscription work_status  \\\n0         None        None        None                None        None   \n1         None        None        None                None        None   \n2         None        None        None                None        None   \n3         None        None        None                None        None   \n4         None        None        None                None        None   \n\n   year_of_find present_location text_edition support_objecttype  \\\n0           NaN             None         None               None   \n1           NaN             None         None               None   \n2           NaN             None         None               None   \n3           NaN             None         None               None   \n4           NaN             None         None               None   \n\n  support_material support_decoration keywords_term people  \\\n0             None               None          None     []   \n1             None               None          None     []   \n2             None               None          None     []   \n3             None               None          None     []   \n4             None               None          None     []   \n\n  type_of_inscription_clean  type_of_inscription_certainty  height_cm  \\\n0                      None                          False        NaN   \n1                      None                          False        NaN   \n2                      None                          False        NaN   \n3                      None                          False        NaN   \n4                      None                          False        NaN   \n\n   width_cm  depth_cm material_clean type_of_monument_clean  \\\n0       NaN       NaN           None                   None   \n1       NaN       NaN           None                   None   \n2       NaN       NaN           None                   None   \n3       NaN       NaN           None                   None   \n4       NaN       NaN           None                   None   \n\n   type_of_monument_certainty province_label_clean  province_label_certainty  \\\n0                       False                 None                     False   \n1                       False                 None                     False   \n2                       False                 None                     False   \n3                       False                 None                     False   \n4                       False                 None                     False   \n\n  country_clean  country_certainty findspot_ancient_clean  \\\n0          None              False                   None   \n1          None              False                   None   \n2          None              False                   None   \n3          None              False                   None   \n4          None              False                   None   \n\n   findspot_ancient_certainty modern_region_clean  modern_region_certainty  \\\n0                       False                None                    False   \n1                       False                None                    False   \n2                       False                None                    False   \n3                       False                None                    False   \n4                       False                None                    False   \n\n  findspot_modern_clean  findspot_modern_certainty findspot_clean  \\\n0                  None                      False           None   \n1                  None                      False           None   \n2                  None                      False           None   \n3                  None                      False           None   \n4                  None                      False           None   \n\n   findspot_certainty language language_EDCS raw_dating  not_after  \\\n0               False        L          None       None        NaN   \n1               False        L          None       None        NaN   \n2               False        L          None       None        NaN   \n3               False        L          None       None        NaN   \n4               False        L          None       None        NaN   \n\n   not_before  Longitude   Latitude  geotemporal?               geometry  \\\n0         NaN        NaN        NaN         False                   None   \n1         NaN  20.506908  39.475976         False  POINT (20.507 39.476)   \n2         NaN  20.506908  39.475976         False  POINT (20.507 39.476)   \n3         NaN  20.506908  39.475976         False  POINT (20.507 39.476)   \n4         NaN  20.506908  39.475976         False  POINT (20.507 39.476)   \n\n   withinRE? urban_context urban_context_city  urban_context_pop_est  \n0      False          None               None                    NaN  \n1       True         rural               None                    NaN  \n2       True         rural               None                    NaN  \n3       True         rural               None                    NaN  \n4       True         rural               None                    NaN  ",
      "text/html": "<div>\n<style scoped>\n    .dataframe tbody tr th:only-of-type {\n        vertical-align: middle;\n    }\n\n    .dataframe tbody tr th {\n        vertical-align: top;\n    }\n\n    .dataframe thead th {\n        text-align: right;\n    }\n</style>\n<table border=\"1\" class=\"dataframe\">\n  <thead>\n    <tr style=\"text-align: right;\">\n      <th></th>\n      <th>LIST-ID</th>\n      <th>EDCS-ID</th>\n      <th>EDH-ID</th>\n      <th>trismegistos_uri</th>\n      <th>pleiades_id</th>\n      <th>transcription</th>\n      <th>inscription</th>\n      <th>clean_text_conservative</th>\n      <th>clean_text_interpretive_sentence</th>\n      <th>clean_text_interpretive_word</th>\n      <th>clean_text_interpretive_word_EDCS</th>\n      <th>diplomatic_text</th>\n      <th>province</th>\n      <th>place</th>\n      <th>inscr_type</th>\n      <th>status_notation</th>\n      <th>inscr_process</th>\n      <th>status</th>\n      <th>partner_link</th>\n      <th>last_update</th>\n      <th>letter_size</th>\n      <th>type_of_inscription</th>\n      <th>work_status</th>\n      <th>year_of_find</th>\n      <th>present_location</th>\n      <th>text_edition</th>\n      <th>support_objecttype</th>\n      <th>support_material</th>\n      <th>support_decoration</th>\n      <th>keywords_term</th>\n      <th>people</th>\n      <th>type_of_inscription_clean</th>\n      <th>type_of_inscription_certainty</th>\n      <th>height_cm</th>\n      <th>width_cm</th>\n      <th>depth_cm</th>\n      <th>material_clean</th>\n      <th>type_of_monument_clean</th>\n      <th>type_of_monument_certainty</th>\n      <th>province_label_clean</th>\n      <th>province_label_certainty</th>\n      <th>country_clean</th>\n      <th>country_certainty</th>\n      <th>findspot_ancient_clean</th>\n      <th>findspot_ancient_certainty</th>\n      <th>modern_region_clean</th>\n      <th>modern_region_certainty</th>\n      <th>findspot_modern_clean</th>\n      <th>findspot_modern_certainty</th>\n      <th>findspot_clean</th>\n      <th>findspot_certainty</th>\n      <th>language</th>\n      <th>language_EDCS</th>\n      <th>raw_dating</th>\n      <th>not_after</th>\n      <th>not_before</th>\n      <th>Longitude</th>\n      <th>Latitude</th>\n      <th>geotemporal?</th>\n      <th>geometry</th>\n      <th>withinRE?</th>\n      <th>urban_context</th>\n      <th>urban_context_city</th>\n      <th>urban_context_pop_est</th>\n    </tr>\n  </thead>\n  <tbody>\n    <tr>\n      <th>0</th>\n      <td>1</td>\n      <td>EDCS-31400030</td>\n      <td>None</td>\n      <td>None</td>\n      <td>None</td>\n      <td>None</td>\n      <td>Leius</td>\n      <td>Leius</td>\n      <td>None</td>\n      <td>Leius</td>\n      <td>Leius</td>\n      <td>None</td>\n      <td>Achaia</td>\n      <td>?</td>\n      <td>None</td>\n      <td>None</td>\n      <td>None</td>\n      <td>None</td>\n      <td>None</td>\n      <td>None</td>\n      <td>None</td>\n      <td>None</td>\n      <td>None</td>\n      <td>NaN</td>\n      <td>None</td>\n      <td>None</td>\n      <td>None</td>\n      <td>None</td>\n      <td>None</td>\n      <td>None</td>\n      <td>[]</td>\n      <td>None</td>\n      <td>False</td>\n      <td>NaN</td>\n      <td>NaN</td>\n      <td>NaN</td>\n      <td>None</td>\n      <td>None</td>\n      <td>False</td>\n      <td>None</td>\n      <td>False</td>\n      <td>None</td>\n      <td>False</td>\n      <td>None</td>\n      <td>False</td>\n      <td>None</td>\n      <td>False</td>\n      <td>None</td>\n      <td>False</td>\n      <td>None</td>\n      <td>False</td>\n      <td>L</td>\n      <td>None</td>\n      <td>None</td>\n      <td>NaN</td>\n      <td>NaN</td>\n      <td>NaN</td>\n      <td>NaN</td>\n      <td>False</td>\n      <td>None</td>\n      <td>False</td>\n      <td>None</td>\n      <td>None</td>\n      <td>NaN</td>\n    </tr>\n    <tr>\n      <th>1</th>\n      <td>2</td>\n      <td>EDCS-55701593</td>\n      <td>None</td>\n      <td>None</td>\n      <td>None</td>\n      <td>None</td>\n      <td>Cn(aeus) Atei(us)</td>\n      <td>Cn Atei</td>\n      <td>None</td>\n      <td>Cnaeus Ateius</td>\n      <td>Cnaeus Ateius</td>\n      <td>None</td>\n      <td>Achaia</td>\n      <td>Agios Donatos / Photike</td>\n      <td>tituli fabricationis</td>\n      <td>praenomen et nomen, viri</td>\n      <td>sigilla impressa</td>\n      <td>praenomen et nomen;  sigilla impressa;  tituli...</td>\n      <td>None</td>\n      <td>None</td>\n      <td>None</td>\n      <td>None</td>\n      <td>None</td>\n      <td>NaN</td>\n      <td>None</td>\n      <td>None</td>\n      <td>None</td>\n      <td>None</td>\n      <td>None</td>\n      <td>None</td>\n      <td>[]</td>\n      <td>None</td>\n      <td>False</td>\n      <td>NaN</td>\n      <td>NaN</td>\n      <td>NaN</td>\n      <td>None</td>\n      <td>None</td>\n      <td>False</td>\n      <td>None</td>\n      <td>False</td>\n      <td>None</td>\n      <td>False</td>\n      <td>None</td>\n      <td>False</td>\n      <td>None</td>\n      <td>False</td>\n      <td>None</td>\n      <td>False</td>\n      <td>None</td>\n      <td>False</td>\n      <td>L</td>\n      <td>None</td>\n      <td>None</td>\n      <td>NaN</td>\n      <td>NaN</td>\n      <td>20.506908</td>\n      <td>39.475976</td>\n      <td>False</td>\n      <td>POINT (20.507 39.476)</td>\n      <td>True</td>\n      <td>rural</td>\n      <td>None</td>\n      <td>NaN</td>\n    </tr>\n    <tr>\n      <th>2</th>\n      <td>3</td>\n      <td>EDCS-55701594</td>\n      <td>None</td>\n      <td>None</td>\n      <td>None</td>\n      <td>None</td>\n      <td>Avill(ius)</td>\n      <td>Avill</td>\n      <td>None</td>\n      <td>Avillius</td>\n      <td>Avillius</td>\n      <td>None</td>\n      <td>Achaia</td>\n      <td>Agios Donatos / Photike</td>\n      <td>tituli fabricationis</td>\n      <td>nomen singulare, viri</td>\n      <td>sigilla impressa</td>\n      <td>nomen singulare;  sigilla impressa;  tituli fa...</td>\n      <td>None</td>\n      <td>None</td>\n      <td>None</td>\n      <td>None</td>\n      <td>None</td>\n      <td>NaN</td>\n      <td>None</td>\n      <td>None</td>\n      <td>None</td>\n      <td>None</td>\n      <td>None</td>\n      <td>None</td>\n      <td>[]</td>\n      <td>None</td>\n      <td>False</td>\n      <td>NaN</td>\n      <td>NaN</td>\n      <td>NaN</td>\n      <td>None</td>\n      <td>None</td>\n      <td>False</td>\n      <td>None</td>\n      <td>False</td>\n      <td>None</td>\n      <td>False</td>\n      <td>None</td>\n      <td>False</td>\n      <td>None</td>\n      <td>False</td>\n      <td>None</td>\n      <td>False</td>\n      <td>None</td>\n      <td>False</td>\n      <td>L</td>\n      <td>None</td>\n      <td>None</td>\n      <td>NaN</td>\n      <td>NaN</td>\n      <td>20.506908</td>\n      <td>39.475976</td>\n      <td>False</td>\n      <td>POINT (20.507 39.476)</td>\n      <td>True</td>\n      <td>rural</td>\n      <td>None</td>\n      <td>NaN</td>\n    </tr>\n    <tr>\n      <th>3</th>\n      <td>4</td>\n      <td>EDCS-55701595</td>\n      <td>None</td>\n      <td>None</td>\n      <td>None</td>\n      <td>None</td>\n      <td>L(ucius) Av(illius)</td>\n      <td>L Av</td>\n      <td>None</td>\n      <td>Lucius Avillius</td>\n      <td>Lucius Avillius</td>\n      <td>None</td>\n      <td>Achaia</td>\n      <td>Agios Donatos / Photike</td>\n      <td>tituli fabricationis</td>\n      <td>praenomen et nomen, viri</td>\n      <td>sigilla impressa</td>\n      <td>praenomen et nomen;  sigilla impressa;  tituli...</td>\n      <td>None</td>\n      <td>None</td>\n      <td>None</td>\n      <td>None</td>\n      <td>None</td>\n      <td>NaN</td>\n      <td>None</td>\n      <td>None</td>\n      <td>None</td>\n      <td>None</td>\n      <td>None</td>\n      <td>None</td>\n      <td>[]</td>\n      <td>None</td>\n      <td>False</td>\n      <td>NaN</td>\n      <td>NaN</td>\n      <td>NaN</td>\n      <td>None</td>\n      <td>None</td>\n      <td>False</td>\n      <td>None</td>\n      <td>False</td>\n      <td>None</td>\n      <td>False</td>\n      <td>None</td>\n      <td>False</td>\n      <td>None</td>\n      <td>False</td>\n      <td>None</td>\n      <td>False</td>\n      <td>None</td>\n      <td>False</td>\n      <td>L</td>\n      <td>None</td>\n      <td>None</td>\n      <td>NaN</td>\n      <td>NaN</td>\n      <td>20.506908</td>\n      <td>39.475976</td>\n      <td>False</td>\n      <td>POINT (20.507 39.476)</td>\n      <td>True</td>\n      <td>rural</td>\n      <td>None</td>\n      <td>NaN</td>\n    </tr>\n    <tr>\n      <th>4</th>\n      <td>5</td>\n      <td>EDCS-55701596</td>\n      <td>None</td>\n      <td>None</td>\n      <td>None</td>\n      <td>None</td>\n      <td>Camurius</td>\n      <td>Camurius</td>\n      <td>None</td>\n      <td>Camurius</td>\n      <td>Camurius</td>\n      <td>None</td>\n      <td>Achaia</td>\n      <td>Agios Donatos / Photike</td>\n      <td>tituli fabricationis</td>\n      <td>nomen singulare, viri</td>\n      <td>sigilla impressa</td>\n      <td>nomen singulare;  sigilla impressa;  tituli fa...</td>\n      <td>None</td>\n      <td>None</td>\n      <td>None</td>\n      <td>None</td>\n      <td>None</td>\n      <td>NaN</td>\n      <td>None</td>\n      <td>None</td>\n      <td>None</td>\n      <td>None</td>\n      <td>None</td>\n      <td>None</td>\n      <td>[]</td>\n      <td>None</td>\n      <td>False</td>\n      <td>NaN</td>\n      <td>NaN</td>\n      <td>NaN</td>\n      <td>None</td>\n      <td>None</td>\n      <td>False</td>\n      <td>None</td>\n      <td>False</td>\n      <td>None</td>\n      <td>False</td>\n      <td>None</td>\n      <td>False</td>\n      <td>None</td>\n      <td>False</td>\n      <td>None</td>\n      <td>False</td>\n      <td>None</td>\n      <td>False</td>\n      <td>L</td>\n      <td>None</td>\n      <td>None</td>\n      <td>NaN</td>\n      <td>NaN</td>\n      <td>20.506908</td>\n      <td>39.475976</td>\n      <td>False</td>\n      <td>POINT (20.507 39.476)</td>\n      <td>True</td>\n      <td>rural</td>\n      <td>None</td>\n      <td>NaN</td>\n    </tr>\n  </tbody>\n</table>\n</div>"
     },
     "execution_count": 8,
     "metadata": {},
     "output_type": "execute_result"
    }
   ],
   "source": [
    "# we will apply the model to inscriptions which are only in EDCS\n",
    "EDCS_unique = LIST[(LIST[\"EDH-ID\"].isnull()) & (LIST[\"EDCS-ID\"].notnull())]\n",
    "EDCS_unique.head(5)"
   ],
   "metadata": {
    "collapsed": false,
    "ExecuteTime": {
     "start_time": "2023-04-27T09:22:48.032706Z",
     "end_time": "2023-04-27T09:22:48.486571Z"
    }
   }
  },
  {
   "cell_type": "code",
   "execution_count": 9,
   "outputs": [],
   "source": [
    "# first create bigrams\n",
    "def get_bigrams_underscore(inscr_text):\n",
    "    try:\n",
    "        inscr_bigrams = [\" \".join(el) for el in list(bigrams(inscr_text.split()))]\n",
    "        inscr_bigrams_ = [bigram.replace(\" \", \"_\") for bigram in inscr_bigrams]\n",
    "    except:\n",
    "        inscr_bigrams_ = []\n",
    "    return inscr_bigrams_\n",
    "\n",
    "EDCS_unique[\"bigrams\"] = EDCS_unique[\"clean_text_interpretive_word\"].apply(get_bigrams_underscore)"
   ],
   "metadata": {
    "collapsed": false,
    "ExecuteTime": {
     "start_time": "2023-04-27T09:22:50.783762Z",
     "end_time": "2023-04-27T09:22:52.172640Z"
    }
   }
  },
  {
   "cell_type": "code",
   "execution_count": 10,
   "outputs": [],
   "source": [
    "EDCS_unique[\"status_list\"] = EDCS_unique[\"status\"].fillna(value=\"\").apply(lambda x: x.split(\";\"))\n",
    "EDCS_unique[\"material_clean\"].replace(\"NULL\", inplace=True)"
   ],
   "metadata": {
    "collapsed": false,
    "ExecuteTime": {
     "start_time": "2023-04-27T09:22:53.319970Z",
     "end_time": "2023-04-27T09:22:53.690185Z"
    }
   }
  },
  {
   "cell_type": "code",
   "execution_count": 11,
   "outputs": [],
   "source": [
    "def combine_status_list_and_bigrams(el_status, el_bigrams, el_material):\n",
    "    # preprocess status:\n",
    "    try:\n",
    "        el_status = eval(el_status)\n",
    "    except:\n",
    "        pass\n",
    "    if isinstance(el_status, list):\n",
    "        new_el_status = el_status\n",
    "    elif isinstance(el_status, str):\n",
    "        new_el_status = [el_status]\n",
    "    else:\n",
    "        new_el_status = []\n",
    "    new_el_status = [el.strip().replace(\" \", \"_\") for el in new_el_status]\n",
    "    # preprocess material:\n",
    "    if el_material is None:\n",
    "        el_material = []\n",
    "    else:\n",
    "        el_material = el_material.partition(\": \")[0]  #\n",
    "        el_material = el_material.split(\", \")\n",
    "        el_material = [el.replace(\" \", \"_\").replace(\"?\", \"\") for el in el_material]\n",
    "    # combine status, bigrams and material\n",
    "    new_el = new_el_status + el_bigrams + el_material\n",
    "    new_el = \" \".join(new_el)\n",
    "    return new_el, new_el_status, el_material"
   ],
   "metadata": {
    "collapsed": false,
    "ExecuteTime": {
     "start_time": "2023-04-27T09:22:53.928584Z",
     "end_time": "2023-04-27T09:22:53.945461Z"
    }
   }
  },
  {
   "cell_type": "code",
   "execution_count": 12,
   "outputs": [],
   "source": [
    "# we need to extract all predictors from the dataframe\n",
    "# into `status_bigrams_list_apply` (list of lists)\n",
    "status_bigrams_list_apply = []\n",
    "status_list = []\n",
    "material_list = []\n",
    "for el_status, el_bigrams, el_material in zip(EDCS_unique[\"status_list\"].tolist(), EDCS_unique[\"bigrams\"].tolist(), EDCS_unique[\"material_clean\"].tolist()):\n",
    "    new_el, new_status, el_material = combine_status_list_and_bigrams(el_status, el_bigrams, el_material)\n",
    "    status_bigrams_list_apply.append(new_el)\n",
    "    status_list.append(new_status)\n",
    "    material_list.extend(el_material)"
   ],
   "metadata": {
    "collapsed": false,
    "ExecuteTime": {
     "start_time": "2023-04-27T09:22:55.329632Z",
     "end_time": "2023-04-27T09:22:56.485747Z"
    }
   }
  },
  {
   "cell_type": "code",
   "execution_count": 13,
   "outputs": [],
   "source": [
    "X_applied = vectorizer.transform(status_bigrams_list_apply)"
   ],
   "metadata": {
    "collapsed": false,
    "ExecuteTime": {
     "start_time": "2023-04-27T09:22:56.549281Z",
     "end_time": "2023-04-27T09:22:58.418506Z"
    }
   }
  },
  {
   "cell_type": "code",
   "execution_count": 14,
   "outputs": [
    {
     "data": {
      "text/plain": "array(['identification inscription', 'owner/artist inscription',\n       'owner/artist inscription', 'owner/artist inscription',\n       'owner/artist inscription', 'owner/artist inscription',\n       'votive inscription', 'identification inscription',\n       'honorific inscription', 'building/dedicatory inscription'],\n      dtype='<U31')"
     },
     "execution_count": 14,
     "metadata": {},
     "output_type": "execute_result"
    }
   ],
   "source": [
    "prediction = classifier.predict(X_applied)\n",
    "prediction[:10]"
   ],
   "metadata": {
    "collapsed": false,
    "ExecuteTime": {
     "start_time": "2023-04-27T09:22:58.419426Z",
     "end_time": "2023-04-27T09:23:05.480537Z"
    }
   }
  },
  {
   "cell_type": "code",
   "execution_count": 15,
   "outputs": [
    {
     "data": {
      "text/plain": "array(['acclamation', 'adnuntiatio', 'assignation inscription',\n       'boundary inscription', 'building/dedicatory inscription',\n       'calendar', 'defixio', 'elogium', 'epitaph',\n       'honorific inscription', 'identification inscription', 'label',\n       'letter', 'list', 'mile-/leaguestone', 'military diploma',\n       'owner/artist inscription', 'prayer', 'private legal inscription',\n       'public legal inscription', 'seat inscription',\n       'votive inscription'], dtype='<U31')"
     },
     "execution_count": 15,
     "metadata": {},
     "output_type": "execute_result"
    }
   ],
   "source": [
    "classifier.classes_"
   ],
   "metadata": {
    "collapsed": false,
    "ExecuteTime": {
     "start_time": "2023-04-27T09:23:05.481400Z",
     "end_time": "2023-04-27T09:23:05.483733Z"
    }
   }
  },
  {
   "cell_type": "code",
   "execution_count": 16,
   "outputs": [
    {
     "data": {
      "text/plain": "[0.6666666666666659,\n 0.9031917526917528,\n 0.8401048945136412,\n 0.9031917526917528,\n 0.8401048945136412,\n 0.9031917526917528,\n 0.36523809523809525,\n 0.6666666666666659,\n 0.62,\n 0.3782555555555555]"
     },
     "execution_count": 16,
     "metadata": {},
     "output_type": "execute_result"
    }
   ],
   "source": [
    "probs = [np.max(pred) for pred in classifier.predict_proba(X_applied)]\n",
    "probs[:10]"
   ],
   "metadata": {
    "collapsed": false,
    "ExecuteTime": {
     "start_time": "2023-04-27T09:23:05.484820Z",
     "end_time": "2023-04-27T09:23:13.169154Z"
    }
   }
  },
  {
   "cell_type": "code",
   "execution_count": 17,
   "outputs": [
    {
     "data": {
      "text/plain": "[('identification inscription', 0.6666666666666659),\n ('owner/artist inscription', 0.9031917526917528),\n ('owner/artist inscription', 0.8401048945136413),\n ('owner/artist inscription', 0.9031917526917528),\n ('owner/artist inscription', 0.8401048945136413),\n ('owner/artist inscription', 0.9031917526917528),\n ('votive inscription', 0.36523809523809525),\n ('identification inscription', 0.6666666666666659),\n ('honorific inscription', 0.62),\n ('building/dedicatory inscription', 0.3782555555555555)]"
     },
     "execution_count": 17,
     "metadata": {},
     "output_type": "execute_result"
    }
   ],
   "source": [
    "prediction_probs = [(classifier.classes_[np.argmax(pred)], pred[np.argmax(pred)]) for pred in classifier.predict_proba(X_applied)]\n",
    "prediction_probs[:10]"
   ],
   "metadata": {
    "collapsed": false,
    "ExecuteTime": {
     "start_time": "2023-04-27T09:23:13.169647Z",
     "end_time": "2023-04-27T09:23:20.098992Z"
    }
   }
  },
  {
   "cell_type": "code",
   "execution_count": 18,
   "outputs": [
    {
     "data": {
      "text/plain": "445463"
     },
     "execution_count": 18,
     "metadata": {},
     "output_type": "execute_result"
    }
   ],
   "source": [
    "len(prediction_probs)"
   ],
   "metadata": {
    "collapsed": false,
    "ExecuteTime": {
     "start_time": "2023-04-27T09:23:20.098005Z",
     "end_time": "2023-04-27T09:23:20.100840Z"
    }
   }
  },
  {
   "cell_type": "code",
   "execution_count": 19,
   "outputs": [
    {
     "name": "stdout",
     "output_type": "stream",
     "text": [
      "prob. threshold: 0.4, proportion of inscr.: 0.9789567259233651\n",
      "prob. threshold: 0.45, proportion of inscr.: 0.9658804434936235\n",
      "prob. threshold: 0.5, proportion of inscr.: 0.942558641233952\n",
      "prob. threshold: 0.55, proportion of inscr.: 0.9065332025330948\n",
      "prob. threshold: 0.6, proportion of inscr.: 0.8807173659765233\n",
      "prob. threshold: 0.65, proportion of inscr.: 0.8624554676819399\n",
      "prob. threshold: 0.7, proportion of inscr.: 0.6787634438774938\n",
      "prob. threshold: 0.75, proportion of inscr.: 0.6562295858466359\n",
      "prob. threshold: 0.8, proportion of inscr.: 0.590996334151209\n",
      "prob. threshold: 0.85, proportion of inscr.: 0.5466649306451938\n",
      "prob. threshold: 0.9, proportion of inscr.: 0.5188713765228538\n",
      "prob. threshold: 0.95, proportion of inscr.: 0.468119686707987\n"
     ]
    }
   ],
   "source": [
    "for threshold in [thres / 100 for thres in range(40, 100, 5)]:\n",
    "    above_threshold = [tup for tup in prediction_probs if tup[1] >= threshold]\n",
    "    proportion = len(above_threshold) / len(prediction_probs)\n",
    "    print(\"prob. threshold: {0}, proportion of inscr.: {1}\".format(threshold, proportion))"
   ],
   "metadata": {
    "collapsed": false,
    "ExecuteTime": {
     "start_time": "2023-04-27T09:23:20.161115Z",
     "end_time": "2023-04-27T09:23:20.349983Z"
    }
   }
  },
  {
   "cell_type": "code",
   "execution_count": 20,
   "outputs": [
    {
     "data": {
      "text/plain": "    threshold (=/>)  proportion       N\n0              0.30        0.99  442779\n1              0.32        0.99  442028\n2              0.34        0.99  441065\n3              0.36        0.99  439976\n4              0.38        0.98  437708\n5              0.40        0.98  436089\n6              0.42        0.97  433818\n7              0.44        0.97  431718\n8              0.46        0.96  428311\n9              0.48        0.95  424488\n10             0.50        0.94  419875\n11             0.52        0.92  409207\n12             0.54        0.91  405582\n13             0.56        0.90  399741\n14             0.58        0.89  396193\n15             0.60        0.88  392327\n16             0.62        0.87  389073\n17             0.64        0.87  385399\n18             0.66        0.86  381514\n19             0.68        0.69  307238\n20             0.70        0.68  302364\n21             0.72        0.67  298329\n22             0.74        0.66  295021\n23             0.76        0.65  290794\n24             0.78        0.64  283897\n25             0.80        0.59  263267\n26             0.82        0.58  260086\n27             0.84        0.57  252926\n28             0.86        0.54  241541\n29             0.88        0.53  235735\n30             0.90        0.52  231138\n31             0.92        0.50  224920\n32             0.94        0.48  212400\n33             0.96        0.46  203881\n34             0.98        0.43  189533",
      "text/html": "<div>\n<style scoped>\n    .dataframe tbody tr th:only-of-type {\n        vertical-align: middle;\n    }\n\n    .dataframe tbody tr th {\n        vertical-align: top;\n    }\n\n    .dataframe thead th {\n        text-align: right;\n    }\n</style>\n<table border=\"1\" class=\"dataframe\">\n  <thead>\n    <tr style=\"text-align: right;\">\n      <th></th>\n      <th>threshold (=/&gt;)</th>\n      <th>proportion</th>\n      <th>N</th>\n    </tr>\n  </thead>\n  <tbody>\n    <tr>\n      <th>0</th>\n      <td>0.30</td>\n      <td>0.99</td>\n      <td>442779</td>\n    </tr>\n    <tr>\n      <th>1</th>\n      <td>0.32</td>\n      <td>0.99</td>\n      <td>442028</td>\n    </tr>\n    <tr>\n      <th>2</th>\n      <td>0.34</td>\n      <td>0.99</td>\n      <td>441065</td>\n    </tr>\n    <tr>\n      <th>3</th>\n      <td>0.36</td>\n      <td>0.99</td>\n      <td>439976</td>\n    </tr>\n    <tr>\n      <th>4</th>\n      <td>0.38</td>\n      <td>0.98</td>\n      <td>437708</td>\n    </tr>\n    <tr>\n      <th>5</th>\n      <td>0.40</td>\n      <td>0.98</td>\n      <td>436089</td>\n    </tr>\n    <tr>\n      <th>6</th>\n      <td>0.42</td>\n      <td>0.97</td>\n      <td>433818</td>\n    </tr>\n    <tr>\n      <th>7</th>\n      <td>0.44</td>\n      <td>0.97</td>\n      <td>431718</td>\n    </tr>\n    <tr>\n      <th>8</th>\n      <td>0.46</td>\n      <td>0.96</td>\n      <td>428311</td>\n    </tr>\n    <tr>\n      <th>9</th>\n      <td>0.48</td>\n      <td>0.95</td>\n      <td>424488</td>\n    </tr>\n    <tr>\n      <th>10</th>\n      <td>0.50</td>\n      <td>0.94</td>\n      <td>419875</td>\n    </tr>\n    <tr>\n      <th>11</th>\n      <td>0.52</td>\n      <td>0.92</td>\n      <td>409207</td>\n    </tr>\n    <tr>\n      <th>12</th>\n      <td>0.54</td>\n      <td>0.91</td>\n      <td>405582</td>\n    </tr>\n    <tr>\n      <th>13</th>\n      <td>0.56</td>\n      <td>0.90</td>\n      <td>399741</td>\n    </tr>\n    <tr>\n      <th>14</th>\n      <td>0.58</td>\n      <td>0.89</td>\n      <td>396193</td>\n    </tr>\n    <tr>\n      <th>15</th>\n      <td>0.60</td>\n      <td>0.88</td>\n      <td>392327</td>\n    </tr>\n    <tr>\n      <th>16</th>\n      <td>0.62</td>\n      <td>0.87</td>\n      <td>389073</td>\n    </tr>\n    <tr>\n      <th>17</th>\n      <td>0.64</td>\n      <td>0.87</td>\n      <td>385399</td>\n    </tr>\n    <tr>\n      <th>18</th>\n      <td>0.66</td>\n      <td>0.86</td>\n      <td>381514</td>\n    </tr>\n    <tr>\n      <th>19</th>\n      <td>0.68</td>\n      <td>0.69</td>\n      <td>307238</td>\n    </tr>\n    <tr>\n      <th>20</th>\n      <td>0.70</td>\n      <td>0.68</td>\n      <td>302364</td>\n    </tr>\n    <tr>\n      <th>21</th>\n      <td>0.72</td>\n      <td>0.67</td>\n      <td>298329</td>\n    </tr>\n    <tr>\n      <th>22</th>\n      <td>0.74</td>\n      <td>0.66</td>\n      <td>295021</td>\n    </tr>\n    <tr>\n      <th>23</th>\n      <td>0.76</td>\n      <td>0.65</td>\n      <td>290794</td>\n    </tr>\n    <tr>\n      <th>24</th>\n      <td>0.78</td>\n      <td>0.64</td>\n      <td>283897</td>\n    </tr>\n    <tr>\n      <th>25</th>\n      <td>0.80</td>\n      <td>0.59</td>\n      <td>263267</td>\n    </tr>\n    <tr>\n      <th>26</th>\n      <td>0.82</td>\n      <td>0.58</td>\n      <td>260086</td>\n    </tr>\n    <tr>\n      <th>27</th>\n      <td>0.84</td>\n      <td>0.57</td>\n      <td>252926</td>\n    </tr>\n    <tr>\n      <th>28</th>\n      <td>0.86</td>\n      <td>0.54</td>\n      <td>241541</td>\n    </tr>\n    <tr>\n      <th>29</th>\n      <td>0.88</td>\n      <td>0.53</td>\n      <td>235735</td>\n    </tr>\n    <tr>\n      <th>30</th>\n      <td>0.90</td>\n      <td>0.52</td>\n      <td>231138</td>\n    </tr>\n    <tr>\n      <th>31</th>\n      <td>0.92</td>\n      <td>0.50</td>\n      <td>224920</td>\n    </tr>\n    <tr>\n      <th>32</th>\n      <td>0.94</td>\n      <td>0.48</td>\n      <td>212400</td>\n    </tr>\n    <tr>\n      <th>33</th>\n      <td>0.96</td>\n      <td>0.46</td>\n      <td>203881</td>\n    </tr>\n    <tr>\n      <th>34</th>\n      <td>0.98</td>\n      <td>0.43</td>\n      <td>189533</td>\n    </tr>\n  </tbody>\n</table>\n</div>"
     },
     "execution_count": 20,
     "metadata": {},
     "output_type": "execute_result"
    }
   ],
   "source": [
    "threshold_results = []\n",
    "for threshold in [thres / 100 for thres in range(30, 100, 2)]:\n",
    "    above_threshold = [tup for tup in prediction_probs if tup[1] >= threshold]\n",
    "    proportion = len(above_threshold) / len(prediction_probs)\n",
    "    threshold_results.append({\"threshold (=/>)\" : threshold, \"proportion\" : np.round(proportion, 2), \"N\" : len(above_threshold)})\n",
    "model_results_df = pd.DataFrame(threshold_results)\n",
    "model_results_df"
   ],
   "metadata": {
    "collapsed": false,
    "ExecuteTime": {
     "start_time": "2023-04-27T09:23:20.385519Z",
     "end_time": "2023-04-27T09:23:20.982393Z"
    }
   }
  },
  {
   "cell_type": "code",
   "execution_count": 21,
   "outputs": [],
   "source": [
    "#print(model_results_df.to_latex(index=False))"
   ],
   "metadata": {
    "collapsed": false,
    "ExecuteTime": {
     "start_time": "2023-04-27T09:23:20.970362Z",
     "end_time": "2023-04-27T09:23:20.982494Z"
    }
   }
  },
  {
   "cell_type": "code",
   "execution_count": 22,
   "outputs": [],
   "source": [
    "#model_results_df.to_csv(\"../data/classifier_EDCS_results.csv\")"
   ],
   "metadata": {
    "collapsed": false,
    "ExecuteTime": {
     "start_time": "2023-04-27T09:23:20.973154Z",
     "end_time": "2023-04-27T09:23:20.982525Z"
    }
   }
  },
  {
   "cell_type": "markdown",
   "source": [
    "# Combining the data back"
   ],
   "metadata": {
    "collapsed": false
   }
  },
  {
   "cell_type": "code",
   "execution_count": 23,
   "outputs": [],
   "source": [
    "EDCS_unique[\"type_of_inscription_auto\"] = prediction\n",
    "EDCS_unique[\"type_of_inscription_auto_prob\"] = probs"
   ],
   "metadata": {
    "collapsed": false,
    "ExecuteTime": {
     "start_time": "2023-04-27T09:23:20.976325Z",
     "end_time": "2023-04-27T09:23:21.092452Z"
    }
   }
  },
  {
   "cell_type": "code",
   "execution_count": 24,
   "outputs": [
    {
     "data": {
      "text/plain": "   LIST-ID        EDCS-ID EDH-ID trismegistos_uri pleiades_id transcription  \\\n0        1  EDCS-31400030   None             None        None          None   \n1        2  EDCS-55701593   None             None        None          None   \n2        3  EDCS-55701594   None             None        None          None   \n3        4  EDCS-55701595   None             None        None          None   \n4        5  EDCS-55701596   None             None        None          None   \n\n           inscription clean_text_conservative  \\\n0                Leius                   Leius   \n1    Cn(aeus) Atei(us)                 Cn Atei   \n2           Avill(ius)                   Avill   \n3  L(ucius) Av(illius)                    L Av   \n4             Camurius                Camurius   \n\n  clean_text_interpretive_sentence clean_text_interpretive_word  \\\n0                             None                        Leius   \n1                             None                Cnaeus Ateius   \n2                             None                     Avillius   \n3                             None              Lucius Avillius   \n4                             None                     Camurius   \n\n  clean_text_interpretive_word_EDCS diplomatic_text province  \\\n0                             Leius            None   Achaia   \n1                     Cnaeus Ateius            None   Achaia   \n2                          Avillius            None   Achaia   \n3                   Lucius Avillius            None   Achaia   \n4                          Camurius            None   Achaia   \n\n                     place            inscr_type           status_notation  \\\n0                        ?                  None                      None   \n1  Agios Donatos / Photike  tituli fabricationis  praenomen et nomen, viri   \n2  Agios Donatos / Photike  tituli fabricationis     nomen singulare, viri   \n3  Agios Donatos / Photike  tituli fabricationis  praenomen et nomen, viri   \n4  Agios Donatos / Photike  tituli fabricationis     nomen singulare, viri   \n\n      inscr_process                                             status  \\\n0              None                                               None   \n1  sigilla impressa  praenomen et nomen;  sigilla impressa;  tituli...   \n2  sigilla impressa  nomen singulare;  sigilla impressa;  tituli fa...   \n3  sigilla impressa  praenomen et nomen;  sigilla impressa;  tituli...   \n4  sigilla impressa  nomen singulare;  sigilla impressa;  tituli fa...   \n\n  partner_link last_update letter_size type_of_inscription work_status  \\\n0         None        None        None                None        None   \n1         None        None        None                None        None   \n2         None        None        None                None        None   \n3         None        None        None                None        None   \n4         None        None        None                None        None   \n\n   year_of_find present_location text_edition support_objecttype  \\\n0           NaN             None         None               None   \n1           NaN             None         None               None   \n2           NaN             None         None               None   \n3           NaN             None         None               None   \n4           NaN             None         None               None   \n\n  support_material support_decoration keywords_term people  \\\n0             None               None          None     []   \n1             None               None          None     []   \n2             None               None          None     []   \n3             None               None          None     []   \n4             None               None          None     []   \n\n  type_of_inscription_clean  type_of_inscription_certainty  height_cm  \\\n0                      None                          False        NaN   \n1                      None                          False        NaN   \n2                      None                          False        NaN   \n3                      None                          False        NaN   \n4                      None                          False        NaN   \n\n   width_cm  depth_cm material_clean type_of_monument_clean  \\\n0       NaN       NaN           None                   None   \n1       NaN       NaN           None                   None   \n2       NaN       NaN           None                   None   \n3       NaN       NaN           None                   None   \n4       NaN       NaN           None                   None   \n\n   type_of_monument_certainty province_label_clean  province_label_certainty  \\\n0                       False                 None                     False   \n1                       False                 None                     False   \n2                       False                 None                     False   \n3                       False                 None                     False   \n4                       False                 None                     False   \n\n  country_clean  country_certainty findspot_ancient_clean  \\\n0          None              False                   None   \n1          None              False                   None   \n2          None              False                   None   \n3          None              False                   None   \n4          None              False                   None   \n\n   findspot_ancient_certainty modern_region_clean  modern_region_certainty  \\\n0                       False                None                    False   \n1                       False                None                    False   \n2                       False                None                    False   \n3                       False                None                    False   \n4                       False                None                    False   \n\n  findspot_modern_clean  findspot_modern_certainty findspot_clean  \\\n0                  None                      False           None   \n1                  None                      False           None   \n2                  None                      False           None   \n3                  None                      False           None   \n4                  None                      False           None   \n\n   findspot_certainty language language_EDCS raw_dating  not_after  \\\n0               False        L          None       None        NaN   \n1               False        L          None       None        NaN   \n2               False        L          None       None        NaN   \n3               False        L          None       None        NaN   \n4               False        L          None       None        NaN   \n\n   not_before  Longitude   Latitude  geotemporal?               geometry  \\\n0         NaN        NaN        NaN         False                   None   \n1         NaN  20.506908  39.475976         False  POINT (20.507 39.476)   \n2         NaN  20.506908  39.475976         False  POINT (20.507 39.476)   \n3         NaN  20.506908  39.475976         False  POINT (20.507 39.476)   \n4         NaN  20.506908  39.475976         False  POINT (20.507 39.476)   \n\n   withinRE? urban_context urban_context_city  urban_context_pop_est  \\\n0      False          None               None                    NaN   \n1       True         rural               None                    NaN   \n2       True         rural               None                    NaN   \n3       True         rural               None                    NaN   \n4       True         rural               None                    NaN   \n\n             bigrams                                        status_list  \\\n0                 []                                                 []   \n1    [Cnaeus_Ateius]  [praenomen et nomen,   sigilla impressa,   tit...   \n2                 []  [nomen singulare,   sigilla impressa,   tituli...   \n3  [Lucius_Avillius]  [praenomen et nomen,   sigilla impressa,   tit...   \n4                 []  [nomen singulare,   sigilla impressa,   tituli...   \n\n     type_of_inscription_auto  type_of_inscription_auto_prob  \n0  identification inscription                       0.666667  \n1    owner/artist inscription                       0.903192  \n2    owner/artist inscription                       0.840105  \n3    owner/artist inscription                       0.903192  \n4    owner/artist inscription                       0.840105  ",
      "text/html": "<div>\n<style scoped>\n    .dataframe tbody tr th:only-of-type {\n        vertical-align: middle;\n    }\n\n    .dataframe tbody tr th {\n        vertical-align: top;\n    }\n\n    .dataframe thead th {\n        text-align: right;\n    }\n</style>\n<table border=\"1\" class=\"dataframe\">\n  <thead>\n    <tr style=\"text-align: right;\">\n      <th></th>\n      <th>LIST-ID</th>\n      <th>EDCS-ID</th>\n      <th>EDH-ID</th>\n      <th>trismegistos_uri</th>\n      <th>pleiades_id</th>\n      <th>transcription</th>\n      <th>inscription</th>\n      <th>clean_text_conservative</th>\n      <th>clean_text_interpretive_sentence</th>\n      <th>clean_text_interpretive_word</th>\n      <th>clean_text_interpretive_word_EDCS</th>\n      <th>diplomatic_text</th>\n      <th>province</th>\n      <th>place</th>\n      <th>inscr_type</th>\n      <th>status_notation</th>\n      <th>inscr_process</th>\n      <th>status</th>\n      <th>partner_link</th>\n      <th>last_update</th>\n      <th>letter_size</th>\n      <th>type_of_inscription</th>\n      <th>work_status</th>\n      <th>year_of_find</th>\n      <th>present_location</th>\n      <th>text_edition</th>\n      <th>support_objecttype</th>\n      <th>support_material</th>\n      <th>support_decoration</th>\n      <th>keywords_term</th>\n      <th>people</th>\n      <th>type_of_inscription_clean</th>\n      <th>type_of_inscription_certainty</th>\n      <th>height_cm</th>\n      <th>width_cm</th>\n      <th>depth_cm</th>\n      <th>material_clean</th>\n      <th>type_of_monument_clean</th>\n      <th>type_of_monument_certainty</th>\n      <th>province_label_clean</th>\n      <th>province_label_certainty</th>\n      <th>country_clean</th>\n      <th>country_certainty</th>\n      <th>findspot_ancient_clean</th>\n      <th>findspot_ancient_certainty</th>\n      <th>modern_region_clean</th>\n      <th>modern_region_certainty</th>\n      <th>findspot_modern_clean</th>\n      <th>findspot_modern_certainty</th>\n      <th>findspot_clean</th>\n      <th>findspot_certainty</th>\n      <th>language</th>\n      <th>language_EDCS</th>\n      <th>raw_dating</th>\n      <th>not_after</th>\n      <th>not_before</th>\n      <th>Longitude</th>\n      <th>Latitude</th>\n      <th>geotemporal?</th>\n      <th>geometry</th>\n      <th>withinRE?</th>\n      <th>urban_context</th>\n      <th>urban_context_city</th>\n      <th>urban_context_pop_est</th>\n      <th>bigrams</th>\n      <th>status_list</th>\n      <th>type_of_inscription_auto</th>\n      <th>type_of_inscription_auto_prob</th>\n    </tr>\n  </thead>\n  <tbody>\n    <tr>\n      <th>0</th>\n      <td>1</td>\n      <td>EDCS-31400030</td>\n      <td>None</td>\n      <td>None</td>\n      <td>None</td>\n      <td>None</td>\n      <td>Leius</td>\n      <td>Leius</td>\n      <td>None</td>\n      <td>Leius</td>\n      <td>Leius</td>\n      <td>None</td>\n      <td>Achaia</td>\n      <td>?</td>\n      <td>None</td>\n      <td>None</td>\n      <td>None</td>\n      <td>None</td>\n      <td>None</td>\n      <td>None</td>\n      <td>None</td>\n      <td>None</td>\n      <td>None</td>\n      <td>NaN</td>\n      <td>None</td>\n      <td>None</td>\n      <td>None</td>\n      <td>None</td>\n      <td>None</td>\n      <td>None</td>\n      <td>[]</td>\n      <td>None</td>\n      <td>False</td>\n      <td>NaN</td>\n      <td>NaN</td>\n      <td>NaN</td>\n      <td>None</td>\n      <td>None</td>\n      <td>False</td>\n      <td>None</td>\n      <td>False</td>\n      <td>None</td>\n      <td>False</td>\n      <td>None</td>\n      <td>False</td>\n      <td>None</td>\n      <td>False</td>\n      <td>None</td>\n      <td>False</td>\n      <td>None</td>\n      <td>False</td>\n      <td>L</td>\n      <td>None</td>\n      <td>None</td>\n      <td>NaN</td>\n      <td>NaN</td>\n      <td>NaN</td>\n      <td>NaN</td>\n      <td>False</td>\n      <td>None</td>\n      <td>False</td>\n      <td>None</td>\n      <td>None</td>\n      <td>NaN</td>\n      <td>[]</td>\n      <td>[]</td>\n      <td>identification inscription</td>\n      <td>0.666667</td>\n    </tr>\n    <tr>\n      <th>1</th>\n      <td>2</td>\n      <td>EDCS-55701593</td>\n      <td>None</td>\n      <td>None</td>\n      <td>None</td>\n      <td>None</td>\n      <td>Cn(aeus) Atei(us)</td>\n      <td>Cn Atei</td>\n      <td>None</td>\n      <td>Cnaeus Ateius</td>\n      <td>Cnaeus Ateius</td>\n      <td>None</td>\n      <td>Achaia</td>\n      <td>Agios Donatos / Photike</td>\n      <td>tituli fabricationis</td>\n      <td>praenomen et nomen, viri</td>\n      <td>sigilla impressa</td>\n      <td>praenomen et nomen;  sigilla impressa;  tituli...</td>\n      <td>None</td>\n      <td>None</td>\n      <td>None</td>\n      <td>None</td>\n      <td>None</td>\n      <td>NaN</td>\n      <td>None</td>\n      <td>None</td>\n      <td>None</td>\n      <td>None</td>\n      <td>None</td>\n      <td>None</td>\n      <td>[]</td>\n      <td>None</td>\n      <td>False</td>\n      <td>NaN</td>\n      <td>NaN</td>\n      <td>NaN</td>\n      <td>None</td>\n      <td>None</td>\n      <td>False</td>\n      <td>None</td>\n      <td>False</td>\n      <td>None</td>\n      <td>False</td>\n      <td>None</td>\n      <td>False</td>\n      <td>None</td>\n      <td>False</td>\n      <td>None</td>\n      <td>False</td>\n      <td>None</td>\n      <td>False</td>\n      <td>L</td>\n      <td>None</td>\n      <td>None</td>\n      <td>NaN</td>\n      <td>NaN</td>\n      <td>20.506908</td>\n      <td>39.475976</td>\n      <td>False</td>\n      <td>POINT (20.507 39.476)</td>\n      <td>True</td>\n      <td>rural</td>\n      <td>None</td>\n      <td>NaN</td>\n      <td>[Cnaeus_Ateius]</td>\n      <td>[praenomen et nomen,   sigilla impressa,   tit...</td>\n      <td>owner/artist inscription</td>\n      <td>0.903192</td>\n    </tr>\n    <tr>\n      <th>2</th>\n      <td>3</td>\n      <td>EDCS-55701594</td>\n      <td>None</td>\n      <td>None</td>\n      <td>None</td>\n      <td>None</td>\n      <td>Avill(ius)</td>\n      <td>Avill</td>\n      <td>None</td>\n      <td>Avillius</td>\n      <td>Avillius</td>\n      <td>None</td>\n      <td>Achaia</td>\n      <td>Agios Donatos / Photike</td>\n      <td>tituli fabricationis</td>\n      <td>nomen singulare, viri</td>\n      <td>sigilla impressa</td>\n      <td>nomen singulare;  sigilla impressa;  tituli fa...</td>\n      <td>None</td>\n      <td>None</td>\n      <td>None</td>\n      <td>None</td>\n      <td>None</td>\n      <td>NaN</td>\n      <td>None</td>\n      <td>None</td>\n      <td>None</td>\n      <td>None</td>\n      <td>None</td>\n      <td>None</td>\n      <td>[]</td>\n      <td>None</td>\n      <td>False</td>\n      <td>NaN</td>\n      <td>NaN</td>\n      <td>NaN</td>\n      <td>None</td>\n      <td>None</td>\n      <td>False</td>\n      <td>None</td>\n      <td>False</td>\n      <td>None</td>\n      <td>False</td>\n      <td>None</td>\n      <td>False</td>\n      <td>None</td>\n      <td>False</td>\n      <td>None</td>\n      <td>False</td>\n      <td>None</td>\n      <td>False</td>\n      <td>L</td>\n      <td>None</td>\n      <td>None</td>\n      <td>NaN</td>\n      <td>NaN</td>\n      <td>20.506908</td>\n      <td>39.475976</td>\n      <td>False</td>\n      <td>POINT (20.507 39.476)</td>\n      <td>True</td>\n      <td>rural</td>\n      <td>None</td>\n      <td>NaN</td>\n      <td>[]</td>\n      <td>[nomen singulare,   sigilla impressa,   tituli...</td>\n      <td>owner/artist inscription</td>\n      <td>0.840105</td>\n    </tr>\n    <tr>\n      <th>3</th>\n      <td>4</td>\n      <td>EDCS-55701595</td>\n      <td>None</td>\n      <td>None</td>\n      <td>None</td>\n      <td>None</td>\n      <td>L(ucius) Av(illius)</td>\n      <td>L Av</td>\n      <td>None</td>\n      <td>Lucius Avillius</td>\n      <td>Lucius Avillius</td>\n      <td>None</td>\n      <td>Achaia</td>\n      <td>Agios Donatos / Photike</td>\n      <td>tituli fabricationis</td>\n      <td>praenomen et nomen, viri</td>\n      <td>sigilla impressa</td>\n      <td>praenomen et nomen;  sigilla impressa;  tituli...</td>\n      <td>None</td>\n      <td>None</td>\n      <td>None</td>\n      <td>None</td>\n      <td>None</td>\n      <td>NaN</td>\n      <td>None</td>\n      <td>None</td>\n      <td>None</td>\n      <td>None</td>\n      <td>None</td>\n      <td>None</td>\n      <td>[]</td>\n      <td>None</td>\n      <td>False</td>\n      <td>NaN</td>\n      <td>NaN</td>\n      <td>NaN</td>\n      <td>None</td>\n      <td>None</td>\n      <td>False</td>\n      <td>None</td>\n      <td>False</td>\n      <td>None</td>\n      <td>False</td>\n      <td>None</td>\n      <td>False</td>\n      <td>None</td>\n      <td>False</td>\n      <td>None</td>\n      <td>False</td>\n      <td>None</td>\n      <td>False</td>\n      <td>L</td>\n      <td>None</td>\n      <td>None</td>\n      <td>NaN</td>\n      <td>NaN</td>\n      <td>20.506908</td>\n      <td>39.475976</td>\n      <td>False</td>\n      <td>POINT (20.507 39.476)</td>\n      <td>True</td>\n      <td>rural</td>\n      <td>None</td>\n      <td>NaN</td>\n      <td>[Lucius_Avillius]</td>\n      <td>[praenomen et nomen,   sigilla impressa,   tit...</td>\n      <td>owner/artist inscription</td>\n      <td>0.903192</td>\n    </tr>\n    <tr>\n      <th>4</th>\n      <td>5</td>\n      <td>EDCS-55701596</td>\n      <td>None</td>\n      <td>None</td>\n      <td>None</td>\n      <td>None</td>\n      <td>Camurius</td>\n      <td>Camurius</td>\n      <td>None</td>\n      <td>Camurius</td>\n      <td>Camurius</td>\n      <td>None</td>\n      <td>Achaia</td>\n      <td>Agios Donatos / Photike</td>\n      <td>tituli fabricationis</td>\n      <td>nomen singulare, viri</td>\n      <td>sigilla impressa</td>\n      <td>nomen singulare;  sigilla impressa;  tituli fa...</td>\n      <td>None</td>\n      <td>None</td>\n      <td>None</td>\n      <td>None</td>\n      <td>None</td>\n      <td>NaN</td>\n      <td>None</td>\n      <td>None</td>\n      <td>None</td>\n      <td>None</td>\n      <td>None</td>\n      <td>None</td>\n      <td>[]</td>\n      <td>None</td>\n      <td>False</td>\n      <td>NaN</td>\n      <td>NaN</td>\n      <td>NaN</td>\n      <td>None</td>\n      <td>None</td>\n      <td>False</td>\n      <td>None</td>\n      <td>False</td>\n      <td>None</td>\n      <td>False</td>\n      <td>None</td>\n      <td>False</td>\n      <td>None</td>\n      <td>False</td>\n      <td>None</td>\n      <td>False</td>\n      <td>None</td>\n      <td>False</td>\n      <td>L</td>\n      <td>None</td>\n      <td>None</td>\n      <td>NaN</td>\n      <td>NaN</td>\n      <td>20.506908</td>\n      <td>39.475976</td>\n      <td>False</td>\n      <td>POINT (20.507 39.476)</td>\n      <td>True</td>\n      <td>rural</td>\n      <td>None</td>\n      <td>NaN</td>\n      <td>[]</td>\n      <td>[nomen singulare,   sigilla impressa,   tituli...</td>\n      <td>owner/artist inscription</td>\n      <td>0.840105</td>\n    </tr>\n  </tbody>\n</table>\n</div>"
     },
     "execution_count": 24,
     "metadata": {},
     "output_type": "execute_result"
    }
   ],
   "source": [
    "EDCS_unique.head(5)"
   ],
   "metadata": {
    "collapsed": false,
    "ExecuteTime": {
     "start_time": "2023-04-27T09:23:21.071574Z",
     "end_time": "2023-04-27T09:23:21.103624Z"
    }
   }
  },
  {
   "cell_type": "code",
   "execution_count": 25,
   "outputs": [],
   "source": [
    "# prepare last part of the data - inscriptions we have only in EDH\n",
    "# in this case, we can also use the information we already have\n",
    "EDH_unique = LIST[(LIST[\"EDH-ID\"].notnull()) & (LIST[\"EDCS-ID\"].isnull())]\n",
    "EDH_unique[\"type_of_inscription_auto\"] = EDH_unique[\"type_of_inscription_clean\"]\n",
    "EDH_unique[\"type_of_inscription_auto_prob\"] = [1] * len(EDH_unique)"
   ],
   "metadata": {
    "collapsed": false,
    "ExecuteTime": {
     "start_time": "2023-04-27T09:23:21.083220Z",
     "end_time": "2023-04-27T09:23:21.165025Z"
    }
   }
  },
  {
   "cell_type": "code",
   "execution_count": 26,
   "outputs": [],
   "source": [
    "EDH_overlap_all = LIST[(LIST[\"EDH-ID\"].notnull()) & (LIST[\"EDCS-ID\"].notnull())]\n",
    "EDH_overlap_all[\"type_of_inscription_auto\"] = EDH_overlap_all[\"type_of_inscription_clean\"]\n",
    "EDH_overlap_all[\"type_of_inscription_auto_prob\"] = [1] * len(EDH_overlap_all)"
   ],
   "metadata": {
    "collapsed": false,
    "ExecuteTime": {
     "start_time": "2023-04-27T09:23:21.142107Z",
     "end_time": "2023-04-27T09:23:21.278856Z"
    }
   }
  },
  {
   "cell_type": "code",
   "execution_count": 27,
   "outputs": [
    {
     "name": "stdout",
     "output_type": "stream",
     "text": [
      "the dataset we used for training and testing (+NULLs):  (77091, 66)\n",
      "inscriptions in EDH only:  (3316, 66)\n",
      "inscriptions in EDCS only, we wanted to classify:  (445463, 68)\n"
     ]
    }
   ],
   "source": [
    "print(\"the dataset we used for training and testing (+NULLs): \", EDH_overlap_all.shape)\n",
    "print(\"inscriptions in EDH only: \", EDH_unique.shape)\n",
    "print(\"inscriptions in EDCS only, we wanted to classify: \", EDCS_unique.shape)"
   ],
   "metadata": {
    "collapsed": false,
    "ExecuteTime": {
     "start_time": "2023-04-27T09:23:34.026824Z",
     "end_time": "2023-04-27T09:23:34.052924Z"
    }
   }
  },
  {
   "cell_type": "code",
   "execution_count": 28,
   "outputs": [
    {
     "data": {
      "text/plain": "        LIST-ID        EDCS-ID    EDH-ID  \\\n445463   445464  EDCS-24900077  HD056163   \n445464   445465  EDCS-03700724  HD052964   \n445465   445466  EDCS-13800065  HD017714   \n445466   445467  EDCS-03300852  HD051000   \n445467   445468  EDCS-28500283  HD021396   \n\n                                trismegistos_uri pleiades_id  \\\n445463  https://www.trismegistos.org/text/177366      570485   \n445464  https://www.trismegistos.org/text/121715      531064   \n445465  https://www.trismegistos.org/text/177100      570049   \n445466  https://www.trismegistos.org/text/177273      240855   \n445467  https://www.trismegistos.org/text/177131               \n\n                                            transcription  \\\n445463  Q(uinto) Caecilio C(ai) f(ilio) Metelo / imper...   \n445464  Fortissimo et piis/simo Caesari d(omino) n(ost...   \n445465  Italicei / quei Aegei negotiantur / P(ublium) ...   \n445466  [Imp(eratori) Caes(ari) M(arco)] / An[nio] Flo...   \n445467  T[i(berius)] Claudius Caesar Aug(ustus) / G[er...   \n\n                                              inscription  \\\n445463  Q(uinto) Caecilio C(ai) f(ilio) Metel(l)o / im...   \n445464  Fortissimo et Piis/simo Caesari d(omino) n(ost...   \n445465  Italicei / quei Aegei negotiantur / P(ublium) ...   \n445466  Imp(eratori) / Floriano / P(io) F(elici) Aug(u...   \n445467  T[(iberius)] Claudius Caesar Aug(ustus) / G[er...   \n\n                                  clean_text_conservative  \\\n445463  Q Caecilio C f Metelo imperatori Italici quei ...   \n445464  Fortissimo et piissimo Caesari d n Gal Val P F...   \n445465  Italicei quei Aegei negotiantur P Rutilium P f...   \n445466  An Floriano P F Aug p p m p III Imp Caes M Aur...   \n445467  T Claudius Caesar Aug Ganicus pontif max trib ...   \n\n                         clean_text_interpretive_sentence  \\\n445463  Quinto Caecilio Cai filio Metelo imperatori It...   \n445464  Fortissimo et piissimo Caesari domino nostro G...   \n445465  Italicei quei Aegei negotiantur Publium Rutili...   \n445466  Imperatori Caesari Marco Annio Floriano Pio Fe...   \n445467  Tiberius Claudius Caesar Augustus Germanicus p...   \n\n                             clean_text_interpretive_word  \\\n445463  Quinto Caecilio Cai filio Metelo imperatori It...   \n445464  Fortissimo et piissimo Caesari domino nostro G...   \n445465  Italicei quei Aegei negotiantur Publium Rutili...   \n445466  Imperatori Caesari Marco Annio Floriano Pio Fe...   \n445467  Tiberius Claudius Caesar Augustus Germanicus p...   \n\n                        clean_text_interpretive_word_EDCS  \\\n445463  Quinto Caecilio Cai filio Metello imperatori I...   \n445464  Fortissimo et Piissimo Caesari domino nostro G...   \n445465  Italicei quei Aegei negotiantur Publium Rutili...   \n445466  Imperatori Floriano Pio Felici Augusto patri p...   \n445467  Tiberius Claudius Caesar Augustus Germanicus p...   \n\n                                          diplomatic_text province  \\\n445463  Q CAECILIO C F METELO / IMPERATORI ITALICI / Q...   Achaia   \n445464  FORTISSIMO ET PIIS / SIMO CAESARI D N / GAL VA...   Achaia   \n445465  ITALICEI / QVEI AEGEI NEGOTIANTVR / P RVTILIVM...   Achaia   \n445466  [ ] / AN[ ] FLORIANO / P F AVG / P P / M P III...   Achaia   \n445467  T[ ] CLAVDIVS CAESAR AVG / G[ ]ANICVS PONTIF M...   Achaia   \n\n                                 place        inscr_type  \\\n445463   Agia Triada / Merbaka / Midea  tituli honorarii   \n445464      Agios Athanasios / Photike  tituli honorarii   \n445465  Aigio / Egio / Aiyion / Aegeum  tituli honorarii   \n445466                    Alea / Tegea          miliaria   \n445467                    Alea / Tegea             leges   \n\n                                          status_notation    inscr_process  \\\n445463  officium/professio, ordo senatorius, tria nomi...             None   \n445464       Augusti/Augustae, ordo equester, tria nomina  litterae erasae   \n445465  officium/professio, ordo senatorius, tria nomi...             None   \n445466                             Augusti/Augustae, viri             None   \n445467                             Augusti/Augustae, viri             None   \n\n                                                   status  \\\n445463  officium/professio;  ordo senatorius;  tituli ...   \n445464  Augusti/Augustae;  litterae erasae;  ordo eque...   \n445465  officium/professio;  ordo senatorius;  tituli ...   \n445466                 Augusti/Augustae;  miliaria;  viri   \n445467                    Augusti/Augustae;  leges;  viri   \n\n                                             partner_link last_update  \\\n445463  http://db.edcs.eu/epigr/partner.php?s_language...  2011-11-11   \n445464  http://db.edcs.eu/epigr/partner.php?s_language...  2014-09-16   \n445465  http://db.edcs.eu/epigr/partner.php?s_language...  2011-03-29   \n445466  http://db.edcs.eu/epigr/partner.php?s_language...  2011-05-24   \n445467  http://db.edcs.eu/epigr/partner.php?s_language...  2011-05-10   \n\n       letter_size       type_of_inscription         work_status  \\\n445463        None     honorific inscription            no image   \n445464    3-5.3 cm     honorific inscription  checked with photo   \n445465  3.5-3.7 cm        votive inscription  checked with photo   \n445466    3.3-6 cm         mile-/leaguestone  checked with photo   \n445467        None  public legal inscription  checked with photo   \n\n        year_of_find present_location  \\\n445463           NaN             None   \n445464           NaN    Fragma Kalama   \n445465           NaN             None   \n445466           NaN      Tegea, Mus.   \n445467           NaN             None   \n\n                                             text_edition support_objecttype  \\\n445463  \\n Quinto Caecilio Cai filio Metelo imperatori...               None   \n445464  \\n Fortissimo et piissimo Caesari domino nostr...                 57   \n445465  \\n Italicei quei Aegei negotiantur Publium Rut...                257   \n445466  \\n Imperatori Caesari Marco Annio Floriano Pio...                 89   \n445467  \\n Tiberius Claudius Caesar Augustus Germanicu...                257   \n\n       support_material support_decoration keywords_term  \\\n445463             None               1000            69   \n445464             None               1000            69   \n445465             None               1000           372   \n445466             None               1000          None   \n445467             None               1000             5   \n\n                                                   people  \\\n445463                                                 []   \n445464  [{'persname': {'name': [{'@type': 'nomen', '#t...   \n445465                                                 []   \n445466  [{'persname': {'name': [{'@type': 'praenomen',...   \n445467                                                 []   \n\n       type_of_inscription_clean  type_of_inscription_certainty  height_cm  \\\n445463     honorific inscription                          False        NaN   \n445464     honorific inscription                          False       99.0   \n445465        votive inscription                          False       58.0   \n445466         mile-/leaguestone                          False       44.0   \n445467  public legal inscription                          False      160.0   \n\n        width_cm  depth_cm material_clean type_of_monument_clean  \\\n445463       NaN       NaN           NULL                   NULL   \n445464      67.0      67.0           NULL            statue base   \n445465      61.0      16.0           NULL                 tabula   \n445466      24.0       NaN           NULL      mile-/leaguestone   \n445467      58.0      17.0           NULL                 tabula   \n\n        type_of_monument_certainty province_label_clean  \\\n445463                       False               Achaia   \n445464                       False               Epirus   \n445465                       False               Achaia   \n445466                       False               Achaia   \n445467                       False               Achaia   \n\n        province_label_certainty country_clean  country_certainty  \\\n445463                     False        Greece              False   \n445464                     False        Greece              False   \n445465                     False        Greece              False   \n445466                     False        Greece              False   \n445467                     False        Greece              False   \n\n       findspot_ancient_clean  findspot_ancient_certainty modern_region_clean  \\\n445463                  Midea                       False        Pelopónissos   \n445464                Photike                       False             Ípeiros   \n445465                 Aegeum                       False       Dytikí Elláda   \n445466                  Tegea                       False        Pelopónissos   \n445467                  Tegea                       False        Pelopónissos   \n\n        modern_region_certainty findspot_modern_clean  \\\n445463                    False                Midhéa   \n445464                    False            Paramythía   \n445465                    False                Aígion   \n445466                    False                  Alea   \n445467                    False                  Alea   \n\n        findspot_modern_certainty      findspot_clean  findspot_certainty  \\\n445463                      False                NULL               False   \n445464                      False  {Agios Athanasios}               False   \n445465                      False                NULL               False   \n445466                      False        Stringu, bei               False   \n445467                      False                NULL               False   \n\n       language language_EDCS                        raw_dating  not_after  \\\n445463        L          None                        -68 to -68      -68.0   \n445464        L          None                        309 to 313      313.0   \n445465        L          None                        -74 to -74      -74.0   \n445466        L          None  a:  276 to 276;   b:  276 to 282      282.0   \n445467        L          None                          49 to 50       50.0   \n\n        not_before  Longitude   Latitude  geotemporal?               geometry  \\\n445463       -68.0  22.841200  37.649800          True  POINT (22.841 37.650)   \n445464       309.0  20.766800  39.451200          True  POINT (20.767 39.451)   \n445465       -74.0  22.084500  38.248700          True  POINT (22.084 38.249)   \n445466       276.0  22.417100  37.431900          True  POINT (22.417 37.432)   \n445467        49.0  22.420877  37.454501          True  POINT (22.421 37.455)   \n\n        withinRE? urban_context urban_context_city  urban_context_pop_est  \\\n445463       True         rural               None                    NaN   \n445464       True         rural               None                    NaN   \n445465       True         small             Aegium                 1000.0   \n445466       True         large              Tegea                46362.0   \n445467       True         large              Tegea                46362.0   \n\n        type_of_inscription_auto  type_of_inscription_auto_prob bigrams  \\\n445463     honorific inscription                            1.0     NaN   \n445464     honorific inscription                            1.0     NaN   \n445465        votive inscription                            1.0     NaN   \n445466         mile-/leaguestone                            1.0     NaN   \n445467  public legal inscription                            1.0     NaN   \n\n       status_list  \n445463         NaN  \n445464         NaN  \n445465         NaN  \n445466         NaN  \n445467         NaN  ",
      "text/html": "<div>\n<style scoped>\n    .dataframe tbody tr th:only-of-type {\n        vertical-align: middle;\n    }\n\n    .dataframe tbody tr th {\n        vertical-align: top;\n    }\n\n    .dataframe thead th {\n        text-align: right;\n    }\n</style>\n<table border=\"1\" class=\"dataframe\">\n  <thead>\n    <tr style=\"text-align: right;\">\n      <th></th>\n      <th>LIST-ID</th>\n      <th>EDCS-ID</th>\n      <th>EDH-ID</th>\n      <th>trismegistos_uri</th>\n      <th>pleiades_id</th>\n      <th>transcription</th>\n      <th>inscription</th>\n      <th>clean_text_conservative</th>\n      <th>clean_text_interpretive_sentence</th>\n      <th>clean_text_interpretive_word</th>\n      <th>clean_text_interpretive_word_EDCS</th>\n      <th>diplomatic_text</th>\n      <th>province</th>\n      <th>place</th>\n      <th>inscr_type</th>\n      <th>status_notation</th>\n      <th>inscr_process</th>\n      <th>status</th>\n      <th>partner_link</th>\n      <th>last_update</th>\n      <th>letter_size</th>\n      <th>type_of_inscription</th>\n      <th>work_status</th>\n      <th>year_of_find</th>\n      <th>present_location</th>\n      <th>text_edition</th>\n      <th>support_objecttype</th>\n      <th>support_material</th>\n      <th>support_decoration</th>\n      <th>keywords_term</th>\n      <th>people</th>\n      <th>type_of_inscription_clean</th>\n      <th>type_of_inscription_certainty</th>\n      <th>height_cm</th>\n      <th>width_cm</th>\n      <th>depth_cm</th>\n      <th>material_clean</th>\n      <th>type_of_monument_clean</th>\n      <th>type_of_monument_certainty</th>\n      <th>province_label_clean</th>\n      <th>province_label_certainty</th>\n      <th>country_clean</th>\n      <th>country_certainty</th>\n      <th>findspot_ancient_clean</th>\n      <th>findspot_ancient_certainty</th>\n      <th>modern_region_clean</th>\n      <th>modern_region_certainty</th>\n      <th>findspot_modern_clean</th>\n      <th>findspot_modern_certainty</th>\n      <th>findspot_clean</th>\n      <th>findspot_certainty</th>\n      <th>language</th>\n      <th>language_EDCS</th>\n      <th>raw_dating</th>\n      <th>not_after</th>\n      <th>not_before</th>\n      <th>Longitude</th>\n      <th>Latitude</th>\n      <th>geotemporal?</th>\n      <th>geometry</th>\n      <th>withinRE?</th>\n      <th>urban_context</th>\n      <th>urban_context_city</th>\n      <th>urban_context_pop_est</th>\n      <th>type_of_inscription_auto</th>\n      <th>type_of_inscription_auto_prob</th>\n      <th>bigrams</th>\n      <th>status_list</th>\n    </tr>\n  </thead>\n  <tbody>\n    <tr>\n      <th>445463</th>\n      <td>445464</td>\n      <td>EDCS-24900077</td>\n      <td>HD056163</td>\n      <td>https://www.trismegistos.org/text/177366</td>\n      <td>570485</td>\n      <td>Q(uinto) Caecilio C(ai) f(ilio) Metelo / imper...</td>\n      <td>Q(uinto) Caecilio C(ai) f(ilio) Metel(l)o / im...</td>\n      <td>Q Caecilio C f Metelo imperatori Italici quei ...</td>\n      <td>Quinto Caecilio Cai filio Metelo imperatori It...</td>\n      <td>Quinto Caecilio Cai filio Metelo imperatori It...</td>\n      <td>Quinto Caecilio Cai filio Metello imperatori I...</td>\n      <td>Q CAECILIO C F METELO / IMPERATORI ITALICI / Q...</td>\n      <td>Achaia</td>\n      <td>Agia Triada / Merbaka / Midea</td>\n      <td>tituli honorarii</td>\n      <td>officium/professio, ordo senatorius, tria nomi...</td>\n      <td>None</td>\n      <td>officium/professio;  ordo senatorius;  tituli ...</td>\n      <td>http://db.edcs.eu/epigr/partner.php?s_language...</td>\n      <td>2011-11-11</td>\n      <td>None</td>\n      <td>honorific inscription</td>\n      <td>no image</td>\n      <td>NaN</td>\n      <td>None</td>\n      <td>\\n Quinto Caecilio Cai filio Metelo imperatori...</td>\n      <td>None</td>\n      <td>None</td>\n      <td>1000</td>\n      <td>69</td>\n      <td>[]</td>\n      <td>honorific inscription</td>\n      <td>False</td>\n      <td>NaN</td>\n      <td>NaN</td>\n      <td>NaN</td>\n      <td>NULL</td>\n      <td>NULL</td>\n      <td>False</td>\n      <td>Achaia</td>\n      <td>False</td>\n      <td>Greece</td>\n      <td>False</td>\n      <td>Midea</td>\n      <td>False</td>\n      <td>Pelopónissos</td>\n      <td>False</td>\n      <td>Midhéa</td>\n      <td>False</td>\n      <td>NULL</td>\n      <td>False</td>\n      <td>L</td>\n      <td>None</td>\n      <td>-68 to -68</td>\n      <td>-68.0</td>\n      <td>-68.0</td>\n      <td>22.841200</td>\n      <td>37.649800</td>\n      <td>True</td>\n      <td>POINT (22.841 37.650)</td>\n      <td>True</td>\n      <td>rural</td>\n      <td>None</td>\n      <td>NaN</td>\n      <td>honorific inscription</td>\n      <td>1.0</td>\n      <td>NaN</td>\n      <td>NaN</td>\n    </tr>\n    <tr>\n      <th>445464</th>\n      <td>445465</td>\n      <td>EDCS-03700724</td>\n      <td>HD052964</td>\n      <td>https://www.trismegistos.org/text/121715</td>\n      <td>531064</td>\n      <td>Fortissimo et piis/simo Caesari d(omino) n(ost...</td>\n      <td>Fortissimo et Piis/simo Caesari d(omino) n(ost...</td>\n      <td>Fortissimo et piissimo Caesari d n Gal Val P F...</td>\n      <td>Fortissimo et piissimo Caesari domino nostro G...</td>\n      <td>Fortissimo et piissimo Caesari domino nostro G...</td>\n      <td>Fortissimo et Piissimo Caesari domino nostro G...</td>\n      <td>FORTISSIMO ET PIIS / SIMO CAESARI D N / GAL VA...</td>\n      <td>Achaia</td>\n      <td>Agios Athanasios / Photike</td>\n      <td>tituli honorarii</td>\n      <td>Augusti/Augustae, ordo equester, tria nomina</td>\n      <td>litterae erasae</td>\n      <td>Augusti/Augustae;  litterae erasae;  ordo eque...</td>\n      <td>http://db.edcs.eu/epigr/partner.php?s_language...</td>\n      <td>2014-09-16</td>\n      <td>3-5.3 cm</td>\n      <td>honorific inscription</td>\n      <td>checked with photo</td>\n      <td>NaN</td>\n      <td>Fragma Kalama</td>\n      <td>\\n Fortissimo et piissimo Caesari domino nostr...</td>\n      <td>57</td>\n      <td>None</td>\n      <td>1000</td>\n      <td>69</td>\n      <td>[{'persname': {'name': [{'@type': 'nomen', '#t...</td>\n      <td>honorific inscription</td>\n      <td>False</td>\n      <td>99.0</td>\n      <td>67.0</td>\n      <td>67.0</td>\n      <td>NULL</td>\n      <td>statue base</td>\n      <td>False</td>\n      <td>Epirus</td>\n      <td>False</td>\n      <td>Greece</td>\n      <td>False</td>\n      <td>Photike</td>\n      <td>False</td>\n      <td>Ípeiros</td>\n      <td>False</td>\n      <td>Paramythía</td>\n      <td>False</td>\n      <td>{Agios Athanasios}</td>\n      <td>False</td>\n      <td>L</td>\n      <td>None</td>\n      <td>309 to 313</td>\n      <td>313.0</td>\n      <td>309.0</td>\n      <td>20.766800</td>\n      <td>39.451200</td>\n      <td>True</td>\n      <td>POINT (20.767 39.451)</td>\n      <td>True</td>\n      <td>rural</td>\n      <td>None</td>\n      <td>NaN</td>\n      <td>honorific inscription</td>\n      <td>1.0</td>\n      <td>NaN</td>\n      <td>NaN</td>\n    </tr>\n    <tr>\n      <th>445465</th>\n      <td>445466</td>\n      <td>EDCS-13800065</td>\n      <td>HD017714</td>\n      <td>https://www.trismegistos.org/text/177100</td>\n      <td>570049</td>\n      <td>Italicei / quei Aegei negotiantur / P(ublium) ...</td>\n      <td>Italicei / quei Aegei negotiantur / P(ublium) ...</td>\n      <td>Italicei quei Aegei negotiantur P Rutilium P f...</td>\n      <td>Italicei quei Aegei negotiantur Publium Rutili...</td>\n      <td>Italicei quei Aegei negotiantur Publium Rutili...</td>\n      <td>Italicei quei Aegei negotiantur Publium Rutili...</td>\n      <td>ITALICEI / QVEI AEGEI NEGOTIANTVR / P RVTILIVM...</td>\n      <td>Achaia</td>\n      <td>Aigio / Egio / Aiyion / Aegeum</td>\n      <td>tituli honorarii</td>\n      <td>officium/professio, ordo senatorius, tria nomi...</td>\n      <td>None</td>\n      <td>officium/professio;  ordo senatorius;  tituli ...</td>\n      <td>http://db.edcs.eu/epigr/partner.php?s_language...</td>\n      <td>2011-03-29</td>\n      <td>3.5-3.7 cm</td>\n      <td>votive inscription</td>\n      <td>checked with photo</td>\n      <td>NaN</td>\n      <td>None</td>\n      <td>\\n Italicei quei Aegei negotiantur Publium Rut...</td>\n      <td>257</td>\n      <td>None</td>\n      <td>1000</td>\n      <td>372</td>\n      <td>[]</td>\n      <td>votive inscription</td>\n      <td>False</td>\n      <td>58.0</td>\n      <td>61.0</td>\n      <td>16.0</td>\n      <td>NULL</td>\n      <td>tabula</td>\n      <td>False</td>\n      <td>Achaia</td>\n      <td>False</td>\n      <td>Greece</td>\n      <td>False</td>\n      <td>Aegeum</td>\n      <td>False</td>\n      <td>Dytikí Elláda</td>\n      <td>False</td>\n      <td>Aígion</td>\n      <td>False</td>\n      <td>NULL</td>\n      <td>False</td>\n      <td>L</td>\n      <td>None</td>\n      <td>-74 to -74</td>\n      <td>-74.0</td>\n      <td>-74.0</td>\n      <td>22.084500</td>\n      <td>38.248700</td>\n      <td>True</td>\n      <td>POINT (22.084 38.249)</td>\n      <td>True</td>\n      <td>small</td>\n      <td>Aegium</td>\n      <td>1000.0</td>\n      <td>votive inscription</td>\n      <td>1.0</td>\n      <td>NaN</td>\n      <td>NaN</td>\n    </tr>\n    <tr>\n      <th>445466</th>\n      <td>445467</td>\n      <td>EDCS-03300852</td>\n      <td>HD051000</td>\n      <td>https://www.trismegistos.org/text/177273</td>\n      <td>240855</td>\n      <td>[Imp(eratori) Caes(ari) M(arco)] / An[nio] Flo...</td>\n      <td>Imp(eratori) / Floriano / P(io) F(elici) Aug(u...</td>\n      <td>An Floriano P F Aug p p m p III Imp Caes M Aur...</td>\n      <td>Imperatori Caesari Marco Annio Floriano Pio Fe...</td>\n      <td>Imperatori Caesari Marco Annio Floriano Pio Fe...</td>\n      <td>Imperatori Floriano Pio Felici Augusto patri p...</td>\n      <td>[ ] / AN[ ] FLORIANO / P F AVG / P P / M P III...</td>\n      <td>Achaia</td>\n      <td>Alea / Tegea</td>\n      <td>miliaria</td>\n      <td>Augusti/Augustae, viri</td>\n      <td>None</td>\n      <td>Augusti/Augustae;  miliaria;  viri</td>\n      <td>http://db.edcs.eu/epigr/partner.php?s_language...</td>\n      <td>2011-05-24</td>\n      <td>3.3-6 cm</td>\n      <td>mile-/leaguestone</td>\n      <td>checked with photo</td>\n      <td>NaN</td>\n      <td>Tegea, Mus.</td>\n      <td>\\n Imperatori Caesari Marco Annio Floriano Pio...</td>\n      <td>89</td>\n      <td>None</td>\n      <td>1000</td>\n      <td>None</td>\n      <td>[{'persname': {'name': [{'@type': 'praenomen',...</td>\n      <td>mile-/leaguestone</td>\n      <td>False</td>\n      <td>44.0</td>\n      <td>24.0</td>\n      <td>NaN</td>\n      <td>NULL</td>\n      <td>mile-/leaguestone</td>\n      <td>False</td>\n      <td>Achaia</td>\n      <td>False</td>\n      <td>Greece</td>\n      <td>False</td>\n      <td>Tegea</td>\n      <td>False</td>\n      <td>Pelopónissos</td>\n      <td>False</td>\n      <td>Alea</td>\n      <td>False</td>\n      <td>Stringu, bei</td>\n      <td>False</td>\n      <td>L</td>\n      <td>None</td>\n      <td>a:  276 to 276;   b:  276 to 282</td>\n      <td>282.0</td>\n      <td>276.0</td>\n      <td>22.417100</td>\n      <td>37.431900</td>\n      <td>True</td>\n      <td>POINT (22.417 37.432)</td>\n      <td>True</td>\n      <td>large</td>\n      <td>Tegea</td>\n      <td>46362.0</td>\n      <td>mile-/leaguestone</td>\n      <td>1.0</td>\n      <td>NaN</td>\n      <td>NaN</td>\n    </tr>\n    <tr>\n      <th>445467</th>\n      <td>445468</td>\n      <td>EDCS-28500283</td>\n      <td>HD021396</td>\n      <td>https://www.trismegistos.org/text/177131</td>\n      <td></td>\n      <td>T[i(berius)] Claudius Caesar Aug(ustus) / G[er...</td>\n      <td>T[(iberius)] Claudius Caesar Aug(ustus) / G[er...</td>\n      <td>T Claudius Caesar Aug Ganicus pontif max trib ...</td>\n      <td>Tiberius Claudius Caesar Augustus Germanicus p...</td>\n      <td>Tiberius Claudius Caesar Augustus Germanicus p...</td>\n      <td>Tiberius Claudius Caesar Augustus Germanicus p...</td>\n      <td>T[ ] CLAVDIVS CAESAR AVG / G[ ]ANICVS PONTIF M...</td>\n      <td>Achaia</td>\n      <td>Alea / Tegea</td>\n      <td>leges</td>\n      <td>Augusti/Augustae, viri</td>\n      <td>None</td>\n      <td>Augusti/Augustae;  leges;  viri</td>\n      <td>http://db.edcs.eu/epigr/partner.php?s_language...</td>\n      <td>2011-05-10</td>\n      <td>None</td>\n      <td>public legal inscription</td>\n      <td>checked with photo</td>\n      <td>NaN</td>\n      <td>None</td>\n      <td>\\n Tiberius Claudius Caesar Augustus Germanicu...</td>\n      <td>257</td>\n      <td>None</td>\n      <td>1000</td>\n      <td>5</td>\n      <td>[]</td>\n      <td>public legal inscription</td>\n      <td>False</td>\n      <td>160.0</td>\n      <td>58.0</td>\n      <td>17.0</td>\n      <td>NULL</td>\n      <td>tabula</td>\n      <td>False</td>\n      <td>Achaia</td>\n      <td>False</td>\n      <td>Greece</td>\n      <td>False</td>\n      <td>Tegea</td>\n      <td>False</td>\n      <td>Pelopónissos</td>\n      <td>False</td>\n      <td>Alea</td>\n      <td>False</td>\n      <td>NULL</td>\n      <td>False</td>\n      <td>L</td>\n      <td>None</td>\n      <td>49 to 50</td>\n      <td>50.0</td>\n      <td>49.0</td>\n      <td>22.420877</td>\n      <td>37.454501</td>\n      <td>True</td>\n      <td>POINT (22.421 37.455)</td>\n      <td>True</td>\n      <td>large</td>\n      <td>Tegea</td>\n      <td>46362.0</td>\n      <td>public legal inscription</td>\n      <td>1.0</td>\n      <td>NaN</td>\n      <td>NaN</td>\n    </tr>\n  </tbody>\n</table>\n</div>"
     },
     "execution_count": 28,
     "metadata": {},
     "output_type": "execute_result"
    }
   ],
   "source": [
    "# combine together\n",
    "LIST_autotypes = pd.concat([EDH_overlap_all, EDH_unique, EDCS_unique])\n",
    "LIST_autotypes.head()"
   ],
   "metadata": {
    "collapsed": false,
    "ExecuteTime": {
     "start_time": "2023-04-27T09:23:51.121681Z",
     "end_time": "2023-04-27T09:23:53.739163Z"
    }
   }
  },
  {
   "cell_type": "code",
   "execution_count": 29,
   "outputs": [],
   "source": [
    "LIST_autotypes.drop([\"bigrams\", \"status_list\"], axis=1, inplace=True)"
   ],
   "metadata": {
    "collapsed": false,
    "ExecuteTime": {
     "start_time": "2023-04-27T09:23:53.927187Z",
     "end_time": "2023-04-27T09:23:54.108767Z"
    }
   }
  },
  {
   "cell_type": "code",
   "execution_count": 30,
   "outputs": [
    {
     "data": {
      "text/plain": "(525870, 66)"
     },
     "execution_count": 30,
     "metadata": {},
     "output_type": "execute_result"
    }
   ],
   "source": [
    "LIST_autotypes.shape"
   ],
   "metadata": {
    "collapsed": false,
    "ExecuteTime": {
     "start_time": "2023-04-27T09:23:54.109053Z",
     "end_time": "2023-04-27T09:23:54.112012Z"
    }
   }
  },
  {
   "cell_type": "code",
   "execution_count": 31,
   "outputs": [
    {
     "data": {
      "text/plain": "        LIST-ID        EDCS-ID    EDH-ID  \\\n445463   445464  EDCS-24900077  HD056163   \n445464   445465  EDCS-03700724  HD052964   \n445465   445466  EDCS-13800065  HD017714   \n445466   445467  EDCS-03300852  HD051000   \n445467   445468  EDCS-28500283  HD021396   \n\n                                trismegistos_uri pleiades_id  \\\n445463  https://www.trismegistos.org/text/177366      570485   \n445464  https://www.trismegistos.org/text/121715      531064   \n445465  https://www.trismegistos.org/text/177100      570049   \n445466  https://www.trismegistos.org/text/177273      240855   \n445467  https://www.trismegistos.org/text/177131               \n\n                                            transcription  \\\n445463  Q(uinto) Caecilio C(ai) f(ilio) Metelo / imper...   \n445464  Fortissimo et piis/simo Caesari d(omino) n(ost...   \n445465  Italicei / quei Aegei negotiantur / P(ublium) ...   \n445466  [Imp(eratori) Caes(ari) M(arco)] / An[nio] Flo...   \n445467  T[i(berius)] Claudius Caesar Aug(ustus) / G[er...   \n\n                                              inscription  \\\n445463  Q(uinto) Caecilio C(ai) f(ilio) Metel(l)o / im...   \n445464  Fortissimo et Piis/simo Caesari d(omino) n(ost...   \n445465  Italicei / quei Aegei negotiantur / P(ublium) ...   \n445466  Imp(eratori) / Floriano / P(io) F(elici) Aug(u...   \n445467  T[(iberius)] Claudius Caesar Aug(ustus) / G[er...   \n\n                                  clean_text_conservative  \\\n445463  Q Caecilio C f Metelo imperatori Italici quei ...   \n445464  Fortissimo et piissimo Caesari d n Gal Val P F...   \n445465  Italicei quei Aegei negotiantur P Rutilium P f...   \n445466  An Floriano P F Aug p p m p III Imp Caes M Aur...   \n445467  T Claudius Caesar Aug Ganicus pontif max trib ...   \n\n                         clean_text_interpretive_sentence  \\\n445463  Quinto Caecilio Cai filio Metelo imperatori It...   \n445464  Fortissimo et piissimo Caesari domino nostro G...   \n445465  Italicei quei Aegei negotiantur Publium Rutili...   \n445466  Imperatori Caesari Marco Annio Floriano Pio Fe...   \n445467  Tiberius Claudius Caesar Augustus Germanicus p...   \n\n                             clean_text_interpretive_word  \\\n445463  Quinto Caecilio Cai filio Metelo imperatori It...   \n445464  Fortissimo et piissimo Caesari domino nostro G...   \n445465  Italicei quei Aegei negotiantur Publium Rutili...   \n445466  Imperatori Caesari Marco Annio Floriano Pio Fe...   \n445467  Tiberius Claudius Caesar Augustus Germanicus p...   \n\n                        clean_text_interpretive_word_EDCS  \\\n445463  Quinto Caecilio Cai filio Metello imperatori I...   \n445464  Fortissimo et Piissimo Caesari domino nostro G...   \n445465  Italicei quei Aegei negotiantur Publium Rutili...   \n445466  Imperatori Floriano Pio Felici Augusto patri p...   \n445467  Tiberius Claudius Caesar Augustus Germanicus p...   \n\n                                          diplomatic_text province  \\\n445463  Q CAECILIO C F METELO / IMPERATORI ITALICI / Q...   Achaia   \n445464  FORTISSIMO ET PIIS / SIMO CAESARI D N / GAL VA...   Achaia   \n445465  ITALICEI / QVEI AEGEI NEGOTIANTVR / P RVTILIVM...   Achaia   \n445466  [ ] / AN[ ] FLORIANO / P F AVG / P P / M P III...   Achaia   \n445467  T[ ] CLAVDIVS CAESAR AVG / G[ ]ANICVS PONTIF M...   Achaia   \n\n                                 place        inscr_type  \\\n445463   Agia Triada / Merbaka / Midea  tituli honorarii   \n445464      Agios Athanasios / Photike  tituli honorarii   \n445465  Aigio / Egio / Aiyion / Aegeum  tituli honorarii   \n445466                    Alea / Tegea          miliaria   \n445467                    Alea / Tegea             leges   \n\n                                          status_notation    inscr_process  \\\n445463  officium/professio, ordo senatorius, tria nomi...             None   \n445464       Augusti/Augustae, ordo equester, tria nomina  litterae erasae   \n445465  officium/professio, ordo senatorius, tria nomi...             None   \n445466                             Augusti/Augustae, viri             None   \n445467                             Augusti/Augustae, viri             None   \n\n                                                   status  \\\n445463  officium/professio;  ordo senatorius;  tituli ...   \n445464  Augusti/Augustae;  litterae erasae;  ordo eque...   \n445465  officium/professio;  ordo senatorius;  tituli ...   \n445466                 Augusti/Augustae;  miliaria;  viri   \n445467                    Augusti/Augustae;  leges;  viri   \n\n                                             partner_link last_update  \\\n445463  http://db.edcs.eu/epigr/partner.php?s_language...  2011-11-11   \n445464  http://db.edcs.eu/epigr/partner.php?s_language...  2014-09-16   \n445465  http://db.edcs.eu/epigr/partner.php?s_language...  2011-03-29   \n445466  http://db.edcs.eu/epigr/partner.php?s_language...  2011-05-24   \n445467  http://db.edcs.eu/epigr/partner.php?s_language...  2011-05-10   \n\n       letter_size       type_of_inscription         work_status  \\\n445463        None     honorific inscription            no image   \n445464    3-5.3 cm     honorific inscription  checked with photo   \n445465  3.5-3.7 cm        votive inscription  checked with photo   \n445466    3.3-6 cm         mile-/leaguestone  checked with photo   \n445467        None  public legal inscription  checked with photo   \n\n        year_of_find present_location  \\\n445463           NaN             None   \n445464           NaN    Fragma Kalama   \n445465           NaN             None   \n445466           NaN      Tegea, Mus.   \n445467           NaN             None   \n\n                                             text_edition support_objecttype  \\\n445463  \\n Quinto Caecilio Cai filio Metelo imperatori...               None   \n445464  \\n Fortissimo et piissimo Caesari domino nostr...                 57   \n445465  \\n Italicei quei Aegei negotiantur Publium Rut...                257   \n445466  \\n Imperatori Caesari Marco Annio Floriano Pio...                 89   \n445467  \\n Tiberius Claudius Caesar Augustus Germanicu...                257   \n\n       support_material support_decoration keywords_term  \\\n445463             None               1000            69   \n445464             None               1000            69   \n445465             None               1000           372   \n445466             None               1000          None   \n445467             None               1000             5   \n\n                                                   people  \\\n445463                                                 []   \n445464  [{'persname': {'name': [{'@type': 'nomen', '#t...   \n445465                                                 []   \n445466  [{'persname': {'name': [{'@type': 'praenomen',...   \n445467                                                 []   \n\n       type_of_inscription_clean  type_of_inscription_certainty  height_cm  \\\n445463     honorific inscription                          False        NaN   \n445464     honorific inscription                          False       99.0   \n445465        votive inscription                          False       58.0   \n445466         mile-/leaguestone                          False       44.0   \n445467  public legal inscription                          False      160.0   \n\n        width_cm  depth_cm material_clean type_of_monument_clean  \\\n445463       NaN       NaN           NULL                   NULL   \n445464      67.0      67.0           NULL            statue base   \n445465      61.0      16.0           NULL                 tabula   \n445466      24.0       NaN           NULL      mile-/leaguestone   \n445467      58.0      17.0           NULL                 tabula   \n\n        type_of_monument_certainty province_label_clean  \\\n445463                       False               Achaia   \n445464                       False               Epirus   \n445465                       False               Achaia   \n445466                       False               Achaia   \n445467                       False               Achaia   \n\n        province_label_certainty country_clean  country_certainty  \\\n445463                     False        Greece              False   \n445464                     False        Greece              False   \n445465                     False        Greece              False   \n445466                     False        Greece              False   \n445467                     False        Greece              False   \n\n       findspot_ancient_clean  findspot_ancient_certainty modern_region_clean  \\\n445463                  Midea                       False        Pelopónissos   \n445464                Photike                       False             Ípeiros   \n445465                 Aegeum                       False       Dytikí Elláda   \n445466                  Tegea                       False        Pelopónissos   \n445467                  Tegea                       False        Pelopónissos   \n\n        modern_region_certainty findspot_modern_clean  \\\n445463                    False                Midhéa   \n445464                    False            Paramythía   \n445465                    False                Aígion   \n445466                    False                  Alea   \n445467                    False                  Alea   \n\n        findspot_modern_certainty      findspot_clean  findspot_certainty  \\\n445463                      False                NULL               False   \n445464                      False  {Agios Athanasios}               False   \n445465                      False                NULL               False   \n445466                      False        Stringu, bei               False   \n445467                      False                NULL               False   \n\n       language language_EDCS                        raw_dating  not_after  \\\n445463        L          None                        -68 to -68      -68.0   \n445464        L          None                        309 to 313      313.0   \n445465        L          None                        -74 to -74      -74.0   \n445466        L          None  a:  276 to 276;   b:  276 to 282      282.0   \n445467        L          None                          49 to 50       50.0   \n\n        not_before  Longitude   Latitude  geotemporal?               geometry  \\\n445463       -68.0  22.841200  37.649800          True  POINT (22.841 37.650)   \n445464       309.0  20.766800  39.451200          True  POINT (20.767 39.451)   \n445465       -74.0  22.084500  38.248700          True  POINT (22.084 38.249)   \n445466       276.0  22.417100  37.431900          True  POINT (22.417 37.432)   \n445467        49.0  22.420877  37.454501          True  POINT (22.421 37.455)   \n\n        withinRE? urban_context urban_context_city  urban_context_pop_est  \\\n445463       True         rural               None                    NaN   \n445464       True         rural               None                    NaN   \n445465       True         small             Aegium                 1000.0   \n445466       True         large              Tegea                46362.0   \n445467       True         large              Tegea                46362.0   \n\n        type_of_inscription_auto  type_of_inscription_auto_prob  \n445463     honorific inscription                            1.0  \n445464     honorific inscription                            1.0  \n445465        votive inscription                            1.0  \n445466         mile-/leaguestone                            1.0  \n445467  public legal inscription                            1.0  ",
      "text/html": "<div>\n<style scoped>\n    .dataframe tbody tr th:only-of-type {\n        vertical-align: middle;\n    }\n\n    .dataframe tbody tr th {\n        vertical-align: top;\n    }\n\n    .dataframe thead th {\n        text-align: right;\n    }\n</style>\n<table border=\"1\" class=\"dataframe\">\n  <thead>\n    <tr style=\"text-align: right;\">\n      <th></th>\n      <th>LIST-ID</th>\n      <th>EDCS-ID</th>\n      <th>EDH-ID</th>\n      <th>trismegistos_uri</th>\n      <th>pleiades_id</th>\n      <th>transcription</th>\n      <th>inscription</th>\n      <th>clean_text_conservative</th>\n      <th>clean_text_interpretive_sentence</th>\n      <th>clean_text_interpretive_word</th>\n      <th>clean_text_interpretive_word_EDCS</th>\n      <th>diplomatic_text</th>\n      <th>province</th>\n      <th>place</th>\n      <th>inscr_type</th>\n      <th>status_notation</th>\n      <th>inscr_process</th>\n      <th>status</th>\n      <th>partner_link</th>\n      <th>last_update</th>\n      <th>letter_size</th>\n      <th>type_of_inscription</th>\n      <th>work_status</th>\n      <th>year_of_find</th>\n      <th>present_location</th>\n      <th>text_edition</th>\n      <th>support_objecttype</th>\n      <th>support_material</th>\n      <th>support_decoration</th>\n      <th>keywords_term</th>\n      <th>people</th>\n      <th>type_of_inscription_clean</th>\n      <th>type_of_inscription_certainty</th>\n      <th>height_cm</th>\n      <th>width_cm</th>\n      <th>depth_cm</th>\n      <th>material_clean</th>\n      <th>type_of_monument_clean</th>\n      <th>type_of_monument_certainty</th>\n      <th>province_label_clean</th>\n      <th>province_label_certainty</th>\n      <th>country_clean</th>\n      <th>country_certainty</th>\n      <th>findspot_ancient_clean</th>\n      <th>findspot_ancient_certainty</th>\n      <th>modern_region_clean</th>\n      <th>modern_region_certainty</th>\n      <th>findspot_modern_clean</th>\n      <th>findspot_modern_certainty</th>\n      <th>findspot_clean</th>\n      <th>findspot_certainty</th>\n      <th>language</th>\n      <th>language_EDCS</th>\n      <th>raw_dating</th>\n      <th>not_after</th>\n      <th>not_before</th>\n      <th>Longitude</th>\n      <th>Latitude</th>\n      <th>geotemporal?</th>\n      <th>geometry</th>\n      <th>withinRE?</th>\n      <th>urban_context</th>\n      <th>urban_context_city</th>\n      <th>urban_context_pop_est</th>\n      <th>type_of_inscription_auto</th>\n      <th>type_of_inscription_auto_prob</th>\n    </tr>\n  </thead>\n  <tbody>\n    <tr>\n      <th>445463</th>\n      <td>445464</td>\n      <td>EDCS-24900077</td>\n      <td>HD056163</td>\n      <td>https://www.trismegistos.org/text/177366</td>\n      <td>570485</td>\n      <td>Q(uinto) Caecilio C(ai) f(ilio) Metelo / imper...</td>\n      <td>Q(uinto) Caecilio C(ai) f(ilio) Metel(l)o / im...</td>\n      <td>Q Caecilio C f Metelo imperatori Italici quei ...</td>\n      <td>Quinto Caecilio Cai filio Metelo imperatori It...</td>\n      <td>Quinto Caecilio Cai filio Metelo imperatori It...</td>\n      <td>Quinto Caecilio Cai filio Metello imperatori I...</td>\n      <td>Q CAECILIO C F METELO / IMPERATORI ITALICI / Q...</td>\n      <td>Achaia</td>\n      <td>Agia Triada / Merbaka / Midea</td>\n      <td>tituli honorarii</td>\n      <td>officium/professio, ordo senatorius, tria nomi...</td>\n      <td>None</td>\n      <td>officium/professio;  ordo senatorius;  tituli ...</td>\n      <td>http://db.edcs.eu/epigr/partner.php?s_language...</td>\n      <td>2011-11-11</td>\n      <td>None</td>\n      <td>honorific inscription</td>\n      <td>no image</td>\n      <td>NaN</td>\n      <td>None</td>\n      <td>\\n Quinto Caecilio Cai filio Metelo imperatori...</td>\n      <td>None</td>\n      <td>None</td>\n      <td>1000</td>\n      <td>69</td>\n      <td>[]</td>\n      <td>honorific inscription</td>\n      <td>False</td>\n      <td>NaN</td>\n      <td>NaN</td>\n      <td>NaN</td>\n      <td>NULL</td>\n      <td>NULL</td>\n      <td>False</td>\n      <td>Achaia</td>\n      <td>False</td>\n      <td>Greece</td>\n      <td>False</td>\n      <td>Midea</td>\n      <td>False</td>\n      <td>Pelopónissos</td>\n      <td>False</td>\n      <td>Midhéa</td>\n      <td>False</td>\n      <td>NULL</td>\n      <td>False</td>\n      <td>L</td>\n      <td>None</td>\n      <td>-68 to -68</td>\n      <td>-68.0</td>\n      <td>-68.0</td>\n      <td>22.841200</td>\n      <td>37.649800</td>\n      <td>True</td>\n      <td>POINT (22.841 37.650)</td>\n      <td>True</td>\n      <td>rural</td>\n      <td>None</td>\n      <td>NaN</td>\n      <td>honorific inscription</td>\n      <td>1.0</td>\n    </tr>\n    <tr>\n      <th>445464</th>\n      <td>445465</td>\n      <td>EDCS-03700724</td>\n      <td>HD052964</td>\n      <td>https://www.trismegistos.org/text/121715</td>\n      <td>531064</td>\n      <td>Fortissimo et piis/simo Caesari d(omino) n(ost...</td>\n      <td>Fortissimo et Piis/simo Caesari d(omino) n(ost...</td>\n      <td>Fortissimo et piissimo Caesari d n Gal Val P F...</td>\n      <td>Fortissimo et piissimo Caesari domino nostro G...</td>\n      <td>Fortissimo et piissimo Caesari domino nostro G...</td>\n      <td>Fortissimo et Piissimo Caesari domino nostro G...</td>\n      <td>FORTISSIMO ET PIIS / SIMO CAESARI D N / GAL VA...</td>\n      <td>Achaia</td>\n      <td>Agios Athanasios / Photike</td>\n      <td>tituli honorarii</td>\n      <td>Augusti/Augustae, ordo equester, tria nomina</td>\n      <td>litterae erasae</td>\n      <td>Augusti/Augustae;  litterae erasae;  ordo eque...</td>\n      <td>http://db.edcs.eu/epigr/partner.php?s_language...</td>\n      <td>2014-09-16</td>\n      <td>3-5.3 cm</td>\n      <td>honorific inscription</td>\n      <td>checked with photo</td>\n      <td>NaN</td>\n      <td>Fragma Kalama</td>\n      <td>\\n Fortissimo et piissimo Caesari domino nostr...</td>\n      <td>57</td>\n      <td>None</td>\n      <td>1000</td>\n      <td>69</td>\n      <td>[{'persname': {'name': [{'@type': 'nomen', '#t...</td>\n      <td>honorific inscription</td>\n      <td>False</td>\n      <td>99.0</td>\n      <td>67.0</td>\n      <td>67.0</td>\n      <td>NULL</td>\n      <td>statue base</td>\n      <td>False</td>\n      <td>Epirus</td>\n      <td>False</td>\n      <td>Greece</td>\n      <td>False</td>\n      <td>Photike</td>\n      <td>False</td>\n      <td>Ípeiros</td>\n      <td>False</td>\n      <td>Paramythía</td>\n      <td>False</td>\n      <td>{Agios Athanasios}</td>\n      <td>False</td>\n      <td>L</td>\n      <td>None</td>\n      <td>309 to 313</td>\n      <td>313.0</td>\n      <td>309.0</td>\n      <td>20.766800</td>\n      <td>39.451200</td>\n      <td>True</td>\n      <td>POINT (20.767 39.451)</td>\n      <td>True</td>\n      <td>rural</td>\n      <td>None</td>\n      <td>NaN</td>\n      <td>honorific inscription</td>\n      <td>1.0</td>\n    </tr>\n    <tr>\n      <th>445465</th>\n      <td>445466</td>\n      <td>EDCS-13800065</td>\n      <td>HD017714</td>\n      <td>https://www.trismegistos.org/text/177100</td>\n      <td>570049</td>\n      <td>Italicei / quei Aegei negotiantur / P(ublium) ...</td>\n      <td>Italicei / quei Aegei negotiantur / P(ublium) ...</td>\n      <td>Italicei quei Aegei negotiantur P Rutilium P f...</td>\n      <td>Italicei quei Aegei negotiantur Publium Rutili...</td>\n      <td>Italicei quei Aegei negotiantur Publium Rutili...</td>\n      <td>Italicei quei Aegei negotiantur Publium Rutili...</td>\n      <td>ITALICEI / QVEI AEGEI NEGOTIANTVR / P RVTILIVM...</td>\n      <td>Achaia</td>\n      <td>Aigio / Egio / Aiyion / Aegeum</td>\n      <td>tituli honorarii</td>\n      <td>officium/professio, ordo senatorius, tria nomi...</td>\n      <td>None</td>\n      <td>officium/professio;  ordo senatorius;  tituli ...</td>\n      <td>http://db.edcs.eu/epigr/partner.php?s_language...</td>\n      <td>2011-03-29</td>\n      <td>3.5-3.7 cm</td>\n      <td>votive inscription</td>\n      <td>checked with photo</td>\n      <td>NaN</td>\n      <td>None</td>\n      <td>\\n Italicei quei Aegei negotiantur Publium Rut...</td>\n      <td>257</td>\n      <td>None</td>\n      <td>1000</td>\n      <td>372</td>\n      <td>[]</td>\n      <td>votive inscription</td>\n      <td>False</td>\n      <td>58.0</td>\n      <td>61.0</td>\n      <td>16.0</td>\n      <td>NULL</td>\n      <td>tabula</td>\n      <td>False</td>\n      <td>Achaia</td>\n      <td>False</td>\n      <td>Greece</td>\n      <td>False</td>\n      <td>Aegeum</td>\n      <td>False</td>\n      <td>Dytikí Elláda</td>\n      <td>False</td>\n      <td>Aígion</td>\n      <td>False</td>\n      <td>NULL</td>\n      <td>False</td>\n      <td>L</td>\n      <td>None</td>\n      <td>-74 to -74</td>\n      <td>-74.0</td>\n      <td>-74.0</td>\n      <td>22.084500</td>\n      <td>38.248700</td>\n      <td>True</td>\n      <td>POINT (22.084 38.249)</td>\n      <td>True</td>\n      <td>small</td>\n      <td>Aegium</td>\n      <td>1000.0</td>\n      <td>votive inscription</td>\n      <td>1.0</td>\n    </tr>\n    <tr>\n      <th>445466</th>\n      <td>445467</td>\n      <td>EDCS-03300852</td>\n      <td>HD051000</td>\n      <td>https://www.trismegistos.org/text/177273</td>\n      <td>240855</td>\n      <td>[Imp(eratori) Caes(ari) M(arco)] / An[nio] Flo...</td>\n      <td>Imp(eratori) / Floriano / P(io) F(elici) Aug(u...</td>\n      <td>An Floriano P F Aug p p m p III Imp Caes M Aur...</td>\n      <td>Imperatori Caesari Marco Annio Floriano Pio Fe...</td>\n      <td>Imperatori Caesari Marco Annio Floriano Pio Fe...</td>\n      <td>Imperatori Floriano Pio Felici Augusto patri p...</td>\n      <td>[ ] / AN[ ] FLORIANO / P F AVG / P P / M P III...</td>\n      <td>Achaia</td>\n      <td>Alea / Tegea</td>\n      <td>miliaria</td>\n      <td>Augusti/Augustae, viri</td>\n      <td>None</td>\n      <td>Augusti/Augustae;  miliaria;  viri</td>\n      <td>http://db.edcs.eu/epigr/partner.php?s_language...</td>\n      <td>2011-05-24</td>\n      <td>3.3-6 cm</td>\n      <td>mile-/leaguestone</td>\n      <td>checked with photo</td>\n      <td>NaN</td>\n      <td>Tegea, Mus.</td>\n      <td>\\n Imperatori Caesari Marco Annio Floriano Pio...</td>\n      <td>89</td>\n      <td>None</td>\n      <td>1000</td>\n      <td>None</td>\n      <td>[{'persname': {'name': [{'@type': 'praenomen',...</td>\n      <td>mile-/leaguestone</td>\n      <td>False</td>\n      <td>44.0</td>\n      <td>24.0</td>\n      <td>NaN</td>\n      <td>NULL</td>\n      <td>mile-/leaguestone</td>\n      <td>False</td>\n      <td>Achaia</td>\n      <td>False</td>\n      <td>Greece</td>\n      <td>False</td>\n      <td>Tegea</td>\n      <td>False</td>\n      <td>Pelopónissos</td>\n      <td>False</td>\n      <td>Alea</td>\n      <td>False</td>\n      <td>Stringu, bei</td>\n      <td>False</td>\n      <td>L</td>\n      <td>None</td>\n      <td>a:  276 to 276;   b:  276 to 282</td>\n      <td>282.0</td>\n      <td>276.0</td>\n      <td>22.417100</td>\n      <td>37.431900</td>\n      <td>True</td>\n      <td>POINT (22.417 37.432)</td>\n      <td>True</td>\n      <td>large</td>\n      <td>Tegea</td>\n      <td>46362.0</td>\n      <td>mile-/leaguestone</td>\n      <td>1.0</td>\n    </tr>\n    <tr>\n      <th>445467</th>\n      <td>445468</td>\n      <td>EDCS-28500283</td>\n      <td>HD021396</td>\n      <td>https://www.trismegistos.org/text/177131</td>\n      <td></td>\n      <td>T[i(berius)] Claudius Caesar Aug(ustus) / G[er...</td>\n      <td>T[(iberius)] Claudius Caesar Aug(ustus) / G[er...</td>\n      <td>T Claudius Caesar Aug Ganicus pontif max trib ...</td>\n      <td>Tiberius Claudius Caesar Augustus Germanicus p...</td>\n      <td>Tiberius Claudius Caesar Augustus Germanicus p...</td>\n      <td>Tiberius Claudius Caesar Augustus Germanicus p...</td>\n      <td>T[ ] CLAVDIVS CAESAR AVG / G[ ]ANICVS PONTIF M...</td>\n      <td>Achaia</td>\n      <td>Alea / Tegea</td>\n      <td>leges</td>\n      <td>Augusti/Augustae, viri</td>\n      <td>None</td>\n      <td>Augusti/Augustae;  leges;  viri</td>\n      <td>http://db.edcs.eu/epigr/partner.php?s_language...</td>\n      <td>2011-05-10</td>\n      <td>None</td>\n      <td>public legal inscription</td>\n      <td>checked with photo</td>\n      <td>NaN</td>\n      <td>None</td>\n      <td>\\n Tiberius Claudius Caesar Augustus Germanicu...</td>\n      <td>257</td>\n      <td>None</td>\n      <td>1000</td>\n      <td>5</td>\n      <td>[]</td>\n      <td>public legal inscription</td>\n      <td>False</td>\n      <td>160.0</td>\n      <td>58.0</td>\n      <td>17.0</td>\n      <td>NULL</td>\n      <td>tabula</td>\n      <td>False</td>\n      <td>Achaia</td>\n      <td>False</td>\n      <td>Greece</td>\n      <td>False</td>\n      <td>Tegea</td>\n      <td>False</td>\n      <td>Pelopónissos</td>\n      <td>False</td>\n      <td>Alea</td>\n      <td>False</td>\n      <td>NULL</td>\n      <td>False</td>\n      <td>L</td>\n      <td>None</td>\n      <td>49 to 50</td>\n      <td>50.0</td>\n      <td>49.0</td>\n      <td>22.420877</td>\n      <td>37.454501</td>\n      <td>True</td>\n      <td>POINT (22.421 37.455)</td>\n      <td>True</td>\n      <td>large</td>\n      <td>Tegea</td>\n      <td>46362.0</td>\n      <td>public legal inscription</td>\n      <td>1.0</td>\n    </tr>\n  </tbody>\n</table>\n</div>"
     },
     "execution_count": 31,
     "metadata": {},
     "output_type": "execute_result"
    }
   ],
   "source": [
    "LIST_autotypes.head(5)"
   ],
   "metadata": {
    "collapsed": false,
    "ExecuteTime": {
     "start_time": "2023-04-27T09:23:57.683423Z",
     "end_time": "2023-04-27T09:23:57.720224Z"
    }
   }
  },
  {
   "cell_type": "code",
   "execution_count": 32,
   "outputs": [
    {
     "data": {
      "text/plain": "472734"
     },
     "execution_count": 32,
     "metadata": {},
     "output_type": "execute_result"
    }
   ],
   "source": [
    "len(LIST_autotypes[LIST_autotypes[\"type_of_inscription_auto_prob\"]>=0.6])"
   ],
   "metadata": {
    "collapsed": false,
    "ExecuteTime": {
     "start_time": "2023-04-27T09:23:58.600128Z",
     "end_time": "2023-04-27T09:23:59.236521Z"
    }
   }
  },
  {
   "cell_type": "code",
   "execution_count": 33,
   "outputs": [
    {
     "data": {
      "text/plain": "20388"
     },
     "execution_count": 33,
     "metadata": {},
     "output_type": "execute_result"
    }
   ],
   "source": [
    "len(LIST_autotypes[LIST_autotypes[\"type_of_inscription_auto\"]==\"NULL\"])"
   ],
   "metadata": {
    "collapsed": false,
    "ExecuteTime": {
     "start_time": "2023-04-27T09:24:04.224078Z",
     "end_time": "2023-04-27T09:24:04.248561Z"
    }
   }
  },
  {
   "cell_type": "code",
   "execution_count": 34,
   "outputs": [],
   "source": [
    "def apply_threshold(inscr_type, prob):\n",
    "    if (prob < 0.6) or (inscr_type == \"NULL\"):\n",
    "        return None\n",
    "    else:\n",
    "        return inscr_type\n",
    "LIST_autotypes[\"type_of_inscription_auto\"] =  LIST_autotypes.apply(lambda row: apply_threshold(row[\"type_of_inscription_auto\"], row[\"type_of_inscription_auto_prob\"]), axis=1)"
   ],
   "metadata": {
    "collapsed": false,
    "ExecuteTime": {
     "start_time": "2023-04-27T09:24:06.900142Z",
     "end_time": "2023-04-27T09:24:09.869353Z"
    }
   }
  },
  {
   "cell_type": "code",
   "execution_count": 35,
   "outputs": [],
   "source": [
    "def prob_to_zero(inscr_type, prob):\n",
    "    if inscr_type == None:\n",
    "        return 0\n",
    "    else:\n",
    "        return prob\n",
    "LIST_autotypes[\"type_of_inscription_auto_prob\"] =  LIST_autotypes.apply(lambda row: prob_to_zero(row[\"type_of_inscription_auto\"], row[\"type_of_inscription_auto_prob\"]), axis=1)"
   ],
   "metadata": {
    "collapsed": false,
    "ExecuteTime": {
     "start_time": "2023-04-27T09:24:09.869925Z",
     "end_time": "2023-04-27T09:24:12.780049Z"
    }
   }
  },
  {
   "cell_type": "code",
   "execution_count": 36,
   "outputs": [
    {
     "data": {
      "text/plain": "451839"
     },
     "execution_count": 36,
     "metadata": {},
     "output_type": "execute_result"
    }
   ],
   "source": [
    "len(LIST_autotypes[LIST_autotypes[\"type_of_inscription_auto\"].notnull()])"
   ],
   "metadata": {
    "collapsed": false,
    "ExecuteTime": {
     "start_time": "2023-04-27T09:24:12.790643Z",
     "end_time": "2023-04-27T09:24:13.063164Z"
    }
   }
  },
  {
   "cell_type": "markdown",
   "source": [
    "# Save"
   ],
   "metadata": {
    "collapsed": false
   }
  },
  {
   "cell_type": "code",
   "execution_count": 37,
   "outputs": [],
   "source": [
    "LIST_autotypes.to_parquet(\"../data/large_data/LIST_v0-4.parquet\")"
   ],
   "metadata": {
    "collapsed": false,
    "ExecuteTime": {
     "start_time": "2023-04-27T09:24:26.169266Z",
     "end_time": "2023-04-27T09:24:32.935816Z"
    }
   }
  },
  {
   "cell_type": "code",
   "execution_count": 38,
   "outputs": [],
   "source": [
    "LIST_autotypes.to_file(\"../data/large_data/LIST_v0-4.geojson\", driver=\"GeoJSON\")"
   ],
   "metadata": {
    "collapsed": false,
    "ExecuteTime": {
     "start_time": "2023-04-27T09:25:28.371846Z",
     "end_time": "2023-04-27T09:28:10.452356Z"
    }
   }
  },
  {
   "cell_type": "code",
   "execution_count": null,
   "outputs": [],
   "source": [],
   "metadata": {
    "collapsed": false
   }
  }
 ],
 "metadata": {
  "kernelspec": {
   "name": "lire_venv",
   "language": "python",
   "display_name": "lire_venv"
  },
  "language_info": {
   "codemirror_mode": {
    "name": "ipython",
    "version": 2
   },
   "file_extension": ".py",
   "mimetype": "text/x-python",
   "name": "python",
   "nbconvert_exporter": "python",
   "pygments_lexer": "ipython2",
   "version": "2.7.6"
  }
 },
 "nbformat": 4,
 "nbformat_minor": 0
}
