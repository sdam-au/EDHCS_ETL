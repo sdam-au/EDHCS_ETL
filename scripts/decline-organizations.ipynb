{
 "cells": [
  {
   "cell_type": "code",
   "execution_count": 5,
   "metadata": {},
   "outputs": [
    {
     "name": "stdout",
     "output_type": "stream",
     "text": [
      "Requirement already satisfied: nltk in /opt/conda/lib/python3.7/site-packages (3.5)\n",
      "Requirement already satisfied: sddk in /opt/conda/lib/python3.7/site-packages (2.8.2)\n",
      "Requirement already satisfied: gspread in /opt/conda/lib/python3.7/site-packages (3.7.0)\n",
      "Requirement already satisfied: gspread_dataframe in /opt/conda/lib/python3.7/site-packages (3.2.1)\n",
      "Collecting kaleido\n",
      "  Downloading kaleido-0.1.0-py2.py3-none-manylinux1_x86_64.whl (74.6 MB)\n",
      "\u001b[K     |████████████████████████████████| 74.6 MB 106 kB/s eta 0:00:01\n",
      "\u001b[?25hRequirement already satisfied: joblib in /opt/conda/lib/python3.7/site-packages (from nltk) (0.16.0)\n",
      "Requirement already satisfied: click in /opt/conda/lib/python3.7/site-packages (from nltk) (7.1.2)\n",
      "Requirement already satisfied: tqdm in /opt/conda/lib/python3.7/site-packages (from nltk) (4.48.2)\n",
      "Requirement already satisfied: regex in /opt/conda/lib/python3.7/site-packages (from nltk) (2020.7.14)\n",
      "Requirement already satisfied: numpy in /opt/conda/lib/python3.7/site-packages (from sddk) (1.19.1)\n",
      "Requirement already satisfied: beautifulsoup4 in /opt/conda/lib/python3.7/site-packages (from sddk) (4.9.1)\n",
      "Requirement already satisfied: pyarrow in /opt/conda/lib/python3.7/site-packages (from sddk) (1.0.1)\n",
      "Requirement already satisfied: matplotlib in /opt/conda/lib/python3.7/site-packages (from sddk) (3.2.2)\n",
      "Requirement already satisfied: pandas in /opt/conda/lib/python3.7/site-packages (from sddk) (1.1.1)\n",
      "Requirement already satisfied: requests in /opt/conda/lib/python3.7/site-packages (from sddk) (2.24.0)\n",
      "Requirement already satisfied: google-auth-oauthlib>=0.4.1 in /opt/conda/lib/python3.7/site-packages (from gspread) (0.4.1)\n",
      "Requirement already satisfied: google-auth>=1.12.0 in /opt/conda/lib/python3.7/site-packages (from gspread) (1.21.0)\n",
      "Requirement already satisfied: six>=1.12.0 in /opt/conda/lib/python3.7/site-packages (from gspread_dataframe) (1.15.0)\n",
      "Requirement already satisfied: soupsieve>1.2 in /opt/conda/lib/python3.7/site-packages (from beautifulsoup4->sddk) (2.0.1)\n",
      "Requirement already satisfied: python-dateutil>=2.1 in /opt/conda/lib/python3.7/site-packages (from matplotlib->sddk) (2.8.1)\n",
      "Requirement already satisfied: cycler>=0.10 in /opt/conda/lib/python3.7/site-packages (from matplotlib->sddk) (0.10.0)\n",
      "Requirement already satisfied: pyparsing!=2.0.4,!=2.1.2,!=2.1.6,>=2.0.1 in /opt/conda/lib/python3.7/site-packages (from matplotlib->sddk) (2.4.7)\n",
      "Requirement already satisfied: kiwisolver>=1.0.1 in /opt/conda/lib/python3.7/site-packages (from matplotlib->sddk) (1.2.0)\n",
      "Requirement already satisfied: pytz>=2017.2 in /opt/conda/lib/python3.7/site-packages (from pandas->sddk) (2020.1)\n",
      "Requirement already satisfied: chardet<4,>=3.0.2 in /opt/conda/lib/python3.7/site-packages (from requests->sddk) (3.0.4)\n",
      "Requirement already satisfied: certifi>=2017.4.17 in /opt/conda/lib/python3.7/site-packages (from requests->sddk) (2020.6.20)\n",
      "Requirement already satisfied: urllib3!=1.25.0,!=1.25.1,<1.26,>=1.21.1 in /opt/conda/lib/python3.7/site-packages (from requests->sddk) (1.25.10)\n",
      "Requirement already satisfied: idna<3,>=2.5 in /opt/conda/lib/python3.7/site-packages (from requests->sddk) (2.10)\n",
      "Requirement already satisfied: requests-oauthlib>=0.7.0 in /opt/conda/lib/python3.7/site-packages (from google-auth-oauthlib>=0.4.1->gspread) (1.3.0)\n",
      "Requirement already satisfied: setuptools>=40.3.0 in /opt/conda/lib/python3.7/site-packages (from google-auth>=1.12.0->gspread) (49.6.0.post20200814)\n",
      "Requirement already satisfied: pyasn1-modules>=0.2.1 in /opt/conda/lib/python3.7/site-packages (from google-auth>=1.12.0->gspread) (0.2.8)\n",
      "Requirement already satisfied: cachetools<5.0,>=2.0.0 in /opt/conda/lib/python3.7/site-packages (from google-auth>=1.12.0->gspread) (4.1.1)\n",
      "Requirement already satisfied: rsa<5,>=3.1.4; python_version >= \"3.5\" in /opt/conda/lib/python3.7/site-packages (from google-auth>=1.12.0->gspread) (4.6)\n",
      "Requirement already satisfied: oauthlib>=3.0.0 in /opt/conda/lib/python3.7/site-packages (from requests-oauthlib>=0.7.0->google-auth-oauthlib>=0.4.1->gspread) (3.0.1)\n",
      "Requirement already satisfied: pyasn1<0.5.0,>=0.4.6 in /opt/conda/lib/python3.7/site-packages (from pyasn1-modules>=0.2.1->google-auth>=1.12.0->gspread) (0.4.8)\n",
      "Installing collected packages: kaleido\n",
      "Successfully installed kaleido-0.1.0\n"
     ]
    }
   ],
   "source": [
    "!pip install nltk sddk gspread gspread_dataframe kaleido\n",
    "\n",
    "# REQUIREMNTS\n",
    "import pandas as pd\n",
    "import nltk\n",
    "import requests\n",
    "import re\n",
    "import json\n",
    "\n",
    "import gspread\n",
    "from gspread_dataframe import get_as_dataframe, set_with_dataframe\n",
    "from google.oauth2 import service_account # based on google-auth library\n",
    "\n",
    "import sddk"
   ]
  },
  {
   "cell_type": "code",
   "execution_count": 10,
   "metadata": {},
   "outputs": [
    {
     "name": "stdout",
     "output_type": "stream",
     "text": [
      "sciencedata.dk username (format '123456@au.dk'): 648560@au.dk\n",
      "sciencedata.dk password: ········\n",
      "endpoint variable has been configured to: https://sciencedata.dk/files/\n"
     ]
    }
   ],
   "source": [
    "# to access gsheet (from where we read our organization data), you need Google Service Account key json file\n",
    "# I have mine located in my personal space on sciencedata.dk, so I read it from there:\n",
    "conf = sddk.configure()\n",
    "\n",
    "# (1) read the file and parse its content\n",
    "file_data = conf[0].get(conf[1] + \"ServiceAccountsKey.json\").json()\n",
    "# (2) transform the content into crendentials object\n",
    "credentials = service_account.Credentials.from_service_account_info(file_data)\n",
    "# (3) specify your usage of the credentials\n",
    "scoped_credentials = credentials.with_scopes(['https://spreadsheets.google.com/feeds', 'https://www.googleapis.com/auth/drive'])\n",
    "# (4) use the constrained credentials for authentication of gspread package\n",
    "gc = gspread.Client(auth=scoped_credentials)\n",
    "# (5) establish connection with spreadsheets specified by their url\n",
    "organizations = gc.open_by_url(\"https://docs.google.com/spreadsheets/d/1nONTEwp42CVnq3iCiONrFbJedIcYtBV-l4Bil5mU7Eo/edit?usp=sharing\")"
   ]
  },
  {
   "cell_type": "code",
   "execution_count": 29,
   "metadata": {},
   "outputs": [
    {
     "data": {
      "text/html": [
       "<div>\n",
       "<style scoped>\n",
       "    .dataframe tbody tr th:only-of-type {\n",
       "        vertical-align: middle;\n",
       "    }\n",
       "\n",
       "    .dataframe tbody tr th {\n",
       "        vertical-align: top;\n",
       "    }\n",
       "\n",
       "    .dataframe thead th {\n",
       "        text-align: right;\n",
       "    }\n",
       "</style>\n",
       "<table border=\"1\" class=\"dataframe\">\n",
       "  <thead>\n",
       "    <tr style=\"text-align: right;\">\n",
       "      <th></th>\n",
       "      <th>Term</th>\n",
       "      <th>gen_sg</th>\n",
       "      <th>Vocab_nom_sg</th>\n",
       "      <th>Source</th>\n",
       "      <th>Category</th>\n",
       "      <th>Translation_eng_LewisShort</th>\n",
       "    </tr>\n",
       "  </thead>\n",
       "  <tbody>\n",
       "    <tr>\n",
       "      <th>0</th>\n",
       "      <td>colegium</td>\n",
       "      <td>i</td>\n",
       "      <td>colegium</td>\n",
       "      <td>Waltzing</td>\n",
       "      <td>Organization</td>\n",
       "      <td>variant spelling of collegium</td>\n",
       "    </tr>\n",
       "    <tr>\n",
       "      <th>1</th>\n",
       "      <td>collegium</td>\n",
       "      <td>i</td>\n",
       "      <td>collegium</td>\n",
       "      <td>Waltzing</td>\n",
       "      <td>Organization</td>\n",
       "      <td>the connection of associates, colleagues, etc....</td>\n",
       "    </tr>\n",
       "    <tr>\n",
       "      <th>2</th>\n",
       "      <td>collegiatus</td>\n",
       "      <td>i</td>\n",
       "      <td>collegiatus</td>\n",
       "      <td>Waltzing</td>\n",
       "      <td>Membership</td>\n",
       "      <td>he who is with one in a society, college, corp...</td>\n",
       "    </tr>\n",
       "    <tr>\n",
       "      <th>3</th>\n",
       "      <td>collegius</td>\n",
       "      <td>i</td>\n",
       "      <td>collegius</td>\n",
       "      <td>Waltzing</td>\n",
       "      <td>Membership</td>\n",
       "      <td>belonging to collegium</td>\n",
       "    </tr>\n",
       "    <tr>\n",
       "      <th>4</th>\n",
       "      <td>collega</td>\n",
       "      <td>ae</td>\n",
       "      <td>collega</td>\n",
       "      <td>Petra's addition</td>\n",
       "      <td>Membership</td>\n",
       "      <td>member of collegium, a partner in office, a co...</td>\n",
       "    </tr>\n",
       "    <tr>\n",
       "      <th>5</th>\n",
       "      <td>concilium</td>\n",
       "      <td>i</td>\n",
       "      <td>concilium</td>\n",
       "      <td>Waltzing</td>\n",
       "      <td>Organization</td>\n",
       "      <td>a collection of people, an association, gather...</td>\n",
       "    </tr>\n",
       "    <tr>\n",
       "      <th>6</th>\n",
       "      <td>conlegium</td>\n",
       "      <td>i</td>\n",
       "      <td>conlegium</td>\n",
       "      <td>Waltzing</td>\n",
       "      <td>Organization</td>\n",
       "      <td>variant spelling of collegium</td>\n",
       "    </tr>\n",
       "    <tr>\n",
       "      <th>7</th>\n",
       "      <td>collegatarius</td>\n",
       "      <td>i</td>\n",
       "      <td>collegatarius</td>\n",
       "      <td>LewisShort</td>\n",
       "      <td>Membership</td>\n",
       "      <td>a person to whom is bequeathed a legacy in com...</td>\n",
       "    </tr>\n",
       "    <tr>\n",
       "      <th>8</th>\n",
       "      <td>collegiarius</td>\n",
       "      <td>i</td>\n",
       "      <td>collegiarius</td>\n",
       "      <td>LewisShort</td>\n",
       "      <td>Membership</td>\n",
       "      <td>collegial</td>\n",
       "    </tr>\n",
       "    <tr>\n",
       "      <th>9</th>\n",
       "      <td>corpus</td>\n",
       "      <td>oris</td>\n",
       "      <td>corpus</td>\n",
       "      <td>Waltzing</td>\n",
       "      <td>Organization</td>\n",
       "      <td>an organisation</td>\n",
       "    </tr>\n",
       "    <tr>\n",
       "      <th>10</th>\n",
       "      <td>corporatus</td>\n",
       "      <td>i</td>\n",
       "      <td>corporatus</td>\n",
       "      <td>Waltzing</td>\n",
       "      <td>Membership</td>\n",
       "      <td>a member of a corporation</td>\n",
       "    </tr>\n",
       "    <tr>\n",
       "      <th>11</th>\n",
       "      <td>sociatio</td>\n",
       "      <td>onis</td>\n",
       "      <td>sociatio</td>\n",
       "      <td>Petra's addition</td>\n",
       "      <td>Organization</td>\n",
       "      <td>a union</td>\n",
       "    </tr>\n",
       "    <tr>\n",
       "      <th>12</th>\n",
       "      <td>societas</td>\n",
       "      <td>atis</td>\n",
       "      <td>societas</td>\n",
       "      <td>Petra's addition</td>\n",
       "      <td>Organization</td>\n",
       "      <td>a fellowship, association, union, community, s...</td>\n",
       "    </tr>\n",
       "    <tr>\n",
       "      <th>13</th>\n",
       "      <td>sodalitas</td>\n",
       "      <td>atis</td>\n",
       "      <td>sodalitas</td>\n",
       "      <td>Waltzing</td>\n",
       "      <td>Organization</td>\n",
       "      <td>a fellowship, companionship, brotherhood, frie...</td>\n",
       "    </tr>\n",
       "    <tr>\n",
       "      <th>14</th>\n",
       "      <td>sodalicium</td>\n",
       "      <td>i</td>\n",
       "      <td>sodalitium</td>\n",
       "      <td>Waltzing</td>\n",
       "      <td>Organization</td>\n",
       "      <td>a fellowship, friendly intercourse or intimacy...</td>\n",
       "    </tr>\n",
       "  </tbody>\n",
       "</table>\n",
       "</div>"
      ],
      "text/plain": [
       "             Term gen_sg   Vocab_nom_sg            Source      Category  \\\n",
       "0        colegium      i       colegium          Waltzing  Organization   \n",
       "1       collegium      i      collegium          Waltzing  Organization   \n",
       "2     collegiatus      i    collegiatus          Waltzing    Membership   \n",
       "3       collegius      i      collegius          Waltzing    Membership   \n",
       "4         collega     ae        collega  Petra's addition    Membership   \n",
       "5       concilium      i      concilium          Waltzing  Organization   \n",
       "6       conlegium      i      conlegium          Waltzing  Organization   \n",
       "7   collegatarius      i  collegatarius        LewisShort    Membership   \n",
       "8    collegiarius      i   collegiarius        LewisShort    Membership   \n",
       "9          corpus   oris         corpus          Waltzing  Organization   \n",
       "10     corporatus      i     corporatus          Waltzing    Membership   \n",
       "11       sociatio   onis       sociatio  Petra's addition  Organization   \n",
       "12       societas   atis       societas  Petra's addition  Organization   \n",
       "13      sodalitas   atis      sodalitas          Waltzing  Organization   \n",
       "14     sodalicium      i     sodalitium          Waltzing  Organization   \n",
       "\n",
       "                           Translation_eng_LewisShort  \n",
       "0                       variant spelling of collegium  \n",
       "1   the connection of associates, colleagues, etc....  \n",
       "2   he who is with one in a society, college, corp...  \n",
       "3                              belonging to collegium  \n",
       "4   member of collegium, a partner in office, a co...  \n",
       "5   a collection of people, an association, gather...  \n",
       "6                       variant spelling of collegium  \n",
       "7   a person to whom is bequeathed a legacy in com...  \n",
       "8                                           collegial  \n",
       "9                                     an organisation  \n",
       "10                          a member of a corporation  \n",
       "11                                            a union  \n",
       "12  a fellowship, association, union, community, s...  \n",
       "13  a fellowship, companionship, brotherhood, frie...  \n",
       "14  a fellowship, friendly intercourse or intimacy...  "
      ]
     },
     "execution_count": 29,
     "metadata": {},
     "output_type": "execute_result"
    }
   ],
   "source": [
    "# read organization data\n",
    "organizations_raw = get_as_dataframe(organizations.worksheet(\"Organization\"))\n",
    "organizations_raw = organizations_raw[organizations_raw['Term'].notnull()]\n",
    "organizations_df = organizations_raw[organizations_raw.columns[:6]]\n",
    "organizations_df"
   ]
  },
  {
   "cell_type": "code",
   "execution_count": 12,
   "metadata": {
    "scrolled": true
   },
   "outputs": [
    {
     "data": {
      "text/plain": [
       "[('colegium', 'i', 'colegium'),\n",
       " ('collegium', 'i', 'collegium'),\n",
       " ('collegiatus', 'i', 'collegiatus'),\n",
       " ('collegius', 'i', 'collegius'),\n",
       " ('collega', 'ae', 'collega')]"
      ]
     },
     "execution_count": 12,
     "metadata": {},
     "output_type": "execute_result"
    }
   ],
   "source": [
    "organ_tups = [(organ_nom, organ_gen, word_to_dec) for organ_nom, organ_gen, word_to_dec in zip(organizations_df[\"Term\"].tolist(), organizations_df[\"gen_sg\"].tolist(), organizations_df[\"Vocab_nom_sg\"].tolist())]\n",
    "organ_tups[:5]"
   ]
  },
  {
   "cell_type": "code",
   "execution_count": 13,
   "metadata": {},
   "outputs": [
    {
     "data": {
      "text/plain": [
       "[('collegatarius', 'i', 'collegatarius'),\n",
       " ('collegiarius', 'i', 'collegiarius'),\n",
       " ('collegiatus', 'i', 'collegiatus'),\n",
       " ('corporatus', 'i', 'corporatus'),\n",
       " ('sodalicium', 'i', 'sodalitium')]"
      ]
     },
     "execution_count": 13,
     "metadata": {},
     "output_type": "execute_result"
    }
   ],
   "source": [
    "# reorder from longest to shortest\n",
    "organ_tups = sorted(organ_tups, key = lambda x: len(x[0]), reverse=True)\n",
    "organ_tups[:5]"
   ]
  },
  {
   "cell_type": "code",
   "execution_count": 28,
   "metadata": {},
   "outputs": [],
   "source": [
    "# manually define declinations\n",
    "decs = {\n",
    "\"first_f\" : [\"a\", \"ae\", \"am\", \"e\", \"as\", \"arum\", \"is\"],\n",
    "\"first_gr_es\" : [\"es\",  \"ae\", \"en\", \"am\", \"e\", \"as\", \"arum\", \"is\", \"a\"],\n",
    "\n",
    "\"sec_m_us\" : [\"us\", \"i\", \"o\", \"um\", \"orum\", \"os\", \"is\"],\n",
    "\"sec_n\" : [\"um\", \"i\", \"o\", \"a\", \"orum\", \"is\"],\n",
    "\"sec_m_er\" : [\"er\", \"eri\", \"ero\", \"erum\" , \"eros\", \"erorum\", \"eris\"],\n",
    "\"sec_m_r\" : [\"er\", \"ri\", \"ro\", \"rum\" , \"ros\", \"rorum\", \"ris\"],\n",
    "\n",
    "\"sec_gr_os\" : [\"os\", \"i\", \"o\", \"on\" , \"e\", \"rorum\", \"ris\"],\n",
    "\"sec_gr_on\" : [\"on\", \"i\", \"o\", \"a\", \"orum\", \"is\"],\n",
    "\n",
    "\"third_m_1\" : [\"es\", \"itis\", \"iti\", \"ite\", \"ites\", \"itibus\", \"itum\"],\n",
    "\"third_m_2\" : [\"ix\", \"icis\", \"icem\", \"ici\", \"ice\", \"ices\", \"icibus\", \"icum\"],\n",
    "\"third_m_3\" : [\"ex\", \"icis\", \"icem\", \"ici\", \"ice\", \"ices\", \"icibus\", \"icum\"],\n",
    "\"third_m_4\" : [\"o\", \"onis\", \"onem\", \"oni\", \"one\", \"ones\", \"onibus\", \"onum\"],\n",
    "\"third_m_5\" : [\"or\", \"oris\", \"orem\", \"ori\", \"ore\", \"ores\", \"oribus\", \"orum\"],\n",
    "\"third_m_6\" : [\"n\", \"nis\", \"nem\", \"ni\", \"ne\", \"nes\", \"nibus\", \"num\"],\n",
    "\"third_m_7\" : [\"ensis\", \"ensis\", \"ensem\", \"ensi\", \"ense\", \"enses\", \"ensibus\", \"ensum\", \"ensium\"],\n",
    "\"third_m_8\" : [\"er\", \"eris\", \"erem\", \"eri\", \"ere\", \"eres\", \"eribus\", \"erum\", \"erium\"],\n",
    "\"third_m_9\" : [\"eps\", \"ipis\", \"ipem\", \"ipi\", \"ipe\", \"ipes\", \"ipibus\", \"ipum\"],\n",
    "\"third_m_10\" : [\"ans\", \"antis\", \"antem\", \"ante\", \"antes\", \"antium\", \"antum\", \"antibus\"],\n",
    "\"third_m_11\" : [\"er\", \"ineris\", \"ineri\", \"inere\", \"inera\", \"inerum\", \"ineribus\"],\n",
    "\"third_m_12\" : [\"ut\", \"itis\", \"iti\", \"ite\", \"ita\", \"itibus\", \"itum\"],\n",
    "\"third_m_13\" : [\"us\", \"oris\", \"ori\", \"ore\", \"ora\", \"orum\", \"oribus\"],\n",
    "    \n",
    "\"third_f_1\" : [\"as\", \"adis\", \"adi\", \"ade\", \"ades\", \"adum\", \"adium\", \"adibus\"],\n",
    "\"third_f_2\" : [\"as\", \"atis\", \"ati\", \"atem\", \"ate\", \"ates\", \"atum\", \"atibus\"],\n",
    "\n",
    "\"third_mix_1\" : [\"is\", \"is\", \"i\", \"em\", \"e\", \"es\", \"ium\", \"um\", \"ibus\"],\n",
    "\"third_mix_2\" : [\"ns\", \"ntis\", \"nti\", \"ntem\", \"nte\", \"ntes\", \"ntium\", \"ntum\", \"ntibus\"],\n",
    "    \n",
    "\"fourth_us\" : [\"us\", \"us\", \"ui\", \"um\", \"u\", \"uum\", \"ibus\"]\n",
    "}\n"
   ]
  },
  {
   "cell_type": "code",
   "execution_count": 23,
   "metadata": {},
   "outputs": [
    {
     "data": {
      "text/plain": [
       "[('collegatarius', 'i', 'collegatarius'),\n",
       " ('collegiarius', 'i', 'collegiarius'),\n",
       " ('collegiatus', 'i', 'collegiatus'),\n",
       " ('corporatus', 'i', 'corporatus'),\n",
       " ('sodalicium', 'i', 'sodalitium')]"
      ]
     },
     "execution_count": 23,
     "metadata": {},
     "output_type": "execute_result"
    }
   ],
   "source": [
    "organ_tups = sorted(organ_tups, key = lambda x: len(x[0]), reverse=True)\n",
    "organ_tups[:5]"
   ]
  },
  {
   "cell_type": "code",
   "execution_count": 24,
   "metadata": {},
   "outputs": [],
   "source": [
    "def decline(nom_sg, ending):\n",
    "    possible_decs = []\n",
    "    for dec in decs.keys(): \n",
    "        if ending == decs[dec][1]:\n",
    "            possible_decs.append(dec)\n",
    "    for pos_dec in possible_decs:\n",
    "        nom_end = decs[pos_dec][0]\n",
    "        if re.match(\"\\w+\" + nom_end + \"$\", nom_sg):\n",
    "            root = re.split(nom_end + \"$\", nom_sg)[0]\n",
    "            all_morphs = list(set([str(root) + end for end in decs[pos_dec]])) # unique forms\n",
    "            break\n",
    "    try:\n",
    "        return all_morphs\n",
    "    except:\n",
    "        print(\"declining unsuccesful: \" + nom_sg, ending)\n",
    "        return [nom_sg] \n",
    "organizations_declined = []\n",
    "for organ_tup in organ_tups:\n",
    "    if re.match(\"\\w+\\s\\w+\", organ_tup[0]):\n",
    "        all_morphs = [organ_tup[0].replace(str(organ_tup[2]), morph) for morph in decline(organ_tup[2], organ_tup[1])] \n",
    "    else:\n",
    "        all_morphs = decline(organ_tup[0], organ_tup[1])\n",
    "    organizations_declined.append([str(organ_tup[0]), all_morphs])"
   ]
  },
  {
   "cell_type": "code",
   "execution_count": 25,
   "metadata": {},
   "outputs": [],
   "source": [
    "organizations_declined_dict = dict(organizations_declined)"
   ]
  },
  {
   "cell_type": "code",
   "execution_count": null,
   "metadata": {},
   "outputs": [],
   "source": []
  },
  {
   "cell_type": "code",
   "execution_count": 27,
   "metadata": {},
   "outputs": [],
   "source": [
    "with open(\"../data/organizations_declined_dict.json\", \"w\") as fp:\n",
    "    json.dump(organizations_declined_dict, fp, indent=4)"
   ]
  },
  {
   "cell_type": "code",
   "execution_count": 26,
   "metadata": {},
   "outputs": [],
   "source": [
    "#uncomment for export to google sheets:\n",
    "organizations_declined_df = pd.DataFrame(organizations_declined)\n",
    "set_with_dataframe(organizations.add_worksheet(\"organizations_decl\", 1, 1), organizations_declined_df)"
   ]
  },
  {
   "cell_type": "code",
   "execution_count": null,
   "metadata": {},
   "outputs": [],
   "source": []
  }
 ],
 "metadata": {
  "colab": {
   "authorship_tag": "ABX9TyOKWnvxv3tTbNERCRAysPtc",
   "include_colab_link": true,
   "name": "WORKING_WITH_CLEANED_TEXTS.ipynb",
   "provenance": []
  },
  "hide_input": false,
  "kernelspec": {
   "display_name": "Python 3",
   "language": "python",
   "name": "python3"
  },
  "language_info": {
   "codemirror_mode": {
    "name": "ipython",
    "version": 3
   },
   "file_extension": ".py",
   "mimetype": "text/x-python",
   "name": "python",
   "nbconvert_exporter": "python",
   "pygments_lexer": "ipython3",
   "version": "3.7.8"
  },
  "toc": {
   "base_numbering": 1,
   "nav_menu": {},
   "number_sections": true,
   "sideBar": true,
   "skip_h1_title": false,
   "title_cell": "Table of Contents",
   "title_sidebar": "Contents",
   "toc_cell": false,
   "toc_position": {},
   "toc_section_display": true,
   "toc_window_display": false
  },
  "varInspector": {
   "cols": {
    "lenName": 16,
    "lenType": 16,
    "lenVar": 40
   },
   "kernels_config": {
    "python": {
     "delete_cmd_postfix": "",
     "delete_cmd_prefix": "del ",
     "library": "var_list.py",
     "varRefreshCmd": "print(var_dic_list())"
    },
    "r": {
     "delete_cmd_postfix": ") ",
     "delete_cmd_prefix": "rm(",
     "library": "var_list.r",
     "varRefreshCmd": "cat(var_dic_list()) "
    }
   },
   "types_to_exclude": [
    "module",
    "function",
    "builtin_function_or_method",
    "instance",
    "_Feature"
   ],
   "window_display": false
  }
 },
 "nbformat": 4,
 "nbformat_minor": 1
}
