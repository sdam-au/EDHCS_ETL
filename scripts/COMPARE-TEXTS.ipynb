{
 "cells": [
  {
   "cell_type": "code",
   "execution_count": 2,
   "metadata": {},
   "outputs": [],
   "source": [
    "import sddk\n",
    "import pandas as pd\n",
    "pd.options.display.max_columns = 1000 # to see all columns\n",
    "import json\n",
    "import re\n",
    "import geopandas as gpd\n",
    "from shapely.geometry import Point\n",
    "from functools import partial\n",
    "from shapely.ops import transform\n",
    "import pyproj\n",
    "import warnings\n",
    "warnings.filterwarnings('ignore')\n",
    "import numpy as np\n",
    "from scipy.spatial import cKDTree\n",
    "import matplotlib.pyplot as plt"
   ]
  },
  {
   "cell_type": "code",
   "execution_count": 3,
   "metadata": {},
   "outputs": [
    {
     "name": "stdout",
     "output_type": "stream",
     "text": [
      "reading file located in a public folder\n"
     ]
    }
   ],
   "source": [
    "LIREg = sddk.read_file(\"LIREg.geojson\", \"gdf\", \"a9237c5ea642d4714bcdefb03f70a1f4\")"
   ]
  },
  {
   "cell_type": "code",
   "execution_count": 4,
   "metadata": {},
   "outputs": [],
   "source": [
    "import relate"
   ]
  },
  {
   "cell_type": "code",
   "execution_count": 5,
   "metadata": {},
   "outputs": [
    {
     "data": {
      "text/plain": [
       "137305"
      ]
     },
     "execution_count": 5,
     "metadata": {},
     "output_type": "execute_result"
    }
   ],
   "source": [
    "len(LIREg)"
   ]
  },
  {
   "cell_type": "code",
   "execution_count": 6,
   "metadata": {},
   "outputs": [
    {
     "name": "stdout",
     "output_type": "stream",
     "text": [
      "['EDCS-ID', 'publication', 'province', 'province_list', 'place', 'place_list', 'end_yr_list', 'notes_dating', 'status_list', 'inscr_type', 'status_notation', 'inscr_process', 'notes_references', 'notes_comments', 'inscription', 'inscription_stripped_final', 'Links', 'dating from', 'dating to', 'status', 'Latitude', 'Longitude', 'photo', 'Material', 'Comment', 'EDH-ID', 'language_EDCS', 'clean_text_interpretive_word_EDCS', 'responsible_individual', 'type_of_inscription', 'letter_size', 'literature', 'work_status', 'height', 'diplomatic_text', 'people', 'depth', 'material', 'type_of_monument', 'province_label', 'width', 'transcription', 'country', 'uri', 'findspot_ancient', 'last_update', 'modern_region', 'findspot_modern', 'edh_geography_uri', 'commentary', 'trismegistos_uri', 'external_image_uris', 'fotos', 'idno_tm', 'placenames_refs', 'text_edition', 'origdate_text', 'layout_execution', 'layout_execution_text', 'support_objecttype', 'support_objecttype_text', 'support_material', 'support_material_text', 'support_decoration', 'keywords_term', 'keywords_term_text', 'type_of_inscription_clean', 'type_of_inscription_certainty', 'height_cm', 'width_cm', 'depth_cm', 'material_clean', 'type_of_monument_clean', 'type_of_monument_certainty', 'province_label_clean', 'province_label_certainty', 'country_clean', 'country_certainty', 'findspot_ancient_clean', 'findspot_ancient_certainty', 'modern_region_clean', 'modern_region_certainty', 'findspot_modern_clean', 'findspot_modern_certainty', 'findspot_clean', 'findspot_certainty', 'origdate_text_clean', 'clean_text_conservative', 'clean_text_interpretive_sentence', 'findspot', 'year_of_find', 'present_location', 'religion', 'geography', 'social_economic_legal_history', 'military', 'not_after', 'language', 'not_before', 'coordinates', 'clean_text_interpretive_word', 'urban_context', 'within_rome', 'nearest_city', 'city_id_hanson', 'city_pop_est', 'city_geometry', 'nearest_city_type', 'nearest_city_dist', 'geometry']\n"
     ]
    }
   ],
   "source": [
    "print(LIREg.columns.tolist())"
   ]
  },
  {
   "cell_type": "code",
   "execution_count": 7,
   "metadata": {},
   "outputs": [
    {
     "data": {
      "text/plain": [
       "12328"
      ]
     },
     "execution_count": 7,
     "metadata": {},
     "output_type": "execute_result"
    }
   ],
   "source": [
    "### subselect votive inscriptions\n",
    "LIREg_votive = LIREg[LIREg[\"type_of_inscription_clean\"]==\"votive inscription\"]\n",
    "len(LIREg_votive)"
   ]
  },
  {
   "cell_type": "code",
   "execution_count": 46,
   "metadata": {},
   "outputs": [],
   "source": [
    "n = 100\n",
    "docs = tuple(LIREg_votive[\"clean_text_interpretive_word\"].tolist()[:n])\n",
    "names = LIREg_votive[\"EDH-ID\"].tolist()[:n]"
   ]
  },
  {
   "cell_type": "code",
   "execution_count": 50,
   "metadata": {},
   "outputs": [
    {
     "data": {
      "text/plain": [
       "<module 'relate.metrics' from '/home/kasev/LIRE/scripts/relate/metrics.py'>"
      ]
     },
     "execution_count": 50,
     "metadata": {},
     "output_type": "execute_result"
    }
   ],
   "source": [
    "# because I made some modifications of the module, I need to reload it manually\n",
    "import importlib\n",
    "importlib.reload(relate)\n",
    "importlib.reload(relate.matrix)\n",
    "importlib.reload(relate.metrics)"
   ]
  },
  {
   "cell_type": "code",
   "execution_count": 51,
   "metadata": {},
   "outputs": [],
   "source": [
    "relate.shingle.length = 2\n",
    "similarity = relate.metrics.select['sørensen_dice']\n",
    "# Without standardizing function: 'similarity','distance'. With the function: 'st_similarity', 'st_distance' "
   ]
  },
  {
   "cell_type": "code",
   "execution_count": 55,
   "metadata": {},
   "outputs": [
    {
     "name": "stdout",
     "output_type": "stream",
     "text": [
      "           HD011892   HD057920   HD063731   HD019451   HD018856   HD060263  \\\n",
      "HD011892   0.000000  74.358974  73.094170  93.750000  76.595745  75.838926   \n",
      "HD057920  74.358974   0.000000  82.400000  91.489362  88.888889  68.627451   \n",
      "HD063731  73.094170  82.400000   0.000000  76.397516  89.808917  93.220339   \n",
      "HD019451  93.750000  91.489362  76.397516   0.000000  85.714286  95.402299   \n",
      "HD018856  76.595745  88.888889  89.808917  85.714286   0.000000  92.771084   \n",
      "\n",
      "           HD060265   HD060266   HD060267    HD022437   HD060269   HD015958  \\\n",
      "HD011892  61.363636  66.459627  73.684211   96.969697  72.327044  47.906977   \n",
      "HD057920  71.794872  80.952381  70.370370   88.235294  50.819672  74.358974   \n",
      "HD063731  87.586207  83.076923  81.818182  100.000000  81.250000  81.521739   \n",
      "HD019451  91.228070  93.939394  95.555556   97.142857  93.814433  90.849673   \n",
      "HD018856  76.363636  83.157895  86.046512   96.969697  87.096774  78.523490   \n",
      "\n",
      "           HD058530   HD060339   HD060353   HD060366   HD060370   HD060372  \\\n",
      "HD011892  73.076923  86.111111  44.642857  80.555556  57.225434  77.777778   \n",
      "HD057920  79.310345  82.608696  69.841270  86.956522  65.333333  78.181818   \n",
      "HD063731  92.000000  94.690265  82.383420  89.380531  83.098592  85.245902   \n",
      "HD019451  93.617021  97.560976  92.592593  97.560976  92.792793  95.604396   \n",
      "HD018856  86.666667  92.307692  70.886076  92.307692  81.308411  83.908046   \n",
      "\n",
      "           HD060390   HD060391   HD060394   HD019475   HD004294   HD024570  \\\n",
      "HD011892  80.132450  58.011050  44.978166  83.225806  81.081081  53.097345   \n",
      "HD057920  73.584906  66.265060  80.152672  85.964912  84.000000  78.125000   \n",
      "HD063731  93.333333  78.666667  81.818182  91.935484  93.162393  79.487179   \n",
      "HD019451  91.011236  91.596639  92.814371  89.247312  97.674419  91.463415   \n",
      "HD018856  88.235294  73.913043  76.687117  77.528090  87.804878  80.000000   \n",
      "\n",
      "           HD064203   HD064164   HD064379   HD064380   HD055774   HD023503  \\\n",
      "HD011892  64.444444  64.772727  66.666667  62.500000  60.000000  42.222222   \n",
      "HD057920  75.609756  64.102564  71.875000  69.230769  70.731707  73.255814   \n",
      "HD063731  82.550336  83.448276  86.259542  76.551724  82.550336  81.589958   \n",
      "HD019451  91.525424  91.228070  96.000000  92.982456  93.220339  90.384615   \n",
      "HD018856  78.947368  85.454545  85.416667  80.000000  73.684211  77.450980   \n",
      "\n",
      "           HD023503   HD057724   HD058325   HD019751   HD023138    HD037195  \\\n",
      "HD011892  42.222222  55.080214  42.763158  81.944444  70.597243  100.000000   \n",
      "HD057920  73.255814  73.033708  75.728155  95.652174  92.432432  100.000000   \n",
      "HD063731  81.589958  79.487179  75.091575  91.150442  77.491961   85.792350   \n",
      "HD019451  90.384615  93.600000  95.041322  97.560976  85.109983   84.210526   \n",
      "HD018856  77.450980  71.900826  78.151261  92.307692  81.942078   89.189189   \n",
      "\n",
      "           HD016138   HD080845  HD080864   HD016102   HD016087   HD080847  \\\n",
      "HD011892  90.277778  67.701863     100.0  76.870748  65.217391  86.861314   \n",
      "HD057920  73.913043  71.428571     100.0  79.591837  58.730159  74.358974   \n",
      "HD063731  85.840708  76.923077     100.0  96.551724  80.000000  84.905660   \n",
      "HD019451  95.121951  89.898990     100.0  88.235294  95.959596  92.000000   \n",
      "HD018856  92.307692  72.631579     100.0  90.123457  85.263158  94.366197   \n",
      "\n",
      "           HD003863   HD080844   HD080846   HD024994   HD080863   HD006363  \\\n",
      "HD011892  64.044944  66.279070  71.428571  57.541899  80.689655  65.405405   \n",
      "HD057920  65.000000  64.864865  75.000000  80.246914  78.723404  58.620690   \n",
      "HD063731  82.312925  77.304965  75.609756  87.837838  89.473684  83.116883   \n",
      "HD019451  93.103448  90.909091  91.304348  94.871795  90.361446  96.747967   \n",
      "HD018856  80.357143  77.358491  72.727273  76.991150  74.683544  79.831933   \n",
      "\n",
      "           HD004475   HD080842   HD016090   HD016099   HD080848   HD080851  \\\n",
      "HD011892  80.263158  88.811189  56.521739  63.934426  75.163399  52.331606   \n",
      "HD057920  88.888889  86.666667  69.767442  76.470588  74.545455  70.526316   \n",
      "HD063731  93.388430  92.857143  84.313725  88.157895  81.967213  77.777778   \n",
      "HD019451  97.777778  90.123457  90.163934  95.041322  89.010989  89.312977   \n",
      "HD018856  79.069767  87.012987  76.271186  79.487179  74.712644  73.228346   \n",
      "\n",
      "           HD080855   HD080856   HD080858   HD080859   HD080860   HD080861  \\\n",
      "HD011892  80.132450  57.142857  59.776536  69.696970  80.132450  88.652482   \n",
      "HD057920  81.132075  78.571429  70.370370  76.119403  77.358491  86.046512   \n",
      "HD063731  88.333333  78.807947  79.729730  83.582090  88.333333  94.545455   \n",
      "HD019451  88.764045  88.333333  93.162393  90.291262  88.764045  87.341772   \n",
      "HD018856  76.470588  79.310345  71.681416  81.818182  76.470588  86.666667   \n",
      "\n",
      "           HD080862   HD080865   HD080866   HD080868   HD003689   HD009997  \\\n",
      "HD011892  79.084967  83.216783  60.869565  55.778894  45.689655  41.592920   \n",
      "HD057920  70.909091  86.666667  72.093023  74.257426  74.626866  67.187500   \n",
      "HD063731  95.081967  92.857143  84.313725  83.333333  76.119403  77.435897   \n",
      "HD019451  95.604396  95.061728  93.442623  91.240876  91.764706  91.463415   \n",
      "HD018856  81.609195  92.207792  72.881356  78.947368  78.313253  75.000000   \n",
      "\n",
      "           HD059756   HD059754   HD059753   HD059755   HD059760   HD000459  \\\n",
      "HD011892  32.489451  32.489451  37.349398  33.054393  51.724138  74.358974   \n",
      "HD057920  74.100719  74.100719  73.509934  74.468085  75.238095  75.862069   \n",
      "HD063731  74.757282  75.728155  76.146789  75.961538  81.395349  80.800000   \n",
      "HD019451  93.142857  93.142857  92.513369  93.220339  91.489362  95.744681   \n",
      "HD018856  76.608187  76.608187  77.049180  76.878613  73.722628  91.111111   \n",
      "\n",
      "           HD004327   HD003475   HD003472   HD004501   HD021838   HD053060  \\\n",
      "HD011892  70.886076  63.529412  60.674157  43.650794  28.873239  37.752161   \n",
      "HD057920  76.666667  69.444444  70.000000  71.428571  73.118280  79.116466   \n",
      "HD063731  87.401575  82.733813  82.312925  79.185520  75.494071  77.848101   \n",
      "HD019451  95.833333  94.444444  94.827586  90.526316  93.693694  92.982456   \n",
      "HD018856  89.130435  78.846154  78.571429  74.193548  77.064220  78.647687   \n",
      "\n",
      "           HD045234   HD059257   HD025849   HD021657   HD059236   HD059240  \\\n",
      "HD011892  77.215190  63.841808  45.871560  60.800000  52.820513  47.755102   \n",
      "HD057920  73.333333  77.215190  71.666667  80.263158  67.010309  75.510204   \n",
      "HD063731  82.677165  83.561644  72.192513  78.995434  75.609756  79.439252   \n",
      "HD019451  93.750000  98.260870  93.589744  85.106383  90.977444  91.256831   \n",
      "HD018856  82.608696  87.387387  73.684211  77.173913  79.844961  73.184358   \n",
      "\n",
      "           HD059241   HD059242    HD022051   HD059244   HD059245    HD059248  \\\n",
      "HD011892  64.772727  61.904762   70.552147  69.325153  65.027322   98.496241   \n",
      "HD057920  66.666667  69.230769   81.538462  78.461538  71.764706   94.285714   \n",
      "HD063731  82.068966  78.481013   92.424242  87.878788  78.947368   98.039216   \n",
      "HD019451  94.736842  92.125984  100.000000  96.039604  95.041322  100.000000   \n",
      "HD018856  83.636364  82.113821   87.628866  73.195876  72.649573  100.000000   \n",
      "\n",
      "           HD059249    HD059250   HD059251   HD059252   HD018188   HD021460  \\\n",
      "HD011892  47.031963   66.060606  64.571429  73.856209  57.948718  35.555556   \n",
      "HD057920  66.942149   85.074627  81.818182  74.545455  77.319588  73.255814   \n",
      "HD063731  81.914894   89.552239  83.333333  86.885246  85.365854  79.079498   \n",
      "HD019451  94.904459  100.000000  98.230088  93.406593  93.984962  93.269231   \n",
      "HD018856  77.777778   77.777778  76.146789  83.908046  76.744186  75.490196   \n",
      "\n",
      "           HD045500   HD018197   HD059254   HD059255  \n",
      "HD011892  58.371041  43.190661  65.269461  77.483444  \n",
      "HD057920  72.357724  77.358491  85.507246  88.679245  \n",
      "HD063731  81.052632  78.761062  92.647059  95.000000  \n",
      "HD019451  91.194969  91.794872  98.095238  97.752809  \n",
      "HD018856  76.774194  76.963351  70.297030  71.764706  \n"
     ]
    }
   ],
   "source": [
    "# Without standardizing function: 'similarity','distance'. With the function: 'st_similarity', 'st_distance' \n",
    "matrix_function = relate.matrix.select['distance']\n",
    "result = matrix_function(similarity, docs, docs, names) # I added names to all functions within the matrix module\n",
    "print(result[:5])"
   ]
  },
  {
   "cell_type": "code",
   "execution_count": 56,
   "metadata": {},
   "outputs": [
    {
     "name": "stdout",
     "output_type": "stream",
     "text": [
      "[[ 0.       74.358974 73.09417  ... 43.190661 65.269461 77.483444]\n",
      " [ 0.        0.       82.4      ... 77.358491 85.507246 88.679245]\n",
      " [ 0.        0.        0.       ... 78.761062 92.647059 95.      ]\n",
      " ...\n",
      " [ 0.        0.        0.       ...  0.       64.705882 72.727273]\n",
      " [ 0.        0.        0.       ...  0.        0.       25.      ]\n",
      " [ 0.        0.        0.       ...  0.        0.        0.      ]]\n"
     ]
    }
   ],
   "source": [
    "import numpy as np\n",
    "print(np.triu(result))"
   ]
  },
  {
   "cell_type": "code",
   "execution_count": 57,
   "metadata": {},
   "outputs": [
    {
     "name": "stdout",
     "output_type": "stream",
     "text": [
      "[74.358974 73.09417  93.75     ... 64.705882 72.727273 25.      ]\n"
     ]
    }
   ],
   "source": [
    "import scipy.spatial.distance as ssd\n",
    "result = ssd.squareform(result)\n",
    "print(result)"
   ]
  },
  {
   "cell_type": "code",
   "execution_count": 64,
   "metadata": {},
   "outputs": [
    {
     "data": {
      "image/png": "[encoded data removed]",
      "text/plain": [
       "<Figure size 1440x360 with 1 Axes>"
      ]
     },
     "metadata": {
      "needs_background": "light"
     },
     "output_type": "display_data"
    }
   ],
   "source": [
    "from matplotlib import pyplot as plt\n",
    "import scipy.cluster.hierarchy as sch\n",
    "\n",
    "fig, ax  = plt.subplots(figsize=(20, 5))\n",
    "dendrogram = sch.dendrogram(sch.linkage(result, method='ward'), labels = names, leaf_font_size= 10, orientation = 'top',\n",
    "                      color_threshold = 2, leaf_rotation=90, ax=ax)\n",
    "plt.show()"
   ]
  },
  {
   "cell_type": "code",
   "execution_count": null,
   "metadata": {},
   "outputs": [],
   "source": []
  }
 ],
 "metadata": {
  "kernelspec": {
   "display_name": "socdiv_venv",
   "language": "python",
   "name": "socdiv_venv"
  },
  "language_info": {
   "codemirror_mode": {
    "name": "ipython",
    "version": 3
   },
   "file_extension": ".py",
   "mimetype": "text/x-python",
   "name": "python",
   "nbconvert_exporter": "python",
   "pygments_lexer": "ipython3",
   "version": "3.6.9"
  }
 },
 "nbformat": 4,
 "nbformat_minor": 4
}
