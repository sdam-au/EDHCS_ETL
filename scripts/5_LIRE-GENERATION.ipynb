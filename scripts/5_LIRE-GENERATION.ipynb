{
 "cells": [
  {
   "cell_type": "code",
   "execution_count": 1,
   "outputs": [],
   "source": [
    "import geopandas as gpd"
   ],
   "metadata": {
    "collapsed": false,
    "ExecuteTime": {
     "end_time": "2023-07-14T14:16:37.598025Z",
     "start_time": "2023-07-14T14:16:37.168079Z"
    }
   }
  },
  {
   "cell_type": "code",
   "execution_count": 2,
   "outputs": [],
   "source": [
    "LIST = gpd.read_parquet(\"../data/large_data/LIST_v0-6.parquet\")"
   ],
   "metadata": {
    "collapsed": false,
    "ExecuteTime": {
     "end_time": "2023-07-14T14:16:40.135729Z",
     "start_time": "2023-07-14T14:16:37.598917Z"
    }
   }
  },
  {
   "cell_type": "code",
   "execution_count": 3,
   "outputs": [
    {
     "data": {
      "text/plain": "206421"
     },
     "execution_count": 3,
     "metadata": {},
     "output_type": "execute_result"
    }
   ],
   "source": [
    "(LIST[\"not_before\"] <= LIST[\"not_after\"]).sum()"
   ],
   "metadata": {
    "collapsed": false,
    "ExecuteTime": {
     "end_time": "2023-07-14T14:16:40.149875Z",
     "start_time": "2023-07-14T14:16:40.136533Z"
    }
   }
  },
  {
   "cell_type": "code",
   "execution_count": 4,
   "outputs": [
    {
     "data": {
      "text/plain": "True"
     },
     "execution_count": 4,
     "metadata": {},
     "output_type": "execute_result"
    }
   ],
   "source": [
    "not_before = 300\n",
    "not_after = 400\n",
    "(not_after>=-50) & (not_before<=350)"
   ],
   "metadata": {
    "collapsed": false,
    "ExecuteTime": {
     "end_time": "2023-07-14T14:16:50.115100Z",
     "start_time": "2023-07-14T14:16:50.090153Z"
    }
   }
  },
  {
   "cell_type": "code",
   "execution_count": 5,
   "outputs": [],
   "source": [
    "#LIRE = gpd.read_parquet(\"../data/large_data/LIRE_v2-2.parquet\")"
   ],
   "metadata": {
    "collapsed": false,
    "ExecuteTime": {
     "end_time": "2023-07-14T14:16:52.117656Z",
     "start_time": "2023-07-14T14:16:52.094863Z"
    }
   }
  },
  {
   "cell_type": "code",
   "execution_count": 6,
   "outputs": [],
   "source": [
    "LIRE = LIST[\n",
    "    (LIST[\"geotemporal?\"])\n",
    "    & (LIST[\"withinRE?\"])\n",
    "    & ((LIST[\"not_after\"]>=-50)\n",
    "       & (LIST[\"not_before\"]<=350))]"
   ],
   "metadata": {
    "collapsed": false,
    "ExecuteTime": {
     "end_time": "2023-07-14T14:16:52.442669Z",
     "start_time": "2023-07-14T14:16:52.319623Z"
    }
   }
  },
  {
   "cell_type": "code",
   "execution_count": 7,
   "outputs": [
    {
     "name": "stderr",
     "output_type": "stream",
     "text": [
      "/var/folders/zg/zvg9y3rs7j527jxfq9sc2xqc0000gn/T/ipykernel_81902/2295483491.py:1: SettingWithCopyWarning: \n",
      "A value is trying to be set on a copy of a slice from a DataFrame\n",
      "\n",
      "See the caveats in the documentation: https://pandas.pydata.org/pandas-docs/stable/user_guide/indexing.html#returning-a-view-versus-a-copy\n",
      "  LIRE.drop(columns=[\"withinRE?\"], inplace=True)\n"
     ]
    }
   ],
   "source": [
    "LIRE.drop(columns=[\"withinRE?\"], inplace=True)"
   ],
   "metadata": {
    "collapsed": false,
    "ExecuteTime": {
     "end_time": "2023-07-14T14:16:56.680990Z",
     "start_time": "2023-07-14T14:16:56.647358Z"
    }
   }
  },
  {
   "cell_type": "markdown",
   "source": [
    "# Make an overview"
   ],
   "metadata": {
    "collapsed": false
   }
  },
  {
   "cell_type": "code",
   "execution_count": 8,
   "outputs": [],
   "source": [
    "def int_to_str(number): #fucntion authored by chatGPT...\n",
    "    number_str = str(number)\n",
    "    comma_position = len(str(number)) % 3\n",
    "    result = number_str[:comma_position]\n",
    "    while comma_position < len(number_str):\n",
    "        if result:\n",
    "            result += \",\"\n",
    "        result += number_str[comma_position:comma_position + 3]\n",
    "        comma_position += 3\n",
    "    return result"
   ],
   "metadata": {
    "collapsed": false,
    "ExecuteTime": {
     "end_time": "2023-07-14T14:17:10.730512Z",
     "start_time": "2023-07-14T14:17:10.704829Z"
    }
   }
  },
  {
   "cell_type": "code",
   "execution_count": 9,
   "outputs": [
    {
     "data": {
      "text/plain": "'182,852'"
     },
     "execution_count": 9,
     "metadata": {},
     "output_type": "execute_result"
    }
   ],
   "source": [
    "lire_len = int_to_str(len(LIRE))\n",
    "lire_len"
   ],
   "metadata": {
    "collapsed": false,
    "ExecuteTime": {
     "end_time": "2023-07-14T14:17:11.214421Z",
     "start_time": "2023-07-14T14:17:11.181938Z"
    }
   }
  },
  {
   "cell_type": "code",
   "execution_count": 10,
   "outputs": [
    {
     "data": {
      "text/plain": "'65'"
     },
     "execution_count": 10,
     "metadata": {},
     "output_type": "execute_result"
    }
   ],
   "source": [
    "attr_N = str(LIRE.shape[1])\n",
    "attr_N"
   ],
   "metadata": {
    "collapsed": false,
    "ExecuteTime": {
     "end_time": "2023-07-14T14:17:11.673365Z",
     "start_time": "2023-07-14T14:17:11.646956Z"
    }
   }
  },
  {
   "cell_type": "code",
   "execution_count": 11,
   "outputs": [
    {
     "data": {
      "text/plain": "'59,374'"
     },
     "execution_count": 11,
     "metadata": {},
     "output_type": "execute_result"
    }
   ],
   "source": [
    "both_len = int_to_str(((LIRE[\"EDCS-ID\"].notnull()) & (LIRE[\"EDH-ID\"].notnull())).sum())\n",
    "both_len"
   ],
   "metadata": {
    "collapsed": false,
    "ExecuteTime": {
     "end_time": "2023-07-14T14:17:12.299988Z",
     "start_time": "2023-07-14T14:17:12.207069Z"
    }
   }
  },
  {
   "cell_type": "code",
   "execution_count": 12,
   "outputs": [
    {
     "data": {
      "text/plain": "'121,234'"
     },
     "execution_count": 12,
     "metadata": {},
     "output_type": "execute_result"
    }
   ],
   "source": [
    "edcs_solely_len = int_to_str(LIRE[\"EDH-ID\"].isnull().sum())\n",
    "edcs_solely_len"
   ],
   "metadata": {
    "collapsed": false,
    "ExecuteTime": {
     "end_time": "2023-07-14T14:17:13.281026Z",
     "start_time": "2023-07-14T14:17:13.259889Z"
    }
   }
  },
  {
   "cell_type": "code",
   "execution_count": 13,
   "outputs": [
    {
     "data": {
      "text/plain": "'2,244'"
     },
     "execution_count": 13,
     "metadata": {},
     "output_type": "execute_result"
    }
   ],
   "source": [
    "edh_solely_len = int_to_str(((LIRE[\"EDCS-ID\"].isnull()) & (LIRE[\"EDH-ID\"].notnull())).sum())\n",
    "edh_solely_len"
   ],
   "metadata": {
    "collapsed": false,
    "ExecuteTime": {
     "end_time": "2023-07-14T14:17:13.759691Z",
     "start_time": "2023-07-14T14:17:13.740140Z"
    }
   }
  },
  {
   "cell_type": "code",
   "execution_count": 14,
   "outputs": [
    {
     "data": {
      "text/plain": "'In this version, the dataset consists of 182,852 records and 65 attributes. There are 59,374 inscriptions shared by EDH and EDCS, inheriting attributes from both parent collections. Further, there are 2,244 inscriptions recorded exclusively in EDH and 121,234 inscriptions originating solely from EDCS. In cases in which an inscription is available only in one dataset, it contains attributes only from that one dataset.'"
     },
     "execution_count": 14,
     "metadata": {},
     "output_type": "execute_result"
    }
   ],
   "source": [
    "\"In this version, the dataset consists of {0} records and {1} attributes. There are {2} inscriptions shared by EDH and EDCS, inheriting attributes from both parent collections. Further, there are {3} inscriptions recorded exclusively in EDH and {4} inscriptions originating solely from EDCS. In cases in which an inscription is available only in one dataset, it contains attributes only from that one dataset.\".format(lire_len, attr_N, both_len, edh_solely_len, edcs_solely_len)"
   ],
   "metadata": {
    "collapsed": false,
    "ExecuteTime": {
     "end_time": "2023-07-14T14:17:15.841997Z",
     "start_time": "2023-07-14T14:17:15.816353Z"
    }
   }
  },
  {
   "cell_type": "markdown",
   "source": [
    "# Save the data"
   ],
   "metadata": {
    "collapsed": false
   }
  },
  {
   "cell_type": "code",
   "execution_count": 15,
   "outputs": [],
   "source": [
    "LIRE.to_parquet(\"../data/large_data/LIRE_v2-3.parquet\")"
   ],
   "metadata": {
    "collapsed": false,
    "ExecuteTime": {
     "end_time": "2023-07-14T14:17:30.310493Z",
     "start_time": "2023-07-14T14:17:28.573410Z"
    }
   }
  },
  {
   "cell_type": "code",
   "execution_count": 17,
   "outputs": [
    {
     "name": "stderr",
     "output_type": "stream",
     "text": [
      "/opt/homebrew/Caskroom/miniconda/base/lib/python3.9/site-packages/geopandas/geodataframe.py:1538: SettingWithCopyWarning: \n",
      "A value is trying to be set on a copy of a slice from a DataFrame.\n",
      "Try using .loc[row_indexer,col_indexer] = value instead\n",
      "\n",
      "See the caveats in the documentation: https://pandas.pydata.org/pandas-docs/stable/user_guide/indexing.html#returning-a-view-versus-a-copy\n",
      "  super().__setitem__(key, value)\n"
     ]
    }
   ],
   "source": [
    "LIRE[\"people\"] = LIRE[\"people\"].apply(lambda x: str(x))\n",
    "LIRE.to_file(\"../data/large_data/LIRE_v2-3.geojson\", driver=\"GeoJSON\")"
   ],
   "metadata": {
    "collapsed": false,
    "ExecuteTime": {
     "end_time": "2023-07-14T14:19:31.294835Z",
     "start_time": "2023-07-14T14:18:11.118046Z"
    }
   }
  },
  {
   "cell_type": "code",
   "execution_count": null,
   "outputs": [],
   "source": [],
   "metadata": {
    "collapsed": false
   }
  }
 ],
 "metadata": {
  "kernelspec": {
   "name": "conda_base",
   "language": "python",
   "display_name": "conda_base"
  },
  "language_info": {
   "codemirror_mode": {
    "name": "ipython",
    "version": 2
   },
   "file_extension": ".py",
   "mimetype": "text/x-python",
   "name": "python",
   "nbconvert_exporter": "python",
   "pygments_lexer": "ipython2",
   "version": "2.7.6"
  }
 },
 "nbformat": 4,
 "nbformat_minor": 0
}
