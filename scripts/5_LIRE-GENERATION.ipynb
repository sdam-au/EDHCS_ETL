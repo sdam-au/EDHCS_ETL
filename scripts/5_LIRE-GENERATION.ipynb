{
 "cells": [
  {
   "cell_type": "code",
   "execution_count": 1,
   "outputs": [],
   "source": [
    "import geopandas as gpd"
   ],
   "metadata": {
    "collapsed": false,
    "ExecuteTime": {
     "end_time": "2023-10-11T13:36:21.411636Z",
     "start_time": "2023-10-11T13:36:20.963493Z"
    }
   }
  },
  {
   "cell_type": "code",
   "execution_count": 2,
   "outputs": [],
   "source": [
    "LIST = gpd.read_parquet(\"../data/large_data/LIST_v1-0.parquet\")"
   ],
   "metadata": {
    "collapsed": false,
    "ExecuteTime": {
     "end_time": "2023-10-11T13:36:25.585528Z",
     "start_time": "2023-10-11T13:36:23.906282Z"
    }
   }
  },
  {
   "cell_type": "code",
   "execution_count": 3,
   "outputs": [
    {
     "data": {
      "text/plain": "206461"
     },
     "execution_count": 3,
     "metadata": {},
     "output_type": "execute_result"
    }
   ],
   "source": [
    "(LIST[\"not_before\"] <= LIST[\"not_after\"]).sum()"
   ],
   "metadata": {
    "collapsed": false,
    "ExecuteTime": {
     "end_time": "2023-10-11T13:36:26.591932Z",
     "start_time": "2023-10-11T13:36:26.551199Z"
    }
   }
  },
  {
   "cell_type": "code",
   "execution_count": 4,
   "outputs": [
    {
     "data": {
      "text/plain": "True"
     },
     "execution_count": 4,
     "metadata": {},
     "output_type": "execute_result"
    }
   ],
   "source": [
    "not_before = 300\n",
    "not_after = 400\n",
    "(not_after>=-50) & (not_before<=350)"
   ],
   "metadata": {
    "collapsed": false,
    "ExecuteTime": {
     "end_time": "2023-10-11T13:36:27.933309Z",
     "start_time": "2023-10-11T13:36:27.891243Z"
    }
   }
  },
  {
   "cell_type": "code",
   "execution_count": 5,
   "outputs": [],
   "source": [
    "#LIRE = gpd.read_parquet(\"../data/large_data/LIRE_v2-2.parquet\")"
   ],
   "metadata": {
    "collapsed": false,
    "ExecuteTime": {
     "end_time": "2023-10-11T13:36:29.138147Z",
     "start_time": "2023-10-11T13:36:29.099588Z"
    }
   }
  },
  {
   "cell_type": "code",
   "execution_count": 7,
   "outputs": [],
   "source": [
    "LIRE = LIST[\n",
    "    (LIST[\"is_geotemporal\"])\n",
    "    & (LIST[\"is_within_RE\"])\n",
    "    & ((LIST[\"not_after\"]>=-50)\n",
    "       & (LIST[\"not_before\"]<=350))]"
   ],
   "metadata": {
    "collapsed": false,
    "ExecuteTime": {
     "end_time": "2023-10-11T13:36:46.514289Z",
     "start_time": "2023-10-11T13:36:46.377291Z"
    }
   }
  },
  {
   "cell_type": "code",
   "execution_count": 8,
   "outputs": [
    {
     "name": "stderr",
     "output_type": "stream",
     "text": [
      "/var/folders/zg/zvg9y3rs7j527jxfq9sc2xqc0000gn/T/ipykernel_8475/3785413560.py:1: SettingWithCopyWarning: \n",
      "A value is trying to be set on a copy of a slice from a DataFrame\n",
      "\n",
      "See the caveats in the documentation: https://pandas.pydata.org/pandas-docs/stable/user_guide/indexing.html#returning-a-view-versus-a-copy\n",
      "  LIRE.drop(columns=[\"is_geotemporal\"], inplace=True)\n",
      "/var/folders/zg/zvg9y3rs7j527jxfq9sc2xqc0000gn/T/ipykernel_8475/3785413560.py:2: SettingWithCopyWarning: \n",
      "A value is trying to be set on a copy of a slice from a DataFrame\n",
      "\n",
      "See the caveats in the documentation: https://pandas.pydata.org/pandas-docs/stable/user_guide/indexing.html#returning-a-view-versus-a-copy\n",
      "  LIRE.drop(columns=[\"is_within_RE\"], inplace=True)\n"
     ]
    }
   ],
   "source": [
    "LIRE.drop(columns=[\"is_geotemporal\"], inplace=True)\n",
    "LIRE.drop(columns=[\"is_within_RE\"], inplace=True)"
   ],
   "metadata": {
    "collapsed": false,
    "ExecuteTime": {
     "end_time": "2023-10-11T13:37:05.299981Z",
     "start_time": "2023-10-11T13:37:05.183020Z"
    }
   }
  },
  {
   "cell_type": "markdown",
   "source": [
    "# Make an overview"
   ],
   "metadata": {
    "collapsed": false
   }
  },
  {
   "cell_type": "code",
   "execution_count": 9,
   "outputs": [],
   "source": [
    "def int_to_str(number): #fucntion authored by chatGPT...\n",
    "    number_str = str(number)\n",
    "    comma_position = len(str(number)) % 3\n",
    "    result = number_str[:comma_position]\n",
    "    while comma_position < len(number_str):\n",
    "        if result:\n",
    "            result += \",\"\n",
    "        result += number_str[comma_position:comma_position + 3]\n",
    "        comma_position += 3\n",
    "    return result"
   ],
   "metadata": {
    "collapsed": false,
    "ExecuteTime": {
     "end_time": "2023-10-11T13:37:08.231111Z",
     "start_time": "2023-10-11T13:37:08.189213Z"
    }
   }
  },
  {
   "cell_type": "code",
   "execution_count": 10,
   "outputs": [
    {
     "data": {
      "text/plain": "'182,853'"
     },
     "execution_count": 10,
     "metadata": {},
     "output_type": "execute_result"
    }
   ],
   "source": [
    "lire_len = int_to_str(len(LIRE))\n",
    "lire_len"
   ],
   "metadata": {
    "collapsed": false,
    "ExecuteTime": {
     "end_time": "2023-10-11T13:37:08.967310Z",
     "start_time": "2023-10-11T13:37:08.924370Z"
    }
   }
  },
  {
   "cell_type": "code",
   "execution_count": 11,
   "outputs": [
    {
     "data": {
      "text/plain": "'63'"
     },
     "execution_count": 11,
     "metadata": {},
     "output_type": "execute_result"
    }
   ],
   "source": [
    "attr_N = str(LIRE.shape[1])\n",
    "attr_N"
   ],
   "metadata": {
    "collapsed": false,
    "ExecuteTime": {
     "end_time": "2023-10-11T13:37:09.462528Z",
     "start_time": "2023-10-11T13:37:09.429856Z"
    }
   }
  },
  {
   "cell_type": "code",
   "execution_count": 12,
   "outputs": [
    {
     "data": {
      "text/plain": "'59,374'"
     },
     "execution_count": 12,
     "metadata": {},
     "output_type": "execute_result"
    }
   ],
   "source": [
    "both_len = int_to_str(((LIRE[\"EDCS-ID\"].notnull()) & (LIRE[\"EDH-ID\"].notnull())).sum())\n",
    "both_len"
   ],
   "metadata": {
    "collapsed": false,
    "ExecuteTime": {
     "end_time": "2023-10-11T13:37:10.506723Z",
     "start_time": "2023-10-11T13:37:10.463059Z"
    }
   }
  },
  {
   "cell_type": "code",
   "execution_count": 13,
   "outputs": [
    {
     "data": {
      "text/plain": "'121,235'"
     },
     "execution_count": 13,
     "metadata": {},
     "output_type": "execute_result"
    }
   ],
   "source": [
    "edcs_solely_len = int_to_str(LIRE[\"EDH-ID\"].isnull().sum())\n",
    "edcs_solely_len"
   ],
   "metadata": {
    "collapsed": false,
    "ExecuteTime": {
     "end_time": "2023-10-11T13:37:11.318004Z",
     "start_time": "2023-10-11T13:37:11.265117Z"
    }
   }
  },
  {
   "cell_type": "code",
   "execution_count": 14,
   "outputs": [
    {
     "data": {
      "text/plain": "'2,244'"
     },
     "execution_count": 14,
     "metadata": {},
     "output_type": "execute_result"
    }
   ],
   "source": [
    "edh_solely_len = int_to_str(((LIRE[\"EDCS-ID\"].isnull()) & (LIRE[\"EDH-ID\"].notnull())).sum())\n",
    "edh_solely_len"
   ],
   "metadata": {
    "collapsed": false,
    "ExecuteTime": {
     "end_time": "2023-10-11T13:37:11.715193Z",
     "start_time": "2023-10-11T13:37:11.692756Z"
    }
   }
  },
  {
   "cell_type": "code",
   "execution_count": 15,
   "outputs": [
    {
     "data": {
      "text/plain": "'In this version, the dataset consists of 182,853 records and 63 attributes. There are 59,374 inscriptions shared by EDH and EDCS, inheriting attributes from both parent collections. Further, there are 2,244 inscriptions recorded exclusively in EDH and 121,235 inscriptions originating solely from EDCS. In cases in which an inscription is available only in one dataset, it contains attributes only from that one dataset.'"
     },
     "execution_count": 15,
     "metadata": {},
     "output_type": "execute_result"
    }
   ],
   "source": [
    "\"In this version, the dataset consists of {0} records and {1} attributes. There are {2} inscriptions shared by EDH and EDCS, inheriting attributes from both parent collections. Further, there are {3} inscriptions recorded exclusively in EDH and {4} inscriptions originating solely from EDCS. In cases in which an inscription is available only in one dataset, it contains attributes only from that one dataset.\".format(lire_len, attr_N, both_len, edh_solely_len, edcs_solely_len)"
   ],
   "metadata": {
    "collapsed": false,
    "ExecuteTime": {
     "end_time": "2023-10-11T13:37:16.700817Z",
     "start_time": "2023-10-11T13:37:16.654873Z"
    }
   }
  },
  {
   "cell_type": "markdown",
   "source": [
    "# Save the data"
   ],
   "metadata": {
    "collapsed": false
   }
  },
  {
   "cell_type": "code",
   "execution_count": 16,
   "outputs": [],
   "source": [
    "LIRE.to_parquet(\"../data/large_data/LIRE_v3-0.parquet\")"
   ],
   "metadata": {
    "collapsed": false,
    "ExecuteTime": {
     "end_time": "2023-10-11T13:37:40.912390Z",
     "start_time": "2023-10-11T13:37:39.812463Z"
    }
   }
  },
  {
   "cell_type": "code",
   "execution_count": 17,
   "outputs": [
    {
     "name": "stderr",
     "output_type": "stream",
     "text": [
      "/opt/homebrew/Caskroom/miniconda/base/lib/python3.9/site-packages/geopandas/geodataframe.py:1538: SettingWithCopyWarning: \n",
      "A value is trying to be set on a copy of a slice from a DataFrame.\n",
      "Try using .loc[row_indexer,col_indexer] = value instead\n",
      "\n",
      "See the caveats in the documentation: https://pandas.pydata.org/pandas-docs/stable/user_guide/indexing.html#returning-a-view-versus-a-copy\n",
      "  super().__setitem__(key, value)\n"
     ]
    }
   ],
   "source": [
    "LIRE[\"people\"] = LIRE[\"people\"].apply(lambda x: str(x))\n",
    "LIRE.to_file(\"../data/large_data/LIRE_v3-0.geojson\", driver=\"GeoJSON\")"
   ],
   "metadata": {
    "collapsed": false,
    "ExecuteTime": {
     "end_time": "2023-10-11T13:38:51.595769Z",
     "start_time": "2023-10-11T13:37:43.908226Z"
    }
   }
  },
  {
   "cell_type": "code",
   "execution_count": null,
   "outputs": [],
   "source": [],
   "metadata": {
    "collapsed": false
   }
  }
 ],
 "metadata": {
  "kernelspec": {
   "name": "conda_base",
   "language": "python",
   "display_name": "conda_base"
  },
  "language_info": {
   "codemirror_mode": {
    "name": "ipython",
    "version": 2
   },
   "file_extension": ".py",
   "mimetype": "text/x-python",
   "name": "python",
   "nbconvert_exporter": "python",
   "pygments_lexer": "ipython2",
   "version": "2.7.6"
  }
 },
 "nbformat": 4,
 "nbformat_minor": 0
}
