{
 "cells": [
  {
   "cell_type": "code",
   "execution_count": 158,
   "metadata": {},
   "outputs": [],
   "source": [
    "import pandas as pd\n",
    "import numpy as np\n",
    "import nltk\n",
    "import requests\n",
    "import re\n",
    "import json\n",
    "\n",
    "import matplotlib as mpl\n",
    "import matplotlib.pyplot as plt\n",
    "import matplotlib.colors as mcolors\n",
    "tab_colors_list = list(mcolors.TABLEAU_COLORS.keys())\n",
    "import matplotlib.lines as mlines\n",
    "import seaborn as sns\n",
    "\n",
    "import gspread\n",
    "from gspread_dataframe import get_as_dataframe, set_with_dataframe\n",
    "from google.oauth2 import service_account # based on google-auth library\n",
    "\n",
    "import sddk"
   ]
  },
  {
   "cell_type": "code",
   "execution_count": 3,
   "metadata": {},
   "outputs": [
    {
     "name": "stdout",
     "output_type": "stream",
     "text": [
      "sciencedata.dk username (format '123456@au.dk'): 648597@au.dk\n",
      "sciencedata.dk password: ········\n",
      "endpoint variable has been configured to: https://sciencedata.dk/files/\n"
     ]
    }
   ],
   "source": [
    "# to access gsheet, you need Google Service Account key json file\n",
    "# I have mine located in my personal space on sciencedata.dk, so I read it from there:\n",
    "conf = sddk.configure()\n",
    "\n",
    "# (1) read the file and parse its content\n",
    "file_data = conf[0].get(conf[1] + \"ServiceAccountsKey.json\").json()\n",
    "# (2) transform the content into crendentials object\n",
    "credentials = service_account.Credentials.from_service_account_info(file_data)\n",
    "# (3) specify your usage of the credentials\n",
    "scoped_credentials = credentials.with_scopes(['https://spreadsheets.google.com/feeds', 'https://www.googleapis.com/auth/drive'])\n",
    "# (4) use the constrained credentials for authentication of gspread package\n",
    "gc = gspread.Client(auth=scoped_credentials)\n",
    "# (5) establish connection with spreadsheets specified by their url\n",
    "occupations = gc.open_by_url(\"https://docs.google.com/spreadsheets/d/1nONTEwp42CVnq3iCiONrFbJedIcYtBV-l4Bil5mU7Eo/edit?usp=sharing\")"
   ]
  },
  {
   "cell_type": "code",
   "execution_count": 4,
   "metadata": {},
   "outputs": [
    {
     "name": "stdout",
     "output_type": "stream",
     "text": [
      "sciencedata.dk username (format '123456@au.dk'): 648597@au.dk\n",
      "sciencedata.dk password: ········\n",
      "connection with shared folder established with you as its owner\n",
      "endpoint variable has been configured to: https://sciencedata.dk/files/SDAM_root/\n"
     ]
    }
   ],
   "source": [
    "# login to our project folder, owned by my AU account 648597@au.dk, using my account at another institution\n",
    "conf = sddk.configure(\"SDAM_root\", \"648597@au.dk\")"
   ]
  },
  {
   "cell_type": "code",
   "execution_count": 5,
   "metadata": {},
   "outputs": [
    {
     "name": "stdout",
     "output_type": "stream",
     "text": [
      "reading file located in a public folder\n"
     ]
    },
    {
     "data": {
      "text/html": [
       "<div>\n",
       "<style scoped>\n",
       "    .dataframe tbody tr th:only-of-type {\n",
       "        vertical-align: middle;\n",
       "    }\n",
       "\n",
       "    .dataframe tbody tr th {\n",
       "        vertical-align: top;\n",
       "    }\n",
       "\n",
       "    .dataframe thead th {\n",
       "        text-align: right;\n",
       "    }\n",
       "</style>\n",
       "<table border=\"1\" class=\"dataframe\">\n",
       "  <thead>\n",
       "    <tr style=\"text-align: right;\">\n",
       "      <th></th>\n",
       "      <th>responsible_individual</th>\n",
       "      <th>type_of_inscription</th>\n",
       "      <th>letter_size</th>\n",
       "      <th>not_after</th>\n",
       "      <th>literature</th>\n",
       "      <th>work_status</th>\n",
       "      <th>height</th>\n",
       "      <th>diplomatic_text</th>\n",
       "      <th>people</th>\n",
       "      <th>depth</th>\n",
       "      <th>...</th>\n",
       "      <th>clean_text_conservative</th>\n",
       "      <th>clean_text_interpretive_word</th>\n",
       "      <th>clean_text_interpretive_sentence</th>\n",
       "      <th>findspot</th>\n",
       "      <th>year_of_find</th>\n",
       "      <th>present_location</th>\n",
       "      <th>religion</th>\n",
       "      <th>geography</th>\n",
       "      <th>social_economic_legal_history</th>\n",
       "      <th>military</th>\n",
       "    </tr>\n",
       "  </thead>\n",
       "  <tbody>\n",
       "    <tr>\n",
       "      <th>0</th>\n",
       "      <td>Feraudi</td>\n",
       "      <td>epitaph</td>\n",
       "      <td>3.2-2 cm</td>\n",
       "      <td>0130</td>\n",
       "      <td>AE 1983, 0192.; M. Annecchino, Puteoli 4/5, 19...</td>\n",
       "      <td>provisional</td>\n",
       "      <td>33 cm</td>\n",
       "      <td>D M / NONIAE P F OPTATAE / ET C IVLIO ARTEMONI...</td>\n",
       "      <td>[{'name': 'Noniae P.f. Optatae', 'cognomen': '...</td>\n",
       "      <td>2.7 cm</td>\n",
       "      <td>...</td>\n",
       "      <td>D M Noniae P f Optatae et C Iulio Artemoni par...</td>\n",
       "      <td>Dis Manibus Noniae Publi filiae Optatae et Cai...</td>\n",
       "      <td>Dis Manibus Noniae Publi filiae Optatae et Cai...</td>\n",
       "      <td>NaN</td>\n",
       "      <td>NaN</td>\n",
       "      <td>NaN</td>\n",
       "      <td>NaN</td>\n",
       "      <td>NaN</td>\n",
       "      <td>NaN</td>\n",
       "      <td>NaN</td>\n",
       "    </tr>\n",
       "    <tr>\n",
       "      <th>1</th>\n",
       "      <td>Feraudi</td>\n",
       "      <td>epitaph</td>\n",
       "      <td>4 cm</td>\n",
       "      <td>0200</td>\n",
       "      <td>AE 1983, 0080. (A); A. Ferrua, RAL 36, 1981, 1...</td>\n",
       "      <td>no image</td>\n",
       "      <td>28 cm</td>\n",
       "      <td>C SEXTIVS PARIS / QVI VIXIT / ANNIS LXX</td>\n",
       "      <td>[{'nomen': 'Sextius', 'praenomen': 'C.', 'pers...</td>\n",
       "      <td>NaN</td>\n",
       "      <td>...</td>\n",
       "      <td>C Sextius Paris qui vixit annis LXX</td>\n",
       "      <td>Caius Sextius Paris qui vixit annis LXX</td>\n",
       "      <td>Caius Sextius Paris qui vixit annis LXX</td>\n",
       "      <td>Via Nomentana, S. Alessandro, Kirche</td>\n",
       "      <td>1937</td>\n",
       "      <td>NaN</td>\n",
       "      <td>NaN</td>\n",
       "      <td>NaN</td>\n",
       "      <td>NaN</td>\n",
       "      <td>NaN</td>\n",
       "    </tr>\n",
       "    <tr>\n",
       "      <th>2</th>\n",
       "      <td>Feraudi</td>\n",
       "      <td>honorific inscription</td>\n",
       "      <td>4.5-3 cm</td>\n",
       "      <td>0170</td>\n",
       "      <td>AE 1983, 0518. (B); J. González, ZPE 52, 1983,...</td>\n",
       "      <td>provisional</td>\n",
       "      <td>(37) cm</td>\n",
       "      <td>[ ]VMMIO [ ] / [ ]ISENNA[ ] / [ ] XV[ ] / [ ] / [</td>\n",
       "      <td>[{'nomen': 'Mummius+', 'gender': 'male', 'prae...</td>\n",
       "      <td>(12) cm</td>\n",
       "      <td>...</td>\n",
       "      <td>ummio isenna Xv</td>\n",
       "      <td>Publio Mummio Publi filio Galeria Sisennae Rut...</td>\n",
       "      <td>Publio Mummio Publi filio Galeria Sisennae Rut...</td>\n",
       "      <td>NaN</td>\n",
       "      <td>before 1975</td>\n",
       "      <td>Sevilla, Privatbesitz</td>\n",
       "      <td>NaN</td>\n",
       "      <td>NaN</td>\n",
       "      <td>NaN</td>\n",
       "      <td>NaN</td>\n",
       "    </tr>\n",
       "    <tr>\n",
       "      <th>3</th>\n",
       "      <td>Gräf</td>\n",
       "      <td>votive inscription</td>\n",
       "      <td>2.5 cm</td>\n",
       "      <td>0200</td>\n",
       "      <td>AE 1983, 0533. (B); A.U. Stylow, Gerión 1, 198...</td>\n",
       "      <td>checked with photo</td>\n",
       "      <td>(39) cm</td>\n",
       "      <td>[ ]AVS[ ]LLA / M PORCI NIGRI SER / DOMINAE VEN...</td>\n",
       "      <td>[{'name': '[---?]AV(?)S(?)[---]L(?)L(?)A M. Po...</td>\n",
       "      <td>18 cm</td>\n",
       "      <td>...</td>\n",
       "      <td>AVSLLA M Porci Nigri ser dominae Veneri aram p...</td>\n",
       "      <td>AVS LLA Marci Porci Nigri serva dominae Veneri...</td>\n",
       "      <td>AVS LLA Marci Porci Nigri serva dominae Veneri...</td>\n",
       "      <td>NaN</td>\n",
       "      <td>before 1979</td>\n",
       "      <td>Carcabuey, Grupo Escolar</td>\n",
       "      <td>names of pagan deities</td>\n",
       "      <td>NaN</td>\n",
       "      <td>NaN</td>\n",
       "      <td>NaN</td>\n",
       "    </tr>\n",
       "    <tr>\n",
       "      <th>4</th>\n",
       "      <td>Feraudi</td>\n",
       "      <td>epitaph</td>\n",
       "      <td>NaN</td>\n",
       "      <td>0200</td>\n",
       "      <td>AE 1983, 0078. (B); A. Ferrua, RAL 36, 1981, 1...</td>\n",
       "      <td>no image</td>\n",
       "      <td>NaN</td>\n",
       "      <td>[ ] L SVCCESSVS / [ ] L L IRENAEVS / [ ] C L T...</td>\n",
       "      <td>[{'person_id': '1', 'name': '[---]l. Successus...</td>\n",
       "      <td>NaN</td>\n",
       "      <td>...</td>\n",
       "      <td>l Successus L l Irenaeus C l Tyches unt renti f</td>\n",
       "      <td>libertus Successus Luci libertus Irenaeus Cai ...</td>\n",
       "      <td>libertus Successus Luci libertus Irenaeus Cai ...</td>\n",
       "      <td>Via Cupa (ehem. Vigna Nardi)</td>\n",
       "      <td>NaN</td>\n",
       "      <td>NaN</td>\n",
       "      <td>NaN</td>\n",
       "      <td>NaN</td>\n",
       "      <td>NaN</td>\n",
       "      <td>NaN</td>\n",
       "    </tr>\n",
       "  </tbody>\n",
       "</table>\n",
       "<p>5 rows × 74 columns</p>\n",
       "</div>"
      ],
      "text/plain": [
       "  responsible_individual    type_of_inscription letter_size not_after  \\\n",
       "0                Feraudi                epitaph    3.2-2 cm      0130   \n",
       "1                Feraudi                epitaph        4 cm      0200   \n",
       "2                Feraudi  honorific inscription    4.5-3 cm      0170   \n",
       "3                   Gräf     votive inscription      2.5 cm      0200   \n",
       "4                Feraudi                epitaph         NaN      0200   \n",
       "\n",
       "                                          literature         work_status  \\\n",
       "0  AE 1983, 0192.; M. Annecchino, Puteoli 4/5, 19...         provisional   \n",
       "1  AE 1983, 0080. (A); A. Ferrua, RAL 36, 1981, 1...            no image   \n",
       "2  AE 1983, 0518. (B); J. González, ZPE 52, 1983,...         provisional   \n",
       "3  AE 1983, 0533. (B); A.U. Stylow, Gerión 1, 198...  checked with photo   \n",
       "4  AE 1983, 0078. (B); A. Ferrua, RAL 36, 1981, 1...            no image   \n",
       "\n",
       "    height                                    diplomatic_text  \\\n",
       "0    33 cm  D M / NONIAE P F OPTATAE / ET C IVLIO ARTEMONI...   \n",
       "1    28 cm            C SEXTIVS PARIS / QVI VIXIT / ANNIS LXX   \n",
       "2  (37) cm  [ ]VMMIO [ ] / [ ]ISENNA[ ] / [ ] XV[ ] / [ ] / [   \n",
       "3  (39) cm  [ ]AVS[ ]LLA / M PORCI NIGRI SER / DOMINAE VEN...   \n",
       "4      NaN  [ ] L SVCCESSVS / [ ] L L IRENAEVS / [ ] C L T...   \n",
       "\n",
       "                                              people    depth  ...  \\\n",
       "0  [{'name': 'Noniae P.f. Optatae', 'cognomen': '...   2.7 cm  ...   \n",
       "1  [{'nomen': 'Sextius', 'praenomen': 'C.', 'pers...      NaN  ...   \n",
       "2  [{'nomen': 'Mummius+', 'gender': 'male', 'prae...  (12) cm  ...   \n",
       "3  [{'name': '[---?]AV(?)S(?)[---]L(?)L(?)A M. Po...    18 cm  ...   \n",
       "4  [{'person_id': '1', 'name': '[---]l. Successus...      NaN  ...   \n",
       "\n",
       "                             clean_text_conservative  \\\n",
       "0  D M Noniae P f Optatae et C Iulio Artemoni par...   \n",
       "1                C Sextius Paris qui vixit annis LXX   \n",
       "2                                    ummio isenna Xv   \n",
       "3  AVSLLA M Porci Nigri ser dominae Veneri aram p...   \n",
       "4    l Successus L l Irenaeus C l Tyches unt renti f   \n",
       "\n",
       "                        clean_text_interpretive_word  \\\n",
       "0  Dis Manibus Noniae Publi filiae Optatae et Cai...   \n",
       "1            Caius Sextius Paris qui vixit annis LXX   \n",
       "2  Publio Mummio Publi filio Galeria Sisennae Rut...   \n",
       "3  AVS LLA Marci Porci Nigri serva dominae Veneri...   \n",
       "4  libertus Successus Luci libertus Irenaeus Cai ...   \n",
       "\n",
       "                    clean_text_interpretive_sentence  \\\n",
       "0  Dis Manibus Noniae Publi filiae Optatae et Cai...   \n",
       "1            Caius Sextius Paris qui vixit annis LXX   \n",
       "2  Publio Mummio Publi filio Galeria Sisennae Rut...   \n",
       "3  AVS LLA Marci Porci Nigri serva dominae Veneri...   \n",
       "4  libertus Successus Luci libertus Irenaeus Cai ...   \n",
       "\n",
       "                               findspot year_of_find  \\\n",
       "0                                   NaN          NaN   \n",
       "1  Via Nomentana, S. Alessandro, Kirche         1937   \n",
       "2                                   NaN  before 1975   \n",
       "3                                   NaN  before 1979   \n",
       "4          Via Cupa (ehem. Vigna Nardi)          NaN   \n",
       "\n",
       "           present_location                religion geography  \\\n",
       "0                       NaN                     NaN       NaN   \n",
       "1                       NaN                     NaN       NaN   \n",
       "2     Sevilla, Privatbesitz                     NaN       NaN   \n",
       "3  Carcabuey, Grupo Escolar  names of pagan deities       NaN   \n",
       "4                       NaN                     NaN       NaN   \n",
       "\n",
       "  social_economic_legal_history military  \n",
       "0                           NaN      NaN  \n",
       "1                           NaN      NaN  \n",
       "2                           NaN      NaN  \n",
       "3                           NaN      NaN  \n",
       "4                           NaN      NaN  \n",
       "\n",
       "[5 rows x 74 columns]"
      ]
     },
     "execution_count": 5,
     "metadata": {},
     "output_type": "execute_result"
    }
   ],
   "source": [
    "# read edh dataset\n",
    "publicfolder = \"b6b6afdb969d378b70929e86e58ad975\"\n",
    "EDH = sddk.read_file(\"EDH_text_cleaned_2021-01-21.json\", \"df\", publicfolder)\n",
    "EDH.head(5)"
   ]
  },
  {
   "cell_type": "code",
   "execution_count": 41,
   "metadata": {},
   "outputs": [
    {
     "name": "stdout",
     "output_type": "stream",
     "text": [
      "reading file located in a public folder\n"
     ]
    },
    {
     "data": {
      "text/html": [
       "<div>\n",
       "<style scoped>\n",
       "    .dataframe tbody tr th:only-of-type {\n",
       "        vertical-align: middle;\n",
       "    }\n",
       "\n",
       "    .dataframe tbody tr th {\n",
       "        vertical-align: top;\n",
       "    }\n",
       "\n",
       "    .dataframe thead th {\n",
       "        text-align: right;\n",
       "    }\n",
       "</style>\n",
       "<table border=\"1\" class=\"dataframe\">\n",
       "  <thead>\n",
       "    <tr style=\"text-align: right;\">\n",
       "      <th></th>\n",
       "      <th>EDCS-ID</th>\n",
       "      <th>publication</th>\n",
       "      <th>province</th>\n",
       "      <th>place</th>\n",
       "      <th>notes_dating</th>\n",
       "      <th>notes_references</th>\n",
       "      <th>notes_comments</th>\n",
       "      <th>inscription</th>\n",
       "      <th>inscription_stripped14</th>\n",
       "      <th>clean_text_interpretive_word</th>\n",
       "      <th>Links</th>\n",
       "      <th>language</th>\n",
       "      <th>dating from</th>\n",
       "      <th>dating to</th>\n",
       "      <th>status</th>\n",
       "      <th>Latitude</th>\n",
       "      <th>Longitude</th>\n",
       "      <th>photo</th>\n",
       "      <th>Material</th>\n",
       "      <th>Comment</th>\n",
       "    </tr>\n",
       "  </thead>\n",
       "  <tbody>\n",
       "    <tr>\n",
       "      <th>0</th>\n",
       "      <td>EDCS-31400030</td>\n",
       "      <td>CIL 03, 12297</td>\n",
       "      <td>Achaia</td>\n",
       "      <td>?</td>\n",
       "      <td></td>\n",
       "      <td></td>\n",
       "      <td></td>\n",
       "      <td>Leius</td>\n",
       "      <td>Leius</td>\n",
       "      <td>Leius</td>\n",
       "      <td>NaN</td>\n",
       "      <td>NaN</td>\n",
       "      <td>NaN</td>\n",
       "      <td>NaN</td>\n",
       "      <td>NaN</td>\n",
       "      <td>NaN</td>\n",
       "      <td>NaN</td>\n",
       "      <td>NaN</td>\n",
       "      <td>NaN</td>\n",
       "      <td>NaN</td>\n",
       "    </tr>\n",
       "    <tr>\n",
       "      <th>1</th>\n",
       "      <td>EDCS-24700151</td>\n",
       "      <td>CIL 01, 02650 (p 1097) = IG-05-01, 00741 = ILL...</td>\n",
       "      <td>Achaia</td>\n",
       "      <td>Afesou</td>\n",
       "      <td></td>\n",
       "      <td></td>\n",
       "      <td></td>\n",
       "      <td>// D(ecimi) Leivei D(ecimi) Leivei salve</td>\n",
       "      <td>// D(ecimi) Leivei D(ecimi) Leivei salve</td>\n",
       "      <td>Decimi Leivei Decimi Leivei salve</td>\n",
       "      <td>http://db.edcs.eu/epigr/partner.php?s_language...</td>\n",
       "      <td>GR</td>\n",
       "      <td>NaN</td>\n",
       "      <td>NaN</td>\n",
       "      <td>NaN</td>\n",
       "      <td>NaN</td>\n",
       "      <td>NaN</td>\n",
       "      <td>NaN</td>\n",
       "      <td>NaN</td>\n",
       "      <td>NaN</td>\n",
       "    </tr>\n",
       "    <tr>\n",
       "      <th>2</th>\n",
       "      <td>EDCS-24900077</td>\n",
       "      <td>CIL 01, 00746 (p 944) = D 00867 = ILLRP 00374 ...</td>\n",
       "      <td>Achaia</td>\n",
       "      <td>Agia Triada / Merbaka / Midea</td>\n",
       "      <td></td>\n",
       "      <td></td>\n",
       "      <td></td>\n",
       "      <td>Q(uinto) Caecilio C(ai) f(ilio) Metel(l)o / im...</td>\n",
       "      <td>Q(uinto) Caecilio C(ai) f(ilio) Metel(l)o / im...</td>\n",
       "      <td>Quinto Caecilio Cai filio Metello imperatori I...</td>\n",
       "      <td>http://db.edcs.eu/epigr/partner.php?s_language...</td>\n",
       "      <td>NaN</td>\n",
       "      <td>-68</td>\n",
       "      <td>-68</td>\n",
       "      <td>officium/professio; ordo senatorius; tituli ho...</td>\n",
       "      <td>37.6381128</td>\n",
       "      <td>22.8052991</td>\n",
       "      <td>http://db.edcs.eu/epigr/bilder.php?bilder.php?...</td>\n",
       "      <td>NaN</td>\n",
       "      <td>NaN</td>\n",
       "    </tr>\n",
       "    <tr>\n",
       "      <th>3</th>\n",
       "      <td>EDCS-03700724</td>\n",
       "      <td>ZPE-108-159 = Thesprotia 00001 = AE 1993, 0140...</td>\n",
       "      <td>Achaia</td>\n",
       "      <td>Agios Athanasios / Photike</td>\n",
       "      <td></td>\n",
       "      <td></td>\n",
       "      <td></td>\n",
       "      <td>Fortissimo et Piis/simo Caesari d(omino) n(ost...</td>\n",
       "      <td>Fortissimo et Piis/simo Caesari d(omino) n(ost...</td>\n",
       "      <td>Fortissimo et Piissimo Caesari domino nostro G...</td>\n",
       "      <td>http://db.edcs.eu/epigr/partner.php?s_language...</td>\n",
       "      <td>NaN</td>\n",
       "      <td>309</td>\n",
       "      <td>313</td>\n",
       "      <td>Augusti/Augustae; litterae erasae; ordo equest...</td>\n",
       "      <td>39.4512182</td>\n",
       "      <td>20.7667673</td>\n",
       "      <td>http://db.edcs.eu/epigr/bilder.php?bilder.php?...</td>\n",
       "      <td>NaN</td>\n",
       "      <td>NaN</td>\n",
       "    </tr>\n",
       "    <tr>\n",
       "      <th>4</th>\n",
       "      <td>EDCS-55701593</td>\n",
       "      <td>AE 2009, 01286a</td>\n",
       "      <td>Achaia</td>\n",
       "      <td>Agios Donatos / Photike</td>\n",
       "      <td></td>\n",
       "      <td></td>\n",
       "      <td></td>\n",
       "      <td>Cn(aeus) Atei(us)</td>\n",
       "      <td>Cn(aeus) Atei(us)</td>\n",
       "      <td>Cnaeus Ateius</td>\n",
       "      <td>NaN</td>\n",
       "      <td>NaN</td>\n",
       "      <td>NaN</td>\n",
       "      <td>NaN</td>\n",
       "      <td>sigilla impressa; tituli fabricationis</td>\n",
       "      <td>39.4759759</td>\n",
       "      <td>20.5069076</td>\n",
       "      <td>NaN</td>\n",
       "      <td>opus figlinae</td>\n",
       "      <td>NaN</td>\n",
       "    </tr>\n",
       "  </tbody>\n",
       "</table>\n",
       "</div>"
      ],
      "text/plain": [
       "         EDCS-ID                                        publication province  \\\n",
       "0  EDCS-31400030                                      CIL 03, 12297   Achaia   \n",
       "1  EDCS-24700151  CIL 01, 02650 (p 1097) = IG-05-01, 00741 = ILL...   Achaia   \n",
       "2  EDCS-24900077  CIL 01, 00746 (p 944) = D 00867 = ILLRP 00374 ...   Achaia   \n",
       "3  EDCS-03700724  ZPE-108-159 = Thesprotia 00001 = AE 1993, 0140...   Achaia   \n",
       "4  EDCS-55701593                                    AE 2009, 01286a   Achaia   \n",
       "\n",
       "                           place notes_dating notes_references notes_comments  \\\n",
       "0                              ?                                                \n",
       "1                         Afesou                                                \n",
       "2  Agia Triada / Merbaka / Midea                                                \n",
       "3     Agios Athanasios / Photike                                                \n",
       "4        Agios Donatos / Photike                                                \n",
       "\n",
       "                                         inscription  \\\n",
       "0                                              Leius   \n",
       "1           // D(ecimi) Leivei D(ecimi) Leivei salve   \n",
       "2  Q(uinto) Caecilio C(ai) f(ilio) Metel(l)o / im...   \n",
       "3  Fortissimo et Piis/simo Caesari d(omino) n(ost...   \n",
       "4                                  Cn(aeus) Atei(us)   \n",
       "\n",
       "                              inscription_stripped14  \\\n",
       "0                                              Leius   \n",
       "1           // D(ecimi) Leivei D(ecimi) Leivei salve   \n",
       "2  Q(uinto) Caecilio C(ai) f(ilio) Metel(l)o / im...   \n",
       "3  Fortissimo et Piis/simo Caesari d(omino) n(ost...   \n",
       "4                                  Cn(aeus) Atei(us)   \n",
       "\n",
       "                        clean_text_interpretive_word  \\\n",
       "0                                              Leius   \n",
       "1                  Decimi Leivei Decimi Leivei salve   \n",
       "2  Quinto Caecilio Cai filio Metello imperatori I...   \n",
       "3  Fortissimo et Piissimo Caesari domino nostro G...   \n",
       "4                                      Cnaeus Ateius   \n",
       "\n",
       "                                               Links language dating from  \\\n",
       "0                                                NaN      NaN         NaN   \n",
       "1  http://db.edcs.eu/epigr/partner.php?s_language...       GR         NaN   \n",
       "2  http://db.edcs.eu/epigr/partner.php?s_language...      NaN         -68   \n",
       "3  http://db.edcs.eu/epigr/partner.php?s_language...      NaN         309   \n",
       "4                                                NaN      NaN         NaN   \n",
       "\n",
       "  dating to                                             status    Latitude  \\\n",
       "0       NaN                                                NaN         NaN   \n",
       "1       NaN                                                NaN         NaN   \n",
       "2       -68  officium/professio; ordo senatorius; tituli ho...  37.6381128   \n",
       "3       313  Augusti/Augustae; litterae erasae; ordo equest...  39.4512182   \n",
       "4       NaN             sigilla impressa; tituli fabricationis  39.4759759   \n",
       "\n",
       "    Longitude                                              photo  \\\n",
       "0         NaN                                                NaN   \n",
       "1         NaN                                                NaN   \n",
       "2  22.8052991  http://db.edcs.eu/epigr/bilder.php?bilder.php?...   \n",
       "3  20.7667673  http://db.edcs.eu/epigr/bilder.php?bilder.php?...   \n",
       "4  20.5069076                                                NaN   \n",
       "\n",
       "        Material Comment  \n",
       "0            NaN     NaN  \n",
       "1            NaN     NaN  \n",
       "2            NaN     NaN  \n",
       "3            NaN     NaN  \n",
       "4  opus figlinae     NaN  "
      ]
     },
     "execution_count": 41,
     "metadata": {},
     "output_type": "execute_result"
    }
   ],
   "source": [
    "# read edcs dataset\n",
    "publicfolder = \"1f5f56d09903fe259c0906add8b3a55e\"\n",
    "EDCS = sddk.read_file(\"EDCS_text_cleaned_2021-01-21.json\", \"df\", publicfolder)\n",
    "EDCS.head(5)"
   ]
  },
  {
   "cell_type": "code",
   "execution_count": 6,
   "metadata": {},
   "outputs": [],
   "source": [
    "# read declined occupations\n",
    "with open(\"../data/occups_declined_dict.json\", \"r\") as fp:\n",
    "    occups_declined_dict = json.load(fp)"
   ]
  },
  {
   "cell_type": "code",
   "execution_count": 7,
   "metadata": {},
   "outputs": [
    {
     "data": {
      "text/plain": [
       "['exactor auri argenti et aeris',\n",
       " 'inclusor auri et gemmarum',\n",
       " 'refector pectinarius',\n",
       " 'instructor parietum',\n",
       " 'tribor argentarius',\n",
       " 'carrocarpentarius',\n",
       " 'dactilidiogliphus',\n",
       " 'manceps salinarum',\n",
       " 'manceps thermarum',\n",
       " 'aequator monetae',\n",
       " 'conchyliolegulus',\n",
       " 'orchestopolarius',\n",
       " 'rhypararographus',\n",
       " 'calciamentarius',\n",
       " 'chorographarius',\n",
       " 'diffusor oleari',\n",
       " 'domnicomontanus',\n",
       " 'faber tignuarii',\n",
       " 'medicamentarius',\n",
       " 'panchrestiarius']"
      ]
     },
     "execution_count": 7,
     "metadata": {},
     "output_type": "execute_result"
    }
   ],
   "source": [
    "# check that our occupations are properly arranged (from the longest...)\n",
    "list(occups_declined_dict.keys())[:20]"
   ]
  },
  {
   "cell_type": "markdown",
   "metadata": {},
   "source": [
    "# Function to extract occupations"
   ]
  },
  {
   "cell_type": "code",
   "execution_count": 8,
   "metadata": {},
   "outputs": [],
   "source": [
    "def extract_occup_v1(inscription_text):\n",
    "    occups_found = []\n",
    "    for occup in occups_declined_dict.keys():\n",
    "        for occup_morph in occups_declined_dict[occup]:\n",
    "            try:\n",
    "                occup_morph_N = inscription_text.lower().count(occup_morph)\n",
    "                if occup_morph_N > 0:\n",
    "                    occups_found.extend([occup] * occup_morph_N)\n",
    "                    inscription_text = inscription_text.replace(occup_morph, \"\")\n",
    "                \n",
    "            except: pass\n",
    "    return occups_found"
   ]
  },
  {
   "cell_type": "code",
   "execution_count": 30,
   "metadata": {},
   "outputs": [],
   "source": [
    "def extract_occup(inscription_text):\n",
    "    occups_found = []\n",
    "    try:\n",
    "        inscription_text = inscription_text.lower()\n",
    "    except:\n",
    "        inscription_text = \"\"\n",
    "    for occup in occups_declined_dict.keys():\n",
    "        for occup_morph in occups_declined_dict[occup]:\n",
    "            try:\n",
    "                if occup_morph in inscription_text: # first check it this way, otherwise skip\n",
    "                    occup_morph_N = len(re.findall(\"(\\W|^)\" + occup_morph + \"(\\W|$)\", inscription_text))\n",
    "                    occups_found.extend([occup] * occup_morph_N)\n",
    "                    inscription_text = inscription_text.replace(occup_morph, \"\")\n",
    "            except: pass\n",
    "    return occups_found"
   ]
  },
  {
   "cell_type": "code",
   "execution_count": 39,
   "metadata": {},
   "outputs": [
    {
     "data": {
      "text/plain": [
       "['lotorus']"
      ]
     },
     "execution_count": 39,
     "metadata": {},
     "output_type": "execute_result"
    }
   ],
   "source": [
    "extract_occup(\"fdfsdf. Lotori,\")"
   ]
  },
  {
   "cell_type": "markdown",
   "metadata": {},
   "source": [
    "# Test on a sample"
   ]
  },
  {
   "cell_type": "code",
   "execution_count": 22,
   "metadata": {},
   "outputs": [
    {
     "data": {
      "text/plain": [
       "1000"
      ]
     },
     "execution_count": 22,
     "metadata": {},
     "output_type": "execute_result"
    }
   ],
   "source": [
    "# sample for testing\n",
    "EDH_sample = EDH[:1000]\n",
    "len(EDH_sample)"
   ]
  },
  {
   "cell_type": "code",
   "execution_count": 23,
   "metadata": {},
   "outputs": [
    {
     "name": "stdout",
     "output_type": "stream",
     "text": [
      "CPU times: user 810 ms, sys: 0 ns, total: 810 ms\n",
      "Wall time: 808 ms\n"
     ]
    },
    {
     "name": "stderr",
     "output_type": "stream",
     "text": [
      "/home/kasev/.local/lib/python3.6/site-packages/ipykernel_launcher.py:1: SettingWithCopyWarning:\n",
      "\n",
      "\n",
      "A value is trying to be set on a copy of a slice from a DataFrame.\n",
      "Try using .loc[row_indexer,col_indexer] = value instead\n",
      "\n",
      "See the caveats in the documentation: https://pandas.pydata.org/pandas-docs/stable/user_guide/indexing.html#returning-a-view-versus-a-copy\n",
      "\n"
     ]
    },
    {
     "data": {
      "text/plain": [
       "91"
      ]
     },
     "execution_count": 23,
     "metadata": {},
     "output_type": "execute_result"
    }
   ],
   "source": [
    "%%time\n",
    "EDH_sample[\"occups\"] = EDH_sample[\"clean_text_interpretive_word\"].apply(extract_occup)\n",
    "EDH_occups_list = [el for sublist in EDH_sample[\"occups\"].tolist() for el in sublist]\n",
    "len(EDH_occups_list) \n",
    "# v1: 3.03s, 946 found\n",
    "# once we remove after first match, then only 636\n",
    "# but once we are sensitive to repeated occurences, we get 742\n",
    "# when looking for within a lower case inscription, the number increases to 902"
   ]
  },
  {
   "cell_type": "code",
   "execution_count": 24,
   "metadata": {},
   "outputs": [
    {
     "name": "stderr",
     "output_type": "stream",
     "text": [
      "/home/kasev/.local/lib/python3.6/site-packages/ipykernel_launcher.py:1: SettingWithCopyWarning:\n",
      "\n",
      "\n",
      "A value is trying to be set on a copy of a slice from a DataFrame.\n",
      "Try using .loc[row_indexer,col_indexer] = value instead\n",
      "\n",
      "See the caveats in the documentation: https://pandas.pydata.org/pandas-docs/stable/user_guide/indexing.html#returning-a-view-versus-a-copy\n",
      "\n"
     ]
    }
   ],
   "source": [
    "EDH_sample[\"occups_N\"] = EDH_sample[\"occups\"].apply(len)"
   ]
  },
  {
   "cell_type": "code",
   "execution_count": 25,
   "metadata": {},
   "outputs": [
    {
     "data": {
      "text/plain": [
       "60"
      ]
     },
     "execution_count": 25,
     "metadata": {},
     "output_type": "execute_result"
    }
   ],
   "source": [
    "len(EDH_sample[EDH_sample[\"occups_N\"] > 0])"
   ]
  },
  {
   "cell_type": "code",
   "execution_count": 26,
   "metadata": {},
   "outputs": [],
   "source": [
    "# create sample and export it to gsheet\n",
    "EDH_occups_sample = EDH_sample[EDH_sample[\"occups_N\"] > 0][[\"id\", \"clean_text_interpretive_word\", \"occups\"]]\n",
    "set_with_dataframe(occupations.add_worksheet(\"EDH_occups_sample\", 1, 1), EDH_occups_sample)"
   ]
  },
  {
   "cell_type": "markdown",
   "metadata": {},
   "source": [
    "# Application on the whole dataset"
   ]
  },
  {
   "cell_type": "code",
   "execution_count": 35,
   "metadata": {},
   "outputs": [
    {
     "name": "stdout",
     "output_type": "stream",
     "text": [
      "CPU times: user 44.3 s, sys: 7.47 ms, total: 44.3 s\n",
      "Wall time: 44.3 s\n"
     ]
    }
   ],
   "source": [
    "%%time\n",
    "EDH[\"occups\"] = EDH[\"clean_text_interpretive_word\"].apply(extract_occup)"
   ]
  },
  {
   "cell_type": "code",
   "execution_count": 36,
   "metadata": {},
   "outputs": [
    {
     "name": "stdout",
     "output_type": "stream",
     "text": [
      "3218\n",
      "[('curator', 707), ('faber', 407), ('medicus', 244), ('sagittarius', 166), ('negotiator', 108), ('aerarius', 107), ('pollio', 78), ('scriba', 72), ('tesserarius', 68), ('agricola', 67), ('vexillarius', 61), ('mercator', 45), ('argentarius', 42), ('mensor', 41), ('gladiator', 30), ('cerdo', 28), ('cornicen', 28), ('arcarius', 26), ('architectus', 23), ('dendrophorus', 20), ('tignarius', 18), ('possessor', 18), ('lapidarius', 17), ('vestiarius', 15), ('venator', 14), ('artifex', 13), ('coactor', 12), ('sutor', 12), ('scaenicus', 12), ('salarius', 12)]\n"
     ]
    }
   ],
   "source": [
    "EDH_occups_list = [el for sublist in EDH[\"occups\"].tolist() for el in sublist]\n",
    "print(len(EDH_occups_list))\n",
    "print(nltk.FreqDist(EDH_occups_list).most_common(30))"
   ]
  },
  {
   "cell_type": "markdown",
   "metadata": {},
   "source": [
    "first results (for comparison):\n",
    "\n",
    "```[('curator', 2833), ('ustor', 2092), ('plastes', 1076), ('psaltes', 866), ('cerdo', 730), ('uctor', 592), ('faber', 458), ('promus', 320), ('sagittarius', 236), ('erarius', 217), ('scriba', 194), ('negotiator', 191), ('medicus', 137), ('tector', 136), ('centonarius', 132), ('emporus', 113), ('gladiator', 112), ('aerarius', 104), ('marmorarienses', 102), ('conditor', 76), ('vexillarius', 74), ('lanius', 72), ('scaenicus', 71), ('tesserarius', 70), ('argentarius', 65), ('mensor', 62), ('scriptor', 61), ('figlus', 56), ('nauta', 53), ('cellio', 52)]```"
   ]
  },
  {
   "cell_type": "code",
   "execution_count": 50,
   "metadata": {},
   "outputs": [],
   "source": [
    "EDH[\"occups_N\"] = EDH[\"occups\"].apply(len)"
   ]
  },
  {
   "cell_type": "code",
   "execution_count": 42,
   "metadata": {},
   "outputs": [
    {
     "name": "stdout",
     "output_type": "stream",
     "text": [
      "CPU times: user 3min 16s, sys: 9.25 ms, total: 3min 16s\n",
      "Wall time: 3min 16s\n"
     ]
    }
   ],
   "source": [
    "%%time\n",
    "EDCS[\"occups\"] = EDCS[\"clean_text_interpretive_word\"].apply(extract_occup)"
   ]
  },
  {
   "cell_type": "code",
   "execution_count": 43,
   "metadata": {},
   "outputs": [
    {
     "name": "stdout",
     "output_type": "stream",
     "text": [
      "11005\n",
      "[('curator', 1928), ('faber', 1149), ('medicus', 669), ('aerarius', 513), ('sagittarius', 358), ('cocus', 283), ('vexillarius', 258), ('pollio', 249), ('negotiator', 234), ('scriba', 213), ('mercator', 212), ('argentarius', 170), ('cerdo', 167), ('mensor', 150), ('agricola', 141), ('figulus', 140), ('tesserarius', 123), ('gladiator', 111), ('vestiarius', 104), ('dendrophorus', 92), ('lanius', 89), ('architectus', 81), ('arcarius', 79), ('possessor', 74), ('fullo', 62), ('pistor', 61), ('salinator', 51), ('vinarius', 50), ('aurifex', 49), ('navicularius', 48)]\n"
     ]
    }
   ],
   "source": [
    "EDCS_occups_list = [el for sublist in EDCS[\"occups\"].tolist() for el in sublist]\n",
    "print(len(EDCS_occups_list))\n",
    "print(nltk.FreqDist(EDCS_occups_list).most_common(30))"
   ]
  },
  {
   "cell_type": "markdown",
   "metadata": {},
   "source": [
    "previous version\n",
    "```40509\n",
    "[('plastes', 5934), ('curator', 4368), ('figlus', 4251), ('cerdo', 2905), ('ustor', 2863), ('psaltes', 2205), ('faber', 2162), ('pollio', 907), ('medicus', 723), ('uctor', 671), ('scriba', 558), ('mercator', 546), ('aerarius', 517), ('promus', 485), ('cocus', 437), ('figulus', 419), ('sagittarius', 376), ('marmorarienses', 360), ('lanius', 334), ('emporus', 316), ('agricola', 310), ('fullo', 279), ('vexillarius', 273), ('gladiator', 248), ('restio', 246), ('aedifex', 245), ('negotiator', 244), ('vitor', 242), ('tector', 230), ('centonarius', 220)]\n",
    "```"
   ]
  },
  {
   "cell_type": "code",
   "execution_count": 60,
   "metadata": {},
   "outputs": [],
   "source": [
    "EDCS[\"occups_N\"] = EDCS[\"occups\"].apply(len)"
   ]
  },
  {
   "cell_type": "markdown",
   "metadata": {},
   "source": [
    "# Occupations - overview"
   ]
  },
  {
   "cell_type": "code",
   "execution_count": 87,
   "metadata": {},
   "outputs": [
    {
     "name": "stdout",
     "output_type": "stream",
     "text": [
      "EDH - number of occupation occurances: 3218\n",
      "EDH - number of inscriptions with at least one occupation mentioned: 2670\n",
      "EDH - number of dated inscriptions with at least one occupation mentioned: 1744\n",
      "EDH - number of occupation occurances in dated inscriptions: 2099\n"
     ]
    }
   ],
   "source": [
    "print(\"EDH - number of occupation occurances: \" + str(EDH[\"occups_N\"].sum()))\n",
    "print(\"EDH - number of inscriptions with at least one occupation mentioned: \" + str(len(EDH[EDH[\"occups_N\"] > 0])))\n",
    "print(\"EDH - number of dated inscriptions with at least one occupation mentioned: \"+ str(len(EDH[(EDH[\"not_before\"].notnull()) & (EDH[\"occups_N\"] > 0)])))\n",
    "print(\"EDH - number of occupation occurances in dated inscriptions: \" + str(EDH[EDH[\"not_before\"].notnull()][\"occups_N\"].sum()))"
   ]
  },
  {
   "cell_type": "code",
   "execution_count": 88,
   "metadata": {},
   "outputs": [
    {
     "name": "stdout",
     "output_type": "stream",
     "text": [
      "EDCS - number of occupation occurances: 11005\n",
      "EDCS - number of inscriptions with at least one occupation mentioned: 9094\n",
      "EDCS - number of dated inscriptions with at least one occupation mentioned: 5257\n",
      "EDCS - number of occupation occurances in dated inscriptions: 6545\n"
     ]
    }
   ],
   "source": [
    "print(\"EDCS - number of occupation occurances: \" + str(EDCS[\"occups_N\"].sum()))\n",
    "print(\"EDCS - number of inscriptions with at least one occupation mentioned: \" + str(len(EDCS[EDCS[\"occups_N\"] > 0])))\n",
    "print(\"EDCS - number of dated inscriptions with at least one occupation mentioned: \"+ str(len(EDCS[(EDCS[\"dating to\"].notnull()) & (EDCS[\"occups_N\"] > 0)])))\n",
    "print(\"EDCS - number of occupation occurances in dated inscriptions: \" + str(EDCS[EDCS[\"dating to\"].notnull()][\"occups_N\"].sum()))"
   ]
  },
  {
   "cell_type": "markdown",
   "metadata": {},
   "source": [
    "# Occupations over centuries"
   ]
  },
  {
   "cell_type": "code",
   "execution_count": 89,
   "metadata": {},
   "outputs": [],
   "source": [
    "# read and execute our script for modelling dates\n",
    "script_url = \"https://raw.githubusercontent.com/sdam-au/modelling_temporal_uncertainty/master/scripts/modelling_distributions.py\"\n",
    "# execute the script\n",
    "exec(requests.get(script_url).content)"
   ]
  },
  {
   "cell_type": "code",
   "execution_count": 91,
   "metadata": {},
   "outputs": [
    {
     "name": "stdout",
     "output_type": "stream",
     "text": [
      "CPU times: user 29.9 s, sys: 515 ms, total: 30.5 s\n",
      "Wall time: 30.5 s\n"
     ]
    }
   ],
   "source": [
    "%%time\n",
    "# generate a list of 1000 random dates for each inscription in the dataset\n",
    "# takes approx. 90 seconds in Google colab\n",
    "EDH[\"random_dates\"] = EDH.apply(lambda row: model_date(row[\"not_before\"], row[\"not_after\"], size=1000,), axis=1)\n",
    "# EDCS[\"random_dates\"] = EDCS.apply(lambda row: model_date(row[\"dating from\"], row[\"dating to\"], size=1000,), axis=1)"
   ]
  },
  {
   "cell_type": "code",
   "execution_count": 155,
   "metadata": {},
   "outputs": [
    {
     "name": "stdout",
     "output_type": "stream",
     "text": [
      "CPU times: user 32.7 s, sys: 57.4 ms, total: 32.8 s\n",
      "Wall time: 32.8 s\n"
     ]
    },
    {
     "data": {
      "text/plain": [
       "[((-200, -101), 116),\n",
       " ((-100, -1), 1292),\n",
       " ((1, 100), 11673),\n",
       " ((101, 200), 23455),\n",
       " ((201, 300), 17660),\n",
       " ((301, 400), 3019),\n",
       " ((401, 500), 1392),\n",
       " ((501, 600), 821)]"
      ]
     },
     "execution_count": 155,
     "metadata": {},
     "output_type": "execute_result"
    }
   ],
   "source": [
    "%%time\n",
    "EDH_complete_simulations = timeblocks_from_randoms(EDH, \"random_dates\", [-200, 600, 100])\n",
    "# look at the first one\n",
    "EDH_complete_simulations[0]"
   ]
  },
  {
   "cell_type": "code",
   "execution_count": 139,
   "metadata": {},
   "outputs": [],
   "source": [
    "def get_date_from_randoms(value, n):\n",
    "    try:\n",
    "        return value[n]\n",
    "    except:\n",
    "        return None\n",
    "\n",
    "def sim_data(df, n_sims, metrics_function, *args):\n",
    "    complete_sim_data = []\n",
    "    for n in range(n_sims):\n",
    "        sim = df[\"random_dates\"].apply(lambda x: get_date_from_randoms(x, n))\n",
    "        sim_data = []\n",
    "        for tb in get_timeblocks(-200, 600, 100):\n",
    "            mask = sim.between(tb[0], tb[1])\n",
    "            df_tb = df[mask]\n",
    "            function_output = metrics_function(df_tb, *args)\n",
    "            sim_data.append((tb, function_output))\n",
    "        complete_sim_data.append(sim_data)\n",
    "    return complete_sim_data"
   ]
  },
  {
   "cell_type": "code",
   "execution_count": 122,
   "metadata": {},
   "outputs": [
    {
     "data": {
      "text/plain": [
       "267"
      ]
     },
     "execution_count": 122,
     "metadata": {},
     "output_type": "execute_result"
    }
   ],
   "source": [
    "len(set([el for sublist in EDH[\"occups\"].tolist() for el in sublist]))"
   ]
  },
  {
   "cell_type": "code",
   "execution_count": 149,
   "metadata": {},
   "outputs": [],
   "source": [
    "# various metrics on the level of timeblocks\n",
    "def occups_count(timeblock_df):\n",
    "    return timeblock_df[\"occups_N\"].sum()\n",
    "\n",
    "def occups_inscriptions_ratio(timeblock_df):\n",
    "    occups_N_sum = len(timeblock_df[timeblock_df[\"occups_N\"] > 0])\n",
    "    return occups_N_sum / len(timeblock_df)\n",
    "\n",
    "# various metrics on the level of timeblocks\n",
    "def occups_cumulTF(timeblock_df):\n",
    "    occups_N_sum = timeblock_df[\"occups_N\"].sum()\n",
    "    wordcount = timeblock_df[\"clean_text_interpretive_word\"].apply(lambda x: len(str(x).split())).sum()\n",
    "    return occups_N_sum / wordcount\n",
    "\n",
    "# various metrics on the level of timeblocks\n",
    "def unique_occups_ratio(timeblock_df):\n",
    "    unique_occups = len(set([el for sublist in timeblock_df[\"occups\"].tolist() for el in sublist]))\n",
    "    inscriptions_list = timeblock_df[\"clean_text_interpretive_word\"].astype(str).tolist()\n",
    "    unique_words = len(set(\" \".join(inscriptions_list).split()))\n",
    "    return unique_occups / unique_words"
   ]
  },
  {
   "cell_type": "code",
   "execution_count": 166,
   "metadata": {},
   "outputs": [
    {
     "data": {
      "text/plain": [
       "[((-200, -101), 116),\n",
       " ((-100, -1), 1292),\n",
       " ((1, 100), 11673),\n",
       " ((101, 200), 23455),\n",
       " ((201, 300), 17660),\n",
       " ((301, 400), 3019),\n",
       " ((401, 500), 1392),\n",
       " ((501, 600), 821)]"
      ]
     },
     "execution_count": 166,
     "metadata": {},
     "output_type": "execute_result"
    }
   ],
   "source": [
    "EDH_complete_simulations[0]"
   ]
  },
  {
   "cell_type": "code",
   "execution_count": 147,
   "metadata": {},
   "outputs": [
    {
     "data": {
      "text/plain": [
       "[((-200, -101), 4),\n",
       " ((-100, -1), 68),\n",
       " ((1, 100), 402),\n",
       " ((101, 200), 847),\n",
       " ((201, 300), 651),\n",
       " ((301, 400), 94),\n",
       " ((401, 500), 19),\n",
       " ((501, 600), 7)]"
      ]
     },
     "execution_count": 147,
     "metadata": {},
     "output_type": "execute_result"
    }
   ],
   "source": [
    "counts_data = sim_data(EDH, 100, occups_count) \n",
    "counts_data[0]"
   ]
  },
  {
   "cell_type": "code",
   "execution_count": 167,
   "metadata": {},
   "outputs": [
    {
     "data": {
      "text/plain": [
       "0.05263157894736842"
      ]
     },
     "execution_count": 167,
     "metadata": {},
     "output_type": "execute_result"
    }
   ],
   "source": [
    "68 / 1292"
   ]
  },
  {
   "cell_type": "code",
   "execution_count": 168,
   "metadata": {},
   "outputs": [
    {
     "data": {
      "text/plain": [
       "0.036111703261564695"
      ]
     },
     "execution_count": 168,
     "metadata": {},
     "output_type": "execute_result"
    }
   ],
   "source": [
    "847 / 23455"
   ]
  },
  {
   "cell_type": "code",
   "execution_count": 150,
   "metadata": {},
   "outputs": [
    {
     "data": {
      "text/plain": [
       "[((-200, -101), 0.02586206896551724),\n",
       " ((-100, -1), 0.039473684210526314),\n",
       " ((1, 100), 0.029384048659299236),\n",
       " ((101, 200), 0.029418034534214453),\n",
       " ((201, 300), 0.03131370328425821),\n",
       " ((301, 400), 0.024511427625041403),\n",
       " ((401, 500), 0.01293103448275862),\n",
       " ((501, 600), 0.008526187576126675)]"
      ]
     },
     "execution_count": 150,
     "metadata": {},
     "output_type": "execute_result"
    }
   ],
   "source": [
    "occups_ins_ratio = sim_data(EDH, 100, occups_inscriptions_ratio)\n",
    "occups_ins_ratio[0]"
   ]
  },
  {
   "cell_type": "code",
   "execution_count": 151,
   "metadata": {},
   "outputs": [
    {
     "data": {
      "text/plain": [
       "[((-200, -101), 0.0008012820512820513),\n",
       " ((-100, -1), 0.0036490474912798496),\n",
       " ((1, 100), 0.0026331302809982316),\n",
       " ((101, 200), 0.0026073251368306993),\n",
       " ((201, 300), 0.002654326021365082),\n",
       " ((301, 400), 0.0021432805873500844),\n",
       " ((401, 500), 0.001307459399944949),\n",
       " ((501, 600), 0.0008117824423054622)]"
      ]
     },
     "execution_count": 151,
     "metadata": {},
     "output_type": "execute_result"
    }
   ],
   "source": [
    "TF_data = sim_data(EDH, 100, occups_cumulTF) \n",
    "TF_data[0]"
   ]
  },
  {
   "cell_type": "code",
   "execution_count": 152,
   "metadata": {},
   "outputs": [
    {
     "data": {
      "text/plain": [
       "[((-200, -101), 0.001271186440677966),\n",
       " ((-100, -1), 0.005125885722900648),\n",
       " ((1, 100), 0.0038144169391250197),\n",
       " ((101, 200), 0.0030951562127986033),\n",
       " ((201, 300), 0.0034229503838356986),\n",
       " ((301, 400), 0.0031847133757961785),\n",
       " ((401, 500), 0.0030680382602418337),\n",
       " ((501, 600), 0.0016047071409467772)]"
      ]
     },
     "execution_count": 152,
     "metadata": {},
     "output_type": "execute_result"
    }
   ],
   "source": [
    "unique_occups = sim_data(EDH, 100, unique_occups_ratio) \n",
    "unique_occups[0]"
   ]
  },
  {
   "cell_type": "code",
   "execution_count": null,
   "metadata": {},
   "outputs": [],
   "source": []
  },
  {
   "cell_type": "code",
   "execution_count": null,
   "metadata": {},
   "outputs": [],
   "source": [
    "simulations_data = [counts_data, occups_ins_ratio, TF_data, unique_occups]"
   ]
  },
  {
   "cell_type": "code",
   "execution_count": 165,
   "metadata": {},
   "outputs": [
    {
     "data": {
      "text/plain": [
       "Text(0.5, 1.0, '(E) EDH - unique occupations/unique words')"
      ]
     },
     "execution_count": 165,
     "metadata": {},
     "output_type": "execute_result"
    },
    {
     "data": {
      "image/png": "[encoded data removed]",
      "text/plain": [
       "<Figure size 864x576 with 6 Axes>"
      ]
     },
     "metadata": {
      "needs_background": "light"
     },
     "output_type": "display_data"
    }
   ],
   "source": [
    "fig, [[ax1, ax2, ax3], [ax4, ax5, ax6]]  = plt.subplots(2, 3, figsize=(12, 8), tight_layout=True)\n",
    "\n",
    "# ax1\n",
    "plot_timeblocks_data(EDH_complete_simulations, ax=ax1, color=\"gray\")\n",
    "ax1.set_xlim(-200, 600)\n",
    "ax1.set_xlabel(\"date\")\n",
    "ax1.set_ylabel(\"count\")\n",
    "ax1.set_title(\"(A) EDH - inscriptions count\")\n",
    "\n",
    "# ax2\n",
    "plot_timeblocks_data(counts_data, ax=ax2, color=\"darkred\")\n",
    "ax2.set_xlim(-200, 600)\n",
    "ax2.set_xlabel(\"date\")\n",
    "ax2.set_ylabel(\"occupation mentions count\")\n",
    "ax2.set_title(\"(B) EDH - occupations count\")\n",
    "      \n",
    "# ax3\n",
    "plot_timeblocks_data(occups_ins_ratio, ax=ax3, color=\"blue\")\n",
    "ax3.set_xlim(-200, 600)\n",
    "ax3.set_xlabel(\"date\")\n",
    "ax3.set_ylabel(\"inscriptions with occupations / inscriptions count ratio\")\n",
    "ax3.set_title(\"(C) EDH - occupations/inscriptions\")\n",
    "      \n",
    "# ax4\n",
    "plot_timeblocks_data(TF_data, ax=ax4, color=\"purple\")\n",
    "ax4.set_xlim(-200, 600)\n",
    "ax4.set_xlabel(\"date\")\n",
    "ax4.set_ylabel(\"occupation mentions / wordcount ratio\")\n",
    "ax4.set_title(\"(D) EDH - occupations/wordcount\")\n",
    "\n",
    "# ax5\n",
    "plot_timeblocks_data(unique_occups, ax=ax5, color=\"green\")\n",
    "ax5.set_xlim(-200, 600)\n",
    "ax5.set_xlabel(\"date\")\n",
    "ax5.set_ylabel(\"unique occupations / unique words ratio\")\n",
    "ax5.set_title(\"(E) EDH - unique occupations/unique words\")\n",
    "\n",
    "# ax6\n",
    "plot_timeblocks_data(unique_occups, ax=ax6, color=\"green\")\n",
    "ax6.set_xlim(-200, 600)\n",
    "ax6.set_xlabel(\"date\")\n",
    "ax6.set_ylabel(\"unique occupations / unique words ratio\")\n",
    "ax6.set_title(\"(E) EDH - unique occupations/unique words\")"
   ]
  },
  {
   "cell_type": "markdown",
   "metadata": {},
   "source": [
    "# Word numbers, character ngrams etc. "
   ]
  },
  {
   "cell_type": "code",
   "execution_count": 171,
   "metadata": {},
   "outputs": [],
   "source": [
    "from nltk import ngrams"
   ]
  },
  {
   "cell_type": "code",
   "execution_count": 176,
   "metadata": {},
   "outputs": [
    {
     "data": {
      "text/plain": [
       "['df f',\n",
       " 'fsdf',\n",
       " 'dsfs',\n",
       " ' vdf',\n",
       " 'df d',\n",
       " 'f fs',\n",
       " 'f ds',\n",
       " ' dsf',\n",
       " 'fs v',\n",
       " 'dfdf',\n",
       " 'sfs ',\n",
       " ' dfd',\n",
       " 's vd',\n",
       " 'fdf ',\n",
       " 'vdf ',\n",
       " 'sdf ',\n",
       " 'f df',\n",
       " ' fsd']"
      ]
     },
     "execution_count": 176,
     "metadata": {},
     "output_type": "execute_result"
    }
   ],
   "source": [
    "list(set([\"\".join(ngram) for ngram in list(ngrams(string, 4))]))"
   ]
  },
  {
   "cell_type": "code",
   "execution_count": 199,
   "metadata": {},
   "outputs": [],
   "source": [
    "def wordcount(timeblock_df):\n",
    "    return timeblock_df[\"clean_text_interpretive_word\"].astype(str).apply(lambda x: len(x.split())).sum()\n",
    "\n",
    "def wordcount_avg(timeblock_df):\n",
    "    return timeblock_df[\"clean_text_interpretive_word\"].astype(str).apply(lambda x: len(x.split())).sum() / len(timeblock_df)\n",
    "\n",
    "def charcount(timeblock_df):\n",
    "    return timeblock_df[\"clean_text_interpretive_word\"].astype(str).apply(lambda x: len(x)).sum()\n",
    "\n",
    "def charcount_avr(timeblock_df):\n",
    "    return timeblock_df[\"clean_text_interpretive_word\"].astype(str).apply(lambda x: len(x)).sum() / len(timeblock_df)\n",
    "\n",
    "def unique_words_weighted(timeblock_df):\n",
    "    wordcount = timeblock_df[\"clean_text_interpretive_word\"].astype(str).apply(lambda x: len(x.split())).sum()\n",
    "    inscriptions_list = timeblock_df[\"clean_text_interpretive_word\"].astype(str).tolist()\n",
    "    unique_words = len(set(\" \".join(inscriptions_list).split()))\n",
    "    return unique_words / wordcount\n",
    "\n",
    "\n",
    "def extrac_ngrams(inscription_text):\n",
    "    char_ngrams = [\"\".join(ngram) for ngram in list(ngrams(str(inscription_text), 4))]\n",
    "    return char_ngrams\n",
    "\n",
    "def unique_ngrams_weighted(timeblock_df):\n",
    "    ngrams_series = timeblock_df[\"clean_text_interpretive_word\"].astype(str).apply(extrac_ngrams)\n",
    "    all_ngrams = [el for sublist in ngrams_series for el in sublist]\n",
    "    all_ngrams_unique = list(set(all_ngrams))\n",
    "    charcount = timeblock_df[\"clean_text_interpretive_word\"].astype(str).apply(lambda x: len(x)).sum()\n",
    "    return len(all_ngrams_unique) / charcount"
   ]
  },
  {
   "cell_type": "code",
   "execution_count": 178,
   "metadata": {},
   "outputs": [
    {
     "data": {
      "text/plain": [
       "[((-200, -101), 4992),\n",
       " ((-100, -1), 18635),\n",
       " ((1, 100), 152670),\n",
       " ((101, 200), 324854),\n",
       " ((201, 300), 245260),\n",
       " ((301, 400), 43858),\n",
       " ((401, 500), 14532),\n",
       " ((501, 600), 8623)]"
      ]
     },
     "execution_count": 178,
     "metadata": {},
     "output_type": "execute_result"
    }
   ],
   "source": [
    "wordcounts_data = sim_data(EDH, 100, wordcount) \n",
    "wordcounts_data[0]"
   ]
  },
  {
   "cell_type": "code",
   "execution_count": 180,
   "metadata": {},
   "outputs": [
    {
     "data": {
      "text/plain": [
       "[((-200, -101), 43.03448275862069),\n",
       " ((-100, -1), 14.423374613003096),\n",
       " ((1, 100), 13.078900025700333),\n",
       " ((101, 200), 13.85009592837348),\n",
       " ((201, 300), 13.88788221970555),\n",
       " ((301, 400), 14.527326929446836),\n",
       " ((401, 500), 10.439655172413794),\n",
       " ((501, 600), 10.503045066991474)]"
      ]
     },
     "execution_count": 180,
     "metadata": {},
     "output_type": "execute_result"
    }
   ],
   "source": [
    "wordcounts_avg_data = sim_data(EDH, 100, wordcount_avg) \n",
    "wordcounts_avg_data[0]"
   ]
  },
  {
   "cell_type": "code",
   "execution_count": 189,
   "metadata": {},
   "outputs": [
    {
     "data": {
      "text/plain": [
       "[((-200, -101), 4992),\n",
       " ((-100, -1), 18635),\n",
       " ((1, 100), 152670),\n",
       " ((101, 200), 324854),\n",
       " ((201, 300), 245260),\n",
       " ((301, 400), 43858),\n",
       " ((401, 500), 14532),\n",
       " ((501, 600), 8623)]"
      ]
     },
     "execution_count": 189,
     "metadata": {},
     "output_type": "execute_result"
    }
   ],
   "source": [
    "charcounts_data = sim_data(EDH, 100, charcount) \n",
    "wordcounts_data[0]"
   ]
  },
  {
   "cell_type": "code",
   "execution_count": null,
   "metadata": {},
   "outputs": [],
   "source": [
    "charcounts_avr_data = sim_data(EDH, 100, unique_ngrams_weighted)\n",
    "charcounts_avr_data[0]"
   ]
  },
  {
   "cell_type": "code",
   "execution_count": null,
   "metadata": {},
   "outputs": [],
   "source": [
    "fig, [[ax1, ax2, ax3], [ax4, ax5, ax6]]  = plt.subplots(2, 3, figsize=(12, 8), tight_layout=True)\n",
    "\n",
    "# ax1\n",
    "plot_timeblocks_data(EDH_complete_simulations, ax=ax1, color=\"gray\")\n",
    "ax1.set_xlim(-200, 600)\n",
    "ax1.set_xlabel(\"date\")\n",
    "ax1.set_ylabel(\"count\")\n",
    "ax1.set_title(\"(A) EDH - inscriptions count\")\n",
    "\n",
    "# ax2\n",
    "plot_timeblocks_data(counts_data, ax=ax2, color=\"darkred\")\n",
    "ax2.set_xlim(-200, 600)\n",
    "ax2.set_xlabel(\"date\")\n",
    "ax2.set_ylabel(\"occupation mentions count\")\n",
    "ax2.set_title(\"(B) EDH - occupations count\")"
   ]
  }
 ],
 "metadata": {
  "colab": {
   "authorship_tag": "ABX9TyOKWnvxv3tTbNERCRAysPtc",
   "include_colab_link": true,
   "name": "WORKING_WITH_CLEANED_TEXTS.ipynb",
   "provenance": []
  },
  "kernelspec": {
   "display_name": "Python 3",
   "language": "python",
   "name": "python3"
  },
  "language_info": {
   "codemirror_mode": {
    "name": "ipython",
    "version": 3
   },
   "file_extension": ".py",
   "mimetype": "text/x-python",
   "name": "python",
   "nbconvert_exporter": "python",
   "pygments_lexer": "ipython3",
   "version": "3.6.9"
  }
 },
 "nbformat": 4,
 "nbformat_minor": 1
}
